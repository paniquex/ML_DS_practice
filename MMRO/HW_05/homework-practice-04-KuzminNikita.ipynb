{
 "cells": [
  {
   "cell_type": "markdown",
   "metadata": {},
   "source": [
    "# Машинное обучение, ММП ВМК МГУ\n",
    "\n",
    "## Практическое задание 4. Разложение ошибки на смещение и разброс. Градиентный бустинг ~~своими руками~~\n",
    "\n",
    "### Общая информация\n",
    "\n",
    "Дата выдачи: 09.12.2019\n",
    "\n",
    "Мягкий дедлайн: 23:59MSK 22.12.2019\n",
    "\n",
    "Жесткий дедлайн: 23:59MSK 29.12.2019\n",
    "\n",
    "### Оценивание и штрафы\n",
    "Каждая из задач имеет определенную «стоимость» (указана в скобках около задачи). Максимально допустимая оценка за работу — 10 баллов.\n",
    "\n",
    "Сдавать задание после указанного срока сдачи нельзя. При выставлении неполного балла за задание в связи с наличием ошибок на усмотрение проверяющего предусмотрена возможность исправить работу на указанных в ответном письме условиях.\n",
    "\n",
    "Задание выполняется самостоятельно. «Похожие» решения считаются плагиатом и все задействованные студенты (в том числе те, у кого списали) не могут получить за него больше 0 баллов (подробнее о плагиате см. на странице курса). Если вы нашли решение какого-то из заданий (или его часть) в открытом источнике, необходимо указать ссылку на этот источник в отдельном блоке в конце вашей работы (скорее всего вы будете не единственным, кто это нашел, поэтому чтобы исключить подозрение в плагиате, необходима ссылка на источник).\n",
    "\n",
    "Неэффективная реализация кода может негативно отразиться на оценке.\n",
    "\n",
    "### Формат сдачи\n",
    "Задания сдаются через систему anytask. Посылка должна содержать:\n",
    "* Ноутбук homework-practice-06-Username.ipynb\n",
    "\n",
    "Username — ваша фамилия и имя на латинице именно в таком порядке\n",
    "\n",
    "### О задании\n",
    "\n",
    "В этом задании вам предстоит воспользоваться возможностями bootstraping для оценки смещения и разброса алгоритмов машинного обучения. Делать мы это будем на данных boston. \n",
    "Также в задании вам будет предложено пообучать готовые модели градиентного бустинга и CatBoost."
   ]
  },
  {
   "cell_type": "markdown",
   "metadata": {},
   "source": [
    "## Часть 1. Bias-Variance Decomposition"
   ]
  },
  {
   "cell_type": "code",
   "execution_count": 1,
   "metadata": {},
   "outputs": [],
   "source": [
    "import numpy as np\n",
    "import pandas as pd\n",
    "from matplotlib import pyplot as plt\n",
    "%matplotlib inline"
   ]
  },
  {
   "cell_type": "code",
   "execution_count": 2,
   "metadata": {},
   "outputs": [],
   "source": [
    "from sklearn.datasets import load_boston"
   ]
  },
  {
   "cell_type": "code",
   "execution_count": 3,
   "metadata": {},
   "outputs": [],
   "source": [
    "boston = load_boston()"
   ]
  },
  {
   "cell_type": "code",
   "execution_count": 4,
   "metadata": {},
   "outputs": [],
   "source": [
    "X = boston[\"data\"]\n",
    "y = boston[\"target\"]"
   ]
  },
  {
   "cell_type": "code",
   "execution_count": 5,
   "metadata": {},
   "outputs": [
    {
     "data": {
      "text/plain": [
       "((506, 13), (506,))"
      ]
     },
     "execution_count": 5,
     "metadata": {},
     "output_type": "execute_result"
    }
   ],
   "source": [
    "X.shape, y.shape"
   ]
  },
  {
   "cell_type": "markdown",
   "metadata": {},
   "source": [
    "### Вычисление bias и variance с помощью бутстрапа\n",
    "На лекции была выведено следующая формула, показывающая, как можно представить ошибку алгоритма регрессии в виде суммы трех компонент:\n",
    "$$\n",
    "L(\\mu) = \n",
    "    \\mathbb{E}_{x, y}\\bigl[\\mathbb{E}_{X}\\bigl[ (y - \\mu(X)(x))^2 \\bigr]\\bigr] = \n",
    "$$\n",
    "$$\n",
    "    \\underbrace{\\mathbb{E}_{x, y}\\bigl[(y - \\mathbb{E}[y|x] )^2\\bigr]}_{\\text{шум}} + \\underbrace{\\mathbb{E}_{x}\\bigl[(\\mathbb{E}_{X}[\\mu(X)(x)] - \\mathbb{E}[y|x] )^2\\bigr]}_{\\text{смещение}} +\n",
    "    \\underbrace{\\mathbb{E}_{x}\\bigl[\\mathbb{E}_{X}\\bigl[(\\mu(X)(x) - \\mathbb{E}_{X}[\\mu(X)(x)] )^2\\bigr]\\bigr]}_{\\text{разброс}},\n",
    "$$\n",
    "* $\\mu(X)$ — алгоритм, обученный по выборке $X = \\{(x_1, y_1), \\dots (x_\\ell, y_\\ell)\\}$;\n",
    "* $\\mu(X)(x)$ — ответ алгоритма, обученного по выборке $X$, на объекте $x$;\n",
    "* $\\mathbb{E}_{X}$ — мат. ожидание по всем возможным выборкам;\n",
    "* $\\mathbb{E}_{X}[\\mu(X)(x)]$ — \"средний\" ответ алгоритма, обученного по всем возможным выборкам $X$, на объекте $x$.\n",
    "    \n",
    "С помощью этой формулы мы можем анализировать свойства алгоритма обучения модели $\\mu$, если зададим вероятностную модель порождения пар $p(x, y)$.\n",
    "\n",
    "В реальных задачах мы, конечно же, не знаем распределение на парах объект - правильный ответ. Однако у нас есть набор семплов из этого распределения (обучающую выборка), и мы можем использовать его, чтобы оценивать математические ожидания. Для оценки мат. ожиданий по выборкам мы будем пользоваться бутстрэпом - методом генерации \"новых\" выборок из одной с помощью выбора объектов с возвращением. Разберем несколько шагов на пути к оценке смещения и разброса.\n",
    "\n",
    "#### Приближенное вычисление интегралов\n",
    "На занятиях мы разбирали примеры аналитического вычисления смещения и разброса нескольких алгоритмов обучения. Для большинства моделей данных и алгоритмов обучения аналитически рассчитать математические ожидания в формулах не удастся. Однако мат. ожидания можно оценивать приближенно. Чтобы оценить математическое ожидание $\\mathbb{E}_{\\bar z} f(\\bar z)$ функции от многомерной случайной величины $\\bar z = (z_1, \\dots, z_d)$, $\\bar z \\sim p(\\bar z)$, можно сгенерировать выборку из распределения $p(\\bar z)$ и усреднить значение функции на элементах этой выборки:\n",
    "$$\\mathbb{E}_{\\bar z} f(z) = \\int f(\\bar z) p(\\bar z) d \\bar z \\approx \\frac 1 m \\sum_{i=1}^m f(\\bar z_i), \\, \\bar z_i \\sim p(\\bar z), i = 1, \\dots, m.$$\n",
    "\n",
    "Например, оценим $\\mathbb{E}_z z^2,$ $z \\sim \\mathcal{N}(\\mu=5, \\sigma=3)$ (из теории вероятностей мы знаем, что\n",
    "$\\mathbb{E}_z z^2 = \\sigma^2 + \\mu^2 = 34$):"
   ]
  },
  {
   "cell_type": "code",
   "execution_count": 6,
   "metadata": {},
   "outputs": [
    {
     "data": {
      "text/plain": [
       "33.96520334950183"
      ]
     },
     "execution_count": 6,
     "metadata": {},
     "output_type": "execute_result"
    }
   ],
   "source": [
    "z = np.random.normal(loc=5, scale=3, size=1000)\n",
    "(z**2).mean()"
   ]
  },
  {
   "cell_type": "markdown",
   "metadata": {},
   "source": [
    "#### Оценивание $\\mathbb{E}_{x, y}$\n",
    "Оценить мат. ожидания по $x$ и по $x, y$, встречающиеся во всех трех компонентах разложения, несложно, потому что у нас есть выборка объектов из распределения данных $p(x, y)$:\n",
    "$$ \\mathbb{E}_{x} f(x) \\approx \\frac 1 N \\sum_{i=1}^N f(x_i), \\quad\n",
    "\\mathbb{E}_{x, y} f(x, y) \\approx \\frac 1 N \\sum_{i=1}^N f(x_i, y_i),$$\n",
    "где $N$ - число объектов в выборке, $\\{(x_i, y_i)\\}_{i=1}^N$ - сама выборка. \n",
    "\n",
    "#### Оценивание $\\mathbb{E}_X$ с помощью бутстрапа\n",
    "Чтобы оценить мат. ожидание по $X$, нам понадобится выборка из выборок:\n",
    "$$\\mathbb{E}_X f(X) \\approx \\frac 1 s \\sum_{j=1}^s f(X_j),$$\n",
    "где $X_j$ - $j$-я выборка. Чтобы их получить, мы можем воспользоваться бутстрапом - методом генерации выборок на основе выбора объектов с возвращением. Чтобы составить одну выборку, будем $N$ раз выбирать индекс объекта $i \\sim \\text{Uniform}(1 \\dots N)$ и добавлять $i$-ю пару (объект, целевая переменная) в выборку. В результате в каждой выборке могут появиться повторяющиеся объекты, а какие-то объекты могут вовсе не войти в некоторые выборки.\n",
    "\n",
    "#### Итоговый алгоритм оценки смещения и разброса алгоритма $a$\n",
    "1. Сгенерировать $s$ выборок $X_j$ методом бутстрапа.\n",
    "1. На каждой выборке $X_j$ обучить алгоритм $a_j$.\n",
    "1. Для каждой выборки $X_j$ определить множество объектов $T_j$, не вошедших в нее (out-of-bag). Вычислить предсказания алгоритма $a_j$ на объектах $T_j$. \n",
    "\n",
    "Поскольку у нас есть только один ответ для каждого объекта, мы будем считать шум равным 0, а $\\mathbb{E}[y|x]$ равным имеющемуся правильному ответу для объекта $x$. \n",
    "\n",
    "Итоговые оценки:\n",
    "* Смещение: для одного объекта - квадрат разности среднего предсказания и правильного ответа. Среднее предсказание берется только по тем алгоритмам $a_j$, для которых этот объект входил в out-of-bag выборку $T_j$. Для получения общего смещения выполнить усреденение смещений по объектам.\n",
    "* Разброс: для одного объекта - выборочная дисперсия предсказаний алгоритмов $a_j$, для которых этот объект входил в out-of-bag выборку $T_j$. Для получения общего разброса выполнить усреденение разбросов по объектам.\n",
    "* Ошибка $L$: усреднить квадраты разностей предсказания и правильного ответа по всем выполненным предсказаниям для всех объектов.\n",
    "\n",
    "В результате должно получиться, что ошибка приблизительно равна сумме смещения и разброса!\n",
    "\n",
    "Алгоритм также вкратце описан по [ссылке](https://web.engr.oregonstate.edu/~tgd/classes/534/slides/part9.pdf) (слайды 19-21).\n",
    "\n",
    "__Задание 1. (3 балла)__\n",
    "\n",
    "Реализуйте описанный алгоритм. Обратите внимание, что если объект не вошел ни в одну из out-of-bag выборок, учитывать его в вычислении итоговых величин не нужно. Как обычно, разрешается использовать только один цикл - по выборкам (от 0 до num_runs-1)."
   ]
  },
  {
   "cell_type": "code",
   "execution_count": 7,
   "metadata": {},
   "outputs": [],
   "source": [
    "from tqdm import tqdm_notebook\n",
    "\n",
    "\n",
    "def compute_biase_variance(regressor, X, y, num_runs=100):\n",
    "    \"\"\"\n",
    "    :param regressor: sklearn estimator with fit(...) and predict(...) method\n",
    "    :param X: numpy-array representing training set ob objects, shape [n_obj, n_feat]\n",
    "    :param y: numpy-array representing target for training objects, shape [n_obj]\n",
    "    :param num_runs: int, number of samples (s in the description of the algorithm)\n",
    "    \n",
    "    :returns: bias (float), variance (float), error (float) \n",
    "    each value is computed using bootstrap\n",
    "    \"\"\"\n",
    "    \n",
    "    predictions = np.zeros((X.shape[0], num_runs))\n",
    "    predictions[:, :] = np.nan\n",
    "    error = np.zeros((X.shape[0], num_runs))\n",
    "    error[:, :] = np.nan\n",
    "    indexes_all = np.arange(X.shape[0])\n",
    "    \n",
    "    for i  in tqdm_notebook(range(num_runs)):\n",
    "        indexes_train = np.random.choice(indexes_all,\n",
    "                                      size=X.shape[0],\n",
    "                                      replace=True)\n",
    "        indexes_test = np.setdiff1d(indexes_all, indexes_train)\n",
    "        regressor.fit(X[indexes_train], y[indexes_train])\n",
    "        \n",
    "        predictions[indexes_test, i] = regressor.predict(X[indexes_test])\n",
    "        error[indexes_test, i] = ((predictions[indexes_test, i] - y[indexes_test]) ** 2)\n",
    "\n",
    "    mean_pred_obj = np.nanmean(predictions, axis=1)\n",
    "    biase = np.mean((mean_pred_obj - y) ** 2)\n",
    "    \n",
    "    variance = np.mean(np.nanvar(predictions, axis=1))\n",
    "    error = np.mean(np.nanmean(error, axis=1))\n",
    "    \n",
    "    return biase, variance, error"
   ]
  },
  {
   "cell_type": "markdown",
   "metadata": {},
   "source": [
    "**Задание 2. (1 балл)**\n",
    "\n",
    "Оцените смещение, разброс и ошибку для трех алгоритмов с гиперпараметрами по умолчанию: линейная регрессия, решающее дерево, случайный лес.\n"
   ]
  },
  {
   "cell_type": "code",
   "execution_count": 8,
   "metadata": {},
   "outputs": [],
   "source": [
    "from sklearn.linear_model import LinearRegression\n",
    "from sklearn.tree import DecisionTreeRegressor\n",
    "from sklearn.ensemble import RandomForestRegressor\n",
    "\n",
    "\n",
    "lin_reg = LinearRegression()\n",
    "dectree_reg = DecisionTreeRegressor()\n",
    "randfor_reg = RandomForestRegressor()"
   ]
  },
  {
   "cell_type": "code",
   "execution_count": 9,
   "metadata": {},
   "outputs": [
    {
     "name": "stderr",
     "output_type": "stream",
     "text": [
      "/home/paniquex/anaconda3/envs/kaggle/lib/python3.7/site-packages/ipykernel_launcher.py:21: TqdmDeprecationWarning: This function will be removed in tqdm==5.0.0\n",
      "Please use `tqdm.notebook.tqdm` instead of `tqdm.tqdm_notebook`\n"
     ]
    },
    {
     "data": {
      "application/vnd.jupyter.widget-view+json": {
       "model_id": "51de4b2f9fda48499302e0524b59583a",
       "version_major": 2,
       "version_minor": 0
      },
      "text/plain": [
       "HBox(children=(FloatProgress(value=0.0), HTML(value='')))"
      ]
     },
     "metadata": {},
     "output_type": "display_data"
    },
    {
     "name": "stdout",
     "output_type": "stream",
     "text": [
      "\n"
     ]
    },
    {
     "name": "stderr",
     "output_type": "stream",
     "text": [
      "/home/paniquex/anaconda3/envs/kaggle/lib/python3.7/site-packages/ipykernel_launcher.py:21: TqdmDeprecationWarning: This function will be removed in tqdm==5.0.0\n",
      "Please use `tqdm.notebook.tqdm` instead of `tqdm.tqdm_notebook`\n"
     ]
    },
    {
     "data": {
      "application/vnd.jupyter.widget-view+json": {
       "model_id": "f29959b3e20c4ce1aa623ee27c9c374f",
       "version_major": 2,
       "version_minor": 0
      },
      "text/plain": [
       "HBox(children=(FloatProgress(value=0.0), HTML(value='')))"
      ]
     },
     "metadata": {},
     "output_type": "display_data"
    },
    {
     "name": "stdout",
     "output_type": "stream",
     "text": [
      "\n"
     ]
    },
    {
     "name": "stderr",
     "output_type": "stream",
     "text": [
      "/home/paniquex/anaconda3/envs/kaggle/lib/python3.7/site-packages/ipykernel_launcher.py:21: TqdmDeprecationWarning: This function will be removed in tqdm==5.0.0\n",
      "Please use `tqdm.notebook.tqdm` instead of `tqdm.tqdm_notebook`\n"
     ]
    },
    {
     "data": {
      "application/vnd.jupyter.widget-view+json": {
       "model_id": "7d0d13eb466d439695921935f5cab8d2",
       "version_major": 2,
       "version_minor": 0
      },
      "text/plain": [
       "HBox(children=(FloatProgress(value=0.0), HTML(value='')))"
      ]
     },
     "metadata": {},
     "output_type": "display_data"
    },
    {
     "name": "stderr",
     "output_type": "stream",
     "text": [
      "/home/paniquex/anaconda3/envs/kaggle/lib/python3.7/site-packages/sklearn/ensemble/forest.py:245: FutureWarning: The default value of n_estimators will change from 10 in version 0.20 to 100 in 0.22.\n",
      "  \"10 in version 0.20 to 100 in 0.22.\", FutureWarning)\n"
     ]
    },
    {
     "name": "stdout",
     "output_type": "stream",
     "text": [
      "\n",
      "Смещение, разброс, ошибка для линейной регрессии: 23.756  0.876 24.632\n",
      "Смещение, разброс, ошибка для решающего дерева:   10.226 13.730 23.956\n",
      "Смещение, разброс, ошибка для случайного леса:    10.668  3.348 14.016\n"
     ]
    }
   ],
   "source": [
    "ans_reg = compute_biase_variance(lin_reg, X, y)\n",
    "ans_dec = compute_biase_variance(dectree_reg, X, y)\n",
    "ans_for = compute_biase_variance(randfor_reg, X, y)\n",
    "\n",
    "print(f'Смещение, разброс, ошибка для линейной регрессии: {ans_reg[0]:6.3f} {ans_reg[1]:6.3f} {ans_reg[2]:6.3f}')\n",
    "print(f'Смещение, разброс, ошибка для решающего дерева:   {ans_dec[0]:6.3f} {ans_dec[1]:6.3f} {ans_dec[2]:6.3f}')\n",
    "print(f'Смещение, разброс, ошибка для случайного леса:    {ans_for[0]:6.3f} {ans_for[1]:6.3f} {ans_for[2]:6.3f}')"
   ]
  },
  {
   "cell_type": "markdown",
   "metadata": {},
   "source": [
    "Проанализируйте полученный результат. Согласуются ли полученные результаты с теми, что мы обсуждали на семинарах (с комментарием)?\n",
    "\n",
    "__Your answer here:__ из полученных результатов видно, что:\n",
    "\n",
    "1. Линейная регрессия обладает наибольшим смещением и наименьшим разбросом среди 3 выбранных алгоритмов (что является логичным, так как большое смещение и маленький разброс говорят о простоте модели).\n",
    "1. Смещения решающего дерева и случайного леса практически не отличаются, так как из лекций известно, что бэггинг не изменяет смещение.\n",
    "1. Видно, что разброс случайного леса сильно уменьшился относительно решающего дерева. Этот факт частично подтверждает теоретическую часть, рассказанную на лекциях: бэггинг уменьшает разброс в `m` раз, где `m` - количество выборок, сформированных с помощью бутстрапа. В данном случае `m = 10`, так как по умолчанию в `RandomForestRegressor` значение `n_estimators = 10`. Мне кажется, что рассхождение возможно из-за того, что в при построении деревьев в случайном лесе могут быть удалены некоторые признаки.\n",
    "\n",
    "Вспомните обсуждение с лекции о том, во сколько раз в теории бутстрап уменьшает разброс базового алгоритма. Выполняется ли это в ваших экспериментах? Если нет, поясните, почему.\n",
    "\n",
    "\n",
    "В теории бутстрап уменьшает разброс базового алгоритма в `m` раз, где `m` - количество выборок, сформированных с помощью бутстрапа.\n",
    "\n",
    "Для того, чтобы это проверить запустим функцию `compute_biase_variance` с параметром `num_runs = 20` и `num_runs = 40` для каждого из трех алгоритмов. Ожидается, разброс каждого из алгоритмов при первом запуске будет больше в 2 раза, чем их разброс при втором запуске."
   ]
  },
  {
   "cell_type": "code",
   "execution_count": 10,
   "metadata": {},
   "outputs": [
    {
     "name": "stderr",
     "output_type": "stream",
     "text": [
      "/home/paniquex/anaconda3/envs/kaggle/lib/python3.7/site-packages/ipykernel_launcher.py:21: TqdmDeprecationWarning: This function will be removed in tqdm==5.0.0\n",
      "Please use `tqdm.notebook.tqdm` instead of `tqdm.tqdm_notebook`\n"
     ]
    },
    {
     "data": {
      "application/vnd.jupyter.widget-view+json": {
       "model_id": "3bd3730c48ad4f1693f2f38a73bd3ece",
       "version_major": 2,
       "version_minor": 0
      },
      "text/plain": [
       "HBox(children=(FloatProgress(value=0.0, max=20.0), HTML(value='')))"
      ]
     },
     "metadata": {},
     "output_type": "display_data"
    },
    {
     "name": "stdout",
     "output_type": "stream",
     "text": [
      "\n"
     ]
    },
    {
     "name": "stderr",
     "output_type": "stream",
     "text": [
      "/home/paniquex/anaconda3/envs/kaggle/lib/python3.7/site-packages/ipykernel_launcher.py:21: TqdmDeprecationWarning: This function will be removed in tqdm==5.0.0\n",
      "Please use `tqdm.notebook.tqdm` instead of `tqdm.tqdm_notebook`\n"
     ]
    },
    {
     "data": {
      "application/vnd.jupyter.widget-view+json": {
       "model_id": "a85e6a5930cb4c619cd828b16264dcdb",
       "version_major": 2,
       "version_minor": 0
      },
      "text/plain": [
       "HBox(children=(FloatProgress(value=0.0, max=20.0), HTML(value='')))"
      ]
     },
     "metadata": {},
     "output_type": "display_data"
    },
    {
     "name": "stdout",
     "output_type": "stream",
     "text": [
      "\n"
     ]
    },
    {
     "name": "stderr",
     "output_type": "stream",
     "text": [
      "/home/paniquex/anaconda3/envs/kaggle/lib/python3.7/site-packages/ipykernel_launcher.py:21: TqdmDeprecationWarning: This function will be removed in tqdm==5.0.0\n",
      "Please use `tqdm.notebook.tqdm` instead of `tqdm.tqdm_notebook`\n"
     ]
    },
    {
     "data": {
      "application/vnd.jupyter.widget-view+json": {
       "model_id": "b88fd545cb844ee084c46bc0c643973d",
       "version_major": 2,
       "version_minor": 0
      },
      "text/plain": [
       "HBox(children=(FloatProgress(value=0.0, max=20.0), HTML(value='')))"
      ]
     },
     "metadata": {},
     "output_type": "display_data"
    },
    {
     "name": "stdout",
     "output_type": "stream",
     "text": [
      "\n",
      "Смещение, разброс, ошибка для линейной регрессии при num_runs = 20: 23.786  0.779 24.564\n",
      "Смещение, разброс, ошибка для решающего дерева при num_runs = 20:   13.293 11.192 24.485\n",
      "Смещение, разброс, ошибка для случайного леса при num_runs = 20:    11.748  3.021 14.768\n"
     ]
    }
   ],
   "source": [
    "ans_reg = compute_biase_variance(lin_reg, X, y, num_runs=20)\n",
    "ans_dec = compute_biase_variance(dectree_reg, X, y, num_runs=20)\n",
    "ans_for = compute_biase_variance(randfor_reg, X, y, num_runs=20)\n",
    "\n",
    "print(f'Смещение, разброс, ошибка для линейной регрессии при num_runs = 20: {ans_reg[0]:6.3f} {ans_reg[1]:6.3f} {ans_reg[2]:6.3f}')\n",
    "print(f'Смещение, разброс, ошибка для решающего дерева при num_runs = 20:   {ans_dec[0]:6.3f} {ans_dec[1]:6.3f} {ans_dec[2]:6.3f}')\n",
    "print(f'Смещение, разброс, ошибка для случайного леса при num_runs = 20:    {ans_for[0]:6.3f} {ans_for[1]:6.3f} {ans_for[2]:6.3f}')"
   ]
  },
  {
   "cell_type": "code",
   "execution_count": 11,
   "metadata": {
    "scrolled": true
   },
   "outputs": [
    {
     "name": "stderr",
     "output_type": "stream",
     "text": [
      "/home/paniquex/anaconda3/envs/kaggle/lib/python3.7/site-packages/ipykernel_launcher.py:21: TqdmDeprecationWarning: This function will be removed in tqdm==5.0.0\n",
      "Please use `tqdm.notebook.tqdm` instead of `tqdm.tqdm_notebook`\n"
     ]
    },
    {
     "data": {
      "application/vnd.jupyter.widget-view+json": {
       "model_id": "6f1bf3773e834aaab0e1b50eabaceeb5",
       "version_major": 2,
       "version_minor": 0
      },
      "text/plain": [
       "HBox(children=(FloatProgress(value=0.0, max=40.0), HTML(value='')))"
      ]
     },
     "metadata": {},
     "output_type": "display_data"
    },
    {
     "name": "stdout",
     "output_type": "stream",
     "text": [
      "\n",
      "Смещение, разброс, ошибка для линейной регрессии при num_runs = 40: (23.685914063023777, 0.8128295758981108, 24.498743638921887)\n"
     ]
    },
    {
     "name": "stderr",
     "output_type": "stream",
     "text": [
      "/home/paniquex/anaconda3/envs/kaggle/lib/python3.7/site-packages/ipykernel_launcher.py:21: TqdmDeprecationWarning: This function will be removed in tqdm==5.0.0\n",
      "Please use `tqdm.notebook.tqdm` instead of `tqdm.tqdm_notebook`\n"
     ]
    },
    {
     "data": {
      "application/vnd.jupyter.widget-view+json": {
       "model_id": "50c7437fc63a43a29bbacebc24dfa3aa",
       "version_major": 2,
       "version_minor": 0
      },
      "text/plain": [
       "HBox(children=(FloatProgress(value=0.0, max=40.0), HTML(value='')))"
      ]
     },
     "metadata": {},
     "output_type": "display_data"
    },
    {
     "name": "stdout",
     "output_type": "stream",
     "text": [
      "\n",
      "Смещение, разброс, ошибка для решающего дерева при num_runs = 40: (11.310788028990192, 12.219567511773604, 23.530355540763793)\n"
     ]
    },
    {
     "name": "stderr",
     "output_type": "stream",
     "text": [
      "/home/paniquex/anaconda3/envs/kaggle/lib/python3.7/site-packages/ipykernel_launcher.py:21: TqdmDeprecationWarning: This function will be removed in tqdm==5.0.0\n",
      "Please use `tqdm.notebook.tqdm` instead of `tqdm.tqdm_notebook`\n"
     ]
    },
    {
     "data": {
      "application/vnd.jupyter.widget-view+json": {
       "model_id": "d6dcfdfb2e71492da3f15d39c4b3799d",
       "version_major": 2,
       "version_minor": 0
      },
      "text/plain": [
       "HBox(children=(FloatProgress(value=0.0, max=40.0), HTML(value='')))"
      ]
     },
     "metadata": {},
     "output_type": "display_data"
    },
    {
     "name": "stdout",
     "output_type": "stream",
     "text": [
      "\n",
      "Смещение, разброс, ошибка для случайного леса при num_runs = 40: (11.43696864245284, 3.0239091838627954, 14.460877826315635)\n"
     ]
    }
   ],
   "source": [
    "print(f'Смещение, разброс, ошибка для линейной регрессии при num_runs = 40: {compute_biase_variance(lin_reg, X, y, num_runs=40)}')\n",
    "print(f'Смещение, разброс, ошибка для решающего дерева при num_runs = 40: {compute_biase_variance(dectree_reg, X, y, num_runs=40)}')\n",
    "print(f'Смещение, разброс, ошибка для случайного леса при num_runs = 40: {compute_biase_variance(randfor_reg, X, y, num_runs=40)}')"
   ]
  },
  {
   "cell_type": "markdown",
   "metadata": {},
   "source": [
    "__Your answer here:__ интересно, что в данных экспериментах не выполняются теоретические результаты."
   ]
  },
  {
   "cell_type": "markdown",
   "metadata": {},
   "source": [
    "### Визуализация предсказаний базовых алгоритмов бэггинга\n",
    "\n",
    "В материалах лекций можно найти изображение, похожее на мишень - визуализация алгоритмов с разным смещением и разным разбросом. В центре \"мишени\" - правильный ответ, а \"попадания\" - предсказания алгоритмов, обученных по разным выборкам. Построим похожее изображение на наших данных для трех алгоритмов. Наши \"мишени\" будут одномерными, потому что мы решаем задачу одномерной регрессии.\n",
    "\n",
    "__Задание 3. (2 балла)__\n",
    "\n",
    "Реализуйте фукнцию plot_predictions. Она должна выполнять следующие действия:\n",
    "1. Случайно выбрать num_test_objects пар объект-целевая переменная из выборки X, y. Получится две выборки: маленькая X_test, y_test (выбранные тестовые объекты) и X_train, y_train (остальные объекты).\n",
    "1. Сгенерировать num_runs выборок методом бутстарапа из X_train, y_train. На каждой выборке обучить алгоритм regressor и сделать предсказания для X_test.\n",
    "1. Нарисовать scatter-график. По оси абсцисс - объекты тестовой выборки (номера от 0 до num_test_objects-1), по оси ординат - предсказания. В итоге получится num_test_objects столбиков с точками. Для каждого тестового объекта надо отметить одним цветом все предсказания для него, а также черным цветом отметить правильный ответ.\n",
    "1. Подпишите оси и название графика (аргумент title)."
   ]
  },
  {
   "cell_type": "code",
   "execution_count": 12,
   "metadata": {},
   "outputs": [],
   "source": [
    "import random\n",
    "random.seed(13)\n",
    "np.random.seed(13)"
   ]
  },
  {
   "cell_type": "code",
   "execution_count": 13,
   "metadata": {},
   "outputs": [],
   "source": [
    "from sklearn.model_selection import train_test_split\n",
    "import matplotlib.pyplot as plt\n",
    "\n",
    "\n",
    "def plot_predictions(regressor, X, y, num_runs=1000, num_test_objects=10, title=\"\", ax=None):\n",
    "    \"\"\"\n",
    "    plot graphics described above\n",
    "    \"\"\"\n",
    "    \n",
    "    X_train, X_test, y_train, y_test = train_test_split(X,\n",
    "                                                        y,\n",
    "                                                        test_size=num_test_objects,\n",
    "                                                        random_state=13)\n",
    "    predictions = np.zeros((num_test_objects, num_runs))\n",
    "    all_indexes = np.arange(X_train.shape[0])\n",
    "    for i in range(num_runs):\n",
    "        indexes_bs = np.random.choice(all_indexes,\n",
    "                                      size=X_train.shape[0],\n",
    "                                      replace=True)\n",
    "        \n",
    "        regressor.fit(X_train[indexes_bs], y_train[indexes_bs])\n",
    "        predictions[:, i] = regressor.predict(X_test)\n",
    "        if ax is None:\n",
    "            plt.scatter(np.arange(X_test.shape[0]), predictions[:, i], color='black', label='y_preds')\n",
    "        else:\n",
    "            line_pred = ax.scatter(np.arange(X_test.shape[0]), predictions[:, i], color='black', label='y_preds')\n",
    "    if ax is None:\n",
    "        plt.scatter(np.arange(X_test.shape[0]), y_test, color='red', label='y_true')\n",
    "    else:\n",
    "        line_true = ax.scatter(np.arange(X_test.shape[0]), y_test, color='red', label='y_true')\n",
    "        ax.title.set_text(title)\n",
    "        ax.set_xlabel('Номер объекта из теста')\n",
    "    return line_true, line_pred\n",
    "    \n",
    "    \n",
    "    "
   ]
  },
  {
   "cell_type": "markdown",
   "metadata": {},
   "source": [
    "Нарисуйте графики для линейной регрессии, решающего дерева и случайного леса. Нарисуйте три графика в строчку (это можно сделать с помощью plt.subplot) с одинаковой осью ординат (это важно для понимания масштаба разброса у разных алгоритмов):"
   ]
  },
  {
   "cell_type": "code",
   "execution_count": 14,
   "metadata": {},
   "outputs": [],
   "source": [
    "from sklearn.linear_model import LinearRegression\n",
    "from sklearn.tree import DecisionTreeRegressor\n",
    "from sklearn.ensemble import RandomForestRegressor\n",
    "\n",
    "lin_reg = LinearRegression()\n",
    "dectree_reg = DecisionTreeRegressor()\n",
    "randforest_reg = RandomForestRegressor(20)"
   ]
  },
  {
   "cell_type": "code",
   "execution_count": 15,
   "metadata": {},
   "outputs": [
    {
     "data": {
      "image/png": "[encoded data removed]",
      "text/plain": [
       "<Figure size 1080x720 with 3 Axes>"
      ]
     },
     "metadata": {
      "needs_background": "light"
     },
     "output_type": "display_data"
    }
   ],
   "source": [
    "fig, axs = plt.subplots(1, 3, figsize=(15, 10), sharey=True)\n",
    "plot_predictions(lin_reg, X, y, ax=axs[0], title='Линейная регрессия')\n",
    "plot_predictions(dectree_reg, X, y, ax=axs[1], title='Решающее дерево')\n",
    "l_true, l_pred = plot_predictions(randforest_reg, X, y, ax=axs[2], title='Случайный лес')\n",
    "axs[0].set_ylabel('Значение целевого признака')\n",
    "plt.legend([l_true, l_pred],['y_true', 'y_pred'])\n",
    "plt.title('Зависимость значений целевого признака от тестового объекта')\n",
    "plt.show()"
   ]
  },
  {
   "cell_type": "markdown",
   "metadata": {},
   "source": [
    "Для каждого графика прокомментируйте, как он характеризует смещение и разброс соответствующего алгоритма.\n",
    "\n",
    "**Your answer here:**\n",
    "по данным графикам видно, что выполняются выводы из задания номер 2:\n",
    "\n",
    "1. Линейная регрессия обладает наибольшим смещением и наименьшим разбросом среди 3 выбранных алгоритмов (что является логичным, так как большое смещение и маленький разброс говорят о простоте модели).\n",
    "1. Смещения решающего дерева и случайного леса практически не отличаются, так как из лекций известно, что бэггинг не изменяет смещение.\n",
    "1. Видно, что разброс случайного леса сильно уменьшился относительно решающего дерева. Этот факт частично подтверждает теоретическую часть, рассказанную на лекциях: бэггинг уменьшает разброс в `m` раз, где `m` - количество выборок, сформированных с помощью бутстрапа. В данном случае `m = 10`, так как по умолчанию в `RandomForestRegressor` значение `n_estimators = 10`. Мне кажется, что рассхождение возможно из-за того, что в при построении деревьев в случайном лесе могут быть удалены некоторые признаки.\n",
    "\n",
    "\n"
   ]
  },
  {
   "cell_type": "markdown",
   "metadata": {},
   "source": [
    "### Часть 2. Градиентный бустинг"
   ]
  },
  {
   "cell_type": "markdown",
   "metadata": {},
   "source": [
    "**Задание 4 (1 балл)**\n",
    "\n",
    "Мы будем использовать данные из [соревнования](https://www.kaggle.com/t/b710e05dc0bd424995ca94da5b639869). \n",
    "* Загрузите таблицу application_train.csv;\n",
    "* Запишите в Y столбец с целевой переменной (TARGET);\n",
    "* Удалите ненужные столбцы (для этого воспользуйтесь описанием);\n",
    "* Определите тип столбцов и заполните пропуски - стратегия произвольная;\n",
    "* Разбейте выборку в соотношении 70:30 с random_state=0.\n",
    "\n",
    "Так как в данных имеется значительный дисбаланс классов, в качестве метрики качества везде будем использовать площадь под precision-recall кривой (AUC-PR)."
   ]
  },
  {
   "cell_type": "code",
   "execution_count": 16,
   "metadata": {},
   "outputs": [],
   "source": [
    "train_data = pd.read_csv('./data/application_train.csv')\n",
    "\n",
    "Y = train_data['TARGET']\n",
    "train_data.drop(columns='TARGET', inplace=True)"
   ]
  },
  {
   "cell_type": "markdown",
   "metadata": {},
   "source": [
    " Какие признаки можно удалить?\n",
    " 1. Удалим признак `SK_ID_CURR`, так уникальный идентификатор не несет никакой информации о целевом признаке\n",
    " 1. Удалим признаки `WEEKDAY_APPR_PROCESS_START` и `HOUR_APPR_PROCESS_START`, так как они отвечают за день недели и время подачи заявки на кредит. \n",
    " 1. Удалим все признаки, в которых $количество\\spaceпропусков >= 0.4 * (количество\\spaceвсех\\spaceзначений)$"
   ]
  },
  {
   "cell_type": "code",
   "execution_count": 17,
   "metadata": {},
   "outputs": [],
   "source": [
    "#codeee"
   ]
  },
  {
   "cell_type": "markdown",
   "metadata": {},
   "source": [
    "~~Будем считать, что признак категориальный, если количество уникальных значений 2 <= n <= 30~~\n",
    "\n",
    "Будем считать, что признак категориальный, если его тип = 'object'."
   ]
  },
  {
   "cell_type": "code",
   "execution_count": 18,
   "metadata": {},
   "outputs": [],
   "source": [
    "#n_uniq = 30\n",
    "#cat_features = []\n",
    "\n",
    "\n",
    "#for col in train_data.columns:\n",
    "#    uniq_amount = len(train_data[col].unique())\n",
    "#    if (uniq_amount <= n_uniq) & (uniq_amount >= 2):\n",
    "#        cat_features.append(col)     "
   ]
  },
  {
   "cell_type": "code",
   "execution_count": 19,
   "metadata": {},
   "outputs": [
    {
     "name": "stdout",
     "output_type": "stream",
     "text": [
      "CPU times: user 4.61 ms, sys: 8 µs, total: 4.62 ms\n",
      "Wall time: 4.62 ms\n"
     ]
    }
   ],
   "source": [
    "%%time\n",
    "\n",
    "cat_features = []\n",
    "\n",
    "\n",
    "for col in train_data.columns:\n",
    "    if train_data[col].dtype == 'object':\n",
    "        cat_features.append(col)     "
   ]
  },
  {
   "cell_type": "markdown",
   "metadata": {},
   "source": [
    "Для категориальных признаков заполнинм пропуски самым популярным значением, а для вещественных - средним по данному признаку."
   ]
  },
  {
   "cell_type": "code",
   "execution_count": 20,
   "metadata": {},
   "outputs": [],
   "source": [
    "for cat_col in cat_features:\n",
    "    nan_mask = train_data[cat_col].isna()\n",
    "    train_data.loc[nan_mask, cat_col] = train_data[cat_col].value_counts().index[0]"
   ]
  },
  {
   "cell_type": "code",
   "execution_count": 21,
   "metadata": {},
   "outputs": [],
   "source": [
    "numerical_features = set(train_data.columns) - set(cat_features)\n",
    "\n",
    "\n",
    "for numerical_col in numerical_features:\n",
    "    mean_col = np.mean(train_data[numerical_col])\n",
    "    train_data[numerical_col].fillna(mean_col, inplace=True)"
   ]
  },
  {
   "cell_type": "markdown",
   "metadata": {},
   "source": [
    "Закодируем категориальные признаки с помощью one-hot-encoding:"
   ]
  },
  {
   "cell_type": "code",
   "execution_count": 22,
   "metadata": {},
   "outputs": [],
   "source": [
    "def one_hot_encoding(data, cat_columns):\n",
    "    data_ohe = data.copy()\n",
    "    for cat_column in cat_columns:\n",
    "        unique_values = data_ohe[cat_column].unique()\n",
    "        for unique_value in unique_values:\n",
    "            data_ohe[cat_column + '_' + str(unique_value)] = data_ohe[cat_column] == unique_value\n",
    "            data_ohe[cat_column + '_' + str(unique_value)] =\\\n",
    "                data_ohe[cat_column + '_' + str(unique_value)].map({True: 1, False: 0})\n",
    "    return data_ohe.drop(columns=cat_columns)"
   ]
  },
  {
   "cell_type": "code",
   "execution_count": 23,
   "metadata": {
    "scrolled": true
   },
   "outputs": [],
   "source": [
    "train_data_ohe = one_hot_encoding(train_data, cat_features)"
   ]
  },
  {
   "cell_type": "markdown",
   "metadata": {},
   "source": [
    "Разобьем выборку в соотношении 70:30 с random_state=0."
   ]
  },
  {
   "cell_type": "code",
   "execution_count": 24,
   "metadata": {},
   "outputs": [],
   "source": [
    "from sklearn.model_selection import train_test_split\n",
    "\n",
    "X_train, X_test, y_train, y_test = train_test_split(train_data, Y, test_size=0.3, random_state=0)"
   ]
  },
  {
   "cell_type": "markdown",
   "metadata": {},
   "source": [
    "**Задание 5 (1 балл)**"
   ]
  },
  {
   "cell_type": "markdown",
   "metadata": {},
   "source": [
    "Обучите реализации градиентного бустинга LightGBM и Catboost на вещественных признаках без подбора параметров. **Почему получилась заметная разница в качестве?**\n",
    "\n",
    "В этом и последующих экспериментах необходимо измерять время обучения моделей."
   ]
  },
  {
   "cell_type": "code",
   "execution_count": 25,
   "metadata": {},
   "outputs": [],
   "source": [
    "from sklearn.metrics import average_precision_score"
   ]
  },
  {
   "cell_type": "code",
   "execution_count": 26,
   "metadata": {},
   "outputs": [],
   "source": [
    "from lightgbm import LGBMClassifier\n",
    "from catboost import CatBoostClassifier"
   ]
  },
  {
   "cell_type": "code",
   "execution_count": 27,
   "metadata": {},
   "outputs": [
    {
     "name": "stdout",
     "output_type": "stream",
     "text": [
      "CPU times: user 31.4 s, sys: 1.01 s, total: 32.4 s\n",
      "Wall time: 1.2 s\n"
     ]
    }
   ],
   "source": [
    "%%time\n",
    "\n",
    "\n",
    "lgbm_model = LGBMClassifier(n_jobs=-1)\n",
    "lgbm_model.fit(X_train[numerical_features], y_train)\n",
    "lgbm_preds = lgbm_model.predict_proba(X_test[numerical_features])[:, 1]"
   ]
  },
  {
   "cell_type": "code",
   "execution_count": 28,
   "metadata": {},
   "outputs": [],
   "source": [
    "# CPU times: user 19 s, sys: 374 ms, total: 19.4 s\n",
    "# Wall time: 1.38 s"
   ]
  },
  {
   "cell_type": "code",
   "execution_count": 29,
   "metadata": {},
   "outputs": [
    {
     "name": "stdout",
     "output_type": "stream",
     "text": [
      "CPU times: user 5min 54s, sys: 6.1 s, total: 6min\n",
      "Wall time: 22.9 s\n"
     ]
    }
   ],
   "source": [
    "%%time\n",
    "\n",
    "\n",
    "catboost_model = CatBoostClassifier(verbose=0, thread_count=16)\n",
    "catboost_model.fit(X_train[numerical_features], y_train)\n",
    "catboost_preds = catboost_model.predict_proba(X_test[numerical_features])[:, 1]"
   ]
  },
  {
   "cell_type": "code",
   "execution_count": 30,
   "metadata": {},
   "outputs": [],
   "source": [
    "# CPU times: user 6min 56s, sys: 18.2 s, total: 7min 14s\n",
    "# Wall time: 32.6 s"
   ]
  },
  {
   "cell_type": "code",
   "execution_count": 31,
   "metadata": {},
   "outputs": [
    {
     "name": "stdout",
     "output_type": "stream",
     "text": [
      "LGBM PR-AUC: 0.23839056491864832\n",
      "CatBoost PR-AUC: 0.23894705678736883\n"
     ]
    }
   ],
   "source": [
    "print(f'LGBM PR-AUC: {average_precision_score(y_test, lgbm_preds)}')\n",
    "print(f'CatBoost PR-AUC: {average_precision_score(y_test, catboost_preds)}')"
   ]
  },
  {
   "cell_type": "markdown",
   "metadata": {},
   "source": [
    "**Your answer here:** Разница получилась совсем незначительной, хоть и Catboost обучался почти в 21 раз дольше.. LGBM показал качество лучше, так как, возможно, для этих данных \"жадный алгоритм\", встроенный в реализации LGBM, построения композиции дает лучший результат. Еще одна причина: мы совсем не использовали категориальные признаки, а они как раз являются ключевой особенностью библиотеки Catboost."
   ]
  },
  {
   "cell_type": "markdown",
   "metadata": {},
   "source": [
    "__Задание 6. (2 балла)__\n",
    "\n",
    "Подберите оптимальные с точки зрения метрики качества параметры алгоритмов, изменяя:\n",
    "\n",
    "* глубину деревьев;\n",
    "* количество деревьев;\n",
    "* темп обучения;\n",
    "* оптимизируемый функционал.\n",
    "\n",
    "Масштаб значений предлагается посмотреть в [семинаре](https://github.com/esokolov/ml-course-hse/blob/master/2019-fall/seminars/sem10-gbm.ipynb) про библиотеки.\n",
    "\n",
    "**Проанализируйте соотношения глубины и количества деревьев в зависимости от алгоритма.** \n",
    "\n",
    "**Если на перебор гиперпараметров уходит много времени, то переберите значениях каких-нибудь 1-2 гиперпараметров, а не всех предложенных 4**"
   ]
  },
  {
   "cell_type": "code",
   "execution_count": 39,
   "metadata": {
    "scrolled": true
   },
   "outputs": [
    {
     "name": "stderr",
     "output_type": "stream",
     "text": [
      "/home/paniquex/anaconda3/envs/kaggle/lib/python3.7/site-packages/ipykernel_launcher.py:20: TqdmDeprecationWarning: This function will be removed in tqdm==5.0.0\n",
      "Please use `tqdm.notebook.tqdm` instead of `tqdm.tqdm_notebook`\n"
     ]
    },
    {
     "data": {
      "application/vnd.jupyter.widget-view+json": {
       "model_id": "6fdd6114cf9c494289e56ac73be7dc05",
       "version_major": 2,
       "version_minor": 0
      },
      "text/plain": [
       "HBox(children=(FloatProgress(value=0.0, max=5.0), HTML(value='')))"
      ]
     },
     "metadata": {},
     "output_type": "display_data"
    },
    {
     "name": "stdout",
     "output_type": "stream",
     "text": [
      "0:\tlearn: 0.6921329\ttotal: 2.65ms\tremaining: 5.29s\n",
      "1000:\tlearn: 0.3098864\ttotal: 1.82s\tremaining: 1.81s\n",
      "1999:\tlearn: 0.2718565\ttotal: 3.59s\tremaining: 0us\n",
      "0:\tlearn: 0.6920788\ttotal: 3.1ms\tremaining: 6.2s\n",
      "1000:\tlearn: 0.3019389\ttotal: 2.59s\tremaining: 2.59s\n",
      "1999:\tlearn: 0.2635765\ttotal: 5.23s\tremaining: 0us\n",
      "0:\tlearn: 0.6920323\ttotal: 5.13ms\tremaining: 10.3s\n",
      "1000:\tlearn: 0.2981977\ttotal: 4.76s\tremaining: 4.75s\n",
      "1999:\tlearn: 0.2601694\ttotal: 9.67s\tremaining: 0us\n",
      "0:\tlearn: 0.6920223\ttotal: 16.6ms\tremaining: 33.2s\n",
      "1000:\tlearn: 0.2948455\ttotal: 15.7s\tremaining: 15.7s\n",
      "1999:\tlearn: 0.2555166\ttotal: 32.1s\tremaining: 0us\n",
      "0:\tlearn: 0.6920082\ttotal: 101ms\tremaining: 3m 21s\n",
      "1000:\tlearn: 0.2891839\ttotal: 1m 33s\tremaining: 1m 33s\n",
      "1999:\tlearn: 0.2440586\ttotal: 3m 16s\tremaining: 0us\n",
      "\n",
      "CPU times: user 4min 8s, sys: 2min 43s, total: 6min 51s\n",
      "Wall time: 4min 10s\n"
     ]
    }
   ],
   "source": [
    "%%time\n",
    "\n",
    "import time\n",
    "\n",
    "from tqdm import tqdm_notebook\n",
    "\n",
    "max_depth_list = list(range(1, 15, 3))\n",
    "tree_amount_list = [2000]#[1, 5, 10, 100, 300, 500, 700]\n",
    "learning_rate_list = [1e-3]#[1e-3, 1e-2, 1e-1, 1]\n",
    "loss_func_list = ['Logloss']\n",
    "\n",
    "catboost_logger = {'max_depth_list': [],\n",
    "                   'tree_amount_list': [],\n",
    "                   'learning_rate_list': [],\n",
    "                   'loss_func_list': [],\n",
    "                   'AUC-PR_list': [],\n",
    "                   'estimated_time': []\n",
    "                  }\n",
    "\n",
    "i = 0\n",
    "\n",
    "for max_depth in tqdm_notebook(max_depth_list):\n",
    "    for tree_amount in tree_amount_list:\n",
    "        for lr in learning_rate_list:\n",
    "            for loss_func in loss_func_list:\n",
    "                start_time = time.time()\n",
    "                catboost_model = CatBoostClassifier(max_depth=max_depth, n_estimators=tree_amount,\n",
    "                                            learning_rate=lr, objective=loss_func,\n",
    "                                             task_type='GPU', verbose=1000, thread_count=-1)\n",
    "                \n",
    "                catboost_model.fit(X_train[numerical_features], y_train)\n",
    "                preds = catboost_model.predict_proba(X_test[numerical_features])[:, 1]\n",
    "                catboost_logger['AUC-PR_list'].append(average_precision_score(y_test, preds))\n",
    "                catboost_logger['max_depth_list'].append(max_depth)\n",
    "                catboost_logger['tree_amount_list'].append(tree_amount)\n",
    "                catboost_logger['learning_rate_list'].append(lr)\n",
    "                catboost_logger['loss_func_list'].append(loss_func)\n",
    "                catboost_logger['estimated_time'].append(time.time() - start_time)\n",
    "                \n",
    "                i += 1"
   ]
  },
  {
   "cell_type": "code",
   "execution_count": null,
   "metadata": {},
   "outputs": [],
   "source": [
    "import pickle\n",
    "\n",
    "with open('catboost_logger.pkl', 'wb') as file:\n",
    "    pickle.dump(catboost_logger, file)"
   ]
  },
  {
   "cell_type": "code",
   "execution_count": null,
   "metadata": {},
   "outputs": [],
   "source": [
    "%%time\n",
    "\n",
    "from tqdm import tqdm_notebook\n",
    "\n",
    "max_depth_list = list(range(1, 15, 3))\n",
    "tree_amount_list = [1, 5, 10, 100, 300, 500, 700]\n",
    "learning_rate_list = [1e-3, 1e-2, 1e-1, 1]\n",
    "loss_func_list = ['binary']\n",
    "\n",
    "lgbm_logger = {'max_depth_list': [],\n",
    "                   'tree_amount_list': [],\n",
    "                   'learning_rate_list': [],\n",
    "                   'loss_func_list': [],\n",
    "                   'AUC-PR_list': [],\n",
    "                   'estimated_time': []\n",
    "                  }\n",
    "\n",
    "i = 0\n",
    "\n",
    "for max_depth in max_depth_list:\n",
    "    for tree_amount in tree_amount_list:\n",
    "        for lr in learning_rate_list:\n",
    "            for loss_func in loss_func_list:\n",
    "                lgbm_model = LGBMClassifier(max_depth=max_depth, n_estimators=tree_amount,\n",
    "                                            learning_rate=lr, objective=loss_func,\n",
    "                                             n_jobs=-1)\n",
    "                \n",
    "                lgbm_model.fit(X_train[numerical_features], y_train)\n",
    "                preds = lgbm_model.predict_proba(X_test[numerical_features])[:, 1]\n",
    "                lgbm_logger['AUC-PR_list'].append(average_precision_score(y_test, preds))\n",
    "                lgbm_logger['max_depth_list'].append(max_depth)\n",
    "                lgbm_logger['tree_amount_list'].append(tree_amount)\n",
    "                lgbm_logger['learning_rate_list'].append(lr)\n",
    "                lgbm_logger['loss_func_list'].append(loss_func)\n",
    "                lgbm_logger['estimated_time'].append(time.time() - start_time)\n",
    "                i += 1"
   ]
  },
  {
   "cell_type": "code",
   "execution_count": null,
   "metadata": {},
   "outputs": [],
   "source": [
    "import pickle\n",
    "\n",
    "with open('lgbm_logger.pkl', 'wb') as file:\n",
    "    pickle.dump(, file)"
   ]
  },
  {
   "cell_type": "markdown",
   "metadata": {},
   "source": [
    "**Your answer here:**"
   ]
  }
 ],
 "metadata": {
  "kernelspec": {
   "display_name": "Python 3",
   "language": "python",
   "name": "python3"
  },
  "language_info": {
   "codemirror_mode": {
    "name": "ipython",
    "version": 3
   },
   "file_extension": ".py",
   "mimetype": "text/x-python",
   "name": "python",
   "nbconvert_exporter": "python",
   "pygments_lexer": "ipython3",
   "version": "3.7.5"
  }
 },
 "nbformat": 4,
 "nbformat_minor": 2
}
