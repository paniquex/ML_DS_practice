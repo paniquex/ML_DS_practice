{
 "cells": [
  {
   "cell_type": "markdown",
   "metadata": {},
   "source": [
    "## Машинное обучение, ВМК МГУ\n",
    "\n",
    "## Практическое задание 2\n",
    "\n",
    "### Общая информация\n",
    "Дата выдачи: 9 октября 2019\n",
    "\n",
    "Максимальная оценка: 10 баллов + 1 бонусный балл\n",
    "\n",
    "Мягкий дедлайн: 23:59MSK 23 октября (за каждый день просрочки снимается 1 балл)\n",
    "\n",
    "Жесткий дедлайн: 23:59MSK 30 октября."
   ]
  },
  {
   "cell_type": "markdown",
   "metadata": {},
   "source": [
    "### О задании\n",
    "\n",
    "В этом задании вы:\n",
    "- Познакомитесь с методом решения задачи регрессии на основе метода ближайших соседей.\n",
    "- Реализуете алгоритм kNN для задачи регрессии.\n",
    "- Изучите методы работы с категориальными и текстовыми переменными.\n",
    "\n",
    "\n",
    "### Оценивание и штрафы\n",
    "Каждая из задач имеет определенную «стоимость» (указана в скобках около задачи). Максимально допустимая оценка за работу — 10 баллов.\n",
    "\n",
    "Сдавать задание после указанного срока сдачи нельзя. При выставлении неполного балла за задание в связи с наличием ошибок на усмотрение проверяющего предусмотрена возможность исправить работу на указанных в ответном письме условиях.\n",
    "\n",
    "Задание выполняется самостоятельно. «Похожие» решения считаются плагиатом и все задействованные студенты (в том числе те, у кого списали) не могут получить за него больше 0 баллов (подробнее о плагиате см. на странице курса). Если вы нашли решение какого-то из заданий (или его часть) в открытом источнике, необходимо указать ссылку на этот источник в отдельном блоке в конце вашей работы (скорее всего вы будете не единственным, кто это нашел, поэтому чтобы исключить подозрение в плагиате, необходима ссылка на источник).\n",
    "\n",
    "Неэффективная реализация кода может негативно отразиться на оценке.\n",
    "\n",
    "\n",
    "### Формат сдачи\n",
    "Для сдачи задания переименуйте получившийся файл *.ipynb в соответствии со следующим форматом: homework-practice-02-Username.ipynb, где Username — ваша фамилия и имя на латинице именно в таком порядке (например, homework-practice-02-ivanov.ipynb).\n",
    "\n",
    "Далее отправьте этот файл на anytask в соответсвующий раздел."
   ]
  },
  {
   "cell_type": "code",
   "execution_count": 1,
   "metadata": {},
   "outputs": [],
   "source": [
    "import numpy as np\n",
    "import pandas as pd"
   ]
  },
  {
   "cell_type": "markdown",
   "metadata": {},
   "source": [
    "Все эксперименты в этой лабораторной работе предлагается проводить на данных соревнования New York City Airbnb Open Data: https://www.kaggle.com/dgomonov/new-york-city-airbnb-open-data#AB_NYC_2019.csv\n",
    "\n",
    "В данной задаче предлагается предсказать цену на съем квартиры в зависимости от её параметров."
   ]
  },
  {
   "cell_type": "code",
   "execution_count": 2,
   "metadata": {},
   "outputs": [
    {
     "data": {
      "text/html": [
       "<div>\n",
       "<style scoped>\n",
       "    .dataframe tbody tr th:only-of-type {\n",
       "        vertical-align: middle;\n",
       "    }\n",
       "\n",
       "    .dataframe tbody tr th {\n",
       "        vertical-align: top;\n",
       "    }\n",
       "\n",
       "    .dataframe thead th {\n",
       "        text-align: right;\n",
       "    }\n",
       "</style>\n",
       "<table border=\"1\" class=\"dataframe\">\n",
       "  <thead>\n",
       "    <tr style=\"text-align: right;\">\n",
       "      <th></th>\n",
       "      <th>id</th>\n",
       "      <th>name</th>\n",
       "      <th>host_id</th>\n",
       "      <th>host_name</th>\n",
       "      <th>neighbourhood_group</th>\n",
       "      <th>neighbourhood</th>\n",
       "      <th>latitude</th>\n",
       "      <th>longitude</th>\n",
       "      <th>room_type</th>\n",
       "      <th>price</th>\n",
       "      <th>minimum_nights</th>\n",
       "      <th>number_of_reviews</th>\n",
       "      <th>last_review</th>\n",
       "      <th>reviews_per_month</th>\n",
       "      <th>calculated_host_listings_count</th>\n",
       "      <th>availability_365</th>\n",
       "    </tr>\n",
       "  </thead>\n",
       "  <tbody>\n",
       "    <tr>\n",
       "      <td>0</td>\n",
       "      <td>2539</td>\n",
       "      <td>Clean &amp; quiet apt home by the park</td>\n",
       "      <td>2787</td>\n",
       "      <td>John</td>\n",
       "      <td>Brooklyn</td>\n",
       "      <td>Kensington</td>\n",
       "      <td>40.64749</td>\n",
       "      <td>-73.97237</td>\n",
       "      <td>Private room</td>\n",
       "      <td>149</td>\n",
       "      <td>1</td>\n",
       "      <td>9</td>\n",
       "      <td>2018-10-19</td>\n",
       "      <td>0.21</td>\n",
       "      <td>6</td>\n",
       "      <td>365</td>\n",
       "    </tr>\n",
       "    <tr>\n",
       "      <td>1</td>\n",
       "      <td>2595</td>\n",
       "      <td>Skylit Midtown Castle</td>\n",
       "      <td>2845</td>\n",
       "      <td>Jennifer</td>\n",
       "      <td>Manhattan</td>\n",
       "      <td>Midtown</td>\n",
       "      <td>40.75362</td>\n",
       "      <td>-73.98377</td>\n",
       "      <td>Entire home/apt</td>\n",
       "      <td>225</td>\n",
       "      <td>1</td>\n",
       "      <td>45</td>\n",
       "      <td>2019-05-21</td>\n",
       "      <td>0.38</td>\n",
       "      <td>2</td>\n",
       "      <td>355</td>\n",
       "    </tr>\n",
       "    <tr>\n",
       "      <td>2</td>\n",
       "      <td>3647</td>\n",
       "      <td>THE VILLAGE OF HARLEM....NEW YORK !</td>\n",
       "      <td>4632</td>\n",
       "      <td>Elisabeth</td>\n",
       "      <td>Manhattan</td>\n",
       "      <td>Harlem</td>\n",
       "      <td>40.80902</td>\n",
       "      <td>-73.94190</td>\n",
       "      <td>Private room</td>\n",
       "      <td>150</td>\n",
       "      <td>3</td>\n",
       "      <td>0</td>\n",
       "      <td>NaN</td>\n",
       "      <td>NaN</td>\n",
       "      <td>1</td>\n",
       "      <td>365</td>\n",
       "    </tr>\n",
       "    <tr>\n",
       "      <td>3</td>\n",
       "      <td>3831</td>\n",
       "      <td>Cozy Entire Floor of Brownstone</td>\n",
       "      <td>4869</td>\n",
       "      <td>LisaRoxanne</td>\n",
       "      <td>Brooklyn</td>\n",
       "      <td>Clinton Hill</td>\n",
       "      <td>40.68514</td>\n",
       "      <td>-73.95976</td>\n",
       "      <td>Entire home/apt</td>\n",
       "      <td>89</td>\n",
       "      <td>1</td>\n",
       "      <td>270</td>\n",
       "      <td>2019-07-05</td>\n",
       "      <td>4.64</td>\n",
       "      <td>1</td>\n",
       "      <td>194</td>\n",
       "    </tr>\n",
       "    <tr>\n",
       "      <td>4</td>\n",
       "      <td>5022</td>\n",
       "      <td>Entire Apt: Spacious Studio/Loft by central park</td>\n",
       "      <td>7192</td>\n",
       "      <td>Laura</td>\n",
       "      <td>Manhattan</td>\n",
       "      <td>East Harlem</td>\n",
       "      <td>40.79851</td>\n",
       "      <td>-73.94399</td>\n",
       "      <td>Entire home/apt</td>\n",
       "      <td>80</td>\n",
       "      <td>10</td>\n",
       "      <td>9</td>\n",
       "      <td>2018-11-19</td>\n",
       "      <td>0.10</td>\n",
       "      <td>1</td>\n",
       "      <td>0</td>\n",
       "    </tr>\n",
       "  </tbody>\n",
       "</table>\n",
       "</div>"
      ],
      "text/plain": [
       "     id                                              name  host_id  \\\n",
       "0  2539                Clean & quiet apt home by the park     2787   \n",
       "1  2595                             Skylit Midtown Castle     2845   \n",
       "2  3647               THE VILLAGE OF HARLEM....NEW YORK !     4632   \n",
       "3  3831                   Cozy Entire Floor of Brownstone     4869   \n",
       "4  5022  Entire Apt: Spacious Studio/Loft by central park     7192   \n",
       "\n",
       "     host_name neighbourhood_group neighbourhood  latitude  longitude  \\\n",
       "0         John            Brooklyn    Kensington  40.64749  -73.97237   \n",
       "1     Jennifer           Manhattan       Midtown  40.75362  -73.98377   \n",
       "2    Elisabeth           Manhattan        Harlem  40.80902  -73.94190   \n",
       "3  LisaRoxanne            Brooklyn  Clinton Hill  40.68514  -73.95976   \n",
       "4        Laura           Manhattan   East Harlem  40.79851  -73.94399   \n",
       "\n",
       "         room_type  price  minimum_nights  number_of_reviews last_review  \\\n",
       "0     Private room    149               1                  9  2018-10-19   \n",
       "1  Entire home/apt    225               1                 45  2019-05-21   \n",
       "2     Private room    150               3                  0         NaN   \n",
       "3  Entire home/apt     89               1                270  2019-07-05   \n",
       "4  Entire home/apt     80              10                  9  2018-11-19   \n",
       "\n",
       "   reviews_per_month  calculated_host_listings_count  availability_365  \n",
       "0               0.21                               6               365  \n",
       "1               0.38                               2               355  \n",
       "2                NaN                               1               365  \n",
       "3               4.64                               1               194  \n",
       "4               0.10                               1                 0  "
      ]
     },
     "execution_count": 2,
     "metadata": {},
     "output_type": "execute_result"
    }
   ],
   "source": [
    "data = pd.read_csv('./data/AB_NYC_2019.csv')\n",
    "data.head()"
   ]
  },
  {
   "cell_type": "code",
   "execution_count": 3,
   "metadata": {},
   "outputs": [
    {
     "data": {
      "text/plain": [
       "(48895, 16)"
      ]
     },
     "execution_count": 3,
     "metadata": {},
     "output_type": "execute_result"
    }
   ],
   "source": [
    "data.shape"
   ]
  },
  {
   "cell_type": "code",
   "execution_count": 4,
   "metadata": {},
   "outputs": [
    {
     "name": "stdout",
     "output_type": "stream",
     "text": [
      "id 48895\n",
      "name 47906\n",
      "host_id 37457\n",
      "host_name 11453\n",
      "neighbourhood_group 5\n",
      "neighbourhood 221\n",
      "latitude 19048\n",
      "longitude 14718\n",
      "room_type 3\n",
      "price 674\n",
      "minimum_nights 109\n",
      "number_of_reviews 394\n",
      "last_review 1765\n",
      "reviews_per_month 938\n",
      "calculated_host_listings_count 47\n",
      "availability_365 366\n"
     ]
    }
   ],
   "source": [
    "# число значений у признаков\n",
    "for col_name in data.columns:\n",
    "    print(col_name, len(data[col_name].unique()))"
   ]
  },
  {
   "cell_type": "code",
   "execution_count": 5,
   "metadata": {},
   "outputs": [
    {
     "data": {
      "text/plain": [
       "id                                    0\n",
       "name                                 16\n",
       "host_id                               0\n",
       "host_name                            21\n",
       "neighbourhood_group                   0\n",
       "neighbourhood                         0\n",
       "latitude                              0\n",
       "longitude                             0\n",
       "room_type                             0\n",
       "price                                 0\n",
       "minimum_nights                        0\n",
       "number_of_reviews                     0\n",
       "last_review                       10052\n",
       "reviews_per_month                 10052\n",
       "calculated_host_listings_count        0\n",
       "availability_365                      0\n",
       "dtype: int64"
      ]
     },
     "execution_count": 5,
     "metadata": {},
     "output_type": "execute_result"
    }
   ],
   "source": [
    "data.isna().sum()"
   ]
  },
  {
   "cell_type": "code",
   "execution_count": 6,
   "metadata": {},
   "outputs": [
    {
     "data": {
      "text/html": [
       "<div>\n",
       "<style scoped>\n",
       "    .dataframe tbody tr th:only-of-type {\n",
       "        vertical-align: middle;\n",
       "    }\n",
       "\n",
       "    .dataframe tbody tr th {\n",
       "        vertical-align: top;\n",
       "    }\n",
       "\n",
       "    .dataframe thead th {\n",
       "        text-align: right;\n",
       "    }\n",
       "</style>\n",
       "<table border=\"1\" class=\"dataframe\">\n",
       "  <thead>\n",
       "    <tr style=\"text-align: right;\">\n",
       "      <th></th>\n",
       "      <th>id</th>\n",
       "      <th>name</th>\n",
       "      <th>host_id</th>\n",
       "      <th>host_name</th>\n",
       "      <th>neighbourhood_group</th>\n",
       "      <th>neighbourhood</th>\n",
       "      <th>latitude</th>\n",
       "      <th>longitude</th>\n",
       "      <th>room_type</th>\n",
       "      <th>price</th>\n",
       "      <th>minimum_nights</th>\n",
       "      <th>number_of_reviews</th>\n",
       "      <th>last_review</th>\n",
       "      <th>reviews_per_month</th>\n",
       "      <th>calculated_host_listings_count</th>\n",
       "      <th>availability_365</th>\n",
       "    </tr>\n",
       "  </thead>\n",
       "  <tbody>\n",
       "    <tr>\n",
       "      <td>0</td>\n",
       "      <td>2539</td>\n",
       "      <td>Clean &amp; quiet apt home by the park</td>\n",
       "      <td>2787</td>\n",
       "      <td>John</td>\n",
       "      <td>Brooklyn</td>\n",
       "      <td>Kensington</td>\n",
       "      <td>40.64749</td>\n",
       "      <td>-73.97237</td>\n",
       "      <td>Private room</td>\n",
       "      <td>149</td>\n",
       "      <td>1</td>\n",
       "      <td>9</td>\n",
       "      <td>2018-10-19</td>\n",
       "      <td>0.21</td>\n",
       "      <td>6</td>\n",
       "      <td>365</td>\n",
       "    </tr>\n",
       "    <tr>\n",
       "      <td>1</td>\n",
       "      <td>2595</td>\n",
       "      <td>Skylit Midtown Castle</td>\n",
       "      <td>2845</td>\n",
       "      <td>Jennifer</td>\n",
       "      <td>Manhattan</td>\n",
       "      <td>Midtown</td>\n",
       "      <td>40.75362</td>\n",
       "      <td>-73.98377</td>\n",
       "      <td>Entire home/apt</td>\n",
       "      <td>225</td>\n",
       "      <td>1</td>\n",
       "      <td>45</td>\n",
       "      <td>2019-05-21</td>\n",
       "      <td>0.38</td>\n",
       "      <td>2</td>\n",
       "      <td>355</td>\n",
       "    </tr>\n",
       "    <tr>\n",
       "      <td>2</td>\n",
       "      <td>3647</td>\n",
       "      <td>THE VILLAGE OF HARLEM....NEW YORK !</td>\n",
       "      <td>4632</td>\n",
       "      <td>Elisabeth</td>\n",
       "      <td>Manhattan</td>\n",
       "      <td>Harlem</td>\n",
       "      <td>40.80902</td>\n",
       "      <td>-73.94190</td>\n",
       "      <td>Private room</td>\n",
       "      <td>150</td>\n",
       "      <td>3</td>\n",
       "      <td>0</td>\n",
       "      <td>NaN</td>\n",
       "      <td>NaN</td>\n",
       "      <td>1</td>\n",
       "      <td>365</td>\n",
       "    </tr>\n",
       "    <tr>\n",
       "      <td>3</td>\n",
       "      <td>3831</td>\n",
       "      <td>Cozy Entire Floor of Brownstone</td>\n",
       "      <td>4869</td>\n",
       "      <td>LisaRoxanne</td>\n",
       "      <td>Brooklyn</td>\n",
       "      <td>Clinton Hill</td>\n",
       "      <td>40.68514</td>\n",
       "      <td>-73.95976</td>\n",
       "      <td>Entire home/apt</td>\n",
       "      <td>89</td>\n",
       "      <td>1</td>\n",
       "      <td>270</td>\n",
       "      <td>2019-07-05</td>\n",
       "      <td>4.64</td>\n",
       "      <td>1</td>\n",
       "      <td>194</td>\n",
       "    </tr>\n",
       "    <tr>\n",
       "      <td>4</td>\n",
       "      <td>5022</td>\n",
       "      <td>Entire Apt: Spacious Studio/Loft by central park</td>\n",
       "      <td>7192</td>\n",
       "      <td>Laura</td>\n",
       "      <td>Manhattan</td>\n",
       "      <td>East Harlem</td>\n",
       "      <td>40.79851</td>\n",
       "      <td>-73.94399</td>\n",
       "      <td>Entire home/apt</td>\n",
       "      <td>80</td>\n",
       "      <td>10</td>\n",
       "      <td>9</td>\n",
       "      <td>2018-11-19</td>\n",
       "      <td>0.10</td>\n",
       "      <td>1</td>\n",
       "      <td>0</td>\n",
       "    </tr>\n",
       "    <tr>\n",
       "      <td>...</td>\n",
       "      <td>...</td>\n",
       "      <td>...</td>\n",
       "      <td>...</td>\n",
       "      <td>...</td>\n",
       "      <td>...</td>\n",
       "      <td>...</td>\n",
       "      <td>...</td>\n",
       "      <td>...</td>\n",
       "      <td>...</td>\n",
       "      <td>...</td>\n",
       "      <td>...</td>\n",
       "      <td>...</td>\n",
       "      <td>...</td>\n",
       "      <td>...</td>\n",
       "      <td>...</td>\n",
       "      <td>...</td>\n",
       "    </tr>\n",
       "    <tr>\n",
       "      <td>48890</td>\n",
       "      <td>36484665</td>\n",
       "      <td>Charming one bedroom - newly renovated rowhouse</td>\n",
       "      <td>8232441</td>\n",
       "      <td>Sabrina</td>\n",
       "      <td>Brooklyn</td>\n",
       "      <td>Bedford-Stuyvesant</td>\n",
       "      <td>40.67853</td>\n",
       "      <td>-73.94995</td>\n",
       "      <td>Private room</td>\n",
       "      <td>70</td>\n",
       "      <td>2</td>\n",
       "      <td>0</td>\n",
       "      <td>NaN</td>\n",
       "      <td>NaN</td>\n",
       "      <td>2</td>\n",
       "      <td>9</td>\n",
       "    </tr>\n",
       "    <tr>\n",
       "      <td>48891</td>\n",
       "      <td>36485057</td>\n",
       "      <td>Affordable room in Bushwick/East Williamsburg</td>\n",
       "      <td>6570630</td>\n",
       "      <td>Marisol</td>\n",
       "      <td>Brooklyn</td>\n",
       "      <td>Bushwick</td>\n",
       "      <td>40.70184</td>\n",
       "      <td>-73.93317</td>\n",
       "      <td>Private room</td>\n",
       "      <td>40</td>\n",
       "      <td>4</td>\n",
       "      <td>0</td>\n",
       "      <td>NaN</td>\n",
       "      <td>NaN</td>\n",
       "      <td>2</td>\n",
       "      <td>36</td>\n",
       "    </tr>\n",
       "    <tr>\n",
       "      <td>48892</td>\n",
       "      <td>36485431</td>\n",
       "      <td>Sunny Studio at Historical Neighborhood</td>\n",
       "      <td>23492952</td>\n",
       "      <td>Ilgar &amp; Aysel</td>\n",
       "      <td>Manhattan</td>\n",
       "      <td>Harlem</td>\n",
       "      <td>40.81475</td>\n",
       "      <td>-73.94867</td>\n",
       "      <td>Entire home/apt</td>\n",
       "      <td>115</td>\n",
       "      <td>10</td>\n",
       "      <td>0</td>\n",
       "      <td>NaN</td>\n",
       "      <td>NaN</td>\n",
       "      <td>1</td>\n",
       "      <td>27</td>\n",
       "    </tr>\n",
       "    <tr>\n",
       "      <td>48893</td>\n",
       "      <td>36485609</td>\n",
       "      <td>43rd St. Time Square-cozy single bed</td>\n",
       "      <td>30985759</td>\n",
       "      <td>Taz</td>\n",
       "      <td>Manhattan</td>\n",
       "      <td>Hell's Kitchen</td>\n",
       "      <td>40.75751</td>\n",
       "      <td>-73.99112</td>\n",
       "      <td>Shared room</td>\n",
       "      <td>55</td>\n",
       "      <td>1</td>\n",
       "      <td>0</td>\n",
       "      <td>NaN</td>\n",
       "      <td>NaN</td>\n",
       "      <td>6</td>\n",
       "      <td>2</td>\n",
       "    </tr>\n",
       "    <tr>\n",
       "      <td>48894</td>\n",
       "      <td>36487245</td>\n",
       "      <td>Trendy duplex in the very heart of Hell's Kitchen</td>\n",
       "      <td>68119814</td>\n",
       "      <td>Christophe</td>\n",
       "      <td>Manhattan</td>\n",
       "      <td>Hell's Kitchen</td>\n",
       "      <td>40.76404</td>\n",
       "      <td>-73.98933</td>\n",
       "      <td>Private room</td>\n",
       "      <td>90</td>\n",
       "      <td>7</td>\n",
       "      <td>0</td>\n",
       "      <td>NaN</td>\n",
       "      <td>NaN</td>\n",
       "      <td>1</td>\n",
       "      <td>23</td>\n",
       "    </tr>\n",
       "  </tbody>\n",
       "</table>\n",
       "<p>48895 rows × 16 columns</p>\n",
       "</div>"
      ],
      "text/plain": [
       "             id                                               name   host_id  \\\n",
       "0          2539                 Clean & quiet apt home by the park      2787   \n",
       "1          2595                              Skylit Midtown Castle      2845   \n",
       "2          3647                THE VILLAGE OF HARLEM....NEW YORK !      4632   \n",
       "3          3831                    Cozy Entire Floor of Brownstone      4869   \n",
       "4          5022   Entire Apt: Spacious Studio/Loft by central park      7192   \n",
       "...         ...                                                ...       ...   \n",
       "48890  36484665    Charming one bedroom - newly renovated rowhouse   8232441   \n",
       "48891  36485057      Affordable room in Bushwick/East Williamsburg   6570630   \n",
       "48892  36485431            Sunny Studio at Historical Neighborhood  23492952   \n",
       "48893  36485609               43rd St. Time Square-cozy single bed  30985759   \n",
       "48894  36487245  Trendy duplex in the very heart of Hell's Kitchen  68119814   \n",
       "\n",
       "           host_name neighbourhood_group       neighbourhood  latitude  \\\n",
       "0               John            Brooklyn          Kensington  40.64749   \n",
       "1           Jennifer           Manhattan             Midtown  40.75362   \n",
       "2          Elisabeth           Manhattan              Harlem  40.80902   \n",
       "3        LisaRoxanne            Brooklyn        Clinton Hill  40.68514   \n",
       "4              Laura           Manhattan         East Harlem  40.79851   \n",
       "...              ...                 ...                 ...       ...   \n",
       "48890        Sabrina            Brooklyn  Bedford-Stuyvesant  40.67853   \n",
       "48891        Marisol            Brooklyn            Bushwick  40.70184   \n",
       "48892  Ilgar & Aysel           Manhattan              Harlem  40.81475   \n",
       "48893            Taz           Manhattan      Hell's Kitchen  40.75751   \n",
       "48894     Christophe           Manhattan      Hell's Kitchen  40.76404   \n",
       "\n",
       "       longitude        room_type  price  minimum_nights  number_of_reviews  \\\n",
       "0      -73.97237     Private room    149               1                  9   \n",
       "1      -73.98377  Entire home/apt    225               1                 45   \n",
       "2      -73.94190     Private room    150               3                  0   \n",
       "3      -73.95976  Entire home/apt     89               1                270   \n",
       "4      -73.94399  Entire home/apt     80              10                  9   \n",
       "...          ...              ...    ...             ...                ...   \n",
       "48890  -73.94995     Private room     70               2                  0   \n",
       "48891  -73.93317     Private room     40               4                  0   \n",
       "48892  -73.94867  Entire home/apt    115              10                  0   \n",
       "48893  -73.99112      Shared room     55               1                  0   \n",
       "48894  -73.98933     Private room     90               7                  0   \n",
       "\n",
       "      last_review  reviews_per_month  calculated_host_listings_count  \\\n",
       "0      2018-10-19               0.21                               6   \n",
       "1      2019-05-21               0.38                               2   \n",
       "2             NaN                NaN                               1   \n",
       "3      2019-07-05               4.64                               1   \n",
       "4      2018-11-19               0.10                               1   \n",
       "...           ...                ...                             ...   \n",
       "48890         NaN                NaN                               2   \n",
       "48891         NaN                NaN                               2   \n",
       "48892         NaN                NaN                               1   \n",
       "48893         NaN                NaN                               6   \n",
       "48894         NaN                NaN                               1   \n",
       "\n",
       "       availability_365  \n",
       "0                   365  \n",
       "1                   355  \n",
       "2                   365  \n",
       "3                   194  \n",
       "4                     0  \n",
       "...                 ...  \n",
       "48890                 9  \n",
       "48891                36  \n",
       "48892                27  \n",
       "48893                 2  \n",
       "48894                23  \n",
       "\n",
       "[48895 rows x 16 columns]"
      ]
     },
     "execution_count": 6,
     "metadata": {},
     "output_type": "execute_result"
    }
   ],
   "source": [
    "data"
   ]
  },
  {
   "cell_type": "markdown",
   "metadata": {},
   "source": [
    "Как видите, в данных есть пропуски. Не забудьте обработать их"
   ]
  },
  {
   "cell_type": "markdown",
   "metadata": {},
   "source": [
    "Заполним пропуски в колонках **name** и **host_name** значением '-1', которое будет сигнализировать о пропуске в колонке."
   ]
  },
  {
   "cell_type": "code",
   "execution_count": 7,
   "metadata": {},
   "outputs": [],
   "source": [
    "data.loc[data['name'].isna(), 'name'] = '-1'\n",
    "data.loc[data['host_name'].isna(), 'host_name'] = '-1'"
   ]
  },
  {
   "cell_type": "markdown",
   "metadata": {},
   "source": [
    "С колонкой $last\\_review$ поступим иначе:\n",
    "* $last\\_review$ - рассмотрим объект $x$ такой, что $x[\"last\\_review\"] = nan$ и $x[\"neighbourhood\"] = neigh$. Тогда $x[\"last\\_review\"]$ заполняем наиболее встречаемым значением в колонке $last\\_review$ среди всех объектов $x_{i}$ тренировочной выборки: $x_{i}[\"neighbourhood\"] = neigh$"
   ]
  },
  {
   "cell_type": "code",
   "execution_count": 8,
   "metadata": {},
   "outputs": [
    {
     "name": "stdout",
     "output_type": "stream",
     "text": [
      "CPU times: user 11.5 ms, sys: 0 ns, total: 11.5 ms\n",
      "Wall time: 11.1 ms\n"
     ]
    }
   ],
   "source": [
    "%%time\n",
    "data['last_review'] = data['last_review'].fillna('-1')\n",
    "# is_last_review_nan = data['last_review'].isna()\n",
    "# for neigh in data[is_last_review_nan]['neighbourhood']:\n",
    "#     is_neigh = data['neighbourhood'] == neigh\n",
    "#     if data[is_neigh].shape[0] == 1:\n",
    "#         data.loc[is_last_review_nan, 'last_review'] = '-1'\n",
    "#     else:\n",
    "#         data.loc[is_neigh & is_last_review_nan, 'last_review'] = data[is_neigh]['last_review'].value_counts().idxmax()"
   ]
  },
  {
   "cell_type": "markdown",
   "metadata": {},
   "source": [
    "А для колонки **$reviews\\_per\\_month$** возьмем не наиболее встречаемое значение, а среднее:"
   ]
  },
  {
   "cell_type": "code",
   "execution_count": 9,
   "metadata": {},
   "outputs": [
    {
     "name": "stdout",
     "output_type": "stream",
     "text": [
      "CPU times: user 0 ns, sys: 2.08 ms, total: 2.08 ms\n",
      "Wall time: 1.34 ms\n"
     ]
    }
   ],
   "source": [
    "%%time\n",
    "data['reviews_per_month'] = data['reviews_per_month'].fillna(0)\n",
    "# is_reviews_per_month_nan = data['reviews_per_month'].isna()\n",
    "# for neigh in data[is_last_review_nan]['neighbourhood']:\n",
    "#     is_neigh = data['neighbourhood'] == neigh\n",
    "#     if data[is_neigh].shape[0] == 1:\n",
    "#         data.loc[is_reviews_per_month_nan, 'reviews_per_month'] = -1\n",
    "#     else:\n",
    "#         data.loc[is_neigh & is_reviews_per_month_nan, 'reviews_per_month'] = data[is_neigh]['reviews_per_month'].mean()"
   ]
  },
  {
   "cell_type": "markdown",
   "metadata": {},
   "source": [
    "Разобъем данные на обучение и контроль."
   ]
  },
  {
   "cell_type": "markdown",
   "metadata": {},
   "source": [
    "Для тестирования модели без категориальных признаков:"
   ]
  },
  {
   "cell_type": "code",
   "execution_count": 10,
   "metadata": {
    "scrolled": false
   },
   "outputs": [],
   "source": [
    "from sklearn.model_selection import train_test_split\n",
    "X_train_non_cat, X_test_non_cat, y_train_non_cat, y_test_non_cat = train_test_split(data.drop(columns=['price',\n",
    "                                                                                              'last_review',\n",
    "                                                                                              'name',\n",
    "                                                                                              'host_name',\n",
    "                                                                                              'neighbourhood_group',\n",
    "                                                                                              'neighbourhood',\n",
    "                                                                                              'room_type']),\n",
    "                                                                                    data[['price']],\n",
    "                                                                                    test_size=0.3, random_state=241)"
   ]
  },
  {
   "cell_type": "markdown",
   "metadata": {},
   "source": [
    "Для тестирования только категориальных признаков:"
   ]
  },
  {
   "cell_type": "code",
   "execution_count": 11,
   "metadata": {},
   "outputs": [],
   "source": [
    "from sklearn.model_selection import train_test_split\n",
    "X_train_cat, X_test_cat, y_train_cat, y_test_cat = train_test_split(data.drop(columns=['price',\n",
    "                                                                                        'id',\n",
    "                                                                                                       'host_id',\n",
    "                                                                                                       'latitude',\n",
    "                                                                                                       'longitude',\n",
    "                                                                                                       'minimum_nights',\n",
    "                                                                                                       'number_of_reviews',\n",
    "                                                                                                       'reviews_per_month',\n",
    "                                                                                                       'calculated_host_listings_count',\n",
    "                                                                                                       'availability_365']),\n",
    "                                                                                    data[['price']],\n",
    "                                                                                    test_size=0.3, random_state=241)"
   ]
  },
  {
   "cell_type": "code",
   "execution_count": 12,
   "metadata": {},
   "outputs": [],
   "source": [
    "from sklearn.model_selection import train_test_split\n",
    "X_train, X_test, y_train, y_test = train_test_split(data.drop(columns=['price']),\n",
    "                                                    data[['price']],\n",
    "                                                    test_size=0.3, random_state=241)"
   ]
  },
  {
   "cell_type": "markdown",
   "metadata": {},
   "source": [
    "## Часть 1: Алгоритм kNN в задаче регрессии"
   ]
  },
  {
   "cell_type": "markdown",
   "metadata": {},
   "source": [
    "<b> 1.1 (1.5 балла) </b>\n",
    "Реализуйте класс `KNNRegressor`, который используя метод k ближайших соседей решает задачу регрессии. Для решение данной задачи, необходимо найти $N_k$ - k соседей, и после использовать значения их целевых переменных для предсказания:\n",
    "\\begin{align}\n",
    "y = \\frac{1}{k}\\sum_{n \\in N_k}w_n y_n,\n",
    "\\end{align}\n",
    "\n",
    "где $w_n$ - вес каждого соседа. \n",
    "\n",
    "При этом `KNNRegressor` может работать в 2 режимах:\n",
    " - $uniform$ - ближайшие соседи учитываются с одинаковыми весами.\n",
    " - $distance$ - вес ближайших соседей зависит от расстояния\n",
    " \n",
    "Сигнатуру методов при желании можно менять."
   ]
  },
  {
   "cell_type": "code",
   "execution_count": 73,
   "metadata": {},
   "outputs": [],
   "source": [
    "from typing import Union, Callable, Iterable, Optional\n",
    "from sklearn.neighbors import NearestNeighbors\n",
    "\n",
    "\n",
    "class KNNRegressor:\n",
    "    def __init__(self, n_neighbors: int,\n",
    "                 metric: Union[str, Callable],\n",
    "                 mode: str = 'uniform',\n",
    "                test_block_size = 10):\n",
    "        \"\"\"\n",
    "        params:\n",
    "            n_neighbors: number of neighbors\n",
    "            metric: metric to use for distance computation\n",
    "            mode: 'uniform' or 'distance'\n",
    "            'uniform' - all points in each neighborhood are weighted equally\n",
    "            'distance' - weight points by the inverse of their distance\n",
    "            test_block_size: block size for finding neighbors and predict (for saving memory)\n",
    "        \"\"\"\n",
    "        \n",
    "        self.metric = metric\n",
    "        self.__nn = None\n",
    "        if self.metric not in ['overlap', 'flattened_overlap', 'log_overlap']:\n",
    "            self.__nn = NearestNeighbors(n_neighbors=n_neighbors, metric=self.metric)\n",
    "        self.__mode = mode\n",
    "        self.__n_neighbors = n_neighbors\n",
    "        self.test_block_size = test_block_size\n",
    "\n",
    "    def fit(self, X: np.array, y: np.array) -> None:\n",
    "        \"\"\"\n",
    "            X: data\n",
    "            y: labels\n",
    "        \"\"\"\n",
    "        self.y_train = y\n",
    "        if self.__nn is None:\n",
    "            self.X_train = X\n",
    "        else:\n",
    "            self.__nn.fit(X, y)\n",
    "        self.eps = 1e-5\n",
    "        \n",
    "    def flattened_overlap_df(self, x_df, z_df):\n",
    "        result = np.zeros(x_df.shape[0], z_df.shape[0])\n",
    "        for i, x_row in enumerate(x_df):\n",
    "            result[i, :] = np.apply_along_axis(lambda z: flattened_overlap(x_row, z), axis=1)\n",
    "        return result\n",
    "            \n",
    "        \n",
    "    def find_kneighbors(self, X, return_distance):\n",
    "        \"\"\"\n",
    "        params:\n",
    "            * X - objects sample\n",
    "            * return_distance - bool variable\n",
    "\n",
    "        return values:\n",
    "            * If return_distance == True:\n",
    "                * tuple with two numpy array with size (X.shape[0], k), where:\n",
    "                  [i, j] elem of first array must be the distance between\n",
    "                  i-th object and his j-th nearest neighbour\n",
    "                  [i, j] elem of second array must be the index of j-th nearest neighbour to i-th object\n",
    "            * If return_distance == False:\n",
    "                * only second array\n",
    "        \"\"\"\n",
    "\n",
    "\n",
    "        if self.__nn is not None:\n",
    "            self.distances, \\\n",
    "                self.neigh_idxs = self.__nn.kneighbors(X, n_neighbors=self.__n_neighbors)\n",
    "        else:\n",
    "            if self.metric == 'overlap':\n",
    "                self.distances = overlap(X, self.X_train)\n",
    "            elif self.metric == 'flattened_overlap':\n",
    "                self.distances = flattened_overlap_df(X, self.X_train, self.X_train)\n",
    "            elif self.metric == 'log_overlap':\n",
    "                self.distances = log_overlap_df(X, self.X_train, X, self.X_train)\n",
    "            self.neigh_idxs = np.argsort(self.distances,\n",
    "                                         axis=1)[:, :self.__n_neighbors]\n",
    "            if return_distance:\n",
    "                self.distances = self.distances[np.arange(self.distances.shape[0])[:, None],\n",
    "                                                self.neigh_idxs]\n",
    "        if return_distance:\n",
    "            return self.distances, self.neigh_idxs\n",
    "        return self.neigh_idxs\n",
    "\n",
    "    def predict(self, X: np.array, n_neighbors: Optional[int] = None) -> np.array:\n",
    "        \"\"\"\n",
    "            X: data\n",
    "            n_neighbors: number of neighbors\n",
    "        \"\"\"\n",
    "        if n_neighbors is not None:\n",
    "            n_neighbors = np.minimum(self.__n_neighbors, n_neighbors)\n",
    "        else:\n",
    "            n_neighbors = self.__n_neighbors\n",
    "        if self.test_block_size > X.shape[0]:\n",
    "            self.test_block_size = X.shape[0]\n",
    "        preds = np.zeros(X.shape[0])\n",
    "        split_size = X.shape[0] // self.test_block_size + \\\n",
    "                     int(X.shape[0] % self.test_block_size != 0)\n",
    "        curr_idx = 0\n",
    "        for i, split in enumerate(np.array_split(X, split_size)):\n",
    "            self.distances, self.neigh_idxs = self.find_kneighbors(split,\n",
    "                                                                   return_distance=True\n",
    "                                                                  )\n",
    "            for j, idx in enumerate(self.neigh_idxs):\n",
    "                if self.__mode == 'distance':\n",
    "                    weights = 1 / (self.distances[j] + self.eps)\n",
    "                    pred = np.sum(self.y_train.values[idx].reshape(-1) * weights) / np.sum(weights)\n",
    "                else:\n",
    "                    pred = np.sum(self.y_train.values[idx].reshape(-1)) / n_neighbors\n",
    "                preds[j + curr_idx] = pred\n",
    "            curr_idx += split.shape[0]\n",
    "        return preds"
   ]
  },
  {
   "cell_type": "code",
   "execution_count": 74,
   "metadata": {},
   "outputs": [],
   "source": [
    "def rmse(y_true, y_valid):\n",
    "    return (np.sum((y_valid - y_true) ** 2) / len(y_true)) ** (1/2)"
   ]
  },
  {
   "cell_type": "code",
   "execution_count": 75,
   "metadata": {},
   "outputs": [],
   "source": [
    "k_neighbors = 10\n",
    "knn = KNNRegressor(k_neighbors, metric='euclidean', mode='distance', test_block_size=500)"
   ]
  },
  {
   "cell_type": "code",
   "execution_count": 76,
   "metadata": {},
   "outputs": [
    {
     "name": "stdout",
     "output_type": "stream",
     "text": [
      "CPU times: user 515 ms, sys: 114 µs, total: 515 ms\n",
      "Wall time: 514 ms\n"
     ]
    }
   ],
   "source": [
    "%%time\n",
    "knn.fit(X_train_non_cat, y_train_non_cat)\n",
    "preds = knn.predict(X_test_non_cat, 10)"
   ]
  },
  {
   "cell_type": "code",
   "execution_count": 77,
   "metadata": {},
   "outputs": [
    {
     "data": {
      "text/plain": [
       "218.18168656973202"
      ]
     },
     "execution_count": 77,
     "metadata": {},
     "output_type": "execute_result"
    }
   ],
   "source": [
    "rmse(y_test_non_cat.values.reshape(-1), preds)"
   ]
  },
  {
   "cell_type": "markdown",
   "metadata": {},
   "source": [
    "## Часть 2: Категориальные признаки"
   ]
  },
  {
   "cell_type": "markdown",
   "metadata": {},
   "source": [
    "<b>2.1 (1 балл)</b>\n",
    "Реализуйте три функции расстояния на категориальных признаках, которые обсуждались на [третьем семинаре](https://github.com/mmp-mmro-team/mmp_mmro_fall_2019/blob/master/lecture-notes/Sem03_knn.pdf). Не забудьте, что KNNRegressor должен уметь работать с этими функциями расстояния. Как вариант, можно реализовать метрики как [user-defined distance](http://scikit-learn.org/stable/modules/generated/sklearn.neighbors.DistanceMetric.html)."
   ]
  },
  {
   "cell_type": "code",
   "execution_count": 33,
   "metadata": {},
   "outputs": [],
   "source": [
    "# import pyximport; pyximport.install() Попытки переписать метрики на Cython оказались безуспешными\n",
    "# import overlap_cython"
   ]
  },
  {
   "cell_type": "code",
   "execution_count": null,
   "metadata": {},
   "outputs": [],
   "source": []
  },
  {
   "cell_type": "code",
   "execution_count": 78,
   "metadata": {},
   "outputs": [],
   "source": [
    "def overlap(x, z):\n",
    "    \"\"\"\n",
    "    x, z - pandas dataframes with shape lxd\n",
    "    \"\"\"\n",
    "    x = x.to_numpy(copy=True)\n",
    "    z = z.to_numpy(copy=True)\n",
    "    is_equal = x[:, None] != z\n",
    "    return np.sum(is_equal, axis=2)\n",
    "\n",
    "def flattened_overlap_check(x, z, df):\n",
    "    f_x = np.zeros(x.shape[0])\n",
    "    p2_sum_arr = np.zeros(x.shape[0])\n",
    "    for i, x_val in enumerate(x):\n",
    "        f_x[i] = np.sum(df.iloc[:, i] == x_val)\n",
    "    p_x = f_x / df.shape[0]\n",
    "    for i, x_val in enumerate(x):\n",
    "        p2_sum_arr[i] = np.sum(((p_x * (f_x - 1) / (df.shape[0] - 1))) * (p_x <= p_x[i]))\n",
    "    result = np.sum(x != z) + np.sum((x == z) * p2_sum_arr)\n",
    "    return result\n",
    "\n",
    "def flattened_overlap(x, z, df):\n",
    "    f_x = np.zeros(x.shape[0])\n",
    "    p2_sum_arr = np.zeros(x.shape[0])\n",
    "    df = df.to_numpy()\n",
    "    f_x = np.sum(df == x[None, :], axis=0)\n",
    "    p_x = f_x / df.shape[0]\n",
    "    p2_sum_arr = np.sum(p_x * (f_x - 1) / (df.shape[0] - 1) * (p_x <= p_x[:, None]), axis=1)\n",
    "    result = np.sum(x != z) + np.sum((x == z) * p2_sum_arr)\n",
    "    return result\n",
    "\n",
    "def log_overlap(x, z, df_x, df_z):\n",
    "    result = 0\n",
    "    f_x = np.sum(df_x == x[None, :], axis=0)\n",
    "    f_z = np.sum(df_z == z[None, :], axis=0)\n",
    "    result = np.sum((x != z) * np.log(f_x + 1) * np.log(f_z + 1))\n",
    "    return result"
   ]
  },
  {
   "cell_type": "code",
   "execution_count": 79,
   "metadata": {},
   "outputs": [
    {
     "data": {
      "text/plain": [
       "211.2214143021592"
      ]
     },
     "execution_count": 79,
     "metadata": {},
     "output_type": "execute_result"
    }
   ],
   "source": [
    "log_overlap(X_train_cat.iloc[0, :], X_train_cat.iloc[1, :], X_train_cat.iloc[:, :], X_test_cat)"
   ]
  },
  {
   "cell_type": "code",
   "execution_count": 140,
   "metadata": {},
   "outputs": [],
   "source": [
    "k_neighbors = 10\n",
    "knn = KNNRegressor(k_neighbors, metric='flattened_overlap', mode='uniform', test_block_size=500)"
   ]
  },
  {
   "cell_type": "code",
   "execution_count": 141,
   "metadata": {},
   "outputs": [
    {
     "name": "stdout",
     "output_type": "stream",
     "text": [
      "CPU times: user 119 ms, sys: 23.9 ms, total: 143 ms\n",
      "Wall time: 129 ms\n"
     ]
    }
   ],
   "source": [
    "%%time\n",
    "knn.fit(X_train_cat.iloc[:50, :], y_train_cat.iloc[:50, :])\n",
    "preds = knn.predict(X_test_cat.iloc[:20, :], 10)"
   ]
  },
  {
   "cell_type": "code",
   "execution_count": 142,
   "metadata": {},
   "outputs": [
    {
     "data": {
      "text/plain": [
       "228.2563985959649"
      ]
     },
     "execution_count": 142,
     "metadata": {},
     "output_type": "execute_result"
    }
   ],
   "source": [
    "rmse(y_test_non_cat.values.reshape(-1)[:20], preds)"
   ]
  },
  {
   "cell_type": "code",
   "execution_count": null,
   "metadata": {},
   "outputs": [],
   "source": [
    "#228.2563985959649 # flattened \n",
    "#227.45479221155136 # log_overlap\n",
    "#222.72230579804977 # overlap"
   ]
  },
  {
   "cell_type": "code",
   "execution_count": 115,
   "metadata": {},
   "outputs": [
    {
     "data": {
      "text/html": [
       "<div>\n",
       "<style scoped>\n",
       "    .dataframe tbody tr th:only-of-type {\n",
       "        vertical-align: middle;\n",
       "    }\n",
       "\n",
       "    .dataframe tbody tr th {\n",
       "        vertical-align: top;\n",
       "    }\n",
       "\n",
       "    .dataframe thead th {\n",
       "        text-align: right;\n",
       "    }\n",
       "</style>\n",
       "<table border=\"1\" class=\"dataframe\">\n",
       "  <thead>\n",
       "    <tr style=\"text-align: right;\">\n",
       "      <th></th>\n",
       "      <th>name</th>\n",
       "      <th>host_name</th>\n",
       "      <th>neighbourhood_group</th>\n",
       "      <th>neighbourhood</th>\n",
       "      <th>room_type</th>\n",
       "    </tr>\n",
       "  </thead>\n",
       "  <tbody>\n",
       "    <tr>\n",
       "      <td>39319</td>\n",
       "      <td>Large bedroom</td>\n",
       "      <td>Sara</td>\n",
       "      <td>Brooklyn</td>\n",
       "      <td>Kensington</td>\n",
       "      <td>Private room</td>\n",
       "    </tr>\n",
       "    <tr>\n",
       "      <td>22796</td>\n",
       "      <td>Sun Drenched Gramercy/East Village!</td>\n",
       "      <td>Chelsea</td>\n",
       "      <td>Manhattan</td>\n",
       "      <td>Gramercy</td>\n",
       "      <td>Entire home/apt</td>\n",
       "    </tr>\n",
       "    <tr>\n",
       "      <td>26190</td>\n",
       "      <td>Gorgeous single room in Sunnyside near Manhattan</td>\n",
       "      <td>Lidia</td>\n",
       "      <td>Queens</td>\n",
       "      <td>Sunnyside</td>\n",
       "      <td>Private room</td>\n",
       "    </tr>\n",
       "    <tr>\n",
       "      <td>8161</td>\n",
       "      <td>Cozy UES Studio</td>\n",
       "      <td>Jennifer</td>\n",
       "      <td>Manhattan</td>\n",
       "      <td>Upper East Side</td>\n",
       "      <td>Entire home/apt</td>\n",
       "    </tr>\n",
       "    <tr>\n",
       "      <td>32473</td>\n",
       "      <td>Modern &amp; Cozy Studio In Best East Village Loca...</td>\n",
       "      <td>Kea</td>\n",
       "      <td>Manhattan</td>\n",
       "      <td>East Village</td>\n",
       "      <td>Entire home/apt</td>\n",
       "    </tr>\n",
       "    <tr>\n",
       "      <td>35951</td>\n",
       "      <td>New York - Private room, perfect location</td>\n",
       "      <td>Thirza</td>\n",
       "      <td>Manhattan</td>\n",
       "      <td>Upper West Side</td>\n",
       "      <td>Private room</td>\n",
       "    </tr>\n",
       "    <tr>\n",
       "      <td>25954</td>\n",
       "      <td>Lovely Contemporary Home away from Home</td>\n",
       "      <td>Nicole</td>\n",
       "      <td>Queens</td>\n",
       "      <td>Jamaica</td>\n",
       "      <td>Entire home/apt</td>\n",
       "    </tr>\n",
       "    <tr>\n",
       "      <td>18513</td>\n",
       "      <td>Nice and comfortable 2/B Apartment</td>\n",
       "      <td>Meng</td>\n",
       "      <td>Brooklyn</td>\n",
       "      <td>Bedford-Stuyvesant</td>\n",
       "      <td>Entire home/apt</td>\n",
       "    </tr>\n",
       "    <tr>\n",
       "      <td>47680</td>\n",
       "      <td>New Cozy Studio on the UES with Gym and Pool #...</td>\n",
       "      <td>Keren</td>\n",
       "      <td>Manhattan</td>\n",
       "      <td>East Harlem</td>\n",
       "      <td>Entire home/apt</td>\n",
       "    </tr>\n",
       "    <tr>\n",
       "      <td>30397</td>\n",
       "      <td>Cozy BK Bungalow</td>\n",
       "      <td>Mason</td>\n",
       "      <td>Brooklyn</td>\n",
       "      <td>Williamsburg</td>\n",
       "      <td>Private room</td>\n",
       "    </tr>\n",
       "    <tr>\n",
       "      <td>17974</td>\n",
       "      <td>Nice room near Times Square BEST LOCATION ❤️</td>\n",
       "      <td>Laetitia</td>\n",
       "      <td>Manhattan</td>\n",
       "      <td>Hell's Kitchen</td>\n",
       "      <td>Private room</td>\n",
       "    </tr>\n",
       "    <tr>\n",
       "      <td>11554</td>\n",
       "      <td>UWS/Elevator/CENTRAL/SUBWAYS/PARK</td>\n",
       "      <td>Martha</td>\n",
       "      <td>Manhattan</td>\n",
       "      <td>Upper West Side</td>\n",
       "      <td>Entire home/apt</td>\n",
       "    </tr>\n",
       "    <tr>\n",
       "      <td>43397</td>\n",
       "      <td>Sonder | Stock Exchange | Amazing 1BR + Sofa Bed</td>\n",
       "      <td>Sonder (NYC)</td>\n",
       "      <td>Manhattan</td>\n",
       "      <td>Financial District</td>\n",
       "      <td>Entire home/apt</td>\n",
       "    </tr>\n",
       "    <tr>\n",
       "      <td>20388</td>\n",
       "      <td>Cozy Studio Near Time Square</td>\n",
       "      <td>Jeniffer</td>\n",
       "      <td>Manhattan</td>\n",
       "      <td>Hell's Kitchen</td>\n",
       "      <td>Entire home/apt</td>\n",
       "    </tr>\n",
       "    <tr>\n",
       "      <td>34422</td>\n",
       "      <td>HARLEM REBIRTH OF COOL</td>\n",
       "      <td>Maxime C/Armande C</td>\n",
       "      <td>Manhattan</td>\n",
       "      <td>East Harlem</td>\n",
       "      <td>Private room</td>\n",
       "    </tr>\n",
       "    <tr>\n",
       "      <td>12891</td>\n",
       "      <td>Designer's Studio with Cats +Yard</td>\n",
       "      <td>Jack</td>\n",
       "      <td>Brooklyn</td>\n",
       "      <td>Fort Greene</td>\n",
       "      <td>Entire home/apt</td>\n",
       "    </tr>\n",
       "    <tr>\n",
       "      <td>16475</td>\n",
       "      <td>SUNNY APT Best location In Williamsburg!!!!!</td>\n",
       "      <td>Juan</td>\n",
       "      <td>Brooklyn</td>\n",
       "      <td>Williamsburg</td>\n",
       "      <td>Entire home/apt</td>\n",
       "    </tr>\n",
       "    <tr>\n",
       "      <td>14004</td>\n",
       "      <td>Large Renovated Apt. Mins Away From Subway!</td>\n",
       "      <td>Rosa</td>\n",
       "      <td>Manhattan</td>\n",
       "      <td>Morningside Heights</td>\n",
       "      <td>Entire home/apt</td>\n",
       "    </tr>\n",
       "    <tr>\n",
       "      <td>19160</td>\n",
       "      <td>#BBS 2-BR Apartment Near Times Square *Specials*</td>\n",
       "      <td>Bluebird</td>\n",
       "      <td>Manhattan</td>\n",
       "      <td>Midtown</td>\n",
       "      <td>Entire home/apt</td>\n",
       "    </tr>\n",
       "    <tr>\n",
       "      <td>24003</td>\n",
       "      <td>Brooklyn Hot Spot with Best Manhattan Views</td>\n",
       "      <td>Kelly</td>\n",
       "      <td>Brooklyn</td>\n",
       "      <td>Greenpoint</td>\n",
       "      <td>Entire home/apt</td>\n",
       "    </tr>\n",
       "    <tr>\n",
       "      <td>20439</td>\n",
       "      <td>Warm design for a classic Brooklyn townhouse</td>\n",
       "      <td>Daria</td>\n",
       "      <td>Brooklyn</td>\n",
       "      <td>East Flatbush</td>\n",
       "      <td>Shared room</td>\n",
       "    </tr>\n",
       "    <tr>\n",
       "      <td>22695</td>\n",
       "      <td>☆☆Hell's Kitchen, Central Park, Times Square☆☆</td>\n",
       "      <td>Mark</td>\n",
       "      <td>Manhattan</td>\n",
       "      <td>Hell's Kitchen</td>\n",
       "      <td>Private room</td>\n",
       "    </tr>\n",
       "    <tr>\n",
       "      <td>28335</td>\n",
       "      <td>Manhattan New York luxurious hotel</td>\n",
       "      <td>Dez</td>\n",
       "      <td>Manhattan</td>\n",
       "      <td>Midtown</td>\n",
       "      <td>Entire home/apt</td>\n",
       "    </tr>\n",
       "    <tr>\n",
       "      <td>48220</td>\n",
       "      <td>2 Bedroom Home away from home</td>\n",
       "      <td>Emily</td>\n",
       "      <td>Manhattan</td>\n",
       "      <td>Harlem</td>\n",
       "      <td>Entire home/apt</td>\n",
       "    </tr>\n",
       "    <tr>\n",
       "      <td>33428</td>\n",
       "      <td>Sunny Room in Brooklyn 2</td>\n",
       "      <td>Karen</td>\n",
       "      <td>Brooklyn</td>\n",
       "      <td>East Flatbush</td>\n",
       "      <td>Private room</td>\n",
       "    </tr>\n",
       "    <tr>\n",
       "      <td>14246</td>\n",
       "      <td>BR in amazing Apt - 10min Manhattan</td>\n",
       "      <td>Mathieu</td>\n",
       "      <td>Brooklyn</td>\n",
       "      <td>Williamsburg</td>\n",
       "      <td>Private room</td>\n",
       "    </tr>\n",
       "    <tr>\n",
       "      <td>45829</td>\n",
       "      <td>2 bedroom on Chinatown</td>\n",
       "      <td>Juan</td>\n",
       "      <td>Manhattan</td>\n",
       "      <td>Chinatown</td>\n",
       "      <td>Entire home/apt</td>\n",
       "    </tr>\n",
       "    <tr>\n",
       "      <td>14021</td>\n",
       "      <td>Cozy shared space, heart of Astoria</td>\n",
       "      <td>Jessica And Danny</td>\n",
       "      <td>Queens</td>\n",
       "      <td>Ditmars Steinway</td>\n",
       "      <td>Shared room</td>\n",
       "    </tr>\n",
       "    <tr>\n",
       "      <td>39027</td>\n",
       "      <td>Calm bed. perfect for students and travelers.</td>\n",
       "      <td>Imoy</td>\n",
       "      <td>Brooklyn</td>\n",
       "      <td>Bedford-Stuyvesant</td>\n",
       "      <td>Shared room</td>\n",
       "    </tr>\n",
       "    <tr>\n",
       "      <td>39903</td>\n",
       "      <td>Huge Williamsburg Loft</td>\n",
       "      <td>Megan</td>\n",
       "      <td>Brooklyn</td>\n",
       "      <td>Williamsburg</td>\n",
       "      <td>Entire home/apt</td>\n",
       "    </tr>\n",
       "    <tr>\n",
       "      <td>39924</td>\n",
       "      <td>Gorgeous Room in Lux Apt: Prime Upper East!</td>\n",
       "      <td>James</td>\n",
       "      <td>Manhattan</td>\n",
       "      <td>Upper East Side</td>\n",
       "      <td>Private room</td>\n",
       "    </tr>\n",
       "    <tr>\n",
       "      <td>10630</td>\n",
       "      <td>Small cosy room in Lower East Side</td>\n",
       "      <td>Julien</td>\n",
       "      <td>Manhattan</td>\n",
       "      <td>Chinatown</td>\n",
       "      <td>Private room</td>\n",
       "    </tr>\n",
       "    <tr>\n",
       "      <td>8744</td>\n",
       "      <td>Midtown Gem - Nestled by Hotel Row</td>\n",
       "      <td>L.M.</td>\n",
       "      <td>Manhattan</td>\n",
       "      <td>Midtown</td>\n",
       "      <td>Entire home/apt</td>\n",
       "    </tr>\n",
       "    <tr>\n",
       "      <td>28743</td>\n",
       "      <td>Sunny and Cozy Brooklyn Apartment</td>\n",
       "      <td>Farideh</td>\n",
       "      <td>Brooklyn</td>\n",
       "      <td>Bushwick</td>\n",
       "      <td>Entire home/apt</td>\n",
       "    </tr>\n",
       "    <tr>\n",
       "      <td>3604</td>\n",
       "      <td>The best Williamsburg has to offer!</td>\n",
       "      <td>Edward</td>\n",
       "      <td>Brooklyn</td>\n",
       "      <td>Williamsburg</td>\n",
       "      <td>Entire home/apt</td>\n",
       "    </tr>\n",
       "    <tr>\n",
       "      <td>13499</td>\n",
       "      <td>Private Room for Rent</td>\n",
       "      <td>Ashley</td>\n",
       "      <td>Manhattan</td>\n",
       "      <td>Washington Heights</td>\n",
       "      <td>Private room</td>\n",
       "    </tr>\n",
       "    <tr>\n",
       "      <td>36436</td>\n",
       "      <td>Lugar acogedor y confortable</td>\n",
       "      <td>Sandy</td>\n",
       "      <td>Bronx</td>\n",
       "      <td>Mount Eden</td>\n",
       "      <td>Private room</td>\n",
       "    </tr>\n",
       "    <tr>\n",
       "      <td>32850</td>\n",
       "      <td>Cozy &amp; Beautiful Room in Astoria for all seasons</td>\n",
       "      <td>Mars</td>\n",
       "      <td>Queens</td>\n",
       "      <td>Ditmars Steinway</td>\n",
       "      <td>Private room</td>\n",
       "    </tr>\n",
       "    <tr>\n",
       "      <td>30754</td>\n",
       "      <td>Blue House on Martense</td>\n",
       "      <td>Jon</td>\n",
       "      <td>Brooklyn</td>\n",
       "      <td>East Flatbush</td>\n",
       "      <td>Entire home/apt</td>\n",
       "    </tr>\n",
       "    <tr>\n",
       "      <td>7253</td>\n",
       "      <td>5 Bedroom, 2 Bath, Steps to Train. FREE PARKING!</td>\n",
       "      <td>Eli</td>\n",
       "      <td>Brooklyn</td>\n",
       "      <td>Crown Heights</td>\n",
       "      <td>Entire home/apt</td>\n",
       "    </tr>\n",
       "    <tr>\n",
       "      <td>5124</td>\n",
       "      <td>1 BR Apt steps from Central Park! #10223</td>\n",
       "      <td>Luci</td>\n",
       "      <td>Manhattan</td>\n",
       "      <td>Upper West Side</td>\n",
       "      <td>Entire home/apt</td>\n",
       "    </tr>\n",
       "    <tr>\n",
       "      <td>18512</td>\n",
       "      <td>Sunny &amp; inviting BK Room 30mins from Manhattan.</td>\n",
       "      <td>Perin</td>\n",
       "      <td>Brooklyn</td>\n",
       "      <td>Bedford-Stuyvesant</td>\n",
       "      <td>Private room</td>\n",
       "    </tr>\n",
       "    <tr>\n",
       "      <td>12287</td>\n",
       "      <td>Sunny, spacious 1 BR apt in Harlem</td>\n",
       "      <td>Venessa</td>\n",
       "      <td>Manhattan</td>\n",
       "      <td>Harlem</td>\n",
       "      <td>Entire home/apt</td>\n",
       "    </tr>\n",
       "    <tr>\n",
       "      <td>2849</td>\n",
       "      <td>CENTRAL PARK/ TIMES SQUARE</td>\n",
       "      <td>Rodrigo</td>\n",
       "      <td>Manhattan</td>\n",
       "      <td>Hell's Kitchen</td>\n",
       "      <td>Entire home/apt</td>\n",
       "    </tr>\n",
       "    <tr>\n",
       "      <td>6336</td>\n",
       "      <td>Bright + Cheerful Apt- the Real NYC</td>\n",
       "      <td>Millie</td>\n",
       "      <td>Manhattan</td>\n",
       "      <td>East Harlem</td>\n",
       "      <td>Entire home/apt</td>\n",
       "    </tr>\n",
       "    <tr>\n",
       "      <td>14962</td>\n",
       "      <td>PRIVATE GARDEN-LEVEL CITY OASIS!</td>\n",
       "      <td>Eric</td>\n",
       "      <td>Brooklyn</td>\n",
       "      <td>Bedford-Stuyvesant</td>\n",
       "      <td>Entire home/apt</td>\n",
       "    </tr>\n",
       "    <tr>\n",
       "      <td>1594</td>\n",
       "      <td>Very Large Loft in Chelsea for  Your Stay!!</td>\n",
       "      <td>Alexander</td>\n",
       "      <td>Manhattan</td>\n",
       "      <td>Flatiron District</td>\n",
       "      <td>Entire home/apt</td>\n",
       "    </tr>\n",
       "    <tr>\n",
       "      <td>44445</td>\n",
       "      <td>Spacious UES place. Flexible check-in/out. Sub...</td>\n",
       "      <td>Liz</td>\n",
       "      <td>Manhattan</td>\n",
       "      <td>Upper East Side</td>\n",
       "      <td>Entire home/apt</td>\n",
       "    </tr>\n",
       "    <tr>\n",
       "      <td>1624</td>\n",
       "      <td>Cozy Private Room in LIC</td>\n",
       "      <td>Sol</td>\n",
       "      <td>Queens</td>\n",
       "      <td>Long Island City</td>\n",
       "      <td>Private room</td>\n",
       "    </tr>\n",
       "    <tr>\n",
       "      <td>3989</td>\n",
       "      <td>Private Room in Large Two-floor Apt w/ Backyard</td>\n",
       "      <td>Michael</td>\n",
       "      <td>Manhattan</td>\n",
       "      <td>Chelsea</td>\n",
       "      <td>Private room</td>\n",
       "    </tr>\n",
       "  </tbody>\n",
       "</table>\n",
       "</div>"
      ],
      "text/plain": [
       "                                                    name           host_name  \\\n",
       "39319                                      Large bedroom                Sara   \n",
       "22796                Sun Drenched Gramercy/East Village!             Chelsea   \n",
       "26190   Gorgeous single room in Sunnyside near Manhattan               Lidia   \n",
       "8161                                     Cozy UES Studio            Jennifer   \n",
       "32473  Modern & Cozy Studio In Best East Village Loca...                 Kea   \n",
       "35951          New York - Private room, perfect location              Thirza   \n",
       "25954            Lovely Contemporary Home away from Home              Nicole   \n",
       "18513                 Nice and comfortable 2/B Apartment                Meng   \n",
       "47680  New Cozy Studio on the UES with Gym and Pool #...               Keren   \n",
       "30397                                   Cozy BK Bungalow               Mason   \n",
       "17974       Nice room near Times Square BEST LOCATION ❤️            Laetitia   \n",
       "11554                  UWS/Elevator/CENTRAL/SUBWAYS/PARK              Martha   \n",
       "43397   Sonder | Stock Exchange | Amazing 1BR + Sofa Bed        Sonder (NYC)   \n",
       "20388                       Cozy Studio Near Time Square            Jeniffer   \n",
       "34422                             HARLEM REBIRTH OF COOL  Maxime C/Armande C   \n",
       "12891                  Designer's Studio with Cats +Yard                Jack   \n",
       "16475       SUNNY APT Best location In Williamsburg!!!!!                Juan   \n",
       "14004        Large Renovated Apt. Mins Away From Subway!                Rosa   \n",
       "19160   #BBS 2-BR Apartment Near Times Square *Specials*            Bluebird   \n",
       "24003        Brooklyn Hot Spot with Best Manhattan Views               Kelly   \n",
       "20439       Warm design for a classic Brooklyn townhouse               Daria   \n",
       "22695     ☆☆Hell's Kitchen, Central Park, Times Square☆☆                Mark   \n",
       "28335                 Manhattan New York luxurious hotel                 Dez   \n",
       "48220                      2 Bedroom Home away from home               Emily   \n",
       "33428                           Sunny Room in Brooklyn 2               Karen   \n",
       "14246                BR in amazing Apt - 10min Manhattan             Mathieu   \n",
       "45829                             2 bedroom on Chinatown                Juan   \n",
       "14021                Cozy shared space, heart of Astoria   Jessica And Danny   \n",
       "39027      Calm bed. perfect for students and travelers.                Imoy   \n",
       "39903                             Huge Williamsburg Loft               Megan   \n",
       "39924        Gorgeous Room in Lux Apt: Prime Upper East!               James   \n",
       "10630                 Small cosy room in Lower East Side              Julien   \n",
       "8744                  Midtown Gem - Nestled by Hotel Row                L.M.   \n",
       "28743                  Sunny and Cozy Brooklyn Apartment             Farideh   \n",
       "3604                 The best Williamsburg has to offer!              Edward   \n",
       "13499                              Private Room for Rent              Ashley   \n",
       "36436                       Lugar acogedor y confortable               Sandy   \n",
       "32850   Cozy & Beautiful Room in Astoria for all seasons                Mars   \n",
       "30754                             Blue House on Martense                 Jon   \n",
       "7253    5 Bedroom, 2 Bath, Steps to Train. FREE PARKING!                 Eli   \n",
       "5124            1 BR Apt steps from Central Park! #10223                Luci   \n",
       "18512    Sunny & inviting BK Room 30mins from Manhattan.               Perin   \n",
       "12287                 Sunny, spacious 1 BR apt in Harlem             Venessa   \n",
       "2849                          CENTRAL PARK/ TIMES SQUARE             Rodrigo   \n",
       "6336                 Bright + Cheerful Apt- the Real NYC              Millie   \n",
       "14962                   PRIVATE GARDEN-LEVEL CITY OASIS!                Eric   \n",
       "1594         Very Large Loft in Chelsea for  Your Stay!!           Alexander   \n",
       "44445  Spacious UES place. Flexible check-in/out. Sub...                 Liz   \n",
       "1624                            Cozy Private Room in LIC                 Sol   \n",
       "3989     Private Room in Large Two-floor Apt w/ Backyard             Michael   \n",
       "\n",
       "      neighbourhood_group        neighbourhood        room_type  \n",
       "39319            Brooklyn           Kensington     Private room  \n",
       "22796           Manhattan             Gramercy  Entire home/apt  \n",
       "26190              Queens            Sunnyside     Private room  \n",
       "8161            Manhattan      Upper East Side  Entire home/apt  \n",
       "32473           Manhattan         East Village  Entire home/apt  \n",
       "35951           Manhattan      Upper West Side     Private room  \n",
       "25954              Queens              Jamaica  Entire home/apt  \n",
       "18513            Brooklyn   Bedford-Stuyvesant  Entire home/apt  \n",
       "47680           Manhattan          East Harlem  Entire home/apt  \n",
       "30397            Brooklyn         Williamsburg     Private room  \n",
       "17974           Manhattan       Hell's Kitchen     Private room  \n",
       "11554           Manhattan      Upper West Side  Entire home/apt  \n",
       "43397           Manhattan   Financial District  Entire home/apt  \n",
       "20388           Manhattan       Hell's Kitchen  Entire home/apt  \n",
       "34422           Manhattan          East Harlem     Private room  \n",
       "12891            Brooklyn          Fort Greene  Entire home/apt  \n",
       "16475            Brooklyn         Williamsburg  Entire home/apt  \n",
       "14004           Manhattan  Morningside Heights  Entire home/apt  \n",
       "19160           Manhattan              Midtown  Entire home/apt  \n",
       "24003            Brooklyn           Greenpoint  Entire home/apt  \n",
       "20439            Brooklyn        East Flatbush      Shared room  \n",
       "22695           Manhattan       Hell's Kitchen     Private room  \n",
       "28335           Manhattan              Midtown  Entire home/apt  \n",
       "48220           Manhattan               Harlem  Entire home/apt  \n",
       "33428            Brooklyn        East Flatbush     Private room  \n",
       "14246            Brooklyn         Williamsburg     Private room  \n",
       "45829           Manhattan            Chinatown  Entire home/apt  \n",
       "14021              Queens     Ditmars Steinway      Shared room  \n",
       "39027            Brooklyn   Bedford-Stuyvesant      Shared room  \n",
       "39903            Brooklyn         Williamsburg  Entire home/apt  \n",
       "39924           Manhattan      Upper East Side     Private room  \n",
       "10630           Manhattan            Chinatown     Private room  \n",
       "8744            Manhattan              Midtown  Entire home/apt  \n",
       "28743            Brooklyn             Bushwick  Entire home/apt  \n",
       "3604             Brooklyn         Williamsburg  Entire home/apt  \n",
       "13499           Manhattan   Washington Heights     Private room  \n",
       "36436               Bronx           Mount Eden     Private room  \n",
       "32850              Queens     Ditmars Steinway     Private room  \n",
       "30754            Brooklyn        East Flatbush  Entire home/apt  \n",
       "7253             Brooklyn        Crown Heights  Entire home/apt  \n",
       "5124            Manhattan      Upper West Side  Entire home/apt  \n",
       "18512            Brooklyn   Bedford-Stuyvesant     Private room  \n",
       "12287           Manhattan               Harlem  Entire home/apt  \n",
       "2849            Manhattan       Hell's Kitchen  Entire home/apt  \n",
       "6336            Manhattan          East Harlem  Entire home/apt  \n",
       "14962            Brooklyn   Bedford-Stuyvesant  Entire home/apt  \n",
       "1594            Manhattan    Flatiron District  Entire home/apt  \n",
       "44445           Manhattan      Upper East Side  Entire home/apt  \n",
       "1624               Queens     Long Island City     Private room  \n",
       "3989            Manhattan              Chelsea     Private room  "
      ]
     },
     "execution_count": 115,
     "metadata": {},
     "output_type": "execute_result"
    }
   ],
   "source": []
  },
  {
   "cell_type": "code",
   "execution_count": 44,
   "metadata": {},
   "outputs": [],
   "source": [
    "# def flattened_overlap_df(x_df, z_df, df):\n",
    "#         result = np.zeros((x_df.shape[0], z_df.shape[0]))\n",
    "#         for i, x_row in enumerate(x_df.iterrows()):\n",
    "#             x_row = np.array(x_row[1])\n",
    "#             result[i, :] = np.apply_along_axis(lambda z: flattened_overlap(x_row, z, df), axis=1, arr=z_df)\n",
    "#         return result\n",
    "    \n",
    "def flattened_overlap_df(x_df, z_df, df):\n",
    "        result = np.zeros((x_df.shape[0], z_df.shape[0]))\n",
    "        for i, x_row in enumerate(x_df.iterrows()):\n",
    "            x_row = np.array(x_row[1])\n",
    "            result[i, :] = np.apply_along_axis(lambda z: flattened_overlap(x_row, z, df), axis=1, arr=z_df)\n",
    "        return result\n",
    "    \n",
    "def log_overlap_df(x_df, z_df, full_df_x, full_df_z):\n",
    "        result = np.zeros((x_df.shape[0], z_df.shape[0]))\n",
    "        for i, x_row in enumerate(x_df.iterrows()):\n",
    "            x_row = np.array(x_row[1])\n",
    "            result[i, :] = np.apply_along_axis(lambda z: log_overlap(x_row, z,\n",
    "                                                                     full_df_x, full_df_z),\n",
    "                                               axis=1,\n",
    "                                               arr=z_df)\n",
    "        return result"
   ]
  },
  {
   "cell_type": "code",
   "execution_count": 49,
   "metadata": {
    "scrolled": true
   },
   "outputs": [
    {
     "name": "stdout",
     "output_type": "stream",
     "text": [
      "CPU times: user 1.24 s, sys: 0 ns, total: 1.24 s\n",
      "Wall time: 1.23 s\n"
     ]
    },
    {
     "data": {
      "text/plain": [
       "array([[5.16901099, 6.        , 5.16901099, 5.16901099, 6.        ],\n",
       "       [5.46859726, 4.66532667, 5.46859726, 5.46859726, 4.66532667],\n",
       "       [6.        , 6.        , 6.        , 6.        , 6.        ],\n",
       "       [5.51157593, 3.79431306, 5.51157593, 5.51157593, 4.75128402],\n",
       "       [5.47008021, 4.66829257, 5.47008021, 5.47008021, 4.66829257],\n",
       "       [6.        , 5.19832073, 6.        , 6.        , 4.1999624 ],\n",
       "       [5.28611117, 5.28611117, 5.28611117, 4.28690973, 5.28611117],\n",
       "       [4.70475486, 4.53598227, 4.70475486, 4.70475486, 5.48831135],\n",
       "       [5.5107989 , 3.79198197, 5.5107989 , 5.5107989 , 4.74972996],\n",
       "       [5.1752171 , 6.        , 4.18166162, 5.1752171 , 6.        ],\n",
       "       [6.        , 5.1983683 , 6.        , 6.        , 5.1983683 ],\n",
       "       [5.51192958, 3.795374  , 5.51192958, 5.51192958, 3.75363276],\n",
       "       [5.46888469, 4.66590155, 5.46888469, 5.46888469, 4.66590155],\n",
       "       [5.47023635, 4.66860485, 5.47023635, 5.47023635, 4.66860485],\n",
       "       [6.        , 5.19723798, 6.        , 6.        , 5.19723798],\n",
       "       [4.60961246, 5.44074015, 4.60961246, 4.60961246, 5.44074015],\n",
       "       [4.62241711, 5.44714248, 3.62891916, 4.62241711, 5.44714248],\n",
       "       [5.46859672, 4.6653256 , 5.46859672, 5.46859672, 4.6653256 ],\n",
       "       [5.51133728, 3.7935971 , 5.51133728, 5.51133728, 4.75080672],\n",
       "       [3.69441118, 4.52513336, 4.69390596, 4.69390596, 5.4828869 ],\n",
       "       [5.16945097, 6.        , 5.16945097, 5.16945097, 6.        ],\n",
       "       [6.        , 5.19912166, 6.        , 6.        , 5.19912166],\n",
       "       [5.46959591, 4.66732398, 5.46959591, 5.46959591, 4.66732398],\n",
       "       [5.51324912, 3.79933262, 5.51324912, 5.51324912, 4.75463039],\n",
       "       [5.16889771, 6.        , 5.16889771, 5.16889771, 6.        ],\n",
       "       [5.17522259, 6.        , 4.18167259, 5.17522259, 6.        ],\n",
       "       [5.46861437, 4.6653609 , 5.46861437, 5.46861437, 4.6653609 ],\n",
       "       [6.        , 6.        , 6.        , 6.        , 6.        ],\n",
       "       [5.17527157, 6.        , 5.17527157, 5.17527157, 6.        ],\n",
       "       [4.70578749, 4.5370149 , 3.71223348, 4.70578749, 5.48882767],\n",
       "       [6.        , 5.19796883, 6.        , 6.        , 5.19796883],\n",
       "       [6.        , 5.1967295 , 6.        , 6.        , 5.1967295 ],\n",
       "       [5.46959589, 4.66732395, 5.46959589, 5.46959589, 4.66732395],\n",
       "       [4.61576762, 5.44381773, 4.61576762, 3.61653403, 5.44381773],\n",
       "       [4.62238584, 5.44712684, 3.62887225, 4.62238584, 5.44712684],\n",
       "       [6.        , 5.19702101, 6.        , 6.        , 5.19702101],\n",
       "       [6.        , 5.04223395, 6.        , 6.        , 6.        ],\n",
       "       [6.        , 6.        , 6.        , 6.        , 6.        ],\n",
       "       [4.69311521, 4.52434261, 4.69311521, 4.69311521, 5.48249152],\n",
       "       [4.61140212, 5.44163498, 4.61140212, 4.61140212, 5.44163498],\n",
       "       [5.47093513, 4.67000242, 5.47093513, 5.47093513, 3.67239065],\n",
       "       [5.17546861, 6.        , 5.17546861, 4.17623502, 6.        ],\n",
       "       [5.51323998, 3.7993052 , 5.51323998, 5.51323998, 4.75461211],\n",
       "       [5.47100213, 4.67013642, 5.47100213, 4.47176856, 4.67013642],\n",
       "       [5.46905969, 4.66625154, 5.46905969, 5.46905969, 4.66625154],\n",
       "       [4.62143428, 5.44665106, 4.62143428, 4.62143428, 5.44665106],\n",
       "       [5.46855457, 4.6652413 , 5.46855457, 5.46855457, 4.6652413 ],\n",
       "       [5.46996868, 4.66806953, 5.46996868, 5.46996868, 4.66806953],\n",
       "       [6.        , 6.        , 6.        , 6.        , 6.        ],\n",
       "       [6.        , 4.1979133 , 6.        , 6.        , 5.19729618]])"
      ]
     },
     "execution_count": 49,
     "metadata": {},
     "output_type": "execute_result"
    }
   ],
   "source": [
    "%%time\n",
    "flattened_overlap_df(X_train_cat.iloc[:50, :], X_test_cat.iloc[:5, :], X_train_cat)"
   ]
  },
  {
   "cell_type": "code",
   "execution_count": 191,
   "metadata": {
    "scrolled": true
   },
   "outputs": [
    {
     "name": "stdout",
     "output_type": "stream",
     "text": [
      "CPU times: user 112 ms, sys: 3.97 ms, total: 116 ms\n",
      "Wall time: 122 ms\n"
     ]
    },
    {
     "data": {
      "text/plain": [
       "array([[5.16901099, 6.        , 5.16901099, 5.16901099, 6.        ],\n",
       "       [5.46859726, 4.66532667, 5.46859726, 5.46859726, 4.66532667],\n",
       "       [6.        , 6.        , 6.        , 6.        , 6.        ],\n",
       "       [5.51157593, 3.79431306, 5.51157593, 5.51157593, 4.75128402],\n",
       "       [5.47008021, 4.66829257, 5.47008021, 5.47008021, 4.66829257],\n",
       "       [6.        , 5.19832073, 6.        , 6.        , 4.1999624 ],\n",
       "       [5.28611117, 5.28611117, 5.28611117, 4.28690973, 5.28611117],\n",
       "       [4.70475486, 4.53598227, 4.70475486, 4.70475486, 5.48831135],\n",
       "       [5.5107989 , 3.79198197, 5.5107989 , 5.5107989 , 4.74972996],\n",
       "       [5.1752171 , 6.        , 4.18166162, 5.1752171 , 6.        ],\n",
       "       [6.        , 5.1983683 , 6.        , 6.        , 5.1983683 ],\n",
       "       [5.51192958, 3.795374  , 5.51192958, 5.51192958, 3.75363276],\n",
       "       [5.46888469, 4.66590155, 5.46888469, 5.46888469, 4.66590155],\n",
       "       [5.47023635, 4.66860485, 5.47023635, 5.47023635, 4.66860485],\n",
       "       [6.        , 5.19723798, 6.        , 6.        , 5.19723798],\n",
       "       [4.60961246, 5.44074015, 4.60961246, 4.60961246, 5.44074015],\n",
       "       [4.62241711, 5.44714248, 3.62891916, 4.62241711, 5.44714248],\n",
       "       [5.46859672, 4.6653256 , 5.46859672, 5.46859672, 4.6653256 ],\n",
       "       [5.51133728, 3.7935971 , 5.51133728, 5.51133728, 4.75080672],\n",
       "       [3.69441118, 4.52513336, 4.69390596, 4.69390596, 5.4828869 ],\n",
       "       [5.16945097, 6.        , 5.16945097, 5.16945097, 6.        ],\n",
       "       [6.        , 5.19912166, 6.        , 6.        , 5.19912166],\n",
       "       [5.46959591, 4.66732398, 5.46959591, 5.46959591, 4.66732398],\n",
       "       [5.51324912, 3.79933262, 5.51324912, 5.51324912, 4.75463039],\n",
       "       [5.16889771, 6.        , 5.16889771, 5.16889771, 6.        ],\n",
       "       [5.17522259, 6.        , 4.18167259, 5.17522259, 6.        ],\n",
       "       [5.46861437, 4.6653609 , 5.46861437, 5.46861437, 4.6653609 ],\n",
       "       [6.        , 6.        , 6.        , 6.        , 6.        ],\n",
       "       [5.17527157, 6.        , 5.17527157, 5.17527157, 6.        ],\n",
       "       [4.70578749, 4.5370149 , 3.71223348, 4.70578749, 5.48882767],\n",
       "       [6.        , 5.19796883, 6.        , 6.        , 5.19796883],\n",
       "       [6.        , 5.1967295 , 6.        , 6.        , 5.1967295 ],\n",
       "       [5.46959589, 4.66732395, 5.46959589, 5.46959589, 4.66732395],\n",
       "       [4.61576762, 5.44381773, 4.61576762, 3.61653403, 5.44381773],\n",
       "       [4.62238584, 5.44712684, 3.62887225, 4.62238584, 5.44712684],\n",
       "       [6.        , 5.19702101, 6.        , 6.        , 5.19702101],\n",
       "       [6.        , 5.04223395, 6.        , 6.        , 6.        ],\n",
       "       [6.        , 6.        , 6.        , 6.        , 6.        ],\n",
       "       [4.69311521, 4.52434261, 4.69311521, 4.69311521, 5.48249152],\n",
       "       [4.61140212, 5.44163498, 4.61140212, 4.61140212, 5.44163498],\n",
       "       [5.47093513, 4.67000242, 5.47093513, 5.47093513, 3.67239065],\n",
       "       [5.17546861, 6.        , 5.17546861, 4.17623502, 6.        ],\n",
       "       [5.51323998, 3.7993052 , 5.51323998, 5.51323998, 4.75461211],\n",
       "       [5.47100213, 4.67013642, 5.47100213, 4.47176856, 4.67013642],\n",
       "       [5.46905969, 4.66625154, 5.46905969, 5.46905969, 4.66625154],\n",
       "       [4.62143428, 5.44665106, 4.62143428, 4.62143428, 5.44665106],\n",
       "       [5.46855457, 4.6652413 , 5.46855457, 5.46855457, 4.6652413 ],\n",
       "       [5.46996868, 4.66806953, 5.46996868, 5.46996868, 4.66806953],\n",
       "       [6.        , 6.        , 6.        , 6.        , 6.        ],\n",
       "       [6.        , 4.1979133 , 6.        , 6.        , 5.19729618]])"
      ]
     },
     "execution_count": 191,
     "metadata": {},
     "output_type": "execute_result"
    }
   ],
   "source": [
    "%%time\n",
    "flattened_overlap_df(X_train_cat.iloc[:50, :], X_test_cat.iloc[:5, :], X_train_cat)"
   ]
  },
  {
   "cell_type": "code",
   "execution_count": 21,
   "metadata": {},
   "outputs": [
    {
     "name": "stderr",
     "output_type": "stream",
     "text": [
      "/home/paniquex/anaconda3/envs/kaggle/lib/python3.7/site-packages/ipykernel_launcher.py:1: DeprecationWarning: \n",
      ".ix is deprecated. Please use\n",
      ".loc for label based indexing or\n",
      ".iloc for positional indexing\n",
      "\n",
      "See the documentation here:\n",
      "http://pandas.pydata.org/pandas-docs/stable/indexing.html#ix-indexer-is-deprecated\n",
      "  \"\"\"Entry point for launching an IPython kernel.\n"
     ]
    },
    {
     "data": {
      "text/plain": [
       "'Jonathan'"
      ]
     },
     "execution_count": 21,
     "metadata": {},
     "output_type": "execute_result"
    }
   ],
   "source": [
    "X_train.ix[423, 'host_name']"
   ]
  },
  {
   "cell_type": "code",
   "execution_count": 28,
   "metadata": {},
   "outputs": [],
   "source": [
    "#241.02891795616793"
   ]
  },
  {
   "cell_type": "markdown",
   "metadata": {},
   "source": [
    "## Воспользуемся LabelEncoder для того, чтобы преобразовать категориальные признаки"
   ]
  },
  {
   "cell_type": "code",
   "execution_count": 29,
   "metadata": {},
   "outputs": [],
   "source": [
    "from sklearn.preprocessing import LabelEncoder"
   ]
  },
  {
   "cell_type": "code",
   "execution_count": 30,
   "metadata": {},
   "outputs": [],
   "source": [
    "le = LabelEncoder()\n",
    "for column in X_train_cat.columns:\n",
    "    all_classes_in_col = np.hstack([X_train_cat[column].unique(), X_test_cat[column].unique()])\n",
    "    le.fit(all_classes_in_col)\n",
    "    X_train_cat.loc[:, column] = le.transform(X_train_cat.loc[:, column])\n",
    "    X_test_cat.loc[:, column] = le.transform(X_test_cat.loc[:, column])\n"
   ]
  },
  {
   "cell_type": "code",
   "execution_count": 37,
   "metadata": {},
   "outputs": [],
   "source": [
    "knn = KNNRegressor(10, metric='overlap', mode='distance', test_block_size=1000)\n",
    "test_size = X_train_cat.shape[0]\n",
    "knn.fit(X_train_cat, y_train_cat)"
   ]
  },
  {
   "cell_type": "code",
   "execution_count": 38,
   "metadata": {},
   "outputs": [
    {
     "name": "stdout",
     "output_type": "stream",
     "text": [
      "(978, 6) (34226, 6)\n",
      "(978, 6) (34226, 6)\n",
      "(978, 6) (34226, 6)\n",
      "(978, 6) (34226, 6)\n",
      "(978, 6) (34226, 6)\n",
      "(978, 6) (34226, 6)\n",
      "(978, 6) (34226, 6)\n",
      "(978, 6) (34226, 6)\n",
      "(978, 6) (34226, 6)\n",
      "(978, 6) (34226, 6)\n",
      "(978, 6) (34226, 6)\n",
      "(978, 6) (34226, 6)\n",
      "(978, 6) (34226, 6)\n",
      "(978, 6) (34226, 6)\n",
      "(977, 6) (34226, 6)\n",
      "CPU times: user 11.6 s, sys: 2.37 s, total: 13.9 s\n",
      "Wall time: 14 s\n"
     ]
    }
   ],
   "source": [
    "%%time\n",
    "preds = knn.predict(X_test_cat.iloc[:test_size])"
   ]
  },
  {
   "cell_type": "code",
   "execution_count": 39,
   "metadata": {
    "scrolled": true
   },
   "outputs": [
    {
     "data": {
      "text/plain": [
       "217.01271722720145"
      ]
     },
     "execution_count": 39,
     "metadata": {},
     "output_type": "execute_result"
    }
   ],
   "source": [
    "rmse(y_test_cat.iloc[:test_size].values.reshape(-1), preds)\n",
    "#195.55411220426942\n",
    "#218.08062593048203\n",
    "#"
   ]
  },
  {
   "cell_type": "code",
   "execution_count": 26,
   "metadata": {},
   "outputs": [],
   "source": [
    "knn = KNNRegressor(10, metric='flattened_overlap', mode='uniform', test_block_size=10)\n",
    "knn.fit(X_train_cat, y_train_cat)"
   ]
  },
  {
   "cell_type": "code",
   "execution_count": 27,
   "metadata": {},
   "outputs": [
    {
     "ename": "TypeError",
     "evalue": "flattened_overlap() missing 1 required positional argument: 'df'",
     "output_type": "error",
     "traceback": [
      "\u001b[0;31m---------------------------------------------------------------------------\u001b[0m",
      "\u001b[0;31mTypeError\u001b[0m                                 Traceback (most recent call last)",
      "\u001b[0;32m<timed exec>\u001b[0m in \u001b[0;36m<module>\u001b[0;34m\u001b[0m\n",
      "\u001b[0;32m<ipython-input-13-bd5ac0a9e42a>\u001b[0m in \u001b[0;36mpredict\u001b[0;34m(self, X, n_neighbors)\u001b[0m\n\u001b[1;32m     98\u001b[0m         \u001b[0;32mfor\u001b[0m \u001b[0mi\u001b[0m\u001b[0;34m,\u001b[0m \u001b[0msplit\u001b[0m \u001b[0;32min\u001b[0m \u001b[0menumerate\u001b[0m\u001b[0;34m(\u001b[0m\u001b[0mnp\u001b[0m\u001b[0;34m.\u001b[0m\u001b[0marray_split\u001b[0m\u001b[0;34m(\u001b[0m\u001b[0mX\u001b[0m\u001b[0;34m,\u001b[0m \u001b[0msplit_size\u001b[0m\u001b[0;34m)\u001b[0m\u001b[0;34m)\u001b[0m\u001b[0;34m:\u001b[0m\u001b[0;34m\u001b[0m\u001b[0;34m\u001b[0m\u001b[0m\n\u001b[1;32m     99\u001b[0m             self.distances, self.neigh_idxs = self.find_kneighbors(split,\n\u001b[0;32m--> 100\u001b[0;31m                                                                    \u001b[0mreturn_distance\u001b[0m\u001b[0;34m=\u001b[0m\u001b[0;32mTrue\u001b[0m\u001b[0;34m\u001b[0m\u001b[0;34m\u001b[0m\u001b[0m\n\u001b[0m\u001b[1;32m    101\u001b[0m                                                                   )\n\u001b[1;32m    102\u001b[0m             \u001b[0;32mfor\u001b[0m \u001b[0mj\u001b[0m\u001b[0;34m,\u001b[0m \u001b[0midx\u001b[0m \u001b[0;32min\u001b[0m \u001b[0menumerate\u001b[0m\u001b[0;34m(\u001b[0m\u001b[0mself\u001b[0m\u001b[0;34m.\u001b[0m\u001b[0mneigh_idxs\u001b[0m\u001b[0;34m)\u001b[0m\u001b[0;34m:\u001b[0m\u001b[0;34m\u001b[0m\u001b[0;34m\u001b[0m\u001b[0m\n",
      "\u001b[0;32m<ipython-input-13-bd5ac0a9e42a>\u001b[0m in \u001b[0;36mfind_kneighbors\u001b[0;34m(self, X, return_distance)\u001b[0m\n\u001b[1;32m     69\u001b[0m                 \u001b[0mself\u001b[0m\u001b[0;34m.\u001b[0m\u001b[0mdistances\u001b[0m \u001b[0;34m=\u001b[0m \u001b[0moverlap\u001b[0m\u001b[0;34m(\u001b[0m\u001b[0mX\u001b[0m\u001b[0;34m,\u001b[0m \u001b[0mself\u001b[0m\u001b[0;34m.\u001b[0m\u001b[0mX_train\u001b[0m\u001b[0;34m)\u001b[0m\u001b[0;34m\u001b[0m\u001b[0;34m\u001b[0m\u001b[0m\n\u001b[1;32m     70\u001b[0m             \u001b[0;32melif\u001b[0m \u001b[0mself\u001b[0m\u001b[0;34m.\u001b[0m\u001b[0mmetric\u001b[0m \u001b[0;34m==\u001b[0m \u001b[0;34m'flattened_overlap'\u001b[0m\u001b[0;34m:\u001b[0m\u001b[0;34m\u001b[0m\u001b[0;34m\u001b[0m\u001b[0m\n\u001b[0;32m---> 71\u001b[0;31m                 \u001b[0mself\u001b[0m\u001b[0;34m.\u001b[0m\u001b[0mdistances\u001b[0m \u001b[0;34m=\u001b[0m \u001b[0mflattened_overlap\u001b[0m\u001b[0;34m(\u001b[0m\u001b[0mX\u001b[0m\u001b[0;34m,\u001b[0m \u001b[0mself\u001b[0m\u001b[0;34m.\u001b[0m\u001b[0mX_train\u001b[0m\u001b[0;34m)\u001b[0m\u001b[0;34m\u001b[0m\u001b[0;34m\u001b[0m\u001b[0m\n\u001b[0m\u001b[1;32m     72\u001b[0m             \u001b[0;32melif\u001b[0m \u001b[0mself\u001b[0m\u001b[0;34m.\u001b[0m\u001b[0mmetric\u001b[0m \u001b[0;34m==\u001b[0m \u001b[0;34m'log_overlap'\u001b[0m\u001b[0;34m:\u001b[0m\u001b[0;34m\u001b[0m\u001b[0;34m\u001b[0m\u001b[0m\n\u001b[1;32m     73\u001b[0m                 \u001b[0mself\u001b[0m\u001b[0;34m.\u001b[0m\u001b[0mdistances\u001b[0m \u001b[0;34m=\u001b[0m \u001b[0mlog_overlap\u001b[0m\u001b[0;34m(\u001b[0m\u001b[0mX\u001b[0m\u001b[0;34m,\u001b[0m \u001b[0mself\u001b[0m\u001b[0;34m.\u001b[0m\u001b[0mX_train\u001b[0m\u001b[0;34m)\u001b[0m\u001b[0;34m\u001b[0m\u001b[0;34m\u001b[0m\u001b[0m\n",
      "\u001b[0;31mTypeError\u001b[0m: flattened_overlap() missing 1 required positional argument: 'df'"
     ]
    }
   ],
   "source": [
    "%%time\n",
    "preds = knn.predict(X_test_cat)"
   ]
  },
  {
   "cell_type": "code",
   "execution_count": null,
   "metadata": {},
   "outputs": [],
   "source": [
    "rmse(y_test_cat.values.reshape(-1), preds)"
   ]
  },
  {
   "cell_type": "code",
   "execution_count": null,
   "metadata": {},
   "outputs": [],
   "source": [
    "knn = KNNRegressor(10, metric=log_overlaperlap, mode='uniform', test_block_size=10)\n",
    "knn.fit(X_train_cat, y_train_cat)"
   ]
  },
  {
   "cell_type": "code",
   "execution_count": null,
   "metadata": {},
   "outputs": [],
   "source": [
    "%%time\n",
    "preds = knn.predict(X_test_cat)"
   ]
  },
  {
   "cell_type": "code",
   "execution_count": null,
   "metadata": {},
   "outputs": [],
   "source": [
    "rmse(y_test_cat.values.reshape(-1), preds)"
   ]
  },
  {
   "cell_type": "markdown",
   "metadata": {},
   "source": [
    "<b>2.2 (1 балл)</b> Найдите все категориальные признаки в данных. Подсчитайте для каждой из метрик качество на тестовой выборке `X_test` при числе соседей $k = 10$. Качество измеряйте с помощью RMSE.\n",
    "\n",
    "Какая функция расстояния оказалась лучшей? Почему?"
   ]
  },
  {
   "cell_type": "code",
   "execution_count": null,
   "metadata": {},
   "outputs": [],
   "source": [
    "# Ваш код здесь"
   ]
  },
  {
   "cell_type": "markdown",
   "metadata": {},
   "source": [
    "<b>2.3 (1 балл) бонус</b> Подберите лучшее (на тестовой выборке) число соседей $k$ для каждой из функций расстояния. Какого удалось достичь уровня качества?"
   ]
  },
  {
   "cell_type": "code",
   "execution_count": null,
   "metadata": {},
   "outputs": [],
   "source": [
    "# Ваш код здесь"
   ]
  },
  {
   "cell_type": "markdown",
   "metadata": {},
   "source": [
    "<b>2.4 (2.5 балла)</b> Отойдем ненадолго от задачи регрессии и перейдём к задаче классификации: будем определять, являеться ли квартира дорогой $(target = 1)$ или дешевой $(target = 0)$. Будем считать дорогими квариры, цена которых выше среднего."
   ]
  },
  {
   "cell_type": "code",
   "execution_count": 149,
   "metadata": {},
   "outputs": [],
   "source": [
    "data['target'] = (data.price > data.price.mean()).astype(int)"
   ]
  },
  {
   "cell_type": "markdown",
   "metadata": {},
   "source": [
    "Реализуйте счетчики, которые заменят категориальные признаки на вещественные.\n",
    "\n",
    "А именно, для каждого категориального признака $f_j(x)$ необходимо сделать следующее:\n",
    "1. Число `counts` объектов в обучающей выборке с таким же значением признака.\n",
    "\\begin{align}\n",
    "counts_j(c) = \\sum_{i=1}^l [f_j(x_i) = c]\n",
    "\\end{align}\n",
    "2. Число `successes` объектов первого класса ($y = 1$) в обучающей выборке с таким же значением признака.\n",
    "\\begin{align}\n",
    "successes_j(c) = \\sum_{i=1}^l[f_j(x_i) = c][y_i = +1].\n",
    "\\end{align}\n",
    "3. Сглаженное отношение двух предыдущих величин:\n",
    "\\begin{align}\n",
    "p_j(c) = \\frac{successes_j(c) + a}{counts_j(c) + b},\n",
    "\\end{align}\n",
    "\n",
    "где $a$ и $b$ - априорные счетчики (например, a = 1, b = 2)."
   ]
  },
  {
   "cell_type": "code",
   "execution_count": 143,
   "metadata": {},
   "outputs": [],
   "source": [
    "def counters(x):\n",
    "    \"\"\"\n",
    "    params:\n",
    "        x: value on categorical feature for N objects\n",
    "    returns: vector of length N\n",
    "    \"\"\"\n",
    "\n",
    "    pass\n",
    "  \n",
    "def counts(x):\n",
    "    \"\"\"\n",
    "    x - one categorical column with type - pandas series\n",
    "    \"\"\"\n",
    "    \n",
    "    x = x.to_numpy()\n",
    "    return np.sum(x[:, None] == x, axis=1)\n",
    "\n",
    "\n",
    "def successes(x, y):\n",
    "    \"\"\"\n",
    "    x - one categorical column with type - pandas series\n",
    "    y - target feature from df\n",
    "    \"\"\"\n",
    "    \n",
    "    x = x.to_numpy()\n",
    "    y = y.to_numpy()\n",
    "    result = np.sum((x[:, None] == x) * (y == 1), axis=1)\n",
    "    return result\n",
    "    \n",
    "\n",
    "def flattened_c_s(x, y, a=1, b=2):\n",
    "    \"\"\"\n",
    "    x - one categorical column with type - pandas series\n",
    "    y - target feature from dataframe\n",
    "    a - priori counter\n",
    "    b - priori counter\n",
    "    \"\"\"\n",
    "    \n",
    "    return (successes(x, y) + a) / (counts(x) + b)\n",
    "    \n",
    "    \n",
    "    "
   ]
  },
  {
   "cell_type": "code",
   "execution_count": 145,
   "metadata": {},
   "outputs": [
    {
     "name": "stdout",
     "output_type": "stream",
     "text": [
      "CPU times: user 17 s, sys: 428 ms, total: 17.5 s\n",
      "Wall time: 17.4 s\n"
     ]
    }
   ],
   "source": [
    "%%time\n",
    "cnts = counts(X_train_cat.iloc[:, 1])"
   ]
  },
  {
   "cell_type": "code",
   "execution_count": 154,
   "metadata": {},
   "outputs": [
    {
     "data": {
      "text/plain": [
       "array([ 65,  25,   7, 108,   1,   1,  79,   9,   3,   3,   4,  20, 230,\n",
       "        27,   4,  28,  37,  21,  14,  53,  10,  89,   2, 104,  80,   6,\n",
       "        37,   1,   2,  45, 114,  14,   1,   1,  27,  70,  18,   1,  30,\n",
       "        22,   2,   1,   3,   6,   6, 103,  49,  41,   9, 278])"
      ]
     },
     "execution_count": 154,
     "metadata": {},
     "output_type": "execute_result"
    }
   ],
   "source": [
    "cnts[:50]"
   ]
  },
  {
   "cell_type": "code",
   "execution_count": 153,
   "metadata": {},
   "outputs": [
    {
     "data": {
      "text/html": [
       "<div>\n",
       "<style scoped>\n",
       "    .dataframe tbody tr th:only-of-type {\n",
       "        vertical-align: middle;\n",
       "    }\n",
       "\n",
       "    .dataframe tbody tr th {\n",
       "        vertical-align: top;\n",
       "    }\n",
       "\n",
       "    .dataframe thead th {\n",
       "        text-align: right;\n",
       "    }\n",
       "</style>\n",
       "<table border=\"1\" class=\"dataframe\">\n",
       "  <thead>\n",
       "    <tr style=\"text-align: right;\">\n",
       "      <th></th>\n",
       "      <th>name</th>\n",
       "      <th>host_name</th>\n",
       "      <th>neighbourhood_group</th>\n",
       "      <th>neighbourhood</th>\n",
       "      <th>room_type</th>\n",
       "      <th>last_review</th>\n",
       "    </tr>\n",
       "  </thead>\n",
       "  <tbody>\n",
       "    <tr>\n",
       "      <td>39319</td>\n",
       "      <td>Large bedroom</td>\n",
       "      <td>Sara</td>\n",
       "      <td>Brooklyn</td>\n",
       "      <td>Kensington</td>\n",
       "      <td>Private room</td>\n",
       "      <td>2019-07-07</td>\n",
       "    </tr>\n",
       "    <tr>\n",
       "      <td>22796</td>\n",
       "      <td>Sun Drenched Gramercy/East Village!</td>\n",
       "      <td>Chelsea</td>\n",
       "      <td>Manhattan</td>\n",
       "      <td>Gramercy</td>\n",
       "      <td>Entire home/apt</td>\n",
       "      <td>2017-12-18</td>\n",
       "    </tr>\n",
       "    <tr>\n",
       "      <td>26190</td>\n",
       "      <td>Gorgeous single room in Sunnyside near Manhattan</td>\n",
       "      <td>Lidia</td>\n",
       "      <td>Queens</td>\n",
       "      <td>Sunnyside</td>\n",
       "      <td>Private room</td>\n",
       "      <td>2019-07-01</td>\n",
       "    </tr>\n",
       "    <tr>\n",
       "      <td>8161</td>\n",
       "      <td>Cozy UES Studio</td>\n",
       "      <td>Jennifer</td>\n",
       "      <td>Manhattan</td>\n",
       "      <td>Upper East Side</td>\n",
       "      <td>Entire home/apt</td>\n",
       "      <td>-1</td>\n",
       "    </tr>\n",
       "    <tr>\n",
       "      <td>32473</td>\n",
       "      <td>Modern &amp; Cozy Studio In Best East Village Loca...</td>\n",
       "      <td>Kea</td>\n",
       "      <td>Manhattan</td>\n",
       "      <td>East Village</td>\n",
       "      <td>Entire home/apt</td>\n",
       "      <td>2019-07-06</td>\n",
       "    </tr>\n",
       "    <tr>\n",
       "      <td>...</td>\n",
       "      <td>...</td>\n",
       "      <td>...</td>\n",
       "      <td>...</td>\n",
       "      <td>...</td>\n",
       "      <td>...</td>\n",
       "      <td>...</td>\n",
       "    </tr>\n",
       "    <tr>\n",
       "      <td>41432</td>\n",
       "      <td>Sonder | Stock Exchange | Lovely 1BR + Lounge</td>\n",
       "      <td>Sonder (NYC)</td>\n",
       "      <td>Manhattan</td>\n",
       "      <td>Financial District</td>\n",
       "      <td>Entire home/apt</td>\n",
       "      <td>2019-06-21</td>\n",
       "    </tr>\n",
       "    <tr>\n",
       "      <td>8690</td>\n",
       "      <td>New Building, Best Location in NYC</td>\n",
       "      <td>Megan</td>\n",
       "      <td>Manhattan</td>\n",
       "      <td>Chelsea</td>\n",
       "      <td>Private room</td>\n",
       "      <td>2019-05-11</td>\n",
       "    </tr>\n",
       "    <tr>\n",
       "      <td>144</td>\n",
       "      <td>FLAT MACDONOUGH GARDEN</td>\n",
       "      <td>Khem</td>\n",
       "      <td>Brooklyn</td>\n",
       "      <td>Bedford-Stuyvesant</td>\n",
       "      <td>Entire home/apt</td>\n",
       "      <td>2019-06-20</td>\n",
       "    </tr>\n",
       "    <tr>\n",
       "      <td>10987</td>\n",
       "      <td>Affordable Artistic Apartment</td>\n",
       "      <td>Nikolina</td>\n",
       "      <td>Brooklyn</td>\n",
       "      <td>Sunset Park</td>\n",
       "      <td>Entire home/apt</td>\n",
       "      <td>2019-06-16</td>\n",
       "    </tr>\n",
       "    <tr>\n",
       "      <td>12716</td>\n",
       "      <td>Bedford Palace</td>\n",
       "      <td>Lauryn</td>\n",
       "      <td>Brooklyn</td>\n",
       "      <td>Crown Heights</td>\n",
       "      <td>Private room</td>\n",
       "      <td>-1</td>\n",
       "    </tr>\n",
       "  </tbody>\n",
       "</table>\n",
       "<p>34226 rows × 6 columns</p>\n",
       "</div>"
      ],
      "text/plain": [
       "                                                    name     host_name  \\\n",
       "39319                                      Large bedroom          Sara   \n",
       "22796                Sun Drenched Gramercy/East Village!       Chelsea   \n",
       "26190   Gorgeous single room in Sunnyside near Manhattan         Lidia   \n",
       "8161                                     Cozy UES Studio      Jennifer   \n",
       "32473  Modern & Cozy Studio In Best East Village Loca...           Kea   \n",
       "...                                                  ...           ...   \n",
       "41432      Sonder | Stock Exchange | Lovely 1BR + Lounge  Sonder (NYC)   \n",
       "8690                  New Building, Best Location in NYC         Megan   \n",
       "144                               FLAT MACDONOUGH GARDEN          Khem   \n",
       "10987                      Affordable Artistic Apartment      Nikolina   \n",
       "12716                                     Bedford Palace        Lauryn   \n",
       "\n",
       "      neighbourhood_group       neighbourhood        room_type last_review  \n",
       "39319            Brooklyn          Kensington     Private room  2019-07-07  \n",
       "22796           Manhattan            Gramercy  Entire home/apt  2017-12-18  \n",
       "26190              Queens           Sunnyside     Private room  2019-07-01  \n",
       "8161            Manhattan     Upper East Side  Entire home/apt          -1  \n",
       "32473           Manhattan        East Village  Entire home/apt  2019-07-06  \n",
       "...                   ...                 ...              ...         ...  \n",
       "41432           Manhattan  Financial District  Entire home/apt  2019-06-21  \n",
       "8690            Manhattan             Chelsea     Private room  2019-05-11  \n",
       "144              Brooklyn  Bedford-Stuyvesant  Entire home/apt  2019-06-20  \n",
       "10987            Brooklyn         Sunset Park  Entire home/apt  2019-06-16  \n",
       "12716            Brooklyn       Crown Heights     Private room          -1  \n",
       "\n",
       "[34226 rows x 6 columns]"
      ]
     },
     "execution_count": 153,
     "metadata": {},
     "output_type": "execute_result"
    }
   ],
   "source": [
    "X_train_cat.loc[]"
   ]
  },
  {
   "cell_type": "code",
   "execution_count": 180,
   "metadata": {},
   "outputs": [
    {
     "name": "stdout",
     "output_type": "stream",
     "text": [
      "CPU times: user 474 µs, sys: 0 ns, total: 474 µs\n",
      "Wall time: 479 µs\n"
     ]
    }
   ],
   "source": [
    "%%time\n",
    "scss = successes(data['room_type'][:10], data['target'][:10])"
   ]
  },
  {
   "cell_type": "code",
   "execution_count": 181,
   "metadata": {},
   "outputs": [
    {
     "data": {
      "text/plain": [
       "array([0, 2, 0, 2, 2, 2, 0, 0, 0, 2])"
      ]
     },
     "execution_count": 181,
     "metadata": {},
     "output_type": "execute_result"
    }
   ],
   "source": [
    "scss"
   ]
  },
  {
   "cell_type": "code",
   "execution_count": 186,
   "metadata": {},
   "outputs": [
    {
     "name": "stdout",
     "output_type": "stream",
     "text": [
      "CPU times: user 1.89 ms, sys: 0 ns, total: 1.89 ms\n",
      "Wall time: 1.82 ms\n"
     ]
    },
    {
     "data": {
      "text/plain": [
       "array([0.2       , 0.33333333, 0.33333333, 0.2       , 0.33333333,\n",
       "       0.33333333, 0.2       , 0.33333333, 0.33333333, 0.33333333])"
      ]
     },
     "execution_count": 186,
     "metadata": {},
     "output_type": "execute_result"
    }
   ],
   "source": [
    "%%time\n",
    "flattened_c_s(data['neighbourhood_group'][:10], data['target'][:10])"
   ]
  },
  {
   "cell_type": "markdown",
   "metadata": {},
   "source": [
    "Поскольку признаки, содержащие информацию о целевой переменной, могут привести к переобучению, может оказаться полезным сделать *фолдинг*: разбить обучающую выборку на $n$ частей, и для $i$-й части считать `counts` и `successes` по всем остальным частям. Для тестовой выборки используются счетчики, посчитанный по всей обучающей выборке. Реализуйте и такой вариант. Достаточно взять $n = 3$."
   ]
  },
  {
   "cell_type": "markdown",
   "metadata": {},
   "source": [
    "## Реализуем kfold:"
   ]
  },
  {
   "cell_type": "code",
   "execution_count": 176,
   "metadata": {},
   "outputs": [],
   "source": [
    "def kfold(n, n_folds=3):\n",
    "    \"\"\"\n",
    "    params:\n",
    "        * n - objects amount in sample\n",
    "        * n_folds - folds amount\n",
    "    return values:\n",
    "        * list with size n_folds, where every element is tuple of two 1D numpy array:\n",
    "            * first array contains indices of train samples\n",
    "            * second array contains indices of validation samples\n",
    "    \"\"\"\n",
    "\n",
    "    indices = np.arange(n)\n",
    "#     np.random.shuffle(indices)\n",
    "    size_of_one_fold = int(n / n_folds) + (n < n_folds)\n",
    "    size_with_folds = size_of_one_fold * n_folds\n",
    "    out_elements_amount = len(indices) - size_with_folds\n",
    "    train_test_idx_list = []\n",
    "    for i in range(n_folds):\n",
    "        test_idx = indices[i * size_of_one_fold:(i + 1) * size_of_one_fold]\n",
    "        if out_elements_amount > 0:\n",
    "            test_idx = np.append(test_idx, n - out_elements_amount)\n",
    "            out_elements_amount -= 1\n",
    "        train_idx = np.array(list((set(indices) - set(test_idx))))\n",
    "        train_test_idx_list.append((train_idx, test_idx))\n",
    "    return train_test_idx_list"
   ]
  },
  {
   "cell_type": "code",
   "execution_count": 179,
   "metadata": {},
   "outputs": [],
   "source": [
    "def successes_with_folds(x, y, n_folds=3):\n",
    "    \"\"\"\n",
    "    x - one categorical column with type - pandas series\n",
    "    y - target feature from df\n",
    "    n_folds - amount of folds\n",
    "    \"\"\"\n",
    "    \n",
    "    result = np.arange(x.shape[0])\n",
    "    for help_indx, main_indx in kfold(x.shape[0], n_folds):\n",
    "        unique_elems = np.unique(x[help_indx])\n",
    "        successes_per_fold = {x : [] for x in unique_elems}\n",
    "        for unique_elem in unique_elems:\n",
    "            successes_per_fold[unique_elem] = np.sum((x[help_indx] == unique_elem) * (y == 1))\n",
    "#             print(x[main_indx] == unique_elem)\n",
    "            result[main_indx & (x[main_indx] == unique_elem)] = successes_per_fold[unique_elem]\n",
    "#         print(successes_per_fold)\n",
    "#         help_successes = successes(x[help_indx], y[help_indx])\n",
    "#         print(help_successes)\n",
    "    return result"
   ]
  },
  {
   "cell_type": "code",
   "execution_count": 178,
   "metadata": {},
   "outputs": [
    {
     "data": {
      "text/plain": [
       "array([1, 1, 2, 3, 4, 5, 6])"
      ]
     },
     "execution_count": 178,
     "metadata": {},
     "output_type": "execute_result"
    }
   ],
   "source": [
    "successes_with_folds(data.loc[:6, 'neighbourhood_group'], data.loc[:6, 'target'])"
   ]
  },
  {
   "cell_type": "markdown",
   "metadata": {},
   "source": [
    "Посчитайте на тесте AUC-ROC метода $k$ ближайших соседей с евклидовой метрикой для выборки, где категориальные признаки заменены на счетчики. Сравните по AUC-ROC два варианта формирования выборки — с фолдингом и без. Не забудьте подобрать наилучшее число соседей $k$."
   ]
  },
  {
   "cell_type": "code",
   "execution_count": null,
   "metadata": {},
   "outputs": [],
   "source": [
    "# Ваш код здесь"
   ]
  },
  {
   "cell_type": "markdown",
   "metadata": {},
   "source": [
    "<b>2.5 (1 балл)</b> Вернемся к задаче регрессии. Утверждается, что для задачи регрессии можно также сделать преобразование категориальных признаков в действительные числа. Для этого достаточно для каждого значения признака $f_j$ вычислить:\n",
    "\\begin{align}\n",
    "p_j(c) = g(T_i | f_j(x_i) = c),\n",
    "\\end{align}\n",
    "\n",
    "где $T_i$ - значения целевой переменной объекта $x_i$. Функция $g$ - среднее (mean) или среднеквадратичное отклонение (std).\n",
    "\n",
    "Закодируйте категориальные признаки обоими способами и найдите значение RMSE. Используйте евклидову метрику для поиска ближайших соседей. Для какой функции $g$ значение RMSE лучше? Почему?"
   ]
  },
  {
   "cell_type": "code",
   "execution_count": null,
   "metadata": {},
   "outputs": [],
   "source": [
    "# Ваш код здесь"
   ]
  },
  {
   "cell_type": "markdown",
   "metadata": {},
   "source": [
    "## Часть 3: Текстовые признаки"
   ]
  },
  {
   "cell_type": "markdown",
   "metadata": {},
   "source": [
    "<b>3.1 (2 балла)</b> Перейдем от категориальным признаков к текстовым. Рассмотрим 2 способа преобразования текста в действительные числа:\n",
    "- Мешок слов (Bag of Words)\n",
    "- TF-IDF\n",
    "\n",
    "[Здесь](https://scikit-learn.org/stable/modules/feature_extraction.html) вы можете прочитать про их применение в Питоне.\n",
    "\n",
    "Сравните оба способа на задаче регресси. Какую лучше метрику использовать: евклидову или косинусную меру? Постройте графики зависимости качества решения задачи от способа преобразования, метрики и количества соседей. Мера качества - RMSE.\n",
    "\n",
    "Объясните полученные результаты.\n",
    "\n",
    "Перед преобразованием не забудьте уменьшить размер словаря. Например, это можно сделать за счет приведения всех слов к одному регистру и удаления [стопслов](https://en.wikipedia.org/wiki/Stop_words) (артиклей, предлогов, союзов)."
   ]
  },
  {
   "cell_type": "code",
   "execution_count": null,
   "metadata": {},
   "outputs": [],
   "source": [
    "# Ваш код здесь"
   ]
  },
  {
   "cell_type": "markdown",
   "metadata": {},
   "source": [
    "<b>3.2 (1 балл)</b> Используя все доступные признаки, решите задачу регрессии. Для категориальных и текстовых признаков выберите лучшие преобразования. Повлияло ли добавление количественного признака на метрику качества?"
   ]
  },
  {
   "cell_type": "code",
   "execution_count": null,
   "metadata": {},
   "outputs": [],
   "source": [
    "# Ваш код здесь"
   ]
  },
  {
   "cell_type": "markdown",
   "metadata": {},
   "source": [
    "## Часть 4: Выводы\n"
   ]
  },
  {
   "cell_type": "code",
   "execution_count": null,
   "metadata": {},
   "outputs": [],
   "source": [
    "# Ваши выводы здесь (ノ°∀°)ノ⌒･*:.｡. .｡.:*･゜ﾟ･*☆"
   ]
  }
 ],
 "metadata": {
  "kernelspec": {
   "display_name": "Python 3",
   "language": "python",
   "name": "python3"
  },
  "language_info": {
   "codemirror_mode": {
    "name": "ipython",
    "version": 3
   },
   "file_extension": ".py",
   "mimetype": "text/x-python",
   "name": "python",
   "nbconvert_exporter": "python",
   "pygments_lexer": "ipython3",
   "version": "3.7.4"
  }
 },
 "nbformat": 4,
 "nbformat_minor": 1
}
