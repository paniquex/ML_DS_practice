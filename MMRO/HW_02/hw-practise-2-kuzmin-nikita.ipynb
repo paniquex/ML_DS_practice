{
 "cells": [
  {
   "cell_type": "markdown",
   "metadata": {},
   "source": [
    "## Машинное обучение, ВМК МГУ\n",
    "\n",
    "## Практическое задание 2\n",
    "\n",
    "### Общая информация\n",
    "Дата выдачи: 9 октября 2019\n",
    "\n",
    "Максимальная оценка: 10 баллов + 1 бонусный балл\n",
    "\n",
    "Мягкий дедлайн: 23:59MSK 23 октября (за каждый день просрочки снимается 1 балл)\n",
    "\n",
    "Жесткий дедлайн: 23:59MSK 30 октября."
   ]
  },
  {
   "cell_type": "markdown",
   "metadata": {},
   "source": [
    "### О задании\n",
    "\n",
    "В этом задании вы:\n",
    "- Познакомитесь с методом решения задачи регрессии на основе метода ближайших соседей.\n",
    "- Реализуете алгоритм kNN для задачи регрессии.\n",
    "- Изучите методы работы с категориальными и текстовыми переменными.\n",
    "\n",
    "\n",
    "### Оценивание и штрафы\n",
    "Каждая из задач имеет определенную «стоимость» (указана в скобках около задачи). Максимально допустимая оценка за работу — 10 баллов.\n",
    "\n",
    "Сдавать задание после указанного срока сдачи нельзя. При выставлении неполного балла за задание в связи с наличием ошибок на усмотрение проверяющего предусмотрена возможность исправить работу на указанных в ответном письме условиях.\n",
    "\n",
    "Задание выполняется самостоятельно. «Похожие» решения считаются плагиатом и все задействованные студенты (в том числе те, у кого списали) не могут получить за него больше 0 баллов (подробнее о плагиате см. на странице курса). Если вы нашли решение какого-то из заданий (или его часть) в открытом источнике, необходимо указать ссылку на этот источник в отдельном блоке в конце вашей работы (скорее всего вы будете не единственным, кто это нашел, поэтому чтобы исключить подозрение в плагиате, необходима ссылка на источник).\n",
    "\n",
    "Неэффективная реализация кода может негативно отразиться на оценке.\n",
    "\n",
    "\n",
    "### Формат сдачи\n",
    "Для сдачи задания переименуйте получившийся файл *.ipynb в соответствии со следующим форматом: homework-practice-02-Username.ipynb, где Username — ваша фамилия и имя на латинице именно в таком порядке (например, homework-practice-02-ivanov.ipynb).\n",
    "\n",
    "Далее отправьте этот файл на anytask в соответсвующий раздел."
   ]
  },
  {
   "cell_type": "code",
   "execution_count": 1,
   "metadata": {},
   "outputs": [],
   "source": [
    "import numpy as np\n",
    "import pandas as pd"
   ]
  },
  {
   "cell_type": "markdown",
   "metadata": {},
   "source": [
    "Все эксперименты в этой лабораторной работе предлагается проводить на данных соревнования New York City Airbnb Open Data: https://www.kaggle.com/dgomonov/new-york-city-airbnb-open-data#AB_NYC_2019.csv\n",
    "\n",
    "В данной задаче предлагается предсказать цену на съем квартиры в зависимости от её параметров."
   ]
  },
  {
   "cell_type": "code",
   "execution_count": 2,
   "metadata": {},
   "outputs": [
    {
     "data": {
      "text/html": [
       "<div>\n",
       "<style scoped>\n",
       "    .dataframe tbody tr th:only-of-type {\n",
       "        vertical-align: middle;\n",
       "    }\n",
       "\n",
       "    .dataframe tbody tr th {\n",
       "        vertical-align: top;\n",
       "    }\n",
       "\n",
       "    .dataframe thead th {\n",
       "        text-align: right;\n",
       "    }\n",
       "</style>\n",
       "<table border=\"1\" class=\"dataframe\">\n",
       "  <thead>\n",
       "    <tr style=\"text-align: right;\">\n",
       "      <th></th>\n",
       "      <th>id</th>\n",
       "      <th>name</th>\n",
       "      <th>host_id</th>\n",
       "      <th>host_name</th>\n",
       "      <th>neighbourhood_group</th>\n",
       "      <th>neighbourhood</th>\n",
       "      <th>latitude</th>\n",
       "      <th>longitude</th>\n",
       "      <th>room_type</th>\n",
       "      <th>price</th>\n",
       "      <th>minimum_nights</th>\n",
       "      <th>number_of_reviews</th>\n",
       "      <th>last_review</th>\n",
       "      <th>reviews_per_month</th>\n",
       "      <th>calculated_host_listings_count</th>\n",
       "      <th>availability_365</th>\n",
       "    </tr>\n",
       "  </thead>\n",
       "  <tbody>\n",
       "    <tr>\n",
       "      <th>0</th>\n",
       "      <td>2539</td>\n",
       "      <td>Clean &amp; quiet apt home by the park</td>\n",
       "      <td>2787</td>\n",
       "      <td>John</td>\n",
       "      <td>Brooklyn</td>\n",
       "      <td>Kensington</td>\n",
       "      <td>40.64749</td>\n",
       "      <td>-73.97237</td>\n",
       "      <td>Private room</td>\n",
       "      <td>149</td>\n",
       "      <td>1</td>\n",
       "      <td>9</td>\n",
       "      <td>2018-10-19</td>\n",
       "      <td>0.21</td>\n",
       "      <td>6</td>\n",
       "      <td>365</td>\n",
       "    </tr>\n",
       "    <tr>\n",
       "      <th>1</th>\n",
       "      <td>2595</td>\n",
       "      <td>Skylit Midtown Castle</td>\n",
       "      <td>2845</td>\n",
       "      <td>Jennifer</td>\n",
       "      <td>Manhattan</td>\n",
       "      <td>Midtown</td>\n",
       "      <td>40.75362</td>\n",
       "      <td>-73.98377</td>\n",
       "      <td>Entire home/apt</td>\n",
       "      <td>225</td>\n",
       "      <td>1</td>\n",
       "      <td>45</td>\n",
       "      <td>2019-05-21</td>\n",
       "      <td>0.38</td>\n",
       "      <td>2</td>\n",
       "      <td>355</td>\n",
       "    </tr>\n",
       "    <tr>\n",
       "      <th>2</th>\n",
       "      <td>3647</td>\n",
       "      <td>THE VILLAGE OF HARLEM....NEW YORK !</td>\n",
       "      <td>4632</td>\n",
       "      <td>Elisabeth</td>\n",
       "      <td>Manhattan</td>\n",
       "      <td>Harlem</td>\n",
       "      <td>40.80902</td>\n",
       "      <td>-73.94190</td>\n",
       "      <td>Private room</td>\n",
       "      <td>150</td>\n",
       "      <td>3</td>\n",
       "      <td>0</td>\n",
       "      <td>NaN</td>\n",
       "      <td>NaN</td>\n",
       "      <td>1</td>\n",
       "      <td>365</td>\n",
       "    </tr>\n",
       "    <tr>\n",
       "      <th>3</th>\n",
       "      <td>3831</td>\n",
       "      <td>Cozy Entire Floor of Brownstone</td>\n",
       "      <td>4869</td>\n",
       "      <td>LisaRoxanne</td>\n",
       "      <td>Brooklyn</td>\n",
       "      <td>Clinton Hill</td>\n",
       "      <td>40.68514</td>\n",
       "      <td>-73.95976</td>\n",
       "      <td>Entire home/apt</td>\n",
       "      <td>89</td>\n",
       "      <td>1</td>\n",
       "      <td>270</td>\n",
       "      <td>2019-07-05</td>\n",
       "      <td>4.64</td>\n",
       "      <td>1</td>\n",
       "      <td>194</td>\n",
       "    </tr>\n",
       "    <tr>\n",
       "      <th>4</th>\n",
       "      <td>5022</td>\n",
       "      <td>Entire Apt: Spacious Studio/Loft by central park</td>\n",
       "      <td>7192</td>\n",
       "      <td>Laura</td>\n",
       "      <td>Manhattan</td>\n",
       "      <td>East Harlem</td>\n",
       "      <td>40.79851</td>\n",
       "      <td>-73.94399</td>\n",
       "      <td>Entire home/apt</td>\n",
       "      <td>80</td>\n",
       "      <td>10</td>\n",
       "      <td>9</td>\n",
       "      <td>2018-11-19</td>\n",
       "      <td>0.10</td>\n",
       "      <td>1</td>\n",
       "      <td>0</td>\n",
       "    </tr>\n",
       "  </tbody>\n",
       "</table>\n",
       "</div>"
      ],
      "text/plain": [
       "     id                                              name  host_id  \\\n",
       "0  2539                Clean & quiet apt home by the park     2787   \n",
       "1  2595                             Skylit Midtown Castle     2845   \n",
       "2  3647               THE VILLAGE OF HARLEM....NEW YORK !     4632   \n",
       "3  3831                   Cozy Entire Floor of Brownstone     4869   \n",
       "4  5022  Entire Apt: Spacious Studio/Loft by central park     7192   \n",
       "\n",
       "     host_name neighbourhood_group neighbourhood  latitude  longitude  \\\n",
       "0         John            Brooklyn    Kensington  40.64749  -73.97237   \n",
       "1     Jennifer           Manhattan       Midtown  40.75362  -73.98377   \n",
       "2    Elisabeth           Manhattan        Harlem  40.80902  -73.94190   \n",
       "3  LisaRoxanne            Brooklyn  Clinton Hill  40.68514  -73.95976   \n",
       "4        Laura           Manhattan   East Harlem  40.79851  -73.94399   \n",
       "\n",
       "         room_type  price  minimum_nights  number_of_reviews last_review  \\\n",
       "0     Private room    149               1                  9  2018-10-19   \n",
       "1  Entire home/apt    225               1                 45  2019-05-21   \n",
       "2     Private room    150               3                  0         NaN   \n",
       "3  Entire home/apt     89               1                270  2019-07-05   \n",
       "4  Entire home/apt     80              10                  9  2018-11-19   \n",
       "\n",
       "   reviews_per_month  calculated_host_listings_count  availability_365  \n",
       "0               0.21                               6               365  \n",
       "1               0.38                               2               355  \n",
       "2                NaN                               1               365  \n",
       "3               4.64                               1               194  \n",
       "4               0.10                               1                 0  "
      ]
     },
     "execution_count": 2,
     "metadata": {},
     "output_type": "execute_result"
    }
   ],
   "source": [
    "data = pd.read_csv('./data/AB_NYC_2019.csv')\n",
    "data.head()"
   ]
  },
  {
   "cell_type": "code",
   "execution_count": 3,
   "metadata": {},
   "outputs": [
    {
     "data": {
      "text/plain": [
       "(48895, 16)"
      ]
     },
     "execution_count": 3,
     "metadata": {},
     "output_type": "execute_result"
    }
   ],
   "source": [
    "data.shape"
   ]
  },
  {
   "cell_type": "code",
   "execution_count": 4,
   "metadata": {},
   "outputs": [
    {
     "name": "stdout",
     "output_type": "stream",
     "text": [
      "id 48895\n",
      "name 47906\n",
      "host_id 37457\n",
      "host_name 11453\n",
      "neighbourhood_group 5\n",
      "neighbourhood 221\n",
      "latitude 19048\n",
      "longitude 14718\n",
      "room_type 3\n",
      "price 674\n",
      "minimum_nights 109\n",
      "number_of_reviews 394\n",
      "last_review 1765\n",
      "reviews_per_month 938\n",
      "calculated_host_listings_count 47\n",
      "availability_365 366\n"
     ]
    }
   ],
   "source": [
    "# число значений у признаков\n",
    "for col_name in data.columns:\n",
    "    print(col_name, len(data[col_name].unique()))"
   ]
  },
  {
   "cell_type": "code",
   "execution_count": 5,
   "metadata": {},
   "outputs": [
    {
     "data": {
      "text/plain": [
       "id                                    0\n",
       "name                                 16\n",
       "host_id                               0\n",
       "host_name                            21\n",
       "neighbourhood_group                   0\n",
       "neighbourhood                         0\n",
       "latitude                              0\n",
       "longitude                             0\n",
       "room_type                             0\n",
       "price                                 0\n",
       "minimum_nights                        0\n",
       "number_of_reviews                     0\n",
       "last_review                       10052\n",
       "reviews_per_month                 10052\n",
       "calculated_host_listings_count        0\n",
       "availability_365                      0\n",
       "dtype: int64"
      ]
     },
     "execution_count": 5,
     "metadata": {},
     "output_type": "execute_result"
    }
   ],
   "source": [
    "data.isna().sum()"
   ]
  },
  {
   "cell_type": "markdown",
   "metadata": {},
   "source": [
    "Как видите, в данных есть пропуски. Не забудьте обработать их"
   ]
  },
  {
   "cell_type": "markdown",
   "metadata": {},
   "source": [
    "Заполним пропуски в колонках **name** и **host_name** значением '-1', которое будет сигнализировать о пропуске в колонке."
   ]
  },
  {
   "cell_type": "code",
   "execution_count": 6,
   "metadata": {},
   "outputs": [],
   "source": [
    "data.loc[data['name'].isna(), 'name'] = '-1'\n",
    "data.loc[data['host_name'].isna(), 'host_name'] = '-1'"
   ]
  },
  {
   "cell_type": "markdown",
   "metadata": {},
   "source": [
    "С колонкой $last\\_review$ поступим иначе:\n",
    "* $last\\_review$ - рассмотрим объект $x$ такой, что $x[\"last\\_review\"] = nan$ и $x[\"neighbourhood\"] = neigh$. Тогда $x[\"last\\_review\"]$ заполняем наиболее встречаемым значением в колонке $last\\_review$ среди всех объектов $x_{i}$ тренировочной выборки: $x_{i}[\"neighbourhood\"] = neigh$"
   ]
  },
  {
   "cell_type": "code",
   "execution_count": 7,
   "metadata": {},
   "outputs": [
    {
     "name": "stdout",
     "output_type": "stream",
     "text": [
      "CPU times: user 1min 9s, sys: 21.8 ms, total: 1min 9s\n",
      "Wall time: 1min 9s\n"
     ]
    }
   ],
   "source": [
    "%%time\n",
    "is_last_review_nan = data['last_review'].isna()\n",
    "for neigh in data[is_last_review_nan]['neighbourhood']:\n",
    "    is_neigh = data['neighbourhood'] == neigh\n",
    "    if data[is_neigh].shape[0] == 1:\n",
    "        data.loc[is_last_review_nan, 'last_review'] = '-1'\n",
    "    else:\n",
    "        data.loc[is_neigh & is_last_review_nan, 'last_review'] = data[is_neigh]['last_review'].value_counts().idxmax()"
   ]
  },
  {
   "cell_type": "markdown",
   "metadata": {},
   "source": [
    "А для колонки **$reviews\\_per\\_month$** возьмем не наиболее встречаемое значение, а среднее:"
   ]
  },
  {
   "cell_type": "code",
   "execution_count": 8,
   "metadata": {},
   "outputs": [
    {
     "name": "stdout",
     "output_type": "stream",
     "text": [
      "CPU times: user 43.3 s, sys: 24 ms, total: 43.4 s\n",
      "Wall time: 43.4 s\n"
     ]
    }
   ],
   "source": [
    "%%time\n",
    "is_reviews_per_month_nan = data['reviews_per_month'].isna()\n",
    "for neigh in data[is_last_review_nan]['neighbourhood']:\n",
    "    is_neigh = data['neighbourhood'] == neigh\n",
    "    if data[is_neigh].shape[0] == 1:\n",
    "        data.loc[is_reviews_per_month_nan, 'reviews_per_month'] = -1\n",
    "    else:\n",
    "        data.loc[is_neigh & is_reviews_per_month_nan, 'reviews_per_month'] = data[is_neigh]['reviews_per_month'].mean()"
   ]
  },
  {
   "cell_type": "markdown",
   "metadata": {},
   "source": [
    "Разобъем данные на обучение и контроль."
   ]
  },
  {
   "cell_type": "markdown",
   "metadata": {},
   "source": [
    "Для тестирования модели без категориальных признаков:"
   ]
  },
  {
   "cell_type": "code",
   "execution_count": 9,
   "metadata": {
    "scrolled": false
   },
   "outputs": [],
   "source": [
    "from sklearn.model_selection import train_test_split\n",
    "X_train_non_cat, X_test_non_cat, y_train_non_cat, y_test_non_cat = train_test_split(data.drop(columns=['price',\n",
    "                                                                                              'last_review',\n",
    "                                                                                              'name',\n",
    "                                                                                              'host_name',\n",
    "                                                                                              'neighbourhood_group',\n",
    "                                                                                              'neighbourhood',\n",
    "                                                                                              'room_type']),\n",
    "                                                                                    data[['price']],\n",
    "                                                                                    test_size=0.3, random_state=241)"
   ]
  },
  {
   "cell_type": "code",
   "execution_count": 10,
   "metadata": {},
   "outputs": [],
   "source": [
    "X_train, X_test, y_train, y_test = train_test_split(data.drop(columns=['price']),\n",
    "                                                    data[['price']],\n",
    "                                                    test_size=0.3, random_state=241)"
   ]
  },
  {
   "cell_type": "markdown",
   "metadata": {},
   "source": [
    "## Часть 1: Алгоритм kNN в задаче регрессии"
   ]
  },
  {
   "cell_type": "markdown",
   "metadata": {},
   "source": [
    "<b> 1.1 (1.5 балла) </b>\n",
    "Реализуйте класс `KNNRegressor`, который используя метод k ближайших соседей решает задачу регрессии. Для решение данной задачи, необходимо найти $N_k$ - k соседей, и после использовать значения их целевых переменных для предсказания:\n",
    "\\begin{align}\n",
    "y = \\frac{1}{k}\\sum_{n \\in N_k}w_n y_n,\n",
    "\\end{align}\n",
    "\n",
    "где $w_n$ - вес каждого соседа. \n",
    "\n",
    "При этом `KNNRegressor` может работать в 2 режимах:\n",
    " - $uniform$ - ближайшие соседи учитываются с одинаковыми весами.\n",
    " - $distance$ - вес ближайших соседей зависит от расстояния\n",
    " \n",
    "Сигнатуру методов при желании можно менять."
   ]
  },
  {
   "cell_type": "code",
   "execution_count": 9,
   "metadata": {},
   "outputs": [],
   "source": [
    "from typing import Union, Callable, Iterable, Optional\n",
    "from sklearn.neighbors import NearestNeighbors\n",
    "\n",
    "\n",
    "class KNNRegressor:\n",
    "    def __init__(self, n_neighbors: int,\n",
    "                 metric: Union[str, Callable],\n",
    "                 mode: str = 'uniform',\n",
    "                test_block_size = 10):\n",
    "        \"\"\"\n",
    "        params:\n",
    "            n_neighbors: number of neighbors\n",
    "            metric: metric to use for distance computation\n",
    "            mode: 'uniform' or 'distance'\n",
    "            'uniform' - all points in each neighborhood are weighted equally\n",
    "            'distance' - weight points by the inverse of their distance\n",
    "            test_block_size: block size for finding neighbors and predict (for saving memory)\n",
    "        \"\"\"\n",
    "        \n",
    "        self.metric = metric\n",
    "        self.__nn = None\n",
    "        if self.metric != 'overlap':\n",
    "            self.__nn = NearestNeighbors(n_neighbors=n_neighbors, metric=self.metric, algorithm='brute',\n",
    "                                        n_jobs=1)\n",
    "        self.__mode = mode\n",
    "        self.n_neighbors = n_neighbors\n",
    "        self.test_block_size = test_block_size\n",
    "        self.X_train = None\n",
    "        self.y_train = None\n",
    "        self.neigh_idxs = None\n",
    "        self.distances = None\n",
    "\n",
    "    def fit(self, X: np.array, y: np.array) -> None:\n",
    "        \"\"\"\n",
    "            X: data\n",
    "            y: labels\n",
    "        \"\"\"\n",
    "        \n",
    "        self.y_train = y\n",
    "        if self.__nn is None:\n",
    "            self.X_train = X\n",
    "        else:\n",
    "            self.__nn.fit(X, y)\n",
    "        self.eps = 1e-5\n",
    "        \n",
    "        \n",
    "    def find_kneighbors(self, X, return_distance):\n",
    "        \"\"\"\n",
    "        params:\n",
    "            * X - objects sample\n",
    "            * return_distance - bool variable\n",
    "\n",
    "        return values:\n",
    "            * If return_distance == True:\n",
    "                * tuple with two numpy array with size (X.shape[0], k), where:\n",
    "                  [i, j] elem of first array must be the distance between\n",
    "                  i-th object and his j-th nearest neighbour\n",
    "                  [i, j] elem of second array must be the index of j-th nearest neighbour to i-th object\n",
    "            * If return_distance == False:\n",
    "                * only second array\n",
    "        \"\"\"\n",
    "\n",
    "\n",
    "        if self.__nn is not None:\n",
    "            self.distances, \\\n",
    "                self.neigh_idxs = self.__nn.kneighbors(X, n_neighbors=self.n_neighbors)\n",
    "        else:\n",
    "            if self.metric == 'overlap':\n",
    "                self.distances = overlap(X, self.X_train)\n",
    "            if return_distance:\n",
    "                self.neigh_idxs = np.argsort(self.distances,\n",
    "                                         axis=1)[:, :self.n_neighbors] \n",
    "                self.distances = self.distances[np.arange(self.distances.shape[0])[:, None],\n",
    "                                                self.neigh_idxs]\n",
    "        if return_distance:\n",
    "            return self.distances, self.neigh_idxs\n",
    "        return self.neigh_idxs\n",
    "\n",
    "    def predict(self, X: np.array, n_neighbors: Optional[int] = None) -> np.array:\n",
    "        \"\"\"\n",
    "            X: data\n",
    "            n_neighbors: number of neighbors\n",
    "        \"\"\"\n",
    "        if n_neighbors is not None:\n",
    "            n_neighbors = np.minimum(self.n_neighbors, n_neighbors)\n",
    "        else:\n",
    "            n_neighbors = self.n_neighbors\n",
    "        if self.test_block_size > X.shape[0]:\n",
    "            self.test_block_size = X.shape[0]\n",
    "        preds = np.zeros(X.shape[0])\n",
    "        split_size = X.shape[0] // self.test_block_size + \\\n",
    "                     int(X.shape[0] % self.test_block_size != 0)\n",
    "        curr_idx = 0\n",
    "        for i, split in enumerate(np.array_split(X, split_size)):\n",
    "            self.distances, self.neigh_idxs = self.find_kneighbors(split,\n",
    "                                                                   return_distance=True\n",
    "                                                                  )\n",
    "            for j, idx in enumerate(self.neigh_idxs):\n",
    "                if self.__mode == 'distance':\n",
    "                    weights = 1 / (self.distances[j] + self.eps)\n",
    "                    pred = np.sum(self.y_train.values[idx].reshape(-1) * weights) / np.sum(weights)\n",
    "                else:\n",
    "                    pred = np.sum(self.y_train.values[idx].reshape(-1)) / n_neighbors\n",
    "                preds[j + curr_idx] = pred\n",
    "            curr_idx += split.shape[0]\n",
    "        return preds\n",
    "    \n",
    "    \n",
    "    def predict_without_testblock(self, X):\n",
    "        \"\"\"\n",
    "        Similar to predict, but without memory optimization\n",
    "        params:\n",
    "            * X - test objects\n",
    "\n",
    "        return values:\n",
    "            * preds - numpy array of predictions for test\n",
    "\n",
    "        \"\"\"\n",
    "        \n",
    "        self.distances, self.neigh_idxs = self.find_kneighbors(X,\n",
    "                                                               return_distance=True\n",
    "                                                              )\n",
    "        preds = np.zeros(X.shape[0])\n",
    "        for j, idx in enumerate(self.neigh_idxs):\n",
    "            if self.__mode == 'distance':\n",
    "                weights = 1 / (self.distances[j] + self.eps)\n",
    "                pred = np.sum(self.y_train.values[idx].reshape(-1) * weights) / np.sum(weights)\n",
    "            else:\n",
    "                pred = np.sum(self.y_train.values[idx].reshape(-1)) / self.n_neighbors\n",
    "            preds[j] = pred\n",
    "        return preds\n",
    "    \n",
    "    \n",
    "    def predict_opt(self, X):\n",
    "        \"\"\"\n",
    "        Optimized prediction for classification (for fast calculating score for different k)\n",
    "        params:\n",
    "            * X - test objects\n",
    "\n",
    "        return values:\n",
    "            * preds - numpy array of predictions for test\n",
    "\n",
    "        \"\"\"\n",
    "\n",
    "        preds = np.zeros(X.shape[0])\n",
    "        for j, idx in enumerate(self.neigh_idxs[:, :self.n_neighbors]):\n",
    "            if self.__mode == 'distance':\n",
    "                weights = 1 / (self.distances[j, :self.n_neighbors] + self.eps)\n",
    "                counts = np.bincount(self.y_train.values[idx].reshape(-1),  weights)\n",
    "            else:\n",
    "                counts = np.bincount(self.y_train.values[idx].reshape(-1))\n",
    "            preds[j] = np.argmax(counts)\n",
    "        return preds\n",
    "    \n",
    "    \n",
    "    def predict_opt_regression(self, X):\n",
    "        \"\"\"\n",
    "        Optimized prediction for regression (for fast calculating score for different k)\n",
    "        params:\n",
    "            * X - test objects\n",
    "\n",
    "        return values:\n",
    "            * preds - numpy array of predictions for test\n",
    "\n",
    "        \"\"\"\n",
    "\n",
    "        preds = np.zeros(X.shape[0])\n",
    "        for j, idx in enumerate(self.neigh_idxs[:, :self.n_neighbors]):\n",
    "            if self.__mode == 'distance':\n",
    "                weights = 1 / (self.distances[j, :self.n_neighbors] + self.eps)\n",
    "                pred = np.sum(self.y_train[idx] * weights) / np.sum(weights)\n",
    "            else:\n",
    "                pred = np.sum(self.y_train[idx]) / self.n_neighbors\n",
    "            preds[j] = pred\n",
    "        return preds"
   ]
  },
  {
   "cell_type": "markdown",
   "metadata": {},
   "source": [
    "Напишем функцию rmse для подсчета метрики RMSE"
   ]
  },
  {
   "cell_type": "code",
   "execution_count": 10,
   "metadata": {},
   "outputs": [],
   "source": [
    "def rmse(y_true, y_valid):\n",
    "    return (np.sum((y_valid - y_true) ** 2) / len(y_true)) ** (1/2)"
   ]
  },
  {
   "cell_type": "markdown",
   "metadata": {},
   "source": [
    "## Часть 2: Категориальные признаки"
   ]
  },
  {
   "cell_type": "markdown",
   "metadata": {},
   "source": [
    "<b>2.1 (1 балл)</b>\n",
    "Реализуйте три функции расстояния на категориальных признаках, которые обсуждались на [третьем семинаре](https://github.com/mmp-mmro-team/mmp_mmro_fall_2019/blob/master/lecture-notes/Sem03_knn.pdf). Не забудьте, что KNNRegressor должен уметь работать с этими функциями расстояния. Как вариант, можно реализовать метрики как [user-defined distance](http://scikit-learn.org/stable/modules/generated/sklearn.neighbors.DistanceMetric.html)."
   ]
  },
  {
   "cell_type": "code",
   "execution_count": 16,
   "metadata": {},
   "outputs": [],
   "source": [
    "# import pyximport; pyximport.install() Попытки переписать метрики на Cython оказались безуспешными\n",
    "# import overlap_cython"
   ]
  },
  {
   "cell_type": "code",
   "execution_count": 11,
   "metadata": {},
   "outputs": [],
   "source": [
    "data_cat = data.copy()"
   ]
  },
  {
   "cell_type": "markdown",
   "metadata": {},
   "source": [
    "Оставим 3 категориальных признака: 'neighbourhood_group', 'neighbourhood', 'room_type'."
   ]
  },
  {
   "cell_type": "code",
   "execution_count": 12,
   "metadata": {},
   "outputs": [],
   "source": [
    "data_cat.drop(['id', 'name', 'host_id', 'host_name', 'latitude', 'longitude',\n",
    "              'minimum_nights', 'number_of_reviews', 'last_review', \n",
    "               'reviews_per_month', 'calculated_host_listings_count', 'availability_365'], axis=1, inplace=True)"
   ]
  },
  {
   "cell_type": "markdown",
   "metadata": {},
   "source": [
    "Посчитаем статистику для всех данных для ускорения работы метрик"
   ]
  },
  {
   "cell_type": "code",
   "execution_count": 13,
   "metadata": {},
   "outputs": [],
   "source": [
    "from tqdm import tqdm_notebook"
   ]
  },
  {
   "cell_type": "code",
   "execution_count": 25,
   "metadata": {},
   "outputs": [],
   "source": [
    "from sklearn.preprocessing import LabelEncoder\n",
    "le = LabelEncoder()\n",
    "for column in data_cat.columns[:-1]:\n",
    "    all_classes_in_col = data_cat[column].unique()\n",
    "    le.fit(all_classes_in_col)\n",
    "    data_cat.loc[:, column] = le.transform(data_cat.loc[:, column]) + 1"
   ]
  },
  {
   "cell_type": "code",
   "execution_count": 16,
   "metadata": {},
   "outputs": [],
   "source": [
    "from sklearn.model_selection import train_test_split\n",
    "X_train_cat, X_test_cat, y_train_cat, y_test_cat = train_test_split(data_cat.drop(columns=['price']),\n",
    "                                                                    data_cat[['price']],\n",
    "                                                                    test_size=0.3)"
   ]
  },
  {
   "cell_type": "markdown",
   "metadata": {},
   "source": [
    "Произведем предпосчет статистики для ускорения работы метрик:"
   ]
  },
  {
   "cell_type": "code",
   "execution_count": 103,
   "metadata": {},
   "outputs": [
    {
     "name": "stdout",
     "output_type": "stream",
     "text": [
      "[2 3 4 ... 2 2 2]\n",
      "[2 3 3 ... 3 3 3]\n",
      "[109  87 190 ...  14 191  52]\n",
      "[109 128  95 ...  95  96  96]\n",
      "[2 1 2 ... 1 1 2]\n",
      "[2 1 2 ... 1 3 2]\n",
      "CPU times: user 3.3 s, sys: 353 ms, total: 3.65 s\n",
      "Wall time: 3.65 s\n"
     ]
    }
   ],
   "source": [
    "%%time\n",
    "p2_sum_stat_dict = {}\n",
    "data_cat_np = data_cat.drop('price', axis=1).to_numpy(copy=True)\n",
    "X_train_cat_np = X_train_cat.to_numpy(copy=True)\n",
    "f_stat = np.zeros((data_cat.shape[0], X_train_cat_np.shape[1]))\n",
    "\n",
    "\n",
    "for i, columns in enumerate(zip(data_cat_np.T, X_train_cat_np.T)):\n",
    "    column_data, column_train = columns\n",
    "    print(column_train)\n",
    "    print(column_data)\n",
    "    is_equal = column_data[:, None] == column_train\n",
    "    f_stat[:, i] = np.sum(is_equal, axis=1)"
   ]
  },
  {
   "cell_type": "code",
   "execution_count": 105,
   "metadata": {},
   "outputs": [
    {
     "data": {
      "application/vnd.jupyter.widget-view+json": {
       "model_id": "285ceffeba794c9c91530a0c27371e8c",
       "version_major": 2,
       "version_minor": 0
      },
      "text/plain": [
       "HBox(children=(IntProgress(value=0, max=48895), HTML(value='')))"
      ]
     },
     "metadata": {},
     "output_type": "display_data"
    },
    {
     "name": "stdout",
     "output_type": "stream",
     "text": [
      "\n"
     ]
    }
   ],
   "source": [
    "f_stat_log_dict = {}\n",
    "for i, elem in enumerate(tqdm_notebook(data_cat_np)):\n",
    "    f_stat_log_dict[tuple(elem)] = np.log(f_stat[i, :] + 1)"
   ]
  },
  {
   "cell_type": "code",
   "execution_count": 109,
   "metadata": {},
   "outputs": [
    {
     "data": {
      "application/vnd.jupyter.widget-view+json": {
       "model_id": "48cb8c5a13064e5f8a9ef027fc2498de",
       "version_major": 2,
       "version_minor": 0
      },
      "text/plain": [
       "HBox(children=(IntProgress(value=0, max=48895), HTML(value='')))"
      ]
     },
     "metadata": {},
     "output_type": "display_data"
    },
    {
     "name": "stdout",
     "output_type": "stream",
     "text": [
      "\n"
     ]
    }
   ],
   "source": [
    "p2_sum_arr = np.zeros(X_train_cat.shape[1])\n",
    "p2_sum_stat = np.zeros((data_cat.shape[0], X_train_cat.shape[1]))\n",
    "for i, line in enumerate(tqdm_notebook(data_cat_np)):\n",
    "    for j, x_val in enumerate(line):\n",
    "        f_x = X_train_cat.iloc[:, j].value_counts()\n",
    "        p2 = f_x\n",
    "        p2 = p2 * (p2 - 1) / (X_train_cat.shape[0] * (X_train_cat.shape[0] - 1))\n",
    "        if x_val in f_x:\n",
    "            p2_sum_arr[j] = np.sum(p2 * (f_x.values <= f_x[x_val]))\n",
    "        else:\n",
    "            p2_sum_arr[j] = np.sum(p2 * (f_x.values <= 0))\n",
    "    p2_sum_stat[i, :] = p2_sum_arr"
   ]
  },
  {
   "cell_type": "code",
   "execution_count": 110,
   "metadata": {},
   "outputs": [
    {
     "data": {
      "application/vnd.jupyter.widget-view+json": {
       "model_id": "4eeb54f984e646dbbadeb4730c1574f2",
       "version_major": 2,
       "version_minor": 0
      },
      "text/plain": [
       "HBox(children=(IntProgress(value=0, max=48895), HTML(value='')))"
      ]
     },
     "metadata": {},
     "output_type": "display_data"
    },
    {
     "name": "stdout",
     "output_type": "stream",
     "text": [
      "\n"
     ]
    }
   ],
   "source": [
    "p2_sum_stat_dict = {}\n",
    "for i, elem in enumerate(tqdm_notebook(data_cat_np)):\n",
    "    p2_sum_stat_dict[tuple(elem)] = p2_sum_stat[i, :]"
   ]
  },
  {
   "cell_type": "code",
   "execution_count": 29,
   "metadata": {},
   "outputs": [],
   "source": [
    "df_x = data_cat.copy()\n",
    "df_z = data_cat.copy()\n",
    "df = data_cat.copy()"
   ]
  },
  {
   "cell_type": "code",
   "execution_count": 62,
   "metadata": {},
   "outputs": [],
   "source": [
    "def overlap(x, z):\n",
    "    \"\"\"\n",
    "    params:\n",
    "        * x - DataFrame with size n * l\n",
    "        * z - DataFrame with size m * l\n",
    "    return values:\n",
    "        n * m matrix with pairwise distances\n",
    "    \"\"\"\n",
    "    x = x.to_numpy(copy=True)\n",
    "    z = z.to_numpy(copy=True)\n",
    "    is_equal = x[:, None] != z\n",
    "    return np.sum(is_equal, axis=2)\n",
    "\n",
    "def flattened_overlap(x, z):\n",
    "    \"\"\"\n",
    "    params:\n",
    "        * x - numpy array of size d\n",
    "        * z - numpy array of size d\n",
    "    return values:\n",
    "        flattened overlap distance between x and z\n",
    "    \"\"\"\n",
    "    result = np.sum(x != z) + np.sum((x == z) * p2_sum_stat_dict[tuple(x)])\n",
    "    return result\n",
    "\n",
    "\n",
    "def log_overlap(x, z):\n",
    "    \"\"\"\n",
    "    params:\n",
    "        * x - numpy array of size d\n",
    "        * z - numpy array of size d\n",
    "    return values:\n",
    "        log overlap distance between x and z\n",
    "    \"\"\"\n",
    "    result = np.sum((x != z) * f_stat_log_dict[tuple(x)] * f_stat_log_dict[tuple(z)])\n",
    "    return result"
   ]
  },
  {
   "cell_type": "markdown",
   "metadata": {},
   "source": [
    "<b>2.2 (1 балл)</b> Найдите все категориальные признаки в данных. Подсчитайте для каждой из метрик качество на тестовой выборке `X_test` при числе соседей $k = 10$. Качество измеряйте с помощью RMSE.\n",
    "\n",
    "Какая функция расстояния оказалась лучшей? Почему?"
   ]
  },
  {
   "cell_type": "markdown",
   "metadata": {},
   "source": [
    "Подсчитаем расстояния и индексы соседей заранее, чтобы быстрее делать предсказания для различных k:"
   ]
  },
  {
   "cell_type": "code",
   "execution_count": 32,
   "metadata": {},
   "outputs": [],
   "source": [
    "knn_with_distances = KNNRegressor(200, metric='overlap', mode='uniform', test_block_size=1000)\n",
    "knn_with_distances.fit(X_train_cat, y_train_cat.values)"
   ]
  },
  {
   "cell_type": "code",
   "execution_count": 33,
   "metadata": {},
   "outputs": [
    {
     "name": "stdout",
     "output_type": "stream",
     "text": [
      "CPU times: user 8.03 s, sys: 652 ms, total: 8.69 s\n",
      "Wall time: 8.69 s\n"
     ]
    }
   ],
   "source": [
    "%%time\n",
    "overlap_distances, overlap_indx = knn_with_distances.find_kneighbors(X_test_cat,\n",
    "                                                                     return_distance=True)"
   ]
  },
  {
   "cell_type": "code",
   "execution_count": 34,
   "metadata": {},
   "outputs": [],
   "source": [
    "knn_with_distances = KNNRegressor(200, metric=flattened_overlap, mode='uniform', test_block_size=1000)\n",
    "knn_with_distances.fit(X_train_cat, y_train_cat.values)"
   ]
  },
  {
   "cell_type": "code",
   "execution_count": 35,
   "metadata": {},
   "outputs": [
    {
     "name": "stdout",
     "output_type": "stream",
     "text": [
      "CPU times: user 2h 49min 5s, sys: 4min 25s, total: 2h 53min 31s\n",
      "Wall time: 2h 38min 42s\n"
     ]
    }
   ],
   "source": [
    "%%time\n",
    "flattened_overlap_distances, flattened_overlap_indx = knn_with_distances.find_kneighbors(X_test_cat,\n",
    "                                                                                         return_distance=True)"
   ]
  },
  {
   "cell_type": "code",
   "execution_count": 36,
   "metadata": {},
   "outputs": [],
   "source": [
    "knn_with_distances = KNNRegressor(200, metric=log_overlap, mode='uniform', test_block_size=1000)\n",
    "knn_with_distances.fit(X_train_cat, y_train_cat.values)"
   ]
  },
  {
   "cell_type": "code",
   "execution_count": 37,
   "metadata": {},
   "outputs": [
    {
     "name": "stdout",
     "output_type": "stream",
     "text": [
      "CPU times: user 2h 48min 7s, sys: 4min 10s, total: 2h 52min 18s\n",
      "Wall time: 2h 38min 12s\n"
     ]
    }
   ],
   "source": [
    "%%time\n",
    "log_overlap_distances, log_overlap_indx = knn_with_distances.find_kneighbors(X_test_cat,\n",
    "                                                                             return_distance=True)"
   ]
  },
  {
   "cell_type": "markdown",
   "metadata": {},
   "source": [
    "#### Достаточно просто изменять два аттрибута KNNRegressor: $distances$ и $neigh\\_idxs$, так как методу $predict\\_opt\\_regression$ нужны только они для предсказания."
   ]
  },
  {
   "cell_type": "code",
   "execution_count": 496,
   "metadata": {},
   "outputs": [
    {
     "name": "stdout",
     "output_type": "stream",
     "text": [
      "Количество соседей: 10, RMSE: 227.4506863689404\n"
     ]
    }
   ],
   "source": [
    "knn_with_distances.distances = overlap_distances[:, :]\n",
    "knn_with_distances.neigh_idxs = overlap_indx[:, :]\n",
    "best_params = {'rmse': 1000, 'k': 0}\n",
    "for k in [10]:\n",
    "    knn_with_distances.n_neighbors = k\n",
    "    preds = knn_with_distances.predict_opt_regression(X_test)\n",
    "    rmse_curr = rmse(y_test_cat.values.reshape(-1), preds)\n",
    "    print(f\"Количество соседей: {k}, RMSE: {rmse_curr}\")\n",
    "    if rmse_curr < best_params['rmse']:\n",
    "        best_params['rmse'] = rmse_curr\n",
    "        best_params['k'] = k"
   ]
  },
  {
   "cell_type": "code",
   "execution_count": 497,
   "metadata": {},
   "outputs": [
    {
     "name": "stdout",
     "output_type": "stream",
     "text": [
      "Количество соседей: 10, RMSE: 209.48714805630325\n"
     ]
    }
   ],
   "source": [
    "knn_with_distances.distances = flattened_overlap_distances[:, :]\n",
    "knn_with_distances.neigh_idxs = flattened_overlap_indx[:, :]\n",
    "best_params = {'rmse': 1000, 'k': 0}\n",
    "for k in [10]:\n",
    "    knn_with_distances.n_neighbors = k\n",
    "    preds = knn_with_distances.predict_opt_regression(X_test)\n",
    "    rmse_curr = rmse(y_test_cat.values.reshape(-1), preds)\n",
    "    print(f\"Количество соседей: {k}, RMSE: {rmse_curr}\")\n",
    "    if rmse_curr < best_params['rmse']:\n",
    "        best_params['rmse'] = rmse_curr\n",
    "        best_params['k'] = k"
   ]
  },
  {
   "cell_type": "code",
   "execution_count": 498,
   "metadata": {},
   "outputs": [
    {
     "name": "stdout",
     "output_type": "stream",
     "text": [
      "Количество соседей: 10, RMSE: 239.034076340855\n"
     ]
    }
   ],
   "source": [
    "knn_with_distances.distances = log_overlap_distances[:, :]\n",
    "knn_with_distances.neigh_idxs = log_overlap_indx[:, :]\n",
    "best_params = {'rmse': 1000, 'k': 0}\n",
    "for k in [10]:\n",
    "    knn_with_distances.n_neighbors = k\n",
    "    preds = knn_with_distances.predict_opt_regression(X_test)\n",
    "    rmse_curr = rmse(y_test_cat.values.reshape(-1), preds)\n",
    "    print(f\"Количество соседей: {k}, RMSE: {rmse_curr}\")\n",
    "    if rmse_curr < best_params['rmse']:\n",
    "        best_params['rmse'] = rmse_curr\n",
    "        best_params['k'] = k"
   ]
  },
  {
   "cell_type": "markdown",
   "metadata": {},
   "source": [
    "Как видим из результатов эксперимента - наилучшее качество на 10 соседях показал алгоритм с метрикой расстояния \"**сглаженный индикатор совпадения**\" (**flattened_overlap**). Так как он учитывает частоту значения признака: чем выше частота, тем больше расстояние (если оба объекта имеют значение признака, которое часто встречается, то эта информация не так важна, так как вероятность такого совпадения высока)."
   ]
  },
  {
   "cell_type": "markdown",
   "metadata": {},
   "source": [
    "<b>2.3 (1 балл) бонус</b> Подберите лучшее (на тестовой выборке) число соседей $k$ для каждой из функций расстояния. Какого удалось достичь уровня качества?"
   ]
  },
  {
   "cell_type": "markdown",
   "metadata": {},
   "source": [
    "Аналогично предыдущему пункту будем изменять аттрибуты $distances$ и $neigh\\_idxs$. Дополнительно изменяем в цикле $n\\_neighbors$, с помощью которого выбор нужного числа соседей из $distances$ и $neigh\\_idxs$"
   ]
  },
  {
   "cell_type": "code",
   "execution_count": 118,
   "metadata": {},
   "outputs": [
    {
     "data": {
      "text/plain": [
       "{'rmse': 207.3201331722447, 'k': 192}"
      ]
     },
     "execution_count": 118,
     "metadata": {},
     "output_type": "execute_result"
    }
   ],
   "source": [
    "knn_with_distances.distances = overlap_distances[:, :]\n",
    "knn_with_distances.neigh_idxs = overlap_indx[:, :]\n",
    "best_params = {'rmse': 1000, 'k': 0}\n",
    "for k in range(1, 200):\n",
    "    knn_with_distances.n_neighbors = k\n",
    "    preds = knn_with_distances.predict_opt_regression(X_test)\n",
    "    rmse_curr = rmse(y_test_cat.values.reshape(-1), preds)\n",
    "    if rmse_curr < best_params['rmse']:\n",
    "        best_params['rmse'] = rmse_curr\n",
    "        best_params['k'] = k\n",
    "best_params"
   ]
  },
  {
   "cell_type": "code",
   "execution_count": 120,
   "metadata": {},
   "outputs": [
    {
     "data": {
      "text/plain": [
       "{'rmse': 207.49810130642814, 'k': 125}"
      ]
     },
     "execution_count": 120,
     "metadata": {},
     "output_type": "execute_result"
    }
   ],
   "source": [
    "knn_with_distances.distances = flattened_overlap_distances[:, :]\n",
    "knn_with_distances.neigh_idxs = flattened_overlap_indx[:, :]\n",
    "best_params = {'rmse': 1000, 'k': 0}\n",
    "for k in range(1, 200):\n",
    "    knn_with_distances.n_neighbors = k\n",
    "    preds = knn_with_distances.predict_opt_regression(X_test)\n",
    "    rmse_curr = rmse(y_test_cat.values.reshape(-1), preds)\n",
    "    if rmse_curr < best_params['rmse']:\n",
    "        best_params['rmse'] = rmse_curr\n",
    "        best_params['k'] = k\n",
    "best_params"
   ]
  },
  {
   "cell_type": "code",
   "execution_count": 121,
   "metadata": {},
   "outputs": [
    {
     "data": {
      "text/plain": [
       "{'rmse': 207.1962663210132, 'k': 193}"
      ]
     },
     "execution_count": 121,
     "metadata": {},
     "output_type": "execute_result"
    }
   ],
   "source": [
    "knn_with_distances.distances = log_overlap_distances[:, :]\n",
    "knn_with_distances.neigh_idxs = log_overlap_indx[:, :]\n",
    "best_params = {'rmse': 1000, 'k': 0}\n",
    "for k in range(1, 200):\n",
    "    knn_with_distances.n_neighbors = k\n",
    "    preds = knn_with_distances.predict_opt_regression(X_test)\n",
    "    rmse_curr = rmse(y_test_cat.values.reshape(-1), preds)\n",
    "    if rmse_curr < best_params['rmse']:\n",
    "        best_params['rmse'] = rmse_curr\n",
    "        best_params['k'] = k\n",
    "best_params"
   ]
  },
  {
   "cell_type": "markdown",
   "metadata": {},
   "source": [
    "Для **overlap** оптимальное количество соседей получилось $= 192$\n",
    "\n",
    "Для **flattened overlap** $= 125$\n",
    "\n",
    "Для **log overlap** $= 193$\n",
    "\n",
    "Удалось достичь наилучшего значения $RMSE = \\textbf{207.2}$ (при использовании **log overlap**)"
   ]
  },
  {
   "cell_type": "markdown",
   "metadata": {},
   "source": [
    "<b>2.4 (2.5 балла)</b> Отойдем ненадолго от задачи регрессии и перейдём к задаче классификации: будем определять, являеться ли квартира дорогой $(target = 1)$ или дешевой $(target = 0)$. Будем считать дорогими квариры, цена которых выше среднего."
   ]
  },
  {
   "cell_type": "code",
   "execution_count": 29,
   "metadata": {},
   "outputs": [],
   "source": [
    "data_cat['target'] = (data_cat.price > data_cat.price.mean()).astype(int) ## чтобы снова удалять признаки из data"
   ]
  },
  {
   "cell_type": "code",
   "execution_count": 17,
   "metadata": {},
   "outputs": [],
   "source": [
    "data['target'] = (data.price > data.price.mean()).astype(int)"
   ]
  },
  {
   "cell_type": "markdown",
   "metadata": {},
   "source": [
    "Реализуйте счетчики, которые заменят категориальные признаки на вещественные.\n",
    "\n",
    "А именно, для каждого категориального признака $f_j(x)$ необходимо сделать следующее:\n",
    "1. Число `counts` объектов в обучающей выборке с таким же значением признака.\n",
    "\\begin{align}\n",
    "counts_j(c) = \\sum_{i=1}^l [f_j(x_i) = c]\n",
    "\\end{align}\n",
    "2. Число `successes` объектов первого класса ($y = 1$) в обучающей выборке с таким же значением признака.\n",
    "\\begin{align}\n",
    "successes_j(c) = \\sum_{i=1}^l[f_j(x_i) = c][y_i = +1].\n",
    "\\end{align}\n",
    "3. Сглаженное отношение двух предыдущих величин:\n",
    "\\begin{align}\n",
    "p_j(c) = \\frac{successes_j(c) + a}{counts_j(c) + b},\n",
    "\\end{align}\n",
    "\n",
    "где $a$ и $b$ - априорные счетчики (например, a = 1, b = 2)."
   ]
  },
  {
   "cell_type": "code",
   "execution_count": 18,
   "metadata": {},
   "outputs": [],
   "source": [
    "def counts(x, x_tr):\n",
    "    \"\"\"\n",
    "    params:\n",
    "        x - pandas series (one categorical feature), which we want to fill with counter\n",
    "        x_tr - pandas series (one categorical feautre), BY which we want to fill x\n",
    "    return values:\n",
    "        numpy array with counts\n",
    "    \"\"\"\n",
    "    \n",
    "    x = x.to_numpy()\n",
    "    x_tr = x_tr.to_numpy()\n",
    "    return np.sum(x[:, None] == x_tr, axis=1)\n",
    "\n",
    "\n",
    "def successes(x, x_tr, y):\n",
    "    \"\"\"\n",
    "    params:\n",
    "        x - pandas series (one categorical feature), which we want to fill with successes\n",
    "        x_tr - pandas series (one categorical feautre), BY which we want to fill x\n",
    "    return values:\n",
    "        numpy array with successes\n",
    "    \"\"\"\n",
    "    \n",
    "    x = x.to_numpy()\n",
    "    x_tr = x_tr.to_numpy()\n",
    "    y = y.to_numpy()\n",
    "    result = np.sum((x[:, None] == x_tr) * (y == 1), axis=1)\n",
    "    return result\n",
    "    \n",
    "\n",
    "def flattened_c_s(x, x_tr, y, a=1, b=2):\n",
    "    \"\"\"\n",
    "    params:\n",
    "        x - pandas series (one categorical feature), which we want to fill with successes\n",
    "        x_tr - pandas series (one categorical feautre), BY which we want to fill x\n",
    "    return values:\n",
    "        numpy array with flattened successes and counts\n",
    "    \"\"\"\n",
    "    \n",
    "    return (successes(x, x_tr, y) + a) / (counts(x, x_tr) + b)"
   ]
  },
  {
   "cell_type": "markdown",
   "metadata": {},
   "source": [
    "Напишем функцию, которая заполняет данный DataFrame по значениям X_train с целевой перменной y (от X_train)"
   ]
  },
  {
   "cell_type": "code",
   "execution_count": 19,
   "metadata": {},
   "outputs": [],
   "source": [
    "def counters(df_cat, X_train, y):\n",
    "    df_copy = df_cat.copy()\n",
    "    for column in df_copy.columns:\n",
    "        df_copy[column + '_counts'] = counts(df_copy[column], X_train[column])\n",
    "        df_copy[column + '_successes'] = successes(df_copy[column], X_train[column], y)\n",
    "        df_copy[column + '_flattened_c_s'] = flattened_c_s(df_copy[column], X_train[column], y)\n",
    "        df_copy.drop(column, axis=1, inplace=True)\n",
    "    return df_copy"
   ]
  },
  {
   "cell_type": "code",
   "execution_count": 30,
   "metadata": {},
   "outputs": [],
   "source": [
    "X_train_cat, X_test_cat, y_train_cat, y_test_cat = train_test_split(data_cat.drop(columns=['price', 'target']),\n",
    "                                                                                  data_cat[['target']],\n",
    "                                                                                  test_size=0.3, random_state=241)"
   ]
  },
  {
   "cell_type": "markdown",
   "metadata": {},
   "source": [
    "Закодируем с помощью $LabelEncoder$ категориальные признаки, добавив 1 к каждому столбцу признаков, так как $LabelEncoder$ кодирует с 0, то при подсчете статистик могли бы возникнуть проблемы."
   ]
  },
  {
   "cell_type": "code",
   "execution_count": 31,
   "metadata": {},
   "outputs": [],
   "source": [
    "le = LabelEncoder()\n",
    "for column in X_train_cat.columns:\n",
    "    all_classes_in_col = np.hstack([X_train_cat[column].unique(), X_test_cat[column].unique()])\n",
    "    le.fit(all_classes_in_col)\n",
    "    X_train_cat.loc[:, column] = le.transform(X_train_cat.loc[:, column]) + 1\n",
    "    X_test_cat.loc[:, column] = le.transform(X_test_cat.loc[:, column]) + 1"
   ]
  },
  {
   "cell_type": "markdown",
   "metadata": {},
   "source": [
    "Поскольку признаки, содержащие информацию о целевой переменной, могут привести к переобучению, может оказаться полезным сделать *фолдинг*: разбить обучающую выборку на $n$ частей, и для $i$-й части считать `counts` и `successes` по всем остальным частям. Для тестовой выборки используются счетчики, посчитанный по всей обучающей выборке. Реализуйте и такой вариант. Достаточно взять $n = 3$."
   ]
  },
  {
   "cell_type": "markdown",
   "metadata": {},
   "source": [
    "## Реализуем kfold:"
   ]
  },
  {
   "cell_type": "code",
   "execution_count": 32,
   "metadata": {},
   "outputs": [],
   "source": [
    "def kfold(indices, n_folds=3):\n",
    "    \"\"\"\n",
    "    params:\n",
    "        * indices - np.array of indices\n",
    "        * n_folds - folds amount\n",
    "    return values:\n",
    "        * list with size n_folds, where every element is tuple of two 1D numpy array:\n",
    "            * first array contains indices of train samples\n",
    "            * second array contains indices of validation samples\n",
    "    \"\"\"\n",
    "\n",
    "#     np.random.shuffle(indices)\n",
    "    n = len(indices)\n",
    "    size_of_one_fold = int(n / n_folds) + (n < n_folds)\n",
    "    size_with_folds = size_of_one_fold * n_folds\n",
    "    out_elements_amount = len(indices) - size_with_folds\n",
    "    train_test_idx_list = []\n",
    "    for i in range(n_folds):\n",
    "        test_idx = indices[i * size_of_one_fold:(i + 1) * size_of_one_fold]\n",
    "        if out_elements_amount > 0:\n",
    "            test_idx = np.append(test_idx, n - out_elements_amount)\n",
    "            out_elements_amount -= 1\n",
    "        train_idx = np.array(list((set(indices) - set(test_idx))))\n",
    "        train_test_idx_list.append((train_idx, test_idx))\n",
    "    return train_test_idx_list"
   ]
  },
  {
   "cell_type": "markdown",
   "metadata": {},
   "source": [
    "Реализуем подсчет статистик по фолдам:"
   ]
  },
  {
   "cell_type": "code",
   "execution_count": 33,
   "metadata": {},
   "outputs": [],
   "source": [
    "def counts_with_folds(x, n_folds=3):\n",
    "    \"\"\"\n",
    "    x - one categorical column with type - pandas series\n",
    "    n_folds - amount of folds\n",
    "    \"\"\"\n",
    "    \n",
    "    result = x.copy()\n",
    "    result.iloc[:] = 0\n",
    "    for help_indx, main_indx in kfold(x.index, n_folds):\n",
    "        unique_elems = np.unique(x[help_indx])\n",
    "        counts_per_fold = {x : 0 for x in unique_elems}\n",
    "        for unique_elem in unique_elems:\n",
    "            counts_per_fold[unique_elem] = np.sum((x[help_indx] == unique_elem))\n",
    "            result[np.array((x[main_indx] == unique_elem)[x[main_indx] == unique_elem].index)] = counts_per_fold[unique_elem]\n",
    "    return result"
   ]
  },
  {
   "cell_type": "code",
   "execution_count": 34,
   "metadata": {},
   "outputs": [],
   "source": [
    "def successes_with_folds(x, y, n_folds=3):\n",
    "    \"\"\"\n",
    "    x - one categorical column with type - pandas series\n",
    "    y - target feature from df\n",
    "    n_folds - amount of folds\n",
    "    \"\"\"\n",
    "    \n",
    "    result = x.copy()\n",
    "    result.iloc[:] = 0\n",
    "    for help_indx, main_indx in kfold(x.index, n_folds):\n",
    "        unique_elems = np.unique(x[help_indx])\n",
    "        successes_per_fold = {x : 0 for x in unique_elems}\n",
    "        for unique_elem in unique_elems:\n",
    "            successes_per_fold[unique_elem] = np.sum((x[help_indx] == unique_elem) & (y[help_indx] == 1))\n",
    "            result[np.array((x[main_indx] == unique_elem)[x[main_indx] == unique_elem].index).reshape(-1)] = successes_per_fold[unique_elem]\n",
    "    return result"
   ]
  },
  {
   "cell_type": "code",
   "execution_count": 35,
   "metadata": {},
   "outputs": [],
   "source": [
    "def flattened_c_s_with_folds(x, y, n_folds=3, a=1, b=2):\n",
    "    \"\"\"\n",
    "    x - one categorical column with type - pandas series\n",
    "    y - target feature from df\n",
    "    n_folds - amount of folds\n",
    "    \"\"\"\n",
    "    \n",
    "    result = x.copy()\n",
    "    result.iloc[:] = 0\n",
    "    counts = result.copy()\n",
    "    successes = result.copy()\n",
    "    for help_indx, main_indx in kfold(x.index, n_folds):\n",
    "        unique_elems = np.unique(x[help_indx])\n",
    "        successes_per_fold = {x : 0 for x in unique_elems}\n",
    "        counts_per_fold = {x : 0 for x in unique_elems}\n",
    "        for unique_elem in unique_elems:\n",
    "            counts_per_fold[unique_elem] = np.sum((x[help_indx] == unique_elem))\n",
    "            counts[np.array((x[main_indx] == unique_elem)[x[main_indx] == unique_elem].index)] = counts_per_fold[unique_elem]\n",
    "            successes_per_fold[unique_elem] = np.sum((x[help_indx] == unique_elem) & (y[help_indx] == 1))\n",
    "            successes[np.array((x[main_indx] == unique_elem)[x[main_indx] == unique_elem].index)] = successes_per_fold[unique_elem]\n",
    "    result = (successes + a) / (counts + b)\n",
    "    return result"
   ]
  },
  {
   "cell_type": "markdown",
   "metadata": {},
   "source": [
    "Заполнение DataFrame статистиками по фолдам"
   ]
  },
  {
   "cell_type": "code",
   "execution_count": 36,
   "metadata": {},
   "outputs": [],
   "source": [
    "def counters_with_folds(df_cat, y):\n",
    "    df_copy = df_cat.copy()\n",
    "    for column in df_copy.columns:\n",
    "        df_copy[column + '_counts'] = counts_with_folds(df_copy.loc[:, column])\n",
    "        df_copy[column + '_successes'] = successes_with_folds(df_copy.loc[:, column], y)\n",
    "        df_copy[column + '_flattened_c_s'] = flattened_c_s_with_folds(df_copy.loc[:, column], y)\n",
    "        df_copy.drop(column, axis=1, inplace=True)\n",
    "    return df_copy"
   ]
  },
  {
   "cell_type": "markdown",
   "metadata": {},
   "source": [
    "Посчитайте на тесте AUC-ROC метода $k$ ближайших соседей с евклидовой метрикой для выборки, где категориальные признаки заменены на счетчики. Сравните по AUC-ROC два варианта формирования выборки — с фолдингом и без. Не забудьте подобрать наилучшее число соседей $k$."
   ]
  },
  {
   "cell_type": "markdown",
   "metadata": {},
   "source": [
    "## Без фолдинга"
   ]
  },
  {
   "cell_type": "code",
   "execution_count": 37,
   "metadata": {},
   "outputs": [],
   "source": [
    "from sklearn.metrics import roc_auc_score"
   ]
  },
  {
   "cell_type": "code",
   "execution_count": 38,
   "metadata": {},
   "outputs": [],
   "source": [
    "X_train_cat_without_folding = counters(X_train_cat, X_train_cat, y_train_cat['target'])"
   ]
  },
  {
   "cell_type": "code",
   "execution_count": 39,
   "metadata": {
    "scrolled": true
   },
   "outputs": [],
   "source": [
    "X_test_cat_without_folding = counters(X_test_cat, X_train_cat, y_train_cat['target'])"
   ]
  },
  {
   "cell_type": "code",
   "execution_count": 40,
   "metadata": {},
   "outputs": [],
   "source": [
    "logs = np.zeros((1, 4))"
   ]
  },
  {
   "cell_type": "code",
   "execution_count": 41,
   "metadata": {
    "scrolled": true
   },
   "outputs": [
    {
     "name": "stdout",
     "output_type": "stream",
     "text": [
      "n_neighbors: 1, weights: uniform, roc_auc: 0.7118803376103604\n",
      "n_neighbors: 2, weights: uniform, roc_auc: 0.7310142496654174\n",
      "n_neighbors: 3, weights: uniform, roc_auc: 0.7292143529965854\n",
      "n_neighbors: 4, weights: uniform, roc_auc: 0.7384337762122508\n",
      "n_neighbors: 5, weights: uniform, roc_auc: 0.7619850417267447\n",
      "n_neighbors: 6, weights: uniform, roc_auc: 0.7647751806341901\n",
      "n_neighbors: 7, weights: uniform, roc_auc: 0.7593130472459989\n",
      "n_neighbors: 8, weights: uniform, roc_auc: 0.76366596882462\n",
      "n_neighbors: 9, weights: uniform, roc_auc: 0.7624760903306405\n",
      "n_neighbors: 10, weights: uniform, roc_auc: 0.7607568183714146\n",
      "n_neighbors: 11, weights: uniform, roc_auc: 0.762628178272686\n",
      "n_neighbors: 12, weights: uniform, roc_auc: 0.7600281879085735\n",
      "n_neighbors: 13, weights: uniform, roc_auc: 0.7657084147395725\n",
      "n_neighbors: 14, weights: uniform, roc_auc: 0.767865040151628\n"
     ]
    }
   ],
   "source": [
    "weights_list = ['uniform']\n",
    "k_max = 15\n",
    "k_list = np.arange(k_max)\n",
    "best_score_param = {'score': None, 'param': None}\n",
    "for weights in weights_list:\n",
    "    knn_regressor = KNNRegressor(k_max, metric='euclidean', mode=weights, test_block_size=10000)\n",
    "    knn_regressor.fit(X_train_cat_without_folding, y_train_cat['target'])\n",
    "    knn_regressor.find_kneighbors(X_test_cat_without_folding, return_distance=True)\n",
    "    for k in k_list[1:]:\n",
    "        knn_regressor.n_neighbors = k\n",
    "        pred = knn_regressor.predict_opt(X_test_cat_without_folding)\n",
    "        roc_auc = roc_auc_score(pred.reshape(-1), y_test_cat['target'].values.reshape(-1))\n",
    "        print(f'n_neighbors: {k}, weights: {weights}, roc_auc: {roc_auc}')\n",
    "        if best_score_param['score'] is None:\n",
    "            best_score_param['score'] = roc_auc\n",
    "            best_score_param['param'] = str(weights) + '_' + str(k)            \n",
    "        elif abs(best_score_param['score'] - 0.5) < abs(roc_auc - 0.5):\n",
    "            best_score_param['score'] = roc_auc\n",
    "            best_score_param['param'] = str(weights) + '_' + str(k) \n",
    "        logs = np.append(logs, \n",
    "                             np.array(['Без фолдинга',\n",
    "                                        k,\n",
    "                                        weights,\n",
    "                                        roc_auc])[None, :],\n",
    "                                        axis=0)"
   ]
  },
  {
   "cell_type": "code",
   "execution_count": 42,
   "metadata": {},
   "outputs": [
    {
     "data": {
      "text/plain": [
       "{'score': 0.767865040151628, 'param': 'uniform_14'}"
      ]
     },
     "execution_count": 42,
     "metadata": {},
     "output_type": "execute_result"
    }
   ],
   "source": [
    "best_score_param"
   ]
  },
  {
   "cell_type": "markdown",
   "metadata": {},
   "source": [
    "## С фолдингом"
   ]
  },
  {
   "cell_type": "code",
   "execution_count": 43,
   "metadata": {},
   "outputs": [],
   "source": [
    "X_train_cat_with_folding = counters_with_folds(X_train_cat, y_train_cat['target'])"
   ]
  },
  {
   "cell_type": "code",
   "execution_count": 44,
   "metadata": {
    "scrolled": true
   },
   "outputs": [],
   "source": [
    "weights_list = ['uniform']\n",
    "k_max = 15\n",
    "k_list = np.arange(k_max)\n",
    "best_score_param = {'score': None, 'param': None}\n",
    "for weights in weights_list:\n",
    "    knn_regressor = KNNRegressor(k_max, metric='euclidean', mode=weights, test_block_size=10000)\n",
    "    knn_regressor.fit(X_train_cat_with_folding, y_train_cat['target'])\n",
    "    knn_regressor.find_kneighbors(X_test_cat_without_folding, return_distance=True)\n",
    "    for k in k_list[1:]:\n",
    "        knn_regressor.n_neighbors = k\n",
    "        pred = knn_regressor.predict_opt(X_test_cat_without_folding)\n",
    "        roc_auc = roc_auc_score(pred, y_test_cat['target'].values)\n",
    "        if best_score_param['score'] is None:\n",
    "            best_score_param['score'] = roc_auc\n",
    "            best_score_param['param'] = str(weights) + '_' + str(k)            \n",
    "        elif abs(best_score_param['score'] - 0.5) < abs(roc_auc - 0.5):\n",
    "            best_score_param['score'] = roc_auc\n",
    "            best_score_param['param'] = str(weights) + '_' + str(k)\n",
    "        logs = np.append(logs, \n",
    "                             np.array(['С фолдингом',\n",
    "                                        k,\n",
    "                                        weights,\n",
    "                                        roc_auc])[None, :],\n",
    "                                        axis=0)"
   ]
  },
  {
   "cell_type": "code",
   "execution_count": 45,
   "metadata": {},
   "outputs": [
    {
     "data": {
      "text/plain": [
       "{'score': 0.7527181701840073, 'param': 'uniform_5'}"
      ]
     },
     "execution_count": 45,
     "metadata": {},
     "output_type": "execute_result"
    }
   ],
   "source": [
    "best_score_param"
   ]
  },
  {
   "cell_type": "code",
   "execution_count": 46,
   "metadata": {},
   "outputs": [],
   "source": [
    "logs_data = pd.DataFrame(logs, columns=['Тип заполнения',\n",
    "                                        'Количество соседей',\n",
    "                                        'Веса',\n",
    "                                        'ROC_AUC'])"
   ]
  },
  {
   "cell_type": "code",
   "execution_count": 47,
   "metadata": {},
   "outputs": [
    {
     "data": {
      "text/html": [
       "<div>\n",
       "<style scoped>\n",
       "    .dataframe tbody tr th:only-of-type {\n",
       "        vertical-align: middle;\n",
       "    }\n",
       "\n",
       "    .dataframe tbody tr th {\n",
       "        vertical-align: top;\n",
       "    }\n",
       "\n",
       "    .dataframe thead th {\n",
       "        text-align: right;\n",
       "    }\n",
       "</style>\n",
       "<table border=\"1\" class=\"dataframe\">\n",
       "  <thead>\n",
       "    <tr style=\"text-align: right;\">\n",
       "      <th></th>\n",
       "      <th>Тип заполнения</th>\n",
       "      <th>Количество соседей</th>\n",
       "      <th>Веса</th>\n",
       "      <th>ROC_AUC</th>\n",
       "    </tr>\n",
       "  </thead>\n",
       "  <tbody>\n",
       "    <tr>\n",
       "      <th>1</th>\n",
       "      <td>Без фолдинга</td>\n",
       "      <td>1</td>\n",
       "      <td>uniform</td>\n",
       "      <td>0.7118803376103604</td>\n",
       "    </tr>\n",
       "    <tr>\n",
       "      <th>2</th>\n",
       "      <td>Без фолдинга</td>\n",
       "      <td>2</td>\n",
       "      <td>uniform</td>\n",
       "      <td>0.7310142496654174</td>\n",
       "    </tr>\n",
       "    <tr>\n",
       "      <th>3</th>\n",
       "      <td>Без фолдинга</td>\n",
       "      <td>3</td>\n",
       "      <td>uniform</td>\n",
       "      <td>0.7292143529965854</td>\n",
       "    </tr>\n",
       "    <tr>\n",
       "      <th>4</th>\n",
       "      <td>Без фолдинга</td>\n",
       "      <td>4</td>\n",
       "      <td>uniform</td>\n",
       "      <td>0.7384337762122508</td>\n",
       "    </tr>\n",
       "    <tr>\n",
       "      <th>5</th>\n",
       "      <td>Без фолдинга</td>\n",
       "      <td>5</td>\n",
       "      <td>uniform</td>\n",
       "      <td>0.7619850417267447</td>\n",
       "    </tr>\n",
       "  </tbody>\n",
       "</table>\n",
       "</div>"
      ],
      "text/plain": [
       "  Тип заполнения Количество соседей     Веса             ROC_AUC\n",
       "1   Без фолдинга                  1  uniform  0.7118803376103604\n",
       "2   Без фолдинга                  2  uniform  0.7310142496654174\n",
       "3   Без фолдинга                  3  uniform  0.7292143529965854\n",
       "4   Без фолдинга                  4  uniform  0.7384337762122508\n",
       "5   Без фолдинга                  5  uniform  0.7619850417267447"
      ]
     },
     "execution_count": 47,
     "metadata": {},
     "output_type": "execute_result"
    }
   ],
   "source": [
    "logs_data = logs_data.drop([0], axis=0) # так как первая строка - нули\n",
    "logs_data.head(5)"
   ]
  },
  {
   "cell_type": "code",
   "execution_count": 48,
   "metadata": {},
   "outputs": [],
   "source": [
    "logs_data['ROC_AUC'] = logs_data['ROC_AUC'].astype(float)\n",
    "logs_data['Количество соседей'] = logs_data['Количество соседей'].astype(int)"
   ]
  },
  {
   "cell_type": "code",
   "execution_count": 52,
   "metadata": {},
   "outputs": [],
   "source": [
    "import seaborn as sns\n",
    "import matplotlib.pyplot as plt"
   ]
  },
  {
   "cell_type": "code",
   "execution_count": 53,
   "metadata": {},
   "outputs": [
    {
     "data": {
      "image/png": "[encoded data removed]",
      "text/plain": [
       "<Figure size 432x288 with 1 Axes>"
      ]
     },
     "metadata": {
      "needs_background": "light"
     },
     "output_type": "display_data"
    }
   ],
   "source": [
    "sns.barplot(x='Количество соседей',\n",
    "            y='ROC_AUC',\n",
    "            hue='Тип заполнения',\n",
    "            data=logs_data)\n",
    "plt.ylim(0.6, 0.9)\n",
    "plt.title('Зависимость метрики качества ROC_AUC от типа заполнения.')\n",
    "plt.show()"
   ]
  },
  {
   "cell_type": "markdown",
   "metadata": {},
   "source": [
    "Как видно из графика - заполнение признаков без фолдинга дает результат хуже, чем с фолдингом. Это можно объяснить только тем, что в признаке 'neighbourhood_group' у тренировочной выборки есть значения, которых нет в тестовой выборке. При заполнении без фолдов в тесте оказывается не так много \"неизвестных\" значений, а при использовании фолдов их количество увеличивается. Возможно, поможет увеличение количества фолдов (тогда \"неизвестных\" значений намного меньше). "
   ]
  },
  {
   "cell_type": "markdown",
   "metadata": {},
   "source": [
    "<b>2.5 (1 балл)</b> Вернемся к задаче регрессии. Утверждается, что для задачи регрессии можно также сделать преобразование категориальных признаков в действительные числа. Для этого достаточно для каждого значения признака $f_j$ вычислить:\n",
    "\\begin{align}\n",
    "p_j(c) = g(T_i | f_j(x_i) = c),\n",
    "\\end{align}\n",
    "\n",
    "где $T_i$ - значения целевой переменной объекта $x_i$. Функция $g$ - среднее (mean) или среднеквадратичное отклонение (std).\n",
    "\n",
    "Закодируйте категориальные признаки обоими способами и найдите значение RMSE. Используйте евклидову метрику для поиска ближайших соседей. Для какой функции $g$ значение RMSE лучше? Почему?"
   ]
  },
  {
   "cell_type": "code",
   "execution_count": 54,
   "metadata": {},
   "outputs": [],
   "source": [
    "def calculate_p_j(x, y, g_func=np.mean):\n",
    "    x = x.values.reshape(-1)\n",
    "    y = y.values.reshape(-1)\n",
    "    return g_func((x[:, None] == x) * y, axis=1)"
   ]
  },
  {
   "cell_type": "code",
   "execution_count": 55,
   "metadata": {},
   "outputs": [],
   "source": [
    "def calculate_p_j_for_test(x, x_tr, y, g_func=np.mean):\n",
    "    x = x.values.reshape(-1)\n",
    "    y = y.values\n",
    "    x_tr = x_tr.values.reshape(-1)\n",
    "    return g_func((x[:, None] == x_tr) * y, axis=1)  "
   ]
  },
  {
   "cell_type": "code",
   "execution_count": 56,
   "metadata": {},
   "outputs": [],
   "source": [
    "def calculate_p_j_for_df(df_train_cat, df_test_cat, y, g_func=np.mean):\n",
    "    df_train_copy = df_train_cat.copy()\n",
    "    df_test_copy = df_test_cat.copy()\n",
    "    for column in df_train_copy.columns:\n",
    "        df_train_copy[column + '_p_j'] = calculate_p_j(df_train_copy[column], y, g_func=g_func)\n",
    "        df_test_copy[column + '_p_j'] = calculate_p_j_for_test(df_test_copy[column],\n",
    "                                                               df_train_copy[column],\n",
    "                                                               y,\n",
    "                                                               g_func=g_func\n",
    "                                                              )\n",
    "        df_train_copy.drop(column, axis=1, inplace=True)\n",
    "        df_test_copy.drop(column, axis=1, inplace=True)\n",
    "    return df_train_copy, df_test_copy"
   ]
  },
  {
   "cell_type": "code",
   "execution_count": 57,
   "metadata": {},
   "outputs": [],
   "source": [
    "X_train_cat, X_test_cat, y_train_cat, y_test_cat = train_test_split(data_cat.drop(columns=['price', 'target']),\n",
    "                                                                                  data_cat[['price']],\n",
    "                                                                                  test_size=0.3, random_state=241)"
   ]
  },
  {
   "cell_type": "markdown",
   "metadata": {},
   "source": [
    "### Посчитаем все $p_j$ с функцией $mean$ для тренировочной и тестовой выборок:"
   ]
  },
  {
   "cell_type": "code",
   "execution_count": 58,
   "metadata": {
    "scrolled": true
   },
   "outputs": [],
   "source": [
    "X_train_cat_p_j, X_test_cat_p_j = calculate_p_j_for_df(X_train_cat, X_test_cat, y_train_cat['price'], np.mean)"
   ]
  },
  {
   "cell_type": "markdown",
   "metadata": {},
   "source": [
    "Заведем массив для логирования результатов"
   ]
  },
  {
   "cell_type": "code",
   "execution_count": 59,
   "metadata": {},
   "outputs": [],
   "source": [
    "logs = np.zeros((1, 4))"
   ]
  },
  {
   "cell_type": "code",
   "execution_count": 60,
   "metadata": {
    "scrolled": true
   },
   "outputs": [
    {
     "name": "stdout",
     "output_type": "stream",
     "text": [
      "n_neighbors: 1, weights: uniform, rmse: 256.9955092974038\n",
      "n_neighbors: 2, weights: uniform, rmse: 225.42715336866934\n",
      "n_neighbors: 3, weights: uniform, rmse: 218.1166870140802\n",
      "n_neighbors: 4, weights: uniform, rmse: 219.5907395782312\n",
      "n_neighbors: 5, weights: uniform, rmse: 217.1871295290689\n",
      "n_neighbors: 6, weights: uniform, rmse: 215.14252405305274\n",
      "n_neighbors: 7, weights: uniform, rmse: 223.20601888804407\n",
      "n_neighbors: 8, weights: uniform, rmse: 219.07736915691726\n",
      "n_neighbors: 9, weights: uniform, rmse: 215.8916293021102\n",
      "n_neighbors: 10, weights: uniform, rmse: 214.05440744727446\n",
      "n_neighbors: 11, weights: uniform, rmse: 213.163973702008\n",
      "n_neighbors: 12, weights: uniform, rmse: 213.1387156891674\n",
      "n_neighbors: 13, weights: uniform, rmse: 212.006511881363\n",
      "n_neighbors: 14, weights: uniform, rmse: 211.0541005183805\n"
     ]
    }
   ],
   "source": [
    "knn_regressor = KNNRegressor(15, metric='euclidean')\n",
    "weights_list = ['uniform']\n",
    "k_max = 15\n",
    "k_list = np.arange(k_max)\n",
    "best_score_param = {'score': None, 'param': None}\n",
    "for weights in weights_list:\n",
    "    knn_regressor = KNNRegressor(k_max, metric='euclidean', mode=weights, test_block_size=10000)\n",
    "    knn_regressor.fit(X_train_cat_p_j, y_train_cat)\n",
    "    knn_regressor.find_kneighbors(X_test_cat_p_j, return_distance=True)\n",
    "    for k in k_list[1:]:\n",
    "        knn_regressor.n_neighbors = k\n",
    "        pred = knn_regressor.predict(X_test_cat_p_j)\n",
    "        rmse_curr = rmse(pred, y_test_cat.values.reshape(-1))\n",
    "        print(f'n_neighbors: {k}, weights: {weights}, rmse: {rmse_curr}')\n",
    "        if best_score_param['score'] is None:\n",
    "            best_score_param['score'] = rmse_curr\n",
    "            best_score_param['param'] = str(weights) + '_' + str(k)            \n",
    "        elif best_score_param['score'] > rmse_curr:\n",
    "            best_score_param['score'] = rmse_curr\n",
    "            best_score_param['param'] = str(weights) + '_' + str(k)\n",
    "        logs = np.append(logs, \n",
    "                             np.array(['mean',\n",
    "                                        k,\n",
    "                                        weights,\n",
    "                                        rmse_curr])[None, :],\n",
    "                                        axis=0)"
   ]
  },
  {
   "cell_type": "code",
   "execution_count": 61,
   "metadata": {},
   "outputs": [
    {
     "data": {
      "text/plain": [
       "{'score': 211.0541005183805, 'param': 'uniform_14'}"
      ]
     },
     "execution_count": 61,
     "metadata": {},
     "output_type": "execute_result"
    }
   ],
   "source": [
    "best_score_param"
   ]
  },
  {
   "cell_type": "markdown",
   "metadata": {},
   "source": [
    " лучший результат достигается при $k=14$"
   ]
  },
  {
   "cell_type": "markdown",
   "metadata": {},
   "source": [
    "### Посчитаем все $p_j$ с функцией $std$ для тренировочной и тестовой выборок:"
   ]
  },
  {
   "cell_type": "code",
   "execution_count": 62,
   "metadata": {
    "scrolled": true
   },
   "outputs": [],
   "source": [
    "X_train_cat_p_j, X_test_cat_p_j = calculate_p_j_for_df(X_train_cat, X_test_cat, y_train_cat['price'],\n",
    "                                                       np.std)"
   ]
  },
  {
   "cell_type": "code",
   "execution_count": 63,
   "metadata": {},
   "outputs": [
    {
     "name": "stdout",
     "output_type": "stream",
     "text": [
      "n_neighbors: 1, weights: uniform, rmse: 257.06013753417153\n",
      "n_neighbors: 2, weights: uniform, rmse: 225.45899483263952\n",
      "n_neighbors: 3, weights: uniform, rmse: 218.1486452763526\n",
      "n_neighbors: 4, weights: uniform, rmse: 242.98248169914015\n",
      "n_neighbors: 5, weights: uniform, rmse: 231.78584953277328\n",
      "n_neighbors: 6, weights: uniform, rmse: 224.5639471709267\n",
      "n_neighbors: 7, weights: uniform, rmse: 223.55743097103192\n",
      "n_neighbors: 8, weights: uniform, rmse: 219.23957591637205\n",
      "n_neighbors: 9, weights: uniform, rmse: 223.016634459386\n",
      "n_neighbors: 10, weights: uniform, rmse: 219.19152581574295\n",
      "n_neighbors: 11, weights: uniform, rmse: 216.856813040564\n",
      "n_neighbors: 12, weights: uniform, rmse: 215.19329847854564\n",
      "n_neighbors: 13, weights: uniform, rmse: 213.61807902111028\n",
      "n_neighbors: 14, weights: uniform, rmse: 212.82925240340748\n"
     ]
    }
   ],
   "source": [
    "knn_regressor = KNNRegressor(15, metric='euclidean')\n",
    "weights_list = ['uniform']\n",
    "k_max = 15\n",
    "k_list = np.arange(k_max)\n",
    "best_score_param = {'score': None, 'param': None}\n",
    "for weights in weights_list:\n",
    "    knn_regressor = KNNRegressor(k_max, metric='euclidean', mode=weights, test_block_size=10000)\n",
    "    knn_regressor.fit(X_train_cat_p_j, y_train_cat)\n",
    "    knn_regressor.find_kneighbors(X_test_cat_p_j, return_distance=True)\n",
    "    for k in k_list[1:]:\n",
    "        knn_regressor.n_neighbors = k\n",
    "        pred = knn_regressor.predict(X_test_cat_p_j)\n",
    "        rmse_curr = rmse(pred, y_test_cat.values.reshape(-1))\n",
    "        print(f'n_neighbors: {k}, weights: {weights}, rmse: {rmse_curr}')\n",
    "        if best_score_param['score'] is None:\n",
    "            best_score_param['score'] = rmse_curr\n",
    "            best_score_param['param'] = str(weights) + '_' + str(k)            \n",
    "        elif best_score_param['score'] > rmse_curr:\n",
    "            best_score_param['score'] = rmse_curr\n",
    "            best_score_param['param'] = str(weights) + '_' + str(k)\n",
    "        logs = np.append(logs, \n",
    "                         np.array(['std',\n",
    "                                    k,\n",
    "                                    weights,\n",
    "                                    rmse_curr])[None, :],\n",
    "                                    axis=0)"
   ]
  },
  {
   "cell_type": "code",
   "execution_count": 64,
   "metadata": {},
   "outputs": [
    {
     "data": {
      "text/plain": [
       "{'score': 212.82925240340748, 'param': 'uniform_14'}"
      ]
     },
     "execution_count": 64,
     "metadata": {},
     "output_type": "execute_result"
    }
   ],
   "source": [
    "best_score_param"
   ]
  },
  {
   "cell_type": "markdown",
   "metadata": {},
   "source": [
    "Лучший результат при $k=14$"
   ]
  },
  {
   "cell_type": "markdown",
   "metadata": {},
   "source": [
    "### Построим график зависимости метрики качества RMSE от типа заполнения"
   ]
  },
  {
   "cell_type": "code",
   "execution_count": 65,
   "metadata": {},
   "outputs": [],
   "source": [
    "logs_data = pd.DataFrame(logs, columns=['Функция',\n",
    "                                        'Количество соседей',\n",
    "                                        'Веса',\n",
    "                                        'RMSE'])"
   ]
  },
  {
   "cell_type": "code",
   "execution_count": 66,
   "metadata": {},
   "outputs": [
    {
     "data": {
      "text/html": [
       "<div>\n",
       "<style scoped>\n",
       "    .dataframe tbody tr th:only-of-type {\n",
       "        vertical-align: middle;\n",
       "    }\n",
       "\n",
       "    .dataframe tbody tr th {\n",
       "        vertical-align: top;\n",
       "    }\n",
       "\n",
       "    .dataframe thead th {\n",
       "        text-align: right;\n",
       "    }\n",
       "</style>\n",
       "<table border=\"1\" class=\"dataframe\">\n",
       "  <thead>\n",
       "    <tr style=\"text-align: right;\">\n",
       "      <th></th>\n",
       "      <th>Функция</th>\n",
       "      <th>Количество соседей</th>\n",
       "      <th>Веса</th>\n",
       "      <th>RMSE</th>\n",
       "    </tr>\n",
       "  </thead>\n",
       "  <tbody>\n",
       "    <tr>\n",
       "      <th>1</th>\n",
       "      <td>mean</td>\n",
       "      <td>1</td>\n",
       "      <td>uniform</td>\n",
       "      <td>256.9955092974038</td>\n",
       "    </tr>\n",
       "    <tr>\n",
       "      <th>2</th>\n",
       "      <td>mean</td>\n",
       "      <td>2</td>\n",
       "      <td>uniform</td>\n",
       "      <td>225.42715336866934</td>\n",
       "    </tr>\n",
       "    <tr>\n",
       "      <th>3</th>\n",
       "      <td>mean</td>\n",
       "      <td>3</td>\n",
       "      <td>uniform</td>\n",
       "      <td>218.1166870140802</td>\n",
       "    </tr>\n",
       "    <tr>\n",
       "      <th>4</th>\n",
       "      <td>mean</td>\n",
       "      <td>4</td>\n",
       "      <td>uniform</td>\n",
       "      <td>219.5907395782312</td>\n",
       "    </tr>\n",
       "    <tr>\n",
       "      <th>5</th>\n",
       "      <td>mean</td>\n",
       "      <td>5</td>\n",
       "      <td>uniform</td>\n",
       "      <td>217.1871295290689</td>\n",
       "    </tr>\n",
       "  </tbody>\n",
       "</table>\n",
       "</div>"
      ],
      "text/plain": [
       "  Функция Количество соседей     Веса                RMSE\n",
       "1    mean                  1  uniform   256.9955092974038\n",
       "2    mean                  2  uniform  225.42715336866934\n",
       "3    mean                  3  uniform   218.1166870140802\n",
       "4    mean                  4  uniform   219.5907395782312\n",
       "5    mean                  5  uniform   217.1871295290689"
      ]
     },
     "execution_count": 66,
     "metadata": {},
     "output_type": "execute_result"
    }
   ],
   "source": [
    "logs_data = logs_data.drop([0], axis=0) # так как первая строка - нули\n",
    "logs_data.head(5)"
   ]
  },
  {
   "cell_type": "code",
   "execution_count": 67,
   "metadata": {},
   "outputs": [],
   "source": [
    "logs_data['RMSE'] = logs_data['RMSE'].astype(float)\n",
    "logs_data['Количество соседей'] = logs_data['Количество соседей'].astype(int)"
   ]
  },
  {
   "cell_type": "code",
   "execution_count": 68,
   "metadata": {},
   "outputs": [
    {
     "data": {
      "image/png": "[encoded data removed]",
      "text/plain": [
       "<Figure size 432x288 with 1 Axes>"
      ]
     },
     "metadata": {
      "needs_background": "light"
     },
     "output_type": "display_data"
    }
   ],
   "source": [
    "sns.barplot(x='Количество соседей',\n",
    "            y='RMSE',\n",
    "            hue='Функция',\n",
    "            data=logs_data)\n",
    "plt.semilogy()\n",
    "plt.title('Зависимость метрики качества RMSE от типа заполнения.') \n",
    "plt.show()"
   ]
  },
  {
   "cell_type": "markdown",
   "metadata": {},
   "source": [
    "Как видно из результатов функция $g = mean$ дает качество лучше, чем std. Предполагаю, что это связано с тем, что функция $std$ очень чувствительна к уникальным признакам. Допустим, что в признаке $p_j$ есть значение $c$, которое принимает всего один объект, тогда при преобразовании \n",
    "$p_j(c) = std(T_i | f_j(x_i) = c)$ значение признака изменится на 0, что является не очень информативным."
   ]
  },
  {
   "cell_type": "markdown",
   "metadata": {},
   "source": [
    "## Часть 3: Текстовые признаки"
   ]
  },
  {
   "cell_type": "markdown",
   "metadata": {},
   "source": [
    "<b>3.1 (2 балла)</b> Перейдем от категориальным признаков к текстовым. Рассмотрим 2 способа преобразования текста в действительные числа:\n",
    "- Мешок слов (Bag of Words)\n",
    "- TF-IDF\n",
    "\n",
    "[Здесь](https://scikit-learn.org/stable/modules/feature_extraction.html) вы можете прочитать про их применение в Питоне.\n",
    "\n",
    "Сравните оба способа на задаче регресси. Какую лучше метрику использовать: евклидову или косинусную меру? Постройте графики зависимости качества решения задачи от способа преобразования, метрики и количества соседей. Мера качества - RMSE.\n",
    "\n",
    "Объясните полученные результаты.\n",
    "\n",
    "Перед преобразованием не забудьте уменьшить размер словаря. Например, это можно сделать за счет приведения всех слов к одному регистру и удаления [стопслов](https://en.wikipedia.org/wiki/Stop_words) (артиклей, предлогов, союзов)."
   ]
  },
  {
   "cell_type": "markdown",
   "metadata": {},
   "source": [
    "## Загрузим множество стоп-слов"
   ]
  },
  {
   "cell_type": "code",
   "execution_count": 408,
   "metadata": {},
   "outputs": [
    {
     "name": "stderr",
     "output_type": "stream",
     "text": [
      "[nltk_data] Downloading package stopwords to\n",
      "[nltk_data]     /home/paniquex/nltk_data...\n",
      "[nltk_data]   Package stopwords is already up-to-date!\n"
     ]
    }
   ],
   "source": [
    "import string\n",
    "import nltk\n",
    "from nltk.corpus import stopwords\n",
    "nltk.download('stopwords')\n",
    "stopwords_set = set(stopwords.words('english'))"
   ]
  },
  {
   "cell_type": "markdown",
   "metadata": {},
   "source": [
    "## Удалим пунктуацию и приведем все к одному регистру"
   ]
  },
  {
   "cell_type": "code",
   "execution_count": 478,
   "metadata": {},
   "outputs": [],
   "source": [
    "data_text = data.copy()\n",
    "data_text['name'] = data_text['name'] + data_text['host_name']\n",
    "data_text['name'] = data_text['name'].str.lower()\n",
    "data_text['name'] = data_text['name'].str.split()\n",
    "data_text['name'] = data_text['name'].apply(lambda x: [elem for elem in x if elem not in list(string.punctuation)])"
   ]
  },
  {
   "cell_type": "markdown",
   "metadata": {},
   "source": [
    "## Удалим стоп-слова:"
   ]
  },
  {
   "cell_type": "code",
   "execution_count": 479,
   "metadata": {},
   "outputs": [],
   "source": [
    "data_text['name'] = data_text['name'].apply(lambda x: [elem for elem in x if elem not in stopwords_set])"
   ]
  },
  {
   "cell_type": "code",
   "execution_count": 480,
   "metadata": {},
   "outputs": [],
   "source": [
    "data_text['name'] = data_text['name'].apply(lambda x: ' '.join(x))"
   ]
  },
  {
   "cell_type": "markdown",
   "metadata": {},
   "source": [
    "## Bag of Words"
   ]
  },
  {
   "cell_type": "code",
   "execution_count": 481,
   "metadata": {},
   "outputs": [],
   "source": [
    "from sklearn.feature_extraction.text import CountVectorizer"
   ]
  },
  {
   "cell_type": "code",
   "execution_count": 482,
   "metadata": {},
   "outputs": [],
   "source": [
    "vectorizer = CountVectorizer(lowercase=False)"
   ]
  },
  {
   "cell_type": "code",
   "execution_count": 483,
   "metadata": {},
   "outputs": [],
   "source": [
    "data_with_text_features_bag = vectorizer.fit_transform(data_text['name'])"
   ]
  },
  {
   "cell_type": "code",
   "execution_count": 484,
   "metadata": {},
   "outputs": [],
   "source": [
    "from sklearn.model_selection import train_test_split\n",
    "X_train_with_text, X_test_with_text, y_train_with_text, y_test_with_text = train_test_split(data_with_text_features_bag,\n",
    "                                                                                    data[['price']].values,\n",
    "                                                                                    test_size=0.3, random_state=241)"
   ]
  },
  {
   "cell_type": "code",
   "execution_count": 485,
   "metadata": {},
   "outputs": [],
   "source": [
    "logs = np.zeros((1, 5))"
   ]
  },
  {
   "cell_type": "code",
   "execution_count": 486,
   "metadata": {
    "scrolled": true
   },
   "outputs": [],
   "source": [
    "metrics_list = ['euclidean', 'cosine']\n",
    "weights_list = ['uniform', 'distance']\n",
    "k_max = 21\n",
    "k_list = np.arange(2, k_max)\n",
    "best_score_param = {'score': None, 'param': None}\n",
    "for metrics in metrics_list:\n",
    "    for weights in weights_list:\n",
    "        knn_regressor = KNNRegressor(k_max, metric=metrics, mode=weights, test_block_size=10000)\n",
    "        knn_regressor.fit(X_train_with_text, y_train_with_text.reshape(-1))\n",
    "        knn_regressor.find_kneighbors(X_test_with_text, return_distance=True)\n",
    "        for k in k_list[1:]:\n",
    "            knn_regressor.n_neighbors = k\n",
    "            pred = knn_regressor.predict_opt_regression(X_test_with_text)\n",
    "            rmse_score = rmse(pred, y_test_with_text.reshape(-1))\n",
    "            if best_score_param['score'] is None:\n",
    "                best_score_param['score'] = rmse_score\n",
    "                best_score_param['param'] = str(weights) + '_' + str(k) + '_' + str(metrics)           \n",
    "            elif best_score_param['score'] > rmse_score:\n",
    "                best_score_param['score'] = rmse_score\n",
    "                best_score_param['param'] = str(weights) + '_' + str(k) + '_' + str(metrics)\n",
    "            logs = np.append(logs, \n",
    "                             np.array(['BOW',\n",
    "                                        k,\n",
    "                                        weights,\n",
    "                                        metrics,\n",
    "                                        rmse_score])[None, :],\n",
    "                                        axis=0)"
   ]
  },
  {
   "cell_type": "code",
   "execution_count": 487,
   "metadata": {},
   "outputs": [
    {
     "data": {
      "text/plain": [
       "{'score': 205.92985072106913, 'param': 'distance_19_cosine'}"
      ]
     },
     "execution_count": 487,
     "metadata": {},
     "output_type": "execute_result"
    }
   ],
   "source": [
    "best_score_param"
   ]
  },
  {
   "cell_type": "markdown",
   "metadata": {},
   "source": [
    "{'score': 205.92741917266707, 'param': 'distance_19_cosine'}"
   ]
  },
  {
   "cell_type": "markdown",
   "metadata": {},
   "source": [
    "## TF-IDF"
   ]
  },
  {
   "cell_type": "code",
   "execution_count": 488,
   "metadata": {},
   "outputs": [],
   "source": [
    "from sklearn.feature_extraction.text import TfidfVectorizer"
   ]
  },
  {
   "cell_type": "code",
   "execution_count": 489,
   "metadata": {},
   "outputs": [],
   "source": [
    "vectorizer_tfid = TfidfVectorizer()\n",
    "data_with_text_features_tfidf = vectorizer_tfid.fit_transform(data_text['name'])"
   ]
  },
  {
   "cell_type": "code",
   "execution_count": 490,
   "metadata": {},
   "outputs": [],
   "source": [
    "X_train_with_text, X_test_with_text, y_train_with_text, y_test_with_text = train_test_split(data_with_text_features_tfidf,\n",
    "                                                                                    data[['price']].values,\n",
    "                                                                                    test_size=0.3, random_state=241)"
   ]
  },
  {
   "cell_type": "code",
   "execution_count": 491,
   "metadata": {
    "scrolled": true
   },
   "outputs": [],
   "source": [
    "metrics_list = ['euclidean', 'cosine']\n",
    "weights_list = ['uniform', 'distance']\n",
    "k_max = 21\n",
    "k_list = np.arange(2, k_max)\n",
    "best_score_param = {'score': None, 'param': None}\n",
    "for metrics in metrics_list:\n",
    "    for weights in weights_list:\n",
    "        knn_regressor = KNNRegressor(k_max, metric=metrics, mode=weights, test_block_size=10000)\n",
    "        knn_regressor.fit(X_train_with_text, y_train_with_text.reshape(-1))\n",
    "        knn_regressor.find_kneighbors(X_test_with_text, return_distance=True)\n",
    "        for k in k_list[1:]:\n",
    "            knn_regressor.n_neighbors = k\n",
    "            pred = knn_regressor.predict_opt_regression(X_test_with_text)\n",
    "            rmse_score = rmse(pred, y_test_with_text.reshape(-1))\n",
    "#             print(f'n_neighbors: {k}, weights: {weights}, metric: {metrics}, rmse: {rmse_score}')\n",
    "            if best_score_param['score'] is None:\n",
    "                best_score_param['score'] = rmse_score\n",
    "                best_score_param['param'] = str(weights) + '_' + str(k) + '_' + str(metrics)            \n",
    "            elif best_score_param['score'] > rmse_score:\n",
    "                best_score_param['score'] = rmse_score\n",
    "                best_score_param['param'] = str(weights) + '_' + str(k) + '_' + str(metrics)\n",
    "            logs = np.append(logs, \n",
    "                             np.array(['TF-IDF',\n",
    "                                        k,\n",
    "                                        weights,\n",
    "                                        metrics,\n",
    "                                        rmse_score])[None, :],\n",
    "                                        axis=0)"
   ]
  },
  {
   "cell_type": "code",
   "execution_count": 492,
   "metadata": {},
   "outputs": [
    {
     "data": {
      "text/plain": [
       "{'score': 205.4247224752524, 'param': 'distance_20_cosine'}"
      ]
     },
     "execution_count": 492,
     "metadata": {},
     "output_type": "execute_result"
    }
   ],
   "source": [
    "best_score_param"
   ]
  },
  {
   "cell_type": "markdown",
   "metadata": {},
   "source": [
    "{'score': 202.4183357193138, 'param': 'distance_16_cosine'}"
   ]
  },
  {
   "cell_type": "code",
   "execution_count": 493,
   "metadata": {},
   "outputs": [],
   "source": [
    "logs_data = pd.DataFrame(logs, columns=['preproc_type',\n",
    "                                        'n_neighbours',\n",
    "                                        'weights',\n",
    "                                        'metric',\n",
    "                                        'rmse'])"
   ]
  },
  {
   "cell_type": "code",
   "execution_count": 494,
   "metadata": {},
   "outputs": [
    {
     "data": {
      "text/html": [
       "<div>\n",
       "<style scoped>\n",
       "    .dataframe tbody tr th:only-of-type {\n",
       "        vertical-align: middle;\n",
       "    }\n",
       "\n",
       "    .dataframe tbody tr th {\n",
       "        vertical-align: top;\n",
       "    }\n",
       "\n",
       "    .dataframe thead th {\n",
       "        text-align: right;\n",
       "    }\n",
       "</style>\n",
       "<table border=\"1\" class=\"dataframe\">\n",
       "  <thead>\n",
       "    <tr style=\"text-align: right;\">\n",
       "      <th></th>\n",
       "      <th>preproc_type</th>\n",
       "      <th>n_neighbours</th>\n",
       "      <th>weights</th>\n",
       "      <th>metric</th>\n",
       "      <th>rmse</th>\n",
       "    </tr>\n",
       "  </thead>\n",
       "  <tbody>\n",
       "    <tr>\n",
       "      <th>1</th>\n",
       "      <td>BOW</td>\n",
       "      <td>3</td>\n",
       "      <td>uniform</td>\n",
       "      <td>euclidean</td>\n",
       "      <td>233.19957505097526</td>\n",
       "    </tr>\n",
       "    <tr>\n",
       "      <th>2</th>\n",
       "      <td>BOW</td>\n",
       "      <td>4</td>\n",
       "      <td>uniform</td>\n",
       "      <td>euclidean</td>\n",
       "      <td>226.5929988833603</td>\n",
       "    </tr>\n",
       "    <tr>\n",
       "      <th>3</th>\n",
       "      <td>BOW</td>\n",
       "      <td>5</td>\n",
       "      <td>uniform</td>\n",
       "      <td>euclidean</td>\n",
       "      <td>224.21548570879605</td>\n",
       "    </tr>\n",
       "    <tr>\n",
       "      <th>4</th>\n",
       "      <td>BOW</td>\n",
       "      <td>6</td>\n",
       "      <td>uniform</td>\n",
       "      <td>euclidean</td>\n",
       "      <td>220.07965060190054</td>\n",
       "    </tr>\n",
       "    <tr>\n",
       "      <th>5</th>\n",
       "      <td>BOW</td>\n",
       "      <td>7</td>\n",
       "      <td>uniform</td>\n",
       "      <td>euclidean</td>\n",
       "      <td>218.58022981740373</td>\n",
       "    </tr>\n",
       "  </tbody>\n",
       "</table>\n",
       "</div>"
      ],
      "text/plain": [
       "  preproc_type n_neighbours  weights     metric                rmse\n",
       "1          BOW            3  uniform  euclidean  233.19957505097526\n",
       "2          BOW            4  uniform  euclidean   226.5929988833603\n",
       "3          BOW            5  uniform  euclidean  224.21548570879605\n",
       "4          BOW            6  uniform  euclidean  220.07965060190054\n",
       "5          BOW            7  uniform  euclidean  218.58022981740373"
      ]
     },
     "execution_count": 494,
     "metadata": {},
     "output_type": "execute_result"
    }
   ],
   "source": [
    "logs_data = logs_data.drop([0], axis=0) # так как первая строка - нули\n",
    "logs_data.head(5)"
   ]
  },
  {
   "cell_type": "markdown",
   "metadata": {},
   "source": [
    "### Построим графики зависимости RMSE от способа преобразования, метрики и количества соседей"
   ]
  },
  {
   "cell_type": "code",
   "execution_count": 495,
   "metadata": {},
   "outputs": [],
   "source": [
    "import seaborn as sns\n",
    "import matplotlib.pyplot as plt\n",
    "import matplotlib.patches as mpatches"
   ]
  },
  {
   "cell_type": "code",
   "execution_count": 496,
   "metadata": {},
   "outputs": [],
   "source": [
    "logs_data.columns = ['Тип преобразования', 'Количество соседей', 'Веса', 'Метрика расстояния', 'RMSE']"
   ]
  },
  {
   "cell_type": "code",
   "execution_count": 497,
   "metadata": {},
   "outputs": [],
   "source": [
    "logs_data['Количество соседей'] = logs_data['Количество соседей'].astype(int)\n",
    "logs_data['RMSE'] = logs_data['RMSE'].astype(float)"
   ]
  },
  {
   "cell_type": "code",
   "execution_count": 498,
   "metadata": {},
   "outputs": [],
   "source": [
    "best_selection = (logs_data['Метрика расстояния'] == 'cosine') & (logs_data['Веса'] == 'distance')"
   ]
  },
  {
   "cell_type": "markdown",
   "metadata": {},
   "source": [
    "### Покажем зависимость RMSE от способа преобразования:\n",
    "В качества метрики расстояния взята косинусная мера."
   ]
  },
  {
   "cell_type": "code",
   "execution_count": 499,
   "metadata": {},
   "outputs": [
    {
     "data": {
      "image/png": "[encoded data removed]",
      "text/plain": [
       "<Figure size 432x288 with 1 Axes>"
      ]
     },
     "metadata": {
      "needs_background": "light"
     },
     "output_type": "display_data"
    }
   ],
   "source": [
    "sns.barplot(x='Количество соседей',\n",
    "            y='RMSE',\n",
    "            hue='Тип преобразования',\n",
    "            data=logs_data[best_selection])\n",
    "plt.semilogy()\n",
    "plt.title('Зависимость метрики качества RMSE от типа преобразования')\n",
    "plt.show()"
   ]
  },
  {
   "cell_type": "markdown",
   "metadata": {},
   "source": [
    "По графику можно заметить, что алгоритм с преобразованием текстовых признаков **TF-IDF** превосходит аналогичный алгоритм, но с преобразованием **Bag of words**. Это происходит из-за того, что **TF-IDF** дополнительно учитывает информацию об уникальности слов (В данном эксперименте на качество не влияет нормировка, которая входит в **TF-IDF**, так как используется косинусная метрика расстояния)."
   ]
  },
  {
   "cell_type": "markdown",
   "metadata": {},
   "source": [
    "### Зависимость RMSE от метрики:\n",
    "В данном эксперименте используется **Bag of words** в качетсве преобразования текстовых признаков."
   ]
  },
  {
   "cell_type": "code",
   "execution_count": 500,
   "metadata": {},
   "outputs": [
    {
     "data": {
      "image/png": "[encoded data removed]",
      "text/plain": [
       "<Figure size 432x288 with 1 Axes>"
      ]
     },
     "metadata": {
      "needs_background": "light"
     },
     "output_type": "display_data"
    }
   ],
   "source": [
    "sns.barplot(x='Количество соседей',\n",
    "            y='RMSE',\n",
    "            hue='Метрика расстояния',\n",
    "            data=logs_data[logs_data['Тип преобразования'] == 'BOW'])\n",
    "plt.semilogy()\n",
    "plt.title('Зависимость метрики качества RMSE от метрики расстояния')\n",
    "plt.show()"
   ]
  },
  {
   "cell_type": "markdown",
   "metadata": {},
   "source": [
    "Практически во всех случаях наилучшее качество дает косинусная метрика. Это объясняется тем, что при преобразовании **Bag of words** значения признаков не нормированы, а евклидова метрика чувствительна к масштабу."
   ]
  },
  {
   "cell_type": "markdown",
   "metadata": {},
   "source": [
    "### Зависимость RMSE от количества соседей:"
   ]
  },
  {
   "cell_type": "code",
   "execution_count": 501,
   "metadata": {},
   "outputs": [
    {
     "data": {
      "image/png": "[encoded data removed]",
      "text/plain": [
       "<Figure size 432x288 with 1 Axes>"
      ]
     },
     "metadata": {
      "needs_background": "light"
     },
     "output_type": "display_data"
    }
   ],
   "source": [
    "sns.lineplot(x='Количество соседей',\n",
    "            y='RMSE',\n",
    "            data=logs_data[best_selection & (logs_data['Тип преобразования'] == 'TF-IDF')])\n",
    "plt.title('Зависимость метрики качества RMSE от соседей.')\n",
    "plt.xticks(logs_data['Количество соседей'].unique())\n",
    "plt.show()"
   ]
  },
  {
   "cell_type": "markdown",
   "metadata": {},
   "source": [
    "По графику видно, что ошибка убывает с ростом количества соседей. Это логично, так как предсказания усредняются по бОльшему числу похожих объектов. Но такое поведение графика не будет сохраняться при достаточно больших значениях $k$. Например, при $k = l$, где $l$ - количество объектов в тренировочной выборке модель выраждается в константный предсказатель (если рассматривается модель без весов), где предсказание для объекта из теста равно среднему значению целевой переменной по всей тренировочной выборке."
   ]
  },
  {
   "cell_type": "markdown",
   "metadata": {},
   "source": [
    "<b>3.2 (1 балл)</b> Используя все доступные признаки, решите задачу регрессии. Для категориальных и текстовых признаков выберите лучшие преобразования. Повлияло ли добавление количественного признака на метрику качества?"
   ]
  },
  {
   "cell_type": "markdown",
   "metadata": {},
   "source": [
    "### Будем проверять на евклидовой метрике, используя лучшие преобразования для категориальных и текстовых признаков:\n",
    "    1) Добавим все признаки из 2.4 (без фолдинга)\n",
    "    2) Добавим признаки, использующие функцию g = mean.\n",
    "    3) Добавим все текстовые признаки, полученные с помощью TF-IDF\n",
    "    4) Все исходные числовые признаки (кроме тех, что являются неинформативными)"
   ]
  },
  {
   "cell_type": "code",
   "execution_count": 278,
   "metadata": {},
   "outputs": [],
   "source": [
    "cat_columns = ['neighbourhood_group', 'neighbourhood', 'room_type']\n",
    "numeric_columns = ['latitude',\n",
    "                   'longitude',\n",
    "                   'room_type',\n",
    "                   'minimum_nights',\n",
    "                   'number_of_reviews',\n",
    "                   'reviews_per_month',\n",
    "                   'calculated_host_listings_count',\n",
    "                   'availability_365'] \n",
    "text_columns = ['name', 'host_name']\n",
    "\n",
    "data_numerical = data.copy()"
   ]
  },
  {
   "cell_type": "markdown",
   "metadata": {},
   "source": [
    "### Закодируем категориальные призаки (из-за этого быстрее считаются статистики):"
   ]
  },
  {
   "cell_type": "code",
   "execution_count": 279,
   "metadata": {},
   "outputs": [],
   "source": [
    "from sklearn.preprocessing import LabelEncoder"
   ]
  },
  {
   "cell_type": "code",
   "execution_count": 280,
   "metadata": {},
   "outputs": [],
   "source": [
    "le = LabelEncoder()\n",
    "for column in cat_columns:\n",
    "    all_classes_in_col = data_numerical[column].unique()\n",
    "    le.fit(all_classes_in_col)\n",
    "    data_numerical.loc[:, column] = le.transform(data_numerical.loc[:, column]) + 1"
   ]
  },
  {
   "cell_type": "markdown",
   "metadata": {},
   "source": [
    "### Разобьем данные на тренировочную и тестовую выборки."
   ]
  },
  {
   "cell_type": "code",
   "execution_count": 281,
   "metadata": {},
   "outputs": [],
   "source": [
    "X_train, X_test, y_train, y_test = train_test_split(data_numerical.drop(columns=['price', 'target']),\n",
    "                                                    data_numerical[['price', 'target']],\n",
    "                                                    test_size=0.3, random_state=241)"
   ]
  },
  {
   "cell_type": "markdown",
   "metadata": {},
   "source": [
    "### Сгенерируем признаки-счетчики:"
   ]
  },
  {
   "cell_type": "code",
   "execution_count": 282,
   "metadata": {},
   "outputs": [],
   "source": [
    "counter_features_train = counters(X_train[cat_columns], X_train[cat_columns], y_train['target'])\n",
    "counter_features_test = counters(X_test[cat_columns], X_train[cat_columns], y_train['target'])"
   ]
  },
  {
   "cell_type": "markdown",
   "metadata": {},
   "source": [
    "### Сгенерируем признаки из пункта 2.5 с помощью функции $mean$"
   ]
  },
  {
   "cell_type": "code",
   "execution_count": 283,
   "metadata": {},
   "outputs": [],
   "source": [
    "p_j_feature_train, p_j_feature_test = calculate_p_j_for_df(X_train[cat_columns],\n",
    "                                                           X_test[cat_columns],\n",
    "                                                           y_train['price'],\n",
    "                                                           np.mean)"
   ]
  },
  {
   "cell_type": "markdown",
   "metadata": {},
   "source": [
    "### Добавим полученные признаки в тренировочную и тестовую выборки"
   ]
  },
  {
   "cell_type": "code",
   "execution_count": 284,
   "metadata": {},
   "outputs": [],
   "source": [
    "X_train = pd.concat([X_train, counter_features_train, p_j_feature_train], axis=1)\n",
    "X_test = pd.concat([X_test, counter_features_test, p_j_feature_test], axis=1)"
   ]
  },
  {
   "cell_type": "markdown",
   "metadata": {},
   "source": [
    "### Выкинем текстовые, категориальные и неинформативные признаки"
   ]
  },
  {
   "cell_type": "code",
   "execution_count": 285,
   "metadata": {},
   "outputs": [],
   "source": [
    "X_train.drop(text_columns + cat_columns + ['id', 'host_id', 'last_review', 'availability_365'], axis=1, inplace=True)\n",
    "X_test.drop(text_columns + cat_columns + ['id', 'host_id', 'last_review', 'availability_365'], axis=1, inplace=True)"
   ]
  },
  {
   "cell_type": "code",
   "execution_count": 286,
   "metadata": {},
   "outputs": [],
   "source": [
    "y_train = y_train['price']\n",
    "y_test = y_test['price']"
   ]
  },
  {
   "cell_type": "code",
   "execution_count": 327,
   "metadata": {},
   "outputs": [],
   "source": [
    "X_train_arr = X_train.iloc[:, 8:].to_numpy()\n",
    "X_train_with_text_arr = X_train_with_text.toarray()\n",
    "X_test_arr = X_test.iloc[:, 8:].to_numpy()\n",
    "X_test_with_text_arr = X_test_with_text.toarray()"
   ]
  },
  {
   "cell_type": "markdown",
   "metadata": {},
   "source": [
    "### Объединим преобразованные текстовые признаки с помощью TF-IDF с признаками, полученными выше"
   ]
  },
  {
   "cell_type": "code",
   "execution_count": 328,
   "metadata": {},
   "outputs": [],
   "source": [
    "X_train_full = np.hstack([X_train_with_text_arr, X_train_arr])\n",
    "X_test_full = np.hstack([X_test_with_text_arr, X_test_arr])"
   ]
  },
  {
   "cell_type": "markdown",
   "metadata": {},
   "source": [
    "### Проверим качество при различных параметрах алгоритма:"
   ]
  },
  {
   "cell_type": "code",
   "execution_count": 333,
   "metadata": {
    "scrolled": true
   },
   "outputs": [
    {
     "name": "stdout",
     "output_type": "stream",
     "text": [
      "n_neighbors: 3, weights: uniform, metric: euclidean, rmse: 233.06325586425268\n",
      "n_neighbors: 4, weights: uniform, metric: euclidean, rmse: 223.3549325392909\n",
      "n_neighbors: 5, weights: uniform, metric: euclidean, rmse: 217.6473586535891\n",
      "n_neighbors: 6, weights: uniform, metric: euclidean, rmse: 212.55445480402162\n",
      "n_neighbors: 7, weights: uniform, metric: euclidean, rmse: 209.7160474747572\n",
      "n_neighbors: 8, weights: uniform, metric: euclidean, rmse: 207.55790586693868\n",
      "n_neighbors: 9, weights: uniform, metric: euclidean, rmse: 206.62547444774023\n",
      "n_neighbors: 10, weights: uniform, metric: euclidean, rmse: 206.2216306937337\n",
      "n_neighbors: 11, weights: uniform, metric: euclidean, rmse: 205.8324225384652\n",
      "n_neighbors: 12, weights: uniform, metric: euclidean, rmse: 205.3943810685392\n",
      "n_neighbors: 13, weights: uniform, metric: euclidean, rmse: 204.76000803219557\n",
      "n_neighbors: 14, weights: uniform, metric: euclidean, rmse: 204.51733670976918\n",
      "n_neighbors: 15, weights: uniform, metric: euclidean, rmse: 204.5588026998038\n",
      "n_neighbors: 16, weights: uniform, metric: euclidean, rmse: 204.39435131029654\n",
      "n_neighbors: 17, weights: uniform, metric: euclidean, rmse: 204.40299183429823\n",
      "n_neighbors: 18, weights: uniform, metric: euclidean, rmse: 204.07337868142528\n",
      "n_neighbors: 19, weights: uniform, metric: euclidean, rmse: 204.08709233901948\n",
      "n_neighbors: 20, weights: uniform, metric: euclidean, rmse: 204.13312737767976\n",
      "n_neighbors: 21, weights: uniform, metric: euclidean, rmse: 204.14236349807808\n",
      "n_neighbors: 22, weights: uniform, metric: euclidean, rmse: 204.2246659381826\n",
      "n_neighbors: 23, weights: uniform, metric: euclidean, rmse: 204.29262944527818\n",
      "n_neighbors: 24, weights: uniform, metric: euclidean, rmse: 203.8462872372818\n",
      "n_neighbors: 25, weights: uniform, metric: euclidean, rmse: 203.83303767890604\n",
      "n_neighbors: 26, weights: uniform, metric: euclidean, rmse: 203.75761193023456\n",
      "n_neighbors: 27, weights: uniform, metric: euclidean, rmse: 203.76467508315804\n",
      "n_neighbors: 28, weights: uniform, metric: euclidean, rmse: 203.70678611360995\n",
      "n_neighbors: 29, weights: uniform, metric: euclidean, rmse: 203.74485902925773\n",
      "n_neighbors: 30, weights: uniform, metric: euclidean, rmse: 203.79857715678054\n",
      "n_neighbors: 31, weights: uniform, metric: euclidean, rmse: 203.95016973199918\n",
      "n_neighbors: 32, weights: uniform, metric: euclidean, rmse: 204.16330562300342\n",
      "n_neighbors: 33, weights: uniform, metric: euclidean, rmse: 204.32955397451192\n",
      "n_neighbors: 34, weights: uniform, metric: euclidean, rmse: 204.28358957225268\n",
      "n_neighbors: 35, weights: uniform, metric: euclidean, rmse: 204.28504740470635\n",
      "n_neighbors: 36, weights: uniform, metric: euclidean, rmse: 204.36978990474114\n",
      "n_neighbors: 37, weights: uniform, metric: euclidean, rmse: 204.39340717680187\n",
      "n_neighbors: 38, weights: uniform, metric: euclidean, rmse: 204.4547755386817\n",
      "n_neighbors: 39, weights: uniform, metric: euclidean, rmse: 204.46526461486877\n",
      "n_neighbors: 40, weights: uniform, metric: euclidean, rmse: 204.5776727934775\n",
      "n_neighbors: 41, weights: uniform, metric: euclidean, rmse: 204.63071312346375\n",
      "n_neighbors: 42, weights: uniform, metric: euclidean, rmse: 204.61895638613706\n",
      "n_neighbors: 43, weights: uniform, metric: euclidean, rmse: 204.65463552606482\n",
      "n_neighbors: 44, weights: uniform, metric: euclidean, rmse: 204.72532035148737\n",
      "n_neighbors: 45, weights: uniform, metric: euclidean, rmse: 204.68424661996394\n",
      "n_neighbors: 46, weights: uniform, metric: euclidean, rmse: 204.7159707114586\n",
      "n_neighbors: 47, weights: uniform, metric: euclidean, rmse: 204.71136960808784\n",
      "n_neighbors: 48, weights: uniform, metric: euclidean, rmse: 204.73928581923317\n",
      "n_neighbors: 49, weights: uniform, metric: euclidean, rmse: 204.75097309769916\n",
      "n_neighbors: 50, weights: uniform, metric: euclidean, rmse: 204.78909681612228\n",
      "n_neighbors: 51, weights: uniform, metric: euclidean, rmse: 204.81508697152023\n",
      "n_neighbors: 52, weights: uniform, metric: euclidean, rmse: 204.83422196731456\n",
      "n_neighbors: 53, weights: uniform, metric: euclidean, rmse: 204.86976425478278\n",
      "n_neighbors: 54, weights: uniform, metric: euclidean, rmse: 204.8583012490568\n",
      "n_neighbors: 55, weights: uniform, metric: euclidean, rmse: 204.82746574772366\n",
      "n_neighbors: 56, weights: uniform, metric: euclidean, rmse: 204.76694642331606\n",
      "n_neighbors: 57, weights: uniform, metric: euclidean, rmse: 204.78803853195402\n",
      "n_neighbors: 58, weights: uniform, metric: euclidean, rmse: 204.80669096217036\n",
      "n_neighbors: 59, weights: uniform, metric: euclidean, rmse: 204.8522572720368\n",
      "n_neighbors: 60, weights: uniform, metric: euclidean, rmse: 204.90269089364094\n",
      "n_neighbors: 61, weights: uniform, metric: euclidean, rmse: 204.91467108418226\n",
      "n_neighbors: 62, weights: uniform, metric: euclidean, rmse: 204.92689775779147\n",
      "n_neighbors: 63, weights: uniform, metric: euclidean, rmse: 204.9746060147675\n",
      "n_neighbors: 64, weights: uniform, metric: euclidean, rmse: 204.96554786831572\n",
      "n_neighbors: 65, weights: uniform, metric: euclidean, rmse: 205.0108473375083\n",
      "n_neighbors: 66, weights: uniform, metric: euclidean, rmse: 205.0511150196465\n",
      "n_neighbors: 67, weights: uniform, metric: euclidean, rmse: 205.05211539660706\n",
      "n_neighbors: 68, weights: uniform, metric: euclidean, rmse: 205.0409468461656\n",
      "n_neighbors: 69, weights: uniform, metric: euclidean, rmse: 205.11392911818334\n",
      "n_neighbors: 70, weights: uniform, metric: euclidean, rmse: 205.14541657659768\n",
      "n_neighbors: 71, weights: uniform, metric: euclidean, rmse: 205.1541923944491\n",
      "n_neighbors: 72, weights: uniform, metric: euclidean, rmse: 205.15174115289008\n",
      "n_neighbors: 73, weights: uniform, metric: euclidean, rmse: 205.1468844851374\n",
      "n_neighbors: 74, weights: uniform, metric: euclidean, rmse: 205.1388154180356\n",
      "n_neighbors: 75, weights: uniform, metric: euclidean, rmse: 205.0049808050561\n",
      "n_neighbors: 76, weights: uniform, metric: euclidean, rmse: 205.0019546947035\n",
      "n_neighbors: 77, weights: uniform, metric: euclidean, rmse: 205.0158064860949\n",
      "n_neighbors: 78, weights: uniform, metric: euclidean, rmse: 205.0363964365334\n",
      "n_neighbors: 79, weights: uniform, metric: euclidean, rmse: 205.01819242429914\n",
      "n_neighbors: 80, weights: uniform, metric: euclidean, rmse: 205.0487968027735\n",
      "n_neighbors: 81, weights: uniform, metric: euclidean, rmse: 205.08612304224033\n",
      "n_neighbors: 82, weights: uniform, metric: euclidean, rmse: 205.10789779516378\n",
      "n_neighbors: 83, weights: uniform, metric: euclidean, rmse: 205.092799190498\n",
      "n_neighbors: 84, weights: uniform, metric: euclidean, rmse: 205.10476816255553\n",
      "n_neighbors: 85, weights: uniform, metric: euclidean, rmse: 205.10451520109822\n",
      "n_neighbors: 86, weights: uniform, metric: euclidean, rmse: 205.1057890683811\n",
      "n_neighbors: 87, weights: uniform, metric: euclidean, rmse: 205.12762664196583\n",
      "n_neighbors: 88, weights: uniform, metric: euclidean, rmse: 205.1177464312438\n",
      "n_neighbors: 89, weights: uniform, metric: euclidean, rmse: 205.12986636549195\n",
      "n_neighbors: 90, weights: uniform, metric: euclidean, rmse: 205.08360527634775\n",
      "n_neighbors: 91, weights: uniform, metric: euclidean, rmse: 205.12045657851334\n",
      "n_neighbors: 92, weights: uniform, metric: euclidean, rmse: 205.14155871298306\n",
      "n_neighbors: 93, weights: uniform, metric: euclidean, rmse: 205.18664278936146\n",
      "n_neighbors: 94, weights: uniform, metric: euclidean, rmse: 205.1905526266955\n",
      "n_neighbors: 95, weights: uniform, metric: euclidean, rmse: 205.18442169741354\n",
      "n_neighbors: 96, weights: uniform, metric: euclidean, rmse: 205.21832019035335\n",
      "n_neighbors: 97, weights: uniform, metric: euclidean, rmse: 205.21920015390143\n",
      "n_neighbors: 98, weights: uniform, metric: euclidean, rmse: 205.2643905341088\n",
      "n_neighbors: 99, weights: uniform, metric: euclidean, rmse: 205.2578498992401\n",
      "n_neighbors: 100, weights: uniform, metric: euclidean, rmse: 205.27646223814386\n",
      "n_neighbors: 101, weights: uniform, metric: euclidean, rmse: 205.28110428713427\n",
      "n_neighbors: 102, weights: uniform, metric: euclidean, rmse: 205.3022667526864\n",
      "n_neighbors: 103, weights: uniform, metric: euclidean, rmse: 205.31195606825057\n",
      "n_neighbors: 104, weights: uniform, metric: euclidean, rmse: 205.32176110160233\n",
      "n_neighbors: 105, weights: uniform, metric: euclidean, rmse: 205.34582080824916\n",
      "n_neighbors: 106, weights: uniform, metric: euclidean, rmse: 205.37502009152942\n",
      "n_neighbors: 107, weights: uniform, metric: euclidean, rmse: 205.410610565454\n",
      "n_neighbors: 108, weights: uniform, metric: euclidean, rmse: 205.43384607329602\n"
     ]
    },
    {
     "name": "stdout",
     "output_type": "stream",
     "text": [
      "n_neighbors: 109, weights: uniform, metric: euclidean, rmse: 205.4543725292271\n",
      "n_neighbors: 110, weights: uniform, metric: euclidean, rmse: 205.44352049359756\n",
      "n_neighbors: 111, weights: uniform, metric: euclidean, rmse: 205.46287731384743\n",
      "n_neighbors: 112, weights: uniform, metric: euclidean, rmse: 205.490766195821\n",
      "n_neighbors: 113, weights: uniform, metric: euclidean, rmse: 205.51447434980406\n",
      "n_neighbors: 114, weights: uniform, metric: euclidean, rmse: 205.54326291875964\n",
      "n_neighbors: 115, weights: uniform, metric: euclidean, rmse: 205.5729563148955\n",
      "n_neighbors: 116, weights: uniform, metric: euclidean, rmse: 205.60584838019125\n",
      "n_neighbors: 117, weights: uniform, metric: euclidean, rmse: 205.63869777321327\n",
      "n_neighbors: 118, weights: uniform, metric: euclidean, rmse: 205.6440202340814\n",
      "n_neighbors: 119, weights: uniform, metric: euclidean, rmse: 205.62615018761102\n",
      "n_neighbors: 120, weights: uniform, metric: euclidean, rmse: 205.64232206176086\n",
      "n_neighbors: 121, weights: uniform, metric: euclidean, rmse: 205.6528060697509\n",
      "n_neighbors: 122, weights: uniform, metric: euclidean, rmse: 205.64817148163235\n",
      "n_neighbors: 123, weights: uniform, metric: euclidean, rmse: 205.66214367391092\n",
      "n_neighbors: 124, weights: uniform, metric: euclidean, rmse: 205.66961003160662\n",
      "n_neighbors: 125, weights: uniform, metric: euclidean, rmse: 205.67316988677408\n",
      "n_neighbors: 126, weights: uniform, metric: euclidean, rmse: 205.66584645719604\n",
      "n_neighbors: 127, weights: uniform, metric: euclidean, rmse: 205.6508787986282\n",
      "n_neighbors: 128, weights: uniform, metric: euclidean, rmse: 205.65581027645058\n",
      "n_neighbors: 129, weights: uniform, metric: euclidean, rmse: 205.66762822186826\n",
      "n_neighbors: 130, weights: uniform, metric: euclidean, rmse: 205.6791399050174\n",
      "n_neighbors: 131, weights: uniform, metric: euclidean, rmse: 205.68146891831893\n",
      "n_neighbors: 132, weights: uniform, metric: euclidean, rmse: 205.7099632666763\n",
      "n_neighbors: 133, weights: uniform, metric: euclidean, rmse: 205.72370903023855\n",
      "n_neighbors: 134, weights: uniform, metric: euclidean, rmse: 205.74249258799603\n",
      "n_neighbors: 135, weights: uniform, metric: euclidean, rmse: 205.75604267226083\n",
      "n_neighbors: 136, weights: uniform, metric: euclidean, rmse: 205.7801774494785\n",
      "n_neighbors: 137, weights: uniform, metric: euclidean, rmse: 205.81378560107544\n",
      "n_neighbors: 138, weights: uniform, metric: euclidean, rmse: 205.8128994751681\n",
      "n_neighbors: 139, weights: uniform, metric: euclidean, rmse: 205.80117860124025\n",
      "n_neighbors: 140, weights: uniform, metric: euclidean, rmse: 205.82550485475278\n",
      "n_neighbors: 141, weights: uniform, metric: euclidean, rmse: 205.80413899619785\n",
      "n_neighbors: 142, weights: uniform, metric: euclidean, rmse: 205.82271878667223\n",
      "n_neighbors: 143, weights: uniform, metric: euclidean, rmse: 205.82076782754572\n",
      "n_neighbors: 144, weights: uniform, metric: euclidean, rmse: 205.8326090788979\n",
      "n_neighbors: 145, weights: uniform, metric: euclidean, rmse: 205.83454734192262\n",
      "n_neighbors: 146, weights: uniform, metric: euclidean, rmse: 205.8377753960147\n",
      "n_neighbors: 147, weights: uniform, metric: euclidean, rmse: 205.8333512370349\n",
      "n_neighbors: 148, weights: uniform, metric: euclidean, rmse: 205.84148770301928\n",
      "n_neighbors: 149, weights: uniform, metric: euclidean, rmse: 205.85853564906444\n",
      "n_neighbors: 150, weights: uniform, metric: euclidean, rmse: 205.88082467690185\n",
      "n_neighbors: 151, weights: uniform, metric: euclidean, rmse: 205.88923194116703\n",
      "n_neighbors: 152, weights: uniform, metric: euclidean, rmse: 205.8875431647547\n",
      "n_neighbors: 153, weights: uniform, metric: euclidean, rmse: 205.89690894461506\n",
      "n_neighbors: 154, weights: uniform, metric: euclidean, rmse: 205.80681020247042\n",
      "n_neighbors: 155, weights: uniform, metric: euclidean, rmse: 205.82014339606678\n",
      "n_neighbors: 156, weights: uniform, metric: euclidean, rmse: 205.83533900849636\n",
      "n_neighbors: 157, weights: uniform, metric: euclidean, rmse: 205.82679505874526\n",
      "n_neighbors: 158, weights: uniform, metric: euclidean, rmse: 205.8338974981366\n",
      "n_neighbors: 159, weights: uniform, metric: euclidean, rmse: 205.83922876095386\n",
      "n_neighbors: 160, weights: uniform, metric: euclidean, rmse: 205.8390364200176\n",
      "n_neighbors: 161, weights: uniform, metric: euclidean, rmse: 205.8402412487904\n",
      "n_neighbors: 162, weights: uniform, metric: euclidean, rmse: 205.8476473325787\n",
      "n_neighbors: 163, weights: uniform, metric: euclidean, rmse: 205.8626135068628\n",
      "n_neighbors: 164, weights: uniform, metric: euclidean, rmse: 205.88500178629235\n",
      "n_neighbors: 165, weights: uniform, metric: euclidean, rmse: 205.9035963858461\n",
      "n_neighbors: 166, weights: uniform, metric: euclidean, rmse: 205.9084140530408\n",
      "n_neighbors: 167, weights: uniform, metric: euclidean, rmse: 205.92242655201787\n",
      "n_neighbors: 168, weights: uniform, metric: euclidean, rmse: 205.91161324109547\n",
      "n_neighbors: 169, weights: uniform, metric: euclidean, rmse: 205.9198640377234\n",
      "n_neighbors: 170, weights: uniform, metric: euclidean, rmse: 205.94193285251535\n",
      "n_neighbors: 171, weights: uniform, metric: euclidean, rmse: 205.9683440314683\n",
      "n_neighbors: 172, weights: uniform, metric: euclidean, rmse: 205.9786830653194\n",
      "n_neighbors: 173, weights: uniform, metric: euclidean, rmse: 205.99489353826044\n",
      "n_neighbors: 174, weights: uniform, metric: euclidean, rmse: 206.00386366550302\n",
      "n_neighbors: 175, weights: uniform, metric: euclidean, rmse: 206.02755546540865\n",
      "n_neighbors: 176, weights: uniform, metric: euclidean, rmse: 206.03464832715142\n",
      "n_neighbors: 177, weights: uniform, metric: euclidean, rmse: 206.0289649292968\n",
      "n_neighbors: 178, weights: uniform, metric: euclidean, rmse: 206.0406451566721\n",
      "n_neighbors: 179, weights: uniform, metric: euclidean, rmse: 206.0489124585077\n",
      "n_neighbors: 180, weights: uniform, metric: euclidean, rmse: 206.0567531449508\n",
      "n_neighbors: 181, weights: uniform, metric: euclidean, rmse: 206.06311754691194\n",
      "n_neighbors: 182, weights: uniform, metric: euclidean, rmse: 206.08171892358445\n",
      "n_neighbors: 183, weights: uniform, metric: euclidean, rmse: 206.0808808927255\n",
      "n_neighbors: 184, weights: uniform, metric: euclidean, rmse: 206.0722573540716\n",
      "n_neighbors: 185, weights: uniform, metric: euclidean, rmse: 205.96461240073782\n",
      "n_neighbors: 186, weights: uniform, metric: euclidean, rmse: 205.97887740430093\n",
      "n_neighbors: 187, weights: uniform, metric: euclidean, rmse: 205.99328752745444\n",
      "n_neighbors: 188, weights: uniform, metric: euclidean, rmse: 205.99249343836163\n",
      "n_neighbors: 189, weights: uniform, metric: euclidean, rmse: 205.99042347271754\n",
      "n_neighbors: 190, weights: uniform, metric: euclidean, rmse: 205.99027470208478\n",
      "n_neighbors: 191, weights: uniform, metric: euclidean, rmse: 205.99053433296385\n",
      "n_neighbors: 192, weights: uniform, metric: euclidean, rmse: 206.00110780068925\n",
      "n_neighbors: 193, weights: uniform, metric: euclidean, rmse: 205.99278645362887\n",
      "n_neighbors: 194, weights: uniform, metric: euclidean, rmse: 205.98937287594552\n",
      "n_neighbors: 195, weights: uniform, metric: euclidean, rmse: 205.99057970811862\n",
      "n_neighbors: 196, weights: uniform, metric: euclidean, rmse: 206.0114245751509\n",
      "n_neighbors: 197, weights: uniform, metric: euclidean, rmse: 206.02520772626175\n",
      "n_neighbors: 198, weights: uniform, metric: euclidean, rmse: 205.99473928658315\n",
      "n_neighbors: 199, weights: uniform, metric: euclidean, rmse: 206.01607127710025\n",
      "n_neighbors: 3, weights: distance, metric: euclidean, rmse: 234.04498759728202\n",
      "n_neighbors: 4, weights: distance, metric: euclidean, rmse: 223.54327941104677\n",
      "n_neighbors: 5, weights: distance, metric: euclidean, rmse: 217.0762710998818\n",
      "n_neighbors: 6, weights: distance, metric: euclidean, rmse: 211.73784326225126\n",
      "n_neighbors: 7, weights: distance, metric: euclidean, rmse: 208.7052014283514\n",
      "n_neighbors: 8, weights: distance, metric: euclidean, rmse: 206.22938627355532\n",
      "n_neighbors: 9, weights: distance, metric: euclidean, rmse: 205.25635252280702\n",
      "n_neighbors: 10, weights: distance, metric: euclidean, rmse: 204.78021601615822\n",
      "n_neighbors: 11, weights: distance, metric: euclidean, rmse: 204.35511179033315\n",
      "n_neighbors: 12, weights: distance, metric: euclidean, rmse: 203.8558746607999\n",
      "n_neighbors: 13, weights: distance, metric: euclidean, rmse: 203.23654253436962\n",
      "n_neighbors: 14, weights: distance, metric: euclidean, rmse: 202.99189454151028\n",
      "n_neighbors: 15, weights: distance, metric: euclidean, rmse: 202.9525473504612\n"
     ]
    },
    {
     "name": "stdout",
     "output_type": "stream",
     "text": [
      "n_neighbors: 16, weights: distance, metric: euclidean, rmse: 202.77508953794543\n",
      "n_neighbors: 17, weights: distance, metric: euclidean, rmse: 202.78732499935884\n",
      "n_neighbors: 18, weights: distance, metric: euclidean, rmse: 202.45203270006883\n",
      "n_neighbors: 19, weights: distance, metric: euclidean, rmse: 202.44671995388165\n",
      "n_neighbors: 20, weights: distance, metric: euclidean, rmse: 202.50370153770166\n",
      "n_neighbors: 21, weights: distance, metric: euclidean, rmse: 202.5188465098116\n",
      "n_neighbors: 22, weights: distance, metric: euclidean, rmse: 202.58416898876288\n",
      "n_neighbors: 23, weights: distance, metric: euclidean, rmse: 202.6552898737864\n",
      "n_neighbors: 24, weights: distance, metric: euclidean, rmse: 202.22807992273164\n",
      "n_neighbors: 25, weights: distance, metric: euclidean, rmse: 202.21892552021967\n",
      "n_neighbors: 26, weights: distance, metric: euclidean, rmse: 202.14432503512788\n",
      "n_neighbors: 27, weights: distance, metric: euclidean, rmse: 202.15382358665983\n",
      "n_neighbors: 28, weights: distance, metric: euclidean, rmse: 202.10289902236653\n",
      "n_neighbors: 29, weights: distance, metric: euclidean, rmse: 202.14110394092612\n",
      "n_neighbors: 30, weights: distance, metric: euclidean, rmse: 202.1968347360888\n",
      "n_neighbors: 31, weights: distance, metric: euclidean, rmse: 202.34464539437522\n",
      "n_neighbors: 32, weights: distance, metric: euclidean, rmse: 202.54774871087113\n",
      "n_neighbors: 33, weights: distance, metric: euclidean, rmse: 202.71593025740842\n",
      "n_neighbors: 34, weights: distance, metric: euclidean, rmse: 202.67526116376163\n",
      "n_neighbors: 35, weights: distance, metric: euclidean, rmse: 202.66893258100322\n",
      "n_neighbors: 36, weights: distance, metric: euclidean, rmse: 202.73952672294786\n",
      "n_neighbors: 37, weights: distance, metric: euclidean, rmse: 202.7430518506382\n",
      "n_neighbors: 38, weights: distance, metric: euclidean, rmse: 202.78754182309638\n",
      "n_neighbors: 39, weights: distance, metric: euclidean, rmse: 202.79314662420185\n",
      "n_neighbors: 40, weights: distance, metric: euclidean, rmse: 202.88899091858016\n",
      "n_neighbors: 41, weights: distance, metric: euclidean, rmse: 202.92786918670393\n",
      "n_neighbors: 42, weights: distance, metric: euclidean, rmse: 202.91371553655193\n",
      "n_neighbors: 43, weights: distance, metric: euclidean, rmse: 202.9329602865111\n",
      "n_neighbors: 44, weights: distance, metric: euclidean, rmse: 202.97049255148428\n",
      "n_neighbors: 45, weights: distance, metric: euclidean, rmse: 202.9260614240338\n",
      "n_neighbors: 46, weights: distance, metric: euclidean, rmse: 202.9534026674291\n",
      "n_neighbors: 47, weights: distance, metric: euclidean, rmse: 202.94258777089837\n",
      "n_neighbors: 48, weights: distance, metric: euclidean, rmse: 202.96795300170643\n",
      "n_neighbors: 49, weights: distance, metric: euclidean, rmse: 202.97548927475762\n",
      "n_neighbors: 50, weights: distance, metric: euclidean, rmse: 203.00302844502886\n",
      "n_neighbors: 51, weights: distance, metric: euclidean, rmse: 203.01079464571333\n",
      "n_neighbors: 52, weights: distance, metric: euclidean, rmse: 203.01678566839942\n",
      "n_neighbors: 53, weights: distance, metric: euclidean, rmse: 203.05935873659004\n",
      "n_neighbors: 54, weights: distance, metric: euclidean, rmse: 203.05432036633042\n",
      "n_neighbors: 55, weights: distance, metric: euclidean, rmse: 203.0219862056131\n",
      "n_neighbors: 56, weights: distance, metric: euclidean, rmse: 202.9766453447664\n",
      "n_neighbors: 57, weights: distance, metric: euclidean, rmse: 202.99687369478642\n",
      "n_neighbors: 58, weights: distance, metric: euclidean, rmse: 203.03370606606953\n",
      "n_neighbors: 59, weights: distance, metric: euclidean, rmse: 203.07353374265233\n",
      "n_neighbors: 60, weights: distance, metric: euclidean, rmse: 203.1190124614409\n",
      "n_neighbors: 61, weights: distance, metric: euclidean, rmse: 203.12599498199225\n",
      "n_neighbors: 62, weights: distance, metric: euclidean, rmse: 203.13062497120248\n",
      "n_neighbors: 63, weights: distance, metric: euclidean, rmse: 203.17193667264388\n",
      "n_neighbors: 64, weights: distance, metric: euclidean, rmse: 203.16699346953357\n",
      "n_neighbors: 65, weights: distance, metric: euclidean, rmse: 203.21002028728492\n",
      "n_neighbors: 66, weights: distance, metric: euclidean, rmse: 203.24399180335524\n",
      "n_neighbors: 67, weights: distance, metric: euclidean, rmse: 203.24597449064638\n",
      "n_neighbors: 68, weights: distance, metric: euclidean, rmse: 203.22874136998882\n",
      "n_neighbors: 69, weights: distance, metric: euclidean, rmse: 203.3002478491048\n",
      "n_neighbors: 70, weights: distance, metric: euclidean, rmse: 203.32937179254614\n",
      "n_neighbors: 71, weights: distance, metric: euclidean, rmse: 203.3313375858394\n",
      "n_neighbors: 72, weights: distance, metric: euclidean, rmse: 203.32807253456195\n",
      "n_neighbors: 73, weights: distance, metric: euclidean, rmse: 203.32843593535296\n",
      "n_neighbors: 74, weights: distance, metric: euclidean, rmse: 203.32849282342028\n",
      "n_neighbors: 75, weights: distance, metric: euclidean, rmse: 203.19089329098847\n",
      "n_neighbors: 76, weights: distance, metric: euclidean, rmse: 203.1897606406749\n",
      "n_neighbors: 77, weights: distance, metric: euclidean, rmse: 203.20654509791757\n",
      "n_neighbors: 78, weights: distance, metric: euclidean, rmse: 203.22808915443034\n",
      "n_neighbors: 79, weights: distance, metric: euclidean, rmse: 203.20856267568615\n",
      "n_neighbors: 80, weights: distance, metric: euclidean, rmse: 203.22436098723028\n",
      "n_neighbors: 81, weights: distance, metric: euclidean, rmse: 203.25863318666615\n",
      "n_neighbors: 82, weights: distance, metric: euclidean, rmse: 203.27778902176755\n",
      "n_neighbors: 83, weights: distance, metric: euclidean, rmse: 203.26243259481166\n",
      "n_neighbors: 84, weights: distance, metric: euclidean, rmse: 203.27118419486044\n",
      "n_neighbors: 85, weights: distance, metric: euclidean, rmse: 203.27776360813544\n",
      "n_neighbors: 86, weights: distance, metric: euclidean, rmse: 203.28095967629744\n",
      "n_neighbors: 87, weights: distance, metric: euclidean, rmse: 203.29348208380938\n",
      "n_neighbors: 88, weights: distance, metric: euclidean, rmse: 203.27949606060636\n",
      "n_neighbors: 89, weights: distance, metric: euclidean, rmse: 203.29156212206502\n",
      "n_neighbors: 90, weights: distance, metric: euclidean, rmse: 203.26949765887383\n",
      "n_neighbors: 91, weights: distance, metric: euclidean, rmse: 203.3067054689093\n",
      "n_neighbors: 92, weights: distance, metric: euclidean, rmse: 203.33040781700814\n",
      "n_neighbors: 93, weights: distance, metric: euclidean, rmse: 203.36832476949434\n",
      "n_neighbors: 94, weights: distance, metric: euclidean, rmse: 203.3741123782513\n",
      "n_neighbors: 95, weights: distance, metric: euclidean, rmse: 203.37906728114342\n",
      "n_neighbors: 96, weights: distance, metric: euclidean, rmse: 203.41516675480395\n",
      "n_neighbors: 97, weights: distance, metric: euclidean, rmse: 203.4165986912331\n",
      "n_neighbors: 98, weights: distance, metric: euclidean, rmse: 203.45695613787692\n",
      "n_neighbors: 99, weights: distance, metric: euclidean, rmse: 203.45360253832342\n",
      "n_neighbors: 100, weights: distance, metric: euclidean, rmse: 203.46350212294453\n",
      "n_neighbors: 101, weights: distance, metric: euclidean, rmse: 203.4638573016779\n",
      "n_neighbors: 102, weights: distance, metric: euclidean, rmse: 203.48824333626183\n",
      "n_neighbors: 103, weights: distance, metric: euclidean, rmse: 203.50019483547595\n",
      "n_neighbors: 104, weights: distance, metric: euclidean, rmse: 203.50781900841199\n",
      "n_neighbors: 105, weights: distance, metric: euclidean, rmse: 203.53216796578423\n",
      "n_neighbors: 106, weights: distance, metric: euclidean, rmse: 203.55175934317072\n",
      "n_neighbors: 107, weights: distance, metric: euclidean, rmse: 203.58214110629933\n",
      "n_neighbors: 108, weights: distance, metric: euclidean, rmse: 203.59408418460757\n",
      "n_neighbors: 109, weights: distance, metric: euclidean, rmse: 203.60382956175414\n",
      "n_neighbors: 110, weights: distance, metric: euclidean, rmse: 203.5981877491464\n",
      "n_neighbors: 111, weights: distance, metric: euclidean, rmse: 203.6124844408118\n",
      "n_neighbors: 112, weights: distance, metric: euclidean, rmse: 203.63615695271952\n",
      "n_neighbors: 113, weights: distance, metric: euclidean, rmse: 203.65984130996213\n",
      "n_neighbors: 114, weights: distance, metric: euclidean, rmse: 203.68555258119952\n",
      "n_neighbors: 115, weights: distance, metric: euclidean, rmse: 203.7137768780464\n",
      "n_neighbors: 116, weights: distance, metric: euclidean, rmse: 203.74176338537782\n",
      "n_neighbors: 117, weights: distance, metric: euclidean, rmse: 203.77162134827617\n",
      "n_neighbors: 118, weights: distance, metric: euclidean, rmse: 203.7732729682857\n",
      "n_neighbors: 119, weights: distance, metric: euclidean, rmse: 203.76245694423545\n"
     ]
    },
    {
     "name": "stdout",
     "output_type": "stream",
     "text": [
      "n_neighbors: 120, weights: distance, metric: euclidean, rmse: 203.77687754033633\n",
      "n_neighbors: 121, weights: distance, metric: euclidean, rmse: 203.78157063876748\n",
      "n_neighbors: 122, weights: distance, metric: euclidean, rmse: 203.77059934974375\n",
      "n_neighbors: 123, weights: distance, metric: euclidean, rmse: 203.78543260424868\n",
      "n_neighbors: 124, weights: distance, metric: euclidean, rmse: 203.79502948888688\n",
      "n_neighbors: 125, weights: distance, metric: euclidean, rmse: 203.79837778171606\n",
      "n_neighbors: 126, weights: distance, metric: euclidean, rmse: 203.80121883116166\n",
      "n_neighbors: 127, weights: distance, metric: euclidean, rmse: 203.78502521990958\n",
      "n_neighbors: 128, weights: distance, metric: euclidean, rmse: 203.78624130786466\n",
      "n_neighbors: 129, weights: distance, metric: euclidean, rmse: 203.78921838268693\n",
      "n_neighbors: 130, weights: distance, metric: euclidean, rmse: 203.80354165210176\n",
      "n_neighbors: 131, weights: distance, metric: euclidean, rmse: 203.81704900616182\n",
      "n_neighbors: 132, weights: distance, metric: euclidean, rmse: 203.84015225443147\n",
      "n_neighbors: 133, weights: distance, metric: euclidean, rmse: 203.85583159432537\n",
      "n_neighbors: 134, weights: distance, metric: euclidean, rmse: 203.8725001117506\n",
      "n_neighbors: 135, weights: distance, metric: euclidean, rmse: 203.8807349229274\n",
      "n_neighbors: 136, weights: distance, metric: euclidean, rmse: 203.8971055054384\n",
      "n_neighbors: 137, weights: distance, metric: euclidean, rmse: 203.92442392390228\n",
      "n_neighbors: 138, weights: distance, metric: euclidean, rmse: 203.91877359493907\n",
      "n_neighbors: 139, weights: distance, metric: euclidean, rmse: 203.90328883813828\n",
      "n_neighbors: 140, weights: distance, metric: euclidean, rmse: 203.92324377784078\n",
      "n_neighbors: 141, weights: distance, metric: euclidean, rmse: 203.89825181222548\n",
      "n_neighbors: 142, weights: distance, metric: euclidean, rmse: 203.91362360567211\n",
      "n_neighbors: 143, weights: distance, metric: euclidean, rmse: 203.91240826083953\n",
      "n_neighbors: 144, weights: distance, metric: euclidean, rmse: 203.9264395041271\n",
      "n_neighbors: 145, weights: distance, metric: euclidean, rmse: 203.92353733143852\n",
      "n_neighbors: 146, weights: distance, metric: euclidean, rmse: 203.93384948130466\n",
      "n_neighbors: 147, weights: distance, metric: euclidean, rmse: 203.92717290404718\n",
      "n_neighbors: 148, weights: distance, metric: euclidean, rmse: 203.92978499308603\n",
      "n_neighbors: 149, weights: distance, metric: euclidean, rmse: 203.94685189855343\n",
      "n_neighbors: 150, weights: distance, metric: euclidean, rmse: 203.96727280290614\n",
      "n_neighbors: 151, weights: distance, metric: euclidean, rmse: 203.97156026577974\n",
      "n_neighbors: 152, weights: distance, metric: euclidean, rmse: 203.96947183805057\n",
      "n_neighbors: 153, weights: distance, metric: euclidean, rmse: 203.9776217355889\n",
      "n_neighbors: 154, weights: distance, metric: euclidean, rmse: 203.89781151183846\n",
      "n_neighbors: 155, weights: distance, metric: euclidean, rmse: 203.9082991358217\n",
      "n_neighbors: 156, weights: distance, metric: euclidean, rmse: 203.92010168125256\n",
      "n_neighbors: 157, weights: distance, metric: euclidean, rmse: 203.92422286119069\n",
      "n_neighbors: 158, weights: distance, metric: euclidean, rmse: 203.92418612873578\n",
      "n_neighbors: 159, weights: distance, metric: euclidean, rmse: 203.92662175200337\n",
      "n_neighbors: 160, weights: distance, metric: euclidean, rmse: 203.92506136534914\n",
      "n_neighbors: 161, weights: distance, metric: euclidean, rmse: 203.92575997153068\n",
      "n_neighbors: 162, weights: distance, metric: euclidean, rmse: 203.93885160844047\n",
      "n_neighbors: 163, weights: distance, metric: euclidean, rmse: 203.94816584837213\n",
      "n_neighbors: 164, weights: distance, metric: euclidean, rmse: 203.96307728118788\n",
      "n_neighbors: 165, weights: distance, metric: euclidean, rmse: 203.97665797984882\n",
      "n_neighbors: 166, weights: distance, metric: euclidean, rmse: 203.97571863871016\n",
      "n_neighbors: 167, weights: distance, metric: euclidean, rmse: 203.9832262897862\n",
      "n_neighbors: 168, weights: distance, metric: euclidean, rmse: 203.96707268552163\n",
      "n_neighbors: 169, weights: distance, metric: euclidean, rmse: 203.98195222036586\n",
      "n_neighbors: 170, weights: distance, metric: euclidean, rmse: 204.0022680069827\n",
      "n_neighbors: 171, weights: distance, metric: euclidean, rmse: 204.02085989792417\n",
      "n_neighbors: 172, weights: distance, metric: euclidean, rmse: 204.0321521791345\n",
      "n_neighbors: 173, weights: distance, metric: euclidean, rmse: 204.04182898078545\n",
      "n_neighbors: 174, weights: distance, metric: euclidean, rmse: 204.0438987472821\n",
      "n_neighbors: 175, weights: distance, metric: euclidean, rmse: 204.05902771078357\n",
      "n_neighbors: 176, weights: distance, metric: euclidean, rmse: 204.0525262733359\n",
      "n_neighbors: 177, weights: distance, metric: euclidean, rmse: 204.05589317054842\n",
      "n_neighbors: 178, weights: distance, metric: euclidean, rmse: 204.06929154896997\n",
      "n_neighbors: 179, weights: distance, metric: euclidean, rmse: 204.07325008438298\n",
      "n_neighbors: 180, weights: distance, metric: euclidean, rmse: 204.08385481304867\n",
      "n_neighbors: 181, weights: distance, metric: euclidean, rmse: 204.0859814932889\n",
      "n_neighbors: 182, weights: distance, metric: euclidean, rmse: 204.1010091133176\n",
      "n_neighbors: 183, weights: distance, metric: euclidean, rmse: 204.1022537682294\n",
      "n_neighbors: 184, weights: distance, metric: euclidean, rmse: 204.09239409033893\n",
      "n_neighbors: 185, weights: distance, metric: euclidean, rmse: 203.99932923903847\n",
      "n_neighbors: 186, weights: distance, metric: euclidean, rmse: 204.00939898107112\n",
      "n_neighbors: 187, weights: distance, metric: euclidean, rmse: 204.01340929775932\n",
      "n_neighbors: 188, weights: distance, metric: euclidean, rmse: 204.00813297051673\n",
      "n_neighbors: 189, weights: distance, metric: euclidean, rmse: 204.01008770101632\n",
      "n_neighbors: 190, weights: distance, metric: euclidean, rmse: 204.00585721256078\n",
      "n_neighbors: 191, weights: distance, metric: euclidean, rmse: 204.0042876574176\n",
      "n_neighbors: 192, weights: distance, metric: euclidean, rmse: 204.01334131527622\n",
      "n_neighbors: 193, weights: distance, metric: euclidean, rmse: 204.0159786629646\n",
      "n_neighbors: 194, weights: distance, metric: euclidean, rmse: 204.01801071282165\n",
      "n_neighbors: 195, weights: distance, metric: euclidean, rmse: 204.01616556369794\n",
      "n_neighbors: 196, weights: distance, metric: euclidean, rmse: 204.0352182166053\n",
      "n_neighbors: 197, weights: distance, metric: euclidean, rmse: 204.0462862288047\n",
      "n_neighbors: 198, weights: distance, metric: euclidean, rmse: 204.012318361222\n",
      "n_neighbors: 199, weights: distance, metric: euclidean, rmse: 204.02994282109546\n",
      "n_neighbors: 3, weights: uniform, metric: cosine, rmse: 234.98093510936152\n",
      "n_neighbors: 4, weights: uniform, metric: cosine, rmse: 224.37815049986423\n",
      "n_neighbors: 5, weights: uniform, metric: cosine, rmse: 218.51492049569967\n",
      "n_neighbors: 6, weights: uniform, metric: cosine, rmse: 213.39605787290978\n",
      "n_neighbors: 7, weights: uniform, metric: cosine, rmse: 210.24488995925847\n",
      "n_neighbors: 8, weights: uniform, metric: cosine, rmse: 208.5046942496933\n",
      "n_neighbors: 9, weights: uniform, metric: cosine, rmse: 207.4005432649763\n",
      "n_neighbors: 10, weights: uniform, metric: cosine, rmse: 206.847904272872\n",
      "n_neighbors: 11, weights: uniform, metric: cosine, rmse: 206.3490454236287\n",
      "n_neighbors: 12, weights: uniform, metric: cosine, rmse: 205.47374321185512\n",
      "n_neighbors: 13, weights: uniform, metric: cosine, rmse: 204.810321054871\n",
      "n_neighbors: 14, weights: uniform, metric: cosine, rmse: 204.6608707488477\n",
      "n_neighbors: 15, weights: uniform, metric: cosine, rmse: 204.52742657765916\n",
      "n_neighbors: 16, weights: uniform, metric: cosine, rmse: 204.3205361398895\n",
      "n_neighbors: 17, weights: uniform, metric: cosine, rmse: 203.83417292517623\n",
      "n_neighbors: 18, weights: uniform, metric: cosine, rmse: 204.06540934854436\n",
      "n_neighbors: 19, weights: uniform, metric: cosine, rmse: 204.0979294464488\n",
      "n_neighbors: 20, weights: uniform, metric: cosine, rmse: 204.10617919849125\n",
      "n_neighbors: 21, weights: uniform, metric: cosine, rmse: 204.20920550727934\n",
      "n_neighbors: 22, weights: uniform, metric: cosine, rmse: 204.28655295901643\n",
      "n_neighbors: 23, weights: uniform, metric: cosine, rmse: 204.2968285698249\n",
      "n_neighbors: 24, weights: uniform, metric: cosine, rmse: 203.8281529775897\n",
      "n_neighbors: 25, weights: uniform, metric: cosine, rmse: 203.58478851947123\n",
      "n_neighbors: 26, weights: uniform, metric: cosine, rmse: 203.47204892759524\n",
      "n_neighbors: 27, weights: uniform, metric: cosine, rmse: 203.48563684215688\n"
     ]
    },
    {
     "name": "stdout",
     "output_type": "stream",
     "text": [
      "n_neighbors: 28, weights: uniform, metric: cosine, rmse: 203.49880006573534\n",
      "n_neighbors: 29, weights: uniform, metric: cosine, rmse: 203.61076793180175\n",
      "n_neighbors: 30, weights: uniform, metric: cosine, rmse: 203.67742308172274\n",
      "n_neighbors: 31, weights: uniform, metric: cosine, rmse: 203.84432824342662\n",
      "n_neighbors: 32, weights: uniform, metric: cosine, rmse: 203.9996046813358\n",
      "n_neighbors: 33, weights: uniform, metric: cosine, rmse: 204.140849532479\n",
      "n_neighbors: 34, weights: uniform, metric: cosine, rmse: 204.06807666046495\n",
      "n_neighbors: 35, weights: uniform, metric: cosine, rmse: 204.05640910603802\n",
      "n_neighbors: 36, weights: uniform, metric: cosine, rmse: 204.11245071240887\n",
      "n_neighbors: 37, weights: uniform, metric: cosine, rmse: 204.10022114757663\n",
      "n_neighbors: 38, weights: uniform, metric: cosine, rmse: 204.1481602466109\n",
      "n_neighbors: 39, weights: uniform, metric: cosine, rmse: 204.16092689859144\n",
      "n_neighbors: 40, weights: uniform, metric: cosine, rmse: 204.2379947007996\n",
      "n_neighbors: 41, weights: uniform, metric: cosine, rmse: 204.29883461984792\n",
      "n_neighbors: 42, weights: uniform, metric: cosine, rmse: 204.31738943590827\n",
      "n_neighbors: 43, weights: uniform, metric: cosine, rmse: 204.3642401142392\n",
      "n_neighbors: 44, weights: uniform, metric: cosine, rmse: 204.49778138578833\n",
      "n_neighbors: 45, weights: uniform, metric: cosine, rmse: 204.44978653612486\n",
      "n_neighbors: 46, weights: uniform, metric: cosine, rmse: 204.49826751988408\n",
      "n_neighbors: 47, weights: uniform, metric: cosine, rmse: 204.48763620245072\n",
      "n_neighbors: 48, weights: uniform, metric: cosine, rmse: 204.52709629980973\n",
      "n_neighbors: 49, weights: uniform, metric: cosine, rmse: 204.5479226162196\n",
      "n_neighbors: 50, weights: uniform, metric: cosine, rmse: 204.5834953181099\n",
      "n_neighbors: 51, weights: uniform, metric: cosine, rmse: 204.62262336031424\n",
      "n_neighbors: 52, weights: uniform, metric: cosine, rmse: 204.61688993238045\n",
      "n_neighbors: 53, weights: uniform, metric: cosine, rmse: 204.64372746916004\n",
      "n_neighbors: 54, weights: uniform, metric: cosine, rmse: 204.62448926076084\n",
      "n_neighbors: 55, weights: uniform, metric: cosine, rmse: 204.6177298567546\n",
      "n_neighbors: 56, weights: uniform, metric: cosine, rmse: 204.58906496501723\n",
      "n_neighbors: 57, weights: uniform, metric: cosine, rmse: 204.60249896786794\n",
      "n_neighbors: 58, weights: uniform, metric: cosine, rmse: 204.62088611556132\n",
      "n_neighbors: 59, weights: uniform, metric: cosine, rmse: 204.63598898101927\n",
      "n_neighbors: 60, weights: uniform, metric: cosine, rmse: 204.65972738888217\n",
      "n_neighbors: 61, weights: uniform, metric: cosine, rmse: 204.6729835189244\n",
      "n_neighbors: 62, weights: uniform, metric: cosine, rmse: 204.65177856276796\n",
      "n_neighbors: 63, weights: uniform, metric: cosine, rmse: 204.6883735339863\n",
      "n_neighbors: 64, weights: uniform, metric: cosine, rmse: 204.71628364967316\n",
      "n_neighbors: 65, weights: uniform, metric: cosine, rmse: 204.7589770630101\n",
      "n_neighbors: 66, weights: uniform, metric: cosine, rmse: 204.81384540524917\n",
      "n_neighbors: 67, weights: uniform, metric: cosine, rmse: 204.8236765872707\n",
      "n_neighbors: 68, weights: uniform, metric: cosine, rmse: 204.81012171693433\n",
      "n_neighbors: 69, weights: uniform, metric: cosine, rmse: 204.8994033946871\n",
      "n_neighbors: 70, weights: uniform, metric: cosine, rmse: 204.91745014376522\n",
      "n_neighbors: 71, weights: uniform, metric: cosine, rmse: 204.94679366272743\n",
      "n_neighbors: 72, weights: uniform, metric: cosine, rmse: 204.95423096403567\n",
      "n_neighbors: 73, weights: uniform, metric: cosine, rmse: 204.98631279125837\n",
      "n_neighbors: 74, weights: uniform, metric: cosine, rmse: 204.9822119459982\n",
      "n_neighbors: 75, weights: uniform, metric: cosine, rmse: 205.0092578093853\n",
      "n_neighbors: 76, weights: uniform, metric: cosine, rmse: 205.00261130210868\n",
      "n_neighbors: 77, weights: uniform, metric: cosine, rmse: 205.0474659828638\n",
      "n_neighbors: 78, weights: uniform, metric: cosine, rmse: 205.0868097324008\n",
      "n_neighbors: 79, weights: uniform, metric: cosine, rmse: 205.07417935677313\n",
      "n_neighbors: 80, weights: uniform, metric: cosine, rmse: 205.07635920309008\n",
      "n_neighbors: 81, weights: uniform, metric: cosine, rmse: 205.0044837794994\n",
      "n_neighbors: 82, weights: uniform, metric: cosine, rmse: 205.02660580639883\n",
      "n_neighbors: 83, weights: uniform, metric: cosine, rmse: 205.05154094315614\n",
      "n_neighbors: 84, weights: uniform, metric: cosine, rmse: 205.0850386965235\n",
      "n_neighbors: 85, weights: uniform, metric: cosine, rmse: 205.09737360223187\n",
      "n_neighbors: 86, weights: uniform, metric: cosine, rmse: 205.12688335056447\n",
      "n_neighbors: 87, weights: uniform, metric: cosine, rmse: 205.13830190069694\n",
      "n_neighbors: 88, weights: uniform, metric: cosine, rmse: 205.11417296464822\n",
      "n_neighbors: 89, weights: uniform, metric: cosine, rmse: 205.13523137053016\n",
      "n_neighbors: 90, weights: uniform, metric: cosine, rmse: 205.18341629680103\n",
      "n_neighbors: 91, weights: uniform, metric: cosine, rmse: 205.17670435490132\n",
      "n_neighbors: 92, weights: uniform, metric: cosine, rmse: 205.21114851824015\n",
      "n_neighbors: 93, weights: uniform, metric: cosine, rmse: 205.25699222269907\n",
      "n_neighbors: 94, weights: uniform, metric: cosine, rmse: 205.26371168470223\n",
      "n_neighbors: 95, weights: uniform, metric: cosine, rmse: 205.2837933770243\n",
      "n_neighbors: 96, weights: uniform, metric: cosine, rmse: 205.26918760563922\n",
      "n_neighbors: 97, weights: uniform, metric: cosine, rmse: 205.29561118355656\n",
      "n_neighbors: 98, weights: uniform, metric: cosine, rmse: 205.29938143919836\n",
      "n_neighbors: 99, weights: uniform, metric: cosine, rmse: 205.28593640448813\n",
      "n_neighbors: 100, weights: uniform, metric: cosine, rmse: 205.3019114767714\n",
      "n_neighbors: 101, weights: uniform, metric: cosine, rmse: 205.30863226114857\n",
      "n_neighbors: 102, weights: uniform, metric: cosine, rmse: 205.3243285560899\n",
      "n_neighbors: 103, weights: uniform, metric: cosine, rmse: 205.3460604211528\n",
      "n_neighbors: 104, weights: uniform, metric: cosine, rmse: 205.35644547438795\n",
      "n_neighbors: 105, weights: uniform, metric: cosine, rmse: 205.362497985042\n",
      "n_neighbors: 106, weights: uniform, metric: cosine, rmse: 205.40198039422316\n",
      "n_neighbors: 107, weights: uniform, metric: cosine, rmse: 205.42999435346758\n",
      "n_neighbors: 108, weights: uniform, metric: cosine, rmse: 205.4471054663371\n",
      "n_neighbors: 109, weights: uniform, metric: cosine, rmse: 205.47026730710863\n",
      "n_neighbors: 110, weights: uniform, metric: cosine, rmse: 205.47787958175314\n",
      "n_neighbors: 111, weights: uniform, metric: cosine, rmse: 205.46922408573508\n",
      "n_neighbors: 112, weights: uniform, metric: cosine, rmse: 205.50524030250617\n",
      "n_neighbors: 113, weights: uniform, metric: cosine, rmse: 205.53007011337056\n",
      "n_neighbors: 114, weights: uniform, metric: cosine, rmse: 205.55784121841717\n",
      "n_neighbors: 115, weights: uniform, metric: cosine, rmse: 205.55031635178753\n",
      "n_neighbors: 116, weights: uniform, metric: cosine, rmse: 205.56207036295402\n",
      "n_neighbors: 117, weights: uniform, metric: cosine, rmse: 205.57767993833556\n",
      "n_neighbors: 118, weights: uniform, metric: cosine, rmse: 205.59166992548307\n",
      "n_neighbors: 119, weights: uniform, metric: cosine, rmse: 205.60502809243516\n",
      "n_neighbors: 120, weights: uniform, metric: cosine, rmse: 205.63453436606707\n",
      "n_neighbors: 121, weights: uniform, metric: cosine, rmse: 205.65125866192136\n",
      "n_neighbors: 122, weights: uniform, metric: cosine, rmse: 205.64035640393956\n",
      "n_neighbors: 123, weights: uniform, metric: cosine, rmse: 205.65487825362217\n",
      "n_neighbors: 124, weights: uniform, metric: cosine, rmse: 205.6638128667147\n",
      "n_neighbors: 125, weights: uniform, metric: cosine, rmse: 205.67524104298866\n",
      "n_neighbors: 126, weights: uniform, metric: cosine, rmse: 205.68471417497645\n",
      "n_neighbors: 127, weights: uniform, metric: cosine, rmse: 205.68131821883316\n",
      "n_neighbors: 128, weights: uniform, metric: cosine, rmse: 205.70526199142716\n",
      "n_neighbors: 129, weights: uniform, metric: cosine, rmse: 205.72091040581574\n",
      "n_neighbors: 130, weights: uniform, metric: cosine, rmse: 205.7351109882323\n",
      "n_neighbors: 131, weights: uniform, metric: cosine, rmse: 205.74169691964542\n",
      "n_neighbors: 132, weights: uniform, metric: cosine, rmse: 205.74662978819924\n",
      "n_neighbors: 133, weights: uniform, metric: cosine, rmse: 205.75724049921774\n",
      "n_neighbors: 134, weights: uniform, metric: cosine, rmse: 205.77367135353305\n",
      "n_neighbors: 135, weights: uniform, metric: cosine, rmse: 205.79446623962255\n",
      "n_neighbors: 136, weights: uniform, metric: cosine, rmse: 205.81153662082136\n",
      "n_neighbors: 137, weights: uniform, metric: cosine, rmse: 205.8410357770781\n"
     ]
    },
    {
     "name": "stdout",
     "output_type": "stream",
     "text": [
      "n_neighbors: 138, weights: uniform, metric: cosine, rmse: 205.8560529830467\n",
      "n_neighbors: 139, weights: uniform, metric: cosine, rmse: 205.83885857877053\n",
      "n_neighbors: 140, weights: uniform, metric: cosine, rmse: 205.86473846116644\n",
      "n_neighbors: 141, weights: uniform, metric: cosine, rmse: 205.85939976977764\n",
      "n_neighbors: 142, weights: uniform, metric: cosine, rmse: 205.86659125318963\n",
      "n_neighbors: 143, weights: uniform, metric: cosine, rmse: 205.8644083205735\n",
      "n_neighbors: 144, weights: uniform, metric: cosine, rmse: 205.8796202330738\n",
      "n_neighbors: 145, weights: uniform, metric: cosine, rmse: 205.88750440477588\n",
      "n_neighbors: 146, weights: uniform, metric: cosine, rmse: 205.88204416180426\n",
      "n_neighbors: 147, weights: uniform, metric: cosine, rmse: 205.88316239499392\n",
      "n_neighbors: 148, weights: uniform, metric: cosine, rmse: 205.892673865069\n",
      "n_neighbors: 149, weights: uniform, metric: cosine, rmse: 205.90996546740533\n",
      "n_neighbors: 150, weights: uniform, metric: cosine, rmse: 205.9166378095415\n",
      "n_neighbors: 151, weights: uniform, metric: cosine, rmse: 205.94047648697148\n",
      "n_neighbors: 152, weights: uniform, metric: cosine, rmse: 205.94656530551498\n",
      "n_neighbors: 153, weights: uniform, metric: cosine, rmse: 205.93977212739523\n",
      "n_neighbors: 154, weights: uniform, metric: cosine, rmse: 205.94482047737796\n",
      "n_neighbors: 155, weights: uniform, metric: cosine, rmse: 205.97265845336216\n",
      "n_neighbors: 156, weights: uniform, metric: cosine, rmse: 205.97920217764036\n",
      "n_neighbors: 157, weights: uniform, metric: cosine, rmse: 205.99196549796943\n",
      "n_neighbors: 158, weights: uniform, metric: cosine, rmse: 206.01033543555886\n",
      "n_neighbors: 159, weights: uniform, metric: cosine, rmse: 206.02430538673994\n",
      "n_neighbors: 160, weights: uniform, metric: cosine, rmse: 206.03929429715936\n",
      "n_neighbors: 161, weights: uniform, metric: cosine, rmse: 206.05555256517272\n",
      "n_neighbors: 162, weights: uniform, metric: cosine, rmse: 206.06666439472497\n",
      "n_neighbors: 163, weights: uniform, metric: cosine, rmse: 206.0959355946819\n",
      "n_neighbors: 164, weights: uniform, metric: cosine, rmse: 206.1029011620321\n",
      "n_neighbors: 165, weights: uniform, metric: cosine, rmse: 206.1284263287356\n",
      "n_neighbors: 166, weights: uniform, metric: cosine, rmse: 206.14183353689788\n",
      "n_neighbors: 167, weights: uniform, metric: cosine, rmse: 206.16018228884468\n",
      "n_neighbors: 168, weights: uniform, metric: cosine, rmse: 206.13363082267804\n",
      "n_neighbors: 169, weights: uniform, metric: cosine, rmse: 206.13488888671745\n",
      "n_neighbors: 170, weights: uniform, metric: cosine, rmse: 206.1431776203548\n",
      "n_neighbors: 171, weights: uniform, metric: cosine, rmse: 206.16397840853278\n",
      "n_neighbors: 172, weights: uniform, metric: cosine, rmse: 206.15826959265186\n",
      "n_neighbors: 173, weights: uniform, metric: cosine, rmse: 206.15689251187973\n",
      "n_neighbors: 174, weights: uniform, metric: cosine, rmse: 206.10635142020953\n",
      "n_neighbors: 175, weights: uniform, metric: cosine, rmse: 206.1031515558615\n",
      "n_neighbors: 176, weights: uniform, metric: cosine, rmse: 206.09976510691394\n",
      "n_neighbors: 177, weights: uniform, metric: cosine, rmse: 206.11643577670634\n",
      "n_neighbors: 178, weights: uniform, metric: cosine, rmse: 206.12684859083745\n",
      "n_neighbors: 179, weights: uniform, metric: cosine, rmse: 206.14485210380712\n",
      "n_neighbors: 180, weights: uniform, metric: cosine, rmse: 206.14294758938448\n",
      "n_neighbors: 181, weights: uniform, metric: cosine, rmse: 206.14097671063212\n",
      "n_neighbors: 182, weights: uniform, metric: cosine, rmse: 206.16588905984713\n",
      "n_neighbors: 183, weights: uniform, metric: cosine, rmse: 206.16618901276843\n",
      "n_neighbors: 184, weights: uniform, metric: cosine, rmse: 206.16579777225795\n",
      "n_neighbors: 185, weights: uniform, metric: cosine, rmse: 206.1428193969565\n",
      "n_neighbors: 186, weights: uniform, metric: cosine, rmse: 206.14329177556257\n",
      "n_neighbors: 187, weights: uniform, metric: cosine, rmse: 206.15271797204866\n",
      "n_neighbors: 188, weights: uniform, metric: cosine, rmse: 206.16475557799447\n",
      "n_neighbors: 189, weights: uniform, metric: cosine, rmse: 206.17541145048384\n",
      "n_neighbors: 190, weights: uniform, metric: cosine, rmse: 206.16334659644346\n",
      "n_neighbors: 191, weights: uniform, metric: cosine, rmse: 206.1783462310125\n",
      "n_neighbors: 192, weights: uniform, metric: cosine, rmse: 206.1898597702363\n",
      "n_neighbors: 193, weights: uniform, metric: cosine, rmse: 206.18792434551816\n",
      "n_neighbors: 194, weights: uniform, metric: cosine, rmse: 206.19293288350372\n",
      "n_neighbors: 195, weights: uniform, metric: cosine, rmse: 206.20004082490786\n",
      "n_neighbors: 196, weights: uniform, metric: cosine, rmse: 206.20810936631213\n",
      "n_neighbors: 197, weights: uniform, metric: cosine, rmse: 206.2207736471825\n",
      "n_neighbors: 198, weights: uniform, metric: cosine, rmse: 206.21619453610845\n",
      "n_neighbors: 199, weights: uniform, metric: cosine, rmse: 206.226590639119\n",
      "n_neighbors: 3, weights: distance, metric: cosine, rmse: 234.9891370029108\n",
      "n_neighbors: 4, weights: distance, metric: cosine, rmse: 224.42153546851128\n",
      "n_neighbors: 5, weights: distance, metric: cosine, rmse: 218.57737088189353\n",
      "n_neighbors: 6, weights: distance, metric: cosine, rmse: 213.46207674037896\n",
      "n_neighbors: 7, weights: distance, metric: cosine, rmse: 210.31813793481595\n",
      "n_neighbors: 8, weights: distance, metric: cosine, rmse: 208.57111524271872\n",
      "n_neighbors: 9, weights: distance, metric: cosine, rmse: 207.4686315509539\n",
      "n_neighbors: 10, weights: distance, metric: cosine, rmse: 206.9198747400251\n",
      "n_neighbors: 11, weights: distance, metric: cosine, rmse: 206.42503992091898\n",
      "n_neighbors: 12, weights: distance, metric: cosine, rmse: 205.54965540564817\n",
      "n_neighbors: 13, weights: distance, metric: cosine, rmse: 204.88867360533564\n",
      "n_neighbors: 14, weights: distance, metric: cosine, rmse: 204.73955332752098\n",
      "n_neighbors: 15, weights: distance, metric: cosine, rmse: 204.60698646341305\n",
      "n_neighbors: 16, weights: distance, metric: cosine, rmse: 204.3815458929026\n",
      "n_neighbors: 17, weights: distance, metric: cosine, rmse: 203.89304980888838\n",
      "n_neighbors: 18, weights: distance, metric: cosine, rmse: 204.12597840589146\n",
      "n_neighbors: 19, weights: distance, metric: cosine, rmse: 204.16161583331862\n",
      "n_neighbors: 20, weights: distance, metric: cosine, rmse: 204.17089481631626\n",
      "n_neighbors: 21, weights: distance, metric: cosine, rmse: 204.27540937712936\n",
      "n_neighbors: 22, weights: distance, metric: cosine, rmse: 204.35379568561842\n",
      "n_neighbors: 23, weights: distance, metric: cosine, rmse: 204.36574258381492\n",
      "n_neighbors: 24, weights: distance, metric: cosine, rmse: 203.89553054047275\n",
      "n_neighbors: 25, weights: distance, metric: cosine, rmse: 203.6520752823341\n",
      "n_neighbors: 26, weights: distance, metric: cosine, rmse: 203.53751107412316\n",
      "n_neighbors: 27, weights: distance, metric: cosine, rmse: 203.54945941245435\n",
      "n_neighbors: 28, weights: distance, metric: cosine, rmse: 203.5614160065901\n",
      "n_neighbors: 29, weights: distance, metric: cosine, rmse: 203.67164836476687\n",
      "n_neighbors: 30, weights: distance, metric: cosine, rmse: 203.73775646026846\n",
      "n_neighbors: 31, weights: distance, metric: cosine, rmse: 203.9070966491497\n",
      "n_neighbors: 32, weights: distance, metric: cosine, rmse: 204.06347669331979\n",
      "n_neighbors: 33, weights: distance, metric: cosine, rmse: 204.20405491991355\n",
      "n_neighbors: 34, weights: distance, metric: cosine, rmse: 204.13100546075194\n",
      "n_neighbors: 35, weights: distance, metric: cosine, rmse: 204.11807599318337\n",
      "n_neighbors: 36, weights: distance, metric: cosine, rmse: 204.1744777881006\n",
      "n_neighbors: 37, weights: distance, metric: cosine, rmse: 204.16149875044954\n",
      "n_neighbors: 38, weights: distance, metric: cosine, rmse: 204.20980077989063\n",
      "n_neighbors: 39, weights: distance, metric: cosine, rmse: 204.22057506136352\n",
      "n_neighbors: 40, weights: distance, metric: cosine, rmse: 204.29852200781465\n",
      "n_neighbors: 41, weights: distance, metric: cosine, rmse: 204.35878347375711\n",
      "n_neighbors: 42, weights: distance, metric: cosine, rmse: 204.37848934303628\n",
      "n_neighbors: 43, weights: distance, metric: cosine, rmse: 204.42458316112706\n",
      "n_neighbors: 44, weights: distance, metric: cosine, rmse: 204.5570617267938\n",
      "n_neighbors: 45, weights: distance, metric: cosine, rmse: 204.50854936987307\n",
      "n_neighbors: 46, weights: distance, metric: cosine, rmse: 204.55676926890797\n",
      "n_neighbors: 47, weights: distance, metric: cosine, rmse: 204.54660191248047\n"
     ]
    },
    {
     "name": "stdout",
     "output_type": "stream",
     "text": [
      "n_neighbors: 48, weights: distance, metric: cosine, rmse: 204.5860339167648\n",
      "n_neighbors: 49, weights: distance, metric: cosine, rmse: 204.60560393272627\n",
      "n_neighbors: 50, weights: distance, metric: cosine, rmse: 204.62323972196407\n",
      "n_neighbors: 51, weights: distance, metric: cosine, rmse: 204.66288264119314\n",
      "n_neighbors: 52, weights: distance, metric: cosine, rmse: 204.65757519128837\n",
      "n_neighbors: 53, weights: distance, metric: cosine, rmse: 204.68504657680413\n",
      "n_neighbors: 54, weights: distance, metric: cosine, rmse: 204.6670080629756\n",
      "n_neighbors: 55, weights: distance, metric: cosine, rmse: 204.66168896070036\n",
      "n_neighbors: 56, weights: distance, metric: cosine, rmse: 204.63465386923124\n",
      "n_neighbors: 57, weights: distance, metric: cosine, rmse: 204.6517368139215\n",
      "n_neighbors: 58, weights: distance, metric: cosine, rmse: 204.6715454784315\n",
      "n_neighbors: 59, weights: distance, metric: cosine, rmse: 204.68667642831295\n",
      "n_neighbors: 60, weights: distance, metric: cosine, rmse: 204.7114054322847\n",
      "n_neighbors: 61, weights: distance, metric: cosine, rmse: 204.72455491356146\n",
      "n_neighbors: 62, weights: distance, metric: cosine, rmse: 204.70386358147886\n",
      "n_neighbors: 63, weights: distance, metric: cosine, rmse: 204.7404992362262\n",
      "n_neighbors: 64, weights: distance, metric: cosine, rmse: 204.76859975924953\n",
      "n_neighbors: 65, weights: distance, metric: cosine, rmse: 204.81107555629248\n",
      "n_neighbors: 66, weights: distance, metric: cosine, rmse: 204.86571455868443\n",
      "n_neighbors: 67, weights: distance, metric: cosine, rmse: 204.87504637701903\n",
      "n_neighbors: 68, weights: distance, metric: cosine, rmse: 204.8613516139871\n",
      "n_neighbors: 69, weights: distance, metric: cosine, rmse: 204.95128948830495\n",
      "n_neighbors: 70, weights: distance, metric: cosine, rmse: 204.96834173677806\n",
      "n_neighbors: 71, weights: distance, metric: cosine, rmse: 204.99699945448683\n",
      "n_neighbors: 72, weights: distance, metric: cosine, rmse: 205.0049518096805\n",
      "n_neighbors: 73, weights: distance, metric: cosine, rmse: 205.03725037676938\n",
      "n_neighbors: 74, weights: distance, metric: cosine, rmse: 205.03296415940943\n",
      "n_neighbors: 75, weights: distance, metric: cosine, rmse: 205.05992035762358\n",
      "n_neighbors: 76, weights: distance, metric: cosine, rmse: 205.0532850082047\n",
      "n_neighbors: 77, weights: distance, metric: cosine, rmse: 205.09787833211095\n",
      "n_neighbors: 78, weights: distance, metric: cosine, rmse: 205.13817556130033\n",
      "n_neighbors: 79, weights: distance, metric: cosine, rmse: 205.12527585091402\n",
      "n_neighbors: 80, weights: distance, metric: cosine, rmse: 205.1271302683246\n",
      "n_neighbors: 81, weights: distance, metric: cosine, rmse: 205.05587174759344\n",
      "n_neighbors: 82, weights: distance, metric: cosine, rmse: 205.07851561233986\n",
      "n_neighbors: 83, weights: distance, metric: cosine, rmse: 205.10231709289363\n",
      "n_neighbors: 84, weights: distance, metric: cosine, rmse: 205.13611988147318\n",
      "n_neighbors: 85, weights: distance, metric: cosine, rmse: 205.14834905923774\n",
      "n_neighbors: 86, weights: distance, metric: cosine, rmse: 205.17878345612377\n",
      "n_neighbors: 87, weights: distance, metric: cosine, rmse: 205.1903325676275\n",
      "n_neighbors: 88, weights: distance, metric: cosine, rmse: 205.1660074652783\n",
      "n_neighbors: 89, weights: distance, metric: cosine, rmse: 205.18743071871114\n",
      "n_neighbors: 90, weights: distance, metric: cosine, rmse: 205.23455070999586\n",
      "n_neighbors: 91, weights: distance, metric: cosine, rmse: 205.2280449504973\n",
      "n_neighbors: 92, weights: distance, metric: cosine, rmse: 205.26258886944242\n",
      "n_neighbors: 93, weights: distance, metric: cosine, rmse: 205.3081098428312\n",
      "n_neighbors: 94, weights: distance, metric: cosine, rmse: 205.3148793019099\n",
      "n_neighbors: 95, weights: distance, metric: cosine, rmse: 205.3344710369431\n",
      "n_neighbors: 96, weights: distance, metric: cosine, rmse: 205.32130336609444\n",
      "n_neighbors: 97, weights: distance, metric: cosine, rmse: 205.34888004854574\n",
      "n_neighbors: 98, weights: distance, metric: cosine, rmse: 205.35294590543498\n",
      "n_neighbors: 99, weights: distance, metric: cosine, rmse: 205.3399406976142\n",
      "n_neighbors: 100, weights: distance, metric: cosine, rmse: 205.3546136983566\n",
      "n_neighbors: 101, weights: distance, metric: cosine, rmse: 205.35956423269974\n",
      "n_neighbors: 102, weights: distance, metric: cosine, rmse: 205.37509435175048\n",
      "n_neighbors: 103, weights: distance, metric: cosine, rmse: 205.3967315646657\n",
      "n_neighbors: 104, weights: distance, metric: cosine, rmse: 205.4064562108073\n",
      "n_neighbors: 105, weights: distance, metric: cosine, rmse: 205.4114976544411\n",
      "n_neighbors: 106, weights: distance, metric: cosine, rmse: 205.44962387617903\n",
      "n_neighbors: 107, weights: distance, metric: cosine, rmse: 205.47740929682476\n",
      "n_neighbors: 108, weights: distance, metric: cosine, rmse: 205.49171022873483\n",
      "n_neighbors: 109, weights: distance, metric: cosine, rmse: 205.51315358247263\n",
      "n_neighbors: 110, weights: distance, metric: cosine, rmse: 205.51944770685202\n",
      "n_neighbors: 111, weights: distance, metric: cosine, rmse: 205.51024348239426\n",
      "n_neighbors: 112, weights: distance, metric: cosine, rmse: 205.54490882124523\n",
      "n_neighbors: 113, weights: distance, metric: cosine, rmse: 205.5716911817075\n",
      "n_neighbors: 114, weights: distance, metric: cosine, rmse: 205.59843032133665\n",
      "n_neighbors: 115, weights: distance, metric: cosine, rmse: 205.59113082264827\n",
      "n_neighbors: 116, weights: distance, metric: cosine, rmse: 205.60245613577285\n",
      "n_neighbors: 117, weights: distance, metric: cosine, rmse: 205.61712025290075\n",
      "n_neighbors: 118, weights: distance, metric: cosine, rmse: 205.62990225791955\n",
      "n_neighbors: 119, weights: distance, metric: cosine, rmse: 205.64199598727473\n",
      "n_neighbors: 120, weights: distance, metric: cosine, rmse: 205.66936482614406\n",
      "n_neighbors: 121, weights: distance, metric: cosine, rmse: 205.68433076286155\n",
      "n_neighbors: 122, weights: distance, metric: cosine, rmse: 205.6724227552478\n",
      "n_neighbors: 123, weights: distance, metric: cosine, rmse: 205.68712653038318\n",
      "n_neighbors: 124, weights: distance, metric: cosine, rmse: 205.69436446117396\n",
      "n_neighbors: 125, weights: distance, metric: cosine, rmse: 205.70491754533103\n",
      "n_neighbors: 126, weights: distance, metric: cosine, rmse: 205.71324777112233\n",
      "n_neighbors: 127, weights: distance, metric: cosine, rmse: 205.70948981034337\n",
      "n_neighbors: 128, weights: distance, metric: cosine, rmse: 205.73231680209133\n",
      "n_neighbors: 129, weights: distance, metric: cosine, rmse: 205.74737230119143\n",
      "n_neighbors: 130, weights: distance, metric: cosine, rmse: 205.75989166304\n",
      "n_neighbors: 131, weights: distance, metric: cosine, rmse: 205.7654365177402\n",
      "n_neighbors: 132, weights: distance, metric: cosine, rmse: 205.77089252201023\n",
      "n_neighbors: 133, weights: distance, metric: cosine, rmse: 205.78152775967914\n",
      "n_neighbors: 134, weights: distance, metric: cosine, rmse: 205.7957149100921\n",
      "n_neighbors: 135, weights: distance, metric: cosine, rmse: 205.8145353124239\n",
      "n_neighbors: 136, weights: distance, metric: cosine, rmse: 205.83047172062226\n",
      "n_neighbors: 137, weights: distance, metric: cosine, rmse: 205.85719437065876\n",
      "n_neighbors: 138, weights: distance, metric: cosine, rmse: 205.87295474412818\n",
      "n_neighbors: 139, weights: distance, metric: cosine, rmse: 205.85374174106454\n",
      "n_neighbors: 140, weights: distance, metric: cosine, rmse: 205.87895226813853\n",
      "n_neighbors: 141, weights: distance, metric: cosine, rmse: 205.87119695567256\n",
      "n_neighbors: 142, weights: distance, metric: cosine, rmse: 205.8768910278163\n",
      "n_neighbors: 143, weights: distance, metric: cosine, rmse: 205.87254211938884\n",
      "n_neighbors: 144, weights: distance, metric: cosine, rmse: 205.8836577218834\n",
      "n_neighbors: 145, weights: distance, metric: cosine, rmse: 205.89540671875486\n",
      "n_neighbors: 146, weights: distance, metric: cosine, rmse: 205.88931803641285\n",
      "n_neighbors: 147, weights: distance, metric: cosine, rmse: 205.89024439379912\n",
      "n_neighbors: 148, weights: distance, metric: cosine, rmse: 205.89950573834344\n",
      "n_neighbors: 149, weights: distance, metric: cosine, rmse: 205.91486932106847\n",
      "n_neighbors: 150, weights: distance, metric: cosine, rmse: 205.92081196194286\n",
      "n_neighbors: 151, weights: distance, metric: cosine, rmse: 205.94331125838937\n",
      "n_neighbors: 152, weights: distance, metric: cosine, rmse: 205.94872035651306\n",
      "n_neighbors: 153, weights: distance, metric: cosine, rmse: 205.9414527431771\n",
      "n_neighbors: 154, weights: distance, metric: cosine, rmse: 205.9469356766969\n",
      "n_neighbors: 155, weights: distance, metric: cosine, rmse: 205.9731622030082\n"
     ]
    },
    {
     "name": "stdout",
     "output_type": "stream",
     "text": [
      "n_neighbors: 156, weights: distance, metric: cosine, rmse: 205.97855608404652\n",
      "n_neighbors: 157, weights: distance, metric: cosine, rmse: 205.99055069333974\n",
      "n_neighbors: 158, weights: distance, metric: cosine, rmse: 206.00889326682537\n",
      "n_neighbors: 159, weights: distance, metric: cosine, rmse: 206.02123683626428\n",
      "n_neighbors: 160, weights: distance, metric: cosine, rmse: 206.03529680083412\n",
      "n_neighbors: 161, weights: distance, metric: cosine, rmse: 206.05033892578032\n",
      "n_neighbors: 162, weights: distance, metric: cosine, rmse: 206.0605862210217\n",
      "n_neighbors: 163, weights: distance, metric: cosine, rmse: 206.08862002864862\n",
      "n_neighbors: 164, weights: distance, metric: cosine, rmse: 206.0948754025547\n",
      "n_neighbors: 165, weights: distance, metric: cosine, rmse: 206.1196386063516\n",
      "n_neighbors: 166, weights: distance, metric: cosine, rmse: 206.13181373682477\n",
      "n_neighbors: 167, weights: distance, metric: cosine, rmse: 206.1498627033918\n",
      "n_neighbors: 168, weights: distance, metric: cosine, rmse: 206.1255397497211\n",
      "n_neighbors: 169, weights: distance, metric: cosine, rmse: 206.12684913077857\n",
      "n_neighbors: 170, weights: distance, metric: cosine, rmse: 206.13401565066627\n",
      "n_neighbors: 171, weights: distance, metric: cosine, rmse: 206.1549621793796\n",
      "n_neighbors: 172, weights: distance, metric: cosine, rmse: 206.14966630795732\n",
      "n_neighbors: 173, weights: distance, metric: cosine, rmse: 206.1482586946124\n",
      "n_neighbors: 174, weights: distance, metric: cosine, rmse: 206.09692039205515\n",
      "n_neighbors: 175, weights: distance, metric: cosine, rmse: 206.093025881699\n",
      "n_neighbors: 176, weights: distance, metric: cosine, rmse: 206.0884353011143\n",
      "n_neighbors: 177, weights: distance, metric: cosine, rmse: 206.10389573509826\n",
      "n_neighbors: 178, weights: distance, metric: cosine, rmse: 206.1138953527713\n",
      "n_neighbors: 179, weights: distance, metric: cosine, rmse: 206.13143904113673\n",
      "n_neighbors: 180, weights: distance, metric: cosine, rmse: 206.12886516770527\n",
      "n_neighbors: 181, weights: distance, metric: cosine, rmse: 206.12635022451056\n",
      "n_neighbors: 182, weights: distance, metric: cosine, rmse: 206.14972488117925\n",
      "n_neighbors: 183, weights: distance, metric: cosine, rmse: 206.14925793498492\n",
      "n_neighbors: 184, weights: distance, metric: cosine, rmse: 206.1480436970887\n",
      "n_neighbors: 185, weights: distance, metric: cosine, rmse: 206.1247206291577\n",
      "n_neighbors: 186, weights: distance, metric: cosine, rmse: 206.12461927803702\n",
      "n_neighbors: 187, weights: distance, metric: cosine, rmse: 206.13280562265174\n",
      "n_neighbors: 188, weights: distance, metric: cosine, rmse: 206.14338896263442\n",
      "n_neighbors: 189, weights: distance, metric: cosine, rmse: 206.15354941209011\n",
      "n_neighbors: 190, weights: distance, metric: cosine, rmse: 206.14105232291584\n",
      "n_neighbors: 191, weights: distance, metric: cosine, rmse: 206.15550652738358\n",
      "n_neighbors: 192, weights: distance, metric: cosine, rmse: 206.16688304239915\n",
      "n_neighbors: 193, weights: distance, metric: cosine, rmse: 206.16474336804734\n",
      "n_neighbors: 194, weights: distance, metric: cosine, rmse: 206.1696711542056\n",
      "n_neighbors: 195, weights: distance, metric: cosine, rmse: 206.1766952577116\n",
      "n_neighbors: 196, weights: distance, metric: cosine, rmse: 206.1857385891035\n",
      "n_neighbors: 197, weights: distance, metric: cosine, rmse: 206.19810779245765\n",
      "n_neighbors: 198, weights: distance, metric: cosine, rmse: 206.19451919856277\n",
      "n_neighbors: 199, weights: distance, metric: cosine, rmse: 206.20509497811747\n"
     ]
    }
   ],
   "source": [
    "best_score_param = {'score' : 1000, 'param': ''}\n",
    "\n",
    "metrics_list = ['euclidean', 'cosine']\n",
    "weights_list = ['uniform', 'distance']\n",
    "k_max = 200\n",
    "k_list = np.arange(2, k_max)\n",
    "best_score_param = {'score': None, 'param': None}\n",
    "for metrics in metrics_list:\n",
    "    for weights in weights_list:\n",
    "        knn_regressor = KNNRegressor(k_max, metric=metrics, mode=weights, test_block_size=10000)\n",
    "        knn_regressor.fit(X_train_full, y_train.values.reshape(-1))\n",
    "        knn_regressor.find_kneighbors(X_test_full, return_distance=True)\n",
    "        for k in k_list[1:]:\n",
    "            knn_regressor.n_neighbors = k\n",
    "            pred = knn_regressor.predict_opt_regression(X_test_with_text)\n",
    "            rmse_score = rmse(pred, y_test.values.reshape(-1))\n",
    "            print(f'n_neighbors: {k}, weights: {weights}, metric: {metrics}, rmse: {rmse_score}')\n",
    "            if best_score_param['score'] is None:\n",
    "                best_score_param['score'] = rmse_score\n",
    "                best_score_param['param'] = str(weights) + '_' + str(k) + '_' + str(metrics)            \n",
    "            elif best_score_param['score'] > rmse_score:\n",
    "                best_score_param['score'] = rmse_score\n",
    "                best_score_param['param'] = str(weights) + '_' + str(k) + '_' + str(metrics)"
   ]
  },
  {
   "cell_type": "code",
   "execution_count": 334,
   "metadata": {},
   "outputs": [
    {
     "data": {
      "text/plain": [
       "{'score': 202.10289902236653, 'param': 'distance_28_euclidean'}"
      ]
     },
     "execution_count": 334,
     "metadata": {},
     "output_type": "execute_result"
    }
   ],
   "source": [
    "best_score_param"
   ]
  },
  {
   "cell_type": "markdown",
   "metadata": {},
   "source": [
    "### Попробуем пронормировать все признаки:"
   ]
  },
  {
   "cell_type": "code",
   "execution_count": 335,
   "metadata": {},
   "outputs": [],
   "source": [
    "from sklearn.preprocessing import Normalizer"
   ]
  },
  {
   "cell_type": "code",
   "execution_count": 336,
   "metadata": {},
   "outputs": [],
   "source": [
    "scaler = Normalizer(copy=True, norm='l2')\n",
    "X_train_full_scaled = scaler.fit_transform(X_train_full)\n",
    "X_test_full_scaled = scaler.transform(X_test_full)"
   ]
  },
  {
   "cell_type": "code",
   "execution_count": 337,
   "metadata": {},
   "outputs": [],
   "source": [
    "knn_final = KNNRegressor(28, metric='euclidean', mode='distance', test_block_size=10000)\n",
    "knn_final.fit(X_train_full_scaled, y_train)"
   ]
  },
  {
   "cell_type": "code",
   "execution_count": 338,
   "metadata": {},
   "outputs": [
    {
     "name": "stdout",
     "output_type": "stream",
     "text": [
      "CPU times: user 1h 34min 29s, sys: 8.09 s, total: 1h 34min 37s\n",
      "Wall time: 13min 17s\n"
     ]
    }
   ],
   "source": [
    "%%time\n",
    "preds = knn_final.predict(X_test_full_scaled)"
   ]
  },
  {
   "cell_type": "code",
   "execution_count": 340,
   "metadata": {},
   "outputs": [
    {
     "name": "stdout",
     "output_type": "stream",
     "text": [
      "202.0637452140629\n"
     ]
    }
   ],
   "source": [
    "rmse_score = rmse(preds, y_test.values.reshape(-1))\n",
    "rmse_score"
   ]
  },
  {
   "cell_type": "markdown",
   "metadata": {},
   "source": [
    "С помощью добавления дополнительных признаков и их нормировки удалось превзойти качество, полученное только при преобразовании текстовых признаков. Лучший результат - **202.064**"
   ]
  },
  {
   "cell_type": "markdown",
   "metadata": {},
   "source": [
    "## Часть 4: Выводы\n"
   ]
  },
  {
   "cell_type": "markdown",
   "metadata": {},
   "source": [
    "(ノ°∀°)ノ⌒･*:.｡. .｡.:*･゜ﾟ･*☆ (ノ°∀°)ノ⌒･*:.｡. .｡.:*･゜ﾟ･*☆ (ノ°∀°)ノ⌒･*:.｡. .｡.:*･゜ﾟ･*☆ (ノ°∀°)ノ⌒･*:.｡. .｡.:*･゜ﾟ･*☆ (ノ°∀°)ノ⌒･*:.｡. .｡.:*･゜ﾟ･*☆"
   ]
  },
  {
   "cell_type": "markdown",
   "metadata": {},
   "source": [
    "В данной работе были проведены эксперименты с методом $k$ ближайших соседей для задачи регрессии (и немного для задачи классификации).\n",
    "\n",
    "Были изучены и реализованы метрики расстояния между категориальными признаками:\n",
    "\n",
    "1. Индикатор совпадения ($overlap$)\n",
    "2. Сглаженный индикатор совпадения ($flattened \\space overlap$)\n",
    "3. Логарифмический индикатор совпадения ($log \\space overlap$)\n",
    "\n",
    "При $k = 10$ лучшей метрикой расстояния является **сглаженный индикатор совпадения**.\n",
    "Если же найти оптимальное значение $k$ для каждой из метрик, то лучшей метрикой расстояния становится **логарифмический индикатор совпадения**.\n",
    "\n",
    "Были рассмотрены преобразования категориальных признаков с фолдингом и без:\n",
    "\n",
    "1. Число $counts$ объектов в обучающей выборке с таким же значением признака.\n",
    "2. Число $successes$ объектов первого класса $(y = 1)$ в обучающей выборке с таким же значением признака.\n",
    "3. Сглаженное отношение двух предыдущих величин: \n",
    "\\begin{align}\n",
    "p_j(c) = \\frac{successes_j(c) + a}{counts_j(c) + b},\n",
    "\\end{align}\n",
    "\n",
    "Интересно, что метод заполнения признаков без фолдинга дал качество лучше, чем с фолдингом.\n",
    "\n",
    "Были рассмотрены преобразования текстовых признаков в вещественные для использования их со стандартными метриками расстояния: $cosine$, $euclidean$:\n",
    "1. Мешок слов (Bag of words)\n",
    "2. TF-IDF\n",
    "\n",
    "В этом случае лучшим оказалось **TF-IDF**.\n",
    "\n",
    "Преобразованные категориальные и текстовые признаки были объединены с вещественными, далее все признаки пронормировали. Для них было найдено оптимальное значение $k = 30$, на котором получилось наименьшее значение $\\textbf{RMSE} = 202.06$"
   ]
  },
  {
   "cell_type": "markdown",
   "metadata": {},
   "source": [
    "(ノ°∀°)ノ⌒･*:.｡. .｡.:*･゜ﾟ･*☆(ノ°∀°)ノ⌒･*:.｡. .｡.:*･゜ﾟ･*☆(ノ°∀°)ノ⌒･*:.｡. .｡.:*･゜ﾟ･*☆(ノ°∀°)ノ⌒･*:.｡. .｡.:*･゜ﾟ･*☆(ノ°∀°)ノ⌒･*:.｡. .｡.:*･゜ﾟ･*☆"
   ]
  }
 ],
 "metadata": {
  "kernelspec": {
   "display_name": "Python 3",
   "language": "python",
   "name": "python3"
  },
  "language_info": {
   "codemirror_mode": {
    "name": "ipython",
    "version": 3
   },
   "file_extension": ".py",
   "mimetype": "text/x-python",
   "name": "python",
   "nbconvert_exporter": "python",
   "pygments_lexer": "ipython3",
   "version": "3.7.5"
  }
 },
 "nbformat": 4,
 "nbformat_minor": 1
}
