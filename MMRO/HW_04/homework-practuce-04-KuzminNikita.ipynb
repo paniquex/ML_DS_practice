{
 "cells": [
  {
   "cell_type": "markdown",
   "metadata": {},
   "source": [
    "# Машинное обучение, ВМК МГУ\n",
    "\n",
    "# Практическое задание 3\n",
    "\n",
    "### Общая информация\n",
    "\n",
    "Дата выдачи: 20 ноября 2019\n",
    "\n",
    "Мягкий дедлайн: 23:59MSK 7 декабря 2019 (за каждый день просрочки снимается 1 балл)\n",
    "\n",
    "Жесткий дедлайн: 23:59MSK 10 декабря 2019."
   ]
  },
  {
   "cell_type": "markdown",
   "metadata": {},
   "source": [
    "### О задании\n",
    "\n",
    "В этом задании вы:\n",
    "- настроите метод опорных векторов, визуализируете опорные вектора\n",
    "- познакомитесь с калибровочными кривыми и сравните вероятности, выдаваемые логистической регрессией и методом опорных векторов\n",
    "- изучите методы работы с категориальными переменными\n",
    "- в качестве бонуса попробуете библиотеку vowpal wabbit.\n",
    "\n",
    "\n",
    "### Оценивание и штрафы\n",
    "Каждая из задач имеет определенную «стоимость» (указана в скобках около задачи). Максимально допустимая оценка за работу — 10 баллов.\n",
    "\n",
    "Сдавать задание после указанного срока сдачи нельзя. При выставлении неполного балла за задание в связи с наличием ошибок на усмотрение проверяющего предусмотрена возможность исправить работу на указанных в ответном письме условиях.\n",
    "\n",
    "Задание выполняется самостоятельно. «Похожие» решения считаются плагиатом и все задействованные студенты (в том числе те, у кого списали) не могут получить за него больше 0 баллов (подробнее о плагиате см. на странице курса). Если вы нашли решение какого-то из заданий (или его часть) в открытом источнике, необходимо указать ссылку на этот источник в отдельном блоке в конце вашей работы (скорее всего вы будете не единственным, кто это нашел, поэтому чтобы исключить подозрение в плагиате, необходима ссылка на источник).\n",
    "\n",
    "Неэффективная реализация кода может негативно отразиться на оценке.\n",
    "\n",
    "\n",
    "### Формат сдачи\n",
    "Для сдачи задания переименуйте получившийся файл *.ipynb в соответствии со следующим форматом: homework-practice-04-Username.ipynb, где Username — ваша фамилия и имя на латинице именно в таком порядке (например, homework-practice-04-IvanovIvan.ipynb).\n",
    "\n",
    "Для удобства проверки самостоятельно посчитайте свою максимальную оценку (исходя из набора решенных задач) и укажите ниже."
   ]
  },
  {
   "cell_type": "markdown",
   "metadata": {},
   "source": [
    "**Оценка:** 10"
   ]
  },
  {
   "cell_type": "code",
   "execution_count": 1,
   "metadata": {
    "ExecuteTime": {
     "end_time": "2019-10-16T18:11:48.202066Z",
     "start_time": "2019-10-16T18:11:46.362572Z"
    }
   },
   "outputs": [
    {
     "name": "stdout",
     "output_type": "stream",
     "text": [
      "Populating the interactive namespace from numpy and matplotlib\n"
     ]
    }
   ],
   "source": [
    "%pylab inline\n",
    "import pandas as pd\n",
    "import numpy as np\n",
    "import matplotlib.pyplot as plt\n",
    "import seaborn as sns\n",
    "\n",
    "from sklearn.datasets import load_diabetes, make_classification\n",
    "from sklearn.model_selection import train_test_split"
   ]
  },
  {
   "cell_type": "markdown",
   "metadata": {},
   "source": [
    "## Часть 1. Линейная регрессия"
   ]
  },
  {
   "cell_type": "markdown",
   "metadata": {},
   "source": [
    "В этой части мы кратко познакомимся с линейной регрессией.\n",
    "\n",
    "Для начала загрузим данные и разделим их на обучающую и тестовую выборки в соотношении 7 к 3."
   ]
  },
  {
   "cell_type": "code",
   "execution_count": 2,
   "metadata": {},
   "outputs": [
    {
     "name": "stderr",
     "output_type": "stream",
     "text": [
      "/home/paniquex/anaconda3/lib/python3.7/site-packages/sklearn/model_selection/_split.py:2179: FutureWarning: From version 0.21, test_size will always complement train_size unless both are specified.\n",
      "  FutureWarning)\n"
     ]
    }
   ],
   "source": [
    "data = load_diabetes()\n",
    "X_train, X_test, y_train, y_test = train_test_split(data.data, data.target, train_size=0.7, random_state=241)"
   ]
  },
  {
   "cell_type": "markdown",
   "metadata": {},
   "source": [
    "__Задание 1.__ Обучение линейной регрессии.\n",
    "\n",
    "**(1 балл)**\n",
    "\n",
    "Обучите линейную регрессию с $L_1$ (Lasso) и $L_2$ (Ridge) регуляризаторами (используйте параметры по умолчанию). Посмотрите, какое количество коэффициентов близко к 0 (степень близости к 0 определите сами из разумных пределов). Постройте график зависимости числа ненулевых коэффициентов от коэффицента регуляризации (перебирайте значения по логарифмической сетке от $10^{-3}$ до $10^3$). Согласуются ли результаты с вашими ожиданиями?"
   ]
  },
  {
   "cell_type": "code",
   "execution_count": 3,
   "metadata": {},
   "outputs": [],
   "source": [
    "from sklearn.linear_model import Lasso\n",
    "from sklearn.linear_model import Ridge\n",
    "from sklearn.metrics import r2_score, mean_squared_error, mean_absolute_error"
   ]
  },
  {
   "cell_type": "markdown",
   "metadata": {},
   "source": [
    "Будем считать коэффициенты близкими к нулю, если они по модулю не превосходят $eps=10^{-3}$"
   ]
  },
  {
   "cell_type": "code",
   "execution_count": 4,
   "metadata": {},
   "outputs": [],
   "source": [
    "eps = 1e-3\n",
    "\n",
    "alpha_coefs_arr = np.logspace(-3, 3, 100)\n",
    "not_zero_coefs_amount_list_lasso = []\n",
    "not_zero_coefs_amount_list_ridge = []\n",
    "\n",
    "for alpha_coef in alpha_coefs_arr:\n",
    "    lasso_model = Lasso(alpha=alpha_coef)\n",
    "    lasso_model.fit(X_train, y_train)\n",
    "    lasso_coefs = lasso_model.coef_\n",
    "    not_zero_coefs_amount = np.sum(abs(lasso_coefs) > eps)\n",
    "    not_zero_coefs_amount_list_lasso.append(not_zero_coefs_amount)\n",
    "    \n",
    "    ridge_model = Ridge(alpha=alpha_coef)\n",
    "    ridge_model.fit(X_train, y_train)\n",
    "    ridge_coefs = ridge_model.coef_\n",
    "    not_zero_coefs_amount = np.sum(abs(ridge_coefs) > eps)\n",
    "    not_zero_coefs_amount_list_ridge.append(not_zero_coefs_amount)"
   ]
  },
  {
   "cell_type": "code",
   "execution_count": 5,
   "metadata": {},
   "outputs": [
    {
     "data": {
      "image/png": "[encoded data removed]",
      "text/plain": [
       "<Figure size 1080x504 with 1 Axes>"
      ]
     },
     "metadata": {
      "needs_background": "light"
     },
     "output_type": "display_data"
    }
   ],
   "source": [
    "plt.figure(figsize=(15, 7))\n",
    "sns.lineplot(x=alpha_coefs_arr, y=not_zero_coefs_amount_list_lasso)\n",
    "sns.lineplot(x=alpha_coefs_arr, y=not_zero_coefs_amount_list_ridge)\n",
    "\n",
    "plt.title('Зависимость числа ненулевых коэффициентов от коэффициента регуляризации для линейных моделей')\n",
    "plt.legend(['Lasso', 'Ridge'])\n",
    "plt.xlabel('Коэффициент регуляризации')\n",
    "plt.ylabel('Количество ненулевых коэффициентов')\n",
    "plt.semilogx()\n",
    "plt.show()"
   ]
  },
  {
   "cell_type": "markdown",
   "metadata": {},
   "source": [
    "Этого и стоило ожидать, так как линейная регрессия с $L_1$-регуляризацией имеет свойство исключать неинформативные признаки (то есть занулять веса, соответствующие таким признакам). Это было доказано на лекциях."
   ]
  },
  {
   "cell_type": "markdown",
   "metadata": {},
   "source": [
    "Посчитайте для Ridge-регрессии следующие метрики: $RMSE$, $MAE$, $R^2$."
   ]
  },
  {
   "cell_type": "code",
   "execution_count": 6,
   "metadata": {},
   "outputs": [],
   "source": [
    "ridge_model.fit(X_train, y_train)\n",
    "predictions_ridge = ridge_model.predict(X_test)"
   ]
  },
  {
   "cell_type": "code",
   "execution_count": 7,
   "metadata": {},
   "outputs": [
    {
     "name": "stdout",
     "output_type": "stream",
     "text": [
      "RMSE score: 72.8037\n",
      "MAE score: 59.9321\n",
      "R2 score: 0.0019\n"
     ]
    }
   ],
   "source": [
    "print(f'RMSE score: {np.sqrt(mean_squared_error(y_test, predictions_ridge)):.4f}')\n",
    "print(f'MAE score: {mean_absolute_error(y_test, predictions_ridge):.4f}')      \n",
    "print(f'R2 score: {r2_score(y_test, predictions_ridge):.4f}')     "
   ]
  },
  {
   "cell_type": "markdown",
   "metadata": {},
   "source": [
    "Подберите на обучающей выборке для Ridge-регрессии коэффициент регуляризации (перебирайте значения по логарифмической сетке от $10^{-3}$ до $10^3$) для каждой из метрик. Для этого воспользуйтесь GridSearchCV и KFold из sklearn. Постройте графики зависимости фукнции потерь от коэффициента регуляризации. Посчитайте те же метрики снова. Заметно ли изменилось качество?"
   ]
  },
  {
   "cell_type": "code",
   "execution_count": 8,
   "metadata": {},
   "outputs": [
    {
     "name": "stderr",
     "output_type": "stream",
     "text": [
      "/home/paniquex/anaconda3/lib/python3.7/site-packages/sklearn/model_selection/_search.py:841: DeprecationWarning: The default of the `iid` parameter will change from True to False in version 0.22 and will be removed in 0.24. This will change numeric results when test-set sizes are unequal.\n",
      "  DeprecationWarning)\n",
      "/home/paniquex/anaconda3/lib/python3.7/site-packages/sklearn/model_selection/_search.py:841: DeprecationWarning: The default of the `iid` parameter will change from True to False in version 0.22 and will be removed in 0.24. This will change numeric results when test-set sizes are unequal.\n",
      "  DeprecationWarning)\n",
      "/home/paniquex/anaconda3/lib/python3.7/site-packages/sklearn/model_selection/_search.py:841: DeprecationWarning: The default of the `iid` parameter will change from True to False in version 0.22 and will be removed in 0.24. This will change numeric results when test-set sizes are unequal.\n",
      "  DeprecationWarning)\n"
     ]
    }
   ],
   "source": [
    "from sklearn.model_selection import GridSearchCV, KFold\n",
    "import sklearn\n",
    "\n",
    "metrics_list = ['neg_mean_squared_error', 'neg_mean_absolute_error', 'r2']\n",
    "\n",
    "n_folds = 5\n",
    "kfold = KFold(n_folds)\n",
    "grid_search_results_list = []\n",
    "grid_search_best_results_list = []\n",
    "param_grid = {'alpha': np.logspace(-3, 3, 100)}\n",
    "\n",
    "for metric in metrics_list:\n",
    "    grid_search = GridSearchCV(ridge_model, param_grid=param_grid,\n",
    "                               scoring=metric, cv=kfold)\n",
    "    grid_search.fit(X_train, y_train)\n",
    "    grid_search.cv_results_['metric'] = metric\n",
    "    grid_search_results_list.append(grid_search.cv_results_)\n",
    "    grid_search_best_results_list.append(grid_search.best_params_)"
   ]
  },
  {
   "cell_type": "code",
   "execution_count": 9,
   "metadata": {},
   "outputs": [
    {
     "data": {
      "image/png": "[encoded data removed]",
      "text/plain": [
       "<Figure size 1080x504 with 1 Axes>"
      ]
     },
     "metadata": {
      "needs_background": "light"
     },
     "output_type": "display_data"
    }
   ],
   "source": [
    "plt.figure(figsize=(15, 7))\n",
    "sns.lineplot(x=alpha_coefs_arr, y=grid_search_results_list[2]['mean_test_score'])\n",
    "\n",
    "\n",
    "plt.title('Зависимость функции потерь $R^2$ от коэффициента регуляризации для Ridge-регрессии')\n",
    "plt.xlabel('Коэффициент регуляризации')\n",
    "plt.ylabel('Значение функции потерь')\n",
    "plt.semilogx()\n",
    "plt.show()"
   ]
  },
  {
   "cell_type": "code",
   "execution_count": 10,
   "metadata": {},
   "outputs": [
    {
     "data": {
      "image/png": "[encoded data removed]",
      "text/plain": [
       "<Figure size 1080x504 with 1 Axes>"
      ]
     },
     "metadata": {
      "needs_background": "light"
     },
     "output_type": "display_data"
    }
   ],
   "source": [
    "plt.figure(figsize=(15, 7))\n",
    "sns.lineplot(x=alpha_coefs_arr, y=-grid_search_results_list[1]['mean_test_score'])\n",
    "sns.lineplot(x=alpha_coefs_arr, y=np.sqrt(-grid_search_results_list[0]['mean_test_score']))\n",
    "\n",
    "\n",
    "plt.title('Зависимость функций потерь от коэффициента регуляризации для Ridge-регрессии')\n",
    "plt.legend(['MAE', 'RMSE'])\n",
    "plt.xlabel('Коэффициент регуляризации')\n",
    "plt.ylabel('Значение функции потерь')\n",
    "plt.semilogx()\n",
    "plt.show()"
   ]
  },
  {
   "cell_type": "markdown",
   "metadata": {},
   "source": [
    "Обучим 3 модели Ridge-регрессии с лучшими коэффициентами регуляризации для каждой из метрик:"
   ]
  },
  {
   "cell_type": "code",
   "execution_count": 11,
   "metadata": {},
   "outputs": [],
   "source": [
    "preds_list = []\n",
    "\n",
    "for best_coef in grid_search_best_results_list:\n",
    "    best_coef = best_coef['alpha']\n",
    "    ridge_model = Ridge(alpha=best_coef)\n",
    "    ridge_model.fit(X_train, y_train)\n",
    "    preds = ridge_model.predict(X_test)\n",
    "    preds_list.append(preds)"
   ]
  },
  {
   "cell_type": "code",
   "execution_count": 12,
   "metadata": {
    "scrolled": true
   },
   "outputs": [
    {
     "name": "stdout",
     "output_type": "stream",
     "text": [
      "RMSE score: 55.8211\n",
      "MAE score: 47.1444\n",
      "R2 score: 0.4133\n"
     ]
    }
   ],
   "source": [
    "print(f'RMSE score: {np.sqrt(mean_squared_error(y_test, preds_list[0])):.4f}')\n",
    "print(f'MAE score: {mean_absolute_error(y_test, preds_list[1]):.4f}')      \n",
    "print(f'R2 score: {r2_score(y_test, preds_list[2]):.4f}')     "
   ]
  },
  {
   "cell_type": "markdown",
   "metadata": {},
   "source": [
    "Напомним предыдущие результаты:\n",
    "\n",
    "RMSE score: 72.8037\n",
    "\n",
    "MAE score: 59.9321\n",
    "\n",
    "R2 score: 0.0019"
   ]
  },
  {
   "cell_type": "markdown",
   "metadata": {},
   "source": [
    "**Вывод:** подбор параметра регуляризации позволил получить значительно лучшие результаты."
   ]
  },
  {
   "cell_type": "markdown",
   "metadata": {},
   "source": [
    "__Задание 2.__ Поиск объектов-выбросов\n",
    "\n",
    "**(0.5 балла)**\n",
    "\n",
    "Как известно, MSE сильно штрафует за большие ошибки на объектах-выбросах. С помощью cross_val_predict сделайте Out-of-Fold предсказания для обучающей выборки. Посчитайте ошибки и посмотрите на их распределение (plt.hist). Что вы видите?"
   ]
  },
  {
   "cell_type": "markdown",
   "metadata": {},
   "source": [
    "Чтобы гистограмма была репрезентативной было решено использовать алгоритм валидации \"Leave One Out\"."
   ]
  },
  {
   "cell_type": "code",
   "execution_count": 13,
   "metadata": {},
   "outputs": [],
   "source": [
    "from sklearn.model_selection import cross_val_predict\n",
    "\n",
    "cross_val_pred = cross_val_predict(ridge_model, X_train, y_train, cv=KFold(y_train.shape[0]))"
   ]
  },
  {
   "cell_type": "code",
   "execution_count": 14,
   "metadata": {},
   "outputs": [],
   "source": [
    "mse_oof_list = []\n",
    "for _, tst_idx in KFold(y_train.shape[0]).split(X_train, y_train):\n",
    "    mse_oof_list.append(mean_squared_error(y_train[tst_idx], cross_val_pred[tst_idx]))"
   ]
  },
  {
   "cell_type": "code",
   "execution_count": 15,
   "metadata": {},
   "outputs": [
    {
     "data": {
      "image/png": "[encoded data removed]",
      "text/plain": [
       "<Figure size 1080x504 with 1 Axes>"
      ]
     },
     "metadata": {
      "needs_background": "light"
     },
     "output_type": "display_data"
    }
   ],
   "source": [
    "plt.figure(figsize=(15, 7))\n",
    "plt.hist(mse_oof_list, density=False, bins=50)\n",
    "plt.title('Зависимость функций потерь от коэффициента регуляризации для Ridge-регрессии', fontsize=14)\n",
    "plt.xlabel('Значение MSE', fontsize=12)\n",
    "plt.ylabel('Количество объектов тренировочной выборки', fontsize=12)\n",
    "plt.show()"
   ]
  },
  {
   "cell_type": "markdown",
   "metadata": {},
   "source": [
    "Видно, что объекты, на которых значение MSE превосходит 20000 - выбросы. Возможно, те объекты, на которых достигается ошибка в пределах $\\in [15000, 20000]$ тоже являются выбросами. Проведем эксперименты:"
   ]
  },
  {
   "cell_type": "code",
   "execution_count": 16,
   "metadata": {
    "scrolled": true
   },
   "outputs": [
    {
     "name": "stdout",
     "output_type": "stream",
     "text": [
      "Кол-во объектов, которые считаются выбросами при MSE > 2051.1:        124\n",
      "Кол-во объектов, которые считаются выбросами при MSE > 3112.1:        93\n",
      "Кол-во объектов, которые считаются выбросами при MSE > 3951.6:        77\n",
      "Кол-во объектов, которые считаются выбросами при MSE > 5121.9:        62\n",
      "Кол-во объектов, которые считаются выбросами при MSE > 6809.0:        47\n",
      "Кол-во объектов, которые считаются выбросами при MSE > 8340.5:        31\n",
      "Кол-во объектов, которые считаются выбросами при MSE > 9224.9:        25\n",
      "Кол-во объектов, которые считаются выбросами при MSE > 10377.0:        19\n",
      "Кол-во объектов, которые считаются выбросами при MSE > 10958.3:        16\n",
      "Кол-во объектов, которые считаются выбросами при MSE > 16869.3:        7\n",
      "Кол-во объектов, которые считаются выбросами при MSE > 18336.6:        4\n",
      "Кол-во объектов, которые считаются выбросами при MSE > 23684.0:        2\n",
      "Кол-во объектов, которые считаются выбросами при MSE > 25282.0:        0\n"
     ]
    }
   ],
   "source": [
    "quantile_list = [0.6, 0.7, 0.75, 0.8, 0.85, 0.9, 0.92, 0.94, 0.95, 0.98, 0.99, 0.995, 1]\n",
    "mse_oof_array = np.array(mse_oof_list)\n",
    "\n",
    "for q in quantile_list:\n",
    "    print(f'Кол-во объектов, которые считаются выбросами при MSE > {np.quantile(mse_oof_array, q=q):.1f}:\\\n",
    "        {np.sum(mse_oof_array > np.quantile(mse_oof_array, q=q))}')"
   ]
  },
  {
   "cell_type": "markdown",
   "metadata": {},
   "source": [
    "Попробуйте удалить объекты-выбросы из обучающей выборки (что считать или не считать выбросами на ваше усмотрение). Обучите модель заново и посмотрите на качество на отложенной выборке (учитывайте, что там тоже могут быть выбросы, с которыми вы ничего не можете сделать). Стало ли лучше? Чем вы можете объяснить это?"
   ]
  },
  {
   "cell_type": "markdown",
   "metadata": {},
   "source": [
    "Сравним качество на всех этих порогах для всех метрик, используя Ridge регрессию со стандартными параметрами."
   ]
  },
  {
   "cell_type": "code",
   "execution_count": 17,
   "metadata": {
    "scrolled": true
   },
   "outputs": [],
   "source": [
    "ridge_model = Ridge()\n",
    "rmse_list = []\n",
    "mae_list = []\n",
    "r2_list = []\n",
    "for q in quantile_list:\n",
    "    train_wout_anomaly_mask = mse_oof_array <= np.quantile(mse_oof_array, q=q)\n",
    "    ridge_model.fit(X_train[train_wout_anomaly_mask], y_train[train_wout_anomaly_mask])\n",
    "    preds = ridge_model.predict(X_test)\n",
    "    rmse_list.append(np.sqrt(mean_squared_error(y_test, preds)))\n",
    "    mae_list.append(mean_absolute_error(y_test, preds))\n",
    "    r2_list.append(r2_score(y_test, preds))"
   ]
  },
  {
   "cell_type": "code",
   "execution_count": 18,
   "metadata": {},
   "outputs": [
    {
     "name": "stdout",
     "output_type": "stream",
     "text": [
      "Минимум RMSE = 58.09 достигается при отбрасывании 16 объектов\n",
      "Минимум MAE = 49.42 достигается при отбрасывании 19 объектов\n",
      "Максимум R^2 = 0.36 достигается при отбрасывании 16 объектов\n"
     ]
    }
   ],
   "source": [
    "print(f'Минимум RMSE = {np.min(rmse_list):.2f} достигается при отбрасывании {np.sum(mse_oof_array > np.quantile(mse_oof_array, q=quantile_list[np.argmin(rmse_list)]))} объектов')\n",
    "print(f'Минимум MAE = {np.min(mae_list):.2f} достигается при отбрасывании {np.sum(mse_oof_array > np.quantile(mse_oof_array, q=quantile_list[np.argmin(mae_list)]))} объектов')\n",
    "print(f'Максимум R^2 = {np.max(r2_list):.2f} достигается при отбрасывании {np.sum(mse_oof_array > np.quantile(mse_oof_array, q=quantile_list[np.argmax(r2_list)]))} объектов')"
   ]
  },
  {
   "cell_type": "markdown",
   "metadata": {},
   "source": [
    "Напомним предыдущие результаты (для стандартных параметров модели):\n",
    "\n",
    "RMSE score: 72.8037\n",
    "\n",
    "MAE score: 59.9321\n",
    "\n",
    "R2 score: 0.0019"
   ]
  },
  {
   "cell_type": "markdown",
   "metadata": {},
   "source": [
    "**Ответ: таким образом, исключение выбросов из тренировочной выборки позволяет повысить качество Ridge регрессии. Это можно объяснить тем, что линейная модель сильно чувствительна к выбросам**"
   ]
  },
  {
   "cell_type": "markdown",
   "metadata": {},
   "source": [
    "## Часть 2. Метод опорных векторов и калибровка вероятностней"
   ]
  },
  {
   "cell_type": "markdown",
   "metadata": {
    "ExecuteTime": {
     "end_time": "2018-10-12T07:36:04.765536Z",
     "start_time": "2018-10-12T07:35:57.814973Z"
    }
   },
   "source": [
    "Сгенерируем синтетические данные."
   ]
  },
  {
   "cell_type": "code",
   "execution_count": 19,
   "metadata": {
    "ExecuteTime": {
     "end_time": "2019-10-16T18:11:50.932537Z",
     "start_time": "2019-10-16T18:11:50.752839Z"
    }
   },
   "outputs": [],
   "source": [
    "X, y = make_classification(\n",
    "    n_samples=100000, n_features=20, n_informative=10, n_redundant=10,\n",
    "    random_state=42)\n",
    "\n",
    "X_train, X_test, y_train, y_test = train_test_split(\n",
    "    X, y, test_size=0.3, random_state=42)"
   ]
  },
  {
   "cell_type": "markdown",
   "metadata": {},
   "source": [
    "__Задание 1.__ Обучение и применение метода опорных векторов.\n",
    "\n",
    "__(1 балл)__\n",
    "\n",
    "Обучите метод опорных векторов. На занятиях мы проходили обычный вариант, что соответствует линейному ядру (LinearSVC/LinearSVR в scikit-learn)."
   ]
  },
  {
   "cell_type": "code",
   "execution_count": 20,
   "metadata": {
    "ExecuteTime": {
     "end_time": "2018-10-11T20:39:43.088969Z",
     "start_time": "2018-10-11T20:39:43.084985Z"
    }
   },
   "outputs": [
    {
     "name": "stdout",
     "output_type": "stream",
     "text": [
      "CPU times: user 9.76 s, sys: 27.9 ms, total: 9.79 s\n",
      "Wall time: 8.64 s\n"
     ]
    },
    {
     "name": "stderr",
     "output_type": "stream",
     "text": [
      "/home/paniquex/anaconda3/lib/python3.7/site-packages/sklearn/svm/base.py:922: ConvergenceWarning: Liblinear failed to converge, increase the number of iterations.\n",
      "  \"the number of iterations.\", ConvergenceWarning)\n"
     ]
    },
    {
     "data": {
      "text/plain": [
       "LinearSVC(C=1.0, class_weight=None, dual=True, fit_intercept=True,\n",
       "          intercept_scaling=1, loss='squared_hinge', max_iter=1000,\n",
       "          multi_class='ovr', penalty='l2', random_state=None, tol=0.0001,\n",
       "          verbose=0)"
      ]
     },
     "execution_count": 20,
     "metadata": {},
     "output_type": "execute_result"
    }
   ],
   "source": [
    "%%time\n",
    "from sklearn.svm import LinearSVC\n",
    "\n",
    "linear_svc = LinearSVC()\n",
    "linear_svc.fit(X_train , y_train)"
   ]
  },
  {
   "cell_type": "markdown",
   "metadata": {},
   "source": [
    "На тестовой части посчитайте ROC-AUC, PR-AUC. Постройте ROC и PR кривые."
   ]
  },
  {
   "cell_type": "code",
   "execution_count": 21,
   "metadata": {},
   "outputs": [
    {
     "name": "stdout",
     "output_type": "stream",
     "text": [
      "0.8462207775235677\n",
      "0.7934328875797702\n"
     ]
    }
   ],
   "source": [
    "from sklearn.metrics import roc_auc_score, roc_curve, average_precision_score, precision_recall_curve\n",
    "\n",
    "preds = linear_svc.predict(X_test)\n",
    "print(roc_auc_score(y_test, preds))\n",
    "print(average_precision_score(y_test, preds))\n"
   ]
  },
  {
   "cell_type": "code",
   "execution_count": 22,
   "metadata": {},
   "outputs": [],
   "source": [
    "def plot_roc_curve(y_true, y_pred, title='', color='green'):\n",
    "    plt.figure(figsize=(6,5))\n",
    "    plt.xlabel(\"False Positive Rate\")\n",
    "    plt.ylabel(\"True Positive Rate (recall)\")\n",
    "    fpr, tpr, _ = roc_curve(y_true, y_pred)\n",
    "    roc_auc = roc_auc_score(y_true, y_pred)\n",
    "    plt.plot(fpr, tpr, label=(\"ROC_AUC=%.2f\" % roc_auc), linewidth=2,\n",
    "    color=color)\n",
    "    plt.title(title)\n",
    "    plt.legend(loc=\"best\")\n",
    "    \n",
    "\n",
    "def plot_pr_curve(y_true, y_pred, title='', color='green'):\n",
    "    plt.figure(figsize=(6,5))\n",
    "    plt.xlabel(\"Recall\")\n",
    "    plt.ylabel(\"Precision\")\n",
    "    precision, recall, _ = precision_recall_curve(y_true, y_pred)\n",
    "    pr_auc = average_precision_score(y_true, y_pred)\n",
    "    plt.plot(recall, precision, label=(\"PR_AUC=%.2f\" % pr_auc), linewidth=2,\n",
    "    color=color)\n",
    "    plt.title(title)\n",
    "    plt.xlim(-0.05, 1.05)\n",
    "    plt.legend(loc=\"best\")\n",
    "    "
   ]
  },
  {
   "cell_type": "code",
   "execution_count": 23,
   "metadata": {},
   "outputs": [
    {
     "data": {
      "image/png": "[encoded data removed]",
      "text/plain": [
       "<Figure size 432x360 with 1 Axes>"
      ]
     },
     "metadata": {
      "needs_background": "light"
     },
     "output_type": "display_data"
    }
   ],
   "source": [
    "plot_roc_curve(y_test, preds, title='ROC-кривая для тестовой выборки')"
   ]
  },
  {
   "cell_type": "code",
   "execution_count": 24,
   "metadata": {},
   "outputs": [
    {
     "data": {
      "image/png": "[encoded data removed]",
      "text/plain": [
       "<Figure size 432x360 with 1 Axes>"
      ]
     },
     "metadata": {
      "needs_background": "light"
     },
     "output_type": "display_data"
    }
   ],
   "source": [
    "plot_pr_curve(y_test, preds, title='PR-кривая для тестовой выборки')"
   ]
  },
  {
   "cell_type": "markdown",
   "metadata": {},
   "source": [
    "В названии метода присутствуют некоторые \"опорные векторы\". Сгенерируйте синтетический датасет с помощью make_classification с 2 признаками, обучите на нём метод опорных векторов. Визуализируйте разделяющую прямую, все объекты и выделите опорные вектора (атрибут support\\_vectors\\_). В этот раз вместо LinearSVC воспользуйтесь SVC с линейным ядром (kernel='linear'), так как только в нём есть информация об опорных векторах.\n",
    "\n",
    "Графики должны быть оформлены правильно, в соответствии с теми требованиями, которые были в первой лабороторной. Так же опорные вектора следует рисовать не другим цветом, а другой меткой (например, крестик), иначе теряется принадлежность к классу. "
   ]
  },
  {
   "cell_type": "code",
   "execution_count": 25,
   "metadata": {},
   "outputs": [],
   "source": [
    "from sklearn.svm import SVC\n",
    "\n",
    "X, y = make_classification(\n",
    "    n_samples=100, n_features=2, n_informative=2, n_redundant=0,\n",
    "    random_state=13)\n",
    "\n",
    "\n",
    "linear_svc = SVC(kernel='linear')"
   ]
  },
  {
   "cell_type": "code",
   "execution_count": 26,
   "metadata": {},
   "outputs": [
    {
     "name": "stdout",
     "output_type": "stream",
     "text": [
      "CPU times: user 803 µs, sys: 0 ns, total: 803 µs\n",
      "Wall time: 700 µs\n"
     ]
    },
    {
     "data": {
      "text/plain": [
       "SVC(C=1.0, cache_size=200, class_weight=None, coef0=0.0,\n",
       "  decision_function_shape='ovr', degree=3, gamma='auto_deprecated',\n",
       "  kernel='linear', max_iter=-1, probability=False, random_state=None,\n",
       "  shrinking=True, tol=0.001, verbose=False)"
      ]
     },
     "execution_count": 26,
     "metadata": {},
     "output_type": "execute_result"
    }
   ],
   "source": [
    "%%time\n",
    "linear_svc.fit(X, y)"
   ]
  },
  {
   "cell_type": "code",
   "execution_count": 27,
   "metadata": {},
   "outputs": [
    {
     "data": {
      "text/plain": [
       "((100, 2), (100,))"
      ]
     },
     "execution_count": 27,
     "metadata": {},
     "output_type": "execute_result"
    }
   ],
   "source": [
    "X.shape, y.shape"
   ]
  },
  {
   "cell_type": "code",
   "execution_count": 28,
   "metadata": {},
   "outputs": [],
   "source": [
    "def plot_svc_decision_function(model, data, y_data):\n",
    "    ax = plt.gca()\n",
    "    xlim = ax.get_xlim()\n",
    "    ylim = ax.get_ylim()\n",
    "    \n",
    "    \n",
    "    x = np.linspace(xlim[0], xlim[1], 30)\n",
    "    y = np.linspace(ylim[0], ylim[1], 30)\n",
    "    Y, X = np.meshgrid(y, x)\n",
    "    xy = np.vstack([X.ravel(), Y.ravel()]).T\n",
    "    P = model.decision_function(xy).reshape(X.shape)\n",
    "    \n",
    "\n",
    "    ax.contour(X, Y, P, colors='black',\n",
    "               levels=[-1, 0, 1],\n",
    "               linestyles=['--', '-', '--'])\n",
    "    ax.legend(['s'])\n",
    "    \n",
    "    \n",
    "    plt.scatter(x=model.support_vectors_[:, 0],\n",
    "                    y=model.support_vectors_[:, 1],\n",
    "                    s=25,\n",
    "                    marker=\"x\",\n",
    "                    color='yellow',\n",
    "                    linewidth=2,\n",
    "                    label='опорные вектора')\n",
    "    ax.set_xlim(xlim)\n",
    "    ax.set_ylim(ylim)"
   ]
  },
  {
   "cell_type": "code",
   "execution_count": 29,
   "metadata": {},
   "outputs": [
    {
     "data": {
      "image/png": "[encoded data removed]",
      "text/plain": [
       "<Figure size 432x288 with 1 Axes>"
      ]
     },
     "metadata": {
      "needs_background": "light"
     },
     "output_type": "display_data"
    }
   ],
   "source": [
    "sns.scatterplot(X[:, 0], X[:, 1], hue=y, s=150, label=None)\n",
    "plot_svc_decision_function(linear_svc, data=X, y_data=y)\n",
    "\n",
    "plt.legend()\n",
    "plt.title('Визуализация разделяющей прямой метода опорных векторов')\n",
    "plt.show()"
   ]
  },
  {
   "cell_type": "markdown",
   "metadata": {},
   "source": [
    "__Задание 2.__ Калибровка вероятностей.\n",
    "\n",
    "__(1.5 балла)__\n",
    "\n",
    "Перейдём к оценке качества выдаваемых алгоритмами вероятностей. Начнём с калибровочных кривых. \n",
    "\n",
    "Допустим, алгоритм возвращает некоторые числа от нуля до единицы. Хорошо ли они оценивают вероятность? Для этого разобьем отрезок $[0, 1]$ на несколько маленьких отрезков одинаковой длины. Рассмотрим $i$-й отрезок с границами $[a_i, b_i]$ и предсказания $p_1, p_2, \\dots, p_k$, которые попали в него. Пусть им соответствуют истинные ответы $y_1, y_2, \\dots, y_k$. Если алгоритм выдает корректные вероятности, то среди этих истинных ответов должно быть примерно $(a_i + b_i) / 2$ единиц. Иными словами, если нарисовать кривую, у которой по оси X отложены центры отрезков, а по оси Y — доли единичных ответов этих в отрезках, то она должна оказаться диагональной. Ниже приведена функция, которая должна рисовать такие кривые. В ней допущено две ошибки — найдите и исправьте их."
   ]
  },
  {
   "cell_type": "code",
   "execution_count": 30,
   "metadata": {},
   "outputs": [],
   "source": [
    "def plot_calibration_curve(y_test, preds):\n",
    "    bin_middle_points = []\n",
    "    bin_real_ratios = []\n",
    "    n_bins = 20\n",
    "    for i in range(n_bins):\n",
    "        l = 1.0 / n_bins * i\n",
    "        r = 1.0 / n_bins * (i + 1)\n",
    "        bin_middle_points.append((l + r) / 2)\n",
    "        bin_real_ratios.append(np.mean(y_test[(preds >= l) & (preds < r)]))\n",
    "    plt.plot(bin_middle_points, bin_real_ratios)"
   ]
  },
  {
   "cell_type": "markdown",
   "metadata": {},
   "source": [
    "Постройте калибровочные кривые для логистической регрессии и метода опорных векторов. Изучите распределение ответов классификаторов (постройте гистограммы с помощью plt.hist). Чем они различаются? Чем вы можете объяснить это?\n",
    "\n",
    "Заметим, что метод опорных векторов не умеет predict_proba, но имеет метод decision_function."
   ]
  },
  {
   "cell_type": "code",
   "execution_count": 31,
   "metadata": {},
   "outputs": [],
   "source": [
    "X, y = make_classification(\n",
    "    n_samples=20000, n_features=20, n_informative=10, n_redundant=10,\n",
    "    random_state=42)\n",
    "\n",
    "X_train, X_test, y_train, y_test = train_test_split(\n",
    "    X, y, test_size=0.3, random_state=42)"
   ]
  },
  {
   "cell_type": "code",
   "execution_count": 32,
   "metadata": {},
   "outputs": [],
   "source": [
    "from sklearn.linear_model import LogisticRegression\n",
    "\n",
    "linear_svc = SVC(kernel='linear', probability=True)\n",
    "logistic_regr = LogisticRegression()"
   ]
  },
  {
   "cell_type": "code",
   "execution_count": 33,
   "metadata": {},
   "outputs": [
    {
     "name": "stdout",
     "output_type": "stream",
     "text": [
      "CPU times: user 1min 4s, sys: 172 ms, total: 1min 5s\n",
      "Wall time: 1min 3s\n"
     ]
    }
   ],
   "source": [
    "%%time\n",
    "linear_svc.fit(X_train, y_train)\n",
    "preds_svc = linear_svc.predict_proba(X_test)"
   ]
  },
  {
   "cell_type": "code",
   "execution_count": 34,
   "metadata": {},
   "outputs": [
    {
     "name": "stdout",
     "output_type": "stream",
     "text": [
      "CPU times: user 59.1 ms, sys: 14 µs, total: 59.1 ms\n",
      "Wall time: 58.4 ms\n"
     ]
    },
    {
     "name": "stderr",
     "output_type": "stream",
     "text": [
      "/home/paniquex/anaconda3/lib/python3.7/site-packages/sklearn/linear_model/logistic.py:433: FutureWarning: Default solver will be changed to 'lbfgs' in 0.22. Specify a solver to silence this warning.\n",
      "  FutureWarning)\n"
     ]
    }
   ],
   "source": [
    "%%time\n",
    "logistic_regr.fit(X_train, y_train)\n",
    "preds_logistic = logistic_regr.predict_proba(X_test)"
   ]
  },
  {
   "cell_type": "code",
   "execution_count": 35,
   "metadata": {},
   "outputs": [
    {
     "data": {
      "image/png": "[encoded data removed]",
      "text/plain": [
       "<Figure size 432x288 with 1 Axes>"
      ]
     },
     "metadata": {
      "needs_background": "light"
     },
     "output_type": "display_data"
    }
   ],
   "source": [
    "plt.hist(np.vstack([preds_svc[:, 1], preds_logistic[:, 1]]).reshape(-1, 2), 11)\n",
    "\n",
    "plt.title('Распределение ответов алгоритмов')\n",
    "\n",
    "plt.xticks([0., 0.1, 0.2, 0.3, 0.4, 0.5, 0.6, 0.7, 0.8, 0.9, 1.0] - np.arange(11) / 200 + 0.01,\n",
    "           [0., 0.1, 0.2, 0.3, 0.4, 0.5, 0.6, 0.7, 0.8, 0.9, 1.0])\n",
    "plt.legend(['Метод опорных векторов', 'Логистическая регрессия'])\n",
    "plt.xlabel('Вероятность принадлежности объекта к первому классу')\n",
    "plt.ylabel('Количество объектов')\n",
    "plt.semilogy()\n",
    "\n",
    "plt.show()"
   ]
  },
  {
   "cell_type": "markdown",
   "metadata": {},
   "source": [
    "Из двух гистограмм, представленных выше видно. что"
   ]
  },
  {
   "cell_type": "code",
   "execution_count": 36,
   "metadata": {},
   "outputs": [
    {
     "data": {
      "image/png": "[encoded data removed]",
      "text/plain": [
       "<Figure size 432x288 with 1 Axes>"
      ]
     },
     "metadata": {
      "needs_background": "light"
     },
     "output_type": "display_data"
    }
   ],
   "source": [
    "plot_calibration_curve(y_test, preds_logistic[:, 1])\n",
    "plot_calibration_curve(y_test, preds_svc[:, 1])\n",
    "plt.title('Калибровочные кривые')\n",
    "plt.legend(['Логистическая регрессия', 'Метод опорных векторов'])\n",
    "plt.show()"
   ]
  },
  {
   "cell_type": "markdown",
   "metadata": {},
   "source": [
    "Воспользуйтесь CalibratedClassifierCV из sklearn для калибровки вероятностей метода опорных векторов на обучении и постройте с его помощью предсказания для тестовой выборки. Нарисуйте для них калибровочную кривую. Улучшилась ли она?"
   ]
  },
  {
   "cell_type": "code",
   "execution_count": 37,
   "metadata": {},
   "outputs": [],
   "source": [
    "from sklearn.calibration import CalibratedClassifierCV\n",
    "\n",
    "calibr_classifier = CalibratedClassifierCV(linear_svc, cv=kfold)"
   ]
  },
  {
   "cell_type": "code",
   "execution_count": 38,
   "metadata": {},
   "outputs": [
    {
     "data": {
      "text/plain": [
       "CalibratedClassifierCV(base_estimator=SVC(C=1.0, cache_size=200, class_weight=None, coef0=0.0,\n",
       "  decision_function_shape='ovr', degree=3, gamma='auto_deprecated',\n",
       "  kernel='linear', max_iter=-1, probability=True, random_state=None,\n",
       "  shrinking=True, tol=0.001, verbose=False),\n",
       "            cv=KFold(n_splits=5, random_state=None, shuffle=False),\n",
       "            method='sigmoid')"
      ]
     },
     "execution_count": 38,
     "metadata": {},
     "output_type": "execute_result"
    }
   ],
   "source": [
    "calibr_classifier.fit(X_train, y_train)"
   ]
  },
  {
   "cell_type": "code",
   "execution_count": 39,
   "metadata": {},
   "outputs": [],
   "source": [
    "preds_svc_calibrated = calibr_classifier.predict_proba(X_test)"
   ]
  },
  {
   "cell_type": "code",
   "execution_count": 40,
   "metadata": {
    "scrolled": true
   },
   "outputs": [
    {
     "data": {
      "image/png": "[encoded data removed]",
      "text/plain": [
       "<Figure size 432x288 with 1 Axes>"
      ]
     },
     "metadata": {
      "needs_background": "light"
     },
     "output_type": "display_data"
    }
   ],
   "source": [
    "plot_calibration_curve(y_test, preds_svc[:, 1])\n",
    "plot_calibration_curve(y_test, preds_svc_calibrated[:, 1])\n",
    "plt.plot([0, 1], [0, 1], label='x = y')\n",
    "plt.title('Калибровочные кривые для метода опорных векторов')\n",
    "plt.legend(['До калибровки', 'После калибровки', 'y=x'])\n",
    "plt.show()\n"
   ]
  },
  {
   "cell_type": "markdown",
   "metadata": {},
   "source": [
    "Как видно из представленного графика - калибровочная кривая практически не изменилась. Это говорит о том, что SVM изначально выдал хорошие вероятности для данного теста."
   ]
  },
  {
   "cell_type": "markdown",
   "metadata": {},
   "source": [
    "__Бонусное задание (1 балл).__ Реализуйте свою функцию для калибровки вероятностей. Опишите ваш подход и продемонстрируйте результаты."
   ]
  },
  {
   "cell_type": "code",
   "execution_count": 41,
   "metadata": {},
   "outputs": [],
   "source": [
    "from sklearn.linear_model import LogisticRegression\n",
    "\n",
    "linear_svc = SVC(kernel='linear', probability=True)\n",
    "logistic_regr = LogisticRegression()"
   ]
  },
  {
   "cell_type": "code",
   "execution_count": null,
   "metadata": {},
   "outputs": [],
   "source": [
    "%%time\n",
    "linear_svc.fit(X_train, y_train)\n"
   ]
  },
  {
   "cell_type": "code",
   "execution_count": null,
   "metadata": {},
   "outputs": [],
   "source": [
    "preds_svc = linear_svc.predict(X_test)\n",
    "\n",
    "import scipy\n",
    "\n",
    "plot_calibration_curve(y_test, scipy.special.softmax(linear_svc.decision_function(X_test)))\n",
    "plt.plot([0, 1], [0, 1], label='x = y')\n"
   ]
  },
  {
   "cell_type": "code",
   "execution_count": null,
   "metadata": {},
   "outputs": [],
   "source": [
    "scipy.special.softmax(linear_svc.decision_function(X_test))"
   ]
  },
  {
   "cell_type": "code",
   "execution_count": null,
   "metadata": {},
   "outputs": [],
   "source": [
    "linear_svc.decision_function(X_test)"
   ]
  },
  {
   "cell_type": "code",
   "execution_count": null,
   "metadata": {},
   "outputs": [],
   "source": [
    "preds_svc"
   ]
  },
  {
   "cell_type": "markdown",
   "metadata": {},
   "source": [
    "## Часть 3. Логистическая регрессия."
   ]
  },
  {
   "cell_type": "markdown",
   "metadata": {},
   "source": [
    "__Задание 3.__ Обучение логистической регрессии на реальных данных и оценка качества классификации.\n",
    "\n",
    "**(0.5 балл)**"
   ]
  },
  {
   "cell_type": "markdown",
   "metadata": {
    "ExecuteTime": {
     "end_time": "2018-10-11T20:41:54.913436Z",
     "start_time": "2018-10-11T20:41:54.907515Z"
    }
   },
   "source": [
    "__Подготовка данных.__\n",
    "\n",
    "Загрузим данные с конкурса  [Kaggle Porto Seguro’s Safe Driver Prediction](https://www.kaggle.com/c/porto-seguro-safe-driver-prediction) (вам нужна только обучающая выборка). Задача состоит в определении водителей, которые в ближайший год воспользуются своей автомобильной страховкой (бинарная классификация). Но для нас важна будет не сама задача, а только её данные. При этом под нужды задания мы немного модифицируем датасет."
   ]
  },
  {
   "cell_type": "code",
   "execution_count": null,
   "metadata": {
    "ExecuteTime": {
     "end_time": "2018-10-12T07:36:04.765536Z",
     "start_time": "2018-10-12T07:35:57.814973Z"
    }
   },
   "outputs": [],
   "source": [
    "data = pd.read_csv('./data_logistic/train.csv', index_col=0)\n",
    "target = data.target.values\n",
    "data = data.drop('target', axis=1)"
   ]
  },
  {
   "cell_type": "markdown",
   "metadata": {},
   "source": [
    "Пересемплируем выборку так, чтобы положительных и отрицательных объектов в выборке было одинаковое число. Разделим на обучающую и тестовую выборки.\n"
   ]
  },
  {
   "cell_type": "code",
   "execution_count": null,
   "metadata": {
    "ExecuteTime": {
     "end_time": "2018-10-12T07:36:05.368407Z",
     "start_time": "2018-10-12T07:36:04.770388Z"
    }
   },
   "outputs": [],
   "source": [
    "# some resampling\n",
    "np.random.seed(910)\n",
    "mask_plus = np.random.choice(np.where(target == 1)[0], 100000, replace=True)\n",
    "mask_zero = np.random.choice(np.where(target == 0)[0], 100000, replace=True)\n",
    "\n",
    "data = pd.concat((data.iloc[mask_plus], data.iloc[mask_zero]))\n",
    "target = np.hstack((target[mask_plus], target[mask_zero]))\n",
    "\n",
    "X_train, X_test, y_train, y_test = train_test_split(data, target, test_size=0.5)"
   ]
  },
  {
   "cell_type": "markdown",
   "metadata": {},
   "source": [
    "Обучите логистическую регрессию с удобными для вас параметрами. Сделайте предсказание на тестовой части выборки."
   ]
  },
  {
   "cell_type": "code",
   "execution_count": null,
   "metadata": {},
   "outputs": [],
   "source": [
    "from sklearn.linear_model import LogisticRegression\n",
    "\n",
    "log_reg = LogisticRegression(solver='sag')\n",
    "log_reg.fit(X_train, y_train)"
   ]
  },
  {
   "cell_type": "code",
   "execution_count": null,
   "metadata": {},
   "outputs": [],
   "source": [
    "preds = log_reg.predict_proba(X_test)"
   ]
  },
  {
   "cell_type": "markdown",
   "metadata": {},
   "source": [
    "Постройку ROC-кривую и Precision-Recall-кривую, посчитайте ROC-AUC и PR-AUC. Какие наблюдения и выводы по ним можно сделать? (В свободной форме)"
   ]
  },
  {
   "cell_type": "code",
   "execution_count": null,
   "metadata": {},
   "outputs": [],
   "source": [
    "plot_roc_curve(y_test, preds[:, 1], title='ROC-кривая для логистической регрессии')\n",
    "plt.plot([0, 1], [0, 1])\n",
    "plt.legend(['Логистическая регрессия', 'Random-классификатор'])"
   ]
  },
  {
   "cell_type": "code",
   "execution_count": null,
   "metadata": {},
   "outputs": [],
   "source": [
    "plot_pr_curve(y_test, preds[:, 1], title='PR-кривая для логистической регрессии')\n",
    "plt.plot([0, 1], [0.5, 0.5])\n",
    "plt.legend(['Логистическая регрессия', 'Random-классификатор'])\n",
    "plt.ylim(-0.05, 1.1)"
   ]
  },
  {
   "cell_type": "markdown",
   "metadata": {},
   "source": [
    "**Ответ: По данным кривым видно и значениям площадей видно, что модель имеет достаточно плохое качество.**"
   ]
  },
  {
   "cell_type": "markdown",
   "metadata": {},
   "source": [
    "__Задание 4.__ Изучение влияния регуляризатора на процесс обучения\n",
    "\n",
    "__(1 балл)__\n",
    "\n",
    "Проверьте на практике, как влияет регуляризатор на процесс обучения (убывание функции потерь на обучающей и отложенной выборках). Чтобы считать функцию потерь на отложенной выборке после каждой итерации, можно воспользоваться параметром `warm_start` у `sklearn.linear_model.LogisticRegression` либо методом `partial_fit` `sklearn.linear_model.SGDClassifier` (параметр `loss` тогда должен быть равен `log`)."
   ]
  },
  {
   "cell_type": "code",
   "execution_count": null,
   "metadata": {},
   "outputs": [],
   "source": [
    "from sklearn.metrics import log_loss\n",
    "from sklearn.linear_model import SGDClassifier\n",
    "import tqdm\n",
    "\n",
    "l2_values_list = [0.0001, 0.001, 0.01, 0.1, 0.5, 1, 10, 20, 50, 75, 100, 1000]\n",
    "iter_amount = 100\n",
    "fig = plt.figure(figsize=(20, 10))\n",
    "ax_list = [fig.add_subplot(2, len(l2_values_list) / 2, i + 1) for i in range(len(l2_values_list))]\n",
    "\n",
    "for i, l2_value in enumerate(l2_values_list):\n",
    "    loss_values_valid = [] \n",
    "    loss_values_train = []\n",
    "    log_reg = SGDClassifier(alpha=l2_value, loss='log', warm_start=True, n_jobs=-1)\n",
    "    log_reg.partial_fit(X_train, y_train, classes=[0, 1])\n",
    "    \n",
    "    for j in range(iter_amount):\n",
    "        log_reg.partial_fit(X_train, y_train)\n",
    "        loss_values_valid.append(log_loss(y_test, log_reg.predict(X_test)))\n",
    "        loss_values_train.append(log_loss(y_train, log_reg.predict(X_train)))\n",
    "    if i % 4 == 0:\n",
    "        ax_list[i].set_ylabel('Значение лосс-функции')\n",
    "    if i >= (len(l2_values_list) - 4):\n",
    "        ax_list[i].set_xlabel('Номер эпохи')\n",
    "    ax_list[i].plot(loss_values_train, label='train_loss')\n",
    "    ax_list[i].plot(loss_values_valid, label='test_loss')\n",
    "    ax_list[i].set_title(f'Кривые обучения для alpha={l2_value}')\n",
    "    ax_list[i].semilogy()\n",
    "    \n",
    "\n",
    "plt.tight_layout()\n",
    "plt.legend()\n",
    "plt.show()"
   ]
  },
  {
   "cell_type": "markdown",
   "metadata": {},
   "source": [
    "По приведенным выше графикам видно, что при малых значениях коэффициента регуляризации кривые обучения ведут себя очень не стабильно: значение лосс функции колеблется в большом диапозоне.\n",
    "\n",
    "Если же взять слишком большой коэффициент, то значение лосса перестает меняться совсем (при `alpha=1000`)\n",
    "\n",
    "Видно, что при `alpha=1` - лосс на тренировочной выборке ниже, чем на тестовой, а при `alpha=10` ситуация меняется. Рассмотрим подробнее значения из диапазона: `[1, 10]`"
   ]
  },
  {
   "cell_type": "code",
   "execution_count": null,
   "metadata": {},
   "outputs": [],
   "source": [
    "from sklearn.metrics import log_loss\n",
    "from sklearn.linear_model import SGDClassifier\n",
    "import tqdm\n",
    "\n",
    "l2_values_list = list(range(1, 11))#[0.0001, 0.001, 0.01, 0.1, 0.5, 1, 10, 20, 50, 75, 100, 1000]\n",
    "iter_amount = 100\n",
    "fig = plt.figure(figsize=(20, 10))\n",
    "ax_list = [fig.add_subplot(2, len(l2_values_list) / 2, i + 1) for i in range(len(l2_values_list))]\n",
    "\n",
    "for i, l2_value in enumerate(l2_values_list):\n",
    "    loss_values_valid = [] \n",
    "    loss_values_train = []\n",
    "    log_reg = SGDClassifier(alpha=l2_value, loss='log', warm_start=True, n_jobs=-1)\n",
    "    log_reg.partial_fit(X_train, y_train, classes=[0, 1])\n",
    "    \n",
    "    for j in range(iter_amount):\n",
    "        log_reg.partial_fit(X_train, y_train)\n",
    "        loss_values_valid.append(log_loss(y_test, log_reg.predict(X_test)))\n",
    "        loss_values_train.append(log_loss(y_train, log_reg.predict(X_train)))\n",
    "    if i % 4 == 0:\n",
    "        ax_list[i].set_ylabel('Значение лосс-функции')\n",
    "    if i >= (len(l2_values_list) - 4):\n",
    "        ax_list[i].set_xlabel('Номер эпохи')\n",
    "    ax_list[i].plot(loss_values_train, label='train_loss')\n",
    "    ax_list[i].plot(loss_values_valid, label='test_loss')\n",
    "    ax_list[i].set_title(f'Кривые обучения для alpha={l2_value}')\n",
    "    ax_list[i].semilogy()\n",
    "    \n",
    "\n",
    "plt.tight_layout()\n",
    "plt.legend()\n",
    "plt.show()"
   ]
  },
  {
   "cell_type": "markdown",
   "metadata": {},
   "source": [
    "Видно, что при возрастании `alpha` значение лосс-функции на тренировочной выборке становится больше, чем значение лосс-функции на тестовой выборке."
   ]
  },
  {
   "cell_type": "markdown",
   "metadata": {},
   "source": [
    "## Часть 4. Работа с категориальными переменными"
   ]
  },
  {
   "cell_type": "markdown",
   "metadata": {},
   "source": [
    "В этой части мы научимся обрабатывать категориальные переменные, так как закодировать их в виде чисел недостаточно (это задаёт некоторый порядок, которого на категориальных переменных может и не быть). Существует два основных способа обработки категориальных значений:\n",
    "- One-hot-кодирование\n",
    "- Счётчики (CTR, mean-target кодирование, ...) — каждый категориальный признак заменяется на среднее значение целевой переменной по всем объектам, имеющим одинаковое значение в этом признаке.\n",
    "\n",
    "Начнём с one-hot-кодирования. Допустим наш категориальный признак $f_j(x)$ принимает значения из множества $C=\\{c_1, \\dots, c_m\\}$. Заменим его на $m$ бинарных признаков $b_1(x), \\dots, b_m(x)$, каждый из которых является индикатором одного из возможных категориальных значений:\n",
    "$$\n",
    "b_i(x) = [f_j(x) = c_i]\n",
    "$$"
   ]
  },
  {
   "cell_type": "markdown",
   "metadata": {},
   "source": [
    "__Задание 5.__ Посчитайте качество (в этом задании будем работать c ROC-AUC) на исходных признаках при применении логистической регрессии.\n",
    "\n",
    "__(0 баллов)__"
   ]
  },
  {
   "cell_type": "code",
   "execution_count": null,
   "metadata": {},
   "outputs": [],
   "source": [
    "%%time\n",
    "from sklearn.metrics import roc_auc_score\n",
    "\n",
    "X_train, X_test, y_train, y_test = train_test_split(data, target, test_size=0.5)\n",
    "log_reg = LogisticRegression(max_iter=1000, solver='sag', n_jobs=16)\n",
    "log_reg.fit(X_train, y_train)"
   ]
  },
  {
   "cell_type": "code",
   "execution_count": null,
   "metadata": {},
   "outputs": [],
   "source": [
    "preds = log_reg.predict_proba(X_test)\n",
    "roc_auc_score(y_test, preds[:, 1])"
   ]
  },
  {
   "cell_type": "markdown",
   "metadata": {},
   "source": [
    "__Задание 6.__ Закодируйте все категориальные признаки с помощью one-hot-кодирования. Обучите логистическую регрессию и посмотрите, как изменилось качество модели (с тем, что было до кодирования). Измерьте время, потребовавшееся на обучение модели.\n",
    "\n",
    "__(0.5 балла)__"
   ]
  },
  {
   "cell_type": "markdown",
   "metadata": {},
   "source": [
    "Считаем, что категориальные признаки - те признаки, у которых есть приписка 'cat' на конце."
   ]
  },
  {
   "cell_type": "code",
   "execution_count": null,
   "metadata": {},
   "outputs": [],
   "source": [
    "def detect_cat_features(data):\n",
    "    all_columns = data.columns\n",
    "    return [cat_columns for cat_columns in all_columns if 'cat' == cat_columns[-3:]]\n",
    "\n",
    "\n",
    "def one_hot_encoding(data):\n",
    "    cat_columns = detect_cat_features(data)\n",
    "    data_ohe = data.copy()\n",
    "    for cat_column in cat_columns:\n",
    "        unique_values = data_ohe[cat_column].unique()\n",
    "        for unique_value in unique_values:\n",
    "            data_ohe[cat_column + '_' + str(unique_value)] = data_ohe[cat_column] == unique_value\n",
    "            data_ohe[cat_column + '_' + str(unique_value)] =\\\n",
    "                data_ohe[cat_column + '_' + str(unique_value)].map({True: 1, False: 0})\n",
    "    return data_ohe.drop(columns=cat_columns)"
   ]
  },
  {
   "cell_type": "code",
   "execution_count": null,
   "metadata": {},
   "outputs": [],
   "source": [
    "%%time\n",
    "one_hot_encoding(data).head()"
   ]
  },
  {
   "cell_type": "code",
   "execution_count": null,
   "metadata": {},
   "outputs": [],
   "source": [
    "data_ohe = one_hot_encoding(data)\n",
    "X_train, X_test, y_train, y_test = train_test_split(data_ohe, target, test_size=0.5)"
   ]
  },
  {
   "cell_type": "code",
   "execution_count": null,
   "metadata": {},
   "outputs": [],
   "source": [
    "%%time\n",
    "log_reg.fit(X_train, y_train)"
   ]
  },
  {
   "cell_type": "code",
   "execution_count": null,
   "metadata": {},
   "outputs": [],
   "source": [
    "preds = log_reg.predict_proba(X_test)\n",
    "roc_auc_score(y_test, preds[:, 1])"
   ]
  },
  {
   "cell_type": "markdown",
   "metadata": {},
   "source": [
    "Видно, что время, затрачиваемое на обучение увеличилось ~ в 2 раза, а ROC_AUC на 0.01."
   ]
  },
  {
   "cell_type": "markdown",
   "metadata": {},
   "source": [
    "Как можно было заметить, one-hot-кодирование может сильно увеличивать количество признаков в датасете, что сказывается на памяти, особенно, если некоторый признак имеет большое количество значений. Эту проблему решает другой способ кодирование категориальных признаков — счётчики. Основная идея в том, что нам важны не сами категории, а значения целевой переменной, которые имеют объекты этой категории. Каждый категориальный признак мы заменим средним значением целевой переменной по всем объектам этой же категории:\n",
    "$$\n",
    "g_j(x, X) = \\frac{\\sum_{i=1}^{l} [f_j(x) = f_j(x_i)][y_i = +1]}{\\sum_{i=1}^{l} [f_j(x) = f_j(x_i)]}\n",
    "$$"
   ]
  },
  {
   "cell_type": "markdown",
   "metadata": {},
   "source": [
    "Отметим, что такие признаки сами по себе являются классификаторами и, обучаясь на них, мы допускаем \"утечку\" целевой переменной в признаки. Это ведёт к переобучению, поэтому считать такие признаки необходимо таким образом, чтобы при вычислении для конкретного объекта его целевая метка не использовалась. Это можно делать следующими способами:\n",
    "1. Вычислять значение счётчика по всем объектам расположенным выше в датасете (например, если у нас выборка отсортирована по времени).\n",
    "2. Вычислять по фолдам, то есть делить выборку на некоторое количество частей и подсчитывать значение признаков по всем фолдам кроме текущего (как делается в кросс-валидации).\n",
    "3. Внесение некоторого шума в посчитанные признаки. \n",
    "\n",
    "__(Бонусная часть)__ Закодируйте категориальные переменные с помощью счётчиков (ровно так, как описано выше без каких-либо хитростей). Реализуйте корректное вычисление счётчиков самым простым способом — добавление шума к значениям (необходимо соблюсти баланс между избавление от переобучения и полезностью признаков). Снова обучите логистическую регрессию, оцените качество. Сделайте выводы. Не забудьте замерить время.\n",
    "\n",
    "__(+0.5 балл)__"
   ]
  },
  {
   "cell_type": "code",
   "execution_count": null,
   "metadata": {},
   "outputs": [],
   "source": [
    "def counters_with_noise(data, y, noise_mean, noise_std):\n",
    "    cat_columns = detect_cat_features(data)\n",
    "    data_counters = data.copy()\n",
    "    for cat_column in cat_columns:\n",
    "        cross_tab_values = pd.crosstab(data_counters[cat_column],\n",
    "                                       columns=y,\n",
    "                                       colnames=['target'])\n",
    "        new_column = data_counters[cat_column].copy().values\n",
    "        for unique_value in data_counters[cat_column].unique():\n",
    "\n",
    "            counter_value = cross_tab_values.loc[unique_value, 1] / cross_tab_values.loc[unique_value, :].sum()\n",
    "            new_column = np.where(data_counters[cat_column] == unique_value,\n",
    "                                  counter_value + np.random.normal(noise_mean, noise_std, new_column.shape[0]),\n",
    "                                  new_column)\n",
    "        data_counters[cat_column + '_counter_with_noise'] = new_column\n",
    "    return data_counters.drop(columns=cat_columns)"
   ]
  },
  {
   "cell_type": "markdown",
   "metadata": {},
   "source": [
    "Вычислим счетчики, добавив к ним шум из  $N\\left(\\mu, \\sigma^2\\right)$ (нормальное распределение с $\\mu = 0, \\sigma^2 = 1$ "
   ]
  },
  {
   "cell_type": "code",
   "execution_count": null,
   "metadata": {},
   "outputs": [],
   "source": [
    "%%time\n",
    "\n",
    "data_counters = counters_with_noise(data, target, 0, 1)"
   ]
  },
  {
   "cell_type": "code",
   "execution_count": null,
   "metadata": {},
   "outputs": [],
   "source": [
    "%%time\n",
    "\n",
    "X_train, X_test, y_train, y_test = train_test_split(data_counters, target, test_size=0.5)\n",
    "log_reg = LogisticRegression(max_iter=1000, solver='sag', n_jobs=16)\n",
    "log_reg.fit(X_train, y_train)"
   ]
  },
  {
   "cell_type": "code",
   "execution_count": null,
   "metadata": {},
   "outputs": [],
   "source": [
    "preds = log_reg.predict_proba(X_test)\n",
    "roc_auc_score(y_test, preds[:, 1])"
   ]
  },
  {
   "cell_type": "markdown",
   "metadata": {},
   "source": [
    "Подберем значение стандартного отклонения для шума:"
   ]
  },
  {
   "cell_type": "code",
   "execution_count": null,
   "metadata": {},
   "outputs": [],
   "source": [
    "import time\n",
    "std_list = [0, 1e-5, 1e-3, 1e-2, 1e-1, 5e-1, 1, 100]\n",
    "\n",
    "for std_val in std_list:\n",
    "    start_time = time.time()\n",
    "    data_counters = counters_with_noise(data, target, 0, std_val)\n",
    "    X_train, X_test, y_train, y_test = train_test_split(data_counters, target, test_size=0.5)\n",
    "    log_reg = LogisticRegression(max_iter=1000, solver='sag', n_jobs=16)\n",
    "    log_reg.fit(X_train, y_train)\n",
    "    preds = log_reg.predict_proba(X_test)\n",
    "    \n",
    "    print(f'std={std_val}, ROC_AUC={roc_auc_score(y_test, preds[:, 1])}, time={time.time() - start_time}')"
   ]
  },
  {
   "cell_type": "markdown",
   "metadata": {},
   "source": [
    "**Ответ: Теперь обучение проходит быстрее медленнее всего в ~1.5 раза, чем на неизмененном датасете, при этом значение ROC_AUC снова превосходит изначальное значение, но немного хуже, чем при применении one_hot_encoding. Оптимальное значение стандартного отклонения у шума - 0.001, так как при больших значениях уже происходит потеря информации.**"
   ]
  },
  {
   "cell_type": "markdown",
   "metadata": {},
   "source": [
    "__(Бонусная часть)__ Посчитайте корректные счётчики, основываясь на объектах расположеных выше в датасете (не забудьте добавить и шум). \n",
    "\n",
    "__(+0.5 балла)__"
   ]
  },
  {
   "cell_type": "code",
   "execution_count": null,
   "metadata": {},
   "outputs": [],
   "source": [
    "def counters_with_noise(data, y, noise_mean, noise_std):\n",
    "    cat_columns = detect_cat_features(data)\n",
    "    data_counters = data.copy()\n",
    "    for cat_column in cat_columns:\n",
    "        cross_tab_values = pd.crosstab(data_counters[cat_column],\n",
    "                                       columns=y,\n",
    "                                       colnames=['target'])\n",
    "        new_column = data_counters[cat_column].copy().values\n",
    "        for unique_value in data_counters[cat_column].unique():\n",
    "            counter_value = cross_tab_values.loc[unique_value, 1] / cross_tab_values.loc[unique_value, :].sum()\n",
    "            new_column = np.where(data_counters[cat_column] == unique_value,\n",
    "                                  counter_value + np.random.normal(noise_mean, noise_std, new_column.shape[0]),\n",
    "                                  new_column)\n",
    "        data_counters[cat_column + '_counter_with_noise'] = new_column\n",
    "    return data_counters.drop(columns=cat_columns)"
   ]
  },
  {
   "cell_type": "markdown",
   "metadata": {},
   "source": [
    "А теперь ответьте на следующий вопрос: что будет, если некоторая категория встречается в выборке всего несколько раз? По этой причине производится сглаживание счётчиков. Например, на практике хорошие результаты показывает использование сглаживания средним по всей выборке:\n",
    "$$\n",
    "g_j(x, X) = \\frac{\\sum_{i=1}^{\\ell} [f_j(x) = f_j(x_i)][y_i = +1] + C \\times global\\_mean}{\\sum_{i=1}^{\\ell} [f_j(x) = f_j(x_i)] + C}\n",
    "$$\n",
    "где $global\\_mean$ — среднее значение целевой переменной по всей выборке, $C$ — параметр, определяющий степень сглаживания (например, можно использовать 10 или подобрать для каждого признака свой). Основная идея в том, что мы \"разбавляем\" среднее значение по некоторой категории глобальным средним значении. И тем меньше, чем большее количество объектов этой категории встречается в выборке. \n",
    "\n",
    "Однако для сглаживания вместо среднего значения целевой переменной можно использовать любое другое значение от 0 до 1 (этот параметр иногда называют $prior$). Можно сделать несколько признаков с разными значениями параметра. На практике в задачах бинарной классификации полезными бывают даже отрицательные значения!\n",
    "\n",
    "__Задание 7.__ Реализуйте счетчики со сглаживанием, как описано выше. Обучите логистическую регрессию, оцените качество.\n",
    "\n",
    "__(0.5 балл)__"
   ]
  },
  {
   "cell_type": "code",
   "execution_count": null,
   "metadata": {},
   "outputs": [],
   "source": [
    "def counters_with_prior(data, y, C, prior):\n",
    "    cat_columns = detect_cat_features(data)\n",
    "    data_counters = data.copy()\n",
    "    for cat_column in cat_columns:\n",
    "        cross_tab_values = pd.crosstab(data_counters[cat_column],\n",
    "                                       columns=y,\n",
    "                                       colnames=['target'])\n",
    "        new_column = data_counters[cat_column].copy().values\n",
    "        for unique_value in data_counters[cat_column].unique():\n",
    "            counter_value = (cross_tab_values.loc[unique_value, 1]  + C * prior) /\\\n",
    "                                (cross_tab_values.loc[unique_value, :].sum() + C)\n",
    "            new_column = np.where(data_counters[cat_column] == unique_value,\n",
    "                                  counter_value,\n",
    "                                  new_column)\n",
    "        data_counters[cat_column + '_' + '_counter_with_noise'] = new_column\n",
    "    return data_counters.drop(columns=cat_columns)"
   ]
  },
  {
   "cell_type": "code",
   "execution_count": null,
   "metadata": {},
   "outputs": [],
   "source": [
    "%%time\n",
    "data_counters_prior = counters_with_prior(data, target, 1, np.mean(target))"
   ]
  },
  {
   "cell_type": "code",
   "execution_count": null,
   "metadata": {},
   "outputs": [],
   "source": [
    "%%time\n",
    "\n",
    "X_train, X_test, y_train, y_test = train_test_split(data_counters_prior, target, test_size=0.5)\n",
    "log_reg = LogisticRegression(max_iter=1000, solver='sag', n_jobs=4, )\n",
    "log_reg.fit(X_train, y_train)"
   ]
  },
  {
   "cell_type": "code",
   "execution_count": null,
   "metadata": {},
   "outputs": [],
   "source": [
    "preds = log_reg.predict_proba(X_test)\n",
    "roc_auc_score(y_test, preds[:, 1])"
   ]
  },
  {
   "cell_type": "markdown",
   "metadata": {},
   "source": [
    "Посмотрим на различные параметры $C$ и $prior$:"
   ]
  },
  {
   "cell_type": "code",
   "execution_count": null,
   "metadata": {},
   "outputs": [],
   "source": [
    "from joblib import Parallel, delayed, parallel_backend"
   ]
  },
  {
   "cell_type": "code",
   "execution_count": null,
   "metadata": {},
   "outputs": [],
   "source": [
    "C_list = [0, 0.1, 1, 100, np.mean(target)]\n",
    "prior_list = [0, 0.1, 1, 100, np.mean(target)]\n",
    "\n",
    "\n",
    "\n",
    "for C in C_list:\n",
    "    for prior in prior_list:\n",
    "        start_time = time.time()\n",
    "        data_counters_prior = counters_with_prior(data, target, C, prior)\n",
    "\n",
    "\n",
    "        X_train, X_test, y_train, y_test = train_test_split(data_counters_prior, target, test_size=0.5)\n",
    "        log_reg = LogisticRegression(max_iter=1000, solver='sag', n_jobs=16)\n",
    "        log_reg.fit(X_train, y_train)\n",
    "\n",
    "        preds = log_reg.predict_proba(X_test)\n",
    "        roc_auc_score(y_test, preds[:, 1])\n",
    "        print(f'C={C}, prior={prior}, ROC_AUC={roc_auc_score(y_test, preds[:, 1])}, time={time.time() - start_time}')"
   ]
  },
  {
   "cell_type": "markdown",
   "metadata": {},
   "source": [
    "__Замечание.__ Усложнение методов вычисления счётчиков не делают результаты модели гарантированно лучше. Особенно с учётом того, что логистическая регрессия не такая сложная модель, чтобы переобучаться. Поэтому вы необязательно должны были получать на каждом шаге всё лучшие и лучшие результаты (но необходимые результаты у вас должны были получиться).\n",
    "\n",
    "Как вы должны были заметить, счётчики являются хорошей альтернативой one-hot-кодированию. Напишите, какие плюсы и минусы использования счётчиков по сравнению с one-hot-кодированием, вы заметили.\n",
    "\n",
    "**Ответ:** \n",
    "\n",
    "**Плюсы использования счетчиков по сравнению с one-hot-encoding:**\n",
    "   1. Меньше затрат по памяти.\n",
    "   2. Требуется меньше времени на обучение модели.\n",
    "   \n",
    "**Минусы использования счетчиков по сравнению с one-hot-encoding:**\n",
    "   1. Более сложны в реализации.\n",
    "   2. Нужно бороться с переобучением (например, с помощью заполнения счетчиков по фолдам). А при добавлении шума в счетчики - нужно еще найти оптимальные значения для шума, так как может произойти потеря информации.\n",
    "   3. Качество модели немного хуже (возможно, это специфика данной задачи)"
   ]
  },
  {
   "cell_type": "markdown",
   "metadata": {},
   "source": [
    "## Отбор признаков"
   ]
  },
  {
   "cell_type": "markdown",
   "metadata": {},
   "source": [
    "Важной частью процесса построения модели является отбор признаков. На практике многие признаки оказывают малое влияние на модель (при этом их расчёт занимает время) или даже негативно сказываются на качестве модели. Попробуем несколько подходов отбора признаков, оценим, как они влияют на качество модели и сколько времени занимают.\n",
    "\n",
    "Обратимся к тому же датасету про обращение клиентов по страховым случаям. Обойдёмся без сэмплирования объектов."
   ]
  },
  {
   "cell_type": "code",
   "execution_count": null,
   "metadata": {
    "ExecuteTime": {
     "end_time": "2018-10-12T07:36:04.765536Z",
     "start_time": "2018-10-12T07:35:57.814973Z"
    }
   },
   "outputs": [],
   "source": [
    "data = pd.read_csv('./data_logistic/train.csv', index_col=0)\n",
    "target = data.target.values\n",
    "data = data.drop('target', axis=1)"
   ]
  },
  {
   "cell_type": "markdown",
   "metadata": {},
   "source": [
    "Как вы помните, в данных много категориальных признаков. Давайте закодируем их с помощью one-hot кодирования. Исходные колонки с категориальными признаками можно удалить. Сколько признаков мы получили?"
   ]
  },
  {
   "cell_type": "code",
   "execution_count": null,
   "metadata": {},
   "outputs": [],
   "source": [
    "%%time\n",
    "data_ohe = one_hot_encoding(data)"
   ]
  },
  {
   "cell_type": "code",
   "execution_count": null,
   "metadata": {},
   "outputs": [],
   "source": [
    "X_train, X_test, y_train, y_test = train_test_split(data_ohe, target, test_size=0.2, random_state=124)"
   ]
  },
  {
   "cell_type": "markdown",
   "metadata": {},
   "source": [
    "В качестве основной модели будем использовать логистическую регрессию, а целевой метрики — ROC-AUC. Обучите модель и посчитайте качество на тестовой выборке. Давайте запомним полученное значение."
   ]
  },
  {
   "cell_type": "code",
   "execution_count": null,
   "metadata": {},
   "outputs": [],
   "source": [
    "%%time\n",
    "log_reg = LogisticRegression(max_iter=100, solver='sag', n_jobs=-1)\n",
    "log_reg.fit(X_train, y_train)"
   ]
  },
  {
   "cell_type": "code",
   "execution_count": null,
   "metadata": {},
   "outputs": [],
   "source": [
    "preds = log_reg.predict_proba(X_test)\n",
    "roc_auc_score(y_test, preds[:, 1])"
   ]
  },
  {
   "cell_type": "markdown",
   "metadata": {},
   "source": [
    "### Встроенные методы"
   ]
  },
  {
   "cell_type": "markdown",
   "metadata": {},
   "source": [
    "Допустим, мы хотим оставить только 200 лучших признаков. Попробуем сделать это несколькими способами.\n",
    "\n",
    "Начнём с отборам признаков с помощью линейной модели. Как известно, веса линейной модели означают вклад каждого признака в предсказание модели, а значит, модуль этого вклада можно интерпретировать как важность признаков. Такой метод отбора называются встроенным или embedded methods, так как он заложен в особенности модели.\n",
    "\n",
    "__Задание 8.__ Оставьте 200 признаков с наибольшим модулем соответсвующего параметра линейной модели. Обучите модели заново и оцените её качество. Замерьте скорость такого отбора признаков.\n",
    "\n",
    "Изменилось ли качество? Как?\n",
    "\n",
    "__(0.5 балла)__"
   ]
  },
  {
   "cell_type": "code",
   "execution_count": null,
   "metadata": {},
   "outputs": [],
   "source": [
    "top_feat_idx = np.argsort(np.abs(log_reg.coef_)).reshape(-1)[-200:]\n",
    "\n",
    "data_ohe_top_feat1 = data_ohe.iloc[:, top_feat_idx]"
   ]
  },
  {
   "cell_type": "code",
   "execution_count": null,
   "metadata": {},
   "outputs": [],
   "source": [
    "X_train, X_test, y_train, y_test = train_test_split(data_ohe_top_feat1, target, test_size=0.2, random_state=124)"
   ]
  },
  {
   "cell_type": "markdown",
   "metadata": {},
   "source": [
    "В качестве основной модели будем использовать логистическую регрессию, а целевой метрики — ROC-AUC. Обучите модель и посчитайте качество на тестовой выборке. Давайте запомним полученное значение."
   ]
  },
  {
   "cell_type": "code",
   "execution_count": null,
   "metadata": {},
   "outputs": [],
   "source": [
    "%%time\n",
    "log_reg = LogisticRegression(max_iter=100, solver='sag', n_jobs=-1)\n",
    "log_reg.fit(X_train, y_train)"
   ]
  },
  {
   "cell_type": "code",
   "execution_count": null,
   "metadata": {},
   "outputs": [],
   "source": [
    "preds = log_reg.predict_proba(X_test)\n",
    "roc_auc_score(y_test, preds[:, 1])"
   ]
  },
  {
   "cell_type": "markdown",
   "metadata": {},
   "source": [
    "**Ответ:** Качество повысилось совсем не значительно (на 0.0003). Это хорошо, так как нам удалось и улучшить модель, и снизить размерность признакового пространства, следовательно и время обучения финальной модели."
   ]
  },
  {
   "cell_type": "markdown",
   "metadata": {},
   "source": [
    "А теперь давайте подумаем, что мы не учли. Мы предположили, что признаки вносят вклад равномерно, но не учли их масштаба. Если мы умножим один из признаков в 100 раз, то без учёта регуляризации его вес уменьшится в эти же 100 раз. А мы на основе этого отбираем признаки! Давайте сначала отнормируем признаки одним из способов, а только потом будем удалять признаки. \n",
    "\n",
    "Кстати, в таком случае надо пересчитать качество на всех признаках (сделайте это ниже). Если вы сделали нормирование признаков в самом начале, то попробуйте отобрать признаки на неотмасштабированных данных.\n",
    "\n",
    "Что получилось?"
   ]
  },
  {
   "cell_type": "code",
   "execution_count": null,
   "metadata": {},
   "outputs": [],
   "source": [
    "%%time\n",
    "from sklearn.preprocessing import Normalizer\n",
    "X_train, X_test, y_train, y_test = train_test_split(data_ohe, target, test_size=0.2, random_state=124)\n",
    "\n",
    "normalizer = Normalizer()\n",
    "\n",
    "X_train_scaled = normalizer.fit_transform(X_train)\n",
    "X_test_scaled = normalizer.transform(X_test)\n"
   ]
  },
  {
   "cell_type": "code",
   "execution_count": null,
   "metadata": {},
   "outputs": [],
   "source": [
    "%%time\n",
    "log_reg = LogisticRegression(max_iter=100, solver='sag', n_jobs=-1)\n",
    "log_reg.fit(X_train_scaled, y_train)"
   ]
  },
  {
   "cell_type": "code",
   "execution_count": null,
   "metadata": {},
   "outputs": [],
   "source": [
    "preds = log_reg.predict_proba(X_test_scaled)\n",
    "roc_auc_score(y_test, preds[:, 1])"
   ]
  },
  {
   "cell_type": "markdown",
   "metadata": {},
   "source": [
    "Интересно, что нормировка ухудшила качество."
   ]
  },
  {
   "cell_type": "code",
   "execution_count": null,
   "metadata": {},
   "outputs": [],
   "source": [
    "top_feat_idx = np.argsort(np.abs(log_reg.coef_)).reshape(-1)[-200:]\n",
    "\n",
    "data_ohe_top_feat2 = data_ohe.iloc[:, top_feat_idx]"
   ]
  },
  {
   "cell_type": "code",
   "execution_count": null,
   "metadata": {},
   "outputs": [],
   "source": [
    "X_train, X_test, y_train, y_test = train_test_split(data_ohe_top_feat2, target, test_size=0.2, random_state=124)"
   ]
  },
  {
   "cell_type": "code",
   "execution_count": null,
   "metadata": {},
   "outputs": [],
   "source": [
    "X_train_scaled = normalizer.fit_transform(X_train)\n",
    "X_test_scaled = normalizer.transform(X_test)"
   ]
  },
  {
   "cell_type": "code",
   "execution_count": null,
   "metadata": {},
   "outputs": [],
   "source": [
    "%%time\n",
    "log_reg = LogisticRegression(max_iter=100, solver='sag', n_jobs=-1)\n",
    "log_reg.fit(X_train_scaled, y_train)"
   ]
  },
  {
   "cell_type": "code",
   "execution_count": null,
   "metadata": {},
   "outputs": [],
   "source": [
    "preds = log_reg.predict_proba(X_test_scaled)\n",
    "roc_auc_score(y_test, preds[:, 1])"
   ]
  },
  {
   "cell_type": "markdown",
   "metadata": {},
   "source": [
    "При это относительный прирост качества стал в два раза больше."
   ]
  },
  {
   "cell_type": "markdown",
   "metadata": {},
   "source": [
    "Ради интереса посмотрим, что будет, если обучить модель на тех признаках, которые были отобраны с нормировкой, но приведенных снова к изначальному масштабу"
   ]
  },
  {
   "cell_type": "code",
   "execution_count": null,
   "metadata": {},
   "outputs": [],
   "source": [
    "%%time\n",
    "log_reg = LogisticRegression(max_iter=100, solver='sag', n_jobs=-1)\n",
    "log_reg.fit(X_train, y_train)"
   ]
  },
  {
   "cell_type": "code",
   "execution_count": null,
   "metadata": {},
   "outputs": [],
   "source": [
    "preds = log_reg.predict_proba(X_test_scaled)\n",
    "roc_auc_score(y_test, preds[:, 1])"
   ]
  },
  {
   "cell_type": "markdown",
   "metadata": {},
   "source": [
    "Это и ожидалось, но попытаться стоило.."
   ]
  },
  {
   "cell_type": "markdown",
   "metadata": {},
   "source": [
    "### Методы фильтрации"
   ]
  },
  {
   "cell_type": "markdown",
   "metadata": {},
   "source": [
    "Давайте отбирать признаки умнее, а именно через подсчёт некоторой функции для каждого признака. На основании значений этой функции будем оставлять наиболее важные признаки. Методы этого семейства называют фильтрующими или  filter methods. \n",
    "\n",
    "В качестве такой функции будем считать t-статистику:\n",
    "\n",
    "$$t(x) = \\frac{|\\mu_+ - \\mu_-|}{\\sqrt{\\frac{n_+ \\sigma^2_+ + n_- \\sigma^2_-}{n_+ + n_-}}},$$\n",
    "\n",
    "где $mu$, $sigma$, $n$ соответственно среднее, среднеквадратичное отклонение и количество объектов каждого из классов.\n",
    "\n",
    "__Задание 9.__ Оставьте 200 признаков с наибольшим значением и замерьте качество. Не забудьте замерить скорость отбора признаков в этом случаев.\n",
    "\n",
    "__(0.5 балла)__"
   ]
  },
  {
   "cell_type": "code",
   "execution_count": null,
   "metadata": {},
   "outputs": [],
   "source": [
    "def t_stat_values_calculation(data, target):\n",
    "    t_stat_list = []\n",
    "    n_plus = np.sum(target == 1)\n",
    "    n_minus = np.sum(target == 0)\n",
    "    \n",
    "    for column in data.columns:\n",
    "        mu_plus = np.mean(data[column][target == 1])\n",
    "        mu_minus = np.mean(data[column][target == 0])\n",
    "        sigma2_plus = np.var(data[column][target == 1])\n",
    "        sigma2_minus = np.var(data[column][target == 0])\n",
    "        numerator = np.abs(mu_plus + mu_minus)\n",
    "        denominator = np.sqrt((n_plus * sigma2_plus + n_minus * sigma2_minus) / (n_plus + n_minus))\n",
    "        t_stat_list.append(numerator / denominator)\n",
    "    return t_stat_list\n",
    "\n",
    "    "
   ]
  },
  {
   "cell_type": "code",
   "execution_count": null,
   "metadata": {},
   "outputs": [],
   "source": [
    "%%time\n",
    "t_stat_values = t_stat_values_calculation(data_ohe, target)"
   ]
  },
  {
   "cell_type": "code",
   "execution_count": null,
   "metadata": {},
   "outputs": [],
   "source": [
    "top_features_idxs = np.argsort(t_stat_values)[-200:]"
   ]
  },
  {
   "cell_type": "code",
   "execution_count": null,
   "metadata": {},
   "outputs": [],
   "source": [
    "data_ohe_filter = data_ohe.copy().iloc[:, top_features_idxs]\n",
    "X_train, X_test, y_train, y_test = train_test_split(data_ohe_filter,\n",
    "                                                    target,\n",
    "                                                    test_size=0.2,\n",
    "                                                    random_state=124)"
   ]
  },
  {
   "cell_type": "code",
   "execution_count": null,
   "metadata": {},
   "outputs": [],
   "source": [
    "%%time\n",
    "log_reg = LogisticRegression(max_iter=100, solver='sag', n_jobs=-1)\n",
    "log_reg.fit(X_train, y_train)"
   ]
  },
  {
   "cell_type": "code",
   "execution_count": null,
   "metadata": {},
   "outputs": [],
   "source": [
    "preds = log_reg.predict_proba(X_test)\n",
    "roc_auc_score(y_test, preds[:, 1])"
   ]
  },
  {
   "cell_type": "markdown",
   "metadata": {},
   "source": [
    "### Методы-обёртки"
   ]
  },
  {
   "cell_type": "markdown",
   "metadata": {},
   "source": [
    "__Задание 10.__ \n",
    "\n",
    "__(1 балл)__\n",
    "\n",
    "Заключительный из рассматриваемых нами методов работает следующим образом: мы исключаем по очереди один из признаков и смотрим, как это влияет на качество. Удаляем признаки таким жадным способом, пока не достигнем некоторого критерия (количество признаков или ухудшением качества).\n",
    "\n",
    "Заметим, что нельзя оценивать качество по тестовой выборке, иначе мы можем переобучиться, как, например, при настройке гиперпараметров. Разделите выборку на 2 части, на одной из них обучайте модель без одного из признаков,  на второй части оценивайте качество. Исходную тестовую выборку стоит использовать только на финальной оценке качества.\n",
    "\n",
    "Сделайте одну итерацию и прикиньте, сколько времени займёт такой отбор признаков. Кажется, что чересчур. Давайте возьмём маленький сэмпл данных (например, в 10 тысяч объектов), что сильно уменьшит время итерации. Теперь это долго, но уже приемлимо. \n",
    "\n",
    "Если это всё ещё долго для вашего комьютера, можете попробовать брать не по одному признаку, а сразу по пять (и удалять сразу тоже по 5). Для этого перед каждой итерацией удаления делите заново все признаки на группы по 5 штук.\n",
    "\n",
    "Снова оставьте только 200 признаков и оцените качество на тестовой выборке. Сколько времени занял такой отбор признаков?"
   ]
  },
  {
   "cell_type": "code",
   "execution_count": null,
   "metadata": {},
   "outputs": [],
   "source": [
    "import tqdm\n",
    "import random\n",
    "\n",
    "\n",
    "class FeatureEliminator:\n",
    "    def __init__(self, model, data, target):\n",
    "        self.features_list = list(data.columns)\n",
    "        self.data = data.copy()\n",
    "        self.target = target\n",
    "        self.model = model\n",
    "        self.usefull_features = self.features_list\n",
    "        self.seed = 124\n",
    "        self.test_size = 0.2\n",
    "        self.best_roc_auc = 0\n",
    "    \n",
    "    def feature_elimination(self, min_features=200):\n",
    "        ## Проверим качество со всеми признаками и возьмем его за лучшее\n",
    "        data_tmp = self.data.copy()\n",
    "        X_train, X_test, y_train, y_test = train_test_split(data_tmp,\n",
    "                                                                self.target,\n",
    "                                                                test_size=self.test_size,\n",
    "                                                                random_state=self.seed,\n",
    "                                                                shuffle=False)\n",
    "        self.model.fit(X_train, y_train)\n",
    "        probs = self.model.predict_proba(X_test)\n",
    "        self.best_roc_auc = roc_auc_score(y_test, probs[:, 1])\n",
    "        \n",
    "        random.shuffle(self.features_list)\n",
    "        for feature in tqdm.tqdm_notebook(self.features_list):\n",
    "            data_wout_1_feature = data_tmp.drop(columns=feature)\n",
    "            X_train, X_test, y_train, y_test = train_test_split(data_wout_1_feature,\n",
    "                                                                self.target,\n",
    "                                                                test_size=self.test_size,\n",
    "                                                                random_state=self.seed,\n",
    "                                                                shuffle=False)\n",
    "            self.model.fit(X_train, y_train)\n",
    "            probs = self.model.predict_proba(X_test)\n",
    "            roc_auc_curr = roc_auc_score(y_test, probs[:, 1])\n",
    "            if roc_auc_curr >= self.best_roc_auc:\n",
    "                data_tmp = data_wout_1_feature.copy()\n",
    "                self.best_roc_auc = roc_auc_curr\n",
    "                self.usefull_features.remove(feature)\n",
    "            if min_features >= data_tmp.shape[1]:\n",
    "                break\n",
    "            print(f'ROC_AUC_curr={roc_auc_curr}, ROC_AUC_best={self.best_roc_auc}, features amount={data_tmp.shape[1]}',)\n",
    "        return self.usefull_features\n",
    "            \n",
    "            \n",
    "            "
   ]
  },
  {
   "cell_type": "code",
   "execution_count": null,
   "metadata": {},
   "outputs": [],
   "source": [
    "# some resampling\n",
    "samples_amount = 10000\n",
    "\n",
    "np.random.seed(910)\n",
    "mask_plus = np.random.choice(np.where(target == 1)[0], samples_amount, replace=True)\n",
    "mask_zero = np.random.choice(np.where(target == 0)[0], samples_amount, replace=True)\n",
    "\n",
    "data = pd.concat((data_ohe.iloc[mask_plus], data_ohe.iloc[mask_zero]))\n",
    "target = np.hstack((target[mask_plus], target[mask_zero]))\n",
    "\n"
   ]
  },
  {
   "cell_type": "code",
   "execution_count": null,
   "metadata": {},
   "outputs": [],
   "source": [
    "X_train, X_test, y_train, y_test = train_test_split(data, target, test_size=0.2)"
   ]
  },
  {
   "cell_type": "code",
   "execution_count": null,
   "metadata": {},
   "outputs": [],
   "source": [
    "log_reg = LogisticRegression()"
   ]
  },
  {
   "cell_type": "code",
   "execution_count": null,
   "metadata": {},
   "outputs": [],
   "source": [
    "feat_elim = FeatureEliminator(log_reg, X_train, y_train)"
   ]
  },
  {
   "cell_type": "code",
   "execution_count": null,
   "metadata": {
    "scrolled": true
   },
   "outputs": [],
   "source": [
    "%%time\n",
    "feat_elim.feature_elimination(min_features=200)"
   ]
  },
  {
   "cell_type": "code",
   "execution_count": null,
   "metadata": {},
   "outputs": [],
   "source": [
    "usefull_features = feat_elim.usefull_features"
   ]
  },
  {
   "cell_type": "code",
   "execution_count": null,
   "metadata": {},
   "outputs": [],
   "source": [
    "X_train_usefull_features = X_train.loc[:, usefull_features]\n",
    "X_test_usefull_features = X_test.loc[:, usefull_features]"
   ]
  },
  {
   "cell_type": "code",
   "execution_count": null,
   "metadata": {},
   "outputs": [],
   "source": [
    "%%time\n",
    "log_reg.fit(X_train, y_train)"
   ]
  },
  {
   "cell_type": "code",
   "execution_count": null,
   "metadata": {},
   "outputs": [],
   "source": [
    "preds = log_reg.predict_proba(X_test)\n",
    "roc_auc_score(y_test, preds[:, 1])"
   ]
  },
  {
   "cell_type": "markdown",
   "metadata": {},
   "source": [
    "Давайте подведём итоги по отбору признаков. Назовите преимущества и недостатки каждого из методов. Какой метод привёл к наилучшему качеству?\n",
    "\n",
    "**Ответ: Всего было рассмотрено три метода:**\n",
    "\n",
    "    1. Встроенный метод.\n",
    "    2. Метод фильтрации.\n",
    "    3. Метод обертки.\n",
    "    \n",
    "Рассмотрим плюсы и минусы каждого из них:\n",
    "\n",
    "    1. Встроенный метод\n",
    "        Плюсы:\n",
    "            а)  Качество лучше, чем без применение данного метода отбора признаков (в условиях данной задачи).\n",
    "            б) Относительно малое время, нужное на выбор признаков.\n",
    "        Минусы:\n",
    "            а) Для объективной оценки качества признака нужно производить дополнительные операции (нормировка).\n",
    "    2. Метод фильтрации\n",
    "        Плюсы:\n",
    "            а) Очень быстрый отбор признаков.\n",
    "            б) Качество лучше, чем без применение данного метода отбора признаков (в условиях данной задачи)\n",
    "        Минусы:\n",
    "            а) Непонятно, как работать с категориальными признаками.\n",
    "    3. Метод обертки\n",
    "        Плюсы:\n",
    "            а) Лучшее качество из всех методов (в условиях данной задачи)\n",
    "        Минусы:\n",
    "            а) Очень долгое время отбора признаков."
   ]
  },
  {
   "cell_type": "markdown",
   "metadata": {},
   "source": [
    "## Настройка порога для бинаризации вероятностей"
   ]
  },
  {
   "cell_type": "markdown",
   "metadata": {},
   "source": [
    "В этой части мы будем проделывать стандартные операции для подготовки модели к её реальному использованию — подбора порога для бинаризации вероятностей с учётом потребностей бизнеса или продукта. Хороший алгоритм с точки зрения ROC-AUC это, конечно, хорошо, но ведь в реальности нам надо принимать решение бинарно, например, выдавать ли кредит человеку. \n",
    "\n",
    "Воспользуемся той же самый задачей, что и в предыдущем разделе — определение обращение клиента в страховую в ближайшее время. Положительные объекты в нашей выборки как раз обратившиеся в страховую клиенты. \n",
    "\n",
    "Не вдаваясь в подробности бизнеса страховых, можно понять, что обращение клиента по страховому случаю для нас как страховой невыгодно, ведь мы теряем на этом деньги. Клиенты, которые не обращаются в страховую и ездят аккуратно, приносят нам деньги.\n",
    "\n",
    "Пусть на каждом клиенте, который обратился в нашу страховую, мы теряем 100000, а на клиенте, который не обратился в страховую, мы зарабатываем 5000. \n",
    "\n",
    "Будем строить алгоритм, который прогнозирует обращение по страховому случаю, чтобы некоторым потенциальным клиентам отказывать в обслуживании, если мы уверены, что на них мы потеряем деньги."
   ]
  },
  {
   "cell_type": "code",
   "execution_count": null,
   "metadata": {
    "ExecuteTime": {
     "end_time": "2018-10-12T07:36:04.765536Z",
     "start_time": "2018-10-12T07:35:57.814973Z"
    }
   },
   "outputs": [],
   "source": [
    "data = pd.read_csv('./data_logistic/train.csv', index_col=0)\n",
    "target = data.target.values\n",
    "data = data.drop('target', axis=1)\n",
    "X_train, X_test, y_train, y_test = train_test_split(data, target, test_size=0.2, random_state=124)"
   ]
  },
  {
   "cell_type": "markdown",
   "metadata": {},
   "source": [
    "В этот раз мы не будем сэмплировать данные и будем использовать их \"как есть\".\n",
    "\n",
    "Посчитайте долю положительных примеров в выборке? Скажите, почему она такая?"
   ]
  },
  {
   "cell_type": "code",
   "execution_count": null,
   "metadata": {},
   "outputs": [],
   "source": [
    "sum(target == 1) / target.shape[0]"
   ]
  },
  {
   "cell_type": "markdown",
   "metadata": {},
   "source": [
    " Доля положительных примеров составляет ~4%. Это неудивительно, так как происшествия, из-за которых обращаются в страховую компанию, встречаются не так часто"
   ]
  },
  {
   "cell_type": "markdown",
   "metadata": {},
   "source": [
    "Как вы помните, в данных много категориальных признаков. Давайте закодируем их с помощью one-hot кодирования. Исходные колонки с категориальными признаками можно удалить."
   ]
  },
  {
   "cell_type": "code",
   "execution_count": null,
   "metadata": {},
   "outputs": [],
   "source": [
    "%%time\n",
    "data_ohe = one_hot_encoding(data)"
   ]
  },
  {
   "cell_type": "markdown",
   "metadata": {},
   "source": [
    "В качестве нашей основной модели будем использовать логистическую регрессию, которая возвращает вероятность положительного класса. Обучите модель, сделайте предсказания на тестовой выборке."
   ]
  },
  {
   "cell_type": "code",
   "execution_count": null,
   "metadata": {},
   "outputs": [],
   "source": [
    "%%time\n",
    "X_train, X_test, y_train, y_test = train_test_split(data_ohe, target, test_size=0.2, random_state=124)\n",
    "\n",
    "log_reg = LogisticRegression()\n",
    "log_reg.fit(X_train, y_train)"
   ]
  },
  {
   "cell_type": "code",
   "execution_count": null,
   "metadata": {},
   "outputs": [],
   "source": [
    "probs = log_reg.predict_proba(X_test)"
   ]
  },
  {
   "cell_type": "markdown",
   "metadata": {},
   "source": [
    "Посчитайте ROC-AUC. Что вы можете про него сказать? Как вы считаете, почему получилось так?"
   ]
  },
  {
   "cell_type": "code",
   "execution_count": null,
   "metadata": {},
   "outputs": [],
   "source": [
    "roc_auc_score(y_test, probs[:, 1])"
   ]
  },
  {
   "cell_type": "markdown",
   "metadata": {},
   "source": [
    "Качество получилось достаточно плохим. Это может быть связано с большим дисбалансом в классах. Возможно, нужно было использовать стратифицированное разделение на тренировочную и тестовую выборки."
   ]
  },
  {
   "cell_type": "markdown",
   "metadata": {},
   "source": [
    "Постройте precision-recall кривую на тестовой выборке. Что вы можете по ней сказать?"
   ]
  },
  {
   "cell_type": "code",
   "execution_count": null,
   "metadata": {},
   "outputs": [],
   "source": [
    "# with plt.xkcd():\n",
    "plot_pr_curve(y_test, probs[:, 1], 'PR-кривая для логистической регрессии')"
   ]
  },
  {
   "cell_type": "markdown",
   "metadata": {},
   "source": [
    "Из данной кривой видно, что качество классификации плохое. Этот эффект возникает как раз из-за дизбаланса классов."
   ]
  },
  {
   "cell_type": "markdown",
   "metadata": {},
   "source": [
    "У нас есть алгоритм, который определяет вероятность обращения клиента по страховому случаю, но мы хотим использовать этот алгоритм, чтобы отказывать клиентам в обслуживании в страховой. Для этого нам нужны бинарные предсказания алгоритма. Давайте искать этот порог для получения бинарных предсказаний.\n",
    "\n",
    "__Задание 11.__\n",
    "\n",
    "__(0.5 балла)__\n",
    "\n",
    "Предположим, что нам надо подобрать порог такой, чтобы среди наших положителных предсказаний 95\\% действительно обратились бы по страховому случаю. Подберите соответствующий порог, оцените на нём precision, recall. Скажите, какой части потенциальных клиентов мы откажем?"
   ]
  },
  {
   "cell_type": "code",
   "execution_count": null,
   "metadata": {},
   "outputs": [],
   "source": [
    "probs"
   ]
  },
  {
   "cell_type": "code",
   "execution_count": null,
   "metadata": {},
   "outputs": [],
   "source": [
    "from sklearn.metrics import precision_score\n",
    "\n",
    "threshold_arr = np.linspace(0, 1, 1000)\n",
    "for threshold in tqdm.tqdm_notebook(threshold_arr):\n",
    "    score = precision_score(y_test, probs[:, 1] > threshold)\n",
    "    if score >= 0.95:\n",
    "        print(f'Значение precision: {score}, порог вероятности: {threshold}')\n",
    "        break"
   ]
  },
  {
   "cell_type": "markdown",
   "metadata": {},
   "source": [
    " Возьмем за порог значение - 0.4734 и посчитаем precision (снова), recall:"
   ]
  },
  {
   "cell_type": "code",
   "execution_count": null,
   "metadata": {},
   "outputs": [],
   "source": [
    "from sklearn.metrics import recall_score\n",
    "\n",
    "print(f'Precision={precision_score(y_test, probs[:, 1] > 0.4734)},\\\n",
    "    Recall={recall_score(y_test, probs[:, 1] > 0.4734)}')"
   ]
  },
  {
   "cell_type": "markdown",
   "metadata": {},
   "source": [
    "Мы будем отказывать 99,95% (процентам) потенциальных клиентов."
   ]
  },
  {
   "cell_type": "markdown",
   "metadata": {},
   "source": [
    "Иногда сложно решить, какие значения precision и recall нужны в нашей задаче. Однако иногда можно оценить экономический эффект от нашего алгоритма. Мы знаем, во сколько нам обходится клиент, который обратился в страховую, и сколько нам приносит клиент, который не обратился. \n",
    "\n",
    "При фиксированном пороге мы знаем, кому мы бы отказали в обслуживании. Среди них есть те, кто обратился бы в страховую и нам пришлось бы потратить деньги, и те, кто не обратился бы, то есть принёс бы нам деньги. Мы можем посчитать разницу между нашими доходами и расходами от этой группы людей и надеяться, что она будет положительной. \n",
    "\n",
    "__Задание 12.__ Найдите такой порог, при котором наш баланс (разница между доходами и расходами на группе клиентов, которым мы отказали) неотрицательный. \n",
    "\n",
    "__(1 балл)__"
   ]
  },
  {
   "cell_type": "code",
   "execution_count": null,
   "metadata": {},
   "outputs": [],
   "source": [
    "money_for_pos = -100000\n",
    "money_for_neg = 5000\n",
    "\n",
    "threshold_arr = np.linspace(0, 1, 1000)\n",
    "for threshold in threshold_arr:\n",
    "    predictions = probs[:, 1] > threshold\n",
    "    score = precision_score(y_test, predictions)\n",
    "    print(np.sum(y_test[predictions == 0] == 0) * money_for_neg +  \n",
    "          np.sum(y_test[predictions == 0] == 1) * money_for_pos)\n",
    "    print(f'Значение precision: {score}, порог вероятности: {threshold}')"
   ]
  },
  {
   "cell_type": "markdown",
   "metadata": {},
   "source": [
    "А на каком значение порога это разница максимальна? Скольким клиентам мы отказали в обслуживании?"
   ]
  },
  {
   "cell_type": "markdown",
   "metadata": {},
   "source": [
    "??"
   ]
  },
  {
   "cell_type": "markdown",
   "metadata": {},
   "source": [
    "## Часть 5 (бонус). Vowpal Wabbit"
   ]
  },
  {
   "cell_type": "markdown",
   "metadata": {},
   "source": [
    "В этой части мы научимся использовать библиотеку [vowpal wabbit](https://github.com/JohnLangford/vowpal_wabbit). У неё есть несколько особенностей:\n",
    "- можно обучать только линейные модели, но за счёт большого количества опций и возможностей по усложнению, можно построить и довольно сложные вещи\n",
    "- можно обучаться на выборках, которые не помещаются в оперативную память\n",
    "- можно обрабатывать большое количество признаков (например, мешки слов текстов) и \"на ходу\" строить на них комбинации (не переделывать датасет)\n",
    "- другие особенности, как например, активное обучение и возможность распараллеленного обучения.\n",
    "\n",
    "Основные особенности при использовании следующие:\n",
    "- Свой формат данных: \"label |A feature1:value1 |B feature2:value2\", позволяющий, во-первых, указывать не все признаки (не нужно хранить много нулей в разреженных данных), а во-вторых, группировать и иметь возможность отключать или взаимодействовать (\"отключать\", добавлять квадратичные признаки и т.д.) сразу со всей группой признаков. По этой причине вам понадобится реализовать конвертер датасета и загрузку своих предсказаний, чтобы посчитать качество предсказаний.\n",
    "- Запуск обучения из командной строки (однако можно запускать эти же команды из ноутбука).\n",
    "\n",
    "В этот раз мы будем использовать данные с конкурса [Kaggle Avazu Click-Through Rate Prediction](https://www.kaggle.com/c/avazu-ctr-prediction) по предсказанию кликов (бинарная классификация). В обучающей выборке 40kk строк, так что у вас не должно быть желания загружать их в оперативную память. Предлагается взять первые 30kk строк в качестве обучающей выборки и оставшуюся часть для тестирования.\n",
    "\n",
    "__Задание 13.__ Работа с vowpal wabbit. \n",
    "\n",
    "- Скачайте данные, разделите их на обучающую и тестовую выборки.\n",
    "- Подготовьте функции для конвертирования датасета в формат vowpal wabbit и для загрузки предсказаний в ноутбук для подсчёта функционала.\n",
    "- Сделайте простейшее решение на vowpal wabbit. Оцените качество.\n",
    "- Изучите возможности и параметры vowpal wabbit. Поэксперементируйте. \n",
    "- Расскажите, что интересного вы узнали (какие-нибудь особенности, режимы работы, фишки, параметры).\n",
    "- Удалось ли вам улучшить качество базовой модели? Насколько? Что ещё можно было бы попробовать?\n",
    "\n",
    "В этом задании предусмотрены баллы по двум критериям:\n",
    "- достижение ROC-AUC на отложенной выборкеболее 0.738 __(1 балл)__\n",
    "- несколько занимательных фактов и возможностей vowpal-wabbit __(0.5 балла)__."
   ]
  },
  {
   "cell_type": "markdown",
   "metadata": {},
   "source": [
    "Расширенная информация о формате данных в VW:\n",
    "\n",
    "[Label] [Importance] [Tag]|Namespace Features |Namespace Features ... |Namespace Features\n",
    "\n",
    "\n",
    "Namespace=String[:Value]\n",
    "\n",
    "\n",
    "Features=(String[:Value] )\n",
    "\n",
    "\n",
    "где [] обозначает необязательные элементы, а (...)* означает повтор неопределенное число раз.\n",
    "\n",
    "\n",
    "- Label является числом, \"правильным\" ответом. В случае классификации обычно принимает значение 1/-1, а в случае регрессии некоторое вещественное число\n",
    "- Importance является числом и отвечает за вес примера при обучении. Это позволяет бороться с проблемой несбалансированных данных, изученной нами ранее\n",
    "- Tag является некоторой строкой без пробелов и отвечает за некоторое \"название\" примера, которое сохраняется при предсказании ответа. Для того, чтобы отделить Tag от Importance лучше начинать Tag с символа '.\n",
    "- Namespace служит для создания отдельных пространств признаков. В аргументах Namespace именуются по первой букве, это нужно учитывать при выборе их названий\n",
    "- Features являются непосредственно признаками объекта внутри Namespace. Признаки по умолчанию имеют вес 1.0, но его можно переопределить, к примеру feature:0.1.\n"
   ]
  },
  {
   "cell_type": "code",
   "execution_count": null,
   "metadata": {},
   "outputs": [],
   "source": [
    "!vw house_dataset"
   ]
  },
  {
   "cell_type": "markdown",
   "metadata": {},
   "source": [
    "Будем использовать id из признаков, как Tag, а 1.0, как Importance."
   ]
  },
  {
   "cell_type": "code",
   "execution_count": null,
   "metadata": {},
   "outputs": [],
   "source": [
    "import tqdm\n",
    "\n",
    "\n",
    "def convert_line_to_vw_format(line, features_names, valid=False):\n",
    "    ##Уберем id в Tag, так как он не несет никакой полезной информации для модели\n",
    "    features_list = line.split(',')\n",
    "    features_names = features_names[2:]\n",
    "    id_feature = features_list.pop(0)\n",
    "    target = 1 if features_list.pop(0) == '1' else -1\n",
    "    if valid:\n",
    "        vw_line = '\\'' + ' |' #str(id_feature) + ' |'\n",
    "    else:\n",
    "        vw_line = str(target) + ' 1.0 ' + '\\'' + str(id_feature) + ' |'\n",
    "        \n",
    "    for feature in features_list:\n",
    "        vw_line += ' ' + str(feature)\n",
    "    return vw_line\n",
    "    \n",
    "\n",
    "\n",
    "\n",
    "def convert_csv_to_vw_format(path_to_input_file,\n",
    "                             path_to_output_file_train,\n",
    "                             path_to_output_file_valid,\n",
    "                             lines_amount_train=5,\n",
    "                             lines_amount_valid=5):\n",
    "    with open(path_to_input_file, 'r') as input_file:\n",
    "            i = 0\n",
    "            feature_names = []\n",
    "            with open(path_to_output_file_train, 'w+') as output_file_train:\n",
    "                for line in tqdm.tqdm_notebook(input_file, total=lines_amount_train):\n",
    "                    if i == 0:\n",
    "                        feature_names = line.split(',')\n",
    "                        print(feature_names)\n",
    "                    output_file_train.write(convert_line_to_vw_format(line, feature_names))\n",
    "                    i += 1\n",
    "                    if i >= lines_amount_train:\n",
    "                        break\n",
    "            i = 0\n",
    "            with open(path_to_output_file_valid, 'w+') as output_file_valid:\n",
    "                for line in tqdm.tqdm_notebook(input_file, total=lines_amount_valid):\n",
    "                    output_file_valid.write(convert_line_to_vw_format(line, feature_names, valid=True))\n",
    "                    i += 1\n",
    "                    if i >= lines_amount_valid:\n",
    "                        break\n",
    "\n",
    "\n",
    "def target_value_to_file(path_to_input_file, path_to_output_file):\n",
    "    with open(path_to_input_file, 'r') as input_file:\n",
    "        with open(path_to_output_file, 'w') as output_file:\n",
    "            for line in tqdm.tqdm_notebook(input_file):\n",
    "                target = 1 if line.split(',')[1] == '1' else -1\n",
    "                output_file.write(str(target) + '\\n')\n",
    "            \n",
    "    "
   ]
  },
  {
   "cell_type": "code",
   "execution_count": null,
   "metadata": {},
   "outputs": [],
   "source": [
    "convert_csv_to_vw_format('./data_vw/train.csv',\n",
    "                         './data_vw/train.vw',\n",
    "                         './data_vw/valid.vw',\n",
    "                         lines_amount_train=3e7,\n",
    "                         lines_amount_valid=1e7)"
   ]
  },
  {
   "cell_type": "markdown",
   "metadata": {},
   "source": [
    "Запишем все таргеты трейна и валидационной выборки в файл для удобства."
   ]
  },
  {
   "cell_type": "code",
   "execution_count": null,
   "metadata": {},
   "outputs": [],
   "source": [
    "# target_value_to_file('./data_vw/train.csv', './data_vw/train_targets')"
   ]
  },
  {
   "cell_type": "code",
   "execution_count": null,
   "metadata": {},
   "outputs": [],
   "source": [
    "!vw -d ./data_vw/train.vw --loss_function=logistic --link=logistic -f ./data_vw/model.vw"
   ]
  },
  {
   "cell_type": "code",
   "execution_count": null,
   "metadata": {
    "scrolled": true
   },
   "outputs": [],
   "source": [
    "!vw -i ./data_vw/model.vw -t -d ./data_vw/valid.vw \\\n",
    "-p ./data_vw/valid_predictions"
   ]
  },
  {
   "cell_type": "markdown",
   "metadata": {},
   "source": [
    "Пока интересных особенностей VW не нашел, зато узнал, что с помощью matplotlib можно рисовать \"мультяшные\" графики))"
   ]
  },
  {
   "cell_type": "code",
   "execution_count": null,
   "metadata": {},
   "outputs": [],
   "source": [
    "from sklearn.metrics import roc_auc_score, roc_curve\n",
    "import matplotlib.pyplot as plt\n",
    "\n",
    "\n",
    "with open('./data_vw/valid_predictions') as pred_file:\n",
    "    test_prediction = [float(label) \n",
    "                             for label in pred_file.readlines()]\n",
    "    \n",
    "with open('./data_vw/train_targets') as pred_file:\n",
    "    test_labels = [float(label) \n",
    "                             for label in pred_file.readlines()]\n",
    "\n",
    "auc = roc_auc_score(test_labels[30000000:40000000], test_prediction)\n",
    "a_roc_curve = roc_curve(test_labels[30000000:40000000], test_prediction)\n",
    "\n",
    "with plt.xkcd():\n",
    "    plt.plot(a_roc_curve[0], a_roc_curve[1]);\n",
    "    plt.plot([0,1], [0,1])\n",
    "    plt.xlabel('FPR'); plt.ylabel('TPR')\n",
    "    plt.title('test AUC = %f' % (auc))\n",
    "    plt.axis([-0.05,1.05,-0.05,1.05]);"
   ]
  },
  {
   "cell_type": "markdown",
   "metadata": {},
   "source": [
    "Бэйзлайн есть. Ну что же, пора изучать библиотеку подробнее.\n",
    "- Параметр **--passes N** отвечает за количество эпох (сколько раз алгоритм прошел всю тренировочную выборку)\n",
    "Для реализации этого подхода пришлось изучить еще один параметр:\n",
    "- **--cache_file** - файл, в котором будет храниться информация о модели при обучении\n",
    "\n",
    "Попробуем пройти выборку 5 раз:"
   ]
  },
  {
   "cell_type": "code",
   "execution_count": null,
   "metadata": {
    "scrolled": true
   },
   "outputs": [],
   "source": [
    "%%time\n",
    "!vw -d ./data_vw/train.vw --loss_function=logistic --link=logistic --passes 2 --cache_file\\\n",
    "./data_vw/cache_for_passes -f ./data_vw/model.vw"
   ]
  },
  {
   "cell_type": "code",
   "execution_count": null,
   "metadata": {
    "scrolled": true
   },
   "outputs": [],
   "source": [
    "!vw -i ./data_vw/model.vw -t --cache_file\\\n",
    "./data_vw/cache_for_passes_valid -d ./data_vw/valid.vw -p ./data_vw/valid_predictions"
   ]
  },
  {
   "cell_type": "code",
   "execution_count": null,
   "metadata": {},
   "outputs": [],
   "source": [
    "from sklearn.metrics import roc_auc_score, roc_curve\n",
    "import matplotlib.pyplot as plt\n",
    "\n",
    "with open('./data_vw/valid_predictions') as pred_file:\n",
    "    test_prediction = [float(label) \n",
    "                             for label in pred_file.readlines()]\n",
    "    \n",
    "# with open('./data_vw/train_targets') as pred_file:\n",
    "#     test_labels = [float(label) \n",
    "#                              for label in pred_file.readlines()]\n",
    "\n",
    "auc = roc_auc_score(test_labels[30000000:40000000], test_prediction)\n",
    "a_roc_curve = roc_curve(test_labels[30000000:40000000], test_prediction)\n",
    "\n",
    "with plt.xkcd():\n",
    "    plt.plot(a_roc_curve[0], a_roc_curve[1]);\n",
    "    plt.plot([0,1], [0,1])\n",
    "    plt.xlabel('FPR'); plt.ylabel('TPR')\n",
    "    plt.title('test AUC = %f' % (auc))\n",
    "    plt.axis([-0.05,1.05,-0.05,1.05]);\n"
   ]
  },
  {
   "cell_type": "markdown",
   "metadata": {},
   "source": [
    "Качество стало хуже :("
   ]
  },
  {
   "cell_type": "code",
   "execution_count": null,
   "metadata": {},
   "outputs": [],
   "source": [
    "def plot_roc_auc_vw(path_to_data):\n",
    "    with open(path_to_data) as pred_file:\n",
    "        test_prediction = [float(label) \n",
    "                                 for label in pred_file.readlines()]\n",
    "    \n",
    "    # with open('./data_vw/train_targets') as pred_file:\n",
    "    #     test_labels = [float(label) \n",
    "    #                              for label in pred_file.readlines()]\n",
    "\n",
    "    auc = roc_auc_score(test_labels[30000000:40000000], test_prediction)\n",
    "    a_roc_curve = roc_curve(test_labels[30000000:40000000], test_prediction)\n",
    "\n",
    "    with plt.xkcd():\n",
    "        plt.plot(a_roc_curve[0], a_roc_curve[1]);\n",
    "        plt.plot([0,1], [0,1])\n",
    "        plt.xlabel('FPR'); plt.ylabel('TPR')\n",
    "        plt.title('test AUC = %f' % (auc))\n",
    "        plt.axis([-0.05,1.05,-0.05,1.05]);"
   ]
  },
  {
   "cell_type": "code",
   "execution_count": null,
   "metadata": {},
   "outputs": [],
   "source": [
    "plot_roc_auc_vw('./data_vw/valid_predictions')"
   ]
  },
  {
   "cell_type": "code",
   "execution_count": null,
   "metadata": {
    "scrolled": true
   },
   "outputs": [],
   "source": [
    "%%time\n",
    "!vw -d ./data_vw/train.vw --nn=100 --loss_function=logistic --link=logistic --passes 2 --cache_file\\\n",
    "./data_vw/cache_for_passes --decay_learning_rate=.95 -f ./data_vw/model.vw"
   ]
  },
  {
   "cell_type": "code",
   "execution_count": null,
   "metadata": {
    "scrolled": true
   },
   "outputs": [],
   "source": [
    "!vw -i ./data_vw/model.vw -t --cache_file\\\n",
    "./data_vw/cache_for_passes_valid -d ./data_vw/valid.vw -p ./data_vw/valid_predictions"
   ]
  },
  {
   "cell_type": "code",
   "execution_count": null,
   "metadata": {
    "scrolled": true
   },
   "outputs": [],
   "source": [
    "plot_roc_auc_vw('./data_vw/valid_predictions')"
   ]
  },
  {
   "cell_type": "markdown",
   "metadata": {},
   "source": [
    "Почти... Сохраним эту модель и её предсказания для стэкинга/блендинга в дальнейшем. "
   ]
  },
  {
   "cell_type": "code",
   "execution_count": null,
   "metadata": {},
   "outputs": [],
   "source": [
    "!vw -d ./data_vw/train.vw --learning_rate=0.1 --loss_function=logistic --link=logistic -f ./data_vw/model.vw"
   ]
  },
  {
   "cell_type": "code",
   "execution_count": null,
   "metadata": {
    "scrolled": true
   },
   "outputs": [],
   "source": [
    "!vw -i ./data_vw/model.vw -t -d ./data_vw/valid.vw \\\n",
    "-p ./data_vw/valid_predictions"
   ]
  },
  {
   "cell_type": "code",
   "execution_count": null,
   "metadata": {},
   "outputs": [],
   "source": [
    "plot_roc_auc_vw('./data_vw/valid_predictions')"
   ]
  },
  {
   "cell_type": "markdown",
   "metadata": {},
   "source": [
    "И никакие нейронки не нужны.. Ключ к успеху - правильный learning_rate :))"
   ]
  },
  {
   "cell_type": "markdown",
   "metadata": {},
   "source": [
    "Попробуем еще повысить качетсво с помощью **--passes, --decay_learning_rate**"
   ]
  },
  {
   "cell_type": "code",
   "execution_count": null,
   "metadata": {},
   "outputs": [],
   "source": [
    "!vw -d ./data_vw/train.vw --learning_rate=0.07 --link=logistic --passes 5 --cache_file\\\n",
    "./data_vw/cache_for_passes --decay_learning_rate=.5 --loss_function=logistic --link=logistic -f ./data_vw/model.vw"
   ]
  },
  {
   "cell_type": "code",
   "execution_count": null,
   "metadata": {
    "scrolled": true
   },
   "outputs": [],
   "source": [
    "!vw -i ./data_vw/model.vw -t -d ./data_vw/valid.vw \\\n",
    "-p ./data_vw/valid_predictions"
   ]
  },
  {
   "cell_type": "code",
   "execution_count": null,
   "metadata": {},
   "outputs": [],
   "source": [
    "plot_roc_auc_vw('./data_vw/valid_predictions')"
   ]
  },
  {
   "cell_type": "code",
   "execution_count": null,
   "metadata": {},
   "outputs": [],
   "source": [
    "!vw -d ./data_vw/train.vw --learning_rate=0.01 --link=logistic --passes 50 --cache_file\\\n",
    "./data_vw/cache_for_passes --decay_learning_rate=.35 --loss_function=logistic --link=logistic -f ./data_vw/model.vw"
   ]
  },
  {
   "cell_type": "code",
   "execution_count": null,
   "metadata": {
    "scrolled": true
   },
   "outputs": [],
   "source": [
    "!vw -i ./data_vw/model.vw -t -d ./data_vw/valid.vw \\\n",
    "-p ./data_vw/valid_predictions"
   ]
  },
  {
   "cell_type": "code",
   "execution_count": null,
   "metadata": {},
   "outputs": [],
   "source": [
    "plot_roc_auc_vw('./data_vw/valid_predictions')"
   ]
  },
  {
   "cell_type": "markdown",
   "metadata": {},
   "source": []
  },
  {
   "cell_type": "code",
   "execution_count": null,
   "metadata": {},
   "outputs": [],
   "source": []
  }
 ],
 "metadata": {
  "kernelspec": {
   "display_name": "Python 3",
   "language": "python",
   "name": "python3"
  },
  "language_info": {
   "codemirror_mode": {
    "name": "ipython",
    "version": 3
   },
   "file_extension": ".py",
   "mimetype": "text/x-python",
   "name": "python",
   "nbconvert_exporter": "python",
   "pygments_lexer": "ipython3",
   "version": "3.7.4"
  },
  "toc": {
   "base_numbering": 1,
   "nav_menu": {},
   "number_sections": true,
   "sideBar": true,
   "skip_h1_title": true,
   "title_cell": "Table of Contents",
   "title_sidebar": "Contents",
   "toc_cell": false,
   "toc_position": {},
   "toc_section_display": true,
   "toc_window_display": false
  },
  "varInspector": {
   "cols": {
    "lenName": 16,
    "lenType": 16,
    "lenVar": 40
   },
   "kernels_config": {
    "python": {
     "delete_cmd_postfix": "",
     "delete_cmd_prefix": "del ",
     "library": "var_list.py",
     "varRefreshCmd": "print(var_dic_list())"
    },
    "r": {
     "delete_cmd_postfix": ") ",
     "delete_cmd_prefix": "rm(",
     "library": "var_list.r",
     "varRefreshCmd": "cat(var_dic_list()) "
    }
   },
   "types_to_exclude": [
    "module",
    "function",
    "builtin_function_or_method",
    "instance",
    "_Feature"
   ],
   "window_display": false
  }
 },
 "nbformat": 4,
 "nbformat_minor": 2
}
