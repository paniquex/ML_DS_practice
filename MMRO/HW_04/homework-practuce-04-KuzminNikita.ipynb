{
 "cells": [
  {
   "cell_type": "markdown",
   "metadata": {},
   "source": [
    "# Машинное обучение, ВМК МГУ\n",
    "\n",
    "# Практическое задание 3\n",
    "\n",
    "### Общая информация\n",
    "\n",
    "Дата выдачи: 20 ноября 2019\n",
    "\n",
    "Мягкий дедлайн: 23:59MSK 3 декабря 2019 (за каждый день просрочки снимается 1 балл)\n",
    "\n",
    "Жесткий дедлайн: 23:59MSK 10 декабря 2019."
   ]
  },
  {
   "cell_type": "markdown",
   "metadata": {},
   "source": [
    "### О задании\n",
    "\n",
    "В этом задании вы:\n",
    "- настроите метод опорных векторов, визуализируете опорные вектора\n",
    "- познакомитесь с калибровочными кривыми и сравните вероятности, выдаваемые логистической регрессией и методом опорных векторов\n",
    "- изучите методы работы с категориальными переменными\n",
    "- в качестве бонуса попробуете библиотеку vowpal wabbit.\n",
    "\n",
    "\n",
    "### Оценивание и штрафы\n",
    "Каждая из задач имеет определенную «стоимость» (указана в скобках около задачи). Максимально допустимая оценка за работу — 10 баллов.\n",
    "\n",
    "Сдавать задание после указанного срока сдачи нельзя. При выставлении неполного балла за задание в связи с наличием ошибок на усмотрение проверяющего предусмотрена возможность исправить работу на указанных в ответном письме условиях.\n",
    "\n",
    "Задание выполняется самостоятельно. «Похожие» решения считаются плагиатом и все задействованные студенты (в том числе те, у кого списали) не могут получить за него больше 0 баллов (подробнее о плагиате см. на странице курса). Если вы нашли решение какого-то из заданий (или его часть) в открытом источнике, необходимо указать ссылку на этот источник в отдельном блоке в конце вашей работы (скорее всего вы будете не единственным, кто это нашел, поэтому чтобы исключить подозрение в плагиате, необходима ссылка на источник).\n",
    "\n",
    "Неэффективная реализация кода может негативно отразиться на оценке.\n",
    "\n",
    "\n",
    "### Формат сдачи\n",
    "Для сдачи задания переименуйте получившийся файл *.ipynb в соответствии со следующим форматом: homework-practice-04-Username.ipynb, где Username — ваша фамилия и имя на латинице именно в таком порядке (например, homework-practice-04-IvanovIvan.ipynb).\n",
    "\n",
    "Для удобства проверки самостоятельно посчитайте свою максимальную оценку (исходя из набора решенных задач) и укажите ниже."
   ]
  },
  {
   "cell_type": "markdown",
   "metadata": {},
   "source": [
    "**Оценка:** ..."
   ]
  },
  {
   "cell_type": "code",
   "execution_count": 1,
   "metadata": {
    "ExecuteTime": {
     "end_time": "2019-10-16T18:11:48.202066Z",
     "start_time": "2019-10-16T18:11:46.362572Z"
    }
   },
   "outputs": [
    {
     "name": "stdout",
     "output_type": "stream",
     "text": [
      "Populating the interactive namespace from numpy and matplotlib\n"
     ]
    }
   ],
   "source": [
    "%pylab inline\n",
    "import pandas as pd\n",
    "import numpy as np\n",
    "import matplotlib.pyplot as plt\n",
    "import seaborn as sns\n",
    "\n",
    "from sklearn.datasets import load_diabetes, make_classification\n",
    "from sklearn.model_selection import train_test_split"
   ]
  },
  {
   "cell_type": "markdown",
   "metadata": {},
   "source": [
    "## Часть 1. Линейная регрессия"
   ]
  },
  {
   "cell_type": "markdown",
   "metadata": {},
   "source": [
    "В этой части мы кратко познакомимся с линейной регрессией.\n",
    "\n",
    "Для начала загрузим данные и разделим их на обучающую и тестовую выборки в соотношении 7 к 3."
   ]
  },
  {
   "cell_type": "code",
   "execution_count": 2,
   "metadata": {},
   "outputs": [],
   "source": [
    "data = load_diabetes()\n",
    "X_train, X_test, y_train, y_test = train_test_split(data.data, data.target, train_size=0.7, random_state=241)"
   ]
  },
  {
   "cell_type": "markdown",
   "metadata": {},
   "source": [
    "__Задание 1.__ Обучение линейной регрессии.\n",
    "\n",
    "**(1 балл)**\n",
    "\n",
    "Обучите линейную регрессию с $L_1$ (Lasso) и $L_2$ (Ridge) регуляризаторами (используйте параметры по умолчанию). Посмотрите, какое количество коэффициентов близко к 0 (степень близости к 0 определите сами из разумных пределов). Постройте график зависимости числа ненулевых коэффициентов от коэффицента регуляризации (перебирайте значения по логарифмической сетке от $10^{-3}$ до $10^3$). Согласуются ли результаты с вашими ожиданиями?"
   ]
  },
  {
   "cell_type": "code",
   "execution_count": 3,
   "metadata": {},
   "outputs": [],
   "source": [
    "from sklearn.linear_model import Lasso\n",
    "from sklearn.linear_model import Ridge\n",
    "from sklearn.metrics import r2_score, mean_squared_error, mean_absolute_error"
   ]
  },
  {
   "cell_type": "markdown",
   "metadata": {},
   "source": [
    "Будем считать коэффициенты близкими к нулю, если они по модулю не превосходят $eps=10^{-3}$"
   ]
  },
  {
   "cell_type": "code",
   "execution_count": 4,
   "metadata": {},
   "outputs": [],
   "source": [
    "eps = 1e-3\n",
    "\n",
    "alpha_coefs_arr = np.logspace(-3, 3, 100)\n",
    "not_zero_coefs_amount_list_lasso = []\n",
    "not_zero_coefs_amount_list_ridge = []\n",
    "\n",
    "for alpha_coef in alpha_coefs_arr:\n",
    "    lasso_model = Lasso(alpha=alpha_coef)\n",
    "    lasso_model.fit(X_train, y_train)\n",
    "    lasso_coefs = lasso_model.coef_\n",
    "    not_zero_coefs_amount = np.sum(abs(lasso_coefs) > eps)\n",
    "    not_zero_coefs_amount_list_lasso.append(not_zero_coefs_amount)\n",
    "    \n",
    "    ridge_model = Ridge(alpha=alpha_coef)\n",
    "    ridge_model.fit(X_train, y_train)\n",
    "    ridge_coefs = ridge_model.coef_\n",
    "    not_zero_coefs_amount = np.sum(abs(ridge_coefs) > eps)\n",
    "    not_zero_coefs_amount_list_ridge.append(not_zero_coefs_amount)"
   ]
  },
  {
   "cell_type": "code",
   "execution_count": 5,
   "metadata": {},
   "outputs": [
    {
     "data": {
      "image/png": "[encoded data removed]",
      "text/plain": [
       "<Figure size 1080x504 with 1 Axes>"
      ]
     },
     "metadata": {
      "needs_background": "light"
     },
     "output_type": "display_data"
    }
   ],
   "source": [
    "plt.figure(figsize=(15, 7))\n",
    "sns.lineplot(x=alpha_coefs_arr, y=not_zero_coefs_amount_list_lasso)\n",
    "sns.lineplot(x=alpha_coefs_arr, y=not_zero_coefs_amount_list_ridge)\n",
    "\n",
    "plt.title('Зависимость числа ненулевых коэффициентов от коэффициента регуляризации для линейных моделей')\n",
    "plt.legend(['Lasso', 'Ridge'])\n",
    "plt.xlabel('Коэффициент регуляризации')\n",
    "plt.ylabel('Количество ненулевых коэффициентов')\n",
    "plt.semilogx()\n",
    "plt.show()"
   ]
  },
  {
   "cell_type": "markdown",
   "metadata": {},
   "source": [
    "Этого и стоило ожидать, так как линейная регрессия с $L_1$-регуляризацией имеет свойство исключать неинформативные признаки (то есть занулять веса, соответствующие таким признакам). Это было доказано на лекциях."
   ]
  },
  {
   "cell_type": "markdown",
   "metadata": {},
   "source": [
    "Посчитайте для Ridge-регрессии следующие метрики: $RMSE$, $MAE$, $R^2$."
   ]
  },
  {
   "cell_type": "code",
   "execution_count": 6,
   "metadata": {},
   "outputs": [],
   "source": [
    "ridge_model.fit(X_train, y_train)\n",
    "predictions_ridge = ridge_model.predict(X_test)"
   ]
  },
  {
   "cell_type": "code",
   "execution_count": 7,
   "metadata": {},
   "outputs": [
    {
     "name": "stdout",
     "output_type": "stream",
     "text": [
      "RMSE score: 72.8037\n",
      "MAE score: 59.9321\n",
      "R2 score: 0.0019\n"
     ]
    }
   ],
   "source": [
    "print(f'RMSE score: {np.sqrt(mean_squared_error(y_test, predictions_ridge)):.4f}')\n",
    "print(f'MAE score: {mean_absolute_error(y_test, predictions_ridge):.4f}')      \n",
    "print(f'R2 score: {r2_score(y_test, predictions_ridge):.4f}')     "
   ]
  },
  {
   "cell_type": "markdown",
   "metadata": {},
   "source": [
    "Подберите на обучающей выборке для Ridge-регрессии коэффициент регуляризации (перебирайте значения по логарифмической сетке от $10^{-3}$ до $10^3$) для каждой из метрик. Для этого воспользуйтесь GridSearchCV и KFold из sklearn. Постройте графики зависимости фукнции потерь от коэффициента регуляризации. Посчитайте те же метрики снова. Заметно ли изменилось качество?"
   ]
  },
  {
   "cell_type": "code",
   "execution_count": 8,
   "metadata": {},
   "outputs": [
    {
     "name": "stderr",
     "output_type": "stream",
     "text": [
      "/home/paniquex/anaconda3/envs/kaggle/lib/python3.7/site-packages/sklearn/model_selection/_search.py:814: DeprecationWarning: The default of the `iid` parameter will change from True to False in version 0.22 and will be removed in 0.24. This will change numeric results when test-set sizes are unequal.\n",
      "  DeprecationWarning)\n",
      "/home/paniquex/anaconda3/envs/kaggle/lib/python3.7/site-packages/sklearn/model_selection/_search.py:814: DeprecationWarning: The default of the `iid` parameter will change from True to False in version 0.22 and will be removed in 0.24. This will change numeric results when test-set sizes are unequal.\n",
      "  DeprecationWarning)\n",
      "/home/paniquex/anaconda3/envs/kaggle/lib/python3.7/site-packages/sklearn/model_selection/_search.py:814: DeprecationWarning: The default of the `iid` parameter will change from True to False in version 0.22 and will be removed in 0.24. This will change numeric results when test-set sizes are unequal.\n",
      "  DeprecationWarning)\n"
     ]
    }
   ],
   "source": [
    "from sklearn.model_selection import GridSearchCV, KFold\n",
    "import sklearn\n",
    "\n",
    "metrics_list = ['neg_mean_squared_error', 'neg_mean_absolute_error', 'r2']\n",
    "\n",
    "n_folds = 5\n",
    "kfold = KFold(n_folds)\n",
    "grid_search_results_list = []\n",
    "grid_search_best_results_list = []\n",
    "param_grid = {'alpha': np.logspace(-3, 3, 100)}\n",
    "\n",
    "for metric in metrics_list:\n",
    "    grid_search = GridSearchCV(ridge_model, param_grid=param_grid,\n",
    "                               scoring=metric, cv=kfold)\n",
    "    grid_search.fit(X_train, y_train)\n",
    "    grid_search.cv_results_['metric'] = metric\n",
    "    grid_search_results_list.append(grid_search.cv_results_)\n",
    "    grid_search_best_results_list.append(grid_search.best_params_)"
   ]
  },
  {
   "cell_type": "code",
   "execution_count": 9,
   "metadata": {},
   "outputs": [
    {
     "data": {
      "image/png": "[encoded data removed]",
      "text/plain": [
       "<Figure size 1080x504 with 1 Axes>"
      ]
     },
     "metadata": {
      "needs_background": "light"
     },
     "output_type": "display_data"
    }
   ],
   "source": [
    "plt.figure(figsize=(15, 7))\n",
    "sns.lineplot(x=alpha_coefs_arr, y=grid_search_results_list[2]['mean_test_score'])\n",
    "\n",
    "\n",
    "plt.title('Зависимость функции потерь $R^2$ от коэффициента регуляризации для Ridge-регрессии')\n",
    "plt.xlabel('Коэффициент регуляризации')\n",
    "plt.ylabel('Значение функции потерь')\n",
    "plt.semilogx()\n",
    "plt.show()"
   ]
  },
  {
   "cell_type": "code",
   "execution_count": 10,
   "metadata": {},
   "outputs": [
    {
     "data": {
      "image/png": "[encoded data removed]",
      "text/plain": [
       "<Figure size 1080x504 with 1 Axes>"
      ]
     },
     "metadata": {
      "needs_background": "light"
     },
     "output_type": "display_data"
    }
   ],
   "source": [
    "plt.figure(figsize=(15, 7))\n",
    "sns.lineplot(x=alpha_coefs_arr, y=-grid_search_results_list[1]['mean_test_score'])\n",
    "sns.lineplot(x=alpha_coefs_arr, y=np.sqrt(-grid_search_results_list[0]['mean_test_score']))\n",
    "\n",
    "\n",
    "plt.title('Зависимость функций потерь от коэффициента регуляризации для Ridge-регрессии')\n",
    "plt.legend(['MAE', 'RMSE'])\n",
    "plt.xlabel('Коэффициент регуляризации')\n",
    "plt.ylabel('Значение функции потерь')\n",
    "plt.semilogx()\n",
    "plt.show()"
   ]
  },
  {
   "cell_type": "markdown",
   "metadata": {},
   "source": [
    "Обучим 3 модели Ridge-регрессии с лучшими коэффициентами регуляризации для каждой из метрик:"
   ]
  },
  {
   "cell_type": "code",
   "execution_count": 11,
   "metadata": {},
   "outputs": [],
   "source": [
    "preds_list = []\n",
    "\n",
    "for best_coef in grid_search_best_results_list:\n",
    "    best_coef = best_coef['alpha']\n",
    "    ridge_model = Ridge(alpha=best_coef)\n",
    "    ridge_model.fit(X_train, y_train)\n",
    "    preds = ridge_model.predict(X_test)\n",
    "    preds_list.append(preds)"
   ]
  },
  {
   "cell_type": "code",
   "execution_count": 12,
   "metadata": {
    "scrolled": true
   },
   "outputs": [
    {
     "name": "stdout",
     "output_type": "stream",
     "text": [
      "RMSE score: 55.8211\n",
      "MAE score: 47.1444\n",
      "R2 score: 0.4133\n"
     ]
    }
   ],
   "source": [
    "print(f'RMSE score: {np.sqrt(mean_squared_error(y_test, preds_list[0])):.4f}')\n",
    "print(f'MAE score: {mean_absolute_error(y_test, preds_list[1]):.4f}')      \n",
    "print(f'R2 score: {r2_score(y_test, preds_list[2]):.4f}')     "
   ]
  },
  {
   "cell_type": "markdown",
   "metadata": {},
   "source": [
    "Напомним предыдущие результаты:\n",
    "\n",
    "RMSE score: 72.8037\n",
    "\n",
    "MAE score: 59.9321\n",
    "\n",
    "R2 score: 0.0019"
   ]
  },
  {
   "cell_type": "markdown",
   "metadata": {},
   "source": [
    "Вывод: подбор параметра регуляризации позволил получить значительно лучшие результаты."
   ]
  },
  {
   "cell_type": "markdown",
   "metadata": {},
   "source": [
    "__Задание 2.__ Поиск объектов-выбросов\n",
    "\n",
    "**(0.5 балла)**\n",
    "\n",
    "Как известно, MSE сильно штрафует за большие ошибки на объектах-выбросах. С помощью cross_val_predict сделайте Out-of-Fold предсказания для обучающей выборки. Посчитайте ошибки и посмотрите на их распределение (plt.hist). Что вы видите?"
   ]
  },
  {
   "cell_type": "markdown",
   "metadata": {},
   "source": [
    "Чтобы гистограмма была репрезентативной было решено использовать алгоритм валидации \"Leave One Out\"."
   ]
  },
  {
   "cell_type": "code",
   "execution_count": 13,
   "metadata": {},
   "outputs": [],
   "source": [
    "from sklearn.model_selection import cross_val_predict\n",
    "\n",
    "cross_val_pred = cross_val_predict(ridge_model, X_train, y_train, cv=KFold(y_train.shape[0]))"
   ]
  },
  {
   "cell_type": "code",
   "execution_count": 14,
   "metadata": {},
   "outputs": [],
   "source": [
    "mse_oof_list = []\n",
    "for _, tst_idx in KFold(y_train.shape[0]).split(X_train, y_train):\n",
    "    mse_oof_list.append(mean_squared_error(y_train[tst_idx], cross_val_pred[tst_idx]))"
   ]
  },
  {
   "cell_type": "code",
   "execution_count": 15,
   "metadata": {},
   "outputs": [
    {
     "data": {
      "image/png": "[encoded data removed]",
      "text/plain": [
       "<Figure size 1080x504 with 1 Axes>"
      ]
     },
     "metadata": {
      "needs_background": "light"
     },
     "output_type": "display_data"
    }
   ],
   "source": [
    "plt.figure(figsize=(15, 7))\n",
    "plt.hist(mse_oof_list, density=False, bins=50)\n",
    "plt.title('Зависимость функций потерь от коэффициента регуляризации для Ridge-регрессии', fontsize=14)\n",
    "plt.xlabel('Значение MSE', fontsize=12)\n",
    "plt.ylabel('Количество объектов тренировочной выборки', fontsize=12)\n",
    "plt.show()"
   ]
  },
  {
   "cell_type": "markdown",
   "metadata": {},
   "source": [
    "Видно, что объекты, на которых значение MSE превосходит 20000 - выбросы. Возможно, те объекты, на которых достигается ошибка в пределах $\\in [15000, 20000]$ тоже являются выбросами. Проведем эксперименты:"
   ]
  },
  {
   "cell_type": "code",
   "execution_count": 16,
   "metadata": {},
   "outputs": [
    {
     "data": {
      "text/plain": [
       "[{'alpha': 0.002009233002565048},\n",
       " {'alpha': 0.0013219411484660286},\n",
       " {'alpha': 0.002009233002565048}]"
      ]
     },
     "execution_count": 16,
     "metadata": {},
     "output_type": "execute_result"
    }
   ],
   "source": [
    "grid_search_best_results_list"
   ]
  },
  {
   "cell_type": "code",
   "execution_count": 17,
   "metadata": {
    "scrolled": true
   },
   "outputs": [
    {
     "name": "stdout",
     "output_type": "stream",
     "text": [
      "Кол-во объектов, которые считаются выбросами при MSE > 2051.1:        124\n",
      "Кол-во объектов, которые считаются выбросами при MSE > 3112.1:        93\n",
      "Кол-во объектов, которые считаются выбросами при MSE > 3951.6:        77\n",
      "Кол-во объектов, которые считаются выбросами при MSE > 5121.9:        62\n",
      "Кол-во объектов, которые считаются выбросами при MSE > 6809.0:        47\n",
      "Кол-во объектов, которые считаются выбросами при MSE > 8340.5:        31\n",
      "Кол-во объектов, которые считаются выбросами при MSE > 9224.9:        25\n",
      "Кол-во объектов, которые считаются выбросами при MSE > 10377.0:        19\n",
      "Кол-во объектов, которые считаются выбросами при MSE > 10958.3:        16\n",
      "Кол-во объектов, которые считаются выбросами при MSE > 16869.3:        7\n",
      "Кол-во объектов, которые считаются выбросами при MSE > 18336.6:        4\n",
      "Кол-во объектов, которые считаются выбросами при MSE > 23684.0:        2\n",
      "Кол-во объектов, которые считаются выбросами при MSE > 25282.0:        0\n"
     ]
    }
   ],
   "source": [
    "quantile_list = [0.6, 0.7, 0.75, 0.8, 0.85, 0.9, 0.92, 0.94, 0.95, 0.98, 0.99, 0.995, 1]\n",
    "mse_oof_array = np.array(mse_oof_list)\n",
    "\n",
    "for q in quantile_list:\n",
    "    print(f'Кол-во объектов, которые считаются выбросами при MSE > {np.quantile(mse_oof_array, q=q):.1f}:\\\n",
    "        {np.sum(mse_oof_array > np.quantile(mse_oof_array, q=q))}')"
   ]
  },
  {
   "cell_type": "markdown",
   "metadata": {},
   "source": [
    "Попробуйте удалить объекты-выбросы из обучающей выборки (что считать или не считать выбросами на ваше усмотрение). Обучите модель заново и посмотрите на качество на отложенной выборке (учитывайте, что там тоже могут быть выбросы, с которыми вы ничего не можете сделать). Стало ли лучше? Чем вы можете объяснить это?"
   ]
  },
  {
   "cell_type": "markdown",
   "metadata": {},
   "source": [
    "Сравним качество на всех этих порогах для всех метрик, используя Ridge регрессию со стандартными параметрами."
   ]
  },
  {
   "cell_type": "code",
   "execution_count": 18,
   "metadata": {
    "scrolled": true
   },
   "outputs": [],
   "source": [
    "ridge_model = Ridge()\n",
    "rmse_list = []\n",
    "mae_list = []\n",
    "r2_list = []\n",
    "for q in quantile_list:\n",
    "    train_wout_anomaly_mask = mse_oof_array <= np.quantile(mse_oof_array, q=q)\n",
    "    ridge_model.fit(X_train[train_wout_anomaly_mask], y_train[train_wout_anomaly_mask])\n",
    "    preds = ridge_model.predict(X_test)\n",
    "    rmse_list.append(np.sqrt(mean_squared_error(y_test, preds)))\n",
    "    mae_list.append(mean_absolute_error(y_test, preds))\n",
    "    r2_list.append(r2_score(y_test, preds))"
   ]
  },
  {
   "cell_type": "code",
   "execution_count": 19,
   "metadata": {},
   "outputs": [
    {
     "name": "stdout",
     "output_type": "stream",
     "text": [
      "Минимум RMSE = 58.09 достигается при отбрасывании 16 объектов\n",
      "Минимум MAE = 49.42 достигается при отбрасывании 19 объектов\n",
      "Максимум R^2 = 0.36 достигается при отбрасывании 16 объектов\n"
     ]
    }
   ],
   "source": [
    "print(f'Минимум RMSE = {np.min(rmse_list):.2f} достигается при отбрасывании {np.sum(mse_oof_array > np.quantile(mse_oof_array, q=quantile_list[np.argmin(rmse_list)]))} объектов')\n",
    "print(f'Минимум MAE = {np.min(mae_list):.2f} достигается при отбрасывании {np.sum(mse_oof_array > np.quantile(mse_oof_array, q=quantile_list[np.argmin(mae_list)]))} объектов')\n",
    "print(f'Максимум R^2 = {np.max(r2_list):.2f} достигается при отбрасывании {np.sum(mse_oof_array > np.quantile(mse_oof_array, q=quantile_list[np.argmax(r2_list)]))} объектов')"
   ]
  },
  {
   "cell_type": "markdown",
   "metadata": {},
   "source": [
    "Напомним предыдущие результаты (для стандартных параметров модели):\n",
    "\n",
    "RMSE score: 72.8037\n",
    "\n",
    "MAE score: 59.9321\n",
    "\n",
    "R2 score: 0.0019"
   ]
  },
  {
   "cell_type": "markdown",
   "metadata": {},
   "source": [
    "**Ответ: таким образом, исключение выбросов из тренировочной выборки позволяет повысить качество Ridge регрессии. Это можно объяснить тем, что линейная модель сильно чувствительна к выбросам**"
   ]
  },
  {
   "cell_type": "markdown",
   "metadata": {},
   "source": [
    "## Часть 2. Метод опорных векторов и калибровка вероятностней"
   ]
  },
  {
   "cell_type": "markdown",
   "metadata": {
    "ExecuteTime": {
     "end_time": "2018-10-12T07:36:04.765536Z",
     "start_time": "2018-10-12T07:35:57.814973Z"
    }
   },
   "source": [
    "Сгенерируем синтетические данные."
   ]
  },
  {
   "cell_type": "code",
   "execution_count": 20,
   "metadata": {
    "ExecuteTime": {
     "end_time": "2019-10-16T18:11:50.932537Z",
     "start_time": "2019-10-16T18:11:50.752839Z"
    }
   },
   "outputs": [],
   "source": [
    "X, y = make_classification(\n",
    "    n_samples=100000, n_features=20, n_informative=10, n_redundant=10,\n",
    "    random_state=42)\n",
    "\n",
    "X_train, X_test, y_train, y_test = train_test_split(\n",
    "    X, y, test_size=0.3, random_state=42)"
   ]
  },
  {
   "cell_type": "markdown",
   "metadata": {},
   "source": [
    "__Задание 1.__ Обучение и применение метода опорных векторов.\n",
    "\n",
    "__(1 балл)__\n",
    "\n",
    "Обучите метод опорных векторов. На занятиях мы проходили обычный вариант, что соответствует линейному ядру (LinearSVC/LinearSVR в scikit-learn)."
   ]
  },
  {
   "cell_type": "code",
   "execution_count": 21,
   "metadata": {
    "ExecuteTime": {
     "end_time": "2018-10-11T20:39:43.088969Z",
     "start_time": "2018-10-11T20:39:43.084985Z"
    }
   },
   "outputs": [
    {
     "name": "stdout",
     "output_type": "stream",
     "text": [
      "CPU times: user 9.92 s, sys: 35.4 ms, total: 9.95 s\n",
      "Wall time: 8.82 s\n"
     ]
    },
    {
     "name": "stderr",
     "output_type": "stream",
     "text": [
      "/home/paniquex/anaconda3/envs/kaggle/lib/python3.7/site-packages/sklearn/svm/base.py:929: ConvergenceWarning: Liblinear failed to converge, increase the number of iterations.\n",
      "  \"the number of iterations.\", ConvergenceWarning)\n"
     ]
    },
    {
     "data": {
      "text/plain": [
       "LinearSVC(C=1.0, class_weight=None, dual=True, fit_intercept=True,\n",
       "          intercept_scaling=1, loss='squared_hinge', max_iter=1000,\n",
       "          multi_class='ovr', penalty='l2', random_state=None, tol=0.0001,\n",
       "          verbose=0)"
      ]
     },
     "execution_count": 21,
     "metadata": {},
     "output_type": "execute_result"
    }
   ],
   "source": [
    "%%time\n",
    "from sklearn.svm import LinearSVC\n",
    "\n",
    "linear_svc = LinearSVC()\n",
    "linear_svc.fit(X_train , y_train)"
   ]
  },
  {
   "cell_type": "markdown",
   "metadata": {},
   "source": [
    "На тестовой части посчитайте ROC-AUC, PR-AUC. Постройте ROC и PR кривые."
   ]
  },
  {
   "cell_type": "code",
   "execution_count": 22,
   "metadata": {},
   "outputs": [
    {
     "name": "stdout",
     "output_type": "stream",
     "text": [
      "0.8476357954937275\n",
      "0.7969573140650485\n"
     ]
    }
   ],
   "source": [
    "from sklearn.metrics import roc_auc_score, roc_curve, average_precision_score, precision_recall_curve\n",
    "\n",
    "preds = linear_svc.predict(X_test)\n",
    "print(roc_auc_score(y_test, preds))\n",
    "print(average_precision_score(y_test, preds))\n"
   ]
  },
  {
   "cell_type": "code",
   "execution_count": 173,
   "metadata": {},
   "outputs": [],
   "source": [
    "def plot_roc_curve(y_true, y_pred, title='', color='green'):\n",
    "    plt.figure(figsize=(6,5))\n",
    "    plt.xlabel(\"False Positive Rate\")\n",
    "    plt.ylabel(\"True Positive Rate (recall)\")\n",
    "    fpr, tpr, _ = roc_curve(y_true, y_pred)\n",
    "    roc_auc = roc_auc_score(y_true, y_pred)\n",
    "    plt.plot(fpr, tpr, label=(\"ROC_AUC=%.2f\" % roc_auc), linewidth=2,\n",
    "    color=color)\n",
    "    plt.title(title)\n",
    "    plt.legend(loc=\"best\")\n",
    "    \n",
    "\n",
    "def plot_pr_curve(y_true, y_pred, title='', color='green'):\n",
    "    plt.figure(figsize=(6,5))\n",
    "    plt.xlabel(\"Recall\")\n",
    "    plt.ylabel(\"Precision\")\n",
    "    precision, recall, _ = precision_recall_curve(y_true, y_pred)\n",
    "    pr_auc = average_precision_score(y_true, y_pred)\n",
    "    plt.plot(recall, precision, label=(\"PR_AUC=%.2f\" % pr_auc), linewidth=2,\n",
    "    color=color)\n",
    "    plt.title(title)\n",
    "    plt.xlim(-0.05, 1.05)\n",
    "    plt.legend(loc=\"best\")\n",
    "    "
   ]
  },
  {
   "cell_type": "code",
   "execution_count": 24,
   "metadata": {},
   "outputs": [
    {
     "data": {
      "image/png": "[encoded data removed]",
      "text/plain": [
       "<Figure size 432x360 with 1 Axes>"
      ]
     },
     "metadata": {
      "needs_background": "light"
     },
     "output_type": "display_data"
    }
   ],
   "source": [
    "plot_roc_curve(y_test, preds, title='ROC-кривая для тестовой выборки')"
   ]
  },
  {
   "cell_type": "code",
   "execution_count": 25,
   "metadata": {},
   "outputs": [
    {
     "data": {
      "image/png": "[encoded data removed]",
      "text/plain": [
       "<Figure size 432x360 with 1 Axes>"
      ]
     },
     "metadata": {
      "needs_background": "light"
     },
     "output_type": "display_data"
    }
   ],
   "source": [
    "plot_pr_curve(y_test, preds, title='PR-кривая для тестовой выборки')"
   ]
  },
  {
   "cell_type": "markdown",
   "metadata": {},
   "source": [
    "В названии метода присутствуют некоторые \"опорные векторы\". Сгенерируйте синтетический датасет с помощью make_classification с 2 признаками, обучите на нём метод опорных векторов. Визуализируйте разделяющую прямую, все объекты и выделите опорные вектора (атрибут support\\_vectors\\_). В этот раз вместо LinearSVC воспользуйтесь SVC с линейным ядром (kernel='linear'), так как только в нём есть информация об опорных векторах.\n",
    "\n",
    "Графики должны быть оформлены правильно, в соответствии с теми требованиями, которые были в первой лабороторной. Так же опорные вектора следует рисовать не другим цветом, а другой меткой (например, крестик), иначе теряется принадлежность к классу. "
   ]
  },
  {
   "cell_type": "code",
   "execution_count": 26,
   "metadata": {},
   "outputs": [],
   "source": [
    "from sklearn.svm import SVC\n",
    "\n",
    "X, y = make_classification(\n",
    "    n_samples=100, n_features=2, n_informative=2, n_redundant=0,\n",
    "    random_state=42)\n",
    "\n",
    "\n",
    "linear_svc = SVC(kernel='linear')"
   ]
  },
  {
   "cell_type": "code",
   "execution_count": 27,
   "metadata": {},
   "outputs": [
    {
     "name": "stdout",
     "output_type": "stream",
     "text": [
      "CPU times: user 581 µs, sys: 0 ns, total: 581 µs\n",
      "Wall time: 464 µs\n"
     ]
    },
    {
     "data": {
      "text/plain": [
       "SVC(C=1.0, cache_size=200, class_weight=None, coef0=0.0,\n",
       "    decision_function_shape='ovr', degree=3, gamma='auto_deprecated',\n",
       "    kernel='linear', max_iter=-1, probability=False, random_state=None,\n",
       "    shrinking=True, tol=0.001, verbose=False)"
      ]
     },
     "execution_count": 27,
     "metadata": {},
     "output_type": "execute_result"
    }
   ],
   "source": [
    "%%time\n",
    "linear_svc.fit(X, y)"
   ]
  },
  {
   "cell_type": "code",
   "execution_count": 28,
   "metadata": {},
   "outputs": [
    {
     "data": {
      "text/plain": [
       "((100, 2), (100,))"
      ]
     },
     "execution_count": 28,
     "metadata": {},
     "output_type": "execute_result"
    }
   ],
   "source": [
    "X.shape, y.shape"
   ]
  },
  {
   "cell_type": "code",
   "execution_count": 29,
   "metadata": {},
   "outputs": [],
   "source": [
    "# sns.scatterplot(x=X[:, 0], y=X[:, 1], hue=y)\n",
    "# # xy = np.vstack([X.ravel(), y.ravel()]).T\n",
    "# sns.lineplot(x=X[:, 0], y=linear_svc.decision_function(X), color='red')"
   ]
  },
  {
   "cell_type": "code",
   "execution_count": 30,
   "metadata": {},
   "outputs": [],
   "source": [
    "# linear_svc.decision_function(xy).reshape(X.shape)"
   ]
  },
  {
   "cell_type": "code",
   "execution_count": 31,
   "metadata": {},
   "outputs": [],
   "source": [
    "def plot_svc_decision_function(model, data, y_data, ax=None, plot_support=True):\n",
    "    \"\"\"Plot the decision function for a 2D SVC\"\"\"\n",
    "    if ax is None:\n",
    "        ax = plt.gca()\n",
    "    xlim = ax.get_xlim()\n",
    "    ylim = ax.get_ylim()\n",
    "    \n",
    "    # create grid to evaluate model\n",
    "    x = np.linspace(xlim[0], xlim[1], 30)\n",
    "    y = np.linspace(ylim[0], ylim[1], 30)\n",
    "    Y, X = np.meshgrid(y, x)\n",
    "    xy = np.vstack([X.ravel(), Y.ravel()]).T\n",
    "    P = model.decision_function(xy).reshape(X.shape)\n",
    "    \n",
    "    # plot decision boundary and margins\n",
    "    ax.contour(X, Y, P, colors='black',\n",
    "               levels=[-1, 0, 1],\n",
    "               linestyles=['--', '-', '--'])\n",
    "    ax.legend(['s'])\n",
    "    \n",
    "    # plot support vectors\n",
    "    if plot_support:\n",
    "        plt.scatter(x=model.support_vectors_[:, 0],\n",
    "                        y=model.support_vectors_[:, 1],\n",
    "                        s=25,\n",
    "                        marker=\"x\",\n",
    "                        color='yellow',\n",
    "                        linewidth=2,\n",
    "                        label='опорные векторы')\n",
    "    ax.set_xlim(xlim)\n",
    "    ax.set_ylim(ylim)"
   ]
  },
  {
   "cell_type": "code",
   "execution_count": 32,
   "metadata": {},
   "outputs": [
    {
     "data": {
      "image/png": "[encoded data removed]",
      "text/plain": [
       "<Figure size 432x288 with 1 Axes>"
      ]
     },
     "metadata": {
      "needs_background": "light"
     },
     "output_type": "display_data"
    }
   ],
   "source": [
    "sns.scatterplot(X[:, 0], X[:, 1], hue=y, s=150, label=None)\n",
    "plot_svc_decision_function(linear_svc, data=X, y_data=y, plot_support=True)\n",
    "\n",
    "plt.legend()\n",
    "plt.title('Визуализация разделяющей прямой метода опорных векторов')\n",
    "plt.show()"
   ]
  },
  {
   "cell_type": "markdown",
   "metadata": {},
   "source": [
    "__Задание 2.__ Калибровка вероятностей.\n",
    "\n",
    "__(1.5 балла)__\n",
    "\n",
    "Перейдём к оценке качества выдаваемых алгоритмами вероятностей. Начнём с калибровочных кривых. \n",
    "\n",
    "Допустим, алгоритм возвращает некоторые числа от нуля до единицы. Хорошо ли они оценивают вероятность? Для этого разобьем отрезок $[0, 1]$ на несколько маленьких отрезков одинаковой длины. Рассмотрим $i$-й отрезок с границами $[a_i, b_i]$ и предсказания $p_1, p_2, \\dots, p_k$, которые попали в него. Пусть им соответствуют истинные ответы $y_1, y_2, \\dots, y_k$. Если алгоритм выдает корректные вероятности, то среди этих истинных ответов должно быть примерно $(a_i + b_i) / 2$ единиц. Иными словами, если нарисовать кривую, у которой по оси X отложены центры отрезков, а по оси Y — доли единичных ответов этих в отрезках, то она должна оказаться диагональной. Ниже приведена функция, которая должна рисовать такие кривые. В ней допущено две ошибки — найдите и исправьте их."
   ]
  },
  {
   "cell_type": "code",
   "execution_count": 33,
   "metadata": {},
   "outputs": [],
   "source": [
    "def plot_calibration_curve(y_test, preds):\n",
    "    bin_middle_points = []\n",
    "    bin_real_ratios = []\n",
    "    n_bins = 20\n",
    "    for i in range(n_bins):\n",
    "        l = 1.0 / n_bins * i\n",
    "        r = 1.0 / n_bins * (i + 1)\n",
    "        bin_middle_points.append((l + r) / 2)\n",
    "        bin_real_ratios.append(np.mean(y_test[(preds >= l) & (preds < r)]))\n",
    "    plt.plot(bin_middle_points, bin_real_ratios)"
   ]
  },
  {
   "cell_type": "markdown",
   "metadata": {},
   "source": [
    "Постройте калибровочные кривые для логистической регрессии и метода опорных векторов. Изучите распределение ответов классификаторов (постройте гистограммы с помощью plt.hist). Чем они различаются? Чем вы можете объяснить это?\n",
    "\n",
    "Заметим, что метод опорных векторов не умеет predict_proba, но имеет метод decision_function."
   ]
  },
  {
   "cell_type": "code",
   "execution_count": 34,
   "metadata": {},
   "outputs": [],
   "source": [
    "X, y = make_classification(\n",
    "    n_samples=1000, n_features=20, n_informative=10, n_redundant=10,\n",
    "    random_state=42)\n",
    "\n",
    "X_train, X_test, y_train, y_test = train_test_split(\n",
    "    X, y, test_size=0.3, random_state=42)"
   ]
  },
  {
   "cell_type": "code",
   "execution_count": 35,
   "metadata": {},
   "outputs": [],
   "source": [
    "from sklearn.linear_model import LogisticRegression\n",
    "\n",
    "linear_svc = SVC(kernel='linear', probability=True)\n",
    "logistic_regr = LogisticRegression()"
   ]
  },
  {
   "cell_type": "code",
   "execution_count": 36,
   "metadata": {},
   "outputs": [
    {
     "name": "stdout",
     "output_type": "stream",
     "text": [
      "CPU times: user 1.54 s, sys: 40.3 ms, total: 1.58 s\n",
      "Wall time: 326 ms\n"
     ]
    }
   ],
   "source": [
    "%%time\n",
    "linear_svc.fit(X_train, y_train)\n",
    "preds_svc = linear_svc.predict_proba(X_test)"
   ]
  },
  {
   "cell_type": "code",
   "execution_count": 160,
   "metadata": {},
   "outputs": [
    {
     "data": {
      "image/png": "[encoded data removed]",
      "text/plain": [
       "<Figure size 432x288 with 1 Axes>"
      ]
     },
     "metadata": {
      "needs_background": "light"
     },
     "output_type": "display_data"
    }
   ],
   "source": [
    "plt.hist(preds_svc)\n",
    "plt.title('Распределение ответов метода опорных векторов')\n",
    "plt.show()"
   ]
  },
  {
   "cell_type": "code",
   "execution_count": 37,
   "metadata": {},
   "outputs": [
    {
     "name": "stdout",
     "output_type": "stream",
     "text": [
      "CPU times: user 3.64 ms, sys: 0 ns, total: 3.64 ms\n",
      "Wall time: 3.23 ms\n"
     ]
    },
    {
     "name": "stderr",
     "output_type": "stream",
     "text": [
      "/home/paniquex/anaconda3/envs/kaggle/lib/python3.7/site-packages/sklearn/linear_model/logistic.py:432: FutureWarning: Default solver will be changed to 'lbfgs' in 0.22. Specify a solver to silence this warning.\n",
      "  FutureWarning)\n"
     ]
    }
   ],
   "source": [
    "%%time\n",
    "logistic_regr.fit(X_train, y_train)\n",
    "preds_logistic = logistic_regr.predict_proba(X_test)"
   ]
  },
  {
   "cell_type": "code",
   "execution_count": 161,
   "metadata": {},
   "outputs": [
    {
     "data": {
      "image/png": "[encoded data removed]",
      "text/plain": [
       "<Figure size 432x288 with 1 Axes>"
      ]
     },
     "metadata": {
      "needs_background": "light"
     },
     "output_type": "display_data"
    }
   ],
   "source": [
    "plt.hist(preds_logistic)\n",
    "plt.title('Распределение ответов логистической регрессии')\n",
    "plt.show()"
   ]
  },
  {
   "cell_type": "code",
   "execution_count": 38,
   "metadata": {},
   "outputs": [
    {
     "data": {
      "image/png": "[encoded data removed]",
      "text/plain": [
       "<Figure size 432x288 with 1 Axes>"
      ]
     },
     "metadata": {
      "needs_background": "light"
     },
     "output_type": "display_data"
    }
   ],
   "source": [
    "plot_calibration_curve(y_test, preds_logistic[:, 1])\n",
    "plot_calibration_curve(y_test, preds_svc[:, 1])\n",
    "plt.title('Калибровочные кривые')\n",
    "plt.legend(['Логистическая регрессия', 'Метод опорных векторов'])\n",
    "plt.show()"
   ]
  },
  {
   "cell_type": "markdown",
   "metadata": {},
   "source": [
    "Воспользуйтесь CalibratedClassifierCV из sklearn для калибровки вероятностей метода опорных векторов на обучении и постройте с его помощью предсказания для тестовой выборки. Нарисуйте для них калибровочную кривую. Улучшилась ли она?"
   ]
  },
  {
   "cell_type": "code",
   "execution_count": 39,
   "metadata": {},
   "outputs": [],
   "source": [
    "from sklearn.calibration import CalibratedClassifierCV\n",
    "\n",
    "calibr_classifier = CalibratedClassifierCV(linear_svc, cv=kfold)"
   ]
  },
  {
   "cell_type": "code",
   "execution_count": 40,
   "metadata": {},
   "outputs": [
    {
     "data": {
      "text/plain": [
       "CalibratedClassifierCV(base_estimator=SVC(C=1.0, cache_size=200,\n",
       "                                          class_weight=None, coef0=0.0,\n",
       "                                          decision_function_shape='ovr',\n",
       "                                          degree=3, gamma='auto_deprecated',\n",
       "                                          kernel='linear', max_iter=-1,\n",
       "                                          probability=True, random_state=None,\n",
       "                                          shrinking=True, tol=0.001,\n",
       "                                          verbose=False),\n",
       "                       cv=KFold(n_splits=5, random_state=None, shuffle=False),\n",
       "                       method='sigmoid')"
      ]
     },
     "execution_count": 40,
     "metadata": {},
     "output_type": "execute_result"
    }
   ],
   "source": [
    "calibr_classifier.fit(X_train, y_train)"
   ]
  },
  {
   "cell_type": "code",
   "execution_count": 41,
   "metadata": {},
   "outputs": [],
   "source": [
    "preds_svc_calibrated = calibr_classifier.predict_proba(X_test)"
   ]
  },
  {
   "cell_type": "code",
   "execution_count": 42,
   "metadata": {
    "scrolled": true
   },
   "outputs": [
    {
     "data": {
      "image/png": "[encoded data removed]",
      "text/plain": [
       "<Figure size 432x288 with 1 Axes>"
      ]
     },
     "metadata": {
      "needs_background": "light"
     },
     "output_type": "display_data"
    }
   ],
   "source": [
    "plot_calibration_curve(y_test, preds_svc[:, 1])\n",
    "plot_calibration_curve(y_test, preds_svc_calibrated[:, 1])\n",
    "plt.plot([0, 1], [0, 1], label='x = y')\n",
    "plt.title('Калибровочные кривые для метода опорных векторов')\n",
    "plt.legend(['До калибровки', 'После калибровки', 'y=x'])\n",
    "plt.show()"
   ]
  },
  {
   "cell_type": "markdown",
   "metadata": {},
   "source": [
    "Как видно из представленного графика - калибровочная кривая практически не изменилась. Это говорит о том, что SVM изначально выдал хорошие вероятности для данного теста."
   ]
  },
  {
   "cell_type": "markdown",
   "metadata": {},
   "source": [
    "__Бонусное задание (1 балл).__ Реализуйте свою функцию для калибровки вероятностей. Опишите ваш подход и продемонстрируйте результаты."
   ]
  },
  {
   "cell_type": "code",
   "execution_count": 43,
   "metadata": {},
   "outputs": [],
   "source": [
    "### ╰( ͡° ͜ʖ ͡° )つ──☆*:・ﾟ"
   ]
  },
  {
   "cell_type": "markdown",
   "metadata": {},
   "source": [
    "## Часть 3. Логистическая регрессия."
   ]
  },
  {
   "cell_type": "markdown",
   "metadata": {},
   "source": [
    "__Задание 3.__ Обучение логистической регрессии на реальных данных и оценка качества классификации.\n",
    "\n",
    "**(0.5 балл)**"
   ]
  },
  {
   "cell_type": "markdown",
   "metadata": {
    "ExecuteTime": {
     "end_time": "2018-10-11T20:41:54.913436Z",
     "start_time": "2018-10-11T20:41:54.907515Z"
    }
   },
   "source": [
    "__Подготовка данных.__\n",
    "\n",
    "Загрузим данные с конкурса  [Kaggle Porto Seguro’s Safe Driver Prediction](https://www.kaggle.com/c/porto-seguro-safe-driver-prediction) (вам нужна только обучающая выборка). Задача состоит в определении водителей, которые в ближайший год воспользуются своей автомобильной страховкой (бинарная классификация). Но для нас важна будет не сама задача, а только её данные. При этом под нужды задания мы немного модифицируем датасет."
   ]
  },
  {
   "cell_type": "code",
   "execution_count": 44,
   "metadata": {
    "ExecuteTime": {
     "end_time": "2018-10-12T07:36:04.765536Z",
     "start_time": "2018-10-12T07:35:57.814973Z"
    }
   },
   "outputs": [],
   "source": [
    "data = pd.read_csv('./data_logistic/train.csv', index_col=0)\n",
    "target = data.target.values\n",
    "data = data.drop('target', axis=1)"
   ]
  },
  {
   "cell_type": "markdown",
   "metadata": {},
   "source": [
    "Пересемплируем выборку так, чтобы положительных и отрицательных объектов в выборке было одинаковое число. Разделим на обучающую и тестовую выборки.\n"
   ]
  },
  {
   "cell_type": "code",
   "execution_count": 45,
   "metadata": {
    "ExecuteTime": {
     "end_time": "2018-10-12T07:36:05.368407Z",
     "start_time": "2018-10-12T07:36:04.770388Z"
    }
   },
   "outputs": [],
   "source": [
    "# some resampling\n",
    "np.random.seed(910)\n",
    "mask_plus = np.random.choice(np.where(target == 1)[0], 100000, replace=True)\n",
    "mask_zero = np.random.choice(np.where(target == 0)[0], 100000, replace=True)\n",
    "\n",
    "data = pd.concat((data.iloc[mask_plus], data.iloc[mask_zero]))\n",
    "target = np.hstack((target[mask_plus], target[mask_zero]))\n",
    "\n",
    "X_train, X_test, y_train, y_test = train_test_split(data, target, test_size=0.5)"
   ]
  },
  {
   "cell_type": "markdown",
   "metadata": {},
   "source": [
    "Обучите логистическую регрессию с удобными для вас параметрами. Сделайте предсказание на тестовой части выборки."
   ]
  },
  {
   "cell_type": "code",
   "execution_count": 46,
   "metadata": {},
   "outputs": [
    {
     "name": "stderr",
     "output_type": "stream",
     "text": [
      "/home/paniquex/anaconda3/envs/kaggle/lib/python3.7/site-packages/sklearn/linear_model/sag.py:337: ConvergenceWarning: The max_iter was reached which means the coef_ did not converge\n",
      "  \"the coef_ did not converge\", ConvergenceWarning)\n"
     ]
    },
    {
     "data": {
      "text/plain": [
       "LogisticRegression(C=1.0, class_weight=None, dual=False, fit_intercept=True,\n",
       "                   intercept_scaling=1, l1_ratio=None, max_iter=100,\n",
       "                   multi_class='warn', n_jobs=None, penalty='l2',\n",
       "                   random_state=None, solver='sag', tol=0.0001, verbose=0,\n",
       "                   warm_start=False)"
      ]
     },
     "execution_count": 46,
     "metadata": {},
     "output_type": "execute_result"
    }
   ],
   "source": [
    "from sklearn.linear_model import LogisticRegression\n",
    "\n",
    "log_reg = LogisticRegression(solver='sag')\n",
    "log_reg.fit(X_train, y_train)"
   ]
  },
  {
   "cell_type": "code",
   "execution_count": 47,
   "metadata": {},
   "outputs": [],
   "source": [
    "preds = log_reg.predict_proba(X_test)"
   ]
  },
  {
   "cell_type": "markdown",
   "metadata": {},
   "source": [
    "Постройку ROC-кривую и Precision-Recall-кривую, посчитайте ROC-AUC и PR-AUC. Какие наблюдения и выводы по ним можно сделать? (В свободной форме)"
   ]
  },
  {
   "cell_type": "code",
   "execution_count": 48,
   "metadata": {},
   "outputs": [
    {
     "data": {
      "image/png": "[encoded data removed]",
      "text/plain": [
       "<Figure size 432x360 with 1 Axes>"
      ]
     },
     "metadata": {
      "needs_background": "light"
     },
     "output_type": "display_data"
    }
   ],
   "source": [
    "plot_roc_curve(y_test, preds[:, 1], title='ROC-кривая для логистической регрессии')"
   ]
  },
  {
   "cell_type": "code",
   "execution_count": 49,
   "metadata": {},
   "outputs": [
    {
     "data": {
      "image/png": "[encoded data removed]",
      "text/plain": [
       "<Figure size 432x360 with 1 Axes>"
      ]
     },
     "metadata": {
      "needs_background": "light"
     },
     "output_type": "display_data"
    }
   ],
   "source": [
    "plot_pr_curve(y_test, preds[:, 1], title='PR-кривая для логистической регрессии')"
   ]
  },
  {
   "cell_type": "markdown",
   "metadata": {},
   "source": [
    "**Ответ: По данным кривым видно и значениям площадей видно, что модель имеет достаточно плохое качество.**"
   ]
  },
  {
   "cell_type": "markdown",
   "metadata": {},
   "source": [
    "__Задание 4.__ Изучение влияния регуляризатора на процесс обучения\n",
    "\n",
    "__(1 балл)__\n",
    "\n",
    "Проверьте на практике, как влияет регуляризатор на процесс обучения (убывание функции потерь на обучающей и отложенной выборках). Чтобы считать функцию потерь на отложенной выборке после каждой итерации, можно воспользоваться параметром `warm_start` у `sklearn.linear_model.LogisticRegression` либо методом `partial_fit` `sklearn.linear_model.SGDClassifier` (параметр `loss` тогда должен быть равен `log`)."
   ]
  },
  {
   "cell_type": "code",
   "execution_count": 50,
   "metadata": {},
   "outputs": [],
   "source": [
    "def get_loss(X, y, w, l2_coef):\n",
    "        \"\"\"\n",
    "        Вычислить значение функционала в точке w на выборке X с ответами y.\n",
    "\n",
    "        X - scipy.sparse.csr_matrix или двумерный numpy.array\n",
    "\n",
    "        y - одномерный numpy array\n",
    "\n",
    "        w - одномерный numpy array\n",
    "        \"\"\"\n",
    "\n",
    "        size = X.shape[0]\n",
    "        tmp = X.dot(-w.T) * y\n",
    "        log_value = np.logaddexp(0, tmp).sum()\n",
    "#         if self.use_bias_in_reg:\n",
    "        reg_value = l2_coef * np.linalg.norm(w) ** 2 / 2\n",
    "#         else:\n",
    "#             reg_value = self.l2_coef * np.linalg.norm(w[1:]) ** 2 / 2\n",
    "        return log_value / size + reg_value\n",
    "\n",
    "\n",
    "# l2_values_list = [0.1]\n",
    "# iter_amount = 100\n",
    "# for l2_value in l2_values_list:\n",
    "#     log_reg = LogisticRegression(C=l2_value, max_iter=1, solver='sag', warm_start=True, n_jobs=16)\n",
    "#     for i in range(iter_amount):\n",
    "#         log_reg.fit(X_train, y_train)\n",
    "#         print(get_loss(X_test.values, y_test, log_reg.coef_, l2_value))\n"
   ]
  },
  {
   "cell_type": "markdown",
   "metadata": {},
   "source": [
    "дорисовать графики! разобраться с лоссом"
   ]
  },
  {
   "cell_type": "markdown",
   "metadata": {},
   "source": [
    "## Часть 4. Работа с категориальными переменными"
   ]
  },
  {
   "cell_type": "markdown",
   "metadata": {},
   "source": [
    "В этой части мы научимся обрабатывать категориальные переменные, так как закодировать их в виде чисел недостаточно (это задаёт некоторый порядок, которого на категориальных переменных может и не быть). Существует два основных способа обработки категориальных значений:\n",
    "- One-hot-кодирование\n",
    "- Счётчики (CTR, mean-target кодирование, ...) — каждый категориальный признак заменяется на среднее значение целевой переменной по всем объектам, имеющим одинаковое значение в этом признаке.\n",
    "\n",
    "Начнём с one-hot-кодирования. Допустим наш категориальный признак $f_j(x)$ принимает значения из множества $C=\\{c_1, \\dots, c_m\\}$. Заменим его на $m$ бинарных признаков $b_1(x), \\dots, b_m(x)$, каждый из которых является индикатором одного из возможных категориальных значений:\n",
    "$$\n",
    "b_i(x) = [f_j(x) = c_i]\n",
    "$$"
   ]
  },
  {
   "cell_type": "markdown",
   "metadata": {},
   "source": [
    "__Задание 5.__ Посчитайте качество (в этом задании будем работать c ROC-AUC) на исходных признаках при применении логистической регрессии.\n",
    "\n",
    "__(0 баллов)__"
   ]
  },
  {
   "cell_type": "code",
   "execution_count": 51,
   "metadata": {},
   "outputs": [
    {
     "name": "stdout",
     "output_type": "stream",
     "text": [
      "CPU times: user 30.7 s, sys: 27.5 ms, total: 30.7 s\n",
      "Wall time: 30.3 s\n"
     ]
    },
    {
     "data": {
      "text/plain": [
       "LogisticRegression(C=1.0, class_weight=None, dual=False, fit_intercept=True,\n",
       "                   intercept_scaling=1, l1_ratio=None, max_iter=1000,\n",
       "                   multi_class='warn', n_jobs=16, penalty='l2',\n",
       "                   random_state=None, solver='sag', tol=0.0001, verbose=0,\n",
       "                   warm_start=False)"
      ]
     },
     "execution_count": 51,
     "metadata": {},
     "output_type": "execute_result"
    }
   ],
   "source": [
    "%%time\n",
    "\n",
    "X_train, X_test, y_train, y_test = train_test_split(data, target, test_size=0.5)\n",
    "log_reg = LogisticRegression(max_iter=1000, solver='sag', n_jobs=16)\n",
    "log_reg.fit(X_train, y_train)"
   ]
  },
  {
   "cell_type": "code",
   "execution_count": 52,
   "metadata": {},
   "outputs": [
    {
     "data": {
      "text/plain": [
       "0.6233373707893592"
      ]
     },
     "execution_count": 52,
     "metadata": {},
     "output_type": "execute_result"
    }
   ],
   "source": [
    "preds = log_reg.predict_proba(X_test)\n",
    "roc_auc_score(y_test, preds[:, 1])"
   ]
  },
  {
   "cell_type": "markdown",
   "metadata": {},
   "source": [
    "__Задание 6.__ Закодируйте все категориальные признаки с помощью one-hot-кодирования. Обучите логистическую регрессию и посмотрите, как изменилось качество модели (с тем, что было до кодирования). Измерьте время, потребовавшееся на обучение модели.\n",
    "\n",
    "__(0.5 балла)__"
   ]
  },
  {
   "cell_type": "markdown",
   "metadata": {},
   "source": [
    "Считаем, что категориальные признаки - те признаки, у которых есть приписка 'cat' на конце."
   ]
  },
  {
   "cell_type": "code",
   "execution_count": 53,
   "metadata": {},
   "outputs": [],
   "source": [
    "def detect_cat_features(data):\n",
    "    all_columns = data.columns\n",
    "    return [cat_columns for cat_columns in all_columns if 'cat' == cat_columns[-3:]]\n",
    "\n",
    "\n",
    "def one_hot_encoding(data):\n",
    "    cat_columns = detect_cat_features(data)\n",
    "    data_ohe = data.copy()\n",
    "    for cat_column in cat_columns:\n",
    "        unique_values = data_ohe[cat_column].unique()\n",
    "        for unique_value in unique_values:\n",
    "            data_ohe[cat_column + '_' + str(unique_value)] = data_ohe[cat_column] == unique_value\n",
    "            data_ohe[cat_column + '_' + str(unique_value)] =\\\n",
    "                data_ohe[cat_column + '_' + str(unique_value)].map({True: 1, False: 0})\n",
    "    return data_ohe.drop(columns=cat_columns)"
   ]
  },
  {
   "cell_type": "code",
   "execution_count": 54,
   "metadata": {},
   "outputs": [
    {
     "name": "stdout",
     "output_type": "stream",
     "text": [
      "CPU times: user 4.91 s, sys: 396 ms, total: 5.3 s\n",
      "Wall time: 1.7 s\n"
     ]
    },
    {
     "data": {
      "text/html": [
       "<div>\n",
       "<style scoped>\n",
       "    .dataframe tbody tr th:only-of-type {\n",
       "        vertical-align: middle;\n",
       "    }\n",
       "\n",
       "    .dataframe tbody tr th {\n",
       "        vertical-align: top;\n",
       "    }\n",
       "\n",
       "    .dataframe thead th {\n",
       "        text-align: right;\n",
       "    }\n",
       "</style>\n",
       "<table border=\"1\" class=\"dataframe\">\n",
       "  <thead>\n",
       "    <tr style=\"text-align: right;\">\n",
       "      <th></th>\n",
       "      <th>ps_ind_01</th>\n",
       "      <th>ps_ind_03</th>\n",
       "      <th>ps_ind_06_bin</th>\n",
       "      <th>ps_ind_07_bin</th>\n",
       "      <th>ps_ind_08_bin</th>\n",
       "      <th>ps_ind_09_bin</th>\n",
       "      <th>ps_ind_10_bin</th>\n",
       "      <th>ps_ind_11_bin</th>\n",
       "      <th>ps_ind_12_bin</th>\n",
       "      <th>ps_ind_13_bin</th>\n",
       "      <th>...</th>\n",
       "      <th>ps_car_11_cat_24</th>\n",
       "      <th>ps_car_11_cat_77</th>\n",
       "      <th>ps_car_11_cat_15</th>\n",
       "      <th>ps_car_11_cat_3</th>\n",
       "      <th>ps_car_11_cat_81</th>\n",
       "      <th>ps_car_11_cat_47</th>\n",
       "      <th>ps_car_11_cat_45</th>\n",
       "      <th>ps_car_11_cat_23</th>\n",
       "      <th>ps_car_11_cat_43</th>\n",
       "      <th>ps_car_11_cat_63</th>\n",
       "    </tr>\n",
       "    <tr>\n",
       "      <th>id</th>\n",
       "      <th></th>\n",
       "      <th></th>\n",
       "      <th></th>\n",
       "      <th></th>\n",
       "      <th></th>\n",
       "      <th></th>\n",
       "      <th></th>\n",
       "      <th></th>\n",
       "      <th></th>\n",
       "      <th></th>\n",
       "      <th></th>\n",
       "      <th></th>\n",
       "      <th></th>\n",
       "      <th></th>\n",
       "      <th></th>\n",
       "      <th></th>\n",
       "      <th></th>\n",
       "      <th></th>\n",
       "      <th></th>\n",
       "      <th></th>\n",
       "      <th></th>\n",
       "    </tr>\n",
       "  </thead>\n",
       "  <tbody>\n",
       "    <tr>\n",
       "      <th>783681</th>\n",
       "      <td>0</td>\n",
       "      <td>0</td>\n",
       "      <td>1</td>\n",
       "      <td>0</td>\n",
       "      <td>0</td>\n",
       "      <td>0</td>\n",
       "      <td>0</td>\n",
       "      <td>0</td>\n",
       "      <td>0</td>\n",
       "      <td>0</td>\n",
       "      <td>...</td>\n",
       "      <td>0</td>\n",
       "      <td>0</td>\n",
       "      <td>0</td>\n",
       "      <td>0</td>\n",
       "      <td>0</td>\n",
       "      <td>0</td>\n",
       "      <td>0</td>\n",
       "      <td>0</td>\n",
       "      <td>0</td>\n",
       "      <td>0</td>\n",
       "    </tr>\n",
       "    <tr>\n",
       "      <th>636497</th>\n",
       "      <td>0</td>\n",
       "      <td>6</td>\n",
       "      <td>0</td>\n",
       "      <td>1</td>\n",
       "      <td>0</td>\n",
       "      <td>0</td>\n",
       "      <td>0</td>\n",
       "      <td>0</td>\n",
       "      <td>0</td>\n",
       "      <td>0</td>\n",
       "      <td>...</td>\n",
       "      <td>0</td>\n",
       "      <td>0</td>\n",
       "      <td>0</td>\n",
       "      <td>0</td>\n",
       "      <td>0</td>\n",
       "      <td>0</td>\n",
       "      <td>0</td>\n",
       "      <td>0</td>\n",
       "      <td>0</td>\n",
       "      <td>0</td>\n",
       "    </tr>\n",
       "    <tr>\n",
       "      <th>659813</th>\n",
       "      <td>2</td>\n",
       "      <td>3</td>\n",
       "      <td>1</td>\n",
       "      <td>0</td>\n",
       "      <td>0</td>\n",
       "      <td>0</td>\n",
       "      <td>0</td>\n",
       "      <td>0</td>\n",
       "      <td>0</td>\n",
       "      <td>0</td>\n",
       "      <td>...</td>\n",
       "      <td>0</td>\n",
       "      <td>0</td>\n",
       "      <td>0</td>\n",
       "      <td>0</td>\n",
       "      <td>0</td>\n",
       "      <td>0</td>\n",
       "      <td>0</td>\n",
       "      <td>0</td>\n",
       "      <td>0</td>\n",
       "      <td>0</td>\n",
       "    </tr>\n",
       "    <tr>\n",
       "      <th>334742</th>\n",
       "      <td>0</td>\n",
       "      <td>10</td>\n",
       "      <td>1</td>\n",
       "      <td>0</td>\n",
       "      <td>0</td>\n",
       "      <td>0</td>\n",
       "      <td>0</td>\n",
       "      <td>0</td>\n",
       "      <td>0</td>\n",
       "      <td>0</td>\n",
       "      <td>...</td>\n",
       "      <td>0</td>\n",
       "      <td>0</td>\n",
       "      <td>0</td>\n",
       "      <td>0</td>\n",
       "      <td>0</td>\n",
       "      <td>0</td>\n",
       "      <td>0</td>\n",
       "      <td>0</td>\n",
       "      <td>0</td>\n",
       "      <td>0</td>\n",
       "    </tr>\n",
       "    <tr>\n",
       "      <th>1156570</th>\n",
       "      <td>0</td>\n",
       "      <td>9</td>\n",
       "      <td>1</td>\n",
       "      <td>0</td>\n",
       "      <td>0</td>\n",
       "      <td>0</td>\n",
       "      <td>0</td>\n",
       "      <td>0</td>\n",
       "      <td>0</td>\n",
       "      <td>0</td>\n",
       "      <td>...</td>\n",
       "      <td>0</td>\n",
       "      <td>0</td>\n",
       "      <td>0</td>\n",
       "      <td>0</td>\n",
       "      <td>0</td>\n",
       "      <td>0</td>\n",
       "      <td>0</td>\n",
       "      <td>0</td>\n",
       "      <td>0</td>\n",
       "      <td>0</td>\n",
       "    </tr>\n",
       "  </tbody>\n",
       "</table>\n",
       "<p>5 rows × 226 columns</p>\n",
       "</div>"
      ],
      "text/plain": [
       "         ps_ind_01  ps_ind_03  ps_ind_06_bin  ps_ind_07_bin  ps_ind_08_bin  \\\n",
       "id                                                                           \n",
       "783681           0          0              1              0              0   \n",
       "636497           0          6              0              1              0   \n",
       "659813           2          3              1              0              0   \n",
       "334742           0         10              1              0              0   \n",
       "1156570          0          9              1              0              0   \n",
       "\n",
       "         ps_ind_09_bin  ps_ind_10_bin  ps_ind_11_bin  ps_ind_12_bin  \\\n",
       "id                                                                    \n",
       "783681               0              0              0              0   \n",
       "636497               0              0              0              0   \n",
       "659813               0              0              0              0   \n",
       "334742               0              0              0              0   \n",
       "1156570              0              0              0              0   \n",
       "\n",
       "         ps_ind_13_bin  ...  ps_car_11_cat_24  ps_car_11_cat_77  \\\n",
       "id                      ...                                       \n",
       "783681               0  ...                 0                 0   \n",
       "636497               0  ...                 0                 0   \n",
       "659813               0  ...                 0                 0   \n",
       "334742               0  ...                 0                 0   \n",
       "1156570              0  ...                 0                 0   \n",
       "\n",
       "         ps_car_11_cat_15  ps_car_11_cat_3  ps_car_11_cat_81  \\\n",
       "id                                                             \n",
       "783681                  0                0                 0   \n",
       "636497                  0                0                 0   \n",
       "659813                  0                0                 0   \n",
       "334742                  0                0                 0   \n",
       "1156570                 0                0                 0   \n",
       "\n",
       "         ps_car_11_cat_47  ps_car_11_cat_45  ps_car_11_cat_23  \\\n",
       "id                                                              \n",
       "783681                  0                 0                 0   \n",
       "636497                  0                 0                 0   \n",
       "659813                  0                 0                 0   \n",
       "334742                  0                 0                 0   \n",
       "1156570                 0                 0                 0   \n",
       "\n",
       "         ps_car_11_cat_43  ps_car_11_cat_63  \n",
       "id                                           \n",
       "783681                  0                 0  \n",
       "636497                  0                 0  \n",
       "659813                  0                 0  \n",
       "334742                  0                 0  \n",
       "1156570                 0                 0  \n",
       "\n",
       "[5 rows x 226 columns]"
      ]
     },
     "execution_count": 54,
     "metadata": {},
     "output_type": "execute_result"
    }
   ],
   "source": [
    "%%time\n",
    "one_hot_encoding(data).head()"
   ]
  },
  {
   "cell_type": "code",
   "execution_count": 55,
   "metadata": {},
   "outputs": [],
   "source": [
    "data_ohe = one_hot_encoding(data)\n",
    "X_train, X_test, y_train, y_test = train_test_split(data_ohe, target, test_size=0.5)"
   ]
  },
  {
   "cell_type": "code",
   "execution_count": 56,
   "metadata": {},
   "outputs": [
    {
     "name": "stdout",
     "output_type": "stream",
     "text": [
      "CPU times: user 1min, sys: 58.1 ms, total: 1min\n",
      "Wall time: 1min\n"
     ]
    },
    {
     "data": {
      "text/plain": [
       "LogisticRegression(C=1.0, class_weight=None, dual=False, fit_intercept=True,\n",
       "                   intercept_scaling=1, l1_ratio=None, max_iter=1000,\n",
       "                   multi_class='warn', n_jobs=16, penalty='l2',\n",
       "                   random_state=None, solver='sag', tol=0.0001, verbose=0,\n",
       "                   warm_start=False)"
      ]
     },
     "execution_count": 56,
     "metadata": {},
     "output_type": "execute_result"
    }
   ],
   "source": [
    "%%time\n",
    "log_reg.fit(X_train, y_train)"
   ]
  },
  {
   "cell_type": "code",
   "execution_count": 57,
   "metadata": {},
   "outputs": [
    {
     "data": {
      "text/plain": [
       "0.6352126408679188"
      ]
     },
     "execution_count": 57,
     "metadata": {},
     "output_type": "execute_result"
    }
   ],
   "source": [
    "preds = log_reg.predict_proba(X_test)\n",
    "roc_auc_score(y_test, preds[:, 1])"
   ]
  },
  {
   "cell_type": "markdown",
   "metadata": {},
   "source": [
    "Видно, что время, затрачиваемое на обучение увеличилось практически в 2 раза, а ROC_AUC на 0.01."
   ]
  },
  {
   "cell_type": "markdown",
   "metadata": {},
   "source": [
    "Как можно было заметить, one-hot-кодирование может сильно увеличивать количество признаков в датасете, что сказывается на памяти, особенно, если некоторый признак имеет большое количество значений. Эту проблему решает другой способ кодирование категориальных признаков — счётчики. Основная идея в том, что нам важны не сами категории, а значения целевой переменной, которые имеют объекты этой категории. Каждый категориальный признак мы заменим средним значением целевой переменной по всем объектам этой же категории:\n",
    "$$\n",
    "g_j(x, X) = \\frac{\\sum_{i=1}^{l} [f_j(x) = f_j(x_i)][y_i = +1]}{\\sum_{i=1}^{l} [f_j(x) = f_j(x_i)]}\n",
    "$$"
   ]
  },
  {
   "cell_type": "markdown",
   "metadata": {},
   "source": [
    "Отметим, что такие признаки сами по себе являются классификаторами и, обучаясь на них, мы допускаем \"утечку\" целевой переменной в признаки. Это ведёт к переобучению, поэтому считать такие признаки необходимо таким образом, чтобы при вычислении для конкретного объекта его целевая метка не использовалась. Это можно делать следующими способами:\n",
    "1. Вычислять значение счётчика по всем объектам расположенным выше в датасете (например, если у нас выборка отсортирована по времени).\n",
    "2. Вычислять по фолдам, то есть делить выборку на некоторое количество частей и подсчитывать значение признаков по всем фолдам кроме текущего (как делается в кросс-валидации).\n",
    "3. Внесение некоторого шума в посчитанные признаки. \n",
    "\n",
    "__(Бонусная часть)__ Закодируйте категориальные переменные с помощью счётчиков (ровно так, как описано выше без каких-либо хитростей). Реализуйте корректное вычисление счётчиков самым простым способом — добавление шума к значениям (необходимо соблюсти баланс между избавление от переобучения и полезностью признаков). Снова обучите логистическую регрессию, оцените качество. Сделайте выводы. Не забудьте замерить время.\n",
    "\n",
    "__(+0.5 балл)__"
   ]
  },
  {
   "cell_type": "code",
   "execution_count": 58,
   "metadata": {},
   "outputs": [],
   "source": [
    "def counters_with_noise(data, y, noise_mean, noise_std):\n",
    "    cat_columns = detect_cat_features(data)\n",
    "    data_counters = data.copy()\n",
    "    for cat_column in cat_columns:\n",
    "        cross_tab_values = pd.crosstab(data_counters[cat_column],\n",
    "                                       columns=y,\n",
    "                                       colnames=['target'])\n",
    "        new_column = data_counters[cat_column].copy().values\n",
    "        for unique_value in data_counters[cat_column].unique():\n",
    "            counter_value = cross_tab_values.loc[unique_value, 1] / cross_tab_values.loc[unique_value, :].sum()\n",
    "            new_column = np.where(data_counters[cat_column] == unique_value,\n",
    "                                  counter_value + np.random.normal(noise_mean, noise_std, new_column.shape[0]),\n",
    "                                  new_column)\n",
    "        data_counters[cat_column + '_counter_with_noise'] = new_column\n",
    "    return data_counters.drop(columns=cat_columns)"
   ]
  },
  {
   "cell_type": "markdown",
   "metadata": {},
   "source": [
    "Вычислим счетчики, добавив к ним шум из  $N\\left(\\mu, \\sigma^2\\right)$ (нормальное распределение с $\\mu = 0, \\sigma^2 = 1$ "
   ]
  },
  {
   "cell_type": "code",
   "execution_count": 59,
   "metadata": {},
   "outputs": [
    {
     "name": "stdout",
     "output_type": "stream",
     "text": [
      "CPU times: user 10.5 s, sys: 192 ms, total: 10.7 s\n",
      "Wall time: 1.34 s\n"
     ]
    }
   ],
   "source": [
    "%%time\n",
    "data_counters = counters_with_noise(data, target, 0, 1)"
   ]
  },
  {
   "cell_type": "code",
   "execution_count": 60,
   "metadata": {},
   "outputs": [
    {
     "name": "stdout",
     "output_type": "stream",
     "text": [
      "CPU times: user 35.5 s, sys: 35.4 ms, total: 35.5 s\n",
      "Wall time: 34.3 s\n"
     ]
    },
    {
     "data": {
      "text/plain": [
       "LogisticRegression(C=1.0, class_weight=None, dual=False, fit_intercept=True,\n",
       "                   intercept_scaling=1, l1_ratio=None, max_iter=1000,\n",
       "                   multi_class='warn', n_jobs=16, penalty='l2',\n",
       "                   random_state=None, solver='sag', tol=0.0001, verbose=0,\n",
       "                   warm_start=False)"
      ]
     },
     "execution_count": 60,
     "metadata": {},
     "output_type": "execute_result"
    }
   ],
   "source": [
    "%%time\n",
    "\n",
    "X_train, X_test, y_train, y_test = train_test_split(data_counters, target, test_size=0.5)\n",
    "log_reg = LogisticRegression(max_iter=1000, solver='sag', n_jobs=16)\n",
    "log_reg.fit(X_train, y_train)"
   ]
  },
  {
   "cell_type": "code",
   "execution_count": 61,
   "metadata": {},
   "outputs": [
    {
     "data": {
      "text/plain": [
       "0.6115869605936708"
      ]
     },
     "execution_count": 61,
     "metadata": {},
     "output_type": "execute_result"
    }
   ],
   "source": [
    "preds = log_reg.predict_proba(X_test)\n",
    "roc_auc_score(y_test, preds[:, 1])"
   ]
  },
  {
   "cell_type": "markdown",
   "metadata": {},
   "source": [
    "Подберем значение стандартного отклонения для шума:"
   ]
  },
  {
   "cell_type": "code",
   "execution_count": 62,
   "metadata": {},
   "outputs": [
    {
     "name": "stderr",
     "output_type": "stream",
     "text": [
      "/home/paniquex/anaconda3/envs/kaggle/lib/python3.7/site-packages/sklearn/linear_model/sag.py:337: ConvergenceWarning: The max_iter was reached which means the coef_ did not converge\n",
      "  \"the coef_ did not converge\", ConvergenceWarning)\n"
     ]
    },
    {
     "name": "stdout",
     "output_type": "stream",
     "text": [
      "std=0, ROC_AUC=0.633161678753905, time=47.124650716781616\n"
     ]
    },
    {
     "name": "stderr",
     "output_type": "stream",
     "text": [
      "/home/paniquex/anaconda3/envs/kaggle/lib/python3.7/site-packages/sklearn/linear_model/sag.py:337: ConvergenceWarning: The max_iter was reached which means the coef_ did not converge\n",
      "  \"the coef_ did not converge\", ConvergenceWarning)\n"
     ]
    },
    {
     "name": "stdout",
     "output_type": "stream",
     "text": [
      "std=1e-05, ROC_AUC=0.6317428222106394, time=47.12881422042847\n"
     ]
    },
    {
     "name": "stderr",
     "output_type": "stream",
     "text": [
      "/home/paniquex/anaconda3/envs/kaggle/lib/python3.7/site-packages/sklearn/linear_model/sag.py:337: ConvergenceWarning: The max_iter was reached which means the coef_ did not converge\n",
      "  \"the coef_ did not converge\", ConvergenceWarning)\n"
     ]
    },
    {
     "name": "stdout",
     "output_type": "stream",
     "text": [
      "std=0.001, ROC_AUC=0.6322699004268183, time=46.91904258728027\n",
      "std=0.01, ROC_AUC=0.6284591855620776, time=45.22906184196472\n",
      "std=0.1, ROC_AUC=0.6169702981927078, time=45.916614294052124\n",
      "std=0.5, ROC_AUC=0.6124510148888269, time=39.899701833724976\n",
      "std=1, ROC_AUC=0.611687470087894, time=39.0150306224823\n",
      "std=100, ROC_AUC=0.6092575352626165, time=47.601271629333496\n"
     ]
    },
    {
     "name": "stderr",
     "output_type": "stream",
     "text": [
      "/home/paniquex/anaconda3/envs/kaggle/lib/python3.7/site-packages/sklearn/linear_model/sag.py:337: ConvergenceWarning: The max_iter was reached which means the coef_ did not converge\n",
      "  \"the coef_ did not converge\", ConvergenceWarning)\n"
     ]
    }
   ],
   "source": [
    "import time\n",
    "std_list = [0, 1e-5, 1e-3, 1e-2, 1e-1, 5e-1, 1, 100]\n",
    "\n",
    "for std_val in std_list:\n",
    "    start_time = time.time()\n",
    "    data_counters = counters_with_noise(data, target, 0, std_val)\n",
    "    X_train, X_test, y_train, y_test = train_test_split(data_counters, target, test_size=0.5)\n",
    "    log_reg = LogisticRegression(max_iter=1000, solver='sag', n_jobs=16)\n",
    "    log_reg.fit(X_train, y_train)\n",
    "    preds = log_reg.predict_proba(X_test)\n",
    "    \n",
    "    print(f'std={std_val}, ROC_AUC={roc_auc_score(y_test, preds[:, 1])}, time={time.time() - start_time}')"
   ]
  },
  {
   "cell_type": "markdown",
   "metadata": {},
   "source": [
    "**Ответ: Теперь обучение проходит быстрее медленнее всего в ~1.5 раза, чем на неизмененном датасете, при этом значение ROC_AUC снова превосходит изначальное значение, но немного хуже, чем при применении one_hot_encoding. Оптимальное значение стандартного отклонения у шума - 0.001, так как при больших значениях уже происходит потеря информации.**"
   ]
  },
  {
   "cell_type": "markdown",
   "metadata": {},
   "source": [
    "__(Бонусная часть)__ Посчитайте корректные счётчики, основываясь на объектах расположеных выше в датасете (не забудьте добавить и шум). \n",
    "\n",
    "__(+0.5 балла)__"
   ]
  },
  {
   "cell_type": "code",
   "execution_count": 63,
   "metadata": {},
   "outputs": [],
   "source": [
    "def counters_with_noise(data, y, noise_mean, noise_std):\n",
    "    cat_columns = detect_cat_features(data)\n",
    "    data_counters = data.copy()\n",
    "    for cat_column in cat_columns:\n",
    "        cross_tab_values = pd.crosstab(data_counters[cat_column],\n",
    "                                       columns=y,\n",
    "                                       colnames=['target'])\n",
    "        new_column = data_counters[cat_column].copy().values\n",
    "        for unique_value in data_counters[cat_column].unique():\n",
    "            counter_value = cross_tab_values.loc[unique_value, 1] / cross_tab_values.loc[unique_value, :].sum()\n",
    "            new_column = np.where(data_counters[cat_column] == unique_value,\n",
    "                                  counter_value + np.random.normal(noise_mean, noise_std, new_column.shape[0]),\n",
    "                                  new_column)\n",
    "        data_counters[cat_column + '_counter_with_noise'] = new_column\n",
    "    return data_counters.drop(columns=cat_columns)"
   ]
  },
  {
   "cell_type": "markdown",
   "metadata": {},
   "source": [
    "А теперь ответьте на следующий вопрос: что будет, если некоторая категория встречается в выборке всего несколько раз? По этой причине производится сглаживание счётчиков. Например, на практике хорошие результаты показывает использование сглаживания средним по всей выборке:\n",
    "$$\n",
    "g_j(x, X) = \\frac{\\sum_{i=1}^{\\ell} [f_j(x) = f_j(x_i)][y_i = +1] + C \\times global\\_mean}{\\sum_{i=1}^{\\ell} [f_j(x) = f_j(x_i)] + C}\n",
    "$$\n",
    "где $global\\_mean$ — среднее значение целевой переменной по всей выборке, $C$ — параметр, определяющий степень сглаживания (например, можно использовать 10 или подобрать для каждого признака свой). Основная идея в том, что мы \"разбавляем\" среднее значение по некоторой категории глобальным средним значении. И тем меньше, чем большее количество объектов этой категории встречается в выборке. \n",
    "\n",
    "Однако для сглаживания вместо среднего значения целевой переменной можно использовать любое другое значение от 0 до 1 (этот параметр иногда называют $prior$). Можно сделать несколько признаков с разными значениями параметра. На практике в задачах бинарной классификации полезными бывают даже отрицательные значения!\n",
    "\n",
    "__Задание 7.__ Реализуйте счетчики со сглаживанием, как описано выше. Обучите логистическую регрессию, оцените качество.\n",
    "\n",
    "__(0.5 балл)__"
   ]
  },
  {
   "cell_type": "code",
   "execution_count": 64,
   "metadata": {},
   "outputs": [],
   "source": [
    "def counters_with_prior(data, y, C, prior):\n",
    "    cat_columns = detect_cat_features(data)\n",
    "    data_counters = data.copy()\n",
    "    for cat_column in cat_columns:\n",
    "        cross_tab_values = pd.crosstab(data_counters[cat_column],\n",
    "                                       columns=y,\n",
    "                                       colnames=['target'])\n",
    "        new_column = data_counters[cat_column].copy().values\n",
    "        for unique_value in data_counters[cat_column].unique():\n",
    "            counter_value = (cross_tab_values.loc[unique_value, 1]  + C * prior) /\\\n",
    "                                (cross_tab_values.loc[unique_value, :].sum() + C)\n",
    "            new_column = np.where(data_counters[cat_column] == unique_value,\n",
    "                                  counter_value,\n",
    "                                  new_column)\n",
    "        data_counters[cat_column + '_' + '_counter_with_noise'] = new_column\n",
    "    return data_counters.drop(columns=cat_columns)"
   ]
  },
  {
   "cell_type": "code",
   "execution_count": 65,
   "metadata": {},
   "outputs": [
    {
     "name": "stdout",
     "output_type": "stream",
     "text": [
      "CPU times: user 2.51 s, sys: 72.1 ms, total: 2.58 s\n",
      "Wall time: 323 ms\n"
     ]
    }
   ],
   "source": [
    "%%time\n",
    "data_counters_prior = counters_with_prior(data, target, 1, np.mean(target))"
   ]
  },
  {
   "cell_type": "code",
   "execution_count": 66,
   "metadata": {},
   "outputs": [
    {
     "name": "stdout",
     "output_type": "stream",
     "text": [
      "CPU times: user 47.4 s, sys: 36 ms, total: 47.4 s\n",
      "Wall time: 46.2 s\n"
     ]
    },
    {
     "name": "stderr",
     "output_type": "stream",
     "text": [
      "/home/paniquex/anaconda3/envs/kaggle/lib/python3.7/site-packages/sklearn/linear_model/sag.py:337: ConvergenceWarning: The max_iter was reached which means the coef_ did not converge\n",
      "  \"the coef_ did not converge\", ConvergenceWarning)\n"
     ]
    },
    {
     "data": {
      "text/plain": [
       "LogisticRegression(C=1.0, class_weight=None, dual=False, fit_intercept=True,\n",
       "                   intercept_scaling=1, l1_ratio=None, max_iter=1000,\n",
       "                   multi_class='warn', n_jobs=4, penalty='l2',\n",
       "                   random_state=None, solver='sag', tol=0.0001, verbose=0,\n",
       "                   warm_start=False)"
      ]
     },
     "execution_count": 66,
     "metadata": {},
     "output_type": "execute_result"
    }
   ],
   "source": [
    "%%time\n",
    "\n",
    "X_train, X_test, y_train, y_test = train_test_split(data_counters_prior, target, test_size=0.5)\n",
    "log_reg = LogisticRegression(max_iter=1000, solver='sag', n_jobs=4, )\n",
    "log_reg.fit(X_train, y_train)"
   ]
  },
  {
   "cell_type": "code",
   "execution_count": 67,
   "metadata": {},
   "outputs": [
    {
     "data": {
      "text/plain": [
       "0.6292554819976224"
      ]
     },
     "execution_count": 67,
     "metadata": {},
     "output_type": "execute_result"
    }
   ],
   "source": [
    "preds = log_reg.predict_proba(X_test)\n",
    "roc_auc_score(y_test, preds[:, 1])"
   ]
  },
  {
   "cell_type": "markdown",
   "metadata": {},
   "source": [
    "Посмотрим на различные параметры $C$ и $prior$:"
   ]
  },
  {
   "cell_type": "code",
   "execution_count": 68,
   "metadata": {},
   "outputs": [],
   "source": [
    "from joblib import Parallel, delayed, parallel_backend"
   ]
  },
  {
   "cell_type": "code",
   "execution_count": 69,
   "metadata": {},
   "outputs": [
    {
     "name": "stderr",
     "output_type": "stream",
     "text": [
      "/home/paniquex/anaconda3/envs/kaggle/lib/python3.7/site-packages/sklearn/linear_model/sag.py:337: ConvergenceWarning: The max_iter was reached which means the coef_ did not converge\n",
      "  \"the coef_ did not converge\", ConvergenceWarning)\n"
     ]
    },
    {
     "name": "stdout",
     "output_type": "stream",
     "text": [
      "C=0, prior=0, ROC_AUC=0.6280985402354694, time=46.013155937194824\n"
     ]
    },
    {
     "name": "stderr",
     "output_type": "stream",
     "text": [
      "/home/paniquex/anaconda3/envs/kaggle/lib/python3.7/site-packages/sklearn/linear_model/sag.py:337: ConvergenceWarning: The max_iter was reached which means the coef_ did not converge\n",
      "  \"the coef_ did not converge\", ConvergenceWarning)\n"
     ]
    },
    {
     "name": "stdout",
     "output_type": "stream",
     "text": [
      "C=0, prior=0.1, ROC_AUC=0.6311196820030855, time=45.745699882507324\n"
     ]
    },
    {
     "name": "stderr",
     "output_type": "stream",
     "text": [
      "/home/paniquex/anaconda3/envs/kaggle/lib/python3.7/site-packages/sklearn/linear_model/sag.py:337: ConvergenceWarning: The max_iter was reached which means the coef_ did not converge\n",
      "  \"the coef_ did not converge\", ConvergenceWarning)\n"
     ]
    },
    {
     "name": "stdout",
     "output_type": "stream",
     "text": [
      "C=0, prior=1, ROC_AUC=0.6308299347877293, time=45.53976058959961\n"
     ]
    },
    {
     "name": "stderr",
     "output_type": "stream",
     "text": [
      "/home/paniquex/anaconda3/envs/kaggle/lib/python3.7/site-packages/sklearn/linear_model/sag.py:337: ConvergenceWarning: The max_iter was reached which means the coef_ did not converge\n",
      "  \"the coef_ did not converge\", ConvergenceWarning)\n"
     ]
    },
    {
     "name": "stdout",
     "output_type": "stream",
     "text": [
      "C=0, prior=100, ROC_AUC=0.6322027490412314, time=45.72109413146973\n"
     ]
    },
    {
     "name": "stderr",
     "output_type": "stream",
     "text": [
      "/home/paniquex/anaconda3/envs/kaggle/lib/python3.7/site-packages/sklearn/linear_model/sag.py:337: ConvergenceWarning: The max_iter was reached which means the coef_ did not converge\n",
      "  \"the coef_ did not converge\", ConvergenceWarning)\n"
     ]
    },
    {
     "name": "stdout",
     "output_type": "stream",
     "text": [
      "C=0, prior=0.5, ROC_AUC=0.6310047490231849, time=45.90209746360779\n"
     ]
    },
    {
     "name": "stderr",
     "output_type": "stream",
     "text": [
      "/home/paniquex/anaconda3/envs/kaggle/lib/python3.7/site-packages/sklearn/linear_model/sag.py:337: ConvergenceWarning: The max_iter was reached which means the coef_ did not converge\n",
      "  \"the coef_ did not converge\", ConvergenceWarning)\n"
     ]
    },
    {
     "name": "stdout",
     "output_type": "stream",
     "text": [
      "C=0.1, prior=0, ROC_AUC=0.6308191727611543, time=45.618194341659546\n"
     ]
    },
    {
     "name": "stderr",
     "output_type": "stream",
     "text": [
      "/home/paniquex/anaconda3/envs/kaggle/lib/python3.7/site-packages/sklearn/linear_model/sag.py:337: ConvergenceWarning: The max_iter was reached which means the coef_ did not converge\n",
      "  \"the coef_ did not converge\", ConvergenceWarning)\n"
     ]
    },
    {
     "name": "stdout",
     "output_type": "stream",
     "text": [
      "C=0.1, prior=0.1, ROC_AUC=0.6305257113576638, time=45.730589628219604\n"
     ]
    },
    {
     "name": "stderr",
     "output_type": "stream",
     "text": [
      "/home/paniquex/anaconda3/envs/kaggle/lib/python3.7/site-packages/sklearn/linear_model/sag.py:337: ConvergenceWarning: The max_iter was reached which means the coef_ did not converge\n",
      "  \"the coef_ did not converge\", ConvergenceWarning)\n"
     ]
    },
    {
     "name": "stdout",
     "output_type": "stream",
     "text": [
      "C=0.1, prior=1, ROC_AUC=0.6301632214537659, time=46.224292278289795\n"
     ]
    },
    {
     "name": "stderr",
     "output_type": "stream",
     "text": [
      "/home/paniquex/anaconda3/envs/kaggle/lib/python3.7/site-packages/sklearn/linear_model/sag.py:337: ConvergenceWarning: The max_iter was reached which means the coef_ did not converge\n",
      "  \"the coef_ did not converge\", ConvergenceWarning)\n"
     ]
    },
    {
     "name": "stdout",
     "output_type": "stream",
     "text": [
      "C=0.1, prior=100, ROC_AUC=0.6315766631525029, time=45.91811394691467\n"
     ]
    },
    {
     "name": "stderr",
     "output_type": "stream",
     "text": [
      "/home/paniquex/anaconda3/envs/kaggle/lib/python3.7/site-packages/sklearn/linear_model/sag.py:337: ConvergenceWarning: The max_iter was reached which means the coef_ did not converge\n",
      "  \"the coef_ did not converge\", ConvergenceWarning)\n"
     ]
    },
    {
     "name": "stdout",
     "output_type": "stream",
     "text": [
      "C=0.1, prior=0.5, ROC_AUC=0.6323581303675871, time=45.837398290634155\n"
     ]
    },
    {
     "name": "stderr",
     "output_type": "stream",
     "text": [
      "/home/paniquex/anaconda3/envs/kaggle/lib/python3.7/site-packages/sklearn/linear_model/sag.py:337: ConvergenceWarning: The max_iter was reached which means the coef_ did not converge\n",
      "  \"the coef_ did not converge\", ConvergenceWarning)\n"
     ]
    },
    {
     "name": "stdout",
     "output_type": "stream",
     "text": [
      "C=1, prior=0, ROC_AUC=0.6296245416227833, time=45.42454481124878\n"
     ]
    },
    {
     "name": "stderr",
     "output_type": "stream",
     "text": [
      "/home/paniquex/anaconda3/envs/kaggle/lib/python3.7/site-packages/sklearn/linear_model/sag.py:337: ConvergenceWarning: The max_iter was reached which means the coef_ did not converge\n",
      "  \"the coef_ did not converge\", ConvergenceWarning)\n"
     ]
    },
    {
     "name": "stdout",
     "output_type": "stream",
     "text": [
      "C=1, prior=0.1, ROC_AUC=0.6288712012068307, time=45.308542013168335\n"
     ]
    },
    {
     "name": "stderr",
     "output_type": "stream",
     "text": [
      "/home/paniquex/anaconda3/envs/kaggle/lib/python3.7/site-packages/sklearn/linear_model/sag.py:337: ConvergenceWarning: The max_iter was reached which means the coef_ did not converge\n",
      "  \"the coef_ did not converge\", ConvergenceWarning)\n"
     ]
    },
    {
     "name": "stdout",
     "output_type": "stream",
     "text": [
      "C=1, prior=1, ROC_AUC=0.6293243282128115, time=45.72501587867737\n",
      "C=1, prior=100, ROC_AUC=0.6294306054208114, time=43.61033487319946\n"
     ]
    },
    {
     "name": "stderr",
     "output_type": "stream",
     "text": [
      "/home/paniquex/anaconda3/envs/kaggle/lib/python3.7/site-packages/sklearn/linear_model/sag.py:337: ConvergenceWarning: The max_iter was reached which means the coef_ did not converge\n",
      "  \"the coef_ did not converge\", ConvergenceWarning)\n"
     ]
    },
    {
     "name": "stdout",
     "output_type": "stream",
     "text": [
      "C=1, prior=0.5, ROC_AUC=0.6303833204644033, time=45.7189884185791\n",
      "C=100, prior=0, ROC_AUC=0.6303309685381729, time=45.123226165771484\n",
      "C=100, prior=0.1, ROC_AUC=0.6303270258827351, time=44.005916357040405\n",
      "C=100, prior=1, ROC_AUC=0.6272077915879474, time=44.63610911369324\n"
     ]
    },
    {
     "name": "stderr",
     "output_type": "stream",
     "text": [
      "/home/paniquex/anaconda3/envs/kaggle/lib/python3.7/site-packages/sklearn/linear_model/sag.py:337: ConvergenceWarning: The max_iter was reached which means the coef_ did not converge\n",
      "  \"the coef_ did not converge\", ConvergenceWarning)\n"
     ]
    },
    {
     "name": "stdout",
     "output_type": "stream",
     "text": [
      "C=100, prior=100, ROC_AUC=0.6220706085711153, time=45.55712366104126\n"
     ]
    },
    {
     "name": "stderr",
     "output_type": "stream",
     "text": [
      "/home/paniquex/anaconda3/envs/kaggle/lib/python3.7/site-packages/sklearn/linear_model/sag.py:337: ConvergenceWarning: The max_iter was reached which means the coef_ did not converge\n",
      "  \"the coef_ did not converge\", ConvergenceWarning)\n"
     ]
    },
    {
     "name": "stdout",
     "output_type": "stream",
     "text": [
      "C=100, prior=0.5, ROC_AUC=0.6304967310097326, time=45.412211894989014\n"
     ]
    },
    {
     "name": "stderr",
     "output_type": "stream",
     "text": [
      "/home/paniquex/anaconda3/envs/kaggle/lib/python3.7/site-packages/sklearn/linear_model/sag.py:337: ConvergenceWarning: The max_iter was reached which means the coef_ did not converge\n",
      "  \"the coef_ did not converge\", ConvergenceWarning)\n"
     ]
    },
    {
     "name": "stdout",
     "output_type": "stream",
     "text": [
      "C=0.5, prior=0, ROC_AUC=0.6320855543254775, time=45.63359522819519\n"
     ]
    },
    {
     "name": "stderr",
     "output_type": "stream",
     "text": [
      "/home/paniquex/anaconda3/envs/kaggle/lib/python3.7/site-packages/sklearn/linear_model/sag.py:337: ConvergenceWarning: The max_iter was reached which means the coef_ did not converge\n",
      "  \"the coef_ did not converge\", ConvergenceWarning)\n"
     ]
    },
    {
     "name": "stdout",
     "output_type": "stream",
     "text": [
      "C=0.5, prior=0.1, ROC_AUC=0.6335632034854206, time=45.64433288574219\n"
     ]
    },
    {
     "name": "stderr",
     "output_type": "stream",
     "text": [
      "/home/paniquex/anaconda3/envs/kaggle/lib/python3.7/site-packages/sklearn/linear_model/sag.py:337: ConvergenceWarning: The max_iter was reached which means the coef_ did not converge\n",
      "  \"the coef_ did not converge\", ConvergenceWarning)\n"
     ]
    },
    {
     "name": "stdout",
     "output_type": "stream",
     "text": [
      "C=0.5, prior=1, ROC_AUC=0.6295825905117262, time=45.37162899971008\n",
      "C=0.5, prior=100, ROC_AUC=0.6300116531057101, time=45.22536540031433\n",
      "C=0.5, prior=0.5, ROC_AUC=0.6322408665420713, time=45.707213401794434\n"
     ]
    },
    {
     "name": "stderr",
     "output_type": "stream",
     "text": [
      "/home/paniquex/anaconda3/envs/kaggle/lib/python3.7/site-packages/sklearn/linear_model/sag.py:337: ConvergenceWarning: The max_iter was reached which means the coef_ did not converge\n",
      "  \"the coef_ did not converge\", ConvergenceWarning)\n"
     ]
    }
   ],
   "source": [
    "C_list = [0, 0.1, 1, 100, np.mean(target)]\n",
    "prior_list = [0, 0.1, 1, 100, np.mean(target)]\n",
    "\n",
    "\n",
    "\n",
    "for C in C_list:\n",
    "    for prior in prior_list:\n",
    "        start_time = time.time()\n",
    "        data_counters_prior = counters_with_prior(data, target, C, prior)\n",
    "\n",
    "\n",
    "        X_train, X_test, y_train, y_test = train_test_split(data_counters_prior, target, test_size=0.5)\n",
    "        log_reg = LogisticRegression(max_iter=1000, solver='sag', n_jobs=16)\n",
    "        log_reg.fit(X_train, y_train)\n",
    "\n",
    "        preds = log_reg.predict_proba(X_test)\n",
    "        roc_auc_score(y_test, preds[:, 1])\n",
    "        print(f'C={C}, prior={prior}, ROC_AUC={roc_auc_score(y_test, preds[:, 1])}, time={time.time() - start_time}')"
   ]
  },
  {
   "cell_type": "markdown",
   "metadata": {},
   "source": [
    "__Замечание.__ Усложнение методов вычисления счётчиков не делают результаты модели гарантированно лучше. Особенно с учётом того, что логистическая регрессия не такая сложная модель, чтобы переобучаться. Поэтому вы необязательно должны были получать на каждом шаге всё лучшие и лучшие результаты (но необходимые результаты у вас должны были получиться).\n",
    "\n",
    "Как вы должны были заметить, счётчики являются хорошей альтернативой one-hot-кодированию. Напишите, какие плюсы и минусы использования счётчиков по сравнению с one-hot-кодированием, вы заметили.\n",
    "\n",
    "**Ответ:** \n",
    "\n",
    "**Плюсы использования счетчиков по сравнению с one-hot-encoding:**\n",
    "   1. Меньше затрат по памяти.\n",
    "   2. Требуется меньше времени на обучение модели.\n",
    "   \n",
    "**Минусы использования счетчиков по сравнению с one-hot-encoding:**\n",
    "   1. Более сложны в реализации.\n",
    "   2. Нужно бороться с переобучением (например, с помощью заполнения счетчиков по фолдам). А при добавлении шума в счетчики - нужно еще найти оптимальные значения для шума, так как может произойти потеря информации.\n",
    "   3. Качество модели немного хуже (возможно, это специфика данной задачи)"
   ]
  },
  {
   "cell_type": "markdown",
   "metadata": {},
   "source": [
    "## Отбор признаков"
   ]
  },
  {
   "cell_type": "markdown",
   "metadata": {},
   "source": [
    "Важной частью процесса построения модели является отбор признаков. На практике многие признаки оказывают малое влияние на модель (при этом их расчёт занимает время) или даже негативно сказываются на качестве модели. Попробуем несколько подходов отбора признаков, оценим, как они влияют на качество модели и сколько времени занимают.\n",
    "\n",
    "Обратимся к тому же датасету про обращение клиентов по страховым случаям. Обойдёмся без сэмплирования объектов."
   ]
  },
  {
   "cell_type": "code",
   "execution_count": 118,
   "metadata": {
    "ExecuteTime": {
     "end_time": "2018-10-12T07:36:04.765536Z",
     "start_time": "2018-10-12T07:35:57.814973Z"
    }
   },
   "outputs": [],
   "source": [
    "data = pd.read_csv('./data_logistic/train.csv', index_col=0)\n",
    "target = data.target.values\n",
    "data = data.drop('target', axis=1)"
   ]
  },
  {
   "cell_type": "markdown",
   "metadata": {},
   "source": [
    "Как вы помните, в данных много категориальных признаков. Давайте закодируем их с помощью one-hot кодирования. Исходные колонки с категориальными признаками можно удалить. Сколько признаков мы получили?"
   ]
  },
  {
   "cell_type": "code",
   "execution_count": 119,
   "metadata": {},
   "outputs": [
    {
     "name": "stdout",
     "output_type": "stream",
     "text": [
      "CPU times: user 36.7 s, sys: 2.83 s, total: 39.5 s\n",
      "Wall time: 4.94 s\n"
     ]
    }
   ],
   "source": [
    "%%time\n",
    "data_ohe = one_hot_encoding(data)"
   ]
  },
  {
   "cell_type": "code",
   "execution_count": 72,
   "metadata": {},
   "outputs": [],
   "source": [
    "X_train, X_test, y_train, y_test = train_test_split(data_ohe, target, test_size=0.2, random_state=124)"
   ]
  },
  {
   "cell_type": "markdown",
   "metadata": {},
   "source": [
    "В качестве основной модели будем использовать логистическую регрессию, а целевой метрики — ROC-AUC. Обучите модель и посчитайте качество на тестовой выборке. Давайте запомним полученное значение."
   ]
  },
  {
   "cell_type": "code",
   "execution_count": 73,
   "metadata": {},
   "outputs": [
    {
     "name": "stdout",
     "output_type": "stream",
     "text": [
      "CPU times: user 1min 15s, sys: 224 ms, total: 1min 15s\n",
      "Wall time: 1min 11s\n"
     ]
    },
    {
     "name": "stderr",
     "output_type": "stream",
     "text": [
      "/home/paniquex/anaconda3/envs/kaggle/lib/python3.7/site-packages/sklearn/linear_model/sag.py:337: ConvergenceWarning: The max_iter was reached which means the coef_ did not converge\n",
      "  \"the coef_ did not converge\", ConvergenceWarning)\n"
     ]
    },
    {
     "data": {
      "text/plain": [
       "LogisticRegression(C=1.0, class_weight=None, dual=False, fit_intercept=True,\n",
       "                   intercept_scaling=1, l1_ratio=None, max_iter=100,\n",
       "                   multi_class='warn', n_jobs=-1, penalty='l2',\n",
       "                   random_state=None, solver='sag', tol=0.0001, verbose=0,\n",
       "                   warm_start=False)"
      ]
     },
     "execution_count": 73,
     "metadata": {},
     "output_type": "execute_result"
    }
   ],
   "source": [
    "%%time\n",
    "log_reg = LogisticRegression(max_iter=100, solver='sag', n_jobs=-1)\n",
    "log_reg.fit(X_train, y_train)"
   ]
  },
  {
   "cell_type": "code",
   "execution_count": 74,
   "metadata": {},
   "outputs": [
    {
     "data": {
      "text/plain": [
       "0.638092855691184"
      ]
     },
     "execution_count": 74,
     "metadata": {},
     "output_type": "execute_result"
    }
   ],
   "source": [
    "preds = log_reg.predict_proba(X_test)\n",
    "roc_auc_score(y_test, preds[:, 1])"
   ]
  },
  {
   "cell_type": "markdown",
   "metadata": {},
   "source": [
    "### Встроенные методы"
   ]
  },
  {
   "cell_type": "markdown",
   "metadata": {},
   "source": [
    "Допустим, мы хотим оставить только 200 лучших признаков. Попробуем сделать это несколькими способами.\n",
    "\n",
    "Начнём с отборам признаков с помощью линейной модели. Как известно, веса линейной модели означают вклад каждого признака в предсказание модели, а значит, модуль этого вклада можно интерпретировать как важность признаков. Такой метод отбора называются встроенным или embedded methods, так как он заложен в особенности модели.\n",
    "\n",
    "__Задание 8.__ Оставьте 200 признаков с наибольшим модулем соответсвующего параметра линейной модели. Обучите модели заново и оцените её качество. Замерьте скорость такого отбора признаков.\n",
    "\n",
    "Изменилось ли качество? Как?\n",
    "\n",
    "__(0.5 балла)__"
   ]
  },
  {
   "cell_type": "code",
   "execution_count": 75,
   "metadata": {},
   "outputs": [],
   "source": [
    "top_feat_idx = np.argsort(np.abs(log_reg.coef_)).reshape(-1)[-200:]\n",
    "\n",
    "data_ohe_top_feat1 = data_ohe.iloc[:, top_feat_idx]"
   ]
  },
  {
   "cell_type": "code",
   "execution_count": 76,
   "metadata": {},
   "outputs": [],
   "source": [
    "X_train, X_test, y_train, y_test = train_test_split(data_ohe_top_feat1, target, test_size=0.2, random_state=124)"
   ]
  },
  {
   "cell_type": "markdown",
   "metadata": {},
   "source": [
    "В качестве основной модели будем использовать логистическую регрессию, а целевой метрики — ROC-AUC. Обучите модель и посчитайте качество на тестовой выборке. Давайте запомним полученное значение."
   ]
  },
  {
   "cell_type": "code",
   "execution_count": 77,
   "metadata": {},
   "outputs": [
    {
     "name": "stdout",
     "output_type": "stream",
     "text": [
      "CPU times: user 1min 8s, sys: 260 ms, total: 1min 8s\n",
      "Wall time: 1min 5s\n"
     ]
    },
    {
     "name": "stderr",
     "output_type": "stream",
     "text": [
      "/home/paniquex/anaconda3/envs/kaggle/lib/python3.7/site-packages/sklearn/linear_model/sag.py:337: ConvergenceWarning: The max_iter was reached which means the coef_ did not converge\n",
      "  \"the coef_ did not converge\", ConvergenceWarning)\n"
     ]
    },
    {
     "data": {
      "text/plain": [
       "LogisticRegression(C=1.0, class_weight=None, dual=False, fit_intercept=True,\n",
       "                   intercept_scaling=1, l1_ratio=None, max_iter=100,\n",
       "                   multi_class='warn', n_jobs=-1, penalty='l2',\n",
       "                   random_state=None, solver='sag', tol=0.0001, verbose=0,\n",
       "                   warm_start=False)"
      ]
     },
     "execution_count": 77,
     "metadata": {},
     "output_type": "execute_result"
    }
   ],
   "source": [
    "%%time\n",
    "log_reg = LogisticRegression(max_iter=100, solver='sag', n_jobs=-1)\n",
    "log_reg.fit(X_train, y_train)"
   ]
  },
  {
   "cell_type": "code",
   "execution_count": 78,
   "metadata": {},
   "outputs": [
    {
     "data": {
      "text/plain": [
       "0.6383208360473155"
      ]
     },
     "execution_count": 78,
     "metadata": {},
     "output_type": "execute_result"
    }
   ],
   "source": [
    "preds = log_reg.predict_proba(X_test)\n",
    "roc_auc_score(y_test, preds[:, 1])"
   ]
  },
  {
   "cell_type": "markdown",
   "metadata": {},
   "source": [
    "Качество повысилось совсем не значительно."
   ]
  },
  {
   "cell_type": "markdown",
   "metadata": {},
   "source": [
    "А теперь давайте подумаем, что мы не учли. Мы предположили, что признаки вносят вклад равномерно, но не учли их масштаба. Если мы умножим один из признаков в 100 раз, то без учёта регуляризации его вес уменьшится в эти же 100 раз. А мы на основе этого отбираем признаки! Давайте сначала отнормируем признаки одним из способов, а только потом будем удалять признаки. \n",
    "\n",
    "Кстати, в таком случае надо пересчитать качество на всех признаках (сделайте это ниже). Если вы сделали нормирование признаков в самом начале, то попробуйте отобрать признаки на неотмасштабированных данных.\n",
    "\n",
    "Что получилось?"
   ]
  },
  {
   "cell_type": "code",
   "execution_count": 130,
   "metadata": {},
   "outputs": [
    {
     "name": "stdout",
     "output_type": "stream",
     "text": [
      "CPU times: user 3.8 s, sys: 734 ms, total: 4.54 s\n",
      "Wall time: 1.19 s\n"
     ]
    }
   ],
   "source": [
    "%%time\n",
    "from sklearn.preprocessing import Normalizer\n",
    "X_train, X_test, y_train, y_test = train_test_split(data_ohe, target, test_size=0.2, random_state=124)\n",
    "\n",
    "normalizer = Normalizer()\n",
    "\n",
    "X_train_scaled = normalizer.fit_transform(X_train)\n",
    "X_test_scaled = normalizer.transform(X_test)\n"
   ]
  },
  {
   "cell_type": "code",
   "execution_count": 131,
   "metadata": {},
   "outputs": [
    {
     "name": "stdout",
     "output_type": "stream",
     "text": [
      "CPU times: user 15.6 s, sys: 152 ms, total: 15.8 s\n",
      "Wall time: 13.1 s\n"
     ]
    },
    {
     "data": {
      "text/plain": [
       "LogisticRegression(C=1.0, class_weight=None, dual=False, fit_intercept=True,\n",
       "                   intercept_scaling=1, l1_ratio=None, max_iter=100,\n",
       "                   multi_class='warn', n_jobs=-1, penalty='l2',\n",
       "                   random_state=None, solver='sag', tol=0.0001, verbose=0,\n",
       "                   warm_start=False)"
      ]
     },
     "execution_count": 131,
     "metadata": {},
     "output_type": "execute_result"
    }
   ],
   "source": [
    "%%time\n",
    "log_reg = LogisticRegression(max_iter=100, solver='sag', n_jobs=-1)\n",
    "log_reg.fit(X_train_scaled, y_train)"
   ]
  },
  {
   "cell_type": "code",
   "execution_count": 132,
   "metadata": {},
   "outputs": [
    {
     "data": {
      "text/plain": [
       "0.6362246344090806"
      ]
     },
     "execution_count": 132,
     "metadata": {},
     "output_type": "execute_result"
    }
   ],
   "source": [
    "preds = log_reg.predict_proba(X_test_scaled)\n",
    "roc_auc_score(y_test, preds[:, 1])"
   ]
  },
  {
   "cell_type": "markdown",
   "metadata": {},
   "source": [
    "Интересно, что нормировка ухудшила качество."
   ]
  },
  {
   "cell_type": "code",
   "execution_count": 133,
   "metadata": {},
   "outputs": [],
   "source": [
    "top_feat_idx = np.argsort(np.abs(log_reg.coef_)).reshape(-1)[-200:]\n",
    "\n",
    "data_ohe_top_feat2 = data_ohe.iloc[:, top_feat_idx]"
   ]
  },
  {
   "cell_type": "code",
   "execution_count": 134,
   "metadata": {},
   "outputs": [],
   "source": [
    "X_train, X_test, y_train, y_test = train_test_split(data_ohe_top_feat2, target, test_size=0.2, random_state=124)"
   ]
  },
  {
   "cell_type": "code",
   "execution_count": 135,
   "metadata": {},
   "outputs": [],
   "source": [
    "X_train_scaled = normalizer.fit_transform(X_train)\n",
    "X_test_scaled = normalizer.transform(X_test)"
   ]
  },
  {
   "cell_type": "code",
   "execution_count": 136,
   "metadata": {},
   "outputs": [
    {
     "name": "stdout",
     "output_type": "stream",
     "text": [
      "CPU times: user 14.7 s, sys: 136 ms, total: 14.9 s\n",
      "Wall time: 12.2 s\n"
     ]
    },
    {
     "data": {
      "text/plain": [
       "LogisticRegression(C=1.0, class_weight=None, dual=False, fit_intercept=True,\n",
       "                   intercept_scaling=1, l1_ratio=None, max_iter=100,\n",
       "                   multi_class='warn', n_jobs=-1, penalty='l2',\n",
       "                   random_state=None, solver='sag', tol=0.0001, verbose=0,\n",
       "                   warm_start=False)"
      ]
     },
     "execution_count": 136,
     "metadata": {},
     "output_type": "execute_result"
    }
   ],
   "source": [
    "%%time\n",
    "log_reg = LogisticRegression(max_iter=100, solver='sag', n_jobs=-1)\n",
    "log_reg.fit(X_train_scaled, y_train)"
   ]
  },
  {
   "cell_type": "code",
   "execution_count": 137,
   "metadata": {},
   "outputs": [
    {
     "data": {
      "text/plain": [
       "0.6366943147323798"
      ]
     },
     "execution_count": 137,
     "metadata": {},
     "output_type": "execute_result"
    }
   ],
   "source": [
    "preds = log_reg.predict_proba(X_test_scaled)\n",
    "roc_auc_score(y_test, preds[:, 1])"
   ]
  },
  {
   "cell_type": "markdown",
   "metadata": {},
   "source": [
    "При это относительный прирост качества стал в два раза больше."
   ]
  },
  {
   "cell_type": "markdown",
   "metadata": {},
   "source": [
    "Ради интереса посмотрим, что будет, если обучить модель на тех признаках, которые были отобраны с нормировкой, но приведенных снова к изначальному масштабу"
   ]
  },
  {
   "cell_type": "code",
   "execution_count": 138,
   "metadata": {},
   "outputs": [
    {
     "name": "stdout",
     "output_type": "stream",
     "text": [
      "CPU times: user 1min 9s, sys: 181 ms, total: 1min 9s\n",
      "Wall time: 1min 6s\n"
     ]
    },
    {
     "name": "stderr",
     "output_type": "stream",
     "text": [
      "/home/paniquex/anaconda3/envs/kaggle/lib/python3.7/site-packages/sklearn/linear_model/sag.py:337: ConvergenceWarning: The max_iter was reached which means the coef_ did not converge\n",
      "  \"the coef_ did not converge\", ConvergenceWarning)\n"
     ]
    },
    {
     "data": {
      "text/plain": [
       "LogisticRegression(C=1.0, class_weight=None, dual=False, fit_intercept=True,\n",
       "                   intercept_scaling=1, l1_ratio=None, max_iter=100,\n",
       "                   multi_class='warn', n_jobs=-1, penalty='l2',\n",
       "                   random_state=None, solver='sag', tol=0.0001, verbose=0,\n",
       "                   warm_start=False)"
      ]
     },
     "execution_count": 138,
     "metadata": {},
     "output_type": "execute_result"
    }
   ],
   "source": [
    "%%time\n",
    "log_reg = LogisticRegression(max_iter=100, solver='sag', n_jobs=-1)\n",
    "log_reg.fit(X_train, y_train)"
   ]
  },
  {
   "cell_type": "code",
   "execution_count": 139,
   "metadata": {},
   "outputs": [
    {
     "data": {
      "text/plain": [
       "0.616974519258959"
      ]
     },
     "execution_count": 139,
     "metadata": {},
     "output_type": "execute_result"
    }
   ],
   "source": [
    "preds = log_reg.predict_proba(X_test_scaled)\n",
    "roc_auc_score(y_test, preds[:, 1])"
   ]
  },
  {
   "cell_type": "markdown",
   "metadata": {},
   "source": [
    "Это и ожидалось, но попытаться стоило.."
   ]
  },
  {
   "cell_type": "markdown",
   "metadata": {},
   "source": [
    "### Методы фильтрации"
   ]
  },
  {
   "cell_type": "markdown",
   "metadata": {},
   "source": [
    "Давайте отбирать признаки умнее, а именно через подсчёт некоторой функции для каждого признака. На основании значений этой функции будем оставлять наиболее важные признаки. Методы этого семейства называют фильтрующими или  filter methods. \n",
    "\n",
    "В качестве такой функции будем считать t-статистику:\n",
    "\n",
    "$$t(x) = \\frac{|\\mu_+ - \\mu_-|}{\\sqrt{\\frac{n_+ \\sigma^2_+ + n_- \\sigma^2_-}{n_+ + n_-}}},$$\n",
    "\n",
    "где $mu$, $sigma$, $n$ соответственно среднее, среднеквадратичное отклонение и количество объектов каждого из классов.\n",
    "\n",
    "__Задание 9.__ Оставьте 200 признаков с наибольшим значением и замерьте качество. Не забудьте замерить скорость отбора признаков в этом случаев.\n",
    "\n",
    "__(0.5 балла)__"
   ]
  },
  {
   "cell_type": "code",
   "execution_count": 87,
   "metadata": {},
   "outputs": [],
   "source": [
    "def t_stat_values_calculation(data, target):\n",
    "    t_stat_list = []\n",
    "    n_plus = np.sum(target == 1)\n",
    "    n_minus = np.sum(target == 0)\n",
    "    \n",
    "    for column in data.columns:\n",
    "        mu_plus = np.mean(data[column][target == 1])\n",
    "        mu_minus = np.mean(data[column][target == 0])\n",
    "        sigma2_plus = np.var(data[column][target == 1])\n",
    "        sigma2_minus = np.var(data[column][target == 0])\n",
    "        numerator = np.abs(mu_plus + mu_minus)\n",
    "        denominator = np.sqrt((n_plus * sigma2_plus + n_minus * sigma2_minus) / (n_plus + n_minus))\n",
    "        t_stat_list.append(numerator / denominator)\n",
    "    return t_stat_list\n",
    "\n",
    "    "
   ]
  },
  {
   "cell_type": "code",
   "execution_count": 88,
   "metadata": {},
   "outputs": [
    {
     "name": "stdout",
     "output_type": "stream",
     "text": [
      "CPU times: user 3.33 s, sys: 24 ms, total: 3.35 s\n",
      "Wall time: 2.17 s\n"
     ]
    }
   ],
   "source": [
    "%%time\n",
    "t_stat_values = t_stat_values_calculation(data_ohe, target)"
   ]
  },
  {
   "cell_type": "code",
   "execution_count": 89,
   "metadata": {},
   "outputs": [],
   "source": [
    "top_features_idxs = np.argsort(t_stat_values)[-200:]"
   ]
  },
  {
   "cell_type": "code",
   "execution_count": 90,
   "metadata": {},
   "outputs": [],
   "source": [
    "data_ohe_filter = data_ohe.copy().iloc[:, top_features_idxs]\n",
    "X_train, X_test, y_train, y_test = train_test_split(data_ohe_filter,\n",
    "                                                    target,\n",
    "                                                    test_size=0.2,\n",
    "                                                    random_state=124)"
   ]
  },
  {
   "cell_type": "code",
   "execution_count": 91,
   "metadata": {},
   "outputs": [
    {
     "name": "stdout",
     "output_type": "stream",
     "text": [
      "CPU times: user 1min 8s, sys: 176 ms, total: 1min 8s\n",
      "Wall time: 1min 5s\n"
     ]
    },
    {
     "name": "stderr",
     "output_type": "stream",
     "text": [
      "/home/paniquex/anaconda3/envs/kaggle/lib/python3.7/site-packages/sklearn/linear_model/sag.py:337: ConvergenceWarning: The max_iter was reached which means the coef_ did not converge\n",
      "  \"the coef_ did not converge\", ConvergenceWarning)\n"
     ]
    },
    {
     "data": {
      "text/plain": [
       "LogisticRegression(C=1.0, class_weight=None, dual=False, fit_intercept=True,\n",
       "                   intercept_scaling=1, l1_ratio=None, max_iter=100,\n",
       "                   multi_class='warn', n_jobs=-1, penalty='l2',\n",
       "                   random_state=None, solver='sag', tol=0.0001, verbose=0,\n",
       "                   warm_start=False)"
      ]
     },
     "execution_count": 91,
     "metadata": {},
     "output_type": "execute_result"
    }
   ],
   "source": [
    "%%time\n",
    "log_reg = LogisticRegression(max_iter=100, solver='sag', n_jobs=-1)\n",
    "log_reg.fit(X_train, y_train)"
   ]
  },
  {
   "cell_type": "code",
   "execution_count": 92,
   "metadata": {},
   "outputs": [
    {
     "data": {
      "text/plain": [
       "0.6386818871492216"
      ]
     },
     "execution_count": 92,
     "metadata": {},
     "output_type": "execute_result"
    }
   ],
   "source": [
    "preds = log_reg.predict_proba(X_test)\n",
    "roc_auc_score(y_test, preds[:, 1])"
   ]
  },
  {
   "cell_type": "markdown",
   "metadata": {},
   "source": [
    "### Методы-обёртки"
   ]
  },
  {
   "cell_type": "markdown",
   "metadata": {},
   "source": [
    "__Задание 10.__ \n",
    "\n",
    "__(1 балл)__\n",
    "\n",
    "Заключительный из рассматриваемых нами методов работает следующим образом: мы исключаем по очереди один из признаков и смотрим, как это влияет на качество. Удаляем признаки таким жадным способом, пока не достигнем некоторого критерия (количество признаков или ухудшением качества).\n",
    "\n",
    "Заметим, что нельзя оценивать качество по тестовой выборке, иначе мы можем переобучиться, как, например, при настройке гиперпараметров. Разделите выборку на 2 части, на одной из них обучайте модель без одного из признаков,  на второй части оценивайте качество. Исходную тестовую выборку стоит использовать только на финальной оценке качества.\n",
    "\n",
    "Сделайте одну итерацию и прикиньте, сколько времени займёт такой отбор признаков. Кажется, что чересчур. Давайте возьмём маленький сэмпл данных (например, в 10 тысяч объектов), что сильно уменьшит время итерации. Теперь это долго, но уже приемлимо. \n",
    "\n",
    "Если это всё ещё долго для вашего комьютера, можете попробовать брать не по одному признаку, а сразу по пять (и удалять сразу тоже по 5). Для этого перед каждой итерацией удаления делите заново все признаки на группы по 5 штук.\n",
    "\n",
    "Снова оставьте только 200 признаков и оцените качество на тестовой выборке. Сколько времени занял такой отбор признаков?"
   ]
  },
  {
   "cell_type": "code",
   "execution_count": 120,
   "metadata": {},
   "outputs": [],
   "source": [
    "import tqdm\n",
    "\n",
    "class FeatureEliminator:\n",
    "    def __init__(self, model, data, target):\n",
    "        self.features_list = list(data.columns)\n",
    "        self.data = data.copy()\n",
    "        self.target = target\n",
    "        self.model = model\n",
    "        self.usefull_features = self.features_list\n",
    "        self.seed = 124\n",
    "        self.test_size = 0.2\n",
    "        self.best_roc_auc = 0\n",
    "    \n",
    "    def feature_elimination(self, min_features=200):\n",
    "        ## Проверим качество со всеми признаками и возьмем его за лучшее\n",
    "        data_tmp = self.data.copy()\n",
    "        X_train, X_test, y_train, y_test = train_test_split(data_tmp,\n",
    "                                                                self.target,\n",
    "                                                                test_size=self.test_size,\n",
    "                                                                random_state=self.seed,\n",
    "                                                                shuffle=False)\n",
    "        self.model.fit(X_train, y_train)\n",
    "        probs = self.model.predict_proba(X_test)\n",
    "        self.best_roc_auc = roc_auc_score(y_test, probs[:, 1])\n",
    "        for feature in tqdm.tqdm_notebook(self.features_list):\n",
    "            data_wout_1_feature = data_tmp.drop(columns=feature)\n",
    "            X_train, X_test, y_train, y_test = train_test_split(data_wout_1_feature,\n",
    "                                                                self.target,\n",
    "                                                                test_size=self.test_size,\n",
    "                                                                random_state=self.seed,\n",
    "                                                                shuffle=False)\n",
    "            self.model.fit(X_train, y_train)\n",
    "            probs = self.model.predict_proba(X_test)\n",
    "            roc_auc_curr = roc_auc_score(y_test, probs[:, 1])\n",
    "            if roc_auc_curr >= self.best_roc_auc:\n",
    "                data_tmp = data_wout_1_feature.copy()\n",
    "                self.best_roc_auc = roc_auc_curr\n",
    "                self.usefull_features.remove(feature)\n",
    "            if min_features >= data_tmp.shape[1]:\n",
    "                break\n",
    "            print(f'ROC_AUC_curr={roc_auc_curr}, ROC_AUC_best={self.best_roc_auc}, features amount={data_tmp.shape[1]}',)\n",
    "        return self.usefull_features\n",
    "            \n",
    "            \n",
    "            "
   ]
  },
  {
   "cell_type": "code",
   "execution_count": 109,
   "metadata": {},
   "outputs": [],
   "source": [
    "# # some resampling\n",
    "# samples_amount = 10000\n",
    "\n",
    "# np.random.seed(910)\n",
    "# mask_plus = np.random.choice(np.where(target == 1)[0], samples_amount, replace=True)\n",
    "# mask_zero = np.random.choice(np.where(target == 0)[0], samples_amount, replace=True)\n",
    "\n",
    "# data = pd.concat((data_ohe.iloc[mask_plus], data_ohe.iloc[mask_zero]))\n",
    "# target = np.hstack((target[mask_plus], target[mask_zero]))\n",
    "\n"
   ]
  },
  {
   "cell_type": "code",
   "execution_count": 121,
   "metadata": {},
   "outputs": [],
   "source": [
    "X_train, X_test, y_train, y_test = train_test_split(data_ohe, target, test_size=0.2)"
   ]
  },
  {
   "cell_type": "code",
   "execution_count": 122,
   "metadata": {},
   "outputs": [],
   "source": [
    "log_reg = LogisticRegression()"
   ]
  },
  {
   "cell_type": "code",
   "execution_count": 123,
   "metadata": {},
   "outputs": [],
   "source": [
    "feat_elim = FeatureEliminator(log_reg, X_train, y_train)"
   ]
  },
  {
   "cell_type": "code",
   "execution_count": 124,
   "metadata": {
    "scrolled": true
   },
   "outputs": [
    {
     "name": "stderr",
     "output_type": "stream",
     "text": [
      "/home/paniquex/anaconda3/envs/kaggle/lib/python3.7/site-packages/sklearn/linear_model/logistic.py:432: FutureWarning: Default solver will be changed to 'lbfgs' in 0.22. Specify a solver to silence this warning.\n",
      "  FutureWarning)\n"
     ]
    },
    {
     "data": {
      "application/vnd.jupyter.widget-view+json": {
       "model_id": "e1c9305041c14dd6b61a27c843febb8f",
       "version_major": 2,
       "version_minor": 0
      },
      "text/plain": [
       "HBox(children=(IntProgress(value=0, max=227), HTML(value='')))"
      ]
     },
     "metadata": {},
     "output_type": "display_data"
    },
    {
     "name": "stderr",
     "output_type": "stream",
     "text": [
      "/home/paniquex/anaconda3/envs/kaggle/lib/python3.7/site-packages/sklearn/linear_model/logistic.py:432: FutureWarning: Default solver will be changed to 'lbfgs' in 0.22. Specify a solver to silence this warning.\n",
      "  FutureWarning)\n"
     ]
    },
    {
     "name": "stdout",
     "output_type": "stream",
     "text": [
      "ROC_AUC_curr=0.6342166493835768, ROC_AUC_best=0.6342166493835768, features amount=226\n"
     ]
    },
    {
     "name": "stderr",
     "output_type": "stream",
     "text": [
      "/home/paniquex/anaconda3/envs/kaggle/lib/python3.7/site-packages/sklearn/linear_model/logistic.py:432: FutureWarning: Default solver will be changed to 'lbfgs' in 0.22. Specify a solver to silence this warning.\n",
      "  FutureWarning)\n"
     ]
    },
    {
     "name": "stdout",
     "output_type": "stream",
     "text": [
      "ROC_AUC_curr=0.634204679836757, ROC_AUC_best=0.6342166493835768, features amount=226\n"
     ]
    },
    {
     "name": "stderr",
     "output_type": "stream",
     "text": [
      "/home/paniquex/anaconda3/envs/kaggle/lib/python3.7/site-packages/sklearn/linear_model/logistic.py:432: FutureWarning: Default solver will be changed to 'lbfgs' in 0.22. Specify a solver to silence this warning.\n",
      "  FutureWarning)\n"
     ]
    },
    {
     "name": "stdout",
     "output_type": "stream",
     "text": [
      "ROC_AUC_curr=0.6342080578403053, ROC_AUC_best=0.6342166493835768, features amount=226\n"
     ]
    },
    {
     "name": "stderr",
     "output_type": "stream",
     "text": [
      "/home/paniquex/anaconda3/envs/kaggle/lib/python3.7/site-packages/sklearn/linear_model/logistic.py:432: FutureWarning: Default solver will be changed to 'lbfgs' in 0.22. Specify a solver to silence this warning.\n",
      "  FutureWarning)\n"
     ]
    },
    {
     "name": "stdout",
     "output_type": "stream",
     "text": [
      "ROC_AUC_curr=0.6341640142269169, ROC_AUC_best=0.6342166493835768, features amount=226\n"
     ]
    },
    {
     "name": "stderr",
     "output_type": "stream",
     "text": [
      "/home/paniquex/anaconda3/envs/kaggle/lib/python3.7/site-packages/sklearn/linear_model/logistic.py:432: FutureWarning: Default solver will be changed to 'lbfgs' in 0.22. Specify a solver to silence this warning.\n",
      "  FutureWarning)\n"
     ]
    },
    {
     "name": "stdout",
     "output_type": "stream",
     "text": [
      "ROC_AUC_curr=0.6341991578035593, ROC_AUC_best=0.6342166493835768, features amount=226\n"
     ]
    },
    {
     "name": "stderr",
     "output_type": "stream",
     "text": [
      "/home/paniquex/anaconda3/envs/kaggle/lib/python3.7/site-packages/sklearn/linear_model/logistic.py:432: FutureWarning: Default solver will be changed to 'lbfgs' in 0.22. Specify a solver to silence this warning.\n",
      "  FutureWarning)\n"
     ]
    },
    {
     "name": "stdout",
     "output_type": "stream",
     "text": [
      "ROC_AUC_curr=0.6342509106688813, ROC_AUC_best=0.6342509106688813, features amount=225\n"
     ]
    },
    {
     "name": "stderr",
     "output_type": "stream",
     "text": [
      "/home/paniquex/anaconda3/envs/kaggle/lib/python3.7/site-packages/sklearn/linear_model/logistic.py:432: FutureWarning: Default solver will be changed to 'lbfgs' in 0.22. Specify a solver to silence this warning.\n",
      "  FutureWarning)\n"
     ]
    },
    {
     "name": "stdout",
     "output_type": "stream",
     "text": [
      "ROC_AUC_curr=0.6342783635031982, ROC_AUC_best=0.6342783635031982, features amount=224\n"
     ]
    },
    {
     "name": "stderr",
     "output_type": "stream",
     "text": [
      "/home/paniquex/anaconda3/envs/kaggle/lib/python3.7/site-packages/sklearn/linear_model/logistic.py:432: FutureWarning: Default solver will be changed to 'lbfgs' in 0.22. Specify a solver to silence this warning.\n",
      "  FutureWarning)\n"
     ]
    },
    {
     "name": "stdout",
     "output_type": "stream",
     "text": [
      "ROC_AUC_curr=0.6343016578454758, ROC_AUC_best=0.6343016578454758, features amount=223\n"
     ]
    },
    {
     "name": "stderr",
     "output_type": "stream",
     "text": [
      "/home/paniquex/anaconda3/envs/kaggle/lib/python3.7/site-packages/sklearn/linear_model/logistic.py:432: FutureWarning: Default solver will be changed to 'lbfgs' in 0.22. Specify a solver to silence this warning.\n",
      "  FutureWarning)\n"
     ]
    },
    {
     "name": "stdout",
     "output_type": "stream",
     "text": [
      "ROC_AUC_curr=0.6341977109691627, ROC_AUC_best=0.6343016578454758, features amount=223\n"
     ]
    },
    {
     "name": "stderr",
     "output_type": "stream",
     "text": [
      "/home/paniquex/anaconda3/envs/kaggle/lib/python3.7/site-packages/sklearn/linear_model/logistic.py:432: FutureWarning: Default solver will be changed to 'lbfgs' in 0.22. Specify a solver to silence this warning.\n",
      "  FutureWarning)\n"
     ]
    },
    {
     "name": "stdout",
     "output_type": "stream",
     "text": [
      "ROC_AUC_curr=0.63332544566934, ROC_AUC_best=0.6343016578454758, features amount=223\n"
     ]
    },
    {
     "name": "stderr",
     "output_type": "stream",
     "text": [
      "/home/paniquex/anaconda3/envs/kaggle/lib/python3.7/site-packages/sklearn/linear_model/logistic.py:432: FutureWarning: Default solver will be changed to 'lbfgs' in 0.22. Specify a solver to silence this warning.\n",
      "  FutureWarning)\n"
     ]
    },
    {
     "name": "stdout",
     "output_type": "stream",
     "text": [
      "ROC_AUC_curr=0.6343034440226945, ROC_AUC_best=0.6343034440226945, features amount=222\n"
     ]
    },
    {
     "name": "stderr",
     "output_type": "stream",
     "text": [
      "/home/paniquex/anaconda3/envs/kaggle/lib/python3.7/site-packages/sklearn/linear_model/logistic.py:432: FutureWarning: Default solver will be changed to 'lbfgs' in 0.22. Specify a solver to silence this warning.\n",
      "  FutureWarning)\n"
     ]
    },
    {
     "name": "stdout",
     "output_type": "stream",
     "text": [
      "ROC_AUC_curr=0.6342227914886589, ROC_AUC_best=0.6343034440226945, features amount=222\n"
     ]
    },
    {
     "name": "stderr",
     "output_type": "stream",
     "text": [
      "/home/paniquex/anaconda3/envs/kaggle/lib/python3.7/site-packages/sklearn/linear_model/logistic.py:432: FutureWarning: Default solver will be changed to 'lbfgs' in 0.22. Specify a solver to silence this warning.\n",
      "  FutureWarning)\n"
     ]
    },
    {
     "name": "stdout",
     "output_type": "stream",
     "text": [
      "ROC_AUC_curr=0.6330947203146484, ROC_AUC_best=0.6343034440226945, features amount=222\n"
     ]
    },
    {
     "name": "stderr",
     "output_type": "stream",
     "text": [
      "/home/paniquex/anaconda3/envs/kaggle/lib/python3.7/site-packages/sklearn/linear_model/logistic.py:432: FutureWarning: Default solver will be changed to 'lbfgs' in 0.22. Specify a solver to silence this warning.\n",
      "  FutureWarning)\n"
     ]
    },
    {
     "name": "stdout",
     "output_type": "stream",
     "text": [
      "ROC_AUC_curr=0.6342879730749362, ROC_AUC_best=0.6343034440226945, features amount=222\n"
     ]
    },
    {
     "name": "stderr",
     "output_type": "stream",
     "text": [
      "/home/paniquex/anaconda3/envs/kaggle/lib/python3.7/site-packages/sklearn/linear_model/logistic.py:432: FutureWarning: Default solver will be changed to 'lbfgs' in 0.22. Specify a solver to silence this warning.\n",
      "  FutureWarning)\n"
     ]
    },
    {
     "name": "stdout",
     "output_type": "stream",
     "text": [
      "ROC_AUC_curr=0.6340283943255525, ROC_AUC_best=0.6343034440226945, features amount=222\n"
     ]
    },
    {
     "name": "stderr",
     "output_type": "stream",
     "text": [
      "/home/paniquex/anaconda3/envs/kaggle/lib/python3.7/site-packages/sklearn/linear_model/logistic.py:432: FutureWarning: Default solver will be changed to 'lbfgs' in 0.22. Specify a solver to silence this warning.\n",
      "  FutureWarning)\n"
     ]
    },
    {
     "name": "stdout",
     "output_type": "stream",
     "text": [
      "ROC_AUC_curr=0.6340090548696211, ROC_AUC_best=0.6343034440226945, features amount=222\n"
     ]
    },
    {
     "name": "stderr",
     "output_type": "stream",
     "text": [
      "/home/paniquex/anaconda3/envs/kaggle/lib/python3.7/site-packages/sklearn/linear_model/logistic.py:432: FutureWarning: Default solver will be changed to 'lbfgs' in 0.22. Specify a solver to silence this warning.\n",
      "  FutureWarning)\n"
     ]
    },
    {
     "name": "stdout",
     "output_type": "stream",
     "text": [
      "ROC_AUC_curr=0.6342980546416908, ROC_AUC_best=0.6343034440226945, features amount=222\n"
     ]
    },
    {
     "name": "stderr",
     "output_type": "stream",
     "text": [
      "/home/paniquex/anaconda3/envs/kaggle/lib/python3.7/site-packages/sklearn/linear_model/logistic.py:432: FutureWarning: Default solver will be changed to 'lbfgs' in 0.22. Specify a solver to silence this warning.\n",
      "  FutureWarning)\n"
     ]
    },
    {
     "name": "stdout",
     "output_type": "stream",
     "text": [
      "ROC_AUC_curr=0.6340988604050524, ROC_AUC_best=0.6343034440226945, features amount=222\n"
     ]
    },
    {
     "name": "stderr",
     "output_type": "stream",
     "text": [
      "/home/paniquex/anaconda3/envs/kaggle/lib/python3.7/site-packages/sklearn/linear_model/logistic.py:432: FutureWarning: Default solver will be changed to 'lbfgs' in 0.22. Specify a solver to silence this warning.\n",
      "  FutureWarning)\n"
     ]
    },
    {
     "name": "stdout",
     "output_type": "stream",
     "text": [
      "ROC_AUC_curr=0.63441706833931, ROC_AUC_best=0.63441706833931, features amount=221\n"
     ]
    },
    {
     "name": "stderr",
     "output_type": "stream",
     "text": [
      "/home/paniquex/anaconda3/envs/kaggle/lib/python3.7/site-packages/sklearn/linear_model/logistic.py:432: FutureWarning: Default solver will be changed to 'lbfgs' in 0.22. Specify a solver to silence this warning.\n",
      "  FutureWarning)\n"
     ]
    },
    {
     "name": "stdout",
     "output_type": "stream",
     "text": [
      "ROC_AUC_curr=0.6343176748266841, ROC_AUC_best=0.63441706833931, features amount=221\n"
     ]
    },
    {
     "name": "stderr",
     "output_type": "stream",
     "text": [
      "/home/paniquex/anaconda3/envs/kaggle/lib/python3.7/site-packages/sklearn/linear_model/logistic.py:432: FutureWarning: Default solver will be changed to 'lbfgs' in 0.22. Specify a solver to silence this warning.\n",
      "  FutureWarning)\n"
     ]
    },
    {
     "name": "stdout",
     "output_type": "stream",
     "text": [
      "ROC_AUC_curr=0.6344232073594573, ROC_AUC_best=0.6344232073594573, features amount=220\n"
     ]
    },
    {
     "name": "stderr",
     "output_type": "stream",
     "text": [
      "/home/paniquex/anaconda3/envs/kaggle/lib/python3.7/site-packages/sklearn/linear_model/logistic.py:432: FutureWarning: Default solver will be changed to 'lbfgs' in 0.22. Specify a solver to silence this warning.\n",
      "  FutureWarning)\n"
     ]
    },
    {
     "name": "stdout",
     "output_type": "stream",
     "text": [
      "ROC_AUC_curr=0.6344064839281918, ROC_AUC_best=0.6344232073594573, features amount=220\n"
     ]
    },
    {
     "name": "stderr",
     "output_type": "stream",
     "text": [
      "/home/paniquex/anaconda3/envs/kaggle/lib/python3.7/site-packages/sklearn/linear_model/logistic.py:432: FutureWarning: Default solver will be changed to 'lbfgs' in 0.22. Specify a solver to silence this warning.\n",
      "  FutureWarning)\n"
     ]
    },
    {
     "name": "stdout",
     "output_type": "stream",
     "text": [
      "ROC_AUC_curr=0.6344164019934047, ROC_AUC_best=0.6344232073594573, features amount=220\n"
     ]
    },
    {
     "name": "stderr",
     "output_type": "stream",
     "text": [
      "/home/paniquex/anaconda3/envs/kaggle/lib/python3.7/site-packages/sklearn/linear_model/logistic.py:432: FutureWarning: Default solver will be changed to 'lbfgs' in 0.22. Specify a solver to silence this warning.\n",
      "  FutureWarning)\n"
     ]
    },
    {
     "name": "stdout",
     "output_type": "stream",
     "text": [
      "ROC_AUC_curr=0.6343366255808374, ROC_AUC_best=0.6344232073594573, features amount=220\n"
     ]
    },
    {
     "name": "stderr",
     "output_type": "stream",
     "text": [
      "/home/paniquex/anaconda3/envs/kaggle/lib/python3.7/site-packages/sklearn/linear_model/logistic.py:432: FutureWarning: Default solver will be changed to 'lbfgs' in 0.22. Specify a solver to silence this warning.\n",
      "  FutureWarning)\n"
     ]
    },
    {
     "name": "stdout",
     "output_type": "stream",
     "text": [
      "ROC_AUC_curr=0.6344060551222619, ROC_AUC_best=0.6344232073594573, features amount=220\n"
     ]
    },
    {
     "name": "stderr",
     "output_type": "stream",
     "text": [
      "/home/paniquex/anaconda3/envs/kaggle/lib/python3.7/site-packages/sklearn/linear_model/logistic.py:432: FutureWarning: Default solver will be changed to 'lbfgs' in 0.22. Specify a solver to silence this warning.\n",
      "  FutureWarning)\n"
     ]
    },
    {
     "name": "stdout",
     "output_type": "stream",
     "text": [
      "ROC_AUC_curr=0.6344240433767738, ROC_AUC_best=0.6344240433767738, features amount=219\n"
     ]
    },
    {
     "name": "stderr",
     "output_type": "stream",
     "text": [
      "/home/paniquex/anaconda3/envs/kaggle/lib/python3.7/site-packages/sklearn/linear_model/logistic.py:432: FutureWarning: Default solver will be changed to 'lbfgs' in 0.22. Specify a solver to silence this warning.\n",
      "  FutureWarning)\n"
     ]
    },
    {
     "name": "stdout",
     "output_type": "stream",
     "text": [
      "ROC_AUC_curr=0.6343735306552203, ROC_AUC_best=0.6344240433767738, features amount=219\n"
     ]
    },
    {
     "name": "stderr",
     "output_type": "stream",
     "text": [
      "/home/paniquex/anaconda3/envs/kaggle/lib/python3.7/site-packages/sklearn/linear_model/logistic.py:432: FutureWarning: Default solver will be changed to 'lbfgs' in 0.22. Specify a solver to silence this warning.\n",
      "  FutureWarning)\n"
     ]
    },
    {
     "name": "stdout",
     "output_type": "stream",
     "text": [
      "ROC_AUC_curr=0.6344508329501202, ROC_AUC_best=0.6344508329501202, features amount=218\n"
     ]
    },
    {
     "name": "stderr",
     "output_type": "stream",
     "text": [
      "/home/paniquex/anaconda3/envs/kaggle/lib/python3.7/site-packages/sklearn/linear_model/logistic.py:432: FutureWarning: Default solver will be changed to 'lbfgs' in 0.22. Specify a solver to silence this warning.\n",
      "  FutureWarning)\n"
     ]
    },
    {
     "name": "stdout",
     "output_type": "stream",
     "text": [
      "ROC_AUC_curr=0.6344423000206089, ROC_AUC_best=0.6344508329501202, features amount=218\n"
     ]
    },
    {
     "name": "stderr",
     "output_type": "stream",
     "text": [
      "/home/paniquex/anaconda3/envs/kaggle/lib/python3.7/site-packages/sklearn/linear_model/logistic.py:432: FutureWarning: Default solver will be changed to 'lbfgs' in 0.22. Specify a solver to silence this warning.\n",
      "  FutureWarning)\n"
     ]
    },
    {
     "name": "stdout",
     "output_type": "stream",
     "text": [
      "ROC_AUC_curr=0.6344745437585886, ROC_AUC_best=0.6344745437585886, features amount=217\n"
     ]
    },
    {
     "name": "stderr",
     "output_type": "stream",
     "text": [
      "/home/paniquex/anaconda3/envs/kaggle/lib/python3.7/site-packages/sklearn/linear_model/logistic.py:432: FutureWarning: Default solver will be changed to 'lbfgs' in 0.22. Specify a solver to silence this warning.\n",
      "  FutureWarning)\n"
     ]
    },
    {
     "name": "stdout",
     "output_type": "stream",
     "text": [
      "ROC_AUC_curr=0.6345096811653613, ROC_AUC_best=0.6345096811653613, features amount=216\n"
     ]
    },
    {
     "name": "stderr",
     "output_type": "stream",
     "text": [
      "/home/paniquex/anaconda3/envs/kaggle/lib/python3.7/site-packages/sklearn/linear_model/logistic.py:432: FutureWarning: Default solver will be changed to 'lbfgs' in 0.22. Specify a solver to silence this warning.\n",
      "  FutureWarning)\n"
     ]
    },
    {
     "name": "stdout",
     "output_type": "stream",
     "text": [
      "ROC_AUC_curr=0.6345459846774686, ROC_AUC_best=0.6345459846774686, features amount=215\n"
     ]
    },
    {
     "name": "stderr",
     "output_type": "stream",
     "text": [
      "/home/paniquex/anaconda3/envs/kaggle/lib/python3.7/site-packages/sklearn/linear_model/logistic.py:432: FutureWarning: Default solver will be changed to 'lbfgs' in 0.22. Specify a solver to silence this warning.\n",
      "  FutureWarning)\n"
     ]
    },
    {
     "name": "stdout",
     "output_type": "stream",
     "text": [
      "ROC_AUC_curr=0.6345215890134861, ROC_AUC_best=0.6345459846774686, features amount=215\n"
     ]
    },
    {
     "name": "stderr",
     "output_type": "stream",
     "text": [
      "/home/paniquex/anaconda3/envs/kaggle/lib/python3.7/site-packages/sklearn/linear_model/logistic.py:432: FutureWarning: Default solver will be changed to 'lbfgs' in 0.22. Specify a solver to silence this warning.\n",
      "  FutureWarning)\n"
     ]
    },
    {
     "name": "stdout",
     "output_type": "stream",
     "text": [
      "ROC_AUC_curr=0.6345599162427877, ROC_AUC_best=0.6345599162427877, features amount=214\n"
     ]
    },
    {
     "name": "stderr",
     "output_type": "stream",
     "text": [
      "/home/paniquex/anaconda3/envs/kaggle/lib/python3.7/site-packages/sklearn/linear_model/logistic.py:432: FutureWarning: Default solver will be changed to 'lbfgs' in 0.22. Specify a solver to silence this warning.\n",
      "  FutureWarning)\n"
     ]
    },
    {
     "name": "stdout",
     "output_type": "stream",
     "text": [
      "ROC_AUC_curr=0.6345454293892139, ROC_AUC_best=0.6345599162427877, features amount=214\n"
     ]
    },
    {
     "name": "stderr",
     "output_type": "stream",
     "text": [
      "/home/paniquex/anaconda3/envs/kaggle/lib/python3.7/site-packages/sklearn/linear_model/logistic.py:432: FutureWarning: Default solver will be changed to 'lbfgs' in 0.22. Specify a solver to silence this warning.\n",
      "  FutureWarning)\n"
     ]
    },
    {
     "name": "stdout",
     "output_type": "stream",
     "text": [
      "ROC_AUC_curr=0.6345629734131223, ROC_AUC_best=0.6345629734131223, features amount=213\n"
     ]
    },
    {
     "name": "stderr",
     "output_type": "stream",
     "text": [
      "/home/paniquex/anaconda3/envs/kaggle/lib/python3.7/site-packages/sklearn/linear_model/logistic.py:432: FutureWarning: Default solver will be changed to 'lbfgs' in 0.22. Specify a solver to silence this warning.\n",
      "  FutureWarning)\n"
     ]
    },
    {
     "name": "stdout",
     "output_type": "stream",
     "text": [
      "ROC_AUC_curr=0.6345201360092202, ROC_AUC_best=0.6345629734131223, features amount=213\n"
     ]
    },
    {
     "name": "stderr",
     "output_type": "stream",
     "text": [
      "/home/paniquex/anaconda3/envs/kaggle/lib/python3.7/site-packages/sklearn/linear_model/logistic.py:432: FutureWarning: Default solver will be changed to 'lbfgs' in 0.22. Specify a solver to silence this warning.\n",
      "  FutureWarning)\n"
     ]
    },
    {
     "name": "stdout",
     "output_type": "stream",
     "text": [
      "ROC_AUC_curr=0.6345691093483349, ROC_AUC_best=0.6345691093483349, features amount=212\n"
     ]
    },
    {
     "name": "stderr",
     "output_type": "stream",
     "text": [
      "/home/paniquex/anaconda3/envs/kaggle/lib/python3.7/site-packages/sklearn/linear_model/logistic.py:432: FutureWarning: Default solver will be changed to 'lbfgs' in 0.22. Specify a solver to silence this warning.\n",
      "  FutureWarning)\n"
     ]
    },
    {
     "name": "stdout",
     "output_type": "stream",
     "text": [
      "ROC_AUC_curr=0.6314888266825508, ROC_AUC_best=0.6345691093483349, features amount=212\n"
     ]
    },
    {
     "name": "stderr",
     "output_type": "stream",
     "text": [
      "/home/paniquex/anaconda3/envs/kaggle/lib/python3.7/site-packages/sklearn/linear_model/logistic.py:432: FutureWarning: Default solver will be changed to 'lbfgs' in 0.22. Specify a solver to silence this warning.\n",
      "  FutureWarning)\n"
     ]
    },
    {
     "name": "stdout",
     "output_type": "stream",
     "text": [
      "ROC_AUC_curr=0.6344866428726678, ROC_AUC_best=0.6345691093483349, features amount=212\n"
     ]
    },
    {
     "name": "stderr",
     "output_type": "stream",
     "text": [
      "/home/paniquex/anaconda3/envs/kaggle/lib/python3.7/site-packages/sklearn/linear_model/logistic.py:432: FutureWarning: Default solver will be changed to 'lbfgs' in 0.22. Specify a solver to silence this warning.\n",
      "  FutureWarning)\n"
     ]
    },
    {
     "name": "stdout",
     "output_type": "stream",
     "text": [
      "ROC_AUC_curr=0.6309389062144823, ROC_AUC_best=0.6345691093483349, features amount=212\n"
     ]
    },
    {
     "name": "stderr",
     "output_type": "stream",
     "text": [
      "/home/paniquex/anaconda3/envs/kaggle/lib/python3.7/site-packages/sklearn/linear_model/logistic.py:432: FutureWarning: Default solver will be changed to 'lbfgs' in 0.22. Specify a solver to silence this warning.\n",
      "  FutureWarning)\n"
     ]
    },
    {
     "name": "stdout",
     "output_type": "stream",
     "text": [
      "ROC_AUC_curr=0.6346511315933983, ROC_AUC_best=0.6346511315933983, features amount=211\n"
     ]
    },
    {
     "name": "stderr",
     "output_type": "stream",
     "text": [
      "/home/paniquex/anaconda3/envs/kaggle/lib/python3.7/site-packages/sklearn/linear_model/logistic.py:432: FutureWarning: Default solver will be changed to 'lbfgs' in 0.22. Specify a solver to silence this warning.\n",
      "  FutureWarning)\n"
     ]
    },
    {
     "name": "stdout",
     "output_type": "stream",
     "text": [
      "ROC_AUC_curr=0.6314571166382824, ROC_AUC_best=0.6346511315933983, features amount=211\n"
     ]
    },
    {
     "name": "stderr",
     "output_type": "stream",
     "text": [
      "/home/paniquex/anaconda3/envs/kaggle/lib/python3.7/site-packages/sklearn/linear_model/logistic.py:432: FutureWarning: Default solver will be changed to 'lbfgs' in 0.22. Specify a solver to silence this warning.\n",
      "  FutureWarning)\n"
     ]
    },
    {
     "name": "stdout",
     "output_type": "stream",
     "text": [
      "ROC_AUC_curr=0.6346622959722491, ROC_AUC_best=0.6346622959722491, features amount=210\n"
     ]
    },
    {
     "name": "stderr",
     "output_type": "stream",
     "text": [
      "/home/paniquex/anaconda3/envs/kaggle/lib/python3.7/site-packages/sklearn/linear_model/logistic.py:432: FutureWarning: Default solver will be changed to 'lbfgs' in 0.22. Specify a solver to silence this warning.\n",
      "  FutureWarning)\n"
     ]
    },
    {
     "name": "stdout",
     "output_type": "stream",
     "text": [
      "ROC_AUC_curr=0.6338007138014566, ROC_AUC_best=0.6346622959722491, features amount=210\n"
     ]
    },
    {
     "name": "stderr",
     "output_type": "stream",
     "text": [
      "/home/paniquex/anaconda3/envs/kaggle/lib/python3.7/site-packages/sklearn/linear_model/logistic.py:432: FutureWarning: Default solver will be changed to 'lbfgs' in 0.22. Specify a solver to silence this warning.\n",
      "  FutureWarning)\n"
     ]
    },
    {
     "name": "stdout",
     "output_type": "stream",
     "text": [
      "ROC_AUC_curr=0.634772887798008, ROC_AUC_best=0.634772887798008, features amount=209\n"
     ]
    },
    {
     "name": "stderr",
     "output_type": "stream",
     "text": [
      "/home/paniquex/anaconda3/envs/kaggle/lib/python3.7/site-packages/sklearn/linear_model/logistic.py:432: FutureWarning: Default solver will be changed to 'lbfgs' in 0.22. Specify a solver to silence this warning.\n",
      "  FutureWarning)\n"
     ]
    },
    {
     "name": "stdout",
     "output_type": "stream",
     "text": [
      "ROC_AUC_curr=0.6345647071464503, ROC_AUC_best=0.634772887798008, features amount=209\n"
     ]
    },
    {
     "name": "stderr",
     "output_type": "stream",
     "text": [
      "/home/paniquex/anaconda3/envs/kaggle/lib/python3.7/site-packages/sklearn/linear_model/logistic.py:432: FutureWarning: Default solver will be changed to 'lbfgs' in 0.22. Specify a solver to silence this warning.\n",
      "  FutureWarning)\n"
     ]
    },
    {
     "name": "stdout",
     "output_type": "stream",
     "text": [
      "ROC_AUC_curr=0.634364325209934, ROC_AUC_best=0.634772887798008, features amount=209\n"
     ]
    },
    {
     "name": "stderr",
     "output_type": "stream",
     "text": [
      "/home/paniquex/anaconda3/envs/kaggle/lib/python3.7/site-packages/sklearn/linear_model/logistic.py:432: FutureWarning: Default solver will be changed to 'lbfgs' in 0.22. Specify a solver to silence this warning.\n",
      "  FutureWarning)\n"
     ]
    },
    {
     "name": "stdout",
     "output_type": "stream",
     "text": [
      "ROC_AUC_curr=0.6341856828085825, ROC_AUC_best=0.634772887798008, features amount=209\n"
     ]
    },
    {
     "name": "stderr",
     "output_type": "stream",
     "text": [
      "/home/paniquex/anaconda3/envs/kaggle/lib/python3.7/site-packages/sklearn/linear_model/logistic.py:432: FutureWarning: Default solver will be changed to 'lbfgs' in 0.22. Specify a solver to silence this warning.\n",
      "  FutureWarning)\n"
     ]
    },
    {
     "name": "stdout",
     "output_type": "stream",
     "text": [
      "ROC_AUC_curr=0.6347806680034408, ROC_AUC_best=0.6347806680034408, features amount=208\n"
     ]
    },
    {
     "name": "stderr",
     "output_type": "stream",
     "text": [
      "/home/paniquex/anaconda3/envs/kaggle/lib/python3.7/site-packages/sklearn/linear_model/logistic.py:432: FutureWarning: Default solver will be changed to 'lbfgs' in 0.22. Specify a solver to silence this warning.\n",
      "  FutureWarning)\n"
     ]
    },
    {
     "name": "stdout",
     "output_type": "stream",
     "text": [
      "ROC_AUC_curr=0.6346141308860381, ROC_AUC_best=0.6347806680034408, features amount=208\n"
     ]
    },
    {
     "name": "stderr",
     "output_type": "stream",
     "text": [
      "/home/paniquex/anaconda3/envs/kaggle/lib/python3.7/site-packages/sklearn/linear_model/logistic.py:432: FutureWarning: Default solver will be changed to 'lbfgs' in 0.22. Specify a solver to silence this warning.\n",
      "  FutureWarning)\n"
     ]
    },
    {
     "name": "stdout",
     "output_type": "stream",
     "text": [
      "ROC_AUC_curr=0.6348044374256695, ROC_AUC_best=0.6348044374256695, features amount=207\n"
     ]
    },
    {
     "name": "stderr",
     "output_type": "stream",
     "text": [
      "/home/paniquex/anaconda3/envs/kaggle/lib/python3.7/site-packages/sklearn/linear_model/logistic.py:432: FutureWarning: Default solver will be changed to 'lbfgs' in 0.22. Specify a solver to silence this warning.\n",
      "  FutureWarning)\n"
     ]
    },
    {
     "name": "stdout",
     "output_type": "stream",
     "text": [
      "ROC_AUC_curr=0.6347875628326013, ROC_AUC_best=0.6348044374256695, features amount=207\n"
     ]
    },
    {
     "name": "stderr",
     "output_type": "stream",
     "text": [
      "/home/paniquex/anaconda3/envs/kaggle/lib/python3.7/site-packages/sklearn/linear_model/logistic.py:432: FutureWarning: Default solver will be changed to 'lbfgs' in 0.22. Specify a solver to silence this warning.\n",
      "  FutureWarning)\n"
     ]
    },
    {
     "name": "stdout",
     "output_type": "stream",
     "text": [
      "ROC_AUC_curr=0.6348144912280111, ROC_AUC_best=0.6348144912280111, features amount=206\n"
     ]
    },
    {
     "name": "stderr",
     "output_type": "stream",
     "text": [
      "/home/paniquex/anaconda3/envs/kaggle/lib/python3.7/site-packages/sklearn/linear_model/logistic.py:432: FutureWarning: Default solver will be changed to 'lbfgs' in 0.22. Specify a solver to silence this warning.\n",
      "  FutureWarning)\n"
     ]
    },
    {
     "name": "stdout",
     "output_type": "stream",
     "text": [
      "ROC_AUC_curr=0.6347630345164249, ROC_AUC_best=0.6348144912280111, features amount=206\n"
     ]
    },
    {
     "name": "stderr",
     "output_type": "stream",
     "text": [
      "/home/paniquex/anaconda3/envs/kaggle/lib/python3.7/site-packages/sklearn/linear_model/logistic.py:432: FutureWarning: Default solver will be changed to 'lbfgs' in 0.22. Specify a solver to silence this warning.\n",
      "  FutureWarning)\n"
     ]
    },
    {
     "name": "stdout",
     "output_type": "stream",
     "text": [
      "ROC_AUC_curr=0.6348175638230196, ROC_AUC_best=0.6348175638230196, features amount=205\n"
     ]
    },
    {
     "name": "stderr",
     "output_type": "stream",
     "text": [
      "/home/paniquex/anaconda3/envs/kaggle/lib/python3.7/site-packages/sklearn/linear_model/logistic.py:432: FutureWarning: Default solver will be changed to 'lbfgs' in 0.22. Specify a solver to silence this warning.\n",
      "  FutureWarning)\n"
     ]
    },
    {
     "name": "stdout",
     "output_type": "stream",
     "text": [
      "ROC_AUC_curr=0.6348163822930114, ROC_AUC_best=0.6348175638230196, features amount=205\n"
     ]
    },
    {
     "name": "stderr",
     "output_type": "stream",
     "text": [
      "/home/paniquex/anaconda3/envs/kaggle/lib/python3.7/site-packages/sklearn/linear_model/logistic.py:432: FutureWarning: Default solver will be changed to 'lbfgs' in 0.22. Specify a solver to silence this warning.\n",
      "  FutureWarning)\n"
     ]
    },
    {
     "name": "stdout",
     "output_type": "stream",
     "text": [
      "ROC_AUC_curr=0.6348052888676599, ROC_AUC_best=0.6348175638230196, features amount=205\n"
     ]
    },
    {
     "name": "stderr",
     "output_type": "stream",
     "text": [
      "/home/paniquex/anaconda3/envs/kaggle/lib/python3.7/site-packages/sklearn/linear_model/logistic.py:432: FutureWarning: Default solver will be changed to 'lbfgs' in 0.22. Specify a solver to silence this warning.\n",
      "  FutureWarning)\n"
     ]
    },
    {
     "name": "stdout",
     "output_type": "stream",
     "text": [
      "ROC_AUC_curr=0.6348236133800592, ROC_AUC_best=0.6348236133800592, features amount=204\n"
     ]
    },
    {
     "name": "stderr",
     "output_type": "stream",
     "text": [
      "/home/paniquex/anaconda3/envs/kaggle/lib/python3.7/site-packages/sklearn/linear_model/logistic.py:432: FutureWarning: Default solver will be changed to 'lbfgs' in 0.22. Specify a solver to silence this warning.\n",
      "  FutureWarning)\n"
     ]
    },
    {
     "name": "stdout",
     "output_type": "stream",
     "text": [
      "ROC_AUC_curr=0.6347078974776849, ROC_AUC_best=0.6348236133800592, features amount=204\n"
     ]
    },
    {
     "name": "stderr",
     "output_type": "stream",
     "text": [
      "/home/paniquex/anaconda3/envs/kaggle/lib/python3.7/site-packages/sklearn/linear_model/logistic.py:432: FutureWarning: Default solver will be changed to 'lbfgs' in 0.22. Specify a solver to silence this warning.\n",
      "  FutureWarning)\n"
     ]
    },
    {
     "name": "stdout",
     "output_type": "stream",
     "text": [
      "ROC_AUC_curr=0.634819072356111, ROC_AUC_best=0.6348236133800592, features amount=204\n"
     ]
    },
    {
     "name": "stderr",
     "output_type": "stream",
     "text": [
      "/home/paniquex/anaconda3/envs/kaggle/lib/python3.7/site-packages/sklearn/linear_model/logistic.py:432: FutureWarning: Default solver will be changed to 'lbfgs' in 0.22. Specify a solver to silence this warning.\n",
      "  FutureWarning)\n"
     ]
    },
    {
     "name": "stdout",
     "output_type": "stream",
     "text": [
      "ROC_AUC_curr=0.6348300331292684, ROC_AUC_best=0.6348300331292684, features amount=203\n"
     ]
    },
    {
     "name": "stderr",
     "output_type": "stream",
     "text": [
      "/home/paniquex/anaconda3/envs/kaggle/lib/python3.7/site-packages/sklearn/linear_model/logistic.py:432: FutureWarning: Default solver will be changed to 'lbfgs' in 0.22. Specify a solver to silence this warning.\n",
      "  FutureWarning)\n"
     ]
    },
    {
     "name": "stdout",
     "output_type": "stream",
     "text": [
      "ROC_AUC_curr=0.6348849172033592, ROC_AUC_best=0.6348849172033592, features amount=202\n"
     ]
    },
    {
     "name": "stderr",
     "output_type": "stream",
     "text": [
      "/home/paniquex/anaconda3/envs/kaggle/lib/python3.7/site-packages/sklearn/linear_model/logistic.py:432: FutureWarning: Default solver will be changed to 'lbfgs' in 0.22. Specify a solver to silence this warning.\n",
      "  FutureWarning)\n"
     ]
    },
    {
     "name": "stdout",
     "output_type": "stream",
     "text": [
      "ROC_AUC_curr=0.6348623663303559, ROC_AUC_best=0.6348849172033592, features amount=202\n"
     ]
    },
    {
     "name": "stderr",
     "output_type": "stream",
     "text": [
      "/home/paniquex/anaconda3/envs/kaggle/lib/python3.7/site-packages/sklearn/linear_model/logistic.py:432: FutureWarning: Default solver will be changed to 'lbfgs' in 0.22. Specify a solver to silence this warning.\n",
      "  FutureWarning)\n"
     ]
    },
    {
     "name": "stdout",
     "output_type": "stream",
     "text": [
      "ROC_AUC_curr=0.6349067863057835, ROC_AUC_best=0.6349067863057835, features amount=201\n"
     ]
    },
    {
     "name": "stderr",
     "output_type": "stream",
     "text": [
      "/home/paniquex/anaconda3/envs/kaggle/lib/python3.7/site-packages/sklearn/linear_model/logistic.py:432: FutureWarning: Default solver will be changed to 'lbfgs' in 0.22. Specify a solver to silence this warning.\n",
      "  FutureWarning)\n"
     ]
    },
    {
     "name": "stdout",
     "output_type": "stream",
     "text": [
      "ROC_AUC_curr=0.6349034730858647, ROC_AUC_best=0.6349067863057835, features amount=201\n"
     ]
    },
    {
     "name": "stderr",
     "output_type": "stream",
     "text": [
      "/home/paniquex/anaconda3/envs/kaggle/lib/python3.7/site-packages/sklearn/linear_model/logistic.py:432: FutureWarning: Default solver will be changed to 'lbfgs' in 0.22. Specify a solver to silence this warning.\n",
      "  FutureWarning)\n"
     ]
    },
    {
     "name": "stdout",
     "output_type": "stream",
     "text": [
      "CPU times: user 20min 41s, sys: 26.1 s, total: 21min 7s\n",
      "Wall time: 17min 33s\n"
     ]
    },
    {
     "data": {
      "text/plain": [
       "['ps_ind_03',\n",
       " 'ps_ind_06_bin',\n",
       " 'ps_ind_07_bin',\n",
       " 'ps_ind_08_bin',\n",
       " 'ps_ind_09_bin',\n",
       " 'ps_ind_11_bin',\n",
       " 'ps_ind_13_bin',\n",
       " 'ps_ind_15',\n",
       " 'ps_ind_16_bin',\n",
       " 'ps_ind_17_bin',\n",
       " 'ps_reg_01',\n",
       " 'ps_reg_02',\n",
       " 'ps_reg_03',\n",
       " 'ps_car_11',\n",
       " 'ps_car_12',\n",
       " 'ps_car_13',\n",
       " 'ps_car_14',\n",
       " 'ps_car_15',\n",
       " 'ps_calc_02',\n",
       " 'ps_calc_03',\n",
       " 'ps_calc_05',\n",
       " 'ps_calc_06',\n",
       " 'ps_calc_07',\n",
       " 'ps_calc_08',\n",
       " 'ps_calc_09',\n",
       " 'ps_calc_11',\n",
       " 'ps_calc_12',\n",
       " 'ps_calc_14',\n",
       " 'ps_calc_15_bin',\n",
       " 'ps_calc_17_bin',\n",
       " 'ps_calc_19_bin',\n",
       " 'ps_ind_02_cat_2',\n",
       " 'ps_ind_02_cat_1',\n",
       " 'ps_ind_02_cat_3',\n",
       " 'ps_ind_02_cat_-1',\n",
       " 'ps_ind_04_cat_0',\n",
       " 'ps_ind_04_cat_-1',\n",
       " 'ps_ind_05_cat_1',\n",
       " 'ps_ind_05_cat_4',\n",
       " 'ps_ind_05_cat_3',\n",
       " 'ps_ind_05_cat_6',\n",
       " 'ps_ind_05_cat_-1',\n",
       " 'ps_ind_05_cat_2',\n",
       " 'ps_car_01_cat_11',\n",
       " 'ps_car_01_cat_7',\n",
       " 'ps_car_01_cat_9',\n",
       " 'ps_car_01_cat_5',\n",
       " 'ps_car_01_cat_4',\n",
       " 'ps_car_01_cat_8',\n",
       " 'ps_car_01_cat_0',\n",
       " 'ps_car_01_cat_2',\n",
       " 'ps_car_01_cat_-1',\n",
       " 'ps_car_02_cat_1',\n",
       " 'ps_car_02_cat_-1',\n",
       " 'ps_car_03_cat_-1',\n",
       " 'ps_car_03_cat_1',\n",
       " 'ps_car_04_cat_0',\n",
       " 'ps_car_04_cat_1',\n",
       " 'ps_car_04_cat_9',\n",
       " 'ps_car_04_cat_2',\n",
       " 'ps_car_04_cat_6',\n",
       " 'ps_car_04_cat_7',\n",
       " 'ps_car_04_cat_5',\n",
       " 'ps_car_05_cat_1',\n",
       " 'ps_car_05_cat_0',\n",
       " 'ps_car_06_cat_4',\n",
       " 'ps_car_06_cat_14',\n",
       " 'ps_car_06_cat_13',\n",
       " 'ps_car_06_cat_6',\n",
       " 'ps_car_06_cat_15',\n",
       " 'ps_car_06_cat_3',\n",
       " 'ps_car_06_cat_0',\n",
       " 'ps_car_06_cat_1',\n",
       " 'ps_car_06_cat_10',\n",
       " 'ps_car_06_cat_12',\n",
       " 'ps_car_06_cat_9',\n",
       " 'ps_car_06_cat_17',\n",
       " 'ps_car_06_cat_7',\n",
       " 'ps_car_06_cat_8',\n",
       " 'ps_car_06_cat_5',\n",
       " 'ps_car_06_cat_2',\n",
       " 'ps_car_06_cat_16',\n",
       " 'ps_car_07_cat_1',\n",
       " 'ps_car_07_cat_-1',\n",
       " 'ps_car_07_cat_0',\n",
       " 'ps_car_08_cat_0',\n",
       " 'ps_car_08_cat_1',\n",
       " 'ps_car_09_cat_0',\n",
       " 'ps_car_09_cat_2',\n",
       " 'ps_car_09_cat_3',\n",
       " 'ps_car_09_cat_1',\n",
       " 'ps_car_09_cat_-1',\n",
       " 'ps_car_09_cat_4',\n",
       " 'ps_car_10_cat_1',\n",
       " 'ps_car_10_cat_0',\n",
       " 'ps_car_10_cat_2',\n",
       " 'ps_car_11_cat_12',\n",
       " 'ps_car_11_cat_19',\n",
       " 'ps_car_11_cat_60',\n",
       " 'ps_car_11_cat_104',\n",
       " 'ps_car_11_cat_82',\n",
       " 'ps_car_11_cat_99',\n",
       " 'ps_car_11_cat_30',\n",
       " 'ps_car_11_cat_68',\n",
       " 'ps_car_11_cat_20',\n",
       " 'ps_car_11_cat_36',\n",
       " 'ps_car_11_cat_101',\n",
       " 'ps_car_11_cat_103',\n",
       " 'ps_car_11_cat_41',\n",
       " 'ps_car_11_cat_59',\n",
       " 'ps_car_11_cat_43',\n",
       " 'ps_car_11_cat_64',\n",
       " 'ps_car_11_cat_29',\n",
       " 'ps_car_11_cat_95',\n",
       " 'ps_car_11_cat_24',\n",
       " 'ps_car_11_cat_5',\n",
       " 'ps_car_11_cat_28',\n",
       " 'ps_car_11_cat_87',\n",
       " 'ps_car_11_cat_66',\n",
       " 'ps_car_11_cat_10',\n",
       " 'ps_car_11_cat_26',\n",
       " 'ps_car_11_cat_54',\n",
       " 'ps_car_11_cat_32',\n",
       " 'ps_car_11_cat_38',\n",
       " 'ps_car_11_cat_83',\n",
       " 'ps_car_11_cat_89',\n",
       " 'ps_car_11_cat_49',\n",
       " 'ps_car_11_cat_93',\n",
       " 'ps_car_11_cat_1',\n",
       " 'ps_car_11_cat_22',\n",
       " 'ps_car_11_cat_85',\n",
       " 'ps_car_11_cat_78',\n",
       " 'ps_car_11_cat_31',\n",
       " 'ps_car_11_cat_34',\n",
       " 'ps_car_11_cat_7',\n",
       " 'ps_car_11_cat_8',\n",
       " 'ps_car_11_cat_3',\n",
       " 'ps_car_11_cat_46',\n",
       " 'ps_car_11_cat_27',\n",
       " 'ps_car_11_cat_25',\n",
       " 'ps_car_11_cat_61',\n",
       " 'ps_car_11_cat_16',\n",
       " 'ps_car_11_cat_69',\n",
       " 'ps_car_11_cat_40',\n",
       " 'ps_car_11_cat_76',\n",
       " 'ps_car_11_cat_39',\n",
       " 'ps_car_11_cat_88',\n",
       " 'ps_car_11_cat_42',\n",
       " 'ps_car_11_cat_75',\n",
       " 'ps_car_11_cat_91',\n",
       " 'ps_car_11_cat_23',\n",
       " 'ps_car_11_cat_2',\n",
       " 'ps_car_11_cat_71',\n",
       " 'ps_car_11_cat_90',\n",
       " 'ps_car_11_cat_80',\n",
       " 'ps_car_11_cat_44',\n",
       " 'ps_car_11_cat_92',\n",
       " 'ps_car_11_cat_72',\n",
       " 'ps_car_11_cat_96',\n",
       " 'ps_car_11_cat_86',\n",
       " 'ps_car_11_cat_62',\n",
       " 'ps_car_11_cat_33',\n",
       " 'ps_car_11_cat_67',\n",
       " 'ps_car_11_cat_73',\n",
       " 'ps_car_11_cat_77',\n",
       " 'ps_car_11_cat_18',\n",
       " 'ps_car_11_cat_21',\n",
       " 'ps_car_11_cat_74',\n",
       " 'ps_car_11_cat_37',\n",
       " 'ps_car_11_cat_48',\n",
       " 'ps_car_11_cat_70',\n",
       " 'ps_car_11_cat_13',\n",
       " 'ps_car_11_cat_15',\n",
       " 'ps_car_11_cat_102',\n",
       " 'ps_car_11_cat_53',\n",
       " 'ps_car_11_cat_65',\n",
       " 'ps_car_11_cat_100',\n",
       " 'ps_car_11_cat_51',\n",
       " 'ps_car_11_cat_79',\n",
       " 'ps_car_11_cat_52',\n",
       " 'ps_car_11_cat_63',\n",
       " 'ps_car_11_cat_94',\n",
       " 'ps_car_11_cat_6',\n",
       " 'ps_car_11_cat_57',\n",
       " 'ps_car_11_cat_35',\n",
       " 'ps_car_11_cat_98',\n",
       " 'ps_car_11_cat_56',\n",
       " 'ps_car_11_cat_97',\n",
       " 'ps_car_11_cat_55',\n",
       " 'ps_car_11_cat_84',\n",
       " 'ps_car_11_cat_50',\n",
       " 'ps_car_11_cat_4',\n",
       " 'ps_car_11_cat_58',\n",
       " 'ps_car_11_cat_9',\n",
       " 'ps_car_11_cat_17',\n",
       " 'ps_car_11_cat_11',\n",
       " 'ps_car_11_cat_45',\n",
       " 'ps_car_11_cat_14',\n",
       " 'ps_car_11_cat_81',\n",
       " 'ps_car_11_cat_47']"
      ]
     },
     "execution_count": 124,
     "metadata": {},
     "output_type": "execute_result"
    }
   ],
   "source": [
    "%%time\n",
    "feat_elim.feature_elimination(min_features=200)"
   ]
  },
  {
   "cell_type": "code",
   "execution_count": 125,
   "metadata": {},
   "outputs": [],
   "source": [
    "usefull_features = feat_elim.usefull_features"
   ]
  },
  {
   "cell_type": "code",
   "execution_count": 126,
   "metadata": {},
   "outputs": [],
   "source": [
    "X_train_usefull_features = X_train.loc[:, usefull_features]\n",
    "X_test_usefull_features = X_test.loc[:, usefull_features]"
   ]
  },
  {
   "cell_type": "code",
   "execution_count": 127,
   "metadata": {},
   "outputs": [
    {
     "name": "stderr",
     "output_type": "stream",
     "text": [
      "/home/paniquex/anaconda3/envs/kaggle/lib/python3.7/site-packages/sklearn/linear_model/logistic.py:432: FutureWarning: Default solver will be changed to 'lbfgs' in 0.22. Specify a solver to silence this warning.\n",
      "  FutureWarning)\n"
     ]
    },
    {
     "data": {
      "text/plain": [
       "LogisticRegression(C=1.0, class_weight=None, dual=False, fit_intercept=True,\n",
       "                   intercept_scaling=1, l1_ratio=None, max_iter=100,\n",
       "                   multi_class='warn', n_jobs=None, penalty='l2',\n",
       "                   random_state=None, solver='warn', tol=0.0001, verbose=0,\n",
       "                   warm_start=False)"
      ]
     },
     "execution_count": 127,
     "metadata": {},
     "output_type": "execute_result"
    }
   ],
   "source": [
    "%%time\n",
    "log_reg.fit(X_train, y_train)"
   ]
  },
  {
   "cell_type": "code",
   "execution_count": 128,
   "metadata": {},
   "outputs": [
    {
     "data": {
      "text/plain": [
       "0.635092058503709"
      ]
     },
     "execution_count": 128,
     "metadata": {},
     "output_type": "execute_result"
    }
   ],
   "source": [
    "preds = log_reg.predict_proba(X_test)\n",
    "roc_auc_score(y_test, preds[:, 1])"
   ]
  },
  {
   "cell_type": "markdown",
   "metadata": {},
   "source": [
    "Давайте подведём итоги по отбору признаков. Назовите преимущества и недостатки каждого из методов. Какой метод привёл к наилучшему качеству?\n",
    "\n",
    "**Ответ: Всего было рассмотрено три метода:**\n",
    "\n",
    "    1. Встроенный метод.\n",
    "    2. Метод фильтрации.\n",
    "    3. Метод обертки.\n",
    "    \n",
    "Рассмотрим плюсы и минусы каждого из них:\n",
    "\n",
    "    1. Встроенный метод\n",
    "        Плюсы:\n",
    "            а) Лучшее качество среди всех (в условиях данной задачи).\n",
    "            б) Относительно малое время, нужное на выбор признаков.\n",
    "        Минусы:\n",
    "            а) Для объективной оценки качества признака нужно производить дополнительные операции (нормировка).\n",
    "    2. Метод фильтрации\n",
    "        Плюсы:\n",
    "            а) Очень быстрый отбор признаков.\n",
    "            б) Качество лучше, чем без применение данного метода отбора признаков (в условиях данной задачи)\n",
    "        Минусы:\n",
    "            а) ...\n",
    "    3. Метод обертки\n",
    "        Плюсы:\n",
    "            а) \n",
    "        Минусы:\n",
    "            а) Очень долгое время отбора признаков.\n",
    "            б) Худшее качество из всех методов (в условиях данной задачи)"
   ]
  },
  {
   "cell_type": "markdown",
   "metadata": {},
   "source": [
    "## Настройка порога для бинаризации вероятностей"
   ]
  },
  {
   "cell_type": "markdown",
   "metadata": {},
   "source": [
    "В этой части мы будем проделывать стандартные операции для подготовки модели к её реальному использованию — подбора порога для бинаризации вероятностей с учётом потребностей бизнеса или продукта. Хороший алгоритм с точки зрения ROC-AUC это, конечно, хорошо, но ведь в реальности нам надо принимать решение бинарно, например, выдавать ли кредит человеку. \n",
    "\n",
    "Воспользуемся той же самый задачей, что и в предыдущем разделе — определение обращение клиента в страховую в ближайшее время. Положительные объекты в нашей выборки как раз обратившиеся в страховую клиенты. \n",
    "\n",
    "Не вдаваясь в подробности бизнеса страховых, можно понять, что обращение клиента по страховому случаю для нас как страховой невыгодно, ведь мы теряем на этом деньги. Клиенты, которые не обращаются в страховую и ездят аккуратно, приносят нам деньги.\n",
    "\n",
    "Пусть на каждом клиенте, который обратился в нашу страховую, мы теряем 100000, а на клиенте, который не обратился в страховую, мы зарабатываем 5000. \n",
    "\n",
    "Будем строить алгоритм, который прогнозирует обращение по страховому случаю, чтобы некоторым потенциальным клиентам отказывать в обслуживании, если мы уверены, что на них мы потеряем деньги."
   ]
  },
  {
   "cell_type": "code",
   "execution_count": 140,
   "metadata": {
    "ExecuteTime": {
     "end_time": "2018-10-12T07:36:04.765536Z",
     "start_time": "2018-10-12T07:35:57.814973Z"
    }
   },
   "outputs": [],
   "source": [
    "data = pd.read_csv('./data_logistic/train.csv', index_col=0)\n",
    "target = data.target.values\n",
    "data = data.drop('target', axis=1)\n",
    "X_train, X_test, y_train, y_test = train_test_split(data, target, test_size=0.2, random_state=124)"
   ]
  },
  {
   "cell_type": "markdown",
   "metadata": {},
   "source": [
    "В этот раз мы не будем сэмплировать данные и будем использовать их \"как есть\".\n",
    "\n",
    "Посчитайте долю положительных примеров в выборке? Скажите, почему она такая?"
   ]
  },
  {
   "cell_type": "code",
   "execution_count": 144,
   "metadata": {},
   "outputs": [
    {
     "data": {
      "text/plain": [
       "0.036447517859182946"
      ]
     },
     "execution_count": 144,
     "metadata": {},
     "output_type": "execute_result"
    }
   ],
   "source": [
    "sum(target == 1) / target.shape[0]"
   ]
  },
  {
   "cell_type": "markdown",
   "metadata": {},
   "source": [
    " Доля положительных примеров составляет ~4%. Это неудивительно, так как происшествия, из-за которых обращаются в страховую компанию, встречаются не так часто"
   ]
  },
  {
   "cell_type": "markdown",
   "metadata": {},
   "source": [
    "Как вы помните, в данных много категориальных признаков. Давайте закодируем их с помощью one-hot кодирования. Исходные колонки с категориальными признаками можно удалить."
   ]
  },
  {
   "cell_type": "code",
   "execution_count": 146,
   "metadata": {},
   "outputs": [
    {
     "name": "stdout",
     "output_type": "stream",
     "text": [
      "CPU times: user 37.8 s, sys: 2.49 s, total: 40.3 s\n",
      "Wall time: 5.05 s\n"
     ]
    }
   ],
   "source": [
    "%%time\n",
    "data_ohe = one_hot_encoding(data)"
   ]
  },
  {
   "cell_type": "markdown",
   "metadata": {},
   "source": [
    "В качестве нашей основной модели будем использовать логистическую регрессию, которая возвращает вероятность положительного класса. Обучите модель, сделайте предсказания на тестовой выборке."
   ]
  },
  {
   "cell_type": "code",
   "execution_count": 224,
   "metadata": {},
   "outputs": [
    {
     "name": "stderr",
     "output_type": "stream",
     "text": [
      "/home/paniquex/anaconda3/envs/kaggle/lib/python3.7/site-packages/sklearn/linear_model/logistic.py:432: FutureWarning: Default solver will be changed to 'lbfgs' in 0.22. Specify a solver to silence this warning.\n",
      "  FutureWarning)\n"
     ]
    },
    {
     "name": "stdout",
     "output_type": "stream",
     "text": [
      "CPU times: user 23.5 s, sys: 248 ms, total: 23.8 s\n",
      "Wall time: 21.2 s\n"
     ]
    },
    {
     "data": {
      "text/plain": [
       "LogisticRegression(C=1.0, class_weight=None, dual=False, fit_intercept=True,\n",
       "                   intercept_scaling=1, l1_ratio=None, max_iter=100,\n",
       "                   multi_class='warn', n_jobs=None, penalty='l2',\n",
       "                   random_state=None, solver='warn', tol=0.0001, verbose=0,\n",
       "                   warm_start=False)"
      ]
     },
     "execution_count": 224,
     "metadata": {},
     "output_type": "execute_result"
    }
   ],
   "source": [
    "%%time\n",
    "X_train, X_test, y_train, y_test = train_test_split(data_ohe, target, test_size=0.2, random_state=124)\n",
    "\n",
    "log_reg = LogisticRegression()\n",
    "log_reg.fit(X_train, y_train)"
   ]
  },
  {
   "cell_type": "code",
   "execution_count": 225,
   "metadata": {},
   "outputs": [],
   "source": [
    "probs = log_reg.predict_proba(X_test)"
   ]
  },
  {
   "cell_type": "markdown",
   "metadata": {},
   "source": [
    "Посчитайте ROC-AUC. Что вы можете про него сказать? Как вы считаете, почему получилось так?"
   ]
  },
  {
   "cell_type": "code",
   "execution_count": 226,
   "metadata": {},
   "outputs": [
    {
     "data": {
      "text/plain": [
       "0.6380927971896815"
      ]
     },
     "execution_count": 226,
     "metadata": {},
     "output_type": "execute_result"
    }
   ],
   "source": [
    "roc_auc_score(y_test, probs[:, 1])"
   ]
  },
  {
   "cell_type": "markdown",
   "metadata": {},
   "source": [
    "Качество получилось достаточно плохим. Это может быть связано с большим дисбалансом в классах. Возможно, нужно было использовать стратифицированное разделение на тренировочную и тестовую выборки."
   ]
  },
  {
   "cell_type": "markdown",
   "metadata": {},
   "source": [
    "Постройте precision-recall кривую на тестовой выборке. Что вы можете по ней сказать?"
   ]
  },
  {
   "cell_type": "code",
   "execution_count": 237,
   "metadata": {},
   "outputs": [
    {
     "data": {
      "image/png": "[encoded data removed]",
      "text/plain": [
       "<Figure size 432x360 with 1 Axes>"
      ]
     },
     "metadata": {
      "needs_background": "light"
     },
     "output_type": "display_data"
    }
   ],
   "source": [
    "# with plt.xkcd():\n",
    "plot_pr_curve(y_test, probs[:, 1], 'PR-кривая для логистической регрессии')"
   ]
  },
  {
   "cell_type": "markdown",
   "metadata": {},
   "source": [
    "Из данной кривой видно, что качество классификации плохое. Этот эффект возникает как раз из-за дизбаланса классов."
   ]
  },
  {
   "cell_type": "markdown",
   "metadata": {},
   "source": [
    "У нас есть алгоритм, который определяет вероятность обращения клиента по страховому случаю, но мы хотим использовать этот алгоритм, чтобы отказывать клиентам в обслуживании в страховой. Для этого нам нужны бинарные предсказания алгоритма. Давайте искать этот порог для получения бинарных предсказаний.\n",
    "\n",
    "__Задание 11.__\n",
    "\n",
    "__(0.5 балла)__\n",
    "\n",
    "Предположим, что нам надо подобрать порог такой, чтобы среди наших положителных предсказаний 95\\% действительно обратились бы по страховому случаю. Подберите соответствующий порог, оцените на нём precision, recall. Скажите, какой части потенциальных клиентов мы откажем?"
   ]
  },
  {
   "cell_type": "code",
   "execution_count": 228,
   "metadata": {},
   "outputs": [
    {
     "data": {
      "text/plain": [
       "array([[0.84686071, 0.15313929],\n",
       "       [0.95962435, 0.04037565],\n",
       "       [0.96420273, 0.03579727],\n",
       "       ...,\n",
       "       [0.96680664, 0.03319336],\n",
       "       [0.96580596, 0.03419404],\n",
       "       [0.97356164, 0.02643836]])"
      ]
     },
     "execution_count": 228,
     "metadata": {},
     "output_type": "execute_result"
    }
   ],
   "source": [
    "probs"
   ]
  },
  {
   "cell_type": "code",
   "execution_count": 229,
   "metadata": {},
   "outputs": [
    {
     "data": {
      "application/vnd.jupyter.widget-view+json": {
       "model_id": "39c129db53834c8d8fce9be5a03c0452",
       "version_major": 2,
       "version_minor": 0
      },
      "text/plain": [
       "HBox(children=(IntProgress(value=0, max=1000), HTML(value='')))"
      ]
     },
     "metadata": {},
     "output_type": "display_data"
    },
    {
     "name": "stdout",
     "output_type": "stream",
     "text": [
      "Значение precision: 1.0, порог вероятности: 0.47347347347347346\n"
     ]
    }
   ],
   "source": [
    "from sklearn.metrics import precision_score\n",
    "\n",
    "threshold_arr = np.linspace(0, 1, 1000)\n",
    "for threshold in tqdm.tqdm_notebook(threshold_arr):\n",
    "    score = precision_score(y_test, probs[:, 1] > threshold)\n",
    "    if score >= 0.95:\n",
    "        print(f'Значение precision: {score}, порог вероятности: {threshold}')\n",
    "        break"
   ]
  },
  {
   "cell_type": "markdown",
   "metadata": {},
   "source": [
    " Возьмем за порог значение - 0.4734 и посчитаем precision (снова), recall:"
   ]
  },
  {
   "cell_type": "code",
   "execution_count": 230,
   "metadata": {},
   "outputs": [
    {
     "name": "stdout",
     "output_type": "stream",
     "text": [
      "Precision=1.0,    Recall=0.0004628558204119417\n"
     ]
    }
   ],
   "source": [
    "from sklearn.metrics import recall_score\n",
    "\n",
    "print(f'Precision={precision_score(y_test, probs[:, 1] > 0.4734)},\\\n",
    "    Recall={recall_score(y_test, probs[:, 1] > 0.4734)}')"
   ]
  },
  {
   "cell_type": "markdown",
   "metadata": {},
   "source": [
    "Мы будем отказывать 99,95% (процентам) потенциальных клиентов."
   ]
  },
  {
   "cell_type": "markdown",
   "metadata": {},
   "source": [
    "Иногда сложно решить, какие значения precision и recall нужны в нашей задаче. Однако иногда можно оценить экономический эффект от нашего алгоритма. Мы знаем, во сколько нам обходится клиент, который обратился в страховую, и сколько нам приносит клиент, который не обратился. \n",
    "\n",
    "При фиксированном пороге мы знаем, кому мы бы отказали в обслуживании. Среди них есть те, кто обратился бы в страховую и нам пришлось бы потратить деньги, и те, кто не обратился бы, то есть принёс бы нам деньги. Мы можем посчитать разницу между нашими доходами и расходами от этой группы людей и надеяться, что она будет положительной. \n",
    "\n",
    "__Задание 12.__ Найдите такой порог, при котором наш баланс (разница между доходами и расходами на группе клиентов, которым мы отказали) неотрицательный. \n",
    "\n",
    "__(1 балл)__"
   ]
  },
  {
   "cell_type": "code",
   "execution_count": 234,
   "metadata": {},
   "outputs": [
    {
     "name": "stdout",
     "output_type": "stream",
     "text": [
      "0\n",
      "Значение precision: 0.03629780835496417, порог вероятности: 0.0\n",
      "0\n",
      "Значение precision: 0.03629780835496417, порог вероятности: 0.001001001001001001\n",
      "0\n",
      "Значение precision: 0.03629780835496417, порог вероятности: 0.002002002002002002\n",
      "0\n",
      "Значение precision: 0.03629780835496417, порог вероятности: 0.003003003003003003\n",
      "0\n",
      "Значение precision: 0.03629780835496417, порог вероятности: 0.004004004004004004\n",
      "0\n",
      "Значение precision: 0.03629780835496417, порог вероятности: 0.005005005005005005\n",
      "0\n",
      "Значение precision: 0.03629780835496417, порог вероятности: 0.006006006006006006\n",
      "0\n",
      "Значение precision: 0.03629780835496417, порог вероятности: 0.007007007007007007\n",
      "0\n",
      "Значение precision: 0.03629780835496417, порог вероятности: 0.008008008008008008\n",
      "30000\n",
      "Значение precision: 0.03629963792770315, порог вероятности: 0.009009009009009009\n",
      "100000\n",
      "Значение precision: 0.036303907648101624, порог вероятности: 0.01001001001001001\n",
      "420000\n",
      "Значение precision: 0.03632343916811675, порог вероятности: 0.011011011011011011\n",
      "1150000\n",
      "Значение precision: 0.03636608525826655, порог вероятности: 0.012012012012012012\n",
      "2690000\n",
      "Значение precision: 0.036452702702702705, порог вероятности: 0.013013013013013013\n",
      "5685000\n",
      "Значение precision: 0.03663022333222899, порог вероятности: 0.014014014014014014\n",
      "9185000\n",
      "Значение precision: 0.0368105525871163, порог вероятности: 0.015015015015015015\n",
      "14340000\n",
      "Значение precision: 0.03708920187793427, порог вероятности: 0.016016016016016016\n",
      "22000000\n",
      "Значение precision: 0.03754513913474474, порог вероятности: 0.017017017017017015\n",
      "30285000\n",
      "Значение precision: 0.03802615373469535, порог вероятности: 0.018018018018018018\n",
      "39555000\n",
      "Значение precision: 0.03858640545493446, порог вероятности: 0.01901901901901902\n",
      "51125000\n",
      "Значение precision: 0.03935776118543542, порог вероятности: 0.02002002002002002\n",
      "61920000\n",
      "Значение precision: 0.04008350730688935, порог вероятности: 0.02102102102102102\n",
      "71820000\n",
      "Значение precision: 0.04075682382133995, порог вероятности: 0.022022022022022022\n",
      "82740000\n",
      "Значение precision: 0.04158582330875695, порог вероятности: 0.023023023023023025\n",
      "92135000\n",
      "Значение precision: 0.04231814133853386, порог вероятности: 0.024024024024024024\n",
      "103955000\n",
      "Значение precision: 0.04339350692311327, порог вероятности: 0.025025025025025023\n",
      "111060000\n",
      "Значение precision: 0.0440200057088251, порог вероятности: 0.026026026026026026\n",
      "121515000\n",
      "Значение precision: 0.045132905112538514, порог вероятности: 0.02702702702702703\n",
      "131325000\n",
      "Значение precision: 0.0462840627580512, порог вероятности: 0.028028028028028028\n",
      "138905000\n",
      "Значение precision: 0.04725895176858209, порог вероятности: 0.029029029029029027\n",
      "145810000\n",
      "Значение precision: 0.04824709382572156, порог вероятности: 0.03003003003003003\n",
      "150295000\n",
      "Значение precision: 0.048975423124311, порог вероятности: 0.031031031031031032\n",
      "154740000\n",
      "Значение precision: 0.049781209781209784, порог вероятности: 0.03203203203203203\n",
      "159665000\n",
      "Значение precision: 0.05076271340521082, порог вероятности: 0.03303303303303303\n",
      "165360000\n",
      "Значение precision: 0.05199483711880406, порог вероятности: 0.03403403403403403\n",
      "171470000\n",
      "Значение precision: 0.0534538464684471, порог вероятности: 0.035035035035035036\n",
      "174005000\n",
      "Значение precision: 0.05433132347199931, порог вероятности: 0.036036036036036036\n",
      "174935000\n",
      "Значение precision: 0.05495746789921391, порог вероятности: 0.037037037037037035\n",
      "177990000\n",
      "Значение precision: 0.056118205391653214, порог вероятности: 0.03803803803803804\n",
      "179545000\n",
      "Значение precision: 0.057030762835169405, порог вероятности: 0.03903903903903904\n",
      "182445000\n",
      "Значение precision: 0.05837402411100996, порог вероятности: 0.04004004004004004\n",
      "183290000\n",
      "Значение precision: 0.05927857707973159, порог вероятности: 0.04104104104104104\n",
      "184830000\n",
      "Значение precision: 0.06044776119402985, порог вероятности: 0.04204204204204204\n",
      "184920000\n",
      "Значение precision: 0.06129469749594787, порог вероятности: 0.043043043043043044\n",
      "186210000\n",
      "Значение precision: 0.06256583105119022, порог вероятности: 0.044044044044044044\n",
      "185940000\n",
      "Значение precision: 0.06336272649477248, порог вероятности: 0.04504504504504504\n",
      "185700000\n",
      "Значение precision: 0.06423467172016266, порог вероятности: 0.04604604604604605\n",
      "186905000\n",
      "Значение precision: 0.06576296793688098, порог вероятности: 0.04704704704704705\n",
      "186955000\n",
      "Значение precision: 0.0668772804129216, порог вероятности: 0.04804804804804805\n",
      "187255000\n",
      "Значение precision: 0.06815289626243107, порог вероятности: 0.04904904904904905\n",
      "186140000\n",
      "Значение precision: 0.06885868478912652, порог вероятности: 0.050050050050050046\n",
      "186400000\n",
      "Значение precision: 0.07022739291380223, порог вероятности: 0.05105105105105105\n",
      "186440000\n",
      "Значение precision: 0.0715604543165669, порог вероятности: 0.05205205205205205\n",
      "185435000\n",
      "Значение precision: 0.07243711438063598, порог вероятности: 0.05305305305305305\n",
      "183925000\n",
      "Значение precision: 0.07299453483258998, порог вероятности: 0.05405405405405406\n",
      "182565000\n",
      "Значение precision: 0.07362330407023145, порог вероятности: 0.055055055055055056\n",
      "181615000\n",
      "Значение precision: 0.07456264108352144, порог вероятности: 0.056056056056056056\n",
      "180095000\n",
      "Значение precision: 0.0750242374524573, порог вероятности: 0.057057057057057055\n",
      "179025000\n",
      "Значение precision: 0.07575399637766753, порог вероятности: 0.058058058058058054\n",
      "178670000\n",
      "Значение precision: 0.0771283248561661, порог вероятности: 0.05905905905905906\n",
      "178160000\n",
      "Значение precision: 0.07845909171231666, порог вероятности: 0.06006006006006006\n",
      "177845000\n",
      "Значение precision: 0.07993276683163694, порог вероятности: 0.06106106106106106\n",
      "177240000\n",
      "Значение precision: 0.08125741399762752, порог вероятности: 0.062062062062062065\n",
      "177020000\n",
      "Значение precision: 0.08287292817679558, порог вероятности: 0.06306306306306306\n",
      "175220000\n",
      "Значение precision: 0.0829300483941927, порог вероятности: 0.06406406406406406\n",
      "174950000\n",
      "Значение precision: 0.08465116279069768, порог вероятности: 0.06506506506506507\n",
      "173650000\n",
      "Значение precision: 0.08519518782224404, порог вероятности: 0.06606606606606606\n",
      "172195000\n",
      "Значение precision: 0.08545901851612067, порог вероятности: 0.06706706706706707\n",
      "171205000\n",
      "Значение precision: 0.08651994497936727, порог вероятности: 0.06806806806806806\n",
      "170375000\n",
      "Значение precision: 0.08751814223512337, порог вероятности: 0.06906906906906907\n",
      "169855000\n",
      "Значение precision: 0.08881428353425912, порог вероятности: 0.07007007007007007\n",
      "169295000\n",
      "Значение precision: 0.09013496143958868, порог вероятности: 0.07107107107107107\n",
      "167805000\n",
      "Значение precision: 0.09012219959266803, порог вероятности: 0.07207207207207207\n",
      "166205000\n",
      "Значение precision: 0.08975277678251523, порог вероятности: 0.07307307307307308\n",
      "164910000\n",
      "Значение precision: 0.08987485779294653, порог вероятности: 0.07407407407407407\n",
      "164695000\n",
      "Значение precision: 0.09139571768437747, порог вероятности: 0.07507507507507508\n",
      "164225000\n",
      "Значение precision: 0.09266972094960434, порог вероятности: 0.07607607607607608\n",
      "163865000\n",
      "Значение precision: 0.09431892958982233, порог вероятности: 0.07707707707707707\n",
      "162730000\n",
      "Значение precision: 0.09413118527042577, порог вероятности: 0.07807807807807808\n",
      "162040000\n",
      "Значение precision: 0.09500727096461464, порог вероятности: 0.07907907907907907\n",
      "161450000\n",
      "Значение precision: 0.09595316874522779, порог вероятности: 0.08008008008008008\n",
      "160860000\n",
      "Значение precision: 0.09672262190247802, порог вероятности: 0.08108108108108109\n",
      "160065000\n",
      "Значение precision: 0.09703579418344518, порог вероятности: 0.08208208208208208\n",
      "159305000\n",
      "Значение precision: 0.09727512452387929, порог вероятности: 0.08308308308308308\n",
      "158320000\n",
      "Значение precision: 0.09715346534653466, порог вероятности: 0.08408408408408408\n",
      "157925000\n",
      "Значение precision: 0.09837662337662338, порог вероятности: 0.08508508508508508\n",
      "157205000\n",
      "Значение precision: 0.09863481228668942, порог вероятности: 0.08608608608608609\n",
      "156610000\n",
      "Значение precision: 0.09903468001430103, порог вероятности: 0.08708708708708708\n",
      "155735000\n",
      "Значение precision: 0.09860745201354912, порог вероятности: 0.08808808808808809\n",
      "155055000\n",
      "Значение precision: 0.09838646202282567, порог вероятности: 0.0890890890890891\n",
      "154475000\n",
      "Значение precision: 0.09851607584501236, порог вероятности: 0.09009009009009009\n",
      "153935000\n",
      "Значение precision: 0.09853700516351119, порог вероятности: 0.09109109109109109\n"
     ]
    },
    {
     "name": "stdout",
     "output_type": "stream",
     "text": [
      "153200000\n",
      "Значение precision: 0.09827115559599636, порог вероятности: 0.0920920920920921\n",
      "153015000\n",
      "Значение precision: 0.10009578544061302, порог вероятности: 0.09309309309309309\n",
      "152265000\n",
      "Значение precision: 0.09919436052366566, порог вероятности: 0.0940940940940941\n",
      "151910000\n",
      "Значение precision: 0.09947643979057591, порог вероятности: 0.09509509509509509\n",
      "151585000\n",
      "Значение precision: 0.10071942446043165, порог вероятности: 0.0960960960960961\n",
      "151000000\n",
      "Значение precision: 0.10035005834305717, порог вероятности: 0.0970970970970971\n",
      "150660000\n",
      "Значение precision: 0.10091743119266056, порог вероятности: 0.0980980980980981\n",
      "150245000\n",
      "Значение precision: 0.10057288351368555, порог вероятности: 0.0990990990990991\n",
      "149990000\n",
      "Значение precision: 0.10160427807486631, порог вероятности: 0.10010010010010009\n",
      "149990000\n",
      "Значение precision: 0.10397766922540126, порог вероятности: 0.1011011011011011\n",
      "149835000\n",
      "Значение precision: 0.10596026490066225, порог вероятности: 0.1021021021021021\n",
      "149485000\n",
      "Значение precision: 0.10590943975441289, порог вероятности: 0.1031031031031031\n",
      "149295000\n",
      "Значение precision: 0.10660302307080351, порог вероятности: 0.1041041041041041\n",
      "148740000\n",
      "Значение precision: 0.105, порог вероятности: 0.10510510510510511\n",
      "148375000\n",
      "Значение precision: 0.1046207497820401, порог вероятности: 0.1061061061061061\n",
      "147845000\n",
      "Значение precision: 0.10216998191681737, порог вероятности: 0.10710710710710711\n",
      "147700000\n",
      "Значение precision: 0.10371075166508087, порог вероятности: 0.10810810810810811\n",
      "147435000\n",
      "Значение precision: 0.1041041041041041, порог вероятности: 0.1091091091091091\n",
      "146995000\n",
      "Значение precision: 0.10319148936170212, порог вероятности: 0.11011011011011011\n",
      "146435000\n",
      "Значение precision: 0.10067873303167421, порог вероятности: 0.1111111111111111\n",
      "146410000\n",
      "Значение precision: 0.10271546635182999, порог вероятности: 0.11211211211211211\n",
      "146210000\n",
      "Значение precision: 0.10336239103362391, порог вероятности: 0.11311311311311312\n",
      "146330000\n",
      "Значение precision: 0.10654685494223363, порог вероятности: 0.11411411411411411\n",
      "146030000\n",
      "Значение precision: 0.10463576158940398, порог вероятности: 0.11511511511511512\n",
      "145865000\n",
      "Значение precision: 0.10482758620689656, порог вероятности: 0.11611611611611611\n",
      "145535000\n",
      "Значение precision: 0.10349854227405247, порог вероятности: 0.11711711711711711\n",
      "145370000\n",
      "Значение precision: 0.10365853658536585, порог вероятности: 0.11811811811811812\n",
      "145420000\n",
      "Значение precision: 0.1072, порог вероятности: 0.11911911911911911\n",
      "145525000\n",
      "Значение precision: 0.11092715231788079, порог вероятности: 0.12012012012012012\n",
      "145540000\n",
      "Значение precision: 0.11379310344827587, порог вероятности: 0.12112112112112113\n",
      "145535000\n",
      "Значение precision: 0.11607142857142858, порог вероятности: 0.12212212212212212\n",
      "145540000\n",
      "Значение precision: 0.11895910780669144, порог вероятности: 0.12312312312312312\n",
      "145305000\n",
      "Значение precision: 0.11685823754789272, порог вероятности: 0.12412412412412413\n",
      "145315000\n",
      "Значение precision: 0.12024048096192384, порог вероятности: 0.12512512512512514\n",
      "145200000\n",
      "Значение precision: 0.12083333333333333, порог вероятности: 0.12612612612612611\n",
      "145095000\n",
      "Значение precision: 0.12200435729847495, порог вероятности: 0.12712712712712712\n",
      "144870000\n",
      "Значение precision: 0.12018140589569161, порог вероятности: 0.12812812812812813\n",
      "144735000\n",
      "Значение precision: 0.11971830985915492, порог вероятности: 0.12912912912912913\n",
      "144615000\n",
      "Значение precision: 0.12009803921568628, порог вероятности: 0.13013013013013014\n",
      "144465000\n",
      "Значение precision: 0.11868686868686869, порог вероятности: 0.13113113113113112\n",
      "144220000\n",
      "Значение precision: 0.11518324607329843, порог вероятности: 0.13213213213213212\n",
      "144180000\n",
      "Значение precision: 0.11653116531165311, порог вероятности: 0.13313313313313313\n",
      "144050000\n",
      "Значение precision: 0.11614730878186968, порог вероятности: 0.13413413413413414\n",
      "143905000\n",
      "Значение precision: 0.11470588235294117, порог вероятности: 0.13513513513513514\n",
      "143975000\n",
      "Значение precision: 0.1196319018404908, порог вероятности: 0.13613613613613612\n",
      "143915000\n",
      "Значение precision: 0.11987381703470032, порог вероятности: 0.13713713713713713\n",
      "143975000\n",
      "Значение precision: 0.12459016393442623, порог вероятности: 0.13813813813813813\n",
      "143705000\n",
      "Значение precision: 0.11824324324324324, порог вероятности: 0.13913913913913914\n",
      "143660000\n",
      "Значение precision: 0.11971830985915492, порог вероятности: 0.14014014014014015\n",
      "143205000\n",
      "Значение precision: 0.10740740740740741, порог вероятности: 0.14114114114114115\n",
      "143260000\n",
      "Значение precision: 0.11196911196911197, порог вероятности: 0.14214214214214213\n",
      "143185000\n",
      "Значение precision: 0.11067193675889328, порог вероятности: 0.14314314314314314\n",
      "143220000\n",
      "Значение precision: 0.11382113821138211, порог вероятности: 0.14414414414414414\n",
      "143240000\n",
      "Значение precision: 0.11570247933884298, порог вероятности: 0.14514514514514515\n",
      "143280000\n",
      "Значение precision: 0.11965811965811966, порог вероятности: 0.14614614614614616\n",
      "143340000\n",
      "Значение precision: 0.12612612612612611, порог вероятности: 0.14714714714714713\n",
      "143395000\n",
      "Значение precision: 0.13270142180094788, порог вероятности: 0.14814814814814814\n",
      "143440000\n",
      "Значение precision: 0.13861386138613863, порог вероятности: 0.14914914914914915\n",
      "143465000\n",
      "Значение precision: 0.14213197969543148, порог вероятности: 0.15015015015015015\n",
      "143390000\n",
      "Значение precision: 0.14136125654450263, порог вероятности: 0.15115115115115116\n",
      "143435000\n",
      "Значение precision: 0.14835164835164835, порог вероятности: 0.15215215215215216\n",
      "143460000\n",
      "Значение precision: 0.15254237288135594, порог вероятности: 0.15315315315315314\n",
      "143495000\n",
      "Значение precision: 0.1588235294117647, порог вероятности: 0.15415415415415415\n",
      "143535000\n",
      "Значение precision: 0.16666666666666666, порог вероятности: 0.15515515515515516\n",
      "143550000\n",
      "Значение precision: 0.16981132075471697, порог вероятности: 0.15615615615615616\n",
      "143475000\n",
      "Значение precision: 0.16993464052287582, порог вероятности: 0.15715715715715717\n",
      "143410000\n",
      "Значение precision: 0.1724137931034483, порог вероятности: 0.15815815815815815\n",
      "143315000\n",
      "Значение precision: 0.16783216783216784, порог вероятности: 0.15915915915915915\n",
      "143255000\n",
      "Значение precision: 0.17164179104477612, порог вероятности: 0.16016016016016016\n",
      "143270000\n",
      "Значение precision: 0.17557251908396945, порог вероятности: 0.16116116116116116\n",
      "143280000\n",
      "Значение precision: 0.17829457364341086, порог вероятности: 0.16216216216216217\n",
      "143090000\n",
      "Значение precision: 0.168, порог вероятности: 0.16316316316316315\n",
      "143100000\n",
      "Значение precision: 0.17073170731707318, порог вероятности: 0.16416416416416416\n",
      "142920000\n",
      "Значение precision: 0.1623931623931624, порог вероятности: 0.16516516516516516\n",
      "142940000\n",
      "Значение precision: 0.168141592920354, порог вероятности: 0.16616616616616617\n",
      "142870000\n",
      "Значение precision: 0.16981132075471697, порог вероятности: 0.16716716716716717\n",
      "142785000\n",
      "Значение precision: 0.16666666666666666, порог вероятности: 0.16816816816816815\n",
      "142800000\n",
      "Значение precision: 0.1717171717171717, порог вероятности: 0.16916916916916916\n",
      "142715000\n",
      "Значение precision: 0.16842105263157894, порог вероятности: 0.17017017017017017\n",
      "142730000\n",
      "Значение precision: 0.17391304347826086, порог вероятности: 0.17117117117117117\n",
      "142635000\n",
      "Значение precision: 0.16666666666666666, порог вероятности: 0.17217217217217218\n",
      "142645000\n",
      "Значение precision: 0.17045454545454544, порог вероятности: 0.17317317317317318\n",
      "142670000\n",
      "Значение precision: 0.18072289156626506, порог вероятности: 0.17417417417417416\n",
      "142680000\n",
      "Значение precision: 0.18518518518518517, порог вероятности: 0.17517517517517517\n",
      "142690000\n",
      "Значение precision: 0.189873417721519, порог вероятности: 0.17617617617617617\n",
      "142710000\n",
      "Значение precision: 0.2, порог вероятности: 0.17717717717717718\n",
      "142625000\n",
      "Значение precision: 0.19718309859154928, порог вероятности: 0.1781781781781782\n",
      "142525000\n",
      "Значение precision: 0.18571428571428572, порог вероятности: 0.17917917917917917\n",
      "142525000\n",
      "Значение precision: 0.18571428571428572, порог вероятности: 0.18018018018018017\n",
      "142535000\n",
      "Значение precision: 0.19117647058823528, порог вероятности: 0.18118118118118118\n",
      "142545000\n",
      "Значение precision: 0.19696969696969696, порог вероятности: 0.18218218218218218\n",
      "142450000\n",
      "Значение precision: 0.1875, порог вероятности: 0.1831831831831832\n",
      "142455000\n",
      "Значение precision: 0.19047619047619047, порог вероятности: 0.1841841841841842\n",
      "142460000\n",
      "Значение precision: 0.1935483870967742, порог вероятности: 0.18518518518518517\n",
      "142470000\n",
      "Значение precision: 0.2, порог вероятности: 0.18618618618618618\n",
      "142485000\n",
      "Значение precision: 0.21052631578947367, порог вероятности: 0.1871871871871872\n",
      "142495000\n",
      "Значение precision: 0.21818181818181817, порог вероятности: 0.1881881881881882\n",
      "142505000\n",
      "Значение precision: 0.22641509433962265, порог вероятности: 0.1891891891891892\n",
      "142510000\n",
      "Значение precision: 0.23076923076923078, порог вероятности: 0.19019019019019018\n"
     ]
    },
    {
     "name": "stdout",
     "output_type": "stream",
     "text": [
      "142515000\n",
      "Значение precision: 0.23529411764705882, порог вероятности: 0.19119119119119118\n",
      "142515000\n",
      "Значение precision: 0.23529411764705882, порог вероятности: 0.1921921921921922\n",
      "142515000\n",
      "Значение precision: 0.23529411764705882, порог вероятности: 0.1931931931931932\n",
      "142520000\n",
      "Значение precision: 0.24, порог вероятности: 0.1941941941941942\n",
      "142525000\n",
      "Значение precision: 0.24489795918367346, порог вероятности: 0.19519519519519518\n",
      "142530000\n",
      "Значение precision: 0.25, порог вероятности: 0.1961961961961962\n",
      "142440000\n",
      "Значение precision: 0.24444444444444444, порог вероятности: 0.1971971971971972\n",
      "142445000\n",
      "Значение precision: 0.25, порог вероятности: 0.1981981981981982\n",
      "142450000\n",
      "Значение precision: 0.2558139534883721, порог вероятности: 0.1991991991991992\n",
      "142455000\n",
      "Значение precision: 0.2619047619047619, порог вероятности: 0.20020020020020018\n",
      "142460000\n",
      "Значение precision: 0.2682926829268293, порог вероятности: 0.2012012012012012\n",
      "142465000\n",
      "Значение precision: 0.275, порог вероятности: 0.2022022022022022\n",
      "142470000\n",
      "Значение precision: 0.28205128205128205, порог вероятности: 0.2032032032032032\n",
      "142375000\n",
      "Значение precision: 0.2702702702702703, порог вероятности: 0.2042042042042042\n",
      "142375000\n",
      "Значение precision: 0.2702702702702703, порог вероятности: 0.20520520520520522\n",
      "142375000\n",
      "Значение precision: 0.2702702702702703, порог вероятности: 0.2062062062062062\n",
      "142375000\n",
      "Значение precision: 0.2702702702702703, порог вероятности: 0.2072072072072072\n",
      "142380000\n",
      "Значение precision: 0.2777777777777778, порог вероятности: 0.2082082082082082\n",
      "142380000\n",
      "Значение precision: 0.2777777777777778, порог вероятности: 0.2092092092092092\n",
      "142395000\n",
      "Значение precision: 0.30303030303030304, порог вероятности: 0.21021021021021022\n",
      "142395000\n",
      "Значение precision: 0.30303030303030304, порог вероятности: 0.2112112112112112\n",
      "142395000\n",
      "Значение precision: 0.30303030303030304, порог вероятности: 0.2122122122122122\n",
      "142395000\n",
      "Значение precision: 0.30303030303030304, порог вероятности: 0.2132132132132132\n",
      "142300000\n",
      "Значение precision: 0.2903225806451613, порог вероятности: 0.21421421421421422\n",
      "142305000\n",
      "Значение precision: 0.3, порог вероятности: 0.21521521521521522\n",
      "142305000\n",
      "Значение precision: 0.3, порог вероятности: 0.21621621621621623\n",
      "142305000\n",
      "Значение precision: 0.3, порог вероятности: 0.2172172172172172\n",
      "142310000\n",
      "Значение precision: 0.3103448275862069, порог вероятности: 0.2182182182182182\n",
      "142310000\n",
      "Значение precision: 0.3103448275862069, порог вероятности: 0.21921921921921922\n",
      "142315000\n",
      "Значение precision: 0.32142857142857145, порог вероятности: 0.22022022022022023\n",
      "142315000\n",
      "Значение precision: 0.32142857142857145, порог вероятности: 0.22122122122122123\n",
      "142315000\n",
      "Значение precision: 0.32142857142857145, порог вероятности: 0.2222222222222222\n",
      "142315000\n",
      "Значение precision: 0.32142857142857145, порог вероятности: 0.22322322322322322\n",
      "142315000\n",
      "Значение precision: 0.32142857142857145, порог вероятности: 0.22422422422422422\n",
      "142320000\n",
      "Значение precision: 0.3333333333333333, порог вероятности: 0.22522522522522523\n",
      "142320000\n",
      "Значение precision: 0.3333333333333333, порог вероятности: 0.22622622622622623\n",
      "142325000\n",
      "Значение precision: 0.34615384615384615, порог вероятности: 0.2272272272272272\n",
      "142335000\n",
      "Значение precision: 0.375, порог вероятности: 0.22822822822822822\n",
      "142335000\n",
      "Значение precision: 0.375, порог вероятности: 0.22922922922922923\n",
      "142335000\n",
      "Значение precision: 0.375, порог вероятности: 0.23023023023023023\n",
      "142335000\n",
      "Значение precision: 0.375, порог вероятности: 0.23123123123123124\n",
      "142335000\n",
      "Значение precision: 0.375, порог вероятности: 0.23223223223223222\n",
      "142335000\n",
      "Значение precision: 0.375, порог вероятности: 0.23323323323323322\n",
      "142340000\n",
      "Значение precision: 0.391304347826087, порог вероятности: 0.23423423423423423\n",
      "142345000\n",
      "Значение precision: 0.4090909090909091, порог вероятности: 0.23523523523523523\n",
      "142345000\n",
      "Значение precision: 0.4090909090909091, порог вероятности: 0.23623623623623624\n",
      "142350000\n",
      "Значение precision: 0.42857142857142855, порог вероятности: 0.23723723723723725\n",
      "142250000\n",
      "Значение precision: 0.4, порог вероятности: 0.23823823823823823\n",
      "142255000\n",
      "Значение precision: 0.42105263157894735, порог вероятности: 0.23923923923923923\n",
      "142260000\n",
      "Значение precision: 0.4444444444444444, порог вероятности: 0.24024024024024024\n",
      "142260000\n",
      "Значение precision: 0.4444444444444444, порог вероятности: 0.24124124124124124\n",
      "142260000\n",
      "Значение precision: 0.4444444444444444, порог вероятности: 0.24224224224224225\n",
      "142260000\n",
      "Значение precision: 0.4444444444444444, порог вероятности: 0.24324324324324323\n",
      "142260000\n",
      "Значение precision: 0.4444444444444444, порог вероятности: 0.24424424424424424\n",
      "142260000\n",
      "Значение precision: 0.4444444444444444, порог вероятности: 0.24524524524524524\n",
      "142265000\n",
      "Значение precision: 0.47058823529411764, порог вероятности: 0.24624624624624625\n",
      "142265000\n",
      "Значение precision: 0.47058823529411764, порог вероятности: 0.24724724724724725\n",
      "142265000\n",
      "Значение precision: 0.47058823529411764, порог вероятности: 0.24824824824824826\n",
      "142265000\n",
      "Значение precision: 0.47058823529411764, порог вероятности: 0.24924924924924924\n",
      "142265000\n",
      "Значение precision: 0.47058823529411764, порог вероятности: 0.2502502502502503\n",
      "142265000\n",
      "Значение precision: 0.47058823529411764, порог вероятности: 0.25125125125125125\n",
      "142265000\n",
      "Значение precision: 0.47058823529411764, порог вероятности: 0.25225225225225223\n",
      "142265000\n",
      "Значение precision: 0.47058823529411764, порог вероятности: 0.25325325325325326\n",
      "142265000\n",
      "Значение precision: 0.47058823529411764, порог вероятности: 0.25425425425425424\n",
      "142270000\n",
      "Значение precision: 0.5, порог вероятности: 0.2552552552552553\n",
      "142270000\n",
      "Значение precision: 0.5, порог вероятности: 0.25625625625625625\n",
      "142270000\n",
      "Значение precision: 0.5, порог вероятности: 0.25725725725725723\n",
      "142270000\n",
      "Значение precision: 0.5, порог вероятности: 0.25825825825825827\n",
      "142270000\n",
      "Значение precision: 0.5, порог вероятности: 0.25925925925925924\n",
      "142270000\n",
      "Значение precision: 0.5, порог вероятности: 0.2602602602602603\n",
      "142270000\n",
      "Значение precision: 0.5, порог вероятности: 0.26126126126126126\n",
      "142270000\n",
      "Значение precision: 0.5, порог вероятности: 0.26226226226226224\n",
      "142270000\n",
      "Значение precision: 0.5, порог вероятности: 0.26326326326326327\n",
      "142270000\n",
      "Значение precision: 0.5, порог вероятности: 0.26426426426426425\n",
      "142275000\n",
      "Значение precision: 0.5333333333333333, порог вероятности: 0.2652652652652653\n",
      "142275000\n",
      "Значение precision: 0.5333333333333333, порог вероятности: 0.26626626626626626\n",
      "142280000\n",
      "Значение precision: 0.5714285714285714, порог вероятности: 0.26726726726726724\n",
      "142280000\n",
      "Значение precision: 0.5714285714285714, порог вероятности: 0.2682682682682683\n",
      "142280000\n",
      "Значение precision: 0.5714285714285714, порог вероятности: 0.26926926926926925\n",
      "142280000\n",
      "Значение precision: 0.5714285714285714, порог вероятности: 0.2702702702702703\n",
      "142280000\n",
      "Значение precision: 0.5714285714285714, порог вероятности: 0.27127127127127126\n",
      "142280000\n",
      "Значение precision: 0.5714285714285714, порог вероятности: 0.27227227227227224\n",
      "142280000\n",
      "Значение precision: 0.5714285714285714, порог вероятности: 0.2732732732732733\n",
      "142280000\n",
      "Значение precision: 0.5714285714285714, порог вероятности: 0.27427427427427425\n",
      "142280000\n",
      "Значение precision: 0.5714285714285714, порог вероятности: 0.2752752752752753\n",
      "142285000\n",
      "Значение precision: 0.6153846153846154, порог вероятности: 0.27627627627627627\n",
      "142285000\n",
      "Значение precision: 0.6153846153846154, порог вероятности: 0.2772772772772773\n",
      "142285000\n",
      "Значение precision: 0.6153846153846154, порог вероятности: 0.2782782782782783\n",
      "142285000\n",
      "Значение precision: 0.6153846153846154, порог вероятности: 0.27927927927927926\n",
      "142285000\n",
      "Значение precision: 0.6153846153846154, порог вероятности: 0.2802802802802803\n",
      "142285000\n",
      "Значение precision: 0.6153846153846154, порог вероятности: 0.28128128128128127\n",
      "142285000\n",
      "Значение precision: 0.6153846153846154, порог вероятности: 0.2822822822822823\n",
      "142285000\n",
      "Значение precision: 0.6153846153846154, порог вероятности: 0.2832832832832833\n",
      "142285000\n",
      "Значение precision: 0.6153846153846154, порог вероятности: 0.28428428428428426\n",
      "142285000\n",
      "Значение precision: 0.6153846153846154, порог вероятности: 0.2852852852852853\n",
      "142285000\n",
      "Значение precision: 0.6153846153846154, порог вероятности: 0.2862862862862863\n",
      "142285000\n",
      "Значение precision: 0.6153846153846154, порог вероятности: 0.2872872872872873\n",
      "142285000\n",
      "Значение precision: 0.6153846153846154, порог вероятности: 0.2882882882882883\n",
      "142285000\n",
      "Значение precision: 0.6153846153846154, порог вероятности: 0.28928928928928926\n",
      "142285000\n",
      "Значение precision: 0.6153846153846154, порог вероятности: 0.2902902902902903\n"
     ]
    },
    {
     "name": "stdout",
     "output_type": "stream",
     "text": [
      "142285000\n",
      "Значение precision: 0.6153846153846154, порог вероятности: 0.2912912912912913\n",
      "142285000\n",
      "Значение precision: 0.6153846153846154, порог вероятности: 0.2922922922922923\n",
      "142285000\n",
      "Значение precision: 0.6153846153846154, порог вероятности: 0.2932932932932933\n",
      "142285000\n",
      "Значение precision: 0.6153846153846154, порог вероятности: 0.29429429429429427\n",
      "142285000\n",
      "Значение precision: 0.6153846153846154, порог вероятности: 0.2952952952952953\n",
      "142285000\n",
      "Значение precision: 0.6153846153846154, порог вероятности: 0.2962962962962963\n",
      "142285000\n",
      "Значение precision: 0.6153846153846154, порог вероятности: 0.2972972972972973\n",
      "142285000\n",
      "Значение precision: 0.6153846153846154, порог вероятности: 0.2982982982982983\n",
      "142285000\n",
      "Значение precision: 0.6153846153846154, порог вероятности: 0.29929929929929927\n",
      "142290000\n",
      "Значение precision: 0.6666666666666666, порог вероятности: 0.3003003003003003\n",
      "142290000\n",
      "Значение precision: 0.6666666666666666, порог вероятности: 0.3013013013013013\n",
      "142290000\n",
      "Значение precision: 0.6666666666666666, порог вероятности: 0.3023023023023023\n",
      "142290000\n",
      "Значение precision: 0.6666666666666666, порог вероятности: 0.3033033033033033\n",
      "142290000\n",
      "Значение precision: 0.6666666666666666, порог вероятности: 0.30430430430430433\n",
      "142290000\n",
      "Значение precision: 0.6666666666666666, порог вероятности: 0.3053053053053053\n",
      "142290000\n",
      "Значение precision: 0.6666666666666666, порог вероятности: 0.3063063063063063\n",
      "142290000\n",
      "Значение precision: 0.6666666666666666, порог вероятности: 0.3073073073073073\n",
      "142290000\n",
      "Значение precision: 0.6666666666666666, порог вероятности: 0.3083083083083083\n",
      "142290000\n",
      "Значение precision: 0.6666666666666666, порог вероятности: 0.30930930930930933\n",
      "142290000\n",
      "Значение precision: 0.6666666666666666, порог вероятности: 0.3103103103103103\n",
      "142290000\n",
      "Значение precision: 0.6666666666666666, порог вероятности: 0.3113113113113113\n",
      "142290000\n",
      "Значение precision: 0.6666666666666666, порог вероятности: 0.3123123123123123\n",
      "142290000\n",
      "Значение precision: 0.6666666666666666, порог вероятности: 0.3133133133133133\n",
      "142290000\n",
      "Значение precision: 0.6666666666666666, порог вероятности: 0.31431431431431434\n",
      "142290000\n",
      "Значение precision: 0.6666666666666666, порог вероятности: 0.3153153153153153\n",
      "142290000\n",
      "Значение precision: 0.6666666666666666, порог вероятности: 0.3163163163163163\n",
      "142290000\n",
      "Значение precision: 0.6666666666666666, порог вероятности: 0.3173173173173173\n",
      "142290000\n",
      "Значение precision: 0.6666666666666666, порог вероятности: 0.3183183183183183\n",
      "142290000\n",
      "Значение precision: 0.6666666666666666, порог вероятности: 0.31931931931931934\n",
      "142290000\n",
      "Значение precision: 0.6666666666666666, порог вероятности: 0.3203203203203203\n",
      "142290000\n",
      "Значение precision: 0.6666666666666666, порог вероятности: 0.3213213213213213\n",
      "142295000\n",
      "Значение precision: 0.7272727272727273, порог вероятности: 0.32232232232232233\n",
      "142295000\n",
      "Значение precision: 0.7272727272727273, порог вероятности: 0.3233233233233233\n",
      "142295000\n",
      "Значение precision: 0.7272727272727273, порог вероятности: 0.32432432432432434\n",
      "142295000\n",
      "Значение precision: 0.7272727272727273, порог вероятности: 0.3253253253253253\n",
      "142295000\n",
      "Значение precision: 0.7272727272727273, порог вероятности: 0.3263263263263263\n",
      "142295000\n",
      "Значение precision: 0.7272727272727273, порог вероятности: 0.32732732732732733\n",
      "142295000\n",
      "Значение precision: 0.7272727272727273, порог вероятности: 0.3283283283283283\n",
      "142295000\n",
      "Значение precision: 0.7272727272727273, порог вероятности: 0.32932932932932935\n",
      "142295000\n",
      "Значение precision: 0.7272727272727273, порог вероятности: 0.3303303303303303\n",
      "142295000\n",
      "Значение precision: 0.7272727272727273, порог вероятности: 0.3313313313313313\n",
      "142295000\n",
      "Значение precision: 0.7272727272727273, порог вероятности: 0.33233233233233234\n",
      "142295000\n",
      "Значение precision: 0.7272727272727273, порог вероятности: 0.3333333333333333\n",
      "142295000\n",
      "Значение precision: 0.7272727272727273, порог вероятности: 0.33433433433433435\n",
      "142295000\n",
      "Значение precision: 0.7272727272727273, порог вероятности: 0.3353353353353353\n",
      "142295000\n",
      "Значение precision: 0.7272727272727273, порог вероятности: 0.3363363363363363\n",
      "142195000\n",
      "Значение precision: 0.7, порог вероятности: 0.33733733733733734\n",
      "142195000\n",
      "Значение precision: 0.7, порог вероятности: 0.3383383383383383\n",
      "142195000\n",
      "Значение precision: 0.7, порог вероятности: 0.33933933933933935\n",
      "142195000\n",
      "Значение precision: 0.7, порог вероятности: 0.34034034034034033\n",
      "142195000\n",
      "Значение precision: 0.7, порог вероятности: 0.34134134134134136\n",
      "142195000\n",
      "Значение precision: 0.7, порог вероятности: 0.34234234234234234\n",
      "142195000\n",
      "Значение precision: 0.7, порог вероятности: 0.3433433433433433\n",
      "142195000\n",
      "Значение precision: 0.7, порог вероятности: 0.34434434434434436\n",
      "142195000\n",
      "Значение precision: 0.7, порог вероятности: 0.34534534534534533\n",
      "142195000\n",
      "Значение precision: 0.7, порог вероятности: 0.34634634634634637\n",
      "142195000\n",
      "Значение precision: 0.7, порог вероятности: 0.34734734734734735\n",
      "142195000\n",
      "Значение precision: 0.7, порог вероятности: 0.3483483483483483\n",
      "142195000\n",
      "Значение precision: 0.7, порог вероятности: 0.34934934934934936\n",
      "142195000\n",
      "Значение precision: 0.7, порог вероятности: 0.35035035035035034\n",
      "142195000\n",
      "Значение precision: 0.7, порог вероятности: 0.35135135135135137\n",
      "142195000\n",
      "Значение precision: 0.7, порог вероятности: 0.35235235235235235\n",
      "142195000\n",
      "Значение precision: 0.7, порог вероятности: 0.3533533533533533\n",
      "142195000\n",
      "Значение precision: 0.7, порог вероятности: 0.35435435435435436\n",
      "142195000\n",
      "Значение precision: 0.7, порог вероятности: 0.35535535535535534\n",
      "142095000\n",
      "Значение precision: 0.6666666666666666, порог вероятности: 0.3563563563563564\n",
      "142095000\n",
      "Значение precision: 0.6666666666666666, порог вероятности: 0.35735735735735735\n",
      "142095000\n",
      "Значение precision: 0.6666666666666666, порог вероятности: 0.35835835835835833\n",
      "142095000\n",
      "Значение precision: 0.6666666666666666, порог вероятности: 0.35935935935935936\n",
      "142095000\n",
      "Значение precision: 0.6666666666666666, порог вероятности: 0.36036036036036034\n",
      "142095000\n",
      "Значение precision: 0.6666666666666666, порог вероятности: 0.3613613613613614\n",
      "142095000\n",
      "Значение precision: 0.6666666666666666, порог вероятности: 0.36236236236236236\n",
      "142095000\n",
      "Значение precision: 0.6666666666666666, порог вероятности: 0.36336336336336333\n",
      "142095000\n",
      "Значение precision: 0.6666666666666666, порог вероятности: 0.36436436436436437\n",
      "142095000\n",
      "Значение precision: 0.6666666666666666, порог вероятности: 0.36536536536536535\n",
      "142095000\n",
      "Значение precision: 0.6666666666666666, порог вероятности: 0.3663663663663664\n",
      "142095000\n",
      "Значение precision: 0.6666666666666666, порог вероятности: 0.36736736736736736\n",
      "142095000\n",
      "Значение precision: 0.6666666666666666, порог вероятности: 0.3683683683683684\n",
      "142095000\n",
      "Значение precision: 0.6666666666666666, порог вероятности: 0.36936936936936937\n",
      "142095000\n",
      "Значение precision: 0.6666666666666666, порог вероятности: 0.37037037037037035\n",
      "142095000\n",
      "Значение precision: 0.6666666666666666, порог вероятности: 0.3713713713713714\n",
      "142095000\n",
      "Значение precision: 0.6666666666666666, порог вероятности: 0.37237237237237236\n",
      "142095000\n",
      "Значение precision: 0.6666666666666666, порог вероятности: 0.3733733733733734\n",
      "142095000\n",
      "Значение precision: 0.6666666666666666, порог вероятности: 0.3743743743743744\n",
      "142095000\n",
      "Значение precision: 0.6666666666666666, порог вероятности: 0.37537537537537535\n",
      "142095000\n",
      "Значение precision: 0.6666666666666666, порог вероятности: 0.3763763763763764\n",
      "142095000\n",
      "Значение precision: 0.6666666666666666, порог вероятности: 0.37737737737737737\n",
      "142095000\n",
      "Значение precision: 0.6666666666666666, порог вероятности: 0.3783783783783784\n",
      "142095000\n",
      "Значение precision: 0.6666666666666666, порог вероятности: 0.3793793793793794\n",
      "142095000\n",
      "Значение precision: 0.6666666666666666, порог вероятности: 0.38038038038038036\n",
      "142095000\n",
      "Значение precision: 0.6666666666666666, порог вероятности: 0.3813813813813814\n",
      "142095000\n",
      "Значение precision: 0.6666666666666666, порог вероятности: 0.38238238238238237\n",
      "142095000\n",
      "Значение precision: 0.6666666666666666, порог вероятности: 0.3833833833833834\n",
      "142095000\n",
      "Значение precision: 0.6666666666666666, порог вероятности: 0.3843843843843844\n",
      "142095000\n",
      "Значение precision: 0.6666666666666666, порог вероятности: 0.38538538538538536\n",
      "142095000\n",
      "Значение precision: 0.6666666666666666, порог вероятности: 0.3863863863863864\n",
      "142095000\n",
      "Значение precision: 0.6666666666666666, порог вероятности: 0.38738738738738737\n",
      "142095000\n",
      "Значение precision: 0.6666666666666666, порог вероятности: 0.3883883883883884\n",
      "142095000\n",
      "Значение precision: 0.6666666666666666, порог вероятности: 0.3893893893893894\n",
      "142095000\n",
      "Значение precision: 0.6666666666666666, порог вероятности: 0.39039039039039036\n",
      "141995000\n",
      "Значение precision: 0.625, порог вероятности: 0.3913913913913914\n"
     ]
    },
    {
     "name": "stdout",
     "output_type": "stream",
     "text": [
      "141995000\n",
      "Значение precision: 0.625, порог вероятности: 0.3923923923923924\n",
      "141995000\n",
      "Значение precision: 0.625, порог вероятности: 0.3933933933933934\n",
      "141995000\n",
      "Значение precision: 0.625, порог вероятности: 0.3943943943943944\n",
      "141995000\n",
      "Значение precision: 0.625, порог вероятности: 0.39539539539539537\n",
      "141995000\n",
      "Значение precision: 0.625, порог вероятности: 0.3963963963963964\n",
      "141995000\n",
      "Значение precision: 0.625, порог вероятности: 0.3973973973973974\n",
      "141895000\n",
      "Значение precision: 0.5714285714285714, порог вероятности: 0.3983983983983984\n",
      "141895000\n",
      "Значение precision: 0.5714285714285714, порог вероятности: 0.3993993993993994\n",
      "141895000\n",
      "Значение precision: 0.5714285714285714, порог вероятности: 0.40040040040040037\n",
      "141900000\n",
      "Значение precision: 0.6666666666666666, порог вероятности: 0.4014014014014014\n",
      "141900000\n",
      "Значение precision: 0.6666666666666666, порог вероятности: 0.4024024024024024\n",
      "141900000\n",
      "Значение precision: 0.6666666666666666, порог вероятности: 0.4034034034034034\n",
      "141900000\n",
      "Значение precision: 0.6666666666666666, порог вероятности: 0.4044044044044044\n",
      "141800000\n",
      "Значение precision: 0.6, порог вероятности: 0.40540540540540543\n",
      "141800000\n",
      "Значение precision: 0.6, порог вероятности: 0.4064064064064064\n",
      "141800000\n",
      "Значение precision: 0.6, порог вероятности: 0.4074074074074074\n",
      "141800000\n",
      "Значение precision: 0.6, порог вероятности: 0.4084084084084084\n",
      "141800000\n",
      "Значение precision: 0.6, порог вероятности: 0.4094094094094094\n",
      "141800000\n",
      "Значение precision: 0.6, порог вероятности: 0.41041041041041043\n",
      "141800000\n",
      "Значение precision: 0.6, порог вероятности: 0.4114114114114114\n",
      "141800000\n",
      "Значение precision: 0.6, порог вероятности: 0.4124124124124124\n",
      "141800000\n",
      "Значение precision: 0.6, порог вероятности: 0.4134134134134134\n",
      "141800000\n",
      "Значение precision: 0.6, порог вероятности: 0.4144144144144144\n",
      "141800000\n",
      "Значение precision: 0.6, порог вероятности: 0.41541541541541543\n",
      "141800000\n",
      "Значение precision: 0.6, порог вероятности: 0.4164164164164164\n",
      "141800000\n",
      "Значение precision: 0.6, порог вероятности: 0.4174174174174174\n",
      "141700000\n",
      "Значение precision: 0.5, порог вероятности: 0.4184184184184184\n",
      "141700000\n",
      "Значение precision: 0.5, порог вероятности: 0.4194194194194194\n",
      "141700000\n",
      "Значение precision: 0.5, порог вероятности: 0.42042042042042044\n",
      "141700000\n",
      "Значение precision: 0.5, порог вероятности: 0.4214214214214214\n",
      "141700000\n",
      "Значение precision: 0.5, порог вероятности: 0.4224224224224224\n",
      "141700000\n",
      "Значение precision: 0.5, порог вероятности: 0.42342342342342343\n",
      "141700000\n",
      "Значение precision: 0.5, порог вероятности: 0.4244244244244244\n",
      "141700000\n",
      "Значение precision: 0.5, порог вероятности: 0.42542542542542544\n",
      "141700000\n",
      "Значение precision: 0.5, порог вероятности: 0.4264264264264264\n",
      "141700000\n",
      "Значение precision: 0.5, порог вероятности: 0.4274274274274274\n",
      "141700000\n",
      "Значение precision: 0.5, порог вероятности: 0.42842842842842843\n",
      "141700000\n",
      "Значение precision: 0.5, порог вероятности: 0.4294294294294294\n",
      "141700000\n",
      "Значение precision: 0.5, порог вероятности: 0.43043043043043044\n",
      "141700000\n",
      "Значение precision: 0.5, порог вероятности: 0.4314314314314314\n",
      "141700000\n",
      "Значение precision: 0.5, порог вероятности: 0.43243243243243246\n",
      "141700000\n",
      "Значение precision: 0.5, порог вероятности: 0.43343343343343343\n",
      "141700000\n",
      "Значение precision: 0.5, порог вероятности: 0.4344344344344344\n",
      "141700000\n",
      "Значение precision: 0.5, порог вероятности: 0.43543543543543545\n",
      "141700000\n",
      "Значение precision: 0.5, порог вероятности: 0.4364364364364364\n",
      "141700000\n",
      "Значение precision: 0.5, порог вероятности: 0.43743743743743746\n",
      "141700000\n",
      "Значение precision: 0.5, порог вероятности: 0.43843843843843844\n",
      "141700000\n",
      "Значение precision: 0.5, порог вероятности: 0.4394394394394394\n",
      "141700000\n",
      "Значение precision: 0.5, порог вероятности: 0.44044044044044045\n",
      "141700000\n",
      "Значение precision: 0.5, порог вероятности: 0.44144144144144143\n",
      "141700000\n",
      "Значение precision: 0.5, порог вероятности: 0.44244244244244246\n",
      "141700000\n",
      "Значение precision: 0.5, порог вероятности: 0.44344344344344344\n",
      "141700000\n",
      "Значение precision: 0.5, порог вероятности: 0.4444444444444444\n",
      "141700000\n",
      "Значение precision: 0.5, порог вероятности: 0.44544544544544545\n",
      "141700000\n",
      "Значение precision: 0.5, порог вероятности: 0.44644644644644643\n",
      "141705000\n",
      "Значение precision: 0.6666666666666666, порог вероятности: 0.44744744744744747\n",
      "141705000\n",
      "Значение precision: 0.6666666666666666, порог вероятности: 0.44844844844844844\n",
      "141705000\n",
      "Значение precision: 0.6666666666666666, порог вероятности: 0.4494494494494494\n",
      "141705000\n",
      "Значение precision: 0.6666666666666666, порог вероятности: 0.45045045045045046\n",
      "141705000\n",
      "Значение precision: 0.6666666666666666, порог вероятности: 0.45145145145145144\n",
      "141705000\n",
      "Значение precision: 0.6666666666666666, порог вероятности: 0.45245245245245247\n",
      "141705000\n",
      "Значение precision: 0.6666666666666666, порог вероятности: 0.45345345345345345\n",
      "141705000\n",
      "Значение precision: 0.6666666666666666, порог вероятности: 0.4544544544544544\n",
      "141705000\n",
      "Значение precision: 0.6666666666666666, порог вероятности: 0.45545545545545546\n",
      "141705000\n",
      "Значение precision: 0.6666666666666666, порог вероятности: 0.45645645645645644\n",
      "141705000\n",
      "Значение precision: 0.6666666666666666, порог вероятности: 0.4574574574574575\n",
      "141705000\n",
      "Значение precision: 0.6666666666666666, порог вероятности: 0.45845845845845845\n",
      "141705000\n",
      "Значение precision: 0.6666666666666666, порог вероятности: 0.45945945945945943\n",
      "141705000\n",
      "Значение precision: 0.6666666666666666, порог вероятности: 0.46046046046046046\n",
      "141705000\n",
      "Значение precision: 0.6666666666666666, порог вероятности: 0.46146146146146144\n",
      "141705000\n",
      "Значение precision: 0.6666666666666666, порог вероятности: 0.4624624624624625\n",
      "141705000\n",
      "Значение precision: 0.6666666666666666, порог вероятности: 0.46346346346346345\n",
      "141705000\n",
      "Значение precision: 0.6666666666666666, порог вероятности: 0.46446446446446443\n",
      "141705000\n",
      "Значение precision: 0.6666666666666666, порог вероятности: 0.46546546546546547\n",
      "141705000\n",
      "Значение precision: 0.6666666666666666, порог вероятности: 0.46646646646646645\n",
      "141705000\n",
      "Значение precision: 0.6666666666666666, порог вероятности: 0.4674674674674675\n",
      "141705000\n",
      "Значение precision: 0.6666666666666666, порог вероятности: 0.46846846846846846\n",
      "141705000\n",
      "Значение precision: 0.6666666666666666, порог вероятности: 0.4694694694694695\n",
      "141705000\n",
      "Значение precision: 0.6666666666666666, порог вероятности: 0.47047047047047047\n",
      "141705000\n",
      "Значение precision: 0.6666666666666666, порог вероятности: 0.47147147147147145\n",
      "141705000\n",
      "Значение precision: 0.6666666666666666, порог вероятности: 0.4724724724724725\n",
      "141710000\n",
      "Значение precision: 1.0, порог вероятности: 0.47347347347347346\n",
      "141710000\n",
      "Значение precision: 1.0, порог вероятности: 0.4744744744744745\n",
      "141710000\n",
      "Значение precision: 1.0, порог вероятности: 0.4754754754754755\n",
      "141710000\n",
      "Значение precision: 1.0, порог вероятности: 0.47647647647647645\n",
      "141710000\n",
      "Значение precision: 1.0, порог вероятности: 0.4774774774774775\n",
      "141710000\n",
      "Значение precision: 1.0, порог вероятности: 0.47847847847847846\n",
      "141710000\n",
      "Значение precision: 1.0, порог вероятности: 0.4794794794794795\n",
      "141610000\n",
      "Значение precision: 1.0, порог вероятности: 0.4804804804804805\n",
      "141610000\n",
      "Значение precision: 1.0, порог вероятности: 0.48148148148148145\n",
      "141610000\n",
      "Значение precision: 1.0, порог вероятности: 0.4824824824824825\n",
      "141610000\n",
      "Значение precision: 1.0, порог вероятности: 0.48348348348348347\n",
      "141610000\n",
      "Значение precision: 1.0, порог вероятности: 0.4844844844844845\n",
      "141610000\n",
      "Значение precision: 1.0, порог вероятности: 0.4854854854854855\n",
      "141610000\n",
      "Значение precision: 1.0, порог вероятности: 0.48648648648648646\n",
      "141610000\n",
      "Значение precision: 1.0, порог вероятности: 0.4874874874874875\n",
      "141610000\n",
      "Значение precision: 1.0, порог вероятности: 0.48848848848848847\n",
      "141610000\n",
      "Значение precision: 1.0, порог вероятности: 0.4894894894894895\n",
      "141610000\n",
      "Значение precision: 1.0, порог вероятности: 0.4904904904904905\n",
      "141610000\n",
      "Значение precision: 1.0, порог вероятности: 0.49149149149149146\n",
      "141610000\n",
      "Значение precision: 1.0, порог вероятности: 0.4924924924924925\n",
      "141610000\n",
      "Значение precision: 1.0, порог вероятности: 0.4934934934934935\n",
      "141610000\n",
      "Значение precision: 1.0, порог вероятности: 0.4944944944944945\n",
      "141610000\n",
      "Значение precision: 1.0, порог вероятности: 0.4954954954954955\n",
      "141610000\n",
      "Значение precision: 1.0, порог вероятности: 0.4964964964964965\n",
      "141610000\n",
      "Значение precision: 1.0, порог вероятности: 0.4974974974974975\n",
      "141610000\n",
      "Значение precision: 1.0, порог вероятности: 0.4984984984984985\n",
      "141610000\n",
      "Значение precision: 1.0, порог вероятности: 0.4994994994994995\n",
      "141610000\n",
      "Значение precision: 1.0, порог вероятности: 0.5005005005005005\n",
      "141610000\n",
      "Значение precision: 1.0, порог вероятности: 0.5015015015015015\n"
     ]
    },
    {
     "name": "stdout",
     "output_type": "stream",
     "text": [
      "141610000\n",
      "Значение precision: 1.0, порог вероятности: 0.5025025025025025\n",
      "141610000\n",
      "Значение precision: 1.0, порог вероятности: 0.5035035035035035\n",
      "141610000\n",
      "Значение precision: 1.0, порог вероятности: 0.5045045045045045\n",
      "141610000\n",
      "Значение precision: 1.0, порог вероятности: 0.5055055055055055\n",
      "141610000\n",
      "Значение precision: 1.0, порог вероятности: 0.5065065065065065\n",
      "141610000\n",
      "Значение precision: 1.0, порог вероятности: 0.5075075075075075\n",
      "141610000\n",
      "Значение precision: 1.0, порог вероятности: 0.5085085085085085\n",
      "141610000\n",
      "Значение precision: 1.0, порог вероятности: 0.5095095095095095\n",
      "141510000\n",
      "Значение precision: 0.0, порог вероятности: 0.5105105105105106\n",
      "141510000\n",
      "Значение precision: 0.0, порог вероятности: 0.5115115115115115\n",
      "141510000\n",
      "Значение precision: 0.0, порог вероятности: 0.5125125125125125\n",
      "141510000\n",
      "Значение precision: 0.0, порог вероятности: 0.5135135135135135\n",
      "141510000\n",
      "Значение precision: 0.0, порог вероятности: 0.5145145145145145\n",
      "141510000\n",
      "Значение precision: 0.0, порог вероятности: 0.5155155155155156\n",
      "141510000\n",
      "Значение precision: 0.0, порог вероятности: 0.5165165165165165\n",
      "141510000\n",
      "Значение precision: 0.0, порог вероятности: 0.5175175175175175\n",
      "141510000\n",
      "Значение precision: 0.0, порог вероятности: 0.5185185185185185\n",
      "141510000\n",
      "Значение precision: 0.0, порог вероятности: 0.5195195195195195\n",
      "141510000\n",
      "Значение precision: 0.0, порог вероятности: 0.5205205205205206\n",
      "141510000\n",
      "Значение precision: 0.0, порог вероятности: 0.5215215215215215\n",
      "141510000\n",
      "Значение precision: 0.0, порог вероятности: 0.5225225225225225\n",
      "141510000\n",
      "Значение precision: 0.0, порог вероятности: 0.5235235235235235\n",
      "141510000\n",
      "Значение precision: 0.0, порог вероятности: 0.5245245245245245\n",
      "141510000\n",
      "Значение precision: 0.0, порог вероятности: 0.5255255255255256\n",
      "141510000\n",
      "Значение precision: 0.0, порог вероятности: 0.5265265265265265\n",
      "141510000\n",
      "Значение precision: 0.0, порог вероятности: 0.5275275275275275\n",
      "141510000\n",
      "Значение precision: 0.0, порог вероятности: 0.5285285285285285\n",
      "141510000\n",
      "Значение precision: 0.0, порог вероятности: 0.5295295295295295\n",
      "141510000\n",
      "Значение precision: 0.0, порог вероятности: 0.5305305305305306\n",
      "141510000\n",
      "Значение precision: 0.0, порог вероятности: 0.5315315315315315\n",
      "141510000\n",
      "Значение precision: 0.0, порог вероятности: 0.5325325325325325\n",
      "141510000\n",
      "Значение precision: 0.0, порог вероятности: 0.5335335335335335\n",
      "141510000\n",
      "Значение precision: 0.0, порог вероятности: 0.5345345345345345\n",
      "141510000\n",
      "Значение precision: 0.0, порог вероятности: 0.5355355355355356\n",
      "141510000\n",
      "Значение precision: 0.0, порог вероятности: 0.5365365365365365\n",
      "141510000\n",
      "Значение precision: 0.0, порог вероятности: 0.5375375375375375\n",
      "141510000\n",
      "Значение precision: 0.0, порог вероятности: 0.5385385385385385\n",
      "141510000\n",
      "Значение precision: 0.0, порог вероятности: 0.5395395395395395\n",
      "141510000\n",
      "Значение precision: 0.0, порог вероятности: 0.5405405405405406\n",
      "141510000\n",
      "Значение precision: 0.0, порог вероятности: 0.5415415415415415\n",
      "141510000\n",
      "Значение precision: 0.0, порог вероятности: 0.5425425425425425\n",
      "141510000\n",
      "Значение precision: 0.0, порог вероятности: 0.5435435435435435\n",
      "141510000\n",
      "Значение precision: 0.0, порог вероятности: 0.5445445445445445\n",
      "141510000\n",
      "Значение precision: 0.0, порог вероятности: 0.5455455455455456\n",
      "141510000\n",
      "Значение precision: 0.0, порог вероятности: 0.5465465465465466\n",
      "141510000\n",
      "Значение precision: 0.0, порог вероятности: 0.5475475475475475\n",
      "141510000\n",
      "Значение precision: 0.0, порог вероятности: 0.5485485485485485\n",
      "141510000\n",
      "Значение precision: 0.0, порог вероятности: 0.5495495495495496\n",
      "141510000\n",
      "Значение precision: 0.0, порог вероятности: 0.5505505505505506\n",
      "141510000\n",
      "Значение precision: 0.0, порог вероятности: 0.5515515515515516\n",
      "141510000\n",
      "Значение precision: 0.0, порог вероятности: 0.5525525525525525\n",
      "141510000\n",
      "Значение precision: 0.0, порог вероятности: 0.5535535535535535\n",
      "141510000\n",
      "Значение precision: 0.0, порог вероятности: 0.5545545545545546\n",
      "141510000\n",
      "Значение precision: 0.0, порог вероятности: 0.5555555555555556\n",
      "141510000\n",
      "Значение precision: 0.0, порог вероятности: 0.5565565565565566\n",
      "141510000\n",
      "Значение precision: 0.0, порог вероятности: 0.5575575575575575\n",
      "141510000\n",
      "Значение precision: 0.0, порог вероятности: 0.5585585585585585\n",
      "141510000\n",
      "Значение precision: 0.0, порог вероятности: 0.5595595595595596\n",
      "141510000\n",
      "Значение precision: 0.0, порог вероятности: 0.5605605605605606\n",
      "141510000\n",
      "Значение precision: 0.0, порог вероятности: 0.5615615615615616\n",
      "141510000\n",
      "Значение precision: 0.0, порог вероятности: 0.5625625625625625\n",
      "141510000\n",
      "Значение precision: 0.0, порог вероятности: 0.5635635635635635\n",
      "141510000\n",
      "Значение precision: 0.0, порог вероятности: 0.5645645645645646\n",
      "141510000\n",
      "Значение precision: 0.0, порог вероятности: 0.5655655655655656\n",
      "141510000\n",
      "Значение precision: 0.0, порог вероятности: 0.5665665665665666\n",
      "141510000\n",
      "Значение precision: 0.0, порог вероятности: 0.5675675675675675\n",
      "141510000\n",
      "Значение precision: 0.0, порог вероятности: 0.5685685685685685\n",
      "141510000\n",
      "Значение precision: 0.0, порог вероятности: 0.5695695695695696\n",
      "141510000\n",
      "Значение precision: 0.0, порог вероятности: 0.5705705705705706\n",
      "141510000\n",
      "Значение precision: 0.0, порог вероятности: 0.5715715715715716\n",
      "141510000\n",
      "Значение precision: 0.0, порог вероятности: 0.5725725725725725\n",
      "141510000\n",
      "Значение precision: 0.0, порог вероятности: 0.5735735735735735\n",
      "141510000\n",
      "Значение precision: 0.0, порог вероятности: 0.5745745745745746\n",
      "141510000\n",
      "Значение precision: 0.0, порог вероятности: 0.5755755755755756\n",
      "141510000\n",
      "Значение precision: 0.0, порог вероятности: 0.5765765765765766\n",
      "141510000\n",
      "Значение precision: 0.0, порог вероятности: 0.5775775775775776\n",
      "141510000\n",
      "Значение precision: 0.0, порог вероятности: 0.5785785785785785\n",
      "141510000\n",
      "Значение precision: 0.0, порог вероятности: 0.5795795795795796\n",
      "141510000\n",
      "Значение precision: 0.0, порог вероятности: 0.5805805805805806\n",
      "141510000\n",
      "Значение precision: 0.0, порог вероятности: 0.5815815815815816\n",
      "141510000\n",
      "Значение precision: 0.0, порог вероятности: 0.5825825825825826\n",
      "141510000\n",
      "Значение precision: 0.0, порог вероятности: 0.5835835835835835\n",
      "141510000\n",
      "Значение precision: 0.0, порог вероятности: 0.5845845845845846\n",
      "141510000\n",
      "Значение precision: 0.0, порог вероятности: 0.5855855855855856\n",
      "141510000\n",
      "Значение precision: 0.0, порог вероятности: 0.5865865865865866\n",
      "141510000\n",
      "Значение precision: 0.0, порог вероятности: 0.5875875875875876\n",
      "141510000\n",
      "Значение precision: 0.0, порог вероятности: 0.5885885885885885\n",
      "141510000\n",
      "Значение precision: 0.0, порог вероятности: 0.5895895895895896\n",
      "141510000\n",
      "Значение precision: 0.0, порог вероятности: 0.5905905905905906\n",
      "141510000\n",
      "Значение precision: 0.0, порог вероятности: 0.5915915915915916\n",
      "141510000\n",
      "Значение precision: 0.0, порог вероятности: 0.5925925925925926\n",
      "141510000\n",
      "Значение precision: 0.0, порог вероятности: 0.5935935935935935\n",
      "141510000\n",
      "Значение precision: 0.0, порог вероятности: 0.5945945945945946\n",
      "141510000\n",
      "Значение precision: 0.0, порог вероятности: 0.5955955955955956\n",
      "141510000\n",
      "Значение precision: 0.0, порог вероятности: 0.5965965965965966\n",
      "141510000\n",
      "Значение precision: 0.0, порог вероятности: 0.5975975975975976\n",
      "141510000\n",
      "Значение precision: 0.0, порог вероятности: 0.5985985985985985\n",
      "141510000\n",
      "Значение precision: 0.0, порог вероятности: 0.5995995995995996\n",
      "141510000\n",
      "Значение precision: 0.0, порог вероятности: 0.6006006006006006\n",
      "141510000\n",
      "Значение precision: 0.0, порог вероятности: 0.6016016016016016\n",
      "141510000\n",
      "Значение precision: 0.0, порог вероятности: 0.6026026026026026\n",
      "141510000\n",
      "Значение precision: 0.0, порог вероятности: 0.6036036036036035\n",
      "141510000\n",
      "Значение precision: 0.0, порог вероятности: 0.6046046046046046\n",
      "141510000\n",
      "Значение precision: 0.0, порог вероятности: 0.6056056056056056\n",
      "141510000\n",
      "Значение precision: 0.0, порог вероятности: 0.6066066066066066\n",
      "141510000\n",
      "Значение precision: 0.0, порог вероятности: 0.6076076076076076\n",
      "141510000\n",
      "Значение precision: 0.0, порог вероятности: 0.6086086086086087\n",
      "141510000\n",
      "Значение precision: 0.0, порог вероятности: 0.6096096096096096\n",
      "141510000\n",
      "Значение precision: 0.0, порог вероятности: 0.6106106106106106\n",
      "141510000\n",
      "Значение precision: 0.0, порог вероятности: 0.6116116116116116\n",
      "141510000\n",
      "Значение precision: 0.0, порог вероятности: 0.6126126126126126\n",
      "141510000\n",
      "Значение precision: 0.0, порог вероятности: 0.6136136136136137\n",
      "141510000\n",
      "Значение precision: 0.0, порог вероятности: 0.6146146146146146\n",
      "141510000\n",
      "Значение precision: 0.0, порог вероятности: 0.6156156156156156\n",
      "141510000\n",
      "Значение precision: 0.0, порог вероятности: 0.6166166166166166\n",
      "141510000\n",
      "Значение precision: 0.0, порог вероятности: 0.6176176176176176\n",
      "141510000\n",
      "Значение precision: 0.0, порог вероятности: 0.6186186186186187\n",
      "141510000\n",
      "Значение precision: 0.0, порог вероятности: 0.6196196196196196\n",
      "141510000\n",
      "Значение precision: 0.0, порог вероятности: 0.6206206206206206\n",
      "141510000\n",
      "Значение precision: 0.0, порог вероятности: 0.6216216216216216\n",
      "141510000\n",
      "Значение precision: 0.0, порог вероятности: 0.6226226226226226\n"
     ]
    },
    {
     "name": "stdout",
     "output_type": "stream",
     "text": [
      "141510000\n",
      "Значение precision: 0.0, порог вероятности: 0.6236236236236237\n",
      "141510000\n",
      "Значение precision: 0.0, порог вероятности: 0.6246246246246246\n",
      "141510000\n",
      "Значение precision: 0.0, порог вероятности: 0.6256256256256256\n",
      "141510000\n",
      "Значение precision: 0.0, порог вероятности: 0.6266266266266266\n",
      "141510000\n",
      "Значение precision: 0.0, порог вероятности: 0.6276276276276276\n",
      "141510000\n",
      "Значение precision: 0.0, порог вероятности: 0.6286286286286287\n",
      "141510000\n",
      "Значение precision: 0.0, порог вероятности: 0.6296296296296297\n",
      "141510000\n",
      "Значение precision: 0.0, порог вероятности: 0.6306306306306306\n",
      "141510000\n",
      "Значение precision: 0.0, порог вероятности: 0.6316316316316316\n",
      "141510000\n",
      "Значение precision: 0.0, порог вероятности: 0.6326326326326326\n",
      "141510000\n",
      "Значение precision: 0.0, порог вероятности: 0.6336336336336337\n",
      "141510000\n",
      "Значение precision: 0.0, порог вероятности: 0.6346346346346347\n",
      "141510000\n",
      "Значение precision: 0.0, порог вероятности: 0.6356356356356356\n",
      "141510000\n",
      "Значение precision: 0.0, порог вероятности: 0.6366366366366366\n",
      "141510000\n",
      "Значение precision: 0.0, порог вероятности: 0.6376376376376376\n",
      "141510000\n",
      "Значение precision: 0.0, порог вероятности: 0.6386386386386387\n",
      "141510000\n",
      "Значение precision: 0.0, порог вероятности: 0.6396396396396397\n",
      "141510000\n",
      "Значение precision: 0.0, порог вероятности: 0.6406406406406406\n",
      "141510000\n",
      "Значение precision: 0.0, порог вероятности: 0.6416416416416416\n",
      "141510000\n",
      "Значение precision: 0.0, порог вероятности: 0.6426426426426426\n",
      "141510000\n",
      "Значение precision: 0.0, порог вероятности: 0.6436436436436437\n",
      "141510000\n",
      "Значение precision: 0.0, порог вероятности: 0.6446446446446447\n",
      "141510000\n",
      "Значение precision: 0.0, порог вероятности: 0.6456456456456456\n",
      "141510000\n",
      "Значение precision: 0.0, порог вероятности: 0.6466466466466466\n",
      "141510000\n",
      "Значение precision: 0.0, порог вероятности: 0.6476476476476476\n",
      "141510000\n",
      "Значение precision: 0.0, порог вероятности: 0.6486486486486487\n",
      "141510000\n",
      "Значение precision: 0.0, порог вероятности: 0.6496496496496497\n",
      "141510000\n",
      "Значение precision: 0.0, порог вероятности: 0.6506506506506506\n",
      "141510000\n",
      "Значение precision: 0.0, порог вероятности: 0.6516516516516516\n",
      "141510000\n",
      "Значение precision: 0.0, порог вероятности: 0.6526526526526526\n",
      "141510000\n",
      "Значение precision: 0.0, порог вероятности: 0.6536536536536537\n",
      "141510000\n",
      "Значение precision: 0.0, порог вероятности: 0.6546546546546547\n",
      "141510000\n",
      "Значение precision: 0.0, порог вероятности: 0.6556556556556556\n",
      "141510000\n",
      "Значение precision: 0.0, порог вероятности: 0.6566566566566566\n",
      "141510000\n",
      "Значение precision: 0.0, порог вероятности: 0.6576576576576576\n",
      "141510000\n",
      "Значение precision: 0.0, порог вероятности: 0.6586586586586587\n",
      "141510000\n",
      "Значение precision: 0.0, порог вероятности: 0.6596596596596597\n",
      "141510000\n",
      "Значение precision: 0.0, порог вероятности: 0.6606606606606606\n",
      "141510000\n",
      "Значение precision: 0.0, порог вероятности: 0.6616616616616616\n",
      "141510000\n",
      "Значение precision: 0.0, порог вероятности: 0.6626626626626626\n",
      "141510000\n",
      "Значение precision: 0.0, порог вероятности: 0.6636636636636637\n",
      "141510000\n",
      "Значение precision: 0.0, порог вероятности: 0.6646646646646647\n",
      "141510000\n",
      "Значение precision: 0.0, порог вероятности: 0.6656656656656657\n",
      "141510000\n",
      "Значение precision: 0.0, порог вероятности: 0.6666666666666666\n",
      "141510000\n",
      "Значение precision: 0.0, порог вероятности: 0.6676676676676676\n",
      "141510000\n",
      "Значение precision: 0.0, порог вероятности: 0.6686686686686687\n",
      "141510000\n",
      "Значение precision: 0.0, порог вероятности: 0.6696696696696697\n",
      "141510000\n",
      "Значение precision: 0.0, порог вероятности: 0.6706706706706707\n",
      "141510000\n",
      "Значение precision: 0.0, порог вероятности: 0.6716716716716716\n",
      "141510000\n",
      "Значение precision: 0.0, порог вероятности: 0.6726726726726726\n",
      "141510000\n",
      "Значение precision: 0.0, порог вероятности: 0.6736736736736737\n",
      "141510000\n",
      "Значение precision: 0.0, порог вероятности: 0.6746746746746747\n",
      "141510000\n",
      "Значение precision: 0.0, порог вероятности: 0.6756756756756757\n",
      "141510000\n",
      "Значение precision: 0.0, порог вероятности: 0.6766766766766766\n",
      "141510000\n",
      "Значение precision: 0.0, порог вероятности: 0.6776776776776777\n",
      "141510000\n",
      "Значение precision: 0.0, порог вероятности: 0.6786786786786787\n",
      "141510000\n",
      "Значение precision: 0.0, порог вероятности: 0.6796796796796797\n",
      "141510000\n",
      "Значение precision: 0.0, порог вероятности: 0.6806806806806807\n",
      "141510000\n",
      "Значение precision: 0.0, порог вероятности: 0.6816816816816816\n",
      "141510000\n",
      "Значение precision: 0.0, порог вероятности: 0.6826826826826827\n",
      "141510000\n",
      "Значение precision: 0.0, порог вероятности: 0.6836836836836837\n",
      "141510000\n",
      "Значение precision: 0.0, порог вероятности: 0.6846846846846847\n",
      "141510000\n",
      "Значение precision: 0.0, порог вероятности: 0.6856856856856857\n",
      "141510000\n",
      "Значение precision: 0.0, порог вероятности: 0.6866866866866866\n",
      "141510000\n",
      "Значение precision: 0.0, порог вероятности: 0.6876876876876877\n",
      "141510000\n",
      "Значение precision: 0.0, порог вероятности: 0.6886886886886887\n",
      "141510000\n",
      "Значение precision: 0.0, порог вероятности: 0.6896896896896897\n",
      "141510000\n",
      "Значение precision: 0.0, порог вероятности: 0.6906906906906907\n",
      "141510000\n",
      "Значение precision: 0.0, порог вероятности: 0.6916916916916916\n",
      "141510000\n",
      "Значение precision: 0.0, порог вероятности: 0.6926926926926927\n",
      "141510000\n",
      "Значение precision: 0.0, порог вероятности: 0.6936936936936937\n",
      "141510000\n",
      "Значение precision: 0.0, порог вероятности: 0.6946946946946947\n",
      "141510000\n",
      "Значение precision: 0.0, порог вероятности: 0.6956956956956957\n",
      "141510000\n",
      "Значение precision: 0.0, порог вероятности: 0.6966966966966966\n",
      "141510000\n",
      "Значение precision: 0.0, порог вероятности: 0.6976976976976977\n",
      "141510000\n",
      "Значение precision: 0.0, порог вероятности: 0.6986986986986987\n",
      "141510000\n",
      "Значение precision: 0.0, порог вероятности: 0.6996996996996997\n",
      "141510000\n",
      "Значение precision: 0.0, порог вероятности: 0.7007007007007007\n",
      "141510000\n",
      "Значение precision: 0.0, порог вероятности: 0.7017017017017017\n",
      "141510000\n",
      "Значение precision: 0.0, порог вероятности: 0.7027027027027027\n",
      "141510000\n",
      "Значение precision: 0.0, порог вероятности: 0.7037037037037037\n",
      "141510000\n",
      "Значение precision: 0.0, порог вероятности: 0.7047047047047047\n",
      "141510000\n",
      "Значение precision: 0.0, порог вероятности: 0.7057057057057057\n",
      "141510000\n",
      "Значение precision: 0.0, порог вероятности: 0.7067067067067067\n",
      "141510000\n",
      "Значение precision: 0.0, порог вероятности: 0.7077077077077077\n",
      "141510000\n",
      "Значение precision: 0.0, порог вероятности: 0.7087087087087087\n",
      "141510000\n",
      "Значение precision: 0.0, порог вероятности: 0.7097097097097097\n",
      "141510000\n",
      "Значение precision: 0.0, порог вероятности: 0.7107107107107107\n",
      "141510000\n",
      "Значение precision: 0.0, порог вероятности: 0.7117117117117117\n",
      "141510000\n",
      "Значение precision: 0.0, порог вероятности: 0.7127127127127127\n",
      "141510000\n",
      "Значение precision: 0.0, порог вероятности: 0.7137137137137137\n",
      "141510000\n",
      "Значение precision: 0.0, порог вероятности: 0.7147147147147147\n",
      "141510000\n",
      "Значение precision: 0.0, порог вероятности: 0.7157157157157157\n",
      "141510000\n",
      "Значение precision: 0.0, порог вероятности: 0.7167167167167167\n",
      "141510000\n",
      "Значение precision: 0.0, порог вероятности: 0.7177177177177178\n",
      "141510000\n",
      "Значение precision: 0.0, порог вероятности: 0.7187187187187187\n",
      "141510000\n",
      "Значение precision: 0.0, порог вероятности: 0.7197197197197197\n",
      "141510000\n",
      "Значение precision: 0.0, порог вероятности: 0.7207207207207207\n",
      "141510000\n",
      "Значение precision: 0.0, порог вероятности: 0.7217217217217217\n",
      "141510000\n",
      "Значение precision: 0.0, порог вероятности: 0.7227227227227228\n",
      "141510000\n",
      "Значение precision: 0.0, порог вероятности: 0.7237237237237237\n",
      "141510000\n",
      "Значение precision: 0.0, порог вероятности: 0.7247247247247247\n",
      "141510000\n",
      "Значение precision: 0.0, порог вероятности: 0.7257257257257257\n",
      "141510000\n",
      "Значение precision: 0.0, порог вероятности: 0.7267267267267267\n",
      "141510000\n",
      "Значение precision: 0.0, порог вероятности: 0.7277277277277278\n",
      "141510000\n",
      "Значение precision: 0.0, порог вероятности: 0.7287287287287287\n",
      "141510000\n",
      "Значение precision: 0.0, порог вероятности: 0.7297297297297297\n",
      "141510000\n",
      "Значение precision: 0.0, порог вероятности: 0.7307307307307307\n",
      "141510000\n",
      "Значение precision: 0.0, порог вероятности: 0.7317317317317317\n",
      "141510000\n",
      "Значение precision: 0.0, порог вероятности: 0.7327327327327328\n",
      "141510000\n",
      "Значение precision: 0.0, порог вероятности: 0.7337337337337337\n",
      "141510000\n",
      "Значение precision: 0.0, порог вероятности: 0.7347347347347347\n",
      "141510000\n",
      "Значение precision: 0.0, порог вероятности: 0.7357357357357357\n",
      "141510000\n",
      "Значение precision: 0.0, порог вероятности: 0.7367367367367368\n",
      "141510000\n",
      "Значение precision: 0.0, порог вероятности: 0.7377377377377378\n",
      "141510000\n",
      "Значение precision: 0.0, порог вероятности: 0.7387387387387387\n",
      "141510000\n",
      "Значение precision: 0.0, порог вероятности: 0.7397397397397397\n",
      "141510000\n",
      "Значение precision: 0.0, порог вероятности: 0.7407407407407407\n",
      "141510000\n",
      "Значение precision: 0.0, порог вероятности: 0.7417417417417418\n",
      "141510000\n",
      "Значение precision: 0.0, порог вероятности: 0.7427427427427428\n",
      "141510000\n",
      "Значение precision: 0.0, порог вероятности: 0.7437437437437437\n",
      "141510000\n",
      "Значение precision: 0.0, порог вероятности: 0.7447447447447447\n"
     ]
    },
    {
     "name": "stdout",
     "output_type": "stream",
     "text": [
      "141510000\n",
      "Значение precision: 0.0, порог вероятности: 0.7457457457457457\n",
      "141510000\n",
      "Значение precision: 0.0, порог вероятности: 0.7467467467467468\n",
      "141510000\n",
      "Значение precision: 0.0, порог вероятности: 0.7477477477477478\n",
      "141510000\n",
      "Значение precision: 0.0, порог вероятности: 0.7487487487487487\n",
      "141510000\n",
      "Значение precision: 0.0, порог вероятности: 0.7497497497497497\n",
      "141510000\n",
      "Значение precision: 0.0, порог вероятности: 0.7507507507507507\n",
      "141510000\n",
      "Значение precision: 0.0, порог вероятности: 0.7517517517517518\n",
      "141510000\n",
      "Значение precision: 0.0, порог вероятности: 0.7527527527527528\n",
      "141510000\n",
      "Значение precision: 0.0, порог вероятности: 0.7537537537537538\n",
      "141510000\n",
      "Значение precision: 0.0, порог вероятности: 0.7547547547547547\n",
      "141510000\n",
      "Значение precision: 0.0, порог вероятности: 0.7557557557557557\n",
      "141510000\n",
      "Значение precision: 0.0, порог вероятности: 0.7567567567567568\n",
      "141510000\n",
      "Значение precision: 0.0, порог вероятности: 0.7577577577577578\n",
      "141510000\n",
      "Значение precision: 0.0, порог вероятности: 0.7587587587587588\n",
      "141510000\n",
      "Значение precision: 0.0, порог вероятности: 0.7597597597597597\n",
      "141510000\n",
      "Значение precision: 0.0, порог вероятности: 0.7607607607607607\n",
      "141510000\n",
      "Значение precision: 0.0, порог вероятности: 0.7617617617617618\n",
      "141510000\n",
      "Значение precision: 0.0, порог вероятности: 0.7627627627627628\n",
      "141510000\n",
      "Значение precision: 0.0, порог вероятности: 0.7637637637637638\n",
      "141510000\n",
      "Значение precision: 0.0, порог вероятности: 0.7647647647647647\n",
      "141510000\n",
      "Значение precision: 0.0, порог вероятности: 0.7657657657657657\n",
      "141510000\n",
      "Значение precision: 0.0, порог вероятности: 0.7667667667667668\n",
      "141510000\n",
      "Значение precision: 0.0, порог вероятности: 0.7677677677677678\n",
      "141510000\n",
      "Значение precision: 0.0, порог вероятности: 0.7687687687687688\n",
      "141510000\n",
      "Значение precision: 0.0, порог вероятности: 0.7697697697697697\n",
      "141510000\n",
      "Значение precision: 0.0, порог вероятности: 0.7707707707707707\n",
      "141510000\n",
      "Значение precision: 0.0, порог вероятности: 0.7717717717717718\n",
      "141510000\n",
      "Значение precision: 0.0, порог вероятности: 0.7727727727727728\n",
      "141510000\n",
      "Значение precision: 0.0, порог вероятности: 0.7737737737737738\n",
      "141510000\n",
      "Значение precision: 0.0, порог вероятности: 0.7747747747747747\n",
      "141510000\n",
      "Значение precision: 0.0, порог вероятности: 0.7757757757757757\n",
      "141510000\n",
      "Значение precision: 0.0, порог вероятности: 0.7767767767767768\n",
      "141510000\n",
      "Значение precision: 0.0, порог вероятности: 0.7777777777777778\n",
      "141510000\n",
      "Значение precision: 0.0, порог вероятности: 0.7787787787787788\n",
      "141510000\n",
      "Значение precision: 0.0, порог вероятности: 0.7797797797797797\n",
      "141510000\n",
      "Значение precision: 0.0, порог вероятности: 0.7807807807807807\n",
      "141510000\n",
      "Значение precision: 0.0, порог вероятности: 0.7817817817817818\n",
      "141510000\n",
      "Значение precision: 0.0, порог вероятности: 0.7827827827827828\n",
      "141510000\n",
      "Значение precision: 0.0, порог вероятности: 0.7837837837837838\n",
      "141510000\n",
      "Значение precision: 0.0, порог вероятности: 0.7847847847847848\n",
      "141510000\n",
      "Значение precision: 0.0, порог вероятности: 0.7857857857857857\n",
      "141510000\n",
      "Значение precision: 0.0, порог вероятности: 0.7867867867867868\n",
      "141510000\n",
      "Значение precision: 0.0, порог вероятности: 0.7877877877877878\n",
      "141510000\n",
      "Значение precision: 0.0, порог вероятности: 0.7887887887887888\n",
      "141510000\n",
      "Значение precision: 0.0, порог вероятности: 0.7897897897897898\n",
      "141510000\n",
      "Значение precision: 0.0, порог вероятности: 0.7907907907907907\n",
      "141510000\n",
      "Значение precision: 0.0, порог вероятности: 0.7917917917917918\n",
      "141510000\n",
      "Значение precision: 0.0, порог вероятности: 0.7927927927927928\n",
      "141510000\n",
      "Значение precision: 0.0, порог вероятности: 0.7937937937937938\n",
      "141510000\n",
      "Значение precision: 0.0, порог вероятности: 0.7947947947947948\n",
      "141510000\n",
      "Значение precision: 0.0, порог вероятности: 0.7957957957957957\n",
      "141510000\n",
      "Значение precision: 0.0, порог вероятности: 0.7967967967967968\n",
      "141510000\n",
      "Значение precision: 0.0, порог вероятности: 0.7977977977977978\n",
      "141510000\n",
      "Значение precision: 0.0, порог вероятности: 0.7987987987987988\n",
      "141510000\n",
      "Значение precision: 0.0, порог вероятности: 0.7997997997997998\n",
      "141510000\n",
      "Значение precision: 0.0, порог вероятности: 0.8008008008008007\n",
      "141510000\n",
      "Значение precision: 0.0, порог вероятности: 0.8018018018018018\n",
      "141510000\n",
      "Значение precision: 0.0, порог вероятности: 0.8028028028028028\n",
      "141510000\n",
      "Значение precision: 0.0, порог вероятности: 0.8038038038038038\n",
      "141510000\n",
      "Значение precision: 0.0, порог вероятности: 0.8048048048048048\n",
      "141510000\n",
      "Значение precision: 0.0, порог вероятности: 0.8058058058058059\n",
      "141510000\n",
      "Значение precision: 0.0, порог вероятности: 0.8068068068068068\n",
      "141510000\n",
      "Значение precision: 0.0, порог вероятности: 0.8078078078078078\n",
      "141510000\n",
      "Значение precision: 0.0, порог вероятности: 0.8088088088088088\n",
      "141510000\n",
      "Значение precision: 0.0, порог вероятности: 0.8098098098098098\n",
      "141510000\n",
      "Значение precision: 0.0, порог вероятности: 0.8108108108108109\n",
      "141510000\n",
      "Значение precision: 0.0, порог вероятности: 0.8118118118118118\n",
      "141510000\n",
      "Значение precision: 0.0, порог вероятности: 0.8128128128128128\n",
      "141510000\n",
      "Значение precision: 0.0, порог вероятности: 0.8138138138138138\n",
      "141510000\n",
      "Значение precision: 0.0, порог вероятности: 0.8148148148148148\n",
      "141510000\n",
      "Значение precision: 0.0, порог вероятности: 0.8158158158158159\n",
      "141510000\n",
      "Значение precision: 0.0, порог вероятности: 0.8168168168168168\n",
      "141510000\n",
      "Значение precision: 0.0, порог вероятности: 0.8178178178178178\n",
      "141510000\n",
      "Значение precision: 0.0, порог вероятности: 0.8188188188188188\n",
      "141510000\n",
      "Значение precision: 0.0, порог вероятности: 0.8198198198198198\n",
      "141510000\n",
      "Значение precision: 0.0, порог вероятности: 0.8208208208208209\n",
      "141510000\n",
      "Значение precision: 0.0, порог вероятности: 0.8218218218218218\n",
      "141510000\n",
      "Значение precision: 0.0, порог вероятности: 0.8228228228228228\n",
      "141510000\n",
      "Значение precision: 0.0, порог вероятности: 0.8238238238238238\n",
      "141510000\n",
      "Значение precision: 0.0, порог вероятности: 0.8248248248248248\n",
      "141510000\n",
      "Значение precision: 0.0, порог вероятности: 0.8258258258258259\n",
      "141510000\n",
      "Значение precision: 0.0, порог вероятности: 0.8268268268268268\n",
      "141510000\n",
      "Значение precision: 0.0, порог вероятности: 0.8278278278278278\n",
      "141510000\n",
      "Значение precision: 0.0, порог вероятности: 0.8288288288288288\n",
      "141510000\n",
      "Значение precision: 0.0, порог вероятности: 0.8298298298298298\n",
      "141510000\n",
      "Значение precision: 0.0, порог вероятности: 0.8308308308308309\n",
      "141510000\n",
      "Значение precision: 0.0, порог вероятности: 0.8318318318318318\n",
      "141510000\n",
      "Значение precision: 0.0, порог вероятности: 0.8328328328328328\n",
      "141510000\n",
      "Значение precision: 0.0, порог вероятности: 0.8338338338338338\n",
      "141510000\n",
      "Значение precision: 0.0, порог вероятности: 0.8348348348348348\n",
      "141510000\n",
      "Значение precision: 0.0, порог вероятности: 0.8358358358358359\n",
      "141510000\n",
      "Значение precision: 0.0, порог вероятности: 0.8368368368368369\n",
      "141510000\n",
      "Значение precision: 0.0, порог вероятности: 0.8378378378378378\n",
      "141510000\n",
      "Значение precision: 0.0, порог вероятности: 0.8388388388388388\n",
      "141510000\n",
      "Значение precision: 0.0, порог вероятности: 0.8398398398398398\n",
      "141510000\n",
      "Значение precision: 0.0, порог вероятности: 0.8408408408408409\n",
      "141510000\n",
      "Значение precision: 0.0, порог вероятности: 0.8418418418418419\n",
      "141510000\n",
      "Значение precision: 0.0, порог вероятности: 0.8428428428428428\n",
      "141510000\n",
      "Значение precision: 0.0, порог вероятности: 0.8438438438438438\n",
      "141510000\n",
      "Значение precision: 0.0, порог вероятности: 0.8448448448448448\n",
      "141510000\n",
      "Значение precision: 0.0, порог вероятности: 0.8458458458458459\n",
      "141510000\n",
      "Значение precision: 0.0, порог вероятности: 0.8468468468468469\n",
      "141510000\n",
      "Значение precision: 0.0, порог вероятности: 0.8478478478478478\n",
      "141510000\n",
      "Значение precision: 0.0, порог вероятности: 0.8488488488488488\n",
      "141510000\n",
      "Значение precision: 0.0, порог вероятности: 0.8498498498498498\n",
      "141510000\n",
      "Значение precision: 0.0, порог вероятности: 0.8508508508508509\n",
      "141510000\n",
      "Значение precision: 0.0, порог вероятности: 0.8518518518518519\n",
      "141510000\n",
      "Значение precision: 0.0, порог вероятности: 0.8528528528528528\n",
      "141510000\n",
      "Значение precision: 0.0, порог вероятности: 0.8538538538538538\n",
      "141510000\n",
      "Значение precision: 0.0, порог вероятности: 0.8548548548548548\n",
      "141510000\n",
      "Значение precision: 0.0, порог вероятности: 0.8558558558558559\n",
      "141510000\n",
      "Значение precision: 0.0, порог вероятности: 0.8568568568568569\n",
      "141510000\n",
      "Значение precision: 0.0, порог вероятности: 0.8578578578578578\n",
      "141510000\n",
      "Значение precision: 0.0, порог вероятности: 0.8588588588588588\n",
      "141510000\n",
      "Значение precision: 0.0, порог вероятности: 0.8598598598598598\n",
      "141510000\n",
      "Значение precision: 0.0, порог вероятности: 0.8608608608608609\n",
      "141510000\n",
      "Значение precision: 0.0, порог вероятности: 0.8618618618618619\n",
      "141510000\n",
      "Значение precision: 0.0, порог вероятности: 0.8628628628628628\n",
      "141510000\n",
      "Значение precision: 0.0, порог вероятности: 0.8638638638638638\n",
      "141510000\n",
      "Значение precision: 0.0, порог вероятности: 0.8648648648648649\n",
      "141510000\n",
      "Значение precision: 0.0, порог вероятности: 0.8658658658658659\n",
      "141510000\n",
      "Значение precision: 0.0, порог вероятности: 0.8668668668668669\n",
      "141510000\n",
      "Значение precision: 0.0, порог вероятности: 0.8678678678678678\n"
     ]
    },
    {
     "name": "stdout",
     "output_type": "stream",
     "text": [
      "141510000\n",
      "Значение precision: 0.0, порог вероятности: 0.8688688688688688\n",
      "141510000\n",
      "Значение precision: 0.0, порог вероятности: 0.8698698698698699\n",
      "141510000\n",
      "Значение precision: 0.0, порог вероятности: 0.8708708708708709\n",
      "141510000\n",
      "Значение precision: 0.0, порог вероятности: 0.8718718718718719\n",
      "141510000\n",
      "Значение precision: 0.0, порог вероятности: 0.8728728728728729\n",
      "141510000\n",
      "Значение precision: 0.0, порог вероятности: 0.8738738738738738\n",
      "141510000\n",
      "Значение precision: 0.0, порог вероятности: 0.8748748748748749\n",
      "141510000\n",
      "Значение precision: 0.0, порог вероятности: 0.8758758758758759\n",
      "141510000\n",
      "Значение precision: 0.0, порог вероятности: 0.8768768768768769\n",
      "141510000\n",
      "Значение precision: 0.0, порог вероятности: 0.8778778778778779\n",
      "141510000\n",
      "Значение precision: 0.0, порог вероятности: 0.8788788788788788\n",
      "141510000\n",
      "Значение precision: 0.0, порог вероятности: 0.8798798798798799\n",
      "141510000\n",
      "Значение precision: 0.0, порог вероятности: 0.8808808808808809\n",
      "141510000\n",
      "Значение precision: 0.0, порог вероятности: 0.8818818818818819\n",
      "141510000\n",
      "Значение precision: 0.0, порог вероятности: 0.8828828828828829\n",
      "141510000\n",
      "Значение precision: 0.0, порог вероятности: 0.8838838838838838\n",
      "141510000\n",
      "Значение precision: 0.0, порог вероятности: 0.8848848848848849\n",
      "141510000\n",
      "Значение precision: 0.0, порог вероятности: 0.8858858858858859\n",
      "141510000\n",
      "Значение precision: 0.0, порог вероятности: 0.8868868868868869\n",
      "141510000\n",
      "Значение precision: 0.0, порог вероятности: 0.8878878878878879\n",
      "141510000\n",
      "Значение precision: 0.0, порог вероятности: 0.8888888888888888\n",
      "141510000\n",
      "Значение precision: 0.0, порог вероятности: 0.8898898898898899\n",
      "141510000\n",
      "Значение precision: 0.0, порог вероятности: 0.8908908908908909\n",
      "141510000\n",
      "Значение precision: 0.0, порог вероятности: 0.8918918918918919\n",
      "141510000\n",
      "Значение precision: 0.0, порог вероятности: 0.8928928928928929\n",
      "141510000\n",
      "Значение precision: 0.0, порог вероятности: 0.8938938938938938\n",
      "141510000\n",
      "Значение precision: 0.0, порог вероятности: 0.8948948948948949\n",
      "141510000\n",
      "Значение precision: 0.0, порог вероятности: 0.8958958958958959\n",
      "141510000\n",
      "Значение precision: 0.0, порог вероятности: 0.8968968968968969\n",
      "141510000\n",
      "Значение precision: 0.0, порог вероятности: 0.8978978978978979\n",
      "141510000\n",
      "Значение precision: 0.0, порог вероятности: 0.8988988988988988\n",
      "141510000\n",
      "Значение precision: 0.0, порог вероятности: 0.8998998998998999\n",
      "141510000\n",
      "Значение precision: 0.0, порог вероятности: 0.9009009009009009\n",
      "141510000\n",
      "Значение precision: 0.0, порог вероятности: 0.9019019019019019\n",
      "141510000\n",
      "Значение precision: 0.0, порог вероятности: 0.9029029029029029\n",
      "141510000\n",
      "Значение precision: 0.0, порог вероятности: 0.9039039039039038\n",
      "141510000\n",
      "Значение precision: 0.0, порог вероятности: 0.9049049049049049\n",
      "141510000\n",
      "Значение precision: 0.0, порог вероятности: 0.9059059059059059\n",
      "141510000\n",
      "Значение precision: 0.0, порог вероятности: 0.9069069069069069\n",
      "141510000\n",
      "Значение precision: 0.0, порог вероятности: 0.9079079079079079\n",
      "141510000\n",
      "Значение precision: 0.0, порог вероятности: 0.9089089089089089\n",
      "141510000\n",
      "Значение precision: 0.0, порог вероятности: 0.9099099099099099\n",
      "141510000\n",
      "Значение precision: 0.0, порог вероятности: 0.9109109109109109\n",
      "141510000\n",
      "Значение precision: 0.0, порог вероятности: 0.9119119119119119\n",
      "141510000\n",
      "Значение precision: 0.0, порог вероятности: 0.9129129129129129\n",
      "141510000\n",
      "Значение precision: 0.0, порог вероятности: 0.9139139139139139\n",
      "141510000\n",
      "Значение precision: 0.0, порог вероятности: 0.914914914914915\n",
      "141510000\n",
      "Значение precision: 0.0, порог вероятности: 0.9159159159159159\n",
      "141510000\n",
      "Значение precision: 0.0, порог вероятности: 0.9169169169169169\n",
      "141510000\n",
      "Значение precision: 0.0, порог вероятности: 0.9179179179179179\n",
      "141510000\n",
      "Значение precision: 0.0, порог вероятности: 0.9189189189189189\n",
      "141510000\n",
      "Значение precision: 0.0, порог вероятности: 0.91991991991992\n",
      "141510000\n",
      "Значение precision: 0.0, порог вероятности: 0.9209209209209209\n",
      "141510000\n",
      "Значение precision: 0.0, порог вероятности: 0.9219219219219219\n",
      "141510000\n",
      "Значение precision: 0.0, порог вероятности: 0.9229229229229229\n",
      "141510000\n",
      "Значение precision: 0.0, порог вероятности: 0.9239239239239239\n",
      "141510000\n",
      "Значение precision: 0.0, порог вероятности: 0.924924924924925\n",
      "141510000\n",
      "Значение precision: 0.0, порог вероятности: 0.9259259259259259\n",
      "141510000\n",
      "Значение precision: 0.0, порог вероятности: 0.9269269269269269\n",
      "141510000\n",
      "Значение precision: 0.0, порог вероятности: 0.9279279279279279\n",
      "141510000\n",
      "Значение precision: 0.0, порог вероятности: 0.9289289289289289\n",
      "141510000\n",
      "Значение precision: 0.0, порог вероятности: 0.92992992992993\n",
      "141510000\n",
      "Значение precision: 0.0, порог вероятности: 0.9309309309309309\n",
      "141510000\n",
      "Значение precision: 0.0, порог вероятности: 0.9319319319319319\n",
      "141510000\n",
      "Значение precision: 0.0, порог вероятности: 0.9329329329329329\n",
      "141510000\n",
      "Значение precision: 0.0, порог вероятности: 0.933933933933934\n",
      "141510000\n",
      "Значение precision: 0.0, порог вероятности: 0.934934934934935\n",
      "141510000\n",
      "Значение precision: 0.0, порог вероятности: 0.9359359359359359\n",
      "141510000\n",
      "Значение precision: 0.0, порог вероятности: 0.9369369369369369\n",
      "141510000\n",
      "Значение precision: 0.0, порог вероятности: 0.9379379379379379\n",
      "141510000\n",
      "Значение precision: 0.0, порог вероятности: 0.938938938938939\n",
      "141510000\n",
      "Значение precision: 0.0, порог вероятности: 0.93993993993994\n",
      "141510000\n",
      "Значение precision: 0.0, порог вероятности: 0.9409409409409409\n",
      "141510000\n",
      "Значение precision: 0.0, порог вероятности: 0.9419419419419419\n",
      "141510000\n",
      "Значение precision: 0.0, порог вероятности: 0.9429429429429429\n",
      "141510000\n",
      "Значение precision: 0.0, порог вероятности: 0.943943943943944\n",
      "141510000\n",
      "Значение precision: 0.0, порог вероятности: 0.944944944944945\n",
      "141510000\n",
      "Значение precision: 0.0, порог вероятности: 0.9459459459459459\n",
      "141510000\n",
      "Значение precision: 0.0, порог вероятности: 0.9469469469469469\n",
      "141510000\n",
      "Значение precision: 0.0, порог вероятности: 0.9479479479479479\n",
      "141510000\n",
      "Значение precision: 0.0, порог вероятности: 0.948948948948949\n",
      "141510000\n",
      "Значение precision: 0.0, порог вероятности: 0.94994994994995\n",
      "141510000\n",
      "Значение precision: 0.0, порог вероятности: 0.950950950950951\n",
      "141510000\n",
      "Значение precision: 0.0, порог вероятности: 0.9519519519519519\n",
      "141510000\n",
      "Значение precision: 0.0, порог вероятности: 0.9529529529529529\n",
      "141510000\n",
      "Значение precision: 0.0, порог вероятности: 0.953953953953954\n",
      "141510000\n",
      "Значение precision: 0.0, порог вероятности: 0.954954954954955\n",
      "141510000\n",
      "Значение precision: 0.0, порог вероятности: 0.955955955955956\n",
      "141510000\n",
      "Значение precision: 0.0, порог вероятности: 0.9569569569569569\n",
      "141510000\n",
      "Значение precision: 0.0, порог вероятности: 0.9579579579579579\n",
      "141510000\n",
      "Значение precision: 0.0, порог вероятности: 0.958958958958959\n",
      "141510000\n",
      "Значение precision: 0.0, порог вероятности: 0.95995995995996\n",
      "141510000\n",
      "Значение precision: 0.0, порог вероятности: 0.960960960960961\n",
      "141510000\n",
      "Значение precision: 0.0, порог вероятности: 0.9619619619619619\n",
      "141510000\n",
      "Значение precision: 0.0, порог вероятности: 0.9629629629629629\n",
      "141510000\n",
      "Значение precision: 0.0, порог вероятности: 0.963963963963964\n",
      "141510000\n",
      "Значение precision: 0.0, порог вероятности: 0.964964964964965\n",
      "141510000\n",
      "Значение precision: 0.0, порог вероятности: 0.965965965965966\n",
      "141510000\n",
      "Значение precision: 0.0, порог вероятности: 0.9669669669669669\n",
      "141510000\n",
      "Значение precision: 0.0, порог вероятности: 0.9679679679679679\n",
      "141510000\n",
      "Значение precision: 0.0, порог вероятности: 0.968968968968969\n",
      "141510000\n",
      "Значение precision: 0.0, порог вероятности: 0.96996996996997\n",
      "141510000\n",
      "Значение precision: 0.0, порог вероятности: 0.970970970970971\n",
      "141510000\n",
      "Значение precision: 0.0, порог вероятности: 0.9719719719719719\n",
      "141510000\n",
      "Значение precision: 0.0, порог вероятности: 0.9729729729729729\n",
      "141510000\n",
      "Значение precision: 0.0, порог вероятности: 0.973973973973974\n",
      "141510000\n",
      "Значение precision: 0.0, порог вероятности: 0.974974974974975\n",
      "141510000\n",
      "Значение precision: 0.0, порог вероятности: 0.975975975975976\n",
      "141510000\n",
      "Значение precision: 0.0, порог вероятности: 0.9769769769769769\n",
      "141510000\n",
      "Значение precision: 0.0, порог вероятности: 0.9779779779779779\n",
      "141510000\n",
      "Значение precision: 0.0, порог вероятности: 0.978978978978979\n",
      "141510000\n",
      "Значение precision: 0.0, порог вероятности: 0.97997997997998\n",
      "141510000\n",
      "Значение precision: 0.0, порог вероятности: 0.980980980980981\n"
     ]
    },
    {
     "name": "stdout",
     "output_type": "stream",
     "text": [
      "141510000\n",
      "Значение precision: 0.0, порог вероятности: 0.9819819819819819\n",
      "141510000\n",
      "Значение precision: 0.0, порог вероятности: 0.9829829829829829\n",
      "141510000\n",
      "Значение precision: 0.0, порог вероятности: 0.983983983983984\n",
      "141510000\n",
      "Значение precision: 0.0, порог вероятности: 0.984984984984985\n",
      "141510000\n",
      "Значение precision: 0.0, порог вероятности: 0.985985985985986\n",
      "141510000\n",
      "Значение precision: 0.0, порог вероятности: 0.986986986986987\n",
      "141510000\n",
      "Значение precision: 0.0, порог вероятности: 0.9879879879879879\n",
      "141510000\n",
      "Значение precision: 0.0, порог вероятности: 0.988988988988989\n",
      "141510000\n",
      "Значение precision: 0.0, порог вероятности: 0.98998998998999\n",
      "141510000\n",
      "Значение precision: 0.0, порог вероятности: 0.990990990990991\n",
      "141510000\n",
      "Значение precision: 0.0, порог вероятности: 0.991991991991992\n",
      "141510000\n",
      "Значение precision: 0.0, порог вероятности: 0.992992992992993\n",
      "141510000\n",
      "Значение precision: 0.0, порог вероятности: 0.993993993993994\n",
      "141510000\n",
      "Значение precision: 0.0, порог вероятности: 0.994994994994995\n",
      "141510000\n",
      "Значение precision: 0.0, порог вероятности: 0.995995995995996\n",
      "141510000\n",
      "Значение precision: 0.0, порог вероятности: 0.996996996996997\n",
      "141510000\n",
      "Значение precision: 0.0, порог вероятности: 0.997997997997998\n",
      "141510000\n",
      "Значение precision: 0.0, порог вероятности: 0.998998998998999\n",
      "141510000\n",
      "Значение precision: 0.0, порог вероятности: 1.0\n"
     ]
    }
   ],
   "source": [
    "money_for_pos = -100000\n",
    "money_for_neg = 5000\n",
    "\n",
    "threshold_arr = np.linspace(0, 1, 1000)\n",
    "for threshold in threshold_arr:\n",
    "    predictions = probs[:, 1] > threshold\n",
    "    score = precision_score(y_test, predictions)\n",
    "    print(np.sum(y_test[predictions == 0] == 0) * money_for_neg +  \n",
    "          np.sum(y_test[predictions == 0] == 1) * money_for_pos)\n",
    "    print(f'Значение precision: {score}, порог вероятности: {threshold}')"
   ]
  },
  {
   "cell_type": "markdown",
   "metadata": {},
   "source": [
    "А на каком значение порога это разница максимальна? Скольким клиентам мы отказали в обслуживании?"
   ]
  },
  {
   "cell_type": "markdown",
   "metadata": {},
   "source": [
    "??"
   ]
  },
  {
   "cell_type": "markdown",
   "metadata": {},
   "source": [
    "## Часть 5 (бонус). Vowpal Wabbit"
   ]
  },
  {
   "cell_type": "markdown",
   "metadata": {},
   "source": [
    "В этой части мы научимся использовать библиотеку [vowpal wabbit](https://github.com/JohnLangford/vowpal_wabbit). У неё есть несколько особенностей:\n",
    "- можно обучать только линейные модели, но за счёт большого количества опций и возможностей по усложнению, можно построить и довольно сложные вещи\n",
    "- можно обучаться на выборках, которые не помещаются в оперативную память\n",
    "- можно обрабатывать большое количество признаков (например, мешки слов текстов) и \"на ходу\" строить на них комбинации (не переделывать датасет)\n",
    "- другие особенности, как например, активное обучение и возможность распараллеленного обучения.\n",
    "\n",
    "Основные особенности при использовании следующие:\n",
    "- Свой формат данных: \"label |A feature1:value1 |B feature2:value2\", позволяющий, во-первых, указывать не все признаки (не нужно хранить много нулей в разреженных данных), а во-вторых, группировать и иметь возможность отключать или взаимодействовать (\"отключать\", добавлять квадратичные признаки и т.д.) сразу со всей группой признаков. По этой причине вам понадобится реализовать конвертер датасета и загрузку своих предсказаний, чтобы посчитать качество предсказаний.\n",
    "- Запуск обучения из командной строки (однако можно запускать эти же команды из ноутбука).\n",
    "\n",
    "В этот раз мы будем использовать данные с конкурса [Kaggle Avazu Click-Through Rate Prediction](https://www.kaggle.com/c/avazu-ctr-prediction) по предсказанию кликов (бинарная классификация). В обучающей выборке 40kk строк, так что у вас не должно быть желания загружать их в оперативную память. Предлагается взять первые 30kk строк в качестве обучающей выборки и оставшуюся часть для тестирования.\n",
    "\n",
    "__Задание 13.__ Работа с vowpal wabbit. \n",
    "\n",
    "- Скачайте данные, разделите их на обучающую и тестовую выборки.\n",
    "- Подготовьте функции для конвертирования датасета в формат vowpal wabbit и для загрузки предсказаний в ноутбук для подсчёта функционала.\n",
    "- Сделайте простейшее решение на vowpal wabbit. Оцените качество.\n",
    "- Изучите возможности и параметры vowpal wabbit. Поэксперементируйте. \n",
    "- Расскажите, что интересного вы узнали (какие-нибудь особенности, режимы работы, фишки, параметры).\n",
    "- Удалось ли вам улучшить качество базовой модели? Насколько? Что ещё можно было бы попробовать?\n",
    "\n",
    "В этом задании предусмотрены баллы по двум критериям:\n",
    "- достижение ROC-AUC на отложенной выборкеболее 0.738 __(1 балл)__\n",
    "- несколько занимательных фактов и возможностей vowpal-wabbit __(0.5 балла)__."
   ]
  },
  {
   "cell_type": "markdown",
   "metadata": {},
   "source": [
    "Расширенная информация о формате данных в VW:\n",
    "\n",
    "[Label] [Importance] [Tag]|Namespace Features |Namespace Features ... |Namespace Features\n",
    "\n",
    "\n",
    "Namespace=String[:Value]\n",
    "\n",
    "\n",
    "Features=(String[:Value] )\n",
    "\n",
    "\n",
    "где [] обозначает необязательные элементы, а (...)* означает повтор неопределенное число раз.\n",
    "\n",
    "\n",
    "- Label является числом, \"правильным\" ответом. В случае классификации обычно принимает значение 1/-1, а в случае регрессии некоторое вещественное число\n",
    "- Importance является числом и отвечает за вес примера при обучении. Это позволяет бороться с проблемой несбалансированных данных, изученной нами ранее\n",
    "- Tag является некоторой строкой без пробелов и отвечает за некоторое \"название\" примера, которое сохраняется при предсказании ответа. Для того, чтобы отделить Tag от Importance лучше начинать Tag с символа '.\n",
    "- Namespace служит для создания отдельных пространств признаков. В аргументах Namespace именуются по первой букве, это нужно учитывать при выборе их названий\n",
    "- Features являются непосредственно признаками объекта внутри Namespace. Признаки по умолчанию имеют вес 1.0, но его можно переопределить, к примеру feature:0.1.\n"
   ]
  },
  {
   "cell_type": "code",
   "execution_count": 28,
   "metadata": {},
   "outputs": [
    {
     "name": "stdout",
     "output_type": "stream",
     "text": [
      "/bin/sh: 1: vw: not found\r\n"
     ]
    }
   ],
   "source": [
    "!vw house_dataset"
   ]
  },
  {
   "cell_type": "markdown",
   "metadata": {},
   "source": [
    "Будем использовать id из признаков, как Tag, а 1.0, как Importance."
   ]
  },
  {
   "cell_type": "code",
   "execution_count": 163,
   "metadata": {},
   "outputs": [],
   "source": [
    "import tqdm\n",
    "\n",
    "\n",
    "def convert_line_to_vw_format(line, features_names, valid=False):\n",
    "    ##Уберем id в Tag, так как он не несет никакой полезной информации для модели\n",
    "    features_list = line.split(',')\n",
    "    features_names = features_names[2:]\n",
    "    id_feature = features_list.pop(0)\n",
    "    target = 1 if features_list.pop(0) == '1' else -1\n",
    "    if valid:\n",
    "        vw_line = '\\'' + ' |' #str(id_feature) + ' |'\n",
    "    else:\n",
    "        vw_line = str(target) + ' 1.0 ' + '\\'' + str(id_feature) + ' |'\n",
    "        \n",
    "    for feature in features_list:\n",
    "        vw_line += ' ' + str(feature)\n",
    "    return vw_line\n",
    "    \n",
    "\n",
    "\n",
    "\n",
    "def convert_csv_to_vw_format(path_to_input_file,\n",
    "                             path_to_output_file_train,\n",
    "                             path_to_output_file_valid,\n",
    "                             lines_amount_train=5,\n",
    "                             lines_amount_valid=5):\n",
    "    with open(path_to_input_file, 'r') as input_file:\n",
    "            i = 0\n",
    "            feature_names = []\n",
    "            with open(path_to_output_file_train, 'w+') as output_file_train:\n",
    "                for line in tqdm.tqdm_notebook(input_file, total=lines_amount_train):\n",
    "                    if i == 0:\n",
    "                        feature_names = line.split(',')\n",
    "                        print(feature_names)\n",
    "                    output_file_train.write(convert_line_to_vw_format(line, feature_names))\n",
    "                    i += 1\n",
    "                    if i >= lines_amount_train:\n",
    "                        break\n",
    "            i = 0\n",
    "            with open(path_to_output_file_valid, 'w+') as output_file_valid:\n",
    "                for line in tqdm.tqdm_notebook(input_file, total=lines_amount_valid):\n",
    "                    output_file_valid.write(convert_line_to_vw_format(line, feature_names, valid=True))\n",
    "                    i += 1\n",
    "                    if i >= lines_amount_valid:\n",
    "                        break\n",
    "\n",
    "\n",
    "def target_value_to_file(path_to_input_file, path_to_output_file):\n",
    "    with open(path_to_input_file, 'r') as input_file:\n",
    "        with open(path_to_output_file, 'w') as output_file:\n",
    "            for line in tqdm.tqdm_notebook(input_file):\n",
    "                target = 1 if line.split(',')[1] == '1' else -1\n",
    "                output_file.write(str(target) + '\\n')\n",
    "            \n",
    "    "
   ]
  },
  {
   "cell_type": "code",
   "execution_count": 164,
   "metadata": {},
   "outputs": [
    {
     "data": {
      "application/vnd.jupyter.widget-view+json": {
       "model_id": "4306f1a8683044518b612a91c259641f",
       "version_major": 2,
       "version_minor": 0
      },
      "text/plain": [
       "HBox(children=(IntProgress(value=0, max=30000000), HTML(value='')))"
      ]
     },
     "metadata": {},
     "output_type": "display_data"
    },
    {
     "name": "stdout",
     "output_type": "stream",
     "text": [
      "['id', 'click', 'hour', 'C1', 'banner_pos', 'site_id', 'site_domain', 'site_category', 'app_id', 'app_domain', 'app_category', 'device_id', 'device_ip', 'device_model', 'device_type', 'device_conn_type', 'C14', 'C15', 'C16', 'C17', 'C18', 'C19', 'C20', 'C21\\n']\n"
     ]
    },
    {
     "data": {
      "application/vnd.jupyter.widget-view+json": {
       "model_id": "598a04a7b0884ac8a5fe67b65247e5c5",
       "version_major": 2,
       "version_minor": 0
      },
      "text/plain": [
       "HBox(children=(IntProgress(value=0, max=10000000), HTML(value='')))"
      ]
     },
     "metadata": {},
     "output_type": "display_data"
    }
   ],
   "source": [
    "convert_csv_to_vw_format('./data_vw/train.csv',\n",
    "                         './data_vw/train.vw',\n",
    "                         './data_vw/valid.vw',\n",
    "                         lines_amount_train=3e7,\n",
    "                         lines_amount_valid=1e7)"
   ]
  },
  {
   "cell_type": "markdown",
   "metadata": {},
   "source": [
    "Запишем все таргеты трейна и валидационной выборки в файл для удобства."
   ]
  },
  {
   "cell_type": "code",
   "execution_count": 165,
   "metadata": {},
   "outputs": [],
   "source": [
    "# target_value_to_file('./data_vw/train.csv', './data_vw/train_targets')"
   ]
  },
  {
   "cell_type": "code",
   "execution_count": 200,
   "metadata": {},
   "outputs": [
    {
     "name": "stdout",
     "output_type": "stream",
     "text": [
      "final_regressor = ./data_vw/model.vw\n",
      "Num weight bits = 18\n",
      "learning rate = 0.5\n",
      "initial_t = 0\n",
      "power_t = 0.5\n",
      "using no cache\n",
      "Reading datafile = ./data_vw/train.vw\n",
      "num sources = 1\n",
      "average  since         example        example  current  current  current\n",
      "loss     last          counter         weight    label  predict features\n",
      "0.693147 0.693147            1            1.0  -1.0000   0.5000       23\n",
      "0.677471 0.661796            2            2.0  -1.0000   0.4841       23\n",
      "0.425498 0.173524            4            4.0  -1.0000   0.1077       23\n",
      "0.262389 0.099281            8            8.0  -1.0000   0.0750       23\n",
      "0.396256 0.530123           16           16.0  -1.0000   0.1405       23\n",
      "0.412932 0.429607           32           32.0  -1.0000   0.1981       23\n",
      "0.531683 0.650435           64           64.0  -1.0000   0.1513       23\n",
      "0.537754 0.543824          128          128.0  -1.0000   0.2736       23\n",
      "0.482342 0.426931          256          256.0  -1.0000   0.1093       23\n",
      "0.459986 0.437629          512          512.0  -1.0000   0.0260       23\n",
      "0.435270 0.410555         1024         1024.0   1.0000   0.2159       23\n",
      "0.431350 0.427430         2048         2048.0  -1.0000   0.0604       23\n",
      "0.433181 0.435013         4096         4096.0  -1.0000   0.1649       23\n",
      "0.425752 0.418323         8192         8192.0  -1.0000   0.1808       23\n",
      "0.416389 0.407025        16384        16384.0  -1.0000   0.0226       23\n",
      "0.417062 0.417734        32768        32768.0  -1.0000   0.0668       23\n",
      "0.411060 0.405059        65536        65536.0  -1.0000   0.0239       23\n",
      "0.406466 0.401873       131072       131072.0  -1.0000   0.0242       23\n",
      "0.401287 0.396108       262144       262144.0  -1.0000   0.2315       23\n",
      "0.384135 0.366984       524288       524288.0  -1.0000   0.1003       23\n",
      "0.376045 0.367954      1048576      1048576.0  -1.0000   0.0971       23\n",
      "0.377786 0.379527      2097152      2097152.0  -1.0000   0.2177       23\n",
      "0.399466 0.421146      4194304      4194304.0  -1.0000   0.2553       23\n",
      "0.382534 0.365603      8388608      8388608.0  -1.0000   0.1254       23\n",
      "0.397119 0.411705     16777216     16777216.0  -1.0000   0.2126       23\n",
      "\n",
      "finished run\n",
      "number of examples per pass = 30000000\n",
      "passes used = 1\n",
      "weighted example sum = 30000000.000000\n",
      "weighted label sum = -19615276.000000\n",
      "average loss = 0.399691\n",
      "best constant = -1.563963\n",
      "best constant's loss = 0.460734\n",
      "total feature number = 690000000\n"
     ]
    }
   ],
   "source": [
    "!vw -d ./data_vw/train.vw --loss_function=logistic --link=logistic -f ./data_vw/model.vw"
   ]
  },
  {
   "cell_type": "code",
   "execution_count": 201,
   "metadata": {
    "scrolled": true
   },
   "outputs": [
    {
     "name": "stdout",
     "output_type": "stream",
     "text": [
      "only testing\n",
      "predictions = ./data_vw/valid_predictions\n",
      "Num weight bits = 18\n",
      "learning rate = 0.5\n",
      "initial_t = 0\n",
      "power_t = 0.5\n",
      "using no cache\n",
      "Reading datafile = ./data_vw/valid.vw\n",
      "num sources = 1\n",
      "average  since         example        example  current  current  current\n",
      "loss     last          counter         weight    label  predict features\n",
      "    n.a.     n.a.            1            1.0  unknown   0.1473       23\n",
      "    n.a.     n.a.            2            2.0  unknown   0.0365       23\n",
      "    n.a.     n.a.            4            4.0  unknown   0.0431       23\n",
      "    n.a.     n.a.            8            8.0  unknown   0.0392       23\n",
      "    n.a.     n.a.           16           16.0  unknown   0.0312       23\n",
      "    n.a.     n.a.           32           32.0  unknown   0.0120       23\n",
      "    n.a.     n.a.           64           64.0  unknown   0.1314       23\n",
      "    n.a.     n.a.          128          128.0  unknown   0.0513       23\n",
      "    n.a.     n.a.          256          256.0  unknown   0.0267       23\n",
      "    n.a.     n.a.          512          512.0  unknown   0.0913       23\n",
      "    n.a.     n.a.         1024         1024.0  unknown   0.0568       23\n",
      "    n.a.     n.a.         2048         2048.0  unknown   0.0772       23\n",
      "    n.a.     n.a.         4096         4096.0  unknown   0.3973       23\n",
      "    n.a.     n.a.         8192         8192.0  unknown   0.1500       23\n",
      "    n.a.     n.a.        16384        16384.0  unknown   0.0865       23\n",
      "    n.a.     n.a.        32768        32768.0  unknown   0.0203       23\n",
      "    n.a.     n.a.        65536        65536.0  unknown   0.1009       23\n",
      "    n.a.     n.a.       131072       131072.0  unknown   0.0167       23\n",
      "    n.a.     n.a.       262144       262144.0  unknown   0.0021       23\n",
      "    n.a.     n.a.       524288       524288.0  unknown   0.0232       23\n",
      "    n.a.     n.a.      1048576      1048576.0  unknown   0.1849       23\n",
      "    n.a.     n.a.      2097152      2097152.0  unknown   0.0942       23\n",
      "    n.a.     n.a.      4194304      4194304.0  unknown   0.1943       23\n",
      "    n.a.     n.a.      8388608      8388608.0  unknown   0.0160       23\n",
      "\n",
      "finished run\n",
      "number of examples per pass = 10000000\n",
      "passes used = 1\n",
      "weighted example sum = 10000000.000000\n",
      "weighted label sum = 0.000000\n",
      "average loss = n.a.\n",
      "total feature number = 230000000\n"
     ]
    }
   ],
   "source": [
    "!vw -i ./data_vw/model.vw -t -d ./data_vw/valid.vw \\\n",
    "-p ./data_vw/valid_predictions"
   ]
  },
  {
   "cell_type": "markdown",
   "metadata": {},
   "source": [
    "Пока интересных особенностей VW не нашел, зато узнал, что с помощью matplotlib можно рисовать \"мультяшные\" графики))"
   ]
  },
  {
   "cell_type": "code",
   "execution_count": 202,
   "metadata": {},
   "outputs": [
    {
     "data": {
      "image/png": "[encoded data removed]",
      "text/plain": [
       "<Figure size 432x288 with 1 Axes>"
      ]
     },
     "metadata": {},
     "output_type": "display_data"
    }
   ],
   "source": [
    "from sklearn.metrics import roc_auc_score, roc_curve\n",
    "import matplotlib.pyplot as plt\n",
    "\n",
    "\n",
    "with open('./data_vw/valid_predictions') as pred_file:\n",
    "    test_prediction = [float(label) \n",
    "                             for label in pred_file.readlines()]\n",
    "    \n",
    "# with open('./data_vw/train_targets') as pred_file:\n",
    "#     test_labels = [float(label) \n",
    "#                              for label in pred_file.readlines()]\n",
    "\n",
    "auc = roc_auc_score(test_labels[30000000:40000000], test_prediction)\n",
    "a_roc_curve = roc_curve(test_labels[30000000:40000000], test_prediction)\n",
    "\n",
    "with plt.xkcd():\n",
    "    plt.plot(a_roc_curve[0], a_roc_curve[1]);\n",
    "    plt.plot([0,1], [0,1])\n",
    "    plt.xlabel('FPR'); plt.ylabel('TPR')\n",
    "    plt.title('test AUC = %f' % (auc))\n",
    "    plt.axis([-0.05,1.05,-0.05,1.05]);"
   ]
  },
  {
   "cell_type": "markdown",
   "metadata": {},
   "source": [
    "Бэйзлайн есть. Ну что же, пора изучать библиотеку подробнее.\n",
    "- Параметр **--passes N** отвечает за количество эпох (сколько раз алгоритм прошел всю тренировочную выборку)\n",
    "Для реализации этого подхода пришлось изучить еще один параметр:\n",
    "- **--cache_file** - файл, в котором будет храниться информация о модели при обучении\n",
    "\n",
    "Попробуем пройти выборку 5 раз:"
   ]
  },
  {
   "cell_type": "code",
   "execution_count": 214,
   "metadata": {
    "scrolled": true
   },
   "outputs": [
    {
     "name": "stdout",
     "output_type": "stream",
     "text": [
      "final_regressor = ./data_vw/model.vw\n",
      "Num weight bits = 18\n",
      "learning rate = 0.5\n",
      "initial_t = 0\n",
      "power_t = 0.5\n",
      "decay_learning_rate = 1\n",
      "using cache_file = ./data_vw/cache_for_passes\n",
      "ignoring text input in favor of cache input\n",
      "num sources = 1\n",
      "average  since         example        example  current  current  current\n",
      "loss     last          counter         weight    label  predict features\n",
      "0.693147 0.693147            1            1.0  -1.0000   0.5000       23\n",
      "0.677471 0.661796            2            2.0  -1.0000   0.4841       23\n",
      "0.425498 0.173524            4            4.0  -1.0000   0.1077       23\n",
      "0.262389 0.099281            8            8.0  -1.0000   0.0750       23\n",
      "0.158913 0.055436           16           16.0  -1.0000   0.0155       23\n",
      "0.416055 0.673197           32           32.0  -1.0000   0.1978       23\n",
      "0.523412 0.630770           64           64.0  -1.0000   0.3431       23\n",
      "0.545696 0.567980          128          128.0  -1.0000   0.1192       23\n",
      "0.489370 0.433045          256          256.0  -1.0000   0.0971       23\n",
      "0.449527 0.409683          512          512.0  -1.0000   0.0452       23\n",
      "0.439307 0.429088         1024         1024.0  -1.0000   0.2200       23\n",
      "0.418811 0.398315         2048         2048.0  -1.0000   0.2953       23\n",
      "0.428617 0.438423         4096         4096.0  -1.0000   0.2818       23\n",
      "0.426895 0.425173         8192         8192.0  -1.0000   0.2016       23\n",
      "0.415210 0.403526        16384        16384.0  -1.0000   0.1230       23\n",
      "0.417813 0.420416        32768        32768.0  -1.0000   0.1861       23\n",
      "0.411574 0.405335        65536        65536.0  -1.0000   0.0871       23\n",
      "0.406105 0.400636       131072       131072.0   1.0000   0.0689       23\n",
      "0.397854 0.389603       262144       262144.0  -1.0000   0.2835       23\n",
      "0.385506 0.373158       524288       524288.0  -1.0000   0.2270       23\n",
      "0.374076 0.362646      1048576      1048576.0  -1.0000   0.0036       23\n",
      "0.381823 0.389570      2097152      2097152.0  -1.0000   0.1067       23\n",
      "0.401401 0.420979      4194304      4194304.0  -1.0000   0.2385       23\n",
      "0.384324 0.367247      8388608      8388608.0  -1.0000   0.0124       23\n",
      "0.399060 0.413795     16777216     16777216.0  -1.0000   0.0490       23\n",
      "0.395803 0.395803     33554432     33554432.0  -1.0000   0.0212       23 h\n",
      "\n",
      "finished run\n",
      "number of examples per pass = 27000000\n",
      "passes used = 2\n",
      "weighted example sum = 54000000.000000\n",
      "weighted label sum = -35306696.000000\n",
      "average loss = 0.397765 h\n",
      "best constant = -1.563911\n",
      "best constant's loss = 0.460746\n",
      "total feature number = 1242000000\n",
      "CPU times: user 231 ms, sys: 140 ms, total: 372 ms\n",
      "Wall time: 35.4 s\n"
     ]
    }
   ],
   "source": [
    "%%time\n",
    "!vw -d ./data_vw/train.vw --loss_function=logistic --link=logistic --passes 2 --cache_file\\\n",
    "./data_vw/cache_for_passes -f ./data_vw/model.vw"
   ]
  },
  {
   "cell_type": "code",
   "execution_count": 215,
   "metadata": {
    "scrolled": true
   },
   "outputs": [
    {
     "name": "stdout",
     "output_type": "stream",
     "text": [
      "only testing\n",
      "predictions = ./data_vw/valid_predictions\n",
      "Num weight bits = 18\n",
      "learning rate = 0.5\n",
      "initial_t = 0\n",
      "power_t = 0.5\n",
      "using cache_file = ./data_vw/cache_for_passes_valid\n",
      "ignoring text input in favor of cache input\n",
      "num sources = 1\n",
      "average  since         example        example  current  current  current\n",
      "loss     last          counter         weight    label  predict features\n",
      "    n.a.     n.a.            1            1.0  unknown   0.1325       23\n",
      "    n.a.     n.a.            2            2.0  unknown   0.0341       23\n",
      "    n.a.     n.a.            4            4.0  unknown   0.0389       23\n",
      "    n.a.     n.a.            8            8.0  unknown   0.0417       23\n",
      "    n.a.     n.a.           16           16.0  unknown   0.0281       23\n",
      "    n.a.     n.a.           32           32.0  unknown   0.0113       23\n",
      "    n.a.     n.a.           64           64.0  unknown   0.1378       23\n",
      "    n.a.     n.a.          128          128.0  unknown   0.0529       23\n",
      "    n.a.     n.a.          256          256.0  unknown   0.0275       23\n",
      "    n.a.     n.a.          512          512.0  unknown   0.0910       23\n",
      "    n.a.     n.a.         1024         1024.0  unknown   0.0553       23\n",
      "    n.a.     n.a.         2048         2048.0  unknown   0.0706       23\n",
      "    n.a.     n.a.         4096         4096.0  unknown   0.3945       23\n",
      "    n.a.     n.a.         8192         8192.0  unknown   0.1495       23\n",
      "    n.a.     n.a.        16384        16384.0  unknown   0.0937       23\n",
      "    n.a.     n.a.        32768        32768.0  unknown   0.0206       23\n",
      "    n.a.     n.a.        65536        65536.0  unknown   0.1028       23\n",
      "    n.a.     n.a.       131072       131072.0  unknown   0.0176       23\n",
      "    n.a.     n.a.       262144       262144.0  unknown   0.0029       23\n",
      "    n.a.     n.a.       524288       524288.0  unknown   0.0235       23\n",
      "    n.a.     n.a.      1048576      1048576.0  unknown   0.2026       23\n",
      "    n.a.     n.a.      2097152      2097152.0  unknown   0.0798       23\n",
      "    n.a.     n.a.      4194304      4194304.0  unknown   0.1920       23\n",
      "    n.a.     n.a.      8388608      8388608.0  unknown   0.0171       23\n",
      "\n",
      "finished run\n",
      "number of examples per pass = 10000000\n",
      "passes used = 1\n",
      "weighted example sum = 10000000.000000\n",
      "weighted label sum = 0.000000\n",
      "average loss = n.a.\n",
      "total feature number = 230000000\n"
     ]
    }
   ],
   "source": [
    "!vw -i ./data_vw/model.vw -t --cache_file\\\n",
    "./data_vw/cache_for_passes_valid -d ./data_vw/valid.vw -p ./data_vw/valid_predictions"
   ]
  },
  {
   "cell_type": "code",
   "execution_count": 216,
   "metadata": {},
   "outputs": [
    {
     "data": {
      "image/png": "[encoded data removed]",
      "text/plain": [
       "<Figure size 432x288 with 1 Axes>"
      ]
     },
     "metadata": {},
     "output_type": "display_data"
    }
   ],
   "source": [
    "from sklearn.metrics import roc_auc_score, roc_curve\n",
    "import matplotlib.pyplot as plt\n",
    "\n",
    "with open('./data_vw/valid_predictions') as pred_file:\n",
    "    test_prediction = [float(label) \n",
    "                             for label in pred_file.readlines()]\n",
    "    \n",
    "# with open('./data_vw/train_targets') as pred_file:\n",
    "#     test_labels = [float(label) \n",
    "#                              for label in pred_file.readlines()]\n",
    "\n",
    "auc = roc_auc_score(test_labels[30000000:40000000], test_prediction)\n",
    "a_roc_curve = roc_curve(test_labels[30000000:40000000], test_prediction)\n",
    "\n",
    "with plt.xkcd():\n",
    "    plt.plot(a_roc_curve[0], a_roc_curve[1]);\n",
    "    plt.plot([0,1], [0,1])\n",
    "    plt.xlabel('FPR'); plt.ylabel('TPR')\n",
    "    plt.title('test AUC = %f' % (auc))\n",
    "    plt.axis([-0.05,1.05,-0.05,1.05]);\n"
   ]
  },
  {
   "cell_type": "markdown",
   "metadata": {},
   "source": [
    "Качество стало хуже :("
   ]
  },
  {
   "cell_type": "code",
   "execution_count": 218,
   "metadata": {},
   "outputs": [],
   "source": [
    "def plot_roc_auc_vw(path_to_data):\n",
    "    with open(path_to_data) as pred_file:\n",
    "        test_prediction = [float(label) \n",
    "                                 for label in pred_file.readlines()]\n",
    "    \n",
    "    # with open('./data_vw/train_targets') as pred_file:\n",
    "    #     test_labels = [float(label) \n",
    "    #                              for label in pred_file.readlines()]\n",
    "\n",
    "    auc = roc_auc_score(test_labels[30000000:40000000], test_prediction)\n",
    "    a_roc_curve = roc_curve(test_labels[30000000:40000000], test_prediction)\n",
    "\n",
    "    with plt.xkcd():\n",
    "        plt.plot(a_roc_curve[0], a_roc_curve[1]);\n",
    "        plt.plot([0,1], [0,1])\n",
    "        plt.xlabel('FPR'); plt.ylabel('TPR')\n",
    "        plt.title('test AUC = %f' % (auc))\n",
    "        plt.axis([-0.05,1.05,-0.05,1.05]);"
   ]
  },
  {
   "cell_type": "code",
   "execution_count": 219,
   "metadata": {},
   "outputs": [
    {
     "data": {
      "image/png": "[encoded data removed]",
      "text/plain": [
       "<Figure size 432x288 with 1 Axes>"
      ]
     },
     "metadata": {},
     "output_type": "display_data"
    }
   ],
   "source": [
    "plot_roc_auc_vw('./data_vw/valid_predictions')"
   ]
  },
  {
   "cell_type": "code",
   "execution_count": 226,
   "metadata": {
    "scrolled": true
   },
   "outputs": [
    {
     "name": "stdout",
     "output_type": "stream",
     "text": [
      "final_regressor = ./data_vw/model.vw\n",
      "Num weight bits = 18\n",
      "learning rate = 0.5\n",
      "initial_t = 0\n",
      "power_t = 0.5\n",
      "decay_learning_rate = 0.95\n",
      "using cache_file = ./data_vw/cache_for_passes\n",
      "ignoring text input in favor of cache input\n",
      "num sources = 1\n",
      "average  since         example        example  current  current  current\n",
      "loss     last          counter         weight    label  predict features\n",
      "0.693147 0.693147            1            1.0  -1.0000   0.5000       23\n",
      "0.594412 0.495677            2            2.0  -1.0000   0.3908       23\n",
      "0.514159 0.433906            4            4.0  -1.0000   0.3411       23\n",
      "0.424952 0.335746            8            8.0  -1.0000   0.2381       23\n",
      "0.272678 0.120403           16           16.0  -1.0000   0.0397       23\n",
      "0.487338 0.701998           32           32.0  -1.0000   0.5147       23\n",
      "0.569048 0.650759           64           64.0  -1.0000   0.3419       23\n",
      "0.560448 0.551848          128          128.0  -1.0000   0.2756       23\n",
      "0.503010 0.445571          256          256.0  -1.0000   0.2183       23\n",
      "0.462021 0.421032          512          512.0  -1.0000   0.1027       23\n",
      "0.451514 0.441008         1024         1024.0  -1.0000   0.2101       23\n",
      "0.450950 0.450386         2048         2048.0  -1.0000   0.1509       23\n",
      "0.459004 0.467058         4096         4096.0  -1.0000   0.1908       23\n",
      "0.453722 0.448441         8192         8192.0  -1.0000   0.2150       23\n",
      "0.436469 0.419215        16384        16384.0  -1.0000   0.1988       23\n",
      "0.433930 0.431391        32768        32768.0  -1.0000   0.1376       23\n",
      "0.425199 0.416468        65536        65536.0  -1.0000   0.0786       23\n",
      "0.418784 0.412370       131072       131072.0   1.0000   0.1948       23\n",
      "0.409838 0.400892       262144       262144.0  -1.0000   0.2327       23\n",
      "0.396197 0.382556       524288       524288.0  -1.0000   0.3046       23\n",
      "0.383567 0.370937      1048576      1048576.0  -1.0000   0.0079       23\n",
      "0.390005 0.396443      2097152      2097152.0  -1.0000   0.0817       23\n",
      "0.407752 0.425499      4194304      4194304.0  -1.0000   0.2558       23\n",
      "0.389104 0.370456      8388608      8388608.0  -1.0000   0.0148       23\n",
      "0.401914 0.414725     16777216     16777216.0  -1.0000   0.0349       23\n",
      "0.398131 0.398131     33554432     33554432.0  -1.0000   0.0544       23 h\n",
      "\n",
      "finished run\n",
      "number of examples per pass = 27000000\n",
      "passes used = 2\n",
      "weighted example sum = 54000000.000000\n",
      "weighted label sum = -35306696.000000\n",
      "average loss = 0.398920 h\n",
      "best constant = -1.563911\n",
      "best constant's loss = 0.460746\n",
      "total feature number = 1242000000\n",
      "CPU times: user 12.6 s, sys: 4.17 s, total: 16.8 s\n",
      "Wall time: 26min 54s\n"
     ]
    }
   ],
   "source": [
    "%%time\n",
    "!vw -d ./data_vw/train.vw --nn=100 --loss_function=logistic --link=logistic --passes 2 --cache_file\\\n",
    "./data_vw/cache_for_passes --decay_learning_rate=.95 -f ./data_vw/model.vw"
   ]
  },
  {
   "cell_type": "code",
   "execution_count": 227,
   "metadata": {
    "scrolled": true
   },
   "outputs": [
    {
     "name": "stdout",
     "output_type": "stream",
     "text": [
      "only testing\n",
      "predictions = ./data_vw/valid_predictions\n",
      "Num weight bits = 18\n",
      "learning rate = 0.5\n",
      "initial_t = 0\n",
      "power_t = 0.5\n",
      "using cache_file = ./data_vw/cache_for_passes_valid\n",
      "ignoring text input in favor of cache input\n",
      "num sources = 1\n",
      "average  since         example        example  current  current  current\n",
      "loss     last          counter         weight    label  predict features\n",
      "    n.a.     n.a.            1            1.0  unknown   0.1233       23\n",
      "    n.a.     n.a.            2            2.0  unknown   0.0243       23\n",
      "    n.a.     n.a.            4            4.0  unknown   0.0337       23\n",
      "    n.a.     n.a.            8            8.0  unknown   0.0433       23\n",
      "    n.a.     n.a.           16           16.0  unknown   0.0245       23\n",
      "    n.a.     n.a.           32           32.0  unknown   0.0093       23\n",
      "    n.a.     n.a.           64           64.0  unknown   0.1681       23\n",
      "    n.a.     n.a.          128          128.0  unknown   0.1018       23\n",
      "    n.a.     n.a.          256          256.0  unknown   0.0272       23\n",
      "    n.a.     n.a.          512          512.0  unknown   0.1261       23\n",
      "    n.a.     n.a.         1024         1024.0  unknown   0.0466       23\n",
      "    n.a.     n.a.         2048         2048.0  unknown   0.0709       23\n",
      "    n.a.     n.a.         4096         4096.0  unknown   0.3091       23\n",
      "    n.a.     n.a.         8192         8192.0  unknown   0.1710       23\n",
      "    n.a.     n.a.        16384        16384.0  unknown   0.0636       23\n",
      "    n.a.     n.a.        32768        32768.0  unknown   0.0225       23\n",
      "    n.a.     n.a.        65536        65536.0  unknown   0.0949       23\n",
      "    n.a.     n.a.       131072       131072.0  unknown   0.0211       23\n",
      "    n.a.     n.a.       262144       262144.0  unknown   0.0048       23\n",
      "    n.a.     n.a.       524288       524288.0  unknown   0.0416       23\n",
      "    n.a.     n.a.      1048576      1048576.0  unknown   0.0992       23\n",
      "    n.a.     n.a.      2097152      2097152.0  unknown   0.1569       23\n",
      "    n.a.     n.a.      4194304      4194304.0  unknown   0.2461       23\n",
      "    n.a.     n.a.      8388608      8388608.0  unknown   0.0178       23\n",
      "\n",
      "finished run\n",
      "number of examples per pass = 10000000\n",
      "passes used = 1\n",
      "weighted example sum = 10000000.000000\n",
      "weighted label sum = 0.000000\n",
      "average loss = n.a.\n",
      "total feature number = 230000000\n"
     ]
    }
   ],
   "source": [
    "!vw -i ./data_vw/model.vw -t --cache_file\\\n",
    "./data_vw/cache_for_passes_valid -d ./data_vw/valid.vw -p ./data_vw/valid_predictions"
   ]
  },
  {
   "cell_type": "code",
   "execution_count": 228,
   "metadata": {
    "scrolled": true
   },
   "outputs": [
    {
     "data": {
      "image/png": "[encoded data removed]",
      "text/plain": [
       "<Figure size 432x288 with 1 Axes>"
      ]
     },
     "metadata": {},
     "output_type": "display_data"
    }
   ],
   "source": [
    "plot_roc_auc_vw('./data_vw/valid_predictions')"
   ]
  },
  {
   "cell_type": "markdown",
   "metadata": {},
   "source": [
    "Почти... Сохраним эту модель и её предсказания для стэкинга/блендинга в дальнейшем. "
   ]
  },
  {
   "cell_type": "code",
   "execution_count": 230,
   "metadata": {},
   "outputs": [
    {
     "name": "stdout",
     "output_type": "stream",
     "text": [
      "final_regressor = ./data_vw/model.vw\n",
      "Num weight bits = 18\n",
      "learning rate = 0.1\n",
      "initial_t = 0\n",
      "power_t = 0.5\n",
      "using no cache\n",
      "Reading datafile = ./data_vw/train.vw\n",
      "num sources = 1\n",
      "average  since         example        example  current  current  current\n",
      "loss     last          counter         weight    label  predict features\n",
      "0.693147 0.693147            1            1.0  -1.0000   0.5000       23\n",
      "0.688530 0.683913            2            2.0  -1.0000   0.4954       23\n",
      "0.575444 0.462357            4            4.0  -1.0000   0.3347       23\n",
      "0.463480 0.351517            8            8.0  -1.0000   0.2714       23\n",
      "0.463364 0.463248           16           16.0  -1.0000   0.2683       23\n",
      "0.432510 0.401655           32           32.0  -1.0000   0.2356       23\n",
      "0.529339 0.626168           64           64.0  -1.0000   0.2175       23\n",
      "0.510788 0.492236          128          128.0  -1.0000   0.2958       23\n",
      "0.468922 0.427057          256          256.0  -1.0000   0.1460       23\n",
      "0.457761 0.446599          512          512.0  -1.0000   0.1442       23\n",
      "0.433758 0.409756         1024         1024.0   1.0000   0.1499       23\n",
      "0.431196 0.428634         2048         2048.0  -1.0000   0.1329       23\n",
      "0.434479 0.437762         4096         4096.0  -1.0000   0.1952       23\n",
      "0.427106 0.419733         8192         8192.0  -1.0000   0.1994       23\n",
      "0.419834 0.412561        16384        16384.0  -1.0000   0.0871       23\n",
      "0.421897 0.423960        32768        32768.0  -1.0000   0.1206       23\n",
      "0.417812 0.413728        65536        65536.0  -1.0000   0.0451       23\n",
      "0.414547 0.411281       131072       131072.0  -1.0000   0.0437       23\n",
      "0.409970 0.405393       262144       262144.0  -1.0000   0.2323       23\n",
      "0.392620 0.375270       524288       524288.0  -1.0000   0.1067       23\n",
      "0.384143 0.375666      1048576      1048576.0  -1.0000   0.0950       23\n",
      "0.384973 0.385803      2097152      2097152.0  -1.0000   0.2686       23\n",
      "0.405176 0.425378      4194304      4194304.0  -1.0000   0.2403       23\n",
      "0.387378 0.369581      8388608      8388608.0  -1.0000   0.1403       23\n",
      "0.400712 0.414047     16777216     16777216.0  -1.0000   0.2139       23\n",
      "\n",
      "finished run\n",
      "number of examples per pass = 30000000\n",
      "passes used = 1\n",
      "weighted example sum = 30000000.000000\n",
      "weighted label sum = -19615276.000000\n",
      "average loss = 0.402432\n",
      "best constant = -1.563963\n",
      "best constant's loss = 0.460734\n",
      "total feature number = 690000000\n"
     ]
    }
   ],
   "source": [
    "!vw -d ./data_vw/train.vw --learning_rate=0.1 --loss_function=logistic --link=logistic -f ./data_vw/model.vw"
   ]
  },
  {
   "cell_type": "code",
   "execution_count": 231,
   "metadata": {
    "scrolled": true
   },
   "outputs": [
    {
     "name": "stdout",
     "output_type": "stream",
     "text": [
      "only testing\n",
      "predictions = ./data_vw/valid_predictions\n",
      "Num weight bits = 18\n",
      "learning rate = 0.5\n",
      "initial_t = 0\n",
      "power_t = 0.5\n",
      "using no cache\n",
      "Reading datafile = ./data_vw/valid.vw\n",
      "num sources = 1\n",
      "average  since         example        example  current  current  current\n",
      "loss     last          counter         weight    label  predict features\n",
      "    n.a.     n.a.            1            1.0  unknown   0.1290       23\n",
      "    n.a.     n.a.            2            2.0  unknown   0.0411       23\n",
      "    n.a.     n.a.            4            4.0  unknown   0.0522       23\n",
      "    n.a.     n.a.            8            8.0  unknown   0.0244       23\n",
      "    n.a.     n.a.           16           16.0  unknown   0.0323       23\n",
      "    n.a.     n.a.           32           32.0  unknown   0.0221       23\n",
      "    n.a.     n.a.           64           64.0  unknown   0.1479       23\n",
      "    n.a.     n.a.          128          128.0  unknown   0.0791       23\n",
      "    n.a.     n.a.          256          256.0  unknown   0.0245       23\n",
      "    n.a.     n.a.          512          512.0  unknown   0.1182       23\n",
      "    n.a.     n.a.         1024         1024.0  unknown   0.0757       23\n",
      "    n.a.     n.a.         2048         2048.0  unknown   0.0706       23\n",
      "    n.a.     n.a.         4096         4096.0  unknown   0.4110       23\n",
      "    n.a.     n.a.         8192         8192.0  unknown   0.1241       23\n",
      "    n.a.     n.a.        16384        16384.0  unknown   0.0976       23\n",
      "    n.a.     n.a.        32768        32768.0  unknown   0.0198       23\n",
      "    n.a.     n.a.        65536        65536.0  unknown   0.1026       23\n",
      "    n.a.     n.a.       131072       131072.0  unknown   0.0184       23\n",
      "    n.a.     n.a.       262144       262144.0  unknown   0.0059       23\n",
      "    n.a.     n.a.       524288       524288.0  unknown   0.0301       23\n",
      "    n.a.     n.a.      1048576      1048576.0  unknown   0.0951       23\n",
      "    n.a.     n.a.      2097152      2097152.0  unknown   0.1524       23\n",
      "    n.a.     n.a.      4194304      4194304.0  unknown   0.1420       23\n",
      "    n.a.     n.a.      8388608      8388608.0  unknown   0.0272       23\n",
      "\n",
      "finished run\n",
      "number of examples per pass = 10000000\n",
      "passes used = 1\n",
      "weighted example sum = 10000000.000000\n",
      "weighted label sum = 0.000000\n",
      "average loss = n.a.\n",
      "total feature number = 230000000\n"
     ]
    }
   ],
   "source": [
    "!vw -i ./data_vw/model.vw -t -d ./data_vw/valid.vw \\\n",
    "-p ./data_vw/valid_predictions"
   ]
  },
  {
   "cell_type": "code",
   "execution_count": 232,
   "metadata": {},
   "outputs": [
    {
     "data": {
      "image/png": "[encoded data removed]",
      "text/plain": [
       "<Figure size 432x288 with 1 Axes>"
      ]
     },
     "metadata": {},
     "output_type": "display_data"
    }
   ],
   "source": [
    "plot_roc_auc_vw('./data_vw/valid_predictions')"
   ]
  },
  {
   "cell_type": "markdown",
   "metadata": {},
   "source": [
    "И никакие нейронки не нужны.. Ключ к успеху - правильный learning_rate :))"
   ]
  },
  {
   "cell_type": "markdown",
   "metadata": {},
   "source": [
    "Попробуем еще повысить качетсво с помощью **--passes, --decay_learning_rate**"
   ]
  },
  {
   "cell_type": "code",
   "execution_count": 242,
   "metadata": {},
   "outputs": [
    {
     "name": "stdout",
     "output_type": "stream",
     "text": [
      "final_regressor = ./data_vw/model.vw\n",
      "ignoring duplicate option: '--link=logistic'\n",
      "Num weight bits = 18\n",
      "learning rate = 0.07\n",
      "initial_t = 0\n",
      "power_t = 0.5\n",
      "decay_learning_rate = 0.5\n",
      "using cache_file = ./data_vw/cache_for_passes\n",
      "ignoring text input in favor of cache input\n",
      "num sources = 1\n",
      "average  since         example        example  current  current  current\n",
      "loss     last          counter         weight    label  predict features\n",
      "0.693147 0.693147            1            1.0  -1.0000   0.5000       23\n",
      "0.689799 0.686450            2            2.0  -1.0000   0.4966       23\n",
      "0.603687 0.517576            4            4.0  -1.0000   0.3769       23\n",
      "0.512730 0.421774            8            8.0  -1.0000   0.3232       23\n",
      "0.420648 0.328566           16           16.0  -1.0000   0.2022       23\n",
      "0.463884 0.507119           32           32.0  -1.0000   0.1869       23\n",
      "0.538942 0.613999           64           64.0  -1.0000   0.2208       23\n",
      "0.516595 0.494248          128          128.0  -1.0000   0.2042       23\n",
      "0.474834 0.433073          256          256.0  -1.0000   0.1859       23\n",
      "0.445921 0.417009          512          512.0  -1.0000   0.1514       23\n",
      "0.440085 0.434249         1024         1024.0  -1.0000   0.1901       23\n",
      "0.427906 0.415726         2048         2048.0  -1.0000   0.2079       23\n",
      "0.434634 0.441363         4096         4096.0  -1.0000   0.2162       23\n",
      "0.432403 0.430171         8192         8192.0  -1.0000   0.2421       23\n",
      "0.421325 0.410248        16384        16384.0  -1.0000   0.1587       23\n",
      "0.425346 0.429367        32768        32768.0  -1.0000   0.2055       23\n",
      "0.421062 0.416777        65536        65536.0  -1.0000   0.0931       23\n",
      "0.416584 0.412105       131072       131072.0   1.0000   0.1099       23\n",
      "0.408736 0.400888       262144       262144.0  -1.0000   0.2070       23\n",
      "0.396376 0.384017       524288       524288.0  -1.0000   0.2354       23\n",
      "0.384638 0.372900      1048576      1048576.0  -1.0000   0.0181       23\n",
      "0.391126 0.397613      2097152      2097152.0  -1.0000   0.1161       23\n",
      "0.409114 0.427102      4194304      4194304.0  -1.0000   0.2798       23\n",
      "0.390910 0.372706      8388608      8388608.0  -1.0000   0.0247       23\n",
      "0.404054 0.417197     16777216     16777216.0  -1.0000   0.0368       23\n",
      "0.400481 0.400481     33554432     33554432.0  -1.0000   0.0218       23 h\n",
      "0.402068 0.403655     67108864     67108864.0  -1.0000   0.2486       23 h\n",
      "0.402419 0.402770    134217728    134217728.0  -1.0000   0.2655       23 h\n",
      "\n",
      "finished run\n",
      "number of examples per pass = 27000000\n",
      "passes used = 5\n",
      "weighted example sum = 135000000.000000\n",
      "weighted label sum = -88266740.000000\n",
      "average loss = 0.401750 h\n",
      "best constant = -1.563911\n",
      "best constant's loss = 0.460746\n",
      "total feature number = 3105000000\n"
     ]
    }
   ],
   "source": [
    "!vw -d ./data_vw/train.vw --learning_rate=0.07 --link=logistic --passes 5 --cache_file\\\n",
    "./data_vw/cache_for_passes --decay_learning_rate=.5 --loss_function=logistic --link=logistic -f ./data_vw/model.vw"
   ]
  },
  {
   "cell_type": "code",
   "execution_count": 243,
   "metadata": {
    "scrolled": true
   },
   "outputs": [
    {
     "name": "stdout",
     "output_type": "stream",
     "text": [
      "only testing\n",
      "predictions = ./data_vw/valid_predictions\n",
      "Num weight bits = 18\n",
      "learning rate = 0.5\n",
      "initial_t = 0\n",
      "power_t = 0.5\n",
      "using no cache\n",
      "Reading datafile = ./data_vw/valid.vw\n",
      "num sources = 1\n",
      "average  since         example        example  current  current  current\n",
      "loss     last          counter         weight    label  predict features\n",
      "    n.a.     n.a.            1            1.0  unknown   0.1179       23\n",
      "    n.a.     n.a.            2            2.0  unknown   0.0415       23\n",
      "    n.a.     n.a.            4            4.0  unknown   0.0442       23\n",
      "    n.a.     n.a.            8            8.0  unknown   0.0253       23\n",
      "    n.a.     n.a.           16           16.0  unknown   0.0225       23\n",
      "    n.a.     n.a.           32           32.0  unknown   0.0243       23\n",
      "    n.a.     n.a.           64           64.0  unknown   0.1442       23\n",
      "    n.a.     n.a.          128          128.0  unknown   0.0849       23\n",
      "    n.a.     n.a.          256          256.0  unknown   0.0250       23\n",
      "    n.a.     n.a.          512          512.0  unknown   0.1255       23\n",
      "    n.a.     n.a.         1024         1024.0  unknown   0.0732       23\n",
      "    n.a.     n.a.         2048         2048.0  unknown   0.0715       23\n",
      "    n.a.     n.a.         4096         4096.0  unknown   0.4133       23\n",
      "    n.a.     n.a.         8192         8192.0  unknown   0.1193       23\n",
      "    n.a.     n.a.        16384        16384.0  unknown   0.1107       23\n",
      "    n.a.     n.a.        32768        32768.0  unknown   0.0192       23\n",
      "    n.a.     n.a.        65536        65536.0  unknown   0.0985       23\n",
      "    n.a.     n.a.       131072       131072.0  unknown   0.0137       23\n",
      "    n.a.     n.a.       262144       262144.0  unknown   0.0068       23\n",
      "    n.a.     n.a.       524288       524288.0  unknown   0.0281       23\n",
      "    n.a.     n.a.      1048576      1048576.0  unknown   0.0911       23\n",
      "    n.a.     n.a.      2097152      2097152.0  unknown   0.1609       23\n",
      "    n.a.     n.a.      4194304      4194304.0  unknown   0.1427       23\n",
      "    n.a.     n.a.      8388608      8388608.0  unknown   0.0278       23\n",
      "\n",
      "finished run\n",
      "number of examples per pass = 10000000\n",
      "passes used = 1\n",
      "weighted example sum = 10000000.000000\n",
      "weighted label sum = 0.000000\n",
      "average loss = n.a.\n",
      "total feature number = 230000000\n"
     ]
    }
   ],
   "source": [
    "!vw -i ./data_vw/model.vw -t -d ./data_vw/valid.vw \\\n",
    "-p ./data_vw/valid_predictions"
   ]
  },
  {
   "cell_type": "code",
   "execution_count": 244,
   "metadata": {},
   "outputs": [
    {
     "data": {
      "image/png": "[encoded data removed]",
      "text/plain": [
       "<Figure size 432x288 with 1 Axes>"
      ]
     },
     "metadata": {},
     "output_type": "display_data"
    }
   ],
   "source": [
    "plot_roc_auc_vw('./data_vw/valid_predictions')"
   ]
  },
  {
   "cell_type": "code",
   "execution_count": 245,
   "metadata": {},
   "outputs": [
    {
     "name": "stdout",
     "output_type": "stream",
     "text": [
      "final_regressor = ./data_vw/model.vw\n",
      "ignoring duplicate option: '--link=logistic'\n",
      "Warning: the learning rate for the last pass is multiplied by: 1.59736e-23 adjust --decay_learning_rate larger to avoid this.\n",
      "Num weight bits = 18\n",
      "learning rate = 0.01\n",
      "initial_t = 0\n",
      "power_t = 0.5\n",
      "decay_learning_rate = 0.35\n",
      "using cache_file = ./data_vw/cache_for_passes\n",
      "ignoring text input in favor of cache input\n",
      "num sources = 1\n",
      "average  since         example        example  current  current  current\n",
      "loss     last          counter         weight    label  predict features\n",
      "0.693147 0.693147            1            1.0  -1.0000   0.5000       23\n",
      "0.692632 0.692118            2            2.0  -1.0000   0.4995       23\n",
      "0.677941 0.663249            4            4.0  -1.0000   0.4804       23\n",
      "0.660114 0.642288            8            8.0  -1.0000   0.4699       23\n",
      "0.638276 0.616437           16           16.0  -1.0000   0.4422       23\n",
      "0.633363 0.628450           32           32.0  -1.0000   0.4234       23\n",
      "0.638082 0.642801           64           64.0  -1.0000   0.4115       23\n",
      "0.615569 0.593055          128          128.0  -1.0000   0.3990       23\n",
      "0.582152 0.548735          256          256.0  -1.0000   0.3751       23\n",
      "0.546609 0.511065          512          512.0  -1.0000   0.3421       23\n",
      "0.518599 0.490589         1024         1024.0  -1.0000   0.2934       23\n",
      "0.491970 0.465342         2048         2048.0  -1.0000   0.2240       23\n",
      "0.480072 0.468174         4096         4096.0  -1.0000   0.1937       23\n",
      "0.468843 0.457614         8192         8192.0  -1.0000   0.1980       23\n",
      "0.453060 0.437278        16384        16384.0  -1.0000   0.1617       23\n",
      "0.453096 0.453132        32768        32768.0  -1.0000   0.1784       23\n",
      "0.445529 0.437961        65536        65536.0  -1.0000   0.1313       23\n",
      "0.438180 0.430832       131072       131072.0   1.0000   0.1662       23\n",
      "0.427744 0.417309       262144       262144.0  -1.0000   0.1877       23\n",
      "0.414071 0.400397       524288       524288.0  -1.0000   0.2186       23\n",
      "0.403065 0.392059      1048576      1048576.0  -1.0000   0.0641       23\n",
      "0.408832 0.414600      2097152      2097152.0  -1.0000   0.1362       23\n",
      "0.425573 0.442314      4194304      4194304.0  -1.0000   0.2772       23\n",
      "0.407458 0.389343      8388608      8388608.0  -1.0000   0.0719       23\n",
      "0.418053 0.428648     16777216     16777216.0  -1.0000   0.0386       23\n",
      "0.413279 0.413279     33554432     33554432.0  -1.0000   0.0499       23 h\n",
      "0.413746 0.414214     67108864     67108864.0  -1.0000   0.1602       23 h\n",
      "0.414600 0.415454    134217728    134217728.0  -1.0000   0.1657       23 h\n",
      "\n",
      "finished run\n",
      "number of examples per pass = 27000000\n",
      "passes used = 5\n",
      "weighted example sum = 135000000.000000\n",
      "weighted label sum = -88266740.000000\n",
      "average loss = 0.412606 h\n",
      "best constant = -1.563911\n",
      "best constant's loss = 0.460746\n",
      "total feature number = 3105000000\n"
     ]
    }
   ],
   "source": [
    "!vw -d ./data_vw/train.vw --learning_rate=0.01 --link=logistic --passes 50 --cache_file\\\n",
    "./data_vw/cache_for_passes --decay_learning_rate=.35 --loss_function=logistic --link=logistic -f ./data_vw/model.vw"
   ]
  },
  {
   "cell_type": "code",
   "execution_count": 246,
   "metadata": {
    "scrolled": true
   },
   "outputs": [
    {
     "name": "stdout",
     "output_type": "stream",
     "text": [
      "only testing\n",
      "predictions = ./data_vw/valid_predictions\n",
      "Num weight bits = 18\n",
      "learning rate = 0.5\n",
      "initial_t = 0\n",
      "power_t = 0.5\n",
      "using no cache\n",
      "Reading datafile = ./data_vw/valid.vw\n",
      "num sources = 1\n",
      "average  since         example        example  current  current  current\n",
      "loss     last          counter         weight    label  predict features\n",
      "    n.a.     n.a.            1            1.0  unknown   0.1163       23\n",
      "    n.a.     n.a.            2            2.0  unknown   0.0781       23\n",
      "    n.a.     n.a.            4            4.0  unknown   0.0475       23\n",
      "    n.a.     n.a.            8            8.0  unknown   0.0523       23\n",
      "    n.a.     n.a.           16           16.0  unknown   0.0206       23\n",
      "    n.a.     n.a.           32           32.0  unknown   0.0562       23\n",
      "    n.a.     n.a.           64           64.0  unknown   0.1495       23\n",
      "    n.a.     n.a.          128          128.0  unknown   0.1267       23\n",
      "    n.a.     n.a.          256          256.0  unknown   0.0373       23\n",
      "    n.a.     n.a.          512          512.0  unknown   0.1146       23\n",
      "    n.a.     n.a.         1024         1024.0  unknown   0.0917       23\n",
      "    n.a.     n.a.         2048         2048.0  unknown   0.1138       23\n",
      "    n.a.     n.a.         4096         4096.0  unknown   0.3448       23\n",
      "    n.a.     n.a.         8192         8192.0  unknown   0.1042       23\n",
      "    n.a.     n.a.        16384        16384.0  unknown   0.1427       23\n",
      "    n.a.     n.a.        32768        32768.0  unknown   0.0350       23\n",
      "    n.a.     n.a.        65536        65536.0  unknown   0.1051       23\n",
      "    n.a.     n.a.       131072       131072.0  unknown   0.0164       23\n",
      "    n.a.     n.a.       262144       262144.0  unknown   0.0587       23\n",
      "    n.a.     n.a.       524288       524288.0  unknown   0.0475       23\n",
      "    n.a.     n.a.      1048576      1048576.0  unknown   0.0991       23\n",
      "    n.a.     n.a.      2097152      2097152.0  unknown   0.1826       23\n",
      "    n.a.     n.a.      4194304      4194304.0  unknown   0.1316       23\n",
      "    n.a.     n.a.      8388608      8388608.0  unknown   0.0625       23\n",
      "\n",
      "finished run\n",
      "number of examples per pass = 10000000\n",
      "passes used = 1\n",
      "weighted example sum = 10000000.000000\n",
      "weighted label sum = 0.000000\n",
      "average loss = n.a.\n",
      "total feature number = 230000000\n"
     ]
    }
   ],
   "source": [
    "!vw -i ./data_vw/model.vw -t -d ./data_vw/valid.vw \\\n",
    "-p ./data_vw/valid_predictions"
   ]
  },
  {
   "cell_type": "code",
   "execution_count": 247,
   "metadata": {},
   "outputs": [
    {
     "data": {
      "image/png": "[encoded data removed]",
      "text/plain": [
       "<Figure size 432x288 with 1 Axes>"
      ]
     },
     "metadata": {},
     "output_type": "display_data"
    }
   ],
   "source": [
    "plot_roc_auc_vw('./data_vw/valid_predictions')"
   ]
  },
  {
   "cell_type": "markdown",
   "metadata": {},
   "source": []
  },
  {
   "cell_type": "code",
   "execution_count": null,
   "metadata": {},
   "outputs": [],
   "source": []
  }
 ],
 "metadata": {
  "kernelspec": {
   "display_name": "Python 3",
   "language": "python",
   "name": "python3"
  },
  "language_info": {
   "codemirror_mode": {
    "name": "ipython",
    "version": 3
   },
   "file_extension": ".py",
   "mimetype": "text/x-python",
   "name": "python",
   "nbconvert_exporter": "python",
   "pygments_lexer": "ipython3",
   "version": "3.7.5"
  },
  "toc": {
   "base_numbering": 1,
   "nav_menu": {},
   "number_sections": true,
   "sideBar": true,
   "skip_h1_title": true,
   "title_cell": "Table of Contents",
   "title_sidebar": "Contents",
   "toc_cell": false,
   "toc_position": {},
   "toc_section_display": true,
   "toc_window_display": false
  },
  "varInspector": {
   "cols": {
    "lenName": 16,
    "lenType": 16,
    "lenVar": 40
   },
   "kernels_config": {
    "python": {
     "delete_cmd_postfix": "",
     "delete_cmd_prefix": "del ",
     "library": "var_list.py",
     "varRefreshCmd": "print(var_dic_list())"
    },
    "r": {
     "delete_cmd_postfix": ") ",
     "delete_cmd_prefix": "rm(",
     "library": "var_list.r",
     "varRefreshCmd": "cat(var_dic_list()) "
    }
   },
   "types_to_exclude": [
    "module",
    "function",
    "builtin_function_or_method",
    "instance",
    "_Feature"
   ],
   "window_display": false
  }
 },
 "nbformat": 4,
 "nbformat_minor": 2
}
