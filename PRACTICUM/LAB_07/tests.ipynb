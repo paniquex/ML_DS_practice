{
 "cells": [
  {
   "cell_type": "code",
   "execution_count": 37,
   "metadata": {},
   "outputs": [],
   "source": [
    "import numpy as np\n",
    "from sklearn.tree import DecisionTreeRegressor\n",
    "from scipy.optimize import minimize_scalar\n",
    "\n",
    "\n",
    "class RandomForestMSE:\n",
    "    def __init__(self, n_estimators, max_depth=None, feature_subsample_size=None,\n",
    "                 **trees_parameters):\n",
    "        \"\"\"\n",
    "        n_estimators : int\n",
    "            The number of trees in the forest.\n",
    "        \n",
    "        max_depth : int\n",
    "            The maximum depth of the tree. If None then there is no limits.\n",
    "        \n",
    "        feature_subsample_size : float\n",
    "            The size of feature set for each tree. If None then use recommendations.\n",
    "        \"\"\"\n",
    "\n",
    "        self.n_estimators = n_estimators\n",
    "        self.max_depth = max_depth\n",
    "        if feature_subsample_size is None:\n",
    "            self.feature_subsample_size = 1\n",
    "        else:\n",
    "            self.feature_subsample_size = feature_subsample_size\n",
    "        self.trees_parameters = trees_parameters\n",
    "        \n",
    "    def fit(self, X, y):\n",
    "        \"\"\"\n",
    "        X : numpy ndarray\n",
    "            Array of size n_objects, n_features\n",
    "            \n",
    "        y : numpy ndarray\n",
    "            Array of size n_objects\n",
    "        \"\"\"\n",
    "\n",
    "        alpha = 1\n",
    "\n",
    "        indexes_obj_all = np.arange(X.shape[0])\n",
    "        indexes_feat_all = np.arange(X.shape[1])\n",
    "        self.tree_models = []\n",
    "        for i in range(self.n_estimators):\n",
    "            indexes_obj_subset = np.random.choice(indexes_obj_all,\n",
    "                                                  size=int(alpha * X.shape[0]),\n",
    "                                                  replace=False)\n",
    "            indexes_feat_subset = np.random.choice(indexes_feat_all,\n",
    "                                                   size=int(self.feature_subsample_size * X.shape[1]),\n",
    "                                                   replace=False)\n",
    "            dec_tree = None\n",
    "            dec_tree = DecisionTreeRegressor(*self.trees_parameters,\n",
    "                                             max_depth=self.max_depth,\n",
    "                                             )\n",
    "            dec_tree.fit(X[indexes_obj_subset[:, None], indexes_feat_subset],\n",
    "                         y[indexes_obj_subset])\n",
    "            self.tree_models.append((dec_tree, indexes_feat_subset))\n",
    "            del dec_tree\n",
    "\n",
    "\n",
    "\n",
    "\n",
    "        \n",
    "    def predict(self, X):\n",
    "        \"\"\"\n",
    "        X : numpy ndarray\n",
    "            Array of size n_objects, n_features\n",
    "            \n",
    "        Returns\n",
    "        -------\n",
    "        y : numpy ndarray\n",
    "            Array of size n_objects\n",
    "        \"\"\"\n",
    "\n",
    "        preds = np.zeros(X.shape[0])\n",
    "        indexes_all = np.arange(X.shape[0])\n",
    "        print(self.tree_models[0][1])\n",
    "        for i in range(self.n_estimators):\n",
    "            preds += self.tree_models[i][0].predict(X[indexes_all[:, None],\n",
    "                                                      self.tree_models[i][1]]) / self.n_estimators\n",
    "        return preds\n",
    "\n",
    "\n",
    "\n",
    "class GradientBoostingMSE:\n",
    "    def __init__(self, n_estimators, learning_rate=0.1, max_depth=5, feature_subsample_size=None,\n",
    "                 **trees_parameters):\n",
    "        \"\"\"\n",
    "        n_estimators : int\n",
    "            The number of trees in the forest.\n",
    "        \n",
    "        learning_rate : float\n",
    "            Use learning_rate * gamma instead of gamma\n",
    "\n",
    "        max_depth : int\n",
    "            The maximum depth of the tree. If None then there is no limits.\n",
    "        \n",
    "        feature_subsample_size : float\n",
    "            The size of feature set for each tree. If None then use recommendations.\n",
    "        \"\"\"\n",
    "        pass\n",
    "        \n",
    "    def fit(self, X, y):\n",
    "        \"\"\"\n",
    "        X : numpy ndarray\n",
    "            Array of size n_objects, n_features\n",
    "            \n",
    "        y : numpy ndarray\n",
    "            Array of size n_objects\n",
    "        \"\"\"\n",
    "        pass\n",
    "\n",
    "    def predict(self, X):\n",
    "        \"\"\"\n",
    "        X : numpy ndarray\n",
    "            Array of size n_objects, n_features\n",
    "            \n",
    "        Returns\n",
    "        -------\n",
    "        y : numpy ndarray\n",
    "            Array of size n_objects\n",
    "        \"\"\"\n",
    "        pass\n"
   ]
  },
  {
   "cell_type": "code",
   "execution_count": 38,
   "metadata": {},
   "outputs": [],
   "source": [
    "from sklearn.model_selection import train_test_split\n",
    "from sklearn.ensemble import RandomForestRegressor"
   ]
  },
  {
   "cell_type": "code",
   "execution_count": 39,
   "metadata": {},
   "outputs": [],
   "source": [
    "import pandas as pd\n",
    "\n",
    "train_data = pd.read_csv('./data/data.csv', index_col=0)\n",
    "target = pd.read_csv('./data/target.csv', index_col=0)"
   ]
  },
  {
   "cell_type": "markdown",
   "metadata": {},
   "source": [
    "Удалим id, так как он не несет никакую информацию для модели"
   ]
  },
  {
   "cell_type": "code",
   "execution_count": 40,
   "metadata": {},
   "outputs": [],
   "source": [
    "train_data.drop(columns='id', inplace=True)\n",
    "train_data.drop(columns='date', inplace=True)\n"
   ]
  },
  {
   "cell_type": "code",
   "execution_count": 41,
   "metadata": {},
   "outputs": [],
   "source": [
    "X_train, X_test, y_train, y_test = train_test_split(train_data, target, train_size=0.8,\n",
    "                                                    random_state=13)"
   ]
  },
  {
   "cell_type": "code",
   "execution_count": 42,
   "metadata": {},
   "outputs": [],
   "source": [
    "rand_forest_my = RandomForestMSE(n_estimators=100, max_depth=10, feature_subsample_size=0.85)\n",
    "rand_forest_sklearn = RandomForestRegressor(n_estimators=100, max_depth=10)"
   ]
  },
  {
   "cell_type": "code",
   "execution_count": 43,
   "metadata": {},
   "outputs": [],
   "source": [
    "from sklearn.metrics import mean_squared_error"
   ]
  },
  {
   "cell_type": "code",
   "execution_count": 44,
   "metadata": {},
   "outputs": [
    {
     "name": "stdout",
     "output_type": "stream",
     "text": [
      "CPU times: user 6.28 s, sys: 0 ns, total: 6.28 s\n",
      "Wall time: 6.28 s\n"
     ]
    }
   ],
   "source": [
    "%%time\n",
    "rand_forest_my.fit(X_train.values, y_train.values)"
   ]
  },
  {
   "cell_type": "code",
   "execution_count": 46,
   "metadata": {},
   "outputs": [
    {
     "name": "stdout",
     "output_type": "stream",
     "text": [
      "[ 8  7 16 11  9 12 15  3  6  1 14  0  5 10]\n"
     ]
    }
   ],
   "source": [
    "preds_my = rand_forest_my.predict(X_test.values)"
   ]
  },
  {
   "cell_type": "code",
   "execution_count": null,
   "metadata": {},
   "outputs": [],
   "source": [
    "np.sqrt(mean_squared_error(y_test, preds_my))"
   ]
  },
  {
   "cell_type": "code",
   "execution_count": null,
   "metadata": {
    "scrolled": true
   },
   "outputs": [],
   "source": [
    "%%time\n",
    "rand_forest_sklearn.fit(X_train.values, y_train.values)"
   ]
  },
  {
   "cell_type": "code",
   "execution_count": null,
   "metadata": {},
   "outputs": [],
   "source": [
    "preds_sklearn = rand_forest_sklearn.predict(X_test.values)"
   ]
  },
  {
   "cell_type": "code",
   "execution_count": null,
   "metadata": {},
   "outputs": [],
   "source": [
    "np.sqrt(mean_squared_error(y_test, preds_sklearn))"
   ]
  },
  {
   "cell_type": "code",
   "execution_count": null,
   "metadata": {},
   "outputs": [],
   "source": []
  }
 ],
 "metadata": {
  "kernelspec": {
   "display_name": "Python 3",
   "language": "python",
   "name": "python3"
  },
  "language_info": {
   "codemirror_mode": {
    "name": "ipython",
    "version": 3
   },
   "file_extension": ".py",
   "mimetype": "text/x-python",
   "name": "python",
   "nbconvert_exporter": "python",
   "pygments_lexer": "ipython3",
   "version": "3.7.5"
  }
 },
 "nbformat": 4,
 "nbformat_minor": 2
}
