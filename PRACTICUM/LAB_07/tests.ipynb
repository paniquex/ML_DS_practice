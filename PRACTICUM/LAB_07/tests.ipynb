{
 "cells": [
  {
   "cell_type": "code",
   "execution_count": 30,
   "metadata": {},
   "outputs": [],
   "source": [
    "import numpy as np\n",
    "from sklearn.tree import DecisionTreeRegressor\n",
    "from scipy.optimize import minimize_scalar\n",
    "\n",
    "\n",
    "class RandomForestMSE:\n",
    "    def __init__(self, n_estimators, max_depth=None, feature_subsample_size=None,\n",
    "                 **trees_parameters):\n",
    "        \"\"\"\n",
    "        n_estimators : int\n",
    "            The number of trees in the forest.\n",
    "\n",
    "        max_depth : int\n",
    "            The maximum depth of the tree. If None then there is no limits.\n",
    "\n",
    "        feature_subsample_size : float\n",
    "            The size of feature set for each tree. If None then use recommendations.\n",
    "        \"\"\"\n",
    "\n",
    "        self.n_estimators = n_estimators\n",
    "        self.max_depth = max_depth\n",
    "        self.feature_subsample_size = feature_subsample_size\n",
    "        self.trees_parameters = trees_parameters\n",
    "\n",
    "    def fit(self, X, y):\n",
    "        \"\"\"\n",
    "        X : numpy ndarray\n",
    "            Array of size n_objects, n_features\n",
    "\n",
    "        y : numpy ndarray\n",
    "            Array of size n_objects\n",
    "        \"\"\"\n",
    "\n",
    "        alpha = 1\n",
    "\n",
    "        indexes_obj_all = np.arange(X.shape[0])\n",
    "        self.tree_models = []\n",
    "        for i in range(self.n_estimators):\n",
    "            indexes_obj_subset = np.random.choice(indexes_obj_all,\n",
    "                                                  size=int(alpha * X.shape[0]),\n",
    "                                                  replace=False)\n",
    "            dec_tree = None\n",
    "            dec_tree = DecisionTreeRegressor(*self.trees_parameters,\n",
    "                                             max_depth=self.max_depth,\n",
    "                                             max_features=self.feature_subsample_size\n",
    "                                             )\n",
    "            dec_tree.fit(X[indexes_obj_subset],\n",
    "                         y[indexes_obj_subset])\n",
    "            self.tree_models.append(dec_tree)\n",
    "            del dec_tree\n",
    "\n",
    "    def predict(self, X):\n",
    "        \"\"\"\n",
    "        X : numpy ndarray\n",
    "            Array of size n_objects, n_features\n",
    "\n",
    "        Returns\n",
    "        -------\n",
    "        y : numpy ndarray\n",
    "            Array of size n_objects\n",
    "        \"\"\"\n",
    "\n",
    "        preds = np.zeros(X.shape[0])\n",
    "        for i in range(self.n_estimators):\n",
    "            preds += self.tree_models[i].predict(X) / self.n_estimators\n",
    "        return preds\n",
    "\n",
    "\n",
    "class GradientBoostingMSE:\n",
    "    def __init__(self, n_estimators, learning_rate=0.1, max_depth=5, feature_subsample_size=None,\n",
    "                 **trees_parameters):\n",
    "        \"\"\"\n",
    "        n_estimators : int\n",
    "            The number of trees in the forest.\n",
    "\n",
    "        learning_rate : float\n",
    "            Use learning_rate * gamma instead of gamma\n",
    "\n",
    "        max_depth : int\n",
    "            The maximum depth of the tree. If None then there is no limits.\n",
    "\n",
    "        feature_subsample_size : float\n",
    "            The size of feature set for each tree. If None then use recommendations.\n",
    "        \"\"\"\n",
    "\n",
    "        self.n_estimators = n_estimators\n",
    "        self.learning_rate = learning_rate\n",
    "        self.max_depth = max_depth\n",
    "        self.feature_subsample_size = feature_subsample_size\n",
    "        self.trees_parameters = trees_parameters\n",
    "\n",
    "\n",
    "    def fit(self, X, y):\n",
    "        \"\"\"\n",
    "        X : numpy ndarray\n",
    "            Array of size n_objects, n_features\n",
    "\n",
    "        y : numpy ndarray\n",
    "            Array of size n_objects\n",
    "        \"\"\"\n",
    "\n",
    "        dec_tree = DecisionTreeRegressor(**self.trees_parameters, max_depth=self.max_depth,\n",
    "                                         max_features=self.feature_subsample_size)\n",
    "        dec_tree.fit(X, y)\n",
    "        indexes_obj_all = np.arange(X.shape[0])\n",
    "        alpha = 1\n",
    "        \n",
    "        \n",
    "        self.models_arr = [dec_tree]\n",
    "        self.alpha_arr = [1]\n",
    "        \n",
    "        predict_sum = np.zeros(X.shape[0])\n",
    "        \n",
    "\n",
    "        for i in range(self.n_estimators-1):\n",
    "            print(i)\n",
    "            indexes_obj_subset = np.random.choice(indexes_obj_all,\n",
    "                                                  size=int(alpha * X.shape[0]),\n",
    "                                                  replace=False)\n",
    "#             self.obj_indexes.append(indexes_obj_subset)\n",
    "            #optimize model\n",
    "            \n",
    "            predict_sum += (self.learning_rate * self.models_arr[-1].predict(X) * self.alpha_arr[-1])\n",
    "            s_i = 2 * (y - predict_sum)\n",
    "            print(predict_sum.shape)\n",
    "                \n",
    "            dec_tree.fit(X[indexes_obj_subset], s_i)\n",
    "            pred_opt = dec_tree.predict(X[indexes_obj_subset])\n",
    "            #optimize model coef\n",
    "            alpha_i = minimize_scalar(lambda alpha_opt: np.mean((y[indexes_obj_subset] - predict_sum - alpha_opt * pred_opt) ** 2),\n",
    "                                      bounds=(0, 100),\n",
    "                                      method='bounded',\n",
    "                                      options={'maxiter': 100})['x']\n",
    "            self.alpha_arr.append(alpha_i)\n",
    "            self.models_arr.append(dec_tree)\n",
    "\n",
    "\n",
    "    def predict(self, X):\n",
    "        \"\"\"\n",
    "        X : numpy ndarray\n",
    "            Array of size n_objects, n_features\n",
    "\n",
    "        Returns\n",
    "        -------\n",
    "        y : numpy ndarray\n",
    "            Array of size n_objects\n",
    "        \"\"\"\n",
    "        \n",
    "        pred = 0\n",
    "        for i in range(len(self.models_arr)):\n",
    "            pred += self.models_arr.predict(X) * self.alpha_arr[i]\n",
    "        return pred"
   ]
  },
  {
   "cell_type": "code",
   "execution_count": 31,
   "metadata": {},
   "outputs": [],
   "source": [
    "from sklearn.model_selection import train_test_split\n",
    "from sklearn.ensemble import RandomForestRegressor"
   ]
  },
  {
   "cell_type": "code",
   "execution_count": 32,
   "metadata": {},
   "outputs": [],
   "source": [
    "import pandas as pd\n",
    "\n",
    "train_data = pd.read_csv('./data/data.csv', index_col=0)\n",
    "target = pd.read_csv('./data/target.csv', index_col=0)"
   ]
  },
  {
   "cell_type": "markdown",
   "metadata": {},
   "source": [
    "Удалим id, так как он не несет никакую информацию для модели"
   ]
  },
  {
   "cell_type": "code",
   "execution_count": 33,
   "metadata": {},
   "outputs": [],
   "source": [
    "train_data.drop(columns='id', inplace=True)\n",
    "train_data.drop(columns='date', inplace=True)\n"
   ]
  },
  {
   "cell_type": "code",
   "execution_count": 34,
   "metadata": {},
   "outputs": [
    {
     "name": "stderr",
     "output_type": "stream",
     "text": [
      "/home/paniquex/anaconda3/envs/kaggle/lib/python3.7/site-packages/sklearn/model_selection/_split.py:2179: FutureWarning: From version 0.21, test_size will always complement train_size unless both are specified.\n",
      "  FutureWarning)\n"
     ]
    }
   ],
   "source": [
    "X_train, X_test, y_train, y_test = train_test_split(train_data, target, train_size=0.8,\n",
    "                                                    random_state=13)"
   ]
  },
  {
   "cell_type": "code",
   "execution_count": 6,
   "metadata": {},
   "outputs": [],
   "source": [
    "rand_forest_my = RandomForestMSE(n_estimators=100, max_depth=10, feature_subsample_size=0.75)\n",
    "rand_forest_sklearn = RandomForestRegressor(n_estimators=100, max_depth=10)"
   ]
  },
  {
   "cell_type": "code",
   "execution_count": 7,
   "metadata": {},
   "outputs": [],
   "source": [
    "from sklearn.metrics import mean_squared_error"
   ]
  },
  {
   "cell_type": "code",
   "execution_count": 8,
   "metadata": {},
   "outputs": [
    {
     "name": "stdout",
     "output_type": "stream",
     "text": [
      "CPU times: user 5.79 s, sys: 11.6 ms, total: 5.8 s\n",
      "Wall time: 5.8 s\n"
     ]
    }
   ],
   "source": [
    "%%time\n",
    "rand_forest_my.fit(X_train.values, y_train.values)"
   ]
  },
  {
   "cell_type": "code",
   "execution_count": 9,
   "metadata": {},
   "outputs": [],
   "source": [
    "preds_my = rand_forest_my.predict(X_test.values)"
   ]
  },
  {
   "cell_type": "code",
   "execution_count": 10,
   "metadata": {},
   "outputs": [
    {
     "data": {
      "text/plain": [
       "351999.9730686724"
      ]
     },
     "execution_count": 10,
     "metadata": {},
     "output_type": "execute_result"
    }
   ],
   "source": [
    "np.sqrt(mean_squared_error(y_test, preds_my))"
   ]
  },
  {
   "cell_type": "code",
   "execution_count": 11,
   "metadata": {
    "scrolled": true
   },
   "outputs": [
    {
     "name": "stderr",
     "output_type": "stream",
     "text": [
      "/home/paniquex/anaconda3/envs/kaggle/lib/python3.7/site-packages/ipykernel_launcher.py:1: DataConversionWarning: A column-vector y was passed when a 1d array was expected. Please change the shape of y to (n_samples,), for example using ravel().\n",
      "  \"\"\"Entry point for launching an IPython kernel.\n"
     ]
    },
    {
     "name": "stdout",
     "output_type": "stream",
     "text": [
      "CPU times: user 5.07 s, sys: 3.96 ms, total: 5.08 s\n",
      "Wall time: 5.07 s\n"
     ]
    },
    {
     "data": {
      "text/plain": [
       "RandomForestRegressor(bootstrap=True, criterion='mse', max_depth=10,\n",
       "           max_features='auto', max_leaf_nodes=None,\n",
       "           min_impurity_decrease=0.0, min_impurity_split=None,\n",
       "           min_samples_leaf=1, min_samples_split=2,\n",
       "           min_weight_fraction_leaf=0.0, n_estimators=100, n_jobs=None,\n",
       "           oob_score=False, random_state=None, verbose=0, warm_start=False)"
      ]
     },
     "execution_count": 11,
     "metadata": {},
     "output_type": "execute_result"
    }
   ],
   "source": [
    "%%time\n",
    "rand_forest_sklearn.fit(X_train.values, y_train.values)"
   ]
  },
  {
   "cell_type": "code",
   "execution_count": 12,
   "metadata": {},
   "outputs": [],
   "source": [
    "preds_sklearn = rand_forest_sklearn.predict(X_test.values)"
   ]
  },
  {
   "cell_type": "code",
   "execution_count": 13,
   "metadata": {},
   "outputs": [
    {
     "data": {
      "text/plain": [
       "347840.3040562196"
      ]
     },
     "execution_count": 13,
     "metadata": {},
     "output_type": "execute_result"
    }
   ],
   "source": [
    "np.sqrt(mean_squared_error(y_test, preds_sklearn))"
   ]
  },
  {
   "cell_type": "code",
   "execution_count": 35,
   "metadata": {},
   "outputs": [],
   "source": [
    "gb_my = GradientBoostingMSE(n_estimators=10, max_depth=5, feature_subsample_size=0.75)\n",
    "# rand_forest_sklearn = RandomForestRegressor(n_estimators=100, max_depth=10)"
   ]
  },
  {
   "cell_type": "code",
   "execution_count": 36,
   "metadata": {},
   "outputs": [
    {
     "name": "stdout",
     "output_type": "stream",
     "text": [
      "0\n",
      "(13824,)\n"
     ]
    },
    {
     "ename": "MemoryError",
     "evalue": "",
     "output_type": "error",
     "traceback": [
      "\u001b[0;31m---------------------------------------------------------------------------\u001b[0m",
      "\u001b[0;31mMemoryError\u001b[0m                               Traceback (most recent call last)",
      "\u001b[0;32m<timed eval>\u001b[0m in \u001b[0;36m<module>\u001b[0;34m\u001b[0m\n",
      "\u001b[0;32m<ipython-input-30-e9980e9a5ac6>\u001b[0m in \u001b[0;36mfit\u001b[0;34m(self, X, y)\u001b[0m\n\u001b[1;32m    131\u001b[0m                                       \u001b[0mbounds\u001b[0m\u001b[0;34m=\u001b[0m\u001b[0;34m(\u001b[0m\u001b[0;36m0\u001b[0m\u001b[0;34m,\u001b[0m \u001b[0;36m100\u001b[0m\u001b[0;34m)\u001b[0m\u001b[0;34m,\u001b[0m\u001b[0;34m\u001b[0m\u001b[0;34m\u001b[0m\u001b[0m\n\u001b[1;32m    132\u001b[0m                                       \u001b[0mmethod\u001b[0m\u001b[0;34m=\u001b[0m\u001b[0;34m'bounded'\u001b[0m\u001b[0;34m,\u001b[0m\u001b[0;34m\u001b[0m\u001b[0;34m\u001b[0m\u001b[0m\n\u001b[0;32m--> 133\u001b[0;31m                                       options={'maxiter': 100})['x']\n\u001b[0m\u001b[1;32m    134\u001b[0m             \u001b[0mself\u001b[0m\u001b[0;34m.\u001b[0m\u001b[0malpha_arr\u001b[0m\u001b[0;34m.\u001b[0m\u001b[0mappend\u001b[0m\u001b[0;34m(\u001b[0m\u001b[0malpha_i\u001b[0m\u001b[0;34m)\u001b[0m\u001b[0;34m\u001b[0m\u001b[0;34m\u001b[0m\u001b[0m\n\u001b[1;32m    135\u001b[0m             \u001b[0mself\u001b[0m\u001b[0;34m.\u001b[0m\u001b[0mmodels_arr\u001b[0m\u001b[0;34m.\u001b[0m\u001b[0mappend\u001b[0m\u001b[0;34m(\u001b[0m\u001b[0mdec_tree\u001b[0m\u001b[0;34m)\u001b[0m\u001b[0;34m\u001b[0m\u001b[0;34m\u001b[0m\u001b[0m\n",
      "\u001b[0;32m~/anaconda3/envs/kaggle/lib/python3.7/site-packages/scipy/optimize/_minimize.py\u001b[0m in \u001b[0;36mminimize_scalar\u001b[0;34m(fun, bracket, bounds, args, method, tol, options)\u001b[0m\n\u001b[1;32m    781\u001b[0m         \u001b[0;32mif\u001b[0m \u001b[0misinstance\u001b[0m\u001b[0;34m(\u001b[0m\u001b[0mdisp\u001b[0m\u001b[0;34m,\u001b[0m \u001b[0mbool\u001b[0m\u001b[0;34m)\u001b[0m\u001b[0;34m:\u001b[0m\u001b[0;34m\u001b[0m\u001b[0;34m\u001b[0m\u001b[0m\n\u001b[1;32m    782\u001b[0m             \u001b[0moptions\u001b[0m\u001b[0;34m[\u001b[0m\u001b[0;34m'disp'\u001b[0m\u001b[0;34m]\u001b[0m \u001b[0;34m=\u001b[0m \u001b[0;36m2\u001b[0m \u001b[0;34m*\u001b[0m \u001b[0mint\u001b[0m\u001b[0;34m(\u001b[0m\u001b[0mdisp\u001b[0m\u001b[0;34m)\u001b[0m\u001b[0;34m\u001b[0m\u001b[0;34m\u001b[0m\u001b[0m\n\u001b[0;32m--> 783\u001b[0;31m         \u001b[0;32mreturn\u001b[0m \u001b[0m_minimize_scalar_bounded\u001b[0m\u001b[0;34m(\u001b[0m\u001b[0mfun\u001b[0m\u001b[0;34m,\u001b[0m \u001b[0mbounds\u001b[0m\u001b[0;34m,\u001b[0m \u001b[0margs\u001b[0m\u001b[0;34m,\u001b[0m \u001b[0;34m**\u001b[0m\u001b[0moptions\u001b[0m\u001b[0;34m)\u001b[0m\u001b[0;34m\u001b[0m\u001b[0;34m\u001b[0m\u001b[0m\n\u001b[0m\u001b[1;32m    784\u001b[0m     \u001b[0;32melif\u001b[0m \u001b[0mmeth\u001b[0m \u001b[0;34m==\u001b[0m \u001b[0;34m'golden'\u001b[0m\u001b[0;34m:\u001b[0m\u001b[0;34m\u001b[0m\u001b[0;34m\u001b[0m\u001b[0m\n\u001b[1;32m    785\u001b[0m         \u001b[0;32mreturn\u001b[0m \u001b[0m_minimize_scalar_golden\u001b[0m\u001b[0;34m(\u001b[0m\u001b[0mfun\u001b[0m\u001b[0;34m,\u001b[0m \u001b[0mbracket\u001b[0m\u001b[0;34m,\u001b[0m \u001b[0margs\u001b[0m\u001b[0;34m,\u001b[0m \u001b[0;34m**\u001b[0m\u001b[0moptions\u001b[0m\u001b[0;34m)\u001b[0m\u001b[0;34m\u001b[0m\u001b[0;34m\u001b[0m\u001b[0m\n",
      "\u001b[0;32m~/anaconda3/envs/kaggle/lib/python3.7/site-packages/scipy/optimize/optimize.py\u001b[0m in \u001b[0;36m_minimize_scalar_bounded\u001b[0;34m(func, bounds, args, xatol, maxiter, disp, **unknown_options)\u001b[0m\n\u001b[1;32m   1739\u001b[0m     \u001b[0mrat\u001b[0m \u001b[0;34m=\u001b[0m \u001b[0me\u001b[0m \u001b[0;34m=\u001b[0m \u001b[0;36m0.0\u001b[0m\u001b[0;34m\u001b[0m\u001b[0;34m\u001b[0m\u001b[0m\n\u001b[1;32m   1740\u001b[0m     \u001b[0mx\u001b[0m \u001b[0;34m=\u001b[0m \u001b[0mxf\u001b[0m\u001b[0;34m\u001b[0m\u001b[0;34m\u001b[0m\u001b[0m\n\u001b[0;32m-> 1741\u001b[0;31m     \u001b[0mfx\u001b[0m \u001b[0;34m=\u001b[0m \u001b[0mfunc\u001b[0m\u001b[0;34m(\u001b[0m\u001b[0mx\u001b[0m\u001b[0;34m,\u001b[0m \u001b[0;34m*\u001b[0m\u001b[0margs\u001b[0m\u001b[0;34m)\u001b[0m\u001b[0;34m\u001b[0m\u001b[0;34m\u001b[0m\u001b[0m\n\u001b[0m\u001b[1;32m   1742\u001b[0m     \u001b[0mnum\u001b[0m \u001b[0;34m=\u001b[0m \u001b[0;36m1\u001b[0m\u001b[0;34m\u001b[0m\u001b[0;34m\u001b[0m\u001b[0m\n\u001b[1;32m   1743\u001b[0m     \u001b[0mfmin_data\u001b[0m \u001b[0;34m=\u001b[0m \u001b[0;34m(\u001b[0m\u001b[0;36m1\u001b[0m\u001b[0;34m,\u001b[0m \u001b[0mxf\u001b[0m\u001b[0;34m,\u001b[0m \u001b[0mfx\u001b[0m\u001b[0;34m)\u001b[0m\u001b[0;34m\u001b[0m\u001b[0;34m\u001b[0m\u001b[0m\n",
      "\u001b[0;32m<ipython-input-30-e9980e9a5ac6>\u001b[0m in \u001b[0;36m<lambda>\u001b[0;34m(alpha_opt)\u001b[0m\n\u001b[1;32m    128\u001b[0m             \u001b[0mpred_opt\u001b[0m \u001b[0;34m=\u001b[0m \u001b[0mdec_tree\u001b[0m\u001b[0;34m.\u001b[0m\u001b[0mpredict\u001b[0m\u001b[0;34m(\u001b[0m\u001b[0mX\u001b[0m\u001b[0;34m[\u001b[0m\u001b[0mindexes_obj_subset\u001b[0m\u001b[0;34m]\u001b[0m\u001b[0;34m)\u001b[0m\u001b[0;34m\u001b[0m\u001b[0;34m\u001b[0m\u001b[0m\n\u001b[1;32m    129\u001b[0m             \u001b[0;31m#optimize model coef\u001b[0m\u001b[0;34m\u001b[0m\u001b[0;34m\u001b[0m\u001b[0;34m\u001b[0m\u001b[0m\n\u001b[0;32m--> 130\u001b[0;31m             alpha_i = minimize_scalar(lambda alpha_opt: np.mean((y[indexes_obj_subset] - predict_sum - alpha_opt * pred_opt) ** 2),\n\u001b[0m\u001b[1;32m    131\u001b[0m                                       \u001b[0mbounds\u001b[0m\u001b[0;34m=\u001b[0m\u001b[0;34m(\u001b[0m\u001b[0;36m0\u001b[0m\u001b[0;34m,\u001b[0m \u001b[0;36m100\u001b[0m\u001b[0;34m)\u001b[0m\u001b[0;34m,\u001b[0m\u001b[0;34m\u001b[0m\u001b[0;34m\u001b[0m\u001b[0m\n\u001b[1;32m    132\u001b[0m                                       \u001b[0mmethod\u001b[0m\u001b[0;34m=\u001b[0m\u001b[0;34m'bounded'\u001b[0m\u001b[0;34m,\u001b[0m\u001b[0;34m\u001b[0m\u001b[0;34m\u001b[0m\u001b[0m\n",
      "\u001b[0;31mMemoryError\u001b[0m: "
     ]
    }
   ],
   "source": [
    "%%time\n",
    "\n",
    "gb_my.fit(X_train.values, y_train.values)"
   ]
  },
  {
   "cell_type": "code",
   "execution_count": null,
   "metadata": {},
   "outputs": [],
   "source": [
    "gb_my_preds = gb_my.predict(X_test.values)"
   ]
  },
  {
   "cell_type": "code",
   "execution_count": null,
   "metadata": {},
   "outputs": [],
   "source": []
  }
 ],
 "metadata": {
  "kernelspec": {
   "display_name": "Python 3",
   "language": "python",
   "name": "python3"
  },
  "language_info": {
   "codemirror_mode": {
    "name": "ipython",
    "version": 3
   },
   "file_extension": ".py",
   "mimetype": "text/x-python",
   "name": "python",
   "nbconvert_exporter": "python",
   "pygments_lexer": "ipython3",
   "version": "3.7.4"
  }
 },
 "nbformat": 4,
 "nbformat_minor": 2
}
