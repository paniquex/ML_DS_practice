{
 "cells": [
  {
   "cell_type": "code",
   "execution_count": 1,
   "metadata": {},
   "outputs": [],
   "source": [
    "import numpy as np\n",
    "from sklearn.tree import DecisionTreeRegressor\n",
    "from scipy.optimize import minimize_scalar\n",
    "from sklearn.metrics import mean_squared_error\n",
    "import time\n",
    "\n",
    "\n",
    "class RandomForestMSE:\n",
    "    def __init__(self, n_estimators, max_depth=None, feature_subsample_size=None,\n",
    "                 object_subsample_size=None,\n",
    "                 **trees_parameters):\n",
    "        \"\"\"\n",
    "        n_estimators : int\n",
    "            The number of trees in the forest.\n",
    "\n",
    "        max_depth : int\n",
    "            The maximum depth of the tree. If None then there is no limits.\n",
    "\n",
    "        feature_subsample_size : float\n",
    "            The size of feature set for each tree. If None then use recommendations.\n",
    "        \"\"\"\n",
    "\n",
    "        self.n_estimators = n_estimators\n",
    "        self.max_depth = max_depth\n",
    "        self.feature_subsample_size = feature_subsample_size\n",
    "        self.object_subsample_size = object_subsample_size\n",
    "        self.trees_parameters = trees_parameters\n",
    "        \n",
    "    def fit(self, X, y):\n",
    "        \"\"\"\n",
    "        X : numpy ndarray\n",
    "            Array of size n_objects, n_features\n",
    "\n",
    "        y : numpy ndarray\n",
    "            Array of size n_objects\n",
    "        \"\"\"\n",
    "\n",
    "        if self.feature_subsample_size is None:\n",
    "            self.feature_subsample_size = X.shape[1] // 3\n",
    "        if self.object_subsample_size is None:\n",
    "            self.object_subsample_size = X.shape[0]\n",
    "        \n",
    "\n",
    "        indexes_obj_all = np.arange(X.shape[0])\n",
    "        self.tree_models = []\n",
    "        for i in range(self.n_estimators):\n",
    "            indexes_obj_subset = np.random.choice(indexes_obj_all,\n",
    "                                                  size=self.object_subsample_size,\n",
    "                                                  replace=True)\n",
    "            dec_tree = None\n",
    "            dec_tree = DecisionTreeRegressor(max_depth=self.max_depth,\n",
    "                                             max_features=self.feature_subsample_size,\n",
    "                                             **self.trees_parameters)\n",
    "            dec_tree.fit(X[indexes_obj_subset],\n",
    "                         y[indexes_obj_subset])\n",
    "            self.tree_models.append(dec_tree)\n",
    "            del dec_tree\n",
    "\n",
    "    def predict(self, X):\n",
    "        \"\"\"\n",
    "        X : numpy ndarray\n",
    "            Array of size n_objects, n_features\n",
    "\n",
    "        Returns\n",
    "        -------\n",
    "        y : numpy ndarray\n",
    "            Array of size n_objects\n",
    "        \"\"\"\n",
    "\n",
    "        preds = np.zeros(X.shape[0])\n",
    "        for i in range(self.n_estimators):\n",
    "            preds += self.tree_models[i].predict(X) / self.n_estimators\n",
    "        return preds\n",
    "\n",
    "\n",
    "class GradientBoostingMSE:\n",
    "    def __init__(self, n_estimators, learning_rate=0.1, max_depth=5, feature_subsample_size=None,\n",
    "                 object_subsample_size=None,\n",
    "                 **trees_parameters):\n",
    "        \"\"\"\n",
    "        n_estimators : int\n",
    "            The number of trees in the forest.\n",
    "\n",
    "        learning_rate : float\n",
    "            Use learning_rate * gamma instead of gamma\n",
    "\n",
    "        max_depth : int\n",
    "            The maximum depth of the tree. If None then there is no limits.\n",
    "\n",
    "        feature_subsample_size : float\n",
    "            The size of feature set for each tree. If None then use recommendations.\n",
    "        \"\"\"\n",
    "\n",
    "        self.n_estimators = n_estimators\n",
    "        self.learning_rate = learning_rate\n",
    "        self.max_depth = max_depth\n",
    "        \n",
    "        self.feature_subsample_size = feature_subsample_size\n",
    "        self.object_subsample_size = object_subsample_size\n",
    "        self.trees_parameters = trees_parameters\n",
    "\n",
    "    def fit(self, X, y):\n",
    "        \"\"\"\n",
    "        X : numpy ndarray\n",
    "            Array of size n_objects, n_features\n",
    "\n",
    "        y : numpy ndarray\n",
    "            Array of size n_objects\n",
    "        \"\"\"\n",
    "        \n",
    "        if self.feature_subsample_size is None:\n",
    "            self.feature_subsample_size = X.shape[1] // 3\n",
    "        if self.object_subsample_size is None:\n",
    "            self.object_subsample_size = X.shape[0]\n",
    "        \n",
    "        \n",
    "        indexes_obj_all = np.arange(X.shape[0])\n",
    "\n",
    "        self.obj_indexes = []\n",
    "        self.alpha_arr = []\n",
    "        self.models_arr = []\n",
    "\n",
    "        predict_sum = np.zeros(X.shape[0])\n",
    "\n",
    "        for i in range(self.n_estimators):\n",
    "            dec_tree = DecisionTreeRegressor(**self.trees_parameters, max_depth=self.max_depth,\n",
    "                                             max_features=self.feature_subsample_size)\n",
    "            indexes_obj_subset = np.random.choice(indexes_obj_all,\n",
    "                                                  size=self.object_subsample_size,\n",
    "                                                  replace=True)\n",
    "            # optimize model\n",
    "\n",
    "            s_i = 2 * (y[indexes_obj_subset] - predict_sum[indexes_obj_subset])\n",
    "\n",
    "            dec_tree.fit(X[indexes_obj_subset], s_i)\n",
    "            pred_opt = dec_tree.predict(X[indexes_obj_subset])\n",
    "            # optimize model coef\n",
    "\n",
    "            alpha_i = minimize_scalar(lambda alpha_opt: np.mean((- y[indexes_obj_subset] + predict_sum[indexes_obj_subset] + alpha_opt * pred_opt) ** 2),\n",
    "                                      bounds=(0, 1000),\n",
    "                                      method='Bounded').x\n",
    "\n",
    "            self.obj_indexes.append(indexes_obj_subset)\n",
    "            \n",
    "            self.alpha_arr.append(alpha_i * self.learning_rate)\n",
    "            self.models_arr.append(dec_tree)\n",
    "\n",
    "            predict_sum += self.models_arr[-1].predict(X[indexes_obj_subset]) * self.alpha_arr[-1]\n",
    "\n",
    "    def predict(self, X):\n",
    "        \"\"\"\n",
    "        X : numpy ndarray\n",
    "            Array of size n_objects, n_features\n",
    "\n",
    "        Returns\n",
    "        -------\n",
    "        y : numpy ndarray\n",
    "            Array of size n_objects\n",
    "        \"\"\"\n",
    "\n",
    "        pred = 0\n",
    "        preds_all = []\n",
    "        self.rmse_per_iter = []\n",
    "        for i in range(len(self.models_arr)):\n",
    "            preds_all.append(self.models_arr[i].predict(X))\n",
    "        return np.sum(np.array(self.alpha_arr)[:, None] * np.array(preds_all), axis=0)\n",
    "\n",
    "\n",
    "    def collect_statistics(self, X, y):\n",
    "\n",
    "        pred = 0\n",
    "        preds_all = []\n",
    "        self.statistics = {'time': [], 'rmse': [], 'max_depth': self.max_depth, 'learning_rate': self.learning_rate,\n",
    "                           'feature_sub_sample_size': self.feature_subsample_size}\n",
    "        for i in range(len(self.models_arr)):\n",
    "            start_time = time.time()\n",
    "            preds_all.append(self.models_arr[i].predict(X))\n",
    "\n",
    "            pred = np.sum(np.array(self.alpha_arr)[:i + 1, None] * np.array(preds_all), axis=0)\n",
    "            self.statistics['rmse'].append(np.sqrt(mean_squared_error(y, pred)))\n",
    "            self.statistics['time'].append(time.time() - start_time)\n",
    "        return np.sum(np.array(self.alpha_arr)[:, None] * np.array(preds_all), axis=0)\n"
   ]
  },
  {
   "cell_type": "code",
   "execution_count": 2,
   "metadata": {},
   "outputs": [],
   "source": [
    "from sklearn.model_selection import train_test_split\n",
    "from sklearn.ensemble import RandomForestRegressor"
   ]
  },
  {
   "cell_type": "code",
   "execution_count": 25,
   "metadata": {},
   "outputs": [],
   "source": [
    "import pandas as pd\n",
    "\n",
    "train_data = pd.read_csv('./data/data.csv', index_col=0)\n",
    "target = pd.read_csv('./data/target.csv', index_col=0)"
   ]
  },
  {
   "cell_type": "markdown",
   "metadata": {},
   "source": [
    "Удалим id, так как он не несет никакую информацию для модели, и преобразуем date с помощью `LabelEncoder`."
   ]
  },
  {
   "cell_type": "code",
   "execution_count": 26,
   "metadata": {},
   "outputs": [],
   "source": [
    "from sklearn.preprocessing import LabelEncoder\n",
    "train_data.drop(columns='id', inplace=True)\n",
    "\n",
    "le = LabelEncoder()\n",
    "train_data['date'] = le.fit_transform(train_data['date'].values)\n"
   ]
  },
  {
   "cell_type": "code",
   "execution_count": 5,
   "metadata": {},
   "outputs": [],
   "source": [
    "X_train, X_test, y_train, y_test = train_test_split(train_data, target, train_size=0.8,\n",
    "                                                    random_state=13)"
   ]
  },
  {
   "cell_type": "code",
   "execution_count": 6,
   "metadata": {},
   "outputs": [],
   "source": [
    "rand_forest_my = RandomForestMSE(n_estimators=100, max_depth=10, feature_subsample_size=None)\n",
    "rand_forest_sklearn = RandomForestRegressor(n_estimators=100, max_depth=10)"
   ]
  },
  {
   "cell_type": "code",
   "execution_count": 7,
   "metadata": {},
   "outputs": [],
   "source": [
    "from sklearn.metrics import mean_squared_error"
   ]
  },
  {
   "cell_type": "code",
   "execution_count": 8,
   "metadata": {},
   "outputs": [
    {
     "name": "stdout",
     "output_type": "stream",
     "text": [
      "CPU times: user 2.31 s, sys: 3.03 ms, total: 2.32 s\n",
      "Wall time: 2.32 s\n"
     ]
    }
   ],
   "source": [
    "%%time\n",
    "rand_forest_my.fit(X_train.values, y_train.values)"
   ]
  },
  {
   "cell_type": "code",
   "execution_count": 9,
   "metadata": {},
   "outputs": [],
   "source": [
    "preds_my = rand_forest_my.predict(X_test.values)"
   ]
  },
  {
   "cell_type": "code",
   "execution_count": 10,
   "metadata": {},
   "outputs": [
    {
     "data": {
      "text/plain": [
       "347312.69204946"
      ]
     },
     "execution_count": 10,
     "metadata": {},
     "output_type": "execute_result"
    }
   ],
   "source": [
    "np.sqrt(mean_squared_error(y_test, preds_my))"
   ]
  },
  {
   "cell_type": "code",
   "execution_count": 11,
   "metadata": {
    "scrolled": true
   },
   "outputs": [
    {
     "name": "stderr",
     "output_type": "stream",
     "text": [
      "/home/paniquex/anaconda3/envs/kaggle/lib/python3.7/site-packages/ipykernel_launcher.py:1: DataConversionWarning: A column-vector y was passed when a 1d array was expected. Please change the shape of y to (n_samples,), for example using ravel().\n",
      "  \"\"\"Entry point for launching an IPython kernel.\n"
     ]
    },
    {
     "name": "stdout",
     "output_type": "stream",
     "text": [
      "CPU times: user 4.81 s, sys: 7.77 ms, total: 4.81 s\n",
      "Wall time: 4.81 s\n"
     ]
    },
    {
     "data": {
      "text/plain": [
       "RandomForestRegressor(bootstrap=True, criterion='mse', max_depth=10,\n",
       "                      max_features='auto', max_leaf_nodes=None,\n",
       "                      min_impurity_decrease=0.0, min_impurity_split=None,\n",
       "                      min_samples_leaf=1, min_samples_split=2,\n",
       "                      min_weight_fraction_leaf=0.0, n_estimators=100,\n",
       "                      n_jobs=None, oob_score=False, random_state=None,\n",
       "                      verbose=0, warm_start=False)"
      ]
     },
     "execution_count": 11,
     "metadata": {},
     "output_type": "execute_result"
    }
   ],
   "source": [
    "%%time\n",
    "rand_forest_sklearn.fit(X_train.values, y_train.values)"
   ]
  },
  {
   "cell_type": "code",
   "execution_count": 12,
   "metadata": {},
   "outputs": [],
   "source": [
    "preds_sklearn = rand_forest_sklearn.predict(X_test.values)"
   ]
  },
  {
   "cell_type": "code",
   "execution_count": 13,
   "metadata": {},
   "outputs": [
    {
     "data": {
      "text/plain": [
       "347558.0570251268"
      ]
     },
     "execution_count": 13,
     "metadata": {},
     "output_type": "execute_result"
    }
   ],
   "source": [
    "np.sqrt(mean_squared_error(y_test, preds_sklearn))"
   ]
  },
  {
   "cell_type": "code",
   "execution_count": 14,
   "metadata": {},
   "outputs": [],
   "source": [
    "gb_my = GradientBoostingMSE(n_estimators=100, max_depth=3, feature_subsample_size=None, learning_rate=0.1)\n",
    "# rand_forest_sklearn = RandomForestRegressor(n_estimators=100, max_depth=10)"
   ]
  },
  {
   "cell_type": "code",
   "execution_count": 15,
   "metadata": {},
   "outputs": [
    {
     "name": "stdout",
     "output_type": "stream",
     "text": [
      "CPU times: user 12.9 s, sys: 304 ms, total: 13.2 s\n",
      "Wall time: 1.24 s\n"
     ]
    }
   ],
   "source": [
    "%%time\n",
    "\n",
    "gb_my.fit(X_train.values, y_train.values.reshape(-1))"
   ]
  },
  {
   "cell_type": "code",
   "execution_count": 16,
   "metadata": {},
   "outputs": [],
   "source": [
    "gb_my_preds = gb_my.predict(X_test.values)"
   ]
  },
  {
   "cell_type": "code",
   "execution_count": 17,
   "metadata": {},
   "outputs": [
    {
     "data": {
      "text/plain": [
       "354685.63164512755"
      ]
     },
     "execution_count": 17,
     "metadata": {},
     "output_type": "execute_result"
    }
   ],
   "source": [
    "np.sqrt(mean_squared_error(y_test, gb_my_preds))"
   ]
  },
  {
   "cell_type": "code",
   "execution_count": 18,
   "metadata": {},
   "outputs": [],
   "source": [
    "from sklearn.ensemble import GradientBoostingRegressor\n",
    "\n",
    "gb_sklearn = GradientBoostingRegressor(criterion='mse',\n",
    "                                       n_estimators=1000, max_depth=3, max_features=None, learning_rate=0.1)"
   ]
  },
  {
   "cell_type": "code",
   "execution_count": 19,
   "metadata": {},
   "outputs": [
    {
     "name": "stdout",
     "output_type": "stream",
     "text": [
      "CPU times: user 1min 18s, sys: 1.85 s, total: 1min 20s\n",
      "Wall time: 7.31 s\n"
     ]
    },
    {
     "data": {
      "text/plain": [
       "GradientBoostingRegressor(alpha=0.9, criterion='mse', init=None,\n",
       "                          learning_rate=0.1, loss='ls', max_depth=3,\n",
       "                          max_features=None, max_leaf_nodes=None,\n",
       "                          min_impurity_decrease=0.0, min_impurity_split=None,\n",
       "                          min_samples_leaf=1, min_samples_split=2,\n",
       "                          min_weight_fraction_leaf=0.0, n_estimators=1000,\n",
       "                          n_iter_no_change=None, presort='auto',\n",
       "                          random_state=None, subsample=1.0, tol=0.0001,\n",
       "                          validation_fraction=0.1, verbose=0, warm_start=False)"
      ]
     },
     "execution_count": 19,
     "metadata": {},
     "output_type": "execute_result"
    }
   ],
   "source": [
    "%%time\n",
    "\n",
    "gb_sklearn.fit(X_train.values, y_train.values.reshape(-1))"
   ]
  },
  {
   "cell_type": "code",
   "execution_count": 20,
   "metadata": {},
   "outputs": [],
   "source": [
    "gb_sklearn_preds = gb_sklearn.predict(X_test.values)"
   ]
  },
  {
   "cell_type": "code",
   "execution_count": 21,
   "metadata": {},
   "outputs": [
    {
     "data": {
      "text/plain": [
       "364261.47239136806"
      ]
     },
     "execution_count": 21,
     "metadata": {},
     "output_type": "execute_result"
    }
   ],
   "source": [
    "np.sqrt(mean_squared_error(y_test, gb_sklearn_preds))"
   ]
  },
  {
   "cell_type": "code",
   "execution_count": 22,
   "metadata": {},
   "outputs": [
    {
     "data": {
      "text/plain": [
       "array([586599.06067645, 510982.07223391, 623026.41954241, ...,\n",
       "       524063.33436287, 549963.79467707, 592287.04645928])"
      ]
     },
     "execution_count": 22,
     "metadata": {},
     "output_type": "execute_result"
    }
   ],
   "source": [
    "gb_my.collect_statistics(X_test.values, y_test.values.reshape(-1))"
   ]
  },
  {
   "cell_type": "code",
   "execution_count": 23,
   "metadata": {},
   "outputs": [
    {
     "data": {
      "text/plain": [
       "array([0.00040317, 0.00071025, 0.00099778, 0.00131035, 0.00160933,\n",
       "       0.00193501, 0.00224257, 0.00256443, 0.00288272, 0.00321269,\n",
       "       0.00354004, 0.00387001, 0.00420189, 0.00458884, 0.00494671,\n",
       "       0.00532269, 0.00569463, 0.00608087, 0.00761986, 0.00813603,\n",
       "       0.00861192, 0.00927758, 0.00990868, 0.01037216, 0.01102638,\n",
       "       0.01151371, 0.01198649, 0.01249647, 0.01298285, 0.01345873,\n",
       "       0.01398253, 0.01448345, 0.01498485, 0.01553774, 0.01609039,\n",
       "       0.01663017, 0.01722026, 0.01775503, 0.0182972 , 0.01881313,\n",
       "       0.0193584 , 0.01991034, 0.02047133, 0.0209043 , 0.02128696,\n",
       "       0.02166581, 0.0220716 , 0.02246237, 0.02285504, 0.02328038,\n",
       "       0.02368164, 0.02408266, 0.02450395, 0.02492404, 0.02535963,\n",
       "       0.02577543, 0.02621055, 0.02664518, 0.02720952, 0.02788162,\n",
       "       0.02856445, 0.02923203, 0.02988267, 0.03058386, 0.03126597,\n",
       "       0.03173971, 0.03220582, 0.03272295, 0.03319883, 0.03369403,\n",
       "       0.03418517, 0.03468776, 0.03521752, 0.0357337 , 0.03627992,\n",
       "       0.03687096, 0.03738809, 0.03791404, 0.03843689, 0.03896928,\n",
       "       0.03949666, 0.04003835, 0.04064107, 0.04121375, 0.04175949,\n",
       "       0.04238391, 0.0433557 , 0.04422522, 0.04499745, 0.04559755,\n",
       "       0.04617071, 0.04674339, 0.04730773, 0.04790545, 0.04851413,\n",
       "       0.04912162, 0.04971957, 0.05045271, 0.05173874, 0.05306578])"
      ]
     },
     "execution_count": 23,
     "metadata": {},
     "output_type": "execute_result"
    }
   ],
   "source": [
    "np.cumsum(gb_my.statistics['time'])"
   ]
  },
  {
   "cell_type": "code",
   "execution_count": null,
   "metadata": {},
   "outputs": [],
   "source": []
  }
 ],
 "metadata": {
  "kernelspec": {
   "display_name": "Python 3",
   "language": "python",
   "name": "python3"
  },
  "language_info": {
   "codemirror_mode": {
    "name": "ipython",
    "version": 3
   },
   "file_extension": ".py",
   "mimetype": "text/x-python",
   "name": "python",
   "nbconvert_exporter": "python",
   "pygments_lexer": "ipython3",
   "version": "3.7.5"
  }
 },
 "nbformat": 4,
 "nbformat_minor": 2
}
