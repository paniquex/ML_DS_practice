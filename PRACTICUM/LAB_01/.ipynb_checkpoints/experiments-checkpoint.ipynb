{
 "cells": [
  {
   "cell_type": "markdown",
   "metadata": {},
   "source": [
    "## Import modules"
   ]
  },
  {
   "cell_type": "code",
   "execution_count": 1,
   "metadata": {},
   "outputs": [],
   "source": [
    "# sklearn\n",
    "from sklearn.datasets import fetch_openml\n",
    "\n",
    "import numpy as np\n",
    "\n",
    "import matplotlib.pyplot as plt"
   ]
  },
  {
   "cell_type": "markdown",
   "metadata": {},
   "source": [
    "## Loading data"
   ]
  },
  {
   "cell_type": "code",
   "execution_count": 2,
   "metadata": {},
   "outputs": [
    {
     "name": "stdout",
     "output_type": "stream",
     "text": [
      "CPU times: user 22.8 s, sys: 1.83 s, total: 24.6 s\n",
      "Wall time: 47.7 s\n"
     ]
    }
   ],
   "source": [
    "%%time\n",
    "full_data = fetch_openml(\"mnist_784\")"
   ]
  },
  {
   "cell_type": "code",
   "execution_count": 3,
   "metadata": {},
   "outputs": [
    {
     "data": {
      "text/plain": [
       "dict_keys(['data', 'target', 'feature_names', 'DESCR', 'details', 'categories', 'url'])"
      ]
     },
     "execution_count": 3,
     "metadata": {},
     "output_type": "execute_result"
    }
   ],
   "source": [
    "full_data.keys()"
   ]
  },
  {
   "cell_type": "code",
   "execution_count": 4,
   "metadata": {},
   "outputs": [
    {
     "data": {
      "text/plain": [
       "(70000,)"
      ]
     },
     "execution_count": 4,
     "metadata": {},
     "output_type": "execute_result"
    }
   ],
   "source": [
    "full_data['target'].shape"
   ]
  },
  {
   "cell_type": "code",
   "execution_count": 5,
   "metadata": {},
   "outputs": [],
   "source": [
    "train_size = 60000\n",
    "test_size = 10000"
   ]
  },
  {
   "cell_type": "markdown",
   "metadata": {},
   "source": [
    "## Separate full_data to train and test"
   ]
  },
  {
   "cell_type": "code",
   "execution_count": 6,
   "metadata": {},
   "outputs": [],
   "source": [
    "train_data = {'data': full_data['data'][:train_size], 'target': full_data['target'][:train_size]}\n",
    "test_data = {'data': full_data['data'][train_size:], 'target': full_data['target'][train_size:]}"
   ]
  },
  {
   "cell_type": "markdown",
   "metadata": {},
   "source": [
    "## Let's visualize first 10 digits from train:"
   ]
  },
  {
   "cell_type": "code",
   "execution_count": 7,
   "metadata": {
    "scrolled": true
   },
   "outputs": [
    {
     "data": {
      "image/png": "[encoded data removed]",
      "text/plain": [
       "<Figure size 1080x1080 with 10 Axes>"
      ]
     },
     "metadata": {
      "needs_background": "light"
     },
     "output_type": "display_data"
    }
   ],
   "source": [
    "digits_to_show = 10\n",
    "fig = plt.figure(figsize=(15, 15))\n",
    "for i in range(digits_to_show):\n",
    "    ax = fig.add_subplot(1, digits_to_show + 1, i+1)\n",
    "    ax.imshow(train_data['data'][i].reshape(28, 28), cmap=plt.get_cmap('Greys_r'))\n",
    "    ax.set_title('Class target: ' + train_data['target'][i])\n",
    "    ax.axis(\"off\")\n",
    "plt.tight_layout()\n",
    "plt.show()"
   ]
  },
  {
   "cell_type": "markdown",
   "metadata": {},
   "source": [
    "## Testing my KNNClassifier"
   ]
  },
  {
   "cell_type": "code",
   "execution_count": 41,
   "metadata": {},
   "outputs": [],
   "source": [
    "train_data['target'] = train_data['target'].astype(int)\n",
    "test_data['target'] = test_data['target'].astype(int)"
   ]
  },
  {
   "cell_type": "code",
   "execution_count": 64,
   "metadata": {},
   "outputs": [],
   "source": [
    "from sklearn.neighbors import NearestNeighbors\n",
    "from sklearn.neighbors import KNeighborsClassifier\n",
    "import numpy as np\n",
    "from distances import euclidean_distance, cosine_distance\n",
    "\n",
    "\n",
    "class KNNClassifier:\n",
    "    def __init__(self,\n",
    "                 k=10,\n",
    "                 strategy='my_own',\n",
    "                 metric='euclidean',\n",
    "                 weights=False,\n",
    "                 test_block_size=100\n",
    "                 ):\n",
    "        \"\"\"\n",
    "        params:\n",
    "            * k - amount of nearest neighbours(nn)\n",
    "            * strategy - nn searching algorithm. Possible values:\n",
    "                - 'my_own' - self-realization\n",
    "                - 'brute' - from sklearn.neighbors.NearestNeighbors(algorithm='brute')\n",
    "                - 'kd_tree' - from sklearn.neighbors.NearestNeighbors(algorithm='kd_tree')\n",
    "                - 'ball_tree' - from sklearn.neighbors.NearestNeighbors(algorithm='ball_tree')\n",
    "            * metric:\n",
    "                - 'euclidean' - euclidean metric\n",
    "                - 'cosine' - cosine metric\n",
    "            * weights - bool variable.\n",
    "                - True - weighted KNN(with distance)\n",
    "                - False - simple KNN\n",
    "            * test_block_size - size of test block\n",
    "        \"\"\"\n",
    "\n",
    "        self.k = k\n",
    "        self.strategy = strategy\n",
    "        self.metric = metric\n",
    "        self.eps = 1e-5\n",
    "        if weights:\n",
    "            self.weights = 'distance'\n",
    "        else:\n",
    "            self.weights = 'uniform'\n",
    "        self.test_block_size = test_block_size\n",
    "\n",
    "    def fit(self, X, y):\n",
    "        \"\"\"\n",
    "        params:\n",
    "            * X - train data\n",
    "            * y - targets for train data\n",
    "        \"\"\"\n",
    "\n",
    "        self.model = None\n",
    "        if self.strategy != 'my_own':\n",
    "            self.model = NearestNeighbors(n_neighbors=self.k, algorithm=self.strategy)\n",
    "            self.X_train = X\n",
    "            self.y_train = y\n",
    "            self.model.fit(X, y)\n",
    "        else:\n",
    "            self.X_train = X\n",
    "            self.y_train = y\n",
    "\n",
    "    def find_kneighbors(self, X, return_distance):\n",
    "        \"\"\"\n",
    "        params:\n",
    "            * X - objects sample\n",
    "            * return_distance - bool variable\n",
    "\n",
    "        return values:\n",
    "            * If return_distance == True:\n",
    "                * tuple with two numpy array with size (X.shape[0], k), where:\n",
    "                  [i, j] elem of first array must be the distance between\n",
    "                  i-th object and his j-th nearest neighbour\n",
    "                  [i, j] elem of second array must be the index of j-th nearest neighbour to i-th object\n",
    "            * If return_distance == False:\n",
    "                * only second array\n",
    "        \"\"\"\n",
    "\n",
    "        if self.strategy != 'my_own':\n",
    "            self.distances, \\\n",
    "                self.neigh_idxs = self.model.kneighbors(X, n_neighbors=self.k)\n",
    "        else:\n",
    "            if self.metric == 'euclidean':\n",
    "                self.distances = euclidean_distance(X, self.X_train)\n",
    "                self.neigh_idxs = np.argsort(self.distances,\n",
    "                                             axis=1,\n",
    "                                             kind='quicksort')[:, :self.k]\n",
    "                if return_distance:\n",
    "                    self.distances = np.sort(self.distances,\n",
    "                                             axis=1,\n",
    "                                             kind='quicksort')[:, :self.k]\n",
    "\n",
    "            elif self.metric == 'cosine':\n",
    "                self.distances = cosine_distance(X, self.X_train),\n",
    "                self.neigh_idxs = np.argsort(self.distances,\n",
    "                                             axis=1,\n",
    "                                             kind='quicksort')[:, :self.k]\n",
    "                if return_distance:\n",
    "                    self.distances = np.sort(self.distances,\n",
    "                                             axis=1,\n",
    "                                             kind='quicksort')[:, :self.k]\n",
    "\n",
    "        if return_distance:\n",
    "            return self.distances, self.neigh_idxs\n",
    "        return self.neigh_idxs\n",
    "\n",
    "    def predict(self, X):\n",
    "        \"\"\"\n",
    "        params:\n",
    "            * X - test objects\n",
    "\n",
    "        return values:\n",
    "            * numpy array with size X.shape[0] of predictions for test objects from X\n",
    "        \"\"\"\n",
    "\n",
    "        preds = np.zeros((X.shape[0]))\n",
    "        split_size = X.shape[0] // self.test_block_size + \\\n",
    "                     int(X.shape[0] % self.test_block_size != 0)\n",
    "        for i, split in enumerate(np.array_split(X, split_size)):\n",
    "            if i != 0:\n",
    "                del self.distances\n",
    "                del self.neigh_idxs\n",
    "            self.find_kneighbors(split, True)\n",
    "            for j, idx in enumerate(self.neigh_idxs):\n",
    "                if self.weights == 'distance':\n",
    "                    counts = np.bincount(self.y_train[idx],\n",
    "                                         weights=1 / (self.distances[j, :self.k] + self.eps))\n",
    "                elif self.weights == 'uniform':\n",
    "                    counts = np.bincount(self.y_train[idx])\n",
    "                preds[j + i * self.test_block_size] = np.argmax(counts)\n",
    "        return preds\n",
    "\n",
    "\n",
    "n_test_samples = 500"
   ]
  },
  {
   "cell_type": "code",
   "execution_count": 65,
   "metadata": {},
   "outputs": [],
   "source": [
    "KNN_model = KNNClassifier(5, strategy='brute', weights=True)"
   ]
  },
  {
   "cell_type": "code",
   "execution_count": 66,
   "metadata": {},
   "outputs": [
    {
     "name": "stdout",
     "output_type": "stream",
     "text": [
      "CPU times: user 16.3 ms, sys: 11 µs, total: 16.3 ms\n",
      "Wall time: 12.3 ms\n"
     ]
    }
   ],
   "source": [
    "%%time\n",
    "KNN_model.fit(X=train_data['data'][:, 100:700:6], y=train_data['target'])"
   ]
  },
  {
   "cell_type": "code",
   "execution_count": 67,
   "metadata": {
    "scrolled": true
   },
   "outputs": [
    {
     "name": "stdout",
     "output_type": "stream",
     "text": [
      "CPU times: user 9 µs, sys: 0 ns, total: 9 µs\n",
      "Wall time: 16.2 µs\n"
     ]
    }
   ],
   "source": [
    "%%time\n",
    "# KNN_model.find_kneighbors(test_data['data'][:n_test_samples], False)\n",
    "#14.4 - True # 500 samples\n",
    "#9.56 - False # 500 samples\n",
    "\n",
    "#2min 48s - True # 10k samples\n",
    "#2min 11s - False # 10k samples"
   ]
  },
  {
   "cell_type": "code",
   "execution_count": 68,
   "metadata": {},
   "outputs": [],
   "source": [
    "# array([[53843, 38620, 16186, 27059, 47003],\n",
    "#        [28882, 49160, 24612, 31634, 16902],\n",
    "#        [58741, 46512, 15224, 47333, 44038],\n",
    "#        ...,\n",
    "#        [46124, 13852, 17844, 18510, 33708],\n",
    "#        [29034, 43258, 56724, 43706, 19908],\n",
    "#        [49436, 41800, 50670, 11132, 55520]])"
   ]
  },
  {
   "cell_type": "code",
   "execution_count": 69,
   "metadata": {
    "scrolled": true
   },
   "outputs": [
    {
     "name": "stdout",
     "output_type": "stream",
     "text": [
      "CPU times: user 21.4 s, sys: 3.06 ms, total: 21.4 s\n",
      "Wall time: 10.7 s\n"
     ]
    }
   ],
   "source": [
    "%%time\n",
    "preds = KNN_model.predict(test_data['data'][:n_test_samples, 100:700:6])\n",
    "#12.5 s - True # 500 samples\n",
    "#9.47 s - False # 500 samples\n",
    "\n",
    "# 6min 53s - True # 10k samples\n",
    "# 6min 16s - False # 10k samples"
   ]
  },
  {
   "cell_type": "code",
   "execution_count": 49,
   "metadata": {},
   "outputs": [
    {
     "ename": "ValueError",
     "evalue": "shapes (500,784) and (100,60000) not aligned: 784 (dim 1) != 100 (dim 0)",
     "output_type": "error",
     "traceback": [
      "\u001b[0;31m---------------------------------------------------------------------------\u001b[0m",
      "\u001b[0;31mValueError\u001b[0m                                Traceback (most recent call last)",
      "\u001b[0;32m<ipython-input-49-0f1f85748e58>\u001b[0m in \u001b[0;36m<module>\u001b[0;34m\u001b[0m\n\u001b[0;32m----> 1\u001b[0;31m \u001b[0marr_my\u001b[0m \u001b[0;34m=\u001b[0m \u001b[0mKNN_model\u001b[0m\u001b[0;34m.\u001b[0m\u001b[0mfind_kneighbors\u001b[0m\u001b[0;34m(\u001b[0m\u001b[0mtest_data\u001b[0m\u001b[0;34m[\u001b[0m\u001b[0;34m'data'\u001b[0m\u001b[0;34m]\u001b[0m\u001b[0;34m[\u001b[0m\u001b[0;34m:\u001b[0m\u001b[0mn_test_samples\u001b[0m\u001b[0;34m]\u001b[0m\u001b[0;34m,\u001b[0m \u001b[0mreturn_distance\u001b[0m\u001b[0;34m=\u001b[0m\u001b[0;32mFalse\u001b[0m\u001b[0;34m)\u001b[0m\u001b[0;34m\u001b[0m\u001b[0;34m\u001b[0m\u001b[0m\n\u001b[0m",
      "\u001b[0;32m<ipython-input-43-1c5a1ac5dfa0>\u001b[0m in \u001b[0;36mfind_kneighbors\u001b[0;34m(self, X, return_distance)\u001b[0m\n\u001b[1;32m     78\u001b[0m         \u001b[0;32melse\u001b[0m\u001b[0;34m:\u001b[0m\u001b[0;34m\u001b[0m\u001b[0;34m\u001b[0m\u001b[0m\n\u001b[1;32m     79\u001b[0m             \u001b[0;32mif\u001b[0m \u001b[0mself\u001b[0m\u001b[0;34m.\u001b[0m\u001b[0mmetric\u001b[0m \u001b[0;34m==\u001b[0m \u001b[0;34m'euclidean'\u001b[0m\u001b[0;34m:\u001b[0m\u001b[0;34m\u001b[0m\u001b[0;34m\u001b[0m\u001b[0m\n\u001b[0;32m---> 80\u001b[0;31m                 \u001b[0mself\u001b[0m\u001b[0;34m.\u001b[0m\u001b[0mdistances\u001b[0m \u001b[0;34m=\u001b[0m \u001b[0meuclidean_distance\u001b[0m\u001b[0;34m(\u001b[0m\u001b[0mX\u001b[0m\u001b[0;34m,\u001b[0m \u001b[0mself\u001b[0m\u001b[0;34m.\u001b[0m\u001b[0mX_train\u001b[0m\u001b[0;34m)\u001b[0m\u001b[0;34m\u001b[0m\u001b[0;34m\u001b[0m\u001b[0m\n\u001b[0m\u001b[1;32m     81\u001b[0m                 self.neigh_idxs = np.argsort(self.distances,\n\u001b[1;32m     82\u001b[0m                                              \u001b[0maxis\u001b[0m\u001b[0;34m=\u001b[0m\u001b[0;36m1\u001b[0m\u001b[0;34m,\u001b[0m\u001b[0;34m\u001b[0m\u001b[0;34m\u001b[0m\u001b[0m\n",
      "\u001b[0;32m~/Documents/MMP_3course/PRACTICUM/LAB_01/distances.py\u001b[0m in \u001b[0;36meuclidean_distance\u001b[0;34m(X, Y)\u001b[0m\n\u001b[1;32m     14\u001b[0m     \u001b[0mX_sqr\u001b[0m \u001b[0;34m=\u001b[0m \u001b[0mnp\u001b[0m\u001b[0;34m.\u001b[0m\u001b[0msum\u001b[0m\u001b[0;34m(\u001b[0m\u001b[0mX\u001b[0m \u001b[0;34m**\u001b[0m \u001b[0;36m2\u001b[0m\u001b[0;34m,\u001b[0m \u001b[0maxis\u001b[0m\u001b[0;34m=\u001b[0m\u001b[0;36m1\u001b[0m\u001b[0;34m)\u001b[0m\u001b[0;34m[\u001b[0m\u001b[0;34m:\u001b[0m\u001b[0;34m,\u001b[0m \u001b[0;32mNone\u001b[0m\u001b[0;34m]\u001b[0m\u001b[0;34m\u001b[0m\u001b[0;34m\u001b[0m\u001b[0m\n\u001b[1;32m     15\u001b[0m     \u001b[0mY_sqr\u001b[0m \u001b[0;34m=\u001b[0m \u001b[0mnp\u001b[0m\u001b[0;34m.\u001b[0m\u001b[0msum\u001b[0m\u001b[0;34m(\u001b[0m\u001b[0mY\u001b[0m \u001b[0;34m**\u001b[0m \u001b[0;36m2\u001b[0m\u001b[0;34m,\u001b[0m \u001b[0maxis\u001b[0m\u001b[0;34m=\u001b[0m\u001b[0;36m1\u001b[0m\u001b[0;34m)\u001b[0m\u001b[0;34m\u001b[0m\u001b[0;34m\u001b[0m\u001b[0m\n\u001b[0;32m---> 16\u001b[0;31m     \u001b[0;32mreturn\u001b[0m \u001b[0mnp\u001b[0m\u001b[0;34m.\u001b[0m\u001b[0msqrt\u001b[0m\u001b[0;34m(\u001b[0m\u001b[0mX_sqr\u001b[0m \u001b[0;34m-\u001b[0m \u001b[0;36m2\u001b[0m \u001b[0;34m*\u001b[0m \u001b[0mnp\u001b[0m\u001b[0;34m.\u001b[0m\u001b[0mdot\u001b[0m\u001b[0;34m(\u001b[0m\u001b[0mX\u001b[0m\u001b[0;34m,\u001b[0m \u001b[0mY\u001b[0m\u001b[0;34m.\u001b[0m\u001b[0mT\u001b[0m\u001b[0;34m)\u001b[0m \u001b[0;34m+\u001b[0m \u001b[0mY_sqr\u001b[0m\u001b[0;34m)\u001b[0m\u001b[0;34m\u001b[0m\u001b[0;34m\u001b[0m\u001b[0m\n\u001b[0m\u001b[1;32m     17\u001b[0m \u001b[0;34m\u001b[0m\u001b[0m\n\u001b[1;32m     18\u001b[0m \u001b[0;34m\u001b[0m\u001b[0m\n",
      "\u001b[0;31mValueError\u001b[0m: shapes (500,784) and (100,60000) not aligned: 784 (dim 1) != 100 (dim 0)"
     ]
    }
   ],
   "source": [
    "arr_my = KNN_model.find_kneighbors(test_data['data'][:n_test_samples], return_distance=False)"
   ]
  },
  {
   "cell_type": "code",
   "execution_count": 70,
   "metadata": {},
   "outputs": [
    {
     "data": {
      "text/plain": [
       "0.9524"
      ]
     },
     "execution_count": 70,
     "metadata": {},
     "output_type": "execute_result"
    }
   ],
   "source": [
    "sum(preds.astype(int) - test_data['target'][:n_test_samples].astype(int) == 0) / test_data['target'][:n_test_samples].size"
   ]
  },
  {
   "cell_type": "code",
   "execution_count": null,
   "metadata": {},
   "outputs": [],
   "source": []
  },
  {
   "cell_type": "markdown",
   "metadata": {},
   "source": [
    "## Testing distances"
   ]
  },
  {
   "cell_type": "code",
   "execution_count": null,
   "metadata": {},
   "outputs": [],
   "source": [
    "from distances import euclidean_distance, cosine_distance"
   ]
  },
  {
   "cell_type": "code",
   "execution_count": null,
   "metadata": {},
   "outputs": [],
   "source": [
    "k = 2\n",
    "test_arr = np.array([np.arange(i, k + i) for i in range(k)])\n",
    "# test_arr[-1, -3] = 200"
   ]
  },
  {
   "cell_type": "code",
   "execution_count": null,
   "metadata": {},
   "outputs": [],
   "source": [
    "cosine_distance(test_arr, test_arr)"
   ]
  },
  {
   "cell_type": "code",
   "execution_count": null,
   "metadata": {},
   "outputs": [],
   "source": [
    "from scipy.spatial.distance import pdist"
   ]
  },
  {
   "cell_type": "code",
   "execution_count": null,
   "metadata": {},
   "outputs": [],
   "source": [
    "pdist(test_arr)"
   ]
  },
  {
   "cell_type": "code",
   "execution_count": null,
   "metadata": {},
   "outputs": [],
   "source": [
    "import numpy as np\n",
    "\n",
    "\n",
    "# def cosine_distance(X, Y):\n",
    "#     \"\"\"\n",
    "#     params:\n",
    "#         * X - np.array with size N x D\n",
    "#         * Y - np.array with size M x D\n",
    "#     return values:\n",
    "#         * np.array with size N x M, where [i, j] - cosine distance between i-th vector from X and\n",
    "#                                                                               j-th vector from Y\n",
    "#     \"\"\"\n",
    "    \n",
    "#     X = X[None, :, :]\n",
    "#     Y = Y[:, None, :]\n",
    "#     result = np.sum(X * Y, axis=2)\n",
    "#     result /= np.sqrt(np.sum(X ** 2, axis=2))\n",
    "#     result /= np.sqrt(np.sum(Y ** 2, axis=2))\n",
    "#     return 1 - result\n",
    "\n",
    "def euclidean_distance(X, Y):\n",
    "    \"\"\"\n",
    "    params:\n",
    "        * X - np.array with size N x D\n",
    "        * Y - np.array with size M x D\n",
    "    return values:\n",
    "        * np.array with size N x M, where [i, j] - euclidean distance between i-th vector from X and\n",
    "                                                                              j-th vector from Y\n",
    "    \"\"\"\n",
    "\n",
    "    X_sqr = np.sum(X ** 2, axis=1)[:, None]\n",
    "    print(X_sqr.shape)\n",
    "    Y_sqr = np.sum(Y ** 2, axis=1)\n",
    "    print(Y_sqr.shape)\n",
    "    return np.sqrt(X_sqr - 2 * np.dot(X, Y.T) + Y_sqr)"
   ]
  },
  {
   "cell_type": "code",
   "execution_count": null,
   "metadata": {},
   "outputs": [],
   "source": [
    "X = np.arange(1, 10000)\n",
    "np.sum(X[[1, 2, 5, 6]])"
   ]
  },
  {
   "cell_type": "code",
   "execution_count": null,
   "metadata": {},
   "outputs": [],
   "source": [
    "%load_ext memory_profiler"
   ]
  },
  {
   "cell_type": "code",
   "execution_count": null,
   "metadata": {},
   "outputs": [],
   "source": [
    "%%time\n",
    "%%memit\n",
    "print(euclidean_distance(np.ones((2000, 1000)) * 5, np.ones((500, 1000))))\n",
    "#2.22 s - new on 200x500\n",
    "\n",
    "#763 ms - old on 200x500\n",
    "#7725.48 \n"
   ]
  },
  {
   "cell_type": "code",
   "execution_count": null,
   "metadata": {},
   "outputs": [],
   "source": [
    "np.shape(X[None, ...] - Y[:, None, :])"
   ]
  },
  {
   "cell_type": "code",
   "execution_count": null,
   "metadata": {},
   "outputs": [],
   "source": [
    "%%time\n",
    "std_norm = np.linalg.norm(X, axis=1)\n",
    "print('done')"
   ]
  },
  {
   "cell_type": "code",
   "execution_count": null,
   "metadata": {},
   "outputs": [],
   "source": [
    "%%time\n",
    "my_norm = np.sqrt(np.sum(X ** 2, axis=1))\n",
    "print('done')"
   ]
  },
  {
   "cell_type": "code",
   "execution_count": null,
   "metadata": {},
   "outputs": [],
   "source": [
    "sum(std_norm != my_norm)"
   ]
  },
  {
   "cell_type": "markdown",
   "metadata": {},
   "source": [
    "## Testing cross_validation"
   ]
  },
  {
   "cell_type": "code",
   "execution_count": null,
   "metadata": {},
   "outputs": [],
   "source": [
    "import numpy as np\n",
    "\n",
    "\n",
    "def kfold(n, n_folds):\n",
    "    \"\"\"\n",
    "    params:\n",
    "        * n - objects amount in sample\n",
    "        * n_folds - folds amount\n",
    "    return values:\n",
    "        * list with size n_folds, where every element is tuple of two 1D numpy array:\n",
    "            * first array contains indices of train samples\n",
    "            * second array contains indices of validation samples\n",
    "    \"\"\"\n",
    "    \n",
    "    indices = np.arange(n)\n",
    "    size_of_one_fold = int(len(indices) / n_folds)\n",
    "    size_with_folds = size_of_one_fold * n_folds\n",
    "    out_elemnts_amount = len(indices) - size_with_folds\n",
    "    train_test_idx_list = []\n",
    "    for i in range(n_folds):\n",
    "        test_idx = indices[i * size_of_one_fold:(i + 1) * size_of_one_fold]\n",
    "        if out_elemnts_amount > 0:\n",
    "            test_idx = np.append(test_idx, n - out_elemnts_amount)\n",
    "            out_elemnts_amount -= 1\n",
    "        train_idx = np.array(list((set(indices) - set(test_idx))))\n",
    "        train_test_idx_list.append((train_idx, test_idx))\n",
    "    return train_test_idx_list\n",
    "    \n",
    "\n",
    "def knn_cross_val_score(X, y, k_list, score, cv, **kwargs):\n",
    "    \"\"\"\n",
    "    params:\n",
    "        * X - train sample\n",
    "        * y - train targets\n",
    "        * k_list - list of checking values for amount of nearest neighbors\n",
    "        * score - metric name:\n",
    "            * accuracy\n",
    "        * cv - output from kfold or stratified_kfold, if params is None, then need to use kfold in this function\n",
    "        * **kwargs - constructor parameters of KNNClassifier class\n",
    "    \"\"\"\n",
    "    \n",
    "    pass"
   ]
  },
  {
   "cell_type": "code",
   "execution_count": null,
   "metadata": {},
   "outputs": [],
   "source": []
  },
  {
   "cell_type": "code",
   "execution_count": null,
   "metadata": {},
   "outputs": [],
   "source": []
  }
 ],
 "metadata": {
  "kernelspec": {
   "display_name": "Python 3",
   "language": "python",
   "name": "python3"
  },
  "language_info": {
   "codemirror_mode": {
    "name": "ipython",
    "version": 3
   },
   "file_extension": ".py",
   "mimetype": "text/x-python",
   "name": "python",
   "nbconvert_exporter": "python",
   "pygments_lexer": "ipython3",
   "version": "3.7.1"
  }
 },
 "nbformat": 4,
 "nbformat_minor": 2
}
