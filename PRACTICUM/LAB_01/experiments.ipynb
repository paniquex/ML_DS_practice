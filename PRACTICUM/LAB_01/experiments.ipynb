{
 "cells": [
  {
   "cell_type": "markdown",
   "metadata": {},
   "source": [
    "## Import modules"
   ]
  },
  {
   "cell_type": "code",
   "execution_count": 1,
   "metadata": {},
   "outputs": [],
   "source": [
    "# sklearn\n",
    "from sklearn.datasets import fetch_openml\n",
    "\n",
    "import numpy as np\n",
    "\n",
    "import matplotlib.pyplot as plt"
   ]
  },
  {
   "cell_type": "markdown",
   "metadata": {},
   "source": [
    "## Loading data"
   ]
  },
  {
   "cell_type": "code",
   "execution_count": 2,
   "metadata": {},
   "outputs": [
    {
     "name": "stdout",
     "output_type": "stream",
     "text": [
      "CPU times: user 17 s, sys: 280 ms, total: 17.3 s\n",
      "Wall time: 17.3 s\n"
     ]
    }
   ],
   "source": [
    "%%time\n",
    "full_data = fetch_openml(\"mnist_784\")"
   ]
  },
  {
   "cell_type": "code",
   "execution_count": 3,
   "metadata": {},
   "outputs": [
    {
     "data": {
      "text/plain": [
       "dict_keys(['data', 'target', 'feature_names', 'DESCR', 'details', 'categories', 'url'])"
      ]
     },
     "execution_count": 3,
     "metadata": {},
     "output_type": "execute_result"
    }
   ],
   "source": [
    "full_data.keys()"
   ]
  },
  {
   "cell_type": "code",
   "execution_count": 4,
   "metadata": {},
   "outputs": [
    {
     "data": {
      "text/plain": [
       "(70000,)"
      ]
     },
     "execution_count": 4,
     "metadata": {},
     "output_type": "execute_result"
    }
   ],
   "source": [
    "full_data['target'].shape"
   ]
  },
  {
   "cell_type": "code",
   "execution_count": 5,
   "metadata": {},
   "outputs": [],
   "source": [
    "train_size = 60000\n",
    "test_size = 10000"
   ]
  },
  {
   "cell_type": "markdown",
   "metadata": {},
   "source": [
    "## Separate full_data to train and test"
   ]
  },
  {
   "cell_type": "code",
   "execution_count": 6,
   "metadata": {},
   "outputs": [],
   "source": [
    "train_data = {'data': full_data['data'][:train_size], 'target': full_data['target'][:train_size]}\n",
    "test_data = {'data': full_data['data'][train_size:], 'target': full_data['target'][train_size:]}"
   ]
  },
  {
   "cell_type": "markdown",
   "metadata": {},
   "source": [
    "## Let's visualize first 10 digits from train:"
   ]
  },
  {
   "cell_type": "code",
   "execution_count": 7,
   "metadata": {
    "scrolled": true
   },
   "outputs": [
    {
     "data": {
      "image/png": "[encoded data removed]",
      "text/plain": [
       "<Figure size 1080x1080 with 10 Axes>"
      ]
     },
     "metadata": {
      "needs_background": "light"
     },
     "output_type": "display_data"
    }
   ],
   "source": [
    "digits_to_show = 10\n",
    "fig = plt.figure(figsize=(15, 15))\n",
    "for i in range(digits_to_show):\n",
    "    ax = fig.add_subplot(1, digits_to_show + 1, i+1)\n",
    "    ax.imshow(train_data['data'][i].reshape(28, 28), cmap=plt.get_cmap('Greys_r'))\n",
    "    ax.set_title('Class target: ' + train_data['target'][i])\n",
    "    ax.axis(\"off\")\n",
    "plt.tight_layout()\n",
    "plt.show()"
   ]
  },
  {
   "cell_type": "markdown",
   "metadata": {},
   "source": [
    "## Testing my KNNClassifier"
   ]
  },
  {
   "cell_type": "code",
   "execution_count": 8,
   "metadata": {},
   "outputs": [],
   "source": [
    "train_data['target'] = train_data['target'].astype(int)\n",
    "test_data['target'] = test_data['target'].astype(int)"
   ]
  },
  {
   "cell_type": "code",
   "execution_count": 9,
   "metadata": {},
   "outputs": [],
   "source": [
    "import numpy as np\n",
    "from nearest_neighbors import KNNClassifier\n",
    "\n",
    "\n",
    "def kfold(n, n_folds=5):\n",
    "    \"\"\"\n",
    "    params:\n",
    "        * n - objects amount in sample\n",
    "        * n_folds - folds amount\n",
    "    return values:\n",
    "        * list with size n_folds, where every element is tuple of two 1D numpy array:\n",
    "            * first array contains indices of train samples\n",
    "            * second array contains indices of validation samples\n",
    "    \"\"\"\n",
    "\n",
    "    indices = np.arange(n)\n",
    "    folds = np.array_split(indices, n_folds)\n",
    "    train_test_idx_list = []\n",
    "    for fold in folds:\n",
    "        test_idx = fold\n",
    "        train_idx = list(set(folds) - set(fold))\n",
    "        train_test_idx_list.append((train_idx, test_idx))\n",
    "    return train_test_idx_list\n",
    "\n",
    "\n",
    "def accuracy(y_valid, y_true):\n",
    "    return np.sum(y_valid == y_true, axis=0) / len(y_valid) * 100\n",
    "\n",
    "\n",
    "def knn_cross_val_score(X, y, k_list, score='accuracy', cv=None, **kwargs):\n",
    "    \"\"\"\n",
    "    :param X: train samples\n",
    "    :param y: targets for train\n",
    "    :param k_list: list of values of neighbors amount, in ascending order\n",
    "    :param score: metric name( accuracy' must have)\n",
    "    :param cv: list of tuples, which contains indices of train and valid samples\n",
    "    :param kwargs: parameters for __init__ from KNNClassifier\n",
    "    :return: dict, where keys is neigbors amount from k_list, values - numpy array of size len(cv)\n",
    "    with accuracy on each fold\n",
    "    \"\"\"\n",
    "\n",
    "    if cv is None:\n",
    "        cv = kfold(X.shape[0])\n",
    "    knn = KNNClassifier(**kwargs)\n",
    "    knn.k = np.max(k_list)\n",
    "    knn.fit(X, y)\n",
    "    knn.find_kneighbors(X, return_distance=True)\n",
    "    accuracy_per_k = {k: np.empty(0) for k in k_list}\n",
    "    for k in k_list:\n",
    "        knn.k = k\n",
    "        for fold in cv:\n",
    "            y_valid = knn.predict(X[fold[1]])\n",
    "            accuracy_per_k[k] = np.append(accuracy_per_k[k],\n",
    "                                          accuracy(y_valid,\n",
    "                                                   y[fold[1]]))\n",
    "    return accuracy_per_k\n",
    "\n"
   ]
  },
  {
   "cell_type": "code",
   "execution_count": 497,
   "metadata": {},
   "outputs": [],
   "source": [
    "from sklearn.neighbors import NearestNeighbors\n",
    "import numpy as np\n",
    "from distances import euclidean_distance, cosine_distance\n",
    "\n",
    "\n",
    "class KNNClassifier:\n",
    "    def __init__(self,\n",
    "                 k=10,\n",
    "                 strategy='my_own',\n",
    "                 metric='euclidean',\n",
    "                 weights=False,\n",
    "                 test_block_size=100\n",
    "                 ):\n",
    "        \"\"\"\n",
    "        params:\n",
    "            * k - amount of nearest neighbours(nn)\n",
    "            * strategy - nn searching algorithm. Possible values:\n",
    "                - 'my_own' - self-realization\n",
    "                - 'brute' - from sklearn.neighbors.NearestNeighbors(algorithm='brute')\n",
    "                - 'kd_tree' - from sklearn.neighbors.NearestNeighbors(algorithm='kd_tree')\n",
    "                - 'ball_tree' - from sklearn.neighbors.NearestNeighbors(algorithm='ball_tree')\n",
    "            * metric:\n",
    "                - 'euclidean' - euclidean metric\n",
    "                - 'cosine' - cosine metric\n",
    "            * weights - bool variable.\n",
    "                - True - weighted KNN(with distance)\n",
    "                - False - simple KNN\n",
    "            * test_block_size - size of test block\n",
    "        \"\"\"\n",
    "\n",
    "        self.X_train = None\n",
    "        self.y_train = None\n",
    "        self.distances = None\n",
    "        self.neigh_idxs = None\n",
    "        self.model = None\n",
    "        self.k = k\n",
    "        self.strategy = strategy\n",
    "        self.metric = metric\n",
    "        self.eps = 1e-5\n",
    "        self.weights = weights\n",
    "        if self.strategy == 'brute':\n",
    "            self.model = NearestNeighbors(n_neighbors=self.k, algorithm=self.strategy, metric=self.metric)\n",
    "        elif self.strategy != 'my_own':\n",
    "            self.model = NearestNeighbors(n_neighbors=self.k, algorithm=self.strategy)\n",
    "        else:\n",
    "            self.model = None\n",
    "        self.test_block_size = test_block_size\n",
    "\n",
    "    def fit(self, X, y):\n",
    "        \"\"\"\n",
    "        params:\n",
    "            * X - train data\n",
    "            * y - targets for train data\n",
    "        \"\"\"\n",
    "\n",
    "        self.y_train = y.astype(int)\n",
    "        self.k = np.min([self.y_train.shape[0], self.k])\n",
    "        if self.strategy != 'my_own':\n",
    "            self.model.fit(X, self.y_train)\n",
    "        else:\n",
    "            self.X_train = X\n",
    "\n",
    "    def find_kneighbors(self, X, return_distance):\n",
    "        \"\"\"\n",
    "        params:\n",
    "            * X - objects sample\n",
    "            * return_distance - bool variable\n",
    "\n",
    "        return values:\n",
    "            * If return_distance == True:\n",
    "                * tuple with two numpy array with size (X.shape[0], k), where:\n",
    "                  [i, j] elem of first array must be the distance between\n",
    "                  i-th object and his j-th nearest neighbour\n",
    "                  [i, j] elem of second array must be the index of j-th nearest neighbour to i-th object\n",
    "            * If return_distance == False:\n",
    "                * only second array\n",
    "        \"\"\"\n",
    "        \n",
    "        if self.strategy != 'my_own':\n",
    "            distances, \\\n",
    "            neigh_idxs = self.model.kneighbors(X, n_neighbors=self.k)\n",
    "        else:\n",
    "            if self.metric == 'euclidean':\n",
    "                distances = euclidean_distance(X, self.X_train)\n",
    "                neigh_idxs = np.argsort(distances,\n",
    "                                             axis=1)[:, :self.k]\n",
    "                if return_distance:\n",
    "                    distances = np.sort(distances,\n",
    "                                             axis=1)[:, :self.k]\n",
    "\n",
    "            elif self.metric == 'cosine':\n",
    "                distances = cosine_distance(X, self.X_train)\n",
    "                neigh_idxs = np.argsort(distances,\n",
    "                                             axis=1)[:, :self.k]\n",
    "                if return_distance:\n",
    "                    distances = np.sort(distances,\n",
    "                                        axis=1)[:, :self.k]\n",
    "        if return_distance:\n",
    "            return distances, neigh_idxs\n",
    "        return neigh_idxs\n",
    "\n",
    "    def predict(self, X):\n",
    "        \"\"\"\n",
    "        params:\n",
    "            * X - test objects\n",
    "\n",
    "        return values:\n",
    "            * numpy array with size X.shape[0] of predictions for test objects from X\n",
    "        \"\"\"\n",
    "\n",
    "        if self.test_block_size > X.shape[0]:\n",
    "            self.test_block_size = X.shape[0]\n",
    "        preds = np.zeros(X.shape[0])\n",
    "        split_size = X.shape[0] // self.test_block_size + \\\n",
    "                     int(X.shape[0] % self.test_block_size != 0)\n",
    "        classes = np.array(np.unique(self.y_train))\n",
    "        last_idx = 0\n",
    "        for i, split in enumerate(np.array_split(X, split_size)):\n",
    "            distances, neigh_idxs = self.find_kneighbors(split, True)\n",
    "            for j, idx in enumerate(neigh_idxs):\n",
    "                counts = np.zeros(len(classes))\n",
    "                for c in classes:\n",
    "                    if self.weights:\n",
    "                        weights = 1 / (distances[j] + self.eps)\n",
    "                        counts[c] = np.sum((self.y_train[idx] == c) * weights)\n",
    "                    else:\n",
    "                        counts[c] = np.sum(self.y_train[idx] == c)\n",
    "                preds[j + i * split.shape[0]] = np.argmax(counts)\n",
    "        distances, neigh_idxs = self.find_kneighbors(X[last_idx:], True)\n",
    "        for j, idx in enumerate(neigh_idxs):\n",
    "            counts = np.zeros(len(classes))\n",
    "            for c in classes:\n",
    "                if self.weights:\n",
    "                    weights = 1 / (distances[j] + self.eps)\n",
    "                    counts[c] = np.sum((self.y_train[idx] == c) * weights)\n",
    "                else:\n",
    "                    counts[c] = np.sum(self.y_train[idx] == c)\n",
    "                preds[last_idx+j] = np.argmax(counts)\n",
    "        return preds\n",
    "\n",
    "\n",
    "n_test_samples = 1000"
   ]
  },
  {
   "cell_type": "code",
   "execution_count": 512,
   "metadata": {},
   "outputs": [],
   "source": [
    "KNN_model = KNNClassifier(5, strategy='my_own', metric='euclidean', weights=False, test_block_size=44)"
   ]
  },
  {
   "cell_type": "code",
   "execution_count": 513,
   "metadata": {},
   "outputs": [
    {
     "name": "stdout",
     "output_type": "stream",
     "text": [
      "CPU times: user 225 µs, sys: 0 ns, total: 225 µs\n",
      "Wall time: 148 µs\n"
     ]
    }
   ],
   "source": [
    "%%time\n",
    "KNN_model.fit(X=train_data['data'][:5000], y=train_data['target'])"
   ]
  },
  {
   "cell_type": "code",
   "execution_count": 514,
   "metadata": {
    "scrolled": true
   },
   "outputs": [],
   "source": [
    "\n",
    "# KNN_model.find_kneighbors(test_data['data'][:n_test_samples], False)\n",
    "#14.4 - True # 500 samples\n",
    "#9.56 - False # 500 samples\n",
    "\n",
    "#2min 48s - True # 10k samples\n",
    "#2min 11s - False # 10k samples"
   ]
  },
  {
   "cell_type": "code",
   "execution_count": 515,
   "metadata": {},
   "outputs": [],
   "source": [
    "# array([[53843, 38620, 16186, 27059, 47003],\n",
    "#        [28882, 49160, 24612, 31634, 16902],\n",
    "#        [58741, 46512, 15224, 47333, 44038],\n",
    "#        ...,\n",
    "#        [46124, 13852, 17844, 18510, 33708],\n",
    "#        [29034, 43258, 56724, 43706, 19908],\n",
    "#        [49436, 41800, 50670, 11132, 55520]])"
   ]
  },
  {
   "cell_type": "code",
   "execution_count": 516,
   "metadata": {
    "scrolled": true
   },
   "outputs": [
    {
     "name": "stdout",
     "output_type": "stream",
     "text": [
      "CPU times: user 11.5 s, sys: 168 ms, total: 11.6 s\n",
      "Wall time: 1.58 s\n"
     ]
    }
   ],
   "source": [
    "%%time\n",
    "preds1 = KNN_model.predict(test_data['data'][:n_test_samples])\n",
    "#12.5 s - True # 500 samples\n",
    "#9.47 s - False # 500 samples\n",
    "\n",
    "# 6min 53s - True # 10k samples\n",
    "# 6min 16s - False # 10k samples\n",
    "#(1, 5, 60000)\n",
    "#(100, 5)"
   ]
  },
  {
   "cell_type": "code",
   "execution_count": 517,
   "metadata": {},
   "outputs": [],
   "source": [
    "# arr_my = KNN_model.find_kneighbors(test_data['data'][:n_test_samples], return_distance=False)"
   ]
  },
  {
   "cell_type": "code",
   "execution_count": 518,
   "metadata": {},
   "outputs": [
    {
     "data": {
      "text/plain": [
       "0.91"
      ]
     },
     "execution_count": 518,
     "metadata": {},
     "output_type": "execute_result"
    }
   ],
   "source": [
    "sum(preds1.astype(int) - test_data['target'][:n_test_samples].astype(int) == 0) / test_data['target'][:n_test_samples].size"
   ]
  },
  {
   "cell_type": "code",
   "execution_count": 346,
   "metadata": {},
   "outputs": [
    {
     "data": {
      "text/plain": [
       "KNeighborsClassifier(algorithm='brute', leaf_size=30, metric='euclidean',\n",
       "                     metric_params=None, n_jobs=None, n_neighbors=5, p=2,\n",
       "                     weights='distance')"
      ]
     },
     "execution_count": 346,
     "metadata": {},
     "output_type": "execute_result"
    }
   ],
   "source": [
    "from sklearn.neighbors import KNeighborsClassifier\n",
    "knn = KNeighborsClassifier(5, algorithm='brute', metric='euclidean', weights='distance')\n",
    "knn.fit(X=train_data['data'], y=train_data['target'])"
   ]
  },
  {
   "cell_type": "code",
   "execution_count": 43,
   "metadata": {},
   "outputs": [],
   "source": [
    "preds1 = knn.predict(test_data['data'][:n_test_samples])"
   ]
  },
  {
   "cell_type": "code",
   "execution_count": 44,
   "metadata": {},
   "outputs": [
    {
     "data": {
      "text/plain": [
       "0.964"
      ]
     },
     "execution_count": 44,
     "metadata": {},
     "output_type": "execute_result"
    }
   ],
   "source": [
    "sum(preds1.astype(int) - test_data['target'][:n_test_samples].astype(int) == 0) / test_data['target'][:n_test_samples].size"
   ]
  },
  {
   "cell_type": "code",
   "execution_count": 188,
   "metadata": {},
   "outputs": [
    {
     "data": {
      "text/plain": [
       "(228, 784)"
      ]
     },
     "execution_count": 188,
     "metadata": {},
     "output_type": "execute_result"
    }
   ],
   "source": []
  },
  {
   "cell_type": "markdown",
   "metadata": {},
   "source": [
    "## Testing distances"
   ]
  },
  {
   "cell_type": "code",
   "execution_count": null,
   "metadata": {},
   "outputs": [],
   "source": [
    "import numpy as np\n",
    "from distances import euclidean_distance, cosine_distance"
   ]
  },
  {
   "cell_type": "code",
   "execution_count": null,
   "metadata": {},
   "outputs": [],
   "source": [
    "x = np.array([[2, 3], [-1, 6], [10, 22]])\n",
    "y = np.array([[1, 1], [-1, 2]])"
   ]
  },
  {
   "cell_type": "code",
   "execution_count": null,
   "metadata": {},
   "outputs": [],
   "source": [
    "cosine_distance(x, y)"
   ]
  },
  {
   "cell_type": "code",
   "execution_count": null,
   "metadata": {},
   "outputs": [],
   "source": [
    "from scipy.spatial.distance import pdist"
   ]
  },
  {
   "cell_type": "code",
   "execution_count": null,
   "metadata": {},
   "outputs": [],
   "source": [
    "pdist(test_arr)"
   ]
  },
  {
   "cell_type": "code",
   "execution_count": null,
   "metadata": {},
   "outputs": [],
   "source": [
    "import numpy as np\n",
    "\n",
    "\n",
    "# def cosine_distance(X, Y):\n",
    "#     \"\"\"\n",
    "#     params:\n",
    "#         * X - np.array with size N x D\n",
    "#         * Y - np.array with size M x D\n",
    "#     return values:\n",
    "#         * np.array with size N x M, where [i, j] - cosine distance between i-th vector from X and\n",
    "#                                                                               j-th vector from Y\n",
    "#     \"\"\"\n",
    "    \n",
    "#     X = X[None, :, :]\n",
    "#     Y = Y[:, None, :]\n",
    "#     result = np.sum(X * Y, axis=2)\n",
    "#     result /= np.sqrt(np.sum(X ** 2, axis=2))\n",
    "#     result /= np.sqrt(np.sum(Y ** 2, axis=2))\n",
    "#     return 1 - result\n",
    "\n",
    "def euclidean_distance(X, Y):\n",
    "    \"\"\"\n",
    "    params:\n",
    "        * X - np.array with size N x D\n",
    "        * Y - np.array with size M x D\n",
    "    return values:\n",
    "        * np.array with size N x M, where [i, j] - euclidean distance between i-th vector from X and\n",
    "                                                                              j-th vector from Y\n",
    "    \"\"\"\n",
    "\n",
    "    X_sqr = np.sum(X ** 2, axis=1)[:, None]\n",
    "    print(X_sqr.shape)\n",
    "    Y_sqr = np.sum(Y ** 2, axis=1)\n",
    "    print(Y_sqr.shape)\n",
    "    return np.sqrt(X_sqr - 2 * np.dot(X, Y.T) + Y_sqr)"
   ]
  },
  {
   "cell_type": "code",
   "execution_count": null,
   "metadata": {},
   "outputs": [],
   "source": [
    "X = np.arange(1, 10000)\n",
    "np.sum(X[[1, 2, 5, 6]])"
   ]
  },
  {
   "cell_type": "code",
   "execution_count": null,
   "metadata": {},
   "outputs": [],
   "source": [
    "%load_ext memory_profiler"
   ]
  },
  {
   "cell_type": "code",
   "execution_count": null,
   "metadata": {},
   "outputs": [],
   "source": [
    "%%time\n",
    "%%memit\n",
    "print(euclidean_distance(np.ones((2000, 1000)) * 5, np.ones((500, 1000))))\n",
    "#2.22 s - new on 200x500\n",
    "\n",
    "#763 ms - old on 200x500\n",
    "#7725.48 \n"
   ]
  },
  {
   "cell_type": "code",
   "execution_count": null,
   "metadata": {},
   "outputs": [],
   "source": [
    "np.shape(X[None, ...] - Y[:, None, :])"
   ]
  },
  {
   "cell_type": "code",
   "execution_count": null,
   "metadata": {},
   "outputs": [],
   "source": [
    "%%time\n",
    "std_norm = np.linalg.norm(X, axis=1)\n",
    "print('done')"
   ]
  },
  {
   "cell_type": "code",
   "execution_count": null,
   "metadata": {},
   "outputs": [],
   "source": [
    "%%time\n",
    "my_norm = np.sqrt(np.sum(X ** 2, axis=1))\n",
    "print('done')"
   ]
  },
  {
   "cell_type": "code",
   "execution_count": null,
   "metadata": {},
   "outputs": [],
   "source": [
    "sum(std_norm != my_norm)"
   ]
  },
  {
   "cell_type": "markdown",
   "metadata": {},
   "source": [
    "## Testing cross_validation"
   ]
  },
  {
   "cell_type": "code",
   "execution_count": null,
   "metadata": {},
   "outputs": [],
   "source": [
    "import numpy as np\n",
    "from nearest_neighbors import KNNClassifier\n",
    "\n",
    "\n",
    "def kfold(n, n_folds=5):\n",
    "    \"\"\"\n",
    "    params:\n",
    "        * n - objects amount in sample\n",
    "        * n_folds - folds amount\n",
    "    return values:\n",
    "        * list with size n_folds, where every element is tuple of two 1D numpy array:\n",
    "            * first array contains indices of train samples\n",
    "            * second array contains indices of validation samples\n",
    "    \"\"\"\n",
    "    \n",
    "    indices = np.arange(n)\n",
    "    size_of_one_fold = int(n / n_folds)\n",
    "    size_with_folds = size_of_one_fold * n_folds\n",
    "    out_elemnts_amount = len(indices) - size_with_folds\n",
    "    train_test_idx_list = []\n",
    "    for i in range(n_folds):\n",
    "        test_idx = indices[i * size_of_one_fold:(i + 1) * size_of_one_fold]\n",
    "        if out_elemnts_amount > 0:\n",
    "            test_idx = np.append(test_idx, n - out_elemnts_amount)\n",
    "            out_elemnts_amount -= 1\n",
    "        train_idx = np.array(list((set(indices) - set(test_idx))))\n",
    "        train_test_idx_list.append((train_idx, test_idx))\n",
    "    return train_test_idx_list\n",
    "    \n",
    "def accuracy(y_valid, y_true):\n",
    "    return np.sum(y_valid == y_true, axis=0) / len(y_valid) * 100\n",
    "\n",
    "\n",
    "def knn_cross_val_score(X, y, k_list=[2, 3, 5, 10, 15], score='accuracy', cv=None, **kwargs):\n",
    "    \"\"\"\n",
    "    :param X: train samples\n",
    "    :param y: targets for train\n",
    "    :param k_list: list of values of neighbors amount, in ascending order\n",
    "    :param score: metric name( accuracy' must have)\n",
    "    :param cv: list of tuples, which contains indices of train and valid samples\n",
    "    :param kwargs: parameters for __init__ from KNNClassifier\n",
    "    :return: dict, where keys is neigbors amount from k_list, values - numpy array of size len(cv)\n",
    "    with accuracy on each fold\n",
    "    \"\"\"\n",
    "    \n",
    "    if cv is None:\n",
    "        cv = kfold(X.shape[0])\n",
    "    knn = KNNClassifier(**kwargs)\n",
    "    knn.k = np.max(k_list)\n",
    "    knn.fit(X, y)\n",
    "    knn.find_kneighbors(X, return_distance=True)\n",
    "    accuracy_per_k = {k: np.empty(0) for k in k_list}\n",
    "    for k in k_list:\n",
    "        knn.k = k\n",
    "        for fold in cv:\n",
    "            y_valid = knn.predict(X[fold[1]])\n",
    "            accuracy_per_k[k] = np.append(accuracy_per_k[k],\n",
    "                      accuracy(y_valid,\n",
    "                               y[fold[1]]))\n",
    "    return accuracy_per_k\n",
    "    "
   ]
  },
  {
   "cell_type": "code",
   "execution_count": null,
   "metadata": {},
   "outputs": [],
   "source": [
    "import numpy as np\n",
    "from nearest_neighbors import KNNClassifier\n",
    "\n",
    "\n",
    "def kfold(n, n_folds=5):\n",
    "    \"\"\"\n",
    "    params:\n",
    "        * n - objects amount in sample\n",
    "        * n_folds - folds amount\n",
    "    return values:\n",
    "        * list with size n_folds, where every element is tuple of two 1D numpy array:\n",
    "            * first array contains indices of train samples\n",
    "            * second array contains indices of validation samples\n",
    "    \"\"\"\n",
    "\n",
    "    indices = np.arange(n)\n",
    "    folds = np.array_split(indices, n_folds)\n",
    "    train_test_idx_list = []\n",
    "    for i, fold in enumerate(folds):\n",
    "        test_idx = fold\n",
    "        train_idx = folds[:i] + folds[i + 1:]\n",
    "        train_test_idx_list.append((train_idx, test_idx))\n",
    "    return train_test_idx_list\n",
    "\n",
    "\n",
    "def accuracy(y_valid, y_true):\n",
    "    return np.sum(y_valid == y_true, axis=0) / len(y_valid) * 100\n",
    "\n",
    "\n",
    "def knn_cross_val_score(X, y, k_list, score='accuracy', cv=None, **kwargs):\n",
    "    \"\"\"\n",
    "    :param X: train samples\n",
    "    :param y: targets for train\n",
    "    :param k_list: list of values of neighbors amount, in ascending order\n",
    "    :param score: metric name( accuracy' must have)\n",
    "    :param cv: list of tuples, which contains indices of train and valid samples\n",
    "    :param kwargs: parameters for __init__ from KNNClassifier\n",
    "    :return: dict, where keys is neigbors amount from k_list, values - numpy array of size len(cv)\n",
    "    with accuracy on each fold\n",
    "    \"\"\"\n",
    "\n",
    "    if cv is None:\n",
    "        cv = kfold(X.shape[0])\n",
    "    knn = KNNClassifier(**kwargs)\n",
    "    knn.k = np.max(k_list)\n",
    "    knn.fit(X, y)\n",
    "    knn.find_kneighbors(X, return_distance=True)\n",
    "    accuracy_per_k = {k: np.empty(0) for k in k_list}\n",
    "    for k in k_list:\n",
    "        knn.k = k\n",
    "        for fold in cv:\n",
    "            y_valid = knn.predict(X[fold[1]])\n",
    "            accuracy_per_k[k] = np.append(accuracy_per_k[k],\n",
    "                                          accuracy(y_valid,\n",
    "                                                   y[fold[1]]))\n",
    "    return accuracy_per_k\n"
   ]
  },
  {
   "cell_type": "code",
   "execution_count": null,
   "metadata": {},
   "outputs": [],
   "source": [
    "knn_cross_val_score(train_data['data'][:1000],\n",
    "                    train_data['target'][:1000],\n",
    "                    k_list=[3, 4, 10, 50, 200],\n",
    "                    score='accuracy',\n",
    "                    cv=None,\n",
    "                    k=10,\n",
    "                    strategy='my_own',\n",
    "                    metric='euclidean',\n",
    "                    weights=False,\n",
    "                    test_block_size=100\n",
    "                   )"
   ]
  },
  {
   "cell_type": "code",
   "execution_count": null,
   "metadata": {},
   "outputs": [],
   "source": [
    "kfold(50, 5)"
   ]
  },
  {
   "cell_type": "code",
   "execution_count": null,
   "metadata": {},
   "outputs": [],
   "source": [
    "# 3: array([94.5, 92.5, 92.5, 89.5, 93.5]),\n",
    "#  4: array([93.5, 91.5, 91. , 89.5, 93. ]),\n",
    "#  10: array([90.5, 88.5, 88.5, 84. , 90. ]),\n",
    "#  50: array([78. , 83. , 79. , 76. , 83.5]),\n",
    "#  200: array([60. , 68. , 54.5, 58.5, 57. ])}"
   ]
  },
  {
   "cell_type": "code",
   "execution_count": null,
   "metadata": {},
   "outputs": [],
   "source": [
    "k_list1 = [1, 2, 3, 4, 5, 10]\n",
    "accuracy_per_k = {k: np.empty(0) for k in k_list1}"
   ]
  },
  {
   "cell_type": "code",
   "execution_count": null,
   "metadata": {},
   "outputs": [],
   "source": [
    "accuracy_per_k[1] = np.append(accuracy_per_k[1], 5)"
   ]
  },
  {
   "cell_type": "code",
   "execution_count": null,
   "metadata": {},
   "outputs": [],
   "source": [
    "accuracy_per_k[1]"
   ]
  },
  {
   "cell_type": "code",
   "execution_count": null,
   "metadata": {},
   "outputs": [],
   "source": [
    "k_list1.index(5)"
   ]
  },
  {
   "cell_type": "code",
   "execution_count": null,
   "metadata": {},
   "outputs": [],
   "source": []
  }
 ],
 "metadata": {
  "kernelspec": {
   "display_name": "Python 3",
   "language": "python",
   "name": "python3"
  },
  "language_info": {
   "codemirror_mode": {
    "name": "ipython",
    "version": 3
   },
   "file_extension": ".py",
   "mimetype": "text/x-python",
   "name": "python",
   "nbconvert_exporter": "python",
   "pygments_lexer": "ipython3",
   "version": "3.7.3"
  }
 },
 "nbformat": 4,
 "nbformat_minor": 2
}
