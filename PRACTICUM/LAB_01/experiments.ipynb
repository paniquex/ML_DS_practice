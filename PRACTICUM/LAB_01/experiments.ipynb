{
 "cells": [
  {
   "cell_type": "markdown",
   "metadata": {},
   "source": [
    "## Import modules"
   ]
  },
  {
   "cell_type": "code",
   "execution_count": 1,
   "metadata": {},
   "outputs": [],
   "source": [
    "# sklearn\n",
    "from sklearn.datasets import fetch_openml\n",
    "\n",
    "import numpy as np\n",
    "\n",
    "import matplotlib.pyplot as plt"
   ]
  },
  {
   "cell_type": "markdown",
   "metadata": {},
   "source": [
    "## Loading data"
   ]
  },
  {
   "cell_type": "code",
   "execution_count": 2,
   "metadata": {},
   "outputs": [
    {
     "name": "stdout",
     "output_type": "stream",
     "text": [
      "CPU times: user 17.1 s, sys: 1.09 s, total: 18.2 s\n",
      "Wall time: 17.9 s\n"
     ]
    }
   ],
   "source": [
    "%%time\n",
    "full_data = fetch_openml(\"mnist_784\", version=1)"
   ]
  },
  {
   "cell_type": "code",
   "execution_count": 3,
   "metadata": {},
   "outputs": [
    {
     "data": {
      "text/plain": [
       "dict_keys(['data', 'target', 'feature_names', 'DESCR', 'details', 'categories', 'url'])"
      ]
     },
     "execution_count": 3,
     "metadata": {},
     "output_type": "execute_result"
    }
   ],
   "source": [
    "full_data.keys()"
   ]
  },
  {
   "cell_type": "code",
   "execution_count": 4,
   "metadata": {},
   "outputs": [
    {
     "data": {
      "text/plain": [
       "(70000,)"
      ]
     },
     "execution_count": 4,
     "metadata": {},
     "output_type": "execute_result"
    }
   ],
   "source": [
    "full_data['target'].shape"
   ]
  },
  {
   "cell_type": "code",
   "execution_count": 5,
   "metadata": {},
   "outputs": [],
   "source": [
    "train_size = 60000\n",
    "test_size = 10000"
   ]
  },
  {
   "cell_type": "markdown",
   "metadata": {},
   "source": [
    "## Separate full_data to train and test"
   ]
  },
  {
   "cell_type": "code",
   "execution_count": 6,
   "metadata": {},
   "outputs": [],
   "source": [
    "train_data = {'data': full_data['data'][:train_size], 'target': full_data['target'][:train_size]}\n",
    "test_data = {'data': full_data['data'][train_size:], 'target': full_data['target'][train_size:]}"
   ]
  },
  {
   "cell_type": "markdown",
   "metadata": {},
   "source": [
    "## Let's visualize first 10 digits from train:"
   ]
  },
  {
   "cell_type": "code",
   "execution_count": 7,
   "metadata": {
    "scrolled": true
   },
   "outputs": [
    {
     "data": {
      "image/png": "[encoded data removed]",
      "text/plain": [
       "<Figure size 1080x1080 with 10 Axes>"
      ]
     },
     "metadata": {
      "needs_background": "light"
     },
     "output_type": "display_data"
    }
   ],
   "source": [
    "digits_to_show = 10\n",
    "fig = plt.figure(figsize=(15, 15))\n",
    "for i in range(digits_to_show):\n",
    "    ax = fig.add_subplot(1, digits_to_show + 1, i+1)\n",
    "    ax.imshow(train_data['data'][i].reshape(28, 28), cmap=plt.get_cmap('Greys_r'))\n",
    "    ax.set_title('Class target: ' + train_data['target'][i])\n",
    "    ax.axis(\"off\")\n",
    "plt.tight_layout()\n",
    "plt.show()"
   ]
  },
  {
   "cell_type": "markdown",
   "metadata": {},
   "source": [
    "## Testing my KNNClassifier"
   ]
  },
  {
   "cell_type": "code",
   "execution_count": 8,
   "metadata": {},
   "outputs": [],
   "source": [
    "# train_data['target'] = train_data['target'].astype(int)\n",
    "# test_data['target'] = test_data['target'].astype(int)"
   ]
  },
  {
   "cell_type": "code",
   "execution_count": 9,
   "metadata": {},
   "outputs": [],
   "source": [
    "import numpy as np\n",
    "from nearest_neighbors import KNNClassifier\n",
    "\n",
    "\n",
    "def kfold(n, n_folds=5):\n",
    "    \"\"\"\n",
    "    params:\n",
    "        * n - objects amount in sample\n",
    "        * n_folds - folds amount\n",
    "    return values:\n",
    "        * list with size n_folds, where every element is tuple of two 1D numpy array:\n",
    "            * first array contains indices of train samples\n",
    "            * second array contains indices of validation samples\n",
    "    \"\"\"\n",
    "\n",
    "    indices = np.arange(n)\n",
    "    folds = np.array_split(indices, n_folds)\n",
    "    train_test_idx_list = []\n",
    "    for fold in folds:\n",
    "        test_idx = fold\n",
    "        train_idx = list(set(folds) - set(fold))\n",
    "        train_test_idx_list.append((train_idx, test_idx))\n",
    "    return train_test_idx_list\n",
    "\n",
    "\n",
    "def accuracy(y_valid, y_true):\n",
    "    return np.sum(y_valid == y_true, axis=0) / len(y_valid) * 100\n",
    "\n",
    "\n",
    "def knn_cross_val_score(X, y, k_list, score='accuracy', cv=None, **kwargs):\n",
    "    \"\"\"\n",
    "    :param X: train samples\n",
    "    :param y: targets for train\n",
    "    :param k_list: list of values of neighbors amount, in ascending order\n",
    "    :param score: metric name( accuracy' must have)\n",
    "    :param cv: list of tuples, which contains indices of train and valid samples\n",
    "    :param kwargs: parameters for __init__ from KNNClassifier\n",
    "    :return: dict, where keys is neigbors amount from k_list, values - numpy array of size len(cv)\n",
    "    with accuracy on each fold\n",
    "    \"\"\"\n",
    "\n",
    "    if cv is None:\n",
    "        cv = kfold(X.shape[0])\n",
    "    knn = KNNClassifier(**kwargs)\n",
    "    knn.k = np.max(k_list)\n",
    "    knn.fit(X, y)\n",
    "    knn.find_kneighbors(X, return_distance=True)\n",
    "    accuracy_per_k = {k: np.empty(0) for k in k_list}\n",
    "    for k in k_list:\n",
    "        knn.k = k\n",
    "        for fold in cv:\n",
    "            y_valid = knn.predict(X[fold[1]])\n",
    "            accuracy_per_k[k] = np.append(accuracy_per_k[k],\n",
    "                                          accuracy(y_valid,\n",
    "                                                   y[fold[1]]))\n",
    "    return accuracy_per_k\n",
    "\n",
    "\n",
    "n_test_samples = 1000"
   ]
  },
  {
   "cell_type": "code",
   "execution_count": 17,
   "metadata": {},
   "outputs": [],
   "source": [
    "KNN_model = KNNClassifier(5, strategy='my_own', weights=False)"
   ]
  },
  {
   "cell_type": "code",
   "execution_count": 18,
   "metadata": {},
   "outputs": [
    {
     "name": "stdout",
     "output_type": "stream",
     "text": [
      "CPU times: user 31.4 ms, sys: 3.94 ms, total: 35.3 ms\n",
      "Wall time: 32.7 ms\n"
     ]
    }
   ],
   "source": [
    "%%time\n",
    "KNN_model.fit(X=train_data['data'], y=train_data['target'])"
   ]
  },
  {
   "cell_type": "code",
   "execution_count": 19,
   "metadata": {
    "scrolled": true
   },
   "outputs": [
    {
     "name": "stdout",
     "output_type": "stream",
     "text": [
      "CPU times: user 19 µs, sys: 0 ns, total: 19 µs\n",
      "Wall time: 37 µs\n"
     ]
    }
   ],
   "source": [
    "%%time\n",
    "# KNN_model.find_kneighbors(test_data['data'][:n_test_samples], False)\n",
    "#14.4 - True # 500 samples\n",
    "#9.56 - False # 500 samples\n",
    "\n",
    "#2min 48s - True # 10k samples\n",
    "#2min 11s - False # 10k samples"
   ]
  },
  {
   "cell_type": "code",
   "execution_count": 20,
   "metadata": {},
   "outputs": [],
   "source": [
    "# array([[53843, 38620, 16186, 27059, 47003],\n",
    "#        [28882, 49160, 24612, 31634, 16902],\n",
    "#        [58741, 46512, 15224, 47333, 44038],\n",
    "#        ...,\n",
    "#        [46124, 13852, 17844, 18510, 33708],\n",
    "#        [29034, 43258, 56724, 43706, 19908],\n",
    "#        [49436, 41800, 50670, 11132, 55520]])"
   ]
  },
  {
   "cell_type": "code",
   "execution_count": 21,
   "metadata": {
    "scrolled": true
   },
   "outputs": [
    {
     "name": "stdout",
     "output_type": "stream",
     "text": [
      "CPU times: user 6.92 s, sys: 1.13 s, total: 8.05 s\n",
      "Wall time: 4.53 s\n"
     ]
    }
   ],
   "source": [
    "%%time\n",
    "preds = KNN_model.predict(test_data['data'][:n_test_samples])\n",
    "#12.5 s - True # 500 samples\n",
    "#9.47 s - False # 500 samples\n",
    "\n",
    "# 6min 53s - True # 10k samples\n",
    "# 6min 16s - False # 10k samples"
   ]
  },
  {
   "cell_type": "code",
   "execution_count": 22,
   "metadata": {},
   "outputs": [],
   "source": [
    "# arr_my = KNN_model.find_kneighbors(test_data['data'][:n_test_samples], return_distance=False)"
   ]
  },
  {
   "cell_type": "code",
   "execution_count": 23,
   "metadata": {},
   "outputs": [
    {
     "data": {
      "text/plain": [
       "96.1"
      ]
     },
     "execution_count": 23,
     "metadata": {},
     "output_type": "execute_result"
    }
   ],
   "source": [
    "accuracy(test_data['target'][:n_test_samples].astype(int), preds)"
   ]
  },
  {
   "cell_type": "code",
   "execution_count": null,
   "metadata": {},
   "outputs": [],
   "source": [
    "#0.964 - weights\n",
    "#0.961 - not "
   ]
  },
  {
   "cell_type": "markdown",
   "metadata": {},
   "source": [
    "## Testing distances"
   ]
  },
  {
   "cell_type": "code",
   "execution_count": 31,
   "metadata": {},
   "outputs": [],
   "source": [
    "from distances import euclidean_distance, cosine_distance"
   ]
  },
  {
   "cell_type": "code",
   "execution_count": 32,
   "metadata": {},
   "outputs": [],
   "source": [
    "k = 2\n",
    "test_arr = np.array([np.arange(i, k + i) for i in range(k)])\n",
    "# test_arr[-1, -3] = 200"
   ]
  },
  {
   "cell_type": "code",
   "execution_count": 33,
   "metadata": {},
   "outputs": [
    {
     "ename": "TypeError",
     "evalue": "ufunc 'true_divide' output (typecode 'd') could not be coerced to provided output parameter (typecode 'l') according to the casting rule ''same_kind''",
     "output_type": "error",
     "traceback": [
      "\u001b[0;31m---------------------------------------------------------------------------\u001b[0m",
      "\u001b[0;31mTypeError\u001b[0m                                 Traceback (most recent call last)",
      "\u001b[0;32m<ipython-input-33-732823ba3ff8>\u001b[0m in \u001b[0;36m<module>\u001b[0;34m\u001b[0m\n\u001b[0;32m----> 1\u001b[0;31m \u001b[0mcosine_distance\u001b[0m\u001b[0;34m(\u001b[0m\u001b[0mtest_arr\u001b[0m\u001b[0;34m,\u001b[0m \u001b[0mtest_arr\u001b[0m\u001b[0;34m)\u001b[0m\u001b[0;34m\u001b[0m\u001b[0;34m\u001b[0m\u001b[0m\n\u001b[0m",
      "\u001b[0;32m~/Documents/MMP_3course/PRACTICUM/LAB_01/distances.py\u001b[0m in \u001b[0;36mcosine_distance\u001b[0;34m(X, Y)\u001b[0m\n\u001b[1;32m     28\u001b[0m \u001b[0;34m\u001b[0m\u001b[0m\n\u001b[1;32m     29\u001b[0m     \u001b[0mresult\u001b[0m \u001b[0;34m=\u001b[0m \u001b[0mnp\u001b[0m\u001b[0;34m.\u001b[0m\u001b[0mdot\u001b[0m\u001b[0;34m(\u001b[0m\u001b[0mX\u001b[0m\u001b[0;34m,\u001b[0m \u001b[0mY\u001b[0m\u001b[0;34m.\u001b[0m\u001b[0mT\u001b[0m\u001b[0;34m)\u001b[0m\u001b[0;34m\u001b[0m\u001b[0;34m\u001b[0m\u001b[0m\n\u001b[0;32m---> 30\u001b[0;31m     \u001b[0mresult\u001b[0m \u001b[0;34m/=\u001b[0m \u001b[0mnp\u001b[0m\u001b[0;34m.\u001b[0m\u001b[0msqrt\u001b[0m\u001b[0;34m(\u001b[0m\u001b[0mnp\u001b[0m\u001b[0;34m.\u001b[0m\u001b[0msum\u001b[0m\u001b[0;34m(\u001b[0m\u001b[0mX\u001b[0m \u001b[0;34m**\u001b[0m \u001b[0;36m2\u001b[0m\u001b[0;34m,\u001b[0m \u001b[0maxis\u001b[0m\u001b[0;34m=\u001b[0m\u001b[0;36m1\u001b[0m\u001b[0;34m)\u001b[0m\u001b[0;34m)\u001b[0m\u001b[0;34m[\u001b[0m\u001b[0;34m:\u001b[0m\u001b[0;34m,\u001b[0m \u001b[0;32mNone\u001b[0m\u001b[0;34m]\u001b[0m\u001b[0;34m\u001b[0m\u001b[0;34m\u001b[0m\u001b[0m\n\u001b[0m\u001b[1;32m     31\u001b[0m     \u001b[0mresult\u001b[0m \u001b[0;34m/=\u001b[0m \u001b[0mnp\u001b[0m\u001b[0;34m.\u001b[0m\u001b[0msqrt\u001b[0m\u001b[0;34m(\u001b[0m\u001b[0mnp\u001b[0m\u001b[0;34m.\u001b[0m\u001b[0msum\u001b[0m\u001b[0;34m(\u001b[0m\u001b[0mY\u001b[0m \u001b[0;34m**\u001b[0m \u001b[0;36m2\u001b[0m\u001b[0;34m,\u001b[0m \u001b[0maxis\u001b[0m\u001b[0;34m=\u001b[0m\u001b[0;36m1\u001b[0m\u001b[0;34m)\u001b[0m\u001b[0;34m)\u001b[0m\u001b[0;34m\u001b[0m\u001b[0;34m\u001b[0m\u001b[0m\n\u001b[1;32m     32\u001b[0m     \u001b[0;32mreturn\u001b[0m \u001b[0;36m1\u001b[0m \u001b[0;34m-\u001b[0m \u001b[0mresult\u001b[0m\u001b[0;34m\u001b[0m\u001b[0;34m\u001b[0m\u001b[0m\n",
      "\u001b[0;31mTypeError\u001b[0m: ufunc 'true_divide' output (typecode 'd') could not be coerced to provided output parameter (typecode 'l') according to the casting rule ''same_kind''"
     ]
    }
   ],
   "source": [
    "cosine_distance(test_arr, test_arr)"
   ]
  },
  {
   "cell_type": "code",
   "execution_count": 34,
   "metadata": {},
   "outputs": [],
   "source": [
    "from scipy.spatial.distance import pdist"
   ]
  },
  {
   "cell_type": "code",
   "execution_count": 35,
   "metadata": {},
   "outputs": [
    {
     "data": {
      "text/plain": [
       "array([1.41421356])"
      ]
     },
     "execution_count": 35,
     "metadata": {},
     "output_type": "execute_result"
    }
   ],
   "source": [
    "pdist(test_arr)"
   ]
  },
  {
   "cell_type": "code",
   "execution_count": 36,
   "metadata": {},
   "outputs": [],
   "source": [
    "import numpy as np\n",
    "\n",
    "\n",
    "# def cosine_distance(X, Y):\n",
    "#     \"\"\"\n",
    "#     params:\n",
    "#         * X - np.array with size N x D\n",
    "#         * Y - np.array with size M x D\n",
    "#     return values:\n",
    "#         * np.array with size N x M, where [i, j] - cosine distance between i-th vector from X and\n",
    "#                                                                               j-th vector from Y\n",
    "#     \"\"\"\n",
    "    \n",
    "#     X = X[None, :, :]\n",
    "#     Y = Y[:, None, :]\n",
    "#     result = np.sum(X * Y, axis=2)\n",
    "#     result /= np.sqrt(np.sum(X ** 2, axis=2))\n",
    "#     result /= np.sqrt(np.sum(Y ** 2, axis=2))\n",
    "#     return 1 - result\n",
    "\n",
    "def euclidean_distance(X, Y):\n",
    "    \"\"\"\n",
    "    params:\n",
    "        * X - np.array with size N x D\n",
    "        * Y - np.array with size M x D\n",
    "    return values:\n",
    "        * np.array with size N x M, where [i, j] - euclidean distance between i-th vector from X and\n",
    "                                                                              j-th vector from Y\n",
    "    \"\"\"\n",
    "\n",
    "    X_sqr = np.sum(X ** 2, axis=1)[:, None]\n",
    "    print(X_sqr.shape)\n",
    "    Y_sqr = np.sum(Y ** 2, axis=1)\n",
    "    print(Y_sqr.shape)\n",
    "    return np.sqrt(X_sqr - 2 * np.dot(X, Y.T) + Y_sqr)"
   ]
  },
  {
   "cell_type": "code",
   "execution_count": 37,
   "metadata": {},
   "outputs": [
    {
     "data": {
      "text/plain": [
       "18"
      ]
     },
     "execution_count": 37,
     "metadata": {},
     "output_type": "execute_result"
    }
   ],
   "source": [
    "X = np.arange(1, 10000)\n",
    "np.sum(X[[1, 2, 5, 6]])"
   ]
  },
  {
   "cell_type": "code",
   "execution_count": 38,
   "metadata": {},
   "outputs": [],
   "source": [
    "%load_ext memory_profiler"
   ]
  },
  {
   "cell_type": "code",
   "execution_count": 39,
   "metadata": {},
   "outputs": [
    {
     "name": "stdout",
     "output_type": "stream",
     "text": [
      "(2000, 1)\n",
      "(500,)\n",
      "[[126.49110641 126.49110641 126.49110641 ... 126.49110641 126.49110641\n",
      "  126.49110641]\n",
      " [126.49110641 126.49110641 126.49110641 ... 126.49110641 126.49110641\n",
      "  126.49110641]\n",
      " [126.49110641 126.49110641 126.49110641 ... 126.49110641 126.49110641\n",
      "  126.49110641]\n",
      " ...\n",
      " [126.49110641 126.49110641 126.49110641 ... 126.49110641 126.49110641\n",
      "  126.49110641]\n",
      " [126.49110641 126.49110641 126.49110641 ... 126.49110641 126.49110641\n",
      "  126.49110641]\n",
      " [126.49110641 126.49110641 126.49110641 ... 126.49110641 126.49110641\n",
      "  126.49110641]]\n",
      "(2000, 1)\n",
      "(500,)\n",
      "[[126.49110641 126.49110641 126.49110641 ... 126.49110641 126.49110641\n",
      "  126.49110641]\n",
      " [126.49110641 126.49110641 126.49110641 ... 126.49110641 126.49110641\n",
      "  126.49110641]\n",
      " [126.49110641 126.49110641 126.49110641 ... 126.49110641 126.49110641\n",
      "  126.49110641]\n",
      " ...\n",
      " [126.49110641 126.49110641 126.49110641 ... 126.49110641 126.49110641\n",
      "  126.49110641]\n",
      " [126.49110641 126.49110641 126.49110641 ... 126.49110641 126.49110641\n",
      "  126.49110641]\n",
      " [126.49110641 126.49110641 126.49110641 ... 126.49110641 126.49110641\n",
      "  126.49110641]]\n",
      "peak memory: 793.98 MiB, increment: 6.25 MiB\n",
      "CPU times: user 1.17 s, sys: 204 ms, total: 1.37 s\n",
      "Wall time: 321 ms\n"
     ]
    }
   ],
   "source": [
    "%%time\n",
    "%%memit\n",
    "print(euclidean_distance(np.ones((2000, 1000)) * 5, np.ones((500, 1000))))\n",
    "#2.22 s - new on 200x500\n",
    "\n",
    "#763 ms - old on 200x500\n",
    "#7725.48 \n"
   ]
  },
  {
   "cell_type": "code",
   "execution_count": 40,
   "metadata": {},
   "outputs": [
    {
     "ename": "NameError",
     "evalue": "name 'Y' is not defined",
     "output_type": "error",
     "traceback": [
      "\u001b[0;31m---------------------------------------------------------------------------\u001b[0m",
      "\u001b[0;31mNameError\u001b[0m                                 Traceback (most recent call last)",
      "\u001b[0;32m<ipython-input-40-841adfc11f26>\u001b[0m in \u001b[0;36m<module>\u001b[0;34m\u001b[0m\n\u001b[0;32m----> 1\u001b[0;31m \u001b[0mnp\u001b[0m\u001b[0;34m.\u001b[0m\u001b[0mshape\u001b[0m\u001b[0;34m(\u001b[0m\u001b[0mX\u001b[0m\u001b[0;34m[\u001b[0m\u001b[0;32mNone\u001b[0m\u001b[0;34m,\u001b[0m \u001b[0;34m...\u001b[0m\u001b[0;34m]\u001b[0m \u001b[0;34m-\u001b[0m \u001b[0mY\u001b[0m\u001b[0;34m[\u001b[0m\u001b[0;34m:\u001b[0m\u001b[0;34m,\u001b[0m \u001b[0;32mNone\u001b[0m\u001b[0;34m,\u001b[0m \u001b[0;34m:\u001b[0m\u001b[0;34m]\u001b[0m\u001b[0;34m)\u001b[0m\u001b[0;34m\u001b[0m\u001b[0;34m\u001b[0m\u001b[0m\n\u001b[0m",
      "\u001b[0;31mNameError\u001b[0m: name 'Y' is not defined"
     ]
    }
   ],
   "source": [
    "np.shape(X[None, ...] - Y[:, None, :])"
   ]
  },
  {
   "cell_type": "code",
   "execution_count": 41,
   "metadata": {},
   "outputs": [
    {
     "ename": "AxisError",
     "evalue": "axis 1 is out of bounds for array of dimension 1",
     "output_type": "error",
     "traceback": [
      "\u001b[0;31m---------------------------------------------------------------------------\u001b[0m",
      "\u001b[0;31mAxisError\u001b[0m                                 Traceback (most recent call last)",
      "\u001b[0;32m<timed exec>\u001b[0m in \u001b[0;36m<module>\u001b[0;34m\u001b[0m\n",
      "\u001b[0;32m~/anaconda3/envs/kaggle/lib/python3.7/site-packages/numpy/linalg/linalg.py\u001b[0m in \u001b[0;36mnorm\u001b[0;34m(x, ord, axis, keepdims)\u001b[0m\n\u001b[1;32m   2479\u001b[0m             \u001b[0;31m# special case for speedup\u001b[0m\u001b[0;34m\u001b[0m\u001b[0;34m\u001b[0m\u001b[0;34m\u001b[0m\u001b[0m\n\u001b[1;32m   2480\u001b[0m             \u001b[0ms\u001b[0m \u001b[0;34m=\u001b[0m \u001b[0;34m(\u001b[0m\u001b[0mx\u001b[0m\u001b[0;34m.\u001b[0m\u001b[0mconj\u001b[0m\u001b[0;34m(\u001b[0m\u001b[0;34m)\u001b[0m \u001b[0;34m*\u001b[0m \u001b[0mx\u001b[0m\u001b[0;34m)\u001b[0m\u001b[0;34m.\u001b[0m\u001b[0mreal\u001b[0m\u001b[0;34m\u001b[0m\u001b[0;34m\u001b[0m\u001b[0m\n\u001b[0;32m-> 2481\u001b[0;31m             \u001b[0;32mreturn\u001b[0m \u001b[0msqrt\u001b[0m\u001b[0;34m(\u001b[0m\u001b[0madd\u001b[0m\u001b[0;34m.\u001b[0m\u001b[0mreduce\u001b[0m\u001b[0;34m(\u001b[0m\u001b[0ms\u001b[0m\u001b[0;34m,\u001b[0m \u001b[0maxis\u001b[0m\u001b[0;34m=\u001b[0m\u001b[0maxis\u001b[0m\u001b[0;34m,\u001b[0m \u001b[0mkeepdims\u001b[0m\u001b[0;34m=\u001b[0m\u001b[0mkeepdims\u001b[0m\u001b[0;34m)\u001b[0m\u001b[0;34m)\u001b[0m\u001b[0;34m\u001b[0m\u001b[0;34m\u001b[0m\u001b[0m\n\u001b[0m\u001b[1;32m   2482\u001b[0m         \u001b[0;32melse\u001b[0m\u001b[0;34m:\u001b[0m\u001b[0;34m\u001b[0m\u001b[0;34m\u001b[0m\u001b[0m\n\u001b[1;32m   2483\u001b[0m             \u001b[0;32mtry\u001b[0m\u001b[0;34m:\u001b[0m\u001b[0;34m\u001b[0m\u001b[0;34m\u001b[0m\u001b[0m\n",
      "\u001b[0;31mAxisError\u001b[0m: axis 1 is out of bounds for array of dimension 1"
     ]
    }
   ],
   "source": [
    "%%time\n",
    "std_norm = np.linalg.norm(X, axis=1)\n",
    "print('done')"
   ]
  },
  {
   "cell_type": "code",
   "execution_count": 42,
   "metadata": {},
   "outputs": [
    {
     "ename": "AxisError",
     "evalue": "axis 1 is out of bounds for array of dimension 1",
     "output_type": "error",
     "traceback": [
      "\u001b[0;31m---------------------------------------------------------------------------\u001b[0m",
      "\u001b[0;31mAxisError\u001b[0m                                 Traceback (most recent call last)",
      "\u001b[0;32m<timed exec>\u001b[0m in \u001b[0;36m<module>\u001b[0;34m\u001b[0m\n",
      "\u001b[0;32m~/anaconda3/envs/kaggle/lib/python3.7/site-packages/numpy/core/fromnumeric.py\u001b[0m in \u001b[0;36msum\u001b[0;34m(a, axis, dtype, out, keepdims, initial)\u001b[0m\n\u001b[1;32m   2074\u001b[0m \u001b[0;34m\u001b[0m\u001b[0m\n\u001b[1;32m   2075\u001b[0m     return _wrapreduction(a, np.add, 'sum', axis, dtype, out, keepdims=keepdims,\n\u001b[0;32m-> 2076\u001b[0;31m                           initial=initial)\n\u001b[0m\u001b[1;32m   2077\u001b[0m \u001b[0;34m\u001b[0m\u001b[0m\n\u001b[1;32m   2078\u001b[0m \u001b[0;34m\u001b[0m\u001b[0m\n",
      "\u001b[0;32m~/anaconda3/envs/kaggle/lib/python3.7/site-packages/numpy/core/fromnumeric.py\u001b[0m in \u001b[0;36m_wrapreduction\u001b[0;34m(obj, ufunc, method, axis, dtype, out, **kwargs)\u001b[0m\n\u001b[1;32m     84\u001b[0m                 \u001b[0;32mreturn\u001b[0m \u001b[0mreduction\u001b[0m\u001b[0;34m(\u001b[0m\u001b[0maxis\u001b[0m\u001b[0;34m=\u001b[0m\u001b[0maxis\u001b[0m\u001b[0;34m,\u001b[0m \u001b[0mout\u001b[0m\u001b[0;34m=\u001b[0m\u001b[0mout\u001b[0m\u001b[0;34m,\u001b[0m \u001b[0;34m**\u001b[0m\u001b[0mpasskwargs\u001b[0m\u001b[0;34m)\u001b[0m\u001b[0;34m\u001b[0m\u001b[0;34m\u001b[0m\u001b[0m\n\u001b[1;32m     85\u001b[0m \u001b[0;34m\u001b[0m\u001b[0m\n\u001b[0;32m---> 86\u001b[0;31m     \u001b[0;32mreturn\u001b[0m \u001b[0mufunc\u001b[0m\u001b[0;34m.\u001b[0m\u001b[0mreduce\u001b[0m\u001b[0;34m(\u001b[0m\u001b[0mobj\u001b[0m\u001b[0;34m,\u001b[0m \u001b[0maxis\u001b[0m\u001b[0;34m,\u001b[0m \u001b[0mdtype\u001b[0m\u001b[0;34m,\u001b[0m \u001b[0mout\u001b[0m\u001b[0;34m,\u001b[0m \u001b[0;34m**\u001b[0m\u001b[0mpasskwargs\u001b[0m\u001b[0;34m)\u001b[0m\u001b[0;34m\u001b[0m\u001b[0;34m\u001b[0m\u001b[0m\n\u001b[0m\u001b[1;32m     87\u001b[0m \u001b[0;34m\u001b[0m\u001b[0m\n\u001b[1;32m     88\u001b[0m \u001b[0;34m\u001b[0m\u001b[0m\n",
      "\u001b[0;31mAxisError\u001b[0m: axis 1 is out of bounds for array of dimension 1"
     ]
    }
   ],
   "source": [
    "%%time\n",
    "my_norm = np.sqrt(np.sum(X ** 2, axis=1))\n",
    "print('done')"
   ]
  },
  {
   "cell_type": "code",
   "execution_count": 43,
   "metadata": {},
   "outputs": [
    {
     "ename": "NameError",
     "evalue": "name 'std_norm' is not defined",
     "output_type": "error",
     "traceback": [
      "\u001b[0;31m---------------------------------------------------------------------------\u001b[0m",
      "\u001b[0;31mNameError\u001b[0m                                 Traceback (most recent call last)",
      "\u001b[0;32m<ipython-input-43-2255bb649c1a>\u001b[0m in \u001b[0;36m<module>\u001b[0;34m\u001b[0m\n\u001b[0;32m----> 1\u001b[0;31m \u001b[0msum\u001b[0m\u001b[0;34m(\u001b[0m\u001b[0mstd_norm\u001b[0m \u001b[0;34m!=\u001b[0m \u001b[0mmy_norm\u001b[0m\u001b[0;34m)\u001b[0m\u001b[0;34m\u001b[0m\u001b[0;34m\u001b[0m\u001b[0m\n\u001b[0m",
      "\u001b[0;31mNameError\u001b[0m: name 'std_norm' is not defined"
     ]
    }
   ],
   "source": [
    "sum(std_norm != my_norm)"
   ]
  },
  {
   "cell_type": "markdown",
   "metadata": {},
   "source": [
    "## Testing cross_validation"
   ]
  },
  {
   "cell_type": "code",
   "execution_count": 44,
   "metadata": {},
   "outputs": [],
   "source": [
    "import numpy as np\n",
    "from nearest_neighbors import KNNClassifier\n",
    "\n",
    "\n",
    "def kfold(n, n_folds=5):\n",
    "    \"\"\"\n",
    "    params:\n",
    "        * n - objects amount in sample\n",
    "        * n_folds - folds amount\n",
    "    return values:\n",
    "        * list with size n_folds, where every element is tuple of two 1D numpy array:\n",
    "            * first array contains indices of train samples\n",
    "            * second array contains indices of validation samples\n",
    "    \"\"\"\n",
    "    \n",
    "    indices = np.arange(n)\n",
    "    size_of_one_fold = int(n / n_folds)\n",
    "    size_with_folds = size_of_one_fold * n_folds\n",
    "    out_elemnts_amount = len(indices) - size_with_folds\n",
    "    train_test_idx_list = []\n",
    "    for i in range(n_folds):\n",
    "        test_idx = indices[i * size_of_one_fold:(i + 1) * size_of_one_fold]\n",
    "        if out_elemnts_amount > 0:\n",
    "            test_idx = np.append(test_idx, n - out_elemnts_amount)\n",
    "            out_elemnts_amount -= 1\n",
    "        train_idx = np.array(list((set(indices) - set(test_idx))))\n",
    "        train_test_idx_list.append((train_idx, test_idx))\n",
    "    return train_test_idx_list\n",
    "    \n",
    "def accuracy(y_valid, y_true):\n",
    "    return np.sum(y_valid == y_true, axis=0) / len(y_valid) * 100\n",
    "\n",
    "\n",
    "def knn_cross_val_score(X, y, k_list=[2, 3, 5, 10, 15], score='accuracy', cv=None, **kwargs):\n",
    "    \"\"\"\n",
    "    :param X: train samples\n",
    "    :param y: targets for train\n",
    "    :param k_list: list of values of neighbors amount, in ascending order\n",
    "    :param score: metric name( accuracy' must have)\n",
    "    :param cv: list of tuples, which contains indices of train and valid samples\n",
    "    :param kwargs: parameters for __init__ from KNNClassifier\n",
    "    :return: dict, where keys is neigbors amount from k_list, values - numpy array of size len(cv)\n",
    "    with accuracy on each fold\n",
    "    \"\"\"\n",
    "    \n",
    "    if cv is None:\n",
    "        cv = kfold(X.shape[0])\n",
    "    knn = KNNClassifier(**kwargs)\n",
    "    knn.k = np.max(k_list)\n",
    "    knn.fit(X, y)\n",
    "    knn.find_kneighbors(X, return_distance=True)\n",
    "    accuracy_per_k = {k: np.empty(0) for k in k_list}\n",
    "    for k in k_list:\n",
    "        knn.k = k\n",
    "        for fold in cv:\n",
    "            y_valid = knn.predict(X[fold[1]])\n",
    "            accuracy_per_k[k] = np.append(accuracy_per_k[k],\n",
    "                      accuracy(y_valid,\n",
    "                               y[fold[1]]))\n",
    "    return accuracy_per_k\n",
    "    "
   ]
  },
  {
   "cell_type": "code",
   "execution_count": 61,
   "metadata": {},
   "outputs": [],
   "source": [
    "import numpy as np\n",
    "from nearest_neighbors import KNNClassifier\n",
    "\n",
    "\n",
    "def kfold(n, n_folds=5):\n",
    "    \"\"\"\n",
    "    params:\n",
    "        * n - objects amount in sample\n",
    "        * n_folds - folds amount\n",
    "    return values:\n",
    "        * list with size n_folds, where every element is tuple of two 1D numpy array:\n",
    "            * first array contains indices of train samples\n",
    "            * second array contains indices of validation samples\n",
    "    \"\"\"\n",
    "\n",
    "    indices = np.arange(n)\n",
    "    folds = np.array_split(indices, n_folds)\n",
    "    train_test_idx_list = []\n",
    "    for i, fold in enumerate(folds):\n",
    "        test_idx = fold\n",
    "        train_idx = folds[:i] + folds[i + 1:]\n",
    "        train_test_idx_list.append((train_idx, test_idx))\n",
    "    return train_test_idx_list\n",
    "\n",
    "\n",
    "def accuracy(y_valid, y_true):\n",
    "    return np.sum(y_valid == y_true, axis=0) / len(y_valid) * 100\n",
    "\n",
    "\n",
    "def knn_cross_val_score(X, y, k_list, score='accuracy', cv=None, **kwargs):\n",
    "    \"\"\"\n",
    "    :param X: train samples\n",
    "    :param y: targets for train\n",
    "    :param k_list: list of values of neighbors amount, in ascending order\n",
    "    :param score: metric name( accuracy' must have)\n",
    "    :param cv: list of tuples, which contains indices of train and valid samples\n",
    "    :param kwargs: parameters for __init__ from KNNClassifier\n",
    "    :return: dict, where keys is neigbors amount from k_list, values - numpy array of size len(cv)\n",
    "    with accuracy on each fold\n",
    "    \"\"\"\n",
    "\n",
    "    if cv is None:\n",
    "        cv = kfold(X.shape[0])\n",
    "    knn = KNNClassifier(**kwargs)\n",
    "    knn.k = np.max(k_list)\n",
    "    knn.fit(X, y)\n",
    "    knn.find_kneighbors(X, return_distance=True)\n",
    "    accuracy_per_k = {k: np.empty(0) for k in k_list}\n",
    "    for k in k_list:\n",
    "        knn.k = k\n",
    "        for fold in cv:\n",
    "            y_valid = knn.predict(X[fold[1]])\n",
    "            accuracy_per_k[k] = np.append(accuracy_per_k[k],\n",
    "                                          accuracy(y_valid,\n",
    "                                                   y[fold[1]]))\n",
    "    return accuracy_per_k\n"
   ]
  },
  {
   "cell_type": "code",
   "execution_count": 62,
   "metadata": {},
   "outputs": [
    {
     "data": {
      "text/plain": [
       "{3: array([94.5, 92.5, 92.5, 89.5, 93.5]),\n",
       " 4: array([93.5, 91.5, 91. , 89.5, 93. ]),\n",
       " 10: array([90.5, 88.5, 88.5, 84. , 90. ]),\n",
       " 50: array([78. , 83. , 79. , 76. , 83.5]),\n",
       " 200: array([60. , 68. , 54.5, 58.5, 57. ])}"
      ]
     },
     "execution_count": 62,
     "metadata": {},
     "output_type": "execute_result"
    }
   ],
   "source": [
    "knn_cross_val_score(train_data['data'][:1000],\n",
    "                    train_data['target'][:1000],\n",
    "                    k_list=[3, 4, 10, 50, 200],\n",
    "                    score='accuracy',\n",
    "                    cv=None,\n",
    "                    k=10,\n",
    "                    strategy='my_own',\n",
    "                    metric='euclidean',\n",
    "                    weights=False,\n",
    "                    test_block_size=100\n",
    "                   )"
   ]
  },
  {
   "cell_type": "code",
   "execution_count": 63,
   "metadata": {},
   "outputs": [
    {
     "data": {
      "text/plain": [
       "[([array([10, 11, 12, 13, 14, 15, 16, 17, 18, 19]),\n",
       "   array([20, 21, 22, 23, 24, 25, 26, 27, 28, 29]),\n",
       "   array([30, 31, 32, 33, 34, 35, 36, 37, 38, 39]),\n",
       "   array([40, 41, 42, 43, 44, 45, 46, 47, 48, 49])],\n",
       "  array([0, 1, 2, 3, 4, 5, 6, 7, 8, 9])),\n",
       " ([array([0, 1, 2, 3, 4, 5, 6, 7, 8, 9]),\n",
       "   array([20, 21, 22, 23, 24, 25, 26, 27, 28, 29]),\n",
       "   array([30, 31, 32, 33, 34, 35, 36, 37, 38, 39]),\n",
       "   array([40, 41, 42, 43, 44, 45, 46, 47, 48, 49])],\n",
       "  array([10, 11, 12, 13, 14, 15, 16, 17, 18, 19])),\n",
       " ([array([0, 1, 2, 3, 4, 5, 6, 7, 8, 9]),\n",
       "   array([10, 11, 12, 13, 14, 15, 16, 17, 18, 19]),\n",
       "   array([30, 31, 32, 33, 34, 35, 36, 37, 38, 39]),\n",
       "   array([40, 41, 42, 43, 44, 45, 46, 47, 48, 49])],\n",
       "  array([20, 21, 22, 23, 24, 25, 26, 27, 28, 29])),\n",
       " ([array([0, 1, 2, 3, 4, 5, 6, 7, 8, 9]),\n",
       "   array([10, 11, 12, 13, 14, 15, 16, 17, 18, 19]),\n",
       "   array([20, 21, 22, 23, 24, 25, 26, 27, 28, 29]),\n",
       "   array([40, 41, 42, 43, 44, 45, 46, 47, 48, 49])],\n",
       "  array([30, 31, 32, 33, 34, 35, 36, 37, 38, 39])),\n",
       " ([array([0, 1, 2, 3, 4, 5, 6, 7, 8, 9]),\n",
       "   array([10, 11, 12, 13, 14, 15, 16, 17, 18, 19]),\n",
       "   array([20, 21, 22, 23, 24, 25, 26, 27, 28, 29]),\n",
       "   array([30, 31, 32, 33, 34, 35, 36, 37, 38, 39])],\n",
       "  array([40, 41, 42, 43, 44, 45, 46, 47, 48, 49]))]"
      ]
     },
     "execution_count": 63,
     "metadata": {},
     "output_type": "execute_result"
    }
   ],
   "source": [
    "kfold(50, 5)"
   ]
  },
  {
   "cell_type": "code",
   "execution_count": null,
   "metadata": {},
   "outputs": [],
   "source": [
    "# 3: array([94.5, 92.5, 92.5, 89.5, 93.5]),\n",
    "#  4: array([93.5, 91.5, 91. , 89.5, 93. ]),\n",
    "#  10: array([90.5, 88.5, 88.5, 84. , 90. ]),\n",
    "#  50: array([78. , 83. , 79. , 76. , 83.5]),\n",
    "#  200: array([60. , 68. , 54.5, 58.5, 57. ])}"
   ]
  },
  {
   "cell_type": "code",
   "execution_count": 47,
   "metadata": {},
   "outputs": [],
   "source": [
    "k_list1 = [1, 2, 3, 4, 5, 10]\n",
    "accuracy_per_k = {k: np.empty(0) for k in k_list1}"
   ]
  },
  {
   "cell_type": "code",
   "execution_count": 48,
   "metadata": {},
   "outputs": [],
   "source": [
    "accuracy_per_k[1] = np.append(accuracy_per_k[1], 5)"
   ]
  },
  {
   "cell_type": "code",
   "execution_count": 49,
   "metadata": {},
   "outputs": [
    {
     "data": {
      "text/plain": [
       "array([5.])"
      ]
     },
     "execution_count": 49,
     "metadata": {},
     "output_type": "execute_result"
    }
   ],
   "source": [
    "accuracy_per_k[1]"
   ]
  },
  {
   "cell_type": "code",
   "execution_count": 50,
   "metadata": {},
   "outputs": [
    {
     "data": {
      "text/plain": [
       "4"
      ]
     },
     "execution_count": 50,
     "metadata": {},
     "output_type": "execute_result"
    }
   ],
   "source": [
    "k_list1.index(5)"
   ]
  },
  {
   "cell_type": "code",
   "execution_count": null,
   "metadata": {},
   "outputs": [],
   "source": [
    "from sklearn.neighbors import NearestNeighbors\n",
    "import numpy as np\n",
    "from distances import euclidean_distance, cosine_distance\n",
    "\n",
    "\n",
    "class KNNClassifier:\n",
    "    def __init__(self,\n",
    "                 k=10,\n",
    "                 strategy='my_own',\n",
    "                 metric='euclidean',\n",
    "                 weights=False,\n",
    "                 test_block_size=100\n",
    "                 ):\n",
    "        \"\"\"\n",
    "        params:\n",
    "            * k - amount of nearest neighbours(nn)\n",
    "            * strategy - nn searching algorithm. Possible values:\n",
    "                - 'my_own' - self-realization\n",
    "                - 'brute' - from sklearn.neighbors.NearestNeighbors(algorithm='brute')\n",
    "                - 'kd_tree' - from sklearn.neighbors.NearestNeighbors(algorithm='kd_tree')\n",
    "                - 'ball_tree' - from sklearn.neighbors.NearestNeighbors(algorithm='ball_tree')\n",
    "            * metric:\n",
    "                - 'euclidean' - euclidean metric\n",
    "                - 'cosine' - cosine metric\n",
    "            * weights - bool variable.\n",
    "                - True - weighted KNN(with distance)\n",
    "                - False - simple KNN\n",
    "            * test_block_size - size of test block\n",
    "        \"\"\"\n",
    "\n",
    "        self.k = k\n",
    "        self.strategy = strategy\n",
    "        self.metric = metric\n",
    "        self.eps = 1e-5\n",
    "        self.weights = weights\n",
    "        if self.strategy != 'my_own':\n",
    "            self.model = NearestNeighbors(n_neighbors=self.k, algorithm=self.strategy)\n",
    "        else:\n",
    "            self.model = None\n",
    "        self.test_block_size = test_block_size\n",
    "\n",
    "    def fit(self, X, y):\n",
    "        \"\"\"\n",
    "        params:\n",
    "            * X - train data\n",
    "            * y - targets for train data\n",
    "        \"\"\"\n",
    "\n",
    "        self.y_train = y\n",
    "        if self.strategy != 'my_own':\n",
    "            self.model.fit(X, y)\n",
    "        else:\n",
    "            self.X_train = X\n",
    "\n",
    "    def find_kneighbors(self, X, return_distance):\n",
    "        \"\"\"\n",
    "        params:\n",
    "            * X - objects sample\n",
    "            * return_distance - bool variable\n",
    "\n",
    "        return values:\n",
    "            * If return_distance == True:\n",
    "                * tuple with two numpy array with size (X.shape[0], k), where:\n",
    "                  [i, j] elem of first array must be the distance between\n",
    "                  i-th object and his j-th nearest neighbour\n",
    "                  [i, j] elem of second array must be the index of j-th nearest neighbour to i-th object\n",
    "            * If return_distance == False:\n",
    "                * only second array\n",
    "        \"\"\"\n",
    "\n",
    "        if self.strategy != 'my_own':\n",
    "            self.distances, \\\n",
    "            self.neigh_idxs = self.model.kneighbors(X, n_neighbors=self.k)\n",
    "        else:\n",
    "            if self.metric == 'euclidean':\n",
    "                self.distances = euclidean_distance(X, self.X_train)\n",
    "                self.neigh_idxs = np.argsort(self.distances,\n",
    "                                             axis=1,\n",
    "                                             kind='quicksort')[:, :self.k]\n",
    "                if return_distance:\n",
    "                    self.distances = np.sort(self.distances,\n",
    "                                             axis=1,\n",
    "                                             kind='quicksort')[:, :self.k]\n",
    "\n",
    "            elif self.metric == 'cosine':\n",
    "                self.distances = cosine_distance(X, self.X_train),\n",
    "                self.neigh_idxs = np.argsort(self.distances,\n",
    "                                             axis=1,\n",
    "                                             kind='quicksort')[:, :self.k]\n",
    "                if return_distance:\n",
    "                    self.distances = np.sort(self.distances,\n",
    "                                             axis=1,\n",
    "                                             kind='quicksort')[:, :self.k]\n",
    "        if return_distance:\n",
    "            return self.distances, self.neigh_idxs\n",
    "        return self.neigh_idxs\n",
    "\n",
    "    def predict(self, X):\n",
    "        \"\"\"\n",
    "        params:\n",
    "            * X - test objects\n",
    "\n",
    "        return values:\n",
    "            * numpy array with size X.shape[0] of predictions for test objects from X\n",
    "        \"\"\"\n",
    "\n",
    "        self.find_kneighbors(X, True)\n",
    "        for j, idx in enumerate(self.neigh_idxs):\n",
    "            if self.weights:\n",
    "                counts = np.bincount(self.y_train[idx],\n",
    "                                       weights=1 / (self.distances[j, :self.k] + self.eps))\n",
    "            else:\n",
    "                counts = np.bincount(self.y_train[idx])\n",
    "            preds[j] = np.argmax(counts)\n",
    "        return preds"
   ]
  }
 ],
 "metadata": {
  "kernelspec": {
   "display_name": "Python 3",
   "language": "python",
   "name": "python3"
  },
  "language_info": {
   "codemirror_mode": {
    "name": "ipython",
    "version": 3
   },
   "file_extension": ".py",
   "mimetype": "text/x-python",
   "name": "python",
   "nbconvert_exporter": "python",
   "pygments_lexer": "ipython3",
   "version": "3.7.1"
  }
 },
 "nbformat": 4,
 "nbformat_minor": 2
}
