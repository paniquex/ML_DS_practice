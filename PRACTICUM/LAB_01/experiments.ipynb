{
 "cells": [
  {
   "cell_type": "markdown",
   "metadata": {},
   "source": [
    "## Import modules"
   ]
  },
  {
   "cell_type": "code",
   "execution_count": 1,
   "metadata": {},
   "outputs": [],
   "source": [
    "# sklearn\n",
    "from sklearn.datasets import fetch_openml\n",
    "\n",
    "import numpy as np\n",
    "\n",
    "import matplotlib.pyplot as plt"
   ]
  },
  {
   "cell_type": "markdown",
   "metadata": {},
   "source": [
    "## Loading data"
   ]
  },
  {
   "cell_type": "code",
   "execution_count": 2,
   "metadata": {},
   "outputs": [
    {
     "name": "stdout",
     "output_type": "stream",
     "text": [
      "CPU times: user 16.8 s, sys: 304 ms, total: 17.1 s\n",
      "Wall time: 17.1 s\n"
     ]
    }
   ],
   "source": [
    "%%time\n",
    "full_data = fetch_openml(\"mnist_784\")"
   ]
  },
  {
   "cell_type": "code",
   "execution_count": 3,
   "metadata": {},
   "outputs": [
    {
     "data": {
      "text/plain": [
       "dict_keys(['data', 'target', 'feature_names', 'DESCR', 'details', 'categories', 'url'])"
      ]
     },
     "execution_count": 3,
     "metadata": {},
     "output_type": "execute_result"
    }
   ],
   "source": [
    "full_data.keys()"
   ]
  },
  {
   "cell_type": "code",
   "execution_count": 4,
   "metadata": {},
   "outputs": [
    {
     "data": {
      "text/plain": [
       "(70000,)"
      ]
     },
     "execution_count": 4,
     "metadata": {},
     "output_type": "execute_result"
    }
   ],
   "source": [
    "full_data['target'].shape"
   ]
  },
  {
   "cell_type": "code",
   "execution_count": 5,
   "metadata": {},
   "outputs": [],
   "source": [
    "train_size = 60000\n",
    "test_size = 10000"
   ]
  },
  {
   "cell_type": "markdown",
   "metadata": {},
   "source": [
    "## Separate full_data to train and test"
   ]
  },
  {
   "cell_type": "code",
   "execution_count": 6,
   "metadata": {},
   "outputs": [],
   "source": [
    "train_data = {'data': full_data['data'][:train_size], 'target': full_data['target'][:train_size]}\n",
    "test_data = {'data': full_data['data'][train_size:], 'target': full_data['target'][train_size:]}"
   ]
  },
  {
   "cell_type": "markdown",
   "metadata": {},
   "source": [
    "## Let's visualize first 10 digits from train:"
   ]
  },
  {
   "cell_type": "code",
   "execution_count": 7,
   "metadata": {
    "scrolled": true
   },
   "outputs": [
    {
     "data": {
      "image/png": "[encoded data removed]",
      "text/plain": [
       "<Figure size 1080x1080 with 10 Axes>"
      ]
     },
     "metadata": {
      "needs_background": "light"
     },
     "output_type": "display_data"
    }
   ],
   "source": [
    "digits_to_show = 10\n",
    "fig = plt.figure(figsize=(15, 15))\n",
    "for i in range(digits_to_show):\n",
    "    ax = fig.add_subplot(1, digits_to_show + 1, i+1)\n",
    "    ax.imshow(train_data['data'][i].reshape(28, 28), cmap=plt.get_cmap('Greys_r'))\n",
    "    ax.set_title('Class target: ' + train_data['target'][i])\n",
    "    ax.axis(\"off\")\n",
    "plt.tight_layout()\n",
    "plt.show()"
   ]
  },
  {
   "cell_type": "markdown",
   "metadata": {},
   "source": [
    "## Testing my KNNClassifier"
   ]
  },
  {
   "cell_type": "code",
   "execution_count": 8,
   "metadata": {},
   "outputs": [],
   "source": [
    "train_data['target'] = train_data['target'].astype(int)\n",
    "test_data['target'] = test_data['target'].astype(int)"
   ]
  },
  {
   "cell_type": "code",
   "execution_count": 9,
   "metadata": {},
   "outputs": [],
   "source": [
    "from sklearn.neighbors import NearestNeighbors\n",
    "from nearest_neighbors import KNNClassifier\n",
    "import numpy as np\n",
    "from distances import euclidean_distance, cosine_distance\n",
    "\n",
    "\n",
    "n_test_samples = 1000"
   ]
  },
  {
   "cell_type": "code",
   "execution_count": 10,
   "metadata": {},
   "outputs": [],
   "source": [
    "KNN_model = KNNClassifier(5, strategy='my_own', metric='euclidean', weights=False, test_block_size=44)"
   ]
  },
  {
   "cell_type": "code",
   "execution_count": 11,
   "metadata": {},
   "outputs": [
    {
     "name": "stdout",
     "output_type": "stream",
     "text": [
      "CPU times: user 160 µs, sys: 0 ns, total: 160 µs\n",
      "Wall time: 128 µs\n"
     ]
    }
   ],
   "source": [
    "%%time\n",
    "KNN_model.fit(X=train_data['data'][:5000], y=train_data['target'])"
   ]
  },
  {
   "cell_type": "code",
   "execution_count": 12,
   "metadata": {
    "scrolled": true
   },
   "outputs": [
    {
     "name": "stdout",
     "output_type": "stream",
     "text": [
      "CPU times: user 7.46 s, sys: 116 ms, total: 7.57 s\n",
      "Wall time: 957 ms\n"
     ]
    }
   ],
   "source": [
    "%%time\n",
    "preds1 = KNN_model.predict(test_data['data'][:n_test_samples])"
   ]
  },
  {
   "cell_type": "code",
   "execution_count": 13,
   "metadata": {},
   "outputs": [
    {
     "data": {
      "text/plain": [
       "0.91"
      ]
     },
     "execution_count": 13,
     "metadata": {},
     "output_type": "execute_result"
    }
   ],
   "source": [
    "sum(preds1.astype(int) - test_data['target'][:n_test_samples].astype(int) == 0) / test_data['target'][:n_test_samples].size"
   ]
  },
  {
   "cell_type": "markdown",
   "metadata": {},
   "source": [
    "## Testing distances"
   ]
  },
  {
   "cell_type": "code",
   "execution_count": 14,
   "metadata": {},
   "outputs": [],
   "source": [
    "import numpy as np\n",
    "from distances import euclidean_distance, cosine_distance"
   ]
  },
  {
   "cell_type": "code",
   "execution_count": 15,
   "metadata": {},
   "outputs": [],
   "source": [
    "x = np.array([[2, 3], [-1, 6], [10, 22]])\n",
    "y = np.array([[1, 1], [-1, 2]])"
   ]
  },
  {
   "cell_type": "code",
   "execution_count": 16,
   "metadata": {},
   "outputs": [
    {
     "data": {
      "text/plain": [
       "array([[0.01941932, 0.50386106],\n",
       "       [0.41876181, 0.04422099],\n",
       "       [0.06367082, 0.37080177]])"
      ]
     },
     "execution_count": 16,
     "metadata": {},
     "output_type": "execute_result"
    }
   ],
   "source": [
    "cosine_distance(x, y)"
   ]
  },
  {
   "cell_type": "code",
   "execution_count": 17,
   "metadata": {},
   "outputs": [],
   "source": [
    "%load_ext memory_profiler"
   ]
  },
  {
   "cell_type": "code",
   "execution_count": 18,
   "metadata": {
    "scrolled": true
   },
   "outputs": [
    {
     "name": "stdout",
     "output_type": "stream",
     "text": [
      "[[126.49110641 126.49110641 126.49110641 ... 126.49110641 126.49110641\n",
      "  126.49110641]\n",
      " [126.49110641 126.49110641 126.49110641 ... 126.49110641 126.49110641\n",
      "  126.49110641]\n",
      " [126.49110641 126.49110641 126.49110641 ... 126.49110641 126.49110641\n",
      "  126.49110641]\n",
      " ...\n",
      " [126.49110641 126.49110641 126.49110641 ... 126.49110641 126.49110641\n",
      "  126.49110641]\n",
      " [126.49110641 126.49110641 126.49110641 ... 126.49110641 126.49110641\n",
      "  126.49110641]\n",
      " [126.49110641 126.49110641 126.49110641 ... 126.49110641 126.49110641\n",
      "  126.49110641]]\n",
      "[[126.49110641 126.49110641 126.49110641 ... 126.49110641 126.49110641\n",
      "  126.49110641]\n",
      " [126.49110641 126.49110641 126.49110641 ... 126.49110641 126.49110641\n",
      "  126.49110641]\n",
      " [126.49110641 126.49110641 126.49110641 ... 126.49110641 126.49110641\n",
      "  126.49110641]\n",
      " ...\n",
      " [126.49110641 126.49110641 126.49110641 ... 126.49110641 126.49110641\n",
      "  126.49110641]\n",
      " [126.49110641 126.49110641 126.49110641 ... 126.49110641 126.49110641\n",
      "  126.49110641]\n",
      " [126.49110641 126.49110641 126.49110641 ... 126.49110641 126.49110641\n",
      "  126.49110641]]\n",
      "peak memory: 686.94 MiB, increment: 6.28 MiB\n",
      "CPU times: user 2.07 s, sys: 216 ms, total: 2.29 s\n",
      "Wall time: 304 ms\n"
     ]
    }
   ],
   "source": [
    "%%time\n",
    "%%memit\n",
    "X = np.ones((2000, 1000)) * 5\n",
    "print(euclidean_distance(np.ones((2000, 1000)) * 5, np.ones((500, 1000))))\n",
    "#2.22 s - new on 200x500\n",
    "\n",
    "#763 ms - old on 200x500\n",
    "#7725.48 \n"
   ]
  },
  {
   "cell_type": "code",
   "execution_count": 19,
   "metadata": {},
   "outputs": [
    {
     "name": "stdout",
     "output_type": "stream",
     "text": [
      "done\n",
      "CPU times: user 21.1 ms, sys: 287 µs, total: 21.4 ms\n",
      "Wall time: 2.38 ms\n"
     ]
    }
   ],
   "source": [
    "%%time\n",
    "std_norm = np.linalg.norm(X, axis=1)\n",
    "print('done')"
   ]
  },
  {
   "cell_type": "code",
   "execution_count": 20,
   "metadata": {},
   "outputs": [
    {
     "name": "stdout",
     "output_type": "stream",
     "text": [
      "done\n",
      "CPU times: user 20.3 ms, sys: 0 ns, total: 20.3 ms\n",
      "Wall time: 2.41 ms\n"
     ]
    }
   ],
   "source": [
    "%%time\n",
    "my_norm = np.sqrt(np.sum(X ** 2, axis=1))\n",
    "print('done')"
   ]
  },
  {
   "cell_type": "code",
   "execution_count": 21,
   "metadata": {},
   "outputs": [
    {
     "data": {
      "text/plain": [
       "0"
      ]
     },
     "execution_count": 21,
     "metadata": {},
     "output_type": "execute_result"
    }
   ],
   "source": [
    "sum(std_norm != my_norm)"
   ]
  },
  {
   "cell_type": "markdown",
   "metadata": {},
   "source": [
    "## Testing cross_validation"
   ]
  },
  {
   "cell_type": "code",
   "execution_count": 115,
   "metadata": {},
   "outputs": [],
   "source": [
    "import numpy as np\n",
    "from sklearn.neighbors import NearestNeighbors\n",
    "\n",
    "\n",
    "def euclidean_distance(X, Y):\n",
    "    \"\"\"\n",
    "    params:\n",
    "        * X - np.array with size N x D\n",
    "        * Y - np.array with size M x D\n",
    "    return values:\n",
    "        * np.array with size N x M, where [i, j] - euclidean distance between i-th vector from X and\n",
    "                                                                              j-th vector from Y\n",
    "    \"\"\"\n",
    "\n",
    "    X_sqr = np.sum(X ** 2, axis=1)[:, None]\n",
    "    Y_sqr = np.sum(Y ** 2, axis=1)\n",
    "    return np.sqrt(X_sqr - 2 * np.dot(X, Y.T) + Y_sqr)\n",
    "\n",
    "\n",
    "def cosine_distance(X, Y):\n",
    "    \"\"\"\n",
    "    params:\n",
    "        * X - np.array with size N x D\n",
    "        * Y - np.array with size M x D\n",
    "    return values:\n",
    "        * np.array with size N x M, where [i, j] - cosine distance between i-th vector from X and\n",
    "                                                                              j-th vector from Y\n",
    "    \"\"\"\n",
    "\n",
    "    result = np.dot(X, Y.T)\n",
    "    result = result / np.sqrt(np.sum(X ** 2, axis=1))[:, None]\n",
    "    result = result / np.sqrt(np.sum(Y ** 2, axis=1))\n",
    "    return 1 - result\n",
    "\n",
    "\n",
    "class KNNClassifier:\n",
    "    def __init__(self,\n",
    "                 k=10,\n",
    "                 strategy='my_own',\n",
    "                 metric='euclidean',\n",
    "                 weights=False,\n",
    "                 test_block_size=10000\n",
    "                 ):\n",
    "        \"\"\"\n",
    "        params:\n",
    "            * k - amount of nearest neighbours(nn)\n",
    "            * strategy - nn searching algorithm. Possible values:\n",
    "                - 'my_own' - self-realization\n",
    "                - 'brute' - from sklearn.neighbors.NearestNeighbors(algorithm='brute')\n",
    "                - 'kd_tree' - from sklearn.neighbors.NearestNeighbors(algorithm='kd_tree')\n",
    "                - 'ball_tree' - from sklearn.neighbors.NearestNeighbors(algorithm='ball_tree')\n",
    "            * metric:\n",
    "                - 'euclidean' - euclidean metric\n",
    "                - 'cosine' - cosine metric\n",
    "            * weights - bool variable.\n",
    "                - True - weighted KNN(with distance)\n",
    "                - False - simple KNN\n",
    "            * test_block_size - size of test block\n",
    "        \"\"\"\n",
    "\n",
    "        self.X_train = None\n",
    "        self.y_train = None\n",
    "        self.distances = None\n",
    "        self.neigh_idxs = None\n",
    "        self.model = None\n",
    "        self.k = k\n",
    "        self.strategy = strategy\n",
    "        self.metric = metric\n",
    "        self.eps = 1e-5\n",
    "        self.weights = weights\n",
    "        if self.strategy == 'brute':\n",
    "            self.model = NearestNeighbors(n_neighbors=self.k, algorithm=self.strategy, metric=self.metric)\n",
    "        elif self.strategy != 'my_own':\n",
    "            self.model = NearestNeighbors(n_neighbors=self.k, algorithm=self.strategy)\n",
    "        else:\n",
    "            self.model = None\n",
    "        self.test_block_size = test_block_size\n",
    "\n",
    "    def fit(self, X, y):\n",
    "        \"\"\"\n",
    "        params:\n",
    "            * X - train data\n",
    "            * y - targets for train data\n",
    "        \"\"\"\n",
    "\n",
    "        self.y_train = y.astype(int)\n",
    "        self.k = np.min([self.y_train.shape[0], self.k])\n",
    "        if self.strategy != 'my_own':\n",
    "            self.model.fit(X, self.y_train)\n",
    "        else:\n",
    "            self.X_train = X\n",
    "\n",
    "    def find_kneighbors(self, X, return_distance):\n",
    "        \"\"\"\n",
    "        params:\n",
    "            * X - objects sample\n",
    "            * return_distance - bool variable\n",
    "\n",
    "        return values:\n",
    "            * If return_distance == True:\n",
    "                * tuple with two numpy array with size (X.shape[0], k), where:\n",
    "                  [i, j] elem of first array must be the distance between\n",
    "                  i-th object and his j-th nearest neighbour\n",
    "                  [i, j] elem of second array must be the index of j-th nearest neighbour to i-th object\n",
    "            * If return_distance == False:\n",
    "                * only second array\n",
    "        \"\"\"\n",
    "\n",
    "        if self.strategy != 'my_own':\n",
    "            self.distances, \\\n",
    "            self.neigh_idxs = self.model.kneighbors(X, n_neighbors=self.k)\n",
    "        else:\n",
    "            if self.metric == 'euclidean':\n",
    "                self.distances = euclidean_distance(X, self.X_train)\n",
    "                self.neigh_idxs = np.argsort(self.distances,\n",
    "                                        axis=1)[:, :self.k]\n",
    "                if return_distance:\n",
    "                    self.distances = np.sort(self.distances,\n",
    "                                        axis=1)[:, :self.k]\n",
    "\n",
    "            elif self.metric == 'cosine':\n",
    "                self.distances = cosine_distance(X, self.X_train)\n",
    "                self.neigh_idxs = np.argsort(self.distances,\n",
    "                                        axis=1)[:, :self.k]\n",
    "                if return_distance:\n",
    "                    self.distances = np.sort(self.distances,\n",
    "                                        axis=1)[:, :self.k]\n",
    "        if return_distance:\n",
    "            return self.distances, self.neigh_idxs\n",
    "        return self.neigh_idxs\n",
    "\n",
    "    def predict(self, X):\n",
    "        \"\"\"\n",
    "        params:\n",
    "            * X - test objects\n",
    "\n",
    "        return values:\n",
    "            * numpy array with size X.shape[0] of predictions for test objects from X\n",
    "        \"\"\"\n",
    "\n",
    "        if self.test_block_size > X.shape[0]:\n",
    "            self.test_block_size = X.shape[0]\n",
    "        preds = np.zeros(X.shape[0])\n",
    "        split_size = X.shape[0] // self.test_block_size + \\\n",
    "                     int(X.shape[0] % self.test_block_size != 0)\n",
    "        curr_idx = 0\n",
    "        classes = np.array(np.unique(self.y_train))\n",
    "        for i, split in enumerate(np.array_split(X, split_size)):\n",
    "            self.distances, self.neigh_idxs = self.find_kneighbors(split, True)\n",
    "            for j, idx in enumerate(self.neigh_idxs):\n",
    "                counts = np.zeros(len(classes))\n",
    "                for c in classes:\n",
    "                    if self.weights:\n",
    "                        weights = 1 / (self.distances[j] + self.eps)\n",
    "                        counts[c] = np.sum((self.y_train[idx] == c) * weights)\n",
    "                    else:\n",
    "                        counts[c] = np.sum(self.y_train[idx] == c)\n",
    "                preds[j + curr_idx] = np.argmax(counts)\n",
    "            curr_idx += split.shape[0]\n",
    "        return preds\n",
    "\n",
    "    def predict_for_cv(self, X):\n",
    "        \"\"\"\n",
    "        params:\n",
    "            * X - test objects\n",
    "\n",
    "        return values:\n",
    "\n",
    "        \"\"\"\n",
    "\n",
    "        preds = np.zeros(X.shape[0])\n",
    "        classes = np.array(np.unique(self.y_train))\n",
    "        for j, idx in enumerate(self.neigh_idxs[:, :self.k]):\n",
    "            counts = np.zeros(len(classes))\n",
    "            for c in classes:\n",
    "                if self.weights:\n",
    "                    weights = 1 / (self.distances[j, :self.k] + self.eps)\n",
    "                    counts[c] = np.sum((self.y_train[idx] == c) * weights)\n",
    "                else:\n",
    "                    counts[c] = np.sum(self.y_train[idx] == c)\n",
    "            preds[j] = np.argmax(counts)\n",
    "        return preds\n",
    "\n",
    "\n",
    "def kfold(n, n_folds=3):\n",
    "    \"\"\"\n",
    "    params:\n",
    "        * n - objects amount in sample\n",
    "        * n_folds - folds amount\n",
    "    return values:\n",
    "        * list with size n_folds, where every element is tuple of two 1D numpy array:\n",
    "            * first array contains indices of train samples\n",
    "            * second array contains indices of validation samples\n",
    "    \"\"\"\n",
    "\n",
    "    indices = np.arange(n)\n",
    "    size_of_one_fold = int(n / n_folds) + (n < n_folds)\n",
    "    size_with_folds = size_of_one_fold * n_folds\n",
    "    out_elements_amount = len(indices) - size_with_folds\n",
    "    train_test_idx_list = []\n",
    "    for i in range(n_folds):\n",
    "        test_idx = indices[i * size_of_one_fold:(i + 1) * size_of_one_fold]\n",
    "        if out_elements_amount > 0:\n",
    "            test_idx = np.append(test_idx, n - out_elements_amount)\n",
    "            out_elements_amount -= 1\n",
    "        train_idx = np.array(list((set(indices) - set(test_idx))))\n",
    "        train_test_idx_list.append((train_idx, test_idx))\n",
    "    return train_test_idx_list\n",
    "\n",
    "\n",
    "def accuracy(y_valid, y_true):\n",
    "    return np.sum(y_valid == y_true, axis=0) / len(y_valid) * 100\n",
    "\n",
    "\n",
    "def knn_cross_val_score(X, y, k_list, score='accuracy', cv=None, **kwargs):\n",
    "    \"\"\"\n",
    "    :param X: train samples\n",
    "    :param y: targets for train\n",
    "    :param k_list: list of values of neighbors amount, in ascending order\n",
    "    :param score: metric name( accuracy' must have)\n",
    "    :param cv: list of tuples, which contains indices of train and valid samples\n",
    "    :param kwargs: parameters for __init__ from KNNClassifier\n",
    "    :return: dict, where keys is neigbors amount from k_list, values - numpy array of size len(cv)\n",
    "    with accuracy on each fold\n",
    "    \"\"\"\n",
    "\n",
    "    if cv is None:\n",
    "        cv = kfold(X.shape[0])\n",
    "    knn = None\n",
    "    if 'k' not in kwargs.keys():\n",
    "        knn = KNNClassifier(k_list[-1], **kwargs)\n",
    "    else:\n",
    "        knn = KNNClassifier(**kwargs)\n",
    "    accuracy_per_k = {k: np.empty(0) for k in k_list}\n",
    "    for fold in cv:\n",
    "        knn.k = k_list[-1]\n",
    "        knn.fit(X[fold[0]], y[fold[0]])\n",
    "        knn.find_kneighbors(X[fold[1]], return_distance=True)\n",
    "        for k in k_list:\n",
    "            knn.k = k\n",
    "            y_valid = knn.predict_for_cv(X[fold[1]])\n",
    "            accuracy_per_k[k] = np.append(accuracy_per_k[k],\n",
    "                                          accuracy(y_valid,\n",
    "                                                   y[fold[1]]))\n",
    "    return accuracy_per_k\n"
   ]
  },
  {
   "cell_type": "code",
   "execution_count": 116,
   "metadata": {},
   "outputs": [
    {
     "name": "stdout",
     "output_type": "stream",
     "text": [
      "CPU times: user 4.24 s, sys: 75.8 ms, total: 4.31 s\n",
      "Wall time: 542 ms\n"
     ]
    },
    {
     "data": {
      "text/plain": [
       "{3: array([86. , 84.5, 85. , 80.5, 89. ]),\n",
       " 5: array([87., 85., 86., 81., 87.]),\n",
       " 15: array([84. , 83.5, 81. , 75. , 82. ]),\n",
       " 20: array([80. , 83.5, 81.5, 75. , 82.5]),\n",
       " 25: array([80. , 82.5, 80. , 72.5, 81.5]),\n",
       " 50: array([74. , 80. , 73.5, 68.5, 79. ]),\n",
       " 100: array([68., 72., 66., 61., 65.]),\n",
       " 250: array([52. , 52. , 46.5, 48.5, 44.5]),\n",
       " 500: array([28.5, 35. , 28. , 23. , 23. ])}"
      ]
     },
     "execution_count": 116,
     "metadata": {},
     "output_type": "execute_result"
    }
   ],
   "source": [
    "%%time\n",
    "\n",
    "knn_cross_val_score(train_data['data'][:1000],\n",
    "                    train_data['target'][:1000],\n",
    "                    k_list=[3, 5, 15, 20, 25, 50, 100, 250, 500],\n",
    "                    score='accuracy',\n",
    "                    cv=None,\n",
    "                    k=5,\n",
    "                    strategy='brute',\n",
    "                    metric='euclidean',\n",
    "                    weights=False,\n",
    "                    test_block_size=1000\n",
    "                   )"
   ]
  },
  {
   "cell_type": "code",
   "execution_count": 121,
   "metadata": {},
   "outputs": [],
   "source": [
    "knn_test = KNNClassifier(\n",
    "                    k=500,\n",
    "                    strategy='brute',\n",
    "                    metric='euclidean',\n",
    "                    weights=False,\n",
    "                    test_block_size=1000)\n",
    "knn_test.fit(train_data['data'][:800], train_data['target'][:800])"
   ]
  },
  {
   "cell_type": "code",
   "execution_count": 120,
   "metadata": {},
   "outputs": [
    {
     "name": "stdout",
     "output_type": "stream",
     "text": [
      "CPU times: user 232 ms, sys: 12.4 ms, total: 245 ms\n",
      "Wall time: 32.7 ms\n"
     ]
    },
    {
     "data": {
      "text/plain": [
       "0.23"
      ]
     },
     "execution_count": 120,
     "metadata": {},
     "output_type": "execute_result"
    }
   ],
   "source": [
    "%%time\n",
    "preds1 = knn_test.predict(train_data['data'][800:1000])\n",
    "\n",
    "sum(preds1.astype(int) - train_data['target'][800:1000].astype(int) == 0) / train_data['target'][800:1000].size"
   ]
  },
  {
   "cell_type": "code",
   "execution_count": 122,
   "metadata": {},
   "outputs": [
    {
     "data": {
      "text/plain": [
       "KNeighborsClassifier(algorithm='brute', leaf_size=30, metric='euclidean',\n",
       "                     metric_params=None, n_jobs=None, n_neighbors=5, p=2,\n",
       "                     weights='uniform')"
      ]
     },
     "execution_count": 122,
     "metadata": {},
     "output_type": "execute_result"
    }
   ],
   "source": [
    "from sklearn.model_selection import cross_val_score\n",
    "\n",
    "from sklearn.neighbors import KNeighborsClassifier\n",
    "knn_true = KNeighborsClassifier(5, algorithm='brute', weights='uniform', metric='euclidean')\n",
    "knn_true.fit(train_data['data'][:800], train_data['target'][:800])"
   ]
  },
  {
   "cell_type": "code",
   "execution_count": 111,
   "metadata": {},
   "outputs": [
    {
     "data": {
      "text/plain": [
       "0.87"
      ]
     },
     "execution_count": 111,
     "metadata": {},
     "output_type": "execute_result"
    }
   ],
   "source": [
    "preds1 = knn_true.predict(train_data['data'][800:1000])\n",
    "\n",
    "sum(preds1.astype(int) - train_data['target'][800:1000].astype(int) == 0) / train_data['target'][800:1000].size"
   ]
  },
  {
   "cell_type": "code",
   "execution_count": 90,
   "metadata": {},
   "outputs": [
    {
     "data": {
      "text/plain": [
       "array([0.82142857, 0.82582583, 0.80362538])"
      ]
     },
     "execution_count": 90,
     "metadata": {},
     "output_type": "execute_result"
    }
   ],
   "source": [
    "cross_val_score(knn, train_data['data'][:1000], train_data['target'][:1000], cv=3)"
   ]
  },
  {
   "cell_type": "markdown",
   "metadata": {},
   "source": [
    "## Experiments list"
   ]
  },
  {
   "cell_type": "markdown",
   "metadata": {},
   "source": [
    "### Experiment №1"
   ]
  },
  {
   "cell_type": "code",
   "execution_count": 123,
   "metadata": {},
   "outputs": [
    {
     "name": "stderr",
     "output_type": "stream",
     "text": [
      "  0%|          | 0/3 [00:00<?, ?it/s]\n",
      "  0%|          | 0/4 [00:00<?, ?it/s]\u001b[A\n",
      " 25%|██▌       | 1/4 [01:08<03:24, 68.08s/it]\u001b[A\n",
      " 50%|█████     | 2/4 [01:16<01:40, 50.06s/it]\u001b[A\n",
      " 75%|███████▌  | 3/4 [01:18<00:35, 35.78s/it]\u001b[A\n",
      " 33%|███▎      | 1/3 [01:22<02:44, 82.38s/it]\u001b[A\n",
      "  0%|          | 0/4 [00:00<?, ?it/s]\u001b[A\n",
      " 25%|██▌       | 1/4 [01:16<03:50, 76.83s/it]\u001b[A\n",
      " 50%|█████     | 2/4 [01:24<01:52, 56.22s/it]\u001b[A\n",
      " 75%|███████▌  | 3/4 [01:27<00:40, 40.20s/it]\u001b[A\n",
      " 67%|██████▋   | 2/3 [02:58<01:26, 86.41s/it]\u001b[A\n",
      "  0%|          | 0/4 [00:00<?, ?it/s]\u001b[A\n",
      " 25%|██▌       | 1/4 [01:18<03:54, 78.32s/it]\u001b[A\n",
      " 50%|█████     | 2/4 [01:26<01:54, 57.37s/it]\u001b[A\n",
      " 75%|███████▌  | 3/4 [02:51<01:05, 65.64s/it]\u001b[A\n",
      "100%|██████████| 3/3 [07:29<00:00, 141.98s/it][A\n"
     ]
    }
   ],
   "source": [
    "from sklearn.neighbors import NearestNeighbors\n",
    "from nearest_neighbors import KNNClassifier\n",
    "import numpy as np\n",
    "from distances import euclidean_distance, cosine_distance\n",
    "from tqdm import tqdm\n",
    "import time\n",
    "import pandas as pd\n",
    "\n",
    "\n",
    "strategy_list = ['my_own', 'brute', 'kd_tree', 'ball_tree']\n",
    "feature_dim_list = [10, 20, 100]\n",
    "k_neighbors = 5\n",
    "\n",
    "experiment1_results = pd.DataFrame(columns=['strategy', 'feature_dim', 'time_elapsed'])\n",
    "\n",
    "for feature_dim in tqdm(feature_dim_list):\n",
    "    features_idxs = np.random.choice(test_data['data'].shape[1],\n",
    "                                     feature_dim,\n",
    "                                     replace=False)\n",
    "    for strategy in tqdm(strategy_list):\n",
    "        knn = KNNClassifier(k_neighbors,\n",
    "                            strategy)\n",
    "        knn.fit(train_data['data'][:, features_idxs],\n",
    "                train_data['target'])\n",
    "        start = time.time()\n",
    "        knn.find_kneighbors(test_data['data'][:, features_idxs], True)\n",
    "        time_elapsed = time.time() - start\n",
    "        experiment1_results = \\\n",
    "            experiment1_results.append({'feature_dim': feature_dim,\n",
    "                                        'strategy': strategy,\n",
    "                                        'time_elapsed': time_elapsed},\n",
    "                                       ignore_index=True)\n",
    "        \n",
    "        \n",
    "        "
   ]
  },
  {
   "cell_type": "code",
   "execution_count": 124,
   "metadata": {},
   "outputs": [
    {
     "data": {
      "text/html": [
       "<div>\n",
       "<style scoped>\n",
       "    .dataframe tbody tr th:only-of-type {\n",
       "        vertical-align: middle;\n",
       "    }\n",
       "\n",
       "    .dataframe tbody tr th {\n",
       "        vertical-align: top;\n",
       "    }\n",
       "\n",
       "    .dataframe thead th {\n",
       "        text-align: right;\n",
       "    }\n",
       "</style>\n",
       "<table border=\"1\" class=\"dataframe\">\n",
       "  <thead>\n",
       "    <tr style=\"text-align: right;\">\n",
       "      <th></th>\n",
       "      <th>strategy</th>\n",
       "      <th>feature_dim</th>\n",
       "      <th>time_elapsed</th>\n",
       "    </tr>\n",
       "  </thead>\n",
       "  <tbody>\n",
       "    <tr>\n",
       "      <th>0</th>\n",
       "      <td>my_own</td>\n",
       "      <td>10</td>\n",
       "      <td>68.074046</td>\n",
       "    </tr>\n",
       "    <tr>\n",
       "      <th>1</th>\n",
       "      <td>brute</td>\n",
       "      <td>10</td>\n",
       "      <td>7.844289</td>\n",
       "    </tr>\n",
       "    <tr>\n",
       "      <th>2</th>\n",
       "      <td>kd_tree</td>\n",
       "      <td>10</td>\n",
       "      <td>0.441361</td>\n",
       "    </tr>\n",
       "    <tr>\n",
       "      <th>3</th>\n",
       "      <td>ball_tree</td>\n",
       "      <td>10</td>\n",
       "      <td>1.720195</td>\n",
       "    </tr>\n",
       "    <tr>\n",
       "      <th>4</th>\n",
       "      <td>my_own</td>\n",
       "      <td>20</td>\n",
       "      <td>76.828881</td>\n",
       "    </tr>\n",
       "    <tr>\n",
       "      <th>5</th>\n",
       "      <td>brute</td>\n",
       "      <td>20</td>\n",
       "      <td>7.959555</td>\n",
       "    </tr>\n",
       "    <tr>\n",
       "      <th>6</th>\n",
       "      <td>kd_tree</td>\n",
       "      <td>20</td>\n",
       "      <td>1.405176</td>\n",
       "    </tr>\n",
       "    <tr>\n",
       "      <th>7</th>\n",
       "      <td>ball_tree</td>\n",
       "      <td>20</td>\n",
       "      <td>6.638407</td>\n",
       "    </tr>\n",
       "    <tr>\n",
       "      <th>8</th>\n",
       "      <td>my_own</td>\n",
       "      <td>100</td>\n",
       "      <td>78.310371</td>\n",
       "    </tr>\n",
       "    <tr>\n",
       "      <th>9</th>\n",
       "      <td>brute</td>\n",
       "      <td>100</td>\n",
       "      <td>8.280682</td>\n",
       "    </tr>\n",
       "    <tr>\n",
       "      <th>10</th>\n",
       "      <td>kd_tree</td>\n",
       "      <td>100</td>\n",
       "      <td>82.766250</td>\n",
       "    </tr>\n",
       "    <tr>\n",
       "      <th>11</th>\n",
       "      <td>ball_tree</td>\n",
       "      <td>100</td>\n",
       "      <td>97.675825</td>\n",
       "    </tr>\n",
       "  </tbody>\n",
       "</table>\n",
       "</div>"
      ],
      "text/plain": [
       "     strategy feature_dim  time_elapsed\n",
       "0      my_own          10     68.074046\n",
       "1       brute          10      7.844289\n",
       "2     kd_tree          10      0.441361\n",
       "3   ball_tree          10      1.720195\n",
       "4      my_own          20     76.828881\n",
       "5       brute          20      7.959555\n",
       "6     kd_tree          20      1.405176\n",
       "7   ball_tree          20      6.638407\n",
       "8      my_own         100     78.310371\n",
       "9       brute         100      8.280682\n",
       "10    kd_tree         100     82.766250\n",
       "11  ball_tree         100     97.675825"
      ]
     },
     "execution_count": 124,
     "metadata": {},
     "output_type": "execute_result"
    }
   ],
   "source": [
    "experiment1_results"
   ]
  },
  {
   "cell_type": "code",
   "execution_count": 126,
   "metadata": {},
   "outputs": [],
   "source": [
    "experiment1_results.to_csv('experiment1_results.csv')"
   ]
  },
  {
   "cell_type": "markdown",
   "metadata": {},
   "source": [
    "### Experiment №2"
   ]
  },
  {
   "cell_type": "code",
   "execution_count": 11,
   "metadata": {},
   "outputs": [],
   "source": [
    "%load_ext autoreload\n",
    "%autoreload 2"
   ]
  },
  {
   "cell_type": "code",
   "execution_count": 21,
   "metadata": {},
   "outputs": [
    {
     "name": "stderr",
     "output_type": "stream",
     "text": [
      "100%|██████████| 2/2 [03:25<00:00, 102.91s/it]\n"
     ]
    }
   ],
   "source": [
    "from sklearn.neighbors import NearestNeighbors\n",
    "from nearest_neighbors import KNNClassifier\n",
    "from cross_validation import *\n",
    "import numpy as np\n",
    "from distances import euclidean_distance, cosine_distance\n",
    "from tqdm import tqdm\n",
    "import time\n",
    "import pandas as pd\n",
    "\n",
    "\n",
    "n_folds = 3\n",
    "k_list = [k for k in range(1, 11)]\n",
    "metric_list = ['euclidean', 'cosine']\n",
    "\n",
    "experiment2_results = pd.DataFrame(columns=['k_neighbors', 'metric', 'accuracy', 'elapsed_time'])\n",
    "\n",
    "\n",
    "for metric in tqdm(metric_list):\n",
    "    start = time.time()\n",
    "    preds_dict = knn_cross_val_score(train_data['data'],\n",
    "                                     train_data['target'],\n",
    "                                     k_list=k_list,\n",
    "                                     score='accuracy',\n",
    "                                     k=k_list[-1],\n",
    "                                     strategy='brute',\n",
    "                                     metric=metric,\n",
    "                                     weights=False\n",
    "                                    )\n",
    "    time_elapsed = time.time() - start\n",
    "    for k in k_list:\n",
    "        experiment2_results = \\\n",
    "            experiment2_results.append({'k_neighbors': k,\n",
    "                                        'metric': metric,\n",
    "                                        'accuracy': preds_dict[k],\n",
    "                                        'elapsed_time': time_elapsed},\n",
    "                                        ignore_index=True\n",
    "                                      )\n",
    "        \n",
    "        "
   ]
  },
  {
   "cell_type": "code",
   "execution_count": 22,
   "metadata": {
    "scrolled": true
   },
   "outputs": [
    {
     "data": {
      "text/html": [
       "<div>\n",
       "<style scoped>\n",
       "    .dataframe tbody tr th:only-of-type {\n",
       "        vertical-align: middle;\n",
       "    }\n",
       "\n",
       "    .dataframe tbody tr th {\n",
       "        vertical-align: top;\n",
       "    }\n",
       "\n",
       "    .dataframe thead th {\n",
       "        text-align: right;\n",
       "    }\n",
       "</style>\n",
       "<table border=\"1\" class=\"dataframe\">\n",
       "  <thead>\n",
       "    <tr style=\"text-align: right;\">\n",
       "      <th></th>\n",
       "      <th>k_neighbors</th>\n",
       "      <th>metric</th>\n",
       "      <th>accuracy</th>\n",
       "      <th>elapsed_time</th>\n",
       "    </tr>\n",
       "  </thead>\n",
       "  <tbody>\n",
       "    <tr>\n",
       "      <th>0</th>\n",
       "      <td>1</td>\n",
       "      <td>euclidean</td>\n",
       "      <td>[96.895, 96.675, 96.67]</td>\n",
       "      <td>103.422209</td>\n",
       "    </tr>\n",
       "    <tr>\n",
       "      <th>1</th>\n",
       "      <td>2</td>\n",
       "      <td>euclidean</td>\n",
       "      <td>[96.03, 95.99499999999999, 96.125]</td>\n",
       "      <td>103.422209</td>\n",
       "    </tr>\n",
       "    <tr>\n",
       "      <th>2</th>\n",
       "      <td>3</td>\n",
       "      <td>euclidean</td>\n",
       "      <td>[96.955, 96.825, 96.71499999999999]</td>\n",
       "      <td>103.422209</td>\n",
       "    </tr>\n",
       "    <tr>\n",
       "      <th>3</th>\n",
       "      <td>4</td>\n",
       "      <td>euclidean</td>\n",
       "      <td>[96.705, 96.67, 96.71]</td>\n",
       "      <td>103.422209</td>\n",
       "    </tr>\n",
       "    <tr>\n",
       "      <th>4</th>\n",
       "      <td>5</td>\n",
       "      <td>euclidean</td>\n",
       "      <td>[96.81, 96.73, 96.72]</td>\n",
       "      <td>103.422209</td>\n",
       "    </tr>\n",
       "    <tr>\n",
       "      <th>5</th>\n",
       "      <td>6</td>\n",
       "      <td>euclidean</td>\n",
       "      <td>[96.555, 96.495, 96.57]</td>\n",
       "      <td>103.422209</td>\n",
       "    </tr>\n",
       "    <tr>\n",
       "      <th>6</th>\n",
       "      <td>7</td>\n",
       "      <td>euclidean</td>\n",
       "      <td>[96.52, 96.5, 96.56]</td>\n",
       "      <td>103.422209</td>\n",
       "    </tr>\n",
       "    <tr>\n",
       "      <th>7</th>\n",
       "      <td>8</td>\n",
       "      <td>euclidean</td>\n",
       "      <td>[96.41499999999999, 96.39, 96.525]</td>\n",
       "      <td>103.422209</td>\n",
       "    </tr>\n",
       "    <tr>\n",
       "      <th>8</th>\n",
       "      <td>9</td>\n",
       "      <td>euclidean</td>\n",
       "      <td>[96.37, 96.32, 96.455]</td>\n",
       "      <td>103.422209</td>\n",
       "    </tr>\n",
       "    <tr>\n",
       "      <th>9</th>\n",
       "      <td>10</td>\n",
       "      <td>euclidean</td>\n",
       "      <td>[96.245, 96.22, 96.37]</td>\n",
       "      <td>103.422209</td>\n",
       "    </tr>\n",
       "    <tr>\n",
       "      <th>10</th>\n",
       "      <td>1</td>\n",
       "      <td>cosine</td>\n",
       "      <td>[97.33000000000001, 97.08, 97.045]</td>\n",
       "      <td>101.689952</td>\n",
       "    </tr>\n",
       "    <tr>\n",
       "      <th>11</th>\n",
       "      <td>2</td>\n",
       "      <td>cosine</td>\n",
       "      <td>[96.895, 96.64, 96.775]</td>\n",
       "      <td>101.689952</td>\n",
       "    </tr>\n",
       "    <tr>\n",
       "      <th>12</th>\n",
       "      <td>3</td>\n",
       "      <td>cosine</td>\n",
       "      <td>[97.365, 97.155, 97.09]</td>\n",
       "      <td>101.689952</td>\n",
       "    </tr>\n",
       "    <tr>\n",
       "      <th>13</th>\n",
       "      <td>4</td>\n",
       "      <td>cosine</td>\n",
       "      <td>[97.25, 97.095, 97.22]</td>\n",
       "      <td>101.689952</td>\n",
       "    </tr>\n",
       "    <tr>\n",
       "      <th>14</th>\n",
       "      <td>5</td>\n",
       "      <td>cosine</td>\n",
       "      <td>[97.275, 97.015, 97.16]</td>\n",
       "      <td>101.689952</td>\n",
       "    </tr>\n",
       "    <tr>\n",
       "      <th>15</th>\n",
       "      <td>6</td>\n",
       "      <td>cosine</td>\n",
       "      <td>[97.195, 96.97, 97.21499999999999]</td>\n",
       "      <td>101.689952</td>\n",
       "    </tr>\n",
       "    <tr>\n",
       "      <th>16</th>\n",
       "      <td>7</td>\n",
       "      <td>cosine</td>\n",
       "      <td>[97.125, 96.815, 97.075]</td>\n",
       "      <td>101.689952</td>\n",
       "    </tr>\n",
       "    <tr>\n",
       "      <th>17</th>\n",
       "      <td>8</td>\n",
       "      <td>cosine</td>\n",
       "      <td>[97.125, 96.83500000000001, 97.155]</td>\n",
       "      <td>101.689952</td>\n",
       "    </tr>\n",
       "    <tr>\n",
       "      <th>18</th>\n",
       "      <td>9</td>\n",
       "      <td>cosine</td>\n",
       "      <td>[97.005, 96.7, 97.07000000000001]</td>\n",
       "      <td>101.689952</td>\n",
       "    </tr>\n",
       "    <tr>\n",
       "      <th>19</th>\n",
       "      <td>10</td>\n",
       "      <td>cosine</td>\n",
       "      <td>[96.935, 96.615, 97.07000000000001]</td>\n",
       "      <td>101.689952</td>\n",
       "    </tr>\n",
       "  </tbody>\n",
       "</table>\n",
       "</div>"
      ],
      "text/plain": [
       "   k_neighbors     metric                             accuracy  elapsed_time\n",
       "0            1  euclidean              [96.895, 96.675, 96.67]    103.422209\n",
       "1            2  euclidean   [96.03, 95.99499999999999, 96.125]    103.422209\n",
       "2            3  euclidean  [96.955, 96.825, 96.71499999999999]    103.422209\n",
       "3            4  euclidean               [96.705, 96.67, 96.71]    103.422209\n",
       "4            5  euclidean                [96.81, 96.73, 96.72]    103.422209\n",
       "5            6  euclidean              [96.555, 96.495, 96.57]    103.422209\n",
       "6            7  euclidean                 [96.52, 96.5, 96.56]    103.422209\n",
       "7            8  euclidean   [96.41499999999999, 96.39, 96.525]    103.422209\n",
       "8            9  euclidean               [96.37, 96.32, 96.455]    103.422209\n",
       "9           10  euclidean               [96.245, 96.22, 96.37]    103.422209\n",
       "10           1     cosine   [97.33000000000001, 97.08, 97.045]    101.689952\n",
       "11           2     cosine              [96.895, 96.64, 96.775]    101.689952\n",
       "12           3     cosine              [97.365, 97.155, 97.09]    101.689952\n",
       "13           4     cosine               [97.25, 97.095, 97.22]    101.689952\n",
       "14           5     cosine              [97.275, 97.015, 97.16]    101.689952\n",
       "15           6     cosine   [97.195, 96.97, 97.21499999999999]    101.689952\n",
       "16           7     cosine             [97.125, 96.815, 97.075]    101.689952\n",
       "17           8     cosine  [97.125, 96.83500000000001, 97.155]    101.689952\n",
       "18           9     cosine    [97.005, 96.7, 97.07000000000001]    101.689952\n",
       "19          10     cosine  [96.935, 96.615, 97.07000000000001]    101.689952"
      ]
     },
     "execution_count": 22,
     "metadata": {},
     "output_type": "execute_result"
    }
   ],
   "source": [
    "experiment2_results"
   ]
  },
  {
   "cell_type": "code",
   "execution_count": 23,
   "metadata": {},
   "outputs": [],
   "source": [
    "experiment2_results.to_csv('experiment2_results')"
   ]
  },
  {
   "cell_type": "markdown",
   "metadata": {},
   "source": [
    "## Experiment №3"
   ]
  },
  {
   "cell_type": "code",
   "execution_count": 29,
   "metadata": {},
   "outputs": [
    {
     "name": "stderr",
     "output_type": "stream",
     "text": [
      "\n",
      "\n",
      "\n",
      "  0%|          | 0/2 [00:00<?, ?it/s]\u001b[A\u001b[A\u001b[A\n",
      "\n",
      "\n",
      "\n",
      "  0%|          | 0/2 [00:00<?, ?it/s]\u001b[A\u001b[A\u001b[A\u001b[A\n",
      "\n",
      "\n",
      "\n",
      "\n",
      "  0%|          | 0/4 [00:00<?, ?it/s]\u001b[A\u001b[A\u001b[A\u001b[A\u001b[A\n",
      "\n",
      "\n",
      "\n",
      "\n",
      " 25%|██▌       | 1/4 [06:03<18:11, 363.81s/it]\u001b[A\u001b[A\u001b[A\u001b[A\u001b[A\n",
      "\n",
      "\n",
      "\n",
      "\n",
      " 50%|█████     | 2/4 [07:46<09:31, 285.57s/it]\u001b[A\u001b[A\u001b[A\u001b[A\u001b[A\n",
      "\n",
      "\n",
      "\n",
      "\n",
      " 75%|███████▌  | 3/4 [43:32<14:03, 843.70s/it]\u001b[A\u001b[A\u001b[A\u001b[A\u001b[A\n",
      "\n",
      "\n",
      "\n",
      "\n",
      "100%|██████████| 4/4 [1:09:39<00:00, 1060.55s/it]\u001b[A\u001b[A\u001b[A\u001b[A\u001b[A\n",
      "\n",
      "\n",
      "\n",
      " 50%|█████     | 1/2 [1:09:39<1:09:39, 4179.37s/it]\u001b[A\u001b[A\u001b[A\u001b[A\n",
      "\n",
      "\n",
      "\n",
      "\n",
      "  0%|          | 0/4 [00:00<?, ?it/s]\u001b[A\u001b[A\u001b[A\u001b[A\u001b[A\n",
      "\n",
      "\n",
      "\n",
      "\n",
      " 25%|██▌       | 1/4 [06:02<18:06, 362.22s/it]\u001b[A\u001b[A\u001b[A\u001b[A\u001b[A\n",
      "\n",
      "\n",
      "\n",
      "\n",
      " 50%|█████     | 2/4 [07:43<09:27, 283.85s/it]\u001b[A\u001b[A\u001b[A\u001b[A\u001b[A\n",
      "\n",
      "\n",
      "\n",
      "\n",
      " 75%|███████▌  | 3/4 [43:20<13:59, 839.96s/it]\u001b[A\u001b[A\u001b[A\u001b[A\u001b[A\n",
      "\n",
      "\n",
      "\n",
      "\n",
      "100%|██████████| 4/4 [1:09:18<00:00, 1055.39s/it]\u001b[A\u001b[A\u001b[A\u001b[A\u001b[A\n",
      "\n",
      "\n",
      "\n",
      "100%|██████████| 2/2 [2:18:58<00:00, 4173.20s/it]  \u001b[A\u001b[A\u001b[A\u001b[A\n",
      "\n",
      "\n",
      " 50%|█████     | 1/2 [2:18:58<2:18:58, 8338.17s/it]\u001b[A\u001b[A\u001b[A\n",
      "\n",
      "\n",
      "\n",
      "  0%|          | 0/2 [00:00<?, ?it/s]\u001b[A\u001b[A\u001b[A\u001b[A\n",
      "\n",
      "\n",
      "\n",
      "\n",
      "  0%|          | 0/4 [00:00<?, ?it/s]\u001b[A\u001b[A\u001b[A\u001b[A\u001b[A\n",
      "\n",
      "\n",
      "\n",
      "\n",
      " 25%|██▌       | 1/4 [06:23<19:10, 383.57s/it]\u001b[A\u001b[A\u001b[A\u001b[A\u001b[A\n",
      "\n",
      "\n",
      "\n",
      "\n",
      " 50%|█████     | 2/4 [08:28<10:11, 305.86s/it]\u001b[A\u001b[A\u001b[A\u001b[A\u001b[A\n",
      "\n",
      "\n",
      "\n",
      "\n",
      " 75%|███████▌  | 3/4 [44:27<14:21, 861.81s/it]\u001b[A\u001b[A\u001b[A\u001b[A\u001b[A\n",
      "\n",
      "\n",
      "\n",
      "\n",
      "100%|██████████| 4/4 [1:10:43<00:00, 1076.28s/it]\u001b[A\u001b[A\u001b[A\u001b[A\u001b[A\n",
      "\n",
      "\n",
      "\n",
      " 50%|█████     | 1/2 [1:10:43<1:10:43, 4243.84s/it]\u001b[A\u001b[A\u001b[A\u001b[A\n",
      "\n",
      "\n",
      "\n",
      "\n",
      "  0%|          | 0/4 [00:00<?, ?it/s]\u001b[A\u001b[A\u001b[A\u001b[A\u001b[A\n",
      "\n",
      "\n",
      "\n",
      "\n",
      " 25%|██▌       | 1/4 [06:23<19:11, 383.75s/it]\u001b[A\u001b[A\u001b[A\u001b[A\u001b[A\n",
      "\n",
      "\n",
      "\n",
      "\n",
      " 50%|█████     | 2/4 [08:25<10:10, 305.17s/it]\u001b[A\u001b[A\u001b[A\u001b[A\u001b[A\n",
      "\n",
      "\n",
      "\n",
      "\n",
      " 75%|███████▌  | 3/4 [44:23<14:21, 861.01s/it]\u001b[A\u001b[A\u001b[A\u001b[A\u001b[A\n",
      "\n",
      "\n",
      "\n",
      "\n",
      "100%|██████████| 4/4 [1:10:47<00:00, 1077.80s/it]\u001b[A\u001b[A\u001b[A\u001b[A\u001b[A\n",
      "\n",
      "\n",
      "\n",
      "100%|██████████| 2/2 [2:21:31<00:00, 4244.84s/it]  \u001b[A\u001b[A\u001b[A\u001b[A\n",
      "\n",
      "\n",
      "100%|██████████| 2/2 [4:40:29<00:00, 8384.03s/it]  \u001b[A\u001b[A\u001b[A"
     ]
    }
   ],
   "source": [
    "from sklearn.neighbors import NearestNeighbors\n",
    "from nearest_neighbors import KNNClassifier\n",
    "from cross_validation import *\n",
    "import numpy as np\n",
    "from distances import euclidean_distance, cosine_distance\n",
    "from tqdm import tqdm\n",
    "import time\n",
    "import pandas as pd\n",
    "\n",
    "\n",
    "n_folds = 3\n",
    "k_list = [k for k in range(1, 11)]\n",
    "metric_list = ['euclidean', 'cosine']\n",
    "strategy_list = ['my_own', 'brute', 'kd_tree', 'ball_tree']\n",
    "weight_list = [False, True]\n",
    "\n",
    "experiment3_results = pd.DataFrame(columns=['k_neighbors',\n",
    "                                            'metric',\n",
    "                                            'strategy',\n",
    "                                            'weights',\n",
    "                                            'accuracy',\n",
    "                                            'elapsed_time']\n",
    "                                  )\n",
    "\n",
    "for weight in tqdm(weight_list):\n",
    "    for metric in tqdm(metric_list):\n",
    "        for strategy in tqdm(strategy_list):\n",
    "            start = time.time()\n",
    "            preds_dict = knn_cross_val_score(train_data['data'],\n",
    "                                             train_data['target'],\n",
    "                                             k_list=k_list,\n",
    "                                             score='accuracy',\n",
    "                                             k=k_list[-1],\n",
    "                                             strategy=strategy,\n",
    "                                             metric=metric,\n",
    "                                             weights=weight\n",
    "                                            )\n",
    "            time_elapsed = time.time() - start\n",
    "            for k in k_list:\n",
    "                experiment3_results = \\\n",
    "                    experiment3_results.append({'k_neighbors': k,\n",
    "                                                'metric': metric,\n",
    "                                                'strategy': strategy,\n",
    "                                                'weights': weight,\n",
    "                                                'accuracy': preds_dict[k],\n",
    "                                                'elapsed_time': time_elapsed},\n",
    "                                                ignore_index=True\n",
    "                                              )\n",
    "            \n"
   ]
  },
  {
   "cell_type": "code",
   "execution_count": 40,
   "metadata": {},
   "outputs": [],
   "source": [
    "experiment3_results.to_csv('experiment3_results.csv')"
   ]
  },
  {
   "cell_type": "code",
   "execution_count": 55,
   "metadata": {},
   "outputs": [],
   "source": [
    "experiment3_results['mean_accuracy'] = experiment3_results['accuracy'].map(np.mean)"
   ]
  },
  {
   "cell_type": "markdown",
   "metadata": {},
   "source": [
    "## Best algorithm params by accuracy:"
   ]
  },
  {
   "cell_type": "code",
   "execution_count": 67,
   "metadata": {},
   "outputs": [],
   "source": [
    "best_model_params_idx = experiment3_results.sort_values(by='mean_accuracy', ascending=False).index[0]"
   ]
  },
  {
   "cell_type": "code",
   "execution_count": 68,
   "metadata": {},
   "outputs": [],
   "source": [
    "best_model_params = experiment3_results.loc[best_model_params_idx]"
   ]
  },
  {
   "cell_type": "code",
   "execution_count": 69,
   "metadata": {},
   "outputs": [
    {
     "data": {
      "text/plain": [
       "k_neighbors                            4\n",
       "metric                            cosine\n",
       "strategy                          my_own\n",
       "accuracy         [97.545, 97.32, 97.365]\n",
       "elapsed_time                     383.728\n",
       "weight                                 1\n",
       "mean_accuracy                      97.41\n",
       "Name: 123, dtype: object"
      ]
     },
     "execution_count": 69,
     "metadata": {},
     "output_type": "execute_result"
    }
   ],
   "source": [
    "best_model_params"
   ]
  },
  {
   "cell_type": "markdown",
   "metadata": {},
   "source": [
    "## Experiment №4"
   ]
  },
  {
   "cell_type": "code",
   "execution_count": 71,
   "metadata": {},
   "outputs": [],
   "source": [
    "knn_best = KNNClassifier(k=best_model_params['k_neighbors'],\n",
    "                         metric=best_model_params['metric'],\n",
    "                         strategy=best_model_params['strategy'],\n",
    "                         weights=best_model_params['weight']\n",
    "                        )"
   ]
  },
  {
   "cell_type": "code",
   "execution_count": 73,
   "metadata": {},
   "outputs": [],
   "source": [
    "knn_best.fit(train_data['data'],\n",
    "             train_data['target']\n",
    "            )"
   ]
  },
  {
   "cell_type": "code",
   "execution_count": 75,
   "metadata": {},
   "outputs": [],
   "source": [
    "preds = knn_best.predict(test_data['data'])"
   ]
  },
  {
   "cell_type": "code",
   "execution_count": 78,
   "metadata": {},
   "outputs": [
    {
     "name": "stdout",
     "output_type": "stream",
     "text": [
      "Total accuracy on test:  0.9752\n"
     ]
    }
   ],
   "source": [
    "print('Total accuracy on test: ', accuracy(preds, test_data['target']))"
   ]
  },
  {
   "cell_type": "markdown",
   "metadata": {},
   "source": [
    "В статье https://arxiv.org/pdf/1809.06846.pdf авторы смогли достичь точности в 0.9714 при 3 соседей без модификаций, 0.9773 при использовании скользящего окна(подробности по ссылке)\n",
    "Тут https://rodrigob.github.io/are_we_there_yet/build/classification_datasets_results.html написано, что авторам удалось добиться точности = 0.9979 с помощью нейронных сетей."
   ]
  },
  {
   "cell_type": "code",
   "execution_count": 81,
   "metadata": {},
   "outputs": [],
   "source": [
    "from sklearn.metrics import confusion_matrix\n"
   ]
  },
  {
   "cell_type": "code",
   "execution_count": 87,
   "metadata": {},
   "outputs": [],
   "source": [
    "conf_matrix = confusion_matrix(preds, test_data['target'], labels=np.unique(test_data['target']))"
   ]
  },
  {
   "cell_type": "code",
   "execution_count": 93,
   "metadata": {},
   "outputs": [],
   "source": [
    "import matplotlib.pyplot as plt\n",
    "from sklearn.utils.multiclass import unique_labels"
   ]
  },
  {
   "cell_type": "code",
   "execution_count": 94,
   "metadata": {},
   "outputs": [],
   "source": [
    "#from sklearn documentation\n",
    "\n",
    "def plot_confusion_matrix(y_true, y_pred, classes,\n",
    "                          normalize=False,\n",
    "                          title=None,\n",
    "                          cmap=plt.cm.Blues):\n",
    "    \"\"\"\n",
    "    This function prints and plots the confusion matrix.\n",
    "    Normalization can be applied by setting `normalize=True`.\n",
    "    \"\"\"\n",
    "    if not title:\n",
    "        if normalize:\n",
    "            title = 'Normalized confusion matrix'\n",
    "        else:\n",
    "            title = 'Confusion matrix, without normalization'\n",
    "\n",
    "    # Compute confusion matrix\n",
    "    cm = confusion_matrix(y_true, y_pred)\n",
    "    # Only use the labels that appear in the data\n",
    "    classes = classes[unique_labels(y_true, y_pred)]\n",
    "    if normalize:\n",
    "        cm = cm.astype('float') / cm.sum(axis=1)[:, np.newaxis]\n",
    "        print(\"Normalized confusion matrix\")\n",
    "    else:\n",
    "        print('Confusion matrix, without normalization')\n",
    "\n",
    "    print(cm)\n",
    "\n",
    "    fig, ax = plt.subplots()\n",
    "    im = ax.imshow(cm, interpolation='nearest', cmap=cmap)\n",
    "    ax.figure.colorbar(im, ax=ax)\n",
    "    # We want to show all ticks...\n",
    "    ax.set(xticks=np.arange(cm.shape[1]),\n",
    "           yticks=np.arange(cm.shape[0]),\n",
    "           # ... and label them with the respective list entries\n",
    "           xticklabels=classes, yticklabels=classes,\n",
    "           title=title,\n",
    "           ylabel='True label',\n",
    "           xlabel='Predicted label')\n",
    "\n",
    "    # Rotate the tick labels and set their alignment.\n",
    "    plt.setp(ax.get_xticklabels(), rotation=45, ha=\"right\",\n",
    "             rotation_mode=\"anchor\")\n",
    "\n",
    "    # Loop over data dimensions and create text annotations.\n",
    "    fmt = '.2f' if normalize else 'd'\n",
    "    thresh = cm.max() / 2.\n",
    "    for i in range(cm.shape[0]):\n",
    "        for j in range(cm.shape[1]):\n",
    "            ax.text(j, i, format(cm[i, j], fmt),\n",
    "                    ha=\"center\", va=\"center\",\n",
    "                    color=\"white\" if cm[i, j] > thresh else \"black\")\n",
    "    fig.tight_layout()\n",
    "    return ax"
   ]
  },
  {
   "cell_type": "code",
   "execution_count": 98,
   "metadata": {},
   "outputs": [
    {
     "name": "stdout",
     "output_type": "stream",
     "text": [
      "Confusion matrix, without normalization\n",
      "[[ 977    0    8    0    2    4    3    2    7    7]\n",
      " [   1 1129    0    1    1    0    3   10    1    7]\n",
      " [   0    3 1009    3    0    0    0    4    2    2]\n",
      " [   0    1    1  976    0    9    0    0    9    5]\n",
      " [   0    0    1    1  946    1    1    1    3    7]\n",
      " [   0    0    0   12    0  863    3    0    3    3]\n",
      " [   1    2    0    0    6    7  948    0    5    1]\n",
      " [   1    0    8    4    2    1    0  998    4    4]\n",
      " [   0    0    5    9    0    4    0    0  936    3]\n",
      " [   0    0    0    4   25    3    0   13    4  970]]\n"
     ]
    },
    {
     "data": {
      "image/png": "[encoded data removed]",
      "text/plain": [
       "<Figure size 432x288 with 2 Axes>"
      ]
     },
     "metadata": {
      "needs_background": "light"
     },
     "output_type": "display_data"
    }
   ],
   "source": [
    "plot_confusion_matrix(preds.astype(int), test_data['target'].astype(int), classes=np.unique(test_data['target']))\n",
    "plt.show()"
   ]
  },
  {
   "cell_type": "code",
   "execution_count": 103,
   "metadata": {},
   "outputs": [],
   "source": [
    "indexes_with_errors = np.where(preds != test_data['target'])"
   ]
  },
  {
   "cell_type": "markdown",
   "metadata": {},
   "source": [
    "## Попробуем визуализировать некоторые объекты с ошибками:"
   ]
  },
  {
   "cell_type": "code",
   "execution_count": 117,
   "metadata": {},
   "outputs": [
    {
     "data": {
      "image/png": "[encoded data removed]",
      "text/plain": [
       "<Figure size 1080x1080 with 10 Axes>"
      ]
     },
     "metadata": {
      "needs_background": "light"
     },
     "output_type": "display_data"
    }
   ],
   "source": [
    "digits_to_show = 10\n",
    "fig = plt.figure(figsize=(15, 15))\n",
    "for i in range(digits_to_show):\n",
    "    ax = fig.add_subplot(1, digits_to_show + 1, i+1)\n",
    "    ax.imshow(test_data['data'][indexes_with_errors[0][i]].reshape(28, 28), cmap=plt.get_cmap('Greys_r'))\n",
    "    ax.set_title('True/pred: ' + test_data['target'][indexes_with_errors[0][i]].astype(str) + '/' + \\\n",
    "                 preds[indexes_with_errors[0][i]].astype(int).astype(str))\n",
    "    ax.axis(\"off\")\n",
    "plt.tight_layout()\n",
    "plt.show()"
   ]
  },
  {
   "cell_type": "markdown",
   "metadata": {},
   "source": [
    "В большинстве случаев видно, что написаннные цифры немного деформированы и похожи на другие в некоторых чертах"
   ]
  },
  {
   "cell_type": "code",
   "execution_count": null,
   "metadata": {},
   "outputs": [],
   "source": []
  }
 ],
 "metadata": {
  "kernelspec": {
   "display_name": "Python 3",
   "language": "python",
   "name": "python3"
  },
  "language_info": {
   "codemirror_mode": {
    "name": "ipython",
    "version": 3
   },
   "file_extension": ".py",
   "mimetype": "text/x-python",
   "name": "python",
   "nbconvert_exporter": "python",
   "pygments_lexer": "ipython3",
   "version": "3.7.3"
  }
 },
 "nbformat": 4,
 "nbformat_minor": 2
}
