{
 "cells": [
  {
   "cell_type": "markdown",
   "metadata": {},
   "source": [
    "## Import modules"
   ]
  },
  {
   "cell_type": "code",
   "execution_count": 1,
   "metadata": {},
   "outputs": [],
   "source": [
    "# sklearn\n",
    "from sklearn.datasets import fetch_openml\n",
    "\n",
    "import numpy as np\n",
    "\n",
    "import matplotlib.pyplot as plt"
   ]
  },
  {
   "cell_type": "markdown",
   "metadata": {},
   "source": [
    "## Loading data"
   ]
  },
  {
   "cell_type": "code",
   "execution_count": 2,
   "metadata": {},
   "outputs": [
    {
     "name": "stdout",
     "output_type": "stream",
     "text": [
      "CPU times: user 16.9 s, sys: 268 ms, total: 17.2 s\n",
      "Wall time: 17.2 s\n"
     ]
    }
   ],
   "source": [
    "%%time\n",
    "full_data = fetch_openml(\"mnist_784\")"
   ]
  },
  {
   "cell_type": "code",
   "execution_count": 3,
   "metadata": {},
   "outputs": [
    {
     "data": {
      "text/plain": [
       "dict_keys(['data', 'target', 'feature_names', 'DESCR', 'details', 'categories', 'url'])"
      ]
     },
     "execution_count": 3,
     "metadata": {},
     "output_type": "execute_result"
    }
   ],
   "source": [
    "full_data.keys()"
   ]
  },
  {
   "cell_type": "code",
   "execution_count": 4,
   "metadata": {},
   "outputs": [
    {
     "data": {
      "text/plain": [
       "(70000,)"
      ]
     },
     "execution_count": 4,
     "metadata": {},
     "output_type": "execute_result"
    }
   ],
   "source": [
    "full_data['target'].shape"
   ]
  },
  {
   "cell_type": "code",
   "execution_count": 5,
   "metadata": {},
   "outputs": [],
   "source": [
    "train_size = 60000\n",
    "test_size = 10000"
   ]
  },
  {
   "cell_type": "markdown",
   "metadata": {},
   "source": [
    "## Separate full_data to train and test"
   ]
  },
  {
   "cell_type": "code",
   "execution_count": 6,
   "metadata": {},
   "outputs": [],
   "source": [
    "train_data = {'data': full_data['data'][:train_size], 'target': full_data['target'][:train_size]}\n",
    "test_data = {'data': full_data['data'][train_size:], 'target': full_data['target'][train_size:]}"
   ]
  },
  {
   "cell_type": "markdown",
   "metadata": {},
   "source": [
    "## Let's visualize first 10 digits from train:"
   ]
  },
  {
   "cell_type": "code",
   "execution_count": 7,
   "metadata": {
    "scrolled": true
   },
   "outputs": [
    {
     "data": {
      "image/png": "[encoded data removed]",
      "text/plain": [
       "<Figure size 1080x1080 with 10 Axes>"
      ]
     },
     "metadata": {
      "needs_background": "light"
     },
     "output_type": "display_data"
    }
   ],
   "source": [
    "digits_to_show = 10\n",
    "fig = plt.figure(figsize=(15, 15))\n",
    "for i in range(digits_to_show):\n",
    "    ax = fig.add_subplot(1, digits_to_show + 1, i+1)\n",
    "    ax.imshow(train_data['data'][i].reshape(28, 28), cmap=plt.get_cmap('Greys_r'))\n",
    "    ax.set_title('Class target: ' + train_data['target'][i])\n",
    "    ax.axis(\"off\")\n",
    "plt.tight_layout()\n",
    "plt.show()"
   ]
  },
  {
   "cell_type": "markdown",
   "metadata": {},
   "source": [
    "## Testing my KNNClassifier"
   ]
  },
  {
   "cell_type": "code",
   "execution_count": 8,
   "metadata": {},
   "outputs": [],
   "source": [
    "train_data['target'] = train_data['target'].astype(int)\n",
    "test_data['target'] = test_data['target'].astype(int)"
   ]
  },
  {
   "cell_type": "code",
   "execution_count": 9,
   "metadata": {},
   "outputs": [],
   "source": [
    "from sklearn.neighbors import NearestNeighbors\n",
    "from nearest_neighbors import KNNClassifier\n",
    "import numpy as np\n",
    "from distances import euclidean_distance, cosine_distance\n",
    "\n",
    "\n",
    "n_test_samples = 1000"
   ]
  },
  {
   "cell_type": "code",
   "execution_count": 10,
   "metadata": {},
   "outputs": [],
   "source": [
    "KNN_model = KNNClassifier(5, strategy='my_own', metric='euclidean', weights=False, test_block_size=44)"
   ]
  },
  {
   "cell_type": "code",
   "execution_count": 11,
   "metadata": {},
   "outputs": [
    {
     "name": "stdout",
     "output_type": "stream",
     "text": [
      "CPU times: user 160 µs, sys: 0 ns, total: 160 µs\n",
      "Wall time: 128 µs\n"
     ]
    }
   ],
   "source": [
    "%%time\n",
    "KNN_model.fit(X=train_data['data'][:5000], y=train_data['target'])"
   ]
  },
  {
   "cell_type": "code",
   "execution_count": 12,
   "metadata": {
    "scrolled": true
   },
   "outputs": [
    {
     "name": "stdout",
     "output_type": "stream",
     "text": [
      "CPU times: user 7.46 s, sys: 116 ms, total: 7.57 s\n",
      "Wall time: 957 ms\n"
     ]
    }
   ],
   "source": [
    "%%time\n",
    "preds1 = KNN_model.predict(test_data['data'][:n_test_samples])"
   ]
  },
  {
   "cell_type": "code",
   "execution_count": 13,
   "metadata": {},
   "outputs": [
    {
     "data": {
      "text/plain": [
       "0.91"
      ]
     },
     "execution_count": 13,
     "metadata": {},
     "output_type": "execute_result"
    }
   ],
   "source": [
    "sum(preds1.astype(int) - test_data['target'][:n_test_samples].astype(int) == 0) / test_data['target'][:n_test_samples].size"
   ]
  },
  {
   "cell_type": "markdown",
   "metadata": {},
   "source": [
    "## Testing distances"
   ]
  },
  {
   "cell_type": "code",
   "execution_count": 14,
   "metadata": {},
   "outputs": [],
   "source": [
    "import numpy as np\n",
    "from distances import euclidean_distance, cosine_distance"
   ]
  },
  {
   "cell_type": "code",
   "execution_count": 15,
   "metadata": {},
   "outputs": [],
   "source": [
    "x = np.array([[2, 3], [-1, 6], [10, 22]])\n",
    "y = np.array([[1, 1], [-1, 2]])"
   ]
  },
  {
   "cell_type": "code",
   "execution_count": 16,
   "metadata": {},
   "outputs": [
    {
     "data": {
      "text/plain": [
       "array([[0.01941932, 0.50386106],\n",
       "       [0.41876181, 0.04422099],\n",
       "       [0.06367082, 0.37080177]])"
      ]
     },
     "execution_count": 16,
     "metadata": {},
     "output_type": "execute_result"
    }
   ],
   "source": [
    "cosine_distance(x, y)"
   ]
  },
  {
   "cell_type": "code",
   "execution_count": 17,
   "metadata": {},
   "outputs": [],
   "source": [
    "%load_ext memory_profiler"
   ]
  },
  {
   "cell_type": "code",
   "execution_count": 18,
   "metadata": {
    "scrolled": true
   },
   "outputs": [
    {
     "name": "stdout",
     "output_type": "stream",
     "text": [
      "[[126.49110641 126.49110641 126.49110641 ... 126.49110641 126.49110641\n",
      "  126.49110641]\n",
      " [126.49110641 126.49110641 126.49110641 ... 126.49110641 126.49110641\n",
      "  126.49110641]\n",
      " [126.49110641 126.49110641 126.49110641 ... 126.49110641 126.49110641\n",
      "  126.49110641]\n",
      " ...\n",
      " [126.49110641 126.49110641 126.49110641 ... 126.49110641 126.49110641\n",
      "  126.49110641]\n",
      " [126.49110641 126.49110641 126.49110641 ... 126.49110641 126.49110641\n",
      "  126.49110641]\n",
      " [126.49110641 126.49110641 126.49110641 ... 126.49110641 126.49110641\n",
      "  126.49110641]]\n",
      "[[126.49110641 126.49110641 126.49110641 ... 126.49110641 126.49110641\n",
      "  126.49110641]\n",
      " [126.49110641 126.49110641 126.49110641 ... 126.49110641 126.49110641\n",
      "  126.49110641]\n",
      " [126.49110641 126.49110641 126.49110641 ... 126.49110641 126.49110641\n",
      "  126.49110641]\n",
      " ...\n",
      " [126.49110641 126.49110641 126.49110641 ... 126.49110641 126.49110641\n",
      "  126.49110641]\n",
      " [126.49110641 126.49110641 126.49110641 ... 126.49110641 126.49110641\n",
      "  126.49110641]\n",
      " [126.49110641 126.49110641 126.49110641 ... 126.49110641 126.49110641\n",
      "  126.49110641]]\n",
      "peak memory: 686.94 MiB, increment: 6.28 MiB\n",
      "CPU times: user 2.07 s, sys: 216 ms, total: 2.29 s\n",
      "Wall time: 304 ms\n"
     ]
    }
   ],
   "source": [
    "%%time\n",
    "%%memit\n",
    "X = np.ones((2000, 1000)) * 5\n",
    "print(euclidean_distance(np.ones((2000, 1000)) * 5, np.ones((500, 1000))))\n",
    "#2.22 s - new on 200x500\n",
    "\n",
    "#763 ms - old on 200x500\n",
    "#7725.48 \n"
   ]
  },
  {
   "cell_type": "code",
   "execution_count": 19,
   "metadata": {},
   "outputs": [
    {
     "name": "stdout",
     "output_type": "stream",
     "text": [
      "done\n",
      "CPU times: user 21.1 ms, sys: 287 µs, total: 21.4 ms\n",
      "Wall time: 2.38 ms\n"
     ]
    }
   ],
   "source": [
    "%%time\n",
    "std_norm = np.linalg.norm(X, axis=1)\n",
    "print('done')"
   ]
  },
  {
   "cell_type": "code",
   "execution_count": 20,
   "metadata": {},
   "outputs": [
    {
     "name": "stdout",
     "output_type": "stream",
     "text": [
      "done\n",
      "CPU times: user 20.3 ms, sys: 0 ns, total: 20.3 ms\n",
      "Wall time: 2.41 ms\n"
     ]
    }
   ],
   "source": [
    "%%time\n",
    "my_norm = np.sqrt(np.sum(X ** 2, axis=1))\n",
    "print('done')"
   ]
  },
  {
   "cell_type": "code",
   "execution_count": 21,
   "metadata": {},
   "outputs": [
    {
     "data": {
      "text/plain": [
       "0"
      ]
     },
     "execution_count": 21,
     "metadata": {},
     "output_type": "execute_result"
    }
   ],
   "source": [
    "sum(std_norm != my_norm)"
   ]
  },
  {
   "cell_type": "markdown",
   "metadata": {},
   "source": [
    "## Testing cross_validation"
   ]
  },
  {
   "cell_type": "code",
   "execution_count": 82,
   "metadata": {},
   "outputs": [],
   "source": [
    "import numpy as np\n",
    "from sklearn.neighbors import NearestNeighbors\n",
    "\n",
    "\n",
    "def euclidean_distance(X, Y):\n",
    "    \"\"\"\n",
    "    params:\n",
    "        * X - np.array with size N x D\n",
    "        * Y - np.array with size M x D\n",
    "    return values:\n",
    "        * np.array with size N x M, where [i, j] - euclidean distance between i-th vector from X and\n",
    "                                                                              j-th vector from Y\n",
    "    \"\"\"\n",
    "\n",
    "    X_sqr = np.sum(X ** 2, axis=1)[:, None]\n",
    "    Y_sqr = np.sum(Y ** 2, axis=1)\n",
    "    return np.sqrt(X_sqr - 2 * np.dot(X, Y.T) + Y_sqr)\n",
    "\n",
    "\n",
    "def cosine_distance(X, Y):\n",
    "    \"\"\"\n",
    "    params:\n",
    "        * X - np.array with size N x D\n",
    "        * Y - np.array with size M x D\n",
    "    return values:\n",
    "        * np.array with size N x M, where [i, j] - cosine distance between i-th vector from X and\n",
    "                                                                              j-th vector from Y\n",
    "    \"\"\"\n",
    "\n",
    "    result = np.dot(X, Y.T)\n",
    "    result = result / np.sqrt(np.sum(X ** 2, axis=1))[:, None]\n",
    "    result = result / np.sqrt(np.sum(Y ** 2, axis=1))\n",
    "    return 1 - result\n",
    "\n",
    "\n",
    "class KNNClassifier:\n",
    "    def __init__(self,\n",
    "                 k=10,\n",
    "                 strategy='my_own',\n",
    "                 metric='euclidean',\n",
    "                 weights=False,\n",
    "                 test_block_size=10000\n",
    "                 ):\n",
    "        \"\"\"\n",
    "        params:\n",
    "            * k - amount of nearest neighbours(nn)\n",
    "            * strategy - nn searching algorithm. Possible values:\n",
    "                - 'my_own' - self-realization\n",
    "                - 'brute' - from sklearn.neighbors.NearestNeighbors(algorithm='brute')\n",
    "                - 'kd_tree' - from sklearn.neighbors.NearestNeighbors(algorithm='kd_tree')\n",
    "                - 'ball_tree' - from sklearn.neighbors.NearestNeighbors(algorithm='ball_tree')\n",
    "            * metric:\n",
    "                - 'euclidean' - euclidean metric\n",
    "                - 'cosine' - cosine metric\n",
    "            * weights - bool variable.\n",
    "                - True - weighted KNN(with distance)\n",
    "                - False - simple KNN\n",
    "            * test_block_size - size of test block\n",
    "        \"\"\"\n",
    "\n",
    "        self.X_train = None\n",
    "        self.y_train = None\n",
    "        self.distances = None\n",
    "        self.neigh_idxs = None\n",
    "        self.model = None\n",
    "        self.k = k\n",
    "        self.strategy = strategy\n",
    "        self.metric = metric\n",
    "        self.eps = 1e-5\n",
    "        self.weights = weights\n",
    "        if self.strategy == 'brute':\n",
    "            self.model = NearestNeighbors(n_neighbors=self.k, algorithm=self.strategy, metric=self.metric)\n",
    "        elif self.strategy != 'my_own':\n",
    "            self.model = NearestNeighbors(n_neighbors=self.k, algorithm=self.strategy)\n",
    "        else:\n",
    "            self.model = None\n",
    "        self.test_block_size = test_block_size\n",
    "\n",
    "    def fit(self, X, y):\n",
    "        \"\"\"\n",
    "        params:\n",
    "            * X - train data\n",
    "            * y - targets for train data\n",
    "        \"\"\"\n",
    "\n",
    "        self.y_train = y.astype(int)\n",
    "        self.k = np.min([self.y_train.shape[0], self.k])\n",
    "        if self.strategy != 'my_own':\n",
    "            self.model.fit(X, self.y_train)\n",
    "        else:\n",
    "            self.X_train = X\n",
    "\n",
    "    def find_kneighbors(self, X, return_distance):\n",
    "        \"\"\"\n",
    "        params:\n",
    "            * X - objects sample\n",
    "            * return_distance - bool variable\n",
    "\n",
    "        return values:\n",
    "            * If return_distance == True:\n",
    "                * tuple with two numpy array with size (X.shape[0], k), where:\n",
    "                  [i, j] elem of first array must be the distance between\n",
    "                  i-th object and his j-th nearest neighbour\n",
    "                  [i, j] elem of second array must be the index of j-th nearest neighbour to i-th object\n",
    "            * If return_distance == False:\n",
    "                * only second array\n",
    "        \"\"\"\n",
    "\n",
    "        if self.strategy != 'my_own':\n",
    "            self.distances, \\\n",
    "            self.neigh_idxs = self.model.kneighbors(X, n_neighbors=self.k)\n",
    "        else:\n",
    "            if self.metric == 'euclidean':\n",
    "                self.distances = euclidean_distance(X, self.X_train)\n",
    "                self.neigh_idxs = np.argsort(self.distances,\n",
    "                                        axis=1)[:, :self.k]\n",
    "                if return_distance:\n",
    "                    self.distances = np.sort(self.distances,\n",
    "                                        axis=1)[:, :self.k]\n",
    "\n",
    "            elif self.metric == 'cosine':\n",
    "                self.distances = cosine_distance(X, self.X_train)\n",
    "                self.neigh_idxs = np.argsort(self.distances,\n",
    "                                        axis=1)[:, :self.k]\n",
    "                if return_distance:\n",
    "                    self.distances = np.sort(self.distances,\n",
    "                                        axis=1)[:, :self.k]\n",
    "        if return_distance:\n",
    "            return self.distances, self.neigh_idxs\n",
    "        return self.neigh_idxs\n",
    "\n",
    "    def predict(self, X):\n",
    "        \"\"\"\n",
    "        params:\n",
    "            * X - test objects\n",
    "\n",
    "        return values:\n",
    "            * numpy array with size X.shape[0] of predictions for test objects from X\n",
    "        \"\"\"\n",
    "\n",
    "        if self.test_block_size > X.shape[0]:\n",
    "            self.test_block_size = X.shape[0]\n",
    "        preds = np.zeros(X.shape[0])\n",
    "        split_size = X.shape[0] // self.test_block_size + \\\n",
    "                     int(X.shape[0] % self.test_block_size != 0)\n",
    "        curr_idx = 0\n",
    "        classes = np.array(np.unique(self.y_train))\n",
    "        for i, split in enumerate(np.array_split(X, split_size)):\n",
    "            self.distances, self.neigh_idxs = self.find_kneighbors(split, True)\n",
    "            for j, idx in enumerate(self.neigh_idxs):\n",
    "                counts = np.zeros(len(classes))\n",
    "                for c in classes:\n",
    "                    if self.weights:\n",
    "                        weights = 1 / (self.distances[j] + self.eps)\n",
    "                        counts[c] = np.sum((self.y_train[idx] == c) * weights)\n",
    "                    else:\n",
    "                        counts[c] = np.sum(self.y_train[idx] == c)\n",
    "                preds[j + curr_idx] = np.argmax(counts)\n",
    "            curr_idx += split.shape[0]\n",
    "        return preds\n",
    "\n",
    "    def predict_for_cv(self, X):\n",
    "        \"\"\"\n",
    "        params:\n",
    "            * X - test objects\n",
    "\n",
    "        return values:\n",
    "\n",
    "        \"\"\"\n",
    "\n",
    "        preds = np.zeros(X.shape[0])\n",
    "        classes = np.array(np.unique(self.y_train))\n",
    "        for j, idx in enumerate(self.neigh_idxs[:, :self.k]):\n",
    "            counts = np.zeros(len(classes))\n",
    "            for c in classes:\n",
    "                if self.weights:\n",
    "                    weights = 1 / (self.distances[j, :self.k] + self.eps)\n",
    "                    counts[c] = np.sum((self.y_train[idx] == c) * weights)\n",
    "                else:\n",
    "                    counts[c] = np.sum(self.y_train[idx] == c)\n",
    "            preds[j] = np.argmax(counts)\n",
    "        return preds\n",
    "\n",
    "\n",
    "def kfold(n, n_folds=3):\n",
    "    \"\"\"\n",
    "    params:\n",
    "        * n - objects amount in sample\n",
    "        * n_folds - folds amount\n",
    "    return values:\n",
    "        * list with size n_folds, where every element is tuple of two 1D numpy array:\n",
    "            * first array contains indices of train samples\n",
    "            * second array contains indices of validation samples\n",
    "    \"\"\"\n",
    "\n",
    "    indices = np.arange(n)\n",
    "    size_of_one_fold = int(n / n_folds) + (n < n_folds)\n",
    "    size_with_folds = size_of_one_fold * n_folds\n",
    "    out_elements_amount = len(indices) - size_with_folds\n",
    "    train_test_idx_list = []\n",
    "    for i in range(n_folds):\n",
    "        test_idx = indices[i * size_of_one_fold:(i + 1) * size_of_one_fold]\n",
    "        if out_elements_amount > 0:\n",
    "            test_idx = np.append(test_idx, n - out_elements_amount)\n",
    "            out_elements_amount -= 1\n",
    "        train_idx = np.array(list((set(indices) - set(test_idx))))\n",
    "        train_test_idx_list.append((train_idx, test_idx))\n",
    "    return train_test_idx_list\n",
    "\n",
    "\n",
    "def accuracy(y_valid, y_true):\n",
    "    return np.sum(y_valid == y_true, axis=0) / len(y_valid) * 100\n",
    "\n",
    "\n",
    "def knn_cross_val_score(X, y, k_list, score='accuracy', cv=None, **kwargs):\n",
    "    \"\"\"\n",
    "    :param X: train samples\n",
    "    :param y: targets for train\n",
    "    :param k_list: list of values of neighbors amount, in ascending order\n",
    "    :param score: metric name( accuracy' must have)\n",
    "    :param cv: list of tuples, which contains indices of train and valid samples\n",
    "    :param kwargs: parameters for __init__ from KNNClassifier\n",
    "    :return: dict, where keys is neigbors amount from k_list, values - numpy array of size len(cv)\n",
    "    with accuracy on each fold\n",
    "    \"\"\"\n",
    "\n",
    "    if cv is None:\n",
    "        cv = kfold(X.shape[0])\n",
    "    knn = None\n",
    "    if 'k' not in kwargs.keys():\n",
    "        knn = KNNClassifier(k_list[-1], **kwargs)\n",
    "    else:\n",
    "        knn = KNNClassifier(**kwargs)\n",
    "    accuracy_per_k = {k: np.empty(0) for k in k_list}\n",
    "    for fold in cv:\n",
    "        knn.k = k_list[-1]\n",
    "        knn.fit(X[fold[0]], y[fold[0]])\n",
    "        knn.find_kneighbors(X[fold[1]], return_distance=True)\n",
    "        for k in k_list:\n",
    "            knn.k = k\n",
    "            y_valid = knn.predict_for_cv(X[fold[1]])\n",
    "            accuracy_per_k[k] = np.append(accuracy_per_k[k],\n",
    "                                          accuracy(y_valid,\n",
    "                                                   y[fold[1]]))\n",
    "    return accuracy_per_k\n"
   ]
  },
  {
   "cell_type": "code",
   "execution_count": 88,
   "metadata": {},
   "outputs": [
    {
     "name": "stdout",
     "output_type": "stream",
     "text": [
      "CPU times: user 5.33 s, sys: 116 ms, total: 5.45 s\n",
      "Wall time: 877 ms\n"
     ]
    },
    {
     "data": {
      "text/plain": [
       "{3: array([85.32934132, 84.08408408, 85.58558559]),\n",
       " 5: array([86.22754491, 82.58258258, 84.08408408]),\n",
       " 15: array([85.02994012, 77.47747748, 79.57957958]),\n",
       " 20: array([84.13173653, 76.27627628, 78.37837838]),\n",
       " 25: array([82.03592814, 75.67567568, 77.17717718]),\n",
       " 50: array([78.44311377, 72.67267267, 75.07507508]),\n",
       " 100: array([70.95808383, 62.76276276, 63.06306306]),\n",
       " 250: array([54.19161677, 49.24924925, 47.74774775]),\n",
       " 500: array([37.1257485 , 40.24024024, 32.43243243])}"
      ]
     },
     "execution_count": 88,
     "metadata": {},
     "output_type": "execute_result"
    }
   ],
   "source": [
    "%%time\n",
    "\n",
    "knn_cross_val_score(train_data['data'][:1000],\n",
    "                    train_data['target'][:1000],\n",
    "                    k_list=[3, 5, 15, 20, 25, 50, 100, 250, 500],\n",
    "                    score='accuracy',\n",
    "                    cv=None,\n",
    "                    k=5,\n",
    "                    strategy='brute',\n",
    "                    metric='euclidean',\n",
    "                    weights=True,\n",
    "                    test_block_size=1000\n",
    "                   )"
   ]
  },
  {
   "cell_type": "code",
   "execution_count": 108,
   "metadata": {},
   "outputs": [],
   "source": [
    "knn_test = KNNClassifier(\n",
    "                    k=5,\n",
    "                    strategy='brute',\n",
    "                    metric='euclidean',\n",
    "                    weights=False,\n",
    "                    test_block_size=1000)\n",
    "knn_test.fit(train_data['data'][:800], train_data['target'][:800])"
   ]
  },
  {
   "cell_type": "code",
   "execution_count": 109,
   "metadata": {},
   "outputs": [
    {
     "name": "stdout",
     "output_type": "stream",
     "text": [
      "CPU times: user 193 ms, sys: 4.02 ms, total: 197 ms\n",
      "Wall time: 27.2 ms\n"
     ]
    },
    {
     "data": {
      "text/plain": [
       "0.87"
      ]
     },
     "execution_count": 109,
     "metadata": {},
     "output_type": "execute_result"
    }
   ],
   "source": [
    "%%time\n",
    "preds1 = knn_test.predict(train_data['data'][800:1000])\n",
    "\n",
    "sum(preds1.astype(int) - train_data['target'][800:1000].astype(int) == 0) / train_data['target'][800:1000].size"
   ]
  },
  {
   "cell_type": "code",
   "execution_count": 110,
   "metadata": {},
   "outputs": [
    {
     "data": {
      "text/plain": [
       "KNeighborsClassifier(algorithm='brute', leaf_size=30, metric='euclidean',\n",
       "                     metric_params=None, n_jobs=None, n_neighbors=5, p=2,\n",
       "                     weights='uniform')"
      ]
     },
     "execution_count": 110,
     "metadata": {},
     "output_type": "execute_result"
    }
   ],
   "source": [
    "from sklearn.model_selection import cross_val_score\n",
    "\n",
    "from sklearn.neighbors import KNeighborsClassifier\n",
    "knn_true = KNeighborsClassifier(5, algorithm='brute', weights='uniform', metric='euclidean')\n",
    "knn_true.fit(train_data['data'][:800], train_data['target'][:800])"
   ]
  },
  {
   "cell_type": "code",
   "execution_count": 111,
   "metadata": {},
   "outputs": [
    {
     "data": {
      "text/plain": [
       "0.87"
      ]
     },
     "execution_count": 111,
     "metadata": {},
     "output_type": "execute_result"
    }
   ],
   "source": [
    "preds1 = knn_true.predict(train_data['data'][800:1000])\n",
    "\n",
    "sum(preds1.astype(int) - train_data['target'][800:1000].astype(int) == 0) / train_data['target'][800:1000].size"
   ]
  },
  {
   "cell_type": "code",
   "execution_count": 90,
   "metadata": {},
   "outputs": [
    {
     "data": {
      "text/plain": [
       "array([0.82142857, 0.82582583, 0.80362538])"
      ]
     },
     "execution_count": 90,
     "metadata": {},
     "output_type": "execute_result"
    }
   ],
   "source": [
    "cross_val_score(knn, train_data['data'][:1000], train_data['target'][:1000], cv=3)"
   ]
  },
  {
   "cell_type": "markdown",
   "metadata": {},
   "source": [
    "## Experiments list"
   ]
  },
  {
   "cell_type": "markdown",
   "metadata": {},
   "source": [
    "### Experiment №1"
   ]
  },
  {
   "cell_type": "code",
   "execution_count": 26,
   "metadata": {},
   "outputs": [
    {
     "name": "stderr",
     "output_type": "stream",
     "text": [
      "  0%|          | 0/3 [00:00<?, ?it/s]\n",
      "  0%|          | 0/4 [00:00<?, ?it/s]\u001b[A\n"
     ]
    },
    {
     "ename": "KeyboardInterrupt",
     "evalue": "",
     "output_type": "error",
     "traceback": [
      "\u001b[0;31m---------------------------------------------------------------------------\u001b[0m",
      "\u001b[0;31mKeyboardInterrupt\u001b[0m                         Traceback (most recent call last)",
      "\u001b[0;32m<ipython-input-26-e6b3619130dd>\u001b[0m in \u001b[0;36m<module>\u001b[0;34m\u001b[0m\n\u001b[1;32m     24\u001b[0m                 train_data['target'])\n\u001b[1;32m     25\u001b[0m         \u001b[0mstart\u001b[0m \u001b[0;34m=\u001b[0m \u001b[0mtime\u001b[0m\u001b[0;34m.\u001b[0m\u001b[0mtime\u001b[0m\u001b[0;34m(\u001b[0m\u001b[0;34m)\u001b[0m\u001b[0;34m\u001b[0m\u001b[0;34m\u001b[0m\u001b[0m\n\u001b[0;32m---> 26\u001b[0;31m         \u001b[0mknn\u001b[0m\u001b[0;34m.\u001b[0m\u001b[0mfind_kneighbors\u001b[0m\u001b[0;34m(\u001b[0m\u001b[0mtest_data\u001b[0m\u001b[0;34m[\u001b[0m\u001b[0;34m'data'\u001b[0m\u001b[0;34m]\u001b[0m\u001b[0;34m[\u001b[0m\u001b[0;34m:\u001b[0m\u001b[0;34m,\u001b[0m \u001b[0mfeatures_idxs\u001b[0m\u001b[0;34m]\u001b[0m\u001b[0;34m,\u001b[0m \u001b[0;32mTrue\u001b[0m\u001b[0;34m)\u001b[0m\u001b[0;34m\u001b[0m\u001b[0;34m\u001b[0m\u001b[0m\n\u001b[0m\u001b[1;32m     27\u001b[0m         \u001b[0mtime_elapsed\u001b[0m \u001b[0;34m=\u001b[0m \u001b[0mtime\u001b[0m\u001b[0;34m.\u001b[0m\u001b[0mtime\u001b[0m\u001b[0;34m(\u001b[0m\u001b[0;34m)\u001b[0m \u001b[0;34m-\u001b[0m \u001b[0mstart\u001b[0m\u001b[0;34m\u001b[0m\u001b[0;34m\u001b[0m\u001b[0m\n\u001b[1;32m     28\u001b[0m         \u001b[0mexperiment1_results\u001b[0m \u001b[0;34m=\u001b[0m\u001b[0;31m \u001b[0m\u001b[0;31m\\\u001b[0m\u001b[0;34m\u001b[0m\u001b[0;34m\u001b[0m\u001b[0m\n",
      "\u001b[0;32m~/Documents/MMP_3course/PRACTICUM/LAB_01/nearest_neighbors.py\u001b[0m in \u001b[0;36mfind_kneighbors\u001b[0;34m(self, X, return_distance)\u001b[0m\n\u001b[1;32m     82\u001b[0m         \u001b[0;32melse\u001b[0m\u001b[0;34m:\u001b[0m\u001b[0;34m\u001b[0m\u001b[0;34m\u001b[0m\u001b[0m\n\u001b[1;32m     83\u001b[0m             \u001b[0;32mif\u001b[0m \u001b[0mself\u001b[0m\u001b[0;34m.\u001b[0m\u001b[0mmetric\u001b[0m \u001b[0;34m==\u001b[0m \u001b[0;34m'euclidean'\u001b[0m\u001b[0;34m:\u001b[0m\u001b[0;34m\u001b[0m\u001b[0;34m\u001b[0m\u001b[0m\n\u001b[0;32m---> 84\u001b[0;31m                 \u001b[0mself\u001b[0m\u001b[0;34m.\u001b[0m\u001b[0mdistances\u001b[0m \u001b[0;34m=\u001b[0m \u001b[0meuclidean_distance\u001b[0m\u001b[0;34m(\u001b[0m\u001b[0mX\u001b[0m\u001b[0;34m,\u001b[0m \u001b[0mself\u001b[0m\u001b[0;34m.\u001b[0m\u001b[0mX_train\u001b[0m\u001b[0;34m)\u001b[0m\u001b[0;34m\u001b[0m\u001b[0;34m\u001b[0m\u001b[0m\n\u001b[0m\u001b[1;32m     85\u001b[0m                 self.neigh_idxs = np.argsort(self.distances,\n\u001b[1;32m     86\u001b[0m                                         axis=1)[:, :self.k]\n",
      "\u001b[0;32m~/Documents/MMP_3course/PRACTICUM/LAB_01/distances.py\u001b[0m in \u001b[0;36meuclidean_distance\u001b[0;34m(X, Y)\u001b[0m\n\u001b[1;32m     14\u001b[0m     \u001b[0mX_sqr\u001b[0m \u001b[0;34m=\u001b[0m \u001b[0mnp\u001b[0m\u001b[0;34m.\u001b[0m\u001b[0msum\u001b[0m\u001b[0;34m(\u001b[0m\u001b[0mX\u001b[0m \u001b[0;34m**\u001b[0m \u001b[0;36m2\u001b[0m\u001b[0;34m,\u001b[0m \u001b[0maxis\u001b[0m\u001b[0;34m=\u001b[0m\u001b[0;36m1\u001b[0m\u001b[0;34m)\u001b[0m\u001b[0;34m[\u001b[0m\u001b[0;34m:\u001b[0m\u001b[0;34m,\u001b[0m \u001b[0;32mNone\u001b[0m\u001b[0;34m]\u001b[0m\u001b[0;34m\u001b[0m\u001b[0;34m\u001b[0m\u001b[0m\n\u001b[1;32m     15\u001b[0m     \u001b[0mY_sqr\u001b[0m \u001b[0;34m=\u001b[0m \u001b[0mnp\u001b[0m\u001b[0;34m.\u001b[0m\u001b[0msum\u001b[0m\u001b[0;34m(\u001b[0m\u001b[0mY\u001b[0m \u001b[0;34m**\u001b[0m \u001b[0;36m2\u001b[0m\u001b[0;34m,\u001b[0m \u001b[0maxis\u001b[0m\u001b[0;34m=\u001b[0m\u001b[0;36m1\u001b[0m\u001b[0;34m)\u001b[0m\u001b[0;34m\u001b[0m\u001b[0;34m\u001b[0m\u001b[0m\n\u001b[0;32m---> 16\u001b[0;31m     \u001b[0;32mreturn\u001b[0m \u001b[0mnp\u001b[0m\u001b[0;34m.\u001b[0m\u001b[0msqrt\u001b[0m\u001b[0;34m(\u001b[0m\u001b[0mX_sqr\u001b[0m \u001b[0;34m-\u001b[0m \u001b[0;36m2\u001b[0m \u001b[0;34m*\u001b[0m \u001b[0mnp\u001b[0m\u001b[0;34m.\u001b[0m\u001b[0mdot\u001b[0m\u001b[0;34m(\u001b[0m\u001b[0mX\u001b[0m\u001b[0;34m,\u001b[0m \u001b[0mY\u001b[0m\u001b[0;34m.\u001b[0m\u001b[0mT\u001b[0m\u001b[0;34m)\u001b[0m \u001b[0;34m+\u001b[0m \u001b[0mY_sqr\u001b[0m\u001b[0;34m)\u001b[0m\u001b[0;34m\u001b[0m\u001b[0;34m\u001b[0m\u001b[0m\n\u001b[0m\u001b[1;32m     17\u001b[0m \u001b[0;34m\u001b[0m\u001b[0m\n\u001b[1;32m     18\u001b[0m \u001b[0;34m\u001b[0m\u001b[0m\n",
      "\u001b[0;31mKeyboardInterrupt\u001b[0m: "
     ]
    }
   ],
   "source": [
    "from sklearn.neighbors import NearestNeighbors\n",
    "from nearest_neighbors import KNNClassifier\n",
    "import numpy as np\n",
    "from distances import euclidean_distance, cosine_distance\n",
    "from tqdm import tqdm\n",
    "import time\n",
    "import pandas as pd\n",
    "\n",
    "\n",
    "strategy_list = ['my_own', 'brute', 'kd_tree', 'ball_tree']\n",
    "feature_dim_list = [10, 20, 100]\n",
    "k_neighbors = 5\n",
    "\n",
    "experiment1_results = pd.DataFrame(columns=['strategy', 'feature_dim', 'time_elapsed'])\n",
    "\n",
    "for feature_dim in tqdm(feature_dim_list):\n",
    "    features_idxs = np.random.choice(test_data['data'].shape[1],\n",
    "                                     feature_dim,\n",
    "                                     replace=False)\n",
    "    for strategy in tqdm(strategy_list):\n",
    "        knn = KNNClassifier(k_neighbors,\n",
    "                            strategy)\n",
    "        knn.fit(train_data['data'][:, features_idxs],\n",
    "                train_data['target'])\n",
    "        start = time.time()\n",
    "        knn.find_kneighbors(test_data['data'][:, features_idxs], True)\n",
    "        time_elapsed = time.time() - start\n",
    "        experiment1_results = \\\n",
    "            experiment1_results.append({'feature_dim': feature_dim,\n",
    "                                        'strategy': strategy,\n",
    "                                        'time_elapsed': time_elapsed},\n",
    "                                       ignore_index=True)\n",
    "        \n",
    "        \n",
    "        "
   ]
  },
  {
   "cell_type": "code",
   "execution_count": null,
   "metadata": {},
   "outputs": [],
   "source": [
    "experiment1_results"
   ]
  },
  {
   "cell_type": "code",
   "execution_count": null,
   "metadata": {},
   "outputs": [],
   "source": [
    "features_idxs = np.random.choice(test_data['data'].shape[1],\n",
    "                                     500,\n",
    "                                     replace=False)"
   ]
  },
  {
   "cell_type": "code",
   "execution_count": null,
   "metadata": {},
   "outputs": [],
   "source": [
    "test_data['data'][:, features_idxs].shape"
   ]
  },
  {
   "cell_type": "code",
   "execution_count": null,
   "metadata": {},
   "outputs": [],
   "source": []
  }
 ],
 "metadata": {
  "kernelspec": {
   "display_name": "Python 3",
   "language": "python",
   "name": "python3"
  },
  "language_info": {
   "codemirror_mode": {
    "name": "ipython",
    "version": 3
   },
   "file_extension": ".py",
   "mimetype": "text/x-python",
   "name": "python",
   "nbconvert_exporter": "python",
   "pygments_lexer": "ipython3",
   "version": "3.7.3"
  }
 },
 "nbformat": 4,
 "nbformat_minor": 2
}
