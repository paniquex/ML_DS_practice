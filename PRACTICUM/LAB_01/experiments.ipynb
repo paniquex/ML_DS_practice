{
 "cells": [
  {
   "cell_type": "markdown",
   "metadata": {},
   "source": [
    "## Import modules"
   ]
  },
  {
   "cell_type": "code",
   "execution_count": 1,
   "metadata": {},
   "outputs": [],
   "source": [
    "# sklearn\n",
    "from sklearn.datasets import fetch_openml\n",
    "\n",
    "import numpy as np\n",
    "\n",
    "import matplotlib.pyplot as plt"
   ]
  },
  {
   "cell_type": "markdown",
   "metadata": {},
   "source": [
    "## Loading data"
   ]
  },
  {
   "cell_type": "code",
   "execution_count": 6,
   "metadata": {},
   "outputs": [
    {
     "name": "stdout",
     "output_type": "stream",
     "text": [
      "CPU times: user 16.6 s, sys: 200 ms, total: 16.8 s\n",
      "Wall time: 16.8 s\n"
     ]
    }
   ],
   "source": [
    "%%time\n",
    "full_data = fetch_openml(\"mnist_784\")"
   ]
  },
  {
   "cell_type": "code",
   "execution_count": 7,
   "metadata": {},
   "outputs": [
    {
     "data": {
      "text/plain": [
       "dict_keys(['data', 'target', 'feature_names', 'DESCR', 'details', 'categories', 'url'])"
      ]
     },
     "execution_count": 7,
     "metadata": {},
     "output_type": "execute_result"
    }
   ],
   "source": [
    "full_data.keys()"
   ]
  },
  {
   "cell_type": "code",
   "execution_count": 8,
   "metadata": {},
   "outputs": [
    {
     "data": {
      "text/plain": [
       "(70000,)"
      ]
     },
     "execution_count": 8,
     "metadata": {},
     "output_type": "execute_result"
    }
   ],
   "source": [
    "full_data['target'].shape"
   ]
  },
  {
   "cell_type": "code",
   "execution_count": 9,
   "metadata": {},
   "outputs": [],
   "source": [
    "train_size = 60000\n",
    "test_size = 10000"
   ]
  },
  {
   "cell_type": "markdown",
   "metadata": {},
   "source": [
    "## Separate full_data to train and test"
   ]
  },
  {
   "cell_type": "code",
   "execution_count": 10,
   "metadata": {},
   "outputs": [],
   "source": [
    "train_data = {'data': full_data['data'][:train_size], 'target': full_data['target'][:train_size]}\n",
    "test_data = {'data': full_data['data'][train_size:], 'target': full_data['target'][train_size:]}"
   ]
  },
  {
   "cell_type": "markdown",
   "metadata": {},
   "source": [
    "## Let's visualize first 10 digits from train:"
   ]
  },
  {
   "cell_type": "code",
   "execution_count": 11,
   "metadata": {
    "scrolled": true
   },
   "outputs": [
    {
     "data": {
      "image/png": "[encoded data removed]",
      "text/plain": [
       "<Figure size 1080x1080 with 10 Axes>"
      ]
     },
     "metadata": {
      "needs_background": "light"
     },
     "output_type": "display_data"
    }
   ],
   "source": [
    "digits_to_show = 10\n",
    "fig = plt.figure(figsize=(15, 15))\n",
    "for i in range(digits_to_show):\n",
    "    ax = fig.add_subplot(1, digits_to_show + 1, i+1)\n",
    "    ax.imshow(train_data['data'][i].reshape(28, 28), cmap=plt.get_cmap('Greys_r'))\n",
    "    ax.set_title('Class target: ' + train_data['target'][i])\n",
    "    ax.axis(\"off\")\n",
    "plt.tight_layout()\n",
    "plt.show()"
   ]
  },
  {
   "cell_type": "code",
   "execution_count": 263,
   "metadata": {},
   "outputs": [],
   "source": [
    "train_data['target'] = train_data['target'].astype(int)\n",
    "test_data['target'] = test_data['target'].astype(int)"
   ]
  },
  {
   "cell_type": "markdown",
   "metadata": {},
   "source": [
    "## Testing my KNNClassifier"
   ]
  },
  {
   "cell_type": "code",
   "execution_count": 12,
   "metadata": {},
   "outputs": [],
   "source": [
    "from sklearn.neighbors import NearestNeighbors\n",
    "from nearest_neighbors import KNNClassifier\n",
    "import numpy as np\n",
    "from distances import euclidean_distance, cosine_distance\n",
    "\n",
    "\n",
    "n_test_samples = 1000"
   ]
  },
  {
   "cell_type": "code",
   "execution_count": 13,
   "metadata": {},
   "outputs": [],
   "source": [
    "KNN_model = KNNClassifier(5, strategy='my_own', metric='euclidean', weights=False, test_block_size=44)"
   ]
  },
  {
   "cell_type": "code",
   "execution_count": 14,
   "metadata": {},
   "outputs": [
    {
     "name": "stdout",
     "output_type": "stream",
     "text": [
      "CPU times: user 293 µs, sys: 0 ns, total: 293 µs\n",
      "Wall time: 174 µs\n"
     ]
    }
   ],
   "source": [
    "%%time\n",
    "KNN_model.fit(X=train_data['data'][:5000], y=train_data['target'])"
   ]
  },
  {
   "cell_type": "code",
   "execution_count": 15,
   "metadata": {
    "scrolled": true
   },
   "outputs": [
    {
     "name": "stdout",
     "output_type": "stream",
     "text": [
      "CPU times: user 7.98 s, sys: 160 ms, total: 8.14 s\n",
      "Wall time: 1.03 s\n"
     ]
    }
   ],
   "source": [
    "%%time\n",
    "preds1 = KNN_model.predict(test_data['data'][:n_test_samples])"
   ]
  },
  {
   "cell_type": "code",
   "execution_count": 16,
   "metadata": {},
   "outputs": [
    {
     "data": {
      "text/plain": [
       "0.91"
      ]
     },
     "execution_count": 16,
     "metadata": {},
     "output_type": "execute_result"
    }
   ],
   "source": [
    "sum(preds1.astype(int) - test_data['target'][:n_test_samples].astype(int) == 0) / test_data['target'][:n_test_samples].size"
   ]
  },
  {
   "cell_type": "markdown",
   "metadata": {},
   "source": [
    "## Testing distances"
   ]
  },
  {
   "cell_type": "code",
   "execution_count": 17,
   "metadata": {},
   "outputs": [],
   "source": [
    "import numpy as np\n",
    "from distances import euclidean_distance, cosine_distance"
   ]
  },
  {
   "cell_type": "code",
   "execution_count": 18,
   "metadata": {},
   "outputs": [],
   "source": [
    "x = np.array([[2, 3], [-1, 6], [10, 22]])\n",
    "y = np.array([[1, 1], [-1, 2]])"
   ]
  },
  {
   "cell_type": "code",
   "execution_count": 19,
   "metadata": {},
   "outputs": [
    {
     "data": {
      "text/plain": [
       "array([[0.01941932, 0.50386106],\n",
       "       [0.41876181, 0.04422099],\n",
       "       [0.06367082, 0.37080177]])"
      ]
     },
     "execution_count": 19,
     "metadata": {},
     "output_type": "execute_result"
    }
   ],
   "source": [
    "cosine_distance(x, y)"
   ]
  },
  {
   "cell_type": "code",
   "execution_count": 20,
   "metadata": {},
   "outputs": [],
   "source": [
    "%load_ext memory_profiler"
   ]
  },
  {
   "cell_type": "code",
   "execution_count": 21,
   "metadata": {
    "scrolled": true
   },
   "outputs": [
    {
     "name": "stdout",
     "output_type": "stream",
     "text": [
      "[[126.49110641 126.49110641 126.49110641 ... 126.49110641 126.49110641\n",
      "  126.49110641]\n",
      " [126.49110641 126.49110641 126.49110641 ... 126.49110641 126.49110641\n",
      "  126.49110641]\n",
      " [126.49110641 126.49110641 126.49110641 ... 126.49110641 126.49110641\n",
      "  126.49110641]\n",
      " ...\n",
      " [126.49110641 126.49110641 126.49110641 ... 126.49110641 126.49110641\n",
      "  126.49110641]\n",
      " [126.49110641 126.49110641 126.49110641 ... 126.49110641 126.49110641\n",
      "  126.49110641]\n",
      " [126.49110641 126.49110641 126.49110641 ... 126.49110641 126.49110641\n",
      "  126.49110641]]\n",
      "[[126.49110641 126.49110641 126.49110641 ... 126.49110641 126.49110641\n",
      "  126.49110641]\n",
      " [126.49110641 126.49110641 126.49110641 ... 126.49110641 126.49110641\n",
      "  126.49110641]\n",
      " [126.49110641 126.49110641 126.49110641 ... 126.49110641 126.49110641\n",
      "  126.49110641]\n",
      " ...\n",
      " [126.49110641 126.49110641 126.49110641 ... 126.49110641 126.49110641\n",
      "  126.49110641]\n",
      " [126.49110641 126.49110641 126.49110641 ... 126.49110641 126.49110641\n",
      "  126.49110641]\n",
      " [126.49110641 126.49110641 126.49110641 ... 126.49110641 126.49110641\n",
      "  126.49110641]]\n",
      "peak memory: 732.75 MiB, increment: 51.71 MiB\n",
      "CPU times: user 1.22 s, sys: 160 ms, total: 1.38 s\n",
      "Wall time: 316 ms\n"
     ]
    }
   ],
   "source": [
    "%%time\n",
    "%%memit\n",
    "X = np.ones((2000, 1000)) * 5\n",
    "print(euclidean_distance(np.ones((2000, 1000)) * 5, np.ones((500, 1000))))\n",
    "#2.22 s - new on 200x500\n",
    "\n",
    "#763 ms - old on 200x500\n",
    "#7725.48 \n"
   ]
  },
  {
   "cell_type": "code",
   "execution_count": 22,
   "metadata": {},
   "outputs": [
    {
     "name": "stdout",
     "output_type": "stream",
     "text": [
      "done\n",
      "CPU times: user 37.3 ms, sys: 643 µs, total: 38 ms\n",
      "Wall time: 5.94 ms\n"
     ]
    }
   ],
   "source": [
    "%%time\n",
    "std_norm = np.linalg.norm(X, axis=1)\n",
    "print('done')"
   ]
  },
  {
   "cell_type": "code",
   "execution_count": 23,
   "metadata": {},
   "outputs": [
    {
     "name": "stdout",
     "output_type": "stream",
     "text": [
      "done\n",
      "CPU times: user 18.1 ms, sys: 283 µs, total: 18.4 ms\n",
      "Wall time: 2.44 ms\n"
     ]
    }
   ],
   "source": [
    "%%time\n",
    "my_norm = np.sqrt(np.sum(X ** 2, axis=1))\n",
    "print('done')"
   ]
  },
  {
   "cell_type": "code",
   "execution_count": 24,
   "metadata": {},
   "outputs": [
    {
     "data": {
      "text/plain": [
       "0"
      ]
     },
     "execution_count": 24,
     "metadata": {},
     "output_type": "execute_result"
    }
   ],
   "source": [
    "sum(std_norm != my_norm)"
   ]
  },
  {
   "cell_type": "markdown",
   "metadata": {},
   "source": [
    "## Testing cross_validation"
   ]
  },
  {
   "cell_type": "code",
   "execution_count": 25,
   "metadata": {},
   "outputs": [],
   "source": [
    "from cross_validation import *\n",
    "from nearest_neighbors import KNNClassifier"
   ]
  },
  {
   "cell_type": "code",
   "execution_count": 26,
   "metadata": {},
   "outputs": [
    {
     "name": "stdout",
     "output_type": "stream",
     "text": [
      "CPU times: user 477 ms, sys: 7.94 ms, total: 485 ms\n",
      "Wall time: 64.7 ms\n"
     ]
    },
    {
     "data": {
      "text/plain": [
       "{3: array([0.84730539, 0.84984985, 0.84684685]),\n",
       " 5: array([0.87125749, 0.81681682, 0.82282282]),\n",
       " 15: array([0.87125749, 0.81681682, 0.82282282]),\n",
       " 20: array([0.87125749, 0.81681682, 0.82282282]),\n",
       " 25: array([0.87125749, 0.81681682, 0.82282282]),\n",
       " 50: array([0.87125749, 0.81681682, 0.82282282]),\n",
       " 100: array([0.87125749, 0.81681682, 0.82282282]),\n",
       " 250: array([0.87125749, 0.81681682, 0.82282282]),\n",
       " 500: array([0.87125749, 0.81681682, 0.82282282])}"
      ]
     },
     "execution_count": 26,
     "metadata": {},
     "output_type": "execute_result"
    }
   ],
   "source": [
    "%%time\n",
    "\n",
    "knn_cross_val_score(train_data['data'][:1000],\n",
    "                    train_data['target'][:1000],\n",
    "                    k_list=[3, 5, 15, 20, 25, 50, 100, 250, 500],\n",
    "                    score='accuracy',\n",
    "                    cv=None,\n",
    "                    k=5,\n",
    "                    strategy='brute',\n",
    "                    metric='euclidean',\n",
    "                    weights=False,\n",
    "                    test_block_size=1000\n",
    "                   )"
   ]
  },
  {
   "cell_type": "code",
   "execution_count": 27,
   "metadata": {},
   "outputs": [],
   "source": [
    "knn_test = KNNClassifier(\n",
    "                    k=500,\n",
    "                    strategy='brute',\n",
    "                    metric='euclidean',\n",
    "                    weights=False,\n",
    "                    test_block_size=1000)\n",
    "knn_test.fit(train_data['data'][:800], train_data['target'][:800])"
   ]
  },
  {
   "cell_type": "code",
   "execution_count": 28,
   "metadata": {},
   "outputs": [
    {
     "name": "stdout",
     "output_type": "stream",
     "text": [
      "CPU times: user 236 ms, sys: 4.3 ms, total: 240 ms\n",
      "Wall time: 33.2 ms\n"
     ]
    },
    {
     "data": {
      "text/plain": [
       "0.23"
      ]
     },
     "execution_count": 28,
     "metadata": {},
     "output_type": "execute_result"
    }
   ],
   "source": [
    "%%time\n",
    "preds1 = knn_test.predict(train_data['data'][800:1000])\n",
    "\n",
    "sum(preds1.astype(int) - train_data['target'][800:1000].astype(int) == 0) / train_data['target'][800:1000].size"
   ]
  },
  {
   "cell_type": "code",
   "execution_count": 29,
   "metadata": {},
   "outputs": [
    {
     "data": {
      "text/plain": [
       "KNeighborsClassifier(algorithm='brute', leaf_size=30, metric='euclidean',\n",
       "                     metric_params=None, n_jobs=None, n_neighbors=5, p=2,\n",
       "                     weights='uniform')"
      ]
     },
     "execution_count": 29,
     "metadata": {},
     "output_type": "execute_result"
    }
   ],
   "source": [
    "from sklearn.model_selection import cross_val_score\n",
    "\n",
    "from sklearn.neighbors import KNeighborsClassifier\n",
    "knn_true = KNeighborsClassifier(5, algorithm='brute', weights='uniform', metric='euclidean')\n",
    "knn_true.fit(train_data['data'][:800], train_data['target'][:800])"
   ]
  },
  {
   "cell_type": "code",
   "execution_count": 30,
   "metadata": {},
   "outputs": [
    {
     "data": {
      "text/plain": [
       "0.87"
      ]
     },
     "execution_count": 30,
     "metadata": {},
     "output_type": "execute_result"
    }
   ],
   "source": [
    "preds1 = knn_true.predict(train_data['data'][800:1000])\n",
    "\n",
    "sum(preds1.astype(int) - train_data['target'][800:1000].astype(int) == 0) / train_data['target'][800:1000].size"
   ]
  },
  {
   "cell_type": "markdown",
   "metadata": {},
   "source": [
    "## Experiments list"
   ]
  },
  {
   "cell_type": "markdown",
   "metadata": {},
   "source": [
    "### Experiment №1"
   ]
  },
  {
   "cell_type": "code",
   "execution_count": 35,
   "metadata": {
    "scrolled": false
   },
   "outputs": [
    {
     "name": "stderr",
     "output_type": "stream",
     "text": [
      "\n",
      "\n",
      "  0%|          | 0/3 [00:00<?, ?it/s]\u001b[A\u001b[A\n",
      "\n",
      "\n",
      "  0%|          | 0/4 [00:00<?, ?it/s]\u001b[A\u001b[A\u001b[A\n",
      "\n",
      "\n",
      " 25%|██▌       | 1/4 [00:40<02:01, 40.42s/it]\u001b[A\u001b[A\u001b[A\n",
      "\n",
      "\n",
      " 50%|█████     | 2/4 [00:48<01:01, 30.75s/it]\u001b[A\u001b[A\u001b[A\n",
      "\n",
      "\n",
      " 75%|███████▌  | 3/4 [00:51<00:22, 22.50s/it]\u001b[A\u001b[A\u001b[A\n",
      "\n",
      "\n",
      "100%|██████████| 4/4 [00:55<00:00, 16.92s/it]\u001b[A\u001b[A\u001b[A\n",
      "\n",
      " 33%|███▎      | 1/3 [00:55<01:51, 55.76s/it]\u001b[A\u001b[A\n",
      "\n",
      "\n",
      "  0%|          | 0/4 [00:00<?, ?it/s]\u001b[A\u001b[A\u001b[A\n",
      "\n",
      "\n",
      " 25%|██▌       | 1/4 [00:38<01:54, 38.28s/it]\u001b[A\u001b[A\u001b[A\n",
      "\n",
      "\n",
      " 50%|█████     | 2/4 [00:47<00:58, 29.44s/it]\u001b[A\u001b[A\u001b[A\n",
      "\n",
      "\n",
      " 75%|███████▌  | 3/4 [00:53<00:22, 22.45s/it]\u001b[A\u001b[A\u001b[A\n",
      "\n",
      "\n",
      "100%|██████████| 4/4 [01:02<00:00, 18.40s/it]\u001b[A\u001b[A\u001b[A\n",
      "\n",
      " 67%|██████▋   | 2/3 [01:57<00:57, 57.68s/it]\u001b[A\u001b[A\n",
      "\n",
      "\n",
      "  0%|          | 0/4 [00:00<?, ?it/s]\u001b[A\u001b[A\u001b[A\n",
      "\n",
      "\n",
      " 25%|██▌       | 1/4 [00:44<02:14, 44.99s/it]\u001b[A\u001b[A\u001b[A\n",
      "\n",
      "\n",
      " 50%|█████     | 2/4 [00:54<01:08, 34.23s/it]\u001b[A\u001b[A\u001b[A\n",
      "\n",
      "\n",
      " 75%|███████▌  | 3/4 [02:17<00:48, 48.88s/it]\u001b[A\u001b[A\u001b[A\n",
      "\n",
      "\n",
      "100%|██████████| 4/4 [03:50<00:00, 62.28s/it]\u001b[A\u001b[A\u001b[A\n",
      "\n",
      "100%|██████████| 3/3 [05:48<00:00, 109.60s/it]\u001b[A\u001b[A"
     ]
    }
   ],
   "source": [
    "from sklearn.neighbors import NearestNeighbors\n",
    "# from nearest_neighbors import KNNClassifier\n",
    "import numpy as np\n",
    "from distances import euclidean_distance, cosine_distance\n",
    "from tqdm import tqdm\n",
    "import time\n",
    "import pandas as pd\n",
    "\n",
    "\n",
    "import numpy as np\n",
    "from sklearn.neighbors import NearestNeighbors\n",
    "from distances import cosine_distance, euclidean_distance\n",
    "\n",
    "\n",
    "class KNNClassifier:\n",
    "    def __init__(self,\n",
    "                 k=10,\n",
    "                 strategy='my_own',\n",
    "                 metric='euclidean',\n",
    "                 weights=False,\n",
    "                 test_block_size=10000\n",
    "                 ):\n",
    "        \"\"\"\n",
    "        params:\n",
    "            * k - amount of nearest neighbours(nn)\n",
    "            * strategy - nn searching algorithm. Possible values:\n",
    "                - 'my_own' - self-realization\n",
    "                - 'brute' - from sklearn.neighbors.NearestNeighbors(algorithm='brute')\n",
    "                - 'kd_tree' - from sklearn.neighbors.NearestNeighbors(algorithm='kd_tree')\n",
    "                - 'ball_tree' - from sklearn.neighbors.NearestNeighbors(algorithm='ball_tree')\n",
    "            * metric:\n",
    "                - 'euclidean' - euclidean metric\n",
    "                - 'cosine' - cosine metric\n",
    "            * weights - bool variable.\n",
    "                - True - weighted KNN(with distance)\n",
    "                - False - simple KNN\n",
    "            * test_block_size - size of test block\n",
    "        \"\"\"\n",
    "\n",
    "        self.X_train = None\n",
    "        self.y_train = None\n",
    "        self.distances = None\n",
    "        self.neigh_idxs = None\n",
    "        self.model = None\n",
    "        self.k = k\n",
    "        self.strategy = strategy\n",
    "        self.metric = metric\n",
    "        self.eps = 1e-5\n",
    "        self.weights = weights\n",
    "        if self.strategy == 'brute':\n",
    "            self.model = NearestNeighbors(n_neighbors=self.k, algorithm=self.strategy, metric=self.metric)\n",
    "        elif self.strategy != 'my_own':\n",
    "            self.model = NearestNeighbors(n_neighbors=self.k, algorithm=self.strategy)\n",
    "        else:\n",
    "            self.model = None\n",
    "        self.test_block_size = test_block_size\n",
    "\n",
    "    def fit(self, X, y):\n",
    "        \"\"\"\n",
    "        params:\n",
    "            * X - train data\n",
    "            * y - targets for train data\n",
    "        \"\"\"\n",
    "\n",
    "        self.y_train = y.astype(int)\n",
    "        self.k = np.min([self.y_train.shape[0], self.k])\n",
    "        if self.strategy != 'my_own':\n",
    "            self.model.fit(X, self.y_train)\n",
    "        else:\n",
    "            self.X_train = X\n",
    "\n",
    "    def find_kneighbors(self, X, return_distance):\n",
    "        \"\"\"\n",
    "        params:\n",
    "            * X - objects sample\n",
    "            * return_distance - bool variable\n",
    "\n",
    "        return values:\n",
    "            * If return_distance == True:\n",
    "                * tuple with two numpy array with size (X.shape[0], k), where:\n",
    "                  [i, j] elem of first array must be the distance between\n",
    "                  i-th object and his j-th nearest neighbour\n",
    "                  [i, j] elem of second array must be the index of j-th nearest neighbour to i-th object\n",
    "            * If return_distance == False:\n",
    "                * only second array\n",
    "        \"\"\"\n",
    "\n",
    "        # split_size = X.shape[0] // self.test_block_size + \\\n",
    "            # int(X.shape[0] % self.test_block_size != 0)\n",
    "\n",
    "        # for i, split in np.array_split(X, split_size):\n",
    "        if self.strategy != 'my_own':\n",
    "            self.distances, \\\n",
    "            self.neigh_idxs = self.model.kneighbors(X, n_neighbors=self.k)\n",
    "        else:\n",
    "            if self.metric == 'euclidean':\n",
    "                self.distances = euclidean_distance(X, self.X_train)\n",
    "                self.neigh_idxs = np.argsort(self.distances,\n",
    "                                        axis=1)[:, :self.k]\n",
    "                if return_distance:\n",
    "                    self.distances = self.distances[np.arange(self.distances.shape[0])[:, None],\n",
    "                                                    self.neigh_idxs]\n",
    "\n",
    "            elif self.metric == 'cosine':\n",
    "                self.distances = cosine_distance(X, self.X_train)\n",
    "                self.neigh_idxs = np.argsort(self.distances,\n",
    "                                        axis=1)[:, :self.k]\n",
    "                if return_distance:\n",
    "                    self.distances = self.distances[np.arange(self.distances.shape[0])[:, None],\n",
    "                                                    self.neigh_idxs]\n",
    "        if return_distance:\n",
    "            return self.distances, self.neigh_idxs\n",
    "        return self.neigh_idxs\n",
    "\n",
    "    def predict(self, X):\n",
    "        \"\"\"\n",
    "        params:\n",
    "            * X - test objects\n",
    "\n",
    "        return values:\n",
    "            * numpy array with size X.shape[0] of predictions for test objects from X\n",
    "        \"\"\"\n",
    "\n",
    "        if self.test_block_size > X.shape[0]:\n",
    "            self.test_block_size = X.shape[0]\n",
    "        preds = np.zeros(X.shape[0])\n",
    "        split_size = X.shape[0] // self.test_block_size + \\\n",
    "                     int(X.shape[0] % self.test_block_size != 0)\n",
    "        curr_idx = 0\n",
    "        classes = np.array(np.unique(self.y_train))\n",
    "        for i, split in enumerate(np.array_split(X, split_size)):\n",
    "            self.distances, self.neigh_idxs = self.find_kneighbors(split, True)\n",
    "            for j, idx in enumerate(self.neigh_idxs):\n",
    "                counts = np.zeros(len(classes))\n",
    "                for c in classes:\n",
    "                    if self.weights:\n",
    "                        weights = 1 / (self.distances[j] + self.eps)\n",
    "                        counts[c] = np.sum((self.y_train[idx] == c) * weights)\n",
    "                    else:\n",
    "                        counts[c] = np.sum(self.y_train[idx] == c)\n",
    "                preds[j + curr_idx] = np.argmax(counts)\n",
    "            curr_idx += split.shape[0]\n",
    "        return preds\n",
    "\n",
    "    def predict_for_cv(self, X):\n",
    "        \"\"\"\n",
    "        params:\n",
    "            * X - test objects\n",
    "\n",
    "        return values:\n",
    "\n",
    "        \"\"\"\n",
    "\n",
    "        preds = np.zeros(X.shape[0])\n",
    "        classes = np.array(np.unique(self.y_train))\n",
    "        for j, idx in enumerate(self.neigh_idxs[:, :self.k]):\n",
    "            # counts = np.zeros(len(classes))\n",
    "            # for c in classes:\n",
    "            if self.weights:\n",
    "                weights = 1 / (self.distances[j, :self.k] + self.eps)\n",
    "                counts = np.bincount(self.y_train[idx],  weights)\n",
    "            else:\n",
    "                counts = np.bincount(self.y_train[idx])\n",
    "            preds[j] = np.argmax(counts)\n",
    "        return preds\n",
    "\n",
    "\n",
    "\n",
    "strategy_list = ['my_own', 'brute', 'kd_tree', 'ball_tree']\n",
    "feature_dim_list = [10, 20, 100]\n",
    "k_neighbors = 5\n",
    "\n",
    "experiment1_results = pd.DataFrame(columns=['strategy', 'feature_dim', 'time_elapsed'])\n",
    "\n",
    "for feature_dim in tqdm(feature_dim_list):\n",
    "    features_idxs = np.random.choice(test_data['data'].shape[1],\n",
    "                                     feature_dim,\n",
    "                                     replace=False)\n",
    "    for strategy in tqdm(strategy_list):\n",
    "        knn = KNNClassifier(k_neighbors,\n",
    "                            strategy)\n",
    "        knn.fit(train_data['data'][:, features_idxs],\n",
    "                train_data['target'])\n",
    "        start = time.time()\n",
    "        knn.find_kneighbors(test_data['data'][:, features_idxs], True)\n",
    "        time_elapsed = time.time() - start\n",
    "        experiment1_results = \\\n",
    "            experiment1_results.append({'feature_dim': feature_dim,\n",
    "                                        'strategy': strategy,\n",
    "                                        'time_elapsed': time_elapsed},\n",
    "                                       ignore_index=True)\n",
    "        \n",
    "        \n",
    "        "
   ]
  },
  {
   "cell_type": "markdown",
   "metadata": {},
   "source": [
    "## Got twice faster algorithm with this trick: https://stackoverflow.com/questions/20103779/index-2d-numpy-array-by-a-2d-array-of-indices-without-loops"
   ]
  },
  {
   "cell_type": "markdown",
   "metadata": {},
   "source": [
    "experiment1_results"
   ]
  },
  {
   "cell_type": "code",
   "execution_count": 126,
   "metadata": {},
   "outputs": [],
   "source": [
    "experiment1_results.to_csv('experiment1_results.csv')"
   ]
  },
  {
   "cell_type": "code",
   "execution_count": 387,
   "metadata": {},
   "outputs": [],
   "source": [
    "experiment1_results = pd.read_csv('experiment1_results.csv', index_col=0)"
   ]
  },
  {
   "cell_type": "code",
   "execution_count": 388,
   "metadata": {},
   "outputs": [
    {
     "data": {
      "text/html": [
       "<div>\n",
       "<style scoped>\n",
       "    .dataframe tbody tr th:only-of-type {\n",
       "        vertical-align: middle;\n",
       "    }\n",
       "\n",
       "    .dataframe tbody tr th {\n",
       "        vertical-align: top;\n",
       "    }\n",
       "\n",
       "    .dataframe thead th {\n",
       "        text-align: right;\n",
       "    }\n",
       "</style>\n",
       "<table border=\"1\" class=\"dataframe\">\n",
       "  <thead>\n",
       "    <tr style=\"text-align: right;\">\n",
       "      <th></th>\n",
       "      <th>strategy</th>\n",
       "      <th>feature_dim</th>\n",
       "      <th>time_elapsed</th>\n",
       "    </tr>\n",
       "  </thead>\n",
       "  <tbody>\n",
       "    <tr>\n",
       "      <th>0</th>\n",
       "      <td>my_own</td>\n",
       "      <td>10</td>\n",
       "      <td>68.074046</td>\n",
       "    </tr>\n",
       "    <tr>\n",
       "      <th>1</th>\n",
       "      <td>brute</td>\n",
       "      <td>10</td>\n",
       "      <td>7.844289</td>\n",
       "    </tr>\n",
       "    <tr>\n",
       "      <th>2</th>\n",
       "      <td>kd_tree</td>\n",
       "      <td>10</td>\n",
       "      <td>0.441361</td>\n",
       "    </tr>\n",
       "    <tr>\n",
       "      <th>3</th>\n",
       "      <td>ball_tree</td>\n",
       "      <td>10</td>\n",
       "      <td>1.720195</td>\n",
       "    </tr>\n",
       "    <tr>\n",
       "      <th>4</th>\n",
       "      <td>my_own</td>\n",
       "      <td>20</td>\n",
       "      <td>76.828881</td>\n",
       "    </tr>\n",
       "    <tr>\n",
       "      <th>5</th>\n",
       "      <td>brute</td>\n",
       "      <td>20</td>\n",
       "      <td>7.959555</td>\n",
       "    </tr>\n",
       "    <tr>\n",
       "      <th>6</th>\n",
       "      <td>kd_tree</td>\n",
       "      <td>20</td>\n",
       "      <td>1.405176</td>\n",
       "    </tr>\n",
       "    <tr>\n",
       "      <th>7</th>\n",
       "      <td>ball_tree</td>\n",
       "      <td>20</td>\n",
       "      <td>6.638407</td>\n",
       "    </tr>\n",
       "    <tr>\n",
       "      <th>8</th>\n",
       "      <td>my_own</td>\n",
       "      <td>100</td>\n",
       "      <td>78.310371</td>\n",
       "    </tr>\n",
       "    <tr>\n",
       "      <th>9</th>\n",
       "      <td>brute</td>\n",
       "      <td>100</td>\n",
       "      <td>8.280682</td>\n",
       "    </tr>\n",
       "    <tr>\n",
       "      <th>10</th>\n",
       "      <td>kd_tree</td>\n",
       "      <td>100</td>\n",
       "      <td>82.766250</td>\n",
       "    </tr>\n",
       "    <tr>\n",
       "      <th>11</th>\n",
       "      <td>ball_tree</td>\n",
       "      <td>100</td>\n",
       "      <td>97.675825</td>\n",
       "    </tr>\n",
       "  </tbody>\n",
       "</table>\n",
       "</div>"
      ],
      "text/plain": [
       "     strategy  feature_dim  time_elapsed\n",
       "0      my_own           10     68.074046\n",
       "1       brute           10      7.844289\n",
       "2     kd_tree           10      0.441361\n",
       "3   ball_tree           10      1.720195\n",
       "4      my_own           20     76.828881\n",
       "5       brute           20      7.959555\n",
       "6     kd_tree           20      1.405176\n",
       "7   ball_tree           20      6.638407\n",
       "8      my_own          100     78.310371\n",
       "9       brute          100      8.280682\n",
       "10    kd_tree          100     82.766250\n",
       "11  ball_tree          100     97.675825"
      ]
     },
     "execution_count": 388,
     "metadata": {},
     "output_type": "execute_result"
    }
   ],
   "source": [
    "experiment1_results"
   ]
  },
  {
   "cell_type": "markdown",
   "metadata": {},
   "source": [
    "### Experiment №2"
   ]
  },
  {
   "cell_type": "code",
   "execution_count": 11,
   "metadata": {},
   "outputs": [],
   "source": []
  },
  {
   "cell_type": "code",
   "execution_count": 21,
   "metadata": {},
   "outputs": [
    {
     "name": "stderr",
     "output_type": "stream",
     "text": [
      "100%|██████████| 2/2 [03:25<00:00, 102.91s/it]\n"
     ]
    }
   ],
   "source": [
    "from sklearn.neighbors import NearestNeighbors\n",
    "from nearest_neighbors import KNNClassifier\n",
    "from cross_validation import *\n",
    "import numpy as np\n",
    "from distances import euclidean_distance, cosine_distance\n",
    "from tqdm import tqdm\n",
    "import time\n",
    "import pandas as pd\n",
    "\n",
    "\n",
    "n_folds = 3\n",
    "k_list = [k for k in range(1, 11)]\n",
    "metric_list = ['euclidean', 'cosine']\n",
    "\n",
    "experiment2_results = pd.DataFrame(columns=['k_neighbors', 'metric', 'accuracy', 'elapsed_time'])\n",
    "\n",
    "\n",
    "for metric in tqdm(metric_list):\n",
    "    start = time.time()\n",
    "    preds_dict = knn_cross_val_score(train_data['data'],\n",
    "                                     train_data['target'],\n",
    "                                     k_list=k_list,\n",
    "                                     score='accuracy',\n",
    "                                     k=k_list[-1],\n",
    "                                     strategy='brute',\n",
    "                                     metric=metric,\n",
    "                                     weights=False\n",
    "                                    )\n",
    "    time_elapsed = time.time() - start\n",
    "    for k in k_list:\n",
    "        experiment2_results = \\\n",
    "            experiment2_results.append({'k_neighbors': k,\n",
    "                                        'metric': metric,\n",
    "                                        'accuracy': preds_dict[k],\n",
    "                                        'elapsed_time': time_elapsed},\n",
    "                                        ignore_index=True\n",
    "                                      )\n",
    "        \n",
    "        "
   ]
  },
  {
   "cell_type": "code",
   "execution_count": 22,
   "metadata": {
    "scrolled": true
   },
   "outputs": [
    {
     "data": {
      "text/html": [
       "<div>\n",
       "<style scoped>\n",
       "    .dataframe tbody tr th:only-of-type {\n",
       "        vertical-align: middle;\n",
       "    }\n",
       "\n",
       "    .dataframe tbody tr th {\n",
       "        vertical-align: top;\n",
       "    }\n",
       "\n",
       "    .dataframe thead th {\n",
       "        text-align: right;\n",
       "    }\n",
       "</style>\n",
       "<table border=\"1\" class=\"dataframe\">\n",
       "  <thead>\n",
       "    <tr style=\"text-align: right;\">\n",
       "      <th></th>\n",
       "      <th>k_neighbors</th>\n",
       "      <th>metric</th>\n",
       "      <th>accuracy</th>\n",
       "      <th>elapsed_time</th>\n",
       "    </tr>\n",
       "  </thead>\n",
       "  <tbody>\n",
       "    <tr>\n",
       "      <th>0</th>\n",
       "      <td>1</td>\n",
       "      <td>euclidean</td>\n",
       "      <td>[96.895, 96.675, 96.67]</td>\n",
       "      <td>103.422209</td>\n",
       "    </tr>\n",
       "    <tr>\n",
       "      <th>1</th>\n",
       "      <td>2</td>\n",
       "      <td>euclidean</td>\n",
       "      <td>[96.03, 95.99499999999999, 96.125]</td>\n",
       "      <td>103.422209</td>\n",
       "    </tr>\n",
       "    <tr>\n",
       "      <th>2</th>\n",
       "      <td>3</td>\n",
       "      <td>euclidean</td>\n",
       "      <td>[96.955, 96.825, 96.71499999999999]</td>\n",
       "      <td>103.422209</td>\n",
       "    </tr>\n",
       "    <tr>\n",
       "      <th>3</th>\n",
       "      <td>4</td>\n",
       "      <td>euclidean</td>\n",
       "      <td>[96.705, 96.67, 96.71]</td>\n",
       "      <td>103.422209</td>\n",
       "    </tr>\n",
       "    <tr>\n",
       "      <th>4</th>\n",
       "      <td>5</td>\n",
       "      <td>euclidean</td>\n",
       "      <td>[96.81, 96.73, 96.72]</td>\n",
       "      <td>103.422209</td>\n",
       "    </tr>\n",
       "    <tr>\n",
       "      <th>5</th>\n",
       "      <td>6</td>\n",
       "      <td>euclidean</td>\n",
       "      <td>[96.555, 96.495, 96.57]</td>\n",
       "      <td>103.422209</td>\n",
       "    </tr>\n",
       "    <tr>\n",
       "      <th>6</th>\n",
       "      <td>7</td>\n",
       "      <td>euclidean</td>\n",
       "      <td>[96.52, 96.5, 96.56]</td>\n",
       "      <td>103.422209</td>\n",
       "    </tr>\n",
       "    <tr>\n",
       "      <th>7</th>\n",
       "      <td>8</td>\n",
       "      <td>euclidean</td>\n",
       "      <td>[96.41499999999999, 96.39, 96.525]</td>\n",
       "      <td>103.422209</td>\n",
       "    </tr>\n",
       "    <tr>\n",
       "      <th>8</th>\n",
       "      <td>9</td>\n",
       "      <td>euclidean</td>\n",
       "      <td>[96.37, 96.32, 96.455]</td>\n",
       "      <td>103.422209</td>\n",
       "    </tr>\n",
       "    <tr>\n",
       "      <th>9</th>\n",
       "      <td>10</td>\n",
       "      <td>euclidean</td>\n",
       "      <td>[96.245, 96.22, 96.37]</td>\n",
       "      <td>103.422209</td>\n",
       "    </tr>\n",
       "    <tr>\n",
       "      <th>10</th>\n",
       "      <td>1</td>\n",
       "      <td>cosine</td>\n",
       "      <td>[97.33000000000001, 97.08, 97.045]</td>\n",
       "      <td>101.689952</td>\n",
       "    </tr>\n",
       "    <tr>\n",
       "      <th>11</th>\n",
       "      <td>2</td>\n",
       "      <td>cosine</td>\n",
       "      <td>[96.895, 96.64, 96.775]</td>\n",
       "      <td>101.689952</td>\n",
       "    </tr>\n",
       "    <tr>\n",
       "      <th>12</th>\n",
       "      <td>3</td>\n",
       "      <td>cosine</td>\n",
       "      <td>[97.365, 97.155, 97.09]</td>\n",
       "      <td>101.689952</td>\n",
       "    </tr>\n",
       "    <tr>\n",
       "      <th>13</th>\n",
       "      <td>4</td>\n",
       "      <td>cosine</td>\n",
       "      <td>[97.25, 97.095, 97.22]</td>\n",
       "      <td>101.689952</td>\n",
       "    </tr>\n",
       "    <tr>\n",
       "      <th>14</th>\n",
       "      <td>5</td>\n",
       "      <td>cosine</td>\n",
       "      <td>[97.275, 97.015, 97.16]</td>\n",
       "      <td>101.689952</td>\n",
       "    </tr>\n",
       "    <tr>\n",
       "      <th>15</th>\n",
       "      <td>6</td>\n",
       "      <td>cosine</td>\n",
       "      <td>[97.195, 96.97, 97.21499999999999]</td>\n",
       "      <td>101.689952</td>\n",
       "    </tr>\n",
       "    <tr>\n",
       "      <th>16</th>\n",
       "      <td>7</td>\n",
       "      <td>cosine</td>\n",
       "      <td>[97.125, 96.815, 97.075]</td>\n",
       "      <td>101.689952</td>\n",
       "    </tr>\n",
       "    <tr>\n",
       "      <th>17</th>\n",
       "      <td>8</td>\n",
       "      <td>cosine</td>\n",
       "      <td>[97.125, 96.83500000000001, 97.155]</td>\n",
       "      <td>101.689952</td>\n",
       "    </tr>\n",
       "    <tr>\n",
       "      <th>18</th>\n",
       "      <td>9</td>\n",
       "      <td>cosine</td>\n",
       "      <td>[97.005, 96.7, 97.07000000000001]</td>\n",
       "      <td>101.689952</td>\n",
       "    </tr>\n",
       "    <tr>\n",
       "      <th>19</th>\n",
       "      <td>10</td>\n",
       "      <td>cosine</td>\n",
       "      <td>[96.935, 96.615, 97.07000000000001]</td>\n",
       "      <td>101.689952</td>\n",
       "    </tr>\n",
       "  </tbody>\n",
       "</table>\n",
       "</div>"
      ],
      "text/plain": [
       "   k_neighbors     metric                             accuracy  elapsed_time\n",
       "0            1  euclidean              [96.895, 96.675, 96.67]    103.422209\n",
       "1            2  euclidean   [96.03, 95.99499999999999, 96.125]    103.422209\n",
       "2            3  euclidean  [96.955, 96.825, 96.71499999999999]    103.422209\n",
       "3            4  euclidean               [96.705, 96.67, 96.71]    103.422209\n",
       "4            5  euclidean                [96.81, 96.73, 96.72]    103.422209\n",
       "5            6  euclidean              [96.555, 96.495, 96.57]    103.422209\n",
       "6            7  euclidean                 [96.52, 96.5, 96.56]    103.422209\n",
       "7            8  euclidean   [96.41499999999999, 96.39, 96.525]    103.422209\n",
       "8            9  euclidean               [96.37, 96.32, 96.455]    103.422209\n",
       "9           10  euclidean               [96.245, 96.22, 96.37]    103.422209\n",
       "10           1     cosine   [97.33000000000001, 97.08, 97.045]    101.689952\n",
       "11           2     cosine              [96.895, 96.64, 96.775]    101.689952\n",
       "12           3     cosine              [97.365, 97.155, 97.09]    101.689952\n",
       "13           4     cosine               [97.25, 97.095, 97.22]    101.689952\n",
       "14           5     cosine              [97.275, 97.015, 97.16]    101.689952\n",
       "15           6     cosine   [97.195, 96.97, 97.21499999999999]    101.689952\n",
       "16           7     cosine             [97.125, 96.815, 97.075]    101.689952\n",
       "17           8     cosine  [97.125, 96.83500000000001, 97.155]    101.689952\n",
       "18           9     cosine    [97.005, 96.7, 97.07000000000001]    101.689952\n",
       "19          10     cosine  [96.935, 96.615, 97.07000000000001]    101.689952"
      ]
     },
     "execution_count": 22,
     "metadata": {},
     "output_type": "execute_result"
    }
   ],
   "source": [
    "experiment2_results"
   ]
  },
  {
   "cell_type": "code",
   "execution_count": 392,
   "metadata": {},
   "outputs": [],
   "source": [
    "experiment2_results.to_csv('experiment2_results.csv')"
   ]
  },
  {
   "cell_type": "code",
   "execution_count": 393,
   "metadata": {},
   "outputs": [],
   "source": [
    "experiment2_results = pd.read_csv('experiment2_results.csv', index_col=0)"
   ]
  },
  {
   "cell_type": "code",
   "execution_count": 397,
   "metadata": {},
   "outputs": [],
   "source": [
    "def from_str_to_numpy(x):\n",
    "    return np.fromstring(x[1:-1], sep=' ')\n",
    "\n",
    "experiment2_results = pd.read_csv('experiment2_results.csv', index_col=[0])\n",
    "experiment2_results['accuracy'] = experiment2_results['accuracy'].map(from_str_to_numpy)\n",
    "experiment2_results['mean_accuracy'] = experiment2_results['accuracy'].map(np.mean)"
   ]
  },
  {
   "cell_type": "code",
   "execution_count": 399,
   "metadata": {},
   "outputs": [
    {
     "data": {
      "text/html": [
       "<div>\n",
       "<style scoped>\n",
       "    .dataframe tbody tr th:only-of-type {\n",
       "        vertical-align: middle;\n",
       "    }\n",
       "\n",
       "    .dataframe tbody tr th {\n",
       "        vertical-align: top;\n",
       "    }\n",
       "\n",
       "    .dataframe thead th {\n",
       "        text-align: right;\n",
       "    }\n",
       "</style>\n",
       "<table border=\"1\" class=\"dataframe\">\n",
       "  <thead>\n",
       "    <tr style=\"text-align: right;\">\n",
       "      <th></th>\n",
       "      <th>k_neighbors</th>\n",
       "      <th>metric</th>\n",
       "      <th>accuracy</th>\n",
       "      <th>elapsed_time</th>\n",
       "      <th>mean_accuracy</th>\n",
       "    </tr>\n",
       "  </thead>\n",
       "  <tbody>\n",
       "    <tr>\n",
       "      <th>12</th>\n",
       "      <td>3</td>\n",
       "      <td>cosine</td>\n",
       "      <td>[97.365, 97.155, 97.09]</td>\n",
       "      <td>101.689952</td>\n",
       "      <td>97.203333</td>\n",
       "    </tr>\n",
       "    <tr>\n",
       "      <th>13</th>\n",
       "      <td>4</td>\n",
       "      <td>cosine</td>\n",
       "      <td>[97.25, 97.095, 97.22]</td>\n",
       "      <td>101.689952</td>\n",
       "      <td>97.188333</td>\n",
       "    </tr>\n",
       "    <tr>\n",
       "      <th>10</th>\n",
       "      <td>1</td>\n",
       "      <td>cosine</td>\n",
       "      <td>[97.33, 97.08, 97.045]</td>\n",
       "      <td>101.689952</td>\n",
       "      <td>97.151667</td>\n",
       "    </tr>\n",
       "    <tr>\n",
       "      <th>14</th>\n",
       "      <td>5</td>\n",
       "      <td>cosine</td>\n",
       "      <td>[97.275, 97.015, 97.16]</td>\n",
       "      <td>101.689952</td>\n",
       "      <td>97.150000</td>\n",
       "    </tr>\n",
       "    <tr>\n",
       "      <th>15</th>\n",
       "      <td>6</td>\n",
       "      <td>cosine</td>\n",
       "      <td>[97.195, 96.97, 97.215]</td>\n",
       "      <td>101.689952</td>\n",
       "      <td>97.126667</td>\n",
       "    </tr>\n",
       "    <tr>\n",
       "      <th>17</th>\n",
       "      <td>8</td>\n",
       "      <td>cosine</td>\n",
       "      <td>[97.125, 96.835, 97.155]</td>\n",
       "      <td>101.689952</td>\n",
       "      <td>97.038333</td>\n",
       "    </tr>\n",
       "    <tr>\n",
       "      <th>16</th>\n",
       "      <td>7</td>\n",
       "      <td>cosine</td>\n",
       "      <td>[97.125, 96.815, 97.075]</td>\n",
       "      <td>101.689952</td>\n",
       "      <td>97.005000</td>\n",
       "    </tr>\n",
       "    <tr>\n",
       "      <th>18</th>\n",
       "      <td>9</td>\n",
       "      <td>cosine</td>\n",
       "      <td>[97.005, 96.7, 97.07]</td>\n",
       "      <td>101.689952</td>\n",
       "      <td>96.925000</td>\n",
       "    </tr>\n",
       "    <tr>\n",
       "      <th>19</th>\n",
       "      <td>10</td>\n",
       "      <td>cosine</td>\n",
       "      <td>[96.935, 96.615, 97.07]</td>\n",
       "      <td>101.689952</td>\n",
       "      <td>96.873333</td>\n",
       "    </tr>\n",
       "    <tr>\n",
       "      <th>2</th>\n",
       "      <td>3</td>\n",
       "      <td>euclidean</td>\n",
       "      <td>[96.955, 96.825, 96.715]</td>\n",
       "      <td>103.422209</td>\n",
       "      <td>96.831667</td>\n",
       "    </tr>\n",
       "    <tr>\n",
       "      <th>11</th>\n",
       "      <td>2</td>\n",
       "      <td>cosine</td>\n",
       "      <td>[96.895, 96.64, 96.775]</td>\n",
       "      <td>101.689952</td>\n",
       "      <td>96.770000</td>\n",
       "    </tr>\n",
       "    <tr>\n",
       "      <th>4</th>\n",
       "      <td>5</td>\n",
       "      <td>euclidean</td>\n",
       "      <td>[96.81, 96.73, 96.72]</td>\n",
       "      <td>103.422209</td>\n",
       "      <td>96.753333</td>\n",
       "    </tr>\n",
       "    <tr>\n",
       "      <th>0</th>\n",
       "      <td>1</td>\n",
       "      <td>euclidean</td>\n",
       "      <td>[96.895, 96.675, 96.67]</td>\n",
       "      <td>103.422209</td>\n",
       "      <td>96.746667</td>\n",
       "    </tr>\n",
       "    <tr>\n",
       "      <th>3</th>\n",
       "      <td>4</td>\n",
       "      <td>euclidean</td>\n",
       "      <td>[96.705, 96.67, 96.71]</td>\n",
       "      <td>103.422209</td>\n",
       "      <td>96.695000</td>\n",
       "    </tr>\n",
       "    <tr>\n",
       "      <th>5</th>\n",
       "      <td>6</td>\n",
       "      <td>euclidean</td>\n",
       "      <td>[96.555, 96.495, 96.57]</td>\n",
       "      <td>103.422209</td>\n",
       "      <td>96.540000</td>\n",
       "    </tr>\n",
       "    <tr>\n",
       "      <th>6</th>\n",
       "      <td>7</td>\n",
       "      <td>euclidean</td>\n",
       "      <td>[96.52, 96.5, 96.56]</td>\n",
       "      <td>103.422209</td>\n",
       "      <td>96.526667</td>\n",
       "    </tr>\n",
       "    <tr>\n",
       "      <th>7</th>\n",
       "      <td>8</td>\n",
       "      <td>euclidean</td>\n",
       "      <td>[96.415, 96.39, 96.525]</td>\n",
       "      <td>103.422209</td>\n",
       "      <td>96.443333</td>\n",
       "    </tr>\n",
       "    <tr>\n",
       "      <th>8</th>\n",
       "      <td>9</td>\n",
       "      <td>euclidean</td>\n",
       "      <td>[96.37, 96.32, 96.455]</td>\n",
       "      <td>103.422209</td>\n",
       "      <td>96.381667</td>\n",
       "    </tr>\n",
       "    <tr>\n",
       "      <th>9</th>\n",
       "      <td>10</td>\n",
       "      <td>euclidean</td>\n",
       "      <td>[96.245, 96.22, 96.37]</td>\n",
       "      <td>103.422209</td>\n",
       "      <td>96.278333</td>\n",
       "    </tr>\n",
       "    <tr>\n",
       "      <th>1</th>\n",
       "      <td>2</td>\n",
       "      <td>euclidean</td>\n",
       "      <td>[96.03, 95.995, 96.125]</td>\n",
       "      <td>103.422209</td>\n",
       "      <td>96.050000</td>\n",
       "    </tr>\n",
       "  </tbody>\n",
       "</table>\n",
       "</div>"
      ],
      "text/plain": [
       "    k_neighbors     metric                  accuracy  elapsed_time  \\\n",
       "12            3     cosine   [97.365, 97.155, 97.09]    101.689952   \n",
       "13            4     cosine    [97.25, 97.095, 97.22]    101.689952   \n",
       "10            1     cosine    [97.33, 97.08, 97.045]    101.689952   \n",
       "14            5     cosine   [97.275, 97.015, 97.16]    101.689952   \n",
       "15            6     cosine   [97.195, 96.97, 97.215]    101.689952   \n",
       "17            8     cosine  [97.125, 96.835, 97.155]    101.689952   \n",
       "16            7     cosine  [97.125, 96.815, 97.075]    101.689952   \n",
       "18            9     cosine     [97.005, 96.7, 97.07]    101.689952   \n",
       "19           10     cosine   [96.935, 96.615, 97.07]    101.689952   \n",
       "2             3  euclidean  [96.955, 96.825, 96.715]    103.422209   \n",
       "11            2     cosine   [96.895, 96.64, 96.775]    101.689952   \n",
       "4             5  euclidean     [96.81, 96.73, 96.72]    103.422209   \n",
       "0             1  euclidean   [96.895, 96.675, 96.67]    103.422209   \n",
       "3             4  euclidean    [96.705, 96.67, 96.71]    103.422209   \n",
       "5             6  euclidean   [96.555, 96.495, 96.57]    103.422209   \n",
       "6             7  euclidean      [96.52, 96.5, 96.56]    103.422209   \n",
       "7             8  euclidean   [96.415, 96.39, 96.525]    103.422209   \n",
       "8             9  euclidean    [96.37, 96.32, 96.455]    103.422209   \n",
       "9            10  euclidean    [96.245, 96.22, 96.37]    103.422209   \n",
       "1             2  euclidean   [96.03, 95.995, 96.125]    103.422209   \n",
       "\n",
       "    mean_accuracy  \n",
       "12      97.203333  \n",
       "13      97.188333  \n",
       "10      97.151667  \n",
       "14      97.150000  \n",
       "15      97.126667  \n",
       "17      97.038333  \n",
       "16      97.005000  \n",
       "18      96.925000  \n",
       "19      96.873333  \n",
       "2       96.831667  \n",
       "11      96.770000  \n",
       "4       96.753333  \n",
       "0       96.746667  \n",
       "3       96.695000  \n",
       "5       96.540000  \n",
       "6       96.526667  \n",
       "7       96.443333  \n",
       "8       96.381667  \n",
       "9       96.278333  \n",
       "1       96.050000  "
      ]
     },
     "execution_count": 399,
     "metadata": {},
     "output_type": "execute_result"
    }
   ],
   "source": [
    "experiment2_results.sort_values(by='mean_accuracy', ascending=False)"
   ]
  },
  {
   "cell_type": "code",
   "execution_count": 436,
   "metadata": {},
   "outputs": [
    {
     "data": {
      "image/png": "[encoded data removed]",
      "text/plain": [
       "<Figure size 720x360 with 1 Axes>"
      ]
     },
     "metadata": {
      "needs_background": "light"
     },
     "output_type": "display_data"
    }
   ],
   "source": [
    "fig = plt.figure(1, (10, 5))\n",
    "plt.plot(experiment2_results['k_neighbors'][10:], experiment2_results['mean_accuracy'][10:])\n",
    "plt.plot(experiment2_results['k_neighbors'][:10], experiment2_results['mean_accuracy'][:10])\n",
    "plt.legend(['Косинусная метрика', 'Евклидова метрика'], loc='best')\n",
    "plt.title('График зависимости средней точности на 3 фолдах от числа соседей для  различных метрик')\n",
    "plt.xlabel('Число соседей, шт.')\n",
    "plt.ylabel('Точность, %')\n",
    "fig.savefig('experiment2_graph.pdf')"
   ]
  },
  {
   "cell_type": "markdown",
   "metadata": {},
   "source": [
    "## Experiment №3"
   ]
  },
  {
   "cell_type": "code",
   "execution_count": 13,
   "metadata": {},
   "outputs": [
    {
     "name": "stderr",
     "output_type": "stream",
     "text": [
      "  0%|          | 0/2 [00:00<?, ?it/s]\n",
      "  0%|          | 0/2 [00:00<?, ?it/s]\u001b[A\n",
      "\n",
      "  0%|          | 0/4 [00:00<?, ?it/s]\u001b[A\u001b[A"
     ]
    },
    {
     "ename": "KeyboardInterrupt",
     "evalue": "",
     "output_type": "error",
     "traceback": [
      "\u001b[0;31m---------------------------------------------------------------------------\u001b[0m",
      "\u001b[0;31mKeyboardInterrupt\u001b[0m                         Traceback (most recent call last)",
      "\u001b[0;32m<ipython-input-13-810e23d11817>\u001b[0m in \u001b[0;36m<module>\u001b[0;34m\u001b[0m\n\u001b[1;32m     34\u001b[0m                                              \u001b[0mstrategy\u001b[0m\u001b[0;34m=\u001b[0m\u001b[0mstrategy\u001b[0m\u001b[0;34m,\u001b[0m\u001b[0;34m\u001b[0m\u001b[0;34m\u001b[0m\u001b[0m\n\u001b[1;32m     35\u001b[0m                                              \u001b[0mmetric\u001b[0m\u001b[0;34m=\u001b[0m\u001b[0mmetric\u001b[0m\u001b[0;34m,\u001b[0m\u001b[0;34m\u001b[0m\u001b[0;34m\u001b[0m\u001b[0m\n\u001b[0;32m---> 36\u001b[0;31m                                              \u001b[0mweights\u001b[0m\u001b[0;34m=\u001b[0m\u001b[0mweight\u001b[0m\u001b[0;34m\u001b[0m\u001b[0;34m\u001b[0m\u001b[0m\n\u001b[0m\u001b[1;32m     37\u001b[0m                                             )\n\u001b[1;32m     38\u001b[0m             \u001b[0mtime_elapsed\u001b[0m \u001b[0;34m=\u001b[0m \u001b[0mtime\u001b[0m\u001b[0;34m.\u001b[0m\u001b[0mtime\u001b[0m\u001b[0;34m(\u001b[0m\u001b[0;34m)\u001b[0m \u001b[0;34m-\u001b[0m \u001b[0mstart\u001b[0m\u001b[0;34m\u001b[0m\u001b[0;34m\u001b[0m\u001b[0m\n",
      "\u001b[0;32m~/Documents/MMP_3course/PRACTICUM/LAB_01/cross_validation.py\u001b[0m in \u001b[0;36mknn_cross_val_score\u001b[0;34m(X, y, k_list, score, cv, **kwargs)\u001b[0m\n\u001b[1;32m     56\u001b[0m             \u001b[0mknn\u001b[0m \u001b[0;34m=\u001b[0m \u001b[0mKNNClassifier\u001b[0m\u001b[0;34m(\u001b[0m\u001b[0;34m**\u001b[0m\u001b[0mkwargs\u001b[0m\u001b[0;34m)\u001b[0m\u001b[0;34m\u001b[0m\u001b[0;34m\u001b[0m\u001b[0m\n\u001b[1;32m     57\u001b[0m         \u001b[0mknn\u001b[0m\u001b[0;34m.\u001b[0m\u001b[0mfit\u001b[0m\u001b[0;34m(\u001b[0m\u001b[0mX\u001b[0m\u001b[0;34m[\u001b[0m\u001b[0mfold\u001b[0m\u001b[0;34m[\u001b[0m\u001b[0;36m0\u001b[0m\u001b[0;34m]\u001b[0m\u001b[0;34m]\u001b[0m\u001b[0;34m,\u001b[0m \u001b[0my\u001b[0m\u001b[0;34m[\u001b[0m\u001b[0mfold\u001b[0m\u001b[0;34m[\u001b[0m\u001b[0;36m0\u001b[0m\u001b[0;34m]\u001b[0m\u001b[0;34m]\u001b[0m\u001b[0;34m)\u001b[0m\u001b[0;34m\u001b[0m\u001b[0;34m\u001b[0m\u001b[0m\n\u001b[0;32m---> 58\u001b[0;31m         \u001b[0mknn\u001b[0m\u001b[0;34m.\u001b[0m\u001b[0mfind_kneighbors\u001b[0m\u001b[0;34m(\u001b[0m\u001b[0mX\u001b[0m\u001b[0;34m[\u001b[0m\u001b[0mfold\u001b[0m\u001b[0;34m[\u001b[0m\u001b[0;36m1\u001b[0m\u001b[0;34m]\u001b[0m\u001b[0;34m]\u001b[0m\u001b[0;34m,\u001b[0m \u001b[0mreturn_distance\u001b[0m\u001b[0;34m=\u001b[0m\u001b[0;32mTrue\u001b[0m\u001b[0;34m)\u001b[0m\u001b[0;34m\u001b[0m\u001b[0;34m\u001b[0m\u001b[0m\n\u001b[0m\u001b[1;32m     59\u001b[0m         \u001b[0;32mfor\u001b[0m \u001b[0mk\u001b[0m \u001b[0;32min\u001b[0m \u001b[0mk_list\u001b[0m\u001b[0;34m:\u001b[0m\u001b[0;34m\u001b[0m\u001b[0;34m\u001b[0m\u001b[0m\n\u001b[1;32m     60\u001b[0m             \u001b[0mknn\u001b[0m\u001b[0;34m.\u001b[0m\u001b[0mk\u001b[0m \u001b[0;34m=\u001b[0m \u001b[0mk\u001b[0m\u001b[0;34m\u001b[0m\u001b[0;34m\u001b[0m\u001b[0m\n",
      "\u001b[0;32m~/Documents/MMP_3course/PRACTICUM/LAB_01/nearest_neighbors.py\u001b[0m in \u001b[0;36mfind_kneighbors\u001b[0;34m(self, X, return_distance)\u001b[0m\n\u001b[1;32m     83\u001b[0m         \u001b[0;32melse\u001b[0m\u001b[0;34m:\u001b[0m\u001b[0;34m\u001b[0m\u001b[0;34m\u001b[0m\u001b[0m\n\u001b[1;32m     84\u001b[0m             \u001b[0;32mif\u001b[0m \u001b[0mself\u001b[0m\u001b[0;34m.\u001b[0m\u001b[0mmetric\u001b[0m \u001b[0;34m==\u001b[0m \u001b[0;34m'euclidean'\u001b[0m\u001b[0;34m:\u001b[0m\u001b[0;34m\u001b[0m\u001b[0;34m\u001b[0m\u001b[0m\n\u001b[0;32m---> 85\u001b[0;31m                 \u001b[0mself\u001b[0m\u001b[0;34m.\u001b[0m\u001b[0mdistances\u001b[0m \u001b[0;34m=\u001b[0m \u001b[0meuclidean_distance\u001b[0m\u001b[0;34m(\u001b[0m\u001b[0mX\u001b[0m\u001b[0;34m,\u001b[0m \u001b[0mself\u001b[0m\u001b[0;34m.\u001b[0m\u001b[0mX_train\u001b[0m\u001b[0;34m)\u001b[0m\u001b[0;34m\u001b[0m\u001b[0;34m\u001b[0m\u001b[0m\n\u001b[0m\u001b[1;32m     86\u001b[0m                 self.neigh_idxs = np.argsort(self.distances,\n\u001b[1;32m     87\u001b[0m                                         axis=1)[:, :self.k]\n",
      "\u001b[0;32m~/Documents/MMP_3course/PRACTICUM/LAB_01/distances.py\u001b[0m in \u001b[0;36meuclidean_distance\u001b[0;34m(X, Y)\u001b[0m\n\u001b[1;32m     14\u001b[0m     \u001b[0mX_sqr\u001b[0m \u001b[0;34m=\u001b[0m \u001b[0mnp\u001b[0m\u001b[0;34m.\u001b[0m\u001b[0msum\u001b[0m\u001b[0;34m(\u001b[0m\u001b[0mX\u001b[0m \u001b[0;34m**\u001b[0m \u001b[0;36m2\u001b[0m\u001b[0;34m,\u001b[0m \u001b[0maxis\u001b[0m\u001b[0;34m=\u001b[0m\u001b[0;36m1\u001b[0m\u001b[0;34m)\u001b[0m\u001b[0;34m[\u001b[0m\u001b[0;34m:\u001b[0m\u001b[0;34m,\u001b[0m \u001b[0;32mNone\u001b[0m\u001b[0;34m]\u001b[0m\u001b[0;34m\u001b[0m\u001b[0;34m\u001b[0m\u001b[0m\n\u001b[1;32m     15\u001b[0m     \u001b[0mY_sqr\u001b[0m \u001b[0;34m=\u001b[0m \u001b[0mnp\u001b[0m\u001b[0;34m.\u001b[0m\u001b[0msum\u001b[0m\u001b[0;34m(\u001b[0m\u001b[0mY\u001b[0m \u001b[0;34m**\u001b[0m \u001b[0;36m2\u001b[0m\u001b[0;34m,\u001b[0m \u001b[0maxis\u001b[0m\u001b[0;34m=\u001b[0m\u001b[0;36m1\u001b[0m\u001b[0;34m)\u001b[0m\u001b[0;34m\u001b[0m\u001b[0;34m\u001b[0m\u001b[0m\n\u001b[0;32m---> 16\u001b[0;31m     \u001b[0;32mreturn\u001b[0m \u001b[0mnp\u001b[0m\u001b[0;34m.\u001b[0m\u001b[0msqrt\u001b[0m\u001b[0;34m(\u001b[0m\u001b[0mX_sqr\u001b[0m \u001b[0;34m-\u001b[0m \u001b[0;36m2\u001b[0m \u001b[0;34m*\u001b[0m \u001b[0mnp\u001b[0m\u001b[0;34m.\u001b[0m\u001b[0mdot\u001b[0m\u001b[0;34m(\u001b[0m\u001b[0mX\u001b[0m\u001b[0;34m,\u001b[0m \u001b[0mY\u001b[0m\u001b[0;34m.\u001b[0m\u001b[0mT\u001b[0m\u001b[0;34m)\u001b[0m \u001b[0;34m+\u001b[0m \u001b[0mY_sqr\u001b[0m\u001b[0;34m)\u001b[0m\u001b[0;34m\u001b[0m\u001b[0;34m\u001b[0m\u001b[0m\n\u001b[0m\u001b[1;32m     17\u001b[0m \u001b[0;34m\u001b[0m\u001b[0m\n\u001b[1;32m     18\u001b[0m \u001b[0;34m\u001b[0m\u001b[0m\n",
      "\u001b[0;31mKeyboardInterrupt\u001b[0m: "
     ]
    }
   ],
   "source": [
    "from sklearn.neighbors import NearestNeighbors\n",
    "from nearest_neighbors import KNNClassifier\n",
    "from cross_validation import *\n",
    "import numpy as np\n",
    "from distances import euclidean_distance, cosine_distance\n",
    "from tqdm import tqdm\n",
    "import time\n",
    "import pandas as pd\n",
    "\n",
    "\n",
    "n_folds = 3\n",
    "k_list = [k for k in range(1, 11)]\n",
    "metric_list = ['euclidean', 'cosine']\n",
    "strategy_list = ['my_own', 'brute', 'kd_tree', 'ball_tree']\n",
    "weight_list = [False, True]\n",
    "\n",
    "experiment3_results = pd.DataFrame(columns=['k_neighbors',\n",
    "                                            'metric',\n",
    "                                            'strategy',\n",
    "                                            'weights',\n",
    "                                            'accuracy',\n",
    "                                            'elapsed_time']\n",
    "                                  )\n",
    "\n",
    "for weight in tqdm(weight_list):\n",
    "    for metric in tqdm(metric_list):\n",
    "        for strategy in tqdm(strategy_list):\n",
    "            start = time.time()\n",
    "            preds_dict = knn_cross_val_score(train_data['data'],\n",
    "                                             train_data['target'],\n",
    "                                             k_list=k_list,\n",
    "                                             score='accuracy',\n",
    "                                             k=k_list[-1],\n",
    "                                             strategy=strategy,\n",
    "                                             metric=metric,\n",
    "                                             weights=weight\n",
    "                                            )\n",
    "            time_elapsed = time.time() - start\n",
    "            for k in k_list:\n",
    "                experiment3_results = \\\n",
    "                    experiment3_results.append({'k_neighbors': k,\n",
    "                                                'metric': metric,\n",
    "                                                'strategy': strategy,\n",
    "                                                'weights': weight,\n",
    "                                                'accuracy': preds_dict[k],\n",
    "                                                'elapsed_time': time_elapsed},\n",
    "                                                ignore_index=True\n",
    "                                              )\n",
    "            \n"
   ]
  },
  {
   "cell_type": "code",
   "execution_count": 55,
   "metadata": {},
   "outputs": [],
   "source": [
    "experiment3_results['mean_accuracy'] = experiment3_results['accuracy'].map(np.mean)"
   ]
  },
  {
   "cell_type": "code",
   "execution_count": null,
   "metadata": {},
   "outputs": [],
   "source": [
    "experiment3_results.to_csv('experiment3_results.csv')"
   ]
  },
  {
   "cell_type": "markdown",
   "metadata": {},
   "source": [
    "## Best algorithm params by accuracy:"
   ]
  },
  {
   "cell_type": "code",
   "execution_count": 437,
   "metadata": {},
   "outputs": [],
   "source": [
    "def from_str_to_numpy(x):\n",
    "    return np.fromstring(x[1:-1], sep=' ')"
   ]
  },
  {
   "cell_type": "code",
   "execution_count": 438,
   "metadata": {},
   "outputs": [
    {
     "name": "stderr",
     "output_type": "stream",
     "text": [
      "/home/paniquex/anaconda3/envs/kaggle/lib/python3.7/site-packages/numpy/core/fromnumeric.py:3118: RuntimeWarning: Mean of empty slice.\n",
      "  out=out, **kwargs)\n",
      "/home/paniquex/anaconda3/envs/kaggle/lib/python3.7/site-packages/numpy/core/_methods.py:85: RuntimeWarning: invalid value encountered in double_scalars\n",
      "  ret = ret.dtype.type(ret / rcount)\n"
     ]
    }
   ],
   "source": [
    "experiment3_results = pd.read_csv('experiment3_results.csv', index_col=[0])\n",
    "experiment3_results['accuracy'] = experiment3_results['accuracy'].map(from_str_to_numpy)\n",
    "experiment3_results['mean_accuracy'] = experiment3_results['accuracy'].map(np.mean)"
   ]
  },
  {
   "cell_type": "code",
   "execution_count": 446,
   "metadata": {},
   "outputs": [
    {
     "data": {
      "text/html": [
       "<div>\n",
       "<style scoped>\n",
       "    .dataframe tbody tr th:only-of-type {\n",
       "        vertical-align: middle;\n",
       "    }\n",
       "\n",
       "    .dataframe tbody tr th {\n",
       "        vertical-align: top;\n",
       "    }\n",
       "\n",
       "    .dataframe thead th {\n",
       "        text-align: right;\n",
       "    }\n",
       "</style>\n",
       "<table border=\"1\" class=\"dataframe\">\n",
       "  <thead>\n",
       "    <tr style=\"text-align: right;\">\n",
       "      <th></th>\n",
       "      <th>k_neighbors</th>\n",
       "      <th>metric</th>\n",
       "      <th>strategy</th>\n",
       "      <th>accuracy</th>\n",
       "      <th>elapsed_time</th>\n",
       "      <th>weight</th>\n",
       "      <th>mean_accuracy</th>\n",
       "    </tr>\n",
       "  </thead>\n",
       "  <tbody>\n",
       "    <tr>\n",
       "      <th>123</th>\n",
       "      <td>4</td>\n",
       "      <td>cosine</td>\n",
       "      <td>my_own</td>\n",
       "      <td>[97.545, 97.32, 97.365]</td>\n",
       "      <td>383.72798466682434</td>\n",
       "      <td>1.0</td>\n",
       "      <td>97.410000</td>\n",
       "    </tr>\n",
       "    <tr>\n",
       "      <th>133</th>\n",
       "      <td>4</td>\n",
       "      <td>cosine</td>\n",
       "      <td>brute</td>\n",
       "      <td>[97.545, 97.32, 97.365]</td>\n",
       "      <td>121.79407954216003</td>\n",
       "      <td>1.0</td>\n",
       "      <td>97.410000</td>\n",
       "    </tr>\n",
       "    <tr>\n",
       "      <th>122</th>\n",
       "      <td>3</td>\n",
       "      <td>cosine</td>\n",
       "      <td>my_own</td>\n",
       "      <td>[97.495, 97.25, 97.175]</td>\n",
       "      <td>383.72798466682434</td>\n",
       "      <td>1.0</td>\n",
       "      <td>97.306667</td>\n",
       "    </tr>\n",
       "    <tr>\n",
       "      <th>132</th>\n",
       "      <td>3</td>\n",
       "      <td>cosine</td>\n",
       "      <td>brute</td>\n",
       "      <td>[97.495, 97.25, 97.175]</td>\n",
       "      <td>121.79407954216003</td>\n",
       "      <td>1.0</td>\n",
       "      <td>97.306667</td>\n",
       "    </tr>\n",
       "    <tr>\n",
       "      <th>135</th>\n",
       "      <td>6</td>\n",
       "      <td>cosine</td>\n",
       "      <td>brute</td>\n",
       "      <td>[97.465, 97.14, 97.305]</td>\n",
       "      <td>121.79407954216003</td>\n",
       "      <td>1.0</td>\n",
       "      <td>97.303333</td>\n",
       "    </tr>\n",
       "    <tr>\n",
       "      <th>125</th>\n",
       "      <td>6</td>\n",
       "      <td>cosine</td>\n",
       "      <td>my_own</td>\n",
       "      <td>[97.465, 97.14, 97.305]</td>\n",
       "      <td>383.72798466682434</td>\n",
       "      <td>1.0</td>\n",
       "      <td>97.303333</td>\n",
       "    </tr>\n",
       "    <tr>\n",
       "      <th>124</th>\n",
       "      <td>5</td>\n",
       "      <td>cosine</td>\n",
       "      <td>my_own</td>\n",
       "      <td>[97.4, 97.095, 97.3]</td>\n",
       "      <td>383.72798466682434</td>\n",
       "      <td>1.0</td>\n",
       "      <td>97.265000</td>\n",
       "    </tr>\n",
       "    <tr>\n",
       "      <th>134</th>\n",
       "      <td>5</td>\n",
       "      <td>cosine</td>\n",
       "      <td>brute</td>\n",
       "      <td>[97.4, 97.095, 97.3]</td>\n",
       "      <td>121.79407954216003</td>\n",
       "      <td>1.0</td>\n",
       "      <td>97.265000</td>\n",
       "    </tr>\n",
       "    <tr>\n",
       "      <th>52</th>\n",
       "      <td>3</td>\n",
       "      <td>cosine</td>\n",
       "      <td>brute</td>\n",
       "      <td>[97.365, 97.155, 97.09]</td>\n",
       "      <td>100.94415020942688</td>\n",
       "      <td>0.0</td>\n",
       "      <td>97.203333</td>\n",
       "    </tr>\n",
       "    <tr>\n",
       "      <th>42</th>\n",
       "      <td>3</td>\n",
       "      <td>cosine</td>\n",
       "      <td>my_own</td>\n",
       "      <td>[97.365, 97.155, 97.09]</td>\n",
       "      <td>362.1982855796814</td>\n",
       "      <td>0.0</td>\n",
       "      <td>97.203333</td>\n",
       "    </tr>\n",
       "    <tr>\n",
       "      <th>53</th>\n",
       "      <td>4</td>\n",
       "      <td>cosine</td>\n",
       "      <td>brute</td>\n",
       "      <td>[97.25, 97.095, 97.22]</td>\n",
       "      <td>100.94415020942688</td>\n",
       "      <td>0.0</td>\n",
       "      <td>97.188333</td>\n",
       "    </tr>\n",
       "    <tr>\n",
       "      <th>43</th>\n",
       "      <td>4</td>\n",
       "      <td>cosine</td>\n",
       "      <td>my_own</td>\n",
       "      <td>[97.25, 97.095, 97.22]</td>\n",
       "      <td>362.1982855796814</td>\n",
       "      <td>0.0</td>\n",
       "      <td>97.188333</td>\n",
       "    </tr>\n",
       "    <tr>\n",
       "      <th>127</th>\n",
       "      <td>8</td>\n",
       "      <td>cosine</td>\n",
       "      <td>my_own</td>\n",
       "      <td>[97.295, 97.045, 97.22]</td>\n",
       "      <td>383.72798466682434</td>\n",
       "      <td>1.0</td>\n",
       "      <td>97.186667</td>\n",
       "    </tr>\n",
       "    <tr>\n",
       "      <th>137</th>\n",
       "      <td>8</td>\n",
       "      <td>cosine</td>\n",
       "      <td>brute</td>\n",
       "      <td>[97.295, 97.045, 97.22]</td>\n",
       "      <td>121.79407954216003</td>\n",
       "      <td>1.0</td>\n",
       "      <td>97.186667</td>\n",
       "    </tr>\n",
       "    <tr>\n",
       "      <th>121</th>\n",
       "      <td>2</td>\n",
       "      <td>cosine</td>\n",
       "      <td>my_own</td>\n",
       "      <td>[97.33, 97.08, 97.045]</td>\n",
       "      <td>383.72798466682434</td>\n",
       "      <td>1.0</td>\n",
       "      <td>97.151667</td>\n",
       "    </tr>\n",
       "    <tr>\n",
       "      <th>40</th>\n",
       "      <td>1</td>\n",
       "      <td>cosine</td>\n",
       "      <td>my_own</td>\n",
       "      <td>[97.33, 97.08, 97.045]</td>\n",
       "      <td>362.1982855796814</td>\n",
       "      <td>0.0</td>\n",
       "      <td>97.151667</td>\n",
       "    </tr>\n",
       "    <tr>\n",
       "      <th>50</th>\n",
       "      <td>1</td>\n",
       "      <td>cosine</td>\n",
       "      <td>brute</td>\n",
       "      <td>[97.33, 97.08, 97.045]</td>\n",
       "      <td>100.94415020942688</td>\n",
       "      <td>0.0</td>\n",
       "      <td>97.151667</td>\n",
       "    </tr>\n",
       "    <tr>\n",
       "      <th>130</th>\n",
       "      <td>1</td>\n",
       "      <td>cosine</td>\n",
       "      <td>brute</td>\n",
       "      <td>[97.33, 97.08, 97.045]</td>\n",
       "      <td>121.79407954216003</td>\n",
       "      <td>1.0</td>\n",
       "      <td>97.151667</td>\n",
       "    </tr>\n",
       "    <tr>\n",
       "      <th>131</th>\n",
       "      <td>2</td>\n",
       "      <td>cosine</td>\n",
       "      <td>brute</td>\n",
       "      <td>[97.33, 97.08, 97.045]</td>\n",
       "      <td>121.79407954216003</td>\n",
       "      <td>1.0</td>\n",
       "      <td>97.151667</td>\n",
       "    </tr>\n",
       "    <tr>\n",
       "      <th>120</th>\n",
       "      <td>1</td>\n",
       "      <td>cosine</td>\n",
       "      <td>my_own</td>\n",
       "      <td>[97.33, 97.08, 97.045]</td>\n",
       "      <td>383.72798466682434</td>\n",
       "      <td>1.0</td>\n",
       "      <td>97.151667</td>\n",
       "    </tr>\n",
       "    <tr>\n",
       "      <th>44</th>\n",
       "      <td>5</td>\n",
       "      <td>cosine</td>\n",
       "      <td>my_own</td>\n",
       "      <td>[97.275, 97.015, 97.16]</td>\n",
       "      <td>362.1982855796814</td>\n",
       "      <td>0.0</td>\n",
       "      <td>97.150000</td>\n",
       "    </tr>\n",
       "    <tr>\n",
       "      <th>54</th>\n",
       "      <td>5</td>\n",
       "      <td>cosine</td>\n",
       "      <td>brute</td>\n",
       "      <td>[97.275, 97.015, 97.16]</td>\n",
       "      <td>100.94415020942688</td>\n",
       "      <td>0.0</td>\n",
       "      <td>97.150000</td>\n",
       "    </tr>\n",
       "    <tr>\n",
       "      <th>126</th>\n",
       "      <td>7</td>\n",
       "      <td>cosine</td>\n",
       "      <td>my_own</td>\n",
       "      <td>[97.26, 96.93, 97.195]</td>\n",
       "      <td>383.72798466682434</td>\n",
       "      <td>1.0</td>\n",
       "      <td>97.128333</td>\n",
       "    </tr>\n",
       "    <tr>\n",
       "      <th>136</th>\n",
       "      <td>7</td>\n",
       "      <td>cosine</td>\n",
       "      <td>brute</td>\n",
       "      <td>[97.26, 96.93, 97.195]</td>\n",
       "      <td>121.79407954216003</td>\n",
       "      <td>1.0</td>\n",
       "      <td>97.128333</td>\n",
       "    </tr>\n",
       "    <tr>\n",
       "      <th>55</th>\n",
       "      <td>6</td>\n",
       "      <td>cosine</td>\n",
       "      <td>brute</td>\n",
       "      <td>[97.195, 96.97, 97.215]</td>\n",
       "      <td>100.94415020942688</td>\n",
       "      <td>0.0</td>\n",
       "      <td>97.126667</td>\n",
       "    </tr>\n",
       "    <tr>\n",
       "      <th>45</th>\n",
       "      <td>6</td>\n",
       "      <td>cosine</td>\n",
       "      <td>my_own</td>\n",
       "      <td>[97.195, 96.97, 97.215]</td>\n",
       "      <td>362.1982855796814</td>\n",
       "      <td>0.0</td>\n",
       "      <td>97.126667</td>\n",
       "    </tr>\n",
       "    <tr>\n",
       "      <th>128</th>\n",
       "      <td>9</td>\n",
       "      <td>cosine</td>\n",
       "      <td>my_own</td>\n",
       "      <td>[97.165, 96.865, 97.145]</td>\n",
       "      <td>383.72798466682434</td>\n",
       "      <td>1.0</td>\n",
       "      <td>97.058333</td>\n",
       "    </tr>\n",
       "    <tr>\n",
       "      <th>138</th>\n",
       "      <td>9</td>\n",
       "      <td>cosine</td>\n",
       "      <td>brute</td>\n",
       "      <td>[97.165, 96.865, 97.145]</td>\n",
       "      <td>121.79407954216003</td>\n",
       "      <td>1.0</td>\n",
       "      <td>97.058333</td>\n",
       "    </tr>\n",
       "    <tr>\n",
       "      <th>129</th>\n",
       "      <td>10</td>\n",
       "      <td>cosine</td>\n",
       "      <td>my_own</td>\n",
       "      <td>[97.145, 96.855, 97.14]</td>\n",
       "      <td>383.72798466682434</td>\n",
       "      <td>1.0</td>\n",
       "      <td>97.046667</td>\n",
       "    </tr>\n",
       "    <tr>\n",
       "      <th>139</th>\n",
       "      <td>10</td>\n",
       "      <td>cosine</td>\n",
       "      <td>brute</td>\n",
       "      <td>[97.145, 96.855, 97.14]</td>\n",
       "      <td>121.79407954216003</td>\n",
       "      <td>1.0</td>\n",
       "      <td>97.046667</td>\n",
       "    </tr>\n",
       "    <tr>\n",
       "      <th>...</th>\n",
       "      <td>...</td>\n",
       "      <td>...</td>\n",
       "      <td>...</td>\n",
       "      <td>...</td>\n",
       "      <td>...</td>\n",
       "      <td>...</td>\n",
       "      <td>...</td>\n",
       "    </tr>\n",
       "    <tr>\n",
       "      <th>159</th>\n",
       "      <td>10</td>\n",
       "      <td>cosine</td>\n",
       "      <td>ball_tree</td>\n",
       "      <td>[96.47, 96.465, 96.57]</td>\n",
       "      <td>1583.6353254318237</td>\n",
       "      <td>1.0</td>\n",
       "      <td>96.501667</td>\n",
       "    </tr>\n",
       "    <tr>\n",
       "      <th>99</th>\n",
       "      <td>10</td>\n",
       "      <td>euclidean</td>\n",
       "      <td>brute</td>\n",
       "      <td>[96.47, 96.465, 96.57]</td>\n",
       "      <td>124.49189066886902</td>\n",
       "      <td>1.0</td>\n",
       "      <td>96.501667</td>\n",
       "    </tr>\n",
       "    <tr>\n",
       "      <th>89</th>\n",
       "      <td>10</td>\n",
       "      <td>euclidean</td>\n",
       "      <td>my_own</td>\n",
       "      <td>[96.47, 96.465, 96.57]</td>\n",
       "      <td>383.54940009117126</td>\n",
       "      <td>1.0</td>\n",
       "      <td>96.501667</td>\n",
       "    </tr>\n",
       "    <tr>\n",
       "      <th>109</th>\n",
       "      <td>10</td>\n",
       "      <td>euclidean</td>\n",
       "      <td>kd_tree</td>\n",
       "      <td>[96.47, 96.465, 96.57]</td>\n",
       "      <td>2158.996821641922</td>\n",
       "      <td>1.0</td>\n",
       "      <td>96.501667</td>\n",
       "    </tr>\n",
       "    <tr>\n",
       "      <th>119</th>\n",
       "      <td>10</td>\n",
       "      <td>euclidean</td>\n",
       "      <td>ball_tree</td>\n",
       "      <td>[96.47, 96.465, 96.57]</td>\n",
       "      <td>1576.697993516922</td>\n",
       "      <td>1.0</td>\n",
       "      <td>96.501667</td>\n",
       "    </tr>\n",
       "    <tr>\n",
       "      <th>27</th>\n",
       "      <td>8</td>\n",
       "      <td>euclidean</td>\n",
       "      <td>kd_tree</td>\n",
       "      <td>[96.415, 96.39, 96.525]</td>\n",
       "      <td>2145.9664273262024</td>\n",
       "      <td>0.0</td>\n",
       "      <td>96.443333</td>\n",
       "    </tr>\n",
       "    <tr>\n",
       "      <th>17</th>\n",
       "      <td>8</td>\n",
       "      <td>euclidean</td>\n",
       "      <td>brute</td>\n",
       "      <td>[96.415, 96.39, 96.525]</td>\n",
       "      <td>102.98189878463745</td>\n",
       "      <td>0.0</td>\n",
       "      <td>96.443333</td>\n",
       "    </tr>\n",
       "    <tr>\n",
       "      <th>77</th>\n",
       "      <td>8</td>\n",
       "      <td>cosine</td>\n",
       "      <td>ball_tree</td>\n",
       "      <td>[96.415, 96.39, 96.525]</td>\n",
       "      <td>1558.0130846500397</td>\n",
       "      <td>0.0</td>\n",
       "      <td>96.443333</td>\n",
       "    </tr>\n",
       "    <tr>\n",
       "      <th>7</th>\n",
       "      <td>8</td>\n",
       "      <td>euclidean</td>\n",
       "      <td>my_own</td>\n",
       "      <td>[96.415, 96.39, 96.525]</td>\n",
       "      <td>363.78962564468384</td>\n",
       "      <td>0.0</td>\n",
       "      <td>96.443333</td>\n",
       "    </tr>\n",
       "    <tr>\n",
       "      <th>67</th>\n",
       "      <td>8</td>\n",
       "      <td>cosine</td>\n",
       "      <td>kd_tree</td>\n",
       "      <td>[96.415, 96.39, 96.525]</td>\n",
       "      <td>2137.540379524231</td>\n",
       "      <td>0.0</td>\n",
       "      <td>96.443333</td>\n",
       "    </tr>\n",
       "    <tr>\n",
       "      <th>37</th>\n",
       "      <td>8</td>\n",
       "      <td>euclidean</td>\n",
       "      <td>ball_tree</td>\n",
       "      <td>[96.415, 96.39, 96.525]</td>\n",
       "      <td>1566.53280711174</td>\n",
       "      <td>0.0</td>\n",
       "      <td>96.443333</td>\n",
       "    </tr>\n",
       "    <tr>\n",
       "      <th>28</th>\n",
       "      <td>9</td>\n",
       "      <td>euclidean</td>\n",
       "      <td>kd_tree</td>\n",
       "      <td>[96.37, 96.32, 96.455]</td>\n",
       "      <td>2145.9664273262024</td>\n",
       "      <td>0.0</td>\n",
       "      <td>96.381667</td>\n",
       "    </tr>\n",
       "    <tr>\n",
       "      <th>78</th>\n",
       "      <td>9</td>\n",
       "      <td>cosine</td>\n",
       "      <td>ball_tree</td>\n",
       "      <td>[96.37, 96.32, 96.455]</td>\n",
       "      <td>1558.0130846500397</td>\n",
       "      <td>0.0</td>\n",
       "      <td>96.381667</td>\n",
       "    </tr>\n",
       "    <tr>\n",
       "      <th>8</th>\n",
       "      <td>9</td>\n",
       "      <td>euclidean</td>\n",
       "      <td>my_own</td>\n",
       "      <td>[96.37, 96.32, 96.455]</td>\n",
       "      <td>363.78962564468384</td>\n",
       "      <td>0.0</td>\n",
       "      <td>96.381667</td>\n",
       "    </tr>\n",
       "    <tr>\n",
       "      <th>68</th>\n",
       "      <td>9</td>\n",
       "      <td>cosine</td>\n",
       "      <td>kd_tree</td>\n",
       "      <td>[96.37, 96.32, 96.455]</td>\n",
       "      <td>2137.540379524231</td>\n",
       "      <td>0.0</td>\n",
       "      <td>96.381667</td>\n",
       "    </tr>\n",
       "    <tr>\n",
       "      <th>38</th>\n",
       "      <td>9</td>\n",
       "      <td>euclidean</td>\n",
       "      <td>ball_tree</td>\n",
       "      <td>[96.37, 96.32, 96.455]</td>\n",
       "      <td>1566.53280711174</td>\n",
       "      <td>0.0</td>\n",
       "      <td>96.381667</td>\n",
       "    </tr>\n",
       "    <tr>\n",
       "      <th>18</th>\n",
       "      <td>9</td>\n",
       "      <td>euclidean</td>\n",
       "      <td>brute</td>\n",
       "      <td>[96.37, 96.32, 96.455]</td>\n",
       "      <td>102.98189878463745</td>\n",
       "      <td>0.0</td>\n",
       "      <td>96.381667</td>\n",
       "    </tr>\n",
       "    <tr>\n",
       "      <th>69</th>\n",
       "      <td>10</td>\n",
       "      <td>cosine</td>\n",
       "      <td>kd_tree</td>\n",
       "      <td>[96.245, 96.22, 96.37]</td>\n",
       "      <td>2137.540379524231</td>\n",
       "      <td>0.0</td>\n",
       "      <td>96.278333</td>\n",
       "    </tr>\n",
       "    <tr>\n",
       "      <th>19</th>\n",
       "      <td>10</td>\n",
       "      <td>euclidean</td>\n",
       "      <td>brute</td>\n",
       "      <td>[96.245, 96.22, 96.37]</td>\n",
       "      <td>102.98189878463745</td>\n",
       "      <td>0.0</td>\n",
       "      <td>96.278333</td>\n",
       "    </tr>\n",
       "    <tr>\n",
       "      <th>39</th>\n",
       "      <td>10</td>\n",
       "      <td>euclidean</td>\n",
       "      <td>ball_tree</td>\n",
       "      <td>[96.245, 96.22, 96.37]</td>\n",
       "      <td>1566.53280711174</td>\n",
       "      <td>0.0</td>\n",
       "      <td>96.278333</td>\n",
       "    </tr>\n",
       "    <tr>\n",
       "      <th>29</th>\n",
       "      <td>10</td>\n",
       "      <td>euclidean</td>\n",
       "      <td>kd_tree</td>\n",
       "      <td>[96.245, 96.22, 96.37]</td>\n",
       "      <td>2145.9664273262024</td>\n",
       "      <td>0.0</td>\n",
       "      <td>96.278333</td>\n",
       "    </tr>\n",
       "    <tr>\n",
       "      <th>79</th>\n",
       "      <td>10</td>\n",
       "      <td>cosine</td>\n",
       "      <td>ball_tree</td>\n",
       "      <td>[96.245, 96.22, 96.37]</td>\n",
       "      <td>1558.0130846500397</td>\n",
       "      <td>0.0</td>\n",
       "      <td>96.278333</td>\n",
       "    </tr>\n",
       "    <tr>\n",
       "      <th>9</th>\n",
       "      <td>10</td>\n",
       "      <td>euclidean</td>\n",
       "      <td>my_own</td>\n",
       "      <td>[96.245, 96.22, 96.37]</td>\n",
       "      <td>363.78962564468384</td>\n",
       "      <td>0.0</td>\n",
       "      <td>96.278333</td>\n",
       "    </tr>\n",
       "    <tr>\n",
       "      <th>11</th>\n",
       "      <td>2</td>\n",
       "      <td>euclidean</td>\n",
       "      <td>brute</td>\n",
       "      <td>[96.03, 95.995, 96.125]</td>\n",
       "      <td>102.98189878463745</td>\n",
       "      <td>0.0</td>\n",
       "      <td>96.050000</td>\n",
       "    </tr>\n",
       "    <tr>\n",
       "      <th>21</th>\n",
       "      <td>2</td>\n",
       "      <td>euclidean</td>\n",
       "      <td>kd_tree</td>\n",
       "      <td>[96.03, 95.995, 96.125]</td>\n",
       "      <td>2145.9664273262024</td>\n",
       "      <td>0.0</td>\n",
       "      <td>96.050000</td>\n",
       "    </tr>\n",
       "    <tr>\n",
       "      <th>71</th>\n",
       "      <td>2</td>\n",
       "      <td>cosine</td>\n",
       "      <td>ball_tree</td>\n",
       "      <td>[96.03, 95.995, 96.125]</td>\n",
       "      <td>1558.0130846500397</td>\n",
       "      <td>0.0</td>\n",
       "      <td>96.050000</td>\n",
       "    </tr>\n",
       "    <tr>\n",
       "      <th>31</th>\n",
       "      <td>2</td>\n",
       "      <td>euclidean</td>\n",
       "      <td>ball_tree</td>\n",
       "      <td>[96.03, 95.995, 96.125]</td>\n",
       "      <td>1566.53280711174</td>\n",
       "      <td>0.0</td>\n",
       "      <td>96.050000</td>\n",
       "    </tr>\n",
       "    <tr>\n",
       "      <th>61</th>\n",
       "      <td>2</td>\n",
       "      <td>cosine</td>\n",
       "      <td>kd_tree</td>\n",
       "      <td>[96.03, 95.995, 96.125]</td>\n",
       "      <td>2137.540379524231</td>\n",
       "      <td>0.0</td>\n",
       "      <td>96.050000</td>\n",
       "    </tr>\n",
       "    <tr>\n",
       "      <th>1</th>\n",
       "      <td>2</td>\n",
       "      <td>euclidean</td>\n",
       "      <td>my_own</td>\n",
       "      <td>[96.03, 95.995, 96.125]</td>\n",
       "      <td>363.78962564468384</td>\n",
       "      <td>0.0</td>\n",
       "      <td>96.050000</td>\n",
       "    </tr>\n",
       "    <tr>\n",
       "      <th>weights</th>\n",
       "      <td>False</td>\n",
       "      <td>False</td>\n",
       "      <td>False</td>\n",
       "      <td>[]</td>\n",
       "      <td>False</td>\n",
       "      <td>False</td>\n",
       "      <td>NaN</td>\n",
       "    </tr>\n",
       "  </tbody>\n",
       "</table>\n",
       "<p>161 rows × 7 columns</p>\n",
       "</div>"
      ],
      "text/plain": [
       "        k_neighbors     metric   strategy                  accuracy  \\\n",
       "123               4     cosine     my_own   [97.545, 97.32, 97.365]   \n",
       "133               4     cosine      brute   [97.545, 97.32, 97.365]   \n",
       "122               3     cosine     my_own   [97.495, 97.25, 97.175]   \n",
       "132               3     cosine      brute   [97.495, 97.25, 97.175]   \n",
       "135               6     cosine      brute   [97.465, 97.14, 97.305]   \n",
       "125               6     cosine     my_own   [97.465, 97.14, 97.305]   \n",
       "124               5     cosine     my_own      [97.4, 97.095, 97.3]   \n",
       "134               5     cosine      brute      [97.4, 97.095, 97.3]   \n",
       "52                3     cosine      brute   [97.365, 97.155, 97.09]   \n",
       "42                3     cosine     my_own   [97.365, 97.155, 97.09]   \n",
       "53                4     cosine      brute    [97.25, 97.095, 97.22]   \n",
       "43                4     cosine     my_own    [97.25, 97.095, 97.22]   \n",
       "127               8     cosine     my_own   [97.295, 97.045, 97.22]   \n",
       "137               8     cosine      brute   [97.295, 97.045, 97.22]   \n",
       "121               2     cosine     my_own    [97.33, 97.08, 97.045]   \n",
       "40                1     cosine     my_own    [97.33, 97.08, 97.045]   \n",
       "50                1     cosine      brute    [97.33, 97.08, 97.045]   \n",
       "130               1     cosine      brute    [97.33, 97.08, 97.045]   \n",
       "131               2     cosine      brute    [97.33, 97.08, 97.045]   \n",
       "120               1     cosine     my_own    [97.33, 97.08, 97.045]   \n",
       "44                5     cosine     my_own   [97.275, 97.015, 97.16]   \n",
       "54                5     cosine      brute   [97.275, 97.015, 97.16]   \n",
       "126               7     cosine     my_own    [97.26, 96.93, 97.195]   \n",
       "136               7     cosine      brute    [97.26, 96.93, 97.195]   \n",
       "55                6     cosine      brute   [97.195, 96.97, 97.215]   \n",
       "45                6     cosine     my_own   [97.195, 96.97, 97.215]   \n",
       "128               9     cosine     my_own  [97.165, 96.865, 97.145]   \n",
       "138               9     cosine      brute  [97.165, 96.865, 97.145]   \n",
       "129              10     cosine     my_own   [97.145, 96.855, 97.14]   \n",
       "139              10     cosine      brute   [97.145, 96.855, 97.14]   \n",
       "...             ...        ...        ...                       ...   \n",
       "159              10     cosine  ball_tree    [96.47, 96.465, 96.57]   \n",
       "99               10  euclidean      brute    [96.47, 96.465, 96.57]   \n",
       "89               10  euclidean     my_own    [96.47, 96.465, 96.57]   \n",
       "109              10  euclidean    kd_tree    [96.47, 96.465, 96.57]   \n",
       "119              10  euclidean  ball_tree    [96.47, 96.465, 96.57]   \n",
       "27                8  euclidean    kd_tree   [96.415, 96.39, 96.525]   \n",
       "17                8  euclidean      brute   [96.415, 96.39, 96.525]   \n",
       "77                8     cosine  ball_tree   [96.415, 96.39, 96.525]   \n",
       "7                 8  euclidean     my_own   [96.415, 96.39, 96.525]   \n",
       "67                8     cosine    kd_tree   [96.415, 96.39, 96.525]   \n",
       "37                8  euclidean  ball_tree   [96.415, 96.39, 96.525]   \n",
       "28                9  euclidean    kd_tree    [96.37, 96.32, 96.455]   \n",
       "78                9     cosine  ball_tree    [96.37, 96.32, 96.455]   \n",
       "8                 9  euclidean     my_own    [96.37, 96.32, 96.455]   \n",
       "68                9     cosine    kd_tree    [96.37, 96.32, 96.455]   \n",
       "38                9  euclidean  ball_tree    [96.37, 96.32, 96.455]   \n",
       "18                9  euclidean      brute    [96.37, 96.32, 96.455]   \n",
       "69               10     cosine    kd_tree    [96.245, 96.22, 96.37]   \n",
       "19               10  euclidean      brute    [96.245, 96.22, 96.37]   \n",
       "39               10  euclidean  ball_tree    [96.245, 96.22, 96.37]   \n",
       "29               10  euclidean    kd_tree    [96.245, 96.22, 96.37]   \n",
       "79               10     cosine  ball_tree    [96.245, 96.22, 96.37]   \n",
       "9                10  euclidean     my_own    [96.245, 96.22, 96.37]   \n",
       "11                2  euclidean      brute   [96.03, 95.995, 96.125]   \n",
       "21                2  euclidean    kd_tree   [96.03, 95.995, 96.125]   \n",
       "71                2     cosine  ball_tree   [96.03, 95.995, 96.125]   \n",
       "31                2  euclidean  ball_tree   [96.03, 95.995, 96.125]   \n",
       "61                2     cosine    kd_tree   [96.03, 95.995, 96.125]   \n",
       "1                 2  euclidean     my_own   [96.03, 95.995, 96.125]   \n",
       "weights       False      False      False                        []   \n",
       "\n",
       "               elapsed_time weight  mean_accuracy  \n",
       "123      383.72798466682434    1.0      97.410000  \n",
       "133      121.79407954216003    1.0      97.410000  \n",
       "122      383.72798466682434    1.0      97.306667  \n",
       "132      121.79407954216003    1.0      97.306667  \n",
       "135      121.79407954216003    1.0      97.303333  \n",
       "125      383.72798466682434    1.0      97.303333  \n",
       "124      383.72798466682434    1.0      97.265000  \n",
       "134      121.79407954216003    1.0      97.265000  \n",
       "52       100.94415020942688    0.0      97.203333  \n",
       "42        362.1982855796814    0.0      97.203333  \n",
       "53       100.94415020942688    0.0      97.188333  \n",
       "43        362.1982855796814    0.0      97.188333  \n",
       "127      383.72798466682434    1.0      97.186667  \n",
       "137      121.79407954216003    1.0      97.186667  \n",
       "121      383.72798466682434    1.0      97.151667  \n",
       "40        362.1982855796814    0.0      97.151667  \n",
       "50       100.94415020942688    0.0      97.151667  \n",
       "130      121.79407954216003    1.0      97.151667  \n",
       "131      121.79407954216003    1.0      97.151667  \n",
       "120      383.72798466682434    1.0      97.151667  \n",
       "44        362.1982855796814    0.0      97.150000  \n",
       "54       100.94415020942688    0.0      97.150000  \n",
       "126      383.72798466682434    1.0      97.128333  \n",
       "136      121.79407954216003    1.0      97.128333  \n",
       "55       100.94415020942688    0.0      97.126667  \n",
       "45        362.1982855796814    0.0      97.126667  \n",
       "128      383.72798466682434    1.0      97.058333  \n",
       "138      121.79407954216003    1.0      97.058333  \n",
       "129      383.72798466682434    1.0      97.046667  \n",
       "139      121.79407954216003    1.0      97.046667  \n",
       "...                     ...    ...            ...  \n",
       "159      1583.6353254318237    1.0      96.501667  \n",
       "99       124.49189066886902    1.0      96.501667  \n",
       "89       383.54940009117126    1.0      96.501667  \n",
       "109       2158.996821641922    1.0      96.501667  \n",
       "119       1576.697993516922    1.0      96.501667  \n",
       "27       2145.9664273262024    0.0      96.443333  \n",
       "17       102.98189878463745    0.0      96.443333  \n",
       "77       1558.0130846500397    0.0      96.443333  \n",
       "7        363.78962564468384    0.0      96.443333  \n",
       "67        2137.540379524231    0.0      96.443333  \n",
       "37         1566.53280711174    0.0      96.443333  \n",
       "28       2145.9664273262024    0.0      96.381667  \n",
       "78       1558.0130846500397    0.0      96.381667  \n",
       "8        363.78962564468384    0.0      96.381667  \n",
       "68        2137.540379524231    0.0      96.381667  \n",
       "38         1566.53280711174    0.0      96.381667  \n",
       "18       102.98189878463745    0.0      96.381667  \n",
       "69        2137.540379524231    0.0      96.278333  \n",
       "19       102.98189878463745    0.0      96.278333  \n",
       "39         1566.53280711174    0.0      96.278333  \n",
       "29       2145.9664273262024    0.0      96.278333  \n",
       "79       1558.0130846500397    0.0      96.278333  \n",
       "9        363.78962564468384    0.0      96.278333  \n",
       "11       102.98189878463745    0.0      96.050000  \n",
       "21       2145.9664273262024    0.0      96.050000  \n",
       "71       1558.0130846500397    0.0      96.050000  \n",
       "31         1566.53280711174    0.0      96.050000  \n",
       "61        2137.540379524231    0.0      96.050000  \n",
       "1        363.78962564468384    0.0      96.050000  \n",
       "weights               False  False            NaN  \n",
       "\n",
       "[161 rows x 7 columns]"
      ]
     },
     "execution_count": 446,
     "metadata": {},
     "output_type": "execute_result"
    }
   ],
   "source": [
    "experiment3_results.sort_values(by='mean_accuracy', ascending=False)"
   ]
  },
  {
   "cell_type": "code",
   "execution_count": 453,
   "metadata": {},
   "outputs": [],
   "source": [
    "weighted = experiment3_results['weight'] == '1.0'"
   ]
  },
  {
   "cell_type": "code",
   "execution_count": 457,
   "metadata": {},
   "outputs": [
    {
     "data": {
      "image/png": "[encoded data removed]",
      "text/plain": [
       "<Figure size 720x360 with 1 Axes>"
      ]
     },
     "metadata": {
      "needs_background": "light"
     },
     "output_type": "display_data"
    }
   ],
   "source": [
    "fig = plt.figure(1, (10, 5))\n",
    "plt.plot(experiment3_results[weighted]['k_neighbors'][:10], experiment3_results[weighted]['mean_accuracy'][:10])\n",
    "plt.plot(experiment3_results[~weighted]['k_neighbors'][:10], experiment3_results[~weighted]['mean_accuracy'][:10])\n",
    "plt.legend(['С весами', 'Без весов'], loc='best')\n",
    "plt.title('График зависимости средней точности на 3 фолдах от числа соседей для взвешенного метода и метода без весов')\n",
    "plt.xlabel('Число соседей, шт.')\n",
    "plt.ylabel('Точность, %')\n",
    "fig.savefig('experiment3_graph.pdf')"
   ]
  },
  {
   "cell_type": "code",
   "execution_count": 16,
   "metadata": {},
   "outputs": [],
   "source": [
    "best_model_params_idx = experiment3_results.sort_values(by='mean_accuracy', ascending=False).index[0]"
   ]
  },
  {
   "cell_type": "code",
   "execution_count": 17,
   "metadata": {},
   "outputs": [],
   "source": [
    "best_model_params = experiment3_results.loc[best_model_params_idx]"
   ]
  },
  {
   "cell_type": "code",
   "execution_count": 18,
   "metadata": {},
   "outputs": [
    {
     "data": {
      "text/plain": [
       "k_neighbors                            4\n",
       "metric                            cosine\n",
       "strategy                          my_own\n",
       "accuracy         [97.545, 97.32, 97.365]\n",
       "elapsed_time          383.72798466682434\n",
       "weight                               1.0\n",
       "mean_accuracy                      97.41\n",
       "Name: 123, dtype: object"
      ]
     },
     "execution_count": 18,
     "metadata": {},
     "output_type": "execute_result"
    }
   ],
   "source": [
    "best_model_params"
   ]
  },
  {
   "cell_type": "markdown",
   "metadata": {},
   "source": [
    "## Experiment №4"
   ]
  },
  {
   "cell_type": "code",
   "execution_count": 323,
   "metadata": {},
   "outputs": [],
   "source": [
    "knn_best = KNNClassifier(k=int(best_model_params['k_neighbors']),\n",
    "                         metric=best_model_params['metric'],\n",
    "                         strategy='brute',\n",
    "                         weights=bool(best_model_params['weight'])\n",
    "                        )"
   ]
  },
  {
   "cell_type": "code",
   "execution_count": 324,
   "metadata": {},
   "outputs": [],
   "source": [
    "knn_best.fit(train_data['data'],\n",
    "             train_data['target']\n",
    "            )"
   ]
  },
  {
   "cell_type": "code",
   "execution_count": 325,
   "metadata": {},
   "outputs": [],
   "source": [
    "preds = knn_best.predict(test_data['data'])"
   ]
  },
  {
   "cell_type": "code",
   "execution_count": 326,
   "metadata": {},
   "outputs": [
    {
     "name": "stdout",
     "output_type": "stream",
     "text": [
      "Total accuracy on test:  0.9752\n"
     ]
    }
   ],
   "source": [
    "print('Total accuracy on test: ', accuracy(preds.astype(int), test_data['target'].astype(int)))"
   ]
  },
  {
   "cell_type": "markdown",
   "metadata": {},
   "source": [
    "В статье https://arxiv.org/pdf/1809.06846.pdf авторы смогли достичь точности в 0.9714 при 3 соседей без модификаций, 0.9773 при использовании скользящего окна(подробности по ссылке)\n",
    "Тут https://rodrigob.github.io/are_we_there_yet/build/classification_datasets_results.html написано, что авторам удалось добиться точности = 0.9979 с помощью нейронных сетей."
   ]
  },
  {
   "cell_type": "code",
   "execution_count": 327,
   "metadata": {},
   "outputs": [],
   "source": [
    "# conf_matrix = confusion_matrix(preds, test_data['target'].astype(int), labels=np.unique(test_data['target'].astype(int)))"
   ]
  },
  {
   "cell_type": "code",
   "execution_count": 328,
   "metadata": {},
   "outputs": [],
   "source": [
    "import matplotlib.pyplot as plt\n",
    "from sklearn.utils.multiclass import unique_labels"
   ]
  },
  {
   "cell_type": "code",
   "execution_count": 329,
   "metadata": {},
   "outputs": [],
   "source": [
    "#from sklearn documentation\n",
    "\n",
    "def plot_confusion_matrix(y_true, y_pred, classes,\n",
    "                          fname,\n",
    "                          normalize=False,\n",
    "                          title=None,\n",
    "                          cmap=plt.cm.Reds,\n",
    "                          ):\n",
    "    \"\"\"\n",
    "    This function prints and plots the confusion matrix.\n",
    "    Normalization can be applied by setting `normalize=True`.\n",
    "    \"\"\"\n",
    "    if not title:\n",
    "        if normalize:\n",
    "            title = 'Normalized confusion matrix'\n",
    "        else:\n",
    "            title = 'Confusion matrix, without normalization'\n",
    "\n",
    "    # Compute confusion matrix\n",
    "    cm = confusion_matrix(y_true, y_pred)\n",
    "    cm[range(cm.shape[0]), range(cm.shape[1])] = 0 ## for show only errors on predict\n",
    "    # Only use the labels that appear in the data\n",
    "    classes = sorted(classes[unique_labels(y_true, y_pred)])\n",
    "    if normalize:\n",
    "        cm = cm.astype('float') / cm.sum(axis=1)[:, np.newaxis]\n",
    "        print(\"Normalized confusion matrix\")\n",
    "    else:\n",
    "        print('Confusion matrix, without normalization')\n",
    "\n",
    "    print(cm)\n",
    "\n",
    "    fig, ax = plt.subplots()\n",
    "    im = ax.imshow(cm, interpolation='nearest', cmap=cmap)\n",
    "    ax.figure.colorbar(im, ax=ax)\n",
    "    # We want to show all ticks...\n",
    "    ax.set(xticks=np.arange(cm.shape[1]),\n",
    "           yticks=np.arange(cm.shape[0]),\n",
    "           # ... and label them with the respective list entries\n",
    "           xticklabels=classes, yticklabels=classes,\n",
    "           title=title,\n",
    "           ylabel='Правильный ответ',\n",
    "           xlabel='Предсказание')\n",
    "\n",
    "    # Rotate the tick labels and set their alignment.\n",
    "    plt.setp(ax.get_xticklabels(), rotation=45, ha=\"right\",\n",
    "             rotation_mode=\"anchor\")\n",
    "\n",
    "    # Loop over data dimensions and create text annotations.\n",
    "    fmt = '.2f' if normalize else 'd'\n",
    "    thresh = cm.max() / 2.\n",
    "    for i in range(cm.shape[0]):\n",
    "        for j in range(cm.shape[1]):\n",
    "            ax.text(j, i, format(cm[i, j], fmt),\n",
    "                    ha=\"center\", va=\"center\",\n",
    "                    color=\"white\" if cm[i, j] > thresh else \"black\")\n",
    "    fig.tight_layout()\n",
    "    plt.savefig(fname)\n",
    "    return ax"
   ]
  },
  {
   "cell_type": "code",
   "execution_count": 330,
   "metadata": {},
   "outputs": [
    {
     "name": "stdout",
     "output_type": "stream",
     "text": [
      "Confusion matrix, without normalization\n",
      "[[ 0  1  0  0  0  0  1  1  0  0]\n",
      " [ 0  0  3  1  0  0  2  0  0  0]\n",
      " [ 8  0  0  1  1  0  0  8  5  0]\n",
      " [ 0  1  3  0  1 12  0  4  9  4]\n",
      " [ 2  1  0  0  0  0  6  2  0 25]\n",
      " [ 4  0  0  9  1  0  7  1  4  3]\n",
      " [ 3  3  0  0  1  3  0  0  0  0]\n",
      " [ 2 10  4  0  1  0  0  0  0 13]\n",
      " [ 7  1  2  9  3  3  5  4  0  4]\n",
      " [ 7  7  2  5  7  3  1  4  3  0]]\n"
     ]
    },
    {
     "data": {
      "image/png": "[encoded data removed]",
      "text/plain": [
       "<Figure size 432x288 with 2 Axes>"
      ]
     },
     "metadata": {
      "needs_background": "light"
     },
     "output_type": "display_data"
    }
   ],
   "source": [
    "plot_confusion_matrix(test_data['target'].astype(int),\n",
    "                      preds.astype(int),\n",
    "                      title=' ',\n",
    "                      classes=np.unique(test_data['target'].astype(int)),\n",
    "                      normalize=False,\n",
    "                      fname='conf_matrix_experiment_4.pdf')\n",
    "plt.show()"
   ]
  },
  {
   "cell_type": "markdown",
   "metadata": {},
   "source": [
    "## ЗАПОЛНИТЬ НУЛЯМИ ГЛАВНУЮ ДИАГОНАЛЬ!"
   ]
  },
  {
   "cell_type": "code",
   "execution_count": 331,
   "metadata": {},
   "outputs": [],
   "source": [
    "indexes_with_errors = np.where(preds != test_data['target'].astype(int))"
   ]
  },
  {
   "cell_type": "markdown",
   "metadata": {},
   "source": [
    "## Попробуем визуализировать некоторые объекты с ошибками:"
   ]
  },
  {
   "cell_type": "code",
   "execution_count": 336,
   "metadata": {},
   "outputs": [
    {
     "data": {
      "image/png": "[encoded data removed]",
      "text/plain": [
       "<Figure size 1080x1080 with 10 Axes>"
      ]
     },
     "metadata": {
      "needs_background": "light"
     },
     "output_type": "display_data"
    }
   ],
   "source": [
    "digits_to_show = 10\n",
    "fig = plt.figure(figsize=(15, 15))\n",
    "for i in range(digits_to_show):\n",
    "    ax = fig.add_subplot(1, digits_to_show + 1, i+1)\n",
    "    ax.imshow(test_data['data'][indexes_with_errors[0][i]].reshape(28, 28), cmap=plt.get_cmap('Greys_r'))\n",
    "    ax.set_title('True/pred: ' + str(test_data['target'][indexes_with_errors[0][i]]) + '/' + \\\n",
    "                 preds[indexes_with_errors[0][i]].astype(int).astype(str))\n",
    "    ax.axis(\"off\")\n",
    "plt.tight_layout()\n",
    "plt.show()"
   ]
  },
  {
   "cell_type": "code",
   "execution_count": 345,
   "metadata": {},
   "outputs": [],
   "source": [
    "indexes_with_errors_4_9 = np.where((preds != test_data['target'].astype(int)) & (preds == 9) & (test_data['target'] == 4))"
   ]
  },
  {
   "cell_type": "code",
   "execution_count": 347,
   "metadata": {},
   "outputs": [
    {
     "data": {
      "image/png": "[encoded data removed]",
      "text/plain": [
       "<Figure size 1080x1080 with 10 Axes>"
      ]
     },
     "metadata": {
      "needs_background": "light"
     },
     "output_type": "display_data"
    }
   ],
   "source": [
    "digits_to_show = 10\n",
    "fig = plt.figure(figsize=(15, 15))\n",
    "for i in range(digits_to_show):\n",
    "    ax = fig.add_subplot(1, digits_to_show + 1, i+1)\n",
    "    ax.imshow(test_data['data'][indexes_with_errors_4_9[0][i]].reshape(28, 28), cmap=plt.get_cmap('Greys_r'))\n",
    "    ax.set_title('True/pred: ' + str(test_data['target'][indexes_with_errors_4_9[0][i]]) + '/' + \\\n",
    "                 preds[indexes_with_errors_4_9[0][i]].astype(int).astype(str))\n",
    "    ax.axis(\"off\")\n",
    "    fig.savefig(\"2.pdf\")\n",
    "plt.tight_layout()\n",
    "plt.show()"
   ]
  },
  {
   "cell_type": "code",
   "execution_count": 357,
   "metadata": {},
   "outputs": [],
   "source": [
    "indexes_with_errors_5_3 = np.where((preds != test_data['target'].astype(int)) & (preds == 5) & (test_data['target'] == 3))"
   ]
  },
  {
   "cell_type": "code",
   "execution_count": 359,
   "metadata": {},
   "outputs": [
    {
     "data": {
      "image/png": "[encoded data removed]",
      "text/plain": [
       "<Figure size 1080x1080 with 9 Axes>"
      ]
     },
     "metadata": {
      "needs_background": "light"
     },
     "output_type": "display_data"
    }
   ],
   "source": [
    "digits_to_show = 9\n",
    "fig = plt.figure(figsize=(15, 15))\n",
    "for i in range(digits_to_show):\n",
    "    ax = fig.add_subplot(1, digits_to_show + 1, i+1)\n",
    "    ax.imshow(test_data['data'][indexes_with_errors_5_3[0][i]].reshape(28, 28), cmap=plt.get_cmap('Greys_r'))\n",
    "    ax.set_title('True/pred: ' + str(test_data['target'][indexes_with_errors_5_3[0][i]]) + '/' + \\\n",
    "                 preds[indexes_with_errors_5_3[0][i]].astype(int).astype(str))\n",
    "    ax.axis(\"off\")\n",
    "    fig.savefig(\"2.pdf\")\n",
    "plt.tight_layout()\n",
    "plt.show()"
   ]
  },
  {
   "cell_type": "code",
   "execution_count": 362,
   "metadata": {},
   "outputs": [],
   "source": [
    "indexes_with_errors_7_1 = np.where((preds != test_data['target'].astype(int)) & (preds == 1) & (test_data['target'] == 7))"
   ]
  },
  {
   "cell_type": "code",
   "execution_count": 363,
   "metadata": {},
   "outputs": [
    {
     "data": {
      "image/png": "[encoded data removed]",
      "text/plain": [
       "<Figure size 1080x1080 with 9 Axes>"
      ]
     },
     "metadata": {
      "needs_background": "light"
     },
     "output_type": "display_data"
    }
   ],
   "source": [
    "digits_to_show = 9\n",
    "fig = plt.figure(figsize=(15, 15))\n",
    "for i in range(digits_to_show):\n",
    "    ax = fig.add_subplot(1, digits_to_show + 1, i+1)\n",
    "    ax.imshow(test_data['data'][indexes_with_errors_7_1[0][i]].reshape(28, 28), cmap=plt.get_cmap('Greys_r'))\n",
    "    ax.set_title('True/pred: ' + str(test_data['target'][indexes_with_errors_1_7[0][i]]) + '/' + \\\n",
    "                 preds[indexes_with_errors_7_1[0][i]].astype(int).astype(str))\n",
    "    ax.axis(\"off\")\n",
    "    fig.savefig(\"2.pdf\")\n",
    "plt.tight_layout()\n",
    "plt.show()"
   ]
  },
  {
   "cell_type": "code",
   "execution_count": 366,
   "metadata": {},
   "outputs": [],
   "source": [
    "indexes_with_errors_3_8 = np.where((preds != test_data['target'].astype(int)) & (preds == 3) & (test_data['target'] == 8))"
   ]
  },
  {
   "cell_type": "code",
   "execution_count": 367,
   "metadata": {},
   "outputs": [
    {
     "data": {
      "image/png": "[encoded data removed]",
      "text/plain": [
       "<Figure size 1080x1080 with 9 Axes>"
      ]
     },
     "metadata": {
      "needs_background": "light"
     },
     "output_type": "display_data"
    }
   ],
   "source": [
    "digits_to_show = 9\n",
    "fig = plt.figure(figsize=(15, 15))\n",
    "for i in range(digits_to_show):\n",
    "    ax = fig.add_subplot(1, digits_to_show + 1, i+1)\n",
    "    ax.imshow(test_data['data'][indexes_with_errors_3_8[0][i]].reshape(28, 28), cmap=plt.get_cmap('Greys_r'))\n",
    "    ax.set_title('True/pred: ' + str(test_data['target'][indexes_with_errors_3_8[0][i]]) + '/' + \\\n",
    "                 preds[indexes_with_errors_3_8[0][i]].astype(int).astype(str))\n",
    "    ax.axis(\"off\")\n",
    "    fig.savefig(\"2.pdf\")\n",
    "plt.tight_layout()\n",
    "plt.show()"
   ]
  },
  {
   "cell_type": "code",
   "execution_count": 381,
   "metadata": {},
   "outputs": [
    {
     "data": {
      "image/png": "[encoded data removed]",
      "text/plain": [
       "<Figure size 648x648 with 4 Axes>"
      ]
     },
     "metadata": {
      "needs_background": "light"
     },
     "output_type": "display_data"
    }
   ],
   "source": [
    "fig = plt.figure(figsize=(9, 9))\n",
    "\n",
    "ax = fig.add_subplot(1, 4, 1)\n",
    "ax.imshow(test_data['data'][indexes_with_errors_4_9[0][4]].reshape(28, 28), cmap=plt.get_cmap('Greys_r'))\n",
    "ax.set_title('True/pred: ' + str(test_data['target'][indexes_with_errors_4_9[0][4]]) + '/' + \\\n",
    "                 preds[indexes_with_errors_4_9[0][4]].astype(int).astype(str))\n",
    "ax.axis(\"off\")\n",
    "\n",
    "ax = fig.add_subplot(1, 4, 2)\n",
    "ax.imshow(test_data['data'][indexes_with_errors_5_3[0][6]].reshape(28, 28), cmap=plt.get_cmap('Greys_r'))\n",
    "ax.set_title('True/pred: ' + str(test_data['target'][indexes_with_errors_5_3[0][6]]) + '/' + \\\n",
    "                 preds[indexes_with_errors_5_3[0][6]].astype(int).astype(str))\n",
    "ax.axis(\"off\")\n",
    "\n",
    "ax = fig.add_subplot(1, 4, 3)\n",
    "ax.imshow(test_data['data'][indexes_with_errors_7_1[0][6]].reshape(28, 28), cmap=plt.get_cmap('Greys_r'))\n",
    "ax.set_title('True/pred: ' + str(test_data['target'][indexes_with_errors_1_7[0][6]]) + '/' + \\\n",
    "                 preds[indexes_with_errors_7_1[0][6]].astype(int).astype(str))\n",
    "ax.axis(\"off\")\n",
    "\n",
    "ax = fig.add_subplot(1, 4, 4)\n",
    "ax.imshow(test_data['data'][indexes_with_errors_3_8[0][3]].reshape(28, 28), cmap=plt.get_cmap('Greys_r'))\n",
    "ax.set_title('True/pred: ' + str(test_data['target'][indexes_with_errors_3_8[0][3]]) + '/' + \\\n",
    "                 preds[indexes_with_errors_3_8[0][3]].astype(int).astype(str))\n",
    "ax.axis(\"off\")\n",
    "\n",
    "plt.tight_layout()\n",
    "fig.savefig(\"wrong_digits.pdf\")\n",
    "plt.show()"
   ]
  },
  {
   "cell_type": "markdown",
   "metadata": {},
   "source": [
    "В большинстве случаев видно, что написаннные цифры немного деформированы и похожи на другие в некоторых чертах"
   ]
  },
  {
   "cell_type": "markdown",
   "metadata": {},
   "source": [
    "## Experiment №5"
   ]
  },
  {
   "cell_type": "markdown",
   "metadata": {},
   "source": [
    "## Augmentations on train samples"
   ]
  },
  {
   "cell_type": "code",
   "execution_count": 113,
   "metadata": {
    "scrolled": false
   },
   "outputs": [],
   "source": [
    "from sklearn.neighbors import NearestNeighbors\n",
    "from nearest_neighbors import KNNClassifier\n",
    "import numpy as np\n",
    "from distances import euclidean_distance, cosine_distance\n",
    "from tqdm import tqdm\n",
    "import time\n",
    "import pandas as pd\n",
    "\n",
    "import augmentation_tools\n",
    "#image preprocessing:\n",
    "import scipy.ndimage as ndimage\n",
    "import skimage.transform as transform"
   ]
  },
  {
   "cell_type": "code",
   "execution_count": 114,
   "metadata": {},
   "outputs": [
    {
     "name": "stdout",
     "output_type": "stream",
     "text": [
      "The autoreload extension is already loaded. To reload it, use:\n",
      "  %reload_ext autoreload\n"
     ]
    }
   ],
   "source": [
    "%load_ext autoreload\n",
    "%autoreload 2"
   ]
  },
  {
   "cell_type": "markdown",
   "metadata": {},
   "source": [
    "## Rotate by 45 degrees"
   ]
  },
  {
   "cell_type": "code",
   "execution_count": 115,
   "metadata": {},
   "outputs": [
    {
     "data": {
      "text/plain": [
       "<matplotlib.image.AxesImage at 0x7efbc3a65390>"
      ]
     },
     "execution_count": 115,
     "metadata": {},
     "output_type": "execute_result"
    },
    {
     "data": {
      "image/png": "[encoded data removed]",
      "text/plain": [
       "<Figure size 432x288 with 1 Axes>"
      ]
     },
     "metadata": {
      "needs_background": "light"
     },
     "output_type": "display_data"
    }
   ],
   "source": [
    "plt.imshow(transform.rotate(train_data['data'][0].reshape(28, 28), 45, resize=False), cmap='Greys_r')"
   ]
  },
  {
   "cell_type": "markdown",
   "metadata": {},
   "source": [
    "## Gaussian blur with sigma = 1.3"
   ]
  },
  {
   "cell_type": "code",
   "execution_count": 116,
   "metadata": {
    "scrolled": true
   },
   "outputs": [
    {
     "data": {
      "text/plain": [
       "<matplotlib.image.AxesImage at 0x7efbc3e6e908>"
      ]
     },
     "execution_count": 116,
     "metadata": {},
     "output_type": "execute_result"
    },
    {
     "data": {
      "image/png": "[encoded data removed]",
      "text/plain": [
       "<Figure size 432x288 with 1 Axes>"
      ]
     },
     "metadata": {
      "needs_background": "light"
     },
     "output_type": "display_data"
    }
   ],
   "source": [
    "plt.imshow(ndimage.filters.gaussian_filter(train_data['data'][0].reshape(28, 28), 1.3), cmap='Greys_r')"
   ]
  },
  {
   "cell_type": "markdown",
   "metadata": {},
   "source": [
    "## Pixels shift on y axis"
   ]
  },
  {
   "cell_type": "code",
   "execution_count": 117,
   "metadata": {},
   "outputs": [
    {
     "data": {
      "text/plain": [
       "<matplotlib.image.AxesImage at 0x7efbcf6107b8>"
      ]
     },
     "execution_count": 117,
     "metadata": {},
     "output_type": "execute_result"
    },
    {
     "data": {
      "image/png": "[encoded data removed]",
      "text/plain": [
       "<Figure size 432x288 with 1 Axes>"
      ]
     },
     "metadata": {
      "needs_background": "light"
     },
     "output_type": "display_data"
    }
   ],
   "source": [
    "plt.imshow(ndimage.shift(train_data['data'][0].reshape(28, 28), [10, 0]), cmap='Greys_r')"
   ]
  },
  {
   "cell_type": "markdown",
   "metadata": {},
   "source": [
    "## Pixels shift on x axis"
   ]
  },
  {
   "cell_type": "code",
   "execution_count": 118,
   "metadata": {},
   "outputs": [
    {
     "data": {
      "text/plain": [
       "<matplotlib.image.AxesImage at 0x7efbc3387390>"
      ]
     },
     "execution_count": 118,
     "metadata": {},
     "output_type": "execute_result"
    },
    {
     "data": {
      "image/png": "[encoded data removed]",
      "text/plain": [
       "<Figure size 432x288 with 1 Axes>"
      ]
     },
     "metadata": {
      "needs_background": "light"
     },
     "output_type": "display_data"
    }
   ],
   "source": [
    "plt.imshow(ndimage.shift(train_data['data'][0].reshape(28, 28), [0, 10]), cmap='Greys_r')"
   ]
  },
  {
   "cell_type": "markdown",
   "metadata": {},
   "source": [
    "## В этом эксперименте буду использовать жадный алгоритм для поиска лучших параметров(так как перебирать все возможные вариант очень-очень долго): \n",
    "1. Найду лучшее значение для величины поворота\n",
    "2. Найду лучшее значение для смещения\n",
    "3. Найду лучшее значение для дисперсии фильтра Гаусса\n",
    "4. Применю аугментацию с 3-мя найденными значениями(предполагая, что это лучшее сочетание)"
   ]
  },
  {
   "cell_type": "markdown",
   "metadata": {},
   "source": [
    "## Эксперимент провожу с 10000 объектами из трейна и кросс-валидацией на трех фолдах. Увличиваю трейн-выборку в 3 раза на каждом фолде."
   ]
  },
  {
   "cell_type": "code",
   "execution_count": 131,
   "metadata": {
    "scrolled": true
   },
   "outputs": [
    {
     "name": "stdout",
     "output_type": "stream",
     "text": [
      "Type_of_transformation: rotation\n",
      "Score on -15 param value 0.9484995590140898\n",
      "Score on -10 param value 0.9502996490410888\n",
      "Score on 0 param value 0.9448996789301006\n",
      "Score on 5 param value 0.9537998790880887\n",
      "Score on 10 param value 0.9561997291510794\n",
      "Score on 15 param value 0.9535995591160796\n",
      "Best param:  10\n",
      "Type_of_transformation: shift\n",
      "Score on (-3, -3) param value 0.9478994390140874\n",
      "Score on (-3, -2) param value 0.9474995789920925\n",
      "Score on (-3, -1) param value 0.9466994689870907\n",
      "Score on (-3, 0) param value 0.947099568985093\n",
      "Score on (-3, 1) param value 0.9479994790120885\n",
      "Score on (-3, 2) param value 0.9482994490210869\n",
      "Score on (-3, 3) param value 0.9480994890130886\n",
      "Score on (-2, -3) param value 0.9480994590160875\n",
      "Score on (-2, -2) param value 0.947099568985093\n",
      "Score on (-2, -1) param value 0.9465994589860905\n",
      "Score on (-2, 0) param value 0.9485994490270863\n",
      "Score on (-2, 1) param value 0.9483993090370825\n",
      "Score on (-2, 2) param value 0.9482993590300842\n",
      "Score on (-2, 3) param value 0.9478994690110883\n",
      "Score on (-1, -3) param value 0.9477995190040901\n",
      "Score on (-1, -2) param value 0.9479995690030911\n",
      "Score on (-1, -1) param value 0.948099668995094\n",
      "Score on (-1, 0) param value 0.9490997090110932\n",
      "Score on (-1, 1) param value 0.9508993790800796\n",
      "Score on (-1, 2) param value 0.9490993790440831\n",
      "Score on (-1, 3) param value 0.9480994590160875\n",
      "Score on (0, -3) param value 0.9482994490210869\n",
      "Score on (0, -2) param value 0.9480995790040913\n",
      "Score on (0, -1) param value 0.9501998790160959\n",
      "Score on (0, 0) param value 0.9448996789301006\n",
      "Score on (0, 1) param value 0.9516993091030758\n",
      "Score on (0, 2) param value 0.9495991590760756\n",
      "Score on (0, 3) param value 0.9483993690310842\n",
      "Score on (1, -3) param value 0.9481994690170876\n",
      "Score on (1, -2) param value 0.9497995090450857\n",
      "Score on (1, -1) param value 0.952499599090083\n",
      "Score on (1, 0) param value 0.9526994391100777\n",
      "Score on (1, 1) param value 0.9522993091150748\n",
      "Score on (1, 2) param value 0.949899159082075\n",
      "Score on (1, 3) param value 0.9483993690310842\n",
      "Score on (2, -3) param value 0.9477994590100881\n",
      "Score on (2, -2) param value 0.9489995790220894\n",
      "Score on (2, -1) param value 0.9507995490610849\n",
      "Score on (2, 0) param value 0.9510994890730825\n",
      "Score on (2, 1) param value 0.9497992690690785\n",
      "Score on (2, 2) param value 0.9490992890530805\n",
      "Score on (2, 3) param value 0.9483993390340834\n",
      "Score on (3, -3) param value 0.9482994790180878\n",
      "Score on (3, -2) param value 0.9482994490210869\n",
      "Score on (3, -1) param value 0.9488994490330857\n",
      "Score on (3, 0) param value 0.9491993890450833\n",
      "Score on (3, 1) param value 0.949099409041084\n",
      "Score on (3, 2) param value 0.9481994390200867\n",
      "Score on (3, 3) param value 0.9481994390200867\n",
      "Best param:  (1, 0)\n",
      "Type_of_transformation: blur\n",
      "Score on 0.5 param value 0.956999599180074\n",
      "Score on 1 param value 0.959799489247065\n",
      "Score on 1.5 param value 0.9591996392200707\n",
      "Best param:  1\n"
     ]
    }
   ],
   "source": [
    "\n",
    "type_of_transformation_with_params_dict = {'rotation': [-15, -10, 0, 5, 10, 15],\n",
    "                                           'shift': [(i, j) for i in range(-3, 4) for j in range(-3, 4)],\n",
    "                                           'blur': [0.5, 1, 1.5]\n",
    "                                          }\n",
    "\n",
    "for type_of_transformation in type_of_transformation_with_params_dict.keys():\n",
    "    print('Type_of_transformation:', type_of_transformation)\n",
    "    best_score, best_param = augmentation_tools.find_best_value_of_transformation(\n",
    "        train_data['data'][:10000],\n",
    "        train_data['target'][:10000],\n",
    "        new_objects_amount=len(train_data['data']),\n",
    "        type_of_transformation=type_of_transformation,\n",
    "        param_list_of_transformation=type_of_transformation_with_params_dict[type_of_transformation],\n",
    "        k_neighbors=int(best_model_params['k_neighbors']),\n",
    "        metric=best_model_params['metric'],\n",
    "        strategy='brute',\n",
    "        weights=bool(best_model_params['weight'])\n",
    "        )\n",
    "    print('Best param: ', best_param)\n",
    "    "
   ]
  },
  {
   "cell_type": "code",
   "execution_count": 121,
   "metadata": {},
   "outputs": [],
   "source": [
    "# Type_of_transformation: rotation\n",
    "# Score on -15 param value 0.9484995590140898\n",
    "# Score on -10 param value 0.9502996490410888\n",
    "# Score on 0 param value 0.9448996789301006\n",
    "# Score on 5 param value 0.9537998790880887\n",
    "# Score on 10 param value 0.9561997291510794\n",
    "# Score on 15 param value 0.9535995591160796\n",
    "# Best param:  10\n",
    "# Type_of_transformation: shift\n",
    "# Score on (-3, -3) param value 0.9478994390140874\n",
    "# Score on (-3, -2) param value 0.9474995789920925\n",
    "# Score on (-3, -1) param value 0.9466994689870907\n",
    "# Score on (-3, 0) param value 0.947099568985093\n",
    "# Score on (-3, 1) param value 0.9479994790120885\n",
    "# Score on (-3, 2) param value 0.9482994490210869\n",
    "# Score on (-3, 3) param value 0.9480994890130886\n",
    "# Score on (-2, -3) param value 0.9480994590160875\n",
    "# Score on (-2, -2) param value 0.947099568985093\n",
    "# Score on (-2, -1) param value 0.9465994589860905\n",
    "# Score on (-2, 0) param value 0.9485994490270863\n",
    "# Score on (-2, 1) param value 0.9483993090370825\n",
    "# Score on (-2, 2) param value 0.9482993590300842\n",
    "# Score on (-2, 3) param value 0.9478994690110883\n",
    "# Score on (-1, -3) param value 0.9477995190040901\n",
    "# Score on (-1, -2) param value 0.9479995690030911\n",
    "# Score on (-1, -1) param value 0.948099668995094\n",
    "# Score on (-1, 0) param value 0.9490997090110932\n",
    "# Score on (-1, 1) param value 0.9508993790800796\n",
    "# Score on (-1, 2) param value 0.9490993790440831\n",
    "# Score on (-1, 3) param value 0.9480994590160875\n",
    "# Score on (0, -3) param value 0.9482994490210869\n",
    "# Score on (0, -2) param value 0.9480995790040913\n",
    "# Score on (0, -1) param value 0.9501998790160959\n",
    "# Score on (0, 0) param value 0.9448996789301006\n",
    "# Score on (0, 1) param value 0.9516993091030758\n",
    "# Score on (0, 2) param value 0.9495991590760756\n",
    "# Score on (0, 3) param value 0.9483993690310842\n",
    "# Score on (1, -3) param value 0.9481994690170876\n",
    "# Score on (1, -2) param value 0.9497995090450857\n",
    "# Score on (1, -1) param value 0.952499599090083\n",
    "# Score on (1, 0) param value 0.9526994391100777\n",
    "# Score on (1, 1) param value 0.9522993091150748\n",
    "# Score on (1, 2) param value 0.949899159082075\n",
    "# Score on (1, 3) param value 0.9483993690310842\n",
    "# Score on (2, -3) param value 0.9477994590100881\n",
    "# Score on (2, -2) param value 0.9489995790220894\n",
    "# Score on (2, -1) param value 0.9507995490610849\n",
    "# Score on (2, 0) param value 0.9510994890730825\n",
    "# Score on (2, 1) param value 0.9497992690690785\n",
    "# Score on (2, 2) param value 0.9490992890530805\n",
    "# Score on (2, 3) param value 0.9483993390340834\n",
    "# Score on (3, -3) param value 0.9482994790180878\n",
    "# Score on (3, -2) param value 0.9482994490210869\n",
    "# Score on (3, -1) param value 0.9488994490330857\n",
    "# Score on (3, 0) param value 0.9491993890450833\n",
    "# Score on (3, 1) param value 0.949099409041084\n",
    "# Score on (3, 2) param value 0.9481994390200867\n",
    "# Score on (3, 3) param value 0.9481994390200867\n",
    "# Best param:  (1, 0)\n",
    "# Type_of_transformation: blur\n",
    "# Score on 0.5 param value 0.956999599180074\n",
    "# Score on 1 param value 0.959799489247065\n",
    "# Score on 1.5 param value 0.9591996392200707\n",
    "# Best param:  1"
   ]
  },
  {
   "cell_type": "code",
   "execution_count": 90,
   "metadata": {
    "scrolled": true
   },
   "outputs": [],
   "source": [
    "# best values:\n",
    "# rotation - 10\n",
    "# shift - (1, 0)\n",
    "# blur - 1"
   ]
  },
  {
   "cell_type": "markdown",
   "metadata": {},
   "source": [
    "## Посмотрим на качество модели с лучшими параметрами аугментаций с лучшими параметрами:\n",
    "Rotation - 10\n",
    "Shift - (1, 0)\n",
    "Blur - 1"
   ]
  },
  {
   "cell_type": "code",
   "execution_count": 147,
   "metadata": {},
   "outputs": [
    {
     "name": "stdout",
     "output_type": "stream",
     "text": [
      "Score on [10, (1, 0), 1] param value 0.9551995991440775\n"
     ]
    },
    {
     "data": {
      "text/plain": [
       "(-1, -1)"
      ]
     },
     "execution_count": 147,
     "metadata": {},
     "output_type": "execute_result"
    }
   ],
   "source": [
    "augmentation_tools.find_best_value_of_transformation(train_data['data'][:10000],\n",
    "                                                     train_data['target'][:10000],\n",
    "                                                     new_objects_amount=len(train_data['data']),\n",
    "                                                     type_of_transformation='all',\n",
    "                                                     param_list_of_transformation=[10, (1, 0), 1],\n",
    "                                                     k_neighbors=int(best_model_params['k_neighbors']),\n",
    "                                                     metric=best_model_params['metric'],\n",
    "                                                     strategy='brute',\n",
    "                                                     weights=bool(best_model_params['weight'])\n",
    "                                                    )"
   ]
  },
  {
   "cell_type": "markdown",
   "metadata": {},
   "source": [
    "# Видно, что жадный алгоритм справился плохо с этой задачей, так как при применении только Гауссова размытия качество - 0.959. Попробуем применить эти аугментации не последовательно(расширив выборку только в 2 раза), а отдельно(т.е. получится расширение выборки в 4 раза) "
   ]
  },
  {
   "cell_type": "code",
   "execution_count": 153,
   "metadata": {},
   "outputs": [
    {
     "name": "stdout",
     "output_type": "stream",
     "text": [
      "Score on [10, (1, 0), 1] param value 0.9632993293330533\n"
     ]
    },
    {
     "data": {
      "text/plain": [
       "(-1, -1)"
      ]
     },
     "execution_count": 153,
     "metadata": {},
     "output_type": "execute_result"
    }
   ],
   "source": [
    "augmentation_tools.find_best_value_of_transformation(train_data['data'][:10000],\n",
    "                                                     train_data['target'][:10000],\n",
    "                                                     new_objects_amount=len(train_data['data']),\n",
    "                                                     type_of_transformation='all_parallel',\n",
    "                                                     param_list_of_transformation=[10, (1, 0), 1],\n",
    "                                                     k_neighbors=int(best_model_params['k_neighbors']),\n",
    "                                                     metric=best_model_params['metric'],\n",
    "                                                     strategy='brute',\n",
    "                                                     weights=bool(best_model_params['weight'])\n",
    "                                                    )"
   ]
  },
  {
   "cell_type": "markdown",
   "metadata": {},
   "source": [
    "# Результат лучше почти на 1%,"
   ]
  },
  {
   "cell_type": "markdown",
   "metadata": {},
   "source": [
    "# Проверим, как изменится качество на тесте, если эти преобразования применить ко всей выборке:"
   ]
  },
  {
   "cell_type": "code",
   "execution_count": 313,
   "metadata": {},
   "outputs": [],
   "source": [
    "knn_best = KNNClassifier(k=int(best_model_params['k_neighbors']),\n",
    "                         metric=best_model_params['metric'],\n",
    "                         strategy='brute',\n",
    "                         weights=bool(best_model_params['weight'])\n",
    "                        )"
   ]
  },
  {
   "cell_type": "code",
   "execution_count": 155,
   "metadata": {},
   "outputs": [],
   "source": [
    "train_data_augmented, train_y_augmented = augmentation_tools.made_augmentation(train_data['data'],\n",
    "                                                                               train_data['target'],\n",
    "                                                                               new_objects_amount=len(train_data['data']),\n",
    "                                                                               type_of_transformation='all_parallel',\n",
    "                                                                               param_of_transformation=[10, (1, 0), 1]\n",
    "                                                                              )"
   ]
  },
  {
   "cell_type": "code",
   "execution_count": 314,
   "metadata": {},
   "outputs": [],
   "source": [
    "knn_best.fit(train_data_augmented,\n",
    "             train_y_augmented\n",
    "            )"
   ]
  },
  {
   "cell_type": "code",
   "execution_count": 315,
   "metadata": {},
   "outputs": [],
   "source": [
    "preds = knn_best.predict(test_data['data'])"
   ]
  },
  {
   "cell_type": "code",
   "execution_count": 316,
   "metadata": {},
   "outputs": [
    {
     "data": {
      "text/plain": [
       "0.9843"
      ]
     },
     "execution_count": 316,
     "metadata": {},
     "output_type": "execute_result"
    }
   ],
   "source": [
    "import cross_validation\n",
    "cross_validation.accuracy(preds, test_data['target'].astype(int))"
   ]
  },
  {
   "cell_type": "code",
   "execution_count": 317,
   "metadata": {},
   "outputs": [],
   "source": [
    "#0.9843"
   ]
  },
  {
   "cell_type": "code",
   "execution_count": 318,
   "metadata": {},
   "outputs": [
    {
     "name": "stdout",
     "output_type": "stream",
     "text": [
      "Confusion matrix, without normalization\n",
      "[[ 0  1  0  0  0  0  0  1  0  0]\n",
      " [ 0  0  2  0  0  0  0  0  0  0]\n",
      " [ 5  1  0  2  1  0  2  9  1  0]\n",
      " [ 0  0  2  0  1  5  0  4  5  3]\n",
      " [ 0  0  0  0  0  0  4  3  1 15]\n",
      " [ 2  0  0  5  1  0  4  1  1  3]\n",
      " [ 3  1  0  0  0  1  0  0  0  0]\n",
      " [ 0 12  5  1  1  0  0  0  0  6]\n",
      " [ 2  0  1  2  2  4  3  4  0  2]\n",
      " [ 2  4  0  2  3  3  1  4  3  0]]\n"
     ]
    },
    {
     "data": {
      "text/plain": [
       "<matplotlib.axes._subplots.AxesSubplot at 0x7efbbffad518>"
      ]
     },
     "execution_count": 318,
     "metadata": {},
     "output_type": "execute_result"
    },
    {
     "data": {
      "image/png": "[encoded data removed]",
      "text/plain": [
       "<Figure size 432x288 with 2 Axes>"
      ]
     },
     "metadata": {
      "needs_background": "light"
     },
     "output_type": "display_data"
    }
   ],
   "source": [
    "plot_confusion_matrix(test_data['target'].astype(int),\n",
    "                      preds.astype(int),\n",
    "                      title=' ',\n",
    "                      classes=np.unique(test_data['target'].astype(int)),\n",
    "                      normalize=False,\n",
    "                      fname='conf_matrix_experiment_5_with_full_aug_on_train.pdf')"
   ]
  },
  {
   "cell_type": "markdown",
   "metadata": {},
   "source": [
    "## Можно заметить, что качество стало лучше на ~ 1%"
   ]
  },
  {
   "cell_type": "markdown",
   "metadata": {},
   "source": [
    "## Experiment №6"
   ]
  },
  {
   "cell_type": "markdown",
   "metadata": {},
   "source": [
    "Сначала проверим уже на обученном knn_best:"
   ]
  },
  {
   "cell_type": "code",
   "execution_count": 227,
   "metadata": {
    "scrolled": true
   },
   "outputs": [
    {
     "name": "stderr",
     "output_type": "stream",
     "text": [
      "\n",
      "\n",
      "\n",
      "  0%|          | 0/10000 [00:00<?, ?it/s]\u001b[A\u001b[A\u001b[A\n",
      "\n",
      "\n",
      "100%|██████████| 10000/10000 [00:00<00:00, 4371343.41it/s]\u001b[A\u001b[A\u001b[A"
     ]
    },
    {
     "name": "stdout",
     "output_type": "stream",
     "text": [
      "CPU times: user 7min 27s, sys: 9.75 s, total: 7min 37s\n",
      "Wall time: 1min 21s\n"
     ]
    }
   ],
   "source": [
    "%%time\n",
    "knn_best.fit(train_data['data'], train_data['target'])\n",
    "preds = augmentation_tools.test_time_augmentation(knn_best,\n",
    "                                          test_data['data'],\n",
    "                                          type_of_transformation_list='all_parallel',\n",
    "                                          param_of_transformation_list=[10, (1, 0), 1]\n",
    "                                         )"
   ]
  },
  {
   "cell_type": "code",
   "execution_count": 228,
   "metadata": {},
   "outputs": [],
   "source": [
    "import cross_validation"
   ]
  },
  {
   "cell_type": "code",
   "execution_count": 229,
   "metadata": {},
   "outputs": [
    {
     "data": {
      "text/plain": [
       "0.9752"
      ]
     },
     "execution_count": 229,
     "metadata": {},
     "output_type": "execute_result"
    }
   ],
   "source": [
    "cross_validation.accuracy(preds[:, 0].astype(int), test_data['target'].astype(int))"
   ]
  },
  {
   "cell_type": "code",
   "execution_count": 230,
   "metadata": {},
   "outputs": [
    {
     "data": {
      "text/plain": [
       "0.9641"
      ]
     },
     "execution_count": 230,
     "metadata": {},
     "output_type": "execute_result"
    }
   ],
   "source": [
    "cross_validation.accuracy(preds[:, 1].astype(int), test_data['target'].astype(int))"
   ]
  },
  {
   "cell_type": "code",
   "execution_count": 231,
   "metadata": {},
   "outputs": [
    {
     "data": {
      "text/plain": [
       "0.9548"
      ]
     },
     "execution_count": 231,
     "metadata": {},
     "output_type": "execute_result"
    }
   ],
   "source": [
    "cross_validation.accuracy(preds[:, 2].astype(int), test_data['target'].astype(int))"
   ]
  },
  {
   "cell_type": "code",
   "execution_count": 232,
   "metadata": {},
   "outputs": [
    {
     "data": {
      "text/plain": [
       "0.9613"
      ]
     },
     "execution_count": 232,
     "metadata": {},
     "output_type": "execute_result"
    }
   ],
   "source": [
    "cross_validation.accuracy(preds[:, 3].astype(int), test_data['target'].astype(int))"
   ]
  },
  {
   "cell_type": "code",
   "execution_count": 233,
   "metadata": {},
   "outputs": [
    {
     "name": "stderr",
     "output_type": "stream",
     "text": [
      "\n",
      "\n",
      "\n",
      "  0%|          | 0/10000 [00:00<?, ?it/s]\u001b[A\u001b[A\u001b[A\n",
      "\n",
      "\n",
      "100%|██████████| 10000/10000 [00:00<00:00, 438244.22it/s]\u001b[A\u001b[A\u001b[A"
     ]
    }
   ],
   "source": [
    "preds_full = np.zeros(preds.shape[0])\n",
    "for i in tqdm(range(preds.shape[0])):\n",
    "    preds_full[i] = np.argmax(np.bincount(preds[i, :]))"
   ]
  },
  {
   "cell_type": "code",
   "execution_count": 234,
   "metadata": {},
   "outputs": [
    {
     "data": {
      "text/plain": [
       "0.9734"
      ]
     },
     "execution_count": 234,
     "metadata": {},
     "output_type": "execute_result"
    }
   ],
   "source": [
    "cross_validation.accuracy(preds_full, test_data['target'].astype(int))"
   ]
  },
  {
   "cell_type": "markdown",
   "metadata": {},
   "source": [
    "## ТТА немного ухудшило качетсво работы алгоритма. Попробуем теперь отобрать лучшие параметры для трансформаций с TTA"
   ]
  },
  {
   "cell_type": "code",
   "execution_count": 274,
   "metadata": {},
   "outputs": [
    {
     "name": "stdout",
     "output_type": "stream",
     "text": [
      "rotation\n",
      "Score on -15 param value: 0.9758\n",
      "Score on -10 param value: 0.977\n",
      "Score on -5 param value: 0.9743\n",
      "Score on 0 param value: 0.9723\n",
      "Score on 5 param value: 0.9739\n",
      "Score on 10 param value: 0.9735\n",
      "Score on 15 param value: 0.969\n",
      "Best param: -10 with score: 0.977\n",
      "shift\n",
      "Score on (-3, -3) param value: 0.9751\n",
      "Score on (-3, -2) param value: 0.975\n",
      "Score on (-3, -1) param value: 0.9747\n",
      "Score on (-3, 0) param value: 0.9755\n",
      "Score on (-3, 1) param value: 0.9751\n",
      "Score on (-3, 2) param value: 0.9753\n",
      "Score on (-3, 3) param value: 0.9752\n",
      "Score on (-2, -3) param value: 0.9753\n",
      "Score on (-2, -2) param value: 0.9758\n",
      "Score on (-2, -1) param value: 0.9749\n",
      "Score on (-2, 0) param value: 0.9746\n",
      "Score on (-2, 1) param value: 0.9746\n",
      "Score on (-2, 2) param value: 0.9753\n",
      "Score on (-2, 3) param value: 0.9752\n",
      "Score on (-1, -3) param value: 0.9753\n",
      "Score on (-1, -2) param value: 0.9755\n",
      "Score on (-1, -1) param value: 0.9749\n",
      "Score on (-1, 0) param value: 0.9747\n",
      "Score on (-1, 1) param value: 0.9744\n",
      "Score on (-1, 2) param value: 0.9749\n",
      "Score on (-1, 3) param value: 0.9749\n",
      "Score on (0, -3) param value: 0.9749\n",
      "Score on (0, -2) param value: 0.9751\n",
      "Score on (0, -1) param value: 0.9759\n",
      "Score on (0, 0) param value: 0.9723\n",
      "Score on (0, 1) param value: 0.9751\n",
      "Score on (0, 2) param value: 0.9746\n",
      "Score on (0, 3) param value: 0.9751\n",
      "Score on (1, -3) param value: 0.9752\n",
      "Score on (1, -2) param value: 0.9754\n",
      "Score on (1, -1) param value: 0.9776\n",
      "Score on (1, 0) param value: 0.9784\n",
      "Score on (1, 1) param value: 0.9755\n",
      "Score on (1, 2) param value: 0.975\n",
      "Score on (1, 3) param value: 0.9751\n",
      "Score on (2, -3) param value: 0.9753\n",
      "Score on (2, -2) param value: 0.9755\n",
      "Score on (2, -1) param value: 0.9769\n",
      "Score on (2, 0) param value: 0.9762\n",
      "Score on (2, 1) param value: 0.9751\n",
      "Score on (2, 2) param value: 0.975\n",
      "Score on (2, 3) param value: 0.975\n",
      "Score on (3, -3) param value: 0.9752\n",
      "Score on (3, -2) param value: 0.9753\n",
      "Score on (3, -1) param value: 0.9755\n",
      "Score on (3, 0) param value: 0.9755\n",
      "Score on (3, 1) param value: 0.975\n",
      "Score on (3, 2) param value: 0.9751\n",
      "Score on (3, 3) param value: 0.9751\n",
      "Best param: (1, 0) with score: 0.9784\n",
      "blur\n",
      "Score on 0.5 param value: 0.9717\n",
      "Score on 1 param value: 0.9632\n",
      "Score on 1.5 param value: 0.9513\n",
      "Best param: 0.5 with score: 0.9717\n"
     ]
    }
   ],
   "source": [
    "type_of_transformation_with_params_dict = {'rotation': [-15, -10, -5, 0, 5, 10, 15],\n",
    "                                           'shift': [(i, j) for i in range(-3, 4) for j in range(-3, 4)],\n",
    "                                           'blur': [0.5, 1, 1.5]\n",
    "                                          }\n",
    "\n",
    "knn_best.fit(train_data['data'], train_data['target'])\n",
    "for type_of_transformation in type_of_transformation_with_params_dict.keys():\n",
    "    print(type_of_transformation)\n",
    "    best_param, best_score = -1, -1\n",
    "    for param_of_transformation in type_of_transformation_with_params_dict[type_of_transformation]:\n",
    "        preds = augmentation_tools.test_time_augmentation(knn_best,\n",
    "                                              test_data['data'],\n",
    "                                              type_of_transformation_list=type_of_transformation,\n",
    "                                              param_of_transformation_list=param_of_transformation\n",
    "                                             )\n",
    "        print('Score on ' + str(param_of_transformation) + ' param value: ', end='')\n",
    "        score = cross_validation.accuracy(preds.astype(int),\n",
    "                                                        test_data['target'].astype(int))\n",
    "        print(score)\n",
    "        if score > best_score:\n",
    "            best_score = score\n",
    "            best_param = param_of_transformation\n",
    "    print('Best param: ' + str(best_param) + ' with score: ' + str(best_score))\n",
    "        "
   ]
  },
  {
   "cell_type": "code",
   "execution_count": 319,
   "metadata": {},
   "outputs": [
    {
     "name": "stdout",
     "output_type": "stream",
     "text": [
      "all_parallel\n",
      "Score on [-10, (1, 0), 0.5] param value: 0.976\n",
      "Best param: [-10, (1, 0), 0.5] with score: 0.976\n"
     ]
    }
   ],
   "source": [
    "type_of_transformation_with_params_dict = {'all_parallel': [[-10, (1, 0), 0.5]]\n",
    "                                          }\n",
    "\n",
    "knn_best.fit(train_data['data'], train_data['target'])\n",
    "for type_of_transformation in type_of_transformation_with_params_dict.keys():\n",
    "    print(type_of_transformation)\n",
    "    best_param, best_score = -1, -1\n",
    "    for param_of_transformation in type_of_transformation_with_params_dict[type_of_transformation]:\n",
    "        preds = augmentation_tools.test_time_augmentation(knn_best,\n",
    "                                              test_data['data'],\n",
    "                                              type_of_transformation_list=type_of_transformation,\n",
    "                                              param_of_transformation_list=param_of_transformation\n",
    "                                             )\n",
    "        print('Score on ' + str(param_of_transformation) + ' param value: ', end='')\n",
    "        score = cross_validation.accuracy(preds.astype(int),\n",
    "                                                        test_data['target'].astype(int))\n",
    "        print(score)\n",
    "        if score > best_score:\n",
    "            best_score = score\n",
    "            best_param = param_of_transformation\n",
    "    print('Best param: ' + str(best_param) + ' with score: ' + str(best_score))"
   ]
  },
  {
   "cell_type": "code",
   "execution_count": 320,
   "metadata": {},
   "outputs": [
    {
     "name": "stdout",
     "output_type": "stream",
     "text": [
      "Confusion matrix, without normalization\n",
      "[[ 0  1  0  0  0  0  0  1  0  0]\n",
      " [ 0  0  2  1  0  0  0  0  0  0]\n",
      " [ 7  0  0  0  1  0  1 10  5  0]\n",
      " [ 0  0  1  0  0  6  0  5 10  5]\n",
      " [ 2  1  0  0  0  0  7  2  1 33]\n",
      " [ 2  2  0 13  1  0  7  1  8  3]\n",
      " [ 4  2  0  0  1  1  0  0  0  0]\n",
      " [ 3 10  6  0  0  0  0  0  0  8]\n",
      " [ 5  4  2  4  1  1  4  4  0  2]\n",
      " [ 8  7  1  3  3  4  1  8  4  0]]\n"
     ]
    },
    {
     "data": {
      "text/plain": [
       "<matplotlib.axes._subplots.AxesSubplot at 0x7efbbfe11198>"
      ]
     },
     "execution_count": 320,
     "metadata": {},
     "output_type": "execute_result"
    },
    {
     "data": {
      "image/png": "[encoded data removed]",
      "text/plain": [
       "<Figure size 432x288 with 2 Axes>"
      ]
     },
     "metadata": {
      "needs_background": "light"
     },
     "output_type": "display_data"
    }
   ],
   "source": [
    "plot_confusion_matrix(test_data['target'].astype(int),\n",
    "                      preds.astype(int),\n",
    "                      title=' ',\n",
    "                      classes=np.unique(test_data['target'].astype(int)),\n",
    "                      normalize=False,\n",
    "                      fname='conf_matrix_experiment_6_with_full_aug_on_test.pdf')"
   ]
  },
  {
   "cell_type": "markdown",
   "metadata": {},
   "source": [
    "## Можно заметить, что применение TTA для тестовой  выборки дало немного лучше результат, чем результат без преобразования тестовой выборки"
   ]
  },
  {
   "cell_type": "markdown",
   "metadata": {},
   "source": [
    "## Применим сразу два метода аугментаций:"
   ]
  },
  {
   "cell_type": "code",
   "execution_count": 321,
   "metadata": {},
   "outputs": [
    {
     "name": "stdout",
     "output_type": "stream",
     "text": [
      "all_parallel\n",
      "Score on [-10, (1, 0), 0.5] param value: 0.9835\n",
      "Best param: [-10, (1, 0), 0.5] with score: 0.9835\n"
     ]
    }
   ],
   "source": [
    "knn_best.fit(train_data_augmented, train_y_augmented)\n",
    "type_of_transformation_with_params_dict = {'all_parallel': [[-10, (1, 0), 0.5]]\n",
    "                                          }\n",
    "\n",
    "\n",
    "for type_of_transformation in type_of_transformation_with_params_dict.keys():\n",
    "    print(type_of_transformation)\n",
    "    best_param, best_score = -1, -1\n",
    "    for param_of_transformation in type_of_transformation_with_params_dict[type_of_transformation]:\n",
    "        preds = augmentation_tools.test_time_augmentation(knn_best,\n",
    "                                              test_data['data'],\n",
    "                                              type_of_transformation_list=type_of_transformation,\n",
    "                                              param_of_transformation_list=param_of_transformation\n",
    "                                             )\n",
    "        print('Score on ' + str(param_of_transformation) + ' param value: ', end='')\n",
    "        score = cross_validation.accuracy(preds.astype(int),\n",
    "                                                        test_data['target'].astype(int))\n",
    "        print(score)\n",
    "        if score > best_score:\n",
    "            best_score = score\n",
    "            best_param = param_of_transformation\n",
    "    print('Best param: ' + str(best_param) + ' with score: ' + str(best_score))"
   ]
  },
  {
   "cell_type": "markdown",
   "metadata": {},
   "source": [
    "0.9835"
   ]
  },
  {
   "cell_type": "code",
   "execution_count": 322,
   "metadata": {},
   "outputs": [
    {
     "name": "stdout",
     "output_type": "stream",
     "text": [
      "Confusion matrix, without normalization\n",
      "[[ 0  0  0  0  0  1  0  1  0  0]\n",
      " [ 0  0  3  0  0  0  1  0  0  0]\n",
      " [ 5  1  0  2  1  0  1  8  2  0]\n",
      " [ 0  0  2  0  1  7  0  5  6  3]\n",
      " [ 1  0  0  0  0  0  4  1  0 16]\n",
      " [ 2  0  0  9  1  0  5  1  1  3]\n",
      " [ 3  2  0  0  1  2  0  0  0  0]\n",
      " [ 2  7  5  1  0  0  0  0  0  5]\n",
      " [ 3  0  2  5  3  2  2  4  0  1]\n",
      " [ 2  5  0  1  2  2  1  5  3  0]]\n"
     ]
    },
    {
     "data": {
      "text/plain": [
       "<matplotlib.axes._subplots.AxesSubplot at 0x7efbbfcc7240>"
      ]
     },
     "execution_count": 322,
     "metadata": {},
     "output_type": "execute_result"
    },
    {
     "data": {
      "image/png": "[encoded data removed]",
      "text/plain": [
       "<Figure size 432x288 with 2 Axes>"
      ]
     },
     "metadata": {
      "needs_background": "light"
     },
     "output_type": "display_data"
    }
   ],
   "source": [
    "plot_confusion_matrix(test_data['target'].astype(int),\n",
    "                      preds.astype(int),\n",
    "                      title=' ',\n",
    "                      classes=np.unique(test_data['target'].astype(int)),\n",
    "                      normalize=False,\n",
    "                      fname='conf_matrix_experiment_6_with_full_aug_on_train_and_test.pdf')"
   ]
  },
  {
   "cell_type": "markdown",
   "metadata": {},
   "source": [
    "## Результат стал немного хуже, чем только с аугментациями трейна. Возможно, это из-за того, что я применяю разные аугментации к трейну и к тесту. Попробую одни и те же:"
   ]
  },
  {
   "cell_type": "code",
   "execution_count": 279,
   "metadata": {},
   "outputs": [
    {
     "name": "stdout",
     "output_type": "stream",
     "text": [
      "all_parallel\n",
      "Score on [-10, (1, 0), 1.5] param value: 0.9737\n",
      "Best param: [-10, (1, 0), 1.5] with score: 0.9737\n"
     ]
    }
   ],
   "source": [
    "knn_best.fit(train_data_augmented, train_y_augmented)\n",
    "type_of_transformation_with_params_dict = {'all_parallel': [[-10, (1, 0), 1.5]]\n",
    "                                          }\n",
    "\n",
    "\n",
    "for type_of_transformation in type_of_transformation_with_params_dict.keys():\n",
    "    print(type_of_transformation)\n",
    "    best_param, best_score = -1, -1\n",
    "    for param_of_transformation in type_of_transformation_with_params_dict[type_of_transformation]:\n",
    "        preds = augmentation_tools.test_time_augmentation(knn_best,\n",
    "                                              test_data['data'],\n",
    "                                              type_of_transformation_list=type_of_transformation,\n",
    "                                              param_of_transformation_list=param_of_transformation\n",
    "                                             )\n",
    "        print('Score on ' + str(param_of_transformation) + ' param value: ', end='')\n",
    "        score = cross_validation.accuracy(preds.astype(int),\n",
    "                                                        test_data['target'].astype(int))\n",
    "        print(score)\n",
    "        if score > best_score:\n",
    "            best_score = score\n",
    "            best_param = param_of_transformation\n",
    "    print('Best param: ' + str(best_param) + ' with score: ' + str(best_score))"
   ]
  },
  {
   "cell_type": "code",
   "execution_count": null,
   "metadata": {},
   "outputs": [],
   "source": [
    "#0.9763 on  augmentation_tools.test_time_augmentation(knn_best,\n",
    "#                                           test_data['data'],\n",
    "#                                           type_of_transformation_list=['all', 'blur', 'rotation'],\n",
    "#                                           param_of_transformation_list=[[10, (1, 0), 1], 1, 10]\n",
    "#                                          )\n",
    "#0.9777 on augmentation_tools.made_augmentation(train_data['data'],\n",
    "#                                                                                train_data['target'],\n",
    "#                                                                                new_objects_amount=len(train_data['data']),\n",
    "#                                                                                type_of_transformation='all',\n",
    "#                                                                                param_of_transformation=[10, (1, 0), 1]\n",
    "#     )\n",
    "# 0.9635 on augmentation_tools.test_time_augmentation(knn_best,\n",
    "#                                           test_data['data'],\n",
    "#                                           type_of_transformation_list=['blur'],\n",
    "#                                           param_of_transformation_list=[1]\n",
    "#                                          )\n",
    "# -------------------------PREVIOUS RESULTS WERE MADE ON AUGMENTED TRAIN!!---------------\n",
    "#--------------------------NOW - standart train!----------------------------------------\n",
    "#and with identity transform\n",
    "#0.9684 - on augmentation_tools.test_time_augmentation(knn_best,\n",
    "#                                           test_data['data'],\n",
    "#                                           type_of_transformation_list=['blur'],\n",
    "#                                           param_of_transformation_list=[1]\n",
    "#                                          )\n",
    "#"
   ]
  },
  {
   "cell_type": "code",
   "execution_count": 109,
   "metadata": {},
   "outputs": [],
   "source": []
  },
  {
   "cell_type": "code",
   "execution_count": 110,
   "metadata": {},
   "outputs": [
    {
     "data": {
      "text/plain": [
       "<matplotlib.image.AxesImage at 0x7efbc3380a90>"
      ]
     },
     "execution_count": 110,
     "metadata": {},
     "output_type": "execute_result"
    },
    {
     "data": {
      "image/png": "[encoded data removed]",
      "text/plain": [
       "<Figure size 432x288 with 1 Axes>"
      ]
     },
     "metadata": {
      "needs_background": "light"
     },
     "output_type": "display_data"
    }
   ],
   "source": []
  },
  {
   "cell_type": "code",
   "execution_count": null,
   "metadata": {},
   "outputs": [],
   "source": []
  }
 ],
 "metadata": {
  "kernelspec": {
   "display_name": "Python 3",
   "language": "python",
   "name": "python3"
  },
  "language_info": {
   "codemirror_mode": {
    "name": "ipython",
    "version": 3
   },
   "file_extension": ".py",
   "mimetype": "text/x-python",
   "name": "python",
   "nbconvert_exporter": "python",
   "pygments_lexer": "ipython3",
   "version": "3.7.3"
  }
 },
 "nbformat": 4,
 "nbformat_minor": 2
}
