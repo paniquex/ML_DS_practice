{
 "cells": [
  {
   "cell_type": "markdown",
   "metadata": {},
   "source": [
    "# TASK 1"
   ]
  },
  {
   "cell_type": "code",
   "execution_count": 6,
   "metadata": {},
   "outputs": [],
   "source": [
    "class Polynomial:\n",
    "    def __init__(self, *args):\n",
    "        if len(args) == 0:\n",
    "            self.coefs = 0\n",
    "        else:\n",
    "            self.coefs = [coef for coef in args]\n",
    "        \n",
    "    def __call__(self, x):\n",
    "        if self.coefs == 0:\n",
    "            return 0\n",
    "        return sum([x ** idx * coef for idx, coef in enumerate(self.coefs)])"
   ]
  },
  {
   "cell_type": "code",
   "execution_count": 7,
   "metadata": {},
   "outputs": [],
   "source": [
    "my_polynom = Polynomial(2, 3, 1)"
   ]
  },
  {
   "cell_type": "code",
   "execution_count": 8,
   "metadata": {},
   "outputs": [
    {
     "name": "stdout",
     "output_type": "stream",
     "text": [
      "30\n"
     ]
    }
   ],
   "source": [
    "print(my_polynom(4))"
   ]
  },
  {
   "cell_type": "code",
   "execution_count": 9,
   "metadata": {},
   "outputs": [
    {
     "name": "stdout",
     "output_type": "stream",
     "text": [
      "2\n",
      "3\n",
      "4\n"
     ]
    }
   ],
   "source": [
    "for i, f in enumerate([2, 3, 4]):\n",
    "    print(f)"
   ]
  },
  {
   "cell_type": "markdown",
   "metadata": {},
   "source": [
    "# TASK 2, 3, 4"
   ]
  },
  {
   "cell_type": "code",
   "execution_count": 2,
   "metadata": {},
   "outputs": [],
   "source": [
    "class CooSparseMatrix:\n",
    "    def __init__(self, ijx_list, shape):\n",
    "        self.ijx_list = ijx_list\n",
    "        self.ijx_dict = {}\n",
    "        self.shape = shape\n",
    "        for ijx in self.ijx_list:\n",
    "            ij, x = ijx[:2], ijx[2]\n",
    "            is_i_int = isinstance(ij[0], int)\n",
    "            is_j_int = isinstance(ij[1], int)\n",
    "            if (not is_i_int) | (not is_j_int):\n",
    "                raise TypeError\n",
    "            if ij in self.ijx_dict.keys():\n",
    "                raise TypeError\n",
    "            else:\n",
    "                self.ijx_dict[ij] = x\n",
    "    \n",
    "    def __setattr__(self, name, value):                \n",
    "        if name == 'shape':\n",
    "            if 'shape' not in self.__dict__:\n",
    "                self.__dict__[name] = value\n",
    "            else:\n",
    "                elems_amount = self.shape[0] * self.shape[1]\n",
    "                if not isinstance(value, tuple):\n",
    "                    raise TypeError\n",
    "                elif (value[0] <= 0) | (value[1] <= 0):\n",
    "                    raise TypeError\n",
    "                elif (value[0] * value[1] != elems_amount):\n",
    "                    raise TypeError\n",
    "                else:\n",
    "                    ij_sorted = sorted(self.ijx_dict.keys())\n",
    "                    position_in_1d_2d = \\\n",
    "                        {i * self.shape[1] + j :\n",
    "                         (i, j) for i, j in self.ijx_dict.keys()}\n",
    "                    ijx_dict_new = {}\n",
    "                    for val in position_in_1d_2d.keys():\n",
    "                        new_i = int(val / value[1])\n",
    "                        new_j = val - value[1] * new_i\n",
    "                        ijx_dict_new[(new_i, new_j)] = self.ijx_dict[position_in_1d_2d[val]]\n",
    "                    self.ijx_dict = ijx_dict_new\n",
    "                    self.__dict__[name] = value \n",
    "        elif name == 'T':\n",
    "            raise AttributeError\n",
    "        else: \n",
    "            self.__dict__[name] = value\n",
    "    \n",
    "    def __getattr__(self, item):\n",
    "        if item == 'T':\n",
    "            ijx_list_new = [(ijx[1], ijx[0], self.ijx_dict[ijx]) for ijx in self.ijx_dict.keys()]\n",
    "            shape_new = self.shape[1], self.shape[0]\n",
    "            sparse_transposed = CooSparseMatrix(ijx_list_new, shape_new)\n",
    "            return sparse_transposed\n",
    "        else:\n",
    "            return self.__dict__[item]\n",
    "            \n",
    "    def __getitem__(self, idx):\n",
    "        if isinstance(idx, int):\n",
    "            ijx_list_new = []\n",
    "            if (idx >= self.shape[0]) | (idx < 0):\n",
    "                raise TypeError\n",
    "            for ij in self.ijx_dict.keys():\n",
    "                if idx == ij[0]:\n",
    "                    x = self.ijx_dict[ij]\n",
    "                    ijx_list_new.append((0, ij[1], x))\n",
    "            shape_new = (1, self.shape[1])\n",
    "            sparse_new = CooSparseMatrix(ijx_list_new, shape_new)\n",
    "            return sparse_new\n",
    "        else:\n",
    "            row_amount = self.shape[0]\n",
    "            col_amount = self.shape[1]\n",
    "            is_idx = (idx[0] in range(row_amount)) & \\\n",
    "                     (idx[1] in range(col_amount))\n",
    "            if idx in self.ijx_dict.keys():\n",
    "                return self.ijx_dict[idx]\n",
    "            elif is_idx:\n",
    "                return 0\n",
    "            else:\n",
    "                raise TypeError\n",
    "    \n",
    "    def __setitem__(self, ij, x):\n",
    "        row_amount = self.shape[0]\n",
    "        col_amount = self.shape[1]\n",
    "        is_idx = (ij[0] in range(row_amount)) & \\\n",
    "                 (ij[1] in range(col_amount))\n",
    "        if (x == 0) & (ij in self.ijx_dict.keys()):\n",
    "            self.ijx_dict.pop(ij)\n",
    "        if (is_idx) & (x != 0):\n",
    "            self.ijx_dict[ij] = x\n",
    "        elif not is_idx:\n",
    "            raise KeyError(ij)\n",
    "\n",
    "    def __add__(self, other):\n",
    "        if self.shape != other.shape:\n",
    "            raise TypeError\n",
    "        if len(self.ijx_dict.keys()) == 0:\n",
    "            return other\n",
    "        if len(other.ijx_dict.keys()) == 0:\n",
    "            return self\n",
    "        ij_wout_zero = other.ijx_dict.keys() | self.ijx_dict.keys()\n",
    "        sparse_new = CooSparseMatrix([], self.shape)  \n",
    "        for ij in ij_wout_zero:\n",
    "            sparse_new[ij] = self[ij] + other[ij]\n",
    "        return sparse_new\n",
    "    \n",
    "    def __sub__(self, other):\n",
    "        if self.shape != other.shape:\n",
    "            raise TypeError\n",
    "        if (self.ijx_dict == other.ijx_dict):\n",
    "            return CooSparseMatrix([], self.shape)\n",
    "        if len(other.ijx_dict.keys()) == 0:\n",
    "            return self\n",
    "        ij_wout_zero = other.ijx_dict.keys() | self.ijx_dict.keys()\n",
    "        sparse_new = CooSparseMatrix([], self.shape)\n",
    "        for ij in ij_wout_zero:\n",
    "            if self[ij] != other[ij]:\n",
    "                sparse_new[ij] = self[ij] - other[ij]\n",
    "        return sparse_new\n",
    "    \n",
    "    def __mul__(self, other):\n",
    "        sparse_new = CooSparseMatrix([], self.shape)\n",
    "        if other == 0:\n",
    "            return sparse_new\n",
    "        for ij in self.ijx_dict.keys():\n",
    "            sparse_new[ij] = self[ij] * other\n",
    "        return sparse_new\n",
    "    \n",
    "    def __rmul__(self, other):\n",
    "        sparse_new = CooSparseMatrix([], self.shape)\n",
    "        if other == 0:\n",
    "            return sparse_new\n",
    "        for ij in self.ijx_dict.keys():\n",
    "            sparse_new[ij] = self[ij] * other\n",
    "        return sparse_new"
   ]
  },
  {
   "cell_type": "code",
   "execution_count": 1,
   "metadata": {},
   "outputs": [
    {
     "ename": "NameError",
     "evalue": "name 'CooSparseMatrix' is not defined",
     "output_type": "error",
     "traceback": [
      "\u001b[0;31m---------------------------------------------------------------------------\u001b[0m",
      "\u001b[0;31mNameError\u001b[0m                                 Traceback (most recent call last)",
      "\u001b[0;32m<ipython-input-1-7e668a63ca57>\u001b[0m in \u001b[0;36m<module>\u001b[0;34m\u001b[0m\n\u001b[0;32m----> 1\u001b[0;31m \u001b[0mmatrix\u001b[0m \u001b[0;34m=\u001b[0m \u001b[0mCooSparseMatrix\u001b[0m\u001b[0;34m(\u001b[0m\u001b[0mijx_list\u001b[0m\u001b[0;34m=\u001b[0m\u001b[0;34m[\u001b[0m\u001b[0;34m(\u001b[0m\u001b[0;36m0\u001b[0m\u001b[0;34m,\u001b[0m \u001b[0;36m0\u001b[0m\u001b[0;34m,\u001b[0m \u001b[0;36m1\u001b[0m\u001b[0;34m)\u001b[0m\u001b[0;34m,\u001b[0m \u001b[0;34m(\u001b[0m\u001b[0;36m1\u001b[0m\u001b[0;34m,\u001b[0m \u001b[0;36m1\u001b[0m\u001b[0;34m,\u001b[0m \u001b[0;36m2\u001b[0m\u001b[0;34m)\u001b[0m\u001b[0;34m,\u001b[0m \u001b[0;34m(\u001b[0m\u001b[0;36m2\u001b[0m\u001b[0;34m,\u001b[0m \u001b[0;36m3\u001b[0m\u001b[0;34m,\u001b[0m \u001b[0;36m5\u001b[0m\u001b[0;34m)\u001b[0m\u001b[0;34m,\u001b[0m \u001b[0;34m(\u001b[0m\u001b[0;36m1\u001b[0m\u001b[0;34m,\u001b[0m \u001b[0;36m3\u001b[0m\u001b[0;34m,\u001b[0m \u001b[0;36m0\u001b[0m\u001b[0;34m)\u001b[0m\u001b[0;34m]\u001b[0m\u001b[0;34m,\u001b[0m \u001b[0mshape\u001b[0m\u001b[0;34m=\u001b[0m\u001b[0;34m(\u001b[0m\u001b[0;36m3\u001b[0m\u001b[0;34m,\u001b[0m \u001b[0;36m5\u001b[0m\u001b[0;34m)\u001b[0m\u001b[0;34m)\u001b[0m\u001b[0;34m\u001b[0m\u001b[0;34m\u001b[0m\u001b[0m\n\u001b[0m",
      "\u001b[0;31mNameError\u001b[0m: name 'CooSparseMatrix' is not defined"
     ]
    }
   ],
   "source": [
    "matrix = CooSparseMatrix(ijx_list=[(0, 0, 1), (1, 1, 2), (2, 3, 5), (1, 3, 0)], shape=(3, 5))"
   ]
  },
  {
   "cell_type": "code",
   "execution_count": 1,
   "metadata": {},
   "outputs": [
    {
     "name": "stdout",
     "output_type": "stream",
     "text": [
      "0 0 0\n",
      "0 0 0\n",
      "0 1 3\n",
      "0 1 -2\n",
      "0 2 24\n",
      "0 2 -8\n",
      "0 3 81\n",
      "0 3 -18\n",
      "0 4 192\n",
      "0 4 -32\n",
      "0 5 375\n",
      "0 5 -50\n",
      "0 6 648\n",
      "0 6 -72\n",
      "0 7 1029\n",
      "0 7 -98\n",
      "0 8 1536\n",
      "0 8 -128\n",
      "0 9 2187\n",
      "0 9 -162\n",
      "0 10 3000\n",
      "0 10 -200\n",
      "0 11 3993\n",
      "0 11 11\n",
      "0 12 5184\n",
      "0 12 -288\n",
      "0 13 6591\n",
      "0 13 -338\n",
      "0 14 8232\n",
      "0 14 -392\n",
      "0 15 10125\n",
      "0 15 -450\n",
      "0 16 12288\n",
      "0 16 -512\n",
      "0 17 14739\n",
      "0 17 -578\n",
      "0 18 17496\n",
      "0 18 -648\n",
      "0 19 20577\n",
      "0 19 -722\n",
      "0 20 24000\n",
      "0 20 -800\n",
      "0 21 27783\n",
      "0 21 -882\n",
      "0 22 31944\n",
      "0 22 22\n",
      "0 23 36501\n",
      "0 23 -1058\n",
      "0 24 41472\n",
      "0 24 -1152\n",
      "0 25 46875\n",
      "0 25 -1250\n",
      "0 26 52728\n",
      "0 26 -1352\n",
      "0 27 59049\n",
      "0 27 -1458\n",
      "0 28 65856\n",
      "0 28 -1568\n",
      "0 29 73167\n",
      "0 29 -1682\n",
      "1 0 -2\n",
      "1 0 3\n",
      "1 1 0\n",
      "1 1 0\n",
      "1 2 0\n",
      "1 2 0\n",
      "1 3 0\n",
      "1 3 0\n",
      "1 4 0\n",
      "1 4 0\n",
      "1 5 0\n",
      "1 5 0\n",
      "1 6 0\n",
      "1 6 0\n",
      "1 7 0\n",
      "1 7 0\n",
      "1 8 0\n",
      "1 8 0\n",
      "1 9 0\n",
      "1 9 0\n",
      "1 10 0\n",
      "1 10 0\n",
      "1 11 0\n",
      "1 11 14\n",
      "1 12 0\n",
      "1 12 0\n",
      "1 13 11\n",
      "1 13 0\n",
      "1 14 0\n",
      "1 14 0\n",
      "1 15 0\n",
      "1 15 0\n",
      "1 16 0\n",
      "1 16 0\n",
      "1 17 0\n",
      "1 17 0\n",
      "1 18 0\n",
      "1 18 0\n",
      "1 19 0\n",
      "1 19 0\n",
      "1 20 0\n",
      "1 20 0\n",
      "1 21 0\n",
      "1 21 0\n",
      "1 22 0\n",
      "1 22 25\n",
      "1 23 0\n",
      "1 23 0\n",
      "1 24 0\n",
      "1 24 0\n",
      "1 25 0\n",
      "1 25 0\n",
      "1 26 24\n",
      "1 26 0\n",
      "1 27 0\n",
      "1 27 0\n",
      "1 28 0\n",
      "1 28 0\n",
      "1 29 0\n",
      "1 29 0\n",
      "2 0 -8\n",
      "2 0 24\n",
      "2 1 0\n",
      "2 1 0\n",
      "2 2 0\n",
      "2 2 0\n",
      "2 3 0\n",
      "2 3 0\n",
      "2 4 0\n",
      "2 4 0\n",
      "2 5 0\n",
      "2 5 0\n",
      "2 6 0\n",
      "2 6 0\n",
      "2 7 0\n",
      "2 7 0\n",
      "2 8 0\n",
      "2 8 0\n",
      "2 9 0\n",
      "2 9 0\n",
      "2 10 0\n",
      "2 10 0\n",
      "2 11 0\n",
      "2 11 35\n",
      "2 12 0\n",
      "2 12 0\n",
      "2 13 5\n",
      "2 13 0\n",
      "2 14 0\n",
      "2 14 0\n",
      "2 15 0\n",
      "2 15 0\n",
      "2 16 0\n",
      "2 16 0\n",
      "2 17 0\n",
      "2 17 0\n",
      "2 18 0\n",
      "2 18 0\n",
      "2 19 0\n",
      "2 19 0\n",
      "2 20 0\n",
      "2 20 0\n",
      "2 21 0\n",
      "2 21 0\n",
      "2 22 0\n",
      "2 22 46\n",
      "2 23 0\n",
      "2 23 0\n",
      "2 24 0\n",
      "2 24 0\n",
      "2 25 0\n",
      "2 25 0\n",
      "2 26 18\n",
      "2 26 0\n",
      "2 27 0\n",
      "2 27 0\n",
      "2 28 0\n",
      "2 28 0\n",
      "2 29 0\n",
      "2 29 0\n"
     ]
    }
   ],
   "source": [
    "from sparse_matrix import CooSparseMatrix\n",
    "\n",
    "matrix1 = CooSparseMatrix([], shape=(100, 100))\n",
    "\n",
    "for i in range(100):\n",
    "    for j in range(100):\n",
    "        if i % 13 == 0:\n",
    "            matrix1[i, j] = i - 2 * (j ** 2)\n",
    "        if j % 11 == 0:\n",
    "            matrix1[i, j] = j + 3 * (i ** 3)\n",
    "\n",
    "matrix2 = matrix1.T\n",
    "for i in range(3):\n",
    "    for j in range(30):\n",
    "        print(i, j, matrix2[i, j])\n",
    "        print(i, j, matrix1[i, j])"
   ]
  },
  {
   "cell_type": "code",
   "execution_count": 6,
   "metadata": {},
   "outputs": [
    {
     "data": {
      "text/plain": [
       "[]"
      ]
     },
     "execution_count": 6,
     "metadata": {},
     "output_type": "execute_result"
    }
   ],
   "source": [
    "matrix1.T.ijx_list"
   ]
  },
  {
   "cell_type": "code",
   "execution_count": 66,
   "metadata": {},
   "outputs": [
    {
     "ename": "AttributeError",
     "evalue": "",
     "output_type": "error",
     "traceback": [
      "\u001b[0;31m---------------------------------------------------------------------------\u001b[0m",
      "\u001b[0;31mAttributeError\u001b[0m                            Traceback (most recent call last)",
      "\u001b[0;32m<ipython-input-66-03723db2cc22>\u001b[0m in \u001b[0;36m<module>\u001b[0;34m\u001b[0m\n\u001b[0;32m----> 1\u001b[0;31m \u001b[0mmatrix\u001b[0m\u001b[0;34m.\u001b[0m\u001b[0mT\u001b[0m \u001b[0;34m=\u001b[0m \u001b[0;36m0\u001b[0m\u001b[0;34m\u001b[0m\u001b[0;34m\u001b[0m\u001b[0m\n\u001b[0m",
      "\u001b[0;32m<ipython-input-59-aaefb0b33aa5>\u001b[0m in \u001b[0;36m__setattr__\u001b[0;34m(self, name, value)\u001b[0m\n\u001b[1;32m     40\u001b[0m                     \u001b[0mself\u001b[0m\u001b[0;34m.\u001b[0m\u001b[0m__dict__\u001b[0m\u001b[0;34m[\u001b[0m\u001b[0mname\u001b[0m\u001b[0;34m]\u001b[0m \u001b[0;34m=\u001b[0m \u001b[0mvalue\u001b[0m\u001b[0;34m\u001b[0m\u001b[0;34m\u001b[0m\u001b[0m\n\u001b[1;32m     41\u001b[0m         \u001b[0;32melif\u001b[0m \u001b[0mname\u001b[0m \u001b[0;34m==\u001b[0m \u001b[0;34m'T'\u001b[0m\u001b[0;34m:\u001b[0m\u001b[0;34m\u001b[0m\u001b[0;34m\u001b[0m\u001b[0m\n\u001b[0;32m---> 42\u001b[0;31m             \u001b[0;32mraise\u001b[0m \u001b[0mAttributeError\u001b[0m\u001b[0;34m\u001b[0m\u001b[0;34m\u001b[0m\u001b[0m\n\u001b[0m\u001b[1;32m     43\u001b[0m         \u001b[0;32melse\u001b[0m\u001b[0;34m:\u001b[0m\u001b[0;34m\u001b[0m\u001b[0;34m\u001b[0m\u001b[0m\n\u001b[1;32m     44\u001b[0m             \u001b[0mself\u001b[0m\u001b[0;34m.\u001b[0m\u001b[0m__dict__\u001b[0m\u001b[0;34m[\u001b[0m\u001b[0mname\u001b[0m\u001b[0;34m]\u001b[0m \u001b[0;34m=\u001b[0m \u001b[0mvalue\u001b[0m\u001b[0;34m\u001b[0m\u001b[0;34m\u001b[0m\u001b[0m\n",
      "\u001b[0;31mAttributeError\u001b[0m: "
     ]
    }
   ],
   "source": [
    "matrix.T = 0"
   ]
  },
  {
   "cell_type": "code",
   "execution_count": 3,
   "metadata": {},
   "outputs": [],
   "source": [
    "import numpy as np\n",
    "\n",
    "\n",
    "def to_array(matrix):\n",
    "    array = np.zeros(matrix.shape)\n",
    "    for ij in matrix.ijx_dict.keys():\n",
    "        array[ij] = matrix[ij]\n",
    "    return array"
   ]
  },
  {
   "cell_type": "code",
   "execution_count": 6,
   "metadata": {},
   "outputs": [
    {
     "data": {
      "text/plain": [
       "array([[1., 2.],\n",
       "       [3., 0.]])"
      ]
     },
     "execution_count": 6,
     "metadata": {},
     "output_type": "execute_result"
    }
   ],
   "source": [
    "to_array(matrix3)"
   ]
  },
  {
   "cell_type": "code",
   "execution_count": 74,
   "metadata": {},
   "outputs": [
    {
     "data": {
      "text/plain": [
       "{1}"
      ]
     },
     "execution_count": 74,
     "metadata": {},
     "output_type": "execute_result"
    }
   ],
   "source": [
    "{1:2, 2:3}.keys() & {1:2, 3:4}.keys()"
   ]
  },
  {
   "cell_type": "code",
   "execution_count": 26,
   "metadata": {},
   "outputs": [
    {
     "data": {
      "text/plain": [
       "[(0, 1), (0, 2), (0, 3), (1, 0), (1, 50)]"
      ]
     },
     "execution_count": 26,
     "metadata": {},
     "output_type": "execute_result"
    }
   ],
   "source": [
    "sorted({(0, 1) :2, (1, 0):3, (1, 50):3, (0, 3):3, (0, 2):3}.keys())"
   ]
  },
  {
   "cell_type": "code",
   "execution_count": 29,
   "metadata": {},
   "outputs": [
    {
     "data": {
      "text/plain": [
       "{0: (0, 0),\n",
       " 1: (0, 1),\n",
       " 2: (0, 2),\n",
       " 3: (1, 0),\n",
       " 4: (1, 1),\n",
       " 5: (1, 2),\n",
       " 6: (2, 0),\n",
       " 7: (2, 1),\n",
       " 8: (2, 2)}"
      ]
     },
     "execution_count": 29,
     "metadata": {},
     "output_type": "execute_result"
    }
   ],
   "source": [
    "{i*3 + j : (i, j) for i in range(3) for j in range(3)}"
   ]
  },
  {
   "cell_type": "code",
   "execution_count": 39,
   "metadata": {},
   "outputs": [],
   "source": [
    "ik = int(7/3)"
   ]
  },
  {
   "cell_type": "code",
   "execution_count": 40,
   "metadata": {},
   "outputs": [
    {
     "data": {
      "text/plain": [
       "2"
      ]
     },
     "execution_count": 40,
     "metadata": {},
     "output_type": "execute_result"
    }
   ],
   "source": [
    "ik"
   ]
  },
  {
   "cell_type": "code",
   "execution_count": 41,
   "metadata": {},
   "outputs": [],
   "source": [
    "jk = 7 - 3 * ik"
   ]
  },
  {
   "cell_type": "code",
   "execution_count": 42,
   "metadata": {},
   "outputs": [
    {
     "data": {
      "text/plain": [
       "1"
      ]
     },
     "execution_count": 42,
     "metadata": {},
     "output_type": "execute_result"
    }
   ],
   "source": [
    "jk"
   ]
  },
  {
   "cell_type": "code",
   "execution_count": null,
   "metadata": {},
   "outputs": [],
   "source": []
  }
 ],
 "metadata": {
  "kernelspec": {
   "display_name": "Python 3",
   "language": "python",
   "name": "python3"
  },
  "language_info": {
   "codemirror_mode": {
    "name": "ipython",
    "version": 3
   },
   "file_extension": ".py",
   "mimetype": "text/x-python",
   "name": "python",
   "nbconvert_exporter": "python",
   "pygments_lexer": "ipython3",
   "version": "3.7.3"
  }
 },
 "nbformat": 4,
 "nbformat_minor": 2
}
