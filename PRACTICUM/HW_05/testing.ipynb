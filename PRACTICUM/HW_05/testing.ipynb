{
 "cells": [
  {
   "cell_type": "markdown",
   "metadata": {},
   "source": [
    "## Генераторы и итераторы."
   ]
  },
  {
   "cell_type": "code",
   "execution_count": null,
   "metadata": {},
   "outputs": [],
   "source": []
  },
  {
   "cell_type": "code",
   "execution_count": 25,
   "metadata": {},
   "outputs": [],
   "source": [
    "import numpy as np\n",
    "\n",
    "\n",
    "class RleSequence:\n",
    "    def __init__(self, input_sequence):\n",
    "        self.elements, self.amounts = self.encode_rle(input_sequence)\n",
    "    \n",
    "    def encode_rle(self, x):\n",
    "        if len(x) > 0:\n",
    "            idx_with_differences = np.append(np.where(np.diff(x) != 0)[0],\n",
    "                                             np.argwhere(x == x[-1])[-1])\n",
    "            return (x[idx_with_differences], np.diff(np.insert(idx_with_differences, 0, -1)))\n",
    "        else:\n",
    "            return None\n",
    "    \n",
    "    def decode_rle(self):\n",
    "        decoded_sequence = np.zeros(np.sum(self.amounts), dtype=self.elements.dtype)\n",
    "        indx = 0\n",
    "        for i, element in enumerate(self.elements):\n",
    "            for tmp in range(self.amounts[i]):\n",
    "                decoded_sequence[indx] = element\n",
    "                indx += 1\n",
    "        return decoded_sequence\n",
    "    \n",
    "    def __iter__(self):\n",
    "        self.curr_idx = 0\n",
    "        self.curr_amount = 0\n",
    "        return self\n",
    "    \n",
    "    def __next__(self):\n",
    "        if self.curr_idx < len(self.elements):\n",
    "            self.curr_amount += 1\n",
    "            curr_elem = self.elements[self.curr_idx]\n",
    "            if self.curr_amount >= self.amounts[self.curr_idx]:\n",
    "                self.curr_amount = 0\n",
    "                self.curr_idx += 1\n",
    "            return curr_elem\n",
    "        else:\n",
    "            raise(StopIteration)\n",
    "        \n",
    "                \n",
    "    def __getitem__(self, indx):\n",
    "        if isinstance(indx, slice):\n",
    "            start = indx.start\n",
    "            stop = indx.stop\n",
    "            step = indx.step\n",
    "            if start is None:\n",
    "                start = 0\n",
    "            if stop is None:\n",
    "                stop = np.sum(self.amounts)\n",
    "            if step is None:\n",
    "                step = 1\n",
    "            return self.decode_rle()[start:stop:step]\n",
    "        else:\n",
    "            return self.decode_rle()[indx]\n",
    "    \n",
    "    def __contains__(self, target_elem):\n",
    "        return target_elem in self.elements"
   ]
  },
  {
   "cell_type": "code",
   "execution_count": 26,
   "metadata": {},
   "outputs": [
    {
     "name": "stdout",
     "output_type": "stream",
     "text": [
      "The memory_profiler extension is already loaded. To reload it, use:\n",
      "  %reload_ext memory_profiler\n"
     ]
    }
   ],
   "source": [
    "%load_ext memory_profiler"
   ]
  },
  {
   "cell_type": "code",
   "execution_count": 27,
   "metadata": {
    "scrolled": true
   },
   "outputs": [
    {
     "name": "stdout",
     "output_type": "stream",
     "text": [
      "1\n",
      "1\n",
      "2\n",
      "1\n",
      "2\n",
      "2\n",
      "3\n",
      "3\n",
      "1\n",
      "1\n",
      "2\n",
      "1\n",
      "2\n",
      "2\n",
      "3\n",
      "3\n",
      "1\n",
      "1\n",
      "2\n",
      "1\n",
      "2\n",
      "2\n",
      "3\n",
      "3\n",
      "1\n",
      "1\n",
      "2\n",
      "1\n",
      "2\n",
      "2\n",
      "3\n",
      "3\n",
      "1\n",
      "1\n",
      "2\n",
      "1\n",
      "2\n",
      "2\n",
      "3\n",
      "3\n",
      "1\n",
      "1\n",
      "2\n",
      "1\n",
      "2\n",
      "2\n",
      "3\n",
      "3\n",
      "1\n",
      "1\n",
      "2\n",
      "1\n",
      "2\n",
      "2\n",
      "3\n",
      "3\n",
      "peak memory: 195.26 MiB, increment: 0.00 MiB\n"
     ]
    }
   ],
   "source": [
    "%%memit\n",
    "rle_seq = RleSequence(np.array([1, 1, 2, 1, 2, 2, 3, 3]))\n",
    "for i in range(8):\n",
    "    print(rle_seq[i])"
   ]
  },
  {
   "cell_type": "code",
   "execution_count": 29,
   "metadata": {
    "scrolled": true
   },
   "outputs": [
    {
     "name": "stdout",
     "output_type": "stream",
     "text": [
      "452902\n",
      "peak memory: 213.56 MiB, increment: 18.29 MiB\n"
     ]
    }
   ],
   "source": [
    "%%memit\n",
    "np.random.seed(32)\n",
    "tmp_array = np.random.randint(0, 3, 10 ** 6)\n",
    "\n",
    "rle_seq = RleSequence(tmp_array)\n",
    "\n",
    "sum_elements = 0\n",
    "tmp = rle_seq[1:905005:2]\n",
    "print(np.sum(tmp))"
   ]
  },
  {
   "cell_type": "markdown",
   "metadata": {},
   "source": [
    "## Task 2"
   ]
  },
  {
   "cell_type": "code",
   "execution_count": 62,
   "metadata": {},
   "outputs": [],
   "source": [
    "from collections.abc import Iterable\n",
    "\n",
    "\n",
    "def linearize(iterable_object):\n",
    "    for elem in iterable_object:\n",
    "        if isinstance(elem, Iterable):\n",
    "            if isinstance(elem, str) & (len(elem) == 1):\n",
    "                yield elem\n",
    "            else:\n",
    "                for elem2 in linearize(elem):\n",
    "                    yield elem2\n",
    "            continue       \n",
    "        yield elem"
   ]
  },
  {
   "cell_type": "code",
   "execution_count": 63,
   "metadata": {},
   "outputs": [
    {
     "data": {
      "text/plain": [
       "[4, 'm', 'm', 'p', 8, 15, 1, 6, 2, 3, 4, 3]"
      ]
     },
     "execution_count": 63,
     "metadata": {},
     "output_type": "execute_result"
    }
   ],
   "source": [
    "my_list = []\n",
    "for elem in linearize([4, 'mmp', [8, [15, 1], [[6]], [2, [3]]], range(4, 2, -1)]):\n",
    "    my_list.append(elem)\n",
    "my_list"
   ]
  },
  {
   "cell_type": "markdown",
   "metadata": {},
   "source": [
    "## Task 3"
   ]
  },
  {
   "cell_type": "code",
   "execution_count": 176,
   "metadata": {},
   "outputs": [],
   "source": [
    "import numpy as np\n",
    "\n",
    "\n",
    "class BatchGenerator:\n",
    "    def __init__(self, list_of_sequences, batch_size, shuffle=False):\n",
    "        array_of_sequences = np.array(list_of_sequences)\n",
    "        if shuffle:\n",
    "            np.random.shuffle(array_of_sequences.T)\n",
    "\n",
    "        self.array_of_sequences = array_of_sequences\n",
    "        self.bs = batch_size\n",
    "    \n",
    "    def __next__(self):\n",
    "        new_batch = np.hsplit(self.array_of_sequences)\n",
    "        "
   ]
  },
  {
   "cell_type": "code",
   "execution_count": 76,
   "metadata": {},
   "outputs": [],
   "source": [
    "import numpy as np\n",
    "\n",
    "\n",
    "def BatchGenerator(list_of_sequences, batch_size, shuffle=False):\n",
    "    array_of_sequences = np.array(list_of_sequences, dtype='O')\n",
    "    if shuffle:\n",
    "        np.random.shuffle(array_of_sequences.T)\n",
    "    split_size = array_of_sequences.shape[1] // batch_size \\\n",
    "                                + (array_of_sequences.shape[1] % batch_size)\n",
    "    for i in range(0, array_of_sequences.shape[1], batch_size):\n",
    "        yield array_of_sequences[:, i:(i + batch_size)].tolist()"
   ]
  },
  {
   "cell_type": "code",
   "execution_count": 77,
   "metadata": {},
   "outputs": [
    {
     "name": "stdout",
     "output_type": "stream",
     "text": [
      "[['84', 'u', 'w', '2', '5', '69', 'n', '27', 'k', 'k', '58', '96'], ['1', '59', '24', 'z', '15', '70', '35', '79', '88', '99', 'w', '97']]\n",
      "[['j', '74'], ['52', '93']]\n"
     ]
    }
   ],
   "source": [
    "np.random.seed(42)\n",
    "bg = BatchGenerator(list_of_sequences=[['84', 'u', 'w', '2', '5', '69', 'n', '27', 'k', 'k', '58', '96', 'j', '74'], ['1', '59', '24', 'z', '15', '70', '35', '79', '88', '99', 'w', '97', '52', '93']], batch_size=12, shuffle=False)\n",
    "for e in bg:\n",
    "\tprint(e)"
   ]
  },
  {
   "cell_type": "code",
   "execution_count": 74,
   "metadata": {},
   "outputs": [
    {
     "name": "stdout",
     "output_type": "stream",
     "text": [
      "0\n",
      "[['12', '81', '48', '32', '75'], ['64', '88', '89', '79', '68'], ['11', '32', '74', '44', '58'], ['79', '42', '88', 'v', '13'], ['40', 'x', '56', '67', '34']]\n",
      "5\n",
      "[['30'], ['t'], ['95'], ['g'], ['1']]\n"
     ]
    }
   ],
   "source": [
    "np.random.seed(42)\n",
    "bg = BatchGenerator(list_of_sequences=[['12', '81', '48', '32', '75', '30'], ['64', '88', '89', '79', '68', 't'], ['11', '32', '74', '44', '58', '95'], ['79', '42', '88', 'v', '13', 'g'], ['40', 'x', '56', '67', '34', '1']], batch_size=5, shuffle=False)\n",
    "for e in bg:\n",
    "\tprint(e)"
   ]
  },
  {
   "cell_type": "markdown",
   "metadata": {},
   "source": [
    "## Task 4"
   ]
  },
  {
   "cell_type": "code",
   "execution_count": null,
   "metadata": {},
   "outputs": [],
   "source": [
    "class WordContextGenerator:\n",
    "    def __init__(self, words, window_size):\n",
    "        self.words = words\n",
    "        self.window_size = window_size\n",
    "    \n",
    "    def __iter__(self):\n",
    "        return self.words\n",
    "    \n",
    "    def __next__(self):\n",
    "        new_pair = "
   ]
  },
  {
   "cell_type": "code",
   "execution_count": 94,
   "metadata": {},
   "outputs": [],
   "source": [
    "def WordContextGenerator(words, window_size):\n",
    "    for i, word in enumerate(words):\n",
    "        for left_word in words[max(i - window_size, 0):i]:\n",
    "            yield word, left_word\n",
    "        for right_word in words[i+1: i + window_size + 1]:\n",
    "            yield word, right_word"
   ]
  },
  {
   "cell_type": "code",
   "execution_count": 95,
   "metadata": {},
   "outputs": [],
   "source": [
    "s = ['мама', 'очень', 'хорошо', 'мыла', 'красивую', 'раму']"
   ]
  },
  {
   "cell_type": "code",
   "execution_count": 96,
   "metadata": {},
   "outputs": [
    {
     "name": "stdout",
     "output_type": "stream",
     "text": [
      "('мама', 'очень')\n",
      "('мама', 'хорошо')\n",
      "('очень', 'мама')\n",
      "('очень', 'хорошо')\n",
      "('очень', 'мыла')\n",
      "('хорошо', 'мама')\n",
      "('хорошо', 'очень')\n",
      "('хорошо', 'мыла')\n",
      "('хорошо', 'красивую')\n",
      "('мыла', 'очень')\n",
      "('мыла', 'хорошо')\n",
      "('мыла', 'красивую')\n",
      "('мыла', 'раму')\n",
      "('красивую', 'хорошо')\n",
      "('красивую', 'мыла')\n",
      "('красивую', 'раму')\n",
      "('раму', 'мыла')\n",
      "('раму', 'красивую')\n"
     ]
    }
   ],
   "source": [
    "for elem in WordContextGenerator(s, window_size=2):\n",
    "    print(elem)"
   ]
  },
  {
   "cell_type": "markdown",
   "metadata": {},
   "source": [
    "# DECORATORS"
   ]
  },
  {
   "cell_type": "markdown",
   "metadata": {},
   "source": [
    "## Task 5"
   ]
  },
  {
   "cell_type": "code",
   "execution_count": 99,
   "metadata": {},
   "outputs": [],
   "source": [
    "import functools\n",
    "\n",
    "\n",
    "def check_arguments(*args_for_decorator):\n",
    "    def actual_decorator(func):\n",
    "        @functools.wraps(func)\n",
    "        def wrapper(*args):\n",
    "            if len(args) < len(args_for_decorator):\n",
    "                raise(TypeError)\n",
    "            for i in range(len(args_for_decorator)):\n",
    "                if not isinstance(args[i], args_for_decorator[i]):\n",
    "                    raise(TypeError)    \n",
    "            func(*args)\n",
    "        return wrapper\n",
    "    return actual_decorator"
   ]
  },
  {
   "cell_type": "code",
   "execution_count": 100,
   "metadata": {},
   "outputs": [],
   "source": [
    "@check_arguments(int, int, int, str)\n",
    "def test(k, l, m, w):\n",
    "    return 0"
   ]
  },
  {
   "cell_type": "code",
   "execution_count": 101,
   "metadata": {},
   "outputs": [],
   "source": [
    "test(1, 2, 3, '4')"
   ]
  },
  {
   "cell_type": "code",
   "execution_count": 103,
   "metadata": {},
   "outputs": [
    {
     "name": "stdout",
     "output_type": "stream",
     "text": [
      "some_name\n",
      "Some doc.\n"
     ]
    }
   ],
   "source": [
    "# this is for similar behaviour in python 2 and python 3\n",
    "from __future__ import print_function\n",
    "\n",
    "\n",
    "@check_arguments(int)\n",
    "def some_name(a):\n",
    "    \"Some doc.\"\n",
    "    print(a)\n",
    "\n",
    "print(some_name.__name__)\n",
    "print(some_name.__doc__)\n",
    "\n",
    "# don't forget to use functools.wraps"
   ]
  },
  {
   "cell_type": "code",
   "execution_count": 23,
   "metadata": {},
   "outputs": [
    {
     "name": "stdout",
     "output_type": "stream",
     "text": [
      "1 2 3\n",
      "TypeError\n"
     ]
    }
   ],
   "source": []
  },
  {
   "cell_type": "markdown",
   "metadata": {},
   "source": [
    "## Task 6"
   ]
  },
  {
   "cell_type": "code",
   "execution_count": 52,
   "metadata": {},
   "outputs": [],
   "source": [
    "import functools\n",
    "\n",
    "\n",
    "def substitutive(func):\n",
    "    \n",
    "    @functools.wraps(func)\n",
    "    def wrapper(*args):\n",
    "        tmp_args = []\n",
    "        args_for_save = []\n",
    "        tmp_wrapper = None\n",
    "        arguments_amount_real = len(args) + len(wrapper.__args_list__)\n",
    "        if arguments_amount_real > func.__code__.co_argcount:\n",
    "            raise TypeError\n",
    "        try:\n",
    "            for arg in wrapper.__args_list__:\n",
    "                tmp_args.append(arg)\n",
    "            for arg in args:\n",
    "                tmp_args.append(arg)\n",
    "            return func(*tmp_args)\n",
    "        except:\n",
    "            wrapper.__args_list__ = tmp_args[:]\n",
    "            return wrapper\n",
    "    wrapper.__args_list__ = []                \n",
    "    return wrapper"
   ]
  },
  {
   "cell_type": "code",
   "execution_count": 53,
   "metadata": {},
   "outputs": [
    {
     "name": "stdout",
     "output_type": "stream",
     "text": [
      "TypeError\n"
     ]
    }
   ],
   "source": [
    "@substitutive\n",
    "def f(x, y, z):\n",
    "    \"Some doc\"\n",
    "    pass\n",
    "try:\n",
    "    f(1, 2)(1, 2)\n",
    "except Exception as e:\n",
    "    print(type(e).__name__)"
   ]
  },
  {
   "cell_type": "code",
   "execution_count": 54,
   "metadata": {},
   "outputs": [
    {
     "name": "stdout",
     "output_type": "stream",
     "text": [
      "1 2 3\n",
      "1 2 4\n",
      "1 2 5\n"
     ]
    }
   ],
   "source": [
    "@substitutive\n",
    "def f(x, y, z):\n",
    "    \"Some doc\"\n",
    "    print(x, y, z)\n",
    "\n",
    "try:\n",
    "    g = f(1, 2)\n",
    "    g(3)\n",
    "    g(4)\n",
    "    g(5)\n",
    "except Exception as e:\n",
    "    print(type(e).__name__)"
   ]
  },
  {
   "cell_type": "code",
   "execution_count": 55,
   "metadata": {},
   "outputs": [],
   "source": [
    "@substitutive\n",
    "def f(a, b, c):\n",
    "    print(a, b, c)"
   ]
  },
  {
   "cell_type": "code",
   "execution_count": 56,
   "metadata": {},
   "outputs": [
    {
     "name": "stdout",
     "output_type": "stream",
     "text": [
      "1 2 3\n"
     ]
    }
   ],
   "source": [
    "f(1, 2)(3)"
   ]
  },
  {
   "cell_type": "code",
   "execution_count": 57,
   "metadata": {},
   "outputs": [
    {
     "name": "stdout",
     "output_type": "stream",
     "text": [
      "1 2 1\n"
     ]
    },
    {
     "ename": "TypeError",
     "evalue": "'NoneType' object is not callable",
     "output_type": "error",
     "traceback": [
      "\u001b[0;31m---------------------------------------------------------------------------\u001b[0m",
      "\u001b[0;31mTypeError\u001b[0m                                 Traceback (most recent call last)",
      "\u001b[0;32m<ipython-input-57-3fe5edccd425>\u001b[0m in \u001b[0;36m<module>\u001b[0;34m\u001b[0m\n\u001b[0;32m----> 1\u001b[0;31m \u001b[0mf\u001b[0m\u001b[0;34m(\u001b[0m\u001b[0;36m1\u001b[0m\u001b[0;34m)\u001b[0m\u001b[0;34m(\u001b[0m\u001b[0;36m2\u001b[0m\u001b[0;34m)\u001b[0m\u001b[0;34m(\u001b[0m\u001b[0;36m3\u001b[0m\u001b[0;34m)\u001b[0m\u001b[0;34m\u001b[0m\u001b[0;34m\u001b[0m\u001b[0m\n\u001b[0m",
      "\u001b[0;31mTypeError\u001b[0m: 'NoneType' object is not callable"
     ]
    }
   ],
   "source": [
    "f(1)(2)(3)"
   ]
  },
  {
   "cell_type": "code",
   "execution_count": 20,
   "metadata": {},
   "outputs": [
    {
     "data": {
      "text/plain": [
       "<function __main__.f(a, b, c)>"
      ]
     },
     "execution_count": 20,
     "metadata": {},
     "output_type": "execute_result"
    }
   ],
   "source": [
    "f(1, 2)"
   ]
  },
  {
   "cell_type": "code",
   "execution_count": 21,
   "metadata": {},
   "outputs": [
    {
     "data": {
      "text/plain": [
       "<function __main__.f(a, b, c)>"
      ]
     },
     "execution_count": 21,
     "metadata": {},
     "output_type": "execute_result"
    }
   ],
   "source": [
    "f(1, 2)(3)"
   ]
  },
  {
   "cell_type": "code",
   "execution_count": 58,
   "metadata": {},
   "outputs": [
    {
     "name": "stdout",
     "output_type": "stream",
     "text": [
      "TypeError\n"
     ]
    }
   ],
   "source": [
    "@substitutive\n",
    "def f(x, y, z):\n",
    "    \"Some doc\"\n",
    "    print(x, y, z)\n",
    "\n",
    "try:\n",
    "    f(1, 2, 3, 4)\n",
    "except Exception as e:\n",
    "    print(type(e).__name__)"
   ]
  },
  {
   "cell_type": "code",
   "execution_count": 64,
   "metadata": {},
   "outputs": [
    {
     "ename": "NameError",
     "evalue": "name 'inspect' is not defined",
     "output_type": "error",
     "traceback": [
      "\u001b[0;31m---------------------------------------------------------------------------\u001b[0m",
      "\u001b[0;31mNameError\u001b[0m                                 Traceback (most recent call last)",
      "\u001b[0;32m<ipython-input-64-a9088d77cc64>\u001b[0m in \u001b[0;36m<module>\u001b[0;34m\u001b[0m\n\u001b[0;32m----> 1\u001b[0;31m \u001b[0minspect\u001b[0m\u001b[0;34m\u001b[0m\u001b[0;34m\u001b[0m\u001b[0m\n\u001b[0m",
      "\u001b[0;31mNameError\u001b[0m: name 'inspect' is not defined"
     ]
    }
   ],
   "source": [
    "inspect"
   ]
  },
  {
   "cell_type": "code",
   "execution_count": null,
   "metadata": {},
   "outputs": [],
   "source": []
  }
 ],
 "metadata": {
  "kernelspec": {
   "display_name": "Python 3",
   "language": "python",
   "name": "python3"
  },
  "language_info": {
   "codemirror_mode": {
    "name": "ipython",
    "version": 3
   },
   "file_extension": ".py",
   "mimetype": "text/x-python",
   "name": "python",
   "nbconvert_exporter": "python",
   "pygments_lexer": "ipython3",
   "version": "3.7.4"
  }
 },
 "nbformat": 4,
 "nbformat_minor": 2
}
