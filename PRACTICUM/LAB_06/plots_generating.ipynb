{
 "cells": [
  {
   "cell_type": "markdown",
   "metadata": {},
   "source": [
    "## Построение и сохранения графиков, нужных для отчета.\n",
    "### Загрузим логи экспериментов:"
   ]
  },
  {
   "cell_type": "code",
   "execution_count": 3,
   "metadata": {},
   "outputs": [],
   "source": [
    "import pickle\n",
    "with open('GD_SGD_step_alpha_beta_batch_size.pkl', 'rb') as f:\n",
    "    alpha_beta_bsize_logs = pickle.load(f)"
   ]
  },
  {
   "cell_type": "code",
   "execution_count": 58,
   "metadata": {},
   "outputs": [],
   "source": [
    "import pandas as pd\n",
    "import seaborn as sns\n",
    "import numpy as np\n",
    "import matplotlib.pyplot as plt"
   ]
  },
  {
   "cell_type": "code",
   "execution_count": 93,
   "metadata": {},
   "outputs": [],
   "source": [
    "keys_for_df = ['time', 'func', 'accuracy']"
   ]
  },
  {
   "cell_type": "code",
   "execution_count": 133,
   "metadata": {},
   "outputs": [
    {
     "data": {
      "text/plain": [
       "[]"
      ]
     },
     "execution_count": 133,
     "metadata": {},
     "output_type": "execute_result"
    },
    {
     "data": {
      "image/png": "[encoded data removed]",
      "text/plain": [
       "<Figure size 432x288 with 1 Axes>"
      ]
     },
     "metadata": {
      "needs_background": "light"
     },
     "output_type": "display_data"
    }
   ],
   "source": [
    "smooth_size = 50\n",
    "\n",
    "hist_0_df = pd.DataFrame({key: alhpa_beta_bsize_logs[299][key] for key in keys_for_df})\n",
    "hist_1_df = pd.DataFrame({key: alpha_beta_bsize_logs[300][key] for key in keys_for_df})\n",
    "sns.lineplot(x = np.cumsum(np.cumsum(hist_0_df['time']))[smooth_size:-smooth_size], y=np.convolve(hist_0_df['func'], np.ones(smooth_size) / smooth_size, 'same')[smooth_size:-smooth_size])\n",
    "sns.lineplot(x = np.cumsum(np.cumsum(hist_1_df['time']))[smooth_size:-smooth_size], y=np.convolve(hist_1_df['func'], np.ones(smooth_size) / smooth_size, 'same' )[smooth_size:-smooth_size])\n",
    "plt.semilogy()\n",
    "# plt.semilogx()\n"
   ]
  },
  {
   "cell_type": "code",
   "execution_count": 87,
   "metadata": {},
   "outputs": [],
   "source": []
  },
  {
   "cell_type": "code",
   "execution_count": 88,
   "metadata": {},
   "outputs": [
    {
     "data": {
      "text/html": [
       "<div>\n",
       "<style scoped>\n",
       "    .dataframe tbody tr th:only-of-type {\n",
       "        vertical-align: middle;\n",
       "    }\n",
       "\n",
       "    .dataframe tbody tr th {\n",
       "        vertical-align: top;\n",
       "    }\n",
       "\n",
       "    .dataframe thead th {\n",
       "        text-align: right;\n",
       "    }\n",
       "</style>\n",
       "<table border=\"1\" class=\"dataframe\">\n",
       "  <thead>\n",
       "    <tr style=\"text-align: right;\">\n",
       "      <th></th>\n",
       "      <th>time</th>\n",
       "      <th>func</th>\n",
       "      <th>accuracy</th>\n",
       "    </tr>\n",
       "  </thead>\n",
       "  <tbody>\n",
       "    <tr>\n",
       "      <th>0</th>\n",
       "      <td>0.001451</td>\n",
       "      <td>0.000000</td>\n",
       "      <td>0.000000</td>\n",
       "    </tr>\n",
       "    <tr>\n",
       "      <th>1</th>\n",
       "      <td>0.005782</td>\n",
       "      <td>24.914333</td>\n",
       "      <td>0.311031</td>\n",
       "    </tr>\n",
       "    <tr>\n",
       "      <th>2</th>\n",
       "      <td>0.005769</td>\n",
       "      <td>7.609684</td>\n",
       "      <td>0.702478</td>\n",
       "    </tr>\n",
       "    <tr>\n",
       "      <th>3</th>\n",
       "      <td>0.005806</td>\n",
       "      <td>3.405088</td>\n",
       "      <td>0.693770</td>\n",
       "    </tr>\n",
       "    <tr>\n",
       "      <th>4</th>\n",
       "      <td>0.005724</td>\n",
       "      <td>3.012115</td>\n",
       "      <td>0.679365</td>\n",
       "    </tr>\n",
       "    <tr>\n",
       "      <th>...</th>\n",
       "      <td>...</td>\n",
       "      <td>...</td>\n",
       "      <td>...</td>\n",
       "    </tr>\n",
       "    <tr>\n",
       "      <th>1495</th>\n",
       "      <td>0.005916</td>\n",
       "      <td>0.644004</td>\n",
       "      <td>0.890902</td>\n",
       "    </tr>\n",
       "    <tr>\n",
       "      <th>1496</th>\n",
       "      <td>0.005853</td>\n",
       "      <td>0.665247</td>\n",
       "      <td>0.907100</td>\n",
       "    </tr>\n",
       "    <tr>\n",
       "      <th>1497</th>\n",
       "      <td>0.005032</td>\n",
       "      <td>0.650543</td>\n",
       "      <td>0.883411</td>\n",
       "    </tr>\n",
       "    <tr>\n",
       "      <th>1498</th>\n",
       "      <td>0.005101</td>\n",
       "      <td>0.707481</td>\n",
       "      <td>0.902042</td>\n",
       "    </tr>\n",
       "    <tr>\n",
       "      <th>1499</th>\n",
       "      <td>0.006018</td>\n",
       "      <td>0.679433</td>\n",
       "      <td>0.880978</td>\n",
       "    </tr>\n",
       "  </tbody>\n",
       "</table>\n",
       "<p>1500 rows × 3 columns</p>\n",
       "</div>"
      ],
      "text/plain": [
       "          time       func  accuracy\n",
       "0     0.001451   0.000000  0.000000\n",
       "1     0.005782  24.914333  0.311031\n",
       "2     0.005769   7.609684  0.702478\n",
       "3     0.005806   3.405088  0.693770\n",
       "4     0.005724   3.012115  0.679365\n",
       "...        ...        ...       ...\n",
       "1495  0.005916   0.644004  0.890902\n",
       "1496  0.005853   0.665247  0.907100\n",
       "1497  0.005032   0.650543  0.883411\n",
       "1498  0.005101   0.707481  0.902042\n",
       "1499  0.006018   0.679433  0.880978\n",
       "\n",
       "[1500 rows x 3 columns]"
      ]
     },
     "execution_count": 88,
     "metadata": {},
     "output_type": "execute_result"
    }
   ],
   "source": [
    "hist_1_df"
   ]
  },
  {
   "cell_type": "code",
   "execution_count": null,
   "metadata": {},
   "outputs": [],
   "source": []
  }
 ],
 "metadata": {
  "kernelspec": {
   "display_name": "Python 3",
   "language": "python",
   "name": "python3"
  },
  "language_info": {
   "codemirror_mode": {
    "name": "ipython",
    "version": 3
   },
   "file_extension": ".py",
   "mimetype": "text/x-python",
   "name": "python",
   "nbconvert_exporter": "python",
   "pygments_lexer": "ipython3",
   "version": "3.7.5"
  }
 },
 "nbformat": 4,
 "nbformat_minor": 2
}
