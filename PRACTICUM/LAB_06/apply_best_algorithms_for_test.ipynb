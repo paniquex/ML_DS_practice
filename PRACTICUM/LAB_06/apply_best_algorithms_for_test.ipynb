{
 "cells": [
  {
   "cell_type": "markdown",
   "metadata": {},
   "source": [
    "## В результате проверки (на отложенной тренировочной выборке) различных параметров в ходе экспериментов было выяснено, что лучшие параметры таковы:\n",
    "* model_type = SGD\n",
    "* step_alpha = 1\n",
    "* step_beta = 0.001\n",
    "* min_df = 2.5e-5\n",
    "* preprocesser_type = BOW\n",
    "    "
   ]
  },
  {
   "cell_type": "code",
   "execution_count": 1,
   "metadata": {},
   "outputs": [],
   "source": [
    "import pickle\n",
    "with open('GD_SGD_bow_tfid_min_df_without_stopwords.pkl', 'rb') as f:\n",
    "    history_list = pickle.load(f)"
   ]
  },
  {
   "cell_type": "code",
   "execution_count": 2,
   "metadata": {},
   "outputs": [],
   "source": [
    "import pandas as pd\n",
    "import numpy as np\n",
    "import seaborn as sns\n",
    "import matplotlib.pyplot as plt\n",
    "import scipy"
   ]
  },
  {
   "cell_type": "code",
   "execution_count": 3,
   "metadata": {},
   "outputs": [],
   "source": [
    "train_data = pd.read_csv('data_toxic/toxic_train.csv', index_col=0)\n",
    "test_data = pd.read_csv('data_toxic/toxic_test.csv', index_col=0)"
   ]
  },
  {
   "cell_type": "code",
   "execution_count": 4,
   "metadata": {},
   "outputs": [
    {
     "data": {
      "text/plain": [
       "Text(0.5, 1, 'Распределение классов в трейне')"
      ]
     },
     "execution_count": 4,
     "metadata": {},
     "output_type": "execute_result"
    },
    {
     "data": {
      "image/png": "[encoded data removed]",
      "text/plain": [
       "<Figure size 360x360 with 1 Axes>"
      ]
     },
     "metadata": {
      "needs_background": "light"
     },
     "output_type": "display_data"
    }
   ],
   "source": [
    "sns.catplot(x='is_toxic', data=train_data, hue='is_toxic', kind='count')\n",
    "plt.title('Распределение классов в трейне')"
   ]
  },
  {
   "cell_type": "code",
   "execution_count": 5,
   "metadata": {},
   "outputs": [],
   "source": [
    "target_train = train_data['is_toxic'].map({True : 1, False : -1})\n",
    "train_data.drop(columns='is_toxic', inplace=True)\n",
    "\n",
    "target_test = test_data['is_toxic'].map({True : 1, False : -1})\n",
    "test_data.drop(columns='is_toxic', inplace=True)"
   ]
  },
  {
   "cell_type": "code",
   "execution_count": 6,
   "metadata": {},
   "outputs": [],
   "source": [
    "train_data_processed_1 = train_data.copy()\n",
    "test_data_processed_1 = test_data.copy()"
   ]
  },
  {
   "cell_type": "code",
   "execution_count": 7,
   "metadata": {},
   "outputs": [],
   "source": [
    "import re\n",
    "\n",
    "def text_process_1(texts_series):\n",
    "    \"\"\"\n",
    "    Takes series with texts\n",
    "    returns series with preprocessed texts\n",
    "    (lower register + changed all symbols, which are not letter, number to spaces)\n",
    "    \"\"\"\n",
    "    \n",
    "    texts_series = texts_series.str.lower()\n",
    "    texts_series = texts_series.apply(lambda x: re.sub(r'\\W', ' ', x))\n",
    "    return texts_series"
   ]
  },
  {
   "cell_type": "code",
   "execution_count": 8,
   "metadata": {},
   "outputs": [],
   "source": [
    "train_data_processed_1 = text_process_1(train_data_processed_1['comment_text'])\n",
    "test_data_processed_1 = text_process_1(test_data_processed_1['comment_text'])"
   ]
  },
  {
   "cell_type": "code",
   "execution_count": 9,
   "metadata": {},
   "outputs": [
    {
     "name": "stderr",
     "output_type": "stream",
     "text": [
      "[nltk_data] Downloading package wordnet to /home/paniquex/nltk_data...\n",
      "[nltk_data]   Package wordnet is already up-to-date!\n"
     ]
    }
   ],
   "source": [
    "import nltk\n",
    "nltk.download('wordnet')\n",
    "from nltk.corpus.reader.wordnet import VERB\n",
    "lemmatizer = nltk.WordNetLemmatizer() "
   ]
  },
  {
   "cell_type": "code",
   "execution_count": 10,
   "metadata": {},
   "outputs": [
    {
     "name": "stdout",
     "output_type": "stream",
     "text": [
      "CPU times: user 11.5 s, sys: 88 ms, total: 11.6 s\n",
      "Wall time: 11.6 s\n"
     ]
    }
   ],
   "source": [
    "%%time\n",
    "train_data_processed_lemmatized = train_data_processed_1.apply(lambda x: x.split()).apply(lambda x: [lemmatizer.lemmatize(elem, VERB) for elem in x])\n",
    "test_data_processed_lemmatized = test_data_processed_1.apply(lambda x: x.split()).apply(lambda x: [lemmatizer.lemmatize(elem, VERB) for elem in x])"
   ]
  },
  {
   "cell_type": "code",
   "execution_count": 11,
   "metadata": {},
   "outputs": [],
   "source": [
    "from sklearn.feature_extraction.text import CountVectorizer"
   ]
  },
  {
   "cell_type": "code",
   "execution_count": 12,
   "metadata": {},
   "outputs": [],
   "source": [
    "train_data_processed_3 = train_data_processed_lemmatized.apply(lambda x: ' '.join(x))\n",
    "test_data_processed_3 = test_data_processed_lemmatized.apply(lambda x: ' '.join(x))\n",
    "preprocesser = CountVectorizer(min_df=2.5e-5, lowercase=False)\n",
    "\n",
    "\n",
    "train_data_processed_3 = preprocesser.fit_transform(train_data_processed_3)\n",
    "test_data_processed_3 = preprocesser.transform(test_data_processed_3)\n",
    "\n",
    "bias_feature_train = np.ones(train_data.shape[0])\n",
    "bias_feature_test = np.ones(test_data.shape[0])\n",
    "bias_feature_train = scipy.sparse.csr_matrix(bias_feature_train).T\n",
    "bias_feature_test = scipy.sparse.csr_matrix(bias_feature_test).T\n",
    "train_data_processed_3_with_bias = scipy.sparse.hstack([bias_feature_train, train_data_processed_3], 'csr')\n",
    "test_data_processed_3_with_bias = scipy.sparse.hstack([bias_feature_test, test_data_processed_3], 'csr')\n",
    "\n",
    "w_0 = np.zeros(train_data_processed_3_with_bias.shape[1])"
   ]
  },
  {
   "cell_type": "code",
   "execution_count": 13,
   "metadata": {},
   "outputs": [],
   "source": [
    "import optimization"
   ]
  },
  {
   "cell_type": "code",
   "execution_count": 14,
   "metadata": {},
   "outputs": [],
   "source": [
    "sgd_classifier = optimization.SGDClassifier(batch_size=1024,\n",
    "                                            step_alpha=1,\n",
    "                                            step_beta=0.001,\n",
    "                                            max_iter = 10000,\n",
    "                                            experiment = False,\n",
    "                                            l2_coef=5e-5,\n",
    "                                            tolerance=5e-7\n",
    "                                            )"
   ]
  },
  {
   "cell_type": "code",
   "execution_count": 15,
   "metadata": {},
   "outputs": [
    {
     "data": {
      "text/plain": [
       "<52061x32272 sparse matrix of type '<class 'numpy.float64'>'\n",
       "\twith 2021651 stored elements in Compressed Sparse Row format>"
      ]
     },
     "execution_count": 15,
     "metadata": {},
     "output_type": "execute_result"
    }
   ],
   "source": [
    "train_data_processed_3_with_bias"
   ]
  },
  {
   "cell_type": "code",
   "execution_count": 16,
   "metadata": {
    "scrolled": true
   },
   "outputs": [
    {
     "name": "stdout",
     "output_type": "stream",
     "text": [
      "CPU times: user 2min 25s, sys: 3.82 s, total: 2min 29s\n",
      "Wall time: 18.7 s\n"
     ]
    }
   ],
   "source": [
    "%%time\n",
    "sgd_classifier.fit(train_data_processed_3_with_bias, target_train.values)"
   ]
  },
  {
   "cell_type": "code",
   "execution_count": 18,
   "metadata": {},
   "outputs": [
    {
     "name": "stdout",
     "output_type": "stream",
     "text": [
      "CPU times: user 43.5 ms, sys: 46 µs, total: 43.5 ms\n",
      "Wall time: 42.7 ms\n"
     ]
    },
    {
     "data": {
      "text/plain": [
       "0.8853743470690656"
      ]
     },
     "execution_count": 18,
     "metadata": {},
     "output_type": "execute_result"
    }
   ],
   "source": [
    "%%time\n",
    "sum(sgd_classifier.predict(test_data_processed_3_with_bias) == target_test.values) / target_test.shape[0]"
   ]
  },
  {
   "cell_type": "code",
   "execution_count": null,
   "metadata": {},
   "outputs": [],
   "source": [
    "0.8853743470690656"
   ]
  },
  {
   "cell_type": "code",
   "execution_count": 39,
   "metadata": {},
   "outputs": [],
   "source": [
    "probs = sgd_classifier.predict_proba(test_data_processed_3_with_bias)"
   ]
  },
  {
   "cell_type": "code",
   "execution_count": 55,
   "metadata": {},
   "outputs": [],
   "source": [
    "errors_mask = np.where(np.argmax(probs, axis=1) == 0, -1, 1) != target_test.values"
   ]
  },
  {
   "cell_type": "code",
   "execution_count": 60,
   "metadata": {},
   "outputs": [
    {
     "data": {
      "text/plain": [
       "(1                          dear god this site is horrible \n",
       " 17              balance     this page has one sentence ...\n",
       " 27       i will burn you to hell if you revoke my talk ...\n",
       " 50       avg  plenty of greeks love the king  stop acti...\n",
       " 56        this is just bizarre  ani medjool s abuse of ...\n",
       "                                ...                        \n",
       " 63515    as i am a teenager  i feel the need to say  sh...\n",
       " 63636            yeah  sure  you say you welcome discus...\n",
       " 63781             shut up and learn to sign your comments \n",
       " 63782                  baylor kids like to kill themselves\n",
       " 63962            iran      that s right  iran  it was o...\n",
       " Name: comment_text, Length: 2370, dtype: object,\n",
       " array([[0.45312804, 0.54687196],\n",
       "        [0.        , 1.        ],\n",
       "        [0.08383635, 0.91616365],\n",
       "        ...,\n",
       "        [0.67678816, 0.32321184],\n",
       "        [0.62992949, 0.37007051],\n",
       "        [0.80037573, 0.19962427]]))"
      ]
     },
     "execution_count": 60,
     "metadata": {},
     "output_type": "execute_result"
    }
   ],
   "source": [
    "test_data_processed_1[errors_mask], "
   ]
  },
  {
   "cell_type": "code",
   "execution_count": 76,
   "metadata": {},
   "outputs": [],
   "source": [
    "errors_with_high_prob_mask = np.where(probs[errors_mask].max(axis=1) > 0.85)[0]"
   ]
  },
  {
   "cell_type": "code",
   "execution_count": 124,
   "metadata": {},
   "outputs": [
    {
     "data": {
      "text/plain": [
       "[(' redslash  cut it short  if you have sources stating the rok is sovereign post them  otherwise please aknowledge wp is not the place to make or ',\n",
       "  -1),\n",
       " ('               jews are not a race because you can only get it from your mother  your own mention of ethiopian jews not testing             as jews proves it is not  as well as the fact that we accept converts',\n",
       "  -1),\n",
       " ('      not sure whether this is notable enough to be mentioned in the article  but you re right   versions later than 6  2001  can open files created by all previous versions  but save files only in its own format  with a suffix of    msx    where x is the version number  7  8  9  10  11  12      this is intentional  of course  besides  all versions but 7 save files in a compressed format   共产主义万岁   ',\n",
       "  -1),\n",
       " ('    i m not convinced that he was blind  where is this documented  it s possible that he was just what we d call   legally blind   ie didn t have great vision  and that the name   blind blake   is an exaggerated moniker  although i have no proof i ve got a feeling that him being legally blind is more likely than totally blind  of course i ve got no evidence to back that thing up  ',\n",
       "  -1),\n",
       " ('but this is not the article about government position but about the reaction  add positions to 2008 kosovo declaration of independence or foreign relations of kosovo ',\n",
       "  -1),\n",
       " ('   can you work your magic        hi   i was wondring if you had time to help out with wikipedia featured article candidates w  e  b  du bois archive1   any input would be appreciated   a quick scan or a full review   i ve noticed your work before and i respect your skills  thanks ',\n",
       "  -1),\n",
       " ('     you wrote     you will need to cite reliable sources for the assertions   far too large to be chemical   and   no endothermic storage events    i do not think any source can conclusively estabish either point          it is very easy to establish both points  and there are hundreds of papers with proof of them     1  the limits of chemical storage  electron bonds  are well understood  the most energy dense chemicals  such as gasoline  store 4 to 8 ev per atom  cold fusion reactions have often produced far more than this  ranging from  100 to  100 000 ev per atom of the material in the cell  and in all cases there is no chemical fuel before the reaction  and no chemical ash after it finishes  cell with a few grams of inert material in them have produced hundreds of megajoules of heat  as much as several kilograms of gasoline  if you were to burn the cell contents  they would produce only a tiny fraction of the heat  in fact  you could burn the cell  the table  and all books in the room and still get that much chemical energy  therefore  chemistry is ruled out     2  any calorimeter can measure an endothermic event as accurately as it measures an exothermic event  for example  all calorimeters used in these studies show the endothermic formation of pd d at the beginning of the experiment  since the calorimeters shows the exothermic excess heat  they would also show the endothermic storage that proceeds it  they have never done this  the heat balance is always zero before the heat bursts  and after       jed rothwell       here is more useful information that someone keeps erasing     please note that cal tech  lewis et al   is a false negative  as pointed out by noninski  miles and fleischmann  this is described in several papers  for example this one  p  20     http   lenr canr org acrobat milesmisoperibol pdf    also  the name is julian schwinger  with ch   see     http   lenr canr org acrobat schwingerjcoldfusiona pdf      jed rothwell  librarian  lenr canr org ',\n",
       "  -1),\n",
       " ('agree  but that s not the issue  the queston is  in everyday english  does first amendent refer primarily to the us constitution  or is it ambiguous  my belief remains that even fifth amendment is ambiguous  and first amendment even more so         ',\n",
       "  -1),\n",
       " ('        halliday       good to see another contributor to his article  if sfl is your thing  you might consider joining the wikipedia wikiproject_linguistics sflsfl taskforce  thanks     ',\n",
       "  -1),\n",
       " ('                     another priceless gem from yourself demonstrating your general cluelessness     the fuse rating  and therefore the plug rating in the case of a non rewireable plug  is determined by the cable attached  not the appliance it will be used with     where on earth did you dig that nonsense up from  there are plenty of good examples around  but medium to large switch mode power supplies are often supplied with nominally 3 amp cable in a moulded on plug  many with an iec 60320 c7 type plug  rated by that standard at 2 5 amps   according to you  the plug should therefore be fitted with a 3 amp fuse  determined by the cable   if you did so  you would never get any but the smallest power supplies running  you have to fit a 5 amp fuse because the very large  40 amp momentary inrush current lasts long enough that it will blow a 3 amp fuse  the cable and plug can retain their original ratings because the inrush current will not harm them  the rating of the fuse is determined by much much more than the cable size alone  indeed  the type of power supply that is built into a plug usually has no fuse at all    17 17 ',\n",
       "  -1),\n",
       " ('       name in the introductory paragraph     i ve always been told that using   dr        ph d    in the same name was incorrect  as the ph d  automatically conferred the status of doctor    however  i m not sure what to do in this case   since he is so well known as   dr  martin luther king  jr     the normal approach of dropping   dr    and keeping   ph d    doesn t seem to be the best answer  even though it s the one most style guides seem to endorse   would someone more intimately familliar with the article like to take a swing at changing it  or suggesting an alternative     ',\n",
       "  -1),\n",
       " (' i appreciate you asking  royboy   my response may seem a lot less appreciative      it violates wp v   in a word  it is tendentious  just like the one that s been forced into the abortion article   it is still a pov pushing  unsourced compromise with a small group and its meat puppets   even the medical definition is abbreviated and distorted as the result of the context  suggesting death is part of the medically accepted definition of abortion      here s yet another source to add to the ignored source list   the   oxford thesaurus     in all the entries that contain abortion  death  including its variants  is not listed   the main entries include miscarriage  monster  prevention  termination  and veto      i think the only potential solution for this now is arbitration ',\n",
       "  -1),\n",
       " ('        to the individual who is so insistent to add all the   future destinations    take a look at wp notcrystal  while you may have reference sources to the information posted  it s just pure speculation and cannot be verified  nothing is firmed except london     ',\n",
       "  -1),\n",
       " ('         draga    apparently means   dear    google translate   yes  i am able to understand almost every romance language at an intermediate level  i never stated that i could   speak   romanian  also  i removed the babel list because i could not find a proper position for it  as it took too much space and made my userpage long  how is that any of your concern     ',\n",
       "  -1),\n",
       " ('   bitch creek cow camp idaho       hey  just a heads up  i looked into this one  and indeed  there is a place named  bitch creek cow camp  wanted to let you know that the folks in idaho  need not worry',\n",
       "  -1),\n",
       " ('no sandstein  it is not derogatory  just because it is not your viewpoint does not change the fact that it is factual  if it wasn t the terminology would not exist  so get your facts straight before you comment on anything ',\n",
       "  -1),\n",
       " ('         the point is that strains and breeds are not   social concepts    they are the result of selective breeding in plants and animals  very different from the human concept of   race     species even more so  no human intervention at all  but rather a function of biology   a 1966 source isn t going to work here  and though  was  well  rather grumpy  you did ask if you were being   silly to suggest this    and the answer is yes  you are     ',\n",
       "  -1),\n",
       " ('          suggested improvements     this article has a lot of information and could be a b class article if attention was given to the following issues       introduction  the article needs an introduction that summarises the entire article  currently it does not have this       in line citations  another must for a b class  at least one per paragraph or block of information      a more comprehensive narrative   also as mentioned above by a frustrated reader the opening of the history section does not make sense  it refers to   the wing    but what wing   i assume it is the 17th bombardment training wing as detailed below the offending section  but this should be spelt out clearly      finally it will need a copy edit     just a few ideas  hope this helps     ',\n",
       "  -1),\n",
       " ('  well  a very small portion of the dragovistica s watershed is in maceodnia  the source of the brankovacka reka  its tributary  is on the border of serbia and macedonia  and a small area  not more than few square kilometers  of its drainage area is within macedonia  so i thought it should be noted  however  my map is detailed but old  and it is possible that after corrections of the border in the 1990 s  the borderline leaves all of it within serbia  which  if you look at the map  would be natural   but if you think it is not important  it can be omitted',\n",
       "  -1),\n",
       " ('        a little late  but          andy  i just noticed this  i feel you should know that sledge did not delete your comment  i did  your post was not appropriate anywhere on wikipedia  even addressed to a   troll   or   idiot       ',\n",
       "  -1),\n",
       " ('       we don t include honnorifics outside the intitial mention in the blp of the person   it is clearly being used here to puff up the claim made by krugman  and it doesn t help that krugman has turned from economist to partisan commentator over the past few years   furthermore  once you start including the honorrific titles of some you have include them for all   after your contentious discussion regarding   conservative   above i would have thought you had come to some rational level of thought   why should we not label krugman a liberal since he calls himself that and it is a dominant aspect of his opinion      ',\n",
       "  -1),\n",
       " ('        sleeper  woody allen film        in view of its creator and star  woody allen  the movie sleeper is satire of trends of the 1970s placed in a futuristic setting  i m giving as an anachronism a reference to a historical event  the abandonment of clerical celibacy by the roman catholic church  in which a character finds a 1990 newspaper that refers to the   wife of the pope   having children  such would not happen for at least 24 years after the time suggested in the newspaper       nobody says that this movie is orthodox science fiction  note that tobacco and junk food have been found wholesome and organic foods have been found harmful in an orwellian world   but a reference to a 1990 event that is shown to be impossible because a prediction of an institutional change that does not happen for a significant time later becomes an anachronism after 1991     ',\n",
       "  -1),\n",
       " ('   incorrect information about bury lawn school          bury lawn school was not founded by rennee soskin in 1970 as stated in your history section     bury lawn school was founded in the spring of 1940 by miss iris aylward michell and miss katharine myrtle michell as in depth research and webber independent school will verify  the school was sold in 1970 and continued to be run from the same address bury lawn  union street  newport pagnell until 1987 when it was moved to milton keynes where in 2010 2011 the name was changed to webber independent school     a k michell ',\n",
       "  -1),\n",
       " ('   gay       he s gay too  it should be noted that he has a male partner ',\n",
       "  -1),\n",
       " ('  an ani discussion regarding you     there is a discussion at wp ani regarding your closing the deletion discussion for screaming banshee aircrew at wikipedia articles for deletion screaming banshee aircrew   it has already been reverted  but you shouldn t have closed that discussion   for starters  nac  non admin closures  should only be done in the least controversial cases  and this one had already been tagged with   notavote    demonstrating there was a potential problem with canvassing or meatpuppetry   second  you ve been here only a short while  and nacs of afds are controvsial enough when it is a highly experienced editor  the policy actually discourages it  but doesn t ban it    while it might seem obvious that it was going to be kept  experience will show that often an afd will have a dozen keeps and no deletes  then after a checkuser gets involved  we find those were all the same person  for instance   this stuff really happens   even in cases where the votes are all legitimate  it doesn t hurt to wait  and of course  when there are issues such as vote stacking or any controversy  no non admin should close   admin aren t smarter than non admin  but we are expected to take the heat and are accountable for dealing with problems like this   i appreciate the desire to help  but closing afds should wait until you ve been here a while longer         join wer',\n",
       "  -1),\n",
       " ('   i am not joking ', -1),\n",
       " ('      reply   thanks for the comment  look at evans pg  2 for an example of the two being connected under the banner of optimism  also  i am not sure i understand your argument  doesn t suggesting that the specific words   nuclear optimism   must appear in every reference would violate wp nad  isn t that like saying that if a book only talks about cars then it is inappropriate to use as a reference for automobile  and regardless  why would this imply deletion rather than one of the other options      thanks again     ',\n",
       "  -1),\n",
       " ('a few questions that need resolving regarding this article    1  why the inclusion of the actions of individuals  surely the point of corporate behaviour is that it is the action of a corporation in itself  although these actions may not always be the intended ourcome of any individuals involved  furthermore whilst the effects of corporate behaviour on individuals may be a useful sociological side effect i do not see this as central to the issue of corporate behaviour     2  i think an explicit division needs to be made between business capitalist corporations and noncapitalist corporations  ngos  charities etc  as i think the proposed rules of corporate behaviour can only be seen to apply to capitalist corporations     if no one disagrees with this would people like me to attempt these changes  removal of references to indiviudals  creation of distinction between business and non business coporations     muppet317 12 12 05',\n",
       "  -1),\n",
       " (' not very happy with this lot either  temporary highpoint ii here ', -1),\n",
       " ('  warning       this is your first warning  if you stop being gay  you will be raped up the ass indefinitely without further notice ',\n",
       "  1),\n",
       " ('   japan only media     eaglestorm and dandy sephy     as per wp mos am  this section can include  as appropriate  separate subsections for information on the original version of the work  as well as any related anime series ovas  manga  novels  movies  video games  and other media  such as soundtracks and drama cds    these sections should  in general  include the original release   broadcast information  as applicable   and english license and release   broadcast information      as per wp npov  i am not attempting to   remove the information that you feel is unimportant        ',\n",
       "  -1),\n",
       " ('        7 1 dyk          class   messagebox  talk               on 1 july  2008  did you know  was updated with  from the article chrono resurrection  which you created or substantially expanded  if you know of another interesting fact from a recently created article  then please suggest it on the did you know  talk page          definitely one of the three greatest games ever was chrono trigger  too bad this didn t get done  chrono cross sucked     ',\n",
       "  -1),\n",
       " ('  an alternative to spamming talk pages     actually wp rm is on my watchlist   a less antisocial alternative to spamming some thirty user talk pages  as you appear to have done   also one that is less likely to get you accused of trying to stack a vote  is to place a notice on the hot topic watchlist   ',\n",
       "  -1),\n",
       " ('will be editing the andraka page     please considering registering so your contributions can be noted  and so you can better enter into this discussion as it develops   le prof',\n",
       "  -1),\n",
       " ('           problem with millenium shakespeare article     the title of the article is misspelled indeed  but as a new user i couldn t edit it myself  neither redirect the older article with the correct name to lead to the new version of the text  i would appreciate any hints on how to deal with that  also  i don t see where is the conflist of interest in the article  give me some hints  thanks                the sickness  on lost       i mentioned it on my message that you left  and think we should put it on the discussion page for anyone else to chime in on   as said in that previous message  i think that in fictional cases  we have more leeway to speculate on stuff  especialy when we are talking about lost where answers are few and far between and often provide us asking more questions          randall flagg     take out the picture of king instead  a picture of the character seems more relevant than his creator  especially seeing that as of now  there are two images of him from the books  two from tv  one of king  and none from the comics         my image qualm doesn t stop with palpatine and jabba  those are older fas that were established before the rigorous overhaul of fair use images in articles  per the actual criteria  you need to have something about the image beyond simple identification  the only exclusion to that is the infobox image   my fear with the article in fac is that criticism will arise about how influential this character is king s novels  yet how slim the article is on information about him  if you feel it is ready  then go for it  the worst that can happen is that it is not promoted  in which case you will most likely have a lot more eyes telling you what you can do to improve it  thus making it that much better  there is no draw back to not getting promoted other than not getting that little bronze star  d           great work        hey  i just wanted to commend you on the excellent catch you made in the  alice in wonderland  afd discussion   based on the new source you presented  i switched my vote to keep   great work            has smiled at you  smiles promote wikilove and hopefully this one has made your day better  spread the wikilove by smiling at someone else  whether it be someone you have had disagreements with in the past or a good friend  cheers  and happy editing    smile at others by adding  to their talk page with a friendly message        dark tower wp discussion       greetings dark tower wikiproject member  i would like to invite you to palaver about a possible expansion of the dark tower project to include all stephen king related items  i feel that the large amount of projects related to the author warrants his own project but as this one already exists hesitate to begin a new one  please feel free to leave comments of any kind and be assured that the dark tower will be held in the highest regard within the new king project  long days and pleasant nights          saw traps       from what i remember of the list  it was just that a list of the traps  there wasn t much there but original research and personal observation about each of the traps   which is probably why it got deleted  and rightly so  if there was real content there  then that s another story  but i doubt that content couldn t be found on the individual film pages  but  if you feel that it was wrongly deleted  then i d go to the deletion review page and start the discussion  maybe the closing admin was a little hasty in his decision making    user bignole    ',\n",
       "  -1),\n",
       " ('when we get is they expect it to fade away  well with the gear they re releasing they re not helping their own cause are they ',\n",
       "  -1),\n",
       " ('   1  there are threee reasons given  i even numbered them for the hard of understanding  2  there was no abuse in my edit summary  or in my statement above  3  i am not sure how you  are trying for the moral high ground and then start snidey comments  and what the hell either of my late grandfathers have to do with this  or you  is beyond me  and rates as possibly the most childish comment i ve seen on wiki for a while   ',\n",
       "  -1),\n",
       " (' quite a while ago i had a nice book about the early history of rock and roll and it has a lot of content about berry  i can t remember any details bout the book  i lost it in an airport somewhere long before i ever finished reading it  i wish i could remember what the actual title was  it was a bookstore clearance sale pick up  i lose reading material in airports and on planes all the time  when you get a chance could you look at an edit to jimmy page  a editor who has been tagged as a sock of a blocked account keeps removing a string of sentences which appear to have several valid citations   see this last edit   the editor was blocked for breaking 3rr  the person posted a reason on the talk page for the content blanking  but their reason just seems to say it was ok for them to delete the referenced text because another user said it was ok to do so  to me it just looks like an anti jimmy page opinion edit and not an edit to help improve the page  could you look  i think the edit should be reverted  but the other day i noticed similar content removal and odd section altering so i reverted the back back to a version by y2kcrazyjoker as that appeared to be the last version that was stable  but i look today and see my edit was reverted by this tagged account and the edit summary claims my edit was some sort of sockpuppet edit  you can read the edit summary  to me it is very unclear  if you feel that person is up to something and revert his blanking i would be curious as to what names he chooses to call you  if i find a good chuck berry book in my travels i will post you  perhaps i can help you get that article into better shape  cheers and take care ',\n",
       "  -1),\n",
       " ('       wikiproject automobiles notification     hi bok269  you were on the list of members at wikiproject automobiles and we are introducing a new way of listing members  as the old list was becoming too long  our new method involves having all of our members in a category     to add yourself to the category just add the userbox to your user page by putting   wiki auto project   where you want the userbox  alternatively if you don t like the userbox you can add   category wikiproject automobiles members bok269   to your userpage     if you no longer wish to be a member of the project  simply don t add the userbox or category  there s no pressure  thanks for your time       ',\n",
       "  -1),\n",
       " (' note the history section in the hominoidea article   ', -1),\n",
       " ('          please see wikipedia administrators  noticeboard incidents regarding  and    you have been reverting vandalism from the latest in a long line of sockpuppets from alex cain  who is currently blocked for one week for his conduct  thanks   ',\n",
       "  -1),\n",
       " ('   28 january 2014  utc      the allvoices com article cited here is unreliable simply because it was taken from here  a well known pro terrorist activist agit prop website  one of that who some hypocrite users here would define as   neutral tone   and   balanced    they really believe their own lies    i understand that its hard to some seeing their beloved   revolutionaries   loosing ground everyday  but thats not a reason for trying to make us accept non journalist activist partisan sources while censoring other journalistic sources  and even trying to decide wich articles are accepted as reliable sources and wich not  when they are posted by the same publisher    and finally  and sorry for putting it in caps  wikipedia talk pages are not forums so stop it right now   23 02 ',\n",
       "  -1),\n",
       " ('  december 2008     please do not add nonsense to wikipedia  it is considered vandalism  if you would like to experiment  use the sandbox  thank you ',\n",
       "  -1),\n",
       " ('   26 november 2005  utc       well  permyakia and perm oblast have established economic ties and a lot of common infrastructure that s one of the main reasons   also  permyakia is heavily dotational  relying on the federal transfers to form a significant portion of its budget   problem is  federal government is not always good with transferring funds timely  which  as you imagine  creates all sorts of issues   perm oblast  on the other hand  is a donor  and once both budgets are merged  it will ease the pain somewhat  but note that during 2006 there will still be two separate budgets  so there will be a transitional period    another thing permyakia will still have a special status within new perm krai   the main scoop is that permyakia will no longer need to rely on federal government s transfers  but will  of course  become dependent of perm krai s budget   and perm oblast will gain access to permyakia s resources   the merger also lowers administrative costs instead of two local governments there will only be one   considering that russians and komi permyaks co existed peacefully for quite some time  there is something in this merger for both parties       in 2003  a poll of 309 people was conducted among the population of both oblast and autonomous district   the most common pro merger responses were   because together is better    21      because the common budget will create better opportunities for the territories  development    19      because the government will be able to build new bridges and roads    15    and   because there will be a reduction in the number of government workers    12    15 43 ',\n",
       "  -1),\n",
       " ('  i would not call this propoganda when there is so much evidence to support the claims made  some people do research before adding material  hence ',\n",
       "  -1),\n",
       " ('    update      tell tyrone to check his messages  a representative of the wikimedia foundation has made an attempt to contact stephen colbert through his staff  in the meantime  i m still gathering more information about the specific linking issue     lee      that s an edit summary in an admin s block log  not a message sent to anyone in any official capacity  contrary to popular opinion  some wikipedians do have a sense of humor  the message that was sent to him would represent an attempt to ascertain identity following an established procedure  if colbert wants to promote his site here  all he needs to do is make a trivial effort to establish his identity to the foundation  which is already seeking to contact him as we speak  not that i have anything to do with this  but i thought i might alert you to a simple way around this     lee       sheeh  i apologize for not being more clear  i didn t exactly expect you to go searching through miscellaneous site logs when i mentioned that someone from the foundation was attempting to contact colbert  the wikimedia fountation is  just to clear  the non profit organization that handles wikipedia s business and legal affairs  they re seeking to contact him  actually  over events related to the previous night s   wikiality   discussion on the report  this is something i heard through the grapevine and not anything i know much about  but i thought perhaps that if this site is indeed a scrappy little underdog of a marketing campaign for book whick colbert considers his baby  he or a representative might want to bother to have a fifteen minute discussion which would allow tek related information to happily coexist with wikipedia s policies  he doesn t have to do anything he doesn t want to  but since the folks at the tekjansen site seem to be somewhat preoccupied with the status of a single link here  and have us listed as their top referrer  despite the link being down half the time  i thought the option might be of interest  no  huh     lee       re read the above  i did not say they had to falsify the list in order for wikipedia to be the top referrer  i suggested a brief phone conversation might be worth the trouble if we re generating the bulk of their traffic and they re looking to promote  take a deep breath     i also did not say colbert has to verify his identity in any way  however  since the site seems to fail several points of our linking policy  yes  the site is likely to be removed without additional information being provided  i m sorry  but the   it s relevant anyway   angle is fairly weak  the only reason this material would be an especially relevant resource on colert would be if it was actually colbert s writing  it does not have information on anything relevant to stephen s biography  generally speaking  we don t count fan forums as an invaluable  unique resource  see wp el   that leaves the book  which  while possibly being colbert s  is irrelevant if it s not  i could write a novel about charlene and post in on my website  and that would also not be relevant  or a novel about stephen colbert for that matter  in any case  i m sorry that for some reason i seem to have pissed you off  i have no idea why you re so angry about this  but i assure you again  as i have assured you before  it s nothing personal     lee      my ama request  which you seem to have found  was a private request for advice on how to handle a situation which has become somewhat tense  you are welcome to conduct a straw poll if you want  i haven t followed through on that personally because i ve already have openly solicited comments from editors at the colbert talk page  and believe we already have a pretty good index of what most experienced editors think of the link  but go for it  as i have stated before  if there s a consensus to add the link  i won t remove it  i never  never  ever  not even once said that i will   refused to allow the link unless  myself  or a wikipedia   official   is contacted by someone at the colbert report   so please stop misrepresenting my remarks  in the meantime  there is absolutely nothing wrong with my asking another user for help and it does not represent bypassing a regular process  you are welcome to file',\n",
       "  -1),\n",
       " ('      not nit picky at all   it s a point very well taken  unless anyone objects  i think we ought to remove the   soft pastel   reference altogther       ',\n",
       "  -1),\n",
       " ('   well  my opinion s worth exactly what you paid for it  since i ve never edited that article    but i m not sure why this needs to be analyzed within the coi framework at all  this doesn t appear to be about someone pushing for their specific acupuncture clinic or whatever  so it s not clear to me that this is any different from any other general pov pushing case  i suppose the issue i have with the coi related discussions i ve come across lately is that they all turn the conversation from one about edits to one about the interests of the real life person behind the edits  those interests are difficult to identify  often unverifiable  and not always easily stuffed into the coi box ',\n",
       "  -1),\n",
       " ('     thabnks mark  yeah  that was a while ago now  but i ve still got to take it easy  i can do without a repeat episode of vomiting up everything i ate  complete with loads of blood  not pleasant at all       ',\n",
       "  -1),\n",
       " ('        barak obama s faith was a frequent item of comment during his presidential election campaign  ed miliband s ethnicity was hardly commented on during the labour leadership campaign   it is not us that determines  weight  but the general level of coverage of the issue  if this subsequently becomes significant  we may have to revise the article  but for now we are merely reflecting the general consensus in the mainstream media ',\n",
       "  -1),\n",
       " ('        latest sock of louisphilippecharles       please take a look at this  i didn t know how to   un archive   it  so i m not sure it s been restored to the queue of active cases  but it needs to be addressed  thanks     ',\n",
       "  -1),\n",
       " ('   the first two media in mao page should be delete      well  if you understand what they said  if you can listen chinese  you will know that this is not an interview of mao ',\n",
       "  -1),\n",
       " ('      can you cite any policies   if not  why are you wasting my fucking time   cite a policy and i ll strike those bastards   and you better have a good fucking idea of what the   complaint   will say or you re wasting your goddamn time too        again  opinions are worthless  what matters is policies  guidelines and sources   i don t give a pile of steaming dogshit about manners  and you sounding off about nonsense and bullshit with no understanding of what the community mores are is a whole fuck of a lot ruder in my opinion   jesus christ  stop polite trolling and learn the fucking rules      wikipedia s rules simple complex  ',\n",
       "  1),\n",
       " ('     stop   this is not being helpful   nobody   won   anything here  and   winning   is not what wikipedia is about   i suggest you take a break from editing articles that earth100 edits  and vice versa   if you guys continue to edit war like this  it s going to result in blocks to both of you     ',\n",
       "  -1),\n",
       " ('   is the trick here asking the specifically correct question the exact right way         that was not very illuminating about sources is it     what does wiki require for biographical sources if the person who had the history is automatically discredited as being a liar about themselves     is that specific enough ',\n",
       "  -1),\n",
       " ('  neofascism and religion      would you mind having a look at the actions on that article of enviroknot and 129 7 35 1   both are insist reinserting ss s pov  despite his being blocked and having no credible supporting cites for that  unique  pov  and the fact that cberlet has provided on the talk page no less than 12  signifcant and credible references supporting the point that fascism is primarily a right wing product  thanks mirv ',\n",
       "  -1),\n",
       " ('you wikipedia nazis need to stop removing information  just because you dont know if a piece of information is true  doesnt mean it s not true       ',\n",
       "  -1),\n",
       " ('        skull and crossbones       you say in some edit summaries that some other articles have the skull and crossbones symbol on them to symbolize   death    well  the correct solution is not to add that image to new articlesit s to remove it from all of the articles it s already on  wikipedia is not a kid s book  it s not a tabloid newspaper  it s not a video game  that cartoony imagery has absolutely no business in an encyclopedia  and if you know if it being on other pages  please remove it  if some local group of editors have decided they like it  feel free to let me know and we ll figure out where it s happening and make sure to clarify how absolutely unacceptable those images are     ',\n",
       "  -1),\n",
       " ('   arthur macarthur iv   son   born february 21  1938       why is general macarthur s son with jean marie faircloth macarthur not mentioned as a relative of the general s ',\n",
       "  -1),\n",
       " ('     if you find it   chillingly interesting    why not correct the information  you can t complain about something being wrong if you aren t willing to correct it             ',\n",
       "  -1),\n",
       " ('   first paragraph       the first paragraph is lacking description and has misleading information  the website is powered by google custom search  it is not developed by heap media as the article claims  the code has been written by google  blackle simply provides the domain name  i also added a summary that described the principle of the website  as per wikipedia layout first_paragraph  but it has been reverted',\n",
       "  -1),\n",
       " ('ariel i am not trying to sound like a cock here  but bite me  it doesn t look like your an admin  but i could be wrong   i was watching nasa tv when they announced the scrub  so i added it   what the fuck do you think it is that i speculated   i speculated nothing  on nasa tv they said the launch was scrubbed due to the leak  that is not speculation  that is a fact  as for breaking news edits  you have done twice as many edits as me  in the past hour updating every little thing  so who is being abusive there  just admit it  if you can t be first to edit articles in your favorite topic your life would have no meaning   i get that  there are a bunch of you wienies here  that is what ruins this site   again not trying to be a cock  but i take offense when someone accuses me of doing something wrong  when they are the one doing it ',\n",
       "  -1),\n",
       " ('to 68 42 50 173  when you accuse someone of slander  please  specify the false facts being asserted  please  do not make unfounded personal attacks  this article seems to bend over backwards to be fair to breggin  for precision  written defamation is libel  not slander  an unfounded accusation of defamation is defamatory  try being specific and precise for credibility ',\n",
       "  -1),\n",
       " ('          are you kidding    i looked in the archives and found multiple instances of you referring to the edits that i had made as me agreeing with you    that s just bs  i only referred to you once previously in drawing a conclusion any other reasonable person would with respect to your edits  your claim that any and all nations that were formed from what was once the soviet union should be considered as   succeeding   the soviet union has one big flaw  the baltic states were already formed before the ussr was even created  a reader who will look at the infobox to see what countries came into existence with the dissolution of the ussr will be misled because the the baltic states already existed since 1920  in fact  the notion that the baltic states only came into existence with the dissolution of the ussr is considered russian nationalist pov in rs  and again  how do you know readers   do not care about the technicalities in the matter and omitting anything or separating them is not useful to the lay reader    it is obvious that you do not care but don t project this unto the reader  this is an encyclopaedia after all  readers come here to be educated and informed     ',\n",
       "  -1),\n",
       " ('          removal of bands         there are several bands in the list which may not be thrash metal  most of these bands are either black or death  i am posting some bands here  on whom you can comment whether they are thrash or not  genres in the brackets are what they are disputed to be        desaster  black       deströyer 666  blackened thrash       divine empire  death       ghoul  death       grimfist  blackened death       hatesphere  melodic death       helstar  speed       impious  death       kat  black       legion of the damned  death       loudblast  death       lyzanxia  death       messiah  death       morbid saint  death  black       mortification  death       nevermore  heavy metal   this one looks like children of bodom       pestilence  death       rage  speed       red harvest  industrial       sex machineguns  speed       skrew  industrial       stam1na  alternative  progressive       stigmata  death       susperia  melodic black       terror 2000  melodic death       torture squad  death       transmetal  death       witchery  black  death       yyrkoon  death    i didn t expect these many  well if you find some misplaced bands then add them to this list      ',\n",
       "  -1),\n",
       " ('sex is just sex and i do not think there are any white grey black or any color tantra sex  tantra in my understanding is a philosophy  that uses energries to reach a state of mind which in pure and non dual  correct me it i am wrong  jagan wlink com np ',\n",
       "  -1),\n",
       " ('   need new judge next year         been watching your show every year have enjoyed it but this year and alot of other people i no are not watching because of the new judge named niki she has taken your show and made it all about hear and and the people singing i watched 2 of the shows but after that she took the enjoyment away i hope you find a new judge next to replace her',\n",
       "  -1),\n",
       " ('        improving this article       the article as it stands is a muddle  i have removed statements from the section   origin   which do not correspond to it  but there are far more major defects  the fundamental problem is that there is no current agreement among academics as to the contents of arius  teaching   rowan williams goes as far stating that arianism is an invention of athanasius  arius page to be supplied later   i am not clear as to how the article should be reworked  but i sense that its revision should be part of a project which includes the other two main articles arius and arian controversy   it is hardly worth trying to tidy up the missing citation references until the overall structure of the article has been rethought     ',\n",
       "  -1),\n",
       " ('hey again  mourinho s confirmed that a deal has been agreed which basically verifies the information you posted before  so you can re add  it s not essential that it s added now but it should be added at some point  whilst i don t like adding rumours to wikipedia  i also don t like information being missed out  there s loads of cases on wiki like willian s transfer  where there s no mention of tottenham  where verified information wasn t added  creating an imperfect picture of what happened    kind regards     ',\n",
       "  -1),\n",
       " ('   file skline of kitchener jpg listed for deletion      a file that you uploaded or altered  file skline of kitchener jpg  has been listed at wikipedia files for deletion  please see the discussion to see why this is  you may have to search for the title of the image to find its entry   if you are interested in it not being deleted  thank you ',\n",
       "  -1),\n",
       " ('        maryam babangida       your recent drastic changes to this article are not constructive      you have removed most of the sources for the article  all content should have sources      you have added a source    shamed by their nation    which does not mention the subject at all  talking only about her husband      you have removed relevant information about the women s programs  the   glamorous persona   and the news reports on reaction to her death    her husband s regime was corrupt and harmed the progress of democracy in nigeria  that is marginally relevant and is pointed out in the previous version  maryam enjoyed the   first lady   role  attending major social events dressed up in elaborate costumes and being discussed in the gossip columns  she was a celebrity  the article is incomplete without that information  maryam put much effort into women s causes  whatever the motives  that deserves more than one sentence  her death triggered a flood of news articles  mostly positive  that is relevant     a wikipedia article should give balanced and verifiable coverage of all significant aspects of the subject  you should not remove references to sources  or remove relevant material  if you feel that there are other aspects that should be covered  add material  with sources  on the other aspects  if you feel that the sources reflect one bias  add sources that reflect the other bias    some looked up to her     others resented her    i do not want to get into an edit war  but am unwilling to accept the article as it stands  i strongly encourage you to revert your last edit  then expand the article to add additional material that makes the article more complete and balanced  you may want to first look at other articles on women notable mainly because of their choice of husband  such as jackie kennedy  eva braun and marie antionette  thanks     ',\n",
       "  -1),\n",
       " ('   notability of tourette s guy      a tag has been placed on tourette s guy requesting that it be speedily deleted from wikipedia  this has been done because the article appears to be about a real person  organization  band  club  company  etc    or web content  but it does not indicate how or why the subject is notable  that is  why an article about that subject should be included in an encyclopedia  under the criteria for speedy deletion  articles that do not indicate the subject s importance or significance may be deleted at any time  please see the guidelines for what is generally accepted as notable  if this is the first page that you have created  then you should read the guide to writing your first article     if you think that you can assert the notability of the subject  you may contest the deletion by adding  to the top of the page  just below the existing speedy deletion or   db   tag   coupled with adding a note on the article s talk page explaining your position  but be aware that once tagged for speedy deletion  if the article meets the criterion it may be deleted without delay  please do not remove the speedy deletion tag yourself  but don t hesitate to add information to the article that would confirm the subject s notability under wikipedia guidelines     for guidelines on specific types of articles  you may want to check out our criteria for biographies  for web sites  for bands  or for companies  feel free to leave a note on my talk page if you have any questions about this      ',\n",
       "  -1),\n",
       " ('   designation ship types function       the introductory table of  5  various other radar systems does not belong in a spy 3 article    perhaps a mere listing of radars  and a more complete one at that  might be on a separate navy shipboard radar systems article    a spy 3 is not a spq 9 nor a sps 67 nor a spn   don t forget sps 48e 49a  sps 55 or even sps 73   what s a tpx 42 ',\n",
       "  -1),\n",
       " ('of course it is more complex than that  i would suggest everyone s identity in ireland  and elsewhere  is a lot more complex than that  however  we agree that he was irish  the country of his and his families birth   you strive to identify his nuanced form of irish identity  i do not think this is helpful  as this is contentious and can not be simply asserted in the opening paragraph     so  if we have to discuss his form of irish identity  i think dealt with quite sufficiently in the subsequent section  his protestant background etc  we need to understand that   1  anglo irishness generally refers to the wave of  new english  colonisation which occurred after the 16th century  clearly wellington s ancestry pre dates this time frame  online  the anglo irish  fidelma maguire  university college cork   indeed  the norman invasion brought his family to ireland along with other families such as burke  fitgerald  darcy  joyce  barry  clare etc   families which cannot but be declared simply irish    2  since the 19th century  the term anglo irish has been used in a prejudicial manner to marginalize a certain section of the irish population  online  the anglo irish  fidelma maguire  university college cork   the term is consequently contentious     3  finally  even for those historical figures whose ancestry does fall into the correct time frame according to maguire  for example charles stuart parnell  isaac butt  john millington synge  oscar wilde  george bernard shaw  wb yeats  samuel beckett  or was he of huguenot    they are clearly identified as irish in the literature and  rather importantly in this case  wikipedia articles    i therefore see no reason why the same standards and logic should apply and why wellington should not be included in such outstanding company  can you ',\n",
       "  -1),\n",
       " ('  a view point of a dark light thinking person     global warming is going to kill us all  so we need to stop showing paris hilton  britney spears and the other useless garbage that fills in the news to show global warming  this is serious if this really doesn t exist  we did a extra precaution to save our planet  and the delaware will freeze  water levels will return to normal and there will be more ice  but if this is serious   we can kiss our planet goodbye as we re rushing blindly into the future knowing driving for your convience and other uses of your time can help plant trees  stop brazil from slashand burn by beating them up and showing how to farm other ways  and if you find this offensive  you are who i m talking to exactly  stop worrying about all this b       about american idol and start growin a tree or two  replace those classic bulbs with these new bulbs  and politicians  start worrying about where you are preaching your views about  if the world falls into ruins  and we die during the next 8 years as the ozone layer rips open across the whole world and then what  we ll not vote  but worry our asses off about this b        that your election promises will be cheap  easy to attract and start following al gore s advice  you morons are so soaked in the sea of capitalism that all the cars  airplanes  ciggaretes and lightbulbs along with energy factories will kill us all in the future before we can actually enjoy our planet     sorry that this is excessive and all  but the way the world revolves  money doesn t rule all things ',\n",
       "  -1),\n",
       " ('     i see that my wording was vague  summerphd  and you went with the reading that assumes i don t know how wikipedia works   so let me clarify  i meant a reliable source  not just any old user getting on here to defend hipsters   now that we re over the stupid procedural talk  does anyone have anything of substance to say about my suggestion   this article makes some good points  but i m not familiar with the publication  so i d like to get a read on how   reliable   people think it is before i would bother putting any quotes from it into the article          ',\n",
       "  -1),\n",
       " ('     i fear i may be doing this wrong   trying to leave a comment here   spork     from the start of this wiki page        devices that are powered by sails  such as sailboats  iceboats and sand yachts  can sail  that is  advance over the surface  faster than the wind  of course they cannot do that by using simple square sails that are set perpendicular to the wind       actually  i m pretty sure it is possible to sail faster than the wind with a square sail set perpendicular to the true wind   however  the vehicle must be constrained to move at some angle to the wind   consider an ice boat one a downwind course 110 degrees off the wind   with a square sail and low enough drag  the ice boat should maintain a  downwind  vmg of nearly wind speed with this configuration   that will give it a true speed far greater than wind speed  ',\n",
       "  -1),\n",
       " ('i ll be watching to see what you are doing   i m not sure what the problems are  i have another gallery to upload to the stamp section but i have to the correct licensing for each  are stamps images in the public domain   ',\n",
       "  -1),\n",
       " ('assessments are pov  as wikipedia editors we should not assess and only reflect ',\n",
       "  -1),\n",
       " ('   because the overall aim of the project is worth putting up with this for       because there is sometimes some personal learning involved in the topic research  which is itself a worthwhile goal       otherwise no reason  you can put up with the shit if you wish to  it s not usually too onerous  even the idiocy isn t too painful   you re only required to make the show of being civil to the fools  not to respect them ',\n",
       "  1),\n",
       " ('omg a text site u can edit lolololol and here is wat i think    one night can lead to    yeah shove that cock in up my vigina says ruthie mackenzie      by someone who edited a k a me      i know i shouldnt be typing stuff like this on wiki but really its fun like the bitch makenzie really is and how she was a mother at 15 with her 3 year old daughter that slut having sexuall intercoarse at 11             omg omg omg what the fuck is going on and its getting preety late think i going 2 bed now thank u and goooooood night            i think my husband is comiing so i g2g if he sees me typing aaaaaaaaaaaaaaaaaaaaaaaaaaahhhhhhhhhhhhhhhhhhhhhhhhhhhhh i wouldnt want 2 be me when he does                            anyway this has nothing 2 do with this darn actress who btw is a self obseesssed whore     yeahhhhhhhhhh baby                     kids dont have sex till your married cause i had sex at 17 and how that turned out dont even try with condom unlike mackenzie roman being a virgin can acturely be a beutiful thing     well so can sex       im acturely married with 6 children and u probably think this is bull but anyway               who nows i might be a man in my 40 s lol the question is 2 belive or not 2 belive                                                                         btw this is by once again the same exact person   that someone who edited a k a me            ',\n",
       "  1),\n",
       " (' just had an initial read through which seems ok  good prose and everything sourced  i ll take another look a bit later  go through the checklist  ask for some assistance with images  etc  but it seems ok to me ',\n",
       "  -1),\n",
       " ('   npov      this following section in the article seems very npov to me  what do other people think       rudeness of staff towards passengers   ryanair staff are notorious for behaving rudely to passengers  there have been numerous incidents  including the following which have appeared in the press     using foul and offensive language and attempting to grab a boarding card from a passenger  19     treating passengers dismissively during a security alert  a judge called on ryanair to issue an apology  20     behaving in a menacing manner towards passengers  21     extremely rude and offensive behaviour towards a 14 year old boy with a broken leg and accompanying adults  the boy was forced to stand for the duration of the flight  1 hour 40 minutes   22     gratuitous rudeness towards a passenger who asked for a non alcoholic drink after passengers were kept in a plane for three hours due to a delay  23       the claims are properly cited but terms like notorious  gratuitous and menacing seem npov and not sutible for wikipedia to me        ',\n",
       "  -1),\n",
       " ('         in ernst lubitsch s comedy ninotchka  1939      with her last film  george cukor s two faced woman  1941   mgm attempted to capitalize on garbo s success as a comedienne by casting her in a romantic comedy which sought to portray her as an ordinary girl  she played a double role that featured her dancing the rumba  swimming  and skiing  the film was a critical  although not entirely a commercial  failure  garbo referred to the film as   my grave    she retired in 1941 at the age of thirty six after only twenty seven films made in sixteen years  she was offered many roles in the coming years and showed interest in several  but in each case  she either turned down the part or the project did not come to fruition     in 1948  garbo signed a contract for  200 000 with producer walter wanger  who had produced queen christina in 1933  to shoot a picture based on balzac s la duchesse de langeais  max ophüls was slated to adapt and direct  garbo made several screen tests  learned the script  and arrived in rome in the summer of 1949 to shoot the picture  however  the financing failed to materialize and the project was abandoned  the screen tests the last time garbo stepped in front of a movie camera were thought to have been lost for forty years before resurfacing in someone s garage  parts of the screen tests were included in the 2005 tcm documentary garbo  ',\n",
       "  -1),\n",
       " (' hey  i see you re good faith editing korn s ninth studio album   i just wanted to alert you that your edits are unfounded  as a lot of the information is either irrelevant  or not properly sourced   go here for more details  thanks for editing      ',\n",
       "  -1),\n",
       " ('   bzzt  seeking anything on teh jimbo s page is always about shite stirring  and you are seeking godking intervention in that discussion  so    bzzt          that response seems to me a good example of the type of insensitive cynicism to which i was alluding  cheers            goway           i am most certainly not seeking any intervention in that discussion  i wouldn t  i hope  be so stupid  what i am seeking is to open a civilized debate on wikipedia culture  and the ways in which the subset of editors capable of bringing articles to fa can be discouraged  or to use tim s expression    ground down    i think i ve made this intention quite clear  also that the thread does not regard infoboxes  or individual participants such as yourself or andy           what part of   goway   did you not understand  street legal sockpuppet           ',\n",
       "  -1),\n",
       " ('             reply to all this shit yous lots have been writing     omg  what loosers   this is a kids book  for kids    you loosers just read kids books every day  youve got nothing better to do   then god have mercy                         i am a kid                    ',\n",
       "  -1),\n",
       " ('ulu panah is unknow to me  must be refered to ulu pahang old name of ulu muar  that was not divised between jelebu and pahang but was absorbed by johol  its mother state ',\n",
       "  -1),\n",
       " ('  i note that vipernerd s bad faith edit warring continues unabaited  he ignores administrators  basically invents his own policies even while quoting the policy that contradicts him  arbitrarily reverts edits  removes material contributing towards neutral point of view  insults people on the talk page  has used sock puppets and has been previously been banned for weeks      wolfkeeper',\n",
       "  -1),\n",
       " ('        kamikaze museum       have you read the references  they are saying the exact opposite of what the quote i deleted said  the quote is either completely made up or has its meaning inverted through omission      mr hamazono  though  bristled at the suggestion that he and his fellow tokkotai pilots were the forerunners of modern day suicide bombers       we were completely different    he said    we did what we did for our comrades     the terrorists kill themselves for purely selfish reasons  i don t get angry when i hear them described as the modern day kamikaze  but it troubles me that religion  not love  inspired them to do these things       missions   totally different      japan s originals are insulted to be mentioned in the same breath       when i hear the comparison  i feel so sorry for my friends who died  because our mission was totally different from suicide bombers    hamazono says as he strolls through the peace museum for kamikaze pilots in chiran  a former air base on the southern japanese island of kyushu     the kamikazes attacked military targets  in contrast    the main purpose of a suicide bomber is to kill as many innocent civilians as they can    hamazono says  that  he says    is just murder       the same distinction is made by other survivors of the tokkotai  or special attack force  conventionally known as the kamikaze  its survivors tick off the reasons why their goal line stand against an american invasion was different from the blind lashing out of suicide bombers today       we were ready to die out of love for our country  they say  suicide bombers are driven by hatred and revenge         ',\n",
       "  -1),\n",
       " ('  7 july 2014  utc        i would suggest ignoring kgartm1185  as he appears to have no legitimate policy issue with the inclusion of the eu  but is instead arguing to deliberately violate wikipedia cherrypicking  sometimes it is best to not feed the trolls    23 23',\n",
       "  -1),\n",
       " ('     you wrote     this kid is a well known birmingham athlete so i m struggling to see why the article on him has been deleted  it was a misinformed and disrespectful move on your part    the article as written is simply about a young athlete who was good at basketball in school but now is enrolled in university  just like hundreds of thousands of other people in the world  please read wikipedia what wikipedia is not  specifically    wikipedia is not an indiscriminate collection of information    you may also wish to read the guidelines for biography articles  if you wish to re create the article  please do so but bear in mind that it must be verifiable from reliable sources  regards  e      ',\n",
       "  -1),\n",
       " ('        at least as used in the us    single payer   means that there is only one primary payment system  typically government run    taken by itself  it doesn t say anything else about the system   delivery of services may or may not be provided through the private market   it also doesn t require that all payments be run through the   single   system   incidental payments such as modest deductibles and copayments aren t seen as inconsistent with the term   single payer     other  non routine sources of payment  such as product liability payments covering health care for injuries  resulting from a defective product  aren t seen as inconsistent either  in some respects the usage is a bit loose  but it does speak to a basic question   are there multiple finance or insurance schemes funding health care for the population involved  or just one   if the answer is   just one    then most people in the us would call it a single payer system regardless of the other details of the system     ',\n",
       "  -1),\n",
       " ('   delete my userpage and talkpage editnotice       please deleted my userpage and the editnotice  i did not retire  i was hounded off the project by abusive admins and a user who felt free to accuse me of lying with impunity  delete them now  as i cannot place a  on them  way to go  mop  way to go  really  well done  changing my words to say something i explicitly did not mean ',\n",
       "  -1),\n",
       " ('   political section        just deleted a weasel worded political section which tried to compare with eugenics and nazis  such sensational garbage is not needed  the section was added by an economics blogger who essentially has declared war on wiki climate articles   ',\n",
       "  -1),\n",
       " ('hi bluemask  i m not feeling well today  i m very insulted with this  a k a  mr  unknown who tries to insist on reverting the deleted portions of the 2010 philippine presidential elections article  he s insulting me for being tsinoy and the worst is that  he s trying to insist that i  you and howard the duck are one  whatta f    is this person  we got to do something with this person  his breaking my nerves  he doesn t understand what wikipedia is  please help me boot this person out  he s definitely a certified bum ',\n",
       "  -1),\n",
       " ('        external links          since most have no other article  here seems the best place to list official sites and such  why single out 2007 as well       i have every intention of removing them again  that it s blatantly in violation of wp elno should be obviousif one doesn t see that  one hasn t read the policy  that the playboy wiki is not a reliable source of any standing should be obvious as well  non notable people don t get articles  so there is no reason whatsoever to suppose they get an external link section  if someone wants to see the bunny  they can use google  finally  i have not   singled out   2007i came upon it by accident  note that i have not gone to the other years  since i m trying to limit the shitstorm that seems to be unavoidable when editing topics worked on by editors with more love for their subject matter than knowledge of wikipedia s guidelines     ',\n",
       "  -1),\n",
       " ('   12 february 2008  utc         the most common and widespread usage  whether it s on wikipedia or elsewhere  is that an american denotes someone from the united states   it may not be politically correct  i agree  but that s usually how it works   for more info  there s american  word    therefore  i highly discourage including canadians on this list  perhaps a new list for asian canadian writers can be created    con 18 04 ',\n",
       "  -1),\n",
       " ('  i m pretty sure this is a joke  the other books for sale are how to raise a jewish dog and yiddish for dick and jane  it is an expensive and elaborate hoax  and  after the novelty wears off  not even that funny ',\n",
       "  -1),\n",
       " ('        dyk for white capped albatross             class   messagebox  talk               on march 3  2009  did you know  was updated with  from the article white capped albatross  which you created or substantially expanded  if you know of another interesting fact from a recently created article  then please suggest it on the did you know  talk page        thx    ',\n",
       "  -1),\n",
       " (' ellie  i m looking into the issues on susan polgar and paul truong   i think that your edits removed too much information  while the other editors edits included too much info   i ll investigate in more detail  but that will have to wait until later today   i do have a question  though  are you related to  financially  relative  etc   any of the principals in this case  polgar  etc   i m not asking you to provide your actual name  just to find out whether or not you have a conflict of interest ',\n",
       "  -1),\n",
       " (' no  we can t  not technically feasible  not what this map was created for  and not reflective of the ground situation  particularly in frontline areas    ',\n",
       "  -1),\n",
       " ('  disambiguation page     i started a disambiguation page at paper plane  disambiguation   because the hatnotes on this page were starting to get a bit cluttered  feel free to adjust and revert as needed ',\n",
       "  -1),\n",
       " ('hi there  i d like to welcome you to wikipedia     unfortunately  i have some bad news   the article on cornelius bonner that you contributed  i had to delete it  because you copied it wholesale from the gladiators  website  it s a question of copyright  you see  and although wikipedia is fairly lax about a lot of things  we re quite strict on this  it has to be new material     you can use the gladiators  site as a source of information  but not as a source of sentences  you have to put it in your own words     feel free to re create the article ',\n",
       "  -1),\n",
       " ('hi   i am glad that you mention range of opinion   you are writing about a people  it is their copyright  their story which is what you have to access in order to verify  i take the trouble to talk to the the people  record interviews from their stand point   there are sources which i have not uploaded  otherwise it is your own opinion to claim that the source by that man is unreliable  who else has said that the source is unreliable  it is taught in uganda education from primary to university that luo people are nilo shemites  nilotic just means people who dwell along the river nile and there are many tribes who dwell along river nile  some are called nilo hamites   you could have a political agenda or bias based on your religion  i shall not be engaging anymore with you on this matter ',\n",
       "  -1),\n",
       " ('       coi spam by wp  admin gwernol     full case report here   this guy is one of the most assiduous spam hunters and he wrote his own personal page  product page and company page   none are notable  he s abusing his wikipedia insider status   must go   full coi report here http   en wikipedia org wiki wikipedia conflict_of_interest noticeboard all_gwernol 2c_all_the_time_ 28gwernol 27s_own_page 2c_product_and_company 29        afd for same reason as above      crow added his own personal cv page  with his own company  his own product   he right now removed all coi labels as   personal attacks     crow is not notable  nor is the company  nor the product   he s a wikipedia admin  and is abusing the authority of his office to use wikipedia for pr  sorry dan  see http   en wikipedia org wiki wikipedia guide_to_deletion please_do_not_take_it_personally    ',\n",
       "  -1),\n",
       " (' three months ban from an article where i found 6 different cases of fraud in references never answered for being impolite  where i was not impolite see  in greeks    so finally you are very     x2 times  during the discussion balkanian used many times expressions like    fuck  fucking etc   not at all polite and i who never answer them became ban for being impolite   can you be kind enough to give me the points of my impoliteness where you based the punishment         ',\n",
       "  -1),\n",
       " ('  december 2012  utc         i agree    advocates for the protection of the second amendment   is not a neutral statement  more particularly  it violates wp mission  the nra may say it does something  but that s not enough to include its self description in wikipedia           the criteria for inclusion in wp  under wp rs and wp npov  are multiple references by wp rss  the wp rss must be reliable secondary sources subject to fact checking  if you can find such sources that say the nra   advocates for the protection of the second amendment    it might go in  but otherwise it must go out           i agree that   the nra advocates for the expansion of private access to guns  under the second amendment   is a neutral statement           specifically  that s what needs to be changed    20 44  22 ',\n",
       "  -1),\n",
       " (' that s correct  i am a paid agent for eric braverman  but i m amazed that you discovered it  after all  look at the steps i took to avoid suspicion  i joined wikipedia in 2005 and made around 140 000 edits before i even got near to editing bravermen s article   damn  you are good  actually the truth is somewhat more prosaic  my son was getting hives  we thought it was another food allergy  the allegist couldn t figure out what was going on  so he ordered some blood tests  the blood lab was on the same floor as braverman s organization  i had never heard of him and read his article and  as is almost inevitable when i read an article  i edited it   period  full stop  end of story now  if you had come here and simply talked about the possibility that braverman is a quack  that he is practicing outside the boundaries of his formal education  i would be sympathetic to your views  one thing that interested me was that braverman s waiting area  which i had to pass through to get to the blood lab  is really lavish  much more so than your typical doctor s office  which raised suspicions in my mind   but instead of doing that  you come here with some bullshit about my being a paid editor for braverman  so  in light of that  please allow me to invite you to fuck yourself and crawl back into the woodwork  asshole   best         oh  and the next time you want to accuse another editor of being a paid agent  do so with your actual account  only chicken shit pissants do their dirty work logged out ',\n",
       "  -1),\n",
       " ('petsmart charities   hello  and welcome to wikipedia  we welcome and appreciate your contributions  such as petsmart charities  but we regretfully cannot accept copyrighted text or images borrowed from either web sites or printed material  this article appears to be a direct copy from http   www petsmartcharities org newsroom 2006_04 04 php  and therefore a copyright violation  the copyrighted text has been or will soon be deleted     if you believe that the article is not a copyright violation  or if you have permission from the copyright holder to release the content freely under the gnu free documentation license  gfdl   you can comment to that effect on talk petsmart charities  then you should do one of the following      make a note on the original website that re use is permitted under the gfdl and state at talk petsmart charities where we can find that note  or     send an e mail from an address associated with the original publication to permissions at wikimedia dot org or a postal message to the wikimedia foundation permitting re use under the gfdl     it is also important that the text be modified to have an encyclopedic tone and that it follows wikipedia article layout  for more information  see wikipedia s policies and guidelines  thank you  and please feel welcome to continue contributing to wikipedia  happy editing ',\n",
       "  -1),\n",
       " ('so you support someone to calling stupid between registered editor   very nice to know  and please do not give me a warning again  because you don t deserve doing that ',\n",
       "  -1),\n",
       " ('      well  sounds like i should redirect arctic lake to the park then  as that s clearly the most common usage  i haven t searched usgs for this name but there s no pre extant article   conceivably someone might make small case   arctic lake     but there would be illions of those lol btw category mountain lakes strikes me as inane and covers 90  of the lakes in british columbia  and all of those in the yukon    not a proper geographic object   i think i protested its existence somewhere but it s still there   now btw   cariboo plateau   officially is a landform on the south side of hte eagle river east of sicamous  sort of a high western shelf of the monashees  between sicamous shuswap lake and wap creek  which is the north fork of the shuswap river  east of it is the sawtooth range  british columbia  on the other side of which is the uppermost shuswap river  north upstream from sugar lake  wap creek ends at the north apex of the sawtooth  i think the pass back into the upper shuswap is joss pass  but north of that apex is a short gap which is where three valley gap is  the little ghost town amusement park lake resort at the summit of eagle pass   anyway in your various volcanic and esp lava plateau readings you re going to come across descriptions of the cariboo plateau which isn t in bcgnis but i m pretty sure is in holland  landforms of bc  1976   but geology reports mentioning it will suffice for proper sources in lieu of holland  so keep your eyes open  i woulda thought you d hve been all over the quesnel lake volcanoes by now     and what s the news on nazko   any more rumblings    ',\n",
       "  -1),\n",
       " ('are not welcome   repetitions of their previous orders or suggestions that i leave the project',\n",
       "  -1),\n",
       " ('        i m glad that you re really not planning to introduce the inquisition to wikipedia   aren t some people silly in what they take so seriously  regarding your mates threatening to block me  i think we both know you re telling porkies there       ',\n",
       "  -1),\n",
       " ('  i m sorry if i haven t been clear enough in explaining my reasoning  judging from your response  it seems like you don t really understand what i m trying to say      i am not suggesting that we should use incorrect terminology because many people use the wrong terminology      my claim is that the english language definition of the word   royal   does not mean   must be descended from god    i am arguing that the term royal is accurate and is entirely consistent with the al sabah family  as described by you and michael herb      my disagreement with you is on english language definitions  not islamic culture      your explanations about islamic cultural norms include the implicit assumption that the word   royal   includes   descended from god   as part of its definition  if  as i assert  that isn t an integral part of the definition  then it calling the al sabah s the   kuwaiti royal family   does not go against cultural norms at all      it is also important to be aware of your audience  wikipedia is not a place for formal academic papers  when i am writing a paper in my field  computer science  i write using the formal terminology of the field  the audience of the paper is formal academia  when i am writing for a non academic audience  i will use different terminology  i will avoid words that we have re defined or defined especially narrowly  since i know that those definitions are only meaningful within the appropriate context      wikipedia is supposed to be written in standard english  correctness and accuracy are supposed to be achieved using language that is understandable by people who are not academics in the field of the article      from what i understand of your statements  your portion of the academic community has taken the standard english language definition for the word   royal   and added an additional requirement    descended from god        think through the implications of your idea  you re going to write your text with  in your mind  certain definitions for your words  however  since your audience  while educated  is not a part of your academic field  they ll think the words you re using mean something else  you re saying that this is clearer and more accurate  that s ridiculous  clarity and accuracy come from the reader and writer using the same definitions for words      your more formal and more accurate word re definitions are  i m sure  useful and valuable when you are discussing this topic within academic circles  wikipedia is not one of those circles      i hope this at least makes my position clearer  i would sincerely appreciate it if you could stop trying to portray me as somehow being anti intellectual or anti academia  i consider accuracy and correctness to be very important  i value academic research and input  it is unreasonable for you to assume that i have disagreed with you because i have ignored your reasoning  i have carefully read through and considered your reasoning before i have disagreed with it        ',\n",
       "  -1),\n",
       " ('     there are certainly a decent number of google hits that appear to be discussing this plant as   bili tree      bilipatra   or   bilipatra    although not much that i d consider a reliable source   these terms sure look like they re etymologically related to   bilva     bilvapatra   already listed in the lead  is the difference between bili   bilva one of dialect  language  or alternate transliteration into english  i don t know for sure     ',\n",
       "  -1),\n",
       " ('  waiting until 8 pm to see my work zapped  sigh   the image will be deleted seven days after this template was added        when applying this tag    use   orphaned fairuse not replaced month march day 3   or simply   subst orfud   to categorize by tag date    also  you may use      subst orphaned image yaibal 3 jpg  ',\n",
       "  -1),\n",
       " (' please do not add nonsense to wikipedia  it is considered vandalism  if you would like to experiment  use the sandbox  thank you         ',\n",
       "  -1),\n",
       " ('   17 september 2009  utc     do the people opposing to move to the correct name have any guidelines or policies to support them  right now i see a guideline supporting the move  and nothing opposing it  i hope the closing admin is smart enough to take note of this    21 00 ',\n",
       "  -1),\n",
       " ('   hugh montgomery  historian        i noted you inadvertently  voted twice at wikipedia articles for deletion hugh montgomery  historian   thought you might want to change something ',\n",
       "  -1),\n",
       " ('          dixie      dixie s land      i wish i was in dixie    i wish i was disambiguated      not a big problem  i ve seen this sort of thing happen on things with  like  250 links        ',\n",
       "  -1),\n",
       " (' those figures are for two different things  the first  4 1 canadians to americans  is the ratio of players in the professional nhl  the second figures are for the total number of people in the country who play the sport   at all levels  not just professional   and i d point out that while canada has only 90 000 more players  based on the percentage of the population who play the sport  there is over ten times the level of participation    ',\n",
       "  -1),\n",
       " ('a man like di stefano who defends murderers like saddam hussein  milosevic  ian brady  hoogenstraten  is no better than those he defends and wikipedia should not give him space and should delete his entire biography so noone thinks he is some kind of hero because he is no better than those he defends ',\n",
       "  -1),\n",
       " ('        abuse of speedy tags     please do not use speedy delete tags on articles which clearly do not meet the criteria  like page views             response      i was not  abusing  the speedy delete tag  at the time i added the tag  it was a plaintext  not standard wp font  don t know how it managed that  dictionary definition  was therefore not encyclopedic and therefore qualified for speedy delete       plaintext is not a speedy criterion  and neither is dictionary definition        not being encyclopedic is        which of the criteria says that          articles  1     very short articles providing little or no context  e g     he is a funny man that has created factory and the hacienda  and  by the way  his wife is great        at the time i added the tag  the plaintext formatting  no line breaks  meant that the article was a single  incomplete sentence  the rest of it wasn t displayed   this means that it qualified for csd under the criterion i have linked to           i really don t think this criterion was intended to get articles deleted merely because their contributor is unaware of wikipedia s formatting system  but i will make a note of your interpretation             as i have already said  i ll repeat  since it s clear from your failed rfa that you re an arch inclusionist   the formatting was not the reason i added a speedy delete tag to this page  very short articles containing little or no context are speedy deletion candidates  regardless of the reason           as i mentioned  i don t believe that was the intention of the criterion  and in fact i think you are stretching it beyond all credibility  but i will make a note of your interpretation    ',\n",
       "  -1),\n",
       " ('    ozone   infinite inductance does not imply zero current through the inductor   instead  it implies zero change in current through the inductor   that is  an ideal inductor  looks  like  in the limit as the inductance goes to infinity  an ideal constant current source ',\n",
       "  -1),\n",
       " ('        yes but they shouldn t be hidden away   they need to be mentioned in the intro   and prominently  as for majority views being important   that s fine as long as it s only stated that it is verifiable that x number have this opinion   the verifiability or not of the existence of   jesus   is fundamental to the article   this article is meant to be about   jesus     it needs to be clear that there is no contemporary histiorical evidence for his existence   ',\n",
       "  -1),\n",
       " ('     yes  we talked about that on your  one of the many times i tried to get you engaged  the process  it s not a wikipedia policy that editors can only make 1 change at a time  it s also not a policy that you see fit to follow ',\n",
       "  -1),\n",
       " ('  jeff weise     i did take it to the talk page    i think it s better to have a page which deals with jeff   his dad committing suicide  his mother brain damaged  his neo nazi tendancys  his granddad apparently starting a new romance   etc  and then another page from the actual incident    why do you propose diferently   ',\n",
       "  -1),\n",
       " ('     the ip s been blocked  found the same early ph sketches i had found on silent hill wikia on neoseeker  a video game site which i don t know if it s reliable  i searched wikipedia s list of video game related sources and i m not pretty sure if it is  check it out  the sources are listed alphabetically  search the middle column at the beginning of   n        ',\n",
       "  -1),\n",
       " ('regarding edits made during april 30 2007  utc    thank you for experimenting with  wikipedia  your test worked  and it has been reverted or removed  please use the sandbox for any other tests you may want to do  take a look at the welcome page to learn more about contributing to our encyclopedia  if this is an ip address  and it is shared by multiple users  ignore this warning if you did not make any unconstructive edits ',\n",
       "  -1),\n",
       " ('        your submission at articles for creation      your article submission has been declined  and wikipedia talk articles for creation subrosa union was not created  please view your submission to see the comments left by the reviewer  and please feel free to resubmit once the issues have been addressed   you can do this by adding the text   subst afc submission submit   to the top of the article   thank you for your contributions to wikipedia     ',\n",
       "  -1),\n",
       " ('   cw start dates       hi there   not sure if you saw this  but the cw has announced start dates for the fall season  see here  i know you work on a lot of cw show pages   thought you could use the info   sorry if you ve already heard changed things ',\n",
       "  -1),\n",
       " ('i was a while back responsible for changing the father of mma from bruce lee to edward william barton wright  for his experimentation during the years 1898 1902 into shinden fudo ryu jujutsu  kodokan judo  british boxing swiss schwingen  french savate and a defensive la canne  stick fighting  style that had been developed by pierre vigny of switzerland which lead to the invention of bartitsu  and provided proof for me it was not  confused snorting',\n",
       "  -1),\n",
       " ('  such practices were not exclusive to mannerbunde  but can be glipmsed in historic accounts of male hunter or warrior fraternities across old europe  and these seem to have more in common with initiatory mysteries in the classical sense than the fraternal lodges or exclusive clubs like skull and bones or the bohemian grove today   none of which  to the best of my understanding  employ homoerotic ritual sex as a method of imbuing its initiates with virtue ',\n",
       "  -1),\n",
       " ('   rawls  criticism       i cannot find where in lectures on the history of political philosophy rawls criticizes nozick in the way this article says ',\n",
       "  -1),\n",
       " ('     hi  well  in my opinion usa has both force and justice on their side in this case  by   justice   i don t mean human legal system  i mean justice  as one of the highest principles  i have to mention this because it seems i wasn t quite clear about that in the previous post  so you misunderstood it    i have to admit i don t quite see what you re trying to do with mentioning again un charter and other documents  i ve already said   those are lists of un wishes  it s not a law per se  and thus it is not convenient to use the word   guarantee    un is in no position to guarantee anything  un can use a force just like any single nation  but what they do is not   legal    and i already explained that in the previous post  un works on a mob principle  similar to democracy  if you have force strong enough to impose something  and a will behind that force  then you do it  if not  you don t  my parallels with french revolution are very much relevant  and i would still like to hear your answer  do you support french revolution and democracy or not  even though such a thing was   illegal   then as much as kosovo is illegal today  also  do you consider usa an  illegal  state  considering that their independence was illegal  and one more thing regarding legality   do you consider invasion of iraq legal  and if not  what is un doing in punishing the countries who invaded iraq  if un cannot or does not want to punish countries that invaded iraq  your whole point of   un law   or   international law   goes down the drain  instantly  one of the requirements of   law   is having a force strong enough to impose it  and to make sure everyone obeys it  if there is no force sufficient to ensure adherence to the law  then there is no law   it s a list of good wishes  one can then say that independence of kosovo is against the wishes of some  but that hardly has any relevance at all when those whose wishes are for the independence are stronger  back to your post  i agree with you that un was made to protect stability and peace  and that s why i don t like un  if un was there to manifest justice  i would support it  as it is  i don t respect un  and i think not respecting un is a good thing  you made it sound like it s a bad thing   to answer your question  not every minorities want independence  and those minorities who want it should get it  that s right  if istria in my country wanted independence i d be among the first to vote in their favor  i have entirely different concept when it comes to self determination of minorities  i reject the idea of national state  i think it s a flawed concept which was historically useful as much as democracy was historically useful and as mush as the tyranny of peisistratos was useful  it s not a concept that s in itself good  but it s a concept which helped bring a civilization to the next level  i wanted to make explanation a bit longer but this section of wikipedia doesn t allow it so i won t bother  to sum it up  i think a country should be run so well  that no one in their right mind would even want to break off  and if someone does want to break off for whatever reason  an economic  and other  alliance should be made to neutralize bad side effects of having too many small countries  a concept similiar to usa or eu   oh  and regarding the last part of your msg   i repeat  there is no such thing as  relevant international law   also    whether the law is enforced or not  that s another story   is a very strange figure of speech  since a law that is not enforced is not a law at all  it s a list of good wishes     ',\n",
       "  -1),\n",
       " (' previous two dudes  you re obviously close minded dogmatists of   rationalism     you should honestly investigate claimed supernatural phenomena so you don t live bad lives and end up in hell   you re the irrational one by insisting without proper investigation that such phenomena is automatically bogus   and shame on the next dude for just parroting a false and malicious conclusion   you show forth your stupidity in the most abberant manner   i am a real scientist and i have examined what evidence is available to me regarding claims about therese neumann   she was a saint and her phenomena proof of the truth of catholicism  which she herself indicates by her manner of life   she s not an isolated case   there s thousands of well documented and reliable accounts of modern and past supernatural phenomena on the part of catholic saints that backs up their claims that jesus founded the catholic church and that it s the only true religion     everybody with wisdom realizes wikipedia has a heavy liberal bias and won t give us the truth on almost anything   giving both sides of the story here is not truth   therese neumann is one of thousands of messages from god to the world that it should be catholic     and neumann  if the yogi dude isn t lying  probably either didn t understand his words  eastern religious jargon  or just wanted to be nice and not cause a fight   if he wanted her opinion  in western cultures  you ask the person straight forward   hinduisms are not at all like catholicism   hinduisms are more like  i think i am one  therefore i am    catholics are catholics only if they do and say what the church defines that catholics do   e g  murderers commit a mortal sin and stop being catholics   and i ll be honest with you  guys like that would lie about what she said just to use her for their scheme   it seems more in line with what honest people record her saying that she told him he d go to hell if he didn t become a catholic            ',\n",
       "  -1),\n",
       " ('   1 august 2005  utc        you re being ridiculous   please assume good faith   i do not seek to   deny readers access   to these conclusions  i just question their relevance   all major figures from the clinton admin who posited an al qaeda saddam link have since changed their minds   you have to realize that our understanding of al qaeda was in a pretty primitive state before 9 11  because so few took them seriously  and the ones who did  perceived them through older models of analysis  the   state sponsored terrorism   thesis  that are not as relevant to a diffuse network like al qaeda   people cite the fact that richard clarke used to think there was a link as if it proves that the link must be true   oddly  these are the same people who dispute clarke s credibility now   it seems they re incapable of understanding that people can change their minds about something when confronted with new evidence about it   i m also unclear why you say i want to refuse people access to the conclusions of judge baer  i clearly left that item in the timeline   but don t pretend these opinions have the same weight as a bipartisan commission assigned with the specific mission to investigate these sorts of things  especially when their conclusions have the benefit of years of hindsight  as opposed to the opinions of some clinton admin members back in 1998    some clinton officials  e g  daniel benjamin  investigated the al q link with the belief that they would have found links to saddam  and were surprised when their research proved the opposite   i think it s silly to think that we should give greater weight to what these people said in the mid  to late 1990s than their conclusions after years of further research specifically focused on the issue   23 17 ',\n",
       "  -1),\n",
       " ('        your changes to the gdp rankings in the uk article       you have three times now changed the changed the ranking of the gdp of the uk in the infobox without providing a reliable source for the change  and also without also changing the corresponding information in the lead paragraph  leading to contradictory information  you have also not been providing an edit summary for your changes  while not required  this is a courtesy that makes it easier for other editors to understand the reason for your changes     please come to the article discussion page to talk about the changes to the rankings  thank you    ',\n",
       "  -1),\n",
       " ('      delivering nicotine to the end user   is a health claim and even with it wasn t this ref is not suitable and especially not suitable for the lead         email   if i write on your page reply on mine   ',\n",
       "  -1),\n",
       " ('            third opinions serve as a way of getting a bit more consensus when it s just two users going back and forth without any real consensus  i joined the discussion when the page was listed for a third opinion  my place in the discussion is irrelevant  it s no different than if i had randomly stumbled upon the page and joined the conversation  wikipedia allows all editors the ability to do that            if you want somewhere else to go  try rfc  i m not really willing to moderate  as this whole page is incredibly frustrating to me  to be honest  john  you re not being helpful  weren t you just banned for 24 hours for disruptive editing  i m sorry  but i can t work with an editor who s not willing to work towards a compromise  i ve gotten so lost in the endless debate that i don t even know what the original focus is anymore            but that s neither here nor there  i m going to wait to see how the afd is resolved              ',\n",
       "  -1),\n",
       " ('        using a trout safely       when wielding a trout against another editor as you did here it is helpful to explain your point of view  it is very little help being hit by a fish if it does not come with an explanation of why it was deserved  even without a trout involved it is helpful to explain your point of view at a mfd and not simply say keep  perhaps you could enlighten us at that debate to the reasoning behind your position and fish swinging    ',\n",
       "  -1),\n",
       " ('      if gorilla honestly thinks gamergate is just about defaming and threatening women or that mozilla allowing a female supporter of gamergate to express her views on the issue was   legitimizing the abuse of women   then she should recuse  seems clear that gorilla has the   neutrality is not acceptable   take on gamergate  being an editor on the topic would not be a big deal  but there is no way in hell someone should be acting as an arbitrator when they have such an attitude on the subject     ',\n",
       "  -1),\n",
       " ('  bailando bolivia seasons article     the community has decided that at wikipedia articles for deletion bailando bolivia that bailando bolivia seasons that you have created do not belong in wikipedia and that they should be deleted  please do not make them again ',\n",
       "  -1),\n",
       " ('  your reply here though has failed to assume the good faith of  in raising this with you  it s not the first time you have added ridiculous statements to peoples pages and i too now agree with  that your comment  though it appeared in jest  is uncivil ',\n",
       "  -1),\n",
       " ('   list of manga artists       i see no reason why list of manga artists should be deleted  as numerous similar lists exist and seem to be maintained  for example list of american comics creators    or list of science fiction authors    there are many articles tagged as being in the scope of wikipedia wikiproject index that are equally broad or broader   while i don t know if those articles generally have support on wikipedia or not  if you think articles of that sort do not belong on wikipedia  then it would probably be best to start a discussion on that sort of article in general   for the list of manga artists article  i do however think it should be limited to manga creators with wikipedia articles  which seems to be what is done for other similar lists  ',\n",
       "  -1),\n",
       " ('  zoroasterian false claims      it is rediculous to claim that zoroaster proclaimed ahura mazda as the monothiest god of manking for the first time in history in the times of cyrus and the father of king darius the great around 700 bc    it is more rediculous that in no time zoroaster declared yet another unborn god ahriman yet as another god hence dualism     it is known that the first ever writings of zoroaster was his dream of seeing ahuramazda the one god well known so to the iranians for time immmemorial   then declaring seeing another god like a shadow to ahura mazda in the second dream two weeks later as he writes     it is well known that zoroaster is the first man claiming another unborn god hence he is the father of dualism  he was no revealed religins prophet like monothiestic religion  noah  abraham judaism  christianity and islam  for he declares getting his knowledge from dreams never spoke to god or a messenger of god   it is impossible to dissociate ahoramazda from magusis the adherants of dualism  of whom king darius the great clearly declared a war on them by killing the magusi sardis the usurpur of the kingship and declaring a yearly day celebration called  the day of the killing of the magusi magimortis  in which he allowed his people to kill any magusi  dualism adherant  in that day even in the magusi s own house  this is why magusis used to hide in that day in other places in that day of the year     obviously  much later after darius the great  that the magusis  adherants of zoroaster  managed to take control of the great persian kingdum  which caused its demise   the magusis continued control of the poor persian people who hated magusis until islam freed them from those magusis and deported them back to their home land  india    it is known that magusi in semitic is same as nagusi   ie dirty person  a person who uses magic by invoking evil spirits by using dirty  nagis  stuff such as wolf s tail  or putting urine in foood or drink to do favours to women for money  like a woman who wants her husband to love her again or to get pregnant etc   it is well known that the magusis were not from persia but a low cast from india like gypsies who used to do dirty works for the persians namely slaughter of animals  that is when they started making future predictions  fortune telling  by studying the signs on the liver of the slaughtered animals  zoroaster was one of those magusis who was a great magician  do magic by dirty stuff  and proclaiming for the first time in history the ideas of dualism in an official religion  arabs said in their ancient writings before islam that zoroaster so disgusted people that they gave him the nick name shuraik  ie who adds another god to g d  since pagans and poly thiests since ancient times belied that the other gods they worship were not just representations  spirits  of the one mighty god  however zoroaster was the first to declare a shadow god to the mighty g d hence god of light and god of darkness to explain the inequality and injustise in the world  remember they were a low cast from india avoided by people  magusis used to live away from villages just like gypsies because they were considered dirty lowly  heathen  posessed by evil spirits they get from the animals they slaughter for the persians     even the word magic  magician  magi  plural of magusi in english  come from the magusis of persia who were not native of iran but gypsies from india who use magis nagic dirty stuff to do their witchcraft and favors to stressed women and men throughout history  even in our times      conclusion  ahura mazda the name of the monothiest god in ancient persia has nothing to do with dirty zoroaster prophet of dualism who appeared circa 700 bc very very late in the history of manking ',\n",
       "  -1),\n",
       " ('   demon kiss  upcoming novel      i sympathized with your comment in the prod tag you placed on the above captioned page   i decided that material about a novel without any mention of the author or publisher was   not enough context to identify the subject    this might be useful to you in the future         ',\n",
       "  -1),\n",
       " ('  removing luther or      i joined the enclopedia britanica to look at their article on luther  and weber is not mentioned ',\n",
       "  -1),\n",
       " ('they do not have the same kind of stake in making sure information ir reliable because their goal is to sell a product  which sometimes mean they have a stake in distorting information to make products seem better than they actually are in various ways   newspapers  authors of books  historical societies  etc  are selling a product to but it is an information product with them standing behind it  a retail site selling a toy train provides product information details about the toy because people don t buy products without information on them  but they are selling the toy train  not the information  moreover  information products are often written by people trained in providing information  researchers  librarians  journalists  so ask yourself  who s writing the blurb accompanying the toy train and what procedures are in place to make sure it s accurate ',\n",
       "  -1),\n",
       " ('     i think the problem only arises once you move beyond animals and into computer science  which is not within the scope of this article   which author is right about how to design algorithms is irrelevant   the article is about collective behavior in biological animals  and how that arises and evolves   how and why animals arrive at a particular state is often very  very different from human design  or even from what s optimal   your references might be very relevant to the articles swarm_intelligence or collective_behavior  but this article has a narrower scope  restricted to non human animals in nature ',\n",
       "  -1),\n",
       " ('       speedy deletion of   mason henson          a page you created  mason henson  has been tagged for deletion  as it meets one or more of the criteria for speedy deletion  specifically  it is about a person or group of people  but it does not indicate how they are important or significant  and thus why they should be included in an encyclopedia  please see the guidelines for what is generally accepted as notable  and the guidelines for biographies in particular     you are welcome to contribute content which complies with our content policies and any applicable inclusion guidelines  however  please do not simply re create the page with the same content  you may also wish to read our introduction to editing and guide to writing your first article     thank you  hg        ',\n",
       "  -1),\n",
       " (' i don t know what s going on here   the note above has been twice deleted  by  and   there seems to be some sort of campaign going on  do i detect a sock drawer  regards          ugh  what a nightmare  whoever s doing this needs to grow up           these are all ip sockpuppets of the blocked user kolzor ',\n",
       "  -1),\n",
       " ('    citation needed  is not needed       thanks for the work done writing this article  the article is dotted with  citation needed  markings which disturb the reading  when a subsection refers to a main article people wanting citations should read the main article and leave the subsection in peace  please     ',\n",
       "  -1),\n",
       " ('         wow  so the elamite rats think they are aryans  and that s why they call themeselves iranians     thank god we have r1a1 to finally prove that these filthy rats were only   conquered   and   ruled   by aryans  but they were never aryans themelves     the whole history that these elamite rats have fabricated will fall apart very soon  thanks to genetic testing  the sassanid kings meant these are the lands of the aryans in a medieval sense  as a property  not in a modern nationalistic sense  meaning that the rats are aryans     ',\n",
       "  -1),\n",
       " ('     the page was basically copied from an existing wp article    but upon closer review i see nothing in the copied version that would warrant a copy vio tag   i don t see it         ',\n",
       "  -1),\n",
       " ('ethnologue sil is not a reference concerning ck maori ', -1),\n",
       " ('   hotels in abuja       whenever one decides on a destination  the next most crucial thing is to find out about the hotels available  abuja  the nigerian capital  boasts of some of the best hotels in the industry and has all kinds of luxury and budget accommodations available  the well  planned city has much to offer to the inquisitive traveler who is not afraid to experiment          the nigerian capital city abuja has loads to offer for the tourists who want some exciting times in a place that houses most of the embassies and believes in a sophisticated way of life  with large number of bars  restaurants and shopping malls  abuja is a city that is fast becoming popular among travelers   nature lovers will also love it as it is packed with tranquil locations     mixing the african culture abuja hotels with western influences  hotels in abuja boast of luxury  richness and great hospitality  from high end hotels to budget accommodations  the city has something for everyone  comfortable lounges with live music  huge swimming pools to relax after a tiring day  king sized beds jacuzzi baths are features of all the luxury hotels in abuja     whether it is for business or leisure  hotels in abuja will offer the very best facilities in the world  they provide a homely environment so that the guests don t feel out of place  the staff is friendly  warm and full of enthusiasm to serve the guests to the best of its abilities      stylish yet traditional  the hotels in abuja continue to innovate  keeping in mind the guests  requirements and preferences  for business purposes  hotels have conference rooms with all the high tech facilities  including free wi fi  known for their trendy taste in design and décor  the hotels are pleasing to the eyes too  abuja caters to all kinds of travelers and the hotels reflect that attitude quite well in every way possible      one would not feel hotels in abuja away from home in any hotel in the city as the staff will take care of every need of the guests  the spacious suites on offer are again a great deal as they are loaded with all kinds of lavishness      for food lovers  hotels in abuja offer a great mix of international and nigerian cuisine  with 24 hour room dining services available  entertainment is always on the mind for anyone who visits abuja and the hotels take care of that  live music can often be enjoyed at most of the places and not just the five star hotels     book that flight now and get to abuja to experience world class facilities  right from 24 hour in room dining service to wake up service  the hotels do their best to make the stay as comfortable as possible for their guests  to pamper yourself and all your senses  book a hotel now for a truly international experience             no 73 usuma street maitama   p b no 905001 abuja  nigeria   info summersetcontinentalhotels com     234 09 22 03 405   234 09 2203 402           http   www summersetcontinentalhotels com en index php',\n",
       "  -1),\n",
       " ('may 2014     do not vandalize the star wars  droids page by removing prequel trilogy information again ',\n",
       "  -1),\n",
       " ('      no matter how upset you may be there is never a reason to refer to another editor as   an idiot       ',\n",
       "  1),\n",
       " ('       there are only 10 b class baseball team articles  and only one of them has had a peer review and fa review  the houston astros   and it failed on 3 suggestions in total   not really a   review     this article has had 1 peer review and 2 fa reviews  it s had the most  and really only  feedback on what should be included and what shouldn t of any mlb team  other teams should be basing their articles on what is done here   not the other way around    ',\n",
       "  -1),\n",
       " ('         sorry to jump in  bhg  and i m afraid this may sound abrupt  which isn t how it s meant    but the more i stare at the exchange above  the less i see anything the matter with giano s language  how does it need moderating  is this the famous   always tell both the kids off   playschool teacher technique you re applying  i m not sure it ll answer in this case  or at all  with adults  best wishes        ',\n",
       "  -1),\n",
       " ('      consensus is not   i have more friends than you    you actually have to present a valid argument  saying    but it s true    is not a valid argument     ',\n",
       "  -1),\n",
       " ('i sometimes wonder why some people feel they are entitled to act any way they want  i was not bothering you  and yet you have started this   i don t think it is any of your concern what i do   who are you to police me    like your so innocent  you are constantly stirring up the pot and causing trouble  so save me your so innocent act and quit being a hypocrite    wanna be revolutionary  you think your so perfect and righteous and everyone is wrong except you   your a biased fanatic and you make me sick  your a spoiled baby and i want you to quit interfering in what i do  ',\n",
       "  1),\n",
       " ('   31 may 2012  utc      i ve reverted  and here s why    blonde   is used to describe the fact that it is a girl or woman who has blond hair  stating   a girl with very light blonde hair   is redundant because the person is already identified as female by the word   girl          further  the blond etymology  spelling  and grammar doesn t say that girls and women always have to be referred to as   blondes   when they have blond hair  there are some instances where using the word   blonde   is rejected  either because it s considered unnecessary or sexist  the section already mentions the sexist bit  at a later date  i ll add something about   blonde   not always having to be used    16 32 ',\n",
       "  -1),\n",
       " ('  now the 4 names of interlanguage linked wikipedia articles are german de giunta  buchdrucker   french fr giunta  imprimeurs   hungarian hu giunti család  swedish sv giunta  the first three are substantial articles      we have the page  which redirects here for five years  that name can be used for this article  or a revised version of this article  with help from an administrator  i am not one   or that page may be developed as a completely new article which makes the history of this page irrelevant  not likely in my offhand opinion   the page  may be developed as a completely new article  easily in my opinion  ',\n",
       "  -1),\n",
       " ('         this image is the flag of a county  flags of governments are public images  this should not have been deleted  now several pages have redlinks in place of the image ',\n",
       "  -1),\n",
       " ('        please resist the urge to spin       as a gay gamer who has been playing video games since the 1976 fairchild  i can say that i have been far from impressed with the representation of gay identity in video gaming  i can tolerate ridiculous stereotypical depictions of gay folk  but what is worse is the systematic censorship  classifying mere gay identity as   mature sexual adult   is one way of enabling retailers like wal mart to de gay their shelves and content creators to de gay their products  citing sales concerns  it is patently discriminatory to act as if being openly gay is   more sexual   than being openly hetero  yet people blithely accept this double standard all the time     while there isn t much news coverage to be found about this  the christian right is driving quite a bit of this  their scare tactics routinely include trying to convince parents that gays are after their children  having openly gay characters in video games  especially when they re not villains and fools  is a threat to their system of using us as pawns in their quest for power     the sims proved people wrong who declared   only hetero males play video games    besides  it s a self fulfilling prophecy to make products designed to appeal to the taste of one demographic and proclaim that others simply have no interest in gaming in the first place  it s quite convenient  how much of this dearth of gay content  and i don t mean token content  is due to the fact that most developers are heterosexual men     so  please resist the urge to spin the history of gays in gaming as being much rosier than it is  even the sims titles censor us  making us   convert   people into homosexuals  a very offensive thing to force a gay person to do  let me tell you  and force characters into romantic interactions  a token non foolish non evil gay character here and there does not equate to an industry in which people like myself truly feel there are products that are non narrow  and  frankly  the phrase   the pink dollar   itself is rather offensive  the money i earn is green  when i touch it it doesn t transform due to   the gay    historically minded folks may also want to remember that pink was the color for boys and blue was the color for girls in the 19th century  i would hope that developers will start seeing an end to heterosexism and homophobia as being more about creative freedom than cash  ',\n",
       "  -1),\n",
       " ('        misspelling       nightrain seems to have been misspelled on the original record     on my appetite for destruction vinyl  which is a very early copy as it still has the banned sleeve on it  it is spelled   nightrian      as opposed to   nightrain    just thought i d point it out and wondered whether this has been noticed before     adam    ',\n",
       "  -1),\n",
       " ('        hi  esoglou   i see a wp npov problem with the new item   mainstream churches  as opposed to what are termed sects or cults     one man s heresy is another s orthodoxy  and although we need to recognize that many theologians  e g   from evangelicalism or conservative protestantism  consider their own beliefs to be  small o    orthodox christianity   and classify conflicting beliefs as   sects   or   cults    all of these terms are arguably pov  and wikipedia does not take any position on such disputes   even   mainstream   is troublesome  i believe  given that some evangelicals go so far as to consider the eastern orthodox and roman catholic churches to be   cults           ',\n",
       "  -1),\n",
       " ('       your submission at articles for creation      your article submission has been declined  and wikipedia talk articles for creation sonic router was not created  please view your submission to see the comments left by the reviewer  and please feel free to resubmit once the issues have been addressed   you can do this by adding the text   subst afc submission submit   to the top of the article   thank you for your contributions to wikipedia    ',\n",
       "  -1),\n",
       " (' suggestion 3    lin has received attention for being an undrafted asian american prospect from harvard       support summarizes the body and explains why the topic is notable and summarizes most important points         ',\n",
       "  -1),\n",
       " ('   linking to itunes       i am going to remove the link to itunes that you have reinserted into the 1973 article   please read this    itunes is both a commercial link and a site that requires specific software registration to be used  and thus fails on two counts as an appropriate external link   please do not reinsert itunes links into this article or any other article   thanks ',\n",
       "  -1),\n",
       " ('   can you think of any other article that s been nominated nine times  no  i think you have to be realistic  and not blame everyone else  take responsibility  if there were really no issues it would not have required 9   facs ',\n",
       "  -1),\n",
       " ('        taken as a whole the article can fairly to be said to be rather self indulgent   though your reference to   his self indulgent nature   is absurdly sweeping  but disproof on one israeli mailing list is not the issue               within hours  the internet   a vile institution which i do not use   was awash with stories that the united states had banned my entry to america because of my critical articles about the bush administration or because i had long ago interviewed bin laden or because i was so horrible that no democracy would ever let me stain its front doormat   this rubbish followed me round the world  in australia to launch my book  i was asked   on 10 radio and television shows and in four lectures   how it felt to be banned from the united states  i must have spent a total of two hours collectively explaining that this was untrue  i had simply travelled on an old passport that was no longer valid for entry to the us  it was useless  in scotland  a university academic introducing me to his audience by announcing that my articles  must at last have got up the nose of the bush administration  because i had been banned  the internet bullshit followed me to dublin and then to cork and then to belfast  nothing  it seemed  could switch off the message           remember too that this is the guy who some people dislike enough that the internet term fisking was coined     ',\n",
       "  -1),\n",
       " ('ok  i noticed that you contributed to the blu ray page   so yes  you are a biased sony fanboy   please refrain from future vandalism of the state of umd   i know that you can t swallow the fact that it s a dead format ',\n",
       "  -1),\n",
       " ('i soooooo was not being a dick  i think you re the dick  you  tom cruise and whoever locked my own page  this is my page  so i should be able to edit it how i wish ',\n",
       "  1),\n",
       " ('        i do not think i need to mention it but behind these   various ips   there are more than one user instead of a single one  it would be impossible for one to handle all your alleged crap  i don t think i need to mention it because it s totally irrelevant how many people oppose something  it does not count how many are on which side  it counts what is behind  arguments and truth  with your lies and will to mislead people by depicting the game as something it is not  you re runnining against a wall of truth and arguments and i ll make sure you won t tear that wall down  no matter if you re a biased aa players or a biased admin on the site  i m right  and you know that very well  and even if you are in the majority  this rule remains true    something is still right  even if everyone thinks it s not  something is wrong even if everyone thinks it s right    you don t even think you re right  you just pretend  knock off your pathetic pretence for i only accept the truth  and the truth only  i don t mind if your ludicrous opposition is kept up for years  it will end up without success and the feeling of having wasted your time with your hypocricy      saying the game is primarily propaganda  i ll have the truth backing me  equating it with advertisement and even pretending as if   many players disagree d  over which label fit ted  better    you back it with lies  as if anyone in the game knew anything  search the official forum for the word   propaganda    you ll find nothing    many    what a liar you are  you represent not   many   players  you ll represent one  and you disagree just for the sake of disagreeing     if you re actually interesting in finding the truth  you d have read the articles with an open mind and agreed on that  actually i don t need to do this because it s not the truth you re seeking  but i ve found another university page and would like to post it  http   www minitrue nl essays nmnc aa justin html   you didn t manage to read the talk page  so i ll summarize the most importent statements concerning our which fits better topic       in this contribution i will also distinguish the advergame from the propagame in order to give a further analysis of america s army         the game america s army  the propagame as i will call it  is unique in its being          from advergame to propagame         the message america s army sends itself is propagandistic  it propagandises a certain kind of lifestyle message in which the army would like the participant to join and become  propaganda itself has a history within religion  religion also sends the same message  to let the participant  or the participant in becoming  join and become the religion  so sending the message of religion   so america s army  with its governmental background  is instead of an advergame  better to be described as a propagame       better to be described as a propagame  what did i say  primarily fits the definition of propaganda    authority argument  university  underscores my version       when it comes to the propagame america s army  the next quotation is striking      the initial success of america s army has exceeded the army s expectations  and colonel wardynski and his design team are excited about the possibilities    we re going to be pushing out new versions of the game as fast as we can build them    he says    this same team will be building missions  weapons  and new features for years to come    the nation s youth can expect a lot more from their friendly army of one      america s army  targets youth by jacob hodes   emma ruby sachs          from the analysis of the advergame and the striking resemblance i have described with the propagame america s army i will now turn my attention to the consequences for communication on internet by such games          the exception is america s army because it communicates itself as a company in which citizens can join  the aim is to let the gamers themselves join the company as an employee and be the producers within of the message the army sends  one of the aims of advergames is to construct a process of viral marketing  but this is done unlike the propagame  the advergame aims that consumers virally communicate about the game or the message it beholds for the purpose of spreading the word  but not to become one with the company itself  daimlerchrysler for example wouldn t make a game in which one is being trained to become the director of a car factory  this would create competition   not yet  emphasised   but maybe in the future it will when one seeks for employees         i thus called it a propagame  a game that propagandises a message to become the message  within the game  gamers are disciplined and the power structures are like the common army power structure  top down hierarchical          my investigation led me to b',\n",
       "  -1),\n",
       " ('      i m in agreement with john  i don t think the photo adds anything to the article  although i recall making a minor contribution to the cutline at some point  i fail to see the connection with   anti quebec sentiment    english language signs are no more anti quebec  than uniligual chinese signs in vancouver are evidence of anti canadianism  furthermore  to these eyes  only portions of two signs are legible  is there any french  from what i know of montreal history  it seems doubtful   but i can t make it out one way or another    ',\n",
       "  -1),\n",
       " ('             i don t understand that  james  maybe i got your explanation confused  i don t think you are saying that pedophilia should not be defined as a sexual preference  as a primary sexual interest   that goes against your arguments for it being defined as a sexual preference  you have often made the distinction between it  a preference  and child molestation  the act   so are you saying that a person cannot be primarily sexualy interested in adults and prepubescent children  if so  this article is not saying that either  or are you saying that the   exclusive   part is not needed  because   primary   takes care of it  my thing with   primary   taking care of it is that it makes it sound as though pedophiles often have some other sexual object choice  pubescents or post pubescents   i don t always relate the   non exclusive   offender to a   primary   offender  though it can mean that  i take   primary   to mean a pedophile who often sexually focuses on prepubescent children and can get a little sexually aroused by pubescents or post pubescents  i take   exclusive   to mean pedophiles who have no chance whatsoever of becoming sexually aroused by pubescents or post pubescents  but you feel this istinction is not important or needed            ',\n",
       "  -1),\n",
       " ('  np  it s a weird one  i m not really sure of the motivation behind it  all anonymous edits of course     i have to say the article is even now in a piss poor state but it s much better than it was  i think  will continue to work on it ',\n",
       "  -1),\n",
       " ('         again  what you said about golsan is  not  exactly right  in fact  it s wrong  the rest i agree with  hence the   exactly   comment     ',\n",
       "  -1),\n",
       " ('here are a few key questions      do you understand that wikipedia is an encyclopedia  and not a business directory      do you understand conflict of interest      do you understand that to be considered for an encyclopedia article  the subject must be notable     you are currently blocked because your username appears directly related to a company  group or product that you have been promoting  contrary to the username policy  changing the username will not allow you to violate the 3 important principles above     ',\n",
       "  -1),\n",
       " ('       fair use rationale for image thai domestic passenger ticket jpg      thanks for uploading or contributing to image thai domestic passenger ticket jpg  i notice the image page specifies that the image is being used under fair use but there is no explanation or rationale as to why its use in wikipedia articles constitutes fair use  in addition to the boilerplate fair use template  you must also write out on the image description page a specific explanation or rationale for why using this image in each article is consistent with fair use  suggestions on how to do so can be found  here     please go to the image description page and edit it to include a fair use rationale  using one of the templates at wikipedia fair use rationale guideline is an easy way to ensure that your image is in compliance with wikipedia policy  but remember that you must complete the template   do not simply insert a blank template on an image page      if you have uploaded other fair use media  consider checking that you have specified the fair use rationale on those pages too  you can find a list of  image  pages you have edited by clicking on the      link  it is located at the very top of any wikipedia page when you are logged in   and then selecting   image   from the dropdown box  note that any non free media lacking such an explanation will be deleted one week after they have been uploaded  as described on criteria for speedy deletion  if you have any questions please ask them at the media copyright questions page  thank you       ',\n",
       "  -1),\n",
       " ('now i will say who are you to judge  i am taking this work very serious and are not sure of your ditto  i will now add a pending case from portugal if you don t mind  and then it would be nice if you stop destroying this subject ',\n",
       "  -1),\n",
       " ('      a footnote would be a good idea   but having it down as   central bavarian   looks strange   how about listing it as   mühlviertelian   and using the upper austrian link   in regards to   ass    the ebu have translated the title as   shake your ass    so if they are fine with it  and it is sourced  then that is how it should be     ',\n",
       "  -1),\n",
       " ('cats                                      ok you guys think cats have no feelings right   well your wrong           people beat cats and abuses them          well how about if you were a cat how would you feel if i beat you                  cats are domestic animals that have four kinds of spit and one of them is healing medicine  ands the 2 one is normal spit  the third is cleaning spit  the 4 is eating or known as normal  these cats are like ancestors of us and you no what there were on this world before us    so cats are like our elders and you need to respect them like there your brother or sister or grandma or grandpa or mom or dad     or anything but please for gods sake care for these cats upon us           cats are like us  if you retards haven t noticed  if you guys want to no my identity its arrowkills00 yah thats my name  well not the kills00  don t ware it out  ok on with cats  if you or anyone else out there abuses cats ill immediately find you and who you are and inform you retard what i just explained  i want to let all you smart people out there that your better than this  hurting animals is like hurting yourself  just know this  if i see or here or watch on tv another abuse of an animal  ohhhho   man   heh heh    i will hunt you down and make sure you die in that prison and ill make sure you and that prison rots then ill take you to another prison and let you and the prison rot    so thank you for listening to this information                                                                                                                                      siamese rule                                      by annalize  a  johnson',\n",
       "  -1),\n",
       " ('     opengl isn t a library  it s a language   the open graphics language  it started out as a set of tokens that could be passed from graphics clients to graphics servers  a token stream  the library that everyone s used to using  conceptually  just generates those tokens in the stream for you  opengl is  certainly  not a specification   the   opengl specification   is a specification  but opengl is a language  or if you re not convinced of that  a  technology    the really irritating thing about this is that it used to be on the sgi web site  but i can t find the page anymore   ',\n",
       "  -1),\n",
       " ('      1  i haven t read the instructions for that box in years  it s not exactly difficult to know that for   born    you put the birth date place etc  2  it s a minor cosmetic change that is meaningless to anyone who doesn t pay very close attention to the infoboxes of musical artists  it doesn t even put him in a category  shouting about it is a bit much          ',\n",
       "  -1),\n",
       " ('           help needed from adoptee        mecu   thank you for adopting me awhile back  i am now active again on wp and have a question for you  i have been working within my area writing a new article and it is coming along  but  as i have been surfing through the various areas my article is within  i have found some things that either a  do not belong in a given category   example http   en wikipedia org wiki stonesetting    this should not be under   jewellers   but instead under either jewellery or something related to the act of making jewelry   or b  something that should be deleted   example  http   en wikipedia org wiki fire_ _ice_ retail      so   my question is   what are the guidelines for someone like me who is not an admin in terms of notifying the appropriate parties for either redirect or speedy deletion     thanks so much again  archiemartin ',\n",
       "  -1),\n",
       " ('     the ideal ratio is zero   that is  zero first party references  at least for things that relate to claims of notability   for academics  it s not always going to happen  but get as close as you can  even if it means greatly reducing the scope and size of the article   basically  barring   gotta have it   things like year of birth and year of death  if it s not important enough that someone else has written about it  then it s not important enough to put in wikipedia   the article on nobel prizewinning immunologist rolf m  zinkernagel is on the short end of acceptable for a nobel prize winner but it would be about the right size for a scientist whose contributions to mankind were somewhat less significant   notice that  while it actually needs more references  the things that need to be referenced in all but the last paragraph are almost certainly written about in independent  secondary sources       e mail   ',\n",
       "  -1),\n",
       " ('   thanx for the note        i too wouold like to see wiki become a useful tool   as a relatively young academic  i see one of my jobs as trying to convince scholars that new technologies aren t just for fringe theories  but for everyone   the truth is  i should be writing articles   but i didn t know how strict the requirements were for  notability    anywho       thanx for the encouragement    bc',\n",
       "  -1),\n",
       " ('  block notice     hi     this account has been indefinitely blocked as a vandalism only account   best wishes ',\n",
       "  -1),\n",
       " ('  to address the points one by one       the palmer quote was originally just   filthy animal poison    this was criticized for being out of context so more context was added and it s now a longer quote  apparently this is not the context that was desired  so what exactly is meant by the criticism that the palmer quote is   out of context         i don t see why the palmer quote is   gratuitous    it provides motivation for chiropractic s early strong opposition to vaccination  we can t expect the casual reader to be familiar with this motivation       i was originally opposed to putting the kansas data in on the grounds that it wasn t published in a refereed journal  but fyslee liked it on the grounds that it is a reliable source  fyslee talked me into it so i put it in  i disagree that the kansas data is   cherry picking    it s the most recent survey we have and its results are not hugely different from other surveys  however  it does appear to be two editors to one right now  so for now i removed it  we can revisit this issue if fyslee chimes in again       while it s true that statistics can be manipulated  these statistics  except for the kansas data  are taken from reliable reviews  not from primary sources  when reliable reviews are reporting numbers  i don t see why the wikipedia article should settle for vaguer statements       as mentioned above the article could use reorganization  but that s a big project  for now many chiropractors do argue against the effectiveness of vaccines  unlike most other skeptics  who focus on safety  so this is the most plausible location for the material now       mentioning other cam professions would be welcome  obviously supported by a reliable source  i suggest the ernst 2001 source mentioned above            ',\n",
       "  -1),\n",
       " ('deleting admin s note  this has been found to be a copyright violation as well ',\n",
       "  -1),\n",
       " (' please do not replace wikipedia pages with blank content  blank pages are harmful to wikipedia because they have a tendency to confuse readers  if it is a duplicate article  please redirect it to an appropriate existing page  if the page has been vandalised  please revert it to the last legitimate version  if you feel that the content of a page is inappropriate  please edit the page and replace it with appropriate content  if you believe there is no hope for the page  please see the deletion policy for how to proceed  thanks for contributing to wikipedia      ',\n",
       "  -1),\n",
       " ('        editing while logged out       wineuro  consider this your only warning for editing while logged out  further socking will result in a block  while policy allows you to do so under certian circumstances  you may not at any time edit while logged out to avoid scrutiny or to further your attempts to edit an article to your preferred version  best     ',\n",
       "  -1),\n",
       " ('     thank you m4rd   thanks for listening to the other side unlike some people who are stubborn and listen with the intent to reply   not understand    btw i m going to make the changes   and revise it   if you agree  ',\n",
       "  -1),\n",
       " ('        recipes for the kitchen that can never have enough cooks   what would go on the meta  pages  metarecipes    needs more salt  idiot  you can t believe anything in this book    or    this recipe should be deleted because no one outside of leidsche rijn vinex near utrecht actually eats this crap    and metacommentary  not like that  use two hands  not so high  you re going to burn it  can t you slice any faster  we re running low on bread crumbs     ',\n",
       "  -1),\n",
       " ('        i ve moved the economist piece down to the report it deals with  the other two discuss the controversy   it appears the economist is only discussing the russel report  i also question   newsweek and the nyt get one sentence with one quote each when they say something  why did you provide three sentences and two quotes to the economist saying something  after ec   that s an opinion piece and should not be weighted equally to editorials ',\n",
       "  -1),\n",
       " ('       not done for now  it is not clear what you are requesting  if you would like an image added to an article  please first have it uploaded  you can request that here  wp ffu after the file you want is uploaded  you can re request the edit here  please form it in a   please change xyz to abc      ',\n",
       "  -1),\n",
       " ('edit to be honest looking through the films now  i m not even sure if leticia ortiz is real  she s always credited as letty and she is shown in the fbi database as letty  ortiz   poeple seem to love making up fan names  they add them to the wikia for the particular subject and then people take that as gospel ',\n",
       "  -1),\n",
       " ('    the pharmacist who made the remedy isn t concerned with whether there are molecules in this level of potency or not  its the    potency    that is relevant and intended  not the molecules  so  the pharmacist did not itend there to be a molecule in there  just as was the case at every other potency        accuracy matter to the readership  the curreent one is inaccurate  why not just remove that part that is inaccurate  to say you judge that i can tell an untruth here because it won t matter to our readers is not what the spirit of wiki is about  your last point is irrelevant        ',\n",
       "  -1),\n",
       " ('it is the only sign with a clearly human  female character  the rest are much more conceptual or animals  this is perhaps not worth mentioning though  aside from the fact that virgo is so strongly associated with the feminine for this reason ',\n",
       "  -1),\n",
       " ('   poorly written article       this article is poorly written  especially in the intro     the intro sentence contains a lot of technical information  capital letters  parentheses  detail about magnitude  etc  but does not mention that 184 people were killed  this is poor writing technique  the intro should use simple language to convey the gist of the article without being too technical  technical information should come later     i am a professional editor and would re write the article myself  but unfortunately i do not have time at the moment  perhaps somebody else could have a crack ',\n",
       "  -1),\n",
       " ('      slut is just a word and like any words  it s the context in which it s used that s important  not the word itself   and the context the article provides isn t pejorative     ',\n",
       "  -1),\n",
       " ('this article should not be deleted under section 7 as it contains material of importance in musical theater and general theater  and material pertinent to current british theater productions ',\n",
       "  -1),\n",
       " ('   7 february 2008  utc          that s ridiculous  google hits are not a particularly interesting metric  and   super duper tuesday   is idiotic and juvenile  no one calls it that except a few news people trying to make their show stand out  as for the others  give me a freaking break  this junk  especially sitting at the top of the article  harms the article  it reduces its sense  it makes it harder for wikipedia users  none of whom are ever going to be looking for   tuesday of destiny    to find actual information in it    21 54 ',\n",
       "  -1),\n",
       " (' if there s a mistake  there s nothing that can be come on wikipedia  according to unesco  there are only two world heritage sites in albania  not four  as far as unesco are concerned  the ohrid lake is in the former yugoslav republic of macedonia  i m sorry  but wikpedia s polices on verification mean that we must go with the unesco source  this means that there is no room for quibbling over state boundaries on the article  however  you may wish to get in touch with unesco who may be able to provide you with an explanation  happy editing ',\n",
       "  -1),\n",
       " ('pro government sana also announced the army took over over the al qarieh al shamiyeh not diplayed in map  in the eastern ghouta ',\n",
       "  -1),\n",
       " ('   to me  it seems to be using weasel words to simply say   critics have accused olbermann of liberal bias   and leave it at that without referencing any particular critics or their specific comments   just a citation to a notable conservative critic or two would be nice  something from the media research center  for example   i ve rewritten one of the sentences to actually provide a quote from olbermann  but the cited article that has been provided for that quote really doesn t say that he s been accused of liberal bias by anyone other than a blogger who has an anti olbermann site   the article simply talks about olbermann s critical commentary on the bush administration   comments articles that actually accuse olbermann of having a liberal bias political agenda should be cited   the complaints that are listed in that section now are not sourced        ',\n",
       "  -1),\n",
       " ('  18 june 2009  utc         it is a fact that the book was published  it is fact that it is not taken seriously  the paragraph only contains facts  and is not a ludicrous fiction  just because a midsummer night s dream is a ludicrous fiction  does not mean that mention of it should be excluded from wikipedia  similarly  although jack the ripper  lighthearted friend is a ludicrous fiction  that does not mean that mention of it should be excluded  it should be mentioned and analysed in an appropriate way    12 29',\n",
       "  -1),\n",
       " ('   german occupation of czechoslovakia       ahoj  as i know  that you are interested in modern history  there is article  german occupation of czechoslovakia  but this article looks not so good and can be improved  can you help me  děkuji',\n",
       "  -1),\n",
       " ('   when people are talking to each other they probably say   suzukake nanchara   or start saying the title then give up part way through because the only people who give a shit about the band are the diehard fans who will listen to whatever they say  and the fact that they once said   you can use  suzukake nanchara  as an abbreviation   does not mean that it has become the common name nor is the other abbreviated form  the form used in reliable sources to refer to the song is the full title  unlike when the pawn     there is no technical restriction to speak of whatsoever in having the full romanisized tile of this song on wikipedia  which is why the article exists at the location it does  suzukake no ki no michi de  kimi no hohoemi o yume ni miru  to itte shimattara bokutachi no kankei wa dō kawatte shimau no ka  bokunari ni nan nichi ka kangaeta ue de no yaya kihazukashii ketsuron no yō na mono works in the software  when the pawn hits the conflicts he thinks like a king what he knows throws the blows when he goes to the fight and he ll win the whole thing  fore he enters the ring there s no body to batter when your mind is your might so when you go solo  you hold your own hand and remember that depth is the greatest of heights and if you know where you stand  then you know where to land and if you fall it won t matter  cuz you ll know that you re right does not  i am tired of arguing this point  there s nothing wrong with the present title of the page becasue it is the title that meets with all of the article titling policies and guidelines  wp concise does not cover this and neither   suzukake nanchara    only referred to as the   official abbreviation       suzukake no ki no michi de   yaya kihazukashii ketsuron no yō na mono    only used when a technical restriction exists on itunes and other music retailers   nor   suzukake no ki no michi de ukim       a technical restriction at the american billboard website which also exists because they do not properly transpose the left corner bracket  meet wp commonname because the only one found in reliable sources is the full title         ',\n",
       "  -1),\n",
       " ('     what is the publication date of the yale source  does it predate the 1963 law  also the  president elect has been edited without citing any source to backup its   strictly       cannot   claim  its original research without citation and should be rolled back accordingly unless this yale cite suffices     ',\n",
       "  -1),\n",
       " ('moving guests to occupied rooms        because the hotel has infinite rooms  we can move any guest occupying any room n to room n 1  then fit the newcomer into room 1     no  we can t  room n 1 is already occupied  as are all rooms by definition  any room in the hotel has  occupied  as descriptor  as per condition of the problem    a hypothetical hotel with a countably infinite number of rooms  all of which are occupied     so  whatever number we call any particular room  be it n 1  n 2  n 3 or any other   it does not change the room s  occupied  status  therefore  we can t move a guest from an occupied room to an occupied room to make room for more guests  ',\n",
       "  -1),\n",
       " ('vulgar is a gradient  the vulgarity changes by locale  by context  and time  generally decreasing over time   while technically vulgar  bollocks is really tame  compared to say cocksucker  motherfucker  cunt  etc  civility is certainly a pillar  but it is generally a goal  not enforced by policy unless lack of civility is becoming disruptive ',\n",
       "  -1),\n",
       " ('       yes scray  i agree with you  the magic word here is   should    we are not living in an ideal world  i wasn t born with an idea about cs  i have tried it a few years ago  prior to it  my opinion was the same as yours  zad s  vsmith s  alexrbn s  doc james s and other editors who didn t try it  i remember vividly that in the past i used to think that all alt med is crap  quack and it was including cs  if at that time i would edit an article about cs  i would act in the same way as the above mentioned editors  that is why i find it easy for myself to understand their motives  none of them spent any time adding information from pubmed positive articles about cs  but they have invested their time in finding sources that discredit cs  due to my observation  almost all people who actually try cs change their opinion about it  that is why i m of opinion  that if the above mentioned editors will try it  they are highly likely get a shift in their worldview regarding it  they will find it difficult to write   has no effect for any condition    if they observed an actual effect on one of their conditions     ',\n",
       "  -1),\n",
       " ('racist  witch  i m not your new christian witch ', -1),\n",
       " ('   that german canadian thing       a series of edits like this one remove a few words from the first sentence of this article  the editor s  haven t brought it here to discuss  nor have they responded to messages on their talk pages  they don t use edit summaries  if they would share their rationale for the changes then we might make some progress but if they just keep removing it without explanation one starts to worry what is going on  i m tending to restore the deleted text at the moment  but i wish that the editor s  concerned would discuss it  or use the edit summary  or something  the encyclopaedia is supposed to work by collaboration  not just by editing as a soloist  thanks and best wishes',\n",
       "  -1),\n",
       " ('   neutrality disputed      i added  to several statements that clearly lack neutrality  one way to help improve this article would be to provide neutral sources for the claims  see wp npov   as discussed above  that a reliable secondary source quotes a primary non neutral claim does not create neutrality of the underlying claim  but only that the non neutral claim was actually made   e g  advertising fluff in an interview or quoted from a press release     ',\n",
       "  -1),\n",
       " ('        copyright problem removed       prior content in this article duplicated one or more previously published sources  the material was copied from  http   landi it layout jsp idz 10073 idtp  151  3  copied or closely paraphrased material has been rewritten or removed and must not be restored  unless it is duly released under a compatible license   for more information  please see   using copyrighted works from others   if you are not the copyright holder of this material  or   donating copyrighted materials   if you are   for legal reasons  we cannot accept copyrighted text or images borrowed from other web sites or published material  such additions will be deleted  contributors may use copyrighted publications as a source of information  and according to fair use may copy sentences and phrases  provided they are included in quotation marks and referenced properly  the material may also be rewritten  but only if it does not infringe on the copyright of the original or plagiarize from that source  therefore such paraphrased portions must provide their source  please see our guideline on non free text for how to properly implement limited quotations of copyrighted text  wikipedia takes copyright violations very seriously  and persistent violators will be blocked from editing  while we appreciate contributions  we must require all contributors to understand and comply with these policies  thank you      ',\n",
       "  -1),\n",
       " ('          please change x   is not acceptable and will be rejected  the request must be of the form   please change x to y       ',\n",
       "  -1),\n",
       " ('   popcultureshock counts as mostly reliable  as best i can tell  they re a step up from being just a group blog  about the same as t h e m  anime reviews  good job on the kanji titles  now all we need is somone to transcribe to romanji  though that s not essential at first   and  as you say  english translations to come out   ',\n",
       "  -1),\n",
       " (' i have redone this article to actually state clearly that this is a diagnosis in alternative medicine  as the sections on diagnosis  treatment and actual signs and symptoms were not verifiable due to a lack of reliable sources i turn to other editors to supply these sources  the 153 references above are not themselves proof of how this condition should be diagnosed and treated     ',\n",
       "  -1),\n",
       " ('   miss dynamite      it has been years since you have no common sense with miss dynamite  like i say  miss dynamite is well known webcomic that does not fit with infamous singer so you need to restore this article to miss dynamite or remove this article otherwise it makes you look like a dolt  busy  i think you are full of crap  i am not supporting dolty wikipedians like you and founder  not response backing and igroning are not mature that means lack of mature but more like childish with a kid brain  no respect for wikipedians ',\n",
       "  -1),\n",
       " ('      thank you  sir   that was what i expected  but short of running it through a screen reader myself  i could not know with any certainty   out of curiosity  what screen reader software do you use   is it widely used commercial software           having provided a factual answer to my key question  would you care to opine on whether the structure of these section headers presents any real issues under wp access ',\n",
       "  -1),\n",
       " ('  deletion     i have no idea if jean grimaldi is notable without a proper search  but there is enough context  a person with exact birth dates and distinctive career is sufficiently identified   i      ',\n",
       "  -1),\n",
       " (' i am not comprehending what you said  but the reason it is being deleted is because it is an infobox and it has no article characteristics to it  it is obviously not notable because the artist doesn t even have an article     there are the reasons for speedy deletion ',\n",
       "  -1),\n",
       " ('  you did nothing wrong   i thought your proposed sanctions were a very reasonable thing to do  and i supported them  but the guy kept on and on  and the more he did  the ranker the air became   assuming that floquenbeam got it right  which i think he did   it s amazing how often trolls dig their own graves just by not shutting up  but i suppose the attention is part of the psychology ',\n",
       "  -1),\n",
       " ('  i m not trying to change your mind  vigorously or otherwise  and am unsure why you would think that i am i m not strongly advocating for either position at this stage  but i am concerned when other users are so sure of their own correctness that they can t even acknowledge that contrary views might be reasonably held by other users  that s a big challenge when we are seeking to build content through consensus ',\n",
       "  -1),\n",
       " ('     the   bull   in   bullshit   is unrelated the   bull   meaning   a ludicrous jest    it is  as suggested  a portmanteau of   bull    n 1 in the oed    the male of any bovine animal    and   shit       according to the oed  the   ludicrous jest   version  n 4  is is not derived from papal bull       no foundation appears for the guess that the word originated in  a contemptuous allusion to papal edicts   nor for the assertion of the  british apollo   no  22  1708  that  it became a proverb from the repeated blunders of one obadiah bull  a lawyer of london  who liv d in the reign of k  henry the seventh        i m sorry  but i don t know how to cite the oed  as i have the electronic version            oh wait  i take that back  this is how they have in the oed      f  bull n 1   shit n       1 1 rubbish  nonsense    bull n 4 3     first they have it in the n 1 sense  then in the n 4 sense just below  so i m not sure         ',\n",
       "  -1),\n",
       " ('     on sunday  march 11  the washington post published profiles written by scott wilson of two israeli professors  ilan pappe and benny morris  the profile of pappe    a shared history  a different conclusion    did not provide key context about why he is so reviled in israel     ilan pappe  a history lecturer at the university of haifa  freely admits that  in his view  facts are irrelevant when it comes to the history of the palestinian israeli conflict    indeed the struggle is about ideology  not about facts  who knows what facts are  we try to convince as many people as we can that our interpretation of the facts is the correct one  and we do it because of ideological reasons  not because we are truthseekers    pappe said in an interview with the french newspaper le soir  nov  29  1999     elsewhere  pappe elaborated on his attitude toward historical investigation and academic objectivity    historical narratives       when written by historians involved deeply in the subject matter they write about  such as in the case of israeli historians who write about the palestine conflict  is motivated also   by a wish to make a point    history news network  april 5  2004   a more complete collection of pappe s statements repudiating the value of historical facts is available here     in light of pappe s openness about his contemptuous view of scholarship  and his rejection of historical facts in favor of ideology  it is negligent that scott wilson s profile of him omits this key context  the piece portrayed the haifa historian as a   revisionist scholar   who languishes in   nearly complete isolation   in israel supposedly due to his alleged myth busting research and political views  in which he opposes the existence of a jewish state  even within its 1948 boundaries  for example  wilson quotes without challenge pappe s absurd allegation that   my research debunked all of the lessons about israel s creation that i had been raised on       ',\n",
       "  -1),\n",
       " ('   ejamison111  i read your response  what is the purpose of having an an external link section        the hoa hao are evil  i survived and am on a mission to expose the truth about these evil xenophobes  i ll take legal action on this is i have too after i exhaust wikipedia protocol  your better off helping me find a resolution because i m not going away',\n",
       "  -1),\n",
       " ('stop changing the e article     it is true that e is not transcendental so why don t u go fuck yourself and leave my paragraph alone ',\n",
       "  1),\n",
       " ('  haha  your desysop is in the mail  yes  and i ll tell you why  no reliable sources given for what is as yet crystal ballery  and in addition  i m a bit concerned with blp  since this is about a seven year old boy  hey  do what you think is right  if i thought it were some blatant violation i would have nixed it already  but as yet this is a judgment call  in my judgment  groeten  and thanks for your note ',\n",
       "  -1),\n",
       " ('  death of palpatine      am i missing something  or does it say nothing about how palpatine died ',\n",
       "  -1),\n",
       " ('       speedy deletion of black duck valley      a tag has been placed on black duck valley  requesting that it be speedily deleted from wikipedia  this has been done under section g4 of the criteria for speedy deletion  because the article appears to be a repost of material that was previously deleted following a deletion debate  such as at articles for deletion  under the specified criteria  where an article has substantially identical content to that of an article deleted after debate  and any changes in the content do not address the reasons for which the material was previously deleted  it may be deleted at any time      if you think that this notice was placed here in error  you may contest the deletion by adding  to the top of the page  just below the existing speedy deletion or   db   tag   coupled with adding a note on the talk page explaining your position  but be aware that once tagged for speedy deletion  if the article meets the criterion it may be deleted without delay  please do not remove the speedy deletion tag yourself  but don t hesitate to add information to the article that would would render it more in conformance with wikipedia s policies and guidelines  lastly  please note that if the article does get deleted  you can contact one of these admins to request that a copy be emailed to you          ',\n",
       "  -1),\n",
       " ('     unfortunately  i don t think there is any similar framework for c  at least not that i m aware of  but it s really not that much work since the mediawiki query interface makes things fairly simple to manipulate and query ',\n",
       "  -1),\n",
       " ('      say it with me xeeron  general is not specific  and thus the names will be different     hmmmm  all glory to the hypnotoad   sorry  if you want a serious response from me  be serious yourself         ',\n",
       "  -1),\n",
       " ('      as for me  i d vote neutral if there was an easier way to deadmin abusive sysops  but de admnning somebody is tedious business  stevertigo case for instance  so i feel we have to be very careful in promoting people with prior issues  i realise that  regrettably that i would be voting against a lot of qualified people  but given the damage a rogue admin can do to wp i have to adopt this   better safe than sorry   attitude  the black book seals the oppose for me  i ve no idea why people create pages like that  i was in another editor s   black book   once    and it almost feels like a personal attack    ',\n",
       "  -1),\n",
       " ('        nepicxo and eks         one specific objection to the  iĉo proposal is that  nepiĉo   grandson   is homonymous with ne piĉo   not musical pitch    which in esperanto slang can mean   not a cunt      i dont understand the relevance of the bolded section  this article is talking about an objection to  iĉo  the objection exists because  nepiĉo  resembles vulgar language  not for sounding the same as  musical pitch   i think the bolded section should be which in esperanto slang means     now about eks      eks  is also jokingly used in this sense  eksvirkato   castrated cat    lit    ex man cat    vs   katuko     wennergren  bertilo    pmeg   uk    12 12 08         i don t understand why it says   jokingly used    according to the pmeg this is an actual function of the root  eks    and it shows no indication of the usage being anything but accepted and serious     ',\n",
       "  -1),\n",
       " ('no  i had not seen it  i am such a newbie i did not even really know there was a viewing history  seems a pretty good set of hits to me for a highly technical article  i am an only child and so is my wife  and we have very few cousins  so only a few of the views are family members  some of view are friends in usa and ch to whom i bragged by email about having written for wikipedia  i have not emailed to many professional colleagues yet but will  should produce some more hits ',\n",
       "  -1),\n",
       " ('    a tag has been placed on dean delmo  tecnologia da comunicação   tc   requesting that it be speedily deleted from wikipedia  this has been done under the criteria for speedy deletion  because it is a very short article providing little or no context to the reader  please see wikipedia stub for our minimum information standards for short articles  if you plan to add more material to the article  i advise you to do so immediately  also please note that articles must be on notable subjects and should provide references to reliable sources which verify their content  please do not remove the speedy deletion tag yourself  to contest the tagging and request that administrators wait a while for you to add contextual material  please affix the template  to the page and state your intention on the article s talk page  feel free to leave a note on my talk page if you have any questions about this     also  if you are dean delmo  the subject of the article   please review the guidelines for conflicts of interest  it is advisable to not create or edit articles about yourself    ',\n",
       "  -1),\n",
       " ('i know she was doing some porn lesbian stuff and i think everybody knows  but i consider it shouldn t appear on her wiki page cause it is not approppriate  ',\n",
       "  -1),\n",
       " ('  well look  you don t have to preach to me about any of this    to be quite honest i m actually on the fence with many of these changes  and there some i just flat out oppose   but that doesn t mean that this arguement shouldn t get a fair  impartial reckoning   it is clear that there are many predatory  greedy trial lawyers in the world   it s  equally clear that there are many predatory  greedy corporations in the world   and caught in the middle are industrial workers  white collar workers  doctors  patients and about a million lobbies on either side that deal their cards from the sleeve        and the debate is not worthless  because we do live in a democracy   our laws aren t static  and are constantly up for reevaluation   as you know  many of these kinds of changes have already been passed at the state level  which means that there are large groups of people who agree with their content   my brother is both a democrat and an emergency md  and recently had cause to rethink some of his positions on this when he saw his hospital being destaffed of specialists due to several colleagues being unable to pay their premiums   it is a complex  multifaceted debate  and there are legitimate players on each side of it who want the same thing    better laws and better justice   my  0 02',\n",
       "  -1),\n",
       " ('80 million turkish speakers outside of turkey sounds like a pretty extreme guess and merely 55 million in turkey itself sounds way too low  first off  how many monolingual speakers speak a language other than turkish  not all that many  one would imagine  i know for a fact that i ve met many kurds in sweden that barely speak kurdish  but speak turkish fluently  and i was under the impression that the figure of turks in germany was closer to 1 million  which is still a lot   i say we should bring the estimates down to very conservative figures unless someone provides reliable source  to me the total 100  million figure sounds very high     ',\n",
       "  -1),\n",
       " ('        intellexual review       this website has been debated time and time again  it has been removed after much debate spanning over 2 years  there have been many reasons stated for and against this web sites inclusion  but the reasons for its removal was best summed up with  comments    the intellexual net review is unsigned and is published on what appears to be an unknown individual s personal web site  its subject was a technologically unremarkable product which is long defunct and whose performance may bear little relation to that of its successors  and it discusses the product in a gleefully negative framework that is anything but neutral and unbiased and is thus of dubious value as an encyclopedic link      besides  if that stale and biased review is the most credible link that we skeptics can come up with  i d say that s pretty sad      so please don t link this site its pov it lacks verifiability and is tested on a particular product not made by bose since the late 90 s         yes  but you don t write the rules  there is no wiki rule that says that objective measurements have to be signed  or calibrated  so the comments about the frequency remain  if you can find objective measurements of a bose system that are more to your liking  please post them  personally i thought my summary of that page was uncontroversial         you don t write the rules    ok please try to keep this civil    please  i have only been following them and it is very clear this this is a highly biased page and rather questionable  if you check you would see that it does not meet the standards of verifiability       third party published sources with a reputation for fact checking and accuracy        questionable sources are those with a poor reputation for fact checking or with no editorial oversight  questionable sources should only be used in articles about themselves   see below   articles about such sources should not repeat any contentious claims the source has made about third parties  unless those claims have also been published by reliable sources       anyone can create a website or pay to have a book published  then claim to be an expert in a certain field  for that reason  self published books  personal websites  and blogs are largely not acceptable as sources       self published material may  in some circumstances  be acceptable when produced by an established expert on the topic of the article whose work in the relevant field has previously been published by reliable third party publications  however  caution should be exercised when using such sources  if the information in question is really worth reporting  someone else is likely to have done so       if no reliable  third party sources can be found for an article topic  wikipedia should not have an article on it      this web page fails everything  it has no reputation for fact checking  these claims have not been cited from other reliable 3rd party sources  this person is not an expert or has he been credited as being an expert in the audio field  and has no notable published works aside from this single page      nor does it pass reliability       reliable sources are authors or publications regarded as trustworthy or authoritative in relation to the subject at hand      reliable publications are those with an established structure for fact checking and editorial oversight       in general  an article should use the most reliable and appropriate published sources to cover all majority and significant minority published views  in line with wikipedia neutral point of view       in general  the most reliable sources are peer reviewed journals and books published in university presses  university level textbooks  magazines  journals  and books published by respected publishing houses  and mainstream newspapers  as a rule of thumb  the greater the degree of scrutiny involved in checking facts  analyzing legal issues  and scrutinizing the evidence and arguments of a particular work  the more reliable it is       anyone can create a website or pay to have a book published  then claim to be an expert in a certain field  for that reason  self published books  personal websites  and blogs are largely not acceptable as sources        organizations and individuals that are widely acknowledged as extremist  whether of a political  religious or anti religious  racist  or other nat',\n",
       "  -1),\n",
       " ('  requested move 08 january 2014           gwr 2 6 2t      page covers only this one class of gwr 2 6 2t  not all of them           survey       feel free to state your position on the renaming proposal by beginning a new line in this section with     support    or     oppose     then sign your comment with       since polling is not a substitute for discussion  please explain your reasons  taking into account wikipedia s policy on article titles             discussion       any additional comments ',\n",
       "  -1),\n",
       " ('     review is now complete        lead section      which left him with two broken vertebrae in his back    link vertebrae     practice and qualifying    add an image of dario franchitti  noting that he took pole position     race    can you add an image of the crash which occured on the first lap       minutes before the race start  reports of rain falling on the track caused the start to be delayed  by around ten minutes    mind if you move the source to the end of this sentence       and much of the field pitting to change from dry weather tyres to wet weather ones    change pitting to pitted       briscoe s luck would run out   rewrite to briscoe s luck would run out however      classification    add an image of race winner will power to this section     references    refs 1  4 and 30 give a 404 error for me     overall  i am happy to promote this article to ga status once these issues are addressed     ',\n",
       "  -1),\n",
       " ('   about the recent changes       i am not sure what you mean by adding citation  i just added divorce details which was already mentioned out there in her page  and its a news found every where on net ',\n",
       "  -1),\n",
       " ('        hidden tasks       not all tasks are listed  extra steps are required to view the   hidden   tasks       you can view hidden tasks that are run by programs if you log on to the computer by using administrator credentials  to view hidden tasks  follow these steps    click start  click run  type control schedtasks in the open box  and then click ok    on the advanced menu  click view hidden tasks    http   support microsoft com kb 883605      by default  hidden tasks are not shown in the task scheduler user interface  you can view hidden tasks when show hidden tasks is selected in the view menu  you make a task hidden when you click the hidden check box on the general tab of the task properties or create task dialog box      http   technet microsoft com en us library cc749579 28v ws 10 29 aspx       ',\n",
       "  -1),\n",
       " ('    hello  65 36 86 233  and welcome to wikipedia  while efforts to improve wikipedia are always welcome  unfortunately your contributions are not written in english that is good enough to be useful  you appear to be more familiar with chinese  did you know there is a chinese wikipedia  you may prefer to contribute there instead  in any case  welcome to the project  and thank you for your efforts      您好 65 36 86 233 歡迎來訪英文版的維基百科 雖然我們隨時歡迎你在英文版維基百科編輯 但是你這次執筆所使用的英文並未達到英文版維基百科所需求的水準 若是你們不介意的話 你們可以在中文版維基百科編輯 感謝你們參加維基百科      ',\n",
       "  -1),\n",
       " ('      this page is not about   scottish arms    it is about uk arms  i oppose a merger with the royal arms of scotland page  which is about a different topic    some random german site   should perhaps have been left off your list of authoritative sources   ',\n",
       "  -1),\n",
       " ('      please note that it says   16th note triplets    not   16th notes    16th note triplets at 180 bpm means 18 notes per second   while 16th notes at 220 bpm is   only    about 14 67 notes per second    ',\n",
       "  -1),\n",
       " ('  enough with the meaningless word games already  its really a stupid way to prove any point  we are talking about a person who was de facto not a king of croatia  and was de jure a pretender to a throne held by peter ii of yugoslavia  i m getting seriously tired of repeating myself  to keep it simple  please answer me this  how can both peter ii and the duke of spoleto occupy the same throne at the same time  without one being identified as a pretender            ',\n",
       "  -1),\n",
       " ('     i am reverting the page because you do not provide sufficient justification for your very questionable changes  which are obviously not neutral pov  e g   you changed   annexation   to   liberation      russified   to   delatvianized    etc    that terrible things happened all over the ussr is no reason to remove specific information on how the region was ethnically cleansed and its original inhabitants  of whatever ethnicity  in large part replaced by others    ',\n",
       "  -1),\n",
       " (' not even every sexual person fantasizes while masturbating  most males do  but many females do not   i think most libidinous asexuals masturbate for the same reason they would scratch themselves if they were itchy ',\n",
       "  1),\n",
       " ('   raster conversion to svg       hello     thanks for converting the oftc college logo to svg  if you re still in the raster convertin  mood  as it were   i have also been uploading images for other technical colleges in georgia as a personal project to create useful wiki pages for them  all of the logos on the following pages fall into that category     albany technical college    altamaha technical college    atlanta technical college    middle georgia technical college    central georgia technical college    wiregrass georgia technical college    just wanted to mention it    no worries if you re not interested   thanks   ',\n",
       "  -1),\n",
       " ('        bernardi prod tag       just a quick heads up not to remove the prod tag from the andrew bernardi article until the article has references  i see that you have added some names of people or organizations to the references section  but by references we actually mean independent sources  books  news articles and similar sources written about bernardi but not written by him or anyone closely associated with him   at wp refb and wp rs  you can find some good information on listing references  thanks     ',\n",
       "  -1),\n",
       " ('           in use       hi obi  i m in the middle of editing at the ar article  can you say what the tag is for        i m trying to complete the merge from the history article  it looked like you had stopped editing    i should be done in a hour or so       it will confuse the merge if additional edits come in  thanks        no  i haven t stopped yet  but which merge do you mean  we can t merge the histories  so i m unsure what merge means here          not merge histories  but merge changes  i m trying to merge the changes from the history article  using a 3 way merge   because edits improvements were made since the branch in 2008  if you could just hold off it would help a great deal   i can t do the merge while someone else is editing  cheers       i m right in the middle of fixing the refs  can it wait until tomorrow  also  i don t know what you mean by merging the changes  do you mean you want to add some text to the history section from the former history article  if so  i m going to rewrite and re source that entire section  the ancient world section   because the sources aren t the best available  or have i misunderstood            yes  actually it would be easier to do now  before you make more changes  i m trying to capture the differences from the history section  since it was written  since both versions evolved separately  it seems to stem from 2008  when it was moved to a new article  shortly thereafter  you copied the content back  but the split article remained  so the two versions evolved separated  a 3 way merge allows you to captures both sets of changes  see 3 way_merge three way_merge for details  but making more changes  especially re writes  will just confuse the merge process further             i wrote the text that was moved to the history article  the additions since then were poorly sourced  e g  to websites  and i can see factual errors  so they shouldn t be copied over  this is an academic subject  and it has to be based on largely  if not entirely  academic sources  there are plenty available  so there s no reason not to use them  my aim is to update the article to make sure the writing is improved  the sources are the best available  and that the text and the sources agree  also  there are a few issues that we don t cover at all  or barely allude to  so i d like to add those too  i can t do it overnight  though  because it s a protracted job          vn style guide        you mention a vn style guide  that sometimes allows diacritics  if that s the case it would probably apply to all 6x of the restore vietnamese rms currently in  where is this guide  thanks        here  wikipedia naming conventions  vietnamese   however the guide itself is full of contradictions  it says categories should use diacritics  then it says they shouldn t  but it does allow for the diacritics  if there isn t an established english language common use  another start would be modifying cleaning up that guide         ah that  it seems to mainly be an essay               fyi       no action needed on your part  i just thought you might like to know about the latest development in the nenpog soap opera       wikipedia arbitration requests case nenpog vs  guy macon  doc james  and yobol     previous an i discussion  wikipedia administrators _noticeboard incidentarchive759 user nenpog    previous discussion on jimbo s talk page      previous topic bans  diff1gdiff2diff3   user guy macon guy macon ',\n",
       "  -1),\n",
       " ('it just mentions the links to be avoided  not removed  the guidelines state that dead links must never be removed  for the reasons i have mentioned above  even though ganglandnews com is pay per view  it is still of use as a convenient link to citations ',\n",
       "  -1),\n",
       " ('           totally wrong        i have deleted totally the following and i will explain why here       i in the british patterned universities  the ph d  program is much shorter because the coursework component is assigned to the masters  and bachelors  degrees  and the ph d  course is concerned purely with research for a thesis  the target time is nominally three years  but some students finish earlier  and many take a few years longer  the actual time depends strongly on the discipline being studied   i      b this is rubbish for the reasons already discussed   while the funding councils are moving towards a model where they want applications to apply for masters  funding and ph d  funding at the same time  there is no   assignment   of coursework to the masters    it s not actually a requirement to do a masters  before a ph d   b      i british style bachelors  degrees do not usually require a broad liberal arts and sciences general education component and students are therefore free to concentrate solely on their chosen discipline  the bachelors  degree  if conferred with a high level of  honours   i e  excellent grades   can allow admission to a ph d  program without having to first write a masters  thesis  this route is only possible if the university offers an  honours year  in the field of study  though this is becoming increasingly common due to the greater funding that universities receive for enrolling doctoral students   i     this is complete rubbish from start to finish  i have never heard of a british university having a   honours year     virtually every degree awarded now in the uk has honours attached to it  in theory you can just walk after completing all of your modules and just get  for example  a ba but in practice everyone does their final assignment project disseration and gets their honours  the   honours   bit is no indication of excellent grades   you can get a 2 2 and still graduate with a ba hons        ',\n",
       "  -1),\n",
       " ('        about recusal  justice not only needs to be  it must also appear to be done        homey  regardless of the fact that you may have had good reasons  it is very bad form for an admin to block anyone when they are having a dispute with  when they  the admin  is involved in writing the article  besides i have never heard of a   3 minute block    is that meant to frighten and intimidate   the correct thing would be to call on a one or two neutral admins  not involved with this article  and ask them for their input  if they feel that someone is overstepping the rules then they should give a warning to the person they feel is wrong and then if he disregards that warning take the needed action  by all means  as long as they can justify themselves  but you should not have acted as both advocate and editor of the article as well as the executioner admin and final arbiter  justice not only needs to be  it must also appear to be done  and in this case it clearly was not  izak',\n",
       "  -1),\n",
       " ('i can t get the stupid  template to work  it seems that if it is possible to do so it s certainly not worth the effort   so i m just reverting it  hopefully it won t be back to  repair  my change ',\n",
       "  -1),\n",
       " ('     i just tried it  and while the coordinates are not particularly accurate  being only to the nearest minute  they are in the approximate area of mt eden in auckland  i see no vandalism to the article  so unless there s a second set of coordinates in the article i m not seeing  i don t know how you got the result in the antarctic  are the coordinates you see in the article 36 52 s 174 45 e  and if it still is showing the wrong result  can you explain exactly what you do    ',\n",
       "  -1),\n",
       " ('        begging your pardon for all this          i have a complicated question  it is to me  at least      so a froofraw has occurred at an where  nominated dozens of nonfree images to be deleted for not complying with nfcc policy  i got into it because he tagged three images in articles i wrote   these are the images  1  2  and 3  i feel rather certain that i fully justified the inclusion of these images based on my experience writing fas and gas  in fact  the third image there was included in a 2009 featured contact dispatch about how to write a fair use rationale  but now i get from the disjointed discussion that the issue of   transformative use   is undecided and without consensus  according to those pushing for transformative use  a historical image has to be involved in the article  which qualifies for the historical images in birmingham campaign  which i wrote      i apologize because this is now so spread out i can t keep track of it anymore  there is the an discussion here  an rfc about the issue of transformative use  which i can t even track it s so all over the place  and the discussions about each of the images that were tagged for deletion  start there and scroll down        i m asking you if you can shed any light on this  specifically what i need to do to keep the images in the articles  because you have in the past treated intelligent editors looking to do the right thing with respect  i m not seeing this in the other discussions  not that i m surprised      it s my contention that when other editors insist on bulky justification of images in article prose that does not reflect the weight of what sources say about the images  that that is a violation of wp undue and is a form of original research  i thinkand i m not clear about what is being asked or demanded of methat a couple other editors are insisting that i make a section in the article about the image in order to keep it in the article  if  for example  three sources state that the image of emmett till s uncle is significant and they devote half a page in each book to how significant it is  but in the overall scheme of emmett till s story that is decreased to three sentences  would it not be or to inflate how much prose is dedicated to the image        why is the issue of what qualifies as fair use in images left up to consensus  why haven t copyright attorneys taken this over  it seems if wikipedia is doing something illegal or extralegal that there should be no questions about what qualifies as nfcc  i think part of why i m so confused is that the editors insisting that the images be deleted are unsure of the legal literature themselves and have replaced clarity with force  pseudo authority  and confusing language  not that i m surprised     i learned how to justify images by being schooled by   who is semi retired  he did pop into the ffd discussion for the stonewall riots image to say that the   transformative use   interpretation of the nfcc rule is   a profound misunderstanding and misapplication of nfcc and sourcing policies    i m not a copyright attorney  i can t parse all this  i just don t want the articles  qualities decreased because someone went on a deletion tear when none of the rules are clear     ',\n",
       "  -1),\n",
       " ('is there any reason not to merge this with the main article on annika sörenstam  from which it was apparently broken out when the colonial thing was still fresh news   ',\n",
       "  -1),\n",
       " ('       dyk for jeffrey skitch         class   messagebox standard talk               on april 17  2010  did you know  was updated with a fact from the article jeffrey skitch  which you created or substantially expanded  you are welcome to check how many hits the article got while on the front page    quick check   and add it to dykstats if it got over 5 000  if you know of another interesting fact from a recently created article  then please suggest it on the did you know  talk page           ',\n",
       "  -1),\n",
       " (' under   early childhood   it states    his birth was registered with both the u s  authorities and the city s british consulate  with the child thus being awarded both american and british citizenship    in fact registration of a birth has nothing to do with attribution of u s  nationality  or for that matter  british nationality  given the facts of parentage and the birth of a parent in britain   a certification of birth is an entitlement  under the un convention on the rights of the child  and under new york and federal law  but many births in the past were never registered  and some  typically signed by midwives in border states  have been questioned  typically by the state department upon application for a passport or  prior to current passport rules  on re entry from mexico  as fraudulent     it is questioned  above in this talk section  whether johnson actually renounced his us nationality when he said he had  or would do  and it is also stated that renunciation is contingent upon payment of tax  johnson did not  it is not quickly done  there is a long waiting list with the consular sections in london  edinburgh and belfast  but i suppose he will do  the tax issue is more complex  there is an exit tax  quite onerous for   covered expatriates    generally speaking those with assets over  2 million or an tax bill of  155 000  as of 2013   there are also other tax implications relating to gifts and estates  there is a concession for persons born to alien parents who renounce by age 18 1 2  https   www law cornell edu uscode text 26 877     it is quite possible to be a non citizen  even to have been deported as an illegal alien  and still be liable for u s  tax  perhaps indefinitely  indeed long term green card holders are also subject to the exit tax system          ',\n",
       "  -1),\n",
       " (' exactly  its not my understanding ', -1),\n",
       " ('      hrm  cheers  i typically advise my adoptees against simulating mediawiki interfaces  or if they must  not making the message exactly the same as it would be in a   real   new messages situation      ',\n",
       "  -1),\n",
       " ('        i don t actually see a difference in the spacing in the footers at those links from may 17 and may 18  2005  both say   copyright   1999   2005 go daddy software  inc    and at the top of the page  both show the logo with a space and include the string   the go daddy girl    and within the page they both say   godaddy salutes our soldiers    but i m not objecting to moving the page      ',\n",
       "  -1),\n",
       " ('    you are welcome to propose those articles for deletion if you believe they do not meet our criteria ',\n",
       "  -1),\n",
       " ('     yet there are equally reliable sources that say the christ myth theory is something more than simply jesus never existed as evidenced by grant and walsh as just two examples   as for what i mean by    jesus existed but the gospel jesus is a myth fiction  idea   that is simply my rephrasing of the category remsburg and boyd eddy gave us nearly 100 years apart         remsburg  1909     many radical freethinkers believe that christ is a myth  of which jesus of nazareth is the basis  but that these narratives are so legendary and contradictory as to be almost if not wholly  unworthy of credit          boyd eddy  2007   we have enough to show there was a jesus but   the reports we have of him are so unreliable and saturated with legend and   myth   that we can ascertain very little historical information about him          again what separates   the reports we have of him are so unreliable and saturated with legend and   myth   that we can ascertain very little historical information about him   and   narratives are so legendary and contradictory as to be almost if not wholly  unworthy of credit   from there is nothing to show the gospel jesus  the version we base all our searches on  ever existed   that is the elephant in the room regarding the whole christ myth theory and the most poorly explained aspect        ',\n",
       "  -1),\n",
       " ('        answering your question and giving my point of view opinion        you wrote      cause it comes from the medieval manuscript  who could be offensed by that          hectorian  i believe that because that the words   educated persian     in quotes implies that the writer was being sarcastic    that he she    does not believe that the persian was an educated person     if the manuscript does indeed indicated that the persian was   educated  then fine  but the quotes need to go  i believe that   that this is a necessary change to keep this article objective     if you disagree with my opinion  think of it from this angle    i read this and immediately deem it to be bias  i would think it    impossible to believe that i m the only one to believe this  even   though it may in fact not be bias  however  being that some   may agree or disagree with either or us is grounds in itself to   remove the quotes in order to avoid any appearance of bias    it s the safe road to travel     sincerely and respectfully  sideshow todd ',\n",
       "  -1),\n",
       " ('   vfd cool       sorry if i seem too forward in telling an admin about procedure  but it s generally considered bad form  as per vfd notice  to redirect an article while it s on vfd   confuses the issue too much   i have reverted to the stub   just thought i d let you knopw   thanks ',\n",
       "  -1),\n",
       " (' also  the other two quotes should be removed as they are not referenced ',\n",
       "  -1),\n",
       " ('  december 2012  utc       since apparently you think my editing is   continual incremental thrashing of pov bullshit in the encyclopedia    i will not give you the benefit of   agf          you accusations is striking though  as i have not edited so frequently in wikipedia as you had  nor for so long  and this is my first dispute  which is more it seems than you can say       i m curious why you think that this   area   is the only one that interests me  admittedly it is an area of interest  and it was only when i was wronged in a conversation  and informed that wikipedia does not list   jews   as indigenous that i was forced to wade through the   incremental thrashing of pov bullshit   in the talk pages before editing  i m sorry you feel slighted  but facts are facts  most   jews   that care anything about their cultural practices know if they are kohen  levi or yisrael    14 49  3 ',\n",
       "  -1),\n",
       " ('        that s not what she just wrote on the karl rove page  there she wrote    it s not a personal attack   it s describing your bad behavior  which continues  that is not a personal attack  and i am finished feeding the troll',\n",
       "  -1),\n",
       " ('   fa example       from what i can see here  they switched out one of your fas for another  i smell a conspiracy  hmm hmm hmm    p                ',\n",
       "  -1),\n",
       " ('lytton 2nd earl of lytton   included in this list   according to his bio he served briefly  1925  as viceroy  and the articles on the earl of reading and lord irwin list him as successor and predecessor  respectively         file malik ghulam muhammad jpg nominated for deletion                       an image used in this article  file malik ghulam muhammad jpg  has been nominated for deletion at wikimedia commons in the following category  media without a source as of 3 november 2011     what should i do    don t panic  a discussion will now take place over on commons about whether to remove the file  this gives you an opportunity to contest the deletion  although please review commons guidelines before doing so      if the image is non free then you may need to upload it to wikipedia  commons does not allow fair use      if the image isn t freely licensed and there is no fair use rationale then it cannot be uploaded or used     this notification is provided by a bot        ',\n",
       "  -1),\n",
       " ('         i have not   formally   protested  contested   this particular topic ban  as i think others can do that better   what i raised was a disturbing implication  which is nothing less than   censorship   now it should be noted that i do allow for some restrictions     censorship     in regards of pornography  copyright violations  etc   these are definite  previously identified subjects  however blurry they may be around the edges   which can be cast as particular exceptions to general   free speech     and it should also be noted  as i stated on the noticeboard  that i am not coming from any notion of individual rights or such  my concern is whether wikipedia is self limiting in respect of what can be discussed   this especially concerns me when discussion  or editors  is restricted on the claim of   maintaining order     which is precisely what you have claimed  above  and previously    and just what totalitarian regimes claim        your initial statement that was certain discussions could not be held on the talk pages  were   best held elsewhere     which turns out to be nowhere on wikipedia   and now you explicitly deny participation to   blocked editors   i thought we were discussing topic banned editors  but perhaps this is immaterial  seeing that wmc was blocked for saying nothing   at any rate  what i see is an editor being banned blocked for some very petty  arbitrary reasons   this has all the earmarks of invidious censorship  and i have yet to see what is misunderstood       ',\n",
       "  -1),\n",
       " ('               i do not own this article  and if you think that my objection to any change is unjustified you should use dispute resolution ',\n",
       "  -1),\n",
       " ('adam gontier    its not adam gointer   you ass wipe', 1),\n",
       " ('          spanish influence on philipino culture and martial arts  it is undeniable that eskrima is influenced by   esgrima spanish fencing more than is acknowledged  the spanish empire was experienced in conquering and by this time period spanish military as other european powers used guns  the spanish  around this time were considered were held in high reguards in sword arts and were known for their espada y daga school  sword and dagger  this article is filled with propaganda promoting a national ideal  how could the natives hide weapons training by pretending to practice spanish weapons training and not get exposed  logic dictates the ruling class would not let the conquered people practice weapons training period     this ideology is martial arts myth going against the historical references and fact  note that this is the same myth attributed to capoeira  that the african slaves hid their martial arts by pretending to dance  it is evident that the techniques found in eskrima are identical to sabre fencing specially spanish rapier schools      0  of the names in escrima techniques are literal indications of spanish  castellian      preceding unsigned comment added by     ',\n",
       "  -1),\n",
       " ('     well  nobody did question the wetness of water    claimed it as something so obvious that few   serious writers   would bother to write about it   i countered that it is something   obvious   that   serious writers   do  in fact  expend considerable time and energy studying and publishing about   the obviousness of the dominance of superheroes is not even remotely as obvious as something as universal as water  especially given the diversity that has arisen in the non direct market in the past decade or so  which is what the average person is exposed to    further  the industry has not always been dominated by superheroes  like in the late 1940s and 1950s  when wdc s  and ec comics were at the top of the heap    it s likely to be surprising to many non superhero fans that today  in 2011  superheroes are still   dominant       ',\n",
       "  -1),\n",
       " ('        source needed       but three days later maj  gen  hobart r  gay  1st cavalry division commander  told rear echelon reporters he suspected half the white clad people streaming down the roads were infiltrators  8     i was looking for the source of this statement  but cannot find it  does anyone have anything more specific than   the associated press  july 26  1950       ',\n",
       "  -1),\n",
       " ('             hate speech         can someone please explain this      the origination and use of cisgender can be compared to the reclamation of profane words and hate speech  such as nigger and queer     how do they compare    cisgender   people are not   reclaiming   this word for themselves  are they  rather  this is a word much more likely to be use by transgender people to describe those who aren t  and a more logical comparison is with use of   cracker   by black people or   breeder   etc  by gay people    06 47  2005 jun 21  utc  ',\n",
       "  -1),\n",
       " ('   file doru jpg listed for deletion      a file that you uploaded or altered  file doru jpg  has been listed at wikipedia files for deletion  please see the discussion to see why this is  you may have to search for the title of the image to find its entry   if you are interested in it not being deleted ',\n",
       "  -1),\n",
       " ('   head of the barakzai dynasty       i highly doubt there exists a  head of the barakzai dynasty  since the dynasty ended with the death of former king m zhair shah   pretender  denotes a hereditary claim but cannot be translated to include dynastic claims since the dynasty in question has concluded with the death of zahir shah  any views ',\n",
       "  -1),\n",
       " ('  armenian genocide      am i missing this   why isn t it included   please leave note on my discussion page  thanks       because it happened before the genocide convention and is an alleged genocide  see the section  and the main article  genocide in history where many other alledged genocides and genocides are listed     the only reason it is considered  alleged  is because modern day turkey  and its exclaves  deny it  the majority of the western academic world accepts and defines it as genocide  it certainly should be listed  particularly seeing as how it was used as an example in coining the word  see raphael lemkin        there was no international tribunal to try the perpetrators  those who were tried were tried under domestic laws and as there was no such offence as genocide at that time so if they were found guilty they were found guilty of other crimes  there should not be any listing of the genocide  here because it is covered in the genocide in history and it is only an alleged genocide given that there was no guilty verdict handed down by an international tribunal  the perpetrators of the holocaust were not found guilty of genocide but of crimes against humanity  but they were found guilty by an international tribunal of those crimes  i think it better that only incidents where people are found guilty of genocide are listed in this article  those incidents before the convention  or incidents where there was not a trial  are listed in the article genocide in history as it stops this article being the focus of pov wars          talat  enver and cemal all fled turkey before they could be tried under any court  though a turkish military tribunal did try them in abstentia and find them guilty of war crimes  and all were killed   enver in russia  talat in germany  and cemal in georgia  within 7 years  just because the guilty parties fled justice  and because the turkish tribunal is not international  does not mean these events did not occur  if the league of nations  which had only been established only a year before tallat s death  had managed to apprehend these war criminals  then it surely would have found them guilty  the fact that a national court   the very nation they had controlled   found them guilty should be worth something          although the information given in the article is the academic and judicial meaning of genocide  some critics are ultimately political  cemal pasha found guilty by the ottoman empire not because of he interfered any mass killing but beause he provoked the ethnic arabs for a rebellion movement  the other misleading point is their murders  cemal pasha was murdered by armenian paralimilitary groups in tbilisi on 22nd july 1922  talat pasha was killed by an armenian named sogomon tehliryan in germany in 1921 and enver pasha was killed in tajikistan on the 4th of august 1922 in battlefield   gürer   17 08 07         vatg s edits      i have posted the following message on vatg s user page     i can appreciate it that you have a personal point of view about using the term armenian genocide   however  outside of turkey and some smally dennier communities  the armenian genocide is widely accepted as a term referring to events in turkey during wwi   your single minded attempt to remove any reference to armenia and the armenians from the genocide page and genocide denial page is not helpful and should be stopped   it not  i will proceed with the next steps for stopping such practice       i would appreciate any suggestions re  next steps        vagt s reply    your attitude is a good indication of how the truth is suppressed all over by a wealthy and aggressive propaganda machine  it is you who should stop abusing wikipedia by inserting your falsified allegations  you are most welcome to create distortions in you own web sites  the armenians must face with their history and prevent further sufferings in our region because of puppets of contemporary imperialists  peace at home  peace in the world     wikipedia is not free web space for promoting unfounded theories  vagt  and if you want to be heard you will have to make a valid point on the talk page  if you can   or perhaps you would prefer to add to the list of conspiracy theories article  joel  if vagt continues to pov attack articles  i would recommend finding an administrator to give him her a officia',\n",
       "  -1),\n",
       " ('   vulgar ip       you may wish to revoke talk page access for  who does not appear interested in using it productively    previously known as',\n",
       "  -1),\n",
       " ('   utc     would it not be more appropriate to say these expenses were incurred because individuals entered the military knowing the policy  part of the induction process  and prior to being sworn in   received training  food  clothing  shelter  and a full time job only to be either found out or   outing   themselves  resulting in separation     an analogy would be blaming the necessary expense associated with a police vehicle and officer on a school zone speed limit rather than the individuals who would ignore the limit      21 25  14 september 2008 ',\n",
       "  -1),\n",
       " ('       balwearie high school     can you explain why you reverted my addition of the external link to the school s own web site please  as per   if you are undoing an edit that is not vandalism  explain the reason in the edit summary rather than using only the default message   i can only assume you believed my edit to be vandalous  this was certainly not the intent and i m unclear as to why you would think so  the web site may only have contact details and an image of the school badge at present but is clearly genuine and a pertinent addition to the article     ',\n",
       "  -1),\n",
       " ('       in that case  there s approximately an equal number of references  standard google search prefers beijing by a factor of about 9  though   there actually is room for discussion and doubts  in the case where the name s not found outside of wikipedia  there is none               no  we will point out the gazillion books in english which have adopted beijing  which is why we use it            both romanian and rumanian are used in english  an example of why we have wp engvar  and why it is imprudent for a foreigner to dogmatize on english usage  the question at hand is not historical fact  on which romanian  since turgidson insists  sources are  under a free government  as likely to be reliable as any others  but what is most clear to english speaking readers   this works both ways  of course  no one is attempting to dictate spelling to the romanian wikipedia  but if they did  simply',\n",
       "  -1),\n",
       " ('      regardless of whether or not to write an article  i think it appropriate to include the links you gave me above as citations in the article alongsdide the channel 4 citation ',\n",
       "  -1),\n",
       " ('   i didn t screw up  i lapsed  when you revert  you should examine what the previous editor did  as several reverters are doing  reverting again me at amin al husseini so blindly they do not notice they are removing intermediate edits involving correction of dates and spellings  it means that this is personal  or ideological  and not motivated by intelligent assessments of the merits ',\n",
       "  -1),\n",
       " ('this is yet another call by morphh to whitewash the page in the name of  working towards consensus and neutrality   it is disingenuous to suggest that beck has spoken about anything but health care as reparations based on the source you suggest  beck ties another man  van jones  to beck s theory of how another possible program could be seen as reparations  but read beck s own words  he can only tie reparations to obama on health care  it should be in his political views  not the  media persona  section  because it s based on material he s said all over the place  the racism material should also be there  because that wasn t said on his show either  hiding beck s political views behind the  it s just the on air version of himself he plays on his show  is a cheap excuse  when beck makes major statements about the policies proposed by the presidential administration  and gives his opinion  that s him demonstrating his political views  his on air persona s bombastic  loud  ignorant and obnoxious  but it s his vies that persona is selling ',\n",
       "  -1),\n",
       " ('          principal themes   section is only half as useful as it should be       it is mostly  though not entirely  missing information on which tracks include which themes  and in at least one place  where it does give this info  it is missing info on which episodes the theme in question appears in   the track information is way more useful to the reader than the episode info  though the latter certainly doesn t hurt   both sets of details should be provided for each identified theme              ʕ õلō ˀ     ',\n",
       "  -1),\n",
       " ('  17 june 2014  utc          i will note that the image is department of labor so this is following the cite    if there is another source or redo extract of this then suggest that it might remove the concern if the map used the convention of shdes of a single color and white for no data  e g dark green for higher pay  medium for federal level  and light green for lower pay     16 40',\n",
       "  -1)]"
      ]
     },
     "execution_count": 124,
     "metadata": {},
     "output_type": "execute_result"
    }
   ],
   "source": [
    "[(i, target)\n",
    "  for i, target in zip(test_data_processed_1[errors_with_high_prob_mask], target_test[errors_with_high_prob_mask]) \n",
    "         if 'not' in i]"
   ]
  },
  {
   "cell_type": "code",
   "execution_count": 114,
   "metadata": {},
   "outputs": [
    {
     "data": {
      "text/plain": [
       "('   i didn t screw up  i lapsed  when you revert  you should examine what the previous editor did  as several reverters are doing  reverting again me at amin al husseini so blindly they do not notice they are removing intermediate edits involving correction of dates and spellings  it means that this is personal  or ideological  and not motivated by intelligent assessments of the merits ',\n",
       " -1)"
      ]
     },
     "execution_count": 114,
     "metadata": {},
     "output_type": "execute_result"
    }
   ],
   "source": [
    "indx = 2354\n",
    "test_data_processed_1[errors_with_high_prob_mask][indx], target_test[errors_with_high_prob_mask][indx]"
   ]
  },
  {
   "cell_type": "markdown",
   "metadata": {},
   "source": [
    "## Доп. задание  №1"
   ]
  },
  {
   "cell_type": "code",
   "execution_count": 12,
   "metadata": {},
   "outputs": [],
   "source": [
    "from sklearn.feature_extraction.text import TfidfVectorizer"
   ]
  },
  {
   "cell_type": "code",
   "execution_count": 60,
   "metadata": {},
   "outputs": [
    {
     "name": "stdout",
     "output_type": "stream",
     "text": [
      "CPU times: user 43.2 s, sys: 700 ms, total: 43.9 s\n",
      "Wall time: 42.2 s\n"
     ]
    }
   ],
   "source": [
    "%%time\n",
    "train_data_processed_3 = train_data_processed_lemmatized.apply(lambda x: ' '.join(x))\n",
    "test_data_processed_3 = test_data_processed_lemmatized.apply(lambda x: ' '.join(x))\n",
    "preprocesser = TfidfVectorizer(min_df=2.5e-5, lowercase=False, ngram_range=(1, 5))\n",
    "\n",
    "\n",
    "train_data_processed_3 = preprocesser.fit_transform(train_data_processed_3)\n",
    "test_data_processed_3 = preprocesser.transform(test_data_processed_3)\n",
    "\n",
    "bias_feature_train = np.ones(train_data.shape[0])\n",
    "bias_feature_test = np.ones(test_data.shape[0])\n",
    "bias_feature_train = scipy.sparse.csr_matrix(bias_feature_train).T\n",
    "bias_feature_test = scipy.sparse.csr_matrix(bias_feature_test).T\n",
    "train_data_processed_3_with_bias = scipy.sparse.hstack([bias_feature_train, train_data_processed_3], 'csr')\n",
    "test_data_processed_3_with_bias = scipy.sparse.hstack([bias_feature_test, test_data_processed_3], 'csr')\n",
    "\n",
    "w_0 = np.zeros(train_data_processed_3_with_bias.shape[1])"
   ]
  },
  {
   "cell_type": "code",
   "execution_count": 61,
   "metadata": {},
   "outputs": [],
   "source": [
    "sgd_classifier = optimization.SGDClassifier(batch_size=1024,\n",
    "                                            step_alpha=1,\n",
    "                                            step_beta=0.001,\n",
    "                                            max_iter = 10000,\n",
    "                                            experiment = False,\n",
    "                                            l2_coef=5e-5,\n",
    "                                            tolerance=5e-7\n",
    "                                            )"
   ]
  },
  {
   "cell_type": "code",
   "execution_count": 62,
   "metadata": {},
   "outputs": [
    {
     "data": {
      "text/plain": [
       "<52061x724326 sparse matrix of type '<class 'numpy.float64'>'\n",
       "\twith 6348427 stored elements in Compressed Sparse Row format>"
      ]
     },
     "execution_count": 62,
     "metadata": {},
     "output_type": "execute_result"
    }
   ],
   "source": [
    "train_data_processed_3_with_bias"
   ]
  },
  {
   "cell_type": "code",
   "execution_count": 63,
   "metadata": {},
   "outputs": [
    {
     "name": "stdout",
     "output_type": "stream",
     "text": [
      "CPU times: user 6min 22s, sys: 6.58 s, total: 6min 29s\n",
      "Wall time: 48.7 s\n"
     ]
    }
   ],
   "source": [
    "%%time\n",
    "sgd_classifier.fit(train_data_processed_3_with_bias, target_train.values)"
   ]
  },
  {
   "cell_type": "code",
   "execution_count": 64,
   "metadata": {},
   "outputs": [
    {
     "name": "stdout",
     "output_type": "stream",
     "text": [
      "CPU times: user 339 ms, sys: 15.8 ms, total: 354 ms\n",
      "Wall time: 44.3 ms\n"
     ]
    },
    {
     "data": {
      "text/plain": [
       "0.8766686012768428"
      ]
     },
     "execution_count": 64,
     "metadata": {},
     "output_type": "execute_result"
    }
   ],
   "source": [
    "%%time\n",
    "sum(sgd_classifier.predict(test_data_processed_3_with_bias) == target_test.values) / target_test.shape[0]"
   ]
  },
  {
   "cell_type": "markdown",
   "metadata": {},
   "source": [
    "### Попробуем убрать приведение к одному регистру, так как капс может показывать некоторую агрессию"
   ]
  },
  {
   "cell_type": "code",
   "execution_count": 125,
   "metadata": {},
   "outputs": [],
   "source": [
    "train_data_processed_1 = train_data.copy()\n",
    "test_data_processed_1 = test_data.copy()"
   ]
  },
  {
   "cell_type": "code",
   "execution_count": 126,
   "metadata": {},
   "outputs": [],
   "source": [
    "def text_process(texts_series):\n",
    "    \"\"\"\n",
    "    Takes series with texts\n",
    "    returns series with preprocessed texts\n",
    "    (lower register + changed all symbols, which are not letter, number to spaces)\n",
    "    \"\"\"\n",
    "    \n",
    "    texts_series = texts_series.apply(lambda x: re.sub(r'\\W', ' ', x))\n",
    "    return texts_series"
   ]
  },
  {
   "cell_type": "code",
   "execution_count": 127,
   "metadata": {},
   "outputs": [],
   "source": [
    "train_data_processed_1 = text_process(train_data_processed_1['comment_text'])\n",
    "test_data_processed_1 = text_process(test_data_processed_1['comment_text'])"
   ]
  },
  {
   "cell_type": "code",
   "execution_count": 128,
   "metadata": {},
   "outputs": [
    {
     "name": "stderr",
     "output_type": "stream",
     "text": [
      "[nltk_data] Downloading package wordnet to /home/paniquex/nltk_data...\n",
      "[nltk_data]   Package wordnet is already up-to-date!\n"
     ]
    }
   ],
   "source": [
    "import nltk\n",
    "nltk.download('wordnet')\n",
    "from nltk.corpus.reader.wordnet import VERB\n",
    "lemmatizer = nltk.WordNetLemmatizer() "
   ]
  },
  {
   "cell_type": "code",
   "execution_count": 129,
   "metadata": {},
   "outputs": [
    {
     "name": "stdout",
     "output_type": "stream",
     "text": [
      "CPU times: user 10.5 s, sys: 48 ms, total: 10.6 s\n",
      "Wall time: 10.6 s\n"
     ]
    }
   ],
   "source": [
    "%%time\n",
    "train_data_processed_lemmatized = train_data_processed_1.apply(lambda x: x.split()).apply(lambda x: [lemmatizer.lemmatize(elem, VERB) for elem in x])\n",
    "test_data_processed_lemmatized = test_data_processed_1.apply(lambda x: x.split()).apply(lambda x: [lemmatizer.lemmatize(elem, VERB) for elem in x])"
   ]
  },
  {
   "cell_type": "code",
   "execution_count": 130,
   "metadata": {},
   "outputs": [],
   "source": [
    "from sklearn.feature_extraction.text import CountVectorizer"
   ]
  },
  {
   "cell_type": "code",
   "execution_count": 138,
   "metadata": {},
   "outputs": [],
   "source": [
    "train_data_processed_3 = train_data_processed_lemmatized.apply(lambda x: ' '.join(x))\n",
    "test_data_processed_3 = test_data_processed_lemmatized.apply(lambda x: ' '.join(x))\n",
    "preprocesser = CountVectorizer(min_df=2.5e-5, lowercase=False)\n",
    "\n",
    "\n",
    "train_data_processed_3 = preprocesser.fit_transform(train_data_processed_3)\n",
    "test_data_processed_3 = preprocesser.transform(test_data_processed_3)\n",
    "\n",
    "bias_feature_train = np.ones(train_data.shape[0])\n",
    "bias_feature_test = np.ones(test_data.shape[0])\n",
    "bias_feature_train = scipy.sparse.csr_matrix(bias_feature_train).T\n",
    "bias_feature_test = scipy.sparse.csr_matrix(bias_feature_test).T\n",
    "train_data_processed_3_with_bias = scipy.sparse.hstack([bias_feature_train, train_data_processed_3], 'csr')\n",
    "test_data_processed_3_with_bias = scipy.sparse.hstack([bias_feature_test, test_data_processed_3], 'csr')\n",
    "\n",
    "w_0 = np.zeros(train_data_processed_3_with_bias.shape[1])"
   ]
  },
  {
   "cell_type": "markdown",
   "metadata": {},
   "source": [
    "## Проверим на отложенной выборке:"
   ]
  },
  {
   "cell_type": "code",
   "execution_count": 85,
   "metadata": {},
   "outputs": [],
   "source": [
    "sgd_classifier = optimization.SGDClassifier(batch_size=1024,\n",
    "                                            step_alpha=1,\n",
    "                                            step_beta=0.001,\n",
    "                                            max_iter = 10000,\n",
    "                                            experiment = True,\n",
    "                                            l2_coef=5e-5,\n",
    "                                            tolerance=5e-7\n",
    "                                            )"
   ]
  },
  {
   "cell_type": "code",
   "execution_count": 86,
   "metadata": {
    "scrolled": true
   },
   "outputs": [
    {
     "name": "stdout",
     "output_type": "stream",
     "text": [
      "CPU times: user 9min 29s, sys: 10.8 s, total: 9min 40s\n",
      "Wall time: 1min 12s\n"
     ]
    }
   ],
   "source": [
    "%%time\n",
    "history = sgd_classifier.fit(train_data_processed_3_with_bias, target_train.values, trace=True)"
   ]
  },
  {
   "cell_type": "code",
   "execution_count": 88,
   "metadata": {},
   "outputs": [
    {
     "data": {
      "text/plain": [
       "0.8879569754785838"
      ]
     },
     "execution_count": 88,
     "metadata": {},
     "output_type": "execute_result"
    }
   ],
   "source": [
    "history['accuracy'][-1]"
   ]
  },
  {
   "cell_type": "markdown",
   "metadata": {},
   "source": [
    "Точность уменьшилась :( Проверим на тесте:"
   ]
  },
  {
   "cell_type": "code",
   "execution_count": 89,
   "metadata": {},
   "outputs": [],
   "source": [
    "sgd_classifier = optimization.SGDClassifier(batch_size=1024,\n",
    "                                            step_alpha=1,\n",
    "                                            step_beta=0.001,\n",
    "                                            max_iter = 10000,\n",
    "                                            experiment = False,\n",
    "                                            l2_coef=5e-5,\n",
    "                                            tolerance=5e-7\n",
    "                                            )"
   ]
  },
  {
   "cell_type": "code",
   "execution_count": 90,
   "metadata": {
    "scrolled": true
   },
   "outputs": [
    {
     "name": "stdout",
     "output_type": "stream",
     "text": [
      "CPU times: user 9min 30s, sys: 15.9 s, total: 9min 46s\n",
      "Wall time: 1min 14s\n"
     ]
    }
   ],
   "source": [
    "%%time\n",
    "sgd_classifier.fit(train_data_processed_3_with_bias, target_train.values)"
   ]
  },
  {
   "cell_type": "code",
   "execution_count": 91,
   "metadata": {},
   "outputs": [
    {
     "name": "stdout",
     "output_type": "stream",
     "text": [
      "CPU times: user 352 ms, sys: 8.17 ms, total: 360 ms\n",
      "Wall time: 44.9 ms\n"
     ]
    },
    {
     "data": {
      "text/plain": [
       "0.8766686012768428"
      ]
     },
     "execution_count": 91,
     "metadata": {},
     "output_type": "execute_result"
    }
   ],
   "source": [
    "%%time\n",
    "sum(sgd_classifier.predict(test_data_processed_3_with_bias) == target_test.values) / target_test.shape[0]"
   ]
  },
  {
   "cell_type": "markdown",
   "metadata": {},
   "source": [
    " Тоже стала хуже :("
   ]
  },
  {
   "cell_type": "markdown",
   "metadata": {},
   "source": [
    "## Попробуем добавить новые признаки:"
   ]
  },
  {
   "cell_type": "code",
   "execution_count": 93,
   "metadata": {},
   "outputs": [
    {
     "data": {
      "text/html": [
       "<div>\n",
       "<style scoped>\n",
       "    .dataframe tbody tr th:only-of-type {\n",
       "        vertical-align: middle;\n",
       "    }\n",
       "\n",
       "    .dataframe tbody tr th {\n",
       "        vertical-align: top;\n",
       "    }\n",
       "\n",
       "    .dataframe thead th {\n",
       "        text-align: right;\n",
       "    }\n",
       "</style>\n",
       "<table border=\"1\" class=\"dataframe\">\n",
       "  <thead>\n",
       "    <tr style=\"text-align: right;\">\n",
       "      <th></th>\n",
       "      <th>comment_text</th>\n",
       "    </tr>\n",
       "  </thead>\n",
       "  <tbody>\n",
       "    <tr>\n",
       "      <th>0</th>\n",
       "      <td>Explanation\\nWhy the edits made under my usern...</td>\n",
       "    </tr>\n",
       "    <tr>\n",
       "      <th>1</th>\n",
       "      <td>D'aww! He matches this background colour I'm s...</td>\n",
       "    </tr>\n",
       "    <tr>\n",
       "      <th>2</th>\n",
       "      <td>Hey man, I'm really not trying to edit war. It...</td>\n",
       "    </tr>\n",
       "    <tr>\n",
       "      <th>3</th>\n",
       "      <td>\"\\nMore\\nI can't make any real suggestions on ...</td>\n",
       "    </tr>\n",
       "    <tr>\n",
       "      <th>4</th>\n",
       "      <td>You, sir, are my hero. Any chance you remember...</td>\n",
       "    </tr>\n",
       "    <tr>\n",
       "      <th>...</th>\n",
       "      <td>...</td>\n",
       "    </tr>\n",
       "    <tr>\n",
       "      <th>159494</th>\n",
       "      <td>\"\\n\\n our previous conversation \\n\\nyou fuckin...</td>\n",
       "    </tr>\n",
       "    <tr>\n",
       "      <th>159514</th>\n",
       "      <td>YOU ARE A MISCHIEVIOUS PUBIC HAIR</td>\n",
       "    </tr>\n",
       "    <tr>\n",
       "      <th>159541</th>\n",
       "      <td>Your absurd edits \\n\\nYour absurd edits on gre...</td>\n",
       "    </tr>\n",
       "    <tr>\n",
       "      <th>159546</th>\n",
       "      <td>\"\\n\\nHey listen don't you ever!!!! Delete my e...</td>\n",
       "    </tr>\n",
       "    <tr>\n",
       "      <th>159554</th>\n",
       "      <td>and i'm going to keep posting the stuff u dele...</td>\n",
       "    </tr>\n",
       "  </tbody>\n",
       "</table>\n",
       "<p>52061 rows × 1 columns</p>\n",
       "</div>"
      ],
      "text/plain": [
       "                                             comment_text\n",
       "0       Explanation\\nWhy the edits made under my usern...\n",
       "1       D'aww! He matches this background colour I'm s...\n",
       "2       Hey man, I'm really not trying to edit war. It...\n",
       "3       \"\\nMore\\nI can't make any real suggestions on ...\n",
       "4       You, sir, are my hero. Any chance you remember...\n",
       "...                                                   ...\n",
       "159494  \"\\n\\n our previous conversation \\n\\nyou fuckin...\n",
       "159514                  YOU ARE A MISCHIEVIOUS PUBIC HAIR\n",
       "159541  Your absurd edits \\n\\nYour absurd edits on gre...\n",
       "159546  \"\\n\\nHey listen don't you ever!!!! Delete my e...\n",
       "159554  and i'm going to keep posting the stuff u dele...\n",
       "\n",
       "[52061 rows x 1 columns]"
      ]
     },
     "execution_count": 93,
     "metadata": {},
     "output_type": "execute_result"
    }
   ],
   "source": [
    "train_data"
   ]
  },
  {
   "cell_type": "code",
   "execution_count": 127,
   "metadata": {},
   "outputs": [
    {
     "name": "stderr",
     "output_type": "stream",
     "text": [
      "[nltk_data] Downloading package stopwords to\n",
      "[nltk_data]     /home/paniquex/nltk_data...\n",
      "[nltk_data]   Package stopwords is already up-to-date!\n"
     ]
    }
   ],
   "source": [
    "from nltk.corpus import stopwords\n",
    "nltk.download('stopwords')\n",
    "stopwords_set = set(stopwords.words('english'))\n",
    "import string"
   ]
  },
  {
   "cell_type": "code",
   "execution_count": 128,
   "metadata": {},
   "outputs": [],
   "source": [
    "# train_new_features = train_data.copy()\n",
    "\n",
    "\n",
    "# train_new_features['count_sent']=train_data[\"comment_text\"].apply(lambda x: len(re.findall(\"\\n\",str(x)))+1)\n",
    "# #Word count in each comment:\n",
    "# train_new_features['count_word']=train_data[\"comment_text\"].apply(lambda x: len(str(x).split()))\n",
    "# #Unique word count\n",
    "# train_new_features['count_unique_word']=train_data[\"comment_text\"].apply(lambda x: len(set(str(x).split())))\n",
    "# #Letter count\n",
    "# train_new_features['count_letters']=train_data[\"comment_text\"].apply(lambda x: len(str(x)))\n",
    "# #punctuation count\n",
    "# train_new_features[\"count_punctuations\"] =train_data[\"comment_text\"].apply(lambda x: len([c for c in str(x) if c in string.punctuation]))\n",
    "# #upper case words count\n",
    "# train_new_features[\"count_words_upper\"] = train_data[\"comment_text\"].apply(lambda x: len([w for w in str(x).split() if w.isupper()]))\n",
    "# #title case words count\n",
    "# train_new_features[\"count_words_title\"] = train_data[\"comment_text\"].apply(lambda x: len([w for w in str(x).split() if w.istitle()]))\n",
    "# #Number of stopwords\n",
    "# train_new_features[\"count_stopwords\"] = train_data[\"comment_text\"].apply(lambda x: len([w for w in str(x).lower().split() if w in stopwords_set]))\n",
    "# #Average length of the words\n",
    "# train_new_features[\"mean_word_len\"] = train_data[\"comment_text\"].apply(lambda x: np.mean([len(w) for w in str(x).split()]))"
   ]
  },
  {
   "cell_type": "code",
   "execution_count": 129,
   "metadata": {},
   "outputs": [],
   "source": [
    "# train_new_features.drop(columns='comment_text', inplace=True)"
   ]
  },
  {
   "cell_type": "code",
   "execution_count": 163,
   "metadata": {},
   "outputs": [],
   "source": [
    "train_data_processed_3 = train_data_processed_lemmatized.apply(lambda x: ' '.join(x))\n",
    "test_data_processed_3 = test_data_processed_lemmatized.apply(lambda x: ' '.join(x))\n",
    "preprocesser = CountVectorizer(min_df=2.5e-5, lowercase=True)\n",
    "\n",
    "\n",
    "train_data_processed_3 = preprocesser.fit_transform(train_data_processed_3)\n",
    "test_data_processed_3 = preprocesser.transform(test_data_processed_3)\n",
    "\n",
    "bias_feature_train = np.ones(train_data.shape[0])\n",
    "bias_feature_test = np.ones(test_data.shape[0])\n",
    "bias_feature_train = scipy.sparse.csr_matrix(bias_feature_train).T\n",
    "bias_feature_test = scipy.sparse.csr_matrix(bias_feature_test).T\n",
    "train_data_processed_3_with_bias = scipy.sparse.hstack([bias_feature_train, train_data_processed_3], 'csr')\n",
    "test_data_processed_3_with_bias = scipy.sparse.hstack([bias_feature_test, test_data_processed_3], 'csr')\n",
    "\n",
    "w_0 = np.zeros(train_data_processed_3_with_bias.shape[1])"
   ]
  },
  {
   "cell_type": "code",
   "execution_count": 141,
   "metadata": {},
   "outputs": [],
   "source": [
    "# train_data_processed_3_with_bias = scipy.sparse.hstack([train_data_processed_3_with_bias, train_new_features], 'csr')"
   ]
  },
  {
   "cell_type": "code",
   "execution_count": 142,
   "metadata": {},
   "outputs": [],
   "source": [
    "sgd_classifier = optimization.SGDClassifier(batch_size=1024,\n",
    "                                            step_alpha=1,\n",
    "                                            step_beta=0.001,\n",
    "                                            max_iter = 10000,\n",
    "                                            experiment = True,\n",
    "                                            l2_coef=5e-5,\n",
    "                                            tolerance=5e-7\n",
    "                                            )"
   ]
  },
  {
   "cell_type": "code",
   "execution_count": 133,
   "metadata": {
    "scrolled": true
   },
   "outputs": [
    {
     "name": "stdout",
     "output_type": "stream",
     "text": [
      "CPU times: user 4min 17s, sys: 5.86 s, total: 4min 23s\n",
      "Wall time: 33.1 s\n"
     ]
    }
   ],
   "source": [
    "%%time\n",
    "history = sgd_classifier.fit(train_data_processed_3_with_bias, target_train.values, trace=True)"
   ]
  },
  {
   "cell_type": "code",
   "execution_count": 137,
   "metadata": {},
   "outputs": [
    {
     "data": {
      "text/plain": [
       "0.73180101158845"
      ]
     },
     "execution_count": 137,
     "metadata": {},
     "output_type": "execute_result"
    }
   ],
   "source": [
    "history['accuracy'][-1]"
   ]
  },
  {
   "cell_type": "code",
   "execution_count": 136,
   "metadata": {},
   "outputs": [
    {
     "data": {
      "text/html": [
       "<div>\n",
       "<style scoped>\n",
       "    .dataframe tbody tr th:only-of-type {\n",
       "        vertical-align: middle;\n",
       "    }\n",
       "\n",
       "    .dataframe tbody tr th {\n",
       "        vertical-align: top;\n",
       "    }\n",
       "\n",
       "    .dataframe thead th {\n",
       "        text-align: right;\n",
       "    }\n",
       "</style>\n",
       "<table border=\"1\" class=\"dataframe\">\n",
       "  <thead>\n",
       "    <tr style=\"text-align: right;\">\n",
       "      <th></th>\n",
       "      <th>count_sent</th>\n",
       "      <th>count_word</th>\n",
       "      <th>count_unique_word</th>\n",
       "      <th>count_letters</th>\n",
       "      <th>count_punctuations</th>\n",
       "      <th>count_words_upper</th>\n",
       "      <th>count_words_title</th>\n",
       "      <th>count_stopwords</th>\n",
       "      <th>mean_word_len</th>\n",
       "    </tr>\n",
       "  </thead>\n",
       "  <tbody>\n",
       "    <tr>\n",
       "      <th>0</th>\n",
       "      <td>2</td>\n",
       "      <td>43</td>\n",
       "      <td>41</td>\n",
       "      <td>264</td>\n",
       "      <td>10</td>\n",
       "      <td>2</td>\n",
       "      <td>11</td>\n",
       "      <td>18</td>\n",
       "      <td>5.162791</td>\n",
       "    </tr>\n",
       "    <tr>\n",
       "      <th>1</th>\n",
       "      <td>1</td>\n",
       "      <td>17</td>\n",
       "      <td>17</td>\n",
       "      <td>112</td>\n",
       "      <td>12</td>\n",
       "      <td>1</td>\n",
       "      <td>3</td>\n",
       "      <td>2</td>\n",
       "      <td>5.588235</td>\n",
       "    </tr>\n",
       "    <tr>\n",
       "      <th>2</th>\n",
       "      <td>1</td>\n",
       "      <td>42</td>\n",
       "      <td>39</td>\n",
       "      <td>233</td>\n",
       "      <td>6</td>\n",
       "      <td>0</td>\n",
       "      <td>2</td>\n",
       "      <td>20</td>\n",
       "      <td>4.571429</td>\n",
       "    </tr>\n",
       "    <tr>\n",
       "      <th>3</th>\n",
       "      <td>5</td>\n",
       "      <td>113</td>\n",
       "      <td>82</td>\n",
       "      <td>622</td>\n",
       "      <td>21</td>\n",
       "      <td>5</td>\n",
       "      <td>7</td>\n",
       "      <td>56</td>\n",
       "      <td>4.486726</td>\n",
       "    </tr>\n",
       "    <tr>\n",
       "      <th>4</th>\n",
       "      <td>1</td>\n",
       "      <td>13</td>\n",
       "      <td>13</td>\n",
       "      <td>67</td>\n",
       "      <td>5</td>\n",
       "      <td>0</td>\n",
       "      <td>2</td>\n",
       "      <td>5</td>\n",
       "      <td>4.230769</td>\n",
       "    </tr>\n",
       "    <tr>\n",
       "      <th>...</th>\n",
       "      <td>...</td>\n",
       "      <td>...</td>\n",
       "      <td>...</td>\n",
       "      <td>...</td>\n",
       "      <td>...</td>\n",
       "      <td>...</td>\n",
       "      <td>...</td>\n",
       "      <td>...</td>\n",
       "      <td>...</td>\n",
       "    </tr>\n",
       "    <tr>\n",
       "      <th>159494</th>\n",
       "      <td>10</td>\n",
       "      <td>319</td>\n",
       "      <td>199</td>\n",
       "      <td>1677</td>\n",
       "      <td>58</td>\n",
       "      <td>8</td>\n",
       "      <td>20</td>\n",
       "      <td>138</td>\n",
       "      <td>4.241379</td>\n",
       "    </tr>\n",
       "    <tr>\n",
       "      <th>159514</th>\n",
       "      <td>1</td>\n",
       "      <td>6</td>\n",
       "      <td>6</td>\n",
       "      <td>33</td>\n",
       "      <td>0</td>\n",
       "      <td>6</td>\n",
       "      <td>1</td>\n",
       "      <td>3</td>\n",
       "      <td>4.666667</td>\n",
       "    </tr>\n",
       "    <tr>\n",
       "      <th>159541</th>\n",
       "      <td>3</td>\n",
       "      <td>58</td>\n",
       "      <td>46</td>\n",
       "      <td>346</td>\n",
       "      <td>6</td>\n",
       "      <td>0</td>\n",
       "      <td>5</td>\n",
       "      <td>30</td>\n",
       "      <td>4.948276</td>\n",
       "    </tr>\n",
       "    <tr>\n",
       "      <th>159546</th>\n",
       "      <td>3</td>\n",
       "      <td>103</td>\n",
       "      <td>75</td>\n",
       "      <td>534</td>\n",
       "      <td>30</td>\n",
       "      <td>6</td>\n",
       "      <td>8</td>\n",
       "      <td>54</td>\n",
       "      <td>4.184466</td>\n",
       "    </tr>\n",
       "    <tr>\n",
       "      <th>159554</th>\n",
       "      <td>1</td>\n",
       "      <td>35</td>\n",
       "      <td>33</td>\n",
       "      <td>182</td>\n",
       "      <td>2</td>\n",
       "      <td>0</td>\n",
       "      <td>0</td>\n",
       "      <td>11</td>\n",
       "      <td>4.228571</td>\n",
       "    </tr>\n",
       "  </tbody>\n",
       "</table>\n",
       "<p>52061 rows × 9 columns</p>\n",
       "</div>"
      ],
      "text/plain": [
       "        count_sent  count_word  count_unique_word  count_letters  \\\n",
       "0                2          43                 41            264   \n",
       "1                1          17                 17            112   \n",
       "2                1          42                 39            233   \n",
       "3                5         113                 82            622   \n",
       "4                1          13                 13             67   \n",
       "...            ...         ...                ...            ...   \n",
       "159494          10         319                199           1677   \n",
       "159514           1           6                  6             33   \n",
       "159541           3          58                 46            346   \n",
       "159546           3         103                 75            534   \n",
       "159554           1          35                 33            182   \n",
       "\n",
       "        count_punctuations  count_words_upper  count_words_title  \\\n",
       "0                       10                  2                 11   \n",
       "1                       12                  1                  3   \n",
       "2                        6                  0                  2   \n",
       "3                       21                  5                  7   \n",
       "4                        5                  0                  2   \n",
       "...                    ...                ...                ...   \n",
       "159494                  58                  8                 20   \n",
       "159514                   0                  6                  1   \n",
       "159541                   6                  0                  5   \n",
       "159546                  30                  6                  8   \n",
       "159554                   2                  0                  0   \n",
       "\n",
       "        count_stopwords  mean_word_len  \n",
       "0                    18       5.162791  \n",
       "1                     2       5.588235  \n",
       "2                    20       4.571429  \n",
       "3                    56       4.486726  \n",
       "4                     5       4.230769  \n",
       "...                 ...            ...  \n",
       "159494              138       4.241379  \n",
       "159514                3       4.666667  \n",
       "159541               30       4.948276  \n",
       "159546               54       4.184466  \n",
       "159554               11       4.228571  \n",
       "\n",
       "[52061 rows x 9 columns]"
      ]
     },
     "execution_count": 136,
     "metadata": {},
     "output_type": "execute_result"
    }
   ],
   "source": [
    "train_new_features"
   ]
  },
  {
   "cell_type": "code",
   "execution_count": 106,
   "metadata": {},
   "outputs": [
    {
     "data": {
      "text/plain": [
       "<52061x32276 sparse matrix of type '<class 'numpy.float64'>'\n",
       "\twith 2204291 stored elements in Compressed Sparse Row format>"
      ]
     },
     "execution_count": 106,
     "metadata": {},
     "output_type": "execute_result"
    }
   ],
   "source": [
    "0.8683014277482554\n",
    "0.8879569754785838"
   ]
  },
  {
   "cell_type": "markdown",
   "metadata": {},
   "source": [
    "Снова плохо :("
   ]
  },
  {
   "cell_type": "markdown",
   "metadata": {},
   "source": [
    "### Попробуем сделать так: будем сохранять лучшие веса, с которыми модель показала лучшую точность на отложенной выборке"
   ]
  },
  {
   "cell_type": "code",
   "execution_count": 145,
   "metadata": {},
   "outputs": [],
   "source": [
    "sgd_classifier = optimization.SGDClassifier(batch_size=1024,\n",
    "                                            step_alpha=1,\n",
    "                                            step_beta=0.001,\n",
    "                                            max_iter = 10000,\n",
    "                                            experiment = True,\n",
    "                                            l2_coef=5e-5,\n",
    "                                            tolerance=5e-7,\n",
    "                                            save_best_weights=True\n",
    "                                            )"
   ]
  },
  {
   "cell_type": "code",
   "execution_count": 146,
   "metadata": {
    "scrolled": true
   },
   "outputs": [
    {
     "name": "stdout",
     "output_type": "stream",
     "text": [
      "CPU times: user 4min 13s, sys: 5.77 s, total: 4min 19s\n",
      "Wall time: 32.6 s\n"
     ]
    }
   ],
   "source": [
    "%%time\n",
    "history = sgd_classifier.fit(train_data_processed_3_with_bias, target_train.values, trace=True)"
   ]
  },
  {
   "cell_type": "code",
   "execution_count": 147,
   "metadata": {},
   "outputs": [
    {
     "data": {
      "text/plain": [
       "0.9108777770663935"
      ]
     },
     "execution_count": 147,
     "metadata": {},
     "output_type": "execute_result"
    }
   ],
   "source": [
    "max(history['accuracy'])"
   ]
  },
  {
   "cell_type": "code",
   "execution_count": 148,
   "metadata": {},
   "outputs": [],
   "source": [
    "sgd_classifier.w = history['best_weights']"
   ]
  },
  {
   "cell_type": "code",
   "execution_count": 149,
   "metadata": {
    "scrolled": true
   },
   "outputs": [
    {
     "name": "stdout",
     "output_type": "stream",
     "text": [
      "CPU times: user 44.9 ms, sys: 19 µs, total: 44.9 ms\n",
      "Wall time: 43.8 ms\n"
     ]
    },
    {
     "data": {
      "text/plain": [
       "0.8804894563745406"
      ]
     },
     "execution_count": 149,
     "metadata": {},
     "output_type": "execute_result"
    }
   ],
   "source": [
    "%%time\n",
    "sum(sgd_classifier.predict(test_data_processed_3_with_bias) == target_test.values) / target_test.shape[0]"
   ]
  },
  {
   "cell_type": "markdown",
   "metadata": {},
   "source": [
    "### Попробуем использовать кросс-валидацию:"
   ]
  },
  {
   "cell_type": "code",
   "execution_count": 15,
   "metadata": {},
   "outputs": [],
   "source": [
    "from sklearn.model_selection import KFold, StratifiedKFold"
   ]
  },
  {
   "cell_type": "code",
   "execution_count": 16,
   "metadata": {},
   "outputs": [
    {
     "name": "stdout",
     "output_type": "stream",
     "text": [
      "Fold: 1,           accuracy: 0.6935561317583789\n",
      "Fold: 2,           accuracy: 0.8006146753745678\n",
      "Fold: 3,           accuracy: 0.7490395697272378\n",
      "Fold: 4,           accuracy: 0.6976565501344603\n",
      "Fold: 5,           accuracy: 0.698905109489051\n",
      "Mean accuracy: 0.7279544072967391\n"
     ]
    }
   ],
   "source": [
    "n_splits = 5\n",
    "kfold = KFold(n_splits=n_splits, shuffle=True)\n",
    "i = 1\n",
    "preds = None\n",
    "val_score_list = []\n",
    "for trn_idx, valid_idx in kfold.split(train_data_processed_3_with_bias, target_train.values):\n",
    "    sgd_classifier = optimization.SGDClassifier(batch_size=4096,\n",
    "                                            step_alpha=1,\n",
    "                                            step_beta=0.001,\n",
    "                                            max_iter = 1000,\n",
    "                                            experiment = False,\n",
    "                                            l2_coef=0.1,\n",
    "                                            tolerance=5e-7,\n",
    "                                            save_best_weights=False\n",
    "                                            )\n",
    "    history = sgd_classifier.fit(train_data_processed_3_with_bias[trn_idx],\n",
    "                                 target_train.values[trn_idx], trace=True)\n",
    "    val_score_list.append(np.sum(sgd_classifier.predict(train_data_processed_3_with_bias[valid_idx]) == target_train.values[valid_idx]) / valid_idx.shape[0])\n",
    "    print(f'Fold: {i}, \\\n",
    "          accuracy: {val_score_list[-1]}')\n",
    "    i += 1\n",
    "    if preds is None:\n",
    "        preds = sgd_classifier.predict_proba(test_data_processed_3_with_bias) / n_splits\n",
    "    else:\n",
    "        preds += sgd_classifier.predict_proba(test_data_processed_3_with_bias) / n_splits\n",
    "\n",
    "print(f'Mean accuracy: {np.mean(val_score_list)}')    "
   ]
  },
  {
   "cell_type": "code",
   "execution_count": 17,
   "metadata": {},
   "outputs": [
    {
     "data": {
      "text/plain": [
       "0.7205939253240472"
      ]
     },
     "execution_count": 17,
     "metadata": {},
     "output_type": "execute_result"
    }
   ],
   "source": [
    "np.sum(np.where(np.argmax(preds, axis=1) == 0, -1, 1) == target_test) / target_test.shape[0]"
   ]
  },
  {
   "cell_type": "code",
   "execution_count": 41,
   "metadata": {},
   "outputs": [],
   "source": [
    "from bayes_opt import BayesianOptimization\n",
    "from sklearn.metrics import roc_auc_score"
   ]
  },
  {
   "cell_type": "code",
   "execution_count": 42,
   "metadata": {},
   "outputs": [],
   "source": [
    "def sgd_bayesian(step_alpha,\n",
    "                 step_beta,\n",
    "                 batch_size, l2_coef,  X_valid=None, y_valid=None):\n",
    "    batch_size = int(batch_size)\n",
    "    sgd_classifier = optimization.SGDClassifier(batch_size=batch_size,\n",
    "                                            step_alpha=step_alpha,\n",
    "                                            step_beta=step_beta,\n",
    "                                            max_iter = 5000,\n",
    "                                            experiment = True,\n",
    "                                            l2_coef=l2_coef,\n",
    "                                            tolerance=5e-7,\n",
    "                                            save_best_weights=False\n",
    "                                            )\n",
    "    \n",
    "    history = sgd_classifier.fit(train_data_processed_3_with_bias,\n",
    "                                 target_train.values, trace=True)\n",
    "    \n",
    "    score = history['accuracy'][-1]\n",
    "    return score"
   ]
  },
  {
   "cell_type": "code",
   "execution_count": 44,
   "metadata": {},
   "outputs": [],
   "source": [
    "bounds_sgd = {\n",
    "    'step_alpha': (0.0, 5.0),\n",
    "    'step_beta': (0.0, 5),\n",
    "    'l2_coef': (0, 1e-4),\n",
    "    'batch_size': (128, 1500)\n",
    "}\n",
    "\n",
    "sgd_BO = BayesianOptimization(sgd_bayesian, bounds_sgd, random_state=13)"
   ]
  },
  {
   "cell_type": "code",
   "execution_count": 45,
   "metadata": {},
   "outputs": [
    {
     "name": "stdout",
     "output_type": "stream",
     "text": [
      "|   iter    |  target   | batch_... |  l2_coef  | step_a... | step_beta |\n",
      "-------------------------------------------------------------------------\n",
      "| \u001b[0m 1       \u001b[0m | \u001b[0m 0.311   \u001b[0m | \u001b[0m 1.195e+0\u001b[0m | \u001b[0m 2.375e-0\u001b[0m | \u001b[0m 4.121   \u001b[0m | \u001b[0m 4.812   \u001b[0m |\n",
      "| \u001b[95m 2       \u001b[0m | \u001b[95m 0.3112  \u001b[0m | \u001b[95m 1.462e+0\u001b[0m | \u001b[95m 4.534e-0\u001b[0m | \u001b[95m 3.045   \u001b[0m | \u001b[95m 3.765   \u001b[0m |\n",
      "| \u001b[95m 3       \u001b[0m | \u001b[95m 0.335   \u001b[0m | \u001b[95m 1.008e+0\u001b[0m | \u001b[95m 7.22e-05\u001b[0m | \u001b[95m 0.1752  \u001b[0m | \u001b[95m 1.141   \u001b[0m |\n",
      "| \u001b[0m 4       \u001b[0m | \u001b[0m 0.3112  \u001b[0m | \u001b[0m 208.3   \u001b[0m | \u001b[0m 8.571e-0\u001b[0m | \u001b[0m 1.864   \u001b[0m | \u001b[0m 3.239   \u001b[0m |\n",
      "| \u001b[0m 5       \u001b[0m | \u001b[0m 0.311   \u001b[0m | \u001b[0m 479.6   \u001b[0m | \u001b[0m 3.476e-0\u001b[0m | \u001b[0m 0.04706 \u001b[0m | \u001b[0m 1.471   \u001b[0m |\n",
      "| \u001b[0m 6       \u001b[0m | \u001b[0m 0.311   \u001b[0m | \u001b[0m 1.43e+03\u001b[0m | \u001b[0m 2.179e-0\u001b[0m | \u001b[0m 1.597   \u001b[0m | \u001b[0m 4.548   \u001b[0m |\n",
      "| \u001b[0m 7       \u001b[0m | \u001b[0m 0.3112  \u001b[0m | \u001b[0m 171.8   \u001b[0m | \u001b[0m 6.508e-0\u001b[0m | \u001b[0m 3.149   \u001b[0m | \u001b[0m 4.306   \u001b[0m |\n",
      "| \u001b[95m 8       \u001b[0m | \u001b[95m 0.8906  \u001b[0m | \u001b[95m 140.0   \u001b[0m | \u001b[95m 7.466e-0\u001b[0m | \u001b[95m 4.064   \u001b[0m | \u001b[95m-0.08355 \u001b[0m |\n",
      "| \u001b[0m 9       \u001b[0m | \u001b[0m 0.311   \u001b[0m | \u001b[0m 1.029e+0\u001b[0m | \u001b[0m 5.093e-0\u001b[0m | \u001b[0m 2.399   \u001b[0m | \u001b[0m 4.756   \u001b[0m |\n",
      "| \u001b[0m 10      \u001b[0m | \u001b[0m 0.665   \u001b[0m | \u001b[0m 128.0   \u001b[0m | \u001b[0m 2.47e-05\u001b[0m | \u001b[0m 3.561   \u001b[0m | \u001b[0m 1.285   \u001b[0m |\n",
      "| \u001b[0m 11      \u001b[0m | \u001b[0m 0.7741  \u001b[0m | \u001b[0m 508.0   \u001b[0m | \u001b[0m 6.954e-0\u001b[0m | \u001b[0m 4.593   \u001b[0m | \u001b[0m 0.8446  \u001b[0m |\n",
      "| \u001b[0m 12      \u001b[0m | \u001b[0m 0.312   \u001b[0m | \u001b[0m 756.5   \u001b[0m | \u001b[0m 2.53e-05\u001b[0m | \u001b[0m 1.897   \u001b[0m | \u001b[0m 2.825   \u001b[0m |\n",
      "| \u001b[0m 13      \u001b[0m | \u001b[0m 0.4532  \u001b[0m | \u001b[0m 1.188e+0\u001b[0m | \u001b[0m 6.792e-0\u001b[0m | \u001b[0m 3.43    \u001b[0m | \u001b[0m 2.515   \u001b[0m |\n",
      "| \u001b[0m 14      \u001b[0m | \u001b[0m 0.8476  \u001b[0m | \u001b[0m 317.3   \u001b[0m | \u001b[0m 9.875e-0\u001b[0m | \u001b[0m 1.228   \u001b[0m | \u001b[0m 0.3348  \u001b[0m |\n",
      "| \u001b[0m 15      \u001b[0m | \u001b[0m 0.3112  \u001b[0m | \u001b[0m 1.398e+0\u001b[0m | \u001b[0m 6.801e-0\u001b[0m | \u001b[0m 1.188   \u001b[0m | \u001b[0m 2.629   \u001b[0m |\n",
      "| \u001b[0m 16      \u001b[0m | \u001b[0m 0.6344  \u001b[0m | \u001b[0m 891.7   \u001b[0m | \u001b[0m 7.274e-0\u001b[0m | \u001b[0m 4.199   \u001b[0m | \u001b[0m 1.729   \u001b[0m |\n",
      "| \u001b[0m 17      \u001b[0m | \u001b[0m 0.3112  \u001b[0m | \u001b[0m 326.8   \u001b[0m | \u001b[0m 1.909e-0\u001b[0m | \u001b[0m 2.453   \u001b[0m | \u001b[0m 3.416   \u001b[0m |\n",
      "| \u001b[95m 18      \u001b[0m | \u001b[95m 0.9066  \u001b[0m | \u001b[95m 1.479e+0\u001b[0m | \u001b[95m 8.748e-0\u001b[0m | \u001b[95m 2.495   \u001b[0m | \u001b[95m 0.08729 \u001b[0m |\n",
      "| \u001b[0m 19      \u001b[0m | \u001b[0m 0.311   \u001b[0m | \u001b[0m 1.381e+0\u001b[0m | \u001b[0m 3.649e-0\u001b[0m | \u001b[0m 1.133   \u001b[0m | \u001b[0m 4.298   \u001b[0m |\n",
      "| \u001b[0m 20      \u001b[0m | \u001b[0m 0.354   \u001b[0m | \u001b[0m 315.1   \u001b[0m | \u001b[0m 2.364e-0\u001b[0m | \u001b[0m 2.977   \u001b[0m | \u001b[0m 2.602   \u001b[0m |\n",
      "| \u001b[0m 21      \u001b[0m | \u001b[0m 0.311   \u001b[0m | \u001b[0m 1.444e+0\u001b[0m | \u001b[0m 4.532e-0\u001b[0m | \u001b[0m 0.6448  \u001b[0m | \u001b[0m 3.683   \u001b[0m |\n",
      "| \u001b[0m 22      \u001b[0m | \u001b[0m 0.6395  \u001b[0m | \u001b[0m 404.6   \u001b[0m | \u001b[0m 1.757e-0\u001b[0m | \u001b[0m 2.186   \u001b[0m | \u001b[0m 1.371   \u001b[0m |\n",
      "| \u001b[0m 23      \u001b[0m | \u001b[0m 0.3187  \u001b[0m | \u001b[0m 1.455e+0\u001b[0m | \u001b[0m 1.43e-05\u001b[0m | \u001b[0m 4.223   \u001b[0m | \u001b[0m 3.182   \u001b[0m |\n",
      "| \u001b[0m 24      \u001b[0m | \u001b[0m 0.8412  \u001b[0m | \u001b[0m 278.0   \u001b[0m | \u001b[0m 8.825e-0\u001b[0m | \u001b[0m 4.832   \u001b[0m | \u001b[0m 0.5686  \u001b[0m |\n",
      "| \u001b[0m 25      \u001b[0m | \u001b[0m 0.4153  \u001b[0m | \u001b[0m 240.4   \u001b[0m | \u001b[0m 2.694e-0\u001b[0m | \u001b[0m 3.251   \u001b[0m | \u001b[0m 2.507   \u001b[0m |\n",
      "| \u001b[0m 26      \u001b[0m | \u001b[0m 0.8492  \u001b[0m | \u001b[0m 552.1   \u001b[0m | \u001b[0m 0.0001  \u001b[0m | \u001b[0m 5.0     \u001b[0m | \u001b[0m 0.01247 \u001b[0m |\n",
      "| \u001b[0m 27      \u001b[0m | \u001b[0m 0.311   \u001b[0m | \u001b[0m 597.1   \u001b[0m | \u001b[0m 0.0001  \u001b[0m | \u001b[0m 0.0     \u001b[0m | \u001b[0m 5.0     \u001b[0m |\n",
      "| \u001b[0m 28      \u001b[0m | \u001b[0m 0.311   \u001b[0m | \u001b[0m 1.131e+0\u001b[0m | \u001b[0m 0.0     \u001b[0m | \u001b[0m 0.0     \u001b[0m | \u001b[0m-0.5     \u001b[0m |\n",
      "| \u001b[0m 29      \u001b[0m | \u001b[0m 0.311   \u001b[0m | \u001b[0m 838.2   \u001b[0m | \u001b[0m 0.0     \u001b[0m | \u001b[0m 0.0     \u001b[0m | \u001b[0m 5.0     \u001b[0m |\n",
      "| \u001b[0m 30      \u001b[0m | \u001b[0m 0.3111  \u001b[0m | \u001b[0m 942.1   \u001b[0m | \u001b[0m 0.0001  \u001b[0m | \u001b[0m 5.0     \u001b[0m | \u001b[0m 5.0     \u001b[0m |\n",
      "| \u001b[0m 31      \u001b[0m | \u001b[0m 0.311   \u001b[0m | \u001b[0m 1.295e+0\u001b[0m | \u001b[0m 0.0001  \u001b[0m | \u001b[0m 0.0     \u001b[0m | \u001b[0m-0.5     \u001b[0m |\n",
      "| \u001b[0m 32      \u001b[0m | \u001b[0m 0.766   \u001b[0m | \u001b[0m 677.9   \u001b[0m | \u001b[0m 0.0001  \u001b[0m | \u001b[0m 5.0     \u001b[0m | \u001b[0m-0.5     \u001b[0m |\n",
      "| \u001b[0m 33      \u001b[0m | \u001b[0m 0.311   \u001b[0m | \u001b[0m 1.08e+03\u001b[0m | \u001b[0m 0.0     \u001b[0m | \u001b[0m 5.0     \u001b[0m | \u001b[0m 5.0     \u001b[0m |\n",
      "| \u001b[0m 34      \u001b[0m | \u001b[0m 0.311   \u001b[0m | \u001b[0m 642.5   \u001b[0m | \u001b[0m 0.0     \u001b[0m | \u001b[0m 0.0     \u001b[0m | \u001b[0m 5.0     \u001b[0m |\n",
      "| \u001b[0m 35      \u001b[0m | \u001b[0m 0.311   \u001b[0m | \u001b[0m 712.8   \u001b[0m | \u001b[0m 0.0001  \u001b[0m | \u001b[0m 0.0     \u001b[0m | \u001b[0m 5.0     \u001b[0m |\n",
      "| \u001b[0m 36      \u001b[0m | \u001b[0m 0.7795  \u001b[0m | \u001b[0m 1.248e+0\u001b[0m | \u001b[0m 0.0001  \u001b[0m | \u001b[0m 5.0     \u001b[0m | \u001b[0m-0.5     \u001b[0m |\n",
      "| \u001b[0m 37      \u001b[0m | \u001b[0m 0.311   \u001b[0m | \u001b[0m 1.5e+03 \u001b[0m | \u001b[0m 0.0     \u001b[0m | \u001b[0m 0.0     \u001b[0m | \u001b[0m 5.0     \u001b[0m |\n",
      "| \u001b[0m 38      \u001b[0m | \u001b[0m 0.311   \u001b[0m | \u001b[0m 1.337e+0\u001b[0m | \u001b[0m 0.0     \u001b[0m | \u001b[0m 5.0     \u001b[0m | \u001b[0m 5.0     \u001b[0m |\n",
      "| \u001b[0m 39      \u001b[0m | \u001b[0m 0.7526  \u001b[0m | \u001b[0m 797.4   \u001b[0m | \u001b[0m 0.0001  \u001b[0m | \u001b[0m 5.0     \u001b[0m | \u001b[0m-0.5     \u001b[0m |\n",
      "| \u001b[0m 40      \u001b[0m | \u001b[0m 0.3111  \u001b[0m | \u001b[0m 439.0   \u001b[0m | \u001b[0m 0.0001  \u001b[0m | \u001b[0m 5.0     \u001b[0m | \u001b[0m 5.0     \u001b[0m |\n",
      "| \u001b[0m 41      \u001b[0m | \u001b[0m 0.311   \u001b[0m | \u001b[0m 370.3   \u001b[0m | \u001b[0m 0.0     \u001b[0m | \u001b[0m 0.0     \u001b[0m | \u001b[0m-0.5     \u001b[0m |\n",
      "| \u001b[0m 42      \u001b[0m | \u001b[0m 0.311   \u001b[0m | \u001b[0m 974.4   \u001b[0m | \u001b[0m 0.0     \u001b[0m | \u001b[0m 0.0     \u001b[0m | \u001b[0m-0.5     \u001b[0m |\n",
      "| \u001b[0m 43      \u001b[0m | \u001b[0m 0.311   \u001b[0m | \u001b[0m 530.8   \u001b[0m | \u001b[0m 0.0     \u001b[0m | \u001b[0m 0.0     \u001b[0m | \u001b[0m 5.0     \u001b[0m |\n",
      "| \u001b[0m 44      \u001b[0m | \u001b[0m 0.311   \u001b[0m | \u001b[0m 1.159e+0\u001b[0m | \u001b[0m 0.0001  \u001b[0m | \u001b[0m 5.0     \u001b[0m | \u001b[0m 5.0     \u001b[0m |\n",
      "| \u001b[0m 45      \u001b[0m | \u001b[0m 0.8385  \u001b[0m | \u001b[0m 866.2   \u001b[0m | \u001b[0m 0.0001  \u001b[0m | \u001b[0m 5.0     \u001b[0m | \u001b[0m-0.5     \u001b[0m |\n",
      "| \u001b[0m 46      \u001b[0m | \u001b[0m 0.311   \u001b[0m | \u001b[0m 1.268e+0\u001b[0m | \u001b[0m 0.0     \u001b[0m | \u001b[0m 0.0     \u001b[0m | \u001b[0m 5.0     \u001b[0m |\n",
      "| \u001b[0m 47      \u001b[0m | \u001b[0m 0.9048  \u001b[0m | \u001b[0m 1.411e+0\u001b[0m | \u001b[0m 1.905e-0\u001b[0m | \u001b[0m 4.14    \u001b[0m | \u001b[0m 0.1499  \u001b[0m |\n",
      "| \u001b[0m 48      \u001b[0m | \u001b[0m 0.311   \u001b[0m | \u001b[0m 1.226e+0\u001b[0m | \u001b[0m 0.0     \u001b[0m | \u001b[0m 0.0     \u001b[0m | \u001b[0m-0.5     \u001b[0m |\n",
      "| \u001b[0m 49      \u001b[0m | \u001b[0m 0.311   \u001b[0m | \u001b[0m 572.3   \u001b[0m | \u001b[0m 0.0     \u001b[0m | \u001b[0m 0.0     \u001b[0m | \u001b[0m-0.5     \u001b[0m |\n",
      "| \u001b[0m 50      \u001b[0m | \u001b[0m 0.311   \u001b[0m | \u001b[0m 916.7   \u001b[0m | \u001b[0m 0.0     \u001b[0m | \u001b[0m 0.0     \u001b[0m | \u001b[0m-0.5     \u001b[0m |\n",
      "| \u001b[0m 51      \u001b[0m | \u001b[0m 0.311   \u001b[0m | \u001b[0m 1.056e+0\u001b[0m | \u001b[0m 0.0001  \u001b[0m | \u001b[0m 0.0     \u001b[0m | \u001b[0m-0.5     \u001b[0m |\n",
      "| \u001b[0m 52      \u001b[0m | \u001b[0m 0.311   \u001b[0m | \u001b[0m 1.105e+0\u001b[0m | \u001b[0m 0.0001  \u001b[0m | \u001b[0m 0.0     \u001b[0m | \u001b[0m-0.5     \u001b[0m |\n",
      "| \u001b[0m 53      \u001b[0m | \u001b[0m 0.311   \u001b[0m | \u001b[0m 262.2   \u001b[0m | \u001b[0m 0.0001  \u001b[0m | \u001b[0m 0.0     \u001b[0m | \u001b[0m-0.5     \u001b[0m |\n",
      "| \u001b[0m 54      \u001b[0m | \u001b[0m 0.311   \u001b[0m | \u001b[0m 780.3   \u001b[0m | \u001b[0m 0.0     \u001b[0m | \u001b[0m 0.0     \u001b[0m | \u001b[0m 5.0     \u001b[0m |\n",
      "| \u001b[0m 55      \u001b[0m | \u001b[0m 0.311   \u001b[0m | \u001b[0m 293.3   \u001b[0m | \u001b[0m 0.0001  \u001b[0m | \u001b[0m 0.0     \u001b[0m | \u001b[0m-0.5     \u001b[0m |\n",
      "| \u001b[0m 56      \u001b[0m | \u001b[0m 0.311   \u001b[0m | \u001b[0m 813.5   \u001b[0m | \u001b[0m 0.0001  \u001b[0m | \u001b[0m 0.0     \u001b[0m | \u001b[0m 5.0     \u001b[0m |\n",
      "| \u001b[0m 57      \u001b[0m | \u001b[0m 0.8348  \u001b[0m | \u001b[0m 619.5   \u001b[0m | \u001b[0m 0.0001  \u001b[0m | \u001b[0m 5.0     \u001b[0m | \u001b[0m-0.5     \u001b[0m |\n",
      "| \u001b[0m 58      \u001b[0m | \u001b[0m 0.311   \u001b[0m | \u001b[0m 1.358e+0\u001b[0m | \u001b[0m 0.0001  \u001b[0m | \u001b[0m 0.0     \u001b[0m | \u001b[0m-0.5     \u001b[0m |\n",
      "| \u001b[95m 59      \u001b[0m | \u001b[95m 0.9091  \u001b[0m | \u001b[95m 733.8   \u001b[0m | \u001b[95m 0.0     \u001b[0m | \u001b[95m 5.0     \u001b[0m | \u001b[95m-0.5     \u001b[0m |\n",
      "| \u001b[0m 60      \u001b[0m | \u001b[0m 0.311   \u001b[0m | \u001b[0m 875.6   \u001b[0m | \u001b[0m 0.0001  \u001b[0m | \u001b[0m 0.0     \u001b[0m | \u001b[0m 5.0     \u001b[0m |\n",
      "| \u001b[0m 61      \u001b[0m | \u001b[0m 0.311   \u001b[0m | \u001b[0m 1.317e+0\u001b[0m | \u001b[0m 0.0001  \u001b[0m | \u001b[0m 0.0     \u001b[0m | \u001b[0m-0.5     \u001b[0m |\n",
      "| \u001b[0m 62      \u001b[0m | \u001b[0m 0.311   \u001b[0m | \u001b[0m 151.1   \u001b[0m | \u001b[0m 0.0001  \u001b[0m | \u001b[0m 0.0     \u001b[0m | \u001b[0m 5.0     \u001b[0m |\n",
      "| \u001b[0m 63      \u001b[0m | \u001b[0m 0.7807  \u001b[0m | \u001b[0m 661.3   \u001b[0m | \u001b[0m 0.0001  \u001b[0m | \u001b[0m 5.0     \u001b[0m | \u001b[0m-0.5     \u001b[0m |\n",
      "| \u001b[0m 64      \u001b[0m | \u001b[0m 0.311   \u001b[0m | \u001b[0m 421.7   \u001b[0m | \u001b[0m 0.0     \u001b[0m | \u001b[0m 0.0     \u001b[0m | \u001b[0m-0.5     \u001b[0m |\n",
      "| \u001b[0m 65      \u001b[0m | \u001b[0m 0.3111  \u001b[0m | \u001b[0m 388.0   \u001b[0m | \u001b[0m 0.0001  \u001b[0m | \u001b[0m 5.0     \u001b[0m | \u001b[0m 5.0     \u001b[0m |\n",
      "| \u001b[0m 66      \u001b[0m | \u001b[0m 0.311   \u001b[0m | \u001b[0m 670.1   \u001b[0m | \u001b[0m 0.0     \u001b[0m | \u001b[0m 0.0     \u001b[0m | \u001b[0m 5.0     \u001b[0m |\n"
     ]
    },
    {
     "name": "stdout",
     "output_type": "stream",
     "text": [
      "| \u001b[0m 67      \u001b[0m | \u001b[0m 0.311   \u001b[0m | \u001b[0m 346.9   \u001b[0m | \u001b[0m 0.0001  \u001b[0m | \u001b[0m 0.0     \u001b[0m | \u001b[0m-0.5     \u001b[0m |\n",
      "| \u001b[95m 68      \u001b[0m | \u001b[95m 0.9106  \u001b[0m | \u001b[95m 852.0   \u001b[0m | \u001b[95m 0.0     \u001b[0m | \u001b[95m 5.0     \u001b[0m | \u001b[95m-0.5     \u001b[0m |\n",
      "| \u001b[0m 69      \u001b[0m | \u001b[0m 0.3111  \u001b[0m | \u001b[0m 495.7   \u001b[0m | \u001b[0m 0.0001  \u001b[0m | \u001b[0m 5.0     \u001b[0m | \u001b[0m 5.0     \u001b[0m |\n",
      "| \u001b[0m 70      \u001b[0m | \u001b[0m 0.7734  \u001b[0m | \u001b[0m 459.2   \u001b[0m | \u001b[0m 0.0001  \u001b[0m | \u001b[0m 5.0     \u001b[0m | \u001b[0m-0.5     \u001b[0m |\n",
      "| \u001b[0m 71      \u001b[0m | \u001b[0m 0.9086  \u001b[0m | \u001b[0m 696.1   \u001b[0m | \u001b[0m 0.0     \u001b[0m | \u001b[0m 5.0     \u001b[0m | \u001b[0m-0.5     \u001b[0m |\n",
      "| \u001b[0m 72      \u001b[0m | \u001b[0m 0.311   \u001b[0m | \u001b[0m 1.243e+0\u001b[0m | \u001b[0m 0.0     \u001b[0m | \u001b[0m 0.0     \u001b[0m | \u001b[0m 5.0     \u001b[0m |\n",
      "| \u001b[0m 73      \u001b[0m | \u001b[0m 0.311   \u001b[0m | \u001b[0m 990.5   \u001b[0m | \u001b[0m 0.0001  \u001b[0m | \u001b[0m 5.0     \u001b[0m | \u001b[0m 5.0     \u001b[0m |\n",
      "| \u001b[0m 74      \u001b[0m | \u001b[0m 0.7938  \u001b[0m | \u001b[0m 1.489e+0\u001b[0m | \u001b[0m 0.0001  \u001b[0m | \u001b[0m 5.0     \u001b[0m | \u001b[0m-0.5     \u001b[0m |\n",
      "| \u001b[0m 75      \u001b[0m | \u001b[0m 0.7152  \u001b[0m | \u001b[0m 189.7   \u001b[0m | \u001b[0m 0.0001  \u001b[0m | \u001b[0m 5.0     \u001b[0m | \u001b[0m-0.5     \u001b[0m |\n",
      "| \u001b[0m 76      \u001b[0m | \u001b[0m 0.311   \u001b[0m | \u001b[0m 457.9   \u001b[0m | \u001b[0m 0.0     \u001b[0m | \u001b[0m 0.0     \u001b[0m | \u001b[0m 5.0     \u001b[0m |\n",
      "| \u001b[0m 77      \u001b[0m | \u001b[0m 0.311   \u001b[0m | \u001b[0m 737.9   \u001b[0m | \u001b[0m 0.0001  \u001b[0m | \u001b[0m 0.0     \u001b[0m | \u001b[0m 5.0     \u001b[0m |\n",
      "| \u001b[0m 78      \u001b[0m | \u001b[0m 0.8627  \u001b[0m | \u001b[0m 720.0   \u001b[0m | \u001b[0m 0.0     \u001b[0m | \u001b[0m 5.0     \u001b[0m | \u001b[0m-0.5     \u001b[0m |\n",
      "| \u001b[0m 79      \u001b[0m | \u001b[0m 0.3111  \u001b[0m | \u001b[0m 559.4   \u001b[0m | \u001b[0m 0.0001  \u001b[0m | \u001b[0m 5.0     \u001b[0m | \u001b[0m 5.0     \u001b[0m |\n",
      "| \u001b[0m 80      \u001b[0m | \u001b[0m 0.9059  \u001b[0m | \u001b[0m 537.9   \u001b[0m | \u001b[0m 0.0     \u001b[0m | \u001b[0m 5.0     \u001b[0m | \u001b[0m-0.5     \u001b[0m |\n",
      "| \u001b[95m 81      \u001b[0m | \u001b[95m 0.9173  \u001b[0m | \u001b[95m 521.1   \u001b[0m | \u001b[95m 0.0     \u001b[0m | \u001b[95m 5.0     \u001b[0m | \u001b[95m-0.5     \u001b[0m |\n",
      "| \u001b[0m 82      \u001b[0m | \u001b[0m 0.3111  \u001b[0m | \u001b[0m 857.4   \u001b[0m | \u001b[0m 4.327e-0\u001b[0m | \u001b[0m 5.0     \u001b[0m | \u001b[0m 5.0     \u001b[0m |\n",
      "| \u001b[0m 83      \u001b[0m | \u001b[0m 0.9128  \u001b[0m | \u001b[0m 828.4   \u001b[0m | \u001b[0m 0.0     \u001b[0m | \u001b[0m 5.0     \u001b[0m | \u001b[0m-0.5     \u001b[0m |\n",
      "| \u001b[0m 84      \u001b[0m | \u001b[0m 0.311   \u001b[0m | \u001b[0m 1.482e+0\u001b[0m | \u001b[0m 0.0001  \u001b[0m | \u001b[0m 5.0     \u001b[0m | \u001b[0m 5.0     \u001b[0m |\n",
      "| \u001b[0m 85      \u001b[0m | \u001b[0m 0.311   \u001b[0m | \u001b[0m 1.486e+0\u001b[0m | \u001b[0m 0.0     \u001b[0m | \u001b[0m 0.0     \u001b[0m | \u001b[0m-0.5     \u001b[0m |\n",
      "| \u001b[0m 86      \u001b[0m | \u001b[0m 0.7262  \u001b[0m | \u001b[0m 1.472e+0\u001b[0m | \u001b[0m 0.0001  \u001b[0m | \u001b[0m 5.0     \u001b[0m | \u001b[0m-0.5     \u001b[0m |\n",
      "| \u001b[0m 87      \u001b[0m | \u001b[0m 0.311   \u001b[0m | \u001b[0m 960.1   \u001b[0m | \u001b[0m 0.0001  \u001b[0m | \u001b[0m 5.0     \u001b[0m | \u001b[0m 5.0     \u001b[0m |\n",
      "| \u001b[0m 88      \u001b[0m | \u001b[0m 0.912   \u001b[0m | \u001b[0m 224.9   \u001b[0m | \u001b[0m 0.0     \u001b[0m | \u001b[0m 5.0     \u001b[0m | \u001b[0m-0.5     \u001b[0m |\n",
      "| \u001b[0m 89      \u001b[0m | \u001b[0m 0.311   \u001b[0m | \u001b[0m 1.172e+0\u001b[0m | \u001b[0m 0.0     \u001b[0m | \u001b[0m 0.0     \u001b[0m | \u001b[0m-0.5     \u001b[0m |\n",
      "| \u001b[0m 90      \u001b[0m | \u001b[0m 0.311   \u001b[0m | \u001b[0m 615.8   \u001b[0m | \u001b[0m 0.0     \u001b[0m | \u001b[0m 0.0     \u001b[0m | \u001b[0m 5.0     \u001b[0m |\n",
      "| \u001b[0m 91      \u001b[0m | \u001b[0m 0.786   \u001b[0m | \u001b[0m 632.5   \u001b[0m | \u001b[0m 0.0001  \u001b[0m | \u001b[0m 5.0     \u001b[0m | \u001b[0m-0.5     \u001b[0m |\n",
      "| \u001b[0m 92      \u001b[0m | \u001b[0m 0.311   \u001b[0m | \u001b[0m 1.118e+0\u001b[0m | \u001b[0m 0.0     \u001b[0m | \u001b[0m 5.0     \u001b[0m | \u001b[0m 5.0     \u001b[0m |\n",
      "| \u001b[0m 93      \u001b[0m | \u001b[0m 0.7068  \u001b[0m | \u001b[0m 1.5e+03 \u001b[0m | \u001b[0m 0.0001  \u001b[0m | \u001b[0m 5.0     \u001b[0m | \u001b[0m-0.5     \u001b[0m |\n",
      "| \u001b[0m 94      \u001b[0m | \u001b[0m 0.311   \u001b[0m | \u001b[0m 226.5   \u001b[0m | \u001b[0m 0.0     \u001b[0m | \u001b[0m 0.0     \u001b[0m | \u001b[0m 5.0     \u001b[0m |\n",
      "| \u001b[0m 95      \u001b[0m | \u001b[0m 0.3111  \u001b[0m | \u001b[0m 688.8   \u001b[0m | \u001b[0m 0.0001  \u001b[0m | \u001b[0m 5.0     \u001b[0m | \u001b[0m 5.0     \u001b[0m |\n",
      "| \u001b[0m 96      \u001b[0m | \u001b[0m 0.311   \u001b[0m | \u001b[0m 905.3   \u001b[0m | \u001b[0m 0.0001  \u001b[0m | \u001b[0m 5.0     \u001b[0m | \u001b[0m 5.0     \u001b[0m |\n",
      "| \u001b[0m 97      \u001b[0m | \u001b[0m 0.311   \u001b[0m | \u001b[0m 1.414e+0\u001b[0m | \u001b[0m 0.0001  \u001b[0m | \u001b[0m 0.0     \u001b[0m | \u001b[0m 5.0     \u001b[0m |\n",
      "| \u001b[0m 98      \u001b[0m | \u001b[0m 0.311   \u001b[0m | \u001b[0m 276.5   \u001b[0m | \u001b[0m 0.0     \u001b[0m | \u001b[0m 0.0     \u001b[0m | \u001b[0m 5.0     \u001b[0m |\n",
      "| \u001b[0m 99      \u001b[0m | \u001b[0m 0.311   \u001b[0m | \u001b[0m 546.3   \u001b[0m | \u001b[0m 0.0     \u001b[0m | \u001b[0m 0.0     \u001b[0m | \u001b[0m-0.5     \u001b[0m |\n",
      "| \u001b[0m 100     \u001b[0m | \u001b[0m 0.7753  \u001b[0m | \u001b[0m 586.8   \u001b[0m | \u001b[0m 0.0001  \u001b[0m | \u001b[0m 5.0     \u001b[0m | \u001b[0m-0.5     \u001b[0m |\n",
      "| \u001b[0m 101     \u001b[0m | \u001b[0m 0.9125  \u001b[0m | \u001b[0m 604.4   \u001b[0m | \u001b[0m 0.0     \u001b[0m | \u001b[0m 5.0     \u001b[0m | \u001b[0m-0.5     \u001b[0m |\n",
      "| \u001b[0m 102     \u001b[0m | \u001b[0m 0.7104  \u001b[0m | \u001b[0m 1.279e+0\u001b[0m | \u001b[0m 0.0001  \u001b[0m | \u001b[0m 5.0     \u001b[0m | \u001b[0m-0.5     \u001b[0m |\n",
      "| \u001b[0m 103     \u001b[0m | \u001b[0m 0.9081  \u001b[0m | \u001b[0m 1.261e+0\u001b[0m | \u001b[0m 0.0     \u001b[0m | \u001b[0m 5.0     \u001b[0m | \u001b[0m-0.5     \u001b[0m |\n",
      "| \u001b[0m 104     \u001b[0m | \u001b[0m 0.7716  \u001b[0m | \u001b[0m 1.421e+0\u001b[0m | \u001b[0m 0.0001  \u001b[0m | \u001b[0m 5.0     \u001b[0m | \u001b[0m-0.5     \u001b[0m |\n",
      "| \u001b[0m 105     \u001b[0m | \u001b[0m 0.7286  \u001b[0m | \u001b[0m 706.8   \u001b[0m | \u001b[0m 0.0001  \u001b[0m | \u001b[0m 5.0     \u001b[0m | \u001b[0m-0.5     \u001b[0m |\n",
      "| \u001b[0m 106     \u001b[0m | \u001b[0m 0.7007  \u001b[0m | \u001b[0m 840.1   \u001b[0m | \u001b[0m 0.0001  \u001b[0m | \u001b[0m 5.0     \u001b[0m | \u001b[0m-0.5     \u001b[0m |\n",
      "| \u001b[0m 107     \u001b[0m | \u001b[0m 0.311   \u001b[0m | \u001b[0m 858.2   \u001b[0m | \u001b[0m 0.0     \u001b[0m | \u001b[0m 0.0     \u001b[0m | \u001b[0m-0.5     \u001b[0m |\n",
      "| \u001b[0m 108     \u001b[0m | \u001b[0m 0.9163  \u001b[0m | \u001b[0m 879.7   \u001b[0m | \u001b[0m 0.0     \u001b[0m | \u001b[0m 5.0     \u001b[0m | \u001b[0m-0.5     \u001b[0m |\n",
      "| \u001b[0m 109     \u001b[0m | \u001b[0m 0.8051  \u001b[0m | \u001b[0m 771.8   \u001b[0m | \u001b[0m 0.0001  \u001b[0m | \u001b[0m 5.0     \u001b[0m | \u001b[0m-0.5     \u001b[0m |\n",
      "| \u001b[0m 110     \u001b[0m | \u001b[0m 0.311   \u001b[0m | \u001b[0m 690.0   \u001b[0m | \u001b[0m 0.0001  \u001b[0m | \u001b[0m 0.0     \u001b[0m | \u001b[0m-0.5     \u001b[0m |\n",
      "| \u001b[0m 111     \u001b[0m | \u001b[0m 0.311   \u001b[0m | \u001b[0m 1.306e+0\u001b[0m | \u001b[0m 0.0     \u001b[0m | \u001b[0m 5.0     \u001b[0m | \u001b[0m 5.0     \u001b[0m |\n",
      "| \u001b[0m 112     \u001b[0m | \u001b[0m 0.311   \u001b[0m | \u001b[0m 135.9   \u001b[0m | \u001b[0m 0.0     \u001b[0m | \u001b[0m 0.0     \u001b[0m | \u001b[0m 5.0     \u001b[0m |\n",
      "| \u001b[0m 113     \u001b[0m | \u001b[0m 0.8694  \u001b[0m | \u001b[0m 156.7   \u001b[0m | \u001b[0m 0.0     \u001b[0m | \u001b[0m 5.0     \u001b[0m | \u001b[0m-0.5     \u001b[0m |\n",
      "| \u001b[0m 114     \u001b[0m | \u001b[0m 0.8702  \u001b[0m | \u001b[0m 815.6   \u001b[0m | \u001b[0m 0.0     \u001b[0m | \u001b[0m 5.0     \u001b[0m | \u001b[0m-0.5     \u001b[0m |\n",
      "| \u001b[0m 115     \u001b[0m | \u001b[0m 0.3111  \u001b[0m | \u001b[0m 515.9   \u001b[0m | \u001b[0m 0.0001  \u001b[0m | \u001b[0m 5.0     \u001b[0m | \u001b[0m 5.0     \u001b[0m |\n",
      "| \u001b[0m 116     \u001b[0m | \u001b[0m 0.311   \u001b[0m | \u001b[0m 501.4   \u001b[0m | \u001b[0m 0.0     \u001b[0m | \u001b[0m 0.0     \u001b[0m | \u001b[0m-0.5     \u001b[0m |\n",
      "| \u001b[0m 117     \u001b[0m | \u001b[0m 0.311   \u001b[0m | \u001b[0m 1.045e+0\u001b[0m | \u001b[0m 0.0     \u001b[0m | \u001b[0m 5.0     \u001b[0m | \u001b[0m 5.0     \u001b[0m |\n",
      "| \u001b[0m 118     \u001b[0m | \u001b[0m 0.7949  \u001b[0m | \u001b[0m 470.1   \u001b[0m | \u001b[0m 0.0001  \u001b[0m | \u001b[0m 5.0     \u001b[0m | \u001b[0m-0.5     \u001b[0m |\n",
      "| \u001b[0m 119     \u001b[0m | \u001b[0m 0.3111  \u001b[0m | \u001b[0m 413.5   \u001b[0m | \u001b[0m 0.0001  \u001b[0m | \u001b[0m 5.0     \u001b[0m | \u001b[0m 5.0     \u001b[0m |\n",
      "| \u001b[0m 120     \u001b[0m | \u001b[0m 0.311   \u001b[0m | \u001b[0m 727.3   \u001b[0m | \u001b[0m 0.0     \u001b[0m | \u001b[0m 0.0     \u001b[0m | \u001b[0m-0.5     \u001b[0m |\n",
      "| \u001b[0m 121     \u001b[0m | \u001b[0m 0.3111  \u001b[0m | \u001b[0m 727.0   \u001b[0m | \u001b[0m 5.027e-0\u001b[0m | \u001b[0m 5.0     \u001b[0m | \u001b[0m 5.0     \u001b[0m |\n",
      "| \u001b[0m 122     \u001b[0m | \u001b[0m 0.7738  \u001b[0m | \u001b[0m 745.0   \u001b[0m | \u001b[0m 9.116e-0\u001b[0m | \u001b[0m 5.0     \u001b[0m | \u001b[0m-0.5     \u001b[0m |\n",
      "| \u001b[0m 123     \u001b[0m | \u001b[0m 0.799   \u001b[0m | \u001b[0m 1.211e+0\u001b[0m | \u001b[0m 0.0001  \u001b[0m | \u001b[0m 5.0     \u001b[0m | \u001b[0m-0.5     \u001b[0m |\n",
      "| \u001b[0m 124     \u001b[0m | \u001b[0m 0.311   \u001b[0m | \u001b[0m 1.142e+0\u001b[0m | \u001b[0m 0.0001  \u001b[0m | \u001b[0m 5.0     \u001b[0m | \u001b[0m 5.0     \u001b[0m |\n",
      "| \u001b[0m 125     \u001b[0m | \u001b[0m 0.311   \u001b[0m | \u001b[0m 1.217e+0\u001b[0m | \u001b[0m 0.0001  \u001b[0m | \u001b[0m 5.0     \u001b[0m | \u001b[0m 5.0     \u001b[0m |\n",
      "=========================================================================\n"
     ]
    }
   ],
   "source": [
    "import warnings\n",
    "\n",
    "with warnings.catch_warnings():\n",
    "    warnings.filterwarnings('ignore')\n",
    "    sgd_BO.maximize(init_points=15, n_iter=25, acq='ucb')"
   ]
  },
  {
   "cell_type": "code",
   "execution_count": 46,
   "metadata": {},
   "outputs": [
    {
     "data": {
      "text/plain": [
       "{'target': 0.9172802356104744,\n",
       " 'params': {'batch_size': 521.1183095763585,\n",
       "  'l2_coef': 0.0,\n",
       "  'step_alpha': 5.0,\n",
       "  'step_beta': -0.5}}"
      ]
     },
     "execution_count": 46,
     "metadata": {},
     "output_type": "execute_result"
    }
   ],
   "source": [
    "sgd_BO.max"
   ]
  },
  {
   "cell_type": "code",
   "execution_count": 54,
   "metadata": {},
   "outputs": [],
   "source": [
    "# {'target': 0.9158076701453358,\n",
    "#  'params': {'batch_size': 1923.624192726998,\n",
    "#   'l2_coef': 0.0,\n",
    "#   'step_alpha': 16.744882359611136,\n",
    "#   'step_beta': -1.0120822997912522}}\n",
    "w_0 = np.zeros(train_data_processed_3_with_bias.shape[1])"
   ]
  },
  {
   "cell_type": "code",
   "execution_count": 74,
   "metadata": {},
   "outputs": [],
   "source": [
    "sgd_classifier = optimization.SGDClassifier(batch_size=512,\n",
    "                                            step_alpha=1,\n",
    "                                            step_beta=0.001,\n",
    "                                            max_iter = 10000,\n",
    "                                            experiment = False,\n",
    "                                            l2_coef=0,\n",
    "                                            tolerance=5e-7,\n",
    "                                            save_best_weights=False,\n",
    "                                            )"
   ]
  },
  {
   "cell_type": "code",
   "execution_count": 75,
   "metadata": {},
   "outputs": [],
   "source": [
    "# sgd_classifier = optimization.SGDClassifier(batch_size=256,\n",
    "#                                             step_alpha=1,\n",
    "#                                             step_beta=0.001,\n",
    "#                                             max_iter = 10000,\n",
    "#                                             experiment = False,\n",
    "#                                             l2_coef=5e-5,\n",
    "#                                             tolerance=5e-7\n",
    "#                                             )"
   ]
  },
  {
   "cell_type": "code",
   "execution_count": 76,
   "metadata": {},
   "outputs": [
    {
     "name": "stdout",
     "output_type": "stream",
     "text": [
      "CPU times: user 57 s, sys: 1.08 s, total: 58.1 s\n",
      "Wall time: 7.26 s\n"
     ]
    },
    {
     "data": {
      "text/plain": [
       "{'epoch_num': [0,\n",
       "  1,\n",
       "  2.003130942548162,\n",
       "  3.0062618850963236,\n",
       "  4.0093928276444855,\n",
       "  5.012523770192693,\n",
       "  6.0156547127409,\n",
       "  7.018785655289107,\n",
       "  8.021916597837313,\n",
       "  9.02504754038552,\n",
       "  10.028178482933727,\n",
       "  11.031309425481934,\n",
       "  12.034440368030141,\n",
       "  13.037571310578349,\n",
       "  14.040702253126556,\n",
       "  15.043833195674763,\n",
       "  16.04696413822296,\n",
       "  17.050095080770987,\n",
       "  18.053226023319013,\n",
       "  19.05635696586704,\n",
       "  20.059487908415065,\n",
       "  21.06261885096309,\n",
       "  22.065749793511117,\n",
       "  23.068880736059143,\n",
       "  24.07201167860717,\n",
       "  25.075142621155194,\n",
       "  26.07827356370322,\n",
       "  27.081404506251246,\n",
       "  28.084535448799272,\n",
       "  29.087666391347298,\n",
       "  30.090797333895324,\n",
       "  31.09392827644335,\n",
       "  32.097059218991376,\n",
       "  33.1001901615394,\n",
       "  34.10332110408743,\n",
       "  35.106452046635454,\n",
       "  36.10958298918348,\n",
       "  37.112713931731506,\n",
       "  38.11584487427953,\n",
       "  39.11897581682756,\n",
       "  40.12210675937558,\n",
       "  41.12523770192361,\n",
       "  42.128368644471635,\n",
       "  43.13149958701966,\n",
       "  44.13463052956769,\n",
       "  45.13776147211571,\n",
       "  46.14089241466374,\n",
       "  47.144023357211765,\n",
       "  48.14715429975979,\n",
       "  49.15028524230782,\n",
       "  50.15341618485584,\n",
       "  51.15654712740387,\n",
       "  52.159678069951894,\n",
       "  53.16280901249992,\n",
       "  54.165939955047946,\n",
       "  55.16907089759597,\n",
       "  56.172201840144,\n",
       "  57.175332782692024,\n",
       "  58.17846372524005,\n",
       "  59.181594667788076,\n",
       "  60.1847256103361,\n",
       "  61.18785655288413,\n",
       "  62.190987495432154,\n",
       "  63.19411843798018,\n",
       "  64.19724938052835,\n",
       "  65.2003803230771,\n",
       "  66.20351126562585,\n",
       "  67.2066422081746,\n",
       "  68.20977315072335,\n",
       "  69.2129040932721,\n",
       "  70.21603503582085,\n",
       "  71.2191659783696,\n",
       "  72.22229692091835,\n",
       "  73.2254278634671,\n",
       "  74.22855880601585,\n",
       "  75.2316897485646,\n",
       "  76.23482069111336,\n",
       "  77.2379516336621,\n",
       "  78.24108257621086,\n",
       "  79.24421351875961,\n",
       "  80.24734446130836,\n",
       "  81.25047540385711,\n",
       "  82.25360634640586,\n",
       "  83.25673728895461,\n",
       "  84.25986823150336,\n",
       "  85.26299917405211,\n",
       "  86.26613011660086,\n",
       "  87.26926105914961,\n",
       "  88.27239200169836,\n",
       "  89.27552294424711,\n",
       "  90.27865388679587,\n",
       "  91.28178482934462,\n",
       "  92.28491577189337,\n",
       "  93.28804671444212,\n",
       "  94.29117765699087,\n",
       "  95.29430859953962,\n",
       "  96.29743954208837,\n",
       "  97.30057048463712,\n",
       "  98.30370142718587,\n",
       "  99.30683236973462],\n",
       " 'time': [0,\n",
       "  0.03522539138793945,\n",
       "  0.0003685951232910156,\n",
       "  0.0003733634948730469,\n",
       "  0.0003795623779296875,\n",
       "  0.0002894401550292969,\n",
       "  0.00026106834411621094,\n",
       "  0.0002689361572265625,\n",
       "  0.00024890899658203125,\n",
       "  0.0002703666687011719,\n",
       "  0.0002727508544921875,\n",
       "  0.00027298927307128906,\n",
       "  0.00025343894958496094,\n",
       "  0.00028133392333984375,\n",
       "  0.0002532005310058594,\n",
       "  0.0002760887145996094,\n",
       "  0.00026726722717285156,\n",
       "  0.00024700164794921875,\n",
       "  0.00025010108947753906,\n",
       "  0.00026154518127441406,\n",
       "  0.00028824806213378906,\n",
       "  0.00024700164794921875,\n",
       "  0.0002532005310058594,\n",
       "  0.0002658367156982422,\n",
       "  0.0002503395080566406,\n",
       "  0.0002446174621582031,\n",
       "  0.0002655982971191406,\n",
       "  0.0002503395080566406,\n",
       "  0.00027060508728027344,\n",
       "  0.0002722740173339844,\n",
       "  0.00028824806213378906,\n",
       "  0.0002658367156982422,\n",
       "  0.0002536773681640625,\n",
       "  0.00026607513427734375,\n",
       "  0.00028896331787109375,\n",
       "  0.0002543926239013672,\n",
       "  0.00026154518127441406,\n",
       "  0.000255584716796875,\n",
       "  0.00025773048400878906,\n",
       "  0.00025177001953125,\n",
       "  0.0003001689910888672,\n",
       "  0.0002639293670654297,\n",
       "  0.0002655982971191406,\n",
       "  0.0002739429473876953,\n",
       "  0.0002758502960205078,\n",
       "  0.0002658367156982422,\n",
       "  0.0002446174621582031,\n",
       "  0.0002608299255371094,\n",
       "  0.0002810955047607422,\n",
       "  0.00024390220642089844,\n",
       "  0.00026297569274902344,\n",
       "  0.00028324127197265625,\n",
       "  0.000263214111328125,\n",
       "  0.00026106834411621094,\n",
       "  0.00026345252990722656,\n",
       "  0.00025653839111328125,\n",
       "  0.00027060508728027344,\n",
       "  0.00026226043701171875,\n",
       "  0.0002636909484863281,\n",
       "  0.00024890899658203125,\n",
       "  0.0002434253692626953,\n",
       "  0.00026345252990722656,\n",
       "  0.0002465248107910156,\n",
       "  0.0002758502960205078,\n",
       "  0.00028395652770996094,\n",
       "  0.0002453327178955078,\n",
       "  0.00024580955505371094,\n",
       "  0.00024771690368652344,\n",
       "  0.0002589225769042969,\n",
       "  0.00026106834411621094,\n",
       "  0.0002491474151611328,\n",
       "  0.0002574920654296875,\n",
       "  0.0002493858337402344,\n",
       "  0.0002453327178955078,\n",
       "  0.0002732276916503906,\n",
       "  0.000255584716796875,\n",
       "  0.00028014183044433594,\n",
       "  0.0002498626708984375,\n",
       "  0.0002627372741699219,\n",
       "  0.0002646446228027344,\n",
       "  0.0002799034118652344,\n",
       "  0.0002646446228027344,\n",
       "  0.0002789497375488281,\n",
       "  0.0002601146697998047,\n",
       "  0.0002586841583251953,\n",
       "  0.000255584716796875,\n",
       "  0.0002512931823730469,\n",
       "  0.0002758502960205078,\n",
       "  0.00027489662170410156,\n",
       "  0.000274658203125,\n",
       "  0.0002541542053222656,\n",
       "  0.0002532005310058594,\n",
       "  0.00025272369384765625,\n",
       "  0.0002453327178955078,\n",
       "  0.000247955322265625,\n",
       "  0.00027751922607421875,\n",
       "  0.00024700164794921875,\n",
       "  0.0002498626708984375,\n",
       "  0.00023984909057617188,\n",
       "  0.00026297569274902344],\n",
       " 'func': [0,\n",
       "  0.6931471805599453,\n",
       "  0.3609767621629877,\n",
       "  0.40519277012363564,\n",
       "  0.8367036708880968,\n",
       "  0.2916973386082127,\n",
       "  0.2726605910831943,\n",
       "  0.25972986394907793,\n",
       "  0.22250261073584143,\n",
       "  0.24219973409819912,\n",
       "  0.24348876824366827,\n",
       "  0.21918331645190509,\n",
       "  0.24582930779522566,\n",
       "  0.22214900519474004,\n",
       "  0.22311885581112734,\n",
       "  0.19568449433996132,\n",
       "  0.21933426855607596,\n",
       "  0.1848006326986928,\n",
       "  0.20209875432924337,\n",
       "  0.18149950685122637,\n",
       "  0.27646499555496223,\n",
       "  0.20319119254530119,\n",
       "  0.2020617955320332,\n",
       "  0.2330348093574773,\n",
       "  0.21172212055073006,\n",
       "  0.19987619706572626,\n",
       "  0.19536343813543414,\n",
       "  0.1988304002849583,\n",
       "  0.16372139424106225,\n",
       "  0.1998529173367337,\n",
       "  0.16330096619948664,\n",
       "  0.20034514956740004,\n",
       "  0.1966672574288864,\n",
       "  0.16580850835161376,\n",
       "  0.16749999835432827,\n",
       "  0.16245592585012325,\n",
       "  0.2097455082824214,\n",
       "  0.1809241372976968,\n",
       "  0.1803666945964798,\n",
       "  0.16607600163302078,\n",
       "  0.20616079010486565,\n",
       "  0.1594604464276975,\n",
       "  0.16688336869523307,\n",
       "  0.16574583130312184,\n",
       "  0.15589783247879146,\n",
       "  0.17289090863891848,\n",
       "  0.17113580440153614,\n",
       "  0.18848788468908412,\n",
       "  0.13595394592338134,\n",
       "  0.17555389334585642,\n",
       "  0.18243928393401537,\n",
       "  0.16040053108302088,\n",
       "  0.17760084889289712,\n",
       "  0.1641825698469245,\n",
       "  0.15676489608471345,\n",
       "  0.15647186432481514,\n",
       "  0.19318460609313587,\n",
       "  0.15496423339121676,\n",
       "  0.1487436352493881,\n",
       "  0.15336476256832743,\n",
       "  0.14298789904766782,\n",
       "  0.14309693220886235,\n",
       "  0.18822194970149742,\n",
       "  0.2110604838383834,\n",
       "  0.14252602055827646,\n",
       "  0.13351201190027925,\n",
       "  0.16207685501614158,\n",
       "  0.1419150274035445,\n",
       "  0.18365099851850178,\n",
       "  0.15119713142305805,\n",
       "  0.16757093742431625,\n",
       "  0.21264073149168913,\n",
       "  0.16247738832858816,\n",
       "  0.14542011203203717,\n",
       "  0.14470063860464966,\n",
       "  0.1228141838930301,\n",
       "  0.17575686479635744,\n",
       "  0.13010917101428204,\n",
       "  0.13563224739516558,\n",
       "  0.16859567546565607,\n",
       "  0.15460359349927613,\n",
       "  0.17190064793417198,\n",
       "  0.13840678661868921,\n",
       "  0.14881456385063097,\n",
       "  0.13651437210501588,\n",
       "  0.1486533163876942,\n",
       "  0.17354616558565816,\n",
       "  0.16394527949135268,\n",
       "  0.14650450742309779,\n",
       "  0.15132287919123183,\n",
       "  0.14239245375505932,\n",
       "  0.14100533940740584,\n",
       "  0.1667470549843299,\n",
       "  0.1414597524032748,\n",
       "  0.1275294066761092,\n",
       "  0.1743773223093183,\n",
       "  0.1423727007442877,\n",
       "  0.12068385395462007,\n",
       "  0.13083375394603655,\n",
       "  0.1333265355992098],\n",
       " 'weights_diff': [0,\n",
       "  0,\n",
       "  6.1869334493717485,\n",
       "  1111.4004775984672,\n",
       "  199656.43171040193,\n",
       "  35867098.310168974,\n",
       "  6443312329.283273,\n",
       "  1157502996623.2505,\n",
       "  207938575490585.12,\n",
       "  3.735493670702535e+16,\n",
       "  6.710593708232177e+18,\n",
       "  1.2055185174091218e+21,\n",
       "  2.1656428015206807e+23,\n",
       "  3.890449359382712e+25,\n",
       "  6.988962449067531e+27,\n",
       "  1.2555258172599955e+30,\n",
       "  2.2554779615630807e+32,\n",
       "  4.051832917461466e+34,\n",
       "  7.278878477556388e+36,\n",
       "  1.3076075191231653e+39,\n",
       "  2.3490396622770096e+41,\n",
       "  4.2199109857142783e+43,\n",
       "  7.580820798100347e+45,\n",
       "  1.3618496733097134e+48,\n",
       "  2.4464824879629465e+50,\n",
       "  4.394961265705097e+52,\n",
       "  7.895288285154e+54,\n",
       "  1.4183418996683487e+57,\n",
       "  2.547967435384901e+59,\n",
       "  4.5772729786096935e+61,\n",
       "  8.2228005074741e+63,\n",
       "  1.4771775356569148e+66,\n",
       "  2.6536621797720525e+68,\n",
       "  4.767147343072042e+70,\n",
       "  8.563898586560419e+72,\n",
       "  1.5384537905562168e+75,\n",
       "  2.7637413518547807e+77,\n",
       "  4.964898072883006e+79,\n",
       "  8.919146090705787e+81,\n",
       "  1.6022719060808144e+84,\n",
       "  2.878386826392564e+86,\n",
       "  5.1708518953039836e+88,\n",
       "  9.28912996613411e+90,\n",
       "  1.6687373236525086e+93,\n",
       "  2.997788022670815e+95,\n",
       "  5.385349090891377e+97,\n",
       "  9.674461506763225e+99,\n",
       "  1.7379598586124647e+102,\n",
       "  3.1221422174626134e+104,\n",
       "  5.608744055714101e+106,\n",
       "  1.0075777364195287e+109,\n",
       "  1.8100538816600545e+111,\n",
       "  3.2516548709731076e+113,\n",
       "  5.841405886893331e+115,\n",
       "  1.0493740599604434e+118,\n",
       "  1.8851385078182224e+120,\n",
       "  3.386539966304344e+122,\n",
       "  6.083718992430965e+124,\n",
       "  1.092904177925743e+127,\n",
       "  1.9633377932373177e+129,\n",
       "  3.5270203630019563e+131,\n",
       "  6.336083726335506e+133,\n",
       "  1.1382400115479999e+136,\n",
       "  2.044780940163001e+138,\n",
       "  3.673328165267682e+140,\n",
       "  6.598917050093996e+142,\n",
       "  1.1854564654951873e+145,\n",
       "  2.1296025104063436e+147,\n",
       "  3.825705105446052e+149,\n",
       "  6.872653221583302e+151,\n",
       "  1.2346315516295411e+154,\n",
       "  inf,\n",
       "  inf,\n",
       "  inf,\n",
       "  inf,\n",
       "  inf,\n",
       "  inf,\n",
       "  inf,\n",
       "  inf,\n",
       "  inf,\n",
       "  inf,\n",
       "  inf,\n",
       "  inf,\n",
       "  inf,\n",
       "  inf,\n",
       "  inf,\n",
       "  inf,\n",
       "  inf,\n",
       "  inf,\n",
       "  inf,\n",
       "  inf,\n",
       "  inf,\n",
       "  inf,\n",
       "  inf,\n",
       "  inf,\n",
       "  inf,\n",
       "  inf,\n",
       "  inf,\n",
       "  inf,\n",
       "  inf],\n",
       " 'step_alpha': 1,\n",
       " 'step_beta': 0.001,\n",
       " 'w_0': array([0., 0., 0., ..., 0., 0., 0.]),\n",
       " 'batch_size': 512,\n",
       " 'classifier_type': 'SGD'}"
      ]
     },
     "execution_count": 76,
     "metadata": {},
     "output_type": "execute_result"
    }
   ],
   "source": [
    "%%time\n",
    "sgd_classifier.fit(train_data_processed_3_with_bias,\n",
    "                   target_train.values, trace=True, w_0=w_0)"
   ]
  },
  {
   "cell_type": "code",
   "execution_count": 77,
   "metadata": {},
   "outputs": [
    {
     "name": "stdout",
     "output_type": "stream",
     "text": [
      "CPU times: user 421 ms, sys: 4.2 ms, total: 425 ms\n",
      "Wall time: 53.1 ms\n"
     ]
    },
    {
     "data": {
      "text/plain": [
       "0.8918069259044302"
      ]
     },
     "execution_count": 77,
     "metadata": {},
     "output_type": "execute_result"
    }
   ],
   "source": [
    "%%time\n",
    "sum(sgd_classifier.predict(test_data_processed_3_with_bias) == target_test.values) / target_test.shape[0]"
   ]
  },
  {
   "cell_type": "code",
   "execution_count": null,
   "metadata": {},
   "outputs": [],
   "source": [
    "0.8918069259044302"
   ]
  }
 ],
 "metadata": {
  "kernelspec": {
   "display_name": "Python 3",
   "language": "python",
   "name": "python3"
  },
  "language_info": {
   "codemirror_mode": {
    "name": "ipython",
    "version": 3
   },
   "file_extension": ".py",
   "mimetype": "text/x-python",
   "name": "python",
   "nbconvert_exporter": "python",
   "pygments_lexer": "ipython3",
   "version": "3.7.5"
  }
 },
 "nbformat": 4,
 "nbformat_minor": 2
}
