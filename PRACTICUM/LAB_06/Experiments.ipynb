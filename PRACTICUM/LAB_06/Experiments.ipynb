{
 "cells": [
  {
   "cell_type": "code",
   "execution_count": 1,
   "metadata": {},
   "outputs": [],
   "source": [
    "import pandas as pd\n",
    "import numpy as np\n",
    "import seaborn as sns\n",
    "import matplotlib.pyplot as plt"
   ]
  },
  {
   "cell_type": "markdown",
   "metadata": {},
   "source": [
    "#### Загрузка данных"
   ]
  },
  {
   "cell_type": "code",
   "execution_count": 2,
   "metadata": {},
   "outputs": [],
   "source": [
    "train_data = pd.read_csv('data_toxic/toxic_train.csv', index_col=0)\n",
    "test_data = pd.read_csv('data_toxic/toxic_test.csv', index_col=0)"
   ]
  },
  {
   "cell_type": "code",
   "execution_count": 3,
   "metadata": {},
   "outputs": [
    {
     "data": {
      "text/plain": [
       "Text(0.5, 1, 'Распределение классов в трейне')"
      ]
     },
     "execution_count": 3,
     "metadata": {},
     "output_type": "execute_result"
    },
    {
     "data": {
      "image/png": "[encoded data removed]",
      "text/plain": [
       "<Figure size 360x360 with 1 Axes>"
      ]
     },
     "metadata": {
      "needs_background": "light"
     },
     "output_type": "display_data"
    }
   ],
   "source": [
    "sns.catplot(x='is_toxic', data=train_data, hue='is_toxic', kind='count')\n",
    "plt.title('Распределение классов в трейне')"
   ]
  },
  {
   "cell_type": "code",
   "execution_count": 4,
   "metadata": {},
   "outputs": [],
   "source": [
    "target_train = train_data['is_toxic'].map({True : 1, False : -1})\n",
    "train_data.drop(columns='is_toxic', inplace=True)"
   ]
  },
  {
   "cell_type": "markdown",
   "metadata": {},
   "source": [
    "### 1. Приводим к нижнему регистру и заменяем все символы, не являющиеся буквами или цифрами на пробелы"
   ]
  },
  {
   "cell_type": "code",
   "execution_count": 5,
   "metadata": {},
   "outputs": [],
   "source": [
    "train_data_processed_1 = train_data.copy()\n",
    "test_data_processed_1 = test_data.copy()"
   ]
  },
  {
   "cell_type": "code",
   "execution_count": 6,
   "metadata": {},
   "outputs": [],
   "source": [
    "import re\n",
    "\n",
    "def text_process_1(texts_series):\n",
    "    \"\"\"\n",
    "    Takes series with texts\n",
    "    returns series with preprocessed texts\n",
    "    (lower register + changed all symbols, which are not letter, number to spaces)\n",
    "    \"\"\"\n",
    "    \n",
    "    texts_series = texts_series.str.lower()\n",
    "    texts_series = texts_series.apply(lambda x: re.sub(r'\\W', ' ', x))\n",
    "    return texts_series"
   ]
  },
  {
   "cell_type": "code",
   "execution_count": 7,
   "metadata": {},
   "outputs": [],
   "source": [
    "train_data_processed_1 = text_process_1(train_data_processed_1['comment_text'])\n",
    "test_data_processed_1 = text_process_1(test_data_processed_1['comment_text'])"
   ]
  },
  {
   "cell_type": "markdown",
   "metadata": {},
   "source": [
    "### 2. Пользуемся CountVectorizer"
   ]
  },
  {
   "cell_type": "code",
   "execution_count": 8,
   "metadata": {},
   "outputs": [],
   "source": [
    "from sklearn.feature_extraction.text import CountVectorizer"
   ]
  },
  {
   "cell_type": "code",
   "execution_count": 9,
   "metadata": {},
   "outputs": [],
   "source": [
    "countVect = CountVectorizer(min_df=0.008)"
   ]
  },
  {
   "cell_type": "code",
   "execution_count": 10,
   "metadata": {},
   "outputs": [],
   "source": [
    "train_data_processed_2 = countVect.fit_transform(train_data_processed_1)\n",
    "test_data_processed_2 = countVect.transform(test_data_processed_1)"
   ]
  },
  {
   "cell_type": "code",
   "execution_count": 11,
   "metadata": {},
   "outputs": [
    {
     "data": {
      "text/plain": [
       "692"
      ]
     },
     "execution_count": 11,
     "metadata": {},
     "output_type": "execute_result"
    }
   ],
   "source": [
    "train_data_processed_2.shape[1]"
   ]
  },
  {
   "cell_type": "code",
   "execution_count": 12,
   "metadata": {},
   "outputs": [],
   "source": [
    "import optimization\n",
    "import scipy"
   ]
  },
  {
   "cell_type": "markdown",
   "metadata": {},
   "source": [
    "Add bias"
   ]
  },
  {
   "cell_type": "code",
   "execution_count": 13,
   "metadata": {},
   "outputs": [],
   "source": [
    "bias_feature_train = np.ones(train_data.shape[0])\n",
    "bias_feature_test = np.ones(test_data.shape[0])\n",
    "bias_feature_train = scipy.sparse.csr_matrix(bias_feature_train).T\n",
    "bias_feature_test = scipy.sparse.csr_matrix(bias_feature_test).T\n",
    "train_data_processed_2_with_bias = scipy.sparse.hstack([bias_feature_train, train_data_processed_2])\n",
    "test_data_processed_2_with_bias = scipy.sparse.hstack([bias_feature_test, test_data_processed_2])"
   ]
  },
  {
   "cell_type": "code",
   "execution_count": 14,
   "metadata": {},
   "outputs": [
    {
     "name": "stdout",
     "output_type": "stream",
     "text": [
      "CPU times: user 4 µs, sys: 0 ns, total: 4 µs\n",
      "Wall time: 5.72 µs\n"
     ]
    }
   ],
   "source": [
    "%%time\n",
    "def experiment_cycle(train_data, target, classifier_type,\n",
    "                     step_alpha_list, step_beta_list,\n",
    "                     w_0_list, batch_size_list):\n",
    "    for step_alpha in step_alpha_list:\n",
    "        for step_beta in step_beta_list:\n",
    "            for w_0 in w_0_list:\n",
    "#                 print(step_alpha)\n",
    "                clf = optimization.GDClassifier(step_alpha=step_alpha,\n",
    "                                                    step_beta=step_beta, experiment=True)\n",
    "                yield clf.fit(train_data,\n",
    "                                target,\n",
    "                                w_0=w_0,\n",
    "                                trace=True)\n",
    "                \n",
    "    for step_alpha in step_alpha_list:\n",
    "        for step_beta in step_beta_list:\n",
    "            for w_0 in w_0_list:\n",
    "                for batch_size in batch_size_list:\n",
    "                    clf = optimization.SGDClassifier(step_alpha=step_alpha,\n",
    "                                                     step_beta=step_beta,\n",
    "                                                     experiment=True, max_iter=1000,\n",
    "                                                     batch_size=batch_size)\n",
    "                    yield clf.fit(train_data_processed_2,\n",
    "                                  target,\n",
    "                                  w_0=w_0,\n",
    "                                  trace=True, log_freq=0.1)\n",
    "                    \n"
   ]
  },
  {
   "cell_type": "code",
   "execution_count": 15,
   "metadata": {},
   "outputs": [
    {
     "data": {
      "text/plain": [
       "(52061, 692)"
      ]
     },
     "execution_count": 15,
     "metadata": {},
     "output_type": "execute_result"
    }
   ],
   "source": [
    "train_data_processed_2.shape"
   ]
  },
  {
   "cell_type": "markdown",
   "metadata": {},
   "source": [
    "## ВАЖНО! Все эксперименты будут проводиться с добавлением смещения в веса, которое не будет учитываться в регуляризации (чтобы даже в том случае, когда регуляризация занулит почти все веса, наша разделяющая гиперплоскость не вырождалась в 0)"
   ]
  },
  {
   "cell_type": "code",
   "execution_count": 91,
   "metadata": {},
   "outputs": [
    {
     "data": {
      "application/vnd.jupyter.widget-view+json": {
       "model_id": "4cab814487974353872f882d6f54dfcf",
       "version_major": 2,
       "version_minor": 0
      },
      "text/plain": [
       "HBox(children=(IntProgress(value=1, bar_style='info', max=1), HTML(value='')))"
      ]
     },
     "metadata": {},
     "output_type": "display_data"
    },
    {
     "name": "stdout",
     "output_type": "stream",
     "text": [
      "\n"
     ]
    }
   ],
   "source": [
    "import tqdm\n",
    "history_list = []\n",
    "step_alpha_list = [0.001, 0.01, 0.1, 1, 5, 10, 15, 20, 25]\n",
    "# step_alpha_list = [0.1]\n",
    "step_beta_list = [0, 0.001, 0.01, 0.1, 1, 5, 10, 15, 20, 25]\n",
    "batch_size_list = [1, 128, 256, 512, 1024, 1024 * 4, 1024 * 10, 1024 * 20]\n",
    "w_0_list = [None]\n",
    "for history in tqdm.tqdm_notebook(experiment_cycle(train_data_processed_2_with_bias, target_train.values, 'SGD',\n",
    "                                step_alpha_list,\n",
    "                                step_beta_list,\n",
    "                                w_0_list=w_0_list,\n",
    "                                batch_size_list=batch_size_list)):\n",
    "    history_list.append(history)"
   ]
  },
  {
   "cell_type": "code",
   "execution_count": 92,
   "metadata": {},
   "outputs": [],
   "source": [
    "keys_for_df = ['time', 'func', 'accuracy']"
   ]
  },
  {
   "cell_type": "code",
   "execution_count": 93,
   "metadata": {},
   "outputs": [
    {
     "data": {
      "text/plain": [
       "(1001, 1001, 1001)"
      ]
     },
     "execution_count": 93,
     "metadata": {},
     "output_type": "execute_result"
    }
   ],
   "source": [
    "len(history_list[0]['time']), len(history_list[0]['func']), len(history_list[0]['accuracy']),"
   ]
  },
  {
   "cell_type": "code",
   "execution_count": 94,
   "metadata": {},
   "outputs": [
    {
     "data": {
      "text/plain": [
       "('GD', 1)"
      ]
     },
     "execution_count": 94,
     "metadata": {},
     "output_type": "execute_result"
    }
   ],
   "source": [
    "history_list[50]['classifier_type'], history_list[30]['step_alpha']"
   ]
  },
  {
   "cell_type": "code",
   "execution_count": 95,
   "metadata": {},
   "outputs": [],
   "source": [
    "hist_0_df = pd.DataFrame({key: history_list[29][key] for key in keys_for_df})\n",
    "hist_1_df = pd.DataFrame({key: history_list[300][key] for key in keys_for_df})"
   ]
  },
  {
   "cell_type": "code",
   "execution_count": 96,
   "metadata": {},
   "outputs": [
    {
     "data": {
      "text/plain": [
       "<matplotlib.axes._subplots.AxesSubplot at 0x7efba43283d0>"
      ]
     },
     "execution_count": 96,
     "metadata": {},
     "output_type": "execute_result"
    },
    {
     "data": {
      "image/png": "[encoded data removed]",
      "text/plain": [
       "<Figure size 432x288 with 1 Axes>"
      ]
     },
     "metadata": {
      "needs_background": "light"
     },
     "output_type": "display_data"
    }
   ],
   "source": [
    "sns.lineplot(x = np.cumsum(np.arange(len(hist_0_df['accuracy']))), y=hist_0_df['accuracy'])\n",
    "sns.lineplot(x = np.cumsum(np.arange(len(hist_1_df['accuracy']))), y=hist_1_df['accuracy'])\n",
    "# plt.semilogy()"
   ]
  },
  {
   "cell_type": "code",
   "execution_count": 97,
   "metadata": {},
   "outputs": [],
   "source": [
    "import pickle\n",
    "with open('GD_SGD_step_alpha_beta_batch_size.pkl', 'wb') as f:\n",
    "    pickle.dump(history_list, f)"
   ]
  },
  {
   "cell_type": "markdown",
   "metadata": {},
   "source": [
    "## Эксперименты с различными начальными приближениями:\n",
    "https://datascience.stackexchange.com/questions/30989/what-are-the-cases-where-it-is-fine-to-initialize-all-weights-to-zero\n",
    "###   Рассмотрим 6 экспериментов: \n",
    "1) w_0 = 0\n",
    "2) w_0 = uniform(0, 1)\n",
    "3) w_0 = uniform(100, 500)\n",
    "4) w_0 = uniform(1000, 5000)\n",
    "5) w_0 = uniform (10000, 50000)\n",
    "6) w_0 = normal with mean = 0, std = 1"
   ]
  },
  {
   "cell_type": "code",
   "execution_count": 33,
   "metadata": {},
   "outputs": [],
   "source": [
    "w_0_list = []\n",
    "w_0_list.append(np.zeros(train_data_processed_2_with_bias.shape[1]))\n",
    "w_0_list.append(np.random.uniform(0, 1, size=train_data_processed_2_with_bias.shape[1]))\n",
    "w_0_list.append(np.random.uniform(100, 500, size=train_data_processed_2_with_bias.shape[1]))\n",
    "w_0_list.append(np.random.uniform(1000, 5000, size=train_data_processed_2_with_bias.shape[1]))\n",
    "w_0_list.append(np.random.uniform(10000, 50000, size=train_data_processed_2_with_bias.shape[1]))\n",
    "w_0_list.append(np.random.normal(0, 1, size=train_data_processed_2_with_bias.shape[1]))"
   ]
  },
  {
   "cell_type": "markdown",
   "metadata": {},
   "source": [
    "###  Выберем лучшие параметры из прошлого эксперимента:"
   ]
  },
  {
   "cell_type": "code",
   "execution_count": 60,
   "metadata": {},
   "outputs": [],
   "source": [
    "import pickle \n",
    "history_list = []\n",
    "with open('GD_SGD_step_alpha_beta_batch_size.pkl', 'rb') as f:\n",
    "    history_list = pickle.load(f)"
   ]
  },
  {
   "cell_type": "code",
   "execution_count": 61,
   "metadata": {},
   "outputs": [],
   "source": [
    "max_acc = 0\n",
    "arg_max = 0\n",
    "for i, history in enumerate(history_list):\n",
    "    if np.max(history['accuracy']) > max_acc:\n",
    "        max_acc = np.max(history['accuracy'])\n",
    "        arg_max = i\n",
    "    "
   ]
  },
  {
   "cell_type": "code",
   "execution_count": 62,
   "metadata": {},
   "outputs": [
    {
     "name": "stdout",
     "output_type": "stream",
     "text": [
      "10 0.1\n"
     ]
    }
   ],
   "source": [
    "print(history_list[arg_max]['step_alpha'],\n",
    "      history_list[arg_max]['step_beta'])"
   ]
  },
  {
   "cell_type": "code",
   "execution_count": 59,
   "metadata": {},
   "outputs": [
    {
     "data": {
      "text/plain": [
       "0.8786734105896664"
      ]
     },
     "execution_count": 59,
     "metadata": {},
     "output_type": "execute_result"
    }
   ],
   "source": [
    "import tqdm\n",
    "history_list = []\n",
    "step_alpha_list = [h]\n",
    "# step_alpha_list = [0.1]\n",
    "step_beta_list = [0, 0.001, 0.01, 0.1, 1, 5, 10, 15, 20, 25]\n",
    "batch_size_list = [1, 128, 256, 512, 1024, 1024 * 4, 1024 * 10, 1024 * 20]\n",
    "w_0_list = [None]\n",
    "for history in tqdm.tqdm_notebook(experiment_cycle(train_data_processed_2_with_bias, target_train.values, 'SGD',\n",
    "                                step_alpha_list,\n",
    "                                step_beta_list,\n",
    "                                w_0_list=w_0_list,\n",
    "                                batch_size_list=batch_size_list)):\n",
    "    history_list.append(history)"
   ]
  },
  {
   "cell_type": "code",
   "execution_count": 21,
   "metadata": {},
   "outputs": [
    {
     "name": "stderr",
     "output_type": "stream",
     "text": [
      "[nltk_data] Downloading package wordnet to /home/paniquex/nltk_data...\n",
      "[nltk_data]   Package wordnet is already up-to-date!\n"
     ]
    },
    {
     "data": {
      "text/plain": [
       "True"
      ]
     },
     "execution_count": 21,
     "metadata": {},
     "output_type": "execute_result"
    }
   ],
   "source": [
    "import nltk\n",
    "nltk.download('wordnet')"
   ]
  },
  {
   "cell_type": "code",
   "execution_count": 22,
   "metadata": {},
   "outputs": [],
   "source": [
    "lemmatizer = nltk.WordNetLemmatizer() "
   ]
  },
  {
   "cell_type": "code",
   "execution_count": 23,
   "metadata": {},
   "outputs": [
    {
     "data": {
      "text/plain": [
       "0         explanation why the edits made under my userna...\n",
       "1         d aww  he matches this background colour i m s...\n",
       "2         hey man  i m really not trying to edit war  it...\n",
       "3           more i can t make any real suggestions on im...\n",
       "4         you  sir  are my hero  any chance you remember...\n",
       "                                ...                        \n",
       "159494        our previous conversation   you fucking sh...\n",
       "159514                    you are a mischievious pubic hair\n",
       "159541    your absurd edits   your absurd edits on great...\n",
       "159546       hey listen don t you ever     delete my edi...\n",
       "159554    and i m going to keep posting the stuff u dele...\n",
       "Name: comment_text, Length: 52061, dtype: object"
      ]
     },
     "execution_count": 23,
     "metadata": {},
     "output_type": "execute_result"
    }
   ],
   "source": [
    "train_data_processed_1"
   ]
  },
  {
   "cell_type": "code",
   "execution_count": 24,
   "metadata": {},
   "outputs": [
    {
     "name": "stdout",
     "output_type": "stream",
     "text": [
      "CPU times: user 11.7 s, sys: 84 ms, total: 11.8 s\n",
      "Wall time: 11.8 s\n"
     ]
    }
   ],
   "source": [
    "%%time\n",
    "train_data_processed_lemmatized = train_data_processed_1.apply(lambda x: x.split()).apply(lambda x: [lemmatizer.lemmatize(elem) for elem in x])\n",
    "test_data_processed_lemmatized = test_data_processed_1.apply(lambda x: x.split()).apply(lambda x: [lemmatizer.lemmatize(elem) for elem in x])"
   ]
  },
  {
   "cell_type": "code",
   "execution_count": 25,
   "metadata": {},
   "outputs": [
    {
     "name": "stderr",
     "output_type": "stream",
     "text": [
      "[nltk_data] Downloading package stopwords to\n",
      "[nltk_data]     /home/paniquex/nltk_data...\n",
      "[nltk_data]   Package stopwords is already up-to-date!\n"
     ]
    }
   ],
   "source": [
    "from nltk.corpus import stopwords\n",
    "nltk.download('stopwords')\n",
    "stopwords_set = set(stopwords.words('english'))"
   ]
  },
  {
   "cell_type": "code",
   "execution_count": 26,
   "metadata": {},
   "outputs": [
    {
     "name": "stdout",
     "output_type": "stream",
     "text": [
      "CPU times: user 362 ms, sys: 3.99 ms, total: 366 ms\n",
      "Wall time: 366 ms\n"
     ]
    }
   ],
   "source": [
    "%%time\n",
    "train_data_processed_3 = train_data_processed_lemmatized.apply(lambda x: [elem for elem in x if elem not in stopwords_set])\n",
    "train_data_processed_3 = train_data_processed_3.apply(lambda x: ' '.join(x))\n",
    "\n",
    "test_data_processed_3 = test_data_processed_lemmatized.apply(lambda x: [elem for elem in x if elem not in stopwords_set])\n",
    "test_data_processed_3 = test_data_processed_3.apply(lambda x: ' '.join(x))"
   ]
  },
  {
   "cell_type": "code",
   "execution_count": 27,
   "metadata": {},
   "outputs": [
    {
     "name": "stdout",
     "output_type": "stream",
     "text": [
      "CPU times: user 1.15 s, sys: 3.99 ms, total: 1.15 s\n",
      "Wall time: 1.15 s\n"
     ]
    },
    {
     "data": {
      "text/plain": [
       "<52061x580 sparse matrix of type '<class 'numpy.int64'>'\n",
       "\twith 673750 stored elements in Compressed Sparse Row format>"
      ]
     },
     "execution_count": 27,
     "metadata": {},
     "output_type": "execute_result"
    }
   ],
   "source": [
    "%%time\n",
    "countVect.fit_transform(train_data_processed_3)"
   ]
  },
  {
   "cell_type": "code",
   "execution_count": null,
   "metadata": {},
   "outputs": [],
   "source": []
  }
 ],
 "metadata": {
  "kernelspec": {
   "display_name": "Python 3",
   "language": "python",
   "name": "python3"
  },
  "language_info": {
   "codemirror_mode": {
    "name": "ipython",
    "version": 3
   },
   "file_extension": ".py",
   "mimetype": "text/x-python",
   "name": "python",
   "nbconvert_exporter": "python",
   "pygments_lexer": "ipython3",
   "version": "3.7.5"
  }
 },
 "nbformat": 4,
 "nbformat_minor": 2
}
