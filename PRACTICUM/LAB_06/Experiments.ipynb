{
 "cells": [
  {
   "cell_type": "markdown",
   "metadata": {},
   "source": [
    "## Эксперименты к практическому заданию №2 по логистической регресии.\n",
    "\n",
    "### Accuracy на каждой эпохе будет считаться на отложенной части тренировочной выборки (30 %). Причем внутри обучения ('best_weights' в history) будут сохраняться \"лучшие веса\" модели - веса, при которых была достигнута наилучшая точность на отложенной части, если  save_best_weights == True, а в противном случае - по ключу 'best_weights' будут лежать веса заключительной эпохи."
   ]
  },
  {
   "cell_type": "code",
   "execution_count": 1,
   "metadata": {},
   "outputs": [],
   "source": [
    "import pandas as pd\n",
    "import numpy as np\n",
    "import seaborn as sns\n",
    "import matplotlib.pyplot as plt\n",
    "import scipy"
   ]
  },
  {
   "cell_type": "markdown",
   "metadata": {},
   "source": [
    "#### Загрузка данных"
   ]
  },
  {
   "cell_type": "code",
   "execution_count": 2,
   "metadata": {},
   "outputs": [],
   "source": [
    "train_data = pd.read_csv('data_toxic/toxic_train.csv', index_col=0)\n",
    "test_data = pd.read_csv('data_toxic/toxic_test.csv', index_col=0)"
   ]
  },
  {
   "cell_type": "code",
   "execution_count": 3,
   "metadata": {},
   "outputs": [
    {
     "data": {
      "text/plain": [
       "Text(0.5, 1, 'Распределение классов в трейне')"
      ]
     },
     "execution_count": 3,
     "metadata": {},
     "output_type": "execute_result"
    },
    {
     "data": {
      "image/png": "[encoded data removed]",
      "text/plain": [
       "<Figure size 360x360 with 1 Axes>"
      ]
     },
     "metadata": {
      "needs_background": "light"
     },
     "output_type": "display_data"
    }
   ],
   "source": [
    "sns.catplot(x='is_toxic', data=train_data, hue='is_toxic', kind='count')\n",
    "plt.title('Распределение классов в трейне')"
   ]
  },
  {
   "cell_type": "code",
   "execution_count": 4,
   "metadata": {},
   "outputs": [],
   "source": [
    "target_train = train_data['is_toxic'].map({True : 1, False : -1})\n",
    "train_data.drop(columns='is_toxic', inplace=True)"
   ]
  },
  {
   "cell_type": "markdown",
   "metadata": {},
   "source": [
    "### 1. Приводим к нижнему регистру и заменяем все символы, не являющиеся буквами или цифрами на пробелы"
   ]
  },
  {
   "cell_type": "code",
   "execution_count": 5,
   "metadata": {},
   "outputs": [],
   "source": [
    "train_data_processed_1 = train_data.copy()\n",
    "test_data_processed_1 = test_data.copy()"
   ]
  },
  {
   "cell_type": "code",
   "execution_count": 6,
   "metadata": {},
   "outputs": [],
   "source": [
    "import re\n",
    "\n",
    "def text_process_1(texts_series):\n",
    "    \"\"\"\n",
    "    Takes series with texts\n",
    "    returns series with preprocessed texts\n",
    "    (lower register + changed all symbols, which are not letter, number to spaces)\n",
    "    \"\"\"\n",
    "    \n",
    "    texts_series = texts_series.str.lower()\n",
    "    texts_series = texts_series.apply(lambda x: re.sub(r'\\W', ' ', x))\n",
    "    return texts_series"
   ]
  },
  {
   "cell_type": "code",
   "execution_count": 7,
   "metadata": {},
   "outputs": [],
   "source": [
    "train_data_processed_1 = text_process_1(train_data_processed_1['comment_text'])\n",
    "test_data_processed_1 = text_process_1(test_data_processed_1['comment_text'])"
   ]
  },
  {
   "cell_type": "markdown",
   "metadata": {},
   "source": [
    "### 2. Пользуемся CountVectorizer"
   ]
  },
  {
   "cell_type": "code",
   "execution_count": 8,
   "metadata": {},
   "outputs": [],
   "source": [
    "from sklearn.feature_extraction.text import CountVectorizer\n",
    "countVect = CountVectorizer(min_df=3e-6, lowercase=False)"
   ]
  },
  {
   "cell_type": "code",
   "execution_count": 9,
   "metadata": {},
   "outputs": [],
   "source": [
    "train_data_processed_2 = countVect.fit_transform(train_data_processed_1)\n",
    "test_data_processed_2 = countVect.transform(test_data_processed_1)"
   ]
  },
  {
   "cell_type": "code",
   "execution_count": 10,
   "metadata": {},
   "outputs": [
    {
     "data": {
      "text/plain": [
       "91839"
      ]
     },
     "execution_count": 10,
     "metadata": {},
     "output_type": "execute_result"
    }
   ],
   "source": [
    "train_data_processed_2.shape[1]"
   ]
  },
  {
   "cell_type": "code",
   "execution_count": 11,
   "metadata": {},
   "outputs": [],
   "source": [
    "import optimization\n",
    "import scipy"
   ]
  },
  {
   "cell_type": "markdown",
   "metadata": {},
   "source": [
    "Add bias"
   ]
  },
  {
   "cell_type": "code",
   "execution_count": 12,
   "metadata": {},
   "outputs": [],
   "source": [
    "bias_feature_train = np.ones(train_data.shape[0])\n",
    "bias_feature_test = np.ones(test_data.shape[0])\n",
    "bias_feature_train = scipy.sparse.csr_matrix(bias_feature_train).T\n",
    "bias_feature_test = scipy.sparse.csr_matrix(bias_feature_test).T\n",
    "train_data_processed_2_with_bias = scipy.sparse.hstack([bias_feature_train, train_data_processed_2])\n",
    "test_data_processed_2_with_bias = scipy.sparse.hstack([bias_feature_test, test_data_processed_2])"
   ]
  },
  {
   "cell_type": "code",
   "execution_count": 13,
   "metadata": {},
   "outputs": [
    {
     "name": "stdout",
     "output_type": "stream",
     "text": [
      "CPU times: user 19 µs, sys: 0 ns, total: 19 µs\n",
      "Wall time: 3.81 µs\n"
     ]
    }
   ],
   "source": [
    "%%time\n",
    "def experiment_cycle(train_data, target,\n",
    "                     step_alpha_list, step_beta_list,\n",
    "                     w_0_list, batch_size_list, l2_coef=5e-5):\n",
    "    for step_alpha in step_alpha_list:\n",
    "        for step_beta in step_beta_list:\n",
    "            for w_0 in w_0_list:\n",
    "#                 print(step_alpha)\n",
    "                clf = optimization.GDClassifier(step_alpha=step_alpha,\n",
    "                                                step_beta=step_beta,\n",
    "                                                experiment=True,\n",
    "                                                l2_coef=l2_coef,\n",
    "                                                max_iter=1500)\n",
    "                yield clf.fit(train_data,\n",
    "                                target,\n",
    "                                w_0=w_0,\n",
    "                                trace=True)\n",
    "                \n",
    "    for step_alpha in step_alpha_list:\n",
    "        for step_beta in step_beta_list:\n",
    "            for w_0 in w_0_list:\n",
    "                for batch_size in batch_size_list:\n",
    "                    clf = optimization.SGDClassifier(step_alpha=step_alpha,\n",
    "                                                     step_beta=step_beta,\n",
    "                                                     experiment=True,\n",
    "                                                     max_iter=1500,\n",
    "                                                     batch_size=batch_size, \n",
    "                                                     l2_coef=l2_coef)\n",
    "                    yield clf.fit(train_data,\n",
    "                                  target,\n",
    "                                  w_0=w_0,\n",
    "                                  trace=True, log_freq=0.1)\n",
    "                    \n"
   ]
  },
  {
   "cell_type": "code",
   "execution_count": 14,
   "metadata": {},
   "outputs": [
    {
     "data": {
      "text/plain": [
       "(52061, 91839)"
      ]
     },
     "execution_count": 14,
     "metadata": {},
     "output_type": "execute_result"
    }
   ],
   "source": [
    "train_data_processed_2.shape"
   ]
  },
  {
   "cell_type": "markdown",
   "metadata": {},
   "source": [
    "## ВАЖНО! Все эксперименты будут проводиться с добавлением смещения в веса, которое не будет учитываться в регуляризации (чтобы даже в том случае, когда регуляризация занулит почти все веса, наша разделяющая гиперплоскость не вырождалась в 0)"
   ]
  },
  {
   "cell_type": "code",
   "execution_count": 15,
   "metadata": {},
   "outputs": [
    {
     "data": {
      "application/vnd.jupyter.widget-view+json": {
       "model_id": "c8aa195eac9848e09fcd066095705095",
       "version_major": 2,
       "version_minor": 0
      },
      "text/plain": [
       "HBox(children=(IntProgress(value=1, bar_style='info', max=1), HTML(value='')))"
      ]
     },
     "metadata": {},
     "output_type": "display_data"
    },
    {
     "name": "stdout",
     "output_type": "stream",
     "text": [
      "\n"
     ]
    }
   ],
   "source": [
    "import tqdm\n",
    "history_list = []\n",
    "step_alpha_list = [0.001, 0.01, 0.1, 1, 5, 10, 50]\n",
    "# step_alpha_list = [0.1]\n",
    "step_beta_list = [0, 0.001, 0.01, 0.1, 1, 5, 10, 50]\n",
    "batch_size_list = [1, 64, 128, 1024, 1024 * 4, 1024 * 10, 1024 * 20]\n",
    "w_0_list = [None]\n",
    "for history in tqdm.tqdm_notebook(experiment_cycle(train_data_processed_2_with_bias, target_train.values,\n",
    "                                step_alpha_list,\n",
    "                                step_beta_list,\n",
    "                                w_0_list=w_0_list,\n",
    "                                batch_size_list=batch_size_list)):\n",
    "    history_list.append(history)"
   ]
  },
  {
   "cell_type": "code",
   "execution_count": 16,
   "metadata": {},
   "outputs": [],
   "source": [
    "keys_for_df = ['time', 'func', 'accuracy']"
   ]
  },
  {
   "cell_type": "code",
   "execution_count": 17,
   "metadata": {},
   "outputs": [
    {
     "data": {
      "text/plain": [
       "(1501, 1501, 1501)"
      ]
     },
     "execution_count": 17,
     "metadata": {},
     "output_type": "execute_result"
    }
   ],
   "source": [
    "len(history_list[0]['time']), len(history_list[0]['func']), len(history_list[0]['accuracy']),"
   ]
  },
  {
   "cell_type": "code",
   "execution_count": 18,
   "metadata": {},
   "outputs": [
    {
     "data": {
      "text/plain": [
       "('GD', 1)"
      ]
     },
     "execution_count": 18,
     "metadata": {},
     "output_type": "execute_result"
    }
   ],
   "source": [
    "history_list[1]['classifier_type'], history_list[30]['step_alpha']"
   ]
  },
  {
   "cell_type": "code",
   "execution_count": 19,
   "metadata": {},
   "outputs": [
    {
     "data": {
      "text/plain": [
       "{'time': [0,\n",
       "  0.41362810134887695,\n",
       "  0.0059473514556884766,\n",
       "  0.005877494812011719,\n",
       "  0.0059413909912109375,\n",
       "  0.005832195281982422,\n",
       "  0.0059909820556640625,\n",
       "  0.005923271179199219,\n",
       "  0.0058879852294921875,\n",
       "  0.005861759185791016,\n",
       "  0.005864143371582031,\n",
       "  0.005863189697265625,\n",
       "  0.005959272384643555,\n",
       "  0.005846500396728516,\n",
       "  0.005953550338745117,\n",
       "  0.00586700439453125,\n",
       "  0.005940675735473633,\n",
       "  0.00590062141418457,\n",
       "  0.005211591720581055,\n",
       "  0.0058917999267578125,\n",
       "  0.004858732223510742,\n",
       "  0.005307197570800781,\n",
       "  0.0059545040130615234,\n",
       "  0.0058286190032958984,\n",
       "  0.0060384273529052734,\n",
       "  0.005909442901611328,\n",
       "  0.005918025970458984,\n",
       "  0.005855083465576172,\n",
       "  0.005929470062255859,\n",
       "  0.005823850631713867,\n",
       "  0.006012439727783203,\n",
       "  0.005408048629760742,\n",
       "  0.005896568298339844,\n",
       "  0.0058329105377197266,\n",
       "  0.006033420562744141,\n",
       "  0.005944967269897461,\n",
       "  0.0059163570404052734,\n",
       "  0.00597834587097168,\n",
       "  0.0059795379638671875,\n",
       "  0.004984378814697266,\n",
       "  0.005983829498291016,\n",
       "  0.005873918533325195,\n",
       "  0.005919456481933594,\n",
       "  0.0050449371337890625,\n",
       "  0.005902290344238281,\n",
       "  0.005897998809814453,\n",
       "  0.006020545959472656,\n",
       "  0.00590825080871582,\n",
       "  0.00604248046875,\n",
       "  0.005854368209838867,\n",
       "  0.006038665771484375,\n",
       "  0.005909919738769531,\n",
       "  0.005904674530029297,\n",
       "  0.005850791931152344,\n",
       "  0.005972146987915039,\n",
       "  0.005918264389038086,\n",
       "  0.005952358245849609,\n",
       "  0.0059282779693603516,\n",
       "  0.005967378616333008,\n",
       "  0.005086660385131836,\n",
       "  0.00591278076171875,\n",
       "  0.005945444107055664,\n",
       "  0.0059664249420166016,\n",
       "  0.005953788757324219,\n",
       "  0.005937337875366211,\n",
       "  0.0058176517486572266,\n",
       "  0.0050737857818603516,\n",
       "  0.00592041015625,\n",
       "  0.005923748016357422,\n",
       "  0.005902528762817383,\n",
       "  0.005892276763916016,\n",
       "  0.005894899368286133,\n",
       "  0.004777669906616211,\n",
       "  0.0060923099517822266,\n",
       "  0.005879878997802734,\n",
       "  0.005925655364990234,\n",
       "  0.005924224853515625,\n",
       "  0.005832672119140625,\n",
       "  0.00539088249206543,\n",
       "  0.005945920944213867,\n",
       "  0.005892276763916016,\n",
       "  0.005972146987915039,\n",
       "  0.0059587955474853516,\n",
       "  0.005841255187988281,\n",
       "  0.005873203277587891,\n",
       "  0.005964040756225586,\n",
       "  0.005928993225097656,\n",
       "  0.005844593048095703,\n",
       "  0.005936145782470703,\n",
       "  0.005911350250244141,\n",
       "  0.005894899368286133,\n",
       "  0.005868673324584961,\n",
       "  0.005890369415283203,\n",
       "  0.005861997604370117,\n",
       "  0.005919456481933594,\n",
       "  0.005898952484130859,\n",
       "  0.0058727264404296875,\n",
       "  0.005926609039306641,\n",
       "  0.005509138107299805,\n",
       "  0.005830049514770508,\n",
       "  0.005879402160644531,\n",
       "  0.0059545040130615234,\n",
       "  0.006097316741943359,\n",
       "  0.005936145782470703,\n",
       "  0.005896091461181641,\n",
       "  0.005887031555175781,\n",
       "  0.006352901458740234,\n",
       "  0.004700183868408203,\n",
       "  0.0052356719970703125,\n",
       "  0.004801034927368164,\n",
       "  0.005788326263427734,\n",
       "  0.005883455276489258,\n",
       "  0.005949258804321289,\n",
       "  0.0060160160064697266,\n",
       "  0.005070686340332031,\n",
       "  0.004802227020263672,\n",
       "  0.005924224853515625,\n",
       "  0.0058879852294921875,\n",
       "  0.0058515071868896484,\n",
       "  0.005867719650268555,\n",
       "  0.005892276763916016,\n",
       "  0.00604701042175293,\n",
       "  0.005782127380371094,\n",
       "  0.005931854248046875,\n",
       "  0.006081342697143555,\n",
       "  0.005995035171508789,\n",
       "  0.004938602447509766,\n",
       "  0.005957365036010742,\n",
       "  0.005900144577026367,\n",
       "  0.005835294723510742,\n",
       "  0.005907773971557617,\n",
       "  0.005983114242553711,\n",
       "  0.005922794342041016,\n",
       "  0.0058307647705078125,\n",
       "  0.006016731262207031,\n",
       "  0.005898714065551758,\n",
       "  0.0059814453125,\n",
       "  0.005944252014160156,\n",
       "  0.005962848663330078,\n",
       "  0.005895137786865234,\n",
       "  0.0058977603912353516,\n",
       "  0.005797624588012695,\n",
       "  0.0060117244720458984,\n",
       "  0.0058746337890625,\n",
       "  0.005906820297241211,\n",
       "  0.005853176116943359,\n",
       "  0.005997180938720703,\n",
       "  0.006103992462158203,\n",
       "  0.0076847076416015625,\n",
       "  0.005939960479736328,\n",
       "  0.005934238433837891,\n",
       "  0.005869626998901367,\n",
       "  0.0059549808502197266,\n",
       "  0.005891323089599609,\n",
       "  0.005899190902709961,\n",
       "  0.005907773971557617,\n",
       "  0.0064508914947509766,\n",
       "  0.0064983367919921875,\n",
       "  0.005026102066040039,\n",
       "  0.0058553218841552734,\n",
       "  0.005913496017456055,\n",
       "  0.005906820297241211,\n",
       "  0.0059125423431396484,\n",
       "  0.0059397220611572266,\n",
       "  0.0059282779693603516,\n",
       "  0.005877017974853516,\n",
       "  0.005894184112548828,\n",
       "  0.005892276763916016,\n",
       "  0.00591278076171875,\n",
       "  0.005918979644775391,\n",
       "  0.00592803955078125,\n",
       "  0.00597691535949707,\n",
       "  0.005983591079711914,\n",
       "  0.005897045135498047,\n",
       "  0.005845546722412109,\n",
       "  0.005910634994506836,\n",
       "  0.00593113899230957,\n",
       "  0.005966663360595703,\n",
       "  0.005809307098388672,\n",
       "  0.005835533142089844,\n",
       "  0.005892038345336914,\n",
       "  0.005958080291748047,\n",
       "  0.0058612823486328125,\n",
       "  0.005951642990112305,\n",
       "  0.005950450897216797,\n",
       "  0.005936861038208008,\n",
       "  0.005907535552978516,\n",
       "  0.00589752197265625,\n",
       "  0.0057947635650634766,\n",
       "  0.005971670150756836,\n",
       "  0.005840778350830078,\n",
       "  0.0058786869049072266,\n",
       "  0.0058939456939697266,\n",
       "  0.0058443546295166016,\n",
       "  0.004693746566772461,\n",
       "  0.005166292190551758,\n",
       "  0.005900144577026367,\n",
       "  0.005898237228393555,\n",
       "  0.0059359073638916016,\n",
       "  0.00594782829284668,\n",
       "  0.0059375762939453125,\n",
       "  0.005883216857910156,\n",
       "  0.0058743953704833984,\n",
       "  0.004738569259643555,\n",
       "  0.0058672428131103516,\n",
       "  0.005896806716918945,\n",
       "  0.005939483642578125,\n",
       "  0.0058710575103759766,\n",
       "  0.005906105041503906,\n",
       "  0.005921363830566406,\n",
       "  0.006022214889526367,\n",
       "  0.005921363830566406,\n",
       "  0.005861043930053711,\n",
       "  0.005881547927856445,\n",
       "  0.005939006805419922,\n",
       "  0.005588054656982422,\n",
       "  0.005881547927856445,\n",
       "  0.005929470062255859,\n",
       "  0.0060079097747802734,\n",
       "  0.0059130191802978516,\n",
       "  0.005863666534423828,\n",
       "  0.005890369415283203,\n",
       "  0.005892038345336914,\n",
       "  0.0060083866119384766,\n",
       "  0.005999565124511719,\n",
       "  0.005971431732177734,\n",
       "  0.005141019821166992,\n",
       "  0.0048694610595703125,\n",
       "  0.005940437316894531,\n",
       "  0.005933523178100586,\n",
       "  0.005490303039550781,\n",
       "  0.005006313323974609,\n",
       "  0.005931854248046875,\n",
       "  0.004897356033325195,\n",
       "  0.0058591365814208984,\n",
       "  0.005889892578125,\n",
       "  0.005898952484130859,\n",
       "  0.005919694900512695,\n",
       "  0.00591588020324707,\n",
       "  0.0058746337890625,\n",
       "  0.0058782100677490234,\n",
       "  0.005835294723510742,\n",
       "  0.005922794342041016,\n",
       "  0.005820751190185547,\n",
       "  0.005947113037109375,\n",
       "  0.005927085876464844,\n",
       "  0.0050144195556640625,\n",
       "  0.0058193206787109375,\n",
       "  0.0059356689453125,\n",
       "  0.0046405792236328125,\n",
       "  0.0046651363372802734,\n",
       "  0.0048313140869140625,\n",
       "  0.00594782829284668,\n",
       "  0.005843162536621094,\n",
       "  0.0059468746185302734,\n",
       "  0.005997180938720703,\n",
       "  0.005856752395629883,\n",
       "  0.005841255187988281,\n",
       "  0.005894660949707031,\n",
       "  0.005926847457885742,\n",
       "  0.00589299201965332,\n",
       "  0.005932331085205078,\n",
       "  0.00597381591796875,\n",
       "  0.005890607833862305,\n",
       "  0.005895137786865234,\n",
       "  0.005896568298339844,\n",
       "  0.005988597869873047,\n",
       "  0.005900382995605469,\n",
       "  0.004839658737182617,\n",
       "  0.005959510803222656,\n",
       "  0.00587153434753418,\n",
       "  0.005873918533325195,\n",
       "  0.005827426910400391,\n",
       "  0.005864381790161133,\n",
       "  0.005965709686279297,\n",
       "  0.005868434906005859,\n",
       "  0.00596928596496582,\n",
       "  0.00599360466003418,\n",
       "  0.005900144577026367,\n",
       "  0.005888700485229492,\n",
       "  0.005974769592285156,\n",
       "  0.005270481109619141,\n",
       "  0.004942893981933594,\n",
       "  0.004687309265136719,\n",
       "  0.00583195686340332,\n",
       "  0.00584864616394043,\n",
       "  0.005949735641479492,\n",
       "  0.005897998809814453,\n",
       "  0.0047795772552490234,\n",
       "  0.004777193069458008,\n",
       "  0.004683971405029297,\n",
       "  0.0052182674407958984,\n",
       "  0.0059392452239990234,\n",
       "  0.005914926528930664,\n",
       "  0.00591588020324707,\n",
       "  0.0048215389251708984,\n",
       "  0.004774332046508789,\n",
       "  0.005930662155151367,\n",
       "  0.00589299201965332,\n",
       "  0.0058939456939697266,\n",
       "  0.0059070587158203125,\n",
       "  0.006003141403198242,\n",
       "  0.005846738815307617,\n",
       "  0.005413055419921875,\n",
       "  0.0058422088623046875,\n",
       "  0.005990743637084961,\n",
       "  0.0057849884033203125,\n",
       "  0.005913496017456055,\n",
       "  0.005882978439331055,\n",
       "  0.006020307540893555,\n",
       "  0.005852222442626953,\n",
       "  0.005981922149658203,\n",
       "  0.005263328552246094,\n",
       "  0.006022453308105469,\n",
       "  0.005793571472167969,\n",
       "  0.005875825881958008,\n",
       "  0.0058705806732177734,\n",
       "  0.005875825881958008,\n",
       "  0.005849123001098633,\n",
       "  0.005980968475341797,\n",
       "  0.005825996398925781,\n",
       "  0.005917549133300781,\n",
       "  0.005898952484130859,\n",
       "  0.00603938102722168,\n",
       "  0.005842447280883789,\n",
       "  0.0049495697021484375,\n",
       "  0.005800962448120117,\n",
       "  0.005915641784667969,\n",
       "  0.005806922912597656,\n",
       "  0.005845546722412109,\n",
       "  0.005806684494018555,\n",
       "  0.005950450897216797,\n",
       "  0.005861520767211914,\n",
       "  0.005857944488525391,\n",
       "  0.005855083465576172,\n",
       "  0.0058977603912353516,\n",
       "  0.005856037139892578,\n",
       "  0.005913257598876953,\n",
       "  0.0058476924896240234,\n",
       "  0.005967617034912109,\n",
       "  0.005898237228393555,\n",
       "  0.005898237228393555,\n",
       "  0.005944013595581055,\n",
       "  0.005946636199951172,\n",
       "  0.005927324295043945,\n",
       "  0.00610661506652832,\n",
       "  0.0053119659423828125,\n",
       "  0.00621485710144043,\n",
       "  0.005906343460083008,\n",
       "  0.005213022232055664,\n",
       "  0.00583195686340332,\n",
       "  0.005964517593383789,\n",
       "  0.005845069885253906,\n",
       "  0.005931377410888672,\n",
       "  0.0058786869049072266,\n",
       "  0.006003141403198242,\n",
       "  0.005843400955200195,\n",
       "  0.005864381790161133,\n",
       "  0.005846977233886719,\n",
       "  0.005914449691772461,\n",
       "  0.005861759185791016,\n",
       "  0.005388498306274414,\n",
       "  0.005023956298828125,\n",
       "  0.005877971649169922,\n",
       "  0.005842924118041992,\n",
       "  0.005957126617431641,\n",
       "  0.005836009979248047,\n",
       "  0.005982398986816406,\n",
       "  0.005892753601074219,\n",
       "  0.0054128170013427734,\n",
       "  0.005849361419677734,\n",
       "  0.005906820297241211,\n",
       "  0.005835056304931641,\n",
       "  0.005944490432739258,\n",
       "  0.005806922912597656,\n",
       "  0.0059926509857177734,\n",
       "  0.005829811096191406,\n",
       "  0.005851268768310547,\n",
       "  0.005847930908203125,\n",
       "  0.0059909820556640625,\n",
       "  0.00507354736328125,\n",
       "  0.0059986114501953125,\n",
       "  0.005892753601074219,\n",
       "  0.006006479263305664,\n",
       "  0.0059051513671875,\n",
       "  0.0059092044830322266,\n",
       "  0.0054128170013427734,\n",
       "  0.005917549133300781,\n",
       "  0.005944013595581055,\n",
       "  0.005876064300537109,\n",
       "  0.005898714065551758,\n",
       "  0.00493168830871582,\n",
       "  0.0057830810546875,\n",
       "  0.0058519840240478516,\n",
       "  0.005830049514770508,\n",
       "  0.005939483642578125,\n",
       "  0.005831718444824219,\n",
       "  0.005882978439331055,\n",
       "  0.005927562713623047,\n",
       "  0.005967617034912109,\n",
       "  0.005877494812011719,\n",
       "  0.0048601627349853516,\n",
       "  0.005022764205932617,\n",
       "  0.0048525333404541016,\n",
       "  0.005120277404785156,\n",
       "  0.005926370620727539,\n",
       "  0.005906343460083008,\n",
       "  0.005901813507080078,\n",
       "  0.005907773971557617,\n",
       "  0.005989789962768555,\n",
       "  0.005923271179199219,\n",
       "  0.005877017974853516,\n",
       "  0.005815982818603516,\n",
       "  0.005902767181396484,\n",
       "  0.0058460235595703125,\n",
       "  0.005600452423095703,\n",
       "  0.005826234817504883,\n",
       "  0.0058972835540771484,\n",
       "  0.005919933319091797,\n",
       "  0.0059010982513427734,\n",
       "  0.005897998809814453,\n",
       "  0.005797624588012695,\n",
       "  0.005248308181762695,\n",
       "  0.00493931770324707,\n",
       "  0.005973339080810547,\n",
       "  0.005853891372680664,\n",
       "  0.005863189697265625,\n",
       "  0.0058324337005615234,\n",
       "  0.005200862884521484,\n",
       "  0.005893707275390625,\n",
       "  0.005904436111450195,\n",
       "  0.005880832672119141,\n",
       "  0.005174398422241211,\n",
       "  0.005913257598876953,\n",
       "  0.005829572677612305,\n",
       "  0.005847930908203125,\n",
       "  0.0058557987213134766,\n",
       "  0.005922794342041016,\n",
       "  0.005850315093994141,\n",
       "  0.005918979644775391,\n",
       "  0.005880594253540039,\n",
       "  0.005866050720214844,\n",
       "  0.005889177322387695,\n",
       "  0.0058672428131103516,\n",
       "  0.005824089050292969,\n",
       "  0.006005287170410156,\n",
       "  0.005868196487426758,\n",
       "  0.004807949066162109,\n",
       "  0.005291461944580078,\n",
       "  0.0058557987213134766,\n",
       "  0.005872488021850586,\n",
       "  0.00587010383605957,\n",
       "  0.005877971649169922,\n",
       "  0.0059244632720947266,\n",
       "  0.005886077880859375,\n",
       "  0.005833864212036133,\n",
       "  0.005886554718017578,\n",
       "  0.005906820297241211,\n",
       "  0.005921840667724609,\n",
       "  0.005895376205444336,\n",
       "  0.005912065505981445,\n",
       "  0.005982398986816406,\n",
       "  0.005946636199951172,\n",
       "  0.005096912384033203,\n",
       "  0.0058825016021728516,\n",
       "  0.005962848663330078,\n",
       "  0.005913734436035156,\n",
       "  0.005901813507080078,\n",
       "  0.006001710891723633,\n",
       "  0.004704952239990234,\n",
       "  0.005028486251831055,\n",
       "  0.005072593688964844,\n",
       "  0.005957841873168945,\n",
       "  0.004711151123046875,\n",
       "  0.006144285202026367,\n",
       "  0.0058345794677734375,\n",
       "  0.005842447280883789,\n",
       "  0.005791187286376953,\n",
       "  0.005888223648071289,\n",
       "  0.005815029144287109,\n",
       "  0.005938053131103516,\n",
       "  0.005811929702758789,\n",
       "  0.0059053897857666016,\n",
       "  0.005968570709228516,\n",
       "  0.005951404571533203,\n",
       "  0.005906820297241211,\n",
       "  0.005679607391357422,\n",
       "  0.005831003189086914,\n",
       "  0.005828142166137695,\n",
       "  0.0058689117431640625,\n",
       "  0.005906343460083008,\n",
       "  0.005854606628417969,\n",
       "  0.00593876838684082,\n",
       "  0.0048139095306396484,\n",
       "  0.004804134368896484,\n",
       "  0.00465703010559082,\n",
       "  0.004721164703369141,\n",
       "  0.00474095344543457,\n",
       "  0.005049943923950195,\n",
       "  0.0059511661529541016,\n",
       "  0.005816221237182617,\n",
       "  0.005972146987915039,\n",
       "  0.0058972835540771484,\n",
       "  0.004993915557861328,\n",
       "  0.005852222442626953,\n",
       "  0.0059702396392822266,\n",
       "  0.005827903747558594,\n",
       "  0.0055654048919677734,\n",
       "  0.005891323089599609,\n",
       "  0.005852699279785156,\n",
       "  0.005867958068847656,\n",
       "  0.0050048828125,\n",
       "  0.005933284759521484,\n",
       "  0.005906820297241211,\n",
       "  0.005903720855712891,\n",
       "  0.005959033966064453,\n",
       "  0.00470733642578125,\n",
       "  0.005204916000366211,\n",
       "  0.0058634281158447266,\n",
       "  0.006034135818481445,\n",
       "  0.005896806716918945,\n",
       "  0.0059773921966552734,\n",
       "  0.005764484405517578,\n",
       "  0.005970478057861328,\n",
       "  0.0050868988037109375,\n",
       "  0.0059816837310791016,\n",
       "  0.005849123001098633,\n",
       "  0.005876302719116211,\n",
       "  0.005841732025146484,\n",
       "  0.00596308708190918,\n",
       "  0.005892515182495117,\n",
       "  0.005916595458984375,\n",
       "  0.005942821502685547,\n",
       "  0.0059473514556884766,\n",
       "  0.005888938903808594,\n",
       "  0.005867481231689453,\n",
       "  0.005849123001098633,\n",
       "  0.00588536262512207,\n",
       "  0.005892038345336914,\n",
       "  0.005917549133300781,\n",
       "  0.005894899368286133,\n",
       "  0.005938529968261719,\n",
       "  0.005816936492919922,\n",
       "  0.005946636199951172,\n",
       "  0.0058896541595458984,\n",
       "  0.0058956146240234375,\n",
       "  0.005873203277587891,\n",
       "  0.0059130191802978516,\n",
       "  0.005875349044799805,\n",
       "  0.005892753601074219,\n",
       "  0.005814790725708008,\n",
       "  0.005852937698364258,\n",
       "  0.005850791931152344,\n",
       "  0.005945682525634766,\n",
       "  0.0058786869049072266,\n",
       "  0.005960702896118164,\n",
       "  0.0058879852294921875,\n",
       "  0.0058782100677490234,\n",
       "  0.005828380584716797,\n",
       "  0.005883455276489258,\n",
       "  0.005838632583618164,\n",
       "  0.005988359451293945,\n",
       "  0.005822658538818359,\n",
       "  0.005940675735473633,\n",
       "  0.005044221878051758,\n",
       "  0.005425453186035156,\n",
       "  0.005898475646972656,\n",
       "  0.005988597869873047,\n",
       "  0.0054547786712646484,\n",
       "  0.005976676940917969,\n",
       "  0.0058863162994384766,\n",
       "  0.005553722381591797,\n",
       "  0.005921602249145508,\n",
       "  0.006062507629394531,\n",
       "  0.0058383941650390625,\n",
       "  0.005948066711425781,\n",
       "  0.005856037139892578,\n",
       "  0.006047248840332031,\n",
       "  0.005833625793457031,\n",
       "  0.0061228275299072266,\n",
       "  0.004831075668334961,\n",
       "  0.0058765411376953125,\n",
       "  0.005796909332275391,\n",
       "  0.005842447280883789,\n",
       "  0.005868673324584961,\n",
       "  0.005783796310424805,\n",
       "  0.0059354305267333984,\n",
       "  0.005938291549682617,\n",
       "  0.00580286979675293,\n",
       "  0.005922794342041016,\n",
       "  0.005898475646972656,\n",
       "  0.005879402160644531,\n",
       "  0.005900144577026367,\n",
       "  0.005914926528930664,\n",
       "  0.00595545768737793,\n",
       "  0.004744052886962891,\n",
       "  0.0047168731689453125,\n",
       "  0.004718780517578125,\n",
       "  0.005063295364379883,\n",
       "  0.005842924118041992,\n",
       "  0.0060079097747802734,\n",
       "  0.006032705307006836,\n",
       "  0.005994558334350586,\n",
       "  0.005930662155151367,\n",
       "  0.005927562713623047,\n",
       "  0.0059888362884521484,\n",
       "  0.0059413909912109375,\n",
       "  0.005024909973144531,\n",
       "  0.0058765411376953125,\n",
       "  0.005915641784667969,\n",
       "  0.005879402160644531,\n",
       "  0.005898714065551758,\n",
       "  0.0058939456939697266,\n",
       "  0.005944013595581055,\n",
       "  0.005891323089599609,\n",
       "  0.0059070587158203125,\n",
       "  0.005827188491821289,\n",
       "  0.004710674285888672,\n",
       "  0.005246400833129883,\n",
       "  0.005883693695068359,\n",
       "  0.005948543548583984,\n",
       "  0.0058591365814208984,\n",
       "  0.005848407745361328,\n",
       "  0.005846500396728516,\n",
       "  0.005884647369384766,\n",
       "  0.005919694900512695,\n",
       "  0.005804777145385742,\n",
       "  0.005827903747558594,\n",
       "  0.005903959274291992,\n",
       "  0.005971431732177734,\n",
       "  0.005934238433837891,\n",
       "  0.005971670150756836,\n",
       "  0.0058746337890625,\n",
       "  0.005892038345336914,\n",
       "  0.0059354305267333984,\n",
       "  0.005818605422973633,\n",
       "  0.005907535552978516,\n",
       "  0.0058825016021728516,\n",
       "  0.005005598068237305,\n",
       "  0.00579380989074707,\n",
       "  0.0058939456939697266,\n",
       "  0.0059146881103515625,\n",
       "  0.005888938903808594,\n",
       "  0.005892276763916016,\n",
       "  0.005863666534423828,\n",
       "  0.0058078765869140625,\n",
       "  0.0049228668212890625,\n",
       "  0.005934000015258789,\n",
       "  0.005972862243652344,\n",
       "  0.005851268768310547,\n",
       "  0.005826473236083984,\n",
       "  0.005828857421875,\n",
       "  0.005873203277587891,\n",
       "  0.005779743194580078,\n",
       "  0.005927562713623047,\n",
       "  0.00593256950378418,\n",
       "  0.005995035171508789,\n",
       "  0.0058574676513671875,\n",
       "  0.005947113037109375,\n",
       "  0.005078554153442383,\n",
       "  0.005860090255737305,\n",
       "  0.005939006805419922,\n",
       "  0.005971193313598633,\n",
       "  0.0048503875732421875,\n",
       "  0.004895210266113281,\n",
       "  0.005839824676513672,\n",
       "  0.005873203277587891,\n",
       "  0.005896091461181641,\n",
       "  0.005845785140991211,\n",
       "  0.0057830810546875,\n",
       "  0.005976676940917969,\n",
       "  0.005787372589111328,\n",
       "  0.0059909820556640625,\n",
       "  0.005254268646240234,\n",
       "  0.0060329437255859375,\n",
       "  0.0058689117431640625,\n",
       "  0.00599217414855957,\n",
       "  0.004676342010498047,\n",
       "  0.005951642990112305,\n",
       "  0.00584864616394043,\n",
       "  0.005955696105957031,\n",
       "  0.005830287933349609,\n",
       "  0.005972385406494141,\n",
       "  0.005783557891845703,\n",
       "  0.005869626998901367,\n",
       "  0.005888223648071289,\n",
       "  0.005902767181396484,\n",
       "  0.0058591365814208984,\n",
       "  0.00599360466003418,\n",
       "  0.005873918533325195,\n",
       "  0.005994558334350586,\n",
       "  0.005883693695068359,\n",
       "  0.005996227264404297,\n",
       "  0.005816221237182617,\n",
       "  0.006045818328857422,\n",
       "  0.005249977111816406,\n",
       "  0.00595855712890625,\n",
       "  0.00591588020324707,\n",
       "  0.005200624465942383,\n",
       "  0.005898237228393555,\n",
       "  0.006009101867675781,\n",
       "  0.00592350959777832,\n",
       "  0.005953550338745117,\n",
       "  0.0058443546295166016,\n",
       "  0.005954265594482422,\n",
       "  0.005087375640869141,\n",
       "  0.00597381591796875,\n",
       "  0.005785703659057617,\n",
       "  0.00595402717590332,\n",
       "  0.005782604217529297,\n",
       "  0.005857229232788086,\n",
       "  0.00473332405090332,\n",
       "  0.004823446273803711,\n",
       "  0.005880594253540039,\n",
       "  0.005852222442626953,\n",
       "  0.005891561508178711,\n",
       "  0.005934000015258789,\n",
       "  0.005864143371582031,\n",
       "  0.005802631378173828,\n",
       "  0.005842924118041992,\n",
       "  0.005877256393432617,\n",
       "  0.005846977233886719,\n",
       "  0.005826711654663086,\n",
       "  0.005949258804321289,\n",
       "  0.0059299468994140625,\n",
       "  0.00579071044921875,\n",
       "  0.005881071090698242,\n",
       "  0.005851030349731445,\n",
       "  0.005858659744262695,\n",
       "  0.005851268768310547,\n",
       "  0.005892753601074219,\n",
       "  0.005908489227294922,\n",
       "  0.0059702396392822266,\n",
       "  0.0058746337890625,\n",
       "  0.0058176517486572266,\n",
       "  0.0058460235595703125,\n",
       "  0.005896091461181641,\n",
       "  0.0058498382568359375,\n",
       "  0.005907297134399414,\n",
       "  0.005858421325683594,\n",
       "  0.005918979644775391,\n",
       "  0.005821704864501953,\n",
       "  0.005864143371582031,\n",
       "  0.005906105041503906,\n",
       "  0.00603485107421875,\n",
       "  0.0053348541259765625,\n",
       "  0.005925893783569336,\n",
       "  0.005912065505981445,\n",
       "  0.005887031555175781,\n",
       "  0.005792856216430664,\n",
       "  0.005806446075439453,\n",
       "  0.007493495941162109,\n",
       "  0.006980419158935547,\n",
       "  0.004986286163330078,\n",
       "  0.005995512008666992,\n",
       "  0.005858421325683594,\n",
       "  0.005963563919067383,\n",
       "  0.0058443546295166016,\n",
       "  0.005900144577026367,\n",
       "  0.0058116912841796875,\n",
       "  0.005968332290649414,\n",
       "  0.005936622619628906,\n",
       "  0.00586700439453125,\n",
       "  0.0058329105377197266,\n",
       "  0.006033420562744141,\n",
       "  0.005811929702758789,\n",
       "  0.005872964859008789,\n",
       "  0.005899667739868164,\n",
       "  0.0059087276458740234,\n",
       "  0.005820274353027344,\n",
       "  0.0059051513671875,\n",
       "  0.0058858394622802734,\n",
       "  0.00597691535949707,\n",
       "  0.0058557987213134766,\n",
       "  0.006009817123413086,\n",
       "  0.005197286605834961,\n",
       "  0.005898237228393555,\n",
       "  0.005850315093994141,\n",
       "  0.005943775177001953,\n",
       "  0.004680633544921875,\n",
       "  0.0048635005950927734,\n",
       "  0.005844831466674805,\n",
       "  0.00587916374206543,\n",
       "  0.005855560302734375,\n",
       "  0.0059702396392822266,\n",
       "  0.005858182907104492,\n",
       "  0.005785942077636719,\n",
       "  0.0059053897857666016,\n",
       "  0.005866050720214844,\n",
       "  0.005824089050292969,\n",
       "  0.0058248043060302734,\n",
       "  0.005857944488525391,\n",
       "  0.005827903747558594,\n",
       "  0.005028724670410156,\n",
       "  0.005872488021850586,\n",
       "  0.005860567092895508,\n",
       "  0.00595402717590332,\n",
       "  0.005827188491821289,\n",
       "  0.005843639373779297,\n",
       "  0.00596165657043457,\n",
       "  0.0058710575103759766,\n",
       "  0.005780696868896484,\n",
       "  0.005894660949707031,\n",
       "  0.0058746337890625,\n",
       "  0.005863666534423828,\n",
       "  0.005896091461181641,\n",
       "  0.005878448486328125,\n",
       "  0.005850315093994141,\n",
       "  0.0057985782623291016,\n",
       "  0.00587773323059082,\n",
       "  0.005892276763916016,\n",
       "  0.005891084671020508,\n",
       "  0.004912137985229492,\n",
       "  0.005900144577026367,\n",
       "  0.005813121795654297,\n",
       "  0.005818843841552734,\n",
       "  0.005938053131103516,\n",
       "  0.005926847457885742,\n",
       "  0.00582575798034668,\n",
       "  0.0058329105377197266,\n",
       "  0.005886554718017578,\n",
       "  0.004959821701049805,\n",
       "  0.0058209896087646484,\n",
       "  0.00587916374206543,\n",
       "  0.0059413909912109375,\n",
       "  0.005990266799926758,\n",
       "  0.005814313888549805,\n",
       "  0.005883932113647461,\n",
       "  0.006109952926635742,\n",
       "  0.0059239864349365234,\n",
       "  0.0058367252349853516,\n",
       "  0.006000995635986328,\n",
       "  0.004903316497802734,\n",
       "  0.0047757625579833984,\n",
       "  0.004954814910888672,\n",
       "  0.005922794342041016,\n",
       "  0.005884647369384766,\n",
       "  0.005842685699462891,\n",
       "  0.005860328674316406,\n",
       "  0.005850791931152344,\n",
       "  0.005891084671020508,\n",
       "  0.004706382751464844,\n",
       "  0.004762172698974609,\n",
       "  0.0047261714935302734,\n",
       "  0.005253791809082031,\n",
       "  0.00583338737487793,\n",
       "  0.005827188491821289,\n",
       "  0.0059583187103271484,\n",
       "  0.005827665328979492,\n",
       "  0.005915641784667969,\n",
       "  0.005957603454589844,\n",
       "  0.005849361419677734,\n",
       "  0.005844593048095703,\n",
       "  0.005869865417480469,\n",
       "  0.005909919738769531,\n",
       "  0.004683256149291992,\n",
       "  0.005892038345336914,\n",
       "  0.005925893783569336,\n",
       "  0.005879640579223633,\n",
       "  0.005875825881958008,\n",
       "  0.0058209896087646484,\n",
       "  0.005946636199951172,\n",
       "  0.0047109127044677734,\n",
       "  0.005036354064941406,\n",
       "  0.005890846252441406,\n",
       "  0.005929231643676758,\n",
       "  0.0058248043060302734,\n",
       "  0.005891084671020508,\n",
       "  0.0058095455169677734,\n",
       "  0.005820751190185547,\n",
       "  0.004755973815917969,\n",
       "  0.0047380924224853516,\n",
       "  0.00590825080871582,\n",
       "  0.0053637027740478516,\n",
       "  0.00595545768737793,\n",
       "  0.005986928939819336,\n",
       "  0.0058765411376953125,\n",
       "  0.005830287933349609,\n",
       "  0.005819082260131836,\n",
       "  0.0052564144134521484,\n",
       "  0.005872011184692383,\n",
       "  0.005898237228393555,\n",
       "  0.005870819091796875,\n",
       "  0.00590062141418457,\n",
       "  0.005865812301635742,\n",
       "  0.005795955657958984,\n",
       "  0.0046656131744384766,\n",
       "  0.0047299861907958984,\n",
       "  0.004727840423583984,\n",
       "  0.00505518913269043,\n",
       "  0.0058095455169677734,\n",
       "  0.0057370662689208984,\n",
       "  0.005965709686279297,\n",
       "  0.005845069885253906,\n",
       "  0.005909919738769531,\n",
       "  0.005901336669921875,\n",
       "  0.0059108734130859375,\n",
       "  0.005841732025146484,\n",
       "  0.0058956146240234375,\n",
       "  0.005850791931152344,\n",
       "  0.005835771560668945,\n",
       "  0.005900859832763672,\n",
       "  0.005860805511474609,\n",
       "  0.0058519840240478516,\n",
       "  0.00591588020324707,\n",
       "  0.005840778350830078,\n",
       "  0.0058972835540771484,\n",
       "  0.005828857421875,\n",
       "  0.005839109420776367,\n",
       "  0.005891561508178711,\n",
       "  0.005835056304931641,\n",
       "  0.0058765411376953125,\n",
       "  0.005896568298339844,\n",
       "  0.0058078765869140625,\n",
       "  0.005887746810913086,\n",
       "  0.00580143928527832,\n",
       "  0.005928754806518555,\n",
       "  0.006021738052368164,\n",
       "  0.005860328674316406,\n",
       "  0.005888223648071289,\n",
       "  0.005877494812011719,\n",
       "  0.005895137786865234,\n",
       "  0.00593256950378418,\n",
       "  0.005785703659057617,\n",
       "  0.005845308303833008,\n",
       "  0.005864143371582031,\n",
       "  0.005889177322387695,\n",
       "  0.0058825016021728516,\n",
       "  0.005970954895019531,\n",
       "  0.005850791931152344,\n",
       "  0.005832195281982422,\n",
       "  0.005828857421875,\n",
       "  0.005902767181396484,\n",
       "  0.005572319030761719,\n",
       "  0.005902528762817383,\n",
       "  0.005875825881958008,\n",
       "  0.005929231643676758,\n",
       "  0.005821704864501953,\n",
       "  0.005826711654663086,\n",
       "  0.005949974060058594,\n",
       "  0.005991220474243164,\n",
       "  0.005860090255737305,\n",
       "  0.005849361419677734,\n",
       "  0.005938053131103516,\n",
       "  0.0059316158294677734,\n",
       "  0.005814075469970703,\n",
       "  0.005873203277587891,\n",
       "  0.005838871002197266,\n",
       "  0.005894899368286133,\n",
       "  0.004721879959106445,\n",
       "  0.00529026985168457,\n",
       "  0.005831718444824219,\n",
       "  0.00595402717590332,\n",
       "  0.005956411361694336,\n",
       "  0.0059168338775634766,\n",
       "  0.005814552307128906,\n",
       "  0.005951404571533203,\n",
       "  0.005894660949707031,\n",
       "  0.0059223175048828125,\n",
       "  0.005828380584716797,\n",
       "  0.005878925323486328,\n",
       "  0.005841970443725586,\n",
       "  0.005809307098388672,\n",
       "  0.005837440490722656,\n",
       "  0.006025552749633789,\n",
       "  0.005801677703857422,\n",
       "  0.0059010982513427734,\n",
       "  0.00584721565246582,\n",
       "  0.005884408950805664,\n",
       "  0.004723072052001953,\n",
       "  0.005508899688720703,\n",
       "  0.00471186637878418,\n",
       "  0.004818916320800781,\n",
       "  0.0052340030670166016,\n",
       "  0.005816936492919922,\n",
       "  0.005855560302734375,\n",
       "  0.005894184112548828,\n",
       "  0.005936861038208008,\n",
       "  0.005839347839355469,\n",
       "  0.005834102630615234,\n",
       "  0.005880117416381836,\n",
       "  0.00582122802734375,\n",
       "  0.005860805511474609,\n",
       "  0.0058994293212890625,\n",
       "  0.005795478820800781,\n",
       "  0.005840301513671875,\n",
       "  0.005835294723510742,\n",
       "  0.0058917999267578125,\n",
       "  0.00587916374206543,\n",
       "  0.005961894989013672,\n",
       "  0.005823850631713867,\n",
       "  0.005903959274291992,\n",
       "  0.005859375,\n",
       "  0.0058481693267822266,\n",
       "  0.00490117073059082,\n",
       "  0.005089998245239258,\n",
       "  0.005887269973754883,\n",
       "  0.005963802337646484,\n",
       "  0.0058765411376953125,\n",
       "  0.004910945892333984,\n",
       "  ...],\n",
       " 'func': [0,\n",
       "  24.91433348648354,\n",
       "  7.609683654363863,\n",
       "  3.405087790641594,\n",
       "  3.0121149780946865,\n",
       "  2.7183012453536444,\n",
       "  2.6572371955962963,\n",
       "  4.209310352225506,\n",
       "  3.186362034398579,\n",
       "  6.832437711961315,\n",
       "  2.328869171494769,\n",
       "  2.3670250236539783,\n",
       "  3.96121915697051,\n",
       "  2.7916094630993626,\n",
       "  6.272707485493946,\n",
       "  2.1809952703702304,\n",
       "  2.3134505592180568,\n",
       "  4.046673404844338,\n",
       "  2.5365450823778364,\n",
       "  5.28173776904557,\n",
       "  1.949914386381991,\n",
       "  1.805171994091335,\n",
       "  1.933195821516058,\n",
       "  3.5981093075981523,\n",
       "  2.454340728243456,\n",
       "  5.558772221381059,\n",
       "  1.8206243659464563,\n",
       "  1.8351029006082054,\n",
       "  1.9176651548493209,\n",
       "  2.5802156449240417,\n",
       "  6.802339359392631,\n",
       "  2.193936698625803,\n",
       "  2.0006002100962372,\n",
       "  2.519376815570136,\n",
       "  2.7813745844416844,\n",
       "  6.394135652840172,\n",
       "  2.0920334358177852,\n",
       "  2.095462786083217,\n",
       "  2.693220979305426,\n",
       "  2.3009315443460214,\n",
       "  4.60297239151735,\n",
       "  1.6867739351185507,\n",
       "  1.6575549664074505,\n",
       "  1.9097526687473962,\n",
       "  3.169911792986627,\n",
       "  2.0643221208217084,\n",
       "  3.542174956651321,\n",
       "  1.7451145982571963,\n",
       "  2.1659452625409554,\n",
       "  2.2373584822653627,\n",
       "  4.781646398762244,\n",
       "  1.6531433144545338,\n",
       "  1.600219771702629,\n",
       "  1.5164822717743922,\n",
       "  1.558691151265463,\n",
       "  2.0517534086858156,\n",
       "  4.996756928495717,\n",
       "  1.643888067883616,\n",
       "  1.5671214688404091,\n",
       "  1.476362456198026,\n",
       "  1.6000334274904668,\n",
       "  2.4040815786950103,\n",
       "  2.6026467624680603,\n",
       "  6.594041435109715,\n",
       "  2.248679357018752,\n",
       "  1.6963226116294607,\n",
       "  1.7614906396421905,\n",
       "  1.8735043194091654,\n",
       "  3.6905846375775853,\n",
       "  1.6808489075109672,\n",
       "  1.9357152331685394,\n",
       "  1.9466570776015026,\n",
       "  3.7639797685208847,\n",
       "  1.6491971612913843,\n",
       "  1.8512678287772135,\n",
       "  2.275298177778602,\n",
       "  5.263310651633804,\n",
       "  1.793083222910251,\n",
       "  1.6864955308379352,\n",
       "  2.0922927802547067,\n",
       "  1.894867323770494,\n",
       "  3.1903043350259495,\n",
       "  1.6081724918980047,\n",
       "  1.742787777697824,\n",
       "  1.8808527435832567,\n",
       "  3.344242556792713,\n",
       "  1.5943747995883828,\n",
       "  1.9511137457978347,\n",
       "  1.9641317505774518,\n",
       "  3.8787990212305723,\n",
       "  1.5054532717920595,\n",
       "  1.4785758868786896,\n",
       "  1.632339492006091,\n",
       "  2.3668338313927153,\n",
       "  2.122025121701027,\n",
       "  4.637734466465238,\n",
       "  1.474064774748662,\n",
       "  1.3625180070038916,\n",
       "  1.3589777414888724,\n",
       "  1.42837848653333,\n",
       "  2.0724252459278247,\n",
       "  2.161033874970202,\n",
       "  5.612158287872894,\n",
       "  1.6870866791848276,\n",
       "  1.4954304763031372,\n",
       "  1.503608604040085,\n",
       "  1.60546510323895,\n",
       "  2.543350047407865,\n",
       "  1.8176388794850529,\n",
       "  2.9089063682397294,\n",
       "  1.6648678410403168,\n",
       "  2.615774181813437,\n",
       "  1.6376531791506248,\n",
       "  2.461798589497375,\n",
       "  1.6995766366366118,\n",
       "  2.4090706004760234,\n",
       "  1.7443176615936138,\n",
       "  2.7593560139223876,\n",
       "  1.5109423935522956,\n",
       "  1.9935266962918363,\n",
       "  1.8764757273126491,\n",
       "  3.700302199723012,\n",
       "  1.38203726266102,\n",
       "  1.338648654731621,\n",
       "  1.3112005460805718,\n",
       "  1.5681645689828643,\n",
       "  1.6539096769325046,\n",
       "  3.3303228534444718,\n",
       "  1.3716161557677826,\n",
       "  1.4925545787252368,\n",
       "  1.772305831587651,\n",
       "  3.8389545243455716,\n",
       "  1.407346646159548,\n",
       "  1.3220656592384836,\n",
       "  1.41997404329085,\n",
       "  2.0033321369657067,\n",
       "  1.953790579128508,\n",
       "  4.416845567970439,\n",
       "  1.4980760893397949,\n",
       "  1.3580862622133614,\n",
       "  1.4013709434519983,\n",
       "  1.4988968282967152,\n",
       "  2.6641303665868032,\n",
       "  1.5980822511860913,\n",
       "  2.385185877247016,\n",
       "  1.6276035932674773,\n",
       "  2.6431150598527076,\n",
       "  1.621917071483236,\n",
       "  2.617592547514611,\n",
       "  1.5473271344622717,\n",
       "  2.3229494748518693,\n",
       "  1.7211123252500484,\n",
       "  2.6259237951273455,\n",
       "  1.5221471945820073,\n",
       "  2.046064804771005,\n",
       "  1.7568351276907936,\n",
       "  3.2968082856965,\n",
       "  1.3027302962907612,\n",
       "  1.2509911869997243,\n",
       "  1.216569128978426,\n",
       "  1.248357156585179,\n",
       "  1.244872515783876,\n",
       "  1.3479078372054505,\n",
       "  1.5694769750707926,\n",
       "  3.1964690581823323,\n",
       "  1.3486952342383582,\n",
       "  1.4827626851133515,\n",
       "  1.5548937503886529,\n",
       "  2.6536760832684543,\n",
       "  1.526003057511501,\n",
       "  2.3509988032600333,\n",
       "  1.6557030150350436,\n",
       "  2.814237299750447,\n",
       "  1.3923365290875287,\n",
       "  1.8152671897878299,\n",
       "  1.7985332537746563,\n",
       "  3.6672694819320606,\n",
       "  1.333709320109389,\n",
       "  1.2386949388080486,\n",
       "  1.1818831674866495,\n",
       "  1.1918391231481276,\n",
       "  1.205142737016983,\n",
       "  1.3004582593668155,\n",
       "  1.94315555416141,\n",
       "  1.8819750234157517,\n",
       "  4.511985905933809,\n",
       "  1.2984015535790574,\n",
       "  1.2322803198068368,\n",
       "  1.2074471000807498,\n",
       "  1.2610295315477986,\n",
       "  1.5330088758553737,\n",
       "  1.7400349697617923,\n",
       "  4.261167198209587,\n",
       "  1.35752734251415,\n",
       "  1.2194022153666713,\n",
       "  1.1840478104930923,\n",
       "  1.1758961689221012,\n",
       "  1.2667101775671634,\n",
       "  1.648767031187205,\n",
       "  3.8695355199642694,\n",
       "  1.2456019766591129,\n",
       "  1.1807597443788125,\n",
       "  1.13155156562981,\n",
       "  1.1438334417147595,\n",
       "  1.1848576234244712,\n",
       "  1.4129481959328234,\n",
       "  2.981357763524894,\n",
       "  1.3156795300836572,\n",
       "  1.5849543466383569,\n",
       "  1.6285280505885593,\n",
       "  3.2821647670438474,\n",
       "  1.2073716515395867,\n",
       "  1.1729761007538502,\n",
       "  1.1496954264452353,\n",
       "  1.1650741626767682,\n",
       "  1.2268931830898655,\n",
       "  1.8980679901679491,\n",
       "  1.838315710895225,\n",
       "  4.27435636458644,\n",
       "  1.3479880323032467,\n",
       "  1.230641434143842,\n",
       "  1.2866314318541707,\n",
       "  1.3706459577836063,\n",
       "  2.192750497098884,\n",
       "  1.6069949367070298,\n",
       "  3.1137780820723746,\n",
       "  1.2162438548213395,\n",
       "  1.1740445690100008,\n",
       "  1.1888168655877087,\n",
       "  1.3568635922745957,\n",
       "  1.6318348963782752,\n",
       "  3.844589036472012,\n",
       "  1.2212085840577669,\n",
       "  1.1639345490008517,\n",
       "  1.193060957555748,\n",
       "  1.3561581825840232,\n",
       "  2.3197771788023345,\n",
       "  1.4599730496764485,\n",
       "  2.5146439133154925,\n",
       "  1.311870837531211,\n",
       "  1.5463370021491278,\n",
       "  1.5418793849232424,\n",
       "  3.1070687984280303,\n",
       "  1.1992794042144248,\n",
       "  1.1996060960454629,\n",
       "  1.3413985922544251,\n",
       "  2.1093784557717754,\n",
       "  1.4033183197425259,\n",
       "  2.2951004912326045,\n",
       "  1.2821517247963705,\n",
       "  1.395766394544867,\n",
       "  1.4837938378870392,\n",
       "  2.6520142468465195,\n",
       "  1.2437113062034033,\n",
       "  1.3001851368851436,\n",
       "  1.4596157325954406,\n",
       "  2.544745423356358,\n",
       "  1.2043029767570896,\n",
       "  1.2528139281538286,\n",
       "  1.3037615938575446,\n",
       "  2.0600055827976425,\n",
       "  1.5378483364735214,\n",
       "  2.6435156567873612,\n",
       "  1.2202005206501727,\n",
       "  1.3182033850661075,\n",
       "  1.387926697361379,\n",
       "  2.382978416383833,\n",
       "  1.3040135545073572,\n",
       "  1.6585213717892324,\n",
       "  1.3676464770127856,\n",
       "  2.144879755599849,\n",
       "  1.3341864887194892,\n",
       "  1.8709535984022696,\n",
       "  1.60024051742829,\n",
       "  2.9900122632969284,\n",
       "  1.2083879974315623,\n",
       "  1.1690681751892047,\n",
       "  1.1455056378156558,\n",
       "  1.3400074868311207,\n",
       "  1.4899589206208614,\n",
       "  3.2225212561219276,\n",
       "  1.1478904090726059,\n",
       "  1.0900658882664396,\n",
       "  1.1084700567949524,\n",
       "  1.113789598675628,\n",
       "  1.222285786099774,\n",
       "  1.9694376079914253,\n",
       "  1.5730818222826357,\n",
       "  3.2645181093191558,\n",
       "  1.1459705653134642,\n",
       "  1.0685071847221996,\n",
       "  1.0543814974691943,\n",
       "  1.058704952006362,\n",
       "  1.108792696999723,\n",
       "  1.4738933850268126,\n",
       "  1.7917501378741156,\n",
       "  4.662181605752344,\n",
       "  1.378868428548577,\n",
       "  1.2349338984909717,\n",
       "  1.258500426993209,\n",
       "  1.3043139199525668,\n",
       "  1.8819027738913598,\n",
       "  1.299090607422933,\n",
       "  2.014050300464574,\n",
       "  1.3643439835544147,\n",
       "  2.235173738120743,\n",
       "  1.2045709613605289,\n",
       "  1.5210026115896476,\n",
       "  1.406014336679549,\n",
       "  2.3903574979159785,\n",
       "  1.1797655464807415,\n",
       "  1.2698980328085105,\n",
       "  1.4420106637765948,\n",
       "  2.71355228262816,\n",
       "  1.1472192409130963,\n",
       "  1.1808110877727478,\n",
       "  1.2753000203620097,\n",
       "  2.166749172319323,\n",
       "  1.3142777747949,\n",
       "  2.016270019462131,\n",
       "  1.2561325260110126,\n",
       "  1.6501746683608784,\n",
       "  1.409487693214191,\n",
       "  2.5191999074424336,\n",
       "  1.1587225125488203,\n",
       "  1.3176343049825827,\n",
       "  1.312157187072315,\n",
       "  1.9753592890502918,\n",
       "  1.1900830930024315,\n",
       "  1.3794372651067883,\n",
       "  1.4159415220560927,\n",
       "  2.625277485968091,\n",
       "  1.1440384609898095,\n",
       "  1.1810811632203055,\n",
       "  1.264970978287994,\n",
       "  1.896428077608542,\n",
       "  1.2574495862557127,\n",
       "  1.7847584443705085,\n",
       "  1.4466042464571878,\n",
       "  2.8582907574472136,\n",
       "  1.1044254207068094,\n",
       "  1.0773488552049084,\n",
       "  1.0635128970894634,\n",
       "  1.1156733305889028,\n",
       "  1.1417430494147656,\n",
       "  1.7592632787118427,\n",
       "  1.300970139394214,\n",
       "  2.1302696152646234,\n",
       "  1.2306447751648522,\n",
       "  1.73102931133977,\n",
       "  1.3170116023703082,\n",
       "  2.08446062623569,\n",
       "  1.214495265155799,\n",
       "  1.3631660492839002,\n",
       "  1.347039112721351,\n",
       "  2.3751731583413216,\n",
       "  1.1284297758465756,\n",
       "  1.1744472544124618,\n",
       "  1.2734685441568674,\n",
       "  2.028174175454773,\n",
       "  1.1965900903379691,\n",
       "  1.4729082353513716,\n",
       "  1.400095096071257,\n",
       "  2.613928152624283,\n",
       "  1.1241378013589518,\n",
       "  1.1900104930700415,\n",
       "  1.3050594634812396,\n",
       "  2.2535446764433478,\n",
       "  1.2399764052870688,\n",
       "  1.6179260658617385,\n",
       "  1.3471503220742584,\n",
       "  2.153866310609702,\n",
       "  1.165757783903696,\n",
       "  1.2905864581449285,\n",
       "  1.3748434362027657,\n",
       "  2.5709863173217284,\n",
       "  1.105444110965925,\n",
       "  1.194563912849963,\n",
       "  1.1384536125834248,\n",
       "  1.5381229583368214,\n",
       "  1.5222193590327884,\n",
       "  3.6061370608061,\n",
       "  1.1299475867437987,\n",
       "  1.095863609222882,\n",
       "  1.0745833404543093,\n",
       "  1.0948954412973118,\n",
       "  1.2700572607609142,\n",
       "  1.4328543395645166,\n",
       "  3.227386409852394,\n",
       "  1.0676584169555838,\n",
       "  0.9997729828715778,\n",
       "  0.989834962816708,\n",
       "  0.9746409534352545,\n",
       "  0.9827774037977495,\n",
       "  1.0057707243919636,\n",
       "  1.1759363071122655,\n",
       "  1.2379106958206092,\n",
       "  2.255671111379816,\n",
       "  1.2483001514822507,\n",
       "  1.866028456112504,\n",
       "  1.1891997415311752,\n",
       "  1.643462337202892,\n",
       "  1.2643059964570433,\n",
       "  2.0874991191898897,\n",
       "  1.1804330835033723,\n",
       "  1.5607318528210052,\n",
       "  1.2587239131017305,\n",
       "  2.0171743125393506,\n",
       "  1.1939299812493633,\n",
       "  1.7642061949822956,\n",
       "  1.2597903701176727,\n",
       "  1.853097820153805,\n",
       "  1.1581238631940738,\n",
       "  1.501616918978254,\n",
       "  1.264626495110542,\n",
       "  2.0229437141848763,\n",
       "  1.148964555530947,\n",
       "  1.3539614785085266,\n",
       "  1.2902587570563921,\n",
       "  2.2098384755239504,\n",
       "  1.0822964436192217,\n",
       "  1.0998521707068096,\n",
       "  1.1097828848391769,\n",
       "  1.3496071918819168,\n",
       "  1.3624771616033486,\n",
       "  2.4489694737390977,\n",
       "  1.083963637704754,\n",
       "  1.0757466344179325,\n",
       "  1.1730750800001557,\n",
       "  1.6063794011377066,\n",
       "  1.3842965571926598,\n",
       "  2.633404436815058,\n",
       "  1.0368919846492104,\n",
       "  1.0505242428974477,\n",
       "  1.0269459617529697,\n",
       "  1.1619309742903887,\n",
       "  1.1559030601498357,\n",
       "  1.7338745380800547,\n",
       "  1.2435726014200532,\n",
       "  1.9207344343283443,\n",
       "  1.1473681734082057,\n",
       "  1.3690981803105624,\n",
       "  1.2202345460985073,\n",
       "  1.7924597881019126,\n",
       "  1.1458741763022298,\n",
       "  1.5925874112315905,\n",
       "  1.2734951972113437,\n",
       "  2.2556909285197166,\n",
       "  1.0867038213613478,\n",
       "  1.1631197809644216,\n",
       "  1.1010563985557933,\n",
       "  1.457339400623522,\n",
       "  1.3348171440995882,\n",
       "  2.789592779780747,\n",
       "  1.0230537024024138,\n",
       "  0.9726722504618396,\n",
       "  0.9767891041972911,\n",
       "  0.9741894581493729,\n",
       "  0.9914139497988768,\n",
       "  1.0843134345479482,\n",
       "  1.166177134981238,\n",
       "  2.0666693709150024,\n",
       "  1.2012704916853965,\n",
       "  1.7998167936863525,\n",
       "  1.1321146081939961,\n",
       "  1.429201777209903,\n",
       "  1.2685879052480664,\n",
       "  2.1278166254500244,\n",
       "  1.1392999580295786,\n",
       "  1.3839037057350034,\n",
       "  1.3808956461389612,\n",
       "  2.9760508556080465,\n",
       "  1.0150433420357081,\n",
       "  0.9650022150033714,\n",
       "  0.9430870626380359,\n",
       "  0.932102592209048,\n",
       "  0.9353424476985239,\n",
       "  0.9287307369435505,\n",
       "  0.9293417071866369,\n",
       "  0.9411127771710579,\n",
       "  0.9327048317485733,\n",
       "  1.029514749887719,\n",
       "  1.2760219453938586,\n",
       "  2.610432299488888,\n",
       "  0.9845174743048359,\n",
       "  0.9634797027890334,\n",
       "  0.9845652157690228,\n",
       "  1.123004072386387,\n",
       "  1.2308798455734775,\n",
       "  2.359544478742348,\n",
       "  1.0057164548921975,\n",
       "  1.1242852182214806,\n",
       "  1.24690969363268,\n",
       "  2.4594877565930635,\n",
       "  1.0166392873229295,\n",
       "  1.0527723919363545,\n",
       "  1.0712583116959953,\n",
       "  1.4418356318822223,\n",
       "  1.1788271624636035,\n",
       "  1.8951541929142977,\n",
       "  1.1159687478871745,\n",
       "  1.5161395958131725,\n",
       "  1.2102638123568168,\n",
       "  2.0588497628144857,\n",
       "  1.067292078314305,\n",
       "  1.2651012725215978,\n",
       "  1.1757710140108695,\n",
       "  1.906473061663596,\n",
       "  1.097724848989046,\n",
       "  1.3849738679382757,\n",
       "  1.190517026354598,\n",
       "  1.866049546759665,\n",
       "  1.100462940149511,\n",
       "  1.4433454620053237,\n",
       "  1.2262680738556597,\n",
       "  2.1463848946843607,\n",
       "  1.0163529761368908,\n",
       "  1.0292892106836806,\n",
       "  1.0723420437963311,\n",
       "  1.327555756345267,\n",
       "  1.1571939960762148,\n",
       "  1.971367464866015,\n",
       "  1.0959697626252343,\n",
       "  1.4997118197182342,\n",
       "  1.2910379529859881,\n",
       "  2.4161532100449445,\n",
       "  1.0075685528951872,\n",
       "  0.9700012876801872,\n",
       "  0.9856873353653167,\n",
       "  1.1430736876382954,\n",
       "  1.2203744917039767,\n",
       "  2.4031441730731835,\n",
       "  1.0327196451306264,\n",
       "  1.1502557276688368,\n",
       "  1.1520023823450982,\n",
       "  1.7832610045747974,\n",
       "  1.0827307063823173,\n",
       "  1.3071390316431173,\n",
       "  1.36942722091678,\n",
       "  2.99558251249723,\n",
       "  0.9884559759484588,\n",
       "  0.9473975000701618,\n",
       "  0.906089444788893,\n",
       "  0.910711922656233,\n",
       "  0.9268159305173201,\n",
       "  0.922887092356726,\n",
       "  0.9920936199980748,\n",
       "  1.3818475958043868,\n",
       "  1.2148065185978871,\n",
       "  2.1689752469393113,\n",
       "  1.0138412842994629,\n",
       "  1.0701177000651674,\n",
       "  1.027651796299807,\n",
       "  1.3077084234061023,\n",
       "  1.2366784726918345,\n",
       "  2.637568323372252,\n",
       "  0.9791971618879578,\n",
       "  0.9481810554874616,\n",
       "  0.9580355985006221,\n",
       "  1.028038056626806,\n",
       "  1.0800717118841063,\n",
       "  1.815679846084628,\n",
       "  1.048180168904737,\n",
       "  1.3994815504697127,\n",
       "  1.2301445905172845,\n",
       "  2.153958448346657,\n",
       "  1.0066747557071627,\n",
       "  1.105197661696771,\n",
       "  0.9978377657242864,\n",
       "  1.1288684232774409,\n",
       "  1.26217877891639,\n",
       "  2.6014976553127203,\n",
       "  0.9525228050144499,\n",
       "  0.9436171561016933,\n",
       "  0.9361668052912693,\n",
       "  0.9488410214217939,\n",
       "  0.9530643176497958,\n",
       "  1.112566806900467,\n",
       "  1.1746104329343643,\n",
       "  2.499535566254698,\n",
       "  0.9046489987979484,\n",
       "  0.906394142341013,\n",
       "  0.882417833352381,\n",
       "  0.9105926160468414,\n",
       "  0.9312592272984661,\n",
       "  1.0483310879418606,\n",
       "  1.141374534007253,\n",
       "  2.3648359285462086,\n",
       "  0.9359393847105372,\n",
       "  0.9050707311934212,\n",
       "  0.9520781485563159,\n",
       "  1.0739582947512831,\n",
       "  1.1938825748853574,\n",
       "  2.453137680245433,\n",
       "  0.9239133287608582,\n",
       "  0.8870650033048889,\n",
       "  0.8946122861376484,\n",
       "  0.8957466531914225,\n",
       "  0.9356279109093882,\n",
       "  1.1513579779746181,\n",
       "  1.4315194759194223,\n",
       "  3.7419268355224635,\n",
       "  1.0367021318075955,\n",
       "  0.9659324189827402,\n",
       "  0.9293980437193569,\n",
       "  0.9189043358356139,\n",
       "  1.049902558351456,\n",
       "  1.0646996911236042,\n",
       "  1.795294981036402,\n",
       "  0.9998828403214324,\n",
       "  1.3096230095533592,\n",
       "  1.0623466817301739,\n",
       "  1.5225084891159217,\n",
       "  1.1722718764670752,\n",
       "  1.8087980877845582,\n",
       "  1.1208757117824302,\n",
       "  1.4219446351410463,\n",
       "  1.1084898785689195,\n",
       "  1.636586203183677,\n",
       "  1.0958630190197147,\n",
       "  1.6222463023071334,\n",
       "  0.9926819103404847,\n",
       "  1.1843574340597796,\n",
       "  1.2033128820198893,\n",
       "  2.0835534911853912,\n",
       "  0.9089873371447509,\n",
       "  0.9444160719039226,\n",
       "  0.9560961847625518,\n",
       "  1.1814172329656043,\n",
       "  1.309627846341916,\n",
       "  2.9059516096587847,\n",
       "  0.9190460903881625,\n",
       "  0.8888515448927808,\n",
       "  0.8727381481292236,\n",
       "  0.8818600367983533,\n",
       "  0.8898737292998877,\n",
       "  0.9850362499884961,\n",
       "  1.1698720525945028,\n",
       "  2.6272636006224968,\n",
       "  0.8844770426946983,\n",
       "  0.860600964890598,\n",
       "  0.8565957717036112,\n",
       "  0.8351863472913625,\n",
       "  0.8591811492952637,\n",
       "  0.8960055802021314,\n",
       "  0.9388023392334142,\n",
       "  1.1550209071417106,\n",
       "  1.1944677856805967,\n",
       "  2.68585798108933,\n",
       "  0.8992282281811228,\n",
       "  0.8801693971852382,\n",
       "  0.8676940276565446,\n",
       "  0.9021768622236137,\n",
       "  0.9085347376918791,\n",
       "  1.1229543031082647,\n",
       "  1.2198223882687347,\n",
       "  2.7649752103845056,\n",
       "  0.9181268048193364,\n",
       "  0.8920269105436918,\n",
       "  0.9142463929736631,\n",
       "  1.018817600742921,\n",
       "  1.2648504833225571,\n",
       "  3.0354619800582343,\n",
       "  0.9143831603264108,\n",
       "  0.875404657359196,\n",
       "  0.8446360470562273,\n",
       "  0.8628050194793337,\n",
       "  0.8655783367304308,\n",
       "  0.8563140235534024,\n",
       "  0.9118108822316091,\n",
       "  0.9608673112447772,\n",
       "  1.4240754244166698,\n",
       "  1.208597029171551,\n",
       "  2.897481728789878,\n",
       "  0.8966106106387721,\n",
       "  0.8632491052357808,\n",
       "  0.845234084946127,\n",
       "  0.8384458830095683,\n",
       "  0.8399894579118555,\n",
       "  0.8293657034995842,\n",
       "  0.8139970385484472,\n",
       "  0.8209372938692092,\n",
       "  0.8093111862692575,\n",
       "  0.8105793289994065,\n",
       "  0.8168923177314638,\n",
       "  0.8085967369552313,\n",
       "  0.8191621150808699,\n",
       "  0.8150107936258076,\n",
       "  0.8130977651814361,\n",
       "  0.8172112862516525,\n",
       "  0.8105060281509995,\n",
       "  0.8540451098484863,\n",
       "  0.8706018904004253,\n",
       "  1.0467705183278744,\n",
       "  1.4079349171740358,\n",
       "  4.36010475729634,\n",
       "  1.1308474858072894,\n",
       "  1.0070689132600243,\n",
       "  1.0816368239553587,\n",
       "  1.0225652456770118,\n",
       "  1.3983073538689887,\n",
       "  1.0690060225346891,\n",
       "  1.7546320067819545,\n",
       "  1.024270235146711,\n",
       "  1.3490620711564756,\n",
       "  1.2054162033008295,\n",
       "  2.3902847970949277,\n",
       "  0.8788528737498327,\n",
       "  0.857859715309169,\n",
       "  0.8064027737667937,\n",
       "  0.8188007202439307,\n",
       "  0.8178863524894473,\n",
       "  0.8306141064922119,\n",
       "  0.8885056123374805,\n",
       "  1.056715679056564,\n",
       "  1.149980314841954,\n",
       "  2.6749227817315857,\n",
       "  0.8663995079994248,\n",
       "  0.8468237658704211,\n",
       "  0.827316354753496,\n",
       "  0.8224413796085847,\n",
       "  0.8349818902163999,\n",
       "  0.9019662628883602,\n",
       "  1.0199041678932077,\n",
       "  1.8990399381161422,\n",
       "  0.9373103354321686,\n",
       "  1.072647787764828,\n",
       "  1.031257230918794,\n",
       "  1.649912590340962,\n",
       "  1.0319149829254903,\n",
       "  1.531011438570376,\n",
       "  1.1989875970716484,\n",
       "  2.237152762208674,\n",
       "  0.8860065372429641,\n",
       "  0.8518844274768107,\n",
       "  0.902846462115769,\n",
       "  1.0555508082077552,\n",
       "  1.1214269206068708,\n",
       "  2.1116315437771225,\n",
       "  0.9030690487702124,\n",
       "  0.9795778340347769,\n",
       "  0.9031947657110012,\n",
       "  1.1984527955969018,\n",
       "  1.070302060973423,\n",
       "  2.029137398870922,\n",
       "  0.9411302072390986,\n",
       "  1.1261427300830182,\n",
       "  1.1919933397532412,\n",
       "  2.184909273046606,\n",
       "  0.8942450590112865,\n",
       "  0.8697045176780565,\n",
       "  0.8747836877131402,\n",
       "  0.9874278181184032,\n",
       "  0.958747409854064,\n",
       "  1.539488757532212,\n",
       "  0.9723338457194958,\n",
       "  1.3715520511336465,\n",
       "  0.9830046247227495,\n",
       "  1.330164887829834,\n",
       "  1.0622058597598967,\n",
       "  1.664949611377675,\n",
       "  1.1073799122231796,\n",
       "  1.9292379483208326,\n",
       "  0.9159568793818322,\n",
       "  1.0210581422226574,\n",
       "  0.9427099537260946,\n",
       "  1.230438908497826,\n",
       "  1.020709981160033,\n",
       "  1.5847060173790792,\n",
       "  1.0165329532258154,\n",
       "  1.3876947483312112,\n",
       "  0.9727213658505308,\n",
       "  1.2146056672930203,\n",
       "  1.0293695063515718,\n",
       "  1.5804979566899529,\n",
       "  0.974593824021537,\n",
       "  1.2646102492663966,\n",
       "  1.0239442253653734,\n",
       "  1.50478808118383,\n",
       "  1.002886675081809,\n",
       "  1.3863752702101446,\n",
       "  1.0126669196665314,\n",
       "  1.491089518799331,\n",
       "  1.0376560891298556,\n",
       "  1.648746953676592,\n",
       "  0.9420257956923305,\n",
       "  1.0675686232853676,\n",
       "  0.9811282134676355,\n",
       "  1.4806491744805363,\n",
       "  1.0182807205586772,\n",
       "  1.4389353935611007,\n",
       "  1.1307077359461912,\n",
       "  1.8927413240869002,\n",
       "  0.9534398301911552,\n",
       "  1.1498321819978152,\n",
       "  0.9434156092899262,\n",
       "  1.1610712494058855,\n",
       "  1.0181099203393633,\n",
       "  1.4509326672161813,\n",
       "  1.0187066569739047,\n",
       "  1.549190237606752,\n",
       "  1.0111274125299416,\n",
       "  1.3021147401195696,\n",
       "  1.1078449940023887,\n",
       "  1.7804114991647602,\n",
       "  0.8930836029064186,\n",
       "  0.9250417529787156,\n",
       "  0.9603357127965958,\n",
       "  1.263500219462094,\n",
       "  1.0417033815380332,\n",
       "  1.6464637715086141,\n",
       "  0.9658174514457483,\n",
       "  1.1710688242449074,\n",
       "  0.9184180760285987,\n",
       "  1.0773566963633896,\n",
       "  0.9879590982404902,\n",
       "  1.515581289062224,\n",
       "  0.8892555887295481,\n",
       "  1.0366268520509265,\n",
       "  0.9158747719722162,\n",
       "  1.2573870076634854,\n",
       "  1.0458417636674566,\n",
       "  1.7198918490570514,\n",
       "  0.9583541344090025,\n",
       "  1.2539770526558536,\n",
       "  0.9548239698688734,\n",
       "  1.221328221557158,\n",
       "  1.0574359128671516,\n",
       "  1.5660054002175232,\n",
       "  0.9089352402815373,\n",
       "  0.9767097273271969,\n",
       "  0.9726195603780692,\n",
       "  1.601799864533005,\n",
       "  0.9744787613701815,\n",
       "  1.3474653755812178,\n",
       "  1.0183444682244742,\n",
       "  1.4841985575582097,\n",
       "  0.9544815566295684,\n",
       "  1.2518201984886783,\n",
       "  0.9763001418212215,\n",
       "  1.2545750554703514,\n",
       "  1.0721842976123472,\n",
       "  1.9216251580950972,\n",
       "  0.8841261188711239,\n",
       "  0.9276766489790451,\n",
       "  0.8627276777930113,\n",
       "  1.0036919059492635,\n",
       "  0.9939685395110159,\n",
       "  1.3978229015239776,\n",
       "  0.9989424533554883,\n",
       "  1.3425061824627151,\n",
       "  0.944556042984153,\n",
       "  1.1822772664500834,\n",
       "  0.9776448028990037,\n",
       "  1.3683259907062049,\n",
       "  0.9046111813836966,\n",
       "  1.049127313812376,\n",
       "  1.0157041691054731,\n",
       "  1.683165744197718,\n",
       "  0.9343297562032474,\n",
       "  1.1979594497813464,\n",
       "  1.086135694036967,\n",
       "  2.032682260385962,\n",
       "  0.8546359497375529,\n",
       "  0.8453606506076293,\n",
       "  0.8175177282596386,\n",
       "  0.8113220387947986,\n",
       "  0.8346258641648132,\n",
       "  0.9360533609589584,\n",
       "  0.9257384563170689,\n",
       "  1.409576355526808,\n",
       "  0.961855703985049,\n",
       "  1.4039314691948808,\n",
       "  0.964616733004075,\n",
       "  1.449129580389078,\n",
       "  0.997572255732055,\n",
       "  1.3121939138208778,\n",
       "  0.9130687718839514,\n",
       "  1.0024930823688034,\n",
       "  0.9008915903524324,\n",
       "  1.2361957784285813,\n",
       "  1.0984855744114854,\n",
       "  2.2579417412706886,\n",
       "  0.819254865078171,\n",
       "  0.7878725175693753,\n",
       "  0.7822750190455129,\n",
       "  0.7769174404312595,\n",
       "  0.7751345362508965,\n",
       "  0.8619272907112423,\n",
       "  0.8376536776495107,\n",
       "  0.9784964947866652,\n",
       "  0.9237511708571639,\n",
       "  1.4156285097505121,\n",
       "  0.9711701993758319,\n",
       "  1.3827615082698674,\n",
       "  1.0268024047212077,\n",
       "  1.5794094129268101,\n",
       "  0.8972651777888303,\n",
       "  1.0794949703978798,\n",
       "  0.9637285928372064,\n",
       "  1.2664840639453825,\n",
       "  0.8853747055516226,\n",
       "  1.0444573333502793,\n",
       "  0.9149952132997586,\n",
       "  1.2567976707004354,\n",
       "  0.9959586958212641,\n",
       "  1.5728638566425714,\n",
       "  0.9509500121774592,\n",
       "  1.0873176491397838,\n",
       "  0.8625954982453532,\n",
       "  0.9269363470032519,\n",
       "  0.9687363613275102,\n",
       "  1.5883734210912595,\n",
       "  0.890480787722606,\n",
       "  1.034593255720941,\n",
       "  0.945373992364593,\n",
       "  1.3524372078205011,\n",
       "  0.9894082150229532,\n",
       "  1.6898934687465768,\n",
       "  0.9103553459978444,\n",
       "  1.036458360757014,\n",
       "  1.1038087607207223,\n",
       "  2.1751986589228873,\n",
       "  0.8446453414315772,\n",
       "  0.832036209079189,\n",
       "  0.7916194164148134,\n",
       "  0.7967099276940894,\n",
       "  0.7993117712348659,\n",
       "  0.8935025162040784,\n",
       "  0.8432273146020608,\n",
       "  0.9828518719176362,\n",
       "  0.8812275381952999,\n",
       "  1.2364027482608348,\n",
       "  0.9318531096722313,\n",
       "  1.4517419729099934,\n",
       "  0.9806959626508601,\n",
       "  1.5296829187764756,\n",
       "  0.8825283216833131,\n",
       "  1.0102525062137822,\n",
       "  1.0194353777853746,\n",
       "  1.918209613641935,\n",
       "  0.8914811836224157,\n",
       "  0.9619672206050298,\n",
       "  0.9141829110122882,\n",
       "  1.1694184272845976,\n",
       "  0.9206556592841488,\n",
       "  1.1987250184458693,\n",
       "  0.9322630583572944,\n",
       "  1.2747106390550287,\n",
       "  0.8952549106359269,\n",
       "  1.1801263476605222,\n",
       "  0.9229193032654318,\n",
       "  1.3345432170530227,\n",
       "  0.837920184893217,\n",
       "  0.9334411740686301,\n",
       "  0.8165770586199164,\n",
       "  0.9274134961904053,\n",
       "  0.9021636725465256,\n",
       "  1.3547829871845882,\n",
       "  0.9366124909373297,\n",
       "  1.2951758473538244,\n",
       "  1.012135401040758,\n",
       "  1.6312811273663275,\n",
       "  0.8604520374775873,\n",
       "  0.9751770485454048,\n",
       "  0.887340578368928,\n",
       "  1.1858914709512256,\n",
       "  0.967361799955576,\n",
       "  1.5677134378762987,\n",
       "  0.9220293282039733,\n",
       "  1.1997933002803531,\n",
       "  0.9136797669461356,\n",
       "  1.2111012689508325,\n",
       "  0.9741479214202651,\n",
       "  1.514069941586248,\n",
       "  0.8559067332812051,\n",
       "  0.8634616554092084,\n",
       "  0.8034552794456513,\n",
       "  0.8643431343158268,\n",
       "  0.8309170679120997,\n",
       "  0.9944403376385442,\n",
       "  0.9392035972186397,\n",
       "  1.580788281662069,\n",
       "  0.9206245789868657,\n",
       "  1.1762819581352022,\n",
       "  0.9545256254436414,\n",
       "  1.4164133759638586,\n",
       "  0.9145608455404673,\n",
       "  1.1638907474033355,\n",
       "  0.987187742859547,\n",
       "  1.433026783950352,\n",
       "  0.8912110778372924,\n",
       "  1.0280013816325813,\n",
       "  0.7964283548988087,\n",
       "  0.8545389088586164,\n",
       "  0.7732791951967954,\n",
       "  0.8541277520605408,\n",
       "  0.8510242881762466,\n",
       "  1.122593555232506,\n",
       "  0.9624696736604883,\n",
       "  ...],\n",
       " 'accuracy': [0,\n",
       "  0.31103143607145145,\n",
       "  0.7024777514565593,\n",
       "  0.6937704078366093,\n",
       "  0.6793648761124271,\n",
       "  0.7257827005570139,\n",
       "  0.6665599590242653,\n",
       "  0.7282156348037646,\n",
       "  0.6203982329214418,\n",
       "  0.7141942505922274,\n",
       "  0.7593956079134387,\n",
       "  0.6988283500864332,\n",
       "  0.7479352071195339,\n",
       "  0.6544593123759523,\n",
       "  0.7245662334336385,\n",
       "  0.7822523849158076,\n",
       "  0.7122735130290031,\n",
       "  0.7554260836161086,\n",
       "  0.686151482169153,\n",
       "  0.7427492156988283,\n",
       "  0.7745694346629105,\n",
       "  0.7985146296177732,\n",
       "  0.7421729944298611,\n",
       "  0.7638773288942954,\n",
       "  0.695178948716307,\n",
       "  0.7431333632114732,\n",
       "  0.8017158588898137,\n",
       "  0.7736090658812984,\n",
       "  0.8101671041680005,\n",
       "  0.6798130482105128,\n",
       "  0.7293040527562584,\n",
       "  0.8119597925603431,\n",
       "  0.7565785261540432,\n",
       "  0.8001792688392343,\n",
       "  0.6816697611882963,\n",
       "  0.7421089698444202,\n",
       "  0.8161213906139958,\n",
       "  0.7527370510275946,\n",
       "  0.8063896536269928,\n",
       "  0.7184198732313208,\n",
       "  0.7634291567962097,\n",
       "  0.80062744093732,\n",
       "  0.8282220372623087,\n",
       "  0.761316345476663,\n",
       "  0.7844292208207951,\n",
       "  0.7422370190153019,\n",
       "  0.7781548114475959,\n",
       "  0.7828926307702158,\n",
       "  0.8212433574492605,\n",
       "  0.7252705038734875,\n",
       "  0.7610602471348998,\n",
       "  0.8182342019335425,\n",
       "  0.8293104552148025,\n",
       "  0.8204750624239708,\n",
       "  0.8351366924899162,\n",
       "  0.7378833472053269,\n",
       "  0.7571547474230105,\n",
       "  0.8273256930661373,\n",
       "  0.8222037262308727,\n",
       "  0.8398104872270952,\n",
       "  0.799603047570267,\n",
       "  0.8038286702093604,\n",
       "  0.6963313912542416,\n",
       "  0.746590690825277,\n",
       "  0.8289903322875984,\n",
       "  0.7967859658108714,\n",
       "  0.8403226839106217,\n",
       "  0.7592035341571163,\n",
       "  0.7832767782828606,\n",
       "  0.7965298674691081,\n",
       "  0.8333440040975735,\n",
       "  0.7560023048850759,\n",
       "  0.7821883603303669,\n",
       "  0.8051731865036174,\n",
       "  0.8374415775657853,\n",
       "  0.7221332991868877,\n",
       "  0.7611242717203406,\n",
       "  0.8419232985466419,\n",
       "  0.7861578846276971,\n",
       "  0.8309110698508227,\n",
       "  0.762980984698124,\n",
       "  0.7988987771304181,\n",
       "  0.8097189320699149,\n",
       "  0.8451245278186824,\n",
       "  0.766694410653691,\n",
       "  0.7926883923426595,\n",
       "  0.8032524489403932,\n",
       "  0.8344324220500672,\n",
       "  0.7556821819578718,\n",
       "  0.781484089890518,\n",
       "  0.824764709648505,\n",
       "  0.8535117485114284,\n",
       "  0.795249375760292,\n",
       "  0.8193226198860363,\n",
       "  0.7404443306229592,\n",
       "  0.7755298034445227,\n",
       "  0.8421793968884052,\n",
       "  0.840898905179589,\n",
       "  0.8545361418784814,\n",
       "  0.8205390870094116,\n",
       "  0.8300147256546514,\n",
       "  0.7367949292528331,\n",
       "  0.7657340418720788,\n",
       "  0.8487099046033677,\n",
       "  0.8216915295473461,\n",
       "  0.8577373711505218,\n",
       "  0.7976182854216018,\n",
       "  0.816377488955759,\n",
       "  0.7781548114475959,\n",
       "  0.8051731865036174,\n",
       "  0.7903194826813497,\n",
       "  0.8160573660285549,\n",
       "  0.7963377937127857,\n",
       "  0.8223317754017543,\n",
       "  0.7866700813112235,\n",
       "  0.8215634803764645,\n",
       "  0.7857097125296114,\n",
       "  0.8168896856392854,\n",
       "  0.806005506114348,\n",
       "  0.8403867084960625,\n",
       "  0.7670145335808951,\n",
       "  0.7920481464882515,\n",
       "  0.8427556181573724,\n",
       "  0.8590818874447788,\n",
       "  0.8375696267366669,\n",
       "  0.852295281388053,\n",
       "  0.7876304500928356,\n",
       "  0.7991548754721813,\n",
       "  0.8321275369741981,\n",
       "  0.8589538382738972,\n",
       "  0.7744413854920289,\n",
       "  0.7908957039503169,\n",
       "  0.8409629297650297,\n",
       "  0.8629233625712274,\n",
       "  0.824764709648505,\n",
       "  0.8345604712209489,\n",
       "  0.7503041167808439,\n",
       "  0.7792432294000896,\n",
       "  0.8588257891030155,\n",
       "  0.8391702413726871,\n",
       "  0.8644599526218067,\n",
       "  0.802292080158781,\n",
       "  0.8182982265189833,\n",
       "  0.7957615724438184,\n",
       "  0.8272616684806966,\n",
       "  0.7946091299058838,\n",
       "  0.8210512836929381,\n",
       "  0.797234137908957,\n",
       "  0.8248927588193866,\n",
       "  0.8007554901082016,\n",
       "  0.8280939880914271,\n",
       "  0.7875664255073949,\n",
       "  0.8197067673986811,\n",
       "  0.8112555221204942,\n",
       "  0.8435239131826622,\n",
       "  0.7758499263717268,\n",
       "  0.8050451373327357,\n",
       "  0.8547282156348037,\n",
       "  0.8636276330110763,\n",
       "  0.8615788462769703,\n",
       "  0.867405083552084,\n",
       "  0.8523593059734939,\n",
       "  0.8634995838401947,\n",
       "  0.7971701133235163,\n",
       "  0.7996670721557078,\n",
       "  0.838529995518279,\n",
       "  0.8624751904731417,\n",
       "  0.8040847685511237,\n",
       "  0.8182982265189833,\n",
       "  0.8063896536269928,\n",
       "  0.83148729111979,\n",
       "  0.7880145976054805,\n",
       "  0.8190024969588322,\n",
       "  0.8244445867213009,\n",
       "  0.8495422242140982,\n",
       "  0.7740572379793841,\n",
       "  0.7960176707855816,\n",
       "  0.8567129777834689,\n",
       "  0.8664447147704719,\n",
       "  0.8683014277482554,\n",
       "  0.8631794609129906,\n",
       "  0.8713746078494142,\n",
       "  0.8382738971765158,\n",
       "  0.836865356296818,\n",
       "  0.7577949932774185,\n",
       "  0.7859658108713746,\n",
       "  0.8664447147704719,\n",
       "  0.8559446827581791,\n",
       "  0.8724630258019079,\n",
       "  0.849606248799539,\n",
       "  0.8563928548562648,\n",
       "  0.7724566233433638,\n",
       "  0.7870542288238683,\n",
       "  0.8622190921313785,\n",
       "  0.8627953134003458,\n",
       "  0.8752160829758627,\n",
       "  0.8592739612011012,\n",
       "  0.8696459440425123,\n",
       "  0.7873743517510724,\n",
       "  0.7934566873679493,\n",
       "  0.8653562968179781,\n",
       "  0.866380690185031,\n",
       "  0.8736154683398425,\n",
       "  0.8653562968179781,\n",
       "  0.8723349766310263,\n",
       "  0.8133043088546001,\n",
       "  0.8117036942185799,\n",
       "  0.8374415775657853,\n",
       "  0.8603623791535949,\n",
       "  0.7899353351687047,\n",
       "  0.802292080158781,\n",
       "  0.8614507971060887,\n",
       "  0.8743197387796914,\n",
       "  0.866060567257827,\n",
       "  0.8756642550739484,\n",
       "  0.8391062167872463,\n",
       "  0.8394263397144504,\n",
       "  0.7638133043088546,\n",
       "  0.7874383763365133,\n",
       "  0.8701581407260388,\n",
       "  0.8507586913374736,\n",
       "  0.8754721813176259,\n",
       "  0.828158012676868,\n",
       "  0.8334720532684551,\n",
       "  0.7911518022920802,\n",
       "  0.8136884563672451,\n",
       "  0.8578013957359626,\n",
       "  0.87816121390614,\n",
       "  0.8582495678340483,\n",
       "  0.8677252064792881,\n",
       "  0.7880145976054805,\n",
       "  0.794224982393239,\n",
       "  0.8726550995582304,\n",
       "  0.8617709200332928,\n",
       "  0.8780331647352584,\n",
       "  0.824124463794097,\n",
       "  0.8279019143351046,\n",
       "  0.8152250464178245,\n",
       "  0.8258531276009988,\n",
       "  0.8366732825404956,\n",
       "  0.863051411742109,\n",
       "  0.7956975478583777,\n",
       "  0.8139445547090083,\n",
       "  0.8577373711505218,\n",
       "  0.8795697547858378,\n",
       "  0.8273897176515782,\n",
       "  0.8357129137588835,\n",
       "  0.8170177348101672,\n",
       "  0.8343683974646264,\n",
       "  0.8424354952301684,\n",
       "  0.8706703374095652,\n",
       "  0.805621358601703,\n",
       "  0.8218836033036686,\n",
       "  0.8504385684102695,\n",
       "  0.8780971893206991,\n",
       "  0.8117036942185799,\n",
       "  0.8248287342339459,\n",
       "  0.8561367565145016,\n",
       "  0.8800819514693642,\n",
       "  0.8303988731672962,\n",
       "  0.8392342659581279,\n",
       "  0.8022280555733402,\n",
       "  0.8243805621358602,\n",
       "  0.8524873551443755,\n",
       "  0.874767910877777,\n",
       "  0.8233561687688072,\n",
       "  0.8307189960945003,\n",
       "  0.8385940201037199,\n",
       "  0.8595300595428644,\n",
       "  0.8201549394967668,\n",
       "  0.8389141430309238,\n",
       "  0.8310391190217044,\n",
       "  0.8521672322171714,\n",
       "  0.7926883923426595,\n",
       "  0.8190024969588322,\n",
       "  0.8614507971060887,\n",
       "  0.8822587873743517,\n",
       "  0.8594660349574237,\n",
       "  0.8706703374095652,\n",
       "  0.7992189000576221,\n",
       "  0.8072859978231641,\n",
       "  0.8696459440425123,\n",
       "  0.8823228119597926,\n",
       "  0.8706703374095652,\n",
       "  0.882194762788911,\n",
       "  0.8400025609834176,\n",
       "  0.8399385363979768,\n",
       "  0.7949292528330879,\n",
       "  0.8092707599718292,\n",
       "  0.8716307061911774,\n",
       "  0.882194762788911,\n",
       "  0.8782892630770216,\n",
       "  0.8844996478647801,\n",
       "  0.8594660349574237,\n",
       "  0.8635636084256354,\n",
       "  0.7688072219732377,\n",
       "  0.7883987451181254,\n",
       "  0.8754721813176259,\n",
       "  0.850950765093796,\n",
       "  0.8816825661053844,\n",
       "  0.8341122991228632,\n",
       "  0.8466611178692618,\n",
       "  0.8320635123887573,\n",
       "  0.8474934374799923,\n",
       "  0.8216915295473461,\n",
       "  0.8389141430309238,\n",
       "  0.8434598885972213,\n",
       "  0.8648441001344517,\n",
       "  0.8162494397848774,\n",
       "  0.8324476599014021,\n",
       "  0.8521672322171714,\n",
       "  0.8780971893206991,\n",
       "  0.8102311287534413,\n",
       "  0.8228439720852807,\n",
       "  0.8613227479352071,\n",
       "  0.8837953774249312,\n",
       "  0.8314232665343492,\n",
       "  0.836161085856969,\n",
       "  0.8277098405787823,\n",
       "  0.8458287982585313,\n",
       "  0.836865356296818,\n",
       "  0.8615788462769703,\n",
       "  0.8132402842691594,\n",
       "  0.8293744798002433,\n",
       "  0.8555605352455343,\n",
       "  0.8772648697099686,\n",
       "  0.8286702093603944,\n",
       "  0.8444202573788335,\n",
       "  0.8475574620654331,\n",
       "  0.871438632434855,\n",
       "  0.8158652922722326,\n",
       "  0.8270055701389334,\n",
       "  0.8626032396440233,\n",
       "  0.8861642870862411,\n",
       "  0.8370574300531404,\n",
       "  0.8490940521160125,\n",
       "  0.8368013317113772,\n",
       "  0.8548562648056853,\n",
       "  0.8078622190921314,\n",
       "  0.8232281195979256,\n",
       "  0.8710544849222102,\n",
       "  0.8873807542096165,\n",
       "  0.8713746078494142,\n",
       "  0.8856520904027146,\n",
       "  0.8508227159229144,\n",
       "  0.850950765093796,\n",
       "  0.8260452013573212,\n",
       "  0.839554388885332,\n",
       "  0.8410269543504706,\n",
       "  0.8613867725206479,\n",
       "  0.826109225942762,\n",
       "  0.8404507330815033,\n",
       "  0.8460208720148537,\n",
       "  0.8725910749727895,\n",
       "  0.8214354312055829,\n",
       "  0.8358409629297651,\n",
       "  0.8626032396440233,\n",
       "  0.8850118445483065,\n",
       "  0.8358409629297651,\n",
       "  0.8476855112363147,\n",
       "  0.8481336833344004,\n",
       "  0.8696459440425123,\n",
       "  0.8144567513925347,\n",
       "  0.8280939880914271,\n",
       "  0.8601703053972726,\n",
       "  0.8832191561559639,\n",
       "  0.8265573980408477,\n",
       "  0.8369934054676996,\n",
       "  0.8449964786478008,\n",
       "  0.8638837313528395,\n",
       "  0.824124463794097,\n",
       "  0.841219028106793,\n",
       "  0.8519751584608489,\n",
       "  0.8770727959536462,\n",
       "  0.8189384723733913,\n",
       "  0.8337281516102183,\n",
       "  0.8646520263781292,\n",
       "  0.885203918304629,\n",
       "  0.8545361418784814,\n",
       "  0.8637556821819579,\n",
       "  0.7962097445419041,\n",
       "  0.8069658748959601,\n",
       "  0.882514885716115,\n",
       "  0.871758755362059,\n",
       "  0.8893014917728408,\n",
       "  0.8645880017926884,\n",
       "  0.8748959600486587,\n",
       "  0.8057494077725846,\n",
       "  0.8154811447595877,\n",
       "  0.8832191561559639,\n",
       "  0.8841155003521353,\n",
       "  0.8898777130418081,\n",
       "  0.8833472053268455,\n",
       "  0.8898136884563672,\n",
       "  0.8749599846340995,\n",
       "  0.8789935335168705,\n",
       "  0.8366732825404956,\n",
       "  0.8372495038094628,\n",
       "  0.8309110698508227,\n",
       "  0.853319674755106,\n",
       "  0.8456367245022088,\n",
       "  0.8635636084256354,\n",
       "  0.8311031436071451,\n",
       "  0.8469812407964659,\n",
       "  0.8453806261604456,\n",
       "  0.8642678788654844,\n",
       "  0.830142774825533,\n",
       "  0.8476214866508739,\n",
       "  0.8433318394263397,\n",
       "  0.8583776170049299,\n",
       "  0.831167168192586,\n",
       "  0.8529355272424611,\n",
       "  0.8485178308470452,\n",
       "  0.8690056981881042,\n",
       "  0.8308470452653819,\n",
       "  0.8476855112363147,\n",
       "  0.8515269863627632,\n",
       "  0.8739355912670466,\n",
       "  0.8242525129649786,\n",
       "  0.8382098725910749,\n",
       "  0.8677252064792881,\n",
       "  0.887572827965939,\n",
       "  0.854984313976567,\n",
       "  0.8734874191689609,\n",
       "  0.8197067673986811,\n",
       "  0.8338562007810999,\n",
       "  0.8693898457007491,\n",
       "  0.8903258851398937,\n",
       "  0.8460848966002945,\n",
       "  0.8604264037390358,\n",
       "  0.8156732185159101,\n",
       "  0.8275177668224598,\n",
       "  0.8756642550739484,\n",
       "  0.8928868685575261,\n",
       "  0.8727191241436711,\n",
       "  0.885203918304629,\n",
       "  0.8442922082079518,\n",
       "  0.8526154043152571,\n",
       "  0.8297586273128882,\n",
       "  0.8487739291888085,\n",
       "  0.8517190601190857,\n",
       "  0.8759843780011525,\n",
       "  0.8352007170753569,\n",
       "  0.8538958960240732,\n",
       "  0.8465330686983802,\n",
       "  0.8647800755490108,\n",
       "  0.8237403162814521,\n",
       "  0.8394263397144504,\n",
       "  0.8627312888149049,\n",
       "  0.885524041231833,\n",
       "  0.8558166335872975,\n",
       "  0.8678532556501697,\n",
       "  0.8127280875856329,\n",
       "  0.8238683654523337,\n",
       "  0.8844996478647801,\n",
       "  0.8909661309943018,\n",
       "  0.8849478199628658,\n",
       "  0.8940393110954606,\n",
       "  0.8751520583904219,\n",
       "  0.8842435495230169,\n",
       "  0.8439720852807479,\n",
       "  0.8420513477175235,\n",
       "  0.8367373071259364,\n",
       "  0.8569050515397912,\n",
       "  0.846276970356617,\n",
       "  0.8691977719444267,\n",
       "  0.8296305781420066,\n",
       "  0.8461489211857354,\n",
       "  0.8484538062616045,\n",
       "  0.8737435175107241,\n",
       "  0.8093988091427108,\n",
       "  0.8226518983289584,\n",
       "  0.8856520904027146,\n",
       "  0.8919905243613547,\n",
       "  0.8907740572379794,\n",
       "  0.893591138997375,\n",
       "  0.8873167296241757,\n",
       "  0.893911261924579,\n",
       "  0.8860362379153595,\n",
       "  0.8935271144119342,\n",
       "  0.8799539022984826,\n",
       "  0.8891734426019592,\n",
       "  0.8280939880914271,\n",
       "  0.8236122671105705,\n",
       "  0.8807221973237723,\n",
       "  0.8949996798770729,\n",
       "  0.8729111978999936,\n",
       "  0.883539279083168,\n",
       "  0.8332799795121326,\n",
       "  0.8338562007810999,\n",
       "  0.8674691081375248,\n",
       "  0.8868045329406492,\n",
       "  0.8274537422370191,\n",
       "  0.8327677828286062,\n",
       "  0.8741916896088098,\n",
       "  0.8926947948012036,\n",
       "  0.8572891990524362,\n",
       "  0.8699020423842756,\n",
       "  0.838529995518279,\n",
       "  0.8497342979704207,\n",
       "  0.848261732505282,\n",
       "  0.8696459440425123,\n",
       "  0.8322555861450797,\n",
       "  0.8447403803060375,\n",
       "  0.8580574940777258,\n",
       "  0.8790575581023113,\n",
       "  0.8352647416607978,\n",
       "  0.850630642166592,\n",
       "  0.8513989371918816,\n",
       "  0.87342339458352,\n",
       "  0.837185479224022,\n",
       "  0.8503745438248287,\n",
       "  0.8501184454830655,\n",
       "  0.8728471733145527,\n",
       "  0.8294385043856841,\n",
       "  0.842243421473846,\n",
       "  0.87342339458352,\n",
       "  0.8946795569498688,\n",
       "  0.8591459120302196,\n",
       "  0.8727191241436711,\n",
       "  0.8410269543504706,\n",
       "  0.846276970356617,\n",
       "  0.852295281388053,\n",
       "  0.8667648376976759,\n",
       "  0.8190024969588322,\n",
       "  0.8344324220500672,\n",
       "  0.8763685255137973,\n",
       "  0.8960880978295666,\n",
       "  0.8718868045329407,\n",
       "  0.8864844100134451,\n",
       "  0.8258531276009988,\n",
       "  0.834176323708304,\n",
       "  0.8652282476470965,\n",
       "  0.8880850246494654,\n",
       "  0.8433318394263397,\n",
       "  0.8533836993405468,\n",
       "  0.8533836993405468,\n",
       "  0.8764965746846789,\n",
       "  0.8077341699212498,\n",
       "  0.8225238491580767,\n",
       "  0.8837953774249312,\n",
       "  0.8951917536333952,\n",
       "  0.8903899097253345,\n",
       "  0.8971765157820603,\n",
       "  0.8861002625008003,\n",
       "  0.897304564952942,\n",
       "  0.8649081247198924,\n",
       "  0.8707343619950061,\n",
       "  0.8345604712209489,\n",
       "  0.8405787822523849,\n",
       "  0.8691977719444267,\n",
       "  0.891926499775914,\n",
       "  0.8631794609129906,\n",
       "  0.8760484025865932,\n",
       "  0.8238043408668929,\n",
       "  0.8302708239964146,\n",
       "  0.880145976054805,\n",
       "  0.897304564952942,\n",
       "  0.8770087713682054,\n",
       "  0.8923106472885588,\n",
       "  0.8476855112363147,\n",
       "  0.8495422242140982,\n",
       "  0.8538958960240732,\n",
       "  0.8729111978999936,\n",
       "  0.8243165375504193,\n",
       "  0.8409629297650297,\n",
       "  0.8656764197451822,\n",
       "  0.8896856392854856,\n",
       "  0.8683014277482554,\n",
       "  0.8836033036686087,\n",
       "  0.821755554132787,\n",
       "  0.828478135604072,\n",
       "  0.8814264677636212,\n",
       "  0.897304564952942,\n",
       "  0.8812343940072987,\n",
       "  0.8971765157820603,\n",
       "  0.8760484025865932,\n",
       "  0.8833472053268455,\n",
       "  0.8323196107305205,\n",
       "  0.8327037582431653,\n",
       "  0.8887892950893143,\n",
       "  0.8973685895383827,\n",
       "  0.8870606312824124,\n",
       "  0.8981368845636725,\n",
       "  0.8766246238555605,\n",
       "  0.8862283116716819,\n",
       "  0.8364812087841731,\n",
       "  0.8357769383443242,\n",
       "  0.8832831807414047,\n",
       "  0.8985850566617581,\n",
       "  0.8734874191689609,\n",
       "  0.8878289263077022,\n",
       "  0.8302708239964146,\n",
       "  0.8332159549266919,\n",
       "  0.8871246558678533,\n",
       "  0.89794481080735,\n",
       "  0.8897496638709265,\n",
       "  0.8986490812471989,\n",
       "  0.8757282796593892,\n",
       "  0.8837953774249312,\n",
       "  0.8016518343043729,\n",
       "  0.8072859978231641,\n",
       "  0.8890453934310776,\n",
       "  0.8789295089314296,\n",
       "  0.8977527370510276,\n",
       "  0.8775209680517319,\n",
       "  0.8903899097253345,\n",
       "  0.8503105192393879,\n",
       "  0.8522312568026122,\n",
       "  0.8576093219796401,\n",
       "  0.87579230424483,\n",
       "  0.8474934374799923,\n",
       "  0.8631794609129906,\n",
       "  0.8364171841987323,\n",
       "  0.852295281388053,\n",
       "  0.8471092899673475,\n",
       "  0.8701581407260388,\n",
       "  0.8413470772776747,\n",
       "  0.8646520263781292,\n",
       "  0.8423074460592868,\n",
       "  0.8625392150585824,\n",
       "  0.8625392150585824,\n",
       "  0.8845636724502209,\n",
       "  0.8303988731672962,\n",
       "  0.8430757410845765,\n",
       "  0.8780971893206991,\n",
       "  0.8984570074908765,\n",
       "  0.8679813048210513,\n",
       "  0.8815545169345028,\n",
       "  0.8198988411550036,\n",
       "  0.8228439720852807,\n",
       "  0.8891734426019592,\n",
       "  0.8958960240732441,\n",
       "  0.8913502785069467,\n",
       "  0.899289327101607,\n",
       "  0.8820026890325885,\n",
       "  0.8933990652410526,\n",
       "  0.8308470452653819,\n",
       "  0.8295665535565657,\n",
       "  0.8928228439720853,\n",
       "  0.8985850566617581,\n",
       "  0.894935655291632,\n",
       "  0.8988411550035214,\n",
       "  0.8878289263077022,\n",
       "  0.8971124911966195,\n",
       "  0.8715026570202958,\n",
       "  0.8805301235674499,\n",
       "  0.8266854472117293,\n",
       "  0.8278378897496639,\n",
       "  0.8869966066969717,\n",
       "  0.8998655483705743,\n",
       "  0.8875088033804981,\n",
       "  0.899289327101607,\n",
       "  0.8722709520455855,\n",
       "  0.8844996478647801,\n",
       "  0.8218195787182278,\n",
       "  0.8265573980408477,\n",
       "  0.8813624431781805,\n",
       "  0.8998015237851335,\n",
       "  0.8773288942954094,\n",
       "  0.8901338113835713,\n",
       "  0.8195146936423586,\n",
       "  0.8192585953005954,\n",
       "  0.8939752865100199,\n",
       "  0.891926499775914,\n",
       "  0.8998015237851335,\n",
       "  0.8912222293360651,\n",
       "  0.9005698188104232,\n",
       "  0.8858441641590371,\n",
       "  0.8980728599782316,\n",
       "  0.8631794609129906,\n",
       "  0.8645239772072476,\n",
       "  0.8198988411550036,\n",
       "  0.8235482425251297,\n",
       "  0.8930789423138485,\n",
       "  0.8921825981176772,\n",
       "  0.8994814008579295,\n",
       "  0.8980088353927909,\n",
       "  0.8994173762724886,\n",
       "  0.8980088353927909,\n",
       "  0.8982649337345541,\n",
       "  0.898969204174403,\n",
       "  0.8978167616364684,\n",
       "  0.896280171585889,\n",
       "  0.9001856712977784,\n",
       "  0.8978807862219093,\n",
       "  0.8976887124655868,\n",
       "  0.8980728599782316,\n",
       "  0.8964722453422114,\n",
       "  0.90031372046866,\n",
       "  0.8910941801651834,\n",
       "  0.8995454254433702,\n",
       "  0.8785453614187848,\n",
       "  0.8843075741084576,\n",
       "  0.7921761956591331,\n",
       "  0.7999231704974711,\n",
       "  0.889557590114604,\n",
       "  0.8572891990524362,\n",
       "  0.8914783276778283,\n",
       "  0.8548562648056853,\n",
       "  0.8685575260900186,\n",
       "  0.839874511812536,\n",
       "  0.8530635764133427,\n",
       "  0.8568410269543505,\n",
       "  0.874127665023369,\n",
       "  0.8238683654523337,\n",
       "  0.836865356296818,\n",
       "  0.8873807542096165,\n",
       "  0.9007618925667457,\n",
       "  0.896280171585889,\n",
       "  0.9008259171521864,\n",
       "  0.8923746718739997,\n",
       "  0.9014661630065945,\n",
       "  0.8764325500992382,\n",
       "  0.8848837953774249,\n",
       "  0.8270055701389334,\n",
       "  0.8295665535565657,\n",
       "  0.8886612459184327,\n",
       "  0.9001856712977784,\n",
       "  0.8942313848517831,\n",
       "  0.9014021384211537,\n",
       "  0.8881490492349062,\n",
       "  0.8992253025161662,\n",
       "  0.8485178308470452,\n",
       "  0.8467251424547027,\n",
       "  0.8681733785773738,\n",
       "  0.8873167296241757,\n",
       "  0.8460208720148537,\n",
       "  0.8582495678340483,\n",
       "  0.8486458800179268,\n",
       "  0.8657404443306229,\n",
       "  0.823100070427044,\n",
       "  0.8367373071259364,\n",
       "  0.8838594020103719,\n",
       "  0.9021064088610026,\n",
       "  0.8732953454126384,\n",
       "  0.8876368525513797,\n",
       "  0.8314232665343492,\n",
       "  0.843908060695307,\n",
       "  0.8751520583904219,\n",
       "  0.8955118765605993,\n",
       "  0.8697099686279531,\n",
       "  0.8822587873743517,\n",
       "  0.8368013317113772,\n",
       "  0.8465330686983802,\n",
       "  0.8659325180869454,\n",
       "  0.8853959920609514,\n",
       "  0.8250848325757091,\n",
       "  0.8403867084960625,\n",
       "  0.8822587873743517,\n",
       "  0.901658236762917,\n",
       "  0.878801459760548,\n",
       "  0.8944874831935463,\n",
       "  0.8599142070555094,\n",
       "  0.8647800755490108,\n",
       "  0.8573532236378769,\n",
       "  0.8708624111658877,\n",
       "  0.8558806581727383,\n",
       "  0.8755362059030668,\n",
       "  0.8417952493757603,\n",
       "  0.8624111658877008,\n",
       "  0.8328958319994878,\n",
       "  0.8505666175811512,\n",
       "  0.8722709520455855,\n",
       "  0.8955118765605993,\n",
       "  0.8605544529099174,\n",
       "  0.8770727959536462,\n",
       "  0.8478775849926372,\n",
       "  0.8658044689160638,\n",
       "  0.8530635764133427,\n",
       "  0.8727191241436711,\n",
       "  0.8615148216915296,\n",
       "  0.8807221973237723,\n",
       "  0.8473013637236699,\n",
       "  0.8643319034509251,\n",
       "  0.8570971252961137,\n",
       "  0.8792496318586337,\n",
       "  0.8474934374799923,\n",
       "  0.8674691081375248,\n",
       "  0.8556245598309751,\n",
       "  0.8729111978999936,\n",
       "  0.8490940521160125,\n",
       "  0.865420321403419,\n",
       "  0.8457647736730904,\n",
       "  0.8656123951597413,\n",
       "  0.8664447147704719,\n",
       "  0.8877008771368206,\n",
       "  0.8558166335872975,\n",
       "  0.8688136244317818,\n",
       "  0.8484538062616045,\n",
       "  0.8713105832639734,\n",
       "  0.831167168192586,\n",
       "  0.850630642166592,\n",
       "  0.8627953134003458,\n",
       "  0.8879569754785838,\n",
       "  0.8627953134003458,\n",
       "  0.8836033036686087,\n",
       "  0.849286125872335,\n",
       "  0.8688776490172226,\n",
       "  0.8480056341635188,\n",
       "  0.8661245918432678,\n",
       "  0.853319674755106,\n",
       "  0.8752160829758627,\n",
       "  0.8362891350278507,\n",
       "  0.8557526090018567,\n",
       "  0.8764965746846789,\n",
       "  0.8989051795889622,\n",
       "  0.8579294449068442,\n",
       "  0.8749599846340995,\n",
       "  0.8458287982585313,\n",
       "  0.8608105512516806,\n",
       "  0.8592739612011012,\n",
       "  0.8823228119597926,\n",
       "  0.8659965426723862,\n",
       "  0.8868045329406492,\n",
       "  0.8528074780715795,\n",
       "  0.86471605096357,\n",
       "  0.8702221653114796,\n",
       "  0.8932069914847302,\n",
       "  0.8609386004225623,\n",
       "  0.8755362059030668,\n",
       "  0.8438440361098661,\n",
       "  0.8560727319290607,\n",
       "  0.8575452973941994,\n",
       "  0.8775849926371727,\n",
       "  0.8593379857865421,\n",
       "  0.8802100006402459,\n",
       "  0.8451885524041232,\n",
       "  0.8640758051091619,\n",
       "  0.8689416736026634,\n",
       "  0.8958319994878033,\n",
       "  0.8551763877328894,\n",
       "  0.863371534669313,\n",
       "  0.8565209040271464,\n",
       "  0.8748319354632179,\n",
       "  0.8499263717267431,\n",
       "  0.8700300915551572,\n",
       "  0.8578654203214034,\n",
       "  0.878801459760548,\n",
       "  0.8571611498815546,\n",
       "  0.8795057302003969,\n",
       "  0.8366732825404956,\n",
       "  0.8520391830462898,\n",
       "  0.8749599846340995,\n",
       "  0.9005698188104232,\n",
       "  0.8742557141942506,\n",
       "  0.892566745630322,\n",
       "  0.8545361418784814,\n",
       "  0.8691977719444267,\n",
       "  0.8535757730968692,\n",
       "  0.8715026570202958,\n",
       "  0.8592739612011012,\n",
       "  0.8806581727383315,\n",
       "  0.8569690761252321,\n",
       "  0.8728471733145527,\n",
       "  0.8696459440425123,\n",
       "  0.8889813688456367,\n",
       "  0.848261732505282,\n",
       "  0.8585056661758115,\n",
       "  0.863051411742109,\n",
       "  0.8813624431781805,\n",
       "  0.8334720532684551,\n",
       "  0.8450605032332416,\n",
       "  0.882514885716115,\n",
       "  0.9037070234970228,\n",
       "  0.8905179588962161,\n",
       "  0.9036429989115821,\n",
       "  0.8783532876624623,\n",
       "  0.893911261924579,\n",
       "  0.8607465266662399,\n",
       "  0.8700300915551572,\n",
       "  0.8551123631474487,\n",
       "  0.8705422882386836,\n",
       "  0.8505025929957104,\n",
       "  0.8688776490172226,\n",
       "  0.8529995518279019,\n",
       "  0.874447787950573,\n",
       "  0.8652922722325372,\n",
       "  0.8898136884563672,\n",
       "  0.8631794609129906,\n",
       "  0.878801459760548,\n",
       "  0.833151930341251,\n",
       "  0.8396184134707728,\n",
       "  0.8892374671873999,\n",
       "  0.9036429989115821,\n",
       "  0.8932069914847302,\n",
       "  0.9049234906203982,\n",
       "  0.8882770984057878,\n",
       "  0.9015942121774762,\n",
       "  0.8758563288302709,\n",
       "  0.8916704014341507,\n",
       "  0.8574172482233178,\n",
       "  0.8703502144823613,\n",
       "  0.8492221012868941,\n",
       "  0.8683654523336961,\n",
       "  0.8437800115244254,\n",
       "  0.8631154363275498,\n",
       "  0.8658684935015046,\n",
       "  0.8869966066969717,\n",
       "  0.8546001664639221,\n",
       "  0.8743837633651322,\n",
       "  0.8686215506754594,\n",
       "  0.892566745630322,\n",
       "  0.862027018375056,\n",
       "  0.8733593699980793,\n",
       "  0.8449964786478008,\n",
       "  0.8604264037390358,\n",
       "  0.8607465266662399,\n",
       "  0.8882770984057878,\n",
       "  0.874447787950573,\n",
       "  0.8949996798770729,\n",
       "  0.8477495358217556,\n",
       "  0.8637556821819579,\n",
       "  0.8719508291183815,\n",
       "  0.8902618605544529,\n",
       "  0.8559446827581791,\n",
       "  0.872783148729112,\n",
       "  0.8460848966002945,\n",
       "  0.8615788462769703,\n",
       "  0.863371534669313,\n",
       "  0.8891094180165183,\n",
       "  0.8300787502400921,\n",
       "  0.8439720852807479,\n",
       "  0.8853319674755106,\n",
       "  0.905691785645688,\n",
       "  0.8898136884563672,\n",
       "  0.904347269351431,\n",
       "  0.8829630578142007,\n",
       "  0.8957679749023625,\n",
       "  0.8725910749727895,\n",
       "  0.8889813688456367,\n",
       "  0.8639477559382803,\n",
       "  0.87579230424483,\n",
       "  0.8549202893911262,\n",
       "  0.8668928868685575,\n",
       "  0.8497342979704207,\n",
       "  0.867405083552084,\n",
       "  0.8658044689160638,\n",
       "  0.8900697867981305,\n",
       "  0.8407708560087074,\n",
       "  0.8497983225558614,\n",
       "  0.8693898457007491,\n",
       "  0.8952557782188361,\n",
       "  0.8620910429604969,\n",
       "  0.883539279083168,\n",
       "  0.8597861578846276,\n",
       "  0.8817465906908253,\n",
       "  0.8593379857865421,\n",
       "  0.8770727959536462,\n",
       "  0.860682502080799,\n",
       "  0.8794417056149562,\n",
       "  0.8556245598309751,\n",
       "  0.8704782636532429,\n",
       "  0.8746398617068954,\n",
       "  0.8952557782188361,\n",
       "  0.8780331647352584,\n",
       "  0.8949996798770729,\n",
       "  0.8601062808118317,\n",
       "  0.872783148729112,\n",
       "  0.8544721172930405,\n",
       "  0.8761764517574748,\n",
       "  0.8410909789359113,\n",
       "  0.8615148216915296,\n",
       "  0.8685575260900186,\n",
       "  0.8894935655291631,\n",
       "  0.8623471413022601,\n",
       "  0.8798898777130418,\n",
       "  0.8487739291888085,\n",
       "  0.8632434854984314,\n",
       "  0.8544721172930405,\n",
       "  0.8824508611306742,\n",
       "  0.8576093219796401,\n",
       "  0.8783532876624623,\n",
       "  0.8485818554324861,\n",
       "  0.8639477559382803,\n",
       "  0.8776490172226135,\n",
       "  0.90031372046866,\n",
       "  0.8800819514693642,\n",
       "  0.8972405403675011,\n",
       "  0.8726550995582304,\n",
       "  0.8887892950893143,\n",
       "  0.8565849286125873,\n",
       "  0.8635636084256354,\n",
       "  0.8602983545681542,\n",
       "  0.8827069594724374,\n",
       "  0.8518471092899673,\n",
       "  0.8698380177988347,\n",
       "  0.860682502080799,\n",
       "  0.8839874511812535,\n",
       "  0.8502464946539471,\n",
       "  0.8695819194570715,\n",
       "  0.8638197067673987,\n",
       "  0.8901338113835713,\n",
       "  0.8818746398617069,\n",
       "  0.900633843395864,\n",
       "  0.8827709840578782,\n",
       "  0.8985850566617581,\n",
       "  0.868429476919137,\n",
       "  0.8824508611306742,\n",
       "  0.8475574620654331,\n",
       "  ...]}"
      ]
     },
     "execution_count": 19,
     "metadata": {},
     "output_type": "execute_result"
    }
   ],
   "source": [
    "{key: history_list[300][key] for key in keys_for_df}"
   ]
  },
  {
   "cell_type": "code",
   "execution_count": 20,
   "metadata": {},
   "outputs": [],
   "source": [
    "hist_0_df = pd.DataFrame({key: history_list[29][key] for key in keys_for_df})\n",
    "hist_1_df = pd.DataFrame({key: history_list[300][key] for key in keys_for_df})"
   ]
  },
  {
   "cell_type": "code",
   "execution_count": 62,
   "metadata": {},
   "outputs": [
    {
     "data": {
      "text/plain": [
       "[]"
      ]
     },
     "execution_count": 62,
     "metadata": {},
     "output_type": "execute_result"
    },
    {
     "data": {
      "image/png": "[encoded data removed]",
      "text/plain": [
       "<Figure size 432x288 with 1 Axes>"
      ]
     },
     "metadata": {
      "needs_background": "light"
     },
     "output_type": "display_data"
    }
   ],
   "source": [
    "sns.lineplot(x = np.cumsum(np.arange(len(hist_0_df['accuracy']))), y=hist_0_df['accuracy'])\n",
    "sns.lineplot(x = np.cumsum(np.arange(len(hist_1_df['accuracy']))), y=hist_1_df['accuracy'])\n",
    "# plt.semilogy()"
   ]
  },
  {
   "cell_type": "code",
   "execution_count": 22,
   "metadata": {},
   "outputs": [],
   "source": [
    "import pickle\n",
    "with open('GD_SGD_step_alpha_beta_batch_size.pkl', 'wb') as f:\n",
    "    pickle.dump(history_list, f)"
   ]
  },
  {
   "cell_type": "markdown",
   "metadata": {},
   "source": [
    "## Эксперименты с различными начальными приближениями:\n",
    "https://datascience.stackexchange.com/questions/30989/what-are-the-cases-where-it-is-fine-to-initialize-all-weights-to-zero\n",
    "###   Рассмотрим 7 экспериментов: \n",
    "    1) w_0 = 0\n",
    "    2) w_0 = uniform(0, 1)\n",
    "    3) w_0 = uniform(100, 500)\n",
    "    4) w_0 = uniform(1000, 5000)\n",
    "    5) w_0 = uniform (10000, 50000)\n",
    "    6) w_0 = normal with mean = 0, std = 1\n",
    "    7) w_0 = normal with mean = 0.5, std = 0.5"
   ]
  },
  {
   "cell_type": "code",
   "execution_count": 23,
   "metadata": {},
   "outputs": [],
   "source": [
    "w_0_list = []\n",
    "w_0_list.append(np.zeros(train_data_processed_2_with_bias.shape[1]))\n",
    "w_0_list.append(np.random.uniform(0, 1, size=train_data_processed_2_with_bias.shape[1]))\n",
    "\n",
    "w_0_list.append(np.random.uniform(100, 500, size=train_data_processed_2_with_bias.shape[1]))\n",
    "w_0_list.append(np.random.uniform(1000, 5000, size=train_data_processed_2_with_bias.shape[1]))\n",
    "w_0_list.append(np.random.uniform(10000, 50000, size=train_data_processed_2_with_bias.shape[1]))\n",
    "w_0_list.append(np.random.normal(0, 1, size=train_data_processed_2_with_bias.shape[1]))\n",
    "w_0_list.append(np.random.normal(0.5, 0.5, size=train_data_processed_2_with_bias.shape[1]))"
   ]
  },
  {
   "cell_type": "code",
   "execution_count": 24,
   "metadata": {},
   "outputs": [
    {
     "data": {
      "text/plain": [
       "(52061, 91840)"
      ]
     },
     "execution_count": 24,
     "metadata": {},
     "output_type": "execute_result"
    }
   ],
   "source": [
    "train_data_processed_2_with_bias.shape"
   ]
  },
  {
   "cell_type": "code",
   "execution_count": 25,
   "metadata": {},
   "outputs": [
    {
     "data": {
      "text/plain": [
       "(91840,)"
      ]
     },
     "execution_count": 25,
     "metadata": {},
     "output_type": "execute_result"
    }
   ],
   "source": [
    "w_0_list[0].shape"
   ]
  },
  {
   "cell_type": "markdown",
   "metadata": {},
   "source": [
    "###  Выберем лучшие параметры из прошлого эксперимента:"
   ]
  },
  {
   "cell_type": "code",
   "execution_count": 26,
   "metadata": {},
   "outputs": [],
   "source": [
    "import pickle \n",
    "history_list = []\n",
    "with open('GD_SGD_step_alpha_beta_batch_size.pkl', 'rb') as f:\n",
    "    history_list = pickle.load(f)"
   ]
  },
  {
   "cell_type": "code",
   "execution_count": 27,
   "metadata": {},
   "outputs": [],
   "source": [
    "max_acc = [0, 0]\n",
    "arg_max = [0, 0]\n",
    "for i, history in enumerate(history_list):\n",
    "    if history['classifier_type'] == 'GD':\n",
    "        if np.max(history['accuracy']) > max_acc[0]:\n",
    "            max_acc[0] = np.max(history['accuracy'])\n",
    "            arg_max[0] = i\n",
    "    else:\n",
    "        if np.max(history['accuracy']) > max_acc[1]:\n",
    "            max_acc[1] = np.max(history['accuracy'])\n",
    "            arg_max[1] = i\n",
    "    "
   ]
  },
  {
   "cell_type": "code",
   "execution_count": 28,
   "metadata": {},
   "outputs": [
    {
     "name": "stdout",
     "output_type": "stream",
     "text": [
      "10 0.001 GD 0.9136308342403483\n",
      "10 0 SGD 0.9149113259491645\n"
     ]
    }
   ],
   "source": [
    "print(history_list[arg_max[0]]['step_alpha'],\n",
    "      history_list[arg_max[0]]['step_beta'],\n",
    "      history_list[arg_max[0]]['classifier_type'],\n",
    "      max_acc[0])\n",
    "\n",
    "print(history_list[arg_max[1]]['step_alpha'],\n",
    "      history_list[arg_max[1]]['step_beta'],\n",
    "      history_list[arg_max[1]]['classifier_type'],\n",
    "      max_acc[1])"
   ]
  },
  {
   "cell_type": "code",
   "execution_count": 29,
   "metadata": {},
   "outputs": [
    {
     "data": {
      "application/vnd.jupyter.widget-view+json": {
       "model_id": "0a102f0d6ebf4f3796db5309e97550bf",
       "version_major": 2,
       "version_minor": 0
      },
      "text/plain": [
       "HBox(children=(IntProgress(value=1, bar_style='info', max=1), HTML(value='')))"
      ]
     },
     "metadata": {},
     "output_type": "display_data"
    },
    {
     "name": "stdout",
     "output_type": "stream",
     "text": [
      "\n"
     ]
    }
   ],
   "source": [
    "import tqdm\n",
    "step_alpha_list = [history_list[arg_max[0]]['step_alpha']]\n",
    "step_beta_list = [history_list[arg_max[0]]['step_beta']]\n",
    "batch_size_list = [history_list[arg_max[1]]['batch_size']]\n",
    "history_list = []\n",
    "for history in tqdm.tqdm_notebook(experiment_cycle(train_data_processed_2_with_bias, target_train.values,\n",
    "                                step_alpha_list,\n",
    "                                step_beta_list,\n",
    "                                w_0_list=w_0_list,\n",
    "                                batch_size_list=batch_size_list)):\n",
    "    history_list.append(history)"
   ]
  },
  {
   "cell_type": "code",
   "execution_count": 30,
   "metadata": {},
   "outputs": [
    {
     "data": {
      "text/plain": [
       "(0.9136308342403483, 0.9131186375568218)"
      ]
     },
     "execution_count": 30,
     "metadata": {},
     "output_type": "execute_result"
    }
   ],
   "source": [
    "max(history_list[0]['accuracy']), max(history_list[-1]['accuracy'])"
   ]
  },
  {
   "cell_type": "code",
   "execution_count": 31,
   "metadata": {},
   "outputs": [],
   "source": [
    "import pickle\n",
    "with open('GD_SGD_w_0_init.pkl', 'wb') as f:\n",
    "    pickle.dump(history_list, f)"
   ]
  },
  {
   "cell_type": "code",
   "execution_count": 32,
   "metadata": {},
   "outputs": [],
   "source": [
    "with open('GD_SGD_w_0_init.pkl', 'rb') as f:\n",
    "    history_list = pickle.load(f)"
   ]
  },
  {
   "cell_type": "code",
   "execution_count": 33,
   "metadata": {},
   "outputs": [],
   "source": [
    "max_acc = [0, 0]\n",
    "arg_max = [0, 0]\n",
    "for i, history in enumerate(history_list):\n",
    "    if history['classifier_type'] == 'GD':\n",
    "        if np.max(history['accuracy']) > max_acc[0]:\n",
    "            max_acc[0] = np.max(history['accuracy'])\n",
    "            arg_max[0] = i\n",
    "    else:\n",
    "        if np.max(history['accuracy']) > max_acc[1]:\n",
    "            max_acc[1] = np.max(history['accuracy'])\n",
    "            arg_max[1] = i\n",
    "    "
   ]
  },
  {
   "cell_type": "code",
   "execution_count": 34,
   "metadata": {},
   "outputs": [
    {
     "name": "stdout",
     "output_type": "stream",
     "text": [
      "10 0.001 GD 0.914399129265638 6\n",
      "10 0.001 SGD 0.9138869325821115 1\n"
     ]
    }
   ],
   "source": [
    "print(history_list[arg_max[0]]['step_alpha'],\n",
    "      history_list[arg_max[0]]['step_beta'],\n",
    "      history_list[arg_max[0]]['classifier_type'],\n",
    "      max_acc[0],\n",
    "      arg_max[0] + 1)\n",
    "\n",
    "print(history_list[arg_max[1]]['step_alpha'],\n",
    "      history_list[arg_max[1]]['step_beta'],\n",
    "      history_list[arg_max[1]]['classifier_type'],\n",
    "      max_acc[1],\n",
    "      arg_max[1] - 6)"
   ]
  },
  {
   "cell_type": "code",
   "execution_count": 35,
   "metadata": {},
   "outputs": [
    {
     "name": "stderr",
     "output_type": "stream",
     "text": [
      "[nltk_data] Downloading package wordnet to /home/paniquex/nltk_data...\n",
      "[nltk_data]   Package wordnet is already up-to-date!\n"
     ]
    },
    {
     "data": {
      "text/plain": [
       "True"
      ]
     },
     "execution_count": 35,
     "metadata": {},
     "output_type": "execute_result"
    }
   ],
   "source": [
    "import nltk\n",
    "nltk.download('wordnet')"
   ]
  },
  {
   "cell_type": "code",
   "execution_count": 36,
   "metadata": {},
   "outputs": [],
   "source": [
    "from nltk.corpus.reader.wordnet import VERB\n",
    "lemmatizer = nltk.WordNetLemmatizer() "
   ]
  },
  {
   "cell_type": "code",
   "execution_count": 37,
   "metadata": {},
   "outputs": [
    {
     "data": {
      "text/plain": [
       "0         explanation why the edits made under my userna...\n",
       "1         d aww  he matches this background colour i m s...\n",
       "2         hey man  i m really not trying to edit war  it...\n",
       "3           more i can t make any real suggestions on im...\n",
       "4         you  sir  are my hero  any chance you remember...\n",
       "                                ...                        \n",
       "159494        our previous conversation   you fucking sh...\n",
       "159514                    you are a mischievious pubic hair\n",
       "159541    your absurd edits   your absurd edits on great...\n",
       "159546       hey listen don t you ever     delete my edi...\n",
       "159554    and i m going to keep posting the stuff u dele...\n",
       "Name: comment_text, Length: 52061, dtype: object"
      ]
     },
     "execution_count": 37,
     "metadata": {},
     "output_type": "execute_result"
    }
   ],
   "source": [
    "train_data_processed_1"
   ]
  },
  {
   "cell_type": "code",
   "execution_count": 38,
   "metadata": {},
   "outputs": [
    {
     "name": "stdout",
     "output_type": "stream",
     "text": [
      "CPU times: user 11.7 s, sys: 92 ms, total: 11.8 s\n",
      "Wall time: 11.8 s\n"
     ]
    }
   ],
   "source": [
    "%%time\n",
    "train_data_processed_lemmatized = train_data_processed_1.apply(lambda x: x.split()).apply(lambda x: [lemmatizer.lemmatize(elem) for elem in x])\n",
    "test_data_processed_lemmatized = test_data_processed_1.apply(lambda x: x.split()).apply(lambda x: [lemmatizer.lemmatize(elem) for elem in x])"
   ]
  },
  {
   "cell_type": "code",
   "execution_count": 39,
   "metadata": {},
   "outputs": [
    {
     "data": {
      "text/plain": [
       "0         [explanation, why, the, edits, made, under, my...\n",
       "1         [d, aww, he, match, this, background, colour, ...\n",
       "2         [hey, man, i, m, really, not, trying, to, edit...\n",
       "3         [more, i, can, t, make, any, real, suggestion,...\n",
       "4         [you, sir, are, my, hero, any, chance, you, re...\n",
       "                                ...                        \n",
       "159494    [our, previous, conversation, you, fucking, sh...\n",
       "159514             [you, are, a, mischievious, pubic, hair]\n",
       "159541    [your, absurd, edits, your, absurd, edits, on,...\n",
       "159546    [hey, listen, don, t, you, ever, delete, my, e...\n",
       "159554    [and, i, m, going, to, keep, posting, the, stu...\n",
       "Name: comment_text, Length: 52061, dtype: object"
      ]
     },
     "execution_count": 39,
     "metadata": {},
     "output_type": "execute_result"
    }
   ],
   "source": [
    "train_data_processed_lemmatized"
   ]
  },
  {
   "cell_type": "code",
   "execution_count": 40,
   "metadata": {},
   "outputs": [
    {
     "name": "stderr",
     "output_type": "stream",
     "text": [
      "[nltk_data] Downloading package stopwords to\n",
      "[nltk_data]     /home/paniquex/nltk_data...\n",
      "[nltk_data]   Package stopwords is already up-to-date!\n"
     ]
    }
   ],
   "source": [
    "from nltk.corpus import stopwords\n",
    "nltk.download('stopwords')\n",
    "stopwords_set = set(stopwords.words('english'))"
   ]
  },
  {
   "cell_type": "code",
   "execution_count": 41,
   "metadata": {},
   "outputs": [
    {
     "name": "stdout",
     "output_type": "stream",
     "text": [
      "CPU times: user 88.5 ms, sys: 4 ms, total: 92.5 ms\n",
      "Wall time: 92.3 ms\n"
     ]
    }
   ],
   "source": [
    "%%time\n",
    "# train_data_processed_3 = train_data_processed_lemmatized.apply(lambda x: [elem for elem in x if elem not in stopwords_set])\n",
    "train_data_processed_3 = train_data_processed_lemmatized.apply(lambda x: ' '.join(x))\n",
    "\n",
    "# test_data_processed_3 = test_data_processed_lemmatized.apply(lambda x: [elem for elem in x if elem not in stopwords_set])\n",
    "test_data_processed_3 = test_data_processed_lemmatized.apply(lambda x: ' '.join(x))"
   ]
  },
  {
   "cell_type": "code",
   "execution_count": 42,
   "metadata": {
    "scrolled": true
   },
   "outputs": [
    {
     "name": "stdout",
     "output_type": "stream",
     "text": [
      "CPU times: user 2.46 s, sys: 3.96 ms, total: 2.46 s\n",
      "Wall time: 2.46 s\n"
     ]
    }
   ],
   "source": [
    "%%time\n",
    "train_data_processed_3 = countVect.fit_transform(train_data_processed_3)\n",
    "test_data_processed_3 = countVect.transform(test_data_processed_3)"
   ]
  },
  {
   "cell_type": "code",
   "execution_count": 43,
   "metadata": {},
   "outputs": [
    {
     "data": {
      "text/plain": [
       "<52061x85480 sparse matrix of type '<class 'numpy.int64'>'\n",
       "\twith 2072093 stored elements in Compressed Sparse Row format>"
      ]
     },
     "execution_count": 43,
     "metadata": {},
     "output_type": "execute_result"
    }
   ],
   "source": [
    "train_data_processed_3"
   ]
  },
  {
   "cell_type": "markdown",
   "metadata": {},
   "source": [
    "Add bias"
   ]
  },
  {
   "cell_type": "code",
   "execution_count": 44,
   "metadata": {},
   "outputs": [],
   "source": [
    "bias_feature_train = np.ones(train_data.shape[0])\n",
    "bias_feature_test = np.ones(test_data.shape[0])\n",
    "bias_feature_train = scipy.sparse.csr_matrix(bias_feature_train).T\n",
    "bias_feature_test = scipy.sparse.csr_matrix(bias_feature_test).T\n",
    "train_data_processed_3_with_bias = scipy.sparse.hstack([bias_feature_train, train_data_processed_3])\n",
    "test_data_processed_3_with_bias = scipy.sparse.hstack([bias_feature_test, test_data_processed_3])"
   ]
  },
  {
   "cell_type": "markdown",
   "metadata": {},
   "source": [
    "## Так как лучшими значениями для w_0 оказались:\n",
    "    1) GD - w_0 = zeros\n",
    "    2) SGD - w_0 = np.random.uniform(0, 1, size=train_data_processed_2_with_bias.shape[1]), поэтому:"
   ]
  },
  {
   "cell_type": "code",
   "execution_count": 45,
   "metadata": {},
   "outputs": [
    {
     "data": {
      "application/vnd.jupyter.widget-view+json": {
       "model_id": "a1ebbf6fa43744b8b7bf5c2871850b2c",
       "version_major": 2,
       "version_minor": 0
      },
      "text/plain": [
       "HBox(children=(IntProgress(value=1, bar_style='info', max=1), HTML(value='')))"
      ]
     },
     "metadata": {},
     "output_type": "display_data"
    },
    {
     "name": "stdout",
     "output_type": "stream",
     "text": [
      "\n"
     ]
    }
   ],
   "source": [
    "import tqdm\n",
    "step_alpha_list = [history_list[arg_max[0]]['step_alpha']]\n",
    "step_beta_list = [history_list[arg_max[0]]['step_beta']]\n",
    "batch_size_list = [history_list[arg_max[1]]['batch_size']]\n",
    "w_0_list = []\n",
    "# w_0_list.append(np.zeros(train_data_processed_3_with_bias.shape[1]))\n",
    "w_0_list.append(np.random.normal(0, 1, size=train_data_processed_3_with_bias.shape[1]))\n",
    "w_0_list.append(np.random.uniform(0, 1, size=train_data_processed_3_with_bias.shape[1]))\n",
    "\n",
    "# w_0_list.append(np.random.uniform(100, 500, size=train_data_processed_2_with_bias.shape[1]))\n",
    "# w_0_list.append(np.random.uniform(1000, 5000, size=train_data_processed_2_with_bias.shape[1]))\n",
    "# w_0_list.append(np.random.uniform(10000, 50000, size=train_data_processed_2_with_bias.shape[1]))\n",
    "# w_0_list.append(np.random.normal(0, 1, size=train_data_processed_2_with_bias.shape[1]))\n",
    "# w_0_list.append(np.random.normal(0.5, 0.5, size=train_data_processed_2_with_bias.shape[1]))\n",
    "history_list = []\n",
    "for history in tqdm.tqdm_notebook(experiment_cycle(train_data_processed_3_with_bias, target_train.values,\n",
    "                                step_alpha_list,\n",
    "                                step_beta_list,\n",
    "                                w_0_list=w_0_list,\n",
    "                                batch_size_list=batch_size_list)):\n",
    "    history_list.append(history)"
   ]
  },
  {
   "cell_type": "code",
   "execution_count": 46,
   "metadata": {},
   "outputs": [],
   "source": [
    "max_acc = [0, 0]\n",
    "arg_max = [0, 0]\n",
    "for i, history in enumerate(history_list):\n",
    "    if history['classifier_type'] == 'GD':\n",
    "        if np.max(history['accuracy']) > max_acc[0]:\n",
    "            max_acc[0] = np.max(history['accuracy'])\n",
    "            arg_max[0] = i\n",
    "    else:\n",
    "        if np.max(history['accuracy']) > max_acc[1]:\n",
    "            max_acc[1] = np.max(history['accuracy'])\n",
    "            arg_max[1] = i\n",
    "    "
   ]
  },
  {
   "cell_type": "code",
   "execution_count": 47,
   "metadata": {},
   "outputs": [
    {
     "name": "stdout",
     "output_type": "stream",
     "text": [
      "10 0.001 GD 0.9097253345284589 2\n",
      "10 0.001 SGD 0.9161918176579806 2\n"
     ]
    }
   ],
   "source": [
    "print(history_list[arg_max[0]]['step_alpha'],\n",
    "      history_list[arg_max[0]]['step_beta'],\n",
    "      history_list[arg_max[0]]['classifier_type'],\n",
    "      max_acc[0],\n",
    "      arg_max[0] + 1)\n",
    "\n",
    "print(history_list[arg_max[1]]['step_alpha'],\n",
    "      history_list[arg_max[1]]['step_beta'],\n",
    "      history_list[arg_max[1]]['classifier_type'],\n",
    "      max_acc[1],\n",
    "      arg_max[1] - 1)"
   ]
  },
  {
   "cell_type": "code",
   "execution_count": 48,
   "metadata": {},
   "outputs": [],
   "source": [
    "import pickle\n",
    "with open('GD_SGD_lemmatized.pkl', 'wb') as f:\n",
    "    pickle.dump(history_list, f)"
   ]
  },
  {
   "cell_type": "code",
   "execution_count": 49,
   "metadata": {},
   "outputs": [],
   "source": [
    "import pickle\n",
    "with open('GD_SGD_lemmatized.pkl', 'rb') as f:\n",
    "    history_list = pickle.load(f)"
   ]
  },
  {
   "cell_type": "code",
   "execution_count": 50,
   "metadata": {},
   "outputs": [],
   "source": [
    "max_acc = [0, 0]\n",
    "arg_max = [0, 0]\n",
    "for i, history in enumerate(history_list):\n",
    "    if history['classifier_type'] == 'GD':\n",
    "        if np.max(history['accuracy']) > max_acc[0]:\n",
    "            max_acc[0] = np.max(history['accuracy'])\n",
    "            arg_max[0] = i\n",
    "    else:\n",
    "        if np.max(history['accuracy']) > max_acc[1]:\n",
    "            max_acc[1] = np.max(history['accuracy'])\n",
    "            arg_max[1] = i\n",
    "    "
   ]
  },
  {
   "cell_type": "code",
   "execution_count": 51,
   "metadata": {},
   "outputs": [
    {
     "name": "stdout",
     "output_type": "stream",
     "text": [
      "10 0.001 GD 0.9097253345284589 2\n",
      "10 0.001 SGD 0.9161918176579806 2\n"
     ]
    }
   ],
   "source": [
    "print(history_list[arg_max[0]]['step_alpha'],\n",
    "      history_list[arg_max[0]]['step_beta'],\n",
    "      history_list[arg_max[0]]['classifier_type'],\n",
    "      max_acc[0],\n",
    "      arg_max[0] + 1)\n",
    "\n",
    "print(history_list[arg_max[1]]['step_alpha'],\n",
    "      history_list[arg_max[1]]['step_beta'],\n",
    "      history_list[arg_max[1]]['classifier_type'],\n",
    "      max_acc[1],\n",
    "      arg_max[1] - 1)"
   ]
  },
  {
   "cell_type": "markdown",
   "metadata": {},
   "source": [
    "## Эксперименты с min_df и max_df\n",
    "Если мы рассматриваем 0 <= min_df <= 1; 0 <= max_df <= 1, то они связаны формулой: $min\\_df + max\\_df = 1$, поэтому будем исследовать значение параметра $min\\_df$"
   ]
  },
  {
   "cell_type": "code",
   "execution_count": 52,
   "metadata": {},
   "outputs": [
    {
     "data": {
      "application/vnd.jupyter.widget-view+json": {
       "model_id": "52f9c70d0cfb4dd0b00c60efc216ac2c",
       "version_major": 2,
       "version_minor": 0
      },
      "text/plain": [
       "HBox(children=(IntProgress(value=1, bar_style='info', max=1), HTML(value='')))"
      ]
     },
     "metadata": {},
     "output_type": "display_data"
    },
    {
     "name": "stdout",
     "output_type": "stream",
     "text": [
      "\n"
     ]
    },
    {
     "data": {
      "application/vnd.jupyter.widget-view+json": {
       "model_id": "ebfc904f7d0a4376ae70b2c257e90fe2",
       "version_major": 2,
       "version_minor": 0
      },
      "text/plain": [
       "HBox(children=(IntProgress(value=1, bar_style='info', max=1), HTML(value='')))"
      ]
     },
     "metadata": {},
     "output_type": "display_data"
    },
    {
     "name": "stdout",
     "output_type": "stream",
     "text": [
      "\n"
     ]
    },
    {
     "data": {
      "application/vnd.jupyter.widget-view+json": {
       "model_id": "95cafa2fe7c143a6b153085db2c3e3c0",
       "version_major": 2,
       "version_minor": 0
      },
      "text/plain": [
       "HBox(children=(IntProgress(value=1, bar_style='info', max=1), HTML(value='')))"
      ]
     },
     "metadata": {},
     "output_type": "display_data"
    },
    {
     "name": "stdout",
     "output_type": "stream",
     "text": [
      "\n"
     ]
    },
    {
     "data": {
      "application/vnd.jupyter.widget-view+json": {
       "model_id": "2d9f2e1339054c00ab3cfb6db68300f7",
       "version_major": 2,
       "version_minor": 0
      },
      "text/plain": [
       "HBox(children=(IntProgress(value=1, bar_style='info', max=1), HTML(value='')))"
      ]
     },
     "metadata": {},
     "output_type": "display_data"
    },
    {
     "name": "stdout",
     "output_type": "stream",
     "text": [
      "\n"
     ]
    },
    {
     "data": {
      "application/vnd.jupyter.widget-view+json": {
       "model_id": "f542a4afb633440c805e95ab8cd3a9e1",
       "version_major": 2,
       "version_minor": 0
      },
      "text/plain": [
       "HBox(children=(IntProgress(value=1, bar_style='info', max=1), HTML(value='')))"
      ]
     },
     "metadata": {},
     "output_type": "display_data"
    },
    {
     "name": "stdout",
     "output_type": "stream",
     "text": [
      "\n"
     ]
    },
    {
     "data": {
      "application/vnd.jupyter.widget-view+json": {
       "model_id": "a6f56ac9f6344ab285da751309eb7e8e",
       "version_major": 2,
       "version_minor": 0
      },
      "text/plain": [
       "HBox(children=(IntProgress(value=1, bar_style='info', max=1), HTML(value='')))"
      ]
     },
     "metadata": {},
     "output_type": "display_data"
    },
    {
     "name": "stdout",
     "output_type": "stream",
     "text": [
      "\n"
     ]
    },
    {
     "data": {
      "application/vnd.jupyter.widget-view+json": {
       "model_id": "49277d6b272f4c28b46c8282a694bf62",
       "version_major": 2,
       "version_minor": 0
      },
      "text/plain": [
       "HBox(children=(IntProgress(value=1, bar_style='info', max=1), HTML(value='')))"
      ]
     },
     "metadata": {},
     "output_type": "display_data"
    },
    {
     "name": "stdout",
     "output_type": "stream",
     "text": [
      "\n"
     ]
    },
    {
     "data": {
      "application/vnd.jupyter.widget-view+json": {
       "model_id": "7cfa6cfa6ff549118604590ff801dbbc",
       "version_major": 2,
       "version_minor": 0
      },
      "text/plain": [
       "HBox(children=(IntProgress(value=1, bar_style='info', max=1), HTML(value='')))"
      ]
     },
     "metadata": {},
     "output_type": "display_data"
    },
    {
     "name": "stdout",
     "output_type": "stream",
     "text": [
      "\n"
     ]
    },
    {
     "data": {
      "application/vnd.jupyter.widget-view+json": {
       "model_id": "5a8879a841bc4b5a95aefc8bfc87c113",
       "version_major": 2,
       "version_minor": 0
      },
      "text/plain": [
       "HBox(children=(IntProgress(value=1, bar_style='info', max=1), HTML(value='')))"
      ]
     },
     "metadata": {},
     "output_type": "display_data"
    },
    {
     "name": "stdout",
     "output_type": "stream",
     "text": [
      "\n"
     ]
    },
    {
     "data": {
      "application/vnd.jupyter.widget-view+json": {
       "model_id": "bf4e7c05caaa486d86dd8f1323afe695",
       "version_major": 2,
       "version_minor": 0
      },
      "text/plain": [
       "HBox(children=(IntProgress(value=1, bar_style='info', max=1), HTML(value='')))"
      ]
     },
     "metadata": {},
     "output_type": "display_data"
    },
    {
     "name": "stdout",
     "output_type": "stream",
     "text": [
      "\n"
     ]
    },
    {
     "data": {
      "application/vnd.jupyter.widget-view+json": {
       "model_id": "e9e18f6f4c0e475884c872ac9bd0198a",
       "version_major": 2,
       "version_minor": 0
      },
      "text/plain": [
       "HBox(children=(IntProgress(value=1, bar_style='info', max=1), HTML(value='')))"
      ]
     },
     "metadata": {},
     "output_type": "display_data"
    },
    {
     "name": "stdout",
     "output_type": "stream",
     "text": [
      "\n"
     ]
    },
    {
     "data": {
      "application/vnd.jupyter.widget-view+json": {
       "model_id": "71090be5f4fb4dadb75c965525bfc0be",
       "version_major": 2,
       "version_minor": 0
      },
      "text/plain": [
       "HBox(children=(IntProgress(value=1, bar_style='info', max=1), HTML(value='')))"
      ]
     },
     "metadata": {},
     "output_type": "display_data"
    },
    {
     "name": "stdout",
     "output_type": "stream",
     "text": [
      "\n"
     ]
    },
    {
     "data": {
      "application/vnd.jupyter.widget-view+json": {
       "model_id": "4c8c7ee5cd3d44fd966ff580eee909b2",
       "version_major": 2,
       "version_minor": 0
      },
      "text/plain": [
       "HBox(children=(IntProgress(value=1, bar_style='info', max=1), HTML(value='')))"
      ]
     },
     "metadata": {},
     "output_type": "display_data"
    },
    {
     "name": "stdout",
     "output_type": "stream",
     "text": [
      "\n"
     ]
    },
    {
     "data": {
      "application/vnd.jupyter.widget-view+json": {
       "model_id": "68aeca7f08df45eb850af493b54abbd5",
       "version_major": 2,
       "version_minor": 0
      },
      "text/plain": [
       "HBox(children=(IntProgress(value=1, bar_style='info', max=1), HTML(value='')))"
      ]
     },
     "metadata": {},
     "output_type": "display_data"
    },
    {
     "name": "stdout",
     "output_type": "stream",
     "text": [
      "\n"
     ]
    },
    {
     "data": {
      "application/vnd.jupyter.widget-view+json": {
       "model_id": "fdc02fbaa96e4d689df06052ca2378a7",
       "version_major": 2,
       "version_minor": 0
      },
      "text/plain": [
       "HBox(children=(IntProgress(value=1, bar_style='info', max=1), HTML(value='')))"
      ]
     },
     "metadata": {},
     "output_type": "display_data"
    },
    {
     "name": "stdout",
     "output_type": "stream",
     "text": [
      "\n"
     ]
    },
    {
     "data": {
      "application/vnd.jupyter.widget-view+json": {
       "model_id": "123078dc103c411e99b2ce8510381ed2",
       "version_major": 2,
       "version_minor": 0
      },
      "text/plain": [
       "HBox(children=(IntProgress(value=1, bar_style='info', max=1), HTML(value='')))"
      ]
     },
     "metadata": {},
     "output_type": "display_data"
    },
    {
     "name": "stdout",
     "output_type": "stream",
     "text": [
      "\n"
     ]
    },
    {
     "data": {
      "application/vnd.jupyter.widget-view+json": {
       "model_id": "17c2541fe1764e98ab6ee1910d6e4e8c",
       "version_major": 2,
       "version_minor": 0
      },
      "text/plain": [
       "HBox(children=(IntProgress(value=1, bar_style='info', max=1), HTML(value='')))"
      ]
     },
     "metadata": {},
     "output_type": "display_data"
    },
    {
     "name": "stdout",
     "output_type": "stream",
     "text": [
      "\n"
     ]
    },
    {
     "data": {
      "application/vnd.jupyter.widget-view+json": {
       "model_id": "d7395ce0be3348a9832852aadda4fef3",
       "version_major": 2,
       "version_minor": 0
      },
      "text/plain": [
       "HBox(children=(IntProgress(value=1, bar_style='info', max=1), HTML(value='')))"
      ]
     },
     "metadata": {},
     "output_type": "display_data"
    },
    {
     "name": "stdout",
     "output_type": "stream",
     "text": [
      "\n"
     ]
    },
    {
     "data": {
      "application/vnd.jupyter.widget-view+json": {
       "model_id": "c149606d58c14cb98e8273f8b7802428",
       "version_major": 2,
       "version_minor": 0
      },
      "text/plain": [
       "HBox(children=(IntProgress(value=1, bar_style='info', max=1), HTML(value='')))"
      ]
     },
     "metadata": {},
     "output_type": "display_data"
    },
    {
     "name": "stdout",
     "output_type": "stream",
     "text": [
      "\n"
     ]
    },
    {
     "data": {
      "application/vnd.jupyter.widget-view+json": {
       "model_id": "f15f551042cd4bc49b06b9d5de272385",
       "version_major": 2,
       "version_minor": 0
      },
      "text/plain": [
       "HBox(children=(IntProgress(value=1, bar_style='info', max=1), HTML(value='')))"
      ]
     },
     "metadata": {},
     "output_type": "display_data"
    },
    {
     "name": "stdout",
     "output_type": "stream",
     "text": [
      "\n"
     ]
    },
    {
     "data": {
      "application/vnd.jupyter.widget-view+json": {
       "model_id": "855bf96c5e7b46ce8cf92e7b2e12258e",
       "version_major": 2,
       "version_minor": 0
      },
      "text/plain": [
       "HBox(children=(IntProgress(value=1, bar_style='info', max=1), HTML(value='')))"
      ]
     },
     "metadata": {},
     "output_type": "display_data"
    },
    {
     "name": "stdout",
     "output_type": "stream",
     "text": [
      "\n"
     ]
    },
    {
     "data": {
      "application/vnd.jupyter.widget-view+json": {
       "model_id": "51aac40bde3d40e8abed888e195e930f",
       "version_major": 2,
       "version_minor": 0
      },
      "text/plain": [
       "HBox(children=(IntProgress(value=1, bar_style='info', max=1), HTML(value='')))"
      ]
     },
     "metadata": {},
     "output_type": "display_data"
    },
    {
     "name": "stdout",
     "output_type": "stream",
     "text": [
      "\n"
     ]
    },
    {
     "data": {
      "application/vnd.jupyter.widget-view+json": {
       "model_id": "ee5be3594f7a423db7c1ba18acbcea4f",
       "version_major": 2,
       "version_minor": 0
      },
      "text/plain": [
       "HBox(children=(IntProgress(value=1, bar_style='info', max=1), HTML(value='')))"
      ]
     },
     "metadata": {},
     "output_type": "display_data"
    },
    {
     "name": "stdout",
     "output_type": "stream",
     "text": [
      "\n"
     ]
    },
    {
     "data": {
      "application/vnd.jupyter.widget-view+json": {
       "model_id": "4d5b0ec795024dfbb30f7a1473191123",
       "version_major": 2,
       "version_minor": 0
      },
      "text/plain": [
       "HBox(children=(IntProgress(value=1, bar_style='info', max=1), HTML(value='')))"
      ]
     },
     "metadata": {},
     "output_type": "display_data"
    },
    {
     "name": "stdout",
     "output_type": "stream",
     "text": [
      "\n",
      "CPU times: user 35min 8s, sys: 35.7 s, total: 35min 43s\n",
      "Wall time: 7min 25s\n"
     ]
    }
   ],
   "source": [
    "%%time\n",
    "import tqdm\n",
    "from sklearn.feature_extraction.text import CountVectorizer, TfidfVectorizer\n",
    "min_df_list = [1e-6, 2.5e-5, 5e-5, 7.5e-5,\n",
    "               1e-4, 2.5e-4, 5e-4, 7.5e-4,\n",
    "               1e-3, 2.5e-3, 5e-3, 7.5e-3]\n",
    "preprocesser_type_list = ['BOW', 'TFIDF']\n",
    "\n",
    "preprocesser = None\n",
    "\n",
    "step_alpha_list = [history_list[arg_max[0]]['step_alpha']]\n",
    "step_beta_list = [history_list[arg_max[0]]['step_beta']]\n",
    "batch_size_list = [history_list[arg_max[1]]['batch_size']]\n",
    "history_list = []\n",
    "\n",
    "\n",
    "for min_df in min_df_list:\n",
    "    for preprocesser_type in preprocesser_type_list:\n",
    "        train_data_processed_3 = train_data_processed_lemmatized.apply(lambda x: [elem for elem in x if elem not in stopwords_set])\n",
    "        train_data_processed_3 = train_data_processed_3.apply(lambda x: ' '.join(x))\n",
    "\n",
    "    #     test_data_processed_3 = test_data_processed_lemmatized.apply(lambda x: [elem for elem in x if elem not in stopwords_set])\n",
    "    #     test_data_processed_3 = test_data_processed_3.apply(lambda x: ' '.join(x))\n",
    "\n",
    "        if preprocesser_type == 'BOW':\n",
    "            preprocesser = CountVectorizer(min_df=min_df, lowercase=False)\n",
    "        else:\n",
    "            preprocesser = TfidfVectorizer(min_df=min_df, lowercase=False)\n",
    "\n",
    "        train_data_processed_3 = preprocesser.fit_transform(train_data_processed_3)\n",
    "    #     test_data_processed_3 = preprocesser.transform(test_data_processed_3)\n",
    "\n",
    "        bias_feature_train = np.ones(train_data.shape[0])\n",
    "    #     bias_feature_test = np.ones(test_data.shape[0])\n",
    "        bias_feature_train = scipy.sparse.csr_matrix(bias_feature_train).T\n",
    "    #     bias_feature_test = scipy.sparse.csr_matrix(bias_feature_test).T\n",
    "        train_data_processed_3_with_bias = scipy.sparse.hstack([bias_feature_train, train_data_processed_3])\n",
    "    #     test_data_processed_3_with_bias = scipy.sparse.hstack([bias_feature_test, test_data_processed_3])\n",
    "        w_0_list = []\n",
    "        w_0_list.append(np.zeros(train_data_processed_3_with_bias.shape[1]))\n",
    "        w_0_list.append(np.random.normal(0.5, 0.5, size=train_data_processed_3_with_bias.shape[1]))\n",
    "\n",
    "        for history in tqdm.tqdm_notebook(experiment_cycle(train_data_processed_3_with_bias, target_train.values,\n",
    "                                    step_alpha_list,\n",
    "                                    step_beta_list,\n",
    "                                    w_0_list=w_0_list,\n",
    "                                    batch_size_list=batch_size_list)):\n",
    "            \n",
    "            history['preprocesser_type'] = preprocesser_type\n",
    "            history['min_df'] = min_df\n",
    "            history_list.append(history)\n",
    "    \n",
    "    "
   ]
  },
  {
   "cell_type": "code",
   "execution_count": 53,
   "metadata": {},
   "outputs": [],
   "source": [
    "import pickle\n",
    "with open('GD_SGD_bow_tfid_min_df.pkl', 'wb') as f:\n",
    "    pickle.dump(history_list, f)"
   ]
  },
  {
   "cell_type": "code",
   "execution_count": 54,
   "metadata": {},
   "outputs": [],
   "source": [
    "import pickle\n",
    "with open('GD_SGD_bow_tfid_min_df.pkl', 'rb') as f:\n",
    "    history_list = pickle.load(f)"
   ]
  },
  {
   "cell_type": "code",
   "execution_count": 55,
   "metadata": {},
   "outputs": [],
   "source": [
    "max_acc = [0, 0]\n",
    "arg_max = [0, 0]\n",
    "for i, history in enumerate(history_list):\n",
    "    if history['classifier_type'] == 'GD':\n",
    "        if np.max(history['accuracy']) > max_acc[0]:\n",
    "            max_acc[0] = np.max(history['accuracy'])\n",
    "            arg_max[0] = i\n",
    "    else:\n",
    "        if np.max(history['accuracy']) > max_acc[1]:\n",
    "            max_acc[1] = np.max(history['accuracy'])\n",
    "            arg_max[1] = i\n",
    "    "
   ]
  },
  {
   "cell_type": "code",
   "execution_count": 56,
   "metadata": {},
   "outputs": [
    {
     "name": "stdout",
     "output_type": "stream",
     "text": [
      "10 0.001 GD 1e-06 BOW 0.9109418016518344 1\n",
      "10 0.001 SGD 2.5e-05 BOW 0.9108137524809526 9\n"
     ]
    }
   ],
   "source": [
    "print(history_list[arg_max[0]]['step_alpha'],\n",
    "      history_list[arg_max[0]]['step_beta'],\n",
    "      history_list[arg_max[0]]['classifier_type'],\n",
    "      history_list[arg_max[0]]['min_df'],\n",
    "      history_list[arg_max[0]]['preprocesser_type'],\n",
    "      max_acc[0],\n",
    "      arg_max[0] + 1)\n",
    "\n",
    "print(history_list[arg_max[1]]['step_alpha'],\n",
    "      history_list[arg_max[1]]['step_beta'],\n",
    "      history_list[arg_max[1]]['classifier_type'],\n",
    "      history_list[arg_max[1]]['min_df'],\n",
    "      history_list[arg_max[1]]['preprocesser_type'],\n",
    "      max_acc[1],\n",
    "      arg_max[1] - 1)"
   ]
  },
  {
   "cell_type": "markdown",
   "metadata": {},
   "source": [
    "###  Качество упало! Есть предположение, что удаление стоп слов - не самая лучшая идея в данной задаче, так как в них есть такие, как \"aren't\", \"didn't\", которые указывают на отрицание. Пример: you aren't nice -> you nice (после удаления стоп слов). Это плохо! Попробуем вернуть стопслова, оставив только лемматизацию и стемминг."
   ]
  },
  {
   "cell_type": "code",
   "execution_count": 57,
   "metadata": {},
   "outputs": [
    {
     "data": {
      "application/vnd.jupyter.widget-view+json": {
       "model_id": "e221e1b6753f4580a1d04e4d6b81ad62",
       "version_major": 2,
       "version_minor": 0
      },
      "text/plain": [
       "HBox(children=(IntProgress(value=1, bar_style='info', max=1), HTML(value='')))"
      ]
     },
     "metadata": {},
     "output_type": "display_data"
    },
    {
     "name": "stdout",
     "output_type": "stream",
     "text": [
      "\n"
     ]
    },
    {
     "data": {
      "application/vnd.jupyter.widget-view+json": {
       "model_id": "5eb1000b01f74cc8a40a905e2a3b713d",
       "version_major": 2,
       "version_minor": 0
      },
      "text/plain": [
       "HBox(children=(IntProgress(value=1, bar_style='info', max=1), HTML(value='')))"
      ]
     },
     "metadata": {},
     "output_type": "display_data"
    },
    {
     "name": "stdout",
     "output_type": "stream",
     "text": [
      "\n"
     ]
    },
    {
     "data": {
      "application/vnd.jupyter.widget-view+json": {
       "model_id": "2330a8a6e3a9417fb53339e542be4a31",
       "version_major": 2,
       "version_minor": 0
      },
      "text/plain": [
       "HBox(children=(IntProgress(value=1, bar_style='info', max=1), HTML(value='')))"
      ]
     },
     "metadata": {},
     "output_type": "display_data"
    },
    {
     "name": "stdout",
     "output_type": "stream",
     "text": [
      "\n"
     ]
    },
    {
     "data": {
      "application/vnd.jupyter.widget-view+json": {
       "model_id": "31675b2dd4fb45ed91c261d49f570332",
       "version_major": 2,
       "version_minor": 0
      },
      "text/plain": [
       "HBox(children=(IntProgress(value=1, bar_style='info', max=1), HTML(value='')))"
      ]
     },
     "metadata": {},
     "output_type": "display_data"
    },
    {
     "name": "stdout",
     "output_type": "stream",
     "text": [
      "\n"
     ]
    },
    {
     "data": {
      "application/vnd.jupyter.widget-view+json": {
       "model_id": "624bb3d578ac4f22af2fcd84eedae1c3",
       "version_major": 2,
       "version_minor": 0
      },
      "text/plain": [
       "HBox(children=(IntProgress(value=1, bar_style='info', max=1), HTML(value='')))"
      ]
     },
     "metadata": {},
     "output_type": "display_data"
    },
    {
     "name": "stdout",
     "output_type": "stream",
     "text": [
      "\n"
     ]
    },
    {
     "data": {
      "application/vnd.jupyter.widget-view+json": {
       "model_id": "8783d8852f6d4548b15d3cb24ad481aa",
       "version_major": 2,
       "version_minor": 0
      },
      "text/plain": [
       "HBox(children=(IntProgress(value=1, bar_style='info', max=1), HTML(value='')))"
      ]
     },
     "metadata": {},
     "output_type": "display_data"
    },
    {
     "name": "stdout",
     "output_type": "stream",
     "text": [
      "\n"
     ]
    },
    {
     "data": {
      "application/vnd.jupyter.widget-view+json": {
       "model_id": "c801e1d35f3c4c67bfd74598de1a4c3a",
       "version_major": 2,
       "version_minor": 0
      },
      "text/plain": [
       "HBox(children=(IntProgress(value=1, bar_style='info', max=1), HTML(value='')))"
      ]
     },
     "metadata": {},
     "output_type": "display_data"
    },
    {
     "name": "stdout",
     "output_type": "stream",
     "text": [
      "\n"
     ]
    },
    {
     "data": {
      "application/vnd.jupyter.widget-view+json": {
       "model_id": "25e10777ee19491f89c782115bb10580",
       "version_major": 2,
       "version_minor": 0
      },
      "text/plain": [
       "HBox(children=(IntProgress(value=1, bar_style='info', max=1), HTML(value='')))"
      ]
     },
     "metadata": {},
     "output_type": "display_data"
    },
    {
     "name": "stdout",
     "output_type": "stream",
     "text": [
      "\n"
     ]
    },
    {
     "data": {
      "application/vnd.jupyter.widget-view+json": {
       "model_id": "9573abac34be4d87bb198df97c725d39",
       "version_major": 2,
       "version_minor": 0
      },
      "text/plain": [
       "HBox(children=(IntProgress(value=1, bar_style='info', max=1), HTML(value='')))"
      ]
     },
     "metadata": {},
     "output_type": "display_data"
    },
    {
     "name": "stdout",
     "output_type": "stream",
     "text": [
      "\n"
     ]
    },
    {
     "data": {
      "application/vnd.jupyter.widget-view+json": {
       "model_id": "f71a7e9748bb4f54819e03e62878a484",
       "version_major": 2,
       "version_minor": 0
      },
      "text/plain": [
       "HBox(children=(IntProgress(value=1, bar_style='info', max=1), HTML(value='')))"
      ]
     },
     "metadata": {},
     "output_type": "display_data"
    },
    {
     "name": "stdout",
     "output_type": "stream",
     "text": [
      "\n"
     ]
    },
    {
     "data": {
      "application/vnd.jupyter.widget-view+json": {
       "model_id": "5fa2e91a11e84dc983d17fa09e862e8c",
       "version_major": 2,
       "version_minor": 0
      },
      "text/plain": [
       "HBox(children=(IntProgress(value=1, bar_style='info', max=1), HTML(value='')))"
      ]
     },
     "metadata": {},
     "output_type": "display_data"
    },
    {
     "name": "stdout",
     "output_type": "stream",
     "text": [
      "\n"
     ]
    },
    {
     "data": {
      "application/vnd.jupyter.widget-view+json": {
       "model_id": "74a35cf7624245d0a2c630b2a5434fd6",
       "version_major": 2,
       "version_minor": 0
      },
      "text/plain": [
       "HBox(children=(IntProgress(value=1, bar_style='info', max=1), HTML(value='')))"
      ]
     },
     "metadata": {},
     "output_type": "display_data"
    },
    {
     "name": "stdout",
     "output_type": "stream",
     "text": [
      "\n"
     ]
    },
    {
     "data": {
      "application/vnd.jupyter.widget-view+json": {
       "model_id": "5e3498314f6641369045b68aa7b7f6f2",
       "version_major": 2,
       "version_minor": 0
      },
      "text/plain": [
       "HBox(children=(IntProgress(value=1, bar_style='info', max=1), HTML(value='')))"
      ]
     },
     "metadata": {},
     "output_type": "display_data"
    },
    {
     "name": "stdout",
     "output_type": "stream",
     "text": [
      "\n"
     ]
    },
    {
     "data": {
      "application/vnd.jupyter.widget-view+json": {
       "model_id": "45d90c9ecce1476ea6020a7980ac5617",
       "version_major": 2,
       "version_minor": 0
      },
      "text/plain": [
       "HBox(children=(IntProgress(value=1, bar_style='info', max=1), HTML(value='')))"
      ]
     },
     "metadata": {},
     "output_type": "display_data"
    },
    {
     "name": "stdout",
     "output_type": "stream",
     "text": [
      "\n"
     ]
    },
    {
     "data": {
      "application/vnd.jupyter.widget-view+json": {
       "model_id": "ed65b60e3caf4be089c0e7ac54a4e6d2",
       "version_major": 2,
       "version_minor": 0
      },
      "text/plain": [
       "HBox(children=(IntProgress(value=1, bar_style='info', max=1), HTML(value='')))"
      ]
     },
     "metadata": {},
     "output_type": "display_data"
    },
    {
     "name": "stdout",
     "output_type": "stream",
     "text": [
      "\n"
     ]
    },
    {
     "data": {
      "application/vnd.jupyter.widget-view+json": {
       "model_id": "2a736273faa84e0a95917432ac12ea4a",
       "version_major": 2,
       "version_minor": 0
      },
      "text/plain": [
       "HBox(children=(IntProgress(value=1, bar_style='info', max=1), HTML(value='')))"
      ]
     },
     "metadata": {},
     "output_type": "display_data"
    },
    {
     "name": "stdout",
     "output_type": "stream",
     "text": [
      "\n"
     ]
    },
    {
     "data": {
      "application/vnd.jupyter.widget-view+json": {
       "model_id": "15b70b1021ae43b79a73b57387222d4f",
       "version_major": 2,
       "version_minor": 0
      },
      "text/plain": [
       "HBox(children=(IntProgress(value=1, bar_style='info', max=1), HTML(value='')))"
      ]
     },
     "metadata": {},
     "output_type": "display_data"
    },
    {
     "name": "stdout",
     "output_type": "stream",
     "text": [
      "\n"
     ]
    },
    {
     "data": {
      "application/vnd.jupyter.widget-view+json": {
       "model_id": "9aaad1ccd8e743f3b246d39af302ec2e",
       "version_major": 2,
       "version_minor": 0
      },
      "text/plain": [
       "HBox(children=(IntProgress(value=1, bar_style='info', max=1), HTML(value='')))"
      ]
     },
     "metadata": {},
     "output_type": "display_data"
    },
    {
     "name": "stdout",
     "output_type": "stream",
     "text": [
      "\n"
     ]
    },
    {
     "data": {
      "application/vnd.jupyter.widget-view+json": {
       "model_id": "0c213b850956425f8e0e6109009ea94d",
       "version_major": 2,
       "version_minor": 0
      },
      "text/plain": [
       "HBox(children=(IntProgress(value=1, bar_style='info', max=1), HTML(value='')))"
      ]
     },
     "metadata": {},
     "output_type": "display_data"
    },
    {
     "name": "stdout",
     "output_type": "stream",
     "text": [
      "\n"
     ]
    },
    {
     "data": {
      "application/vnd.jupyter.widget-view+json": {
       "model_id": "77417d3dbc2549ca9ce1968e481edbc6",
       "version_major": 2,
       "version_minor": 0
      },
      "text/plain": [
       "HBox(children=(IntProgress(value=1, bar_style='info', max=1), HTML(value='')))"
      ]
     },
     "metadata": {},
     "output_type": "display_data"
    },
    {
     "name": "stdout",
     "output_type": "stream",
     "text": [
      "\n"
     ]
    },
    {
     "data": {
      "application/vnd.jupyter.widget-view+json": {
       "model_id": "360cd5d25b9a4eadaf1fdbff3750b344",
       "version_major": 2,
       "version_minor": 0
      },
      "text/plain": [
       "HBox(children=(IntProgress(value=1, bar_style='info', max=1), HTML(value='')))"
      ]
     },
     "metadata": {},
     "output_type": "display_data"
    },
    {
     "name": "stdout",
     "output_type": "stream",
     "text": [
      "\n"
     ]
    },
    {
     "data": {
      "application/vnd.jupyter.widget-view+json": {
       "model_id": "9f04ec1c67764fcebaca3cf5bd42f643",
       "version_major": 2,
       "version_minor": 0
      },
      "text/plain": [
       "HBox(children=(IntProgress(value=1, bar_style='info', max=1), HTML(value='')))"
      ]
     },
     "metadata": {},
     "output_type": "display_data"
    },
    {
     "name": "stdout",
     "output_type": "stream",
     "text": [
      "\n"
     ]
    },
    {
     "data": {
      "application/vnd.jupyter.widget-view+json": {
       "model_id": "e855e4ccdfa84816b4734bf2d4a88b07",
       "version_major": 2,
       "version_minor": 0
      },
      "text/plain": [
       "HBox(children=(IntProgress(value=1, bar_style='info', max=1), HTML(value='')))"
      ]
     },
     "metadata": {},
     "output_type": "display_data"
    },
    {
     "name": "stdout",
     "output_type": "stream",
     "text": [
      "\n"
     ]
    },
    {
     "data": {
      "application/vnd.jupyter.widget-view+json": {
       "model_id": "d0605e7e800a4230a6c4370536cc5315",
       "version_major": 2,
       "version_minor": 0
      },
      "text/plain": [
       "HBox(children=(IntProgress(value=1, bar_style='info', max=1), HTML(value='')))"
      ]
     },
     "metadata": {},
     "output_type": "display_data"
    },
    {
     "name": "stdout",
     "output_type": "stream",
     "text": [
      "\n",
      "CPU times: user 1h 8min 29s, sys: 1min 6s, total: 1h 9min 35s\n",
      "Wall time: 14min 22s\n"
     ]
    }
   ],
   "source": [
    "%%time\n",
    "import tqdm\n",
    "from sklearn.feature_extraction.text import CountVectorizer, TfidfVectorizer\n",
    "min_df_list = [1e-6, 2.5e-5, 5e-5, 7.5e-5,\n",
    "               1e-4, 2.5e-4, 5e-4, 7.5e-4,\n",
    "               1e-3, 2.5e-3, 5e-3, 7.5e-3]\n",
    "preprocesser_type_list = ['BOW', 'TFIDF']\n",
    "\n",
    "preprocesser = None\n",
    "\n",
    "step_alpha_list = [history_list[arg_max[0]]['step_alpha']]\n",
    "step_beta_list = [history_list[arg_max[0]]['step_beta']]\n",
    "batch_size_list = [history_list[arg_max[1]]['batch_size']]\n",
    "history_list = []\n",
    "\n",
    "\n",
    "for min_df in min_df_list:\n",
    "    for preprocesser_type in preprocesser_type_list:\n",
    "        train_data_processed_3 = train_data_processed_lemmatized.apply(lambda x: ' '.join(x))\n",
    "\n",
    "    #     test_data_processed_3 = test_data_processed_lemmatized.apply(lambda x: [elem for elem in x if elem not in stopwords_set])\n",
    "    #     test_data_processed_3 = test_data_processed_3.apply(lambda x: ' '.join(x))\n",
    "\n",
    "        if preprocesser_type == 'BOW':\n",
    "            preprocesser = CountVectorizer(min_df=min_df, lowercase=False)\n",
    "        else:\n",
    "            preprocesser = TfidfVectorizer(min_df=min_df, lowercase=False)\n",
    "\n",
    "        train_data_processed_3 = preprocesser.fit_transform(train_data_processed_3)\n",
    "    #     test_data_processed_3 = preprocesser.transform(test_data_processed_3)\n",
    "\n",
    "        bias_feature_train = np.ones(train_data.shape[0])\n",
    "    #     bias_feature_test = np.ones(test_data.shape[0])\n",
    "        bias_feature_train = scipy.sparse.csr_matrix(bias_feature_train).T\n",
    "    #     bias_feature_test = scipy.sparse.csr_matrix(bias_feature_test).T\n",
    "        train_data_processed_3_with_bias = scipy.sparse.hstack([bias_feature_train, train_data_processed_3])\n",
    "    #     test_data_processed_3_with_bias = scipy.sparse.hstack([bias_feature_test, test_data_processed_3])\n",
    "        w_0_list = []\n",
    "        w_0_list.append(np.zeros(train_data_processed_3_with_bias.shape[1]))\n",
    "        w_0_list.append(np.random.normal(0.5, 0.5, size=train_data_processed_3_with_bias.shape[1]))\n",
    "\n",
    "        for history in tqdm.tqdm_notebook(experiment_cycle(train_data_processed_3_with_bias, target_train.values,\n",
    "                                    step_alpha_list,\n",
    "                                    step_beta_list,\n",
    "                                    w_0_list=w_0_list,\n",
    "                                    batch_size_list=batch_size_list)):\n",
    "            \n",
    "            history['preprocesser_type'] = preprocesser_type\n",
    "            history['min_df'] = min_df\n",
    "            history_list.append(history)\n",
    "    \n",
    "    "
   ]
  },
  {
   "cell_type": "code",
   "execution_count": 58,
   "metadata": {},
   "outputs": [],
   "source": [
    "import pickle\n",
    "with open('GD_SGD_bow_tfid_min_df_with_stopwords.pkl', 'wb') as f:\n",
    "    pickle.dump(history_list, f)"
   ]
  },
  {
   "cell_type": "code",
   "execution_count": 59,
   "metadata": {},
   "outputs": [],
   "source": [
    "import pickle\n",
    "with open('GD_SGD_bow_tfid_min_df_with_stopwords.pkl', 'rb') as f:\n",
    "    history_list = pickle.load(f)"
   ]
  },
  {
   "cell_type": "code",
   "execution_count": 60,
   "metadata": {},
   "outputs": [],
   "source": [
    "max_acc = [0, 0]\n",
    "arg_max = [0, 0]\n",
    "for i, history in enumerate(history_list):\n",
    "    if history['classifier_type'] == 'GD':\n",
    "        if np.max(history['accuracy']) > max_acc[0]:\n",
    "            max_acc[0] = np.max(history['accuracy'])\n",
    "            arg_max[0] = i\n",
    "    else:\n",
    "        if np.max(history['accuracy']) > max_acc[1]:\n",
    "            max_acc[1] = np.max(history['accuracy'])\n",
    "            arg_max[1] = i\n",
    "    "
   ]
  },
  {
   "cell_type": "code",
   "execution_count": 61,
   "metadata": {},
   "outputs": [
    {
     "name": "stdout",
     "output_type": "stream",
     "text": [
      "10 0.001 GD 0.00075 BOW 0.9145271784365196\n",
      "10 0.001 SGD 1e-06 BOW 0.9172802356104744\n"
     ]
    }
   ],
   "source": [
    "print(history_list[arg_max[0]]['step_alpha'],\n",
    "      history_list[arg_max[0]]['step_beta'],\n",
    "      history_list[arg_max[0]]['classifier_type'],\n",
    "      history_list[arg_max[0]]['min_df'],\n",
    "      history_list[arg_max[0]]['preprocesser_type'],\n",
    "      max_acc[0])\n",
    "\n",
    "print(history_list[arg_max[1]]['step_alpha'],\n",
    "      history_list[arg_max[1]]['step_beta'],\n",
    "      history_list[arg_max[1]]['classifier_type'],\n",
    "      history_list[arg_max[1]]['min_df'],\n",
    "      history_list[arg_max[1]]['preprocesser_type'],\n",
    "      max_acc[1])"
   ]
  },
  {
   "cell_type": "code",
   "execution_count": 63,
   "metadata": {},
   "outputs": [],
   "source": [
    "import pickle\n",
    "with open('GD_SGD_bow_tfid_min_df_without_stopwords.pkl', 'wb') as f:\n",
    "    pickle.dump(history_list, f)"
   ]
  },
  {
   "cell_type": "markdown",
   "metadata": {},
   "source": [
    "### И действительно: качество стало лучше! 0.9173, а до этого было 0.9162."
   ]
  },
  {
   "cell_type": "markdown",
   "metadata": {},
   "source": [
    " ### Заметим еще одну интересную особенность: CountVectorizer работает лучше, чем TF-IDF. Это может быть связано с тем, что TF-IDF сильно штрафует часто встречающиеся слова и отдает приоритет менее встречающимся. Опять же, учитывая специфику нашей задачи, "
   ]
  }
 ],
 "metadata": {
  "kernelspec": {
   "display_name": "Python 3",
   "language": "python",
   "name": "python3"
  },
  "language_info": {
   "codemirror_mode": {
    "name": "ipython",
    "version": 3
   },
   "file_extension": ".py",
   "mimetype": "text/x-python",
   "name": "python",
   "nbconvert_exporter": "python",
   "pygments_lexer": "ipython3",
   "version": "3.7.5"
  }
 },
 "nbformat": 4,
 "nbformat_minor": 2
}
