{
 "cells": [
  {
   "cell_type": "code",
   "execution_count": 1,
   "metadata": {},
   "outputs": [],
   "source": [
    "import pandas as pd\n",
    "import numpy as np\n",
    "import seaborn as sns\n",
    "import matplotlib.pyplot as plt\n",
    "import scipy"
   ]
  },
  {
   "cell_type": "markdown",
   "metadata": {},
   "source": [
    "#### Загрузка данных"
   ]
  },
  {
   "cell_type": "code",
   "execution_count": 2,
   "metadata": {},
   "outputs": [],
   "source": [
    "train_data = pd.read_csv('data_toxic/toxic_train.csv', index_col=0)\n",
    "test_data = pd.read_csv('data_toxic/toxic_test.csv', index_col=0)"
   ]
  },
  {
   "cell_type": "code",
   "execution_count": 3,
   "metadata": {},
   "outputs": [
    {
     "data": {
      "text/plain": [
       "Text(0.5, 1, 'Распределение классов в трейне')"
      ]
     },
     "execution_count": 3,
     "metadata": {},
     "output_type": "execute_result"
    },
    {
     "data": {
      "image/png": "[encoded data removed]",
      "text/plain": [
       "<Figure size 360x360 with 1 Axes>"
      ]
     },
     "metadata": {
      "needs_background": "light"
     },
     "output_type": "display_data"
    }
   ],
   "source": [
    "sns.catplot(x='is_toxic', data=train_data, hue='is_toxic', kind='count')\n",
    "plt.title('Распределение классов в трейне')"
   ]
  },
  {
   "cell_type": "code",
   "execution_count": 4,
   "metadata": {},
   "outputs": [],
   "source": [
    "target_train = train_data['is_toxic'].map({True : 1, False : -1})\n",
    "train_data.drop(columns='is_toxic', inplace=True)"
   ]
  },
  {
   "cell_type": "markdown",
   "metadata": {},
   "source": [
    "### 1. Приводим к нижнему регистру и заменяем все символы, не являющиеся буквами или цифрами на пробелы"
   ]
  },
  {
   "cell_type": "code",
   "execution_count": 5,
   "metadata": {},
   "outputs": [],
   "source": [
    "train_data_processed_1 = train_data.copy()\n",
    "test_data_processed_1 = test_data.copy()"
   ]
  },
  {
   "cell_type": "code",
   "execution_count": 6,
   "metadata": {},
   "outputs": [],
   "source": [
    "import re\n",
    "\n",
    "def text_process_1(texts_series):\n",
    "    \"\"\"\n",
    "    Takes series with texts\n",
    "    returns series with preprocessed texts\n",
    "    (lower register + changed all symbols, which are not letter, number to spaces)\n",
    "    \"\"\"\n",
    "    \n",
    "    texts_series = texts_series.str.lower()\n",
    "    texts_series = texts_series.apply(lambda x: re.sub(r'\\W', ' ', x))\n",
    "    return texts_series"
   ]
  },
  {
   "cell_type": "code",
   "execution_count": 7,
   "metadata": {},
   "outputs": [],
   "source": [
    "train_data_processed_1 = text_process_1(train_data_processed_1['comment_text'])\n",
    "test_data_processed_1 = text_process_1(test_data_processed_1['comment_text'])"
   ]
  },
  {
   "cell_type": "markdown",
   "metadata": {},
   "source": [
    "### 2. Пользуемся CountVectorizer"
   ]
  },
  {
   "cell_type": "code",
   "execution_count": 8,
   "metadata": {},
   "outputs": [],
   "source": [
    "from sklearn.feature_extraction.text import CountVectorizer\n",
    "countVect = CountVectorizer(min_df=3e-5)"
   ]
  },
  {
   "cell_type": "code",
   "execution_count": 9,
   "metadata": {},
   "outputs": [],
   "source": [
    "train_data_processed_2 = countVect.fit_transform(train_data_processed_1)\n",
    "test_data_processed_2 = countVect.transform(test_data_processed_1)"
   ]
  },
  {
   "cell_type": "code",
   "execution_count": 10,
   "metadata": {},
   "outputs": [
    {
     "data": {
      "text/plain": [
       "37832"
      ]
     },
     "execution_count": 10,
     "metadata": {},
     "output_type": "execute_result"
    }
   ],
   "source": [
    "train_data_processed_2.shape[1]"
   ]
  },
  {
   "cell_type": "code",
   "execution_count": 11,
   "metadata": {},
   "outputs": [],
   "source": [
    "import optimization\n",
    "import scipy"
   ]
  },
  {
   "cell_type": "markdown",
   "metadata": {},
   "source": [
    "Add bias"
   ]
  },
  {
   "cell_type": "code",
   "execution_count": 12,
   "metadata": {},
   "outputs": [],
   "source": [
    "bias_feature_train = np.ones(train_data.shape[0])\n",
    "bias_feature_test = np.ones(test_data.shape[0])\n",
    "bias_feature_train = scipy.sparse.csr_matrix(bias_feature_train).T\n",
    "bias_feature_test = scipy.sparse.csr_matrix(bias_feature_test).T\n",
    "train_data_processed_2_with_bias = scipy.sparse.hstack([bias_feature_train, train_data_processed_2])\n",
    "test_data_processed_2_with_bias = scipy.sparse.hstack([bias_feature_test, test_data_processed_2])"
   ]
  },
  {
   "cell_type": "code",
   "execution_count": 13,
   "metadata": {},
   "outputs": [
    {
     "name": "stdout",
     "output_type": "stream",
     "text": [
      "CPU times: user 24 µs, sys: 0 ns, total: 24 µs\n",
      "Wall time: 3.81 µs\n"
     ]
    }
   ],
   "source": [
    "%%time\n",
    "def experiment_cycle(train_data, target,\n",
    "                     step_alpha_list, step_beta_list,\n",
    "                     w_0_list, batch_size_list, l2_coef=5e-4):\n",
    "    for step_alpha in step_alpha_list:\n",
    "        for step_beta in step_beta_list:\n",
    "            for w_0 in w_0_list:\n",
    "#                 print(step_alpha)\n",
    "                clf = optimization.GDClassifier(step_alpha=step_alpha,\n",
    "                                                step_beta=step_beta,\n",
    "                                                experiment=True,\n",
    "                                                l2_coef=l2_coef,\n",
    "                                                max_iter=5000)\n",
    "                yield clf.fit(train_data,\n",
    "                                target,\n",
    "                                w_0=w_0,\n",
    "                                trace=True)\n",
    "                \n",
    "    for step_alpha in step_alpha_list:\n",
    "        for step_beta in step_beta_list:\n",
    "            for w_0 in w_0_list:\n",
    "                for batch_size in batch_size_list:\n",
    "                    clf = optimization.SGDClassifier(step_alpha=step_alpha,\n",
    "                                                     step_beta=step_beta,\n",
    "                                                     experiment=True,\n",
    "                                                     max_iter=5000,\n",
    "                                                     batch_size=batch_size, \n",
    "                                                     l2_coef=l2_coef)\n",
    "                    yield clf.fit(train_data,\n",
    "                                  target,\n",
    "                                  w_0=w_0,\n",
    "                                  trace=True, log_freq=0.1)\n",
    "                    \n"
   ]
  },
  {
   "cell_type": "code",
   "execution_count": 14,
   "metadata": {},
   "outputs": [
    {
     "data": {
      "text/plain": [
       "(52061, 37832)"
      ]
     },
     "execution_count": 14,
     "metadata": {},
     "output_type": "execute_result"
    }
   ],
   "source": [
    "train_data_processed_2.shape"
   ]
  },
  {
   "cell_type": "markdown",
   "metadata": {},
   "source": [
    "## ВАЖНО! Все эксперименты будут проводиться с добавлением смещения в веса, которое не будет учитываться в регуляризации (чтобы даже в том случае, когда регуляризация занулит почти все веса, наша разделяющая гиперплоскость не вырождалась в 0)"
   ]
  },
  {
   "cell_type": "code",
   "execution_count": null,
   "metadata": {},
   "outputs": [
    {
     "data": {
      "application/vnd.jupyter.widget-view+json": {
       "model_id": "80a527073318413aa709ed4daaf17086",
       "version_major": 2,
       "version_minor": 0
      },
      "text/plain": [
       "HBox(children=(IntProgress(value=1, bar_style='info', max=1), HTML(value='')))"
      ]
     },
     "metadata": {},
     "output_type": "display_data"
    }
   ],
   "source": [
    "import tqdm\n",
    "history_list = []\n",
    "step_alpha_list = [0.001, 0.01, 0.1, 1, 5, 10, 15, 20, 25]\n",
    "# step_alpha_list = [0.1]\n",
    "step_beta_list = [0, 0.001, 0.01, 0.1, 1, 5, 10, 15, 20, 25]\n",
    "batch_size_list = [1, 128, 256, 512, 1024, 1024 * 4, 1024 * 10, 1024 * 20]\n",
    "w_0_list = [None]\n",
    "for history in tqdm.tqdm_notebook(experiment_cycle(train_data_processed_2_with_bias, target_train.values,\n",
    "                                step_alpha_list,\n",
    "                                step_beta_list,\n",
    "                                w_0_list=w_0_list,\n",
    "                                batch_size_list=batch_size_list)):\n",
    "    history_list.append(history)"
   ]
  },
  {
   "cell_type": "code",
   "execution_count": null,
   "metadata": {},
   "outputs": [],
   "source": [
    "keys_for_df = ['time', 'func', 'accuracy']"
   ]
  },
  {
   "cell_type": "code",
   "execution_count": null,
   "metadata": {},
   "outputs": [],
   "source": [
    "len(history_list[0]['time']), len(history_list[0]['func']), len(history_list[0]['accuracy']),"
   ]
  },
  {
   "cell_type": "code",
   "execution_count": null,
   "metadata": {},
   "outputs": [],
   "source": [
    "history_list[50]['classifier_type'], history_list[30]['step_alpha']"
   ]
  },
  {
   "cell_type": "code",
   "execution_count": null,
   "metadata": {},
   "outputs": [],
   "source": [
    "hist_0_df = pd.DataFrame({key: history_list[29][key] for key in keys_for_df})\n",
    "hist_1_df = pd.DataFrame({key: history_list[300][key] for key in keys_for_df})"
   ]
  },
  {
   "cell_type": "code",
   "execution_count": null,
   "metadata": {},
   "outputs": [],
   "source": [
    "sns.lineplot(x = np.cumsum(np.arange(len(hist_0_df['accuracy']))), y=hist_0_df['accuracy'])\n",
    "sns.lineplot(x = np.cumsum(np.arange(len(hist_1_df['accuracy']))), y=hist_1_df['accuracy'])\n",
    "# plt.semilogy()"
   ]
  },
  {
   "cell_type": "code",
   "execution_count": null,
   "metadata": {},
   "outputs": [],
   "source": [
    "import pickle\n",
    "with open('GD_SGD_step_alpha_beta_batch_size.pkl', 'wb') as f:\n",
    "    pickle.dump(history_list, f)"
   ]
  },
  {
   "cell_type": "markdown",
   "metadata": {},
   "source": [
    "## Эксперименты с различными начальными приближениями:\n",
    "https://datascience.stackexchange.com/questions/30989/what-are-the-cases-where-it-is-fine-to-initialize-all-weights-to-zero\n",
    "###   Рассмотрим 7 экспериментов: \n",
    "    1) w_0 = 0\n",
    "    2) w_0 = uniform(0, 1)\n",
    "    3) w_0 = uniform(100, 500)\n",
    "    4) w_0 = uniform(1000, 5000)\n",
    "    5) w_0 = uniform (10000, 50000)\n",
    "    6) w_0 = normal with mean = 0, std = 1\n",
    "    7) w_0 = normal with mean = 0.5, std = 0.5"
   ]
  },
  {
   "cell_type": "code",
   "execution_count": null,
   "metadata": {},
   "outputs": [],
   "source": [
    "w_0_list = []\n",
    "w_0_list.append(np.zeros(train_data_processed_2_with_bias.shape[1]))\n",
    "w_0_list.append(np.random.uniform(0, 1, size=train_data_processed_2_with_bias.shape[1]))\n",
    "\n",
    "w_0_list.append(np.random.uniform(100, 500, size=train_data_processed_2_with_bias.shape[1]))\n",
    "w_0_list.append(np.random.uniform(1000, 5000, size=train_data_processed_2_with_bias.shape[1]))\n",
    "w_0_list.append(np.random.uniform(10000, 50000, size=train_data_processed_2_with_bias.shape[1]))\n",
    "w_0_list.append(np.random.normal(0, 1, size=train_data_processed_2_with_bias.shape[1]))\n",
    "w_0_list.append(np.random.normal(0.5, 0.5, size=train_data_processed_2_with_bias.shape[1]))"
   ]
  },
  {
   "cell_type": "code",
   "execution_count": null,
   "metadata": {},
   "outputs": [],
   "source": [
    "train_data_processed_2_with_bias.shape"
   ]
  },
  {
   "cell_type": "code",
   "execution_count": null,
   "metadata": {},
   "outputs": [],
   "source": [
    "w_0_list[0].shape"
   ]
  },
  {
   "cell_type": "markdown",
   "metadata": {},
   "source": [
    "###  Выберем лучшие параметры из прошлого эксперимента:"
   ]
  },
  {
   "cell_type": "code",
   "execution_count": null,
   "metadata": {},
   "outputs": [],
   "source": [
    "import pickle \n",
    "history_list = []\n",
    "with open('GD_SGD_step_alpha_beta_batch_size.pkl', 'rb') as f:\n",
    "    history_list = pickle.load(f)"
   ]
  },
  {
   "cell_type": "code",
   "execution_count": null,
   "metadata": {},
   "outputs": [],
   "source": [
    "max_acc = [0, 0]\n",
    "arg_max = [0, 0]\n",
    "for i, history in enumerate(history_list):\n",
    "    if history['classifier_type'] == 'GD':\n",
    "        if np.max(history['accuracy']) > max_acc[0]:\n",
    "            max_acc[0] = np.max(history['accuracy'])\n",
    "            arg_max[0] = i\n",
    "    else:\n",
    "        if np.max(history['accuracy']) > max_acc[1]:\n",
    "            max_acc[1] = np.max(history['accuracy'])\n",
    "            arg_max[1] = i\n",
    "    "
   ]
  },
  {
   "cell_type": "code",
   "execution_count": null,
   "metadata": {},
   "outputs": [],
   "source": [
    "print(history_list[arg_max[0]]['step_alpha'],\n",
    "      history_list[arg_max[0]]['step_beta'],\n",
    "      history_list[arg_max[0]]['classifier_type'],\n",
    "      max_acc[1])\n",
    "\n",
    "print(history_list[arg_max[1]]['step_alpha'],\n",
    "      history_list[arg_max[1]]['step_beta'],\n",
    "      history_list[arg_max[1]]['classifier_type'],\n",
    "      max_acc[1])"
   ]
  },
  {
   "cell_type": "code",
   "execution_count": null,
   "metadata": {},
   "outputs": [],
   "source": [
    "import tqdm\n",
    "step_alpha_list = [history_list[arg_max[0]]['step_alpha']]\n",
    "step_beta_list = [history_list[arg_max[0]]['step_beta']]\n",
    "batch_size_list = [history_list[arg_max[1]]['batch_size']]\n",
    "history_list = []\n",
    "for history in tqdm.tqdm_notebook(experiment_cycle(train_data_processed_2_with_bias, target_train.values,\n",
    "                                step_alpha_list,\n",
    "                                step_beta_list,\n",
    "                                w_0_list=w_0_list,\n",
    "                                batch_size_list=batch_size_list)):\n",
    "    history_list.append(history)"
   ]
  },
  {
   "cell_type": "code",
   "execution_count": null,
   "metadata": {},
   "outputs": [],
   "source": [
    "max(history_list[0]['accuracy']), max(history_list[-1]['accuracy'])"
   ]
  },
  {
   "cell_type": "code",
   "execution_count": null,
   "metadata": {},
   "outputs": [],
   "source": [
    "import pickle\n",
    "with open('GD_SGD_w_0_init.pkl', 'wb') as f:\n",
    "    pickle.dump(history_list, f)"
   ]
  },
  {
   "cell_type": "code",
   "execution_count": null,
   "metadata": {},
   "outputs": [],
   "source": [
    "with open('GD_SGD_w_0_init.pkl', 'rb') as f:\n",
    "    history_list = pickle.load(f)"
   ]
  },
  {
   "cell_type": "code",
   "execution_count": null,
   "metadata": {},
   "outputs": [],
   "source": [
    "max_acc = [0, 0]\n",
    "arg_max = [0, 0]\n",
    "for i, history in enumerate(history_list):\n",
    "    if history['classifier_type'] == 'GD':\n",
    "        if np.max(history['accuracy']) > max_acc[0]:\n",
    "            max_acc[0] = np.max(history['accuracy'])\n",
    "            arg_max[0] = i\n",
    "    else:\n",
    "        if np.max(history['accuracy']) > max_acc[1]:\n",
    "            max_acc[1] = np.max(history['accuracy'])\n",
    "            arg_max[1] = i\n",
    "    "
   ]
  },
  {
   "cell_type": "code",
   "execution_count": null,
   "metadata": {},
   "outputs": [],
   "source": [
    "print(history_list[arg_max[0]]['step_alpha'],\n",
    "      history_list[arg_max[0]]['step_beta'],\n",
    "      history_list[arg_max[0]]['classifier_type'],\n",
    "      max_acc[0],\n",
    "      arg_max[0] + 1)\n",
    "\n",
    "print(history_list[arg_max[1]]['step_alpha'],\n",
    "      history_list[arg_max[1]]['step_beta'],\n",
    "      history_list[arg_max[1]]['classifier_type'],\n",
    "      max_acc[1],\n",
    "      arg_max[1] - 6)"
   ]
  },
  {
   "cell_type": "code",
   "execution_count": null,
   "metadata": {},
   "outputs": [],
   "source": [
    "import nltk\n",
    "nltk.download('wordnet')"
   ]
  },
  {
   "cell_type": "code",
   "execution_count": null,
   "metadata": {},
   "outputs": [],
   "source": [
    "lemmatizer = nltk.WordNetLemmatizer() "
   ]
  },
  {
   "cell_type": "code",
   "execution_count": null,
   "metadata": {},
   "outputs": [],
   "source": [
    "train_data_processed_1"
   ]
  },
  {
   "cell_type": "code",
   "execution_count": null,
   "metadata": {},
   "outputs": [],
   "source": [
    "%%time\n",
    "train_data_processed_lemmatized = train_data_processed_1.apply(lambda x: x.split()).apply(lambda x: [lemmatizer.lemmatize(elem) for elem in x])\n",
    "test_data_processed_lemmatized = test_data_processed_1.apply(lambda x: x.split()).apply(lambda x: [lemmatizer.lemmatize(elem) for elem in x])"
   ]
  },
  {
   "cell_type": "code",
   "execution_count": null,
   "metadata": {},
   "outputs": [],
   "source": [
    "from nltk.corpus import stopwords\n",
    "nltk.download('stopwords')\n",
    "stopwords_set = set(stopwords.words('english'))"
   ]
  },
  {
   "cell_type": "code",
   "execution_count": null,
   "metadata": {},
   "outputs": [],
   "source": [
    "%%time\n",
    "train_data_processed_3 = train_data_processed_lemmatized.apply(lambda x: [elem for elem in x if elem not in stopwords_set])\n",
    "train_data_processed_3 = train_data_processed_3.apply(lambda x: ' '.join(x))\n",
    "\n",
    "test_data_processed_3 = test_data_processed_lemmatized.apply(lambda x: [elem for elem in x if elem not in stopwords_set])\n",
    "test_data_processed_3 = test_data_processed_3.apply(lambda x: ' '.join(x))"
   ]
  },
  {
   "cell_type": "code",
   "execution_count": null,
   "metadata": {
    "scrolled": true
   },
   "outputs": [],
   "source": [
    "%%time\n",
    "train_data_processed_3 = countVect.fit_transform(train_data_processed_3)\n",
    "test_data_processed_3 = countVect.transform(test_data_processed_3)"
   ]
  },
  {
   "cell_type": "markdown",
   "metadata": {},
   "source": [
    "Add bias"
   ]
  },
  {
   "cell_type": "code",
   "execution_count": null,
   "metadata": {},
   "outputs": [],
   "source": [
    "bias_feature_train = np.ones(train_data.shape[0])\n",
    "bias_feature_test = np.ones(test_data.shape[0])\n",
    "bias_feature_train = scipy.sparse.csr_matrix(bias_feature_train).T\n",
    "bias_feature_test = scipy.sparse.csr_matrix(bias_feature_test).T\n",
    "train_data_processed_3_with_bias = scipy.sparse.hstack([bias_feature_train, train_data_processed_3])\n",
    "test_data_processed_3_with_bias = scipy.sparse.hstack([bias_feature_test, test_data_processed_3])"
   ]
  },
  {
   "cell_type": "markdown",
   "metadata": {},
   "source": [
    "## Так как лучшими значениями для w_0 оказались:\n",
    "    1) GD - w_0 = zeros\n",
    "    2) SGD - w_0 = normal with mean = 0.5, std = 0.5, поэтому:"
   ]
  },
  {
   "cell_type": "code",
   "execution_count": null,
   "metadata": {},
   "outputs": [],
   "source": [
    "import tqdm\n",
    "step_alpha_list = [history_list[arg_max[0]]['step_alpha']]\n",
    "step_beta_list = [history_list[arg_max[0]]['step_beta']]\n",
    "batch_size_list = [history_list[arg_max[1]]['batch_size']]\n",
    "w_0_list = []\n",
    "w_0_list.append(np.zeros(train_data_processed_3_with_bias.shape[1]))\n",
    "w_0_list.append(np.random.normal(0.5, 0.5, size=train_data_processed_3_with_bias.shape[1]))\n",
    "\n",
    "# w_0_list.append(np.random.uniform(100, 500, size=train_data_processed_2_with_bias.shape[1]))\n",
    "# w_0_list.append(np.random.uniform(1000, 5000, size=train_data_processed_2_with_bias.shape[1]))\n",
    "# w_0_list.append(np.random.uniform(10000, 50000, size=train_data_processed_2_with_bias.shape[1]))\n",
    "# w_0_list.append(np.random.normal(0, 1, size=train_data_processed_2_with_bias.shape[1]))\n",
    "# w_0_list.append(np.random.normal(0.5, 0.5, size=train_data_processed_2_with_bias.shape[1]))\n",
    "history_list = []\n",
    "for history in tqdm.tqdm_notebook(experiment_cycle(train_data_processed_3_with_bias, target_train.values,\n",
    "                                step_alpha_list,\n",
    "                                step_beta_list,\n",
    "                                w_0_list=w_0_list,\n",
    "                                batch_size_list=batch_size_list)):\n",
    "    history_list.append(history)"
   ]
  },
  {
   "cell_type": "code",
   "execution_count": null,
   "metadata": {},
   "outputs": [],
   "source": [
    "max_acc = [0, 0]\n",
    "arg_max = [0, 0]\n",
    "for i, history in enumerate(history_list):\n",
    "    if history['classifier_type'] == 'GD':\n",
    "        if np.max(history['accuracy']) > max_acc[0]:\n",
    "            max_acc[0] = np.max(history['accuracy'])\n",
    "            arg_max[0] = i\n",
    "    else:\n",
    "        if np.max(history['accuracy']) > max_acc[1]:\n",
    "            max_acc[1] = np.max(history['accuracy'])\n",
    "            arg_max[1] = i\n",
    "    "
   ]
  },
  {
   "cell_type": "code",
   "execution_count": null,
   "metadata": {},
   "outputs": [],
   "source": [
    "print(history_list[arg_max[0]]['step_alpha'],\n",
    "      history_list[arg_max[0]]['step_beta'],\n",
    "      history_list[arg_max[0]]['classifier_type'],\n",
    "      max_acc[0],\n",
    "      arg_max[0] + 1)\n",
    "\n",
    "print(history_list[arg_max[1]]['step_alpha'],\n",
    "      history_list[arg_max[1]]['step_beta'],\n",
    "      history_list[arg_max[1]]['classifier_type'],\n",
    "      max_acc[1],\n",
    "      arg_max[1] - 1)"
   ]
  },
  {
   "cell_type": "code",
   "execution_count": null,
   "metadata": {},
   "outputs": [],
   "source": [
    "import pickle\n",
    "with open('GD_SGD_lemmatized.pkl', 'wb') as f:\n",
    "    pickle.dump(history_list, f)"
   ]
  },
  {
   "cell_type": "code",
   "execution_count": null,
   "metadata": {},
   "outputs": [],
   "source": [
    "import pickle\n",
    "with open('GD_SGD_lemmatized.pkl', 'rb') as f:\n",
    "    history_list = pickle.load(f)"
   ]
  },
  {
   "cell_type": "code",
   "execution_count": null,
   "metadata": {},
   "outputs": [],
   "source": [
    "max_acc = [0, 0]\n",
    "arg_max = [0, 0]\n",
    "for i, history in enumerate(history_list):\n",
    "    if history['classifier_type'] == 'GD':\n",
    "        if np.max(history['accuracy']) > max_acc[0]:\n",
    "            max_acc[0] = np.max(history['accuracy'])\n",
    "            arg_max[0] = i\n",
    "    else:\n",
    "        if np.max(history['accuracy']) > max_acc[1]:\n",
    "            max_acc[1] = np.max(history['accuracy'])\n",
    "            arg_max[1] = i\n",
    "    "
   ]
  },
  {
   "cell_type": "code",
   "execution_count": null,
   "metadata": {},
   "outputs": [],
   "source": [
    "print(history_list[arg_max[0]]['step_alpha'],\n",
    "      history_list[arg_max[0]]['step_beta'],\n",
    "      history_list[arg_max[0]]['classifier_type'],\n",
    "      max_acc[0],\n",
    "      arg_max[0] + 1)\n",
    "\n",
    "print(history_list[arg_max[1]]['step_alpha'],\n",
    "      history_list[arg_max[1]]['step_beta'],\n",
    "      history_list[arg_max[1]]['classifier_type'],\n",
    "      max_acc[1],\n",
    "      arg_max[1] - 1)"
   ]
  },
  {
   "cell_type": "markdown",
   "metadata": {},
   "source": [
    "## Эксперименты с min_df и max_df\n",
    "Если мы рассматриваем 0 <= min_df <= 1; 0 <= max_df <= 1, то они связаны формулой: $min\\_df + max\\_df = 1$, поэтому будем исследовать значение параметра $min\\_df$"
   ]
  },
  {
   "cell_type": "code",
   "execution_count": null,
   "metadata": {},
   "outputs": [],
   "source": [
    "%%time\n",
    "import tqdm\n",
    "from sklearn.feature_extraction.text import CountVectorizer, TfidfVectorizer\n",
    "min_df_list = [1e-5, 2.5e-5, 5e-5, 7.5e-5,\n",
    "               1e-4, 2.5e-4, 5e-4, 7.5e-4,\n",
    "               1e-3, 2.5e-3, 5e-3, 7.5e-3]\n",
    "preprocesser_type_list = ['BOW', 'TFIDF']\n",
    "\n",
    "preprocesser = None\n",
    "\n",
    "step_alpha_list = [history_list[arg_max[0]]['step_alpha']]\n",
    "step_beta_list = [history_list[arg_max[0]]['step_beta']]\n",
    "batch_size_list = [history_list[arg_max[1]]['batch_size']]\n",
    "history_list = []\n",
    "\n",
    "\n",
    "for min_df in min_df_list:\n",
    "    for preprocesser_type in preprocesser_type_list:\n",
    "        train_data_processed_3 = train_data_processed_lemmatized.apply(lambda x: [elem for elem in x if elem not in stopwords_set])\n",
    "        train_data_processed_3 = train_data_processed_3.apply(lambda x: ' '.join(x))\n",
    "\n",
    "    #     test_data_processed_3 = test_data_processed_lemmatized.apply(lambda x: [elem for elem in x if elem not in stopwords_set])\n",
    "    #     test_data_processed_3 = test_data_processed_3.apply(lambda x: ' '.join(x))\n",
    "\n",
    "        if preprocesser_type == 'BOW':\n",
    "            preprocesser = CountVectorizer(min_df=min_df, lowercase=False)\n",
    "        else:\n",
    "            preprocesser = TfidfVectorizer(min_df=min_df, lowercase=False)\n",
    "\n",
    "        train_data_processed_3 = preprocesser.fit_transform(train_data_processed_3)\n",
    "    #     test_data_processed_3 = preprocesser.transform(test_data_processed_3)\n",
    "\n",
    "        bias_feature_train = np.ones(train_data.shape[0])\n",
    "    #     bias_feature_test = np.ones(test_data.shape[0])\n",
    "        bias_feature_train = scipy.sparse.csr_matrix(bias_feature_train).T\n",
    "    #     bias_feature_test = scipy.sparse.csr_matrix(bias_feature_test).T\n",
    "        train_data_processed_3_with_bias = scipy.sparse.hstack([bias_feature_train, train_data_processed_3])\n",
    "    #     test_data_processed_3_with_bias = scipy.sparse.hstack([bias_feature_test, test_data_processed_3])\n",
    "        w_0_list = []\n",
    "        w_0_list.append(np.zeros(train_data_processed_3_with_bias.shape[1]))\n",
    "        w_0_list.append(np.random.normal(0.5, 0.5, size=train_data_processed_3_with_bias.shape[1]))\n",
    "\n",
    "        for history in tqdm.tqdm_notebook(experiment_cycle(train_data_processed_3_with_bias, target_train.values,\n",
    "                                    step_alpha_list,\n",
    "                                    step_beta_list,\n",
    "                                    w_0_list=w_0_list,\n",
    "                                    batch_size_list=batch_size_list)):\n",
    "            \n",
    "            history['preprocesser_type'] = preprocesser_type\n",
    "            history['min_df'] = min_df\n",
    "            history_list.append(history)\n",
    "    \n",
    "    "
   ]
  },
  {
   "cell_type": "code",
   "execution_count": null,
   "metadata": {},
   "outputs": [],
   "source": [
    "import pickle\n",
    "with open('GD_SGD_bow_tfid_min_df.pkl', 'wb') as f:\n",
    "    pickle.dump(history_list, f)"
   ]
  },
  {
   "cell_type": "code",
   "execution_count": null,
   "metadata": {},
   "outputs": [],
   "source": [
    "import pickle\n",
    "with open('GD_SGD_bow_tfid_min_df.pkl', 'rb') as f:\n",
    "    history_list = pickle.load(f)"
   ]
  },
  {
   "cell_type": "code",
   "execution_count": null,
   "metadata": {},
   "outputs": [],
   "source": [
    "max_acc = [0, 0]\n",
    "arg_max = [0, 0]\n",
    "for i, history in enumerate(history_list):\n",
    "    if history['classifier_type'] == 'GD':\n",
    "        if np.max(history['accuracy']) > max_acc[0]:\n",
    "            max_acc[0] = np.max(history['accuracy'])\n",
    "            arg_max[0] = i\n",
    "    else:\n",
    "        if np.max(history['accuracy']) > max_acc[1]:\n",
    "            max_acc[1] = np.max(history['accuracy'])\n",
    "            arg_max[1] = i\n",
    "    "
   ]
  },
  {
   "cell_type": "code",
   "execution_count": null,
   "metadata": {},
   "outputs": [],
   "source": [
    "print(history_list[arg_max[0]]['step_alpha'],\n",
    "      history_list[arg_max[0]]['step_beta'],\n",
    "      history_list[arg_max[0]]['classifier_type'],\n",
    "      history_list[arg_max[0]]['min_df'],\n",
    "      history_list[arg_max[0]]['preprocesser_type'],\n",
    "      max_acc[0],\n",
    "      arg_max[0] + 1)\n",
    "\n",
    "print(history_list[arg_max[1]]['step_alpha'],\n",
    "      history_list[arg_max[1]]['step_beta'],\n",
    "      history_list[arg_max[1]]['classifier_type'],\n",
    "      history_list[arg_max[1]]['min_df'],\n",
    "      history_list[arg_max[1]]['preprocesser_type'],\n",
    "      max_acc[1],\n",
    "      arg_max[1] - 1)"
   ]
  },
  {
   "cell_type": "markdown",
   "metadata": {},
   "source": [
    "Add bias"
   ]
  },
  {
   "cell_type": "code",
   "execution_count": null,
   "metadata": {},
   "outputs": [],
   "source": []
  }
 ],
 "metadata": {
  "kernelspec": {
   "display_name": "Python 3",
   "language": "python",
   "name": "python3"
  },
  "language_info": {
   "codemirror_mode": {
    "name": "ipython",
    "version": 3
   },
   "file_extension": ".py",
   "mimetype": "text/x-python",
   "name": "python",
   "nbconvert_exporter": "python",
   "pygments_lexer": "ipython3",
   "version": "3.7.5"
  }
 },
 "nbformat": 4,
 "nbformat_minor": 2
}
