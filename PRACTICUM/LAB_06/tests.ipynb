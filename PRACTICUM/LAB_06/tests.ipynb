{
 "cells": [
  {
   "cell_type": "code",
   "execution_count": 32,
   "metadata": {},
   "outputs": [],
   "source": [
    "import numpy as np\n",
    "import scipy\n",
    "import scipy.special as spec\n",
    "import oracles"
   ]
  },
  {
   "cell_type": "code",
   "execution_count": 33,
   "metadata": {},
   "outputs": [],
   "source": [
    "from scipy import sparse"
   ]
  },
  {
   "cell_type": "code",
   "execution_count": 34,
   "metadata": {},
   "outputs": [],
   "source": [
    "# np.random.seed(4181)\n",
    "# l2_coef = np.random.randint(0, 10)\n",
    "# l, d = 1000, 10\n",
    "# my_oracle = BinaryLogistic(l2_coef=l2_coef)\n",
    "# X = sparse.csr_matrix(np.random.random((l, d)))\n",
    "# y = np.random.randint(0, 2, l) * 2 - 1\n",
    "# w = np.random.random(d)\n",
    "# res = my_oracle.func(X, y, w)\n",
    "# print(res)"
   ]
  },
  {
   "cell_type": "code",
   "execution_count": 35,
   "metadata": {},
   "outputs": [],
   "source": [
    "import oracles_mam"
   ]
  },
  {
   "cell_type": "code",
   "execution_count": 36,
   "metadata": {},
   "outputs": [],
   "source": [
    "bn_log_mam = oracles_mam.BinaryLogistic(1)"
   ]
  },
  {
   "cell_type": "code",
   "execution_count": 37,
   "metadata": {},
   "outputs": [],
   "source": [
    "bn_log = oracles.BinaryLogistic(1)"
   ]
  },
  {
   "cell_type": "code",
   "execution_count": 38,
   "metadata": {},
   "outputs": [
    {
     "data": {
      "text/plain": [
       "19.500167703189"
      ]
     },
     "execution_count": 38,
     "metadata": {},
     "output_type": "execute_result"
    }
   ],
   "source": [
    "w = np.array([1, 2, 3])\n",
    "X = np.array([[0, 1, 2], \n",
    "              [3, 4, 5]])\n",
    "y = np.array([1, -1])\n",
    "bn_log.func(X, y, w)"
   ]
  },
  {
   "cell_type": "code",
   "execution_count": 39,
   "metadata": {},
   "outputs": [
    {
     "data": {
      "text/plain": [
       "20.000167703189"
      ]
     },
     "execution_count": 39,
     "metadata": {},
     "output_type": "execute_result"
    }
   ],
   "source": [
    "bn_log_mam.func(X, y, w)"
   ]
  },
  {
   "cell_type": "code",
   "execution_count": 40,
   "metadata": {},
   "outputs": [
    {
     "data": {
      "text/plain": [
       "array([2.5       , 3.99983232, 5.49966465])"
      ]
     },
     "execution_count": 40,
     "metadata": {},
     "output_type": "execute_result"
    }
   ],
   "source": [
    "bn_log.grad(X, y, w)"
   ]
  },
  {
   "cell_type": "code",
   "execution_count": 41,
   "metadata": {},
   "outputs": [
    {
     "data": {
      "text/plain": [
       "array([2.5       , 3.99983232, 5.49966465])"
      ]
     },
     "execution_count": 41,
     "metadata": {},
     "output_type": "execute_result"
    }
   ],
   "source": [
    "bn_log_mam.grad(X, y, w)"
   ]
  },
  {
   "cell_type": "code",
   "execution_count": 42,
   "metadata": {},
   "outputs": [],
   "source": [
    "predictions = X.dot(w)\n",
    "predictions = np.where(predictions > 0, 1, -1)\n"
   ]
  },
  {
   "cell_type": "code",
   "execution_count": 43,
   "metadata": {},
   "outputs": [
    {
     "data": {
      "text/plain": [
       "array([1, 1])"
      ]
     },
     "execution_count": 43,
     "metadata": {},
     "output_type": "execute_result"
    }
   ],
   "source": [
    "predictions"
   ]
  },
  {
   "cell_type": "code",
   "execution_count": 44,
   "metadata": {},
   "outputs": [
    {
     "data": {
      "text/plain": [
       "array([[9.99664650e-01, 3.35350130e-04],\n",
       "       [1.00000000e+00, 5.10902431e-12]])"
      ]
     },
     "execution_count": 44,
     "metadata": {},
     "output_type": "execute_result"
    }
   ],
   "source": [
    "proba = spec.expit(X.dot(w))\n",
    "np.array([proba, 1 - proba]).T"
   ]
  },
  {
   "cell_type": "code",
   "execution_count": 45,
   "metadata": {},
   "outputs": [
    {
     "data": {
      "text/plain": [
       "array([3.35350130e-04, 5.10902431e-12])"
      ]
     },
     "execution_count": 45,
     "metadata": {},
     "output_type": "execute_result"
    }
   ],
   "source": [
    "1 - proba"
   ]
  },
  {
   "cell_type": "code",
   "execution_count": 46,
   "metadata": {},
   "outputs": [
    {
     "data": {
      "text/plain": [
       "array([1., 1., 1.])"
      ]
     },
     "execution_count": 46,
     "metadata": {},
     "output_type": "execute_result"
    }
   ],
   "source": [
    "(w + 1e-3 - w) / 1e-3"
   ]
  },
  {
   "cell_type": "code",
   "execution_count": 47,
   "metadata": {},
   "outputs": [
    {
     "data": {
      "text/plain": [
       "array([1, 2, 3])"
      ]
     },
     "execution_count": 47,
     "metadata": {},
     "output_type": "execute_result"
    }
   ],
   "source": [
    "w"
   ]
  },
  {
   "cell_type": "code",
   "execution_count": 48,
   "metadata": {},
   "outputs": [],
   "source": [
    "import utils"
   ]
  },
  {
   "cell_type": "code",
   "execution_count": 49,
   "metadata": {},
   "outputs": [],
   "source": [
    "import pandas as pd\n",
    "import numpy as np\n",
    "import seaborn as sns\n",
    "import matplotlib.pyplot as plt"
   ]
  },
  {
   "cell_type": "code",
   "execution_count": 50,
   "metadata": {},
   "outputs": [],
   "source": [
    "train_data = pd.read_csv('data_toxic/toxic_train.csv', index_col=0)\n",
    "test_data = pd.read_csv('data_toxic/toxic_test.csv', index_col=0)"
   ]
  },
  {
   "cell_type": "code",
   "execution_count": 51,
   "metadata": {},
   "outputs": [],
   "source": [
    "train_data_processed_1 = train_data.copy()\n",
    "test_data_processed_1 = test_data.copy()"
   ]
  },
  {
   "cell_type": "code",
   "execution_count": 52,
   "metadata": {},
   "outputs": [],
   "source": [
    "import re\n",
    "\n",
    "def text_process_1(texts_series):\n",
    "    \"\"\"\n",
    "    Takes series with texts\n",
    "    returns series with preprocessed texts\n",
    "    (lower register + changed all symbols, which are not letter, number to spaces)\n",
    "    \"\"\"\n",
    "    \n",
    "    texts_series = texts_series.str.lower()\n",
    "    texts_series = texts_series.apply(lambda x: re.sub(r'\\W', ' ', x))\n",
    "    return texts_series"
   ]
  },
  {
   "cell_type": "code",
   "execution_count": 53,
   "metadata": {},
   "outputs": [],
   "source": [
    "train_data_processed_1 = text_process_1(train_data_processed_1['comment_text'])\n",
    "test_data_processed_1 = text_process_1(test_data_processed_1['comment_text'])"
   ]
  },
  {
   "cell_type": "code",
   "execution_count": 23,
   "metadata": {},
   "outputs": [],
   "source": [
    "from sklearn.feature_extraction.text import CountVectorizer"
   ]
  },
  {
   "cell_type": "code",
   "execution_count": 91,
   "metadata": {},
   "outputs": [],
   "source": [
    "countVect = CountVectorizer(min_df=3e-5)"
   ]
  },
  {
   "cell_type": "code",
   "execution_count": 92,
   "metadata": {},
   "outputs": [],
   "source": [
    "train_data_processed_2 = countVect.fit_transform(train_data_processed_1)\n",
    "test_data_processed_2 = countVect.transform(test_data_processed_1)"
   ]
  },
  {
   "cell_type": "code",
   "execution_count": 93,
   "metadata": {},
   "outputs": [
    {
     "data": {
      "text/plain": [
       "<52061x37832 sparse matrix of type '<class 'numpy.int64'>'\n",
       "\twith 2055136 stored elements in Compressed Sparse Row format>"
      ]
     },
     "execution_count": 93,
     "metadata": {},
     "output_type": "execute_result"
    }
   ],
   "source": [
    "train_data_processed_2"
   ]
  },
  {
   "cell_type": "code",
   "execution_count": 94,
   "metadata": {},
   "outputs": [],
   "source": [
    "import optimization\n",
    "import optimization_mam"
   ]
  },
  {
   "cell_type": "code",
   "execution_count": 95,
   "metadata": {},
   "outputs": [],
   "source": [
    "target_train = train_data['is_toxic'].map({True : 1, False : -1})\n",
    "train_data.drop(columns='is_toxic', inplace=True)\n",
    "target_test = test_data['is_toxic'].map({True : 1, False : -1})\n",
    "test_data.drop(columns='is_toxic', inplace=True)"
   ]
  },
  {
   "cell_type": "code",
   "execution_count": 125,
   "metadata": {},
   "outputs": [],
   "source": [
    "step_alpha = 1\n",
    "step_beta = 0\n",
    "w_0 = np.zeros(train_data_processed_2.shape[1])\n",
    "clf = optimization.SGDClassifier(step_alpha=step_alpha,\n",
    "                                 step_beta=step_beta, batch_size=1000,\n",
    "                                 experiment=True, max_iter=10000,\n",
    "                                 l2_coef=5e-4)"
   ]
  },
  {
   "cell_type": "code",
   "execution_count": 126,
   "metadata": {},
   "outputs": [
    {
     "data": {
      "text/plain": [
       "[0.6919777194442666,\n",
       " 0.814392726807094,\n",
       " 0.8356488891734426,\n",
       " 0.8339842499519816,\n",
       " 0.8428196427428133,\n",
       " 0.8445483065497151,\n",
       " 0.850630642166592,\n",
       " 0.8529995518279019,\n",
       " 0.8560727319290607,\n",
       " 0.8612587233497663,\n",
       " 0.8569690761252321,\n",
       " 0.8686855752609002,\n",
       " 0.8592739612011012,\n",
       " 0.8597861578846276,\n",
       " 0.864395928036366,\n",
       " 0.8725910749727895,\n",
       " 0.8698380177988347,\n",
       " 0.8701581407260388,\n",
       " 0.8701581407260388,\n",
       " 0.8694538702861899,\n",
       " 0.8628593379857865,\n",
       " 0.8720148537038223,\n",
       " 0.8698380177988347,\n",
       " 0.872783148729112,\n",
       " 0.881170369421858,\n",
       " 0.8731672962417568,\n",
       " 0.8732313208271977,\n",
       " 0.8807221973237723,\n",
       " 0.8769447467827646,\n",
       " 0.8765605992701198,\n",
       " 0.8758563288302709,\n",
       " 0.8748319354632179,\n",
       " 0.876816697611883,\n",
       " 0.8815545169345028,\n",
       " 0.8742557141942506,\n",
       " 0.8727191241436711,\n",
       " 0.8790575581023113,\n",
       " 0.8720788782892631,\n",
       " 0.8732953454126384,\n",
       " 0.8861002625008003,\n",
       " 0.8812343940072987,\n",
       " 0.8796978039567194,\n",
       " 0.8712465586785325,\n",
       " 0.8793136564440746,\n",
       " 0.8859081887444779,\n",
       " 0.8823228119597926,\n",
       " 0.8764965746846789,\n",
       " 0.8723990012164671,\n",
       " 0.8718227799474998,\n",
       " 0.8820026890325885,\n",
       " 0.8796337793712786,\n",
       " 0.8735514437544016,\n",
       " 0.8811063448364171,\n",
       " 0.8805301235674499,\n",
       " 0.8823868365452334,\n",
       " 0.8816825661053844,\n",
       " 0.8904539343107754,\n",
       " 0.881170369421858,\n",
       " 0.8788654843459889,\n",
       " 0.8769447467827646,\n",
       " 0.8752801075613036,\n",
       " 0.8804660989820091,\n",
       " 0.8861002625008003,\n",
       " 0.8796978039567194,\n",
       " 0.8862923362571228,\n",
       " 0.8789935335168705,\n",
       " 0.8833472053268455,\n",
       " 0.8775849926371727,\n",
       " 0.8845636724502209,\n",
       " 0.8800179268839234,\n",
       " 0.8705422882386836,\n",
       " 0.8808502464946539,\n",
       " 0.8868685575260901,\n",
       " 0.8779051155643767,\n",
       " 0.885203918304629,\n",
       " 0.8757282796593892,\n",
       " 0.8823868365452334,\n",
       " 0.8845636724502209,\n",
       " 0.8790575581023113,\n",
       " 0.8761764517574748,\n",
       " 0.87579230424483,\n",
       " 0.8832191561559639,\n",
       " 0.8849478199628658,\n",
       " 0.8880850246494654,\n",
       " 0.8764965746846789,\n",
       " 0.882194762788911,\n",
       " 0.8844996478647801,\n",
       " 0.8847557462065433,\n",
       " 0.883539279083168,\n",
       " 0.8862283116716819,\n",
       " 0.8734874191689609,\n",
       " 0.879185607273193,\n",
       " 0.8822587873743517,\n",
       " 0.8854600166463922,\n",
       " 0.8827709840578782,\n",
       " 0.8832831807414047,\n",
       " 0.8833472053268455,\n",
       " 0.8863563608425635,\n",
       " 0.8816185415199437,\n",
       " 0.8854600166463922,\n",
       " 0.8791215826877521,\n",
       " 0.8836673282540496,\n",
       " 0.8822587873743517,\n",
       " 0.8845636724502209,\n",
       " 0.8860362379153595,\n",
       " 0.8839234265958128,\n",
       " 0.8846917216211025,\n",
       " 0.8878289263077022,\n",
       " 0.8804020743965683,\n",
       " 0.8775209680517319,\n",
       " 0.8808502464946539,\n",
       " 0.8838594020103719,\n",
       " 0.8816825661053844,\n",
       " 0.8786093860042257,\n",
       " 0.8902618605544529,\n",
       " 0.8782252384915807,\n",
       " 0.8805301235674499,\n",
       " 0.8861642870862411,\n",
       " 0.8789935335168705,\n",
       " 0.8795697547858378,\n",
       " 0.8811063448364171,\n",
       " 0.8777770663934951,\n",
       " 0.8849478199628658,\n",
       " 0.8826429348869966,\n",
       " 0.8893655163582815,\n",
       " 0.8873167296241757,\n",
       " 0.8839234265958128,\n",
       " 0.8859081887444779,\n",
       " 0.8780971893206991,\n",
       " 0.8786734105896664,\n",
       " 0.8826429348869966,\n",
       " 0.8832191561559639,\n",
       " 0.8842435495230169,\n",
       " 0.8806581727383315,\n",
       " 0.8792496318586337,\n",
       " 0.8814264677636212,\n",
       " 0.8833472053268455,\n",
       " 0.87816121390614,\n",
       " 0.8795057302003969,\n",
       " 0.8755362059030668,\n",
       " 0.8825789103015558,\n",
       " 0.883539279083168,\n",
       " 0.8787374351751073,\n",
       " 0.8843715986938985,\n",
       " 0.8869325821115308,\n",
       " 0.8846276970356617,\n",
       " 0.8850758691337474,\n",
       " 0.878801459760548,\n",
       " 0.8765605992701198,\n",
       " 0.8817465906908253,\n",
       " 0.884179524937576,\n",
       " 0.8863563608425635,\n",
       " 0.8843075741084576,\n",
       " 0.880145976054805,\n",
       " 0.8839874511812535,\n",
       " 0.8859722133299187,\n",
       " 0.8818106152762661,\n",
       " 0.8843715986938985,\n",
       " 0.8797618285421602,\n",
       " 0.8836033036686087,\n",
       " 0.883539279083168,\n",
       " 0.8848837953774249,\n",
       " 0.8886612459184327,\n",
       " 0.8868045329406492,\n",
       " 0.878801459760548,\n",
       " 0.8844356232793392,\n",
       " 0.8818746398617069,\n",
       " 0.8809142710800948,\n",
       " 0.8847557462065433,\n",
       " 0.8861642870862411,\n",
       " 0.8810423202509764,\n",
       " 0.8873167296241757,\n",
       " 0.8791215826877521,\n",
       " 0.8772648697099686,\n",
       " 0.8838594020103719,\n",
       " 0.8786734105896664,\n",
       " 0.8822587873743517,\n",
       " 0.8811063448364171,\n",
       " 0.884179524937576,\n",
       " 0.8779691401498175,\n",
       " 0.8849478199628658,\n",
       " 0.8774569434662911,\n",
       " 0.8859722133299187,\n",
       " 0.8836033036686087,\n",
       " 0.8853319674755106,\n",
       " 0.8855880658172738,\n",
       " 0.8780331647352584,\n",
       " 0.8958960240732441,\n",
       " 0.8752801075613036]"
      ]
     },
     "execution_count": 126,
     "metadata": {},
     "output_type": "execute_result"
    }
   ],
   "source": [
    "clf.fit(train_data_processed_2, target_train.values, w_0=w_0, trace=True)['accuracy']"
   ]
  },
  {
   "cell_type": "code",
   "execution_count": null,
   "metadata": {},
   "outputs": [],
   "source": []
  },
  {
   "cell_type": "code",
   "execution_count": 31,
   "metadata": {},
   "outputs": [
    {
     "data": {
      "text/plain": [
       "0.839572451151093"
      ]
     },
     "execution_count": 31,
     "metadata": {},
     "output_type": "execute_result"
    }
   ],
   "source": [
    "(clf.predict(test_data_processed_2) == target_test.values).sum() / target_test.shape[0]"
   ]
  },
  {
   "cell_type": "code",
   "execution_count": null,
   "metadata": {},
   "outputs": [],
   "source": [
    "clf_mam = optimization_mam.GDClassifier(step_alpha=step_alpha,\n",
    "                                        step_beta=step_beta,\n",
    "                                        loss_function='binary_logistic',\n",
    "                                        l2_coef=0, max_iter=1000)"
   ]
  },
  {
   "cell_type": "code",
   "execution_count": null,
   "metadata": {},
   "outputs": [],
   "source": [
    "hstr = clf_mam.fit(train_data_processed_2, target_train.values, trace=True, calc_accuracy=True, w_0=w_0)"
   ]
  },
  {
   "cell_type": "code",
   "execution_count": null,
   "metadata": {},
   "outputs": [],
   "source": [
    "len(hstr['func'])"
   ]
  },
  {
   "cell_type": "code",
   "execution_count": null,
   "metadata": {},
   "outputs": [],
   "source": [
    "hstr['func']"
   ]
  },
  {
   "cell_type": "code",
   "execution_count": null,
   "metadata": {},
   "outputs": [],
   "source": [
    "len(clf.history['func'])"
   ]
  },
  {
   "cell_type": "code",
   "execution_count": null,
   "metadata": {},
   "outputs": [],
   "source": [
    "clf.history['func']"
   ]
  },
  {
   "cell_type": "code",
   "execution_count": null,
   "metadata": {},
   "outputs": [],
   "source": [
    "clf.history['accuracy']"
   ]
  },
  {
   "cell_type": "code",
   "execution_count": null,
   "metadata": {},
   "outputs": [],
   "source": [
    "np.array(hstr['accuracy'])[0] + np.array(clf.history['accuracy'])[0]"
   ]
  },
  {
   "cell_type": "code",
   "execution_count": null,
   "metadata": {},
   "outputs": [],
   "source": [
    "hstr['accuracy']"
   ]
  },
  {
   "cell_type": "code",
   "execution_count": null,
   "metadata": {},
   "outputs": [],
   "source": [
    "clf.history['accuracy']"
   ]
  },
  {
   "cell_type": "code",
   "execution_count": null,
   "metadata": {},
   "outputs": [],
   "source": []
  },
  {
   "cell_type": "code",
   "execution_count": null,
   "metadata": {},
   "outputs": [],
   "source": []
  }
 ],
 "metadata": {
  "kernelspec": {
   "display_name": "Python 3",
   "language": "python",
   "name": "python3"
  },
  "language_info": {
   "codemirror_mode": {
    "name": "ipython",
    "version": 3
   },
   "file_extension": ".py",
   "mimetype": "text/x-python",
   "name": "python",
   "nbconvert_exporter": "python",
   "pygments_lexer": "ipython3",
   "version": "3.7.5"
  }
 },
 "nbformat": 4,
 "nbformat_minor": 2
}
