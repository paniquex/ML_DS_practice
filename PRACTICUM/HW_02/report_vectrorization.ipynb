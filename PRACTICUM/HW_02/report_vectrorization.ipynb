{
 "cells": [
  {
   "cell_type": "markdown",
   "metadata": {},
   "source": [
    "## Задание \"Векторизация\" из контеста №2 по курсу \"Практикум на ЭВМ (317)/2019 (осень)\"\n",
    "## Цель задания: написать три реализации к одной из задач B-E.\n",
    "  * полностью векторизованную\n",
    "  * частично векторизованную\n",
    "  * полностью **не**векторизованную\n",
    "  \n",
    "## Выбранная задача:  С (replace_nan_to_means)\n",
    "## Выполнил: Кузьмин Никита."
   ]
  },
  {
   "cell_type": "code",
   "execution_count": 1,
   "metadata": {},
   "outputs": [],
   "source": [
    "import numpy as np\n",
    "import time\n",
    "\n",
    "# progress bar\n",
    "from tqdm import tqdm \n",
    "\n",
    "# visualization\n",
    "import seaborn as sns\n",
    "import matplotlib.pyplot as plt\n",
    "import pandas as pd\n",
    "import matplotlib.patches as mpatches\n",
    "\n",
    "%matplotlib inline"
   ]
  },
  {
   "cell_type": "markdown",
   "metadata": {},
   "source": [
    "## 1) Полностью векторизованная реализация:"
   ]
  },
  {
   "cell_type": "code",
   "execution_count": 2,
   "metadata": {},
   "outputs": [],
   "source": [
    "def replace_nan_to_means_fully_vectorized(X):\n",
    "    X_without_nans = X.copy()\n",
    "    mean_by_column = np.nanmean(X_without_nans, axis=0)\n",
    "    mean_by_column = np.where(np.isnan(mean_by_column), 0, mean_by_column)\n",
    "    X_without_nans = np.where(np.isnan(X_without_nans),\n",
    "                              mean_by_column,\n",
    "                              X_without_nans)\n",
    "    return X_without_nans"
   ]
  },
  {
   "cell_type": "markdown",
   "metadata": {},
   "source": [
    "## 2) Частично векторизованная реализация:"
   ]
  },
  {
   "cell_type": "code",
   "execution_count": 3,
   "metadata": {},
   "outputs": [],
   "source": [
    "def replace_nan_to_means_semi_vectorized(X):\n",
    "    X_with_nans = X.copy()\n",
    "    for j in range(X_with_nans.shape[1]):\n",
    "        column_mean = np.nanmean(X_with_nans[:, j])\n",
    "        if np.isnan(column_mean):\n",
    "            column_mean = 0\n",
    "        X_with_nans[np.isnan(X_with_nans[:, j]), j] = column_mean\n",
    "    return X_with_nans"
   ]
  },
  {
   "cell_type": "markdown",
   "metadata": {},
   "source": [
    "## 3) Полностью невекторизованная реализация:"
   ]
  },
  {
   "cell_type": "code",
   "execution_count": 4,
   "metadata": {},
   "outputs": [],
   "source": [
    "def replace_nan_to_means_not_vectorized(X):\n",
    "    X_with_nans = X.copy()\n",
    "    for j in range(X_with_nans.shape[1]):\n",
    "        column_elems = []\n",
    "        column_mean = 0\n",
    "        nans_pos = []\n",
    "        for i in range(X_with_nans.shape[0]):\n",
    "            if np.isnan(X_with_nans[i, j]):\n",
    "                nans_pos.append(i)\n",
    "            else:\n",
    "                column_elems.append(X_with_nans[i, j])\n",
    "        for elem in column_elems:\n",
    "            column_mean += elem\n",
    "        if len(column_elems) == 0:\n",
    "            column_mean = 0\n",
    "        else:\n",
    "            column_mean /= len(column_elems)\n",
    "        for i in nans_pos:\n",
    "            X_with_nans[i, j] = column_mean\n",
    "    return X_with_nans"
   ]
  },
  {
   "cell_type": "markdown",
   "metadata": {},
   "source": [
    "## Проведение эксперимента и логирование результатов:"
   ]
  },
  {
   "cell_type": "code",
   "execution_count": 5,
   "metadata": {},
   "outputs": [
    {
     "name": "stderr",
     "output_type": "stream",
     "text": [
      "  0%|          | 0/148 [00:00<?, ?it/s]/home/paniquex/anaconda3/envs/kaggle/lib/python3.7/site-packages/ipykernel_launcher.py:3: RuntimeWarning: Mean of empty slice\n",
      "  This is separate from the ipykernel package so we can avoid doing imports until\n",
      "/home/paniquex/anaconda3/envs/kaggle/lib/python3.7/site-packages/ipykernel_launcher.py:4: RuntimeWarning: Mean of empty slice\n",
      "  after removing the cwd from sys.path.\n",
      "100%|██████████| 148/148 [36:27<00:00, 118.15s/it]\n"
     ]
    }
   ],
   "source": [
    "test_array_max_length = 10000\n",
    "test_array_max_value = 100\n",
    "length_step = 200\n",
    "test_array_length_list = list(range(2, 100)) + \\\n",
    "    list(range(3, test_array_max_length, length_step))\n",
    "time_logs = np.zeros((1, 5))\n",
    "\n",
    "for test_array_length in tqdm(test_array_length_list):\n",
    "    test_array = np.random.randint(0,\n",
    "                                   test_array_max_value,\n",
    "                                   size=(test_array_length,\n",
    "                                         test_array_length))\n",
    "    test_array_nans_pos = np.random.randint(0,\n",
    "                                            2,\n",
    "                                            size=(test_array_length,\n",
    "                                                  test_array_length))\n",
    "    test_array = np.where(test_array_nans_pos == 0, np.nan, test_array)\n",
    "\n",
    "    start = time.time()\n",
    "    vect1 = replace_nan_to_means_fully_vectorized(test_array)\n",
    "    time1 = time.time() - start\n",
    "\n",
    "    start = time.time()\n",
    "    vect2 = replace_nan_to_means_semi_vectorized(test_array)\n",
    "    equal12 = np.array_equiv(vect1, vect2)\n",
    "    time2 = time.time() - start\n",
    "\n",
    "    start = time.time()\n",
    "    vect3 = replace_nan_to_means_not_vectorized(test_array)\n",
    "    equal23 = np.array_equiv(vect2, vect3)\n",
    "    time3 = time.time() - start\n",
    "    \n",
    "    is_equal = equal12 & equal23\n",
    "    time_logs = np.append(time_logs, \n",
    "                          np.array([time1,\n",
    "                                    time2,\n",
    "                                    time3,\n",
    "                                    test_array_length,\n",
    "                                    is_equal])[None, :],\n",
    "                          axis=0)\n",
    "    del test_array\n",
    "    del test_array_nans_pos\n",
    "    del vect1\n",
    "    del vect2\n",
    "    del vect3"
   ]
  },
  {
   "cell_type": "markdown",
   "metadata": {},
   "source": [
    "### Создадим pd.DataFrame для более простой работы с данными:\n",
    "#### Описание столбцов:\n",
    "  * **vectorized** \n",
    "  * **semi_vectorized** - время, затраченное соответствующим методом для квадратной матрицы размера **size**\n",
    "  * **not_vectorized**\n",
    "  * **size** - размерность квадратной матрицы\n",
    "  * **check** - True(1), если результаты работы всех трех функций совпадают"
   ]
  },
  {
   "cell_type": "code",
   "execution_count": 6,
   "metadata": {},
   "outputs": [],
   "source": [
    "data = pd.DataFrame(time_logs, columns=['vectorized',\n",
    "                                        'semi_vectorized',\n",
    "                                        'not_vectorized',\n",
    "                                        'size',\n",
    "                                        'check'])"
   ]
  },
  {
   "cell_type": "code",
   "execution_count": 7,
   "metadata": {},
   "outputs": [
    {
     "data": {
      "text/html": [
       "<div>\n",
       "<style scoped>\n",
       "    .dataframe tbody tr th:only-of-type {\n",
       "        vertical-align: middle;\n",
       "    }\n",
       "\n",
       "    .dataframe tbody tr th {\n",
       "        vertical-align: top;\n",
       "    }\n",
       "\n",
       "    .dataframe thead th {\n",
       "        text-align: right;\n",
       "    }\n",
       "</style>\n",
       "<table border=\"1\" class=\"dataframe\">\n",
       "  <thead>\n",
       "    <tr style=\"text-align: right;\">\n",
       "      <th></th>\n",
       "      <th>vectorized</th>\n",
       "      <th>semi_vectorized</th>\n",
       "      <th>not_vectorized</th>\n",
       "      <th>size</th>\n",
       "      <th>check</th>\n",
       "    </tr>\n",
       "  </thead>\n",
       "  <tbody>\n",
       "    <tr>\n",
       "      <th>1</th>\n",
       "      <td>0.000102</td>\n",
       "      <td>0.000095</td>\n",
       "      <td>0.000024</td>\n",
       "      <td>2.0</td>\n",
       "      <td>1.0</td>\n",
       "    </tr>\n",
       "    <tr>\n",
       "      <th>2</th>\n",
       "      <td>0.000380</td>\n",
       "      <td>0.000126</td>\n",
       "      <td>0.000028</td>\n",
       "      <td>3.0</td>\n",
       "      <td>1.0</td>\n",
       "    </tr>\n",
       "    <tr>\n",
       "      <th>3</th>\n",
       "      <td>0.000043</td>\n",
       "      <td>0.000137</td>\n",
       "      <td>0.000039</td>\n",
       "      <td>4.0</td>\n",
       "      <td>1.0</td>\n",
       "    </tr>\n",
       "    <tr>\n",
       "      <th>4</th>\n",
       "      <td>0.000044</td>\n",
       "      <td>0.000137</td>\n",
       "      <td>0.000052</td>\n",
       "      <td>5.0</td>\n",
       "      <td>1.0</td>\n",
       "    </tr>\n",
       "    <tr>\n",
       "      <th>5</th>\n",
       "      <td>0.000043</td>\n",
       "      <td>0.000159</td>\n",
       "      <td>0.000067</td>\n",
       "      <td>6.0</td>\n",
       "      <td>1.0</td>\n",
       "    </tr>\n",
       "  </tbody>\n",
       "</table>\n",
       "</div>"
      ],
      "text/plain": [
       "   vectorized  semi_vectorized  not_vectorized  size  check\n",
       "1    0.000102         0.000095        0.000024   2.0    1.0\n",
       "2    0.000380         0.000126        0.000028   3.0    1.0\n",
       "3    0.000043         0.000137        0.000039   4.0    1.0\n",
       "4    0.000044         0.000137        0.000052   5.0    1.0\n",
       "5    0.000043         0.000159        0.000067   6.0    1.0"
      ]
     },
     "execution_count": 7,
     "metadata": {},
     "output_type": "execute_result"
    }
   ],
   "source": [
    "data = data.drop([0], axis=0) # так как первая строка - нули\n",
    "data.head(5)"
   ]
  },
  {
   "cell_type": "markdown",
   "metadata": {},
   "source": [
    "## Проверим, что функции во всех экспериментах выдали одинаковые результаты"
   ]
  },
  {
   "cell_type": "code",
   "execution_count": 40,
   "metadata": {},
   "outputs": [
    {
     "data": {
      "text/plain": [
       "0"
      ]
     },
     "execution_count": 40,
     "metadata": {},
     "output_type": "execute_result"
    }
   ],
   "source": [
    "np.sum(data['check'] == 0)"
   ]
  },
  {
   "cell_type": "markdown",
   "metadata": {},
   "source": [
    "## Построим график зависимости времени работы алгоритмов от размера входной матрицы\n",
    "#### Соотношения цвета кривой и метода:\n",
    "  * синяя - векторизованный\n",
    "  * оранжевая - частично векторизованный\n",
    "  * зеленая - невекторизованный"
   ]
  },
  {
   "cell_type": "code",
   "execution_count": 20,
   "metadata": {},
   "outputs": [
    {
     "data": {
      "image/png": "[encoded data removed]",
      "text/plain": [
       "<Figure size 432x288 with 1 Axes>"
      ]
     },
     "metadata": {
      "needs_background": "light"
     },
     "output_type": "display_data"
    }
   ],
   "source": [
    "sns.lineplot(y='vectorized',\n",
    "             x='size',\n",
    "             data=data.loc[:, ['vectorized', 'size']])\n",
    "sns.lineplot(y='semi_vectorized',\n",
    "             x='size',\n",
    "             data=data.loc[:, ['semi_vectorized', 'size']])\n",
    "sns.lineplot(y='not_vectorized',\n",
    "             x='size',\n",
    "             data=data.loc[:, ['not_vectorized', 'size']])\n",
    "\n",
    "plt.xlim(0, 10000)\n",
    "plt.ylim(0, 10)\n",
    "plt.xlabel('size')\n",
    "plt.ylabel('time, s')\n",
    "blue_patch = mpatches.Patch(color='lightblue', label='fully vect')\n",
    "orange_patch = mpatches.Patch(color='orange', label='semi vect')\n",
    "green_patch = mpatches.Patch(color='green', label='not vect')\n",
    "plt.legend(handles=[blue_patch, orange_patch, green_patch])\n",
    "plt.show()\n"
   ]
  },
  {
   "cell_type": "markdown",
   "metadata": {},
   "source": [
    "## Изменим мастштаб графика и посмотрим, что происходит при size <= 25"
   ]
  },
  {
   "cell_type": "code",
   "execution_count": 36,
   "metadata": {},
   "outputs": [
    {
     "data": {
      "image/png": "[encoded data removed]",
      "text/plain": [
       "<Figure size 432x288 with 1 Axes>"
      ]
     },
     "metadata": {
      "needs_background": "light"
     },
     "output_type": "display_data"
    }
   ],
   "source": [
    "sns.lineplot(y='vectorized',\n",
    "             x='size',\n",
    "             data=data.loc[:, ['vectorized', 'size']])\n",
    "\n",
    "sns.lineplot(y='semi_vectorized', x='size',\n",
    "             data=data.loc[:, ['semi_vectorized', 'size']])\n",
    "\n",
    "sns.lineplot(y='not_vectorized',\n",
    "             x='size',\n",
    "             data=data.loc[:, ['not_vectorized', 'size']])\n",
    "\n",
    "plt.xlim(0, 25)\n",
    "plt.ylim(0, 0.001)\n",
    "plt.xlabel('size')\n",
    "plt.ylabel('time, s')\n",
    "blue_patch = mpatches.Patch(color='lightblue', label='fully vect')\n",
    "orange_patch = mpatches.Patch(color='orange', label='semi vect')\n",
    "green_patch = mpatches.Patch(color='green', label='not vect')\n",
    "plt.legend(handles=[blue_patch, orange_patch, green_patch])\n",
    "plt.show()"
   ]
  },
  {
   "cell_type": "markdown",
   "metadata": {},
   "source": [
    "### Почему векторизация работает быстрее, чем циклы для больших размеров матриц?\n",
    "Дело в том, что с появлением векторных регистров независимые вычисления стало возможно производить параллельно(количество вычислений за одну итерацию зависит от разрядности регистра).  На картинке представлен пример одной итерации сложения матриц **A**, **B**: **a[i] = i**; **b[i] = 100 + 1** для скалярных(синие) и векторных(желтые) регистров.               \n",
    "![Vectorization](https://msdnshared.blob.core.windows.net/media/MSDNBlogsFS/prod.evol.blogs.msdn.com/CommunityServer.Blogs.Components.WeblogFiles/00/00/01/04/99/1258.Registers.jpg)\n",
    "\n",
    "### Почему частичная векторизация справляется хуже, чем циклы для матриц размера <= 15?\n",
    "Мое предположение такое: \n",
    "\n",
    "Копирование при column_mean = np.nanmean(X_with_nans[:, j]) происходит не так оптимально при малых размерах матриц.\n",
    "\n",
    "  * Ссылки:\n",
    "  \n",
    "  [What is Vectorization?](https://blogs.msdn.microsoft.com/nativeconcurrency/2012/04/12/what-is-vectorization/)\n"
   ]
  },
  {
   "cell_type": "code",
   "execution_count": null,
   "metadata": {},
   "outputs": [],
   "source": []
  }
 ],
 "metadata": {
  "kernelspec": {
   "display_name": "Python 3",
   "language": "python",
   "name": "python3"
  },
  "language_info": {
   "codemirror_mode": {
    "name": "ipython",
    "version": 3
   },
   "file_extension": ".py",
   "mimetype": "text/x-python",
   "name": "python",
   "nbconvert_exporter": "python",
   "pygments_lexer": "ipython3",
   "version": "3.7.3"
  }
 },
 "nbformat": 4,
 "nbformat_minor": 2
}
